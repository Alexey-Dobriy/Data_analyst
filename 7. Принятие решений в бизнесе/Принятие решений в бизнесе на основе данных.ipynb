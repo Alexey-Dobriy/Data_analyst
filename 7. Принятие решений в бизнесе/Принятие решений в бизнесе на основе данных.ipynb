{
 "cells": [
  {
   "cell_type": "markdown",
   "metadata": {},
   "source": [
    "# Принятие решений в бизнесе на основе данных"
   ]
  },
  {
   "cell_type": "markdown",
   "metadata": {},
   "source": [
    "### Описание проекта:\n",
    "\n",
    "Мы осуществляем деятельность аналитика в крупном интернет-магазине. Вместе с отделом маркетинга мы подготовили 9 гипотез для увеличения выручки.\n",
    "Приоритизируем гипотезы, запустим A/B-тест и проанализируем результаты."
   ]
  },
  {
   "cell_type": "markdown",
   "metadata": {},
   "source": [
    "### Цель исследования:\n",
    "\n",
    "Проверка гипотез по увеличению выручки интернет-магазина"
   ]
  },
  {
   "cell_type": "markdown",
   "metadata": {},
   "source": [
    "### Описание данных:\n",
    "\n",
    "Данные для первой части\n",
    "Файл /datasets/hypothesis.csv. \n",
    "* Hypothesis — краткое описание гипотезы;\n",
    "* Reach — охват пользователей по 10-балльной шкале;\n",
    "* Impact — влияние на пользователей по 10-балльной шкале;\n",
    "* Confidence — уверенность в гипотезе по 10-балльной шкале;\n",
    "* Efforts — затраты ресурсов на проверку гипотезы по 10-балльной шкале. Чем больше значение Efforts, тем дороже проверка гипотезы.\n",
    "\n",
    "Данные для второй части\n",
    "Файл /datasets/orders.csv. \n",
    "* transactionId — идентификатор заказа;\n",
    "* visitorId — идентификатор пользователя, совершившего заказ;\n",
    "* date — дата, когда был совершён заказ;\n",
    "* revenue — выручка заказа;\n",
    "* group — группа A/B-теста, в которую попал заказ.\n",
    "\n",
    "Файл /datasets/visitors.csv.\n",
    "* date — дата;\n",
    "* group — группа A/B-теста;\n",
    "* visitors — количество пользователей в указанную дату в указанной группе A/B-теста"
   ]
  },
  {
   "cell_type": "markdown",
   "metadata": {},
   "source": [
    "##  Загрузка данных и подготовка их к анализу."
   ]
  },
  {
   "cell_type": "code",
   "execution_count": 35,
   "metadata": {},
   "outputs": [],
   "source": [
    "# импортируем библиотеки\n",
    "import pandas as pd\n",
    "import numpy as np\n",
    "import seaborn as sns \n",
    "import matplotlib.pyplot as plt\n",
    "from datetime import datetime, timedelta\n",
    "from scipy import stats as st\n",
    "from pandas.plotting import register_matplotlib_converters\n",
    "pd.set_option('display.max_colwidth', 0)"
   ]
  },
  {
   "cell_type": "code",
   "execution_count": 36,
   "metadata": {},
   "outputs": [],
   "source": [
    "# загрузим данные и присвоим им переменные \n",
    "hypotheses = pd.read_csv('/datasets/hypothesis.csv')\n",
    "orders = pd.read_csv('/datasets/orders.csv')\n",
    "visitors = pd.read_csv('/datasets/visitors.csv')"
   ]
  },
  {
   "cell_type": "code",
   "execution_count": 37,
   "metadata": {},
   "outputs": [],
   "source": [
    "# избавимся от большого остатка\n",
    "pd.set_option('display.precision',2)"
   ]
  },
  {
   "cell_type": "code",
   "execution_count": 38,
   "metadata": {},
   "outputs": [
    {
     "data": {
      "text/html": [
       "<div>\n",
       "<style scoped>\n",
       "    .dataframe tbody tr th:only-of-type {\n",
       "        vertical-align: middle;\n",
       "    }\n",
       "\n",
       "    .dataframe tbody tr th {\n",
       "        vertical-align: top;\n",
       "    }\n",
       "\n",
       "    .dataframe thead th {\n",
       "        text-align: right;\n",
       "    }\n",
       "</style>\n",
       "<table border=\"1\" class=\"dataframe\">\n",
       "  <thead>\n",
       "    <tr style=\"text-align: right;\">\n",
       "      <th></th>\n",
       "      <th>Hypothesis</th>\n",
       "      <th>Reach</th>\n",
       "      <th>Impact</th>\n",
       "      <th>Confidence</th>\n",
       "      <th>Efforts</th>\n",
       "    </tr>\n",
       "  </thead>\n",
       "  <tbody>\n",
       "    <tr>\n",
       "      <th>0</th>\n",
       "      <td>Добавить два новых канала привлечения трафика, что позволит привлекать на 30% больше пользователей</td>\n",
       "      <td>3</td>\n",
       "      <td>10</td>\n",
       "      <td>8</td>\n",
       "      <td>6</td>\n",
       "    </tr>\n",
       "    <tr>\n",
       "      <th>1</th>\n",
       "      <td>Запустить собственную службу доставки, что сократит срок доставки заказов</td>\n",
       "      <td>2</td>\n",
       "      <td>5</td>\n",
       "      <td>4</td>\n",
       "      <td>10</td>\n",
       "    </tr>\n",
       "    <tr>\n",
       "      <th>2</th>\n",
       "      <td>Добавить блоки рекомендаций товаров на сайт интернет магазина, чтобы повысить конверсию и средний чек заказа</td>\n",
       "      <td>8</td>\n",
       "      <td>3</td>\n",
       "      <td>7</td>\n",
       "      <td>3</td>\n",
       "    </tr>\n",
       "    <tr>\n",
       "      <th>3</th>\n",
       "      <td>Изменить структура категорий, что увеличит конверсию, т.к. пользователи быстрее найдут нужный товар</td>\n",
       "      <td>8</td>\n",
       "      <td>3</td>\n",
       "      <td>3</td>\n",
       "      <td>8</td>\n",
       "    </tr>\n",
       "    <tr>\n",
       "      <th>4</th>\n",
       "      <td>Изменить цвет фона главной страницы, чтобы увеличить вовлеченность пользователей</td>\n",
       "      <td>3</td>\n",
       "      <td>1</td>\n",
       "      <td>1</td>\n",
       "      <td>1</td>\n",
       "    </tr>\n",
       "  </tbody>\n",
       "</table>\n",
       "</div>"
      ],
      "text/plain": [
       "                                                                                                     Hypothesis  \\\n",
       "0  Добавить два новых канала привлечения трафика, что позволит привлекать на 30% больше пользователей             \n",
       "1  Запустить собственную службу доставки, что сократит срок доставки заказов                                      \n",
       "2  Добавить блоки рекомендаций товаров на сайт интернет магазина, чтобы повысить конверсию и средний чек заказа   \n",
       "3  Изменить структура категорий, что увеличит конверсию, т.к. пользователи быстрее найдут нужный товар            \n",
       "4  Изменить цвет фона главной страницы, чтобы увеличить вовлеченность пользователей                               \n",
       "\n",
       "   Reach  Impact  Confidence  Efforts  \n",
       "0  3      10      8           6        \n",
       "1  2      5       4           10       \n",
       "2  8      3       7           3        \n",
       "3  8      3       3           8        \n",
       "4  3      1       1           1        "
      ]
     },
     "execution_count": 38,
     "metadata": {},
     "output_type": "execute_result"
    }
   ],
   "source": [
    "# проверим первый датафрейм \n",
    "hypotheses.head()"
   ]
  },
  {
   "cell_type": "code",
   "execution_count": 39,
   "metadata": {},
   "outputs": [
    {
     "name": "stdout",
     "output_type": "stream",
     "text": [
      "<class 'pandas.core.frame.DataFrame'>\n",
      "RangeIndex: 9 entries, 0 to 8\n",
      "Data columns (total 5 columns):\n",
      " #   Column      Non-Null Count  Dtype \n",
      "---  ------      --------------  ----- \n",
      " 0   Hypothesis  9 non-null      object\n",
      " 1   Reach       9 non-null      int64 \n",
      " 2   Impact      9 non-null      int64 \n",
      " 3   Confidence  9 non-null      int64 \n",
      " 4   Efforts     9 non-null      int64 \n",
      "dtypes: int64(4), object(1)\n",
      "memory usage: 488.0+ bytes\n"
     ]
    }
   ],
   "source": [
    "hypotheses.info()"
   ]
  },
  {
   "cell_type": "code",
   "execution_count": 40,
   "metadata": {},
   "outputs": [
    {
     "data": {
      "text/plain": [
       "0"
      ]
     },
     "execution_count": 40,
     "metadata": {},
     "output_type": "execute_result"
    }
   ],
   "source": [
    "# проверка на дубликаты \n",
    "hypotheses.duplicated().sum()"
   ]
  },
  {
   "cell_type": "code",
   "execution_count": 41,
   "metadata": {},
   "outputs": [
    {
     "data": {
      "text/html": [
       "<div>\n",
       "<style scoped>\n",
       "    .dataframe tbody tr th:only-of-type {\n",
       "        vertical-align: middle;\n",
       "    }\n",
       "\n",
       "    .dataframe tbody tr th {\n",
       "        vertical-align: top;\n",
       "    }\n",
       "\n",
       "    .dataframe thead th {\n",
       "        text-align: right;\n",
       "    }\n",
       "</style>\n",
       "<table border=\"1\" class=\"dataframe\">\n",
       "  <thead>\n",
       "    <tr style=\"text-align: right;\">\n",
       "      <th></th>\n",
       "      <th>hypothesis</th>\n",
       "      <th>reach</th>\n",
       "      <th>impact</th>\n",
       "      <th>confidence</th>\n",
       "      <th>efforts</th>\n",
       "    </tr>\n",
       "  </thead>\n",
       "  <tbody>\n",
       "    <tr>\n",
       "      <th>0</th>\n",
       "      <td>Добавить два новых канала привлечения трафика, что позволит привлекать на 30% больше пользователей</td>\n",
       "      <td>3</td>\n",
       "      <td>10</td>\n",
       "      <td>8</td>\n",
       "      <td>6</td>\n",
       "    </tr>\n",
       "    <tr>\n",
       "      <th>1</th>\n",
       "      <td>Запустить собственную службу доставки, что сократит срок доставки заказов</td>\n",
       "      <td>2</td>\n",
       "      <td>5</td>\n",
       "      <td>4</td>\n",
       "      <td>10</td>\n",
       "    </tr>\n",
       "    <tr>\n",
       "      <th>2</th>\n",
       "      <td>Добавить блоки рекомендаций товаров на сайт интернет магазина, чтобы повысить конверсию и средний чек заказа</td>\n",
       "      <td>8</td>\n",
       "      <td>3</td>\n",
       "      <td>7</td>\n",
       "      <td>3</td>\n",
       "    </tr>\n",
       "    <tr>\n",
       "      <th>3</th>\n",
       "      <td>Изменить структура категорий, что увеличит конверсию, т.к. пользователи быстрее найдут нужный товар</td>\n",
       "      <td>8</td>\n",
       "      <td>3</td>\n",
       "      <td>3</td>\n",
       "      <td>8</td>\n",
       "    </tr>\n",
       "    <tr>\n",
       "      <th>4</th>\n",
       "      <td>Изменить цвет фона главной страницы, чтобы увеличить вовлеченность пользователей</td>\n",
       "      <td>3</td>\n",
       "      <td>1</td>\n",
       "      <td>1</td>\n",
       "      <td>1</td>\n",
       "    </tr>\n",
       "    <tr>\n",
       "      <th>5</th>\n",
       "      <td>Добавить страницу отзывов клиентов о магазине, что позволит увеличить количество заказов</td>\n",
       "      <td>3</td>\n",
       "      <td>2</td>\n",
       "      <td>2</td>\n",
       "      <td>3</td>\n",
       "    </tr>\n",
       "    <tr>\n",
       "      <th>6</th>\n",
       "      <td>Показать на главной странице баннеры с актуальными акциями и распродажами, чтобы увеличить конверсию</td>\n",
       "      <td>5</td>\n",
       "      <td>3</td>\n",
       "      <td>8</td>\n",
       "      <td>3</td>\n",
       "    </tr>\n",
       "    <tr>\n",
       "      <th>7</th>\n",
       "      <td>Добавить форму подписки на все основные страницы, чтобы собрать базу клиентов для email-рассылок</td>\n",
       "      <td>10</td>\n",
       "      <td>7</td>\n",
       "      <td>8</td>\n",
       "      <td>5</td>\n",
       "    </tr>\n",
       "    <tr>\n",
       "      <th>8</th>\n",
       "      <td>Запустить акцию, дающую скидку на товар в день рождения</td>\n",
       "      <td>1</td>\n",
       "      <td>9</td>\n",
       "      <td>9</td>\n",
       "      <td>5</td>\n",
       "    </tr>\n",
       "  </tbody>\n",
       "</table>\n",
       "</div>"
      ],
      "text/plain": [
       "                                                                                                     hypothesis  \\\n",
       "0  Добавить два новых канала привлечения трафика, что позволит привлекать на 30% больше пользователей             \n",
       "1  Запустить собственную службу доставки, что сократит срок доставки заказов                                      \n",
       "2  Добавить блоки рекомендаций товаров на сайт интернет магазина, чтобы повысить конверсию и средний чек заказа   \n",
       "3  Изменить структура категорий, что увеличит конверсию, т.к. пользователи быстрее найдут нужный товар            \n",
       "4  Изменить цвет фона главной страницы, чтобы увеличить вовлеченность пользователей                               \n",
       "5  Добавить страницу отзывов клиентов о магазине, что позволит увеличить количество заказов                       \n",
       "6  Показать на главной странице баннеры с актуальными акциями и распродажами, чтобы увеличить конверсию           \n",
       "7  Добавить форму подписки на все основные страницы, чтобы собрать базу клиентов для email-рассылок               \n",
       "8  Запустить акцию, дающую скидку на товар в день рождения                                                        \n",
       "\n",
       "   reach  impact  confidence  efforts  \n",
       "0  3      10      8           6        \n",
       "1  2      5       4           10       \n",
       "2  8      3       7           3        \n",
       "3  8      3       3           8        \n",
       "4  3      1       1           1        \n",
       "5  3      2       2           3        \n",
       "6  5      3       8           3        \n",
       "7  10     7       8           5        \n",
       "8  1      9       9           5        "
      ]
     },
     "execution_count": 41,
     "metadata": {},
     "output_type": "execute_result"
    }
   ],
   "source": [
    "# приведем регистры к нормальному виду\n",
    "hypotheses.columns = hypotheses.columns.str.lower()\n",
    "hypotheses"
   ]
  },
  {
   "cell_type": "markdown",
   "metadata": {},
   "source": [
    "Помимо регистров столбиков других проблем найдено не было."
   ]
  },
  {
   "cell_type": "code",
   "execution_count": 42,
   "metadata": {},
   "outputs": [
    {
     "data": {
      "text/html": [
       "<div>\n",
       "<style scoped>\n",
       "    .dataframe tbody tr th:only-of-type {\n",
       "        vertical-align: middle;\n",
       "    }\n",
       "\n",
       "    .dataframe tbody tr th {\n",
       "        vertical-align: top;\n",
       "    }\n",
       "\n",
       "    .dataframe thead th {\n",
       "        text-align: right;\n",
       "    }\n",
       "</style>\n",
       "<table border=\"1\" class=\"dataframe\">\n",
       "  <thead>\n",
       "    <tr style=\"text-align: right;\">\n",
       "      <th></th>\n",
       "      <th>transactionId</th>\n",
       "      <th>visitorId</th>\n",
       "      <th>date</th>\n",
       "      <th>revenue</th>\n",
       "      <th>group</th>\n",
       "    </tr>\n",
       "  </thead>\n",
       "  <tbody>\n",
       "    <tr>\n",
       "      <th>0</th>\n",
       "      <td>3667963787</td>\n",
       "      <td>3312258926</td>\n",
       "      <td>2019-08-15</td>\n",
       "      <td>1650</td>\n",
       "      <td>B</td>\n",
       "    </tr>\n",
       "    <tr>\n",
       "      <th>1</th>\n",
       "      <td>2804400009</td>\n",
       "      <td>3642806036</td>\n",
       "      <td>2019-08-15</td>\n",
       "      <td>730</td>\n",
       "      <td>B</td>\n",
       "    </tr>\n",
       "    <tr>\n",
       "      <th>2</th>\n",
       "      <td>2961555356</td>\n",
       "      <td>4069496402</td>\n",
       "      <td>2019-08-15</td>\n",
       "      <td>400</td>\n",
       "      <td>A</td>\n",
       "    </tr>\n",
       "    <tr>\n",
       "      <th>3</th>\n",
       "      <td>3797467345</td>\n",
       "      <td>1196621759</td>\n",
       "      <td>2019-08-15</td>\n",
       "      <td>9759</td>\n",
       "      <td>B</td>\n",
       "    </tr>\n",
       "    <tr>\n",
       "      <th>4</th>\n",
       "      <td>2282983706</td>\n",
       "      <td>2322279887</td>\n",
       "      <td>2019-08-15</td>\n",
       "      <td>2308</td>\n",
       "      <td>B</td>\n",
       "    </tr>\n",
       "  </tbody>\n",
       "</table>\n",
       "</div>"
      ],
      "text/plain": [
       "   transactionId   visitorId        date  revenue group\n",
       "0  3667963787     3312258926  2019-08-15  1650     B   \n",
       "1  2804400009     3642806036  2019-08-15  730      B   \n",
       "2  2961555356     4069496402  2019-08-15  400      A   \n",
       "3  3797467345     1196621759  2019-08-15  9759     B   \n",
       "4  2282983706     2322279887  2019-08-15  2308     B   "
      ]
     },
     "execution_count": 42,
     "metadata": {},
     "output_type": "execute_result"
    }
   ],
   "source": [
    "# проверим второй датафрейм\n",
    "orders.head()"
   ]
  },
  {
   "cell_type": "code",
   "execution_count": 43,
   "metadata": {},
   "outputs": [
    {
     "name": "stdout",
     "output_type": "stream",
     "text": [
      "<class 'pandas.core.frame.DataFrame'>\n",
      "RangeIndex: 1197 entries, 0 to 1196\n",
      "Data columns (total 5 columns):\n",
      " #   Column         Non-Null Count  Dtype \n",
      "---  ------         --------------  ----- \n",
      " 0   transactionId  1197 non-null   int64 \n",
      " 1   visitorId      1197 non-null   int64 \n",
      " 2   date           1197 non-null   object\n",
      " 3   revenue        1197 non-null   int64 \n",
      " 4   group          1197 non-null   object\n",
      "dtypes: int64(3), object(2)\n",
      "memory usage: 46.9+ KB\n"
     ]
    }
   ],
   "source": [
    "orders.info()"
   ]
  },
  {
   "cell_type": "code",
   "execution_count": 44,
   "metadata": {},
   "outputs": [
    {
     "data": {
      "text/plain": [
       "0"
      ]
     },
     "execution_count": 44,
     "metadata": {},
     "output_type": "execute_result"
    }
   ],
   "source": [
    "# проверка на дубликаты\n",
    "orders.duplicated().sum()"
   ]
  },
  {
   "cell_type": "code",
   "execution_count": 45,
   "metadata": {},
   "outputs": [
    {
     "name": "stdout",
     "output_type": "stream",
     "text": [
      "<class 'pandas.core.frame.DataFrame'>\n",
      "RangeIndex: 1197 entries, 0 to 1196\n",
      "Data columns (total 5 columns):\n",
      " #   Column         Non-Null Count  Dtype         \n",
      "---  ------         --------------  -----         \n",
      " 0   transactionId  1197 non-null   int64         \n",
      " 1   visitorId      1197 non-null   int64         \n",
      " 2   date           1197 non-null   datetime64[ns]\n",
      " 3   revenue        1197 non-null   int64         \n",
      " 4   group          1197 non-null   object        \n",
      "dtypes: datetime64[ns](1), int64(3), object(1)\n",
      "memory usage: 46.9+ KB\n"
     ]
    }
   ],
   "source": [
    "# изменим тип столбца `date`\n",
    "orders['date'] = pd.to_datetime(orders['date'], format='%Y-%m-%d')\n",
    "orders.info()"
   ]
  },
  {
   "cell_type": "markdown",
   "metadata": {},
   "source": [
    "Кроме типа данных других проблем найдено не было."
   ]
  },
  {
   "cell_type": "code",
   "execution_count": 46,
   "metadata": {},
   "outputs": [
    {
     "data": {
      "text/html": [
       "<div>\n",
       "<style scoped>\n",
       "    .dataframe tbody tr th:only-of-type {\n",
       "        vertical-align: middle;\n",
       "    }\n",
       "\n",
       "    .dataframe tbody tr th {\n",
       "        vertical-align: top;\n",
       "    }\n",
       "\n",
       "    .dataframe thead th {\n",
       "        text-align: right;\n",
       "    }\n",
       "</style>\n",
       "<table border=\"1\" class=\"dataframe\">\n",
       "  <thead>\n",
       "    <tr style=\"text-align: right;\">\n",
       "      <th></th>\n",
       "      <th>date</th>\n",
       "      <th>group</th>\n",
       "      <th>visitors</th>\n",
       "    </tr>\n",
       "  </thead>\n",
       "  <tbody>\n",
       "    <tr>\n",
       "      <th>0</th>\n",
       "      <td>2019-08-01</td>\n",
       "      <td>A</td>\n",
       "      <td>719</td>\n",
       "    </tr>\n",
       "    <tr>\n",
       "      <th>1</th>\n",
       "      <td>2019-08-02</td>\n",
       "      <td>A</td>\n",
       "      <td>619</td>\n",
       "    </tr>\n",
       "    <tr>\n",
       "      <th>2</th>\n",
       "      <td>2019-08-03</td>\n",
       "      <td>A</td>\n",
       "      <td>507</td>\n",
       "    </tr>\n",
       "    <tr>\n",
       "      <th>3</th>\n",
       "      <td>2019-08-04</td>\n",
       "      <td>A</td>\n",
       "      <td>717</td>\n",
       "    </tr>\n",
       "    <tr>\n",
       "      <th>4</th>\n",
       "      <td>2019-08-05</td>\n",
       "      <td>A</td>\n",
       "      <td>756</td>\n",
       "    </tr>\n",
       "  </tbody>\n",
       "</table>\n",
       "</div>"
      ],
      "text/plain": [
       "         date group  visitors\n",
       "0  2019-08-01  A     719     \n",
       "1  2019-08-02  A     619     \n",
       "2  2019-08-03  A     507     \n",
       "3  2019-08-04  A     717     \n",
       "4  2019-08-05  A     756     "
      ]
     },
     "execution_count": 46,
     "metadata": {},
     "output_type": "execute_result"
    }
   ],
   "source": [
    "# проверка третьего датафрейма\n",
    "visitors.head()"
   ]
  },
  {
   "cell_type": "code",
   "execution_count": 47,
   "metadata": {},
   "outputs": [
    {
     "name": "stdout",
     "output_type": "stream",
     "text": [
      "<class 'pandas.core.frame.DataFrame'>\n",
      "RangeIndex: 62 entries, 0 to 61\n",
      "Data columns (total 3 columns):\n",
      " #   Column    Non-Null Count  Dtype \n",
      "---  ------    --------------  ----- \n",
      " 0   date      62 non-null     object\n",
      " 1   group     62 non-null     object\n",
      " 2   visitors  62 non-null     int64 \n",
      "dtypes: int64(1), object(2)\n",
      "memory usage: 1.6+ KB\n"
     ]
    }
   ],
   "source": [
    "visitors.info()"
   ]
  },
  {
   "cell_type": "code",
   "execution_count": 48,
   "metadata": {},
   "outputs": [
    {
     "name": "stdout",
     "output_type": "stream",
     "text": [
      "<class 'pandas.core.frame.DataFrame'>\n",
      "RangeIndex: 62 entries, 0 to 61\n",
      "Data columns (total 3 columns):\n",
      " #   Column    Non-Null Count  Dtype         \n",
      "---  ------    --------------  -----         \n",
      " 0   date      62 non-null     datetime64[ns]\n",
      " 1   group     62 non-null     object        \n",
      " 2   visitors  62 non-null     int64         \n",
      "dtypes: datetime64[ns](1), int64(1), object(1)\n",
      "memory usage: 1.6+ KB\n"
     ]
    }
   ],
   "source": [
    "visitors['date'] = pd.to_datetime(visitors['date'], format='%Y-%m-%d')\n",
    "visitors.info()"
   ]
  },
  {
   "cell_type": "code",
   "execution_count": 49,
   "metadata": {},
   "outputs": [
    {
     "data": {
      "text/plain": [
       "0"
      ]
     },
     "execution_count": 49,
     "metadata": {},
     "output_type": "execute_result"
    }
   ],
   "source": [
    "visitors.duplicated().sum()"
   ]
  },
  {
   "cell_type": "markdown",
   "metadata": {},
   "source": [
    "Предобработка данных прошла успешно, можно начинать их анализировать."
   ]
  },
  {
   "cell_type": "markdown",
   "metadata": {},
   "source": [
    "## Приоритизация гипотез."
   ]
  },
  {
   "cell_type": "code",
   "execution_count": 50,
   "metadata": {},
   "outputs": [
    {
     "data": {
      "text/html": [
       "<div>\n",
       "<style scoped>\n",
       "    .dataframe tbody tr th:only-of-type {\n",
       "        vertical-align: middle;\n",
       "    }\n",
       "\n",
       "    .dataframe tbody tr th {\n",
       "        vertical-align: top;\n",
       "    }\n",
       "\n",
       "    .dataframe thead th {\n",
       "        text-align: right;\n",
       "    }\n",
       "</style>\n",
       "<table border=\"1\" class=\"dataframe\">\n",
       "  <thead>\n",
       "    <tr style=\"text-align: right;\">\n",
       "      <th></th>\n",
       "      <th>hypothesis</th>\n",
       "      <th>reach</th>\n",
       "      <th>impact</th>\n",
       "      <th>confidence</th>\n",
       "      <th>efforts</th>\n",
       "      <th>ICE</th>\n",
       "    </tr>\n",
       "  </thead>\n",
       "  <tbody>\n",
       "    <tr>\n",
       "      <th>8</th>\n",
       "      <td>Запустить акцию, дающую скидку на товар в день рождения</td>\n",
       "      <td>1</td>\n",
       "      <td>9</td>\n",
       "      <td>9</td>\n",
       "      <td>5</td>\n",
       "      <td>16.20</td>\n",
       "    </tr>\n",
       "    <tr>\n",
       "      <th>0</th>\n",
       "      <td>Добавить два новых канала привлечения трафика, что позволит привлекать на 30% больше пользователей</td>\n",
       "      <td>3</td>\n",
       "      <td>10</td>\n",
       "      <td>8</td>\n",
       "      <td>6</td>\n",
       "      <td>13.33</td>\n",
       "    </tr>\n",
       "    <tr>\n",
       "      <th>7</th>\n",
       "      <td>Добавить форму подписки на все основные страницы, чтобы собрать базу клиентов для email-рассылок</td>\n",
       "      <td>10</td>\n",
       "      <td>7</td>\n",
       "      <td>8</td>\n",
       "      <td>5</td>\n",
       "      <td>11.20</td>\n",
       "    </tr>\n",
       "    <tr>\n",
       "      <th>6</th>\n",
       "      <td>Показать на главной странице баннеры с актуальными акциями и распродажами, чтобы увеличить конверсию</td>\n",
       "      <td>5</td>\n",
       "      <td>3</td>\n",
       "      <td>8</td>\n",
       "      <td>3</td>\n",
       "      <td>8.00</td>\n",
       "    </tr>\n",
       "    <tr>\n",
       "      <th>2</th>\n",
       "      <td>Добавить блоки рекомендаций товаров на сайт интернет магазина, чтобы повысить конверсию и средний чек заказа</td>\n",
       "      <td>8</td>\n",
       "      <td>3</td>\n",
       "      <td>7</td>\n",
       "      <td>3</td>\n",
       "      <td>7.00</td>\n",
       "    </tr>\n",
       "    <tr>\n",
       "      <th>1</th>\n",
       "      <td>Запустить собственную службу доставки, что сократит срок доставки заказов</td>\n",
       "      <td>2</td>\n",
       "      <td>5</td>\n",
       "      <td>4</td>\n",
       "      <td>10</td>\n",
       "      <td>2.00</td>\n",
       "    </tr>\n",
       "    <tr>\n",
       "      <th>5</th>\n",
       "      <td>Добавить страницу отзывов клиентов о магазине, что позволит увеличить количество заказов</td>\n",
       "      <td>3</td>\n",
       "      <td>2</td>\n",
       "      <td>2</td>\n",
       "      <td>3</td>\n",
       "      <td>1.33</td>\n",
       "    </tr>\n",
       "    <tr>\n",
       "      <th>3</th>\n",
       "      <td>Изменить структура категорий, что увеличит конверсию, т.к. пользователи быстрее найдут нужный товар</td>\n",
       "      <td>8</td>\n",
       "      <td>3</td>\n",
       "      <td>3</td>\n",
       "      <td>8</td>\n",
       "      <td>1.12</td>\n",
       "    </tr>\n",
       "    <tr>\n",
       "      <th>4</th>\n",
       "      <td>Изменить цвет фона главной страницы, чтобы увеличить вовлеченность пользователей</td>\n",
       "      <td>3</td>\n",
       "      <td>1</td>\n",
       "      <td>1</td>\n",
       "      <td>1</td>\n",
       "      <td>1.00</td>\n",
       "    </tr>\n",
       "  </tbody>\n",
       "</table>\n",
       "</div>"
      ],
      "text/plain": [
       "                                                                                                     hypothesis  \\\n",
       "8  Запустить акцию, дающую скидку на товар в день рождения                                                        \n",
       "0  Добавить два новых канала привлечения трафика, что позволит привлекать на 30% больше пользователей             \n",
       "7  Добавить форму подписки на все основные страницы, чтобы собрать базу клиентов для email-рассылок               \n",
       "6  Показать на главной странице баннеры с актуальными акциями и распродажами, чтобы увеличить конверсию           \n",
       "2  Добавить блоки рекомендаций товаров на сайт интернет магазина, чтобы повысить конверсию и средний чек заказа   \n",
       "1  Запустить собственную службу доставки, что сократит срок доставки заказов                                      \n",
       "5  Добавить страницу отзывов клиентов о магазине, что позволит увеличить количество заказов                       \n",
       "3  Изменить структура категорий, что увеличит конверсию, т.к. пользователи быстрее найдут нужный товар            \n",
       "4  Изменить цвет фона главной страницы, чтобы увеличить вовлеченность пользователей                               \n",
       "\n",
       "   reach  impact  confidence  efforts    ICE  \n",
       "8  1      9       9           5        16.20  \n",
       "0  3      10      8           6        13.33  \n",
       "7  10     7       8           5        11.20  \n",
       "6  5      3       8           3        8.00   \n",
       "2  8      3       7           3        7.00   \n",
       "1  2      5       4           10       2.00   \n",
       "5  3      2       2           3        1.33   \n",
       "3  8      3       3           8        1.12   \n",
       "4  3      1       1           1        1.00   "
      ]
     },
     "execution_count": 50,
     "metadata": {},
     "output_type": "execute_result"
    }
   ],
   "source": [
    "# используем фреймворк `ICE` для приоритизации гипотез \n",
    "hypotheses['ICE'] = (hypotheses['impact'] * hypotheses['confidence']) / hypotheses['efforts']\n",
    "hypotheses.sort_values(by = 'ICE', ascending = False, inplace = True)\n",
    "hypotheses"
   ]
  },
  {
   "cell_type": "code",
   "execution_count": 51,
   "metadata": {},
   "outputs": [
    {
     "data": {
      "text/html": [
       "<div>\n",
       "<style scoped>\n",
       "    .dataframe tbody tr th:only-of-type {\n",
       "        vertical-align: middle;\n",
       "    }\n",
       "\n",
       "    .dataframe tbody tr th {\n",
       "        vertical-align: top;\n",
       "    }\n",
       "\n",
       "    .dataframe thead th {\n",
       "        text-align: right;\n",
       "    }\n",
       "</style>\n",
       "<table border=\"1\" class=\"dataframe\">\n",
       "  <thead>\n",
       "    <tr style=\"text-align: right;\">\n",
       "      <th></th>\n",
       "      <th>hypothesis</th>\n",
       "      <th>reach</th>\n",
       "      <th>impact</th>\n",
       "      <th>confidence</th>\n",
       "      <th>efforts</th>\n",
       "      <th>ICE</th>\n",
       "    </tr>\n",
       "  </thead>\n",
       "  <tbody>\n",
       "    <tr>\n",
       "      <th>8</th>\n",
       "      <td>Запустить акцию, дающую скидку на товар в день рождения</td>\n",
       "      <td>1</td>\n",
       "      <td>9</td>\n",
       "      <td>9</td>\n",
       "      <td>5</td>\n",
       "      <td>16.20</td>\n",
       "    </tr>\n",
       "    <tr>\n",
       "      <th>0</th>\n",
       "      <td>Добавить два новых канала привлечения трафика, что позволит привлекать на 30% больше пользователей</td>\n",
       "      <td>3</td>\n",
       "      <td>10</td>\n",
       "      <td>8</td>\n",
       "      <td>6</td>\n",
       "      <td>13.33</td>\n",
       "    </tr>\n",
       "    <tr>\n",
       "      <th>7</th>\n",
       "      <td>Добавить форму подписки на все основные страницы, чтобы собрать базу клиентов для email-рассылок</td>\n",
       "      <td>10</td>\n",
       "      <td>7</td>\n",
       "      <td>8</td>\n",
       "      <td>5</td>\n",
       "      <td>11.20</td>\n",
       "    </tr>\n",
       "    <tr>\n",
       "      <th>6</th>\n",
       "      <td>Показать на главной странице баннеры с актуальными акциями и распродажами, чтобы увеличить конверсию</td>\n",
       "      <td>5</td>\n",
       "      <td>3</td>\n",
       "      <td>8</td>\n",
       "      <td>3</td>\n",
       "      <td>8.00</td>\n",
       "    </tr>\n",
       "    <tr>\n",
       "      <th>2</th>\n",
       "      <td>Добавить блоки рекомендаций товаров на сайт интернет магазина, чтобы повысить конверсию и средний чек заказа</td>\n",
       "      <td>8</td>\n",
       "      <td>3</td>\n",
       "      <td>7</td>\n",
       "      <td>3</td>\n",
       "      <td>7.00</td>\n",
       "    </tr>\n",
       "    <tr>\n",
       "      <th>1</th>\n",
       "      <td>Запустить собственную службу доставки, что сократит срок доставки заказов</td>\n",
       "      <td>2</td>\n",
       "      <td>5</td>\n",
       "      <td>4</td>\n",
       "      <td>10</td>\n",
       "      <td>2.00</td>\n",
       "    </tr>\n",
       "    <tr>\n",
       "      <th>5</th>\n",
       "      <td>Добавить страницу отзывов клиентов о магазине, что позволит увеличить количество заказов</td>\n",
       "      <td>3</td>\n",
       "      <td>2</td>\n",
       "      <td>2</td>\n",
       "      <td>3</td>\n",
       "      <td>1.33</td>\n",
       "    </tr>\n",
       "    <tr>\n",
       "      <th>3</th>\n",
       "      <td>Изменить структура категорий, что увеличит конверсию, т.к. пользователи быстрее найдут нужный товар</td>\n",
       "      <td>8</td>\n",
       "      <td>3</td>\n",
       "      <td>3</td>\n",
       "      <td>8</td>\n",
       "      <td>1.12</td>\n",
       "    </tr>\n",
       "    <tr>\n",
       "      <th>4</th>\n",
       "      <td>Изменить цвет фона главной страницы, чтобы увеличить вовлеченность пользователей</td>\n",
       "      <td>3</td>\n",
       "      <td>1</td>\n",
       "      <td>1</td>\n",
       "      <td>1</td>\n",
       "      <td>1.00</td>\n",
       "    </tr>\n",
       "  </tbody>\n",
       "</table>\n",
       "</div>"
      ],
      "text/plain": [
       "                                                                                                     hypothesis  \\\n",
       "8  Запустить акцию, дающую скидку на товар в день рождения                                                        \n",
       "0  Добавить два новых канала привлечения трафика, что позволит привлекать на 30% больше пользователей             \n",
       "7  Добавить форму подписки на все основные страницы, чтобы собрать базу клиентов для email-рассылок               \n",
       "6  Показать на главной странице баннеры с актуальными акциями и распродажами, чтобы увеличить конверсию           \n",
       "2  Добавить блоки рекомендаций товаров на сайт интернет магазина, чтобы повысить конверсию и средний чек заказа   \n",
       "1  Запустить собственную службу доставки, что сократит срок доставки заказов                                      \n",
       "5  Добавить страницу отзывов клиентов о магазине, что позволит увеличить количество заказов                       \n",
       "3  Изменить структура категорий, что увеличит конверсию, т.к. пользователи быстрее найдут нужный товар            \n",
       "4  Изменить цвет фона главной страницы, чтобы увеличить вовлеченность пользователей                               \n",
       "\n",
       "   reach  impact  confidence  efforts    ICE  \n",
       "8  1      9       9           5        16.20  \n",
       "0  3      10      8           6        13.33  \n",
       "7  10     7       8           5        11.20  \n",
       "6  5      3       8           3        8.00   \n",
       "2  8      3       7           3        7.00   \n",
       "1  2      5       4           10       2.00   \n",
       "5  3      2       2           3        1.33   \n",
       "3  8      3       3           8        1.12   \n",
       "4  3      1       1           1        1.00   "
      ]
     },
     "execution_count": 51,
     "metadata": {},
     "output_type": "execute_result"
    }
   ],
   "source": [
    "hypotheses['ICE'] = (hypotheses['impact'] * hypotheses['confidence']) / hypotheses['efforts']\n",
    "hypotheses.sort_values(by = 'ICE', ascending = False, inplace = True)\n",
    "pd.set_option('display.max_colwidth', 0)\n",
    "hypotheses"
   ]
  },
  {
   "cell_type": "markdown",
   "metadata": {},
   "source": [
    "При использовании `ICE` можем наблюдать, что гипотезы под номером: 8, 0, 7 более предпочтительнее для проверки."
   ]
  },
  {
   "cell_type": "code",
   "execution_count": 52,
   "metadata": {},
   "outputs": [
    {
     "data": {
      "text/html": [
       "<div>\n",
       "<style scoped>\n",
       "    .dataframe tbody tr th:only-of-type {\n",
       "        vertical-align: middle;\n",
       "    }\n",
       "\n",
       "    .dataframe tbody tr th {\n",
       "        vertical-align: top;\n",
       "    }\n",
       "\n",
       "    .dataframe thead th {\n",
       "        text-align: right;\n",
       "    }\n",
       "</style>\n",
       "<table border=\"1\" class=\"dataframe\">\n",
       "  <thead>\n",
       "    <tr style=\"text-align: right;\">\n",
       "      <th></th>\n",
       "      <th>hypothesis</th>\n",
       "      <th>reach</th>\n",
       "      <th>impact</th>\n",
       "      <th>confidence</th>\n",
       "      <th>efforts</th>\n",
       "      <th>ICE</th>\n",
       "      <th>RICE</th>\n",
       "    </tr>\n",
       "  </thead>\n",
       "  <tbody>\n",
       "    <tr>\n",
       "      <th>7</th>\n",
       "      <td>Добавить форму подписки на все основные страницы, чтобы собрать базу клиентов для email-рассылок</td>\n",
       "      <td>10</td>\n",
       "      <td>7</td>\n",
       "      <td>8</td>\n",
       "      <td>5</td>\n",
       "      <td>11.20</td>\n",
       "      <td>112.0</td>\n",
       "    </tr>\n",
       "    <tr>\n",
       "      <th>2</th>\n",
       "      <td>Добавить блоки рекомендаций товаров на сайт интернет магазина, чтобы повысить конверсию и средний чек заказа</td>\n",
       "      <td>8</td>\n",
       "      <td>3</td>\n",
       "      <td>7</td>\n",
       "      <td>3</td>\n",
       "      <td>7.00</td>\n",
       "      <td>56.0</td>\n",
       "    </tr>\n",
       "    <tr>\n",
       "      <th>0</th>\n",
       "      <td>Добавить два новых канала привлечения трафика, что позволит привлекать на 30% больше пользователей</td>\n",
       "      <td>3</td>\n",
       "      <td>10</td>\n",
       "      <td>8</td>\n",
       "      <td>6</td>\n",
       "      <td>13.33</td>\n",
       "      <td>40.0</td>\n",
       "    </tr>\n",
       "    <tr>\n",
       "      <th>6</th>\n",
       "      <td>Показать на главной странице баннеры с актуальными акциями и распродажами, чтобы увеличить конверсию</td>\n",
       "      <td>5</td>\n",
       "      <td>3</td>\n",
       "      <td>8</td>\n",
       "      <td>3</td>\n",
       "      <td>8.00</td>\n",
       "      <td>40.0</td>\n",
       "    </tr>\n",
       "    <tr>\n",
       "      <th>8</th>\n",
       "      <td>Запустить акцию, дающую скидку на товар в день рождения</td>\n",
       "      <td>1</td>\n",
       "      <td>9</td>\n",
       "      <td>9</td>\n",
       "      <td>5</td>\n",
       "      <td>16.20</td>\n",
       "      <td>16.2</td>\n",
       "    </tr>\n",
       "    <tr>\n",
       "      <th>3</th>\n",
       "      <td>Изменить структура категорий, что увеличит конверсию, т.к. пользователи быстрее найдут нужный товар</td>\n",
       "      <td>8</td>\n",
       "      <td>3</td>\n",
       "      <td>3</td>\n",
       "      <td>8</td>\n",
       "      <td>1.12</td>\n",
       "      <td>9.0</td>\n",
       "    </tr>\n",
       "    <tr>\n",
       "      <th>1</th>\n",
       "      <td>Запустить собственную службу доставки, что сократит срок доставки заказов</td>\n",
       "      <td>2</td>\n",
       "      <td>5</td>\n",
       "      <td>4</td>\n",
       "      <td>10</td>\n",
       "      <td>2.00</td>\n",
       "      <td>4.0</td>\n",
       "    </tr>\n",
       "    <tr>\n",
       "      <th>5</th>\n",
       "      <td>Добавить страницу отзывов клиентов о магазине, что позволит увеличить количество заказов</td>\n",
       "      <td>3</td>\n",
       "      <td>2</td>\n",
       "      <td>2</td>\n",
       "      <td>3</td>\n",
       "      <td>1.33</td>\n",
       "      <td>4.0</td>\n",
       "    </tr>\n",
       "    <tr>\n",
       "      <th>4</th>\n",
       "      <td>Изменить цвет фона главной страницы, чтобы увеличить вовлеченность пользователей</td>\n",
       "      <td>3</td>\n",
       "      <td>1</td>\n",
       "      <td>1</td>\n",
       "      <td>1</td>\n",
       "      <td>1.00</td>\n",
       "      <td>3.0</td>\n",
       "    </tr>\n",
       "  </tbody>\n",
       "</table>\n",
       "</div>"
      ],
      "text/plain": [
       "                                                                                                     hypothesis  \\\n",
       "7  Добавить форму подписки на все основные страницы, чтобы собрать базу клиентов для email-рассылок               \n",
       "2  Добавить блоки рекомендаций товаров на сайт интернет магазина, чтобы повысить конверсию и средний чек заказа   \n",
       "0  Добавить два новых канала привлечения трафика, что позволит привлекать на 30% больше пользователей             \n",
       "6  Показать на главной странице баннеры с актуальными акциями и распродажами, чтобы увеличить конверсию           \n",
       "8  Запустить акцию, дающую скидку на товар в день рождения                                                        \n",
       "3  Изменить структура категорий, что увеличит конверсию, т.к. пользователи быстрее найдут нужный товар            \n",
       "1  Запустить собственную службу доставки, что сократит срок доставки заказов                                      \n",
       "5  Добавить страницу отзывов клиентов о магазине, что позволит увеличить количество заказов                       \n",
       "4  Изменить цвет фона главной страницы, чтобы увеличить вовлеченность пользователей                               \n",
       "\n",
       "   reach  impact  confidence  efforts    ICE   RICE  \n",
       "7  10     7       8           5        11.20  112.0  \n",
       "2  8      3       7           3        7.00   56.0   \n",
       "0  3      10      8           6        13.33  40.0   \n",
       "6  5      3       8           3        8.00   40.0   \n",
       "8  1      9       9           5        16.20  16.2   \n",
       "3  8      3       3           8        1.12   9.0    \n",
       "1  2      5       4           10       2.00   4.0    \n",
       "5  3      2       2           3        1.33   4.0    \n",
       "4  3      1       1           1        1.00   3.0    "
      ]
     },
     "execution_count": 52,
     "metadata": {},
     "output_type": "execute_result"
    }
   ],
   "source": [
    "# используем фреймворк `RICE` для приоритизации гипотез \n",
    "hypotheses['RICE'] = hypotheses['reach'] * hypotheses['impact'] * hypotheses['confidence'] / hypotheses['efforts']\n",
    "hypotheses = hypotheses.sort_values(by='RICE', ascending = False)\n",
    "hypotheses"
   ]
  },
  {
   "cell_type": "markdown",
   "metadata": {},
   "source": [
    "**Выводы:**\n",
    "\n",
    "При использовании фреймворка `RICE` приоритетными гипотезами стали: 7, 2, 0. Логично, что гипотеза номер 8 опустилась в середину рейтинга, так как охват пользователей равен всего 1, в то время как гипотеза 7 со своим большим охватом поднялась на 1 позицию."
   ]
  },
  {
   "cell_type": "markdown",
   "metadata": {},
   "source": [
    "## Анализ A/B теста."
   ]
  },
  {
   "cell_type": "markdown",
   "metadata": {},
   "source": [
    "Посмотрим наши датафреймы на количество заказов и посещений в каждой группе. Узнаем, не попали ли одни и те же пользователи в разные группы."
   ]
  },
  {
   "cell_type": "code",
   "execution_count": 53,
   "metadata": {},
   "outputs": [
    {
     "name": "stdout",
     "output_type": "stream",
     "text": [
      "Посещений в группе А: 18736\n",
      "Посещений в группе B: 18916\n",
      "Заказов в группе А: 557\n",
      "Заказов в группе B: 640\n"
     ]
    }
   ],
   "source": [
    "# найдем количество заказов и посещений\n",
    "print('Посещений в группе А:', visitors.query('group == \"A\"')['visitors'].sum())\n",
    "print ('Посещений в группе B:',visitors.query('group == \"B\"')['visitors'].sum())\n",
    "print ('Заказов в группе А:', orders.query('group == \"A\"').shape[0])\n",
    "print ('Заказов в группе B:',orders.query('group == \"B\"').shape[0])"
   ]
  },
  {
   "cell_type": "markdown",
   "metadata": {},
   "source": [
    "Наблюдаем разницу в посещениях, равную 180 и количество заказов, равное 83."
   ]
  },
  {
   "cell_type": "code",
   "execution_count": 54,
   "metadata": {},
   "outputs": [
    {
     "data": {
      "text/plain": [
       "973"
      ]
     },
     "execution_count": 54,
     "metadata": {},
     "output_type": "execute_result"
    }
   ],
   "source": [
    "# уберем пользователей, попавших в разные группы\n",
    "visitorsA = orders[orders['group']=='A']['visitorId']\n",
    "visitorsB = orders[orders['group']=='B']['visitorId']\n",
    "visitors_AB = orders.loc[orders['visitorId'].isin(visitorsA)& orders['visitorId'].isin(visitorsB),'visitorId'].unique()\n",
    "orders = orders.loc[~orders['visitorId'].isin(visitors_AB)]\n",
    "(orders.groupby('visitorId')['group'].nunique()>1).count()"
   ]
  },
  {
   "cell_type": "code",
   "execution_count": 55,
   "metadata": {},
   "outputs": [
    {
     "name": "stdout",
     "output_type": "stream",
     "text": [
      "Заказов в группе А: 468\n",
      "Заказов в группе B: 548\n"
     ]
    }
   ],
   "source": [
    "# проверим количество заказов теперь\n",
    "print ('Заказов в группе А:', orders.query('group == \"A\"').shape[0])\n",
    "print ('Заказов в группе B:',orders.query('group == \"B\"').shape[0])"
   ]
  },
  {
   "cell_type": "markdown",
   "metadata": {},
   "source": [
    "Теперь процентная разница еще заказов по группам еще больше. "
   ]
  },
  {
   "cell_type": "code",
   "execution_count": 56,
   "metadata": {},
   "outputs": [],
   "source": [
    "# создадим датафрейм и удалим повторяющиеся данные \n",
    "dates_groups = orders[['date','group']].drop_duplicates()"
   ]
  },
  {
   "cell_type": "code",
   "execution_count": 57,
   "metadata": {},
   "outputs": [
    {
     "data": {
      "text/html": [
       "<div>\n",
       "<style scoped>\n",
       "    .dataframe tbody tr th:only-of-type {\n",
       "        vertical-align: middle;\n",
       "    }\n",
       "\n",
       "    .dataframe tbody tr th {\n",
       "        vertical-align: top;\n",
       "    }\n",
       "\n",
       "    .dataframe thead th {\n",
       "        text-align: right;\n",
       "    }\n",
       "</style>\n",
       "<table border=\"1\" class=\"dataframe\">\n",
       "  <thead>\n",
       "    <tr style=\"text-align: right;\">\n",
       "      <th></th>\n",
       "      <th>date</th>\n",
       "      <th>group</th>\n",
       "      <th>transactionId</th>\n",
       "      <th>revenue</th>\n",
       "    </tr>\n",
       "  </thead>\n",
       "  <tbody>\n",
       "    <tr>\n",
       "      <th>55</th>\n",
       "      <td>2019-08-01</td>\n",
       "      <td>A</td>\n",
       "      <td>23</td>\n",
       "      <td>142779</td>\n",
       "    </tr>\n",
       "    <tr>\n",
       "      <th>66</th>\n",
       "      <td>2019-08-01</td>\n",
       "      <td>B</td>\n",
       "      <td>17</td>\n",
       "      <td>59758</td>\n",
       "    </tr>\n",
       "    <tr>\n",
       "      <th>175</th>\n",
       "      <td>2019-08-02</td>\n",
       "      <td>A</td>\n",
       "      <td>42</td>\n",
       "      <td>234381</td>\n",
       "    </tr>\n",
       "    <tr>\n",
       "      <th>173</th>\n",
       "      <td>2019-08-02</td>\n",
       "      <td>B</td>\n",
       "      <td>40</td>\n",
       "      <td>221801</td>\n",
       "    </tr>\n",
       "    <tr>\n",
       "      <th>291</th>\n",
       "      <td>2019-08-03</td>\n",
       "      <td>A</td>\n",
       "      <td>66</td>\n",
       "      <td>346854</td>\n",
       "    </tr>\n",
       "  </tbody>\n",
       "</table>\n",
       "</div>"
      ],
      "text/plain": [
       "          date group  transactionId  revenue\n",
       "55  2019-08-01  A     23             142779 \n",
       "66  2019-08-01  B     17             59758  \n",
       "175 2019-08-02  A     42             234381 \n",
       "173 2019-08-02  B     40             221801 \n",
       "291 2019-08-03  A     66             346854 "
      ]
     },
     "execution_count": 57,
     "metadata": {},
     "output_type": "execute_result"
    }
   ],
   "source": [
    "# объявим переменную \n",
    "orders_aggregated = (dates_groups.apply(\n",
    "    lambda x: orders[\n",
    "        np.logical_and(\n",
    "            orders['date'] <= x['date'], orders['group'] == x['group']\n",
    "        )\n",
    "    ].agg(\n",
    "        {\n",
    "            'date': 'max',\n",
    "            'group': 'max',\n",
    "            'transactionId': 'nunique',\n",
    "            'revenue': 'sum',\n",
    "        }\n",
    "    ),\n",
    "    axis=1,\n",
    ").sort_values(by=['date', 'group']))\n",
    "orders_aggregated.head()"
   ]
  },
  {
   "cell_type": "code",
   "execution_count": 58,
   "metadata": {},
   "outputs": [
    {
     "data": {
      "text/html": [
       "<div>\n",
       "<style scoped>\n",
       "    .dataframe tbody tr th:only-of-type {\n",
       "        vertical-align: middle;\n",
       "    }\n",
       "\n",
       "    .dataframe tbody tr th {\n",
       "        vertical-align: top;\n",
       "    }\n",
       "\n",
       "    .dataframe thead th {\n",
       "        text-align: right;\n",
       "    }\n",
       "</style>\n",
       "<table border=\"1\" class=\"dataframe\">\n",
       "  <thead>\n",
       "    <tr style=\"text-align: right;\">\n",
       "      <th></th>\n",
       "      <th>date</th>\n",
       "      <th>group</th>\n",
       "      <th>visitors</th>\n",
       "    </tr>\n",
       "  </thead>\n",
       "  <tbody>\n",
       "    <tr>\n",
       "      <th>55</th>\n",
       "      <td>2019-08-01</td>\n",
       "      <td>A</td>\n",
       "      <td>719</td>\n",
       "    </tr>\n",
       "    <tr>\n",
       "      <th>66</th>\n",
       "      <td>2019-08-01</td>\n",
       "      <td>B</td>\n",
       "      <td>713</td>\n",
       "    </tr>\n",
       "    <tr>\n",
       "      <th>175</th>\n",
       "      <td>2019-08-02</td>\n",
       "      <td>A</td>\n",
       "      <td>1338</td>\n",
       "    </tr>\n",
       "    <tr>\n",
       "      <th>173</th>\n",
       "      <td>2019-08-02</td>\n",
       "      <td>B</td>\n",
       "      <td>1294</td>\n",
       "    </tr>\n",
       "    <tr>\n",
       "      <th>291</th>\n",
       "      <td>2019-08-03</td>\n",
       "      <td>A</td>\n",
       "      <td>1845</td>\n",
       "    </tr>\n",
       "  </tbody>\n",
       "</table>\n",
       "</div>"
      ],
      "text/plain": [
       "          date group  visitors\n",
       "55  2019-08-01  A     719     \n",
       "66  2019-08-01  B     713     \n",
       "175 2019-08-02  A     1338    \n",
       "173 2019-08-02  B     1294    \n",
       "291 2019-08-03  A     1845    "
      ]
     },
     "execution_count": 58,
     "metadata": {},
     "output_type": "execute_result"
    }
   ],
   "source": [
    "# объявим переменную\n",
    "visitors_aggregated = dates_groups.apply(\n",
    "    lambda x: visitors[\n",
    "        np.logical_and(\n",
    "            visitors['date'] <= x['date'], visitors['group'] == x['group']\n",
    "        )\n",
    "    ].agg({'date': 'max', 'group': 'max', 'visitors': 'sum'}),\n",
    "    axis=1,\n",
    ").sort_values(by=['date', 'group'])\n",
    "visitors_aggregated.head()"
   ]
  },
  {
   "cell_type": "code",
   "execution_count": 59,
   "metadata": {},
   "outputs": [
    {
     "data": {
      "text/html": [
       "<div>\n",
       "<style scoped>\n",
       "    .dataframe tbody tr th:only-of-type {\n",
       "        vertical-align: middle;\n",
       "    }\n",
       "\n",
       "    .dataframe tbody tr th {\n",
       "        vertical-align: top;\n",
       "    }\n",
       "\n",
       "    .dataframe thead th {\n",
       "        text-align: right;\n",
       "    }\n",
       "</style>\n",
       "<table border=\"1\" class=\"dataframe\">\n",
       "  <thead>\n",
       "    <tr style=\"text-align: right;\">\n",
       "      <th></th>\n",
       "      <th>date</th>\n",
       "      <th>group</th>\n",
       "      <th>transactionId</th>\n",
       "      <th>revenue</th>\n",
       "      <th>visitors</th>\n",
       "    </tr>\n",
       "  </thead>\n",
       "  <tbody>\n",
       "    <tr>\n",
       "      <th>0</th>\n",
       "      <td>2019-08-01</td>\n",
       "      <td>A</td>\n",
       "      <td>23</td>\n",
       "      <td>142779</td>\n",
       "      <td>719</td>\n",
       "    </tr>\n",
       "    <tr>\n",
       "      <th>1</th>\n",
       "      <td>2019-08-01</td>\n",
       "      <td>B</td>\n",
       "      <td>17</td>\n",
       "      <td>59758</td>\n",
       "      <td>713</td>\n",
       "    </tr>\n",
       "    <tr>\n",
       "      <th>2</th>\n",
       "      <td>2019-08-02</td>\n",
       "      <td>A</td>\n",
       "      <td>42</td>\n",
       "      <td>234381</td>\n",
       "      <td>1338</td>\n",
       "    </tr>\n",
       "    <tr>\n",
       "      <th>3</th>\n",
       "      <td>2019-08-02</td>\n",
       "      <td>B</td>\n",
       "      <td>40</td>\n",
       "      <td>221801</td>\n",
       "      <td>1294</td>\n",
       "    </tr>\n",
       "    <tr>\n",
       "      <th>4</th>\n",
       "      <td>2019-08-03</td>\n",
       "      <td>A</td>\n",
       "      <td>66</td>\n",
       "      <td>346854</td>\n",
       "      <td>1845</td>\n",
       "    </tr>\n",
       "  </tbody>\n",
       "</table>\n",
       "</div>"
      ],
      "text/plain": [
       "        date group  transactionId  revenue  visitors\n",
       "0 2019-08-01  A     23             142779   719     \n",
       "1 2019-08-01  B     17             59758    713     \n",
       "2 2019-08-02  A     42             234381   1338    \n",
       "3 2019-08-02  B     40             221801   1294    \n",
       "4 2019-08-03  A     66             346854   1845    "
      ]
     },
     "execution_count": 59,
     "metadata": {},
     "output_type": "execute_result"
    }
   ],
   "source": [
    "cumulative_data = orders_aggregated.merge(visitors_aggregated, on=['date', 'group'])\n",
    "cumulative_data.head()"
   ]
  },
  {
   "cell_type": "code",
   "execution_count": 60,
   "metadata": {},
   "outputs": [
    {
     "data": {
      "image/png": "[encoded data removed]",
      "text/plain": [
       "<Figure size 720x360 with 1 Axes>"
      ]
     },
     "metadata": {
      "needs_background": "light"
     },
     "output_type": "display_data"
    }
   ],
   "source": [
    "# строим график кумулятивной выручки по группам\n",
    "cumulative_revenue_a = cumulative_data[cumulative_data['group']=='A'][['date','revenue', 'transactionId', 'visitors']]\n",
    "cumulative_revenue_b = cumulative_data[cumulative_data['group']=='B'][['date','revenue', 'transactionId', 'visitors']]\n",
    "plt.figure(figsize=(10, 5))\n",
    "plt.plot(cumulative_revenue_a['date'], cumulative_revenue_a['revenue'], label='A')\n",
    "plt.plot(cumulative_revenue_b['date'], cumulative_revenue_b['revenue'], label='B')\n",
    "plt.xticks(rotation=45)\n",
    "plt.xlabel('дата')\n",
    "plt.ylabel('выручка')\n",
    "plt.title('Кумулятивная выручка по группам')\n",
    "plt.legend();"
   ]
  },
  {
   "cell_type": "markdown",
   "metadata": {},
   "source": [
    "**Вывод:** \n",
    "\n",
    "На данном графике мы можем наблюдать постепенный и стабильный рост выручки в группе A, в группе B наблюдается резки скачок, примерно 18 июля, это говорит нам о большой вероятности аномалий, которую нужно обязательно проверить."
   ]
  },
  {
   "cell_type": "code",
   "execution_count": 61,
   "metadata": {},
   "outputs": [
    {
     "data": {
      "text/plain": [
       "<matplotlib.legend.Legend at 0x7fa712971fd0>"
      ]
     },
     "execution_count": 61,
     "metadata": {},
     "output_type": "execute_result"
    },
    {
     "data": {
      "image/png": "[encoded data removed]",
      "text/plain": [
       "<Figure size 720x360 with 1 Axes>"
      ]
     },
     "metadata": {
      "needs_background": "light"
     },
     "output_type": "display_data"
    }
   ],
   "source": [
    "# строим график кумулятивного среднего чека по группам\n",
    "plt.figure(figsize=(10, 5))\n",
    "plt.plot(cumulative_revenue_a['date'], cumulative_revenue_a['revenue'] / cumulative_revenue_a['transactionId'], label='A')\n",
    "plt.plot(cumulative_revenue_b['date'], cumulative_revenue_b['revenue'] / cumulative_revenue_b['transactionId'], label='B')\n",
    "plt.xticks(rotation=45)\n",
    "plt.xlabel('дата')\n",
    "plt.ylabel('средний чек')\n",
    "plt.title('Кумулятивный средний чек по группам')\n",
    "plt.legend()"
   ]
  },
  {
   "cell_type": "markdown",
   "metadata": {},
   "source": [
    "**Вывод:** \n",
    "\n",
    "По графику можем наблюдать похожую картину, средни чек группы A начинает выравниваться к 13.08, в целом как и у группы B, но после происходит скорее всего большая покупка, а возможно, даже не одна и средний чек группы B взлетает вверх."
   ]
  },
  {
   "cell_type": "code",
   "execution_count": 62,
   "metadata": {},
   "outputs": [
    {
     "data": {
      "text/plain": [
       "<matplotlib.lines.Line2D at 0x7fa7128cadc0>"
      ]
     },
     "execution_count": 62,
     "metadata": {},
     "output_type": "execute_result"
    },
    {
     "data": {
      "image/png": "[encoded data removed]",
      "text/plain": [
       "<Figure size 720x360 with 1 Axes>"
      ]
     },
     "metadata": {
      "needs_background": "light"
     },
     "output_type": "display_data"
    }
   ],
   "source": [
    "# строим график относительного изменения кумулятивного среднего чека группы B к группе A\n",
    "plt.figure(figsize=(10, 5))\n",
    "merged_cumulative_revenue = cumulative_revenue_a.merge(cumulative_revenue_b, left_on='date', right_on='date', how='left', suffixes=['A', 'B'])\n",
    "plt.plot(merged_cumulative_revenue['date'], (merged_cumulative_revenue['revenueB']/merged_cumulative_revenue['transactionIdB'])/(merged_cumulative_revenue['revenueA']/merged_cumulative_revenue['transactionIdA'])-1)\n",
    "plt.xticks(rotation=45)\n",
    "plt.xlabel('дата')\n",
    "plt.ylabel('зависимость среднего чека')\n",
    "plt.title('Изменение куммулятивного среднего чека')\n",
    "plt.axhline(y=0, color='black', linestyle='--')"
   ]
  },
  {
   "cell_type": "markdown",
   "metadata": {},
   "source": [
    "**Вывод:**\n",
    "\n",
    "Очередной раз убеждаемся, что 18.03 была какая-то крупная покупка, но теперь мы можем наблюдать и то, что в начале графика, "
   ]
  },
  {
   "cell_type": "code",
   "execution_count": 63,
   "metadata": {},
   "outputs": [
    {
     "data": {
      "text/plain": [
       "<matplotlib.legend.Legend at 0x7fa712cecd00>"
      ]
     },
     "execution_count": 63,
     "metadata": {},
     "output_type": "execute_result"
    },
    {
     "data": {
      "image/png": "[encoded data removed]",
      "text/plain": [
       "<Figure size 720x360 with 1 Axes>"
      ]
     },
     "metadata": {
      "needs_background": "light"
     },
     "output_type": "display_data"
    }
   ],
   "source": [
    "# строим график кумулятивной конверсии по группам\n",
    "plt.figure(figsize=(10, 5))\n",
    "plt.plot(cumulative_revenue_a['date'], cumulative_revenue_a['transactionId'] / cumulative_revenue_a['visitors'], label='A')\n",
    "plt.plot(cumulative_revenue_b['date'], cumulative_revenue_b['transactionId'] / cumulative_revenue_b['visitors'], label='B')\n",
    "plt.xticks(rotation=45)\n",
    "plt.xlabel('дата')\n",
    "plt.ylabel('конверсия')\n",
    "plt.title('Кумулятивная конверсия по группам')\n",
    "plt.legend()"
   ]
  },
  {
   "cell_type": "markdown",
   "metadata": {},
   "source": [
    "**Вывод:**\n",
    "\n",
    "На первых этапах наблюдаются резкие изменения конверсии в двух группах сразу, после же конверсия выравнивается и наблюдается явное лидерство группы B. "
   ]
  },
  {
   "cell_type": "code",
   "execution_count": 64,
   "metadata": {},
   "outputs": [
    {
     "data": {
      "text/html": [
       "<div>\n",
       "<style scoped>\n",
       "    .dataframe tbody tr th:only-of-type {\n",
       "        vertical-align: middle;\n",
       "    }\n",
       "\n",
       "    .dataframe tbody tr th {\n",
       "        vertical-align: top;\n",
       "    }\n",
       "\n",
       "    .dataframe thead th {\n",
       "        text-align: right;\n",
       "    }\n",
       "</style>\n",
       "<table border=\"1\" class=\"dataframe\">\n",
       "  <thead>\n",
       "    <tr style=\"text-align: right;\">\n",
       "      <th></th>\n",
       "      <th>date</th>\n",
       "      <th>revenueA</th>\n",
       "      <th>transactionIdA</th>\n",
       "      <th>visitorsA</th>\n",
       "      <th>revenueB</th>\n",
       "      <th>transactionIdB</th>\n",
       "      <th>visitorsB</th>\n",
       "    </tr>\n",
       "  </thead>\n",
       "  <tbody>\n",
       "    <tr>\n",
       "      <th>0</th>\n",
       "      <td>2019-08-01</td>\n",
       "      <td>142779</td>\n",
       "      <td>23</td>\n",
       "      <td>719</td>\n",
       "      <td>59758</td>\n",
       "      <td>17</td>\n",
       "      <td>713</td>\n",
       "    </tr>\n",
       "    <tr>\n",
       "      <th>1</th>\n",
       "      <td>2019-08-02</td>\n",
       "      <td>234381</td>\n",
       "      <td>42</td>\n",
       "      <td>1338</td>\n",
       "      <td>221801</td>\n",
       "      <td>40</td>\n",
       "      <td>1294</td>\n",
       "    </tr>\n",
       "    <tr>\n",
       "      <th>2</th>\n",
       "      <td>2019-08-03</td>\n",
       "      <td>346854</td>\n",
       "      <td>66</td>\n",
       "      <td>1845</td>\n",
       "      <td>288850</td>\n",
       "      <td>54</td>\n",
       "      <td>1803</td>\n",
       "    </tr>\n",
       "    <tr>\n",
       "      <th>3</th>\n",
       "      <td>2019-08-04</td>\n",
       "      <td>388030</td>\n",
       "      <td>77</td>\n",
       "      <td>2562</td>\n",
       "      <td>385740</td>\n",
       "      <td>68</td>\n",
       "      <td>2573</td>\n",
       "    </tr>\n",
       "    <tr>\n",
       "      <th>4</th>\n",
       "      <td>2019-08-05</td>\n",
       "      <td>474413</td>\n",
       "      <td>99</td>\n",
       "      <td>3318</td>\n",
       "      <td>475648</td>\n",
       "      <td>89</td>\n",
       "      <td>3280</td>\n",
       "    </tr>\n",
       "  </tbody>\n",
       "</table>\n",
       "</div>"
      ],
      "text/plain": [
       "        date  revenueA  transactionIdA  visitorsA  revenueB  transactionIdB  \\\n",
       "0 2019-08-01  142779    23              719        59758     17               \n",
       "1 2019-08-02  234381    42              1338       221801    40               \n",
       "2 2019-08-03  346854    66              1845       288850    54               \n",
       "3 2019-08-04  388030    77              2562       385740    68               \n",
       "4 2019-08-05  474413    99              3318       475648    89               \n",
       "\n",
       "   visitorsB  \n",
       "0  713        \n",
       "1  1294       \n",
       "2  1803       \n",
       "3  2573       \n",
       "4  3280       "
      ]
     },
     "execution_count": 64,
     "metadata": {},
     "output_type": "execute_result"
    }
   ],
   "source": [
    "# проверка таблицы\n",
    "merged_cumulative_revenue.head()"
   ]
  },
  {
   "cell_type": "code",
   "execution_count": 65,
   "metadata": {},
   "outputs": [
    {
     "data": {
      "image/png": "[encoded data removed]",
      "text/plain": [
       "<Figure size 720x360 with 1 Axes>"
      ]
     },
     "metadata": {
      "needs_background": "light"
     },
     "output_type": "display_data"
    }
   ],
   "source": [
    "# строим график относительного изменения кумулятивной конверсии группы B к группе A.\n",
    "plt.figure(figsize=(10, 5))\n",
    "plt.plot(\n",
    "    merged_cumulative_revenue['date'],\n",
    "    (merged_cumulative_revenue['transactionIdB'] / merged_cumulative_revenue['visitorsB']) / (merged_cumulative_revenue['transactionIdA'] / merged_cumulative_revenue['visitorsA']) -1\n",
    ")\n",
    "plt.xticks(rotation=45)\n",
    "plt.title('График относительного изменения кумулятивной конверсии групп')\n",
    "plt.xlabel('дата')\n",
    "plt.ylabel('изменение конверсии')\n",
    "plt.axhline(y=0, color='grey', linestyle='-.')\n",
    "plt.axhline(y=0.14, color='black', linestyle='--');"
   ]
  },
  {
   "cell_type": "markdown",
   "metadata": {},
   "source": [
    "**Вывод:**\n",
    "\n",
    "График относительного изменения конверсии группы B быстро опередил группу А и стабильно удерживал лидирующие позиции."
   ]
  },
  {
   "cell_type": "code",
   "execution_count": 66,
   "metadata": {},
   "outputs": [
    {
     "data": {
      "text/html": [
       "<div>\n",
       "<style scoped>\n",
       "    .dataframe tbody tr th:only-of-type {\n",
       "        vertical-align: middle;\n",
       "    }\n",
       "\n",
       "    .dataframe tbody tr th {\n",
       "        vertical-align: top;\n",
       "    }\n",
       "\n",
       "    .dataframe thead th {\n",
       "        text-align: right;\n",
       "    }\n",
       "</style>\n",
       "<table border=\"1\" class=\"dataframe\">\n",
       "  <thead>\n",
       "    <tr style=\"text-align: right;\">\n",
       "      <th></th>\n",
       "      <th>transactionId</th>\n",
       "      <th>visitorId</th>\n",
       "      <th>date</th>\n",
       "      <th>revenue</th>\n",
       "      <th>group</th>\n",
       "    </tr>\n",
       "  </thead>\n",
       "  <tbody>\n",
       "    <tr>\n",
       "      <th>425</th>\n",
       "      <td>590470918</td>\n",
       "      <td>1920142716</td>\n",
       "      <td>2019-08-19</td>\n",
       "      <td>1294500</td>\n",
       "      <td>B</td>\n",
       "    </tr>\n",
       "    <tr>\n",
       "      <th>1196</th>\n",
       "      <td>3936777065</td>\n",
       "      <td>2108080724</td>\n",
       "      <td>2019-08-15</td>\n",
       "      <td>202740</td>\n",
       "      <td>B</td>\n",
       "    </tr>\n",
       "    <tr>\n",
       "      <th>1136</th>\n",
       "      <td>666610489</td>\n",
       "      <td>1307669133</td>\n",
       "      <td>2019-08-13</td>\n",
       "      <td>92550</td>\n",
       "      <td>A</td>\n",
       "    </tr>\n",
       "    <tr>\n",
       "      <th>744</th>\n",
       "      <td>3668308183</td>\n",
       "      <td>888512513</td>\n",
       "      <td>2019-08-27</td>\n",
       "      <td>86620</td>\n",
       "      <td>B</td>\n",
       "    </tr>\n",
       "    <tr>\n",
       "      <th>743</th>\n",
       "      <td>3603576309</td>\n",
       "      <td>4133034833</td>\n",
       "      <td>2019-08-09</td>\n",
       "      <td>67990</td>\n",
       "      <td>A</td>\n",
       "    </tr>\n",
       "    <tr>\n",
       "      <th>...</th>\n",
       "      <td>...</td>\n",
       "      <td>...</td>\n",
       "      <td>...</td>\n",
       "      <td>...</td>\n",
       "      <td>...</td>\n",
       "    </tr>\n",
       "    <tr>\n",
       "      <th>404</th>\n",
       "      <td>2052514069</td>\n",
       "      <td>1995481842</td>\n",
       "      <td>2019-08-28</td>\n",
       "      <td>70</td>\n",
       "      <td>B</td>\n",
       "    </tr>\n",
       "    <tr>\n",
       "      <th>933</th>\n",
       "      <td>3760662696</td>\n",
       "      <td>3577713868</td>\n",
       "      <td>2019-08-27</td>\n",
       "      <td>60</td>\n",
       "      <td>B</td>\n",
       "    </tr>\n",
       "    <tr>\n",
       "      <th>584</th>\n",
       "      <td>1126146019</td>\n",
       "      <td>2705308997</td>\n",
       "      <td>2019-08-20</td>\n",
       "      <td>50</td>\n",
       "      <td>A</td>\n",
       "    </tr>\n",
       "    <tr>\n",
       "      <th>756</th>\n",
       "      <td>125335873</td>\n",
       "      <td>3423937755</td>\n",
       "      <td>2019-08-30</td>\n",
       "      <td>50</td>\n",
       "      <td>B</td>\n",
       "    </tr>\n",
       "    <tr>\n",
       "      <th>459</th>\n",
       "      <td>863448794</td>\n",
       "      <td>2738601405</td>\n",
       "      <td>2019-08-19</td>\n",
       "      <td>50</td>\n",
       "      <td>B</td>\n",
       "    </tr>\n",
       "  </tbody>\n",
       "</table>\n",
       "<p>1016 rows × 5 columns</p>\n",
       "</div>"
      ],
      "text/plain": [
       "      transactionId   visitorId       date  revenue group\n",
       "425   590470918      1920142716 2019-08-19  1294500  B   \n",
       "1196  3936777065     2108080724 2019-08-15  202740   B   \n",
       "1136  666610489      1307669133 2019-08-13  92550    A   \n",
       "744   3668308183     888512513  2019-08-27  86620    B   \n",
       "743   3603576309     4133034833 2019-08-09  67990    A   \n",
       "...          ...            ...        ...    ...   ..   \n",
       "404   2052514069     1995481842 2019-08-28  70       B   \n",
       "933   3760662696     3577713868 2019-08-27  60       B   \n",
       "584   1126146019     2705308997 2019-08-20  50       A   \n",
       "756   125335873      3423937755 2019-08-30  50       B   \n",
       "459   863448794      2738601405 2019-08-19  50       B   \n",
       "\n",
       "[1016 rows x 5 columns]"
      ]
     },
     "execution_count": 66,
     "metadata": {},
     "output_type": "execute_result"
    }
   ],
   "source": [
    "# посмотрим максимальные стомости заказов\n",
    "orders.sort_values(by = 'revenue', ascending = False)"
   ]
  },
  {
   "cell_type": "code",
   "execution_count": 67,
   "metadata": {},
   "outputs": [
    {
     "data": {
      "text/plain": [
       "Text(0, 0.5, 'выручка')"
      ]
     },
     "execution_count": 67,
     "metadata": {},
     "output_type": "execute_result"
    },
    {
     "data": {
      "image/png": "[encoded data removed]",
      "text/plain": [
       "<Figure size 720x360 with 1 Axes>"
      ]
     },
     "metadata": {
      "needs_background": "light"
     },
     "output_type": "display_data"
    }
   ],
   "source": [
    "# строим точечный график количества заказов по пользователям\n",
    "x_value = pd.Series(range(0, orders['revenue'].count()))\n",
    "plt.figure(figsize = (10, 5))\n",
    "sns.scatterplot(x = x_value, y = 'revenue',  hue=\"group\", data = orders)\n",
    "plt.title('График количества заказов')\n",
    "plt.xlabel('дата')\n",
    "plt.ylabel('выручка')"
   ]
  },
  {
   "cell_type": "markdown",
   "metadata": {},
   "source": [
    "**Вывод:**\n",
    "\n",
    "На графике количества заказов можем наблюдать, что у нас есть одиночный крупный заказ, который и повлиял на резкий скачок в прошлых графиках."
   ]
  },
  {
   "cell_type": "code",
   "execution_count": 82,
   "metadata": {},
   "outputs": [
    {
     "name": "stdout",
     "output_type": "stream",
     "text": [
      "[26785. 53904.]\n"
     ]
    },
    {
     "data": {
      "image/png": "[encoded data removed]",
      "text/plain": [
       "<Figure size 720x360 with 1 Axes>"
      ]
     },
     "metadata": {
      "needs_background": "light"
     },
     "output_type": "display_data"
    }
   ],
   "source": [
    "# строим точечный график количества заказов без выбросов\n",
    "orders_clean = orders.query('revenue<200000')\n",
    "x_values = pd.Series(range(0,no_emission_orders['revenue'].count())) # сериес для оси Х\n",
    "plt.figure(figsize=(10, 5))\n",
    "sns.scatterplot(x=x_values, y=\"revenue\", hue=\"group\",\n",
    "                     data=orders_clean)\n",
    "plt.grid()\n",
    "plt.title('Точечный график количества заказов');\n",
    "print(np.percentile(orders['revenue'], [95, 99]))"
   ]
  },
  {
   "cell_type": "markdown",
   "metadata": {},
   "source": [
    "Тут уже не все так плохо, принимаем решение убрать все, что выше 99%."
   ]
  },
  {
   "cell_type": "code",
   "execution_count": 69,
   "metadata": {},
   "outputs": [],
   "source": [
    "# установим границу для устранение аномальных пользователей \n",
    "percentile_99 = np.percentile(orders['revenue'], [99])[0]\n",
    "no_emission_orders = orders.query('revenue <= @percentile_99')"
   ]
  },
  {
   "cell_type": "code",
   "execution_count": 70,
   "metadata": {},
   "outputs": [
    {
     "data": {
      "text/plain": [
       "Text(0.5, 1.0, 'Количество заказов на пользователя')"
      ]
     },
     "execution_count": 70,
     "metadata": {},
     "output_type": "execute_result"
    },
    {
     "data": {
      "image/png": "[encoded data removed]",
      "text/plain": [
       "<Figure size 432x288 with 1 Axes>"
      ]
     },
     "metadata": {
      "needs_background": "light"
     },
     "output_type": "display_data"
    }
   ],
   "source": [
    "# строим график распределения количества заказов \n",
    "count_orders = (orders.groupby('visitorId')['revenue'].count().reset_index())\n",
    "count_orders['revenue'].hist()\n",
    "plt.title('Количество заказов на пользователя')"
   ]
  },
  {
   "cell_type": "markdown",
   "metadata": {},
   "source": [
    "**Вывод:**\n",
    "\n",
    "Около 95% пользователей, если не больше делают по одному заказу, примерно 4% делают по 2 заказа и 1% пользователей делает три заказа.  "
   ]
  },
  {
   "cell_type": "code",
   "execution_count": 71,
   "metadata": {},
   "outputs": [
    {
     "data": {
      "image/png": "[encoded data removed]",
      "text/plain": [
       "<Figure size 720x360 with 1 Axes>"
      ]
     },
     "metadata": {
      "needs_background": "light"
     },
     "output_type": "display_data"
    }
   ],
   "source": [
    "# строим точечный график количества заказов по пользователям\n",
    "x_value = pd.Series(range(0, count_orders['revenue'].count()))\n",
    "plt.figure(figsize = (10, 5))\n",
    "plt.scatter(data = count_orders, x = x_value, y = 'revenue')\n",
    "plt.grid()\n",
    "plt.title('График количества заказов по пользователям')\n",
    "plt.yticks([0,1,2,3,4]);"
   ]
  },
  {
   "cell_type": "markdown",
   "metadata": {},
   "source": [
    "**Вывод:**\n",
    "\n",
    "Исходя из графика будет логично убрать из наших данных пользователей, у которых больше 2 заказов."
   ]
  },
  {
   "cell_type": "code",
   "execution_count": 72,
   "metadata": {},
   "outputs": [],
   "source": [
    "# установим границу для устранение аномальных пользователей \n",
    "percentile_99 = np.percentile(count_orders['revenue'], [99])[0]\n",
    "clean_data = count_orders.query('revenue <= @percentile_99')"
   ]
  },
  {
   "cell_type": "code",
   "execution_count": 73,
   "metadata": {},
   "outputs": [
    {
     "data": {
      "text/html": [
       "<div>\n",
       "<style scoped>\n",
       "    .dataframe tbody tr th:only-of-type {\n",
       "        vertical-align: middle;\n",
       "    }\n",
       "\n",
       "    .dataframe tbody tr th {\n",
       "        vertical-align: top;\n",
       "    }\n",
       "\n",
       "    .dataframe thead th {\n",
       "        text-align: right;\n",
       "    }\n",
       "</style>\n",
       "<table border=\"1\" class=\"dataframe\">\n",
       "  <thead>\n",
       "    <tr style=\"text-align: right;\">\n",
       "      <th></th>\n",
       "      <th>transactionId</th>\n",
       "      <th>visitorId</th>\n",
       "      <th>date</th>\n",
       "      <th>revenue</th>\n",
       "      <th>group</th>\n",
       "    </tr>\n",
       "  </thead>\n",
       "  <tbody>\n",
       "    <tr>\n",
       "      <th>0</th>\n",
       "      <td>3667963787</td>\n",
       "      <td>3312258926</td>\n",
       "      <td>2019-08-15</td>\n",
       "      <td>1650</td>\n",
       "      <td>B</td>\n",
       "    </tr>\n",
       "    <tr>\n",
       "      <th>1</th>\n",
       "      <td>2804400009</td>\n",
       "      <td>3642806036</td>\n",
       "      <td>2019-08-15</td>\n",
       "      <td>730</td>\n",
       "      <td>B</td>\n",
       "    </tr>\n",
       "    <tr>\n",
       "      <th>3</th>\n",
       "      <td>3797467345</td>\n",
       "      <td>1196621759</td>\n",
       "      <td>2019-08-15</td>\n",
       "      <td>9759</td>\n",
       "      <td>B</td>\n",
       "    </tr>\n",
       "    <tr>\n",
       "      <th>4</th>\n",
       "      <td>2282983706</td>\n",
       "      <td>2322279887</td>\n",
       "      <td>2019-08-15</td>\n",
       "      <td>2308</td>\n",
       "      <td>B</td>\n",
       "    </tr>\n",
       "    <tr>\n",
       "      <th>5</th>\n",
       "      <td>182168103</td>\n",
       "      <td>935554773</td>\n",
       "      <td>2019-08-15</td>\n",
       "      <td>2210</td>\n",
       "      <td>B</td>\n",
       "    </tr>\n",
       "  </tbody>\n",
       "</table>\n",
       "</div>"
      ],
      "text/plain": [
       "   transactionId   visitorId       date  revenue group\n",
       "0  3667963787     3312258926 2019-08-15  1650     B   \n",
       "1  2804400009     3642806036 2019-08-15  730      B   \n",
       "3  3797467345     1196621759 2019-08-15  9759     B   \n",
       "4  2282983706     2322279887 2019-08-15  2308     B   \n",
       "5  182168103      935554773  2019-08-15  2210     B   "
      ]
     },
     "execution_count": 73,
     "metadata": {},
     "output_type": "execute_result"
    }
   ],
   "source": [
    "# итоговая таблица заказов\n",
    "no_emission_orders = no_emission_orders.loc[no_emission_orders['visitorId'].isin(clean_data['visitorId'])]\n",
    "no_emission_orders.head()"
   ]
  },
  {
   "cell_type": "markdown",
   "metadata": {},
   "source": [
    "**Вывод:**\n",
    "\n",
    "* Сравнили выручку, средний чек и конверсию двух групп по сырым данным\n",
    "* Обнаружили серьезную аномалию в группе B, ей оказался крупный заказ\n",
    "* Была подготовлена таблица данных без аномалий\n"
   ]
  },
  {
   "cell_type": "markdown",
   "metadata": {},
   "source": [
    "## Статистическая значимость между группами."
   ]
  },
  {
   "cell_type": "code",
   "execution_count": 74,
   "metadata": {},
   "outputs": [],
   "source": [
    "# таблицы с данными по заказам на каждого пользователя\n",
    "count_orders_A = orders[orders['group']=='A'].groupby('visitorId')['transactionId'].nunique().reset_index()\n",
    "count_orders_A.columns=['visitorsId','revenue']\n",
    "\n",
    "count_orders_B = orders[orders['group']=='B'].groupby('visitorId')['transactionId'].nunique().reset_index()\n",
    "count_orders_B.columns=['visitorsId','revenue']\n",
    "\n",
    "not_buyers_A = pd.Series(0, index=np.arange(visitors[visitors['group']=='A']['visitors'].sum() - len(count_orders_A['revenue'])), name='orders')\n",
    "not_buyers_B = pd.Series(0, index=np.arange(visitors[visitors['group']=='B']['visitors'].sum() - len(count_orders_B['revenue'])), name='orders')"
   ]
  },
  {
   "cell_type": "code",
   "execution_count": 75,
   "metadata": {},
   "outputs": [],
   "source": [
    "# выборки с сырыми данными\n",
    "sampleA = pd.concat([count_orders_A['revenue'], not_buyers_A])\n",
    "sampleB = pd.concat([count_orders_B['revenue'], not_buyers_B])"
   ]
  },
  {
   "cell_type": "markdown",
   "metadata": {},
   "source": [
    "* H0 - конверсия групп равна\n",
    "* H1 - конверсия групп не равна\n",
    "* alpha = 5%"
   ]
  },
  {
   "cell_type": "code",
   "execution_count": 76,
   "metadata": {},
   "outputs": [
    {
     "name": "stdout",
     "output_type": "stream",
     "text": [
      "p_value: 0.01102\n",
      "Отвергаем нулевую гипотезу: разница статистически значима\n",
      "Средняя конверсия группы А: 2.5%\n",
      "Средняя конверсия группы B: 2.9%\n"
     ]
    }
   ],
   "source": [
    "alpha = 0.05\n",
    "results = st.mannwhitneyu(sampleA, sampleB, True, 'two-sided')\n",
    "print('p_value: {:.5f}'.format(results.pvalue))\n",
    "if results.pvalue < alpha:\n",
    "    print('Отвергаем нулевую гипотезу: разница статистически значима')\n",
    "else:\n",
    "    print('Не получилось отвергнуть нулевую гипотезу, вывод о различии сделать нельзя')\n",
    "print('Средняя конверсия группы А: {:.1%}'.format(sampleA.mean()))\n",
    "print('Средняя конверсия группы B: {:.1%}'.format(sampleB.mean()))"
   ]
  },
  {
   "cell_type": "markdown",
   "metadata": {},
   "source": [
    "**Вывод:**\n",
    "\n",
    "Отвергаем нулевую гипотизу о равенстве средний конверсий. В абсолютных значениях эта разница составила 0.4% что статистически значимым."
   ]
  },
  {
   "cell_type": "markdown",
   "metadata": {},
   "source": [
    "* H0 - средний чек групп равен\n",
    "* H1 - средний чек групп не равен\n",
    "* alpha = 5%"
   ]
  },
  {
   "cell_type": "code",
   "execution_count": 77,
   "metadata": {},
   "outputs": [
    {
     "name": "stdout",
     "output_type": "stream",
     "text": [
      "p_value: 0.82949\n",
      "Не получилось отвергнуть нулевую гипотезу, вывод о различии сделать нельзя\n",
      "Средний чек группы А: 7189.44\n",
      "Средний чек группы B: 9249.95\n"
     ]
    }
   ],
   "source": [
    "# найдем различия в среднем чеке заказа между группами по «сырым» данным\n",
    "alpha = 0.05\n",
    "results_2 = st.mannwhitneyu(orders[orders['group']=='A']['revenue'], orders[orders['group']=='B']['revenue'], True, 'two-sided')\n",
    "print('p_value: {:.5f}'.format(results_2.pvalue))\n",
    "if results_2.pvalue < alpha:\n",
    "    print('Отвергаем нулевую гипотезу: разница статистически значима')\n",
    "else:\n",
    "    print('Не получилось отвергнуть нулевую гипотезу, вывод о различии сделать нельзя')\n",
    "print('Средний чек группы А: {:.2f}'.format(orders[orders['group']=='A']['revenue'].mean()))\n",
    "print('Средний чек группы B: {:.2f}'.format(orders[orders['group']=='B']['revenue'].mean()))"
   ]
  },
  {
   "cell_type": "markdown",
   "metadata": {},
   "source": [
    "**Вывод:**\n",
    "\n",
    "Хоть разница средних чеков и составляет более 2000, мы не можем отвергнуть нулевую гипотезу, из-за не большой статистической значимости."
   ]
  },
  {
   "cell_type": "code",
   "execution_count": 78,
   "metadata": {},
   "outputs": [],
   "source": [
    "# очищенная таблица с данными по заказам на каждого пользователя\n",
    "count_orders_A = no_emission_orders[no_emission_orders['group']=='A'].groupby('visitorId')['transactionId'].nunique().reset_index()\n",
    "count_orders_A.columns=['visitorsId','orders']\n",
    "\n",
    "count_orders_B = no_emission_orders[no_emission_orders['group']=='B'].groupby('visitorId')['transactionId'].nunique().reset_index()\n",
    "count_orders_B.columns=['visitorsId','orders']\n",
    "\n",
    "not_buyers_A = pd.Series(0, index=np.arange(visitors[visitors['group']=='A']['visitors'].sum() - len(count_orders_A['orders'])), name='orders')\n",
    "not_buyers_B = pd.Series(0, index=np.arange(visitors[visitors['group']=='B']['visitors'].sum() - len(count_orders_B['orders'])), name='orders')"
   ]
  },
  {
   "cell_type": "code",
   "execution_count": 79,
   "metadata": {},
   "outputs": [],
   "source": [
    "# создаем выборки с чистыми данными для стат тестов\n",
    "sampleA = pd.concat([count_orders_A['orders'], not_buyers_A])\n",
    "sampleB = pd.concat([count_orders_B['orders'], not_buyers_B])"
   ]
  },
  {
   "cell_type": "code",
   "execution_count": 80,
   "metadata": {},
   "outputs": [
    {
     "name": "stdout",
     "output_type": "stream",
     "text": [
      "p_value: 0.00695\n",
      "Отвергаем нулевую гипотезу: разница статистически значима\n",
      "Средняя конверсия группы А: 2.4%\n",
      "Средняя конверсия группы B: 2.8%\n"
     ]
    }
   ],
   "source": [
    "alpha = 0.05\n",
    "results = st.mannwhitneyu(sampleA, sampleB, True, 'two-sided')\n",
    "print('p_value: {:.5f}'.format(results.pvalue))\n",
    "if results.pvalue < alpha:\n",
    "    print('Отвергаем нулевую гипотезу: разница статистически значима')\n",
    "else:\n",
    "    print('Не получилось отвергнуть нулевую гипотезу, вывод о различии сделать нельзя')\n",
    "print('Средняя конверсия группы А: {:.1%}'.format(sampleA.mean()))\n",
    "print('Средняя конверсия группы B: {:.1%}'.format(sampleB.mean()))"
   ]
  },
  {
   "cell_type": "markdown",
   "metadata": {},
   "source": [
    "**Вывод:**\n",
    "\n",
    "Относительно сырых данных конверсия немного уменьшилась и так же группа B на 0.4% обходит группу А. Отверагаем нулевую гипотезу о равенстве конверсий."
   ]
  },
  {
   "cell_type": "code",
   "execution_count": 81,
   "metadata": {},
   "outputs": [
    {
     "name": "stdout",
     "output_type": "stream",
     "text": [
      "p_value: 0.78770\n",
      "Не получилось отвергнуть нулевую гипотезу, вывод о различии сделать нельзя\n",
      "Средний чек группы А: 6487.02\n",
      "Средний чек группы B: 6277.27\n"
     ]
    }
   ],
   "source": [
    "# найдем различия в среднем чеке заказа между группами по «очищенным» данным\n",
    "alpha = 0.05\n",
    "results_2 = st.mannwhitneyu(no_emission_orders[no_emission_orders['group']=='A']['revenue'], no_emission_orders[no_emission_orders['group']=='B']['revenue'], True, 'two-sided')\n",
    "print('p_value: {:.5f}'.format(results_2.pvalue))\n",
    "if results_2.pvalue < alpha:\n",
    "    print('Отвергаем нулевую гипотезу: разница статистически значима')\n",
    "else:\n",
    "    print('Не получилось отвергнуть нулевую гипотезу, вывод о различии сделать нельзя')\n",
    "print('Средний чек группы А: {:.2f}'.format(no_emission_orders[no_emission_orders['group']=='A']['revenue'].mean()))\n",
    "print('Средний чек группы B: {:.2f}'.format(no_emission_orders[no_emission_orders['group']=='B']['revenue'].mean()))"
   ]
  },
  {
   "cell_type": "markdown",
   "metadata": {},
   "source": [
    "**Вывод:**\n",
    "\n",
    "Благодаря очищенным данным мы наблюдаем выравнивание средних чеков из разных групп, но по прежнему отвергнуть нулевую гипотезу мы не можем."
   ]
  },
  {
   "cell_type": "markdown",
   "metadata": {},
   "source": [
    "## Итоговый вывод:\n",
    "\n",
    "* Статистическая зависимость конверсии между двух групп.\n",
    "* Конверсия в группе B выше.\n",
    "* Очищенный средний чек группы В практически не отличается от группы А.\n",
    "* Средний чек у группы B немного меньше и статистических значимых различий не обнаружено.\n",
    "* Видно как после удаления аномалий уменьшилась максимальная выручка.\n",
    "* По результатам теста предлагаю остановить тест и признать группу B победителем, так как конверсия и размер куммулитивной выручки у нее больше чем у группы А."
   ]
  }
 ],
 "metadata": {
  "ExecuteTimeLog": [
   {
    "duration": 1359,
    "start_time": "2022-09-22T13:18:36.770Z"
   },
   {
    "duration": 137,
    "start_time": "2022-09-22T13:24:19.159Z"
   },
   {
    "duration": 30,
    "start_time": "2022-09-22T13:29:08.019Z"
   },
   {
    "duration": 9,
    "start_time": "2022-09-22T13:29:22.955Z"
   },
   {
    "duration": 14,
    "start_time": "2022-09-22T13:29:52.021Z"
   },
   {
    "duration": 11,
    "start_time": "2022-09-22T13:30:33.853Z"
   },
   {
    "duration": 8,
    "start_time": "2022-09-22T13:30:41.930Z"
   },
   {
    "duration": 5,
    "start_time": "2022-09-22T13:31:12.545Z"
   },
   {
    "duration": 8,
    "start_time": "2022-09-22T13:33:00.185Z"
   },
   {
    "duration": 5,
    "start_time": "2022-09-22T13:36:48.677Z"
   },
   {
    "duration": 7,
    "start_time": "2022-09-22T13:49:23.410Z"
   },
   {
    "duration": 14,
    "start_time": "2022-09-22T13:51:25.627Z"
   },
   {
    "duration": 12,
    "start_time": "2022-09-22T13:51:34.519Z"
   },
   {
    "duration": 12,
    "start_time": "2022-09-22T13:52:22.212Z"
   },
   {
    "duration": 6,
    "start_time": "2022-09-22T13:52:46.080Z"
   },
   {
    "duration": 11,
    "start_time": "2022-09-22T13:53:29.199Z"
   },
   {
    "duration": 1183,
    "start_time": "2022-09-22T13:54:40.458Z"
   },
   {
    "duration": 63,
    "start_time": "2022-09-22T13:54:41.644Z"
   },
   {
    "duration": 14,
    "start_time": "2022-09-22T13:54:41.709Z"
   },
   {
    "duration": 25,
    "start_time": "2022-09-22T13:54:41.725Z"
   },
   {
    "duration": 13,
    "start_time": "2022-09-22T13:54:41.752Z"
   },
   {
    "duration": 31,
    "start_time": "2022-09-22T13:54:41.767Z"
   },
   {
    "duration": 19,
    "start_time": "2022-09-22T13:54:41.800Z"
   },
   {
    "duration": 21,
    "start_time": "2022-09-22T13:54:41.821Z"
   },
   {
    "duration": 15,
    "start_time": "2022-09-22T13:54:41.844Z"
   },
   {
    "duration": 32,
    "start_time": "2022-09-22T13:54:41.861Z"
   },
   {
    "duration": 8,
    "start_time": "2022-09-22T13:57:43.819Z"
   },
   {
    "duration": 10,
    "start_time": "2022-09-22T13:58:07.568Z"
   },
   {
    "duration": 1135,
    "start_time": "2022-09-22T13:58:25.535Z"
   },
   {
    "duration": 65,
    "start_time": "2022-09-22T13:58:26.672Z"
   },
   {
    "duration": 14,
    "start_time": "2022-09-22T13:58:26.740Z"
   },
   {
    "duration": 19,
    "start_time": "2022-09-22T13:58:26.756Z"
   },
   {
    "duration": 8,
    "start_time": "2022-09-22T13:58:26.778Z"
   },
   {
    "duration": 12,
    "start_time": "2022-09-22T13:58:26.787Z"
   },
   {
    "duration": 12,
    "start_time": "2022-09-22T13:58:26.800Z"
   },
   {
    "duration": 12,
    "start_time": "2022-09-22T13:58:26.814Z"
   },
   {
    "duration": 8,
    "start_time": "2022-09-22T13:58:26.828Z"
   },
   {
    "duration": 14,
    "start_time": "2022-09-22T13:58:26.838Z"
   },
   {
    "duration": 13,
    "start_time": "2022-09-22T13:58:26.854Z"
   },
   {
    "duration": 36,
    "start_time": "2022-09-22T13:58:26.869Z"
   },
   {
    "duration": 1127,
    "start_time": "2022-09-22T13:59:24.325Z"
   },
   {
    "duration": 111,
    "start_time": "2022-09-22T13:59:25.455Z"
   },
   {
    "duration": 11,
    "start_time": "2022-09-22T13:59:25.568Z"
   },
   {
    "duration": 12,
    "start_time": "2022-09-22T13:59:25.580Z"
   },
   {
    "duration": 8,
    "start_time": "2022-09-22T13:59:25.594Z"
   },
   {
    "duration": 11,
    "start_time": "2022-09-22T13:59:25.603Z"
   },
   {
    "duration": 8,
    "start_time": "2022-09-22T13:59:25.616Z"
   },
   {
    "duration": 12,
    "start_time": "2022-09-22T13:59:25.626Z"
   },
   {
    "duration": 7,
    "start_time": "2022-09-22T13:59:25.639Z"
   },
   {
    "duration": 10,
    "start_time": "2022-09-22T13:59:25.648Z"
   },
   {
    "duration": 6,
    "start_time": "2022-09-22T13:59:25.659Z"
   },
   {
    "duration": 37,
    "start_time": "2022-09-22T13:59:25.667Z"
   },
   {
    "duration": 14,
    "start_time": "2022-09-22T14:00:31.624Z"
   },
   {
    "duration": 11,
    "start_time": "2022-09-22T14:25:12.971Z"
   },
   {
    "duration": 5,
    "start_time": "2022-09-22T14:25:44.320Z"
   },
   {
    "duration": 6,
    "start_time": "2022-09-22T14:34:30.061Z"
   },
   {
    "duration": 8,
    "start_time": "2022-09-22T14:35:52.908Z"
   },
   {
    "duration": 97,
    "start_time": "2022-09-22T14:36:24.873Z"
   },
   {
    "duration": 8,
    "start_time": "2022-09-22T14:36:57.141Z"
   },
   {
    "duration": 8,
    "start_time": "2022-09-22T14:37:13.519Z"
   },
   {
    "duration": 15,
    "start_time": "2022-09-22T14:37:26.697Z"
   },
   {
    "duration": 1118,
    "start_time": "2022-09-22T14:43:01.855Z"
   },
   {
    "duration": 74,
    "start_time": "2022-09-22T14:43:02.975Z"
   },
   {
    "duration": 17,
    "start_time": "2022-09-22T14:43:03.051Z"
   },
   {
    "duration": 26,
    "start_time": "2022-09-22T14:43:03.070Z"
   },
   {
    "duration": 10,
    "start_time": "2022-09-22T14:43:03.098Z"
   },
   {
    "duration": 14,
    "start_time": "2022-09-22T14:43:03.109Z"
   },
   {
    "duration": 13,
    "start_time": "2022-09-22T14:43:03.124Z"
   },
   {
    "duration": 24,
    "start_time": "2022-09-22T14:43:03.139Z"
   },
   {
    "duration": 15,
    "start_time": "2022-09-22T14:43:03.165Z"
   },
   {
    "duration": 25,
    "start_time": "2022-09-22T14:43:03.182Z"
   },
   {
    "duration": 10,
    "start_time": "2022-09-22T14:43:03.209Z"
   },
   {
    "duration": 14,
    "start_time": "2022-09-22T14:43:03.220Z"
   },
   {
    "duration": 15,
    "start_time": "2022-09-22T14:43:03.236Z"
   },
   {
    "duration": 12,
    "start_time": "2022-09-22T14:43:03.254Z"
   },
   {
    "duration": 6,
    "start_time": "2022-09-22T14:43:03.267Z"
   },
   {
    "duration": 31,
    "start_time": "2022-09-22T14:43:03.274Z"
   },
   {
    "duration": 3,
    "start_time": "2022-09-22T14:43:57.098Z"
   },
   {
    "duration": 1170,
    "start_time": "2022-09-22T14:44:02.140Z"
   },
   {
    "duration": 74,
    "start_time": "2022-09-22T14:44:03.312Z"
   },
   {
    "duration": 3,
    "start_time": "2022-09-22T14:44:03.389Z"
   },
   {
    "duration": 15,
    "start_time": "2022-09-22T14:44:03.395Z"
   },
   {
    "duration": 12,
    "start_time": "2022-09-22T14:44:03.412Z"
   },
   {
    "duration": 8,
    "start_time": "2022-09-22T14:44:03.426Z"
   },
   {
    "duration": 10,
    "start_time": "2022-09-22T14:44:03.436Z"
   },
   {
    "duration": 10,
    "start_time": "2022-09-22T14:44:03.448Z"
   },
   {
    "duration": 43,
    "start_time": "2022-09-22T14:44:03.460Z"
   },
   {
    "duration": 9,
    "start_time": "2022-09-22T14:44:03.506Z"
   },
   {
    "duration": 15,
    "start_time": "2022-09-22T14:44:03.517Z"
   },
   {
    "duration": 10,
    "start_time": "2022-09-22T14:44:03.533Z"
   },
   {
    "duration": 11,
    "start_time": "2022-09-22T14:44:03.545Z"
   },
   {
    "duration": 40,
    "start_time": "2022-09-22T14:44:03.558Z"
   },
   {
    "duration": 8,
    "start_time": "2022-09-22T14:44:03.600Z"
   },
   {
    "duration": 26,
    "start_time": "2022-09-22T14:44:03.610Z"
   },
   {
    "duration": 1310,
    "start_time": "2022-09-22T14:47:55.311Z"
   },
   {
    "duration": 5,
    "start_time": "2022-09-22T14:48:05.262Z"
   },
   {
    "duration": 10,
    "start_time": "2022-09-22T14:48:52.229Z"
   },
   {
    "duration": 11,
    "start_time": "2022-09-22T14:49:28.170Z"
   },
   {
    "duration": 10,
    "start_time": "2022-09-22T14:50:13.080Z"
   },
   {
    "duration": 10,
    "start_time": "2022-09-22T14:50:40.226Z"
   },
   {
    "duration": 1149,
    "start_time": "2022-09-22T14:51:44.318Z"
   },
   {
    "duration": 75,
    "start_time": "2022-09-22T14:51:45.469Z"
   },
   {
    "duration": 3,
    "start_time": "2022-09-22T14:51:45.545Z"
   },
   {
    "duration": 14,
    "start_time": "2022-09-22T14:51:45.550Z"
   },
   {
    "duration": 11,
    "start_time": "2022-09-22T14:51:45.566Z"
   },
   {
    "duration": 7,
    "start_time": "2022-09-22T14:51:45.578Z"
   },
   {
    "duration": 10,
    "start_time": "2022-09-22T14:51:45.587Z"
   },
   {
    "duration": 9,
    "start_time": "2022-09-22T14:51:45.599Z"
   },
   {
    "duration": 12,
    "start_time": "2022-09-22T14:51:45.610Z"
   },
   {
    "duration": 8,
    "start_time": "2022-09-22T14:51:45.623Z"
   },
   {
    "duration": 15,
    "start_time": "2022-09-22T14:51:45.633Z"
   },
   {
    "duration": 10,
    "start_time": "2022-09-22T14:51:45.650Z"
   },
   {
    "duration": 33,
    "start_time": "2022-09-22T14:51:45.662Z"
   },
   {
    "duration": 12,
    "start_time": "2022-09-22T14:51:45.699Z"
   },
   {
    "duration": 8,
    "start_time": "2022-09-22T14:51:45.712Z"
   },
   {
    "duration": 7,
    "start_time": "2022-09-22T14:51:45.722Z"
   },
   {
    "duration": 6,
    "start_time": "2022-09-22T14:51:45.730Z"
   },
   {
    "duration": 118,
    "start_time": "2022-09-22T14:51:45.737Z"
   },
   {
    "duration": 9,
    "start_time": "2022-09-22T14:52:05.115Z"
   },
   {
    "duration": 10,
    "start_time": "2022-09-22T14:52:49.732Z"
   },
   {
    "duration": 10,
    "start_time": "2022-09-22T14:53:27.615Z"
   },
   {
    "duration": 10,
    "start_time": "2022-09-22T16:00:21.232Z"
   },
   {
    "duration": 1296,
    "start_time": "2022-09-23T02:23:37.082Z"
   },
   {
    "duration": 198,
    "start_time": "2022-09-23T02:23:38.379Z"
   },
   {
    "duration": 3,
    "start_time": "2022-09-23T02:23:38.578Z"
   },
   {
    "duration": 14,
    "start_time": "2022-09-23T02:23:38.583Z"
   },
   {
    "duration": 10,
    "start_time": "2022-09-23T02:23:38.599Z"
   },
   {
    "duration": 12,
    "start_time": "2022-09-23T02:23:38.611Z"
   },
   {
    "duration": 15,
    "start_time": "2022-09-23T02:23:38.624Z"
   },
   {
    "duration": 14,
    "start_time": "2022-09-23T02:23:38.641Z"
   },
   {
    "duration": 17,
    "start_time": "2022-09-23T02:23:38.656Z"
   },
   {
    "duration": 8,
    "start_time": "2022-09-23T02:23:38.676Z"
   },
   {
    "duration": 24,
    "start_time": "2022-09-23T02:23:38.685Z"
   },
   {
    "duration": 7,
    "start_time": "2022-09-23T02:23:38.710Z"
   },
   {
    "duration": 12,
    "start_time": "2022-09-23T02:23:38.718Z"
   },
   {
    "duration": 9,
    "start_time": "2022-09-23T02:23:38.732Z"
   },
   {
    "duration": 8,
    "start_time": "2022-09-23T02:23:38.742Z"
   },
   {
    "duration": 6,
    "start_time": "2022-09-23T02:23:38.751Z"
   },
   {
    "duration": 125,
    "start_time": "2022-09-23T02:23:38.759Z"
   },
   {
    "duration": 11,
    "start_time": "2022-09-23T02:28:19.921Z"
   },
   {
    "duration": 9,
    "start_time": "2022-09-23T02:33:13.811Z"
   },
   {
    "duration": 3,
    "start_time": "2022-09-23T02:46:07.542Z"
   },
   {
    "duration": 1240,
    "start_time": "2022-09-23T02:46:14.101Z"
   },
   {
    "duration": 79,
    "start_time": "2022-09-23T02:46:15.343Z"
   },
   {
    "duration": 3,
    "start_time": "2022-09-23T02:46:15.424Z"
   },
   {
    "duration": 13,
    "start_time": "2022-09-23T02:46:15.429Z"
   },
   {
    "duration": 12,
    "start_time": "2022-09-23T02:46:15.444Z"
   },
   {
    "duration": 19,
    "start_time": "2022-09-23T02:46:15.458Z"
   },
   {
    "duration": 12,
    "start_time": "2022-09-23T02:46:15.479Z"
   },
   {
    "duration": 15,
    "start_time": "2022-09-23T02:46:15.492Z"
   },
   {
    "duration": 19,
    "start_time": "2022-09-23T02:46:15.508Z"
   },
   {
    "duration": 14,
    "start_time": "2022-09-23T02:46:15.529Z"
   },
   {
    "duration": 13,
    "start_time": "2022-09-23T02:46:15.544Z"
   },
   {
    "duration": 14,
    "start_time": "2022-09-23T02:46:15.558Z"
   },
   {
    "duration": 16,
    "start_time": "2022-09-23T02:46:15.574Z"
   },
   {
    "duration": 17,
    "start_time": "2022-09-23T02:46:15.593Z"
   },
   {
    "duration": 7,
    "start_time": "2022-09-23T02:46:15.612Z"
   },
   {
    "duration": 10,
    "start_time": "2022-09-23T02:46:15.621Z"
   },
   {
    "duration": 112,
    "start_time": "2022-09-23T02:46:15.632Z"
   },
   {
    "duration": 3,
    "start_time": "2022-09-23T02:46:34.641Z"
   },
   {
    "duration": 1067,
    "start_time": "2022-09-23T02:46:46.852Z"
   },
   {
    "duration": 79,
    "start_time": "2022-09-23T02:46:47.921Z"
   },
   {
    "duration": 3,
    "start_time": "2022-09-23T02:46:48.001Z"
   },
   {
    "duration": 11,
    "start_time": "2022-09-23T02:46:48.006Z"
   },
   {
    "duration": 11,
    "start_time": "2022-09-23T02:46:48.018Z"
   },
   {
    "duration": 6,
    "start_time": "2022-09-23T02:46:48.030Z"
   },
   {
    "duration": 8,
    "start_time": "2022-09-23T02:46:48.037Z"
   },
   {
    "duration": 7,
    "start_time": "2022-09-23T02:46:48.047Z"
   },
   {
    "duration": 11,
    "start_time": "2022-09-23T02:46:48.055Z"
   },
   {
    "duration": 42,
    "start_time": "2022-09-23T02:46:48.068Z"
   },
   {
    "duration": 16,
    "start_time": "2022-09-23T02:46:48.112Z"
   },
   {
    "duration": 13,
    "start_time": "2022-09-23T02:46:48.130Z"
   },
   {
    "duration": 11,
    "start_time": "2022-09-23T02:46:48.144Z"
   },
   {
    "duration": 12,
    "start_time": "2022-09-23T02:46:48.157Z"
   },
   {
    "duration": 6,
    "start_time": "2022-09-23T02:46:48.171Z"
   },
   {
    "duration": 33,
    "start_time": "2022-09-23T02:46:48.178Z"
   },
   {
    "duration": 110,
    "start_time": "2022-09-23T02:46:48.212Z"
   },
   {
    "duration": 9,
    "start_time": "2022-09-23T02:50:33.770Z"
   },
   {
    "duration": 1149,
    "start_time": "2022-09-23T02:51:01.940Z"
   },
   {
    "duration": 77,
    "start_time": "2022-09-23T02:51:03.090Z"
   },
   {
    "duration": 3,
    "start_time": "2022-09-23T02:51:03.168Z"
   },
   {
    "duration": 20,
    "start_time": "2022-09-23T02:51:03.173Z"
   },
   {
    "duration": 9,
    "start_time": "2022-09-23T02:51:03.195Z"
   },
   {
    "duration": 6,
    "start_time": "2022-09-23T02:51:03.206Z"
   },
   {
    "duration": 8,
    "start_time": "2022-09-23T02:51:03.214Z"
   },
   {
    "duration": 11,
    "start_time": "2022-09-23T02:51:03.224Z"
   },
   {
    "duration": 14,
    "start_time": "2022-09-23T02:51:03.237Z"
   },
   {
    "duration": 8,
    "start_time": "2022-09-23T02:51:03.253Z"
   },
   {
    "duration": 17,
    "start_time": "2022-09-23T02:51:03.263Z"
   },
   {
    "duration": 9,
    "start_time": "2022-09-23T02:51:03.281Z"
   },
   {
    "duration": 8,
    "start_time": "2022-09-23T02:51:03.309Z"
   },
   {
    "duration": 10,
    "start_time": "2022-09-23T02:51:03.319Z"
   },
   {
    "duration": 6,
    "start_time": "2022-09-23T02:51:03.330Z"
   },
   {
    "duration": 7,
    "start_time": "2022-09-23T02:51:03.338Z"
   },
   {
    "duration": 138,
    "start_time": "2022-09-23T02:51:03.346Z"
   },
   {
    "duration": 3,
    "start_time": "2022-09-23T02:52:04.360Z"
   },
   {
    "duration": 1188,
    "start_time": "2022-09-23T02:52:15.910Z"
   },
   {
    "duration": 78,
    "start_time": "2022-09-23T02:52:17.100Z"
   },
   {
    "duration": 3,
    "start_time": "2022-09-23T02:52:17.179Z"
   },
   {
    "duration": 13,
    "start_time": "2022-09-23T02:52:17.184Z"
   },
   {
    "duration": 10,
    "start_time": "2022-09-23T02:52:17.199Z"
   },
   {
    "duration": 6,
    "start_time": "2022-09-23T02:52:17.211Z"
   },
   {
    "duration": 13,
    "start_time": "2022-09-23T02:52:17.218Z"
   },
   {
    "duration": 13,
    "start_time": "2022-09-23T02:52:17.233Z"
   },
   {
    "duration": 15,
    "start_time": "2022-09-23T02:52:17.248Z"
   },
   {
    "duration": 10,
    "start_time": "2022-09-23T02:52:17.265Z"
   },
   {
    "duration": 33,
    "start_time": "2022-09-23T02:52:17.276Z"
   },
   {
    "duration": 9,
    "start_time": "2022-09-23T02:52:17.310Z"
   },
   {
    "duration": 17,
    "start_time": "2022-09-23T02:52:17.321Z"
   },
   {
    "duration": 26,
    "start_time": "2022-09-23T02:52:17.341Z"
   },
   {
    "duration": 7,
    "start_time": "2022-09-23T02:52:17.369Z"
   },
   {
    "duration": 7,
    "start_time": "2022-09-23T02:52:17.378Z"
   },
   {
    "duration": 25,
    "start_time": "2022-09-23T02:52:17.386Z"
   },
   {
    "duration": 114,
    "start_time": "2022-09-23T02:52:17.413Z"
   },
   {
    "duration": 9,
    "start_time": "2022-09-23T02:53:43.414Z"
   },
   {
    "duration": 1040,
    "start_time": "2022-09-23T02:54:07.766Z"
   },
   {
    "duration": 77,
    "start_time": "2022-09-23T02:54:08.808Z"
   },
   {
    "duration": 3,
    "start_time": "2022-09-23T02:54:08.886Z"
   },
   {
    "duration": 27,
    "start_time": "2022-09-23T02:54:08.890Z"
   },
   {
    "duration": 12,
    "start_time": "2022-09-23T02:54:08.919Z"
   },
   {
    "duration": 5,
    "start_time": "2022-09-23T02:54:08.932Z"
   },
   {
    "duration": 9,
    "start_time": "2022-09-23T02:54:08.938Z"
   },
   {
    "duration": 15,
    "start_time": "2022-09-23T02:54:08.948Z"
   },
   {
    "duration": 16,
    "start_time": "2022-09-23T02:54:08.964Z"
   },
   {
    "duration": 32,
    "start_time": "2022-09-23T02:54:08.981Z"
   },
   {
    "duration": 11,
    "start_time": "2022-09-23T02:54:09.015Z"
   },
   {
    "duration": 12,
    "start_time": "2022-09-23T02:54:09.028Z"
   },
   {
    "duration": 15,
    "start_time": "2022-09-23T02:54:09.042Z"
   },
   {
    "duration": 17,
    "start_time": "2022-09-23T02:54:09.059Z"
   },
   {
    "duration": 6,
    "start_time": "2022-09-23T02:54:09.077Z"
   },
   {
    "duration": 27,
    "start_time": "2022-09-23T02:54:09.084Z"
   },
   {
    "duration": 121,
    "start_time": "2022-09-23T02:54:09.112Z"
   },
   {
    "duration": 0,
    "start_time": "2022-09-23T02:54:09.234Z"
   },
   {
    "duration": 0,
    "start_time": "2022-09-23T02:54:09.236Z"
   },
   {
    "duration": 8,
    "start_time": "2022-09-23T02:54:24.050Z"
   },
   {
    "duration": 10,
    "start_time": "2022-09-23T02:58:47.247Z"
   },
   {
    "duration": 91,
    "start_time": "2022-09-23T03:03:45.764Z"
   },
   {
    "duration": 9,
    "start_time": "2022-09-23T03:04:13.953Z"
   },
   {
    "duration": 9,
    "start_time": "2022-09-23T03:06:33.747Z"
   },
   {
    "duration": 1169,
    "start_time": "2022-09-23T03:14:14.324Z"
   },
   {
    "duration": 77,
    "start_time": "2022-09-23T03:14:15.495Z"
   },
   {
    "duration": 2,
    "start_time": "2022-09-23T03:14:15.574Z"
   },
   {
    "duration": 14,
    "start_time": "2022-09-23T03:14:15.578Z"
   },
   {
    "duration": 10,
    "start_time": "2022-09-23T03:14:15.594Z"
   },
   {
    "duration": 4,
    "start_time": "2022-09-23T03:14:15.606Z"
   },
   {
    "duration": 12,
    "start_time": "2022-09-23T03:14:15.612Z"
   },
   {
    "duration": 14,
    "start_time": "2022-09-23T03:14:15.626Z"
   },
   {
    "duration": 11,
    "start_time": "2022-09-23T03:14:15.642Z"
   },
   {
    "duration": 5,
    "start_time": "2022-09-23T03:14:15.656Z"
   },
   {
    "duration": 13,
    "start_time": "2022-09-23T03:14:15.663Z"
   },
   {
    "duration": 32,
    "start_time": "2022-09-23T03:14:15.677Z"
   },
   {
    "duration": 10,
    "start_time": "2022-09-23T03:14:15.711Z"
   },
   {
    "duration": 13,
    "start_time": "2022-09-23T03:14:15.723Z"
   },
   {
    "duration": 6,
    "start_time": "2022-09-23T03:14:15.738Z"
   },
   {
    "duration": 10,
    "start_time": "2022-09-23T03:14:15.746Z"
   },
   {
    "duration": 20,
    "start_time": "2022-09-23T03:14:15.758Z"
   },
   {
    "duration": 31,
    "start_time": "2022-09-23T03:14:15.780Z"
   },
   {
    "duration": 16,
    "start_time": "2022-09-23T03:14:15.813Z"
   },
   {
    "duration": 14,
    "start_time": "2022-09-23T03:58:02.890Z"
   },
   {
    "duration": 19,
    "start_time": "2022-09-23T03:59:07.907Z"
   },
   {
    "duration": 22,
    "start_time": "2022-09-23T03:59:24.692Z"
   },
   {
    "duration": 12,
    "start_time": "2022-09-23T03:59:37.622Z"
   },
   {
    "duration": 10,
    "start_time": "2022-09-23T04:08:08.496Z"
   },
   {
    "duration": 14,
    "start_time": "2022-09-23T04:08:51.266Z"
   },
   {
    "duration": 9,
    "start_time": "2022-09-23T04:09:54.745Z"
   },
   {
    "duration": 6,
    "start_time": "2022-09-23T04:15:53.134Z"
   },
   {
    "duration": 9,
    "start_time": "2022-09-23T04:18:17.648Z"
   },
   {
    "duration": 6,
    "start_time": "2022-09-23T04:23:36.656Z"
   },
   {
    "duration": 108,
    "start_time": "2022-09-23T04:23:52.942Z"
   },
   {
    "duration": 10,
    "start_time": "2022-09-23T04:24:07.150Z"
   },
   {
    "duration": 35,
    "start_time": "2022-09-23T04:24:17.109Z"
   },
   {
    "duration": 23,
    "start_time": "2022-09-23T04:25:25.099Z"
   },
   {
    "duration": 34,
    "start_time": "2022-09-23T04:30:34.534Z"
   },
   {
    "duration": 172,
    "start_time": "2022-09-23T04:33:41.539Z"
   },
   {
    "duration": 9,
    "start_time": "2022-09-23T04:38:17.342Z"
   },
   {
    "duration": 10,
    "start_time": "2022-09-23T04:38:25.963Z"
   },
   {
    "duration": 10,
    "start_time": "2022-09-23T04:39:11.349Z"
   },
   {
    "duration": 123,
    "start_time": "2022-09-23T04:53:19.337Z"
   },
   {
    "duration": 172,
    "start_time": "2022-09-23T04:54:16.655Z"
   },
   {
    "duration": 1145,
    "start_time": "2022-09-23T04:54:30.683Z"
   },
   {
    "duration": 85,
    "start_time": "2022-09-23T04:54:31.830Z"
   },
   {
    "duration": 3,
    "start_time": "2022-09-23T04:54:31.926Z"
   },
   {
    "duration": 24,
    "start_time": "2022-09-23T04:54:31.931Z"
   },
   {
    "duration": 18,
    "start_time": "2022-09-23T04:54:31.957Z"
   },
   {
    "duration": 12,
    "start_time": "2022-09-23T04:54:31.977Z"
   },
   {
    "duration": 14,
    "start_time": "2022-09-23T04:54:31.991Z"
   },
   {
    "duration": 24,
    "start_time": "2022-09-23T04:54:32.007Z"
   },
   {
    "duration": 14,
    "start_time": "2022-09-23T04:54:32.033Z"
   },
   {
    "duration": 7,
    "start_time": "2022-09-23T04:54:32.050Z"
   },
   {
    "duration": 15,
    "start_time": "2022-09-23T04:54:32.059Z"
   },
   {
    "duration": 22,
    "start_time": "2022-09-23T04:54:32.075Z"
   },
   {
    "duration": 26,
    "start_time": "2022-09-23T04:54:32.099Z"
   },
   {
    "duration": 21,
    "start_time": "2022-09-23T04:54:32.126Z"
   },
   {
    "duration": 17,
    "start_time": "2022-09-23T04:54:32.148Z"
   },
   {
    "duration": 20,
    "start_time": "2022-09-23T04:54:32.167Z"
   },
   {
    "duration": 14,
    "start_time": "2022-09-23T04:54:32.188Z"
   },
   {
    "duration": 51,
    "start_time": "2022-09-23T04:54:32.204Z"
   },
   {
    "duration": 20,
    "start_time": "2022-09-23T04:54:32.257Z"
   },
   {
    "duration": 9,
    "start_time": "2022-09-23T04:54:32.278Z"
   },
   {
    "duration": 9,
    "start_time": "2022-09-23T04:54:32.288Z"
   },
   {
    "duration": 232,
    "start_time": "2022-09-23T04:54:32.299Z"
   },
   {
    "duration": 136,
    "start_time": "2022-09-23T04:54:32.533Z"
   },
   {
    "duration": 7,
    "start_time": "2022-09-23T04:56:56.487Z"
   },
   {
    "duration": 65,
    "start_time": "2022-09-23T04:59:46.793Z"
   },
   {
    "duration": 142,
    "start_time": "2022-09-23T05:00:03.025Z"
   },
   {
    "duration": 166,
    "start_time": "2022-09-23T05:00:10.305Z"
   },
   {
    "duration": 9,
    "start_time": "2022-09-23T05:00:26.827Z"
   },
   {
    "duration": 11,
    "start_time": "2022-09-23T05:00:47.465Z"
   },
   {
    "duration": 1290,
    "start_time": "2022-09-23T05:03:05.016Z"
   },
   {
    "duration": 82,
    "start_time": "2022-09-23T05:03:06.310Z"
   },
   {
    "duration": 3,
    "start_time": "2022-09-23T05:03:06.393Z"
   },
   {
    "duration": 14,
    "start_time": "2022-09-23T05:03:06.398Z"
   },
   {
    "duration": 15,
    "start_time": "2022-09-23T05:03:06.413Z"
   },
   {
    "duration": 12,
    "start_time": "2022-09-23T05:03:06.430Z"
   },
   {
    "duration": 19,
    "start_time": "2022-09-23T05:03:06.444Z"
   },
   {
    "duration": 23,
    "start_time": "2022-09-23T05:03:06.464Z"
   },
   {
    "duration": 18,
    "start_time": "2022-09-23T05:03:06.490Z"
   },
   {
    "duration": 13,
    "start_time": "2022-09-23T05:03:06.512Z"
   },
   {
    "duration": 26,
    "start_time": "2022-09-23T05:03:06.527Z"
   },
   {
    "duration": 11,
    "start_time": "2022-09-23T05:03:06.555Z"
   },
   {
    "duration": 18,
    "start_time": "2022-09-23T05:03:06.568Z"
   },
   {
    "duration": 25,
    "start_time": "2022-09-23T05:03:06.587Z"
   },
   {
    "duration": 17,
    "start_time": "2022-09-23T05:03:06.616Z"
   },
   {
    "duration": 19,
    "start_time": "2022-09-23T05:03:06.635Z"
   },
   {
    "duration": 14,
    "start_time": "2022-09-23T05:03:06.656Z"
   },
   {
    "duration": 24,
    "start_time": "2022-09-23T05:03:06.672Z"
   },
   {
    "duration": 23,
    "start_time": "2022-09-23T05:03:06.697Z"
   },
   {
    "duration": 10,
    "start_time": "2022-09-23T05:03:06.722Z"
   },
   {
    "duration": 19,
    "start_time": "2022-09-23T05:03:06.734Z"
   },
   {
    "duration": 186,
    "start_time": "2022-09-23T05:03:06.756Z"
   },
   {
    "duration": 154,
    "start_time": "2022-09-23T05:03:06.944Z"
   },
   {
    "duration": 20,
    "start_time": "2022-09-23T05:03:07.100Z"
   },
   {
    "duration": 17,
    "start_time": "2022-09-23T05:03:07.122Z"
   },
   {
    "duration": 113,
    "start_time": "2022-09-23T05:15:46.627Z"
   },
   {
    "duration": 17,
    "start_time": "2022-09-23T05:16:03.978Z"
   },
   {
    "duration": 17,
    "start_time": "2022-09-23T05:16:22.893Z"
   },
   {
    "duration": 21,
    "start_time": "2022-09-23T05:21:07.266Z"
   },
   {
    "duration": 12,
    "start_time": "2022-09-23T05:21:26.535Z"
   },
   {
    "duration": 22,
    "start_time": "2022-09-23T05:21:50.622Z"
   },
   {
    "duration": 15,
    "start_time": "2022-09-23T05:22:33.705Z"
   },
   {
    "duration": 17,
    "start_time": "2022-09-23T05:22:40.390Z"
   },
   {
    "duration": 16,
    "start_time": "2022-09-23T05:23:59.668Z"
   },
   {
    "duration": 290,
    "start_time": "2022-09-23T05:24:19.916Z"
   },
   {
    "duration": 176,
    "start_time": "2022-09-23T05:40:50.663Z"
   },
   {
    "duration": 244,
    "start_time": "2022-09-23T05:41:01.131Z"
   },
   {
    "duration": 174,
    "start_time": "2022-09-23T05:41:09.000Z"
   },
   {
    "duration": 156,
    "start_time": "2022-09-23T05:46:40.960Z"
   },
   {
    "duration": 175,
    "start_time": "2022-09-23T05:46:58.871Z"
   },
   {
    "duration": 10,
    "start_time": "2022-09-23T05:54:28.896Z"
   },
   {
    "duration": 9,
    "start_time": "2022-09-23T05:54:33.636Z"
   },
   {
    "duration": 686,
    "start_time": "2022-09-23T05:56:37.444Z"
   },
   {
    "duration": 735,
    "start_time": "2022-09-23T05:59:03.817Z"
   },
   {
    "duration": 697,
    "start_time": "2022-09-23T05:59:22.068Z"
   },
   {
    "duration": 779,
    "start_time": "2022-09-23T06:00:57.386Z"
   },
   {
    "duration": 321,
    "start_time": "2022-09-23T06:01:46.366Z"
   },
   {
    "duration": 43,
    "start_time": "2022-09-23T17:01:11.456Z"
   },
   {
    "duration": 1264,
    "start_time": "2022-09-23T17:01:37.941Z"
   },
   {
    "duration": 251,
    "start_time": "2022-09-23T17:01:39.207Z"
   },
   {
    "duration": 3,
    "start_time": "2022-09-23T17:01:39.463Z"
   },
   {
    "duration": 14,
    "start_time": "2022-09-23T17:01:39.468Z"
   },
   {
    "duration": 13,
    "start_time": "2022-09-23T17:01:39.483Z"
   },
   {
    "duration": 7,
    "start_time": "2022-09-23T17:01:39.498Z"
   },
   {
    "duration": 11,
    "start_time": "2022-09-23T17:01:39.506Z"
   },
   {
    "duration": 27,
    "start_time": "2022-09-23T17:01:39.519Z"
   },
   {
    "duration": 11,
    "start_time": "2022-09-23T17:01:39.549Z"
   },
   {
    "duration": 6,
    "start_time": "2022-09-23T17:01:39.562Z"
   },
   {
    "duration": 12,
    "start_time": "2022-09-23T17:01:39.570Z"
   },
   {
    "duration": 6,
    "start_time": "2022-09-23T17:01:39.583Z"
   },
   {
    "duration": 14,
    "start_time": "2022-09-23T17:01:39.591Z"
   },
   {
    "duration": 20,
    "start_time": "2022-09-23T17:01:39.606Z"
   },
   {
    "duration": 24,
    "start_time": "2022-09-23T17:01:39.628Z"
   },
   {
    "duration": 18,
    "start_time": "2022-09-23T17:01:39.654Z"
   },
   {
    "duration": 23,
    "start_time": "2022-09-23T17:01:39.674Z"
   },
   {
    "duration": 36,
    "start_time": "2022-09-23T17:01:39.699Z"
   },
   {
    "duration": 20,
    "start_time": "2022-09-23T17:01:39.737Z"
   },
   {
    "duration": 13,
    "start_time": "2022-09-23T17:01:39.758Z"
   },
   {
    "duration": 275,
    "start_time": "2022-09-23T17:01:39.773Z"
   },
   {
    "duration": 166,
    "start_time": "2022-09-23T17:01:40.050Z"
   },
   {
    "duration": 135,
    "start_time": "2022-09-23T17:01:40.218Z"
   },
   {
    "duration": 10,
    "start_time": "2022-09-23T17:01:40.354Z"
   },
   {
    "duration": 281,
    "start_time": "2022-09-23T17:01:40.365Z"
   },
   {
    "duration": 205,
    "start_time": "2022-09-23T17:01:40.647Z"
   },
   {
    "duration": 369,
    "start_time": "2022-09-23T17:01:40.856Z"
   },
   {
    "duration": 138,
    "start_time": "2022-09-23T17:01:41.227Z"
   },
   {
    "duration": 11,
    "start_time": "2022-09-23T17:03:57.088Z"
   },
   {
    "duration": 1260,
    "start_time": "2022-09-23T17:04:20.697Z"
   },
   {
    "duration": 198,
    "start_time": "2022-09-23T17:04:39.557Z"
   },
   {
    "duration": 169,
    "start_time": "2022-09-23T17:06:10.648Z"
   },
   {
    "duration": 48,
    "start_time": "2022-09-24T02:18:03.047Z"
   },
   {
    "duration": 1343,
    "start_time": "2022-09-24T02:18:09.760Z"
   },
   {
    "duration": 196,
    "start_time": "2022-09-24T02:18:11.106Z"
   },
   {
    "duration": 2,
    "start_time": "2022-09-24T02:18:11.304Z"
   },
   {
    "duration": 23,
    "start_time": "2022-09-24T02:18:11.308Z"
   },
   {
    "duration": 14,
    "start_time": "2022-09-24T02:18:11.333Z"
   },
   {
    "duration": 9,
    "start_time": "2022-09-24T02:18:11.348Z"
   },
   {
    "duration": 12,
    "start_time": "2022-09-24T02:18:11.359Z"
   },
   {
    "duration": 11,
    "start_time": "2022-09-24T02:18:11.373Z"
   },
   {
    "duration": 18,
    "start_time": "2022-09-24T02:18:11.386Z"
   },
   {
    "duration": 7,
    "start_time": "2022-09-24T02:18:11.406Z"
   },
   {
    "duration": 42,
    "start_time": "2022-09-24T02:18:11.415Z"
   },
   {
    "duration": 16,
    "start_time": "2022-09-24T02:18:11.460Z"
   },
   {
    "duration": 35,
    "start_time": "2022-09-24T02:18:11.478Z"
   },
   {
    "duration": 23,
    "start_time": "2022-09-24T02:18:11.517Z"
   },
   {
    "duration": 18,
    "start_time": "2022-09-24T02:18:11.543Z"
   },
   {
    "duration": 28,
    "start_time": "2022-09-24T02:18:11.563Z"
   },
   {
    "duration": 19,
    "start_time": "2022-09-24T02:18:11.593Z"
   },
   {
    "duration": 25,
    "start_time": "2022-09-24T02:18:11.613Z"
   },
   {
    "duration": 25,
    "start_time": "2022-09-24T02:18:11.640Z"
   },
   {
    "duration": 19,
    "start_time": "2022-09-24T02:18:11.667Z"
   },
   {
    "duration": 23,
    "start_time": "2022-09-24T02:18:11.688Z"
   },
   {
    "duration": 176,
    "start_time": "2022-09-24T02:18:11.713Z"
   },
   {
    "duration": 129,
    "start_time": "2022-09-24T02:18:11.891Z"
   },
   {
    "duration": 12,
    "start_time": "2022-09-24T02:18:12.022Z"
   },
   {
    "duration": 277,
    "start_time": "2022-09-24T02:18:12.036Z"
   },
   {
    "duration": 211,
    "start_time": "2022-09-24T02:18:12.315Z"
   },
   {
    "duration": 344,
    "start_time": "2022-09-24T02:18:12.528Z"
   },
   {
    "duration": 206,
    "start_time": "2022-09-24T02:18:12.873Z"
   },
   {
    "duration": 103,
    "start_time": "2022-09-24T02:18:13.080Z"
   },
   {
    "duration": 0,
    "start_time": "2022-09-24T02:18:13.184Z"
   },
   {
    "duration": 12,
    "start_time": "2022-09-24T02:18:34.252Z"
   },
   {
    "duration": 13,
    "start_time": "2022-09-24T02:20:00.064Z"
   },
   {
    "duration": 337,
    "start_time": "2022-09-24T02:20:41.242Z"
   },
   {
    "duration": 281,
    "start_time": "2022-09-24T02:23:16.515Z"
   },
   {
    "duration": 11,
    "start_time": "2022-09-24T02:23:36.298Z"
   },
   {
    "duration": 304,
    "start_time": "2022-09-24T02:27:15.427Z"
   },
   {
    "duration": 385,
    "start_time": "2022-09-24T02:27:25.276Z"
   },
   {
    "duration": 277,
    "start_time": "2022-09-24T02:27:30.098Z"
   },
   {
    "duration": 285,
    "start_time": "2022-09-24T02:28:59.556Z"
   },
   {
    "duration": 301,
    "start_time": "2022-09-24T02:29:09.844Z"
   },
   {
    "duration": 289,
    "start_time": "2022-09-24T02:29:14.630Z"
   },
   {
    "duration": 14,
    "start_time": "2022-09-24T02:57:17.008Z"
   },
   {
    "duration": 12,
    "start_time": "2022-09-24T02:57:37.240Z"
   },
   {
    "duration": 12,
    "start_time": "2022-09-24T02:57:42.048Z"
   },
   {
    "duration": 135,
    "start_time": "2022-09-24T02:58:26.129Z"
   },
   {
    "duration": 157,
    "start_time": "2022-09-24T02:58:47.000Z"
   },
   {
    "duration": 151,
    "start_time": "2022-09-24T02:58:54.800Z"
   },
   {
    "duration": 152,
    "start_time": "2022-09-24T02:59:07.338Z"
   },
   {
    "duration": 164,
    "start_time": "2022-09-24T02:59:11.567Z"
   },
   {
    "duration": 54,
    "start_time": "2022-09-24T03:01:16.628Z"
   },
   {
    "duration": 122,
    "start_time": "2022-09-24T03:01:22.900Z"
   },
   {
    "duration": 149,
    "start_time": "2022-09-24T03:02:12.217Z"
   },
   {
    "duration": 6,
    "start_time": "2022-09-24T03:08:25.337Z"
   },
   {
    "duration": 12,
    "start_time": "2022-09-24T03:08:49.361Z"
   },
   {
    "duration": 10,
    "start_time": "2022-09-24T03:09:03.992Z"
   },
   {
    "duration": 9,
    "start_time": "2022-09-24T03:09:09.360Z"
   },
   {
    "duration": 6,
    "start_time": "2022-09-24T03:10:36.389Z"
   },
   {
    "duration": 12,
    "start_time": "2022-09-24T03:11:10.752Z"
   },
   {
    "duration": 14,
    "start_time": "2022-09-24T03:11:17.694Z"
   },
   {
    "duration": 8,
    "start_time": "2022-09-24T03:11:34.544Z"
   },
   {
    "duration": 13,
    "start_time": "2022-09-24T03:11:42.297Z"
   },
   {
    "duration": 13,
    "start_time": "2022-09-24T03:13:08.941Z"
   },
   {
    "duration": 7,
    "start_time": "2022-09-24T03:27:04.816Z"
   },
   {
    "duration": 6,
    "start_time": "2022-09-24T03:34:44.775Z"
   },
   {
    "duration": 139,
    "start_time": "2022-09-24T03:37:02.648Z"
   },
   {
    "duration": 3,
    "start_time": "2022-09-24T03:38:18.646Z"
   },
   {
    "duration": 12,
    "start_time": "2022-09-24T03:38:25.393Z"
   },
   {
    "duration": 234,
    "start_time": "2022-09-24T03:38:48.008Z"
   },
   {
    "duration": 10,
    "start_time": "2022-09-24T03:41:49.551Z"
   },
   {
    "duration": 10,
    "start_time": "2022-09-24T03:42:34.317Z"
   },
   {
    "duration": 137,
    "start_time": "2022-09-24T03:43:04.031Z"
   },
   {
    "duration": 142,
    "start_time": "2022-09-24T03:43:50.119Z"
   },
   {
    "duration": 12,
    "start_time": "2022-09-24T03:51:42.681Z"
   },
   {
    "duration": 46,
    "start_time": "2022-09-25T06:11:28.050Z"
   },
   {
    "duration": 1301,
    "start_time": "2022-09-25T06:11:33.106Z"
   },
   {
    "duration": 181,
    "start_time": "2022-09-25T06:11:34.410Z"
   },
   {
    "duration": 3,
    "start_time": "2022-09-25T06:11:34.593Z"
   },
   {
    "duration": 13,
    "start_time": "2022-09-25T06:11:34.597Z"
   },
   {
    "duration": 11,
    "start_time": "2022-09-25T06:11:34.612Z"
   },
   {
    "duration": 6,
    "start_time": "2022-09-25T06:11:34.625Z"
   },
   {
    "duration": 9,
    "start_time": "2022-09-25T06:11:34.633Z"
   },
   {
    "duration": 11,
    "start_time": "2022-09-25T06:11:34.643Z"
   },
   {
    "duration": 10,
    "start_time": "2022-09-25T06:11:34.656Z"
   },
   {
    "duration": 5,
    "start_time": "2022-09-25T06:11:34.668Z"
   },
   {
    "duration": 11,
    "start_time": "2022-09-25T06:11:34.675Z"
   },
   {
    "duration": 8,
    "start_time": "2022-09-25T06:11:34.688Z"
   },
   {
    "duration": 36,
    "start_time": "2022-09-25T06:11:34.698Z"
   },
   {
    "duration": 10,
    "start_time": "2022-09-25T06:11:34.736Z"
   },
   {
    "duration": 15,
    "start_time": "2022-09-25T06:11:34.748Z"
   },
   {
    "duration": 16,
    "start_time": "2022-09-25T06:11:34.765Z"
   },
   {
    "duration": 12,
    "start_time": "2022-09-25T06:11:34.782Z"
   },
   {
    "duration": 17,
    "start_time": "2022-09-25T06:11:34.796Z"
   },
   {
    "duration": 28,
    "start_time": "2022-09-25T06:11:34.815Z"
   },
   {
    "duration": 6,
    "start_time": "2022-09-25T06:11:34.845Z"
   },
   {
    "duration": 7,
    "start_time": "2022-09-25T06:11:34.853Z"
   },
   {
    "duration": 159,
    "start_time": "2022-09-25T06:11:34.861Z"
   },
   {
    "duration": 124,
    "start_time": "2022-09-25T06:11:35.022Z"
   },
   {
    "duration": 10,
    "start_time": "2022-09-25T06:11:35.148Z"
   },
   {
    "duration": 267,
    "start_time": "2022-09-25T06:11:35.160Z"
   },
   {
    "duration": 175,
    "start_time": "2022-09-25T06:11:35.433Z"
   },
   {
    "duration": 348,
    "start_time": "2022-09-25T06:11:35.610Z"
   },
   {
    "duration": 192,
    "start_time": "2022-09-25T06:11:35.960Z"
   },
   {
    "duration": 10,
    "start_time": "2022-09-25T06:11:36.154Z"
   },
   {
    "duration": 279,
    "start_time": "2022-09-25T06:11:36.165Z"
   },
   {
    "duration": 13,
    "start_time": "2022-09-25T06:11:36.446Z"
   },
   {
    "duration": 145,
    "start_time": "2022-09-25T06:11:36.461Z"
   },
   {
    "duration": 5,
    "start_time": "2022-09-25T06:11:36.608Z"
   },
   {
    "duration": 166,
    "start_time": "2022-09-25T06:11:36.615Z"
   },
   {
    "duration": 9,
    "start_time": "2022-09-25T06:13:01.689Z"
   },
   {
    "duration": 121,
    "start_time": "2022-09-25T06:15:27.243Z"
   },
   {
    "duration": 218,
    "start_time": "2022-09-25T06:28:36.392Z"
   },
   {
    "duration": 159,
    "start_time": "2022-09-25T06:31:22.129Z"
   },
   {
    "duration": 960,
    "start_time": "2022-09-25T06:32:12.559Z"
   },
   {
    "duration": 143,
    "start_time": "2022-09-25T06:32:35.903Z"
   },
   {
    "duration": 144,
    "start_time": "2022-09-25T06:32:50.394Z"
   },
   {
    "duration": 143,
    "start_time": "2022-09-25T06:33:38.035Z"
   },
   {
    "duration": 129,
    "start_time": "2022-09-25T06:33:59.682Z"
   },
   {
    "duration": 6,
    "start_time": "2022-09-25T06:44:10.585Z"
   },
   {
    "duration": 7,
    "start_time": "2022-09-25T06:45:42.634Z"
   },
   {
    "duration": 9,
    "start_time": "2022-09-25T06:47:24.717Z"
   },
   {
    "duration": 10,
    "start_time": "2022-09-25T06:48:22.240Z"
   },
   {
    "duration": 4,
    "start_time": "2022-09-25T06:48:57.864Z"
   },
   {
    "duration": 8,
    "start_time": "2022-09-25T06:49:19.427Z"
   },
   {
    "duration": 1095,
    "start_time": "2022-09-25T06:49:30.272Z"
   },
   {
    "duration": 74,
    "start_time": "2022-09-25T06:49:31.369Z"
   },
   {
    "duration": 4,
    "start_time": "2022-09-25T06:49:31.444Z"
   },
   {
    "duration": 36,
    "start_time": "2022-09-25T06:49:31.450Z"
   },
   {
    "duration": 27,
    "start_time": "2022-09-25T06:49:31.487Z"
   },
   {
    "duration": 23,
    "start_time": "2022-09-25T06:49:31.516Z"
   },
   {
    "duration": 24,
    "start_time": "2022-09-25T06:49:31.541Z"
   },
   {
    "duration": 39,
    "start_time": "2022-09-25T06:49:31.567Z"
   },
   {
    "duration": 34,
    "start_time": "2022-09-25T06:49:31.608Z"
   },
   {
    "duration": 19,
    "start_time": "2022-09-25T06:49:31.644Z"
   },
   {
    "duration": 13,
    "start_time": "2022-09-25T06:49:31.665Z"
   },
   {
    "duration": 15,
    "start_time": "2022-09-25T06:49:31.680Z"
   },
   {
    "duration": 16,
    "start_time": "2022-09-25T06:49:31.697Z"
   },
   {
    "duration": 19,
    "start_time": "2022-09-25T06:49:31.714Z"
   },
   {
    "duration": 10,
    "start_time": "2022-09-25T06:49:31.735Z"
   },
   {
    "duration": 14,
    "start_time": "2022-09-25T06:49:31.747Z"
   },
   {
    "duration": 17,
    "start_time": "2022-09-25T06:49:31.762Z"
   },
   {
    "duration": 22,
    "start_time": "2022-09-25T06:49:31.780Z"
   },
   {
    "duration": 21,
    "start_time": "2022-09-25T06:49:31.804Z"
   },
   {
    "duration": 11,
    "start_time": "2022-09-25T06:49:31.827Z"
   },
   {
    "duration": 11,
    "start_time": "2022-09-25T06:49:31.840Z"
   },
   {
    "duration": 150,
    "start_time": "2022-09-25T06:49:31.852Z"
   },
   {
    "duration": 132,
    "start_time": "2022-09-25T06:49:32.004Z"
   },
   {
    "duration": 22,
    "start_time": "2022-09-25T06:49:32.138Z"
   },
   {
    "duration": 265,
    "start_time": "2022-09-25T06:49:32.162Z"
   },
   {
    "duration": 201,
    "start_time": "2022-09-25T06:49:32.432Z"
   },
   {
    "duration": 300,
    "start_time": "2022-09-25T06:49:32.635Z"
   },
   {
    "duration": 198,
    "start_time": "2022-09-25T06:49:32.938Z"
   },
   {
    "duration": 8,
    "start_time": "2022-09-25T06:49:33.137Z"
   },
   {
    "duration": 274,
    "start_time": "2022-09-25T06:49:33.147Z"
   },
   {
    "duration": 27,
    "start_time": "2022-09-25T06:49:33.422Z"
   },
   {
    "duration": 138,
    "start_time": "2022-09-25T06:49:33.451Z"
   },
   {
    "duration": 7,
    "start_time": "2022-09-25T06:49:33.591Z"
   },
   {
    "duration": 146,
    "start_time": "2022-09-25T06:49:33.600Z"
   },
   {
    "duration": 129,
    "start_time": "2022-09-25T06:49:33.747Z"
   },
   {
    "duration": 5,
    "start_time": "2022-09-25T06:49:33.878Z"
   },
   {
    "duration": 15,
    "start_time": "2022-09-25T06:49:33.885Z"
   },
   {
    "duration": 8,
    "start_time": "2022-09-25T06:51:35.685Z"
   },
   {
    "duration": 1144,
    "start_time": "2022-09-25T06:52:00.043Z"
   },
   {
    "duration": 74,
    "start_time": "2022-09-25T06:52:01.189Z"
   },
   {
    "duration": 3,
    "start_time": "2022-09-25T06:52:01.264Z"
   },
   {
    "duration": 32,
    "start_time": "2022-09-25T06:52:01.268Z"
   },
   {
    "duration": 16,
    "start_time": "2022-09-25T06:52:01.302Z"
   },
   {
    "duration": 13,
    "start_time": "2022-09-25T06:52:01.319Z"
   },
   {
    "duration": 23,
    "start_time": "2022-09-25T06:52:01.334Z"
   },
   {
    "duration": 24,
    "start_time": "2022-09-25T06:52:01.358Z"
   },
   {
    "duration": 19,
    "start_time": "2022-09-25T06:52:01.384Z"
   },
   {
    "duration": 26,
    "start_time": "2022-09-25T06:52:01.405Z"
   },
   {
    "duration": 24,
    "start_time": "2022-09-25T06:52:01.432Z"
   },
   {
    "duration": 32,
    "start_time": "2022-09-25T06:52:01.458Z"
   },
   {
    "duration": 13,
    "start_time": "2022-09-25T06:52:01.492Z"
   },
   {
    "duration": 17,
    "start_time": "2022-09-25T06:52:01.508Z"
   },
   {
    "duration": 18,
    "start_time": "2022-09-25T06:52:01.527Z"
   },
   {
    "duration": 23,
    "start_time": "2022-09-25T06:52:01.547Z"
   },
   {
    "duration": 12,
    "start_time": "2022-09-25T06:52:01.571Z"
   },
   {
    "duration": 18,
    "start_time": "2022-09-25T06:52:01.585Z"
   },
   {
    "duration": 18,
    "start_time": "2022-09-25T06:52:01.605Z"
   },
   {
    "duration": 30,
    "start_time": "2022-09-25T06:52:01.625Z"
   },
   {
    "duration": 18,
    "start_time": "2022-09-25T06:52:01.657Z"
   },
   {
    "duration": 153,
    "start_time": "2022-09-25T06:52:01.677Z"
   },
   {
    "duration": 137,
    "start_time": "2022-09-25T06:52:01.833Z"
   },
   {
    "duration": 11,
    "start_time": "2022-09-25T06:52:01.971Z"
   },
   {
    "duration": 300,
    "start_time": "2022-09-25T06:52:01.984Z"
   },
   {
    "duration": 185,
    "start_time": "2022-09-25T06:52:02.286Z"
   },
   {
    "duration": 260,
    "start_time": "2022-09-25T06:52:02.473Z"
   },
   {
    "duration": 192,
    "start_time": "2022-09-25T06:52:02.735Z"
   },
   {
    "duration": 9,
    "start_time": "2022-09-25T06:52:02.933Z"
   },
   {
    "duration": 279,
    "start_time": "2022-09-25T06:52:02.943Z"
   },
   {
    "duration": 12,
    "start_time": "2022-09-25T06:52:03.233Z"
   },
   {
    "duration": 146,
    "start_time": "2022-09-25T06:52:03.247Z"
   },
   {
    "duration": 5,
    "start_time": "2022-09-25T06:52:03.395Z"
   },
   {
    "duration": 13,
    "start_time": "2022-09-25T06:52:03.402Z"
   },
   {
    "duration": 151,
    "start_time": "2022-09-25T06:52:03.417Z"
   },
   {
    "duration": 118,
    "start_time": "2022-09-25T06:52:03.569Z"
   },
   {
    "duration": 6,
    "start_time": "2022-09-25T06:52:03.689Z"
   },
   {
    "duration": 13,
    "start_time": "2022-09-25T06:52:03.696Z"
   },
   {
    "duration": 24,
    "start_time": "2022-09-25T06:52:03.710Z"
   },
   {
    "duration": 11,
    "start_time": "2022-09-25T07:46:22.274Z"
   },
   {
    "duration": 95,
    "start_time": "2022-09-25T07:57:16.079Z"
   },
   {
    "duration": 1133,
    "start_time": "2022-09-25T07:57:21.615Z"
   },
   {
    "duration": 73,
    "start_time": "2022-09-25T07:57:22.750Z"
   },
   {
    "duration": 3,
    "start_time": "2022-09-25T07:57:22.824Z"
   },
   {
    "duration": 21,
    "start_time": "2022-09-25T07:57:22.829Z"
   },
   {
    "duration": 20,
    "start_time": "2022-09-25T07:57:22.853Z"
   },
   {
    "duration": 17,
    "start_time": "2022-09-25T07:57:22.874Z"
   },
   {
    "duration": 10,
    "start_time": "2022-09-25T07:57:22.892Z"
   },
   {
    "duration": 11,
    "start_time": "2022-09-25T07:57:22.904Z"
   },
   {
    "duration": 26,
    "start_time": "2022-09-25T07:57:22.917Z"
   },
   {
    "duration": 9,
    "start_time": "2022-09-25T07:57:22.945Z"
   },
   {
    "duration": 13,
    "start_time": "2022-09-25T07:57:22.956Z"
   },
   {
    "duration": 6,
    "start_time": "2022-09-25T07:57:22.971Z"
   },
   {
    "duration": 13,
    "start_time": "2022-09-25T07:57:22.979Z"
   },
   {
    "duration": 38,
    "start_time": "2022-09-25T07:57:22.995Z"
   },
   {
    "duration": 5,
    "start_time": "2022-09-25T07:57:23.035Z"
   },
   {
    "duration": 15,
    "start_time": "2022-09-25T07:57:23.041Z"
   },
   {
    "duration": 12,
    "start_time": "2022-09-25T07:57:23.057Z"
   },
   {
    "duration": 13,
    "start_time": "2022-09-25T07:57:23.070Z"
   },
   {
    "duration": 11,
    "start_time": "2022-09-25T07:57:23.085Z"
   },
   {
    "duration": 40,
    "start_time": "2022-09-25T07:57:23.097Z"
   },
   {
    "duration": 5,
    "start_time": "2022-09-25T07:57:23.139Z"
   },
   {
    "duration": 170,
    "start_time": "2022-09-25T07:57:23.145Z"
   },
   {
    "duration": 121,
    "start_time": "2022-09-25T07:57:23.317Z"
   },
   {
    "duration": 10,
    "start_time": "2022-09-25T07:57:23.439Z"
   },
   {
    "duration": 266,
    "start_time": "2022-09-25T07:57:23.450Z"
   },
   {
    "duration": 209,
    "start_time": "2022-09-25T07:57:23.718Z"
   },
   {
    "duration": 292,
    "start_time": "2022-09-25T07:57:23.933Z"
   },
   {
    "duration": 192,
    "start_time": "2022-09-25T07:57:24.233Z"
   },
   {
    "duration": 14,
    "start_time": "2022-09-25T07:57:24.426Z"
   },
   {
    "duration": 269,
    "start_time": "2022-09-25T07:57:24.442Z"
   },
   {
    "duration": 21,
    "start_time": "2022-09-25T07:57:24.713Z"
   },
   {
    "duration": 136,
    "start_time": "2022-09-25T07:57:24.735Z"
   },
   {
    "duration": 6,
    "start_time": "2022-09-25T07:57:24.873Z"
   },
   {
    "duration": 146,
    "start_time": "2022-09-25T07:57:24.880Z"
   },
   {
    "duration": 125,
    "start_time": "2022-09-25T07:57:25.027Z"
   },
   {
    "duration": 7,
    "start_time": "2022-09-25T07:57:25.154Z"
   },
   {
    "duration": 11,
    "start_time": "2022-09-25T07:57:25.162Z"
   },
   {
    "duration": 12,
    "start_time": "2022-09-25T07:57:25.174Z"
   },
   {
    "duration": 8,
    "start_time": "2022-09-25T07:57:25.188Z"
   },
   {
    "duration": 50,
    "start_time": "2022-09-25T07:57:25.198Z"
   },
   {
    "duration": 14,
    "start_time": "2022-09-25T08:00:06.528Z"
   },
   {
    "duration": 1018,
    "start_time": "2022-09-25T08:00:08.477Z"
   },
   {
    "duration": 5,
    "start_time": "2022-09-25T08:00:24.731Z"
   },
   {
    "duration": 36,
    "start_time": "2022-09-25T08:00:26.834Z"
   },
   {
    "duration": 12,
    "start_time": "2022-09-25T08:01:23.646Z"
   },
   {
    "duration": 16,
    "start_time": "2022-09-25T08:09:26.274Z"
   },
   {
    "duration": 5,
    "start_time": "2022-09-25T08:09:28.790Z"
   },
   {
    "duration": 23,
    "start_time": "2022-09-25T08:09:31.235Z"
   },
   {
    "duration": 6,
    "start_time": "2022-09-25T08:10:00.192Z"
   },
   {
    "duration": 24,
    "start_time": "2022-09-25T08:10:02.613Z"
   },
   {
    "duration": 14,
    "start_time": "2022-09-25T08:14:22.879Z"
   },
   {
    "duration": 1110,
    "start_time": "2022-09-25T08:14:29.246Z"
   },
   {
    "duration": 74,
    "start_time": "2022-09-25T08:14:30.358Z"
   },
   {
    "duration": 3,
    "start_time": "2022-09-25T08:14:30.433Z"
   },
   {
    "duration": 37,
    "start_time": "2022-09-25T08:14:30.437Z"
   },
   {
    "duration": 22,
    "start_time": "2022-09-25T08:14:30.476Z"
   },
   {
    "duration": 27,
    "start_time": "2022-09-25T08:14:30.500Z"
   },
   {
    "duration": 19,
    "start_time": "2022-09-25T08:14:30.529Z"
   },
   {
    "duration": 24,
    "start_time": "2022-09-25T08:14:30.550Z"
   },
   {
    "duration": 21,
    "start_time": "2022-09-25T08:14:30.576Z"
   },
   {
    "duration": 20,
    "start_time": "2022-09-25T08:14:30.599Z"
   },
   {
    "duration": 25,
    "start_time": "2022-09-25T08:14:30.621Z"
   },
   {
    "duration": 24,
    "start_time": "2022-09-25T08:14:30.648Z"
   },
   {
    "duration": 23,
    "start_time": "2022-09-25T08:14:30.673Z"
   },
   {
    "duration": 12,
    "start_time": "2022-09-25T08:14:30.699Z"
   },
   {
    "duration": 24,
    "start_time": "2022-09-25T08:14:30.713Z"
   },
   {
    "duration": 40,
    "start_time": "2022-09-25T08:14:30.739Z"
   },
   {
    "duration": 24,
    "start_time": "2022-09-25T08:14:30.781Z"
   },
   {
    "duration": 28,
    "start_time": "2022-09-25T08:14:30.806Z"
   },
   {
    "duration": 29,
    "start_time": "2022-09-25T08:14:30.836Z"
   },
   {
    "duration": 11,
    "start_time": "2022-09-25T08:14:30.866Z"
   },
   {
    "duration": 15,
    "start_time": "2022-09-25T08:14:30.878Z"
   },
   {
    "duration": 182,
    "start_time": "2022-09-25T08:14:30.895Z"
   },
   {
    "duration": 120,
    "start_time": "2022-09-25T08:14:31.078Z"
   },
   {
    "duration": 40,
    "start_time": "2022-09-25T08:14:31.199Z"
   },
   {
    "duration": 259,
    "start_time": "2022-09-25T08:14:31.241Z"
   },
   {
    "duration": 193,
    "start_time": "2022-09-25T08:14:31.502Z"
   },
   {
    "duration": 299,
    "start_time": "2022-09-25T08:14:31.697Z"
   },
   {
    "duration": 197,
    "start_time": "2022-09-25T08:14:31.998Z"
   },
   {
    "duration": 13,
    "start_time": "2022-09-25T08:14:32.197Z"
   },
   {
    "duration": 325,
    "start_time": "2022-09-25T08:14:32.212Z"
   },
   {
    "duration": 13,
    "start_time": "2022-09-25T08:14:32.540Z"
   },
   {
    "duration": 154,
    "start_time": "2022-09-25T08:14:32.554Z"
   },
   {
    "duration": 106,
    "start_time": "2022-09-25T08:14:32.709Z"
   },
   {
    "duration": 0,
    "start_time": "2022-09-25T08:14:32.816Z"
   },
   {
    "duration": 0,
    "start_time": "2022-09-25T08:14:32.818Z"
   },
   {
    "duration": 0,
    "start_time": "2022-09-25T08:14:32.819Z"
   },
   {
    "duration": 0,
    "start_time": "2022-09-25T08:14:32.834Z"
   },
   {
    "duration": 0,
    "start_time": "2022-09-25T08:14:32.835Z"
   },
   {
    "duration": 0,
    "start_time": "2022-09-25T08:14:32.837Z"
   },
   {
    "duration": 0,
    "start_time": "2022-09-25T08:14:32.838Z"
   },
   {
    "duration": 0,
    "start_time": "2022-09-25T08:14:32.839Z"
   },
   {
    "duration": 0,
    "start_time": "2022-09-25T08:14:32.840Z"
   },
   {
    "duration": 269,
    "start_time": "2022-09-25T08:14:55.220Z"
   },
   {
    "duration": 1136,
    "start_time": "2022-09-25T08:15:04.617Z"
   },
   {
    "duration": 73,
    "start_time": "2022-09-25T08:15:05.755Z"
   },
   {
    "duration": 3,
    "start_time": "2022-09-25T08:15:05.830Z"
   },
   {
    "duration": 20,
    "start_time": "2022-09-25T08:15:05.835Z"
   },
   {
    "duration": 12,
    "start_time": "2022-09-25T08:15:05.858Z"
   },
   {
    "duration": 14,
    "start_time": "2022-09-25T08:15:05.873Z"
   },
   {
    "duration": 13,
    "start_time": "2022-09-25T08:15:05.889Z"
   },
   {
    "duration": 10,
    "start_time": "2022-09-25T08:15:05.904Z"
   },
   {
    "duration": 39,
    "start_time": "2022-09-25T08:15:05.916Z"
   },
   {
    "duration": 10,
    "start_time": "2022-09-25T08:15:05.957Z"
   },
   {
    "duration": 14,
    "start_time": "2022-09-25T08:15:05.968Z"
   },
   {
    "duration": 11,
    "start_time": "2022-09-25T08:15:05.984Z"
   },
   {
    "duration": 16,
    "start_time": "2022-09-25T08:15:05.997Z"
   },
   {
    "duration": 21,
    "start_time": "2022-09-25T08:15:06.016Z"
   },
   {
    "duration": 12,
    "start_time": "2022-09-25T08:15:06.039Z"
   },
   {
    "duration": 22,
    "start_time": "2022-09-25T08:15:06.052Z"
   },
   {
    "duration": 17,
    "start_time": "2022-09-25T08:15:06.076Z"
   },
   {
    "duration": 39,
    "start_time": "2022-09-25T08:15:06.095Z"
   },
   {
    "duration": 12,
    "start_time": "2022-09-25T08:15:06.136Z"
   },
   {
    "duration": 11,
    "start_time": "2022-09-25T08:15:06.149Z"
   },
   {
    "duration": 7,
    "start_time": "2022-09-25T08:15:06.162Z"
   },
   {
    "duration": 242,
    "start_time": "2022-09-25T08:15:06.170Z"
   },
   {
    "duration": 148,
    "start_time": "2022-09-25T08:15:06.414Z"
   },
   {
    "duration": 11,
    "start_time": "2022-09-25T08:15:06.564Z"
   },
   {
    "duration": 280,
    "start_time": "2022-09-25T08:15:06.577Z"
   },
   {
    "duration": 198,
    "start_time": "2022-09-25T08:15:06.859Z"
   },
   {
    "duration": 277,
    "start_time": "2022-09-25T08:15:07.059Z"
   },
   {
    "duration": 206,
    "start_time": "2022-09-25T08:15:07.337Z"
   },
   {
    "duration": 10,
    "start_time": "2022-09-25T08:15:07.545Z"
   },
   {
    "duration": 278,
    "start_time": "2022-09-25T08:15:07.557Z"
   },
   {
    "duration": 11,
    "start_time": "2022-09-25T08:15:07.837Z"
   },
   {
    "duration": 148,
    "start_time": "2022-09-25T08:15:07.850Z"
   },
   {
    "duration": 297,
    "start_time": "2022-09-25T08:15:08.000Z"
   },
   {
    "duration": 7,
    "start_time": "2022-09-25T08:15:08.299Z"
   },
   {
    "duration": 152,
    "start_time": "2022-09-25T08:15:08.308Z"
   },
   {
    "duration": 195,
    "start_time": "2022-09-25T08:15:08.462Z"
   },
   {
    "duration": 6,
    "start_time": "2022-09-25T08:15:08.659Z"
   },
   {
    "duration": 14,
    "start_time": "2022-09-25T08:15:08.667Z"
   },
   {
    "duration": 11,
    "start_time": "2022-09-25T08:15:08.683Z"
   },
   {
    "duration": 39,
    "start_time": "2022-09-25T08:15:08.695Z"
   },
   {
    "duration": 6,
    "start_time": "2022-09-25T08:15:08.739Z"
   },
   {
    "duration": 40,
    "start_time": "2022-09-25T08:15:08.747Z"
   },
   {
    "duration": 11,
    "start_time": "2022-09-25T08:19:11.965Z"
   },
   {
    "duration": 80,
    "start_time": "2022-09-25T08:25:12.171Z"
   },
   {
    "duration": 33,
    "start_time": "2022-09-25T08:26:04.418Z"
   },
   {
    "duration": 111,
    "start_time": "2022-09-25T08:26:21.595Z"
   },
   {
    "duration": 23,
    "start_time": "2022-09-25T08:26:25.873Z"
   },
   {
    "duration": 22,
    "start_time": "2022-09-25T08:27:30.303Z"
   },
   {
    "duration": 1128,
    "start_time": "2022-09-25T08:27:57.353Z"
   },
   {
    "duration": 73,
    "start_time": "2022-09-25T08:27:58.483Z"
   },
   {
    "duration": 3,
    "start_time": "2022-09-25T08:27:58.558Z"
   },
   {
    "duration": 22,
    "start_time": "2022-09-25T08:27:58.564Z"
   },
   {
    "duration": 12,
    "start_time": "2022-09-25T08:27:58.587Z"
   },
   {
    "duration": 14,
    "start_time": "2022-09-25T08:27:58.600Z"
   },
   {
    "duration": 11,
    "start_time": "2022-09-25T08:27:58.615Z"
   },
   {
    "duration": 11,
    "start_time": "2022-09-25T08:27:58.627Z"
   },
   {
    "duration": 12,
    "start_time": "2022-09-25T08:27:58.640Z"
   },
   {
    "duration": 6,
    "start_time": "2022-09-25T08:27:58.654Z"
   },
   {
    "duration": 11,
    "start_time": "2022-09-25T08:27:58.661Z"
   },
   {
    "duration": 7,
    "start_time": "2022-09-25T08:27:58.673Z"
   },
   {
    "duration": 11,
    "start_time": "2022-09-25T08:27:58.681Z"
   },
   {
    "duration": 17,
    "start_time": "2022-09-25T08:27:58.693Z"
   },
   {
    "duration": 6,
    "start_time": "2022-09-25T08:27:58.734Z"
   },
   {
    "duration": 14,
    "start_time": "2022-09-25T08:27:58.742Z"
   },
   {
    "duration": 12,
    "start_time": "2022-09-25T08:27:58.757Z"
   },
   {
    "duration": 18,
    "start_time": "2022-09-25T08:27:58.770Z"
   },
   {
    "duration": 14,
    "start_time": "2022-09-25T08:27:58.790Z"
   },
   {
    "duration": 9,
    "start_time": "2022-09-25T08:27:58.834Z"
   },
   {
    "duration": 8,
    "start_time": "2022-09-25T08:27:58.844Z"
   },
   {
    "duration": 156,
    "start_time": "2022-09-25T08:27:58.854Z"
   },
   {
    "duration": 130,
    "start_time": "2022-09-25T08:27:59.012Z"
   },
   {
    "duration": 10,
    "start_time": "2022-09-25T08:27:59.143Z"
   },
   {
    "duration": 259,
    "start_time": "2022-09-25T08:27:59.155Z"
   },
   {
    "duration": 187,
    "start_time": "2022-09-25T08:27:59.416Z"
   },
   {
    "duration": 295,
    "start_time": "2022-09-25T08:27:59.605Z"
   },
   {
    "duration": 194,
    "start_time": "2022-09-25T08:27:59.904Z"
   },
   {
    "duration": 9,
    "start_time": "2022-09-25T08:28:00.099Z"
   },
   {
    "duration": 310,
    "start_time": "2022-09-25T08:28:00.109Z"
   },
   {
    "duration": 21,
    "start_time": "2022-09-25T08:28:00.421Z"
   },
   {
    "duration": 147,
    "start_time": "2022-09-25T08:28:00.445Z"
   },
   {
    "duration": 5,
    "start_time": "2022-09-25T08:28:00.594Z"
   },
   {
    "duration": 154,
    "start_time": "2022-09-25T08:28:00.601Z"
   },
   {
    "duration": 136,
    "start_time": "2022-09-25T08:28:00.757Z"
   },
   {
    "duration": 6,
    "start_time": "2022-09-25T08:28:00.895Z"
   },
   {
    "duration": 22,
    "start_time": "2022-09-25T08:28:00.903Z"
   },
   {
    "duration": 38,
    "start_time": "2022-09-25T08:28:00.926Z"
   },
   {
    "duration": 19,
    "start_time": "2022-09-25T08:28:00.966Z"
   },
   {
    "duration": 142,
    "start_time": "2022-09-25T08:28:00.987Z"
   },
   {
    "duration": 0,
    "start_time": "2022-09-25T08:28:01.131Z"
   },
   {
    "duration": 0,
    "start_time": "2022-09-25T08:28:01.132Z"
   },
   {
    "duration": 0,
    "start_time": "2022-09-25T08:28:01.133Z"
   },
   {
    "duration": 1201,
    "start_time": "2022-09-25T08:28:25.819Z"
   },
   {
    "duration": 74,
    "start_time": "2022-09-25T08:28:27.021Z"
   },
   {
    "duration": 4,
    "start_time": "2022-09-25T08:28:27.096Z"
   },
   {
    "duration": 15,
    "start_time": "2022-09-25T08:28:27.101Z"
   },
   {
    "duration": 13,
    "start_time": "2022-09-25T08:28:27.118Z"
   },
   {
    "duration": 16,
    "start_time": "2022-09-25T08:28:27.133Z"
   },
   {
    "duration": 13,
    "start_time": "2022-09-25T08:28:27.150Z"
   },
   {
    "duration": 15,
    "start_time": "2022-09-25T08:28:27.164Z"
   },
   {
    "duration": 18,
    "start_time": "2022-09-25T08:28:27.181Z"
   },
   {
    "duration": 7,
    "start_time": "2022-09-25T08:28:27.203Z"
   },
   {
    "duration": 22,
    "start_time": "2022-09-25T08:28:27.212Z"
   },
   {
    "duration": 7,
    "start_time": "2022-09-25T08:28:27.236Z"
   },
   {
    "duration": 15,
    "start_time": "2022-09-25T08:28:27.245Z"
   },
   {
    "duration": 22,
    "start_time": "2022-09-25T08:28:27.261Z"
   },
   {
    "duration": 17,
    "start_time": "2022-09-25T08:28:27.285Z"
   },
   {
    "duration": 15,
    "start_time": "2022-09-25T08:28:27.304Z"
   },
   {
    "duration": 11,
    "start_time": "2022-09-25T08:28:27.333Z"
   },
   {
    "duration": 12,
    "start_time": "2022-09-25T08:28:27.345Z"
   },
   {
    "duration": 19,
    "start_time": "2022-09-25T08:28:27.358Z"
   },
   {
    "duration": 7,
    "start_time": "2022-09-25T08:28:27.379Z"
   },
   {
    "duration": 18,
    "start_time": "2022-09-25T08:28:27.387Z"
   },
   {
    "duration": 151,
    "start_time": "2022-09-25T08:28:27.407Z"
   },
   {
    "duration": 125,
    "start_time": "2022-09-25T08:28:27.560Z"
   },
   {
    "duration": 10,
    "start_time": "2022-09-25T08:28:27.687Z"
   },
   {
    "duration": 267,
    "start_time": "2022-09-25T08:28:27.699Z"
   },
   {
    "duration": 203,
    "start_time": "2022-09-25T08:28:27.968Z"
   },
   {
    "duration": 260,
    "start_time": "2022-09-25T08:28:28.173Z"
   },
   {
    "duration": 207,
    "start_time": "2022-09-25T08:28:28.437Z"
   },
   {
    "duration": 7,
    "start_time": "2022-09-25T08:28:28.646Z"
   },
   {
    "duration": 267,
    "start_time": "2022-09-25T08:28:28.655Z"
   },
   {
    "duration": 17,
    "start_time": "2022-09-25T08:28:28.924Z"
   },
   {
    "duration": 143,
    "start_time": "2022-09-25T08:28:28.942Z"
   },
   {
    "duration": 5,
    "start_time": "2022-09-25T08:28:29.087Z"
   },
   {
    "duration": 155,
    "start_time": "2022-09-25T08:28:29.094Z"
   },
   {
    "duration": 127,
    "start_time": "2022-09-25T08:28:29.250Z"
   },
   {
    "duration": 6,
    "start_time": "2022-09-25T08:28:29.379Z"
   },
   {
    "duration": 14,
    "start_time": "2022-09-25T08:28:29.386Z"
   },
   {
    "duration": 12,
    "start_time": "2022-09-25T08:28:29.402Z"
   },
   {
    "duration": 26,
    "start_time": "2022-09-25T08:28:29.415Z"
   },
   {
    "duration": 4,
    "start_time": "2022-09-25T08:28:29.443Z"
   },
   {
    "duration": 24,
    "start_time": "2022-09-25T08:28:29.449Z"
   },
   {
    "duration": 22,
    "start_time": "2022-09-25T08:28:29.475Z"
   },
   {
    "duration": 98,
    "start_time": "2022-09-25T08:28:29.499Z"
   },
   {
    "duration": 23,
    "start_time": "2022-09-25T08:28:57.215Z"
   },
   {
    "duration": 35,
    "start_time": "2022-09-25T08:29:16.635Z"
   },
   {
    "duration": 22,
    "start_time": "2022-09-25T08:29:27.358Z"
   },
   {
    "duration": 22,
    "start_time": "2022-09-25T08:30:05.569Z"
   },
   {
    "duration": 24,
    "start_time": "2022-09-25T08:30:29.281Z"
   },
   {
    "duration": 1115,
    "start_time": "2022-09-25T08:30:48.496Z"
   },
   {
    "duration": 73,
    "start_time": "2022-09-25T08:30:49.613Z"
   },
   {
    "duration": 3,
    "start_time": "2022-09-25T08:30:49.688Z"
   },
   {
    "duration": 23,
    "start_time": "2022-09-25T08:30:49.693Z"
   },
   {
    "duration": 12,
    "start_time": "2022-09-25T08:30:49.718Z"
   },
   {
    "duration": 9,
    "start_time": "2022-09-25T08:30:49.731Z"
   },
   {
    "duration": 10,
    "start_time": "2022-09-25T08:30:49.741Z"
   },
   {
    "duration": 11,
    "start_time": "2022-09-25T08:30:49.753Z"
   },
   {
    "duration": 12,
    "start_time": "2022-09-25T08:30:49.766Z"
   },
   {
    "duration": 10,
    "start_time": "2022-09-25T08:30:49.781Z"
   },
   {
    "duration": 16,
    "start_time": "2022-09-25T08:30:49.793Z"
   },
   {
    "duration": 22,
    "start_time": "2022-09-25T08:30:49.811Z"
   },
   {
    "duration": 10,
    "start_time": "2022-09-25T08:30:49.835Z"
   },
   {
    "duration": 15,
    "start_time": "2022-09-25T08:30:49.847Z"
   },
   {
    "duration": 9,
    "start_time": "2022-09-25T08:30:49.864Z"
   },
   {
    "duration": 17,
    "start_time": "2022-09-25T08:30:49.874Z"
   },
   {
    "duration": 40,
    "start_time": "2022-09-25T08:30:49.893Z"
   },
   {
    "duration": 13,
    "start_time": "2022-09-25T08:30:49.935Z"
   },
   {
    "duration": 19,
    "start_time": "2022-09-25T08:30:49.950Z"
   },
   {
    "duration": 7,
    "start_time": "2022-09-25T08:30:49.970Z"
   },
   {
    "duration": 6,
    "start_time": "2022-09-25T08:30:49.979Z"
   },
   {
    "duration": 169,
    "start_time": "2022-09-25T08:30:49.986Z"
   },
   {
    "duration": 140,
    "start_time": "2022-09-25T08:30:50.157Z"
   },
   {
    "duration": 10,
    "start_time": "2022-09-25T08:30:50.299Z"
   },
   {
    "duration": 266,
    "start_time": "2022-09-25T08:30:50.310Z"
   },
   {
    "duration": 200,
    "start_time": "2022-09-25T08:30:50.577Z"
   },
   {
    "duration": 280,
    "start_time": "2022-09-25T08:30:50.779Z"
   },
   {
    "duration": 229,
    "start_time": "2022-09-25T08:30:51.061Z"
   },
   {
    "duration": 9,
    "start_time": "2022-09-25T08:30:51.292Z"
   },
   {
    "duration": 301,
    "start_time": "2022-09-25T08:30:51.302Z"
   },
   {
    "duration": 13,
    "start_time": "2022-09-25T08:30:51.604Z"
   },
   {
    "duration": 141,
    "start_time": "2022-09-25T08:30:51.633Z"
   },
   {
    "duration": 6,
    "start_time": "2022-09-25T08:30:51.776Z"
   },
   {
    "duration": 155,
    "start_time": "2022-09-25T08:30:51.783Z"
   },
   {
    "duration": 153,
    "start_time": "2022-09-25T08:30:51.940Z"
   },
   {
    "duration": 7,
    "start_time": "2022-09-25T08:30:52.094Z"
   },
   {
    "duration": 15,
    "start_time": "2022-09-25T08:30:52.103Z"
   },
   {
    "duration": 19,
    "start_time": "2022-09-25T08:30:52.119Z"
   },
   {
    "duration": 100,
    "start_time": "2022-09-25T08:30:52.139Z"
   },
   {
    "duration": 4,
    "start_time": "2022-09-25T08:30:52.241Z"
   },
   {
    "duration": 25,
    "start_time": "2022-09-25T08:30:52.249Z"
   },
   {
    "duration": 9,
    "start_time": "2022-09-25T08:30:52.276Z"
   },
   {
    "duration": 70,
    "start_time": "2022-09-25T08:32:38.591Z"
   },
   {
    "duration": 51,
    "start_time": "2022-09-25T08:33:03.625Z"
   },
   {
    "duration": 15,
    "start_time": "2022-09-25T08:33:28.549Z"
   },
   {
    "duration": 38,
    "start_time": "2022-09-25T08:36:32.897Z"
   },
   {
    "duration": 12,
    "start_time": "2022-09-25T08:46:50.617Z"
   },
   {
    "duration": 16,
    "start_time": "2022-09-25T08:47:16.264Z"
   },
   {
    "duration": 11,
    "start_time": "2022-09-25T08:51:19.020Z"
   },
   {
    "duration": 19,
    "start_time": "2022-09-25T09:10:49.872Z"
   },
   {
    "duration": 12,
    "start_time": "2022-09-25T09:12:25.567Z"
   },
   {
    "duration": 91,
    "start_time": "2022-09-25T09:12:27.988Z"
   },
   {
    "duration": 4,
    "start_time": "2022-09-25T09:12:49.029Z"
   },
   {
    "duration": 24,
    "start_time": "2022-09-25T09:13:06.020Z"
   },
   {
    "duration": 11,
    "start_time": "2022-09-25T09:18:13.636Z"
   },
   {
    "duration": 14,
    "start_time": "2022-09-25T09:20:41.556Z"
   },
   {
    "duration": 11,
    "start_time": "2022-09-25T09:29:19.797Z"
   },
   {
    "duration": 12,
    "start_time": "2022-09-25T09:29:43.795Z"
   },
   {
    "duration": 11,
    "start_time": "2022-09-25T09:29:48.932Z"
   },
   {
    "duration": 11,
    "start_time": "2022-09-25T09:31:33.919Z"
   },
   {
    "duration": 11,
    "start_time": "2022-09-25T09:31:45.930Z"
   },
   {
    "duration": 10,
    "start_time": "2022-09-25T09:32:06.982Z"
   },
   {
    "duration": 444,
    "start_time": "2022-09-25T09:39:23.148Z"
   },
   {
    "duration": 14,
    "start_time": "2022-09-25T09:41:25.364Z"
   },
   {
    "duration": 68,
    "start_time": "2022-09-25T21:20:36.359Z"
   },
   {
    "duration": 1380,
    "start_time": "2022-09-25T21:20:43.797Z"
   },
   {
    "duration": 206,
    "start_time": "2022-09-25T21:20:45.180Z"
   },
   {
    "duration": 4,
    "start_time": "2022-09-25T21:20:45.388Z"
   },
   {
    "duration": 19,
    "start_time": "2022-09-25T21:20:45.393Z"
   },
   {
    "duration": 16,
    "start_time": "2022-09-25T21:20:45.415Z"
   },
   {
    "duration": 8,
    "start_time": "2022-09-25T21:20:45.433Z"
   },
   {
    "duration": 11,
    "start_time": "2022-09-25T21:20:45.443Z"
   },
   {
    "duration": 16,
    "start_time": "2022-09-25T21:20:45.455Z"
   },
   {
    "duration": 39,
    "start_time": "2022-09-25T21:20:45.472Z"
   },
   {
    "duration": 7,
    "start_time": "2022-09-25T21:20:45.513Z"
   },
   {
    "duration": 12,
    "start_time": "2022-09-25T21:20:45.522Z"
   },
   {
    "duration": 10,
    "start_time": "2022-09-25T21:20:45.535Z"
   },
   {
    "duration": 15,
    "start_time": "2022-09-25T21:20:45.546Z"
   },
   {
    "duration": 12,
    "start_time": "2022-09-25T21:20:45.564Z"
   },
   {
    "duration": 35,
    "start_time": "2022-09-25T21:20:45.577Z"
   },
   {
    "duration": 21,
    "start_time": "2022-09-25T21:20:45.614Z"
   },
   {
    "duration": 11,
    "start_time": "2022-09-25T21:20:45.637Z"
   },
   {
    "duration": 18,
    "start_time": "2022-09-25T21:20:45.650Z"
   },
   {
    "duration": 13,
    "start_time": "2022-09-25T21:20:45.669Z"
   },
   {
    "duration": 145,
    "start_time": "2022-09-25T21:20:45.683Z"
   },
   {
    "duration": 0,
    "start_time": "2022-09-25T21:20:45.829Z"
   },
   {
    "duration": 0,
    "start_time": "2022-09-25T21:20:45.831Z"
   },
   {
    "duration": 0,
    "start_time": "2022-09-25T21:20:45.832Z"
   },
   {
    "duration": 0,
    "start_time": "2022-09-25T21:20:45.833Z"
   },
   {
    "duration": 0,
    "start_time": "2022-09-25T21:20:45.834Z"
   },
   {
    "duration": 0,
    "start_time": "2022-09-25T21:20:45.835Z"
   },
   {
    "duration": 0,
    "start_time": "2022-09-25T21:20:45.836Z"
   },
   {
    "duration": 0,
    "start_time": "2022-09-25T21:20:45.837Z"
   },
   {
    "duration": 0,
    "start_time": "2022-09-25T21:20:45.838Z"
   },
   {
    "duration": 0,
    "start_time": "2022-09-25T21:20:45.840Z"
   },
   {
    "duration": 0,
    "start_time": "2022-09-25T21:20:45.841Z"
   },
   {
    "duration": 0,
    "start_time": "2022-09-25T21:20:45.842Z"
   },
   {
    "duration": 0,
    "start_time": "2022-09-25T21:20:45.844Z"
   },
   {
    "duration": 0,
    "start_time": "2022-09-25T21:20:45.845Z"
   },
   {
    "duration": 0,
    "start_time": "2022-09-25T21:20:45.847Z"
   },
   {
    "duration": 0,
    "start_time": "2022-09-25T21:20:45.848Z"
   },
   {
    "duration": 0,
    "start_time": "2022-09-25T21:20:45.850Z"
   },
   {
    "duration": 0,
    "start_time": "2022-09-25T21:20:45.851Z"
   },
   {
    "duration": 0,
    "start_time": "2022-09-25T21:20:45.853Z"
   },
   {
    "duration": 0,
    "start_time": "2022-09-25T21:20:45.854Z"
   },
   {
    "duration": 0,
    "start_time": "2022-09-25T21:20:45.856Z"
   },
   {
    "duration": 0,
    "start_time": "2022-09-25T21:20:45.857Z"
   },
   {
    "duration": 0,
    "start_time": "2022-09-25T21:20:45.858Z"
   },
   {
    "duration": 0,
    "start_time": "2022-09-25T21:20:45.909Z"
   },
   {
    "duration": 0,
    "start_time": "2022-09-25T21:20:45.911Z"
   },
   {
    "duration": 0,
    "start_time": "2022-09-25T21:20:45.912Z"
   },
   {
    "duration": 0,
    "start_time": "2022-09-25T21:20:45.913Z"
   },
   {
    "duration": 3,
    "start_time": "2022-09-25T21:21:02.750Z"
   },
   {
    "duration": 1123,
    "start_time": "2022-09-25T21:21:10.088Z"
   },
   {
    "duration": 93,
    "start_time": "2022-09-25T21:21:11.213Z"
   },
   {
    "duration": 3,
    "start_time": "2022-09-25T21:21:11.308Z"
   },
   {
    "duration": 16,
    "start_time": "2022-09-25T21:21:11.313Z"
   },
   {
    "duration": 13,
    "start_time": "2022-09-25T21:21:11.331Z"
   },
   {
    "duration": 6,
    "start_time": "2022-09-25T21:21:11.346Z"
   },
   {
    "duration": 11,
    "start_time": "2022-09-25T21:21:11.354Z"
   },
   {
    "duration": 11,
    "start_time": "2022-09-25T21:21:11.366Z"
   },
   {
    "duration": 41,
    "start_time": "2022-09-25T21:21:11.379Z"
   },
   {
    "duration": 6,
    "start_time": "2022-09-25T21:21:11.423Z"
   },
   {
    "duration": 12,
    "start_time": "2022-09-25T21:21:11.431Z"
   },
   {
    "duration": 8,
    "start_time": "2022-09-25T21:21:11.445Z"
   },
   {
    "duration": 14,
    "start_time": "2022-09-25T21:21:11.455Z"
   },
   {
    "duration": 10,
    "start_time": "2022-09-25T21:21:11.471Z"
   },
   {
    "duration": 6,
    "start_time": "2022-09-25T21:21:11.510Z"
   },
   {
    "duration": 19,
    "start_time": "2022-09-25T21:21:11.517Z"
   },
   {
    "duration": 15,
    "start_time": "2022-09-25T21:21:11.538Z"
   },
   {
    "duration": 22,
    "start_time": "2022-09-25T21:21:11.555Z"
   },
   {
    "duration": 29,
    "start_time": "2022-09-25T21:21:11.581Z"
   },
   {
    "duration": 12,
    "start_time": "2022-09-25T21:21:11.612Z"
   },
   {
    "duration": 15,
    "start_time": "2022-09-25T21:21:11.626Z"
   },
   {
    "duration": 194,
    "start_time": "2022-09-25T21:21:11.643Z"
   },
   {
    "duration": 127,
    "start_time": "2022-09-25T21:21:11.839Z"
   },
   {
    "duration": 10,
    "start_time": "2022-09-25T21:21:11.968Z"
   },
   {
    "duration": 263,
    "start_time": "2022-09-25T21:21:11.980Z"
   },
   {
    "duration": 199,
    "start_time": "2022-09-25T21:21:12.245Z"
   },
   {
    "duration": 247,
    "start_time": "2022-09-25T21:21:12.446Z"
   },
   {
    "duration": 201,
    "start_time": "2022-09-25T21:21:12.696Z"
   },
   {
    "duration": 16,
    "start_time": "2022-09-25T21:21:12.898Z"
   },
   {
    "duration": 278,
    "start_time": "2022-09-25T21:21:12.916Z"
   },
   {
    "duration": 22,
    "start_time": "2022-09-25T21:21:13.195Z"
   },
   {
    "duration": 139,
    "start_time": "2022-09-25T21:21:13.219Z"
   },
   {
    "duration": 5,
    "start_time": "2022-09-25T21:21:13.360Z"
   },
   {
    "duration": 146,
    "start_time": "2022-09-25T21:21:13.367Z"
   },
   {
    "duration": 120,
    "start_time": "2022-09-25T21:21:13.514Z"
   },
   {
    "duration": 5,
    "start_time": "2022-09-25T21:21:13.636Z"
   },
   {
    "duration": 10,
    "start_time": "2022-09-25T21:21:13.643Z"
   },
   {
    "duration": 12,
    "start_time": "2022-09-25T21:21:13.654Z"
   },
   {
    "duration": 8,
    "start_time": "2022-09-25T21:21:13.667Z"
   },
   {
    "duration": 47,
    "start_time": "2022-09-25T21:21:13.676Z"
   },
   {
    "duration": 72,
    "start_time": "2022-09-25T21:21:13.725Z"
   },
   {
    "duration": 22,
    "start_time": "2022-09-25T21:21:13.798Z"
   },
   {
    "duration": 14,
    "start_time": "2022-09-25T21:21:13.822Z"
   },
   {
    "duration": 5,
    "start_time": "2022-09-25T21:21:13.837Z"
   },
   {
    "duration": 42,
    "start_time": "2022-09-25T21:21:13.844Z"
   },
   {
    "duration": 24,
    "start_time": "2022-09-25T21:21:13.887Z"
   },
   {
    "duration": 37,
    "start_time": "2022-09-25T21:40:56.810Z"
   },
   {
    "duration": 21,
    "start_time": "2022-09-25T21:41:46.022Z"
   },
   {
    "duration": 12,
    "start_time": "2022-09-25T21:47:03.811Z"
   },
   {
    "duration": 24,
    "start_time": "2022-09-25T21:47:46.996Z"
   },
   {
    "duration": 49,
    "start_time": "2022-09-26T05:13:49.019Z"
   },
   {
    "duration": 8,
    "start_time": "2022-09-26T05:14:15.568Z"
   },
   {
    "duration": 1284,
    "start_time": "2022-09-26T05:14:23.687Z"
   },
   {
    "duration": 185,
    "start_time": "2022-09-26T05:14:24.973Z"
   },
   {
    "duration": 3,
    "start_time": "2022-09-26T05:14:25.160Z"
   },
   {
    "duration": 18,
    "start_time": "2022-09-26T05:14:25.164Z"
   },
   {
    "duration": 17,
    "start_time": "2022-09-26T05:14:25.184Z"
   },
   {
    "duration": 34,
    "start_time": "2022-09-26T05:14:25.202Z"
   },
   {
    "duration": 12,
    "start_time": "2022-09-26T05:14:25.239Z"
   },
   {
    "duration": 11,
    "start_time": "2022-09-26T05:14:25.252Z"
   },
   {
    "duration": 13,
    "start_time": "2022-09-26T05:14:25.265Z"
   },
   {
    "duration": 8,
    "start_time": "2022-09-26T05:14:25.279Z"
   },
   {
    "duration": 12,
    "start_time": "2022-09-26T05:14:25.289Z"
   },
   {
    "duration": 9,
    "start_time": "2022-09-26T05:14:25.303Z"
   },
   {
    "duration": 13,
    "start_time": "2022-09-26T05:14:25.313Z"
   },
   {
    "duration": 31,
    "start_time": "2022-09-26T05:14:25.329Z"
   },
   {
    "duration": 5,
    "start_time": "2022-09-26T05:14:25.361Z"
   },
   {
    "duration": 21,
    "start_time": "2022-09-26T05:14:25.367Z"
   },
   {
    "duration": 12,
    "start_time": "2022-09-26T05:14:25.389Z"
   },
   {
    "duration": 15,
    "start_time": "2022-09-26T05:14:25.402Z"
   },
   {
    "duration": 10,
    "start_time": "2022-09-26T05:14:25.418Z"
   },
   {
    "duration": 8,
    "start_time": "2022-09-26T05:14:25.454Z"
   },
   {
    "duration": 18,
    "start_time": "2022-09-26T05:14:25.464Z"
   },
   {
    "duration": 173,
    "start_time": "2022-09-26T05:14:25.484Z"
   },
   {
    "duration": 132,
    "start_time": "2022-09-26T05:14:25.658Z"
   },
   {
    "duration": 10,
    "start_time": "2022-09-26T05:14:25.792Z"
   },
   {
    "duration": 276,
    "start_time": "2022-09-26T05:14:25.804Z"
   },
   {
    "duration": 199,
    "start_time": "2022-09-26T05:14:26.081Z"
   },
   {
    "duration": 302,
    "start_time": "2022-09-26T05:14:26.281Z"
   },
   {
    "duration": 209,
    "start_time": "2022-09-26T05:14:26.585Z"
   },
   {
    "duration": 8,
    "start_time": "2022-09-26T05:14:26.796Z"
   },
   {
    "duration": 284,
    "start_time": "2022-09-26T05:14:26.805Z"
   },
   {
    "duration": 13,
    "start_time": "2022-09-26T05:14:27.090Z"
   },
   {
    "duration": 153,
    "start_time": "2022-09-26T05:14:27.105Z"
   },
   {
    "duration": 6,
    "start_time": "2022-09-26T05:14:27.260Z"
   },
   {
    "duration": 161,
    "start_time": "2022-09-26T05:14:27.268Z"
   },
   {
    "duration": 136,
    "start_time": "2022-09-26T05:14:27.431Z"
   },
   {
    "duration": 6,
    "start_time": "2022-09-26T05:14:27.569Z"
   },
   {
    "duration": 11,
    "start_time": "2022-09-26T05:14:27.576Z"
   },
   {
    "duration": 12,
    "start_time": "2022-09-26T05:14:27.589Z"
   },
   {
    "duration": 8,
    "start_time": "2022-09-26T05:14:27.603Z"
   },
   {
    "duration": 124,
    "start_time": "2022-09-26T05:14:27.612Z"
   },
   {
    "duration": 21,
    "start_time": "2022-09-26T05:14:27.740Z"
   },
   {
    "duration": 12,
    "start_time": "2022-09-26T05:14:27.762Z"
   },
   {
    "duration": 11,
    "start_time": "2022-09-26T05:14:27.775Z"
   },
   {
    "duration": 4,
    "start_time": "2022-09-26T05:14:27.788Z"
   },
   {
    "duration": 22,
    "start_time": "2022-09-26T05:14:27.794Z"
   },
   {
    "duration": 38,
    "start_time": "2022-09-26T05:14:27.818Z"
   },
   {
    "duration": 103,
    "start_time": "2022-09-26T05:14:56.309Z"
   },
   {
    "duration": 12,
    "start_time": "2022-09-26T05:15:07.526Z"
   },
   {
    "duration": 14,
    "start_time": "2022-09-26T05:15:40.054Z"
   },
   {
    "duration": 12,
    "start_time": "2022-09-26T05:15:55.897Z"
   },
   {
    "duration": 12,
    "start_time": "2022-09-26T05:16:02.391Z"
   },
   {
    "duration": 9,
    "start_time": "2022-09-26T05:16:32.899Z"
   },
   {
    "duration": 5,
    "start_time": "2022-09-26T05:16:43.411Z"
   },
   {
    "duration": 11,
    "start_time": "2022-09-26T05:16:47.776Z"
   },
   {
    "duration": 1096,
    "start_time": "2022-09-26T05:17:23.301Z"
   },
   {
    "duration": 75,
    "start_time": "2022-09-26T05:17:24.399Z"
   },
   {
    "duration": 3,
    "start_time": "2022-09-26T05:17:24.475Z"
   },
   {
    "duration": 26,
    "start_time": "2022-09-26T05:17:24.480Z"
   },
   {
    "duration": 13,
    "start_time": "2022-09-26T05:17:24.507Z"
   },
   {
    "duration": 13,
    "start_time": "2022-09-26T05:17:24.522Z"
   },
   {
    "duration": 17,
    "start_time": "2022-09-26T05:17:24.537Z"
   },
   {
    "duration": 13,
    "start_time": "2022-09-26T05:17:24.556Z"
   },
   {
    "duration": 21,
    "start_time": "2022-09-26T05:17:24.571Z"
   },
   {
    "duration": 21,
    "start_time": "2022-09-26T05:17:24.595Z"
   },
   {
    "duration": 33,
    "start_time": "2022-09-26T05:17:24.618Z"
   },
   {
    "duration": 22,
    "start_time": "2022-09-26T05:17:24.653Z"
   },
   {
    "duration": 26,
    "start_time": "2022-09-26T05:17:24.677Z"
   },
   {
    "duration": 27,
    "start_time": "2022-09-26T05:17:24.705Z"
   },
   {
    "duration": 12,
    "start_time": "2022-09-26T05:17:24.734Z"
   },
   {
    "duration": 14,
    "start_time": "2022-09-26T05:17:24.747Z"
   },
   {
    "duration": 107,
    "start_time": "2022-09-26T05:17:24.763Z"
   },
   {
    "duration": 0,
    "start_time": "2022-09-26T05:17:24.872Z"
   },
   {
    "duration": 0,
    "start_time": "2022-09-26T05:17:24.873Z"
   },
   {
    "duration": 0,
    "start_time": "2022-09-26T05:17:24.874Z"
   },
   {
    "duration": 0,
    "start_time": "2022-09-26T05:17:24.875Z"
   },
   {
    "duration": 0,
    "start_time": "2022-09-26T05:17:24.876Z"
   },
   {
    "duration": 0,
    "start_time": "2022-09-26T05:17:24.878Z"
   },
   {
    "duration": 0,
    "start_time": "2022-09-26T05:17:24.878Z"
   },
   {
    "duration": 0,
    "start_time": "2022-09-26T05:17:24.879Z"
   },
   {
    "duration": 0,
    "start_time": "2022-09-26T05:17:24.880Z"
   },
   {
    "duration": 0,
    "start_time": "2022-09-26T05:17:24.881Z"
   },
   {
    "duration": 0,
    "start_time": "2022-09-26T05:17:24.882Z"
   },
   {
    "duration": 0,
    "start_time": "2022-09-26T05:17:24.883Z"
   },
   {
    "duration": 0,
    "start_time": "2022-09-26T05:17:24.884Z"
   },
   {
    "duration": 0,
    "start_time": "2022-09-26T05:17:24.886Z"
   },
   {
    "duration": 0,
    "start_time": "2022-09-26T05:17:24.887Z"
   },
   {
    "duration": 0,
    "start_time": "2022-09-26T05:17:24.888Z"
   },
   {
    "duration": 0,
    "start_time": "2022-09-26T05:17:24.889Z"
   },
   {
    "duration": 0,
    "start_time": "2022-09-26T05:17:24.890Z"
   },
   {
    "duration": 0,
    "start_time": "2022-09-26T05:17:24.891Z"
   },
   {
    "duration": 0,
    "start_time": "2022-09-26T05:17:24.892Z"
   },
   {
    "duration": 0,
    "start_time": "2022-09-26T05:17:24.893Z"
   },
   {
    "duration": 0,
    "start_time": "2022-09-26T05:17:24.894Z"
   },
   {
    "duration": 0,
    "start_time": "2022-09-26T05:17:24.895Z"
   },
   {
    "duration": 0,
    "start_time": "2022-09-26T05:17:24.896Z"
   },
   {
    "duration": 0,
    "start_time": "2022-09-26T05:17:24.897Z"
   },
   {
    "duration": 0,
    "start_time": "2022-09-26T05:17:24.898Z"
   },
   {
    "duration": 0,
    "start_time": "2022-09-26T05:17:24.899Z"
   },
   {
    "duration": 0,
    "start_time": "2022-09-26T05:17:24.900Z"
   },
   {
    "duration": 0,
    "start_time": "2022-09-26T05:17:24.901Z"
   },
   {
    "duration": 0,
    "start_time": "2022-09-26T05:17:24.901Z"
   },
   {
    "duration": 11,
    "start_time": "2022-09-26T05:17:56.841Z"
   },
   {
    "duration": 6,
    "start_time": "2022-09-26T05:23:46.270Z"
   },
   {
    "duration": 10,
    "start_time": "2022-09-26T05:23:51.807Z"
   },
   {
    "duration": 10,
    "start_time": "2022-09-26T05:23:52.047Z"
   },
   {
    "duration": 10,
    "start_time": "2022-09-26T05:23:52.334Z"
   },
   {
    "duration": 9,
    "start_time": "2022-09-26T05:23:52.572Z"
   },
   {
    "duration": 10,
    "start_time": "2022-09-26T05:24:06.477Z"
   },
   {
    "duration": 11,
    "start_time": "2022-09-26T05:24:46.358Z"
   },
   {
    "duration": 11,
    "start_time": "2022-09-26T05:25:12.168Z"
   },
   {
    "duration": 8,
    "start_time": "2022-09-26T05:25:27.972Z"
   },
   {
    "duration": 9,
    "start_time": "2022-09-26T05:26:34.806Z"
   },
   {
    "duration": 4,
    "start_time": "2022-09-26T05:33:28.020Z"
   },
   {
    "duration": 1248,
    "start_time": "2022-09-26T05:33:38.973Z"
   },
   {
    "duration": 75,
    "start_time": "2022-09-26T05:33:40.223Z"
   },
   {
    "duration": 3,
    "start_time": "2022-09-26T05:33:40.300Z"
   },
   {
    "duration": 15,
    "start_time": "2022-09-26T05:33:40.305Z"
   },
   {
    "duration": 12,
    "start_time": "2022-09-26T05:33:40.323Z"
   },
   {
    "duration": 5,
    "start_time": "2022-09-26T05:33:40.337Z"
   },
   {
    "duration": 13,
    "start_time": "2022-09-26T05:33:40.344Z"
   },
   {
    "duration": 12,
    "start_time": "2022-09-26T05:33:40.359Z"
   },
   {
    "duration": 13,
    "start_time": "2022-09-26T05:33:40.372Z"
   },
   {
    "duration": 14,
    "start_time": "2022-09-26T05:33:40.386Z"
   },
   {
    "duration": 13,
    "start_time": "2022-09-26T05:33:40.401Z"
   },
   {
    "duration": 16,
    "start_time": "2022-09-26T05:33:40.416Z"
   },
   {
    "duration": 25,
    "start_time": "2022-09-26T05:33:40.433Z"
   },
   {
    "duration": 15,
    "start_time": "2022-09-26T05:33:40.461Z"
   },
   {
    "duration": 10,
    "start_time": "2022-09-26T05:33:40.478Z"
   },
   {
    "duration": 16,
    "start_time": "2022-09-26T05:33:40.489Z"
   },
   {
    "duration": 11,
    "start_time": "2022-09-26T05:33:40.507Z"
   },
   {
    "duration": 38,
    "start_time": "2022-09-26T05:33:40.520Z"
   },
   {
    "duration": 18,
    "start_time": "2022-09-26T05:33:40.560Z"
   },
   {
    "duration": 11,
    "start_time": "2022-09-26T05:33:40.580Z"
   },
   {
    "duration": 7,
    "start_time": "2022-09-26T05:33:40.592Z"
   },
   {
    "duration": 9,
    "start_time": "2022-09-26T05:33:40.601Z"
   },
   {
    "duration": 183,
    "start_time": "2022-09-26T05:33:40.611Z"
   },
   {
    "duration": 140,
    "start_time": "2022-09-26T05:33:40.796Z"
   },
   {
    "duration": 18,
    "start_time": "2022-09-26T05:33:40.937Z"
   },
   {
    "duration": 293,
    "start_time": "2022-09-26T05:33:40.957Z"
   },
   {
    "duration": 228,
    "start_time": "2022-09-26T05:33:41.253Z"
   },
   {
    "duration": 327,
    "start_time": "2022-09-26T05:33:41.483Z"
   },
   {
    "duration": 220,
    "start_time": "2022-09-26T05:33:41.812Z"
   },
   {
    "duration": 9,
    "start_time": "2022-09-26T05:33:42.034Z"
   },
   {
    "duration": 300,
    "start_time": "2022-09-26T05:33:42.054Z"
   },
   {
    "duration": 13,
    "start_time": "2022-09-26T05:33:42.356Z"
   },
   {
    "duration": 164,
    "start_time": "2022-09-26T05:33:42.371Z"
   },
   {
    "duration": 7,
    "start_time": "2022-09-26T05:33:42.537Z"
   },
   {
    "duration": 165,
    "start_time": "2022-09-26T05:33:42.545Z"
   },
   {
    "duration": 137,
    "start_time": "2022-09-26T05:33:42.712Z"
   },
   {
    "duration": 7,
    "start_time": "2022-09-26T05:33:42.854Z"
   },
   {
    "duration": 14,
    "start_time": "2022-09-26T05:33:42.863Z"
   },
   {
    "duration": 14,
    "start_time": "2022-09-26T05:33:42.879Z"
   },
   {
    "duration": 4,
    "start_time": "2022-09-26T05:33:42.895Z"
   },
   {
    "duration": 52,
    "start_time": "2022-09-26T05:33:42.904Z"
   },
   {
    "duration": 14,
    "start_time": "2022-09-26T05:33:42.958Z"
   },
   {
    "duration": 13,
    "start_time": "2022-09-26T05:33:42.974Z"
   },
   {
    "duration": 13,
    "start_time": "2022-09-26T05:33:42.989Z"
   },
   {
    "duration": 5,
    "start_time": "2022-09-26T05:33:43.004Z"
   },
   {
    "duration": 63,
    "start_time": "2022-09-26T05:33:43.010Z"
   },
   {
    "duration": 13,
    "start_time": "2022-09-26T05:33:43.075Z"
   },
   {
    "duration": 302,
    "start_time": "2022-09-26T06:22:11.874Z"
   },
   {
    "duration": 227,
    "start_time": "2022-09-26T06:29:09.258Z"
   },
   {
    "duration": 293,
    "start_time": "2022-09-26T06:30:13.395Z"
   },
   {
    "duration": 233,
    "start_time": "2022-09-26T06:30:21.257Z"
   },
   {
    "duration": 229,
    "start_time": "2022-09-26T06:37:05.307Z"
   },
   {
    "duration": 1308,
    "start_time": "2022-09-26T06:39:41.225Z"
   },
   {
    "duration": 76,
    "start_time": "2022-09-26T06:39:42.535Z"
   },
   {
    "duration": 3,
    "start_time": "2022-09-26T06:39:42.613Z"
   },
   {
    "duration": 15,
    "start_time": "2022-09-26T06:39:42.617Z"
   },
   {
    "duration": 18,
    "start_time": "2022-09-26T06:39:42.635Z"
   },
   {
    "duration": 11,
    "start_time": "2022-09-26T06:39:42.655Z"
   },
   {
    "duration": 15,
    "start_time": "2022-09-26T06:39:42.668Z"
   },
   {
    "duration": 9,
    "start_time": "2022-09-26T06:39:42.685Z"
   },
   {
    "duration": 15,
    "start_time": "2022-09-26T06:39:42.696Z"
   },
   {
    "duration": 6,
    "start_time": "2022-09-26T06:39:42.713Z"
   },
   {
    "duration": 34,
    "start_time": "2022-09-26T06:39:42.720Z"
   },
   {
    "duration": 20,
    "start_time": "2022-09-26T06:39:42.756Z"
   },
   {
    "duration": 14,
    "start_time": "2022-09-26T06:39:42.777Z"
   },
   {
    "duration": 15,
    "start_time": "2022-09-26T06:39:42.794Z"
   },
   {
    "duration": 9,
    "start_time": "2022-09-26T06:39:42.810Z"
   },
   {
    "duration": 17,
    "start_time": "2022-09-26T06:39:42.820Z"
   },
   {
    "duration": 23,
    "start_time": "2022-09-26T06:39:42.838Z"
   },
   {
    "duration": 18,
    "start_time": "2022-09-26T06:39:42.863Z"
   },
   {
    "duration": 20,
    "start_time": "2022-09-26T06:39:42.882Z"
   },
   {
    "duration": 22,
    "start_time": "2022-09-26T06:39:42.904Z"
   },
   {
    "duration": 15,
    "start_time": "2022-09-26T06:39:42.928Z"
   },
   {
    "duration": 9,
    "start_time": "2022-09-26T06:39:42.944Z"
   },
   {
    "duration": 158,
    "start_time": "2022-09-26T06:39:42.954Z"
   },
   {
    "duration": 141,
    "start_time": "2022-09-26T06:39:43.114Z"
   },
   {
    "duration": 12,
    "start_time": "2022-09-26T06:39:43.257Z"
   },
   {
    "duration": 304,
    "start_time": "2022-09-26T06:39:43.271Z"
   },
   {
    "duration": 237,
    "start_time": "2022-09-26T06:39:43.576Z"
   },
   {
    "duration": 345,
    "start_time": "2022-09-26T06:39:43.815Z"
   },
   {
    "duration": 225,
    "start_time": "2022-09-26T06:39:44.162Z"
   },
   {
    "duration": 9,
    "start_time": "2022-09-26T06:39:44.389Z"
   },
   {
    "duration": 312,
    "start_time": "2022-09-26T06:39:44.400Z"
   },
   {
    "duration": 15,
    "start_time": "2022-09-26T06:39:44.714Z"
   },
   {
    "duration": 162,
    "start_time": "2022-09-26T06:39:44.730Z"
   },
   {
    "duration": 6,
    "start_time": "2022-09-26T06:39:44.894Z"
   },
   {
    "duration": 168,
    "start_time": "2022-09-26T06:39:44.902Z"
   },
   {
    "duration": 135,
    "start_time": "2022-09-26T06:39:45.072Z"
   },
   {
    "duration": 7,
    "start_time": "2022-09-26T06:39:45.209Z"
   },
   {
    "duration": 14,
    "start_time": "2022-09-26T06:39:45.217Z"
   },
   {
    "duration": 28,
    "start_time": "2022-09-26T06:39:45.233Z"
   },
   {
    "duration": 4,
    "start_time": "2022-09-26T06:39:45.262Z"
   },
   {
    "duration": 44,
    "start_time": "2022-09-26T06:39:45.269Z"
   },
   {
    "duration": 13,
    "start_time": "2022-09-26T06:39:45.314Z"
   },
   {
    "duration": 21,
    "start_time": "2022-09-26T06:39:45.328Z"
   },
   {
    "duration": 12,
    "start_time": "2022-09-26T06:39:45.351Z"
   },
   {
    "duration": 15,
    "start_time": "2022-09-26T06:39:45.365Z"
   },
   {
    "duration": 27,
    "start_time": "2022-09-26T06:39:45.382Z"
   },
   {
    "duration": 12,
    "start_time": "2022-09-26T06:39:45.411Z"
   },
   {
    "duration": 377,
    "start_time": "2022-09-26T06:41:09.292Z"
   },
   {
    "duration": 290,
    "start_time": "2022-09-26T06:42:07.576Z"
   },
   {
    "duration": 1476,
    "start_time": "2022-09-26T15:44:00.369Z"
   },
   {
    "duration": 231,
    "start_time": "2022-09-26T15:44:01.848Z"
   },
   {
    "duration": 3,
    "start_time": "2022-09-26T15:44:02.080Z"
   },
   {
    "duration": 25,
    "start_time": "2022-09-26T15:44:02.085Z"
   },
   {
    "duration": 11,
    "start_time": "2022-09-26T15:44:02.112Z"
   },
   {
    "duration": 18,
    "start_time": "2022-09-26T15:44:02.125Z"
   },
   {
    "duration": 13,
    "start_time": "2022-09-26T15:44:02.145Z"
   },
   {
    "duration": 24,
    "start_time": "2022-09-26T15:44:02.160Z"
   },
   {
    "duration": 15,
    "start_time": "2022-09-26T15:44:02.186Z"
   },
   {
    "duration": 8,
    "start_time": "2022-09-26T15:44:02.203Z"
   },
   {
    "duration": 14,
    "start_time": "2022-09-26T15:44:02.213Z"
   },
   {
    "duration": 7,
    "start_time": "2022-09-26T15:44:02.228Z"
   },
   {
    "duration": 11,
    "start_time": "2022-09-26T15:44:02.237Z"
   },
   {
    "duration": 14,
    "start_time": "2022-09-26T15:44:02.249Z"
   },
   {
    "duration": 5,
    "start_time": "2022-09-26T15:44:02.290Z"
   },
   {
    "duration": 15,
    "start_time": "2022-09-26T15:44:02.297Z"
   },
   {
    "duration": 11,
    "start_time": "2022-09-26T15:44:02.314Z"
   },
   {
    "duration": 15,
    "start_time": "2022-09-26T15:44:02.327Z"
   },
   {
    "duration": 17,
    "start_time": "2022-09-26T15:44:02.343Z"
   },
   {
    "duration": 36,
    "start_time": "2022-09-26T15:44:02.361Z"
   },
   {
    "duration": 8,
    "start_time": "2022-09-26T15:44:02.399Z"
   },
   {
    "duration": 7,
    "start_time": "2022-09-26T15:44:02.409Z"
   },
   {
    "duration": 188,
    "start_time": "2022-09-26T15:44:02.418Z"
   },
   {
    "duration": 139,
    "start_time": "2022-09-26T15:44:02.608Z"
   },
   {
    "duration": 12,
    "start_time": "2022-09-26T15:44:02.749Z"
   },
   {
    "duration": 286,
    "start_time": "2022-09-26T15:44:02.763Z"
   },
   {
    "duration": 233,
    "start_time": "2022-09-26T15:44:03.051Z"
   },
   {
    "duration": 334,
    "start_time": "2022-09-26T15:44:03.289Z"
   },
   {
    "duration": 221,
    "start_time": "2022-09-26T15:44:03.625Z"
   },
   {
    "duration": 10,
    "start_time": "2022-09-26T15:44:03.847Z"
   },
   {
    "duration": 319,
    "start_time": "2022-09-26T15:44:03.858Z"
   },
   {
    "duration": 22,
    "start_time": "2022-09-26T15:44:04.179Z"
   },
   {
    "duration": 164,
    "start_time": "2022-09-26T15:44:04.202Z"
   },
   {
    "duration": 5,
    "start_time": "2022-09-26T15:44:04.368Z"
   },
   {
    "duration": 167,
    "start_time": "2022-09-26T15:44:04.375Z"
   },
   {
    "duration": 126,
    "start_time": "2022-09-26T15:44:04.544Z"
   },
   {
    "duration": 6,
    "start_time": "2022-09-26T15:44:04.672Z"
   },
   {
    "duration": 18,
    "start_time": "2022-09-26T15:44:04.679Z"
   },
   {
    "duration": 11,
    "start_time": "2022-09-26T15:44:04.698Z"
   },
   {
    "duration": 4,
    "start_time": "2022-09-26T15:44:04.710Z"
   },
   {
    "duration": 27,
    "start_time": "2022-09-26T15:44:04.716Z"
   },
   {
    "duration": 112,
    "start_time": "2022-09-26T15:44:04.745Z"
   },
   {
    "duration": 12,
    "start_time": "2022-09-26T15:44:04.859Z"
   },
   {
    "duration": 15,
    "start_time": "2022-09-26T15:44:04.889Z"
   },
   {
    "duration": 13,
    "start_time": "2022-09-26T15:44:04.906Z"
   },
   {
    "duration": 27,
    "start_time": "2022-09-26T15:44:04.921Z"
   },
   {
    "duration": 13,
    "start_time": "2022-09-26T15:44:04.950Z"
   },
   {
    "duration": 241,
    "start_time": "2022-09-26T15:54:49.472Z"
   },
   {
    "duration": 160,
    "start_time": "2022-09-26T15:56:04.398Z"
   },
   {
    "duration": 221,
    "start_time": "2022-09-26T15:56:18.855Z"
   },
   {
    "duration": 13,
    "start_time": "2022-09-26T15:56:36.534Z"
   },
   {
    "duration": 220,
    "start_time": "2022-09-26T15:56:40.997Z"
   },
   {
    "duration": 227,
    "start_time": "2022-09-26T15:56:53.407Z"
   },
   {
    "duration": 226,
    "start_time": "2022-09-26T15:59:29.420Z"
   },
   {
    "duration": 24,
    "start_time": "2022-09-26T16:26:36.372Z"
   },
   {
    "duration": 25,
    "start_time": "2022-09-26T16:26:43.217Z"
   },
   {
    "duration": 26,
    "start_time": "2022-09-26T16:32:37.719Z"
   },
   {
    "duration": 29,
    "start_time": "2022-09-26T17:27:51.940Z"
   },
   {
    "duration": 25,
    "start_time": "2022-09-26T17:28:25.088Z"
   },
   {
    "duration": 24,
    "start_time": "2022-09-26T17:28:47.575Z"
   },
   {
    "duration": 73,
    "start_time": "2022-09-26T17:29:05.586Z"
   },
   {
    "duration": 12,
    "start_time": "2022-09-26T17:29:52.779Z"
   },
   {
    "duration": 25,
    "start_time": "2022-09-26T17:30:04.528Z"
   },
   {
    "duration": 12,
    "start_time": "2022-09-26T17:30:19.006Z"
   },
   {
    "duration": 1068,
    "start_time": "2022-09-27T15:25:52.368Z"
   },
   {
    "duration": 198,
    "start_time": "2022-09-27T15:25:53.438Z"
   },
   {
    "duration": 2,
    "start_time": "2022-09-27T15:25:53.638Z"
   },
   {
    "duration": 16,
    "start_time": "2022-09-27T15:25:53.642Z"
   },
   {
    "duration": 13,
    "start_time": "2022-09-27T15:25:53.660Z"
   },
   {
    "duration": 9,
    "start_time": "2022-09-27T15:25:53.674Z"
   },
   {
    "duration": 14,
    "start_time": "2022-09-27T15:25:53.685Z"
   },
   {
    "duration": 12,
    "start_time": "2022-09-27T15:25:53.701Z"
   },
   {
    "duration": 15,
    "start_time": "2022-09-27T15:25:53.715Z"
   },
   {
    "duration": 6,
    "start_time": "2022-09-27T15:25:53.731Z"
   },
   {
    "duration": 14,
    "start_time": "2022-09-27T15:25:53.738Z"
   },
   {
    "duration": 9,
    "start_time": "2022-09-27T15:25:53.754Z"
   },
   {
    "duration": 14,
    "start_time": "2022-09-27T15:25:53.764Z"
   },
   {
    "duration": 38,
    "start_time": "2022-09-27T15:25:53.782Z"
   },
   {
    "duration": 8,
    "start_time": "2022-09-27T15:25:53.821Z"
   },
   {
    "duration": 16,
    "start_time": "2022-09-27T15:25:53.831Z"
   },
   {
    "duration": 10,
    "start_time": "2022-09-27T15:25:53.849Z"
   },
   {
    "duration": 13,
    "start_time": "2022-09-27T15:25:53.860Z"
   },
   {
    "duration": 44,
    "start_time": "2022-09-27T15:25:53.874Z"
   },
   {
    "duration": 9,
    "start_time": "2022-09-27T15:25:53.920Z"
   },
   {
    "duration": 9,
    "start_time": "2022-09-27T15:25:53.931Z"
   },
   {
    "duration": 7,
    "start_time": "2022-09-27T15:25:53.941Z"
   },
   {
    "duration": 178,
    "start_time": "2022-09-27T15:25:53.950Z"
   },
   {
    "duration": 142,
    "start_time": "2022-09-27T15:25:54.129Z"
   },
   {
    "duration": 14,
    "start_time": "2022-09-27T15:25:54.273Z"
   },
   {
    "duration": 419,
    "start_time": "2022-09-27T15:25:54.289Z"
   },
   {
    "duration": 230,
    "start_time": "2022-09-27T15:25:54.710Z"
   },
   {
    "duration": 261,
    "start_time": "2022-09-27T15:25:54.942Z"
   },
   {
    "duration": 223,
    "start_time": "2022-09-27T15:25:55.204Z"
   },
   {
    "duration": 8,
    "start_time": "2022-09-27T15:25:55.428Z"
   },
   {
    "duration": 291,
    "start_time": "2022-09-27T15:25:55.438Z"
   },
   {
    "duration": 14,
    "start_time": "2022-09-27T15:25:55.731Z"
   },
   {
    "duration": 228,
    "start_time": "2022-09-27T15:25:55.747Z"
   },
   {
    "duration": 122,
    "start_time": "2022-09-27T15:25:55.977Z"
   },
   {
    "duration": 0,
    "start_time": "2022-09-27T15:25:56.101Z"
   },
   {
    "duration": 0,
    "start_time": "2022-09-27T15:25:56.109Z"
   },
   {
    "duration": 0,
    "start_time": "2022-09-27T15:25:56.111Z"
   },
   {
    "duration": 0,
    "start_time": "2022-09-27T15:25:56.112Z"
   },
   {
    "duration": 0,
    "start_time": "2022-09-27T15:25:56.114Z"
   },
   {
    "duration": 0,
    "start_time": "2022-09-27T15:25:56.115Z"
   },
   {
    "duration": 0,
    "start_time": "2022-09-27T15:25:56.116Z"
   },
   {
    "duration": 0,
    "start_time": "2022-09-27T15:25:56.117Z"
   },
   {
    "duration": 0,
    "start_time": "2022-09-27T15:25:56.117Z"
   },
   {
    "duration": 0,
    "start_time": "2022-09-27T15:25:56.119Z"
   },
   {
    "duration": 0,
    "start_time": "2022-09-27T15:25:56.120Z"
   },
   {
    "duration": 0,
    "start_time": "2022-09-27T15:25:56.121Z"
   },
   {
    "duration": 0,
    "start_time": "2022-09-27T15:25:56.122Z"
   },
   {
    "duration": 3,
    "start_time": "2022-09-27T16:25:27.964Z"
   },
   {
    "duration": 81,
    "start_time": "2022-09-27T16:25:27.968Z"
   },
   {
    "duration": 3,
    "start_time": "2022-09-27T16:25:28.050Z"
   },
   {
    "duration": 10,
    "start_time": "2022-09-27T16:25:28.054Z"
   },
   {
    "duration": 9,
    "start_time": "2022-09-27T16:25:28.065Z"
   },
   {
    "duration": 5,
    "start_time": "2022-09-27T16:25:28.076Z"
   },
   {
    "duration": 9,
    "start_time": "2022-09-27T16:25:28.082Z"
   },
   {
    "duration": 7,
    "start_time": "2022-09-27T16:25:28.092Z"
   },
   {
    "duration": 9,
    "start_time": "2022-09-27T16:25:28.101Z"
   },
   {
    "duration": 5,
    "start_time": "2022-09-27T16:25:28.111Z"
   },
   {
    "duration": 9,
    "start_time": "2022-09-27T16:25:28.119Z"
   },
   {
    "duration": 6,
    "start_time": "2022-09-27T16:25:28.129Z"
   },
   {
    "duration": 9,
    "start_time": "2022-09-27T16:25:28.136Z"
   },
   {
    "duration": 10,
    "start_time": "2022-09-27T16:25:28.147Z"
   },
   {
    "duration": 5,
    "start_time": "2022-09-27T16:25:28.158Z"
   },
   {
    "duration": 9,
    "start_time": "2022-09-27T16:25:28.164Z"
   },
   {
    "duration": 34,
    "start_time": "2022-09-27T16:25:28.175Z"
   },
   {
    "duration": 12,
    "start_time": "2022-09-27T16:25:28.211Z"
   },
   {
    "duration": 14,
    "start_time": "2022-09-27T16:25:28.224Z"
   },
   {
    "duration": 10,
    "start_time": "2022-09-27T16:25:28.239Z"
   },
   {
    "duration": 10,
    "start_time": "2022-09-27T16:25:28.251Z"
   },
   {
    "duration": 5,
    "start_time": "2022-09-27T16:25:28.263Z"
   },
   {
    "duration": 166,
    "start_time": "2022-09-27T16:25:28.269Z"
   },
   {
    "duration": 117,
    "start_time": "2022-09-27T16:25:28.437Z"
   },
   {
    "duration": 11,
    "start_time": "2022-09-27T16:25:28.555Z"
   },
   {
    "duration": 195,
    "start_time": "2022-09-27T16:25:28.568Z"
   },
   {
    "duration": 258,
    "start_time": "2022-09-27T16:25:28.765Z"
   },
   {
    "duration": 284,
    "start_time": "2022-09-27T16:25:29.025Z"
   },
   {
    "duration": 190,
    "start_time": "2022-09-27T16:25:29.312Z"
   },
   {
    "duration": 9,
    "start_time": "2022-09-27T16:25:29.509Z"
   },
   {
    "duration": 278,
    "start_time": "2022-09-27T16:25:29.519Z"
   },
   {
    "duration": 20,
    "start_time": "2022-09-27T16:25:29.799Z"
   },
   {
    "duration": 205,
    "start_time": "2022-09-27T16:25:29.820Z"
   },
   {
    "duration": 12,
    "start_time": "2022-09-27T16:25:30.027Z"
   },
   {
    "duration": 5,
    "start_time": "2022-09-27T16:25:52.130Z"
   },
   {
    "duration": 128,
    "start_time": "2022-09-27T16:25:52.137Z"
   },
   {
    "duration": 137,
    "start_time": "2022-09-27T16:25:52.267Z"
   },
   {
    "duration": 5,
    "start_time": "2022-09-27T16:25:52.408Z"
   },
   {
    "duration": 10,
    "start_time": "2022-09-27T16:25:52.415Z"
   },
   {
    "duration": 10,
    "start_time": "2022-09-27T16:25:52.427Z"
   },
   {
    "duration": 4,
    "start_time": "2022-09-27T16:25:52.438Z"
   },
   {
    "duration": 24,
    "start_time": "2022-09-27T16:25:52.443Z"
   },
   {
    "duration": 11,
    "start_time": "2022-09-27T16:25:52.468Z"
   },
   {
    "duration": 12,
    "start_time": "2022-09-27T16:25:52.509Z"
   },
   {
    "duration": 4,
    "start_time": "2022-09-27T16:25:52.522Z"
   },
   {
    "duration": 26,
    "start_time": "2022-09-27T16:25:52.527Z"
   },
   {
    "duration": 11,
    "start_time": "2022-09-27T16:25:52.554Z"
   },
   {
    "duration": 231,
    "start_time": "2022-09-27T16:28:47.681Z"
   }
  ],
  "kernelspec": {
   "display_name": "Python 3 (ipykernel)",
   "language": "python",
   "name": "python3"
  },
  "language_info": {
   "codemirror_mode": {
    "name": "ipython",
    "version": 3
   },
   "file_extension": ".py",
   "mimetype": "text/x-python",
   "name": "python",
   "nbconvert_exporter": "python",
   "pygments_lexer": "ipython3",
   "version": "3.9.7"
  },
  "toc": {
   "base_numbering": 1,
   "nav_menu": {},
   "number_sections": true,
   "sideBar": true,
   "skip_h1_title": true,
   "title_cell": "Table of Contents",
   "title_sidebar": "Contents",
   "toc_cell": false,
   "toc_position": {},
   "toc_section_display": true,
   "toc_window_display": false
  }
 },
 "nbformat": 4,
 "nbformat_minor": 2
}
