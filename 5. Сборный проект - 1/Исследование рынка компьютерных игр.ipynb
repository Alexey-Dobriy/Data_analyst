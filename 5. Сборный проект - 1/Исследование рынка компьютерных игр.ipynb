{
 "cells": [
  {
   "cell_type": "markdown",
   "id": "eec374ba",
   "metadata": {},
   "source": [
    "# Описание проекта\n",
    "\n",
    "Интернет-магазине «Стримчик» продаёт по всему миру компьютерные игры. Из открытых источников доступны исторические данные о продажах игр, оценки пользователей и экспертов, жанры и платформы (например, Xbox или PlayStation).Необходимо выявить определяющие успешность игры закономерности. Это позволит сделать ставку на потенциально популярный продукт и спланировать рекламные кампании.\n",
    "\n",
    "Перед нами данные до 2016 года. Сейчас декабрь 2016 г., и мы планируем кампанию на 2017-й. Нужно отработать принцип работы с данными. Неважно, прогнозируем мы продажи на 2017 год по данным 2016-го или же 2027-й — по данным 2026 года.\n",
    "\n",
    "Данные за 2016 год могут быть неполными.\n",
    "\n",
    "В наборе данных попадается аббревиатура ESRB (Entertainment Software Rating Board) — это ассоциация, определяющая возрастной рейтинг компьютерных игр. ESRB оценивает игровой контент и присваивает ему подходящую возрастную категорию, например, «Для взрослых», «Для детей младшего возраста» или «Для подростков»."
   ]
  },
  {
   "cell_type": "markdown",
   "id": "c67da8bf",
   "metadata": {},
   "source": [
    "**Цель исследования** - Необходимо выявить определяющие успешность игры закономерности.\n",
    "\n",
    "Проверить две гипотезы:\n",
    "\n",
    "* Средние пользовательские рейтинги платформ Xbox One и PC одинаковые;\n",
    "* Средние пользовательские рейтинги жанров Action (англ. «действие», экшен-игры) и Sports (англ. «спортивные соревнования») разные."
   ]
  },
  {
   "cell_type": "markdown",
   "id": "891bf91e",
   "metadata": {},
   "source": [
    "## 1. Изучение данных из файла"
   ]
  },
  {
   "cell_type": "code",
   "execution_count": 128,
   "id": "48795982",
   "metadata": {},
   "outputs": [
    {
     "name": "stdout",
     "output_type": "stream",
     "text": [
      "Requirement already satisfied: sidetable in /opt/conda/lib/python3.9/site-packages (0.9.0)\n",
      "Requirement already satisfied: pandas>=1.0 in /opt/conda/lib/python3.9/site-packages (from sidetable) (1.2.4)\n",
      "Requirement already satisfied: python-dateutil>=2.7.3 in /opt/conda/lib/python3.9/site-packages (from pandas>=1.0->sidetable) (2.8.1)\n",
      "Requirement already satisfied: pytz>=2017.3 in /opt/conda/lib/python3.9/site-packages (from pandas>=1.0->sidetable) (2021.1)\n",
      "Requirement already satisfied: numpy>=1.16.5 in /opt/conda/lib/python3.9/site-packages (from pandas>=1.0->sidetable) (1.21.1)\n",
      "Requirement already satisfied: six>=1.5 in /opt/conda/lib/python3.9/site-packages (from python-dateutil>=2.7.3->pandas>=1.0->sidetable) (1.16.0)\n"
     ]
    }
   ],
   "source": [
    "# скачаем библиотеку\n",
    "!pip install sidetable "
   ]
  },
  {
   "cell_type": "code",
   "execution_count": 129,
   "id": "0ef3e40a",
   "metadata": {},
   "outputs": [],
   "source": [
    "# импортируем библиотеки \n",
    "import pandas as pd\n",
    "import numpy as np\n",
    "import seaborn as sns\n",
    "import matplotlib.pyplot as plt\n",
    "import sidetable\n",
    "from scipy import stats as st"
   ]
  },
  {
   "cell_type": "code",
   "execution_count": 130,
   "id": "282edec6",
   "metadata": {},
   "outputs": [
    {
     "data": {
      "text/html": [
       "<div>\n",
       "<style scoped>\n",
       "    .dataframe tbody tr th:only-of-type {\n",
       "        vertical-align: middle;\n",
       "    }\n",
       "\n",
       "    .dataframe tbody tr th {\n",
       "        vertical-align: top;\n",
       "    }\n",
       "\n",
       "    .dataframe thead th {\n",
       "        text-align: right;\n",
       "    }\n",
       "</style>\n",
       "<table border=\"1\" class=\"dataframe\">\n",
       "  <thead>\n",
       "    <tr style=\"text-align: right;\">\n",
       "      <th></th>\n",
       "      <th>Name</th>\n",
       "      <th>Platform</th>\n",
       "      <th>Year_of_Release</th>\n",
       "      <th>Genre</th>\n",
       "      <th>NA_sales</th>\n",
       "      <th>EU_sales</th>\n",
       "      <th>JP_sales</th>\n",
       "      <th>Other_sales</th>\n",
       "      <th>Critic_Score</th>\n",
       "      <th>User_Score</th>\n",
       "      <th>Rating</th>\n",
       "    </tr>\n",
       "  </thead>\n",
       "  <tbody>\n",
       "    <tr>\n",
       "      <th>0</th>\n",
       "      <td>Wii Sports</td>\n",
       "      <td>Wii</td>\n",
       "      <td>2006.0</td>\n",
       "      <td>Sports</td>\n",
       "      <td>41.36</td>\n",
       "      <td>28.96</td>\n",
       "      <td>3.77</td>\n",
       "      <td>8.45</td>\n",
       "      <td>76.0</td>\n",
       "      <td>8</td>\n",
       "      <td>E</td>\n",
       "    </tr>\n",
       "    <tr>\n",
       "      <th>1</th>\n",
       "      <td>Super Mario Bros.</td>\n",
       "      <td>NES</td>\n",
       "      <td>1985.0</td>\n",
       "      <td>Platform</td>\n",
       "      <td>29.08</td>\n",
       "      <td>3.58</td>\n",
       "      <td>6.81</td>\n",
       "      <td>0.77</td>\n",
       "      <td>NaN</td>\n",
       "      <td>NaN</td>\n",
       "      <td>NaN</td>\n",
       "    </tr>\n",
       "    <tr>\n",
       "      <th>2</th>\n",
       "      <td>Mario Kart Wii</td>\n",
       "      <td>Wii</td>\n",
       "      <td>2008.0</td>\n",
       "      <td>Racing</td>\n",
       "      <td>15.68</td>\n",
       "      <td>12.76</td>\n",
       "      <td>3.79</td>\n",
       "      <td>3.29</td>\n",
       "      <td>82.0</td>\n",
       "      <td>8.3</td>\n",
       "      <td>E</td>\n",
       "    </tr>\n",
       "    <tr>\n",
       "      <th>3</th>\n",
       "      <td>Wii Sports Resort</td>\n",
       "      <td>Wii</td>\n",
       "      <td>2009.0</td>\n",
       "      <td>Sports</td>\n",
       "      <td>15.61</td>\n",
       "      <td>10.93</td>\n",
       "      <td>3.28</td>\n",
       "      <td>2.95</td>\n",
       "      <td>80.0</td>\n",
       "      <td>8</td>\n",
       "      <td>E</td>\n",
       "    </tr>\n",
       "    <tr>\n",
       "      <th>4</th>\n",
       "      <td>Pokemon Red/Pokemon Blue</td>\n",
       "      <td>GB</td>\n",
       "      <td>1996.0</td>\n",
       "      <td>Role-Playing</td>\n",
       "      <td>11.27</td>\n",
       "      <td>8.89</td>\n",
       "      <td>10.22</td>\n",
       "      <td>1.00</td>\n",
       "      <td>NaN</td>\n",
       "      <td>NaN</td>\n",
       "      <td>NaN</td>\n",
       "    </tr>\n",
       "    <tr>\n",
       "      <th>...</th>\n",
       "      <td>...</td>\n",
       "      <td>...</td>\n",
       "      <td>...</td>\n",
       "      <td>...</td>\n",
       "      <td>...</td>\n",
       "      <td>...</td>\n",
       "      <td>...</td>\n",
       "      <td>...</td>\n",
       "      <td>...</td>\n",
       "      <td>...</td>\n",
       "      <td>...</td>\n",
       "    </tr>\n",
       "    <tr>\n",
       "      <th>16710</th>\n",
       "      <td>Samurai Warriors: Sanada Maru</td>\n",
       "      <td>PS3</td>\n",
       "      <td>2016.0</td>\n",
       "      <td>Action</td>\n",
       "      <td>0.00</td>\n",
       "      <td>0.00</td>\n",
       "      <td>0.01</td>\n",
       "      <td>0.00</td>\n",
       "      <td>NaN</td>\n",
       "      <td>NaN</td>\n",
       "      <td>NaN</td>\n",
       "    </tr>\n",
       "    <tr>\n",
       "      <th>16711</th>\n",
       "      <td>LMA Manager 2007</td>\n",
       "      <td>X360</td>\n",
       "      <td>2006.0</td>\n",
       "      <td>Sports</td>\n",
       "      <td>0.00</td>\n",
       "      <td>0.01</td>\n",
       "      <td>0.00</td>\n",
       "      <td>0.00</td>\n",
       "      <td>NaN</td>\n",
       "      <td>NaN</td>\n",
       "      <td>NaN</td>\n",
       "    </tr>\n",
       "    <tr>\n",
       "      <th>16712</th>\n",
       "      <td>Haitaka no Psychedelica</td>\n",
       "      <td>PSV</td>\n",
       "      <td>2016.0</td>\n",
       "      <td>Adventure</td>\n",
       "      <td>0.00</td>\n",
       "      <td>0.00</td>\n",
       "      <td>0.01</td>\n",
       "      <td>0.00</td>\n",
       "      <td>NaN</td>\n",
       "      <td>NaN</td>\n",
       "      <td>NaN</td>\n",
       "    </tr>\n",
       "    <tr>\n",
       "      <th>16713</th>\n",
       "      <td>Spirits &amp; Spells</td>\n",
       "      <td>GBA</td>\n",
       "      <td>2003.0</td>\n",
       "      <td>Platform</td>\n",
       "      <td>0.01</td>\n",
       "      <td>0.00</td>\n",
       "      <td>0.00</td>\n",
       "      <td>0.00</td>\n",
       "      <td>NaN</td>\n",
       "      <td>NaN</td>\n",
       "      <td>NaN</td>\n",
       "    </tr>\n",
       "    <tr>\n",
       "      <th>16714</th>\n",
       "      <td>Winning Post 8 2016</td>\n",
       "      <td>PSV</td>\n",
       "      <td>2016.0</td>\n",
       "      <td>Simulation</td>\n",
       "      <td>0.00</td>\n",
       "      <td>0.00</td>\n",
       "      <td>0.01</td>\n",
       "      <td>0.00</td>\n",
       "      <td>NaN</td>\n",
       "      <td>NaN</td>\n",
       "      <td>NaN</td>\n",
       "    </tr>\n",
       "  </tbody>\n",
       "</table>\n",
       "<p>16715 rows × 11 columns</p>\n",
       "</div>"
      ],
      "text/plain": [
       "                                Name Platform  Year_of_Release         Genre  \\\n",
       "0                         Wii Sports      Wii           2006.0        Sports   \n",
       "1                  Super Mario Bros.      NES           1985.0      Platform   \n",
       "2                     Mario Kart Wii      Wii           2008.0        Racing   \n",
       "3                  Wii Sports Resort      Wii           2009.0        Sports   \n",
       "4           Pokemon Red/Pokemon Blue       GB           1996.0  Role-Playing   \n",
       "...                              ...      ...              ...           ...   \n",
       "16710  Samurai Warriors: Sanada Maru      PS3           2016.0        Action   \n",
       "16711               LMA Manager 2007     X360           2006.0        Sports   \n",
       "16712        Haitaka no Psychedelica      PSV           2016.0     Adventure   \n",
       "16713               Spirits & Spells      GBA           2003.0      Platform   \n",
       "16714            Winning Post 8 2016      PSV           2016.0    Simulation   \n",
       "\n",
       "       NA_sales  EU_sales  JP_sales  Other_sales  Critic_Score User_Score  \\\n",
       "0         41.36     28.96      3.77         8.45          76.0          8   \n",
       "1         29.08      3.58      6.81         0.77           NaN        NaN   \n",
       "2         15.68     12.76      3.79         3.29          82.0        8.3   \n",
       "3         15.61     10.93      3.28         2.95          80.0          8   \n",
       "4         11.27      8.89     10.22         1.00           NaN        NaN   \n",
       "...         ...       ...       ...          ...           ...        ...   \n",
       "16710      0.00      0.00      0.01         0.00           NaN        NaN   \n",
       "16711      0.00      0.01      0.00         0.00           NaN        NaN   \n",
       "16712      0.00      0.00      0.01         0.00           NaN        NaN   \n",
       "16713      0.01      0.00      0.00         0.00           NaN        NaN   \n",
       "16714      0.00      0.00      0.01         0.00           NaN        NaN   \n",
       "\n",
       "      Rating  \n",
       "0          E  \n",
       "1        NaN  \n",
       "2          E  \n",
       "3          E  \n",
       "4        NaN  \n",
       "...      ...  \n",
       "16710    NaN  \n",
       "16711    NaN  \n",
       "16712    NaN  \n",
       "16713    NaN  \n",
       "16714    NaN  \n",
       "\n",
       "[16715 rows x 11 columns]"
      ]
     },
     "execution_count": 130,
     "metadata": {},
     "output_type": "execute_result"
    }
   ],
   "source": [
    "# открываем таблицу и запрашиваем все атрибуты \n",
    "try:\n",
    "    games = pd.read_csv('/Users/games.csv')\n",
    "except:\n",
    "    games = pd.read_csv('/datasets/games.csv')    \n",
    "games"
   ]
  },
  {
   "cell_type": "code",
   "execution_count": 131,
   "id": "e491d8b2",
   "metadata": {},
   "outputs": [
    {
     "name": "stdout",
     "output_type": "stream",
     "text": [
      "<class 'pandas.core.frame.DataFrame'>\n",
      "RangeIndex: 16715 entries, 0 to 16714\n",
      "Data columns (total 11 columns):\n",
      " #   Column           Non-Null Count  Dtype  \n",
      "---  ------           --------------  -----  \n",
      " 0   Name             16713 non-null  object \n",
      " 1   Platform         16715 non-null  object \n",
      " 2   Year_of_Release  16446 non-null  float64\n",
      " 3   Genre            16713 non-null  object \n",
      " 4   NA_sales         16715 non-null  float64\n",
      " 5   EU_sales         16715 non-null  float64\n",
      " 6   JP_sales         16715 non-null  float64\n",
      " 7   Other_sales      16715 non-null  float64\n",
      " 8   Critic_Score     8137 non-null   float64\n",
      " 9   User_Score       10014 non-null  object \n",
      " 10  Rating           9949 non-null   object \n",
      "dtypes: float64(6), object(5)\n",
      "memory usage: 1.4+ MB\n"
     ]
    }
   ],
   "source": [
    "# проверка данных\n",
    "games.info()"
   ]
  },
  {
   "cell_type": "markdown",
   "id": "ca9052e2",
   "metadata": {},
   "source": [
    "Можно наблюдать большое количество пропусков, проблемы с названием столбцов, а так же есть проблемы с типами данных, начнем предобработку данных"
   ]
  },
  {
   "cell_type": "markdown",
   "id": "137193af",
   "metadata": {},
   "source": [
    "## 2. Предобработка данных"
   ]
  },
  {
   "cell_type": "markdown",
   "id": "88142220",
   "metadata": {},
   "source": [
    "### 2.1. Для начала приведем названия столбцов к нижнему регистру."
   ]
  },
  {
   "cell_type": "code",
   "execution_count": 132,
   "id": "cf5c96ff",
   "metadata": {
    "scrolled": true
   },
   "outputs": [
    {
     "name": "stdout",
     "output_type": "stream",
     "text": [
      "<class 'pandas.core.frame.DataFrame'>\n",
      "RangeIndex: 16715 entries, 0 to 16714\n",
      "Data columns (total 11 columns):\n",
      " #   Column           Non-Null Count  Dtype  \n",
      "---  ------           --------------  -----  \n",
      " 0   name             16713 non-null  object \n",
      " 1   platform         16715 non-null  object \n",
      " 2   year_of_release  16446 non-null  float64\n",
      " 3   genre            16713 non-null  object \n",
      " 4   na_sales         16715 non-null  float64\n",
      " 5   eu_sales         16715 non-null  float64\n",
      " 6   jp_sales         16715 non-null  float64\n",
      " 7   other_sales      16715 non-null  float64\n",
      " 8   critic_score     8137 non-null   float64\n",
      " 9   user_score       10014 non-null  object \n",
      " 10  rating           9949 non-null   object \n",
      "dtypes: float64(6), object(5)\n",
      "memory usage: 1.4+ MB\n"
     ]
    }
   ],
   "source": [
    "# переводим столбцы в нижний регистр \n",
    "games.columns = games.columns.str.lower()\n",
    "games.info()"
   ]
  },
  {
   "cell_type": "markdown",
   "id": "52f42d51",
   "metadata": {},
   "source": [
    "Отлично, изменили названия столбцов, самое время заняться типами данных."
   ]
  },
  {
   "cell_type": "markdown",
   "id": "dfbfcced",
   "metadata": {},
   "source": [
    "### 2.2. Преобразуем данные  в нужные типы."
   ]
  },
  {
   "cell_type": "markdown",
   "id": "e89cd0a0",
   "metadata": {},
   "source": [
    "В столбце `year_of_release` никак не получается перевести года в года, поэтому стоит взять метку даты (в нашем случае 2010), которая будет обозначать отсутствие даты релиза."
   ]
  },
  {
   "cell_type": "code",
   "execution_count": 133,
   "id": "4c5b2213",
   "metadata": {},
   "outputs": [
    {
     "data": {
      "text/html": [
       "<div>\n",
       "<style scoped>\n",
       "    .dataframe tbody tr th:only-of-type {\n",
       "        vertical-align: middle;\n",
       "    }\n",
       "\n",
       "    .dataframe tbody tr th {\n",
       "        vertical-align: top;\n",
       "    }\n",
       "\n",
       "    .dataframe thead th {\n",
       "        text-align: right;\n",
       "    }\n",
       "</style>\n",
       "<table border=\"1\" class=\"dataframe\">\n",
       "  <thead>\n",
       "    <tr style=\"text-align: right;\">\n",
       "      <th></th>\n",
       "      <th>name</th>\n",
       "      <th>platform</th>\n",
       "      <th>year_of_release</th>\n",
       "      <th>genre</th>\n",
       "      <th>na_sales</th>\n",
       "      <th>eu_sales</th>\n",
       "      <th>jp_sales</th>\n",
       "      <th>other_sales</th>\n",
       "      <th>critic_score</th>\n",
       "      <th>user_score</th>\n",
       "      <th>rating</th>\n",
       "    </tr>\n",
       "  </thead>\n",
       "  <tbody>\n",
       "    <tr>\n",
       "      <th>0</th>\n",
       "      <td>Wii Sports</td>\n",
       "      <td>Wii</td>\n",
       "      <td>2006</td>\n",
       "      <td>Sports</td>\n",
       "      <td>41.36</td>\n",
       "      <td>28.96</td>\n",
       "      <td>3.77</td>\n",
       "      <td>8.45</td>\n",
       "      <td>76.0</td>\n",
       "      <td>8</td>\n",
       "      <td>E</td>\n",
       "    </tr>\n",
       "    <tr>\n",
       "      <th>1</th>\n",
       "      <td>Super Mario Bros.</td>\n",
       "      <td>NES</td>\n",
       "      <td>1985</td>\n",
       "      <td>Platform</td>\n",
       "      <td>29.08</td>\n",
       "      <td>3.58</td>\n",
       "      <td>6.81</td>\n",
       "      <td>0.77</td>\n",
       "      <td>NaN</td>\n",
       "      <td>NaN</td>\n",
       "      <td>NaN</td>\n",
       "    </tr>\n",
       "    <tr>\n",
       "      <th>2</th>\n",
       "      <td>Mario Kart Wii</td>\n",
       "      <td>Wii</td>\n",
       "      <td>2008</td>\n",
       "      <td>Racing</td>\n",
       "      <td>15.68</td>\n",
       "      <td>12.76</td>\n",
       "      <td>3.79</td>\n",
       "      <td>3.29</td>\n",
       "      <td>82.0</td>\n",
       "      <td>8.3</td>\n",
       "      <td>E</td>\n",
       "    </tr>\n",
       "    <tr>\n",
       "      <th>3</th>\n",
       "      <td>Wii Sports Resort</td>\n",
       "      <td>Wii</td>\n",
       "      <td>2009</td>\n",
       "      <td>Sports</td>\n",
       "      <td>15.61</td>\n",
       "      <td>10.93</td>\n",
       "      <td>3.28</td>\n",
       "      <td>2.95</td>\n",
       "      <td>80.0</td>\n",
       "      <td>8</td>\n",
       "      <td>E</td>\n",
       "    </tr>\n",
       "    <tr>\n",
       "      <th>4</th>\n",
       "      <td>Pokemon Red/Pokemon Blue</td>\n",
       "      <td>GB</td>\n",
       "      <td>1996</td>\n",
       "      <td>Role-Playing</td>\n",
       "      <td>11.27</td>\n",
       "      <td>8.89</td>\n",
       "      <td>10.22</td>\n",
       "      <td>1.00</td>\n",
       "      <td>NaN</td>\n",
       "      <td>NaN</td>\n",
       "      <td>NaN</td>\n",
       "    </tr>\n",
       "    <tr>\n",
       "      <th>...</th>\n",
       "      <td>...</td>\n",
       "      <td>...</td>\n",
       "      <td>...</td>\n",
       "      <td>...</td>\n",
       "      <td>...</td>\n",
       "      <td>...</td>\n",
       "      <td>...</td>\n",
       "      <td>...</td>\n",
       "      <td>...</td>\n",
       "      <td>...</td>\n",
       "      <td>...</td>\n",
       "    </tr>\n",
       "    <tr>\n",
       "      <th>16710</th>\n",
       "      <td>Samurai Warriors: Sanada Maru</td>\n",
       "      <td>PS3</td>\n",
       "      <td>2016</td>\n",
       "      <td>Action</td>\n",
       "      <td>0.00</td>\n",
       "      <td>0.00</td>\n",
       "      <td>0.01</td>\n",
       "      <td>0.00</td>\n",
       "      <td>NaN</td>\n",
       "      <td>NaN</td>\n",
       "      <td>NaN</td>\n",
       "    </tr>\n",
       "    <tr>\n",
       "      <th>16711</th>\n",
       "      <td>LMA Manager 2007</td>\n",
       "      <td>X360</td>\n",
       "      <td>2006</td>\n",
       "      <td>Sports</td>\n",
       "      <td>0.00</td>\n",
       "      <td>0.01</td>\n",
       "      <td>0.00</td>\n",
       "      <td>0.00</td>\n",
       "      <td>NaN</td>\n",
       "      <td>NaN</td>\n",
       "      <td>NaN</td>\n",
       "    </tr>\n",
       "    <tr>\n",
       "      <th>16712</th>\n",
       "      <td>Haitaka no Psychedelica</td>\n",
       "      <td>PSV</td>\n",
       "      <td>2016</td>\n",
       "      <td>Adventure</td>\n",
       "      <td>0.00</td>\n",
       "      <td>0.00</td>\n",
       "      <td>0.01</td>\n",
       "      <td>0.00</td>\n",
       "      <td>NaN</td>\n",
       "      <td>NaN</td>\n",
       "      <td>NaN</td>\n",
       "    </tr>\n",
       "    <tr>\n",
       "      <th>16713</th>\n",
       "      <td>Spirits &amp; Spells</td>\n",
       "      <td>GBA</td>\n",
       "      <td>2003</td>\n",
       "      <td>Platform</td>\n",
       "      <td>0.01</td>\n",
       "      <td>0.00</td>\n",
       "      <td>0.00</td>\n",
       "      <td>0.00</td>\n",
       "      <td>NaN</td>\n",
       "      <td>NaN</td>\n",
       "      <td>NaN</td>\n",
       "    </tr>\n",
       "    <tr>\n",
       "      <th>16714</th>\n",
       "      <td>Winning Post 8 2016</td>\n",
       "      <td>PSV</td>\n",
       "      <td>2016</td>\n",
       "      <td>Simulation</td>\n",
       "      <td>0.00</td>\n",
       "      <td>0.00</td>\n",
       "      <td>0.01</td>\n",
       "      <td>0.00</td>\n",
       "      <td>NaN</td>\n",
       "      <td>NaN</td>\n",
       "      <td>NaN</td>\n",
       "    </tr>\n",
       "  </tbody>\n",
       "</table>\n",
       "<p>16715 rows × 11 columns</p>\n",
       "</div>"
      ],
      "text/plain": [
       "                                name platform  year_of_release         genre  \\\n",
       "0                         Wii Sports      Wii             2006        Sports   \n",
       "1                  Super Mario Bros.      NES             1985      Platform   \n",
       "2                     Mario Kart Wii      Wii             2008        Racing   \n",
       "3                  Wii Sports Resort      Wii             2009        Sports   \n",
       "4           Pokemon Red/Pokemon Blue       GB             1996  Role-Playing   \n",
       "...                              ...      ...              ...           ...   \n",
       "16710  Samurai Warriors: Sanada Maru      PS3             2016        Action   \n",
       "16711               LMA Manager 2007     X360             2006        Sports   \n",
       "16712        Haitaka no Psychedelica      PSV             2016     Adventure   \n",
       "16713               Spirits & Spells      GBA             2003      Platform   \n",
       "16714            Winning Post 8 2016      PSV             2016    Simulation   \n",
       "\n",
       "       na_sales  eu_sales  jp_sales  other_sales  critic_score user_score  \\\n",
       "0         41.36     28.96      3.77         8.45          76.0          8   \n",
       "1         29.08      3.58      6.81         0.77           NaN        NaN   \n",
       "2         15.68     12.76      3.79         3.29          82.0        8.3   \n",
       "3         15.61     10.93      3.28         2.95          80.0          8   \n",
       "4         11.27      8.89     10.22         1.00           NaN        NaN   \n",
       "...         ...       ...       ...          ...           ...        ...   \n",
       "16710      0.00      0.00      0.01         0.00           NaN        NaN   \n",
       "16711      0.00      0.01      0.00         0.00           NaN        NaN   \n",
       "16712      0.00      0.00      0.01         0.00           NaN        NaN   \n",
       "16713      0.01      0.00      0.00         0.00           NaN        NaN   \n",
       "16714      0.00      0.00      0.01         0.00           NaN        NaN   \n",
       "\n",
       "      rating  \n",
       "0          E  \n",
       "1        NaN  \n",
       "2          E  \n",
       "3          E  \n",
       "4        NaN  \n",
       "...      ...  \n",
       "16710    NaN  \n",
       "16711    NaN  \n",
       "16712    NaN  \n",
       "16713    NaN  \n",
       "16714    NaN  \n",
       "\n",
       "[16715 rows x 11 columns]"
      ]
     },
     "execution_count": 133,
     "metadata": {},
     "output_type": "execute_result"
    }
   ],
   "source": [
    "# исправляем столбец `year_of_release`\n",
    "games['year_of_release'] = games['year_of_release'].fillna(2100)\n",
    "games['year_of_release'] = games['year_of_release'].astype('int64')\n",
    "games"
   ]
  },
  {
   "cell_type": "code",
   "execution_count": 134,
   "id": "b30f3524",
   "metadata": {},
   "outputs": [
    {
     "data": {
      "text/plain": [
       "array(['8', nan, '8.3', '8.5', '6.6', '8.4', '8.6', '7.7', '6.3', '7.4',\n",
       "       '8.2', '9', '7.9', '8.1', '8.7', '7.1', '3.4', '5.3', '4.8', '3.2',\n",
       "       '8.9', '6.4', '7.8', '7.5', '2.6', '7.2', '9.2', '7', '7.3', '4.3',\n",
       "       '7.6', '5.7', '5', '9.1', '6.5', 'tbd', '8.8', '6.9', '9.4', '6.8',\n",
       "       '6.1', '6.7', '5.4', '4', '4.9', '4.5', '9.3', '6.2', '4.2', '6',\n",
       "       '3.7', '4.1', '5.8', '5.6', '5.5', '4.4', '4.6', '5.9', '3.9',\n",
       "       '3.1', '2.9', '5.2', '3.3', '4.7', '5.1', '3.5', '2.5', '1.9', '3',\n",
       "       '2.7', '2.2', '2', '9.5', '2.1', '3.6', '2.8', '1.8', '3.8', '0',\n",
       "       '1.6', '9.6', '2.4', '1.7', '1.1', '0.3', '1.5', '0.7', '1.2',\n",
       "       '2.3', '0.5', '1.3', '0.2', '0.6', '1.4', '0.9', '1', '9.7'],\n",
       "      dtype=object)"
      ]
     },
     "execution_count": 134,
     "metadata": {},
     "output_type": "execute_result"
    }
   ],
   "source": [
    "# проверим столбец `user_score`\n",
    "games['user_score'].unique()"
   ]
  },
  {
   "cell_type": "markdown",
   "id": "6a2aad07",
   "metadata": {},
   "source": [
    "Наблюдаем в списке значение 'tbd', оно мешает нам привести столбец к плавающей запятой, узнаем сколько таких значений "
   ]
  },
  {
   "cell_type": "code",
   "execution_count": 135,
   "id": "9f85a87a",
   "metadata": {},
   "outputs": [
    {
     "data": {
      "text/plain": [
       "2424"
      ]
     },
     "execution_count": 135,
     "metadata": {},
     "output_type": "execute_result"
    }
   ],
   "source": [
    "games[games['user_score'] == 'tbd']['user_score'].count()"
   ]
  },
  {
   "cell_type": "markdown",
   "id": "0d04227f",
   "metadata": {},
   "source": [
    "Таких значений слишком много, заменим его на пропуск."
   ]
  },
  {
   "cell_type": "code",
   "execution_count": 136,
   "id": "cb67289a",
   "metadata": {},
   "outputs": [
    {
     "name": "stdout",
     "output_type": "stream",
     "text": [
      "<class 'pandas.core.frame.DataFrame'>\n",
      "RangeIndex: 16715 entries, 0 to 16714\n",
      "Data columns (total 11 columns):\n",
      " #   Column           Non-Null Count  Dtype  \n",
      "---  ------           --------------  -----  \n",
      " 0   name             16713 non-null  object \n",
      " 1   platform         16715 non-null  object \n",
      " 2   year_of_release  16715 non-null  int64  \n",
      " 3   genre            16713 non-null  object \n",
      " 4   na_sales         16715 non-null  float64\n",
      " 5   eu_sales         16715 non-null  float64\n",
      " 6   jp_sales         16715 non-null  float64\n",
      " 7   other_sales      16715 non-null  float64\n",
      " 8   critic_score     8137 non-null   float64\n",
      " 9   user_score       7590 non-null   Int64  \n",
      " 10  rating           9949 non-null   object \n",
      "dtypes: Int64(1), float64(5), int64(1), object(4)\n",
      "memory usage: 1.4+ MB\n"
     ]
    }
   ],
   "source": [
    "# замена на пропуски и изменение типа данных\n",
    "games.loc[games['user_score'] == 'tbd', 'user_score'] = np.nan\n",
    "games['user_score'] = games['user_score'].astype('float64')\n",
    "games.user_score = games.user_score * 10\n",
    "games.user_score = games.user_score.astype('Int64')\n",
    "games.info()"
   ]
  },
  {
   "cell_type": "code",
   "execution_count": 137,
   "id": "cfa0d098",
   "metadata": {},
   "outputs": [
    {
     "data": {
      "text/html": [
       "<div>\n",
       "<style scoped>\n",
       "    .dataframe tbody tr th:only-of-type {\n",
       "        vertical-align: middle;\n",
       "    }\n",
       "\n",
       "    .dataframe tbody tr th {\n",
       "        vertical-align: top;\n",
       "    }\n",
       "\n",
       "    .dataframe thead th {\n",
       "        text-align: right;\n",
       "    }\n",
       "</style>\n",
       "<table border=\"1\" class=\"dataframe\">\n",
       "  <thead>\n",
       "    <tr style=\"text-align: right;\">\n",
       "      <th></th>\n",
       "      <th>name</th>\n",
       "      <th>platform</th>\n",
       "      <th>year_of_release</th>\n",
       "      <th>genre</th>\n",
       "      <th>na_sales</th>\n",
       "      <th>eu_sales</th>\n",
       "      <th>jp_sales</th>\n",
       "      <th>other_sales</th>\n",
       "      <th>critic_score</th>\n",
       "      <th>user_score</th>\n",
       "      <th>rating</th>\n",
       "    </tr>\n",
       "  </thead>\n",
       "  <tbody>\n",
       "    <tr>\n",
       "      <th>0</th>\n",
       "      <td>Wii Sports</td>\n",
       "      <td>Wii</td>\n",
       "      <td>2006</td>\n",
       "      <td>Sports</td>\n",
       "      <td>41.36</td>\n",
       "      <td>28.96</td>\n",
       "      <td>3.77</td>\n",
       "      <td>8.45</td>\n",
       "      <td>76.0</td>\n",
       "      <td>80</td>\n",
       "      <td>E</td>\n",
       "    </tr>\n",
       "    <tr>\n",
       "      <th>1</th>\n",
       "      <td>Super Mario Bros.</td>\n",
       "      <td>NES</td>\n",
       "      <td>1985</td>\n",
       "      <td>Platform</td>\n",
       "      <td>29.08</td>\n",
       "      <td>3.58</td>\n",
       "      <td>6.81</td>\n",
       "      <td>0.77</td>\n",
       "      <td>NaN</td>\n",
       "      <td>&lt;NA&gt;</td>\n",
       "      <td>NaN</td>\n",
       "    </tr>\n",
       "    <tr>\n",
       "      <th>2</th>\n",
       "      <td>Mario Kart Wii</td>\n",
       "      <td>Wii</td>\n",
       "      <td>2008</td>\n",
       "      <td>Racing</td>\n",
       "      <td>15.68</td>\n",
       "      <td>12.76</td>\n",
       "      <td>3.79</td>\n",
       "      <td>3.29</td>\n",
       "      <td>82.0</td>\n",
       "      <td>83</td>\n",
       "      <td>E</td>\n",
       "    </tr>\n",
       "    <tr>\n",
       "      <th>3</th>\n",
       "      <td>Wii Sports Resort</td>\n",
       "      <td>Wii</td>\n",
       "      <td>2009</td>\n",
       "      <td>Sports</td>\n",
       "      <td>15.61</td>\n",
       "      <td>10.93</td>\n",
       "      <td>3.28</td>\n",
       "      <td>2.95</td>\n",
       "      <td>80.0</td>\n",
       "      <td>80</td>\n",
       "      <td>E</td>\n",
       "    </tr>\n",
       "    <tr>\n",
       "      <th>4</th>\n",
       "      <td>Pokemon Red/Pokemon Blue</td>\n",
       "      <td>GB</td>\n",
       "      <td>1996</td>\n",
       "      <td>Role-Playing</td>\n",
       "      <td>11.27</td>\n",
       "      <td>8.89</td>\n",
       "      <td>10.22</td>\n",
       "      <td>1.00</td>\n",
       "      <td>NaN</td>\n",
       "      <td>&lt;NA&gt;</td>\n",
       "      <td>NaN</td>\n",
       "    </tr>\n",
       "    <tr>\n",
       "      <th>...</th>\n",
       "      <td>...</td>\n",
       "      <td>...</td>\n",
       "      <td>...</td>\n",
       "      <td>...</td>\n",
       "      <td>...</td>\n",
       "      <td>...</td>\n",
       "      <td>...</td>\n",
       "      <td>...</td>\n",
       "      <td>...</td>\n",
       "      <td>...</td>\n",
       "      <td>...</td>\n",
       "    </tr>\n",
       "    <tr>\n",
       "      <th>16710</th>\n",
       "      <td>Samurai Warriors: Sanada Maru</td>\n",
       "      <td>PS3</td>\n",
       "      <td>2016</td>\n",
       "      <td>Action</td>\n",
       "      <td>0.00</td>\n",
       "      <td>0.00</td>\n",
       "      <td>0.01</td>\n",
       "      <td>0.00</td>\n",
       "      <td>NaN</td>\n",
       "      <td>&lt;NA&gt;</td>\n",
       "      <td>NaN</td>\n",
       "    </tr>\n",
       "    <tr>\n",
       "      <th>16711</th>\n",
       "      <td>LMA Manager 2007</td>\n",
       "      <td>X360</td>\n",
       "      <td>2006</td>\n",
       "      <td>Sports</td>\n",
       "      <td>0.00</td>\n",
       "      <td>0.01</td>\n",
       "      <td>0.00</td>\n",
       "      <td>0.00</td>\n",
       "      <td>NaN</td>\n",
       "      <td>&lt;NA&gt;</td>\n",
       "      <td>NaN</td>\n",
       "    </tr>\n",
       "    <tr>\n",
       "      <th>16712</th>\n",
       "      <td>Haitaka no Psychedelica</td>\n",
       "      <td>PSV</td>\n",
       "      <td>2016</td>\n",
       "      <td>Adventure</td>\n",
       "      <td>0.00</td>\n",
       "      <td>0.00</td>\n",
       "      <td>0.01</td>\n",
       "      <td>0.00</td>\n",
       "      <td>NaN</td>\n",
       "      <td>&lt;NA&gt;</td>\n",
       "      <td>NaN</td>\n",
       "    </tr>\n",
       "    <tr>\n",
       "      <th>16713</th>\n",
       "      <td>Spirits &amp; Spells</td>\n",
       "      <td>GBA</td>\n",
       "      <td>2003</td>\n",
       "      <td>Platform</td>\n",
       "      <td>0.01</td>\n",
       "      <td>0.00</td>\n",
       "      <td>0.00</td>\n",
       "      <td>0.00</td>\n",
       "      <td>NaN</td>\n",
       "      <td>&lt;NA&gt;</td>\n",
       "      <td>NaN</td>\n",
       "    </tr>\n",
       "    <tr>\n",
       "      <th>16714</th>\n",
       "      <td>Winning Post 8 2016</td>\n",
       "      <td>PSV</td>\n",
       "      <td>2016</td>\n",
       "      <td>Simulation</td>\n",
       "      <td>0.00</td>\n",
       "      <td>0.00</td>\n",
       "      <td>0.01</td>\n",
       "      <td>0.00</td>\n",
       "      <td>NaN</td>\n",
       "      <td>&lt;NA&gt;</td>\n",
       "      <td>NaN</td>\n",
       "    </tr>\n",
       "  </tbody>\n",
       "</table>\n",
       "<p>16715 rows × 11 columns</p>\n",
       "</div>"
      ],
      "text/plain": [
       "                                name platform  year_of_release         genre  \\\n",
       "0                         Wii Sports      Wii             2006        Sports   \n",
       "1                  Super Mario Bros.      NES             1985      Platform   \n",
       "2                     Mario Kart Wii      Wii             2008        Racing   \n",
       "3                  Wii Sports Resort      Wii             2009        Sports   \n",
       "4           Pokemon Red/Pokemon Blue       GB             1996  Role-Playing   \n",
       "...                              ...      ...              ...           ...   \n",
       "16710  Samurai Warriors: Sanada Maru      PS3             2016        Action   \n",
       "16711               LMA Manager 2007     X360             2006        Sports   \n",
       "16712        Haitaka no Psychedelica      PSV             2016     Adventure   \n",
       "16713               Spirits & Spells      GBA             2003      Platform   \n",
       "16714            Winning Post 8 2016      PSV             2016    Simulation   \n",
       "\n",
       "       na_sales  eu_sales  jp_sales  other_sales  critic_score  user_score  \\\n",
       "0         41.36     28.96      3.77         8.45          76.0          80   \n",
       "1         29.08      3.58      6.81         0.77           NaN        <NA>   \n",
       "2         15.68     12.76      3.79         3.29          82.0          83   \n",
       "3         15.61     10.93      3.28         2.95          80.0          80   \n",
       "4         11.27      8.89     10.22         1.00           NaN        <NA>   \n",
       "...         ...       ...       ...          ...           ...         ...   \n",
       "16710      0.00      0.00      0.01         0.00           NaN        <NA>   \n",
       "16711      0.00      0.01      0.00         0.00           NaN        <NA>   \n",
       "16712      0.00      0.00      0.01         0.00           NaN        <NA>   \n",
       "16713      0.01      0.00      0.00         0.00           NaN        <NA>   \n",
       "16714      0.00      0.00      0.01         0.00           NaN        <NA>   \n",
       "\n",
       "      rating  \n",
       "0          E  \n",
       "1        NaN  \n",
       "2          E  \n",
       "3          E  \n",
       "4        NaN  \n",
       "...      ...  \n",
       "16710    NaN  \n",
       "16711    NaN  \n",
       "16712    NaN  \n",
       "16713    NaN  \n",
       "16714    NaN  \n",
       "\n",
       "[16715 rows x 11 columns]"
      ]
     },
     "execution_count": 137,
     "metadata": {},
     "output_type": "execute_result"
    }
   ],
   "source": [
    "games"
   ]
  },
  {
   "cell_type": "markdown",
   "id": "e50b3671",
   "metadata": {},
   "source": [
    "**Вывод:**\n",
    "* Заменили значение 'tbd' на пропуски\n",
    "* Заменили типы данных в столбцах `year_of_release` и `user_score`, так как изначальные типы данных не подходили, В столбце `year_of_release` нужно было отдельно указать только год, а в столбце `user_score`нужно было разобраться со значением 'tbd' и изменить тип данных на float."
   ]
  },
  {
   "cell_type": "markdown",
   "id": "b3a041ba",
   "metadata": {},
   "source": [
    "### 2.3. Определим пропущенные значения и заполним их."
   ]
  },
  {
   "cell_type": "code",
   "execution_count": 138,
   "id": "727cf0e7",
   "metadata": {},
   "outputs": [
    {
     "data": {
      "text/plain": [
       "name                  2\n",
       "platform              0\n",
       "year_of_release       0\n",
       "genre                 2\n",
       "na_sales              0\n",
       "eu_sales              0\n",
       "jp_sales              0\n",
       "other_sales           0\n",
       "critic_score       8578\n",
       "user_score         9125\n",
       "rating             6766\n",
       "dtype: int64"
      ]
     },
     "execution_count": 138,
     "metadata": {},
     "output_type": "execute_result"
    }
   ],
   "source": [
    "games.isna().sum()"
   ]
  },
  {
   "cell_type": "markdown",
   "id": "31eb5b8b",
   "metadata": {},
   "source": [
    "Видим довольно много пропусков в столбцах `critic_score` и `user_score` так как значение 0 и так используется в реальных оценках решил оставить пропуски для удобного счета в последних пунктах проекта. В столбцах `genre` и `name` заполним пропуски фразой 'no genre game' и 'no name game' соответственно. И в последнем столбце `rating` заполним пропуски фразой 'out of rating'."
   ]
  },
  {
   "cell_type": "code",
   "execution_count": 139,
   "id": "36981dbd",
   "metadata": {},
   "outputs": [
    {
     "data": {
      "text/plain": [
       "name                  0\n",
       "platform              0\n",
       "year_of_release       0\n",
       "genre                 0\n",
       "na_sales              0\n",
       "eu_sales              0\n",
       "jp_sales              0\n",
       "other_sales           0\n",
       "critic_score       8578\n",
       "user_score         9125\n",
       "rating                0\n",
       "dtype: int64"
      ]
     },
     "execution_count": 139,
     "metadata": {},
     "output_type": "execute_result"
    }
   ],
   "source": [
    "# заполняем пропуски и смотрим результат\n",
    "games['genre'] = games['genre'].fillna('no genre game')\n",
    "games['name'] = games['name'].fillna('no name game')\n",
    "games['rating'] = games['rating'].fillna('out of rating')\n",
    "games.isna().sum()"
   ]
  },
  {
   "cell_type": "markdown",
   "id": "d3b56e05",
   "metadata": {},
   "source": [
    "**Вывод:**\n",
    "\n",
    "Все пропуски были исправлены."
   ]
  },
  {
   "cell_type": "markdown",
   "id": "1bc04705",
   "metadata": {},
   "source": [
    "### 2.4. Посчитаем суммарные продажи во всех регионах и впишем в таблицу"
   ]
  },
  {
   "cell_type": "code",
   "execution_count": 140,
   "id": "c3806293",
   "metadata": {},
   "outputs": [
    {
     "data": {
      "text/html": [
       "<div>\n",
       "<style scoped>\n",
       "    .dataframe tbody tr th:only-of-type {\n",
       "        vertical-align: middle;\n",
       "    }\n",
       "\n",
       "    .dataframe tbody tr th {\n",
       "        vertical-align: top;\n",
       "    }\n",
       "\n",
       "    .dataframe thead th {\n",
       "        text-align: right;\n",
       "    }\n",
       "</style>\n",
       "<table border=\"1\" class=\"dataframe\">\n",
       "  <thead>\n",
       "    <tr style=\"text-align: right;\">\n",
       "      <th></th>\n",
       "      <th>name</th>\n",
       "      <th>platform</th>\n",
       "      <th>year_of_release</th>\n",
       "      <th>genre</th>\n",
       "      <th>na_sales</th>\n",
       "      <th>eu_sales</th>\n",
       "      <th>jp_sales</th>\n",
       "      <th>other_sales</th>\n",
       "      <th>critic_score</th>\n",
       "      <th>user_score</th>\n",
       "      <th>rating</th>\n",
       "      <th>sales_amount</th>\n",
       "    </tr>\n",
       "  </thead>\n",
       "  <tbody>\n",
       "    <tr>\n",
       "      <th>0</th>\n",
       "      <td>Wii Sports</td>\n",
       "      <td>Wii</td>\n",
       "      <td>2006</td>\n",
       "      <td>Sports</td>\n",
       "      <td>41.36</td>\n",
       "      <td>28.96</td>\n",
       "      <td>3.77</td>\n",
       "      <td>8.45</td>\n",
       "      <td>76.0</td>\n",
       "      <td>80</td>\n",
       "      <td>E</td>\n",
       "      <td>82.54</td>\n",
       "    </tr>\n",
       "    <tr>\n",
       "      <th>1</th>\n",
       "      <td>Super Mario Bros.</td>\n",
       "      <td>NES</td>\n",
       "      <td>1985</td>\n",
       "      <td>Platform</td>\n",
       "      <td>29.08</td>\n",
       "      <td>3.58</td>\n",
       "      <td>6.81</td>\n",
       "      <td>0.77</td>\n",
       "      <td>NaN</td>\n",
       "      <td>&lt;NA&gt;</td>\n",
       "      <td>out of rating</td>\n",
       "      <td>40.24</td>\n",
       "    </tr>\n",
       "    <tr>\n",
       "      <th>2</th>\n",
       "      <td>Mario Kart Wii</td>\n",
       "      <td>Wii</td>\n",
       "      <td>2008</td>\n",
       "      <td>Racing</td>\n",
       "      <td>15.68</td>\n",
       "      <td>12.76</td>\n",
       "      <td>3.79</td>\n",
       "      <td>3.29</td>\n",
       "      <td>82.0</td>\n",
       "      <td>83</td>\n",
       "      <td>E</td>\n",
       "      <td>35.52</td>\n",
       "    </tr>\n",
       "    <tr>\n",
       "      <th>3</th>\n",
       "      <td>Wii Sports Resort</td>\n",
       "      <td>Wii</td>\n",
       "      <td>2009</td>\n",
       "      <td>Sports</td>\n",
       "      <td>15.61</td>\n",
       "      <td>10.93</td>\n",
       "      <td>3.28</td>\n",
       "      <td>2.95</td>\n",
       "      <td>80.0</td>\n",
       "      <td>80</td>\n",
       "      <td>E</td>\n",
       "      <td>32.77</td>\n",
       "    </tr>\n",
       "    <tr>\n",
       "      <th>4</th>\n",
       "      <td>Pokemon Red/Pokemon Blue</td>\n",
       "      <td>GB</td>\n",
       "      <td>1996</td>\n",
       "      <td>Role-Playing</td>\n",
       "      <td>11.27</td>\n",
       "      <td>8.89</td>\n",
       "      <td>10.22</td>\n",
       "      <td>1.00</td>\n",
       "      <td>NaN</td>\n",
       "      <td>&lt;NA&gt;</td>\n",
       "      <td>out of rating</td>\n",
       "      <td>31.38</td>\n",
       "    </tr>\n",
       "  </tbody>\n",
       "</table>\n",
       "</div>"
      ],
      "text/plain": [
       "                       name platform  year_of_release         genre  na_sales  \\\n",
       "0                Wii Sports      Wii             2006        Sports     41.36   \n",
       "1         Super Mario Bros.      NES             1985      Platform     29.08   \n",
       "2            Mario Kart Wii      Wii             2008        Racing     15.68   \n",
       "3         Wii Sports Resort      Wii             2009        Sports     15.61   \n",
       "4  Pokemon Red/Pokemon Blue       GB             1996  Role-Playing     11.27   \n",
       "\n",
       "   eu_sales  jp_sales  other_sales  critic_score  user_score         rating  \\\n",
       "0     28.96      3.77         8.45          76.0          80              E   \n",
       "1      3.58      6.81         0.77           NaN        <NA>  out of rating   \n",
       "2     12.76      3.79         3.29          82.0          83              E   \n",
       "3     10.93      3.28         2.95          80.0          80              E   \n",
       "4      8.89     10.22         1.00           NaN        <NA>  out of rating   \n",
       "\n",
       "   sales_amount  \n",
       "0         82.54  \n",
       "1         40.24  \n",
       "2         35.52  \n",
       "3         32.77  \n",
       "4         31.38  "
      ]
     },
     "execution_count": 140,
     "metadata": {},
     "output_type": "execute_result"
    }
   ],
   "source": [
    "# посчитаем суммарные продажи и впишем в таблицу\n",
    "games['sales_amount'] = games['na_sales'] + games['eu_sales'] + games['jp_sales'] +games['other_sales']\n",
    "games.head()"
   ]
  },
  {
   "cell_type": "markdown",
   "id": "bb98ddfa",
   "metadata": {},
   "source": [
    "**Вывод:**\n",
    "Составили отдельный столбец в нашей таблице с суммарной продажей, самое время начать выполнять задания."
   ]
  },
  {
   "cell_type": "markdown",
   "id": "b3769c63",
   "metadata": {},
   "source": [
    "## 3. Исследовательский анализ данных."
   ]
  },
  {
   "cell_type": "markdown",
   "id": "4dd35869",
   "metadata": {},
   "source": [
    "## 3.1. Количество игр, выпущенных в разные года."
   ]
  },
  {
   "cell_type": "code",
   "execution_count": 141,
   "id": "1664c2d1",
   "metadata": {},
   "outputs": [
    {
     "data": {
      "text/plain": [
       "2008    1427\n",
       "2009    1426\n",
       "2010    1255\n",
       "2007    1197\n",
       "2011    1136\n",
       "2006    1006\n",
       "2005     939\n",
       "2002     829\n",
       "2003     775\n",
       "2004     762\n",
       "2012     653\n",
       "2015     606\n",
       "2014     581\n",
       "2013     544\n",
       "2016     502\n",
       "2001     482\n",
       "1998     379\n",
       "2000     350\n",
       "1999     338\n",
       "1997     289\n",
       "2100     269\n",
       "1996     263\n",
       "1995     219\n",
       "1994     121\n",
       "1993      62\n",
       "1981      46\n",
       "1992      43\n",
       "1991      41\n",
       "1982      36\n",
       "1986      21\n",
       "1983      17\n",
       "1989      17\n",
       "1987      16\n",
       "1990      16\n",
       "1988      15\n",
       "1985      14\n",
       "1984      14\n",
       "1980       9\n",
       "Name: year_of_release, dtype: int64"
      ]
     },
     "execution_count": 141,
     "metadata": {},
     "output_type": "execute_result"
    }
   ],
   "source": [
    "# посмотрим какое количество игр было выпущено за каждый год\n",
    "games['year_of_release'].value_counts()"
   ]
  },
  {
   "cell_type": "code",
   "execution_count": 142,
   "id": "6ee0bbb2",
   "metadata": {},
   "outputs": [
    {
     "data": {
      "image/png": "[encoded data removed]",
      "text/plain": [
       "<Figure size 432x288 with 1 Axes>"
      ]
     },
     "metadata": {
      "needs_background": "light"
     },
     "output_type": "display_data"
    }
   ],
   "source": [
    "# посмотрим зависимость на графике\n",
    "games['year_of_release'].hist(range=(1985, 2020), bins=40)\n",
    "plt.xlabel('год')\n",
    "plt.ylabel('количество игр')\n",
    "plt.title('Зависимость игр от года')\n",
    "plt.show()"
   ]
  },
  {
   "cell_type": "markdown",
   "id": "532bc839",
   "metadata": {},
   "source": [
    "**Вывод:**\n",
    "* Начало выпуска в 1985 году, видим низкое количество игр вплоть до 1995, думаю это связанно с нехваткой опыта и началом эпохи.\n",
    "* С 1995 года можем наблюдать рост выпуска игр, предположу, что он связан с появлением первых чипов видеоадаптеров.\n",
    "* Огромный рост до 2010, благодаря насыщенному рынку и интересу со стороны покупателя.\n",
    "* Спад в 2010 году из-за появления мобильной платформы и перехода туда большей части рынка."
   ]
  },
  {
   "cell_type": "markdown",
   "id": "24b3e38f",
   "metadata": {},
   "source": [
    "## 3.2. Выбор платформ с наибольшими суммарными продажами по годам."
   ]
  },
  {
   "cell_type": "code",
   "execution_count": 143,
   "id": "a3902980",
   "metadata": {},
   "outputs": [
    {
     "data": {
      "text/html": [
       "<div>\n",
       "<style scoped>\n",
       "    .dataframe tbody tr th:only-of-type {\n",
       "        vertical-align: middle;\n",
       "    }\n",
       "\n",
       "    .dataframe tbody tr th {\n",
       "        vertical-align: top;\n",
       "    }\n",
       "\n",
       "    .dataframe thead th {\n",
       "        text-align: right;\n",
       "    }\n",
       "</style>\n",
       "<table border=\"1\" class=\"dataframe\">\n",
       "  <thead>\n",
       "    <tr style=\"text-align: right;\">\n",
       "      <th></th>\n",
       "      <th>sales_amount</th>\n",
       "    </tr>\n",
       "    <tr>\n",
       "      <th>platform</th>\n",
       "      <th></th>\n",
       "    </tr>\n",
       "  </thead>\n",
       "  <tbody>\n",
       "    <tr>\n",
       "      <th>PS2</th>\n",
       "      <td>1255.77</td>\n",
       "    </tr>\n",
       "    <tr>\n",
       "      <th>X360</th>\n",
       "      <td>971.42</td>\n",
       "    </tr>\n",
       "    <tr>\n",
       "      <th>PS3</th>\n",
       "      <td>939.65</td>\n",
       "    </tr>\n",
       "    <tr>\n",
       "      <th>Wii</th>\n",
       "      <td>907.51</td>\n",
       "    </tr>\n",
       "    <tr>\n",
       "      <th>DS</th>\n",
       "      <td>806.12</td>\n",
       "    </tr>\n",
       "  </tbody>\n",
       "</table>\n",
       "</div>"
      ],
      "text/plain": [
       "          sales_amount\n",
       "platform              \n",
       "PS2            1255.77\n",
       "X360            971.42\n",
       "PS3             939.65\n",
       "Wii             907.51\n",
       "DS              806.12"
      ]
     },
     "execution_count": 143,
     "metadata": {},
     "output_type": "execute_result"
    }
   ],
   "source": [
    "# построим таблицу суммы продаж на лучших платформах\n",
    "popular_platform = games.groupby('platform').agg({'sales_amount':'sum'}).sort_values(by='sales_amount', ascending=False).head()\n",
    "popular_platform"
   ]
  },
  {
   "cell_type": "code",
   "execution_count": 144,
   "id": "a7494202",
   "metadata": {},
   "outputs": [
    {
     "data": {
      "text/plain": [
       "Index(['PS2', 'X360', 'PS3', 'Wii', 'DS'], dtype='object', name='platform')"
      ]
     },
     "execution_count": 144,
     "metadata": {},
     "output_type": "execute_result"
    }
   ],
   "source": [
    "# посмотрим индексы платформ\n",
    "popular_platform.index"
   ]
  },
  {
   "cell_type": "code",
   "execution_count": 145,
   "id": "4b0d4e68",
   "metadata": {},
   "outputs": [
    {
     "data": {
      "text/plain": [
       "platform\n",
       "2600    11\n",
       "3DO      2\n",
       "3DS      7\n",
       "DC       7\n",
       "DS      12\n",
       "GB      14\n",
       "GBA      9\n",
       "GC       8\n",
       "GEN      5\n",
       "GG       1\n",
       "N64      8\n",
       "NES     12\n",
       "NG       4\n",
       "PC      27\n",
       "PCFX     1\n",
       "PS      11\n",
       "PS2     13\n",
       "PS3     12\n",
       "PS4      4\n",
       "PSP     13\n",
       "PSV      7\n",
       "SAT      6\n",
       "SCD      2\n",
       "SNES    10\n",
       "TG16     1\n",
       "WS       3\n",
       "Wii     12\n",
       "WiiU     5\n",
       "X360    13\n",
       "XB      10\n",
       "XOne     4\n",
       "Name: year_of_release, dtype: int64"
      ]
     },
     "execution_count": 145,
     "metadata": {},
     "output_type": "execute_result"
    }
   ],
   "source": [
    "# проведем группировку \n",
    "games.groupby('platform')['year_of_release'].nunique()"
   ]
  },
  {
   "cell_type": "code",
   "execution_count": 146,
   "id": "31901977",
   "metadata": {},
   "outputs": [
    {
     "data": {
      "text/plain": [
       "platform  year_of_release\n",
       "DS        1985                 0.02\n",
       "          2004                17.27\n",
       "          2005               130.14\n",
       "          2006               119.81\n",
       "          2007               146.94\n",
       "                              ...  \n",
       "X360      2013                88.58\n",
       "          2014                34.74\n",
       "          2015                11.96\n",
       "          2016                 1.52\n",
       "          2100                10.18\n",
       "Name: sales_amount, Length: 62, dtype: float64"
      ]
     },
     "execution_count": 146,
     "metadata": {},
     "output_type": "execute_result"
    }
   ],
   "source": [
    "# выявим лучшие платформы по продажам\n",
    "platform_top = games.query('platform in @ popular_platform.index').groupby(['platform', 'year_of_release'])['sales_amount'].sum()\n",
    "platform_top"
   ]
  },
  {
   "cell_type": "code",
   "execution_count": 147,
   "id": "bb044ae5",
   "metadata": {},
   "outputs": [
    {
     "data": {
      "text/plain": [
       "<AxesSubplot:title={'center':'Продажи по платформам, млн $'}, xlabel='platform,year_of_release'>"
      ]
     },
     "execution_count": 147,
     "metadata": {},
     "output_type": "execute_result"
    },
    {
     "data": {
      "image/png": "[encoded data removed]",
      "text/plain": [
       "<Figure size 1440x360 with 1 Axes>"
      ]
     },
     "metadata": {
      "needs_background": "light"
     },
     "output_type": "display_data"
    }
   ],
   "source": [
    "# посторим график распределения по годам\n",
    "platform_top.plot(kind='bar', \n",
    "                 x='platform', \n",
    "                 y='sales_amount',\n",
    "                 figsize=(20,5),\n",
    "                 grid=True,\n",
    "                 title='Продажи по платформам, млн $')"
   ]
  },
  {
   "cell_type": "markdown",
   "id": "0dfd1f05",
   "metadata": {},
   "source": [
    "P.S. Понимаю, что можно было бы нанести на одни года разными цветами информацию о платформах, но остановился на таком варианте, чтобы не слипались графики и было проще различать."
   ]
  },
  {
   "cell_type": "code",
   "execution_count": 148,
   "id": "c32b3110",
   "metadata": {},
   "outputs": [
    {
     "data": {
      "text/html": [
       "<div>\n",
       "<style scoped>\n",
       "    .dataframe tbody tr th:only-of-type {\n",
       "        vertical-align: middle;\n",
       "    }\n",
       "\n",
       "    .dataframe tbody tr th {\n",
       "        vertical-align: top;\n",
       "    }\n",
       "\n",
       "    .dataframe thead th {\n",
       "        text-align: right;\n",
       "    }\n",
       "</style>\n",
       "<table border=\"1\" class=\"dataframe\">\n",
       "  <thead>\n",
       "    <tr style=\"text-align: right;\">\n",
       "      <th>year_of_release</th>\n",
       "      <th>1980</th>\n",
       "      <th>1981</th>\n",
       "      <th>1982</th>\n",
       "      <th>1983</th>\n",
       "      <th>1984</th>\n",
       "      <th>1985</th>\n",
       "      <th>1986</th>\n",
       "      <th>1987</th>\n",
       "      <th>1988</th>\n",
       "      <th>1989</th>\n",
       "      <th>...</th>\n",
       "      <th>2009</th>\n",
       "      <th>2010</th>\n",
       "      <th>2011</th>\n",
       "      <th>2012</th>\n",
       "      <th>2013</th>\n",
       "      <th>2014</th>\n",
       "      <th>2015</th>\n",
       "      <th>2016</th>\n",
       "      <th>2100</th>\n",
       "      <th>Total</th>\n",
       "    </tr>\n",
       "    <tr>\n",
       "      <th>platform</th>\n",
       "      <th></th>\n",
       "      <th></th>\n",
       "      <th></th>\n",
       "      <th></th>\n",
       "      <th></th>\n",
       "      <th></th>\n",
       "      <th></th>\n",
       "      <th></th>\n",
       "      <th></th>\n",
       "      <th></th>\n",
       "      <th></th>\n",
       "      <th></th>\n",
       "      <th></th>\n",
       "      <th></th>\n",
       "      <th></th>\n",
       "      <th></th>\n",
       "      <th></th>\n",
       "      <th></th>\n",
       "      <th></th>\n",
       "      <th></th>\n",
       "      <th></th>\n",
       "    </tr>\n",
       "  </thead>\n",
       "  <tbody>\n",
       "    <tr>\n",
       "      <th>2600</th>\n",
       "      <td>9</td>\n",
       "      <td>46</td>\n",
       "      <td>36</td>\n",
       "      <td>11</td>\n",
       "      <td>1</td>\n",
       "      <td>1</td>\n",
       "      <td>2</td>\n",
       "      <td>6</td>\n",
       "      <td>2</td>\n",
       "      <td>2</td>\n",
       "      <td>...</td>\n",
       "      <td>0</td>\n",
       "      <td>0</td>\n",
       "      <td>0</td>\n",
       "      <td>0</td>\n",
       "      <td>0</td>\n",
       "      <td>0</td>\n",
       "      <td>0</td>\n",
       "      <td>0</td>\n",
       "      <td>17</td>\n",
       "      <td>133</td>\n",
       "    </tr>\n",
       "    <tr>\n",
       "      <th>3DO</th>\n",
       "      <td>0</td>\n",
       "      <td>0</td>\n",
       "      <td>0</td>\n",
       "      <td>0</td>\n",
       "      <td>0</td>\n",
       "      <td>0</td>\n",
       "      <td>0</td>\n",
       "      <td>0</td>\n",
       "      <td>0</td>\n",
       "      <td>0</td>\n",
       "      <td>...</td>\n",
       "      <td>0</td>\n",
       "      <td>0</td>\n",
       "      <td>0</td>\n",
       "      <td>0</td>\n",
       "      <td>0</td>\n",
       "      <td>0</td>\n",
       "      <td>0</td>\n",
       "      <td>0</td>\n",
       "      <td>0</td>\n",
       "      <td>3</td>\n",
       "    </tr>\n",
       "    <tr>\n",
       "      <th>3DS</th>\n",
       "      <td>0</td>\n",
       "      <td>0</td>\n",
       "      <td>0</td>\n",
       "      <td>0</td>\n",
       "      <td>0</td>\n",
       "      <td>0</td>\n",
       "      <td>0</td>\n",
       "      <td>0</td>\n",
       "      <td>0</td>\n",
       "      <td>0</td>\n",
       "      <td>...</td>\n",
       "      <td>0</td>\n",
       "      <td>0</td>\n",
       "      <td>116</td>\n",
       "      <td>93</td>\n",
       "      <td>91</td>\n",
       "      <td>80</td>\n",
       "      <td>86</td>\n",
       "      <td>46</td>\n",
       "      <td>8</td>\n",
       "      <td>520</td>\n",
       "    </tr>\n",
       "    <tr>\n",
       "      <th>DC</th>\n",
       "      <td>0</td>\n",
       "      <td>0</td>\n",
       "      <td>0</td>\n",
       "      <td>0</td>\n",
       "      <td>0</td>\n",
       "      <td>0</td>\n",
       "      <td>0</td>\n",
       "      <td>0</td>\n",
       "      <td>0</td>\n",
       "      <td>0</td>\n",
       "      <td>...</td>\n",
       "      <td>0</td>\n",
       "      <td>0</td>\n",
       "      <td>0</td>\n",
       "      <td>0</td>\n",
       "      <td>0</td>\n",
       "      <td>0</td>\n",
       "      <td>0</td>\n",
       "      <td>0</td>\n",
       "      <td>0</td>\n",
       "      <td>52</td>\n",
       "    </tr>\n",
       "    <tr>\n",
       "      <th>DS</th>\n",
       "      <td>0</td>\n",
       "      <td>0</td>\n",
       "      <td>0</td>\n",
       "      <td>0</td>\n",
       "      <td>0</td>\n",
       "      <td>1</td>\n",
       "      <td>0</td>\n",
       "      <td>0</td>\n",
       "      <td>0</td>\n",
       "      <td>0</td>\n",
       "      <td>...</td>\n",
       "      <td>403</td>\n",
       "      <td>323</td>\n",
       "      <td>153</td>\n",
       "      <td>23</td>\n",
       "      <td>8</td>\n",
       "      <td>0</td>\n",
       "      <td>0</td>\n",
       "      <td>0</td>\n",
       "      <td>30</td>\n",
       "      <td>2151</td>\n",
       "    </tr>\n",
       "    <tr>\n",
       "      <th>GB</th>\n",
       "      <td>0</td>\n",
       "      <td>0</td>\n",
       "      <td>0</td>\n",
       "      <td>0</td>\n",
       "      <td>0</td>\n",
       "      <td>0</td>\n",
       "      <td>0</td>\n",
       "      <td>0</td>\n",
       "      <td>1</td>\n",
       "      <td>10</td>\n",
       "      <td>...</td>\n",
       "      <td>0</td>\n",
       "      <td>0</td>\n",
       "      <td>0</td>\n",
       "      <td>0</td>\n",
       "      <td>0</td>\n",
       "      <td>0</td>\n",
       "      <td>0</td>\n",
       "      <td>0</td>\n",
       "      <td>1</td>\n",
       "      <td>98</td>\n",
       "    </tr>\n",
       "    <tr>\n",
       "      <th>GBA</th>\n",
       "      <td>0</td>\n",
       "      <td>0</td>\n",
       "      <td>0</td>\n",
       "      <td>0</td>\n",
       "      <td>0</td>\n",
       "      <td>0</td>\n",
       "      <td>0</td>\n",
       "      <td>0</td>\n",
       "      <td>0</td>\n",
       "      <td>0</td>\n",
       "      <td>...</td>\n",
       "      <td>0</td>\n",
       "      <td>0</td>\n",
       "      <td>0</td>\n",
       "      <td>0</td>\n",
       "      <td>0</td>\n",
       "      <td>0</td>\n",
       "      <td>0</td>\n",
       "      <td>0</td>\n",
       "      <td>11</td>\n",
       "      <td>822</td>\n",
       "    </tr>\n",
       "    <tr>\n",
       "      <th>GC</th>\n",
       "      <td>0</td>\n",
       "      <td>0</td>\n",
       "      <td>0</td>\n",
       "      <td>0</td>\n",
       "      <td>0</td>\n",
       "      <td>0</td>\n",
       "      <td>0</td>\n",
       "      <td>0</td>\n",
       "      <td>0</td>\n",
       "      <td>0</td>\n",
       "      <td>...</td>\n",
       "      <td>0</td>\n",
       "      <td>0</td>\n",
       "      <td>0</td>\n",
       "      <td>0</td>\n",
       "      <td>0</td>\n",
       "      <td>0</td>\n",
       "      <td>0</td>\n",
       "      <td>0</td>\n",
       "      <td>14</td>\n",
       "      <td>556</td>\n",
       "    </tr>\n",
       "    <tr>\n",
       "      <th>GEN</th>\n",
       "      <td>0</td>\n",
       "      <td>0</td>\n",
       "      <td>0</td>\n",
       "      <td>0</td>\n",
       "      <td>0</td>\n",
       "      <td>0</td>\n",
       "      <td>0</td>\n",
       "      <td>0</td>\n",
       "      <td>0</td>\n",
       "      <td>0</td>\n",
       "      <td>...</td>\n",
       "      <td>0</td>\n",
       "      <td>0</td>\n",
       "      <td>0</td>\n",
       "      <td>0</td>\n",
       "      <td>0</td>\n",
       "      <td>0</td>\n",
       "      <td>0</td>\n",
       "      <td>0</td>\n",
       "      <td>0</td>\n",
       "      <td>29</td>\n",
       "    </tr>\n",
       "    <tr>\n",
       "      <th>GG</th>\n",
       "      <td>0</td>\n",
       "      <td>0</td>\n",
       "      <td>0</td>\n",
       "      <td>0</td>\n",
       "      <td>0</td>\n",
       "      <td>0</td>\n",
       "      <td>0</td>\n",
       "      <td>0</td>\n",
       "      <td>0</td>\n",
       "      <td>0</td>\n",
       "      <td>...</td>\n",
       "      <td>0</td>\n",
       "      <td>0</td>\n",
       "      <td>0</td>\n",
       "      <td>0</td>\n",
       "      <td>0</td>\n",
       "      <td>0</td>\n",
       "      <td>0</td>\n",
       "      <td>0</td>\n",
       "      <td>0</td>\n",
       "      <td>1</td>\n",
       "    </tr>\n",
       "    <tr>\n",
       "      <th>N64</th>\n",
       "      <td>0</td>\n",
       "      <td>0</td>\n",
       "      <td>0</td>\n",
       "      <td>0</td>\n",
       "      <td>0</td>\n",
       "      <td>0</td>\n",
       "      <td>0</td>\n",
       "      <td>0</td>\n",
       "      <td>0</td>\n",
       "      <td>0</td>\n",
       "      <td>...</td>\n",
       "      <td>0</td>\n",
       "      <td>0</td>\n",
       "      <td>0</td>\n",
       "      <td>0</td>\n",
       "      <td>0</td>\n",
       "      <td>0</td>\n",
       "      <td>0</td>\n",
       "      <td>0</td>\n",
       "      <td>3</td>\n",
       "      <td>319</td>\n",
       "    </tr>\n",
       "    <tr>\n",
       "      <th>NES</th>\n",
       "      <td>0</td>\n",
       "      <td>0</td>\n",
       "      <td>0</td>\n",
       "      <td>6</td>\n",
       "      <td>13</td>\n",
       "      <td>11</td>\n",
       "      <td>19</td>\n",
       "      <td>10</td>\n",
       "      <td>11</td>\n",
       "      <td>5</td>\n",
       "      <td>...</td>\n",
       "      <td>0</td>\n",
       "      <td>0</td>\n",
       "      <td>0</td>\n",
       "      <td>0</td>\n",
       "      <td>0</td>\n",
       "      <td>0</td>\n",
       "      <td>0</td>\n",
       "      <td>0</td>\n",
       "      <td>0</td>\n",
       "      <td>98</td>\n",
       "    </tr>\n",
       "    <tr>\n",
       "      <th>NG</th>\n",
       "      <td>0</td>\n",
       "      <td>0</td>\n",
       "      <td>0</td>\n",
       "      <td>0</td>\n",
       "      <td>0</td>\n",
       "      <td>0</td>\n",
       "      <td>0</td>\n",
       "      <td>0</td>\n",
       "      <td>0</td>\n",
       "      <td>0</td>\n",
       "      <td>...</td>\n",
       "      <td>0</td>\n",
       "      <td>0</td>\n",
       "      <td>0</td>\n",
       "      <td>0</td>\n",
       "      <td>0</td>\n",
       "      <td>0</td>\n",
       "      <td>0</td>\n",
       "      <td>0</td>\n",
       "      <td>0</td>\n",
       "      <td>12</td>\n",
       "    </tr>\n",
       "    <tr>\n",
       "      <th>PC</th>\n",
       "      <td>0</td>\n",
       "      <td>0</td>\n",
       "      <td>0</td>\n",
       "      <td>0</td>\n",
       "      <td>0</td>\n",
       "      <td>1</td>\n",
       "      <td>0</td>\n",
       "      <td>0</td>\n",
       "      <td>1</td>\n",
       "      <td>0</td>\n",
       "      <td>...</td>\n",
       "      <td>107</td>\n",
       "      <td>90</td>\n",
       "      <td>139</td>\n",
       "      <td>61</td>\n",
       "      <td>38</td>\n",
       "      <td>47</td>\n",
       "      <td>50</td>\n",
       "      <td>54</td>\n",
       "      <td>17</td>\n",
       "      <td>974</td>\n",
       "    </tr>\n",
       "    <tr>\n",
       "      <th>PCFX</th>\n",
       "      <td>0</td>\n",
       "      <td>0</td>\n",
       "      <td>0</td>\n",
       "      <td>0</td>\n",
       "      <td>0</td>\n",
       "      <td>0</td>\n",
       "      <td>0</td>\n",
       "      <td>0</td>\n",
       "      <td>0</td>\n",
       "      <td>0</td>\n",
       "      <td>...</td>\n",
       "      <td>0</td>\n",
       "      <td>0</td>\n",
       "      <td>0</td>\n",
       "      <td>0</td>\n",
       "      <td>0</td>\n",
       "      <td>0</td>\n",
       "      <td>0</td>\n",
       "      <td>0</td>\n",
       "      <td>0</td>\n",
       "      <td>1</td>\n",
       "    </tr>\n",
       "    <tr>\n",
       "      <th>PS</th>\n",
       "      <td>0</td>\n",
       "      <td>0</td>\n",
       "      <td>0</td>\n",
       "      <td>0</td>\n",
       "      <td>0</td>\n",
       "      <td>0</td>\n",
       "      <td>0</td>\n",
       "      <td>0</td>\n",
       "      <td>0</td>\n",
       "      <td>0</td>\n",
       "      <td>...</td>\n",
       "      <td>0</td>\n",
       "      <td>0</td>\n",
       "      <td>0</td>\n",
       "      <td>0</td>\n",
       "      <td>0</td>\n",
       "      <td>0</td>\n",
       "      <td>0</td>\n",
       "      <td>0</td>\n",
       "      <td>7</td>\n",
       "      <td>1197</td>\n",
       "    </tr>\n",
       "    <tr>\n",
       "      <th>PS2</th>\n",
       "      <td>0</td>\n",
       "      <td>0</td>\n",
       "      <td>0</td>\n",
       "      <td>0</td>\n",
       "      <td>0</td>\n",
       "      <td>0</td>\n",
       "      <td>0</td>\n",
       "      <td>0</td>\n",
       "      <td>0</td>\n",
       "      <td>0</td>\n",
       "      <td>...</td>\n",
       "      <td>96</td>\n",
       "      <td>38</td>\n",
       "      <td>7</td>\n",
       "      <td>0</td>\n",
       "      <td>0</td>\n",
       "      <td>0</td>\n",
       "      <td>0</td>\n",
       "      <td>0</td>\n",
       "      <td>34</td>\n",
       "      <td>2161</td>\n",
       "    </tr>\n",
       "    <tr>\n",
       "      <th>PS3</th>\n",
       "      <td>0</td>\n",
       "      <td>0</td>\n",
       "      <td>0</td>\n",
       "      <td>0</td>\n",
       "      <td>0</td>\n",
       "      <td>0</td>\n",
       "      <td>0</td>\n",
       "      <td>0</td>\n",
       "      <td>0</td>\n",
       "      <td>0</td>\n",
       "      <td>...</td>\n",
       "      <td>162</td>\n",
       "      <td>181</td>\n",
       "      <td>215</td>\n",
       "      <td>148</td>\n",
       "      <td>126</td>\n",
       "      <td>108</td>\n",
       "      <td>73</td>\n",
       "      <td>38</td>\n",
       "      <td>25</td>\n",
       "      <td>1331</td>\n",
       "    </tr>\n",
       "    <tr>\n",
       "      <th>PS4</th>\n",
       "      <td>0</td>\n",
       "      <td>0</td>\n",
       "      <td>0</td>\n",
       "      <td>0</td>\n",
       "      <td>0</td>\n",
       "      <td>0</td>\n",
       "      <td>0</td>\n",
       "      <td>0</td>\n",
       "      <td>0</td>\n",
       "      <td>0</td>\n",
       "      <td>...</td>\n",
       "      <td>0</td>\n",
       "      <td>0</td>\n",
       "      <td>0</td>\n",
       "      <td>0</td>\n",
       "      <td>16</td>\n",
       "      <td>75</td>\n",
       "      <td>137</td>\n",
       "      <td>164</td>\n",
       "      <td>0</td>\n",
       "      <td>392</td>\n",
       "    </tr>\n",
       "    <tr>\n",
       "      <th>PSP</th>\n",
       "      <td>0</td>\n",
       "      <td>0</td>\n",
       "      <td>0</td>\n",
       "      <td>0</td>\n",
       "      <td>0</td>\n",
       "      <td>0</td>\n",
       "      <td>0</td>\n",
       "      <td>0</td>\n",
       "      <td>0</td>\n",
       "      <td>0</td>\n",
       "      <td>...</td>\n",
       "      <td>161</td>\n",
       "      <td>188</td>\n",
       "      <td>139</td>\n",
       "      <td>106</td>\n",
       "      <td>54</td>\n",
       "      <td>10</td>\n",
       "      <td>3</td>\n",
       "      <td>0</td>\n",
       "      <td>16</td>\n",
       "      <td>1209</td>\n",
       "    </tr>\n",
       "    <tr>\n",
       "      <th>PSV</th>\n",
       "      <td>0</td>\n",
       "      <td>0</td>\n",
       "      <td>0</td>\n",
       "      <td>0</td>\n",
       "      <td>0</td>\n",
       "      <td>0</td>\n",
       "      <td>0</td>\n",
       "      <td>0</td>\n",
       "      <td>0</td>\n",
       "      <td>0</td>\n",
       "      <td>...</td>\n",
       "      <td>0</td>\n",
       "      <td>0</td>\n",
       "      <td>18</td>\n",
       "      <td>53</td>\n",
       "      <td>63</td>\n",
       "      <td>100</td>\n",
       "      <td>110</td>\n",
       "      <td>85</td>\n",
       "      <td>1</td>\n",
       "      <td>430</td>\n",
       "    </tr>\n",
       "    <tr>\n",
       "      <th>SAT</th>\n",
       "      <td>0</td>\n",
       "      <td>0</td>\n",
       "      <td>0</td>\n",
       "      <td>0</td>\n",
       "      <td>0</td>\n",
       "      <td>0</td>\n",
       "      <td>0</td>\n",
       "      <td>0</td>\n",
       "      <td>0</td>\n",
       "      <td>0</td>\n",
       "      <td>...</td>\n",
       "      <td>0</td>\n",
       "      <td>0</td>\n",
       "      <td>0</td>\n",
       "      <td>0</td>\n",
       "      <td>0</td>\n",
       "      <td>0</td>\n",
       "      <td>0</td>\n",
       "      <td>0</td>\n",
       "      <td>0</td>\n",
       "      <td>173</td>\n",
       "    </tr>\n",
       "    <tr>\n",
       "      <th>SCD</th>\n",
       "      <td>0</td>\n",
       "      <td>0</td>\n",
       "      <td>0</td>\n",
       "      <td>0</td>\n",
       "      <td>0</td>\n",
       "      <td>0</td>\n",
       "      <td>0</td>\n",
       "      <td>0</td>\n",
       "      <td>0</td>\n",
       "      <td>0</td>\n",
       "      <td>...</td>\n",
       "      <td>0</td>\n",
       "      <td>0</td>\n",
       "      <td>0</td>\n",
       "      <td>0</td>\n",
       "      <td>0</td>\n",
       "      <td>0</td>\n",
       "      <td>0</td>\n",
       "      <td>0</td>\n",
       "      <td>0</td>\n",
       "      <td>6</td>\n",
       "    </tr>\n",
       "    <tr>\n",
       "      <th>SNES</th>\n",
       "      <td>0</td>\n",
       "      <td>0</td>\n",
       "      <td>0</td>\n",
       "      <td>0</td>\n",
       "      <td>0</td>\n",
       "      <td>0</td>\n",
       "      <td>0</td>\n",
       "      <td>0</td>\n",
       "      <td>0</td>\n",
       "      <td>0</td>\n",
       "      <td>...</td>\n",
       "      <td>0</td>\n",
       "      <td>0</td>\n",
       "      <td>0</td>\n",
       "      <td>0</td>\n",
       "      <td>0</td>\n",
       "      <td>0</td>\n",
       "      <td>0</td>\n",
       "      <td>0</td>\n",
       "      <td>0</td>\n",
       "      <td>239</td>\n",
       "    </tr>\n",
       "    <tr>\n",
       "      <th>TG16</th>\n",
       "      <td>0</td>\n",
       "      <td>0</td>\n",
       "      <td>0</td>\n",
       "      <td>0</td>\n",
       "      <td>0</td>\n",
       "      <td>0</td>\n",
       "      <td>0</td>\n",
       "      <td>0</td>\n",
       "      <td>0</td>\n",
       "      <td>0</td>\n",
       "      <td>...</td>\n",
       "      <td>0</td>\n",
       "      <td>0</td>\n",
       "      <td>0</td>\n",
       "      <td>0</td>\n",
       "      <td>0</td>\n",
       "      <td>0</td>\n",
       "      <td>0</td>\n",
       "      <td>0</td>\n",
       "      <td>0</td>\n",
       "      <td>2</td>\n",
       "    </tr>\n",
       "    <tr>\n",
       "      <th>WS</th>\n",
       "      <td>0</td>\n",
       "      <td>0</td>\n",
       "      <td>0</td>\n",
       "      <td>0</td>\n",
       "      <td>0</td>\n",
       "      <td>0</td>\n",
       "      <td>0</td>\n",
       "      <td>0</td>\n",
       "      <td>0</td>\n",
       "      <td>0</td>\n",
       "      <td>...</td>\n",
       "      <td>0</td>\n",
       "      <td>0</td>\n",
       "      <td>0</td>\n",
       "      <td>0</td>\n",
       "      <td>0</td>\n",
       "      <td>0</td>\n",
       "      <td>0</td>\n",
       "      <td>0</td>\n",
       "      <td>0</td>\n",
       "      <td>6</td>\n",
       "    </tr>\n",
       "    <tr>\n",
       "      <th>Wii</th>\n",
       "      <td>0</td>\n",
       "      <td>0</td>\n",
       "      <td>0</td>\n",
       "      <td>0</td>\n",
       "      <td>0</td>\n",
       "      <td>0</td>\n",
       "      <td>0</td>\n",
       "      <td>0</td>\n",
       "      <td>0</td>\n",
       "      <td>0</td>\n",
       "      <td>...</td>\n",
       "      <td>325</td>\n",
       "      <td>253</td>\n",
       "      <td>143</td>\n",
       "      <td>31</td>\n",
       "      <td>12</td>\n",
       "      <td>6</td>\n",
       "      <td>4</td>\n",
       "      <td>1</td>\n",
       "      <td>34</td>\n",
       "      <td>1320</td>\n",
       "    </tr>\n",
       "    <tr>\n",
       "      <th>WiiU</th>\n",
       "      <td>0</td>\n",
       "      <td>0</td>\n",
       "      <td>0</td>\n",
       "      <td>0</td>\n",
       "      <td>0</td>\n",
       "      <td>0</td>\n",
       "      <td>0</td>\n",
       "      <td>0</td>\n",
       "      <td>0</td>\n",
       "      <td>0</td>\n",
       "      <td>...</td>\n",
       "      <td>0</td>\n",
       "      <td>0</td>\n",
       "      <td>0</td>\n",
       "      <td>32</td>\n",
       "      <td>42</td>\n",
       "      <td>31</td>\n",
       "      <td>28</td>\n",
       "      <td>14</td>\n",
       "      <td>0</td>\n",
       "      <td>147</td>\n",
       "    </tr>\n",
       "    <tr>\n",
       "      <th>X360</th>\n",
       "      <td>0</td>\n",
       "      <td>0</td>\n",
       "      <td>0</td>\n",
       "      <td>0</td>\n",
       "      <td>0</td>\n",
       "      <td>0</td>\n",
       "      <td>0</td>\n",
       "      <td>0</td>\n",
       "      <td>0</td>\n",
       "      <td>0</td>\n",
       "      <td>...</td>\n",
       "      <td>172</td>\n",
       "      <td>182</td>\n",
       "      <td>206</td>\n",
       "      <td>106</td>\n",
       "      <td>75</td>\n",
       "      <td>63</td>\n",
       "      <td>35</td>\n",
       "      <td>13</td>\n",
       "      <td>30</td>\n",
       "      <td>1262</td>\n",
       "    </tr>\n",
       "    <tr>\n",
       "      <th>XB</th>\n",
       "      <td>0</td>\n",
       "      <td>0</td>\n",
       "      <td>0</td>\n",
       "      <td>0</td>\n",
       "      <td>0</td>\n",
       "      <td>0</td>\n",
       "      <td>0</td>\n",
       "      <td>0</td>\n",
       "      <td>0</td>\n",
       "      <td>0</td>\n",
       "      <td>...</td>\n",
       "      <td>0</td>\n",
       "      <td>0</td>\n",
       "      <td>0</td>\n",
       "      <td>0</td>\n",
       "      <td>0</td>\n",
       "      <td>0</td>\n",
       "      <td>0</td>\n",
       "      <td>0</td>\n",
       "      <td>21</td>\n",
       "      <td>824</td>\n",
       "    </tr>\n",
       "    <tr>\n",
       "      <th>XOne</th>\n",
       "      <td>0</td>\n",
       "      <td>0</td>\n",
       "      <td>0</td>\n",
       "      <td>0</td>\n",
       "      <td>0</td>\n",
       "      <td>0</td>\n",
       "      <td>0</td>\n",
       "      <td>0</td>\n",
       "      <td>0</td>\n",
       "      <td>0</td>\n",
       "      <td>...</td>\n",
       "      <td>0</td>\n",
       "      <td>0</td>\n",
       "      <td>0</td>\n",
       "      <td>0</td>\n",
       "      <td>19</td>\n",
       "      <td>61</td>\n",
       "      <td>80</td>\n",
       "      <td>87</td>\n",
       "      <td>0</td>\n",
       "      <td>247</td>\n",
       "    </tr>\n",
       "    <tr>\n",
       "      <th>Total</th>\n",
       "      <td>9</td>\n",
       "      <td>46</td>\n",
       "      <td>36</td>\n",
       "      <td>17</td>\n",
       "      <td>14</td>\n",
       "      <td>14</td>\n",
       "      <td>21</td>\n",
       "      <td>16</td>\n",
       "      <td>15</td>\n",
       "      <td>17</td>\n",
       "      <td>...</td>\n",
       "      <td>1426</td>\n",
       "      <td>1255</td>\n",
       "      <td>1136</td>\n",
       "      <td>653</td>\n",
       "      <td>544</td>\n",
       "      <td>581</td>\n",
       "      <td>606</td>\n",
       "      <td>502</td>\n",
       "      <td>269</td>\n",
       "      <td>16715</td>\n",
       "    </tr>\n",
       "  </tbody>\n",
       "</table>\n",
       "<p>32 rows × 39 columns</p>\n",
       "</div>"
      ],
      "text/plain": [
       "year_of_release  1980  1981  1982  1983  1984  1985  1986  1987  1988  1989  \\\n",
       "platform                                                                      \n",
       "2600                9    46    36    11     1     1     2     6     2     2   \n",
       "3DO                 0     0     0     0     0     0     0     0     0     0   \n",
       "3DS                 0     0     0     0     0     0     0     0     0     0   \n",
       "DC                  0     0     0     0     0     0     0     0     0     0   \n",
       "DS                  0     0     0     0     0     1     0     0     0     0   \n",
       "GB                  0     0     0     0     0     0     0     0     1    10   \n",
       "GBA                 0     0     0     0     0     0     0     0     0     0   \n",
       "GC                  0     0     0     0     0     0     0     0     0     0   \n",
       "GEN                 0     0     0     0     0     0     0     0     0     0   \n",
       "GG                  0     0     0     0     0     0     0     0     0     0   \n",
       "N64                 0     0     0     0     0     0     0     0     0     0   \n",
       "NES                 0     0     0     6    13    11    19    10    11     5   \n",
       "NG                  0     0     0     0     0     0     0     0     0     0   \n",
       "PC                  0     0     0     0     0     1     0     0     1     0   \n",
       "PCFX                0     0     0     0     0     0     0     0     0     0   \n",
       "PS                  0     0     0     0     0     0     0     0     0     0   \n",
       "PS2                 0     0     0     0     0     0     0     0     0     0   \n",
       "PS3                 0     0     0     0     0     0     0     0     0     0   \n",
       "PS4                 0     0     0     0     0     0     0     0     0     0   \n",
       "PSP                 0     0     0     0     0     0     0     0     0     0   \n",
       "PSV                 0     0     0     0     0     0     0     0     0     0   \n",
       "SAT                 0     0     0     0     0     0     0     0     0     0   \n",
       "SCD                 0     0     0     0     0     0     0     0     0     0   \n",
       "SNES                0     0     0     0     0     0     0     0     0     0   \n",
       "TG16                0     0     0     0     0     0     0     0     0     0   \n",
       "WS                  0     0     0     0     0     0     0     0     0     0   \n",
       "Wii                 0     0     0     0     0     0     0     0     0     0   \n",
       "WiiU                0     0     0     0     0     0     0     0     0     0   \n",
       "X360                0     0     0     0     0     0     0     0     0     0   \n",
       "XB                  0     0     0     0     0     0     0     0     0     0   \n",
       "XOne                0     0     0     0     0     0     0     0     0     0   \n",
       "Total               9    46    36    17    14    14    21    16    15    17   \n",
       "\n",
       "year_of_release  ...  2009  2010  2011  2012  2013  2014  2015  2016  2100  \\\n",
       "platform         ...                                                         \n",
       "2600             ...     0     0     0     0     0     0     0     0    17   \n",
       "3DO              ...     0     0     0     0     0     0     0     0     0   \n",
       "3DS              ...     0     0   116    93    91    80    86    46     8   \n",
       "DC               ...     0     0     0     0     0     0     0     0     0   \n",
       "DS               ...   403   323   153    23     8     0     0     0    30   \n",
       "GB               ...     0     0     0     0     0     0     0     0     1   \n",
       "GBA              ...     0     0     0     0     0     0     0     0    11   \n",
       "GC               ...     0     0     0     0     0     0     0     0    14   \n",
       "GEN              ...     0     0     0     0     0     0     0     0     0   \n",
       "GG               ...     0     0     0     0     0     0     0     0     0   \n",
       "N64              ...     0     0     0     0     0     0     0     0     3   \n",
       "NES              ...     0     0     0     0     0     0     0     0     0   \n",
       "NG               ...     0     0     0     0     0     0     0     0     0   \n",
       "PC               ...   107    90   139    61    38    47    50    54    17   \n",
       "PCFX             ...     0     0     0     0     0     0     0     0     0   \n",
       "PS               ...     0     0     0     0     0     0     0     0     7   \n",
       "PS2              ...    96    38     7     0     0     0     0     0    34   \n",
       "PS3              ...   162   181   215   148   126   108    73    38    25   \n",
       "PS4              ...     0     0     0     0    16    75   137   164     0   \n",
       "PSP              ...   161   188   139   106    54    10     3     0    16   \n",
       "PSV              ...     0     0    18    53    63   100   110    85     1   \n",
       "SAT              ...     0     0     0     0     0     0     0     0     0   \n",
       "SCD              ...     0     0     0     0     0     0     0     0     0   \n",
       "SNES             ...     0     0     0     0     0     0     0     0     0   \n",
       "TG16             ...     0     0     0     0     0     0     0     0     0   \n",
       "WS               ...     0     0     0     0     0     0     0     0     0   \n",
       "Wii              ...   325   253   143    31    12     6     4     1    34   \n",
       "WiiU             ...     0     0     0    32    42    31    28    14     0   \n",
       "X360             ...   172   182   206   106    75    63    35    13    30   \n",
       "XB               ...     0     0     0     0     0     0     0     0    21   \n",
       "XOne             ...     0     0     0     0    19    61    80    87     0   \n",
       "Total            ...  1426  1255  1136   653   544   581   606   502   269   \n",
       "\n",
       "year_of_release  Total  \n",
       "platform                \n",
       "2600               133  \n",
       "3DO                  3  \n",
       "3DS                520  \n",
       "DC                  52  \n",
       "DS                2151  \n",
       "GB                  98  \n",
       "GBA                822  \n",
       "GC                 556  \n",
       "GEN                 29  \n",
       "GG                   1  \n",
       "N64                319  \n",
       "NES                 98  \n",
       "NG                  12  \n",
       "PC                 974  \n",
       "PCFX                 1  \n",
       "PS                1197  \n",
       "PS2               2161  \n",
       "PS3               1331  \n",
       "PS4                392  \n",
       "PSP               1209  \n",
       "PSV                430  \n",
       "SAT                173  \n",
       "SCD                  6  \n",
       "SNES               239  \n",
       "TG16                 2  \n",
       "WS                   6  \n",
       "Wii               1320  \n",
       "WiiU               147  \n",
       "X360              1262  \n",
       "XB                 824  \n",
       "XOne               247  \n",
       "Total            16715  \n",
       "\n",
       "[32 rows x 39 columns]"
      ]
     },
     "execution_count": 148,
     "metadata": {},
     "output_type": "execute_result"
    }
   ],
   "source": [
    "# посмотрим таблицу годов образования платформ\n",
    "pd.crosstab(games.platform, games.year_of_release, margins=True, margins_name=\"Total\")"
   ]
  },
  {
   "cell_type": "markdown",
   "id": "0db98b84",
   "metadata": {},
   "source": [
    "* Может показаться, что таблица слишком большая и не удобная, но на самом деле она скрывает в себе очень важную информацию, благодаря ей наблюдается рост количества выпускаемых игр, вплоть до 2009 года.\n",
    "* Самое главное, что по этой таблице можно как устаривают платформы, для большей части платформ срок жизни составлял 4-7 лет, но это не касается популярных консолей xbox 360, PS 2/3, PSP, они существовали около 10 лет. \n",
    "* Так же была замечена платформа РС, которая так и не была подвержена устареванию."
   ]
  },
  {
   "cell_type": "markdown",
   "id": "706af3b6",
   "metadata": {},
   "source": [
    "**Вывод:**\n",
    "* Выбирали платформы с наибольшими суммарными продажами и построили распределение по годам.\n",
    "* Построили таблицу для понимания характерных сроков появления и исчезания платформ.\n",
    "* Установили платформы, которые стали фаворитами по суммарных продажам. \n"
   ]
  },
  {
   "cell_type": "markdown",
   "id": "d1575986",
   "metadata": {},
   "source": [
    "## 3.3 Определения платформ, лидирующих по продажам, выбор нескольких потенциально прибыльных платформ.\n"
   ]
  },
  {
   "cell_type": "markdown",
   "id": "a547d987",
   "metadata": {},
   "source": [
    "За соответствующий актуальный период я возьму 2012-2016 года."
   ]
  },
  {
   "cell_type": "code",
   "execution_count": 149,
   "id": "978f52e6",
   "metadata": {},
   "outputs": [],
   "source": [
    "# выберем актуальный период\n",
    "games_from_2012 = games.query('year_of_release > 2011')"
   ]
  },
  {
   "cell_type": "code",
   "execution_count": 150,
   "id": "4e312cf7",
   "metadata": {},
   "outputs": [
    {
     "data": {
      "text/html": [
       "<div>\n",
       "<style scoped>\n",
       "    .dataframe tbody tr th:only-of-type {\n",
       "        vertical-align: middle;\n",
       "    }\n",
       "\n",
       "    .dataframe tbody tr th {\n",
       "        vertical-align: top;\n",
       "    }\n",
       "\n",
       "    .dataframe thead th {\n",
       "        text-align: right;\n",
       "    }\n",
       "</style>\n",
       "<table border=\"1\" class=\"dataframe\">\n",
       "  <thead>\n",
       "    <tr style=\"text-align: right;\">\n",
       "      <th>year_of_release</th>\n",
       "      <th>2012</th>\n",
       "      <th>2013</th>\n",
       "      <th>2014</th>\n",
       "      <th>2015</th>\n",
       "      <th>2016</th>\n",
       "      <th>2100</th>\n",
       "      <th>total</th>\n",
       "    </tr>\n",
       "    <tr>\n",
       "      <th>platform</th>\n",
       "      <th></th>\n",
       "      <th></th>\n",
       "      <th></th>\n",
       "      <th></th>\n",
       "      <th></th>\n",
       "      <th></th>\n",
       "      <th></th>\n",
       "    </tr>\n",
       "  </thead>\n",
       "  <tbody>\n",
       "    <tr>\n",
       "      <th>total</th>\n",
       "      <td>355.84</td>\n",
       "      <td>361.24</td>\n",
       "      <td>331.53</td>\n",
       "      <td>267.98</td>\n",
       "      <td>129.94</td>\n",
       "      <td>98.92</td>\n",
       "      <td>1545.45</td>\n",
       "    </tr>\n",
       "    <tr>\n",
       "      <th>PS4</th>\n",
       "      <td>NaN</td>\n",
       "      <td>25.99</td>\n",
       "      <td>100.00</td>\n",
       "      <td>118.90</td>\n",
       "      <td>69.25</td>\n",
       "      <td>NaN</td>\n",
       "      <td>314.14</td>\n",
       "    </tr>\n",
       "    <tr>\n",
       "      <th>PS3</th>\n",
       "      <td>107.36</td>\n",
       "      <td>113.25</td>\n",
       "      <td>47.76</td>\n",
       "      <td>16.82</td>\n",
       "      <td>3.60</td>\n",
       "      <td>8.31</td>\n",
       "      <td>297.10</td>\n",
       "    </tr>\n",
       "    <tr>\n",
       "      <th>X360</th>\n",
       "      <td>99.74</td>\n",
       "      <td>88.58</td>\n",
       "      <td>34.74</td>\n",
       "      <td>11.96</td>\n",
       "      <td>1.52</td>\n",
       "      <td>10.18</td>\n",
       "      <td>246.72</td>\n",
       "    </tr>\n",
       "    <tr>\n",
       "      <th>3DS</th>\n",
       "      <td>51.36</td>\n",
       "      <td>56.57</td>\n",
       "      <td>43.76</td>\n",
       "      <td>27.78</td>\n",
       "      <td>15.14</td>\n",
       "      <td>1.19</td>\n",
       "      <td>195.80</td>\n",
       "    </tr>\n",
       "    <tr>\n",
       "      <th>XOne</th>\n",
       "      <td>NaN</td>\n",
       "      <td>18.96</td>\n",
       "      <td>54.07</td>\n",
       "      <td>60.14</td>\n",
       "      <td>26.15</td>\n",
       "      <td>NaN</td>\n",
       "      <td>159.32</td>\n",
       "    </tr>\n",
       "    <tr>\n",
       "      <th>WiiU</th>\n",
       "      <td>17.56</td>\n",
       "      <td>21.65</td>\n",
       "      <td>22.03</td>\n",
       "      <td>16.35</td>\n",
       "      <td>4.60</td>\n",
       "      <td>NaN</td>\n",
       "      <td>82.19</td>\n",
       "    </tr>\n",
       "    <tr>\n",
       "      <th>PC</th>\n",
       "      <td>23.22</td>\n",
       "      <td>12.38</td>\n",
       "      <td>13.28</td>\n",
       "      <td>8.52</td>\n",
       "      <td>5.25</td>\n",
       "      <td>3.76</td>\n",
       "      <td>66.41</td>\n",
       "    </tr>\n",
       "    <tr>\n",
       "      <th>Wii</th>\n",
       "      <td>21.71</td>\n",
       "      <td>8.59</td>\n",
       "      <td>3.75</td>\n",
       "      <td>1.14</td>\n",
       "      <td>0.18</td>\n",
       "      <td>16.33</td>\n",
       "      <td>51.70</td>\n",
       "    </tr>\n",
       "    <tr>\n",
       "      <th>PSV</th>\n",
       "      <td>16.19</td>\n",
       "      <td>10.59</td>\n",
       "      <td>11.90</td>\n",
       "      <td>6.25</td>\n",
       "      <td>4.25</td>\n",
       "      <td>0.26</td>\n",
       "      <td>49.44</td>\n",
       "    </tr>\n",
       "    <tr>\n",
       "      <th>PS2</th>\n",
       "      <td>NaN</td>\n",
       "      <td>NaN</td>\n",
       "      <td>NaN</td>\n",
       "      <td>NaN</td>\n",
       "      <td>NaN</td>\n",
       "      <td>22.21</td>\n",
       "      <td>22.21</td>\n",
       "    </tr>\n",
       "    <tr>\n",
       "      <th>DS</th>\n",
       "      <td>11.01</td>\n",
       "      <td>1.54</td>\n",
       "      <td>NaN</td>\n",
       "      <td>NaN</td>\n",
       "      <td>NaN</td>\n",
       "      <td>3.34</td>\n",
       "      <td>15.89</td>\n",
       "    </tr>\n",
       "    <tr>\n",
       "      <th>PSP</th>\n",
       "      <td>7.69</td>\n",
       "      <td>3.14</td>\n",
       "      <td>0.24</td>\n",
       "      <td>0.12</td>\n",
       "      <td>NaN</td>\n",
       "      <td>4.52</td>\n",
       "      <td>15.71</td>\n",
       "    </tr>\n",
       "    <tr>\n",
       "      <th>2600</th>\n",
       "      <td>NaN</td>\n",
       "      <td>NaN</td>\n",
       "      <td>NaN</td>\n",
       "      <td>NaN</td>\n",
       "      <td>NaN</td>\n",
       "      <td>10.50</td>\n",
       "      <td>10.50</td>\n",
       "    </tr>\n",
       "    <tr>\n",
       "      <th>XB</th>\n",
       "      <td>NaN</td>\n",
       "      <td>NaN</td>\n",
       "      <td>NaN</td>\n",
       "      <td>NaN</td>\n",
       "      <td>NaN</td>\n",
       "      <td>6.17</td>\n",
       "      <td>6.17</td>\n",
       "    </tr>\n",
       "    <tr>\n",
       "      <th>GBA</th>\n",
       "      <td>NaN</td>\n",
       "      <td>NaN</td>\n",
       "      <td>NaN</td>\n",
       "      <td>NaN</td>\n",
       "      <td>NaN</td>\n",
       "      <td>4.97</td>\n",
       "      <td>4.97</td>\n",
       "    </tr>\n",
       "    <tr>\n",
       "      <th>PS</th>\n",
       "      <td>NaN</td>\n",
       "      <td>NaN</td>\n",
       "      <td>NaN</td>\n",
       "      <td>NaN</td>\n",
       "      <td>NaN</td>\n",
       "      <td>3.28</td>\n",
       "      <td>3.28</td>\n",
       "    </tr>\n",
       "    <tr>\n",
       "      <th>GC</th>\n",
       "      <td>NaN</td>\n",
       "      <td>NaN</td>\n",
       "      <td>NaN</td>\n",
       "      <td>NaN</td>\n",
       "      <td>NaN</td>\n",
       "      <td>2.20</td>\n",
       "      <td>2.20</td>\n",
       "    </tr>\n",
       "    <tr>\n",
       "      <th>GB</th>\n",
       "      <td>NaN</td>\n",
       "      <td>NaN</td>\n",
       "      <td>NaN</td>\n",
       "      <td>NaN</td>\n",
       "      <td>NaN</td>\n",
       "      <td>1.03</td>\n",
       "      <td>1.03</td>\n",
       "    </tr>\n",
       "    <tr>\n",
       "      <th>N64</th>\n",
       "      <td>NaN</td>\n",
       "      <td>NaN</td>\n",
       "      <td>NaN</td>\n",
       "      <td>NaN</td>\n",
       "      <td>NaN</td>\n",
       "      <td>0.67</td>\n",
       "      <td>0.67</td>\n",
       "    </tr>\n",
       "  </tbody>\n",
       "</table>\n",
       "</div>"
      ],
      "text/plain": [
       "year_of_release    2012    2013    2014    2015    2016   2100    total\n",
       "platform                                                               \n",
       "total            355.84  361.24  331.53  267.98  129.94  98.92  1545.45\n",
       "PS4                 NaN   25.99  100.00  118.90   69.25    NaN   314.14\n",
       "PS3              107.36  113.25   47.76   16.82    3.60   8.31   297.10\n",
       "X360              99.74   88.58   34.74   11.96    1.52  10.18   246.72\n",
       "3DS               51.36   56.57   43.76   27.78   15.14   1.19   195.80\n",
       "XOne                NaN   18.96   54.07   60.14   26.15    NaN   159.32\n",
       "WiiU              17.56   21.65   22.03   16.35    4.60    NaN    82.19\n",
       "PC                23.22   12.38   13.28    8.52    5.25   3.76    66.41\n",
       "Wii               21.71    8.59    3.75    1.14    0.18  16.33    51.70\n",
       "PSV               16.19   10.59   11.90    6.25    4.25   0.26    49.44\n",
       "PS2                 NaN     NaN     NaN     NaN     NaN  22.21    22.21\n",
       "DS                11.01    1.54     NaN     NaN     NaN   3.34    15.89\n",
       "PSP                7.69    3.14    0.24    0.12     NaN   4.52    15.71\n",
       "2600                NaN     NaN     NaN     NaN     NaN  10.50    10.50\n",
       "XB                  NaN     NaN     NaN     NaN     NaN   6.17     6.17\n",
       "GBA                 NaN     NaN     NaN     NaN     NaN   4.97     4.97\n",
       "PS                  NaN     NaN     NaN     NaN     NaN   3.28     3.28\n",
       "GC                  NaN     NaN     NaN     NaN     NaN   2.20     2.20\n",
       "GB                  NaN     NaN     NaN     NaN     NaN   1.03     1.03\n",
       "N64                 NaN     NaN     NaN     NaN     NaN   0.67     0.67"
      ]
     },
     "execution_count": 150,
     "metadata": {},
     "output_type": "execute_result"
    }
   ],
   "source": [
    "pd.crosstab(games_from_2012.platform,\n",
    "           games_from_2012.year_of_release,\n",
    "           values=games_from_2012.sales_amount,\n",
    "           aggfunc='sum',\n",
    "           margins=True, margins_name='total'\n",
    "           ).sort_values(by='total', ascending=False)"
   ]
  },
  {
   "cell_type": "markdown",
   "id": "6ab92dc7",
   "metadata": {},
   "source": [
    "**Вывод:**\n",
    " \n",
    " В результате построения таблицы выяснилось следующее:\n",
    " * Неожиданно появились новые лидеры, PS4 за 3,5 года своего существования стала лидером по продажам.\n",
    " * Наблюдаем резкое падение спроса у таких крупным платформ как: PS3, X360, 3DS. Предположу, что ухудшение продажи связано с появлением консоли нового поколения.\n",
    " * Единственный возможный конкурент для PS4 является XOne, у которого хоть не так быстро но все же продажи до 2016 расту.\n",
    " * Очевидно, потенциально выгодными платформами являются PS4 и XOne."
   ]
  },
  {
   "cell_type": "markdown",
   "id": "0bf1f61d",
   "metadata": {},
   "source": [
    "## 3.4 Построим график «ящик с усами» по глобальным продажам игр в разбивке по платформам."
   ]
  },
  {
   "cell_type": "markdown",
   "id": "dd472465",
   "metadata": {},
   "source": [
    "Выберем самые популярные платформы и построим для них диаграмму размаха, ограничим продажи до 4 млн, чтобы график был более читабельным."
   ]
  },
  {
   "cell_type": "code",
   "execution_count": 151,
   "id": "d8be08bc",
   "metadata": {},
   "outputs": [],
   "source": [
    "# выбор популярных платформ\n",
    "popular_platform = ['PS4', '3DS', 'XOne']"
   ]
  },
  {
   "cell_type": "code",
   "execution_count": 152,
   "id": "370455ae",
   "metadata": {},
   "outputs": [
    {
     "data": {
      "image/png": "[encoded data removed]",
      "text/plain": [
       "<Figure size 1080x360 with 1 Axes>"
      ]
     },
     "metadata": {
      "needs_background": "light"
     },
     "output_type": "display_data"
    }
   ],
   "source": [
    "# построение диаграммы размаха\n",
    "plt.figure(figsize=(15,5))\n",
    "sns.boxplot(y='platform', x='sales_amount',\n",
    "            data = games_from_2012.query('platform in @popular_platform and sales_amount <4')\n",
    "            ,order=popular_platform\n",
    "           )\n",
    "plt.show()"
   ]
  },
  {
   "cell_type": "markdown",
   "id": "64354795",
   "metadata": {},
   "source": [
    "**Вывод:**\n",
    "* Наблюдается сильный разброс цен у платформы 3DS и у остальных, более чем в 2 раза, этого говорит нам о том, что консоль сильно устыпает в популярности 2 своим конкурентам.\n",
    "* Продажи PS4 и XOne напоминают друг друга, возможно это из-за того, что даты выпуска игр на разных платформах совпадали.\n",
    "* Хоть у консоли PS4 и есть эксклюзивные релизы, которые выводят PS4 вперед по выручке и количеству игр, но boxplot показывает, что разброс выручки от игр на PS4 и XOne одинаковый."
   ]
  },
  {
   "cell_type": "markdown",
   "id": "71636f3e",
   "metadata": {},
   "source": [
    "## 3.5 Влияние отзывов пользователей и критиков на продажи внутри одной платформы."
   ]
  },
  {
   "cell_type": "markdown",
   "id": "e17135b3",
   "metadata": {},
   "source": [
    "Построим диаграмму рассеяния и посчитаем корреляцию между отзывами и продажами. Выберем одну из лидеров среди консолей XOne, оставим продажи до 5 млн и уберем пропуски в оценках."
   ]
  },
  {
   "cell_type": "code",
   "execution_count": 153,
   "id": "9ab00b30",
   "metadata": {},
   "outputs": [],
   "source": [
    "# создаем отдельный датафрейм\n",
    "xone_data = games_from_2012.loc[(games_from_2012['sales_amount'] < 5)\n",
    "                                & (games_from_2012['platform'] == 'XOne')\n",
    "                                & (games_from_2012['critic_score'].notna())\n",
    "                                & (games_from_2012['user_score'].notna())]"
   ]
  },
  {
   "cell_type": "code",
   "execution_count": 154,
   "id": "1d5ecfab",
   "metadata": {},
   "outputs": [
    {
     "data": {
      "text/plain": [
       "<function matplotlib.pyplot.show(close=None, block=None)>"
      ]
     },
     "execution_count": 154,
     "metadata": {},
     "output_type": "execute_result"
    },
    {
     "data": {
      "image/png": "[encoded data removed]",
      "text/plain": [
       "<Figure size 540x540 with 12 Axes>"
      ]
     },
     "metadata": {
      "needs_background": "light"
     },
     "output_type": "display_data"
    }
   ],
   "source": [
    "# построение диаграммы рассеяния \n",
    "diagram = sns.pairplot(xone_data[['sales_amount', 'critic_score', 'user_score']])\n",
    "diagram.fig.suptitle('XOne', y=1.05)\n",
    "plt.show"
   ]
  },
  {
   "cell_type": "code",
   "execution_count": 155,
   "id": "0383100b",
   "metadata": {},
   "outputs": [
    {
     "data": {
      "text/plain": [
       "Text(0.5, 1.0, 'Heatmap XOne')"
      ]
     },
     "execution_count": 155,
     "metadata": {},
     "output_type": "execute_result"
    },
    {
     "data": {
      "image/png": "[encoded data removed]",
      "text/plain": [
       "<Figure size 432x288 with 2 Axes>"
      ]
     },
     "metadata": {
      "needs_background": "light"
     },
     "output_type": "display_data"
    }
   ],
   "source": [
    "# посмортим корреляцию \n",
    "sns.heatmap(xone_data[['sales_amount', 'critic_score', 'user_score']].corr(), linewidths=.2, annot=True)\n",
    "plt.title('Heatmap XOne')"
   ]
  },
  {
   "cell_type": "markdown",
   "id": "cb4ad76e",
   "metadata": {},
   "source": [
    "**Вывод:**\n",
    "* Наблюдается умеренная зависимость продаж от отзывов критиков, видно, что у кассовых игр хорошие отзывы. \n",
    "* Что касается отзывов пользователей, то их корреляция с продажами игр близка к 0, пользователи более критичны в отношении игр и ставят плохие оченки даже очень прибыльным проектам.\n",
    "* Интересно наблюдать отличную корреляцию между отзывами критиков и пользователей, это значит, что их оценки часто совпадают или находятся близко друг с другом."
   ]
  },
  {
   "cell_type": "markdown",
   "id": "cf2e8fc5",
   "metadata": {},
   "source": [
    "## 3.6 Соотнесем выводы с другими перспективными платформами."
   ]
  },
  {
   "cell_type": "markdown",
   "id": "a00c953d",
   "metadata": {},
   "source": [
    "Посмотрим корреляцию на 2 других платформах."
   ]
  },
  {
   "cell_type": "code",
   "execution_count": 156,
   "id": "4c82d8da",
   "metadata": {},
   "outputs": [
    {
     "data": {
      "image/png": "[encoded data removed]",
      "text/plain": [
       "<Figure size 432x288 with 2 Axes>"
      ]
     },
     "metadata": {
      "needs_background": "light"
     },
     "output_type": "display_data"
    },
    {
     "data": {
      "image/png": "[encoded data removed]",
      "text/plain": [
       "<Figure size 432x288 with 2 Axes>"
      ]
     },
     "metadata": {
      "needs_background": "light"
     },
     "output_type": "display_data"
    },
    {
     "data": {
      "image/png": "[encoded data removed]",
      "text/plain": [
       "<Figure size 432x288 with 2 Axes>"
      ]
     },
     "metadata": {
      "needs_background": "light"
     },
     "output_type": "display_data"
    }
   ],
   "source": [
    "ps4_data = games_from_2012.loc[(games_from_2012['sales_amount'] < 5)\n",
    "                                & (games_from_2012['platform'] == 'PS4')\n",
    "                                & (games_from_2012['critic_score'].notna())\n",
    "                                & (games_from_2012['user_score'].notna())]\n",
    "data_3ds = games_from_2012.loc[(games_from_2012['sales_amount'] < 5)\n",
    "                                & (games_from_2012['platform'] == '3DS')\n",
    "                                & (games_from_2012['critic_score'].notna())\n",
    "                                & (games_from_2012['user_score'].notna())]\n",
    "sns.heatmap(xone_data[['sales_amount', 'critic_score', 'user_score']].corr(), linewidths=.2, annot=True)\n",
    "plt.title('Heatmap XOne')\n",
    "plt.show()\n",
    "sns.heatmap(ps4_data[['sales_amount', 'critic_score', 'user_score']].corr(), linewidths=.2, annot=True)\n",
    "plt.title('Heatmap PS4')\n",
    "plt.show()\n",
    "sns.heatmap(data_3ds[['sales_amount', 'critic_score', 'user_score']].corr(), linewidths=.2, annot=True)\n",
    "plt.title('Heatmap 3DS')\n",
    "plt.show()"
   ]
  },
  {
   "cell_type": "code",
   "execution_count": 157,
   "id": "42899036",
   "metadata": {},
   "outputs": [
    {
     "data": {
      "text/plain": [
       "<function matplotlib.pyplot.show(close=None, block=None)>"
      ]
     },
     "execution_count": 157,
     "metadata": {},
     "output_type": "execute_result"
    },
    {
     "data": {
      "image/png": "[encoded data removed]",
      "text/plain": [
       "<Figure size 540x540 with 12 Axes>"
      ]
     },
     "metadata": {
      "needs_background": "light"
     },
     "output_type": "display_data"
    }
   ],
   "source": [
    "# построение диаграммы рассеяния \n",
    "diagram = sns.pairplot(data_3ds[['sales_amount', 'critic_score', 'user_score']])\n",
    "diagram.fig.suptitle('3DS', y=1.05)\n",
    "plt.show"
   ]
  },
  {
   "cell_type": "markdown",
   "id": "d57de521",
   "metadata": {},
   "source": [
    "**Вывод:**\n",
    "* Как было ранее установлено, платформы PS4 и XOne очень похожи, этот факт подтверждает и коэффициенты корреляции.\n",
    "* Что касается консоли 3DS, то здесь мы наблюдаем более высокую зависимость продаж от оценок пользователей, так же здесь более высокая корреляция между отзывами критиков и пользователей."
   ]
  },
  {
   "cell_type": "markdown",
   "id": "3b8ba5c1",
   "metadata": {},
   "source": [
    "## 3.7 Изучение распределения игр по жанрам."
   ]
  },
  {
   "cell_type": "markdown",
   "id": "552b3de2",
   "metadata": {},
   "source": [
    "Узнаем информацию о самых прибыльных жанрах, узнаем, выделяются ли жанры с высокими и низкими продажами."
   ]
  },
  {
   "cell_type": "code",
   "execution_count": 158,
   "id": "29d5454f",
   "metadata": {},
   "outputs": [
    {
     "data": {
      "text/html": [
       "<div>\n",
       "<style scoped>\n",
       "    .dataframe tbody tr th:only-of-type {\n",
       "        vertical-align: middle;\n",
       "    }\n",
       "\n",
       "    .dataframe tbody tr th {\n",
       "        vertical-align: top;\n",
       "    }\n",
       "\n",
       "    .dataframe thead th {\n",
       "        text-align: right;\n",
       "    }\n",
       "</style>\n",
       "<table border=\"1\" class=\"dataframe\">\n",
       "  <thead>\n",
       "    <tr style=\"text-align: right;\">\n",
       "      <th>year_of_release</th>\n",
       "      <th>2012</th>\n",
       "      <th>2013</th>\n",
       "      <th>2014</th>\n",
       "      <th>2015</th>\n",
       "      <th>2016</th>\n",
       "      <th>2100</th>\n",
       "      <th>total</th>\n",
       "    </tr>\n",
       "    <tr>\n",
       "      <th>genre</th>\n",
       "      <th></th>\n",
       "      <th></th>\n",
       "      <th></th>\n",
       "      <th></th>\n",
       "      <th></th>\n",
       "      <th></th>\n",
       "      <th></th>\n",
       "    </tr>\n",
       "  </thead>\n",
       "  <tbody>\n",
       "    <tr>\n",
       "      <th>Shooter</th>\n",
       "      <td>1.494792</td>\n",
       "      <td>1.051525</td>\n",
       "      <td>1.387447</td>\n",
       "      <td>1.985588</td>\n",
       "      <td>0.813191</td>\n",
       "      <td>0.410741</td>\n",
       "      <td>1.205420</td>\n",
       "    </tr>\n",
       "    <tr>\n",
       "      <th>Platform</th>\n",
       "      <td>1.670000</td>\n",
       "      <td>0.681667</td>\n",
       "      <td>0.881000</td>\n",
       "      <td>0.465385</td>\n",
       "      <td>0.215333</td>\n",
       "      <td>0.222000</td>\n",
       "      <td>0.665474</td>\n",
       "    </tr>\n",
       "    <tr>\n",
       "      <th>Sports</th>\n",
       "      <td>0.563333</td>\n",
       "      <td>0.776792</td>\n",
       "      <td>0.836111</td>\n",
       "      <td>0.692203</td>\n",
       "      <td>0.489375</td>\n",
       "      <td>0.514286</td>\n",
       "      <td>0.653774</td>\n",
       "    </tr>\n",
       "    <tr>\n",
       "      <th>Role-Playing</th>\n",
       "      <td>0.601410</td>\n",
       "      <td>0.626056</td>\n",
       "      <td>0.512584</td>\n",
       "      <td>0.482564</td>\n",
       "      <td>0.336667</td>\n",
       "      <td>0.204706</td>\n",
       "      <td>0.507183</td>\n",
       "    </tr>\n",
       "    <tr>\n",
       "      <th>total</th>\n",
       "      <td>0.544931</td>\n",
       "      <td>0.664044</td>\n",
       "      <td>0.570620</td>\n",
       "      <td>0.442211</td>\n",
       "      <td>0.258845</td>\n",
       "      <td>0.367732</td>\n",
       "      <td>0.489842</td>\n",
       "    </tr>\n",
       "    <tr>\n",
       "      <th>Misc</th>\n",
       "      <td>0.600541</td>\n",
       "      <td>0.601667</td>\n",
       "      <td>0.556667</td>\n",
       "      <td>0.296667</td>\n",
       "      <td>0.081250</td>\n",
       "      <td>0.421379</td>\n",
       "      <td>0.440090</td>\n",
       "    </tr>\n",
       "    <tr>\n",
       "      <th>Action</th>\n",
       "      <td>0.450000</td>\n",
       "      <td>0.833401</td>\n",
       "      <td>0.517181</td>\n",
       "      <td>0.284664</td>\n",
       "      <td>0.169157</td>\n",
       "      <td>0.445968</td>\n",
       "      <td>0.428884</td>\n",
       "    </tr>\n",
       "    <tr>\n",
       "      <th>Racing</th>\n",
       "      <td>0.453667</td>\n",
       "      <td>0.773125</td>\n",
       "      <td>0.617037</td>\n",
       "      <td>0.448333</td>\n",
       "      <td>0.116250</td>\n",
       "      <td>0.225217</td>\n",
       "      <td>0.425217</td>\n",
       "    </tr>\n",
       "    <tr>\n",
       "      <th>Fighting</th>\n",
       "      <td>0.316552</td>\n",
       "      <td>0.354500</td>\n",
       "      <td>0.689130</td>\n",
       "      <td>0.376190</td>\n",
       "      <td>0.279375</td>\n",
       "      <td>0.405833</td>\n",
       "      <td>0.407934</td>\n",
       "    </tr>\n",
       "    <tr>\n",
       "      <th>Simulation</th>\n",
       "      <td>0.742222</td>\n",
       "      <td>0.479444</td>\n",
       "      <td>0.507273</td>\n",
       "      <td>0.377333</td>\n",
       "      <td>0.105000</td>\n",
       "      <td>0.125625</td>\n",
       "      <td>0.386771</td>\n",
       "    </tr>\n",
       "    <tr>\n",
       "      <th>Puzzle</th>\n",
       "      <td>0.156364</td>\n",
       "      <td>0.320000</td>\n",
       "      <td>0.212857</td>\n",
       "      <td>0.118333</td>\n",
       "      <td>0.010000</td>\n",
       "      <td>0.243636</td>\n",
       "      <td>0.194103</td>\n",
       "    </tr>\n",
       "    <tr>\n",
       "      <th>Strategy</th>\n",
       "      <td>0.217333</td>\n",
       "      <td>0.322105</td>\n",
       "      <td>0.122500</td>\n",
       "      <td>0.115625</td>\n",
       "      <td>0.086923</td>\n",
       "      <td>0.166000</td>\n",
       "      <td>0.185185</td>\n",
       "    </tr>\n",
       "    <tr>\n",
       "      <th>Adventure</th>\n",
       "      <td>0.101579</td>\n",
       "      <td>0.101500</td>\n",
       "      <td>0.074267</td>\n",
       "      <td>0.151111</td>\n",
       "      <td>0.068214</td>\n",
       "      <td>0.426000</td>\n",
       "      <td>0.107981</td>\n",
       "    </tr>\n",
       "  </tbody>\n",
       "</table>\n",
       "</div>"
      ],
      "text/plain": [
       "year_of_release      2012      2013      2014      2015      2016      2100  \\\n",
       "genre                                                                         \n",
       "Shooter          1.494792  1.051525  1.387447  1.985588  0.813191  0.410741   \n",
       "Platform         1.670000  0.681667  0.881000  0.465385  0.215333  0.222000   \n",
       "Sports           0.563333  0.776792  0.836111  0.692203  0.489375  0.514286   \n",
       "Role-Playing     0.601410  0.626056  0.512584  0.482564  0.336667  0.204706   \n",
       "total            0.544931  0.664044  0.570620  0.442211  0.258845  0.367732   \n",
       "Misc             0.600541  0.601667  0.556667  0.296667  0.081250  0.421379   \n",
       "Action           0.450000  0.833401  0.517181  0.284664  0.169157  0.445968   \n",
       "Racing           0.453667  0.773125  0.617037  0.448333  0.116250  0.225217   \n",
       "Fighting         0.316552  0.354500  0.689130  0.376190  0.279375  0.405833   \n",
       "Simulation       0.742222  0.479444  0.507273  0.377333  0.105000  0.125625   \n",
       "Puzzle           0.156364  0.320000  0.212857  0.118333  0.010000  0.243636   \n",
       "Strategy         0.217333  0.322105  0.122500  0.115625  0.086923  0.166000   \n",
       "Adventure        0.101579  0.101500  0.074267  0.151111  0.068214  0.426000   \n",
       "\n",
       "year_of_release     total  \n",
       "genre                      \n",
       "Shooter          1.205420  \n",
       "Platform         0.665474  \n",
       "Sports           0.653774  \n",
       "Role-Playing     0.507183  \n",
       "total            0.489842  \n",
       "Misc             0.440090  \n",
       "Action           0.428884  \n",
       "Racing           0.425217  \n",
       "Fighting         0.407934  \n",
       "Simulation       0.386771  \n",
       "Puzzle           0.194103  \n",
       "Strategy         0.185185  \n",
       "Adventure        0.107981  "
      ]
     },
     "execution_count": 158,
     "metadata": {},
     "output_type": "execute_result"
    }
   ],
   "source": [
    "# построим сводную таблицу\n",
    "games_from_2012.pivot_table(index='genre'\n",
    "                            ,columns='year_of_release'\n",
    "                            ,values='sales_amount'\n",
    "                            ,aggfunc='mean'\n",
    "                            ,margins=True\n",
    "                            ,margins_name='total').sort_values(by='total', ascending=False)"
   ]
  },
  {
   "cell_type": "markdown",
   "id": "84319106",
   "metadata": {},
   "source": [
    "Выделим из всего списка 5 самых популярных жанров, чтобы не было путаницы на графиках."
   ]
  },
  {
   "cell_type": "code",
   "execution_count": 159,
   "id": "e301306c",
   "metadata": {},
   "outputs": [],
   "source": [
    "# выделяем популярные жанры\n",
    "top_genres = ['Action', 'Shooter', 'Role-Playing', 'Sports', 'Misc']\n",
    "sales_by_genres = games_from_2012.query('genre in @top_genres').pivot_table(index='genre'\n",
    "                            ,columns='year_of_release'\n",
    "                            ,values='sales_amount'\n",
    "                            ,aggfunc='sum')"
   ]
  },
  {
   "cell_type": "code",
   "execution_count": 160,
   "id": "4b1e23e9",
   "metadata": {},
   "outputs": [
    {
     "data": {
      "image/png": "[encoded data removed]",
      "text/plain": [
       "<Figure size 1440x504 with 1 Axes>"
      ]
     },
     "metadata": {
      "needs_background": "light"
     },
     "output_type": "display_data"
    }
   ],
   "source": [
    "# построим график \n",
    "x_ticks = games_from_2012['year_of_release'].unique()\n",
    "\n",
    "fig, ax = plt.subplots(figsize=(20,7))\n",
    "sales_by_genres.T.plot(kind='line',  ax=ax, grid=True, xticks=x_ticks)\n",
    "plt.ylabel('sales_amount',fontsize='x-large')\n",
    "plt.xlabel('year_of_release',fontsize='x-large')\n",
    "plt.legend(fontsize='x-large')\n",
    "plt.show()"
   ]
  },
  {
   "cell_type": "code",
   "execution_count": 161,
   "id": "7aab0ba9",
   "metadata": {},
   "outputs": [
    {
     "data": {
      "image/png": "[encoded data removed]",
      "text/plain": [
       "<Figure size 1440x504 with 1 Axes>"
      ]
     },
     "metadata": {
      "needs_background": "light"
     },
     "output_type": "display_data"
    }
   ],
   "source": [
    "# построим график \n",
    "x_ticks = games_from_2012['year_of_release'].unique()[:-1]\n",
    "\n",
    "sales_by_genres_tmp = sales_by_genres.drop(labels=[2100], axis='columns')\n",
    "\n",
    "fig, ax = plt.subplots(figsize=(20,7))\n",
    "sales_by_genres_tmp.T.plot(kind='line',  ax=ax, grid=True, xticks=x_ticks)\n",
    "plt.ylabel('sales_amount',fontsize='x-large')\n",
    "plt.xlabel('year_of_release',fontsize='x-large')\n",
    "plt.legend(fontsize='x-large')\n",
    "plt.show()"
   ]
  },
  {
   "cell_type": "markdown",
   "id": "0e60a80a",
   "metadata": {},
   "source": [
    "**Вывод:**\n",
    "* Можем наблюдать сильное падение у жанра `Action` с 2013 года.\n",
    "* Падение продаж не обошло и остальные жанры в 2016 году, но так как за этот год данные были предоставлены не в полном объеме, это все объясняет.\n",
    "* Жанры можно выделить следующим образом, `Shooter` занимает уверенное 1 место, `Action` занимает 2 место, но с такой тенденцией они быстро слетят ниже по статусу, 3 место за `Sports`, 4 место за `Role-Playing` и список завершает жанр `Misc`."
   ]
  },
  {
   "cell_type": "markdown",
   "id": "c5e3bb63",
   "metadata": {},
   "source": [
    "## 4. Составим портрет пользователя каждого региона."
   ]
  },
  {
   "cell_type": "markdown",
   "id": "49341a19",
   "metadata": {},
   "source": [
    "Выделим топ-5 платформ по продажам в Северной Америке."
   ]
  },
  {
   "cell_type": "code",
   "execution_count": 162,
   "id": "6ca43247",
   "metadata": {},
   "outputs": [
    {
     "data": {
      "text/html": [
       "<div>\n",
       "<style scoped>\n",
       "    .dataframe tbody tr th:only-of-type {\n",
       "        vertical-align: middle;\n",
       "    }\n",
       "\n",
       "    .dataframe tbody tr th {\n",
       "        vertical-align: top;\n",
       "    }\n",
       "\n",
       "    .dataframe thead th {\n",
       "        text-align: right;\n",
       "    }\n",
       "</style>\n",
       "<table border=\"1\" class=\"dataframe\">\n",
       "  <thead>\n",
       "    <tr style=\"text-align: right;\">\n",
       "      <th></th>\n",
       "      <th>platform</th>\n",
       "      <th>na_sales</th>\n",
       "      <th>percent</th>\n",
       "      <th>cumulative_na_sales</th>\n",
       "      <th>cumulative_percent</th>\n",
       "    </tr>\n",
       "  </thead>\n",
       "  <tbody>\n",
       "    <tr>\n",
       "      <th>0</th>\n",
       "      <td>X360</td>\n",
       "      <td>146.78</td>\n",
       "      <td>22.577370</td>\n",
       "      <td>146.78</td>\n",
       "      <td>22.577370</td>\n",
       "    </tr>\n",
       "    <tr>\n",
       "      <th>1</th>\n",
       "      <td>PS4</td>\n",
       "      <td>108.74</td>\n",
       "      <td>16.726143</td>\n",
       "      <td>255.52</td>\n",
       "      <td>39.303513</td>\n",
       "    </tr>\n",
       "    <tr>\n",
       "      <th>2</th>\n",
       "      <td>PS3</td>\n",
       "      <td>106.74</td>\n",
       "      <td>16.418507</td>\n",
       "      <td>362.26</td>\n",
       "      <td>55.722021</td>\n",
       "    </tr>\n",
       "    <tr>\n",
       "      <th>3</th>\n",
       "      <td>XOne</td>\n",
       "      <td>93.12</td>\n",
       "      <td>14.323510</td>\n",
       "      <td>455.38</td>\n",
       "      <td>70.045530</td>\n",
       "    </tr>\n",
       "    <tr>\n",
       "      <th>4</th>\n",
       "      <td>3DS</td>\n",
       "      <td>56.15</td>\n",
       "      <td>8.636867</td>\n",
       "      <td>511.53</td>\n",
       "      <td>78.682397</td>\n",
       "    </tr>\n",
       "  </tbody>\n",
       "</table>\n",
       "</div>"
      ],
      "text/plain": [
       "  platform  na_sales    percent  cumulative_na_sales  cumulative_percent\n",
       "0     X360    146.78  22.577370               146.78           22.577370\n",
       "1      PS4    108.74  16.726143               255.52           39.303513\n",
       "2      PS3    106.74  16.418507               362.26           55.722021\n",
       "3     XOne     93.12  14.323510               455.38           70.045530\n",
       "4      3DS     56.15   8.636867               511.53           78.682397"
      ]
     },
     "execution_count": 162,
     "metadata": {},
     "output_type": "execute_result"
    }
   ],
   "source": [
    "# построим простую сводную таблицу  \n",
    "games_from_2012.stb.freq(['platform'], value='na_sales').head()"
   ]
  },
  {
   "cell_type": "markdown",
   "id": "1af2ec5c",
   "metadata": {},
   "source": [
    "Наблюдаем, что на долю X-бокс приходится больше продаж, чем на PS в целом, почти 85% рынка приставок занимают таких платформы, как PS, 3DS и X-боксы. Посмотрим динамику по годам."
   ]
  },
  {
   "cell_type": "code",
   "execution_count": 163,
   "id": "9e1bacb4",
   "metadata": {},
   "outputs": [
    {
     "data": {
      "text/html": [
       "<div>\n",
       "<style scoped>\n",
       "    .dataframe tbody tr th:only-of-type {\n",
       "        vertical-align: middle;\n",
       "    }\n",
       "\n",
       "    .dataframe tbody tr th {\n",
       "        vertical-align: top;\n",
       "    }\n",
       "\n",
       "    .dataframe thead th {\n",
       "        text-align: right;\n",
       "    }\n",
       "</style>\n",
       "<table border=\"1\" class=\"dataframe\">\n",
       "  <thead>\n",
       "    <tr style=\"text-align: right;\">\n",
       "      <th>year_of_release</th>\n",
       "      <th>2012</th>\n",
       "      <th>2013</th>\n",
       "      <th>2014</th>\n",
       "      <th>2015</th>\n",
       "      <th>2016</th>\n",
       "      <th>2100</th>\n",
       "      <th>total</th>\n",
       "    </tr>\n",
       "    <tr>\n",
       "      <th>platform</th>\n",
       "      <th></th>\n",
       "      <th></th>\n",
       "      <th></th>\n",
       "      <th></th>\n",
       "      <th></th>\n",
       "      <th></th>\n",
       "      <th></th>\n",
       "    </tr>\n",
       "  </thead>\n",
       "  <tbody>\n",
       "    <tr>\n",
       "      <th>total</th>\n",
       "      <td>153.26</td>\n",
       "      <td>153.65</td>\n",
       "      <td>132.27</td>\n",
       "      <td>106.86</td>\n",
       "      <td>44.93</td>\n",
       "      <td>59.15</td>\n",
       "      <td>650.12</td>\n",
       "    </tr>\n",
       "    <tr>\n",
       "      <th>X360</th>\n",
       "      <td>58.39</td>\n",
       "      <td>53.36</td>\n",
       "      <td>20.25</td>\n",
       "      <td>7.36</td>\n",
       "      <td>0.69</td>\n",
       "      <td>6.73</td>\n",
       "      <td>146.78</td>\n",
       "    </tr>\n",
       "    <tr>\n",
       "      <th>PS4</th>\n",
       "      <td>NaN</td>\n",
       "      <td>10.13</td>\n",
       "      <td>34.75</td>\n",
       "      <td>42.37</td>\n",
       "      <td>21.49</td>\n",
       "      <td>NaN</td>\n",
       "      <td>108.74</td>\n",
       "    </tr>\n",
       "    <tr>\n",
       "      <th>PS3</th>\n",
       "      <td>39.88</td>\n",
       "      <td>41.45</td>\n",
       "      <td>16.39</td>\n",
       "      <td>4.99</td>\n",
       "      <td>0.67</td>\n",
       "      <td>3.36</td>\n",
       "      <td>106.74</td>\n",
       "    </tr>\n",
       "    <tr>\n",
       "      <th>XOne</th>\n",
       "      <td>NaN</td>\n",
       "      <td>11.85</td>\n",
       "      <td>30.97</td>\n",
       "      <td>36.03</td>\n",
       "      <td>14.27</td>\n",
       "      <td>NaN</td>\n",
       "      <td>93.12</td>\n",
       "    </tr>\n",
       "    <tr>\n",
       "      <th>3DS</th>\n",
       "      <td>17.11</td>\n",
       "      <td>15.56</td>\n",
       "      <td>12.33</td>\n",
       "      <td>6.17</td>\n",
       "      <td>4.14</td>\n",
       "      <td>0.84</td>\n",
       "      <td>56.15</td>\n",
       "    </tr>\n",
       "    <tr>\n",
       "      <th>WiiU</th>\n",
       "      <td>8.89</td>\n",
       "      <td>9.85</td>\n",
       "      <td>10.50</td>\n",
       "      <td>6.76</td>\n",
       "      <td>2.10</td>\n",
       "      <td>NaN</td>\n",
       "      <td>38.10</td>\n",
       "    </tr>\n",
       "    <tr>\n",
       "      <th>Wii</th>\n",
       "      <td>10.89</td>\n",
       "      <td>4.48</td>\n",
       "      <td>1.59</td>\n",
       "      <td>0.43</td>\n",
       "      <td>0.06</td>\n",
       "      <td>10.03</td>\n",
       "      <td>27.48</td>\n",
       "    </tr>\n",
       "    <tr>\n",
       "      <th>PC</th>\n",
       "      <td>8.01</td>\n",
       "      <td>3.88</td>\n",
       "      <td>3.51</td>\n",
       "      <td>2.36</td>\n",
       "      <td>1.36</td>\n",
       "      <td>1.19</td>\n",
       "      <td>20.31</td>\n",
       "    </tr>\n",
       "    <tr>\n",
       "      <th>PSV</th>\n",
       "      <td>5.94</td>\n",
       "      <td>2.52</td>\n",
       "      <td>1.98</td>\n",
       "      <td>0.39</td>\n",
       "      <td>0.15</td>\n",
       "      <td>0.11</td>\n",
       "      <td>11.09</td>\n",
       "    </tr>\n",
       "    <tr>\n",
       "      <th>PS2</th>\n",
       "      <td>NaN</td>\n",
       "      <td>NaN</td>\n",
       "      <td>NaN</td>\n",
       "      <td>NaN</td>\n",
       "      <td>NaN</td>\n",
       "      <td>10.92</td>\n",
       "      <td>10.92</td>\n",
       "    </tr>\n",
       "    <tr>\n",
       "      <th>2600</th>\n",
       "      <td>NaN</td>\n",
       "      <td>NaN</td>\n",
       "      <td>NaN</td>\n",
       "      <td>NaN</td>\n",
       "      <td>NaN</td>\n",
       "      <td>9.82</td>\n",
       "      <td>9.82</td>\n",
       "    </tr>\n",
       "    <tr>\n",
       "      <th>DS</th>\n",
       "      <td>4.02</td>\n",
       "      <td>0.57</td>\n",
       "      <td>NaN</td>\n",
       "      <td>NaN</td>\n",
       "      <td>NaN</td>\n",
       "      <td>2.09</td>\n",
       "      <td>6.68</td>\n",
       "    </tr>\n",
       "    <tr>\n",
       "      <th>XB</th>\n",
       "      <td>NaN</td>\n",
       "      <td>NaN</td>\n",
       "      <td>NaN</td>\n",
       "      <td>NaN</td>\n",
       "      <td>NaN</td>\n",
       "      <td>4.63</td>\n",
       "      <td>4.63</td>\n",
       "    </tr>\n",
       "    <tr>\n",
       "      <th>GBA</th>\n",
       "      <td>NaN</td>\n",
       "      <td>NaN</td>\n",
       "      <td>NaN</td>\n",
       "      <td>NaN</td>\n",
       "      <td>NaN</td>\n",
       "      <td>3.42</td>\n",
       "      <td>3.42</td>\n",
       "    </tr>\n",
       "    <tr>\n",
       "      <th>PSP</th>\n",
       "      <td>0.13</td>\n",
       "      <td>0.00</td>\n",
       "      <td>0.00</td>\n",
       "      <td>0.00</td>\n",
       "      <td>NaN</td>\n",
       "      <td>1.90</td>\n",
       "      <td>2.03</td>\n",
       "    </tr>\n",
       "    <tr>\n",
       "      <th>PS</th>\n",
       "      <td>NaN</td>\n",
       "      <td>NaN</td>\n",
       "      <td>NaN</td>\n",
       "      <td>NaN</td>\n",
       "      <td>NaN</td>\n",
       "      <td>1.80</td>\n",
       "      <td>1.80</td>\n",
       "    </tr>\n",
       "    <tr>\n",
       "      <th>GC</th>\n",
       "      <td>NaN</td>\n",
       "      <td>NaN</td>\n",
       "      <td>NaN</td>\n",
       "      <td>NaN</td>\n",
       "      <td>NaN</td>\n",
       "      <td>1.52</td>\n",
       "      <td>1.52</td>\n",
       "    </tr>\n",
       "    <tr>\n",
       "      <th>GB</th>\n",
       "      <td>NaN</td>\n",
       "      <td>NaN</td>\n",
       "      <td>NaN</td>\n",
       "      <td>NaN</td>\n",
       "      <td>NaN</td>\n",
       "      <td>0.68</td>\n",
       "      <td>0.68</td>\n",
       "    </tr>\n",
       "    <tr>\n",
       "      <th>N64</th>\n",
       "      <td>NaN</td>\n",
       "      <td>NaN</td>\n",
       "      <td>NaN</td>\n",
       "      <td>NaN</td>\n",
       "      <td>NaN</td>\n",
       "      <td>0.11</td>\n",
       "      <td>0.11</td>\n",
       "    </tr>\n",
       "  </tbody>\n",
       "</table>\n",
       "</div>"
      ],
      "text/plain": [
       "year_of_release    2012    2013    2014    2015   2016   2100   total\n",
       "platform                                                             \n",
       "total            153.26  153.65  132.27  106.86  44.93  59.15  650.12\n",
       "X360              58.39   53.36   20.25    7.36   0.69   6.73  146.78\n",
       "PS4                 NaN   10.13   34.75   42.37  21.49    NaN  108.74\n",
       "PS3               39.88   41.45   16.39    4.99   0.67   3.36  106.74\n",
       "XOne                NaN   11.85   30.97   36.03  14.27    NaN   93.12\n",
       "3DS               17.11   15.56   12.33    6.17   4.14   0.84   56.15\n",
       "WiiU               8.89    9.85   10.50    6.76   2.10    NaN   38.10\n",
       "Wii               10.89    4.48    1.59    0.43   0.06  10.03   27.48\n",
       "PC                 8.01    3.88    3.51    2.36   1.36   1.19   20.31\n",
       "PSV                5.94    2.52    1.98    0.39   0.15   0.11   11.09\n",
       "PS2                 NaN     NaN     NaN     NaN    NaN  10.92   10.92\n",
       "2600                NaN     NaN     NaN     NaN    NaN   9.82    9.82\n",
       "DS                 4.02    0.57     NaN     NaN    NaN   2.09    6.68\n",
       "XB                  NaN     NaN     NaN     NaN    NaN   4.63    4.63\n",
       "GBA                 NaN     NaN     NaN     NaN    NaN   3.42    3.42\n",
       "PSP                0.13    0.00    0.00    0.00    NaN   1.90    2.03\n",
       "PS                  NaN     NaN     NaN     NaN    NaN   1.80    1.80\n",
       "GC                  NaN     NaN     NaN     NaN    NaN   1.52    1.52\n",
       "GB                  NaN     NaN     NaN     NaN    NaN   0.68    0.68\n",
       "N64                 NaN     NaN     NaN     NaN    NaN   0.11    0.11"
      ]
     },
     "execution_count": 163,
     "metadata": {},
     "output_type": "execute_result"
    }
   ],
   "source": [
    "# построим таблицу динамики по годам\n",
    "pd.crosstab(games_from_2012.platform, \n",
    "            games_from_2012.year_of_release,\n",
    "            values=games_from_2012.na_sales,\n",
    "            aggfunc='sum',\n",
    "           margins=True,\n",
    "           margins_name='total').sort_values(by='total', ascending=False)"
   ]
  },
  {
   "cell_type": "markdown",
   "id": "5ad1867b",
   "metadata": {},
   "source": [
    "**Вывод:**\n",
    "\n",
    "Наблюдаем, что существует огромное превосходство у компании Microsoft, причинами этого может быть  тот факт, что в Северной Америке любят отечественного производителя и выбирают именно его из всех остальных конкурентов. Так же никто не отменял тот факт, что эта компания имеет отличную репутацию и массовую рекламу по всему миру."
   ]
  },
  {
   "cell_type": "markdown",
   "id": "8e395686",
   "metadata": {},
   "source": [
    "Теперь изучим популярные на этом континенте жанры."
   ]
  },
  {
   "cell_type": "code",
   "execution_count": 164,
   "id": "1b4cd5c9",
   "metadata": {},
   "outputs": [
    {
     "data": {
      "image/png": "[encoded data removed]",
      "text/plain": [
       "<Figure size 720x360 with 1 Axes>"
      ]
     },
     "metadata": {
      "needs_background": "light"
     },
     "output_type": "display_data"
    }
   ],
   "source": [
    "# построим график популярности жанров \n",
    "genres_na = games_from_2012.stb.freq(['genre'], value='na_sales')\n",
    "plt.figure(figsize=(10,5))\n",
    "sns.barplot(data=genres_na, y='na_sales' , x='genre')\n",
    "plt.title('Продажи по жанрам в Cеверной - Америке')\n",
    "plt.show()"
   ]
  },
  {
   "cell_type": "code",
   "execution_count": 165,
   "id": "e12752c1",
   "metadata": {},
   "outputs": [
    {
     "data": {
      "image/png": "[encoded data removed]",
      "text/plain": [
       "<Figure size 720x360 with 1 Axes>"
      ]
     },
     "metadata": {
      "needs_background": "light"
     },
     "output_type": "display_data"
    }
   ],
   "source": [
    "# построим зависимость по годам \n",
    "games_from_2012_na_top_genres = games_from_2012.query('genre in [\"Action\",\"Shooter\",\"Sports\",\"Role-Playing\",\"Misc\"]')\n",
    "fig, ax = plt.subplots(figsize=(10,5))\n",
    "pd.crosstab(games_from_2012_na_top_genres.genre, \n",
    "            games_from_2012_na_top_genres.year_of_release,\n",
    "            values=games_from_2012_na_top_genres.na_sales,\n",
    "            aggfunc='sum').T.plot(ax = ax, xticks=x_ticks)\n",
    "plt.title('Динамика по продажам разных жанров')\n",
    "plt.show()"
   ]
  },
  {
   "cell_type": "markdown",
   "id": "1d3fe068",
   "metadata": {},
   "source": [
    "**Вывод:**\n",
    "\n",
    "Так же можно наблюдать, что и в Северной Америке жанр `Action` переживает так же не лучшие времена, тем не менее входит в топ-5. Петерка лучших жанров кстати такая е, как и во всем мире."
   ]
  },
  {
   "cell_type": "markdown",
   "id": "63f1d381",
   "metadata": {},
   "source": [
    "Теперь посмотрим результаты в Европе."
   ]
  },
  {
   "cell_type": "code",
   "execution_count": 166,
   "id": "921a10ec",
   "metadata": {},
   "outputs": [
    {
     "data": {
      "text/html": [
       "<div>\n",
       "<style scoped>\n",
       "    .dataframe tbody tr th:only-of-type {\n",
       "        vertical-align: middle;\n",
       "    }\n",
       "\n",
       "    .dataframe tbody tr th {\n",
       "        vertical-align: top;\n",
       "    }\n",
       "\n",
       "    .dataframe thead th {\n",
       "        text-align: right;\n",
       "    }\n",
       "</style>\n",
       "<table border=\"1\" class=\"dataframe\">\n",
       "  <thead>\n",
       "    <tr style=\"text-align: right;\">\n",
       "      <th></th>\n",
       "      <th>platform</th>\n",
       "      <th>eu_sales</th>\n",
       "      <th>percent</th>\n",
       "      <th>cumulative_eu_sales</th>\n",
       "      <th>cumulative_percent</th>\n",
       "    </tr>\n",
       "  </thead>\n",
       "  <tbody>\n",
       "    <tr>\n",
       "      <th>0</th>\n",
       "      <td>PS4</td>\n",
       "      <td>141.09</td>\n",
       "      <td>26.556618</td>\n",
       "      <td>141.09</td>\n",
       "      <td>26.556618</td>\n",
       "    </tr>\n",
       "    <tr>\n",
       "      <th>1</th>\n",
       "      <td>PS3</td>\n",
       "      <td>109.94</td>\n",
       "      <td>20.693420</td>\n",
       "      <td>251.03</td>\n",
       "      <td>47.250038</td>\n",
       "    </tr>\n",
       "    <tr>\n",
       "      <th>2</th>\n",
       "      <td>X360</td>\n",
       "      <td>76.96</td>\n",
       "      <td>14.485770</td>\n",
       "      <td>327.99</td>\n",
       "      <td>61.735808</td>\n",
       "    </tr>\n",
       "    <tr>\n",
       "      <th>3</th>\n",
       "      <td>XOne</td>\n",
       "      <td>51.59</td>\n",
       "      <td>9.710510</td>\n",
       "      <td>379.58</td>\n",
       "      <td>71.446318</td>\n",
       "    </tr>\n",
       "    <tr>\n",
       "      <th>4</th>\n",
       "      <td>3DS</td>\n",
       "      <td>42.85</td>\n",
       "      <td>8.065427</td>\n",
       "      <td>422.43</td>\n",
       "      <td>79.511745</td>\n",
       "    </tr>\n",
       "  </tbody>\n",
       "</table>\n",
       "</div>"
      ],
      "text/plain": [
       "  platform  eu_sales    percent  cumulative_eu_sales  cumulative_percent\n",
       "0      PS4    141.09  26.556618               141.09           26.556618\n",
       "1      PS3    109.94  20.693420               251.03           47.250038\n",
       "2     X360     76.96  14.485770               327.99           61.735808\n",
       "3     XOne     51.59   9.710510               379.58           71.446318\n",
       "4      3DS     42.85   8.065427               422.43           79.511745"
      ]
     },
     "execution_count": 166,
     "metadata": {},
     "output_type": "execute_result"
    }
   ],
   "source": [
    "# построим простую сводную таблицу  \n",
    "games_from_2012.stb.freq(['platform'], value='eu_sales').head()"
   ]
  },
  {
   "cell_type": "markdown",
   "id": "48153f9c",
   "metadata": {},
   "source": [
    "Наблюдаем топ-5 платформ в Европе."
   ]
  },
  {
   "cell_type": "code",
   "execution_count": 167,
   "id": "74d9a59a",
   "metadata": {},
   "outputs": [
    {
     "data": {
      "text/html": [
       "<div>\n",
       "<style scoped>\n",
       "    .dataframe tbody tr th:only-of-type {\n",
       "        vertical-align: middle;\n",
       "    }\n",
       "\n",
       "    .dataframe tbody tr th {\n",
       "        vertical-align: top;\n",
       "    }\n",
       "\n",
       "    .dataframe thead th {\n",
       "        text-align: right;\n",
       "    }\n",
       "</style>\n",
       "<table border=\"1\" class=\"dataframe\">\n",
       "  <thead>\n",
       "    <tr style=\"text-align: right;\">\n",
       "      <th>year_of_release</th>\n",
       "      <th>2012</th>\n",
       "      <th>2013</th>\n",
       "      <th>2014</th>\n",
       "      <th>2015</th>\n",
       "      <th>2016</th>\n",
       "      <th>2100</th>\n",
       "      <th>total</th>\n",
       "    </tr>\n",
       "    <tr>\n",
       "      <th>platform</th>\n",
       "      <th></th>\n",
       "      <th></th>\n",
       "      <th></th>\n",
       "      <th></th>\n",
       "      <th></th>\n",
       "      <th></th>\n",
       "      <th></th>\n",
       "    </tr>\n",
       "  </thead>\n",
       "  <tbody>\n",
       "    <tr>\n",
       "      <th>total</th>\n",
       "      <td>114.59</td>\n",
       "      <td>121.55</td>\n",
       "      <td>122.74</td>\n",
       "      <td>96.72</td>\n",
       "      <td>51.22</td>\n",
       "      <td>24.46</td>\n",
       "      <td>531.28</td>\n",
       "    </tr>\n",
       "    <tr>\n",
       "      <th>PS4</th>\n",
       "      <td>NaN</td>\n",
       "      <td>11.05</td>\n",
       "      <td>46.50</td>\n",
       "      <td>51.76</td>\n",
       "      <td>31.78</td>\n",
       "      <td>NaN</td>\n",
       "      <td>141.09</td>\n",
       "    </tr>\n",
       "    <tr>\n",
       "      <th>PS3</th>\n",
       "      <td>39.05</td>\n",
       "      <td>42.27</td>\n",
       "      <td>18.24</td>\n",
       "      <td>6.04</td>\n",
       "      <td>1.26</td>\n",
       "      <td>3.08</td>\n",
       "      <td>109.94</td>\n",
       "    </tr>\n",
       "    <tr>\n",
       "      <th>X360</th>\n",
       "      <td>32.00</td>\n",
       "      <td>27.03</td>\n",
       "      <td>11.28</td>\n",
       "      <td>3.50</td>\n",
       "      <td>0.71</td>\n",
       "      <td>2.44</td>\n",
       "      <td>76.96</td>\n",
       "    </tr>\n",
       "    <tr>\n",
       "      <th>XOne</th>\n",
       "      <td>NaN</td>\n",
       "      <td>5.34</td>\n",
       "      <td>18.15</td>\n",
       "      <td>18.47</td>\n",
       "      <td>9.63</td>\n",
       "      <td>NaN</td>\n",
       "      <td>51.59</td>\n",
       "    </tr>\n",
       "    <tr>\n",
       "      <th>3DS</th>\n",
       "      <td>11.68</td>\n",
       "      <td>14.84</td>\n",
       "      <td>8.73</td>\n",
       "      <td>5.06</td>\n",
       "      <td>2.33</td>\n",
       "      <td>0.21</td>\n",
       "      <td>42.85</td>\n",
       "    </tr>\n",
       "    <tr>\n",
       "      <th>PC</th>\n",
       "      <td>12.40</td>\n",
       "      <td>7.39</td>\n",
       "      <td>8.87</td>\n",
       "      <td>5.57</td>\n",
       "      <td>3.53</td>\n",
       "      <td>2.07</td>\n",
       "      <td>39.83</td>\n",
       "    </tr>\n",
       "    <tr>\n",
       "      <th>WiiU</th>\n",
       "      <td>5.28</td>\n",
       "      <td>6.70</td>\n",
       "      <td>6.66</td>\n",
       "      <td>5.01</td>\n",
       "      <td>1.48</td>\n",
       "      <td>NaN</td>\n",
       "      <td>25.13</td>\n",
       "    </tr>\n",
       "    <tr>\n",
       "      <th>Wii</th>\n",
       "      <td>5.99</td>\n",
       "      <td>3.34</td>\n",
       "      <td>1.86</td>\n",
       "      <td>0.62</td>\n",
       "      <td>0.11</td>\n",
       "      <td>3.89</td>\n",
       "      <td>15.81</td>\n",
       "    </tr>\n",
       "    <tr>\n",
       "      <th>PSV</th>\n",
       "      <td>5.26</td>\n",
       "      <td>2.57</td>\n",
       "      <td>2.45</td>\n",
       "      <td>0.69</td>\n",
       "      <td>0.39</td>\n",
       "      <td>0.05</td>\n",
       "      <td>11.41</td>\n",
       "    </tr>\n",
       "    <tr>\n",
       "      <th>PS2</th>\n",
       "      <td>NaN</td>\n",
       "      <td>NaN</td>\n",
       "      <td>NaN</td>\n",
       "      <td>NaN</td>\n",
       "      <td>NaN</td>\n",
       "      <td>6.66</td>\n",
       "      <td>6.66</td>\n",
       "    </tr>\n",
       "    <tr>\n",
       "      <th>DS</th>\n",
       "      <td>2.68</td>\n",
       "      <td>0.85</td>\n",
       "      <td>NaN</td>\n",
       "      <td>NaN</td>\n",
       "      <td>NaN</td>\n",
       "      <td>0.48</td>\n",
       "      <td>4.01</td>\n",
       "    </tr>\n",
       "    <tr>\n",
       "      <th>PSP</th>\n",
       "      <td>0.25</td>\n",
       "      <td>0.17</td>\n",
       "      <td>0.00</td>\n",
       "      <td>0.00</td>\n",
       "      <td>NaN</td>\n",
       "      <td>1.06</td>\n",
       "      <td>1.48</td>\n",
       "    </tr>\n",
       "    <tr>\n",
       "      <th>XB</th>\n",
       "      <td>NaN</td>\n",
       "      <td>NaN</td>\n",
       "      <td>NaN</td>\n",
       "      <td>NaN</td>\n",
       "      <td>NaN</td>\n",
       "      <td>1.30</td>\n",
       "      <td>1.30</td>\n",
       "    </tr>\n",
       "    <tr>\n",
       "      <th>PS</th>\n",
       "      <td>NaN</td>\n",
       "      <td>NaN</td>\n",
       "      <td>NaN</td>\n",
       "      <td>NaN</td>\n",
       "      <td>NaN</td>\n",
       "      <td>1.22</td>\n",
       "      <td>1.22</td>\n",
       "    </tr>\n",
       "    <tr>\n",
       "      <th>GBA</th>\n",
       "      <td>NaN</td>\n",
       "      <td>NaN</td>\n",
       "      <td>NaN</td>\n",
       "      <td>NaN</td>\n",
       "      <td>NaN</td>\n",
       "      <td>0.66</td>\n",
       "      <td>0.66</td>\n",
       "    </tr>\n",
       "    <tr>\n",
       "      <th>2600</th>\n",
       "      <td>NaN</td>\n",
       "      <td>NaN</td>\n",
       "      <td>NaN</td>\n",
       "      <td>NaN</td>\n",
       "      <td>NaN</td>\n",
       "      <td>0.61</td>\n",
       "      <td>0.61</td>\n",
       "    </tr>\n",
       "    <tr>\n",
       "      <th>GC</th>\n",
       "      <td>NaN</td>\n",
       "      <td>NaN</td>\n",
       "      <td>NaN</td>\n",
       "      <td>NaN</td>\n",
       "      <td>NaN</td>\n",
       "      <td>0.39</td>\n",
       "      <td>0.39</td>\n",
       "    </tr>\n",
       "    <tr>\n",
       "      <th>GB</th>\n",
       "      <td>NaN</td>\n",
       "      <td>NaN</td>\n",
       "      <td>NaN</td>\n",
       "      <td>NaN</td>\n",
       "      <td>NaN</td>\n",
       "      <td>0.31</td>\n",
       "      <td>0.31</td>\n",
       "    </tr>\n",
       "    <tr>\n",
       "      <th>N64</th>\n",
       "      <td>NaN</td>\n",
       "      <td>NaN</td>\n",
       "      <td>NaN</td>\n",
       "      <td>NaN</td>\n",
       "      <td>NaN</td>\n",
       "      <td>0.03</td>\n",
       "      <td>0.03</td>\n",
       "    </tr>\n",
       "  </tbody>\n",
       "</table>\n",
       "</div>"
      ],
      "text/plain": [
       "year_of_release    2012    2013    2014   2015   2016   2100   total\n",
       "platform                                                            \n",
       "total            114.59  121.55  122.74  96.72  51.22  24.46  531.28\n",
       "PS4                 NaN   11.05   46.50  51.76  31.78    NaN  141.09\n",
       "PS3               39.05   42.27   18.24   6.04   1.26   3.08  109.94\n",
       "X360              32.00   27.03   11.28   3.50   0.71   2.44   76.96\n",
       "XOne                NaN    5.34   18.15  18.47   9.63    NaN   51.59\n",
       "3DS               11.68   14.84    8.73   5.06   2.33   0.21   42.85\n",
       "PC                12.40    7.39    8.87   5.57   3.53   2.07   39.83\n",
       "WiiU               5.28    6.70    6.66   5.01   1.48    NaN   25.13\n",
       "Wii                5.99    3.34    1.86   0.62   0.11   3.89   15.81\n",
       "PSV                5.26    2.57    2.45   0.69   0.39   0.05   11.41\n",
       "PS2                 NaN     NaN     NaN    NaN    NaN   6.66    6.66\n",
       "DS                 2.68    0.85     NaN    NaN    NaN   0.48    4.01\n",
       "PSP                0.25    0.17    0.00   0.00    NaN   1.06    1.48\n",
       "XB                  NaN     NaN     NaN    NaN    NaN   1.30    1.30\n",
       "PS                  NaN     NaN     NaN    NaN    NaN   1.22    1.22\n",
       "GBA                 NaN     NaN     NaN    NaN    NaN   0.66    0.66\n",
       "2600                NaN     NaN     NaN    NaN    NaN   0.61    0.61\n",
       "GC                  NaN     NaN     NaN    NaN    NaN   0.39    0.39\n",
       "GB                  NaN     NaN     NaN    NaN    NaN   0.31    0.31\n",
       "N64                 NaN     NaN     NaN    NaN    NaN   0.03    0.03"
      ]
     },
     "execution_count": 167,
     "metadata": {},
     "output_type": "execute_result"
    }
   ],
   "source": [
    "# построим таблицу динамики по годам\n",
    "pd.crosstab(games_from_2012.platform, \n",
    "            games_from_2012.year_of_release,\n",
    "            values=games_from_2012.eu_sales,\n",
    "            aggfunc='sum',\n",
    "           margins=True,\n",
    "           margins_name='total').sort_values(by='total', ascending=False)"
   ]
  },
  {
   "cell_type": "markdown",
   "id": "5f0513bf",
   "metadata": {},
   "source": [
    "Наблюдаем явную популярность у Play Station, затем XBox"
   ]
  },
  {
   "cell_type": "markdown",
   "id": "83d7e7f0",
   "metadata": {},
   "source": [
    "Посмотрим на прдпочтения по жанрам."
   ]
  },
  {
   "cell_type": "code",
   "execution_count": 168,
   "id": "703ed0fe",
   "metadata": {},
   "outputs": [
    {
     "data": {
      "image/png": "[encoded data removed]",
      "text/plain": [
       "<Figure size 720x360 with 1 Axes>"
      ]
     },
     "metadata": {
      "needs_background": "light"
     },
     "output_type": "display_data"
    }
   ],
   "source": [
    "eu_genres_dist = games_from_2012.stb.freq(['genre'], value='eu_sales')\n",
    "plt.figure(figsize=(10,5))\n",
    "sns.barplot(data=eu_genres_dist, y='eu_sales' , x='genre')\n",
    "plt.title('Продажи по жанрам в Cеверной - Америке')\n",
    "plt.show()"
   ]
  },
  {
   "cell_type": "markdown",
   "id": "ab067209",
   "metadata": {},
   "source": [
    "**Вывод:**\n",
    "\n",
    "Европейские пользователи имеют почти такие же предпочтения, единственное отличие, это 5 место, его занял жанр гонки."
   ]
  },
  {
   "cell_type": "markdown",
   "id": "f47259c8",
   "metadata": {},
   "source": [
    "Осталось посмотреть Японию."
   ]
  },
  {
   "cell_type": "code",
   "execution_count": 169,
   "id": "2e914632",
   "metadata": {},
   "outputs": [
    {
     "data": {
      "image/png": "[encoded data removed]",
      "text/plain": [
       "<Figure size 432x288 with 1 Axes>"
      ]
     },
     "metadata": {},
     "output_type": "display_data"
    }
   ],
   "source": [
    "games_from_2012.groupby('platform')['jp_sales'].sum().sort_values(ascending=False).plot(kind='pie')\n",
    "plt.title('Распределение по платформам в Японии')\n",
    "plt.show()"
   ]
  },
  {
   "cell_type": "markdown",
   "id": "09d58ddb",
   "metadata": {},
   "source": [
    "**Вывод:**\n",
    "\n",
    "Как не странно, самой большой популярностью пользуется 3DS, американские платформы и близко не приблизились к лидеру."
   ]
  },
  {
   "cell_type": "code",
   "execution_count": 170,
   "id": "ed163ea1",
   "metadata": {},
   "outputs": [
    {
     "data": {
      "image/png": "[encoded data removed]",
      "text/plain": [
       "<Figure size 864x360 with 1 Axes>"
      ]
     },
     "metadata": {
      "needs_background": "light"
     },
     "output_type": "display_data"
    }
   ],
   "source": [
    "jp_genres_dist = games_from_2012.stb.freq(['genre'], value='jp_sales')\n",
    "plt.figure(figsize=(12,5))\n",
    "sns.barplot(data=jp_genres_dist, y='jp_sales' , x='genre')\n",
    "plt.title('Продажи по жанрам в Cеверной - Америке')\n",
    "plt.show()"
   ]
  },
  {
   "cell_type": "markdown",
   "id": "10b3414b",
   "metadata": {},
   "source": [
    "**Вывод:** \n",
    "\n",
    "У японцев топ-5 жанров отличаются от Европы и Америки, 1 место занимают ролевые игры, на 5 месте расположились сражения."
   ]
  },
  {
   "cell_type": "markdown",
   "id": "d61e0e89",
   "metadata": {},
   "source": [
    "## 4.1 Влияние рейтинга ESRB на продажи в отдельном регионе."
   ]
  },
  {
   "cell_type": "code",
   "execution_count": 171,
   "id": "17ec3e12",
   "metadata": {
    "scrolled": false
   },
   "outputs": [
    {
     "data": {
      "image/png": "[encoded data removed]",
      "text/plain": [
       "<Figure size 1080x360 with 3 Axes>"
      ]
     },
     "metadata": {
      "needs_background": "light"
     },
     "output_type": "display_data"
    }
   ],
   "source": [
    "sales = ['na_sales', 'eu_sales', 'jp_sales']\n",
    "countries = ['C-A', 'Europe','Japan']\n",
    "fig, axs = plt.subplots(1,3, figsize=(15,5))\n",
    "fig.suptitle('Продажи, в разбивке по рейтингу ESRB')\n",
    "for i, sale in enumerate(sales):\n",
    "    for country in countries:\n",
    "        games_from_2012.groupby('rating')[sale].sum().plot(kind='bar', ax=axs[i], title=sale)"
   ]
  },
  {
   "cell_type": "markdown",
   "id": "97654a84",
   "metadata": {},
   "source": [
    "**Вывод:**\n",
    "\n",
    "В Северной Америке и Европе наибольшим спросом пользуются игры с рейтингом M (для взрослых), в то время как в Японии популярны рейтинги E (для всех), T (подростки) и М практически в равной степени."
   ]
  },
  {
   "cell_type": "markdown",
   "id": "db5748de",
   "metadata": {},
   "source": [
    "## 5. Проверка гипотез."
   ]
  },
  {
   "cell_type": "markdown",
   "id": "c77264bc",
   "metadata": {},
   "source": [
    "## 5.1 Средние пользовательские рейтинги платформ Xbox One и PC одинаковые"
   ]
  },
  {
   "cell_type": "markdown",
   "id": "0d7397a8",
   "metadata": {},
   "source": [
    "**H0** - рейтенги пользователей платформ Xbox One и PC равны \n",
    "\n",
    "**H1** - рейтенги не равны"
   ]
  },
  {
   "cell_type": "markdown",
   "id": "cc77bf14",
   "metadata": {},
   "source": [
    "Возьмем уровень значимости = 5%. "
   ]
  },
  {
   "cell_type": "code",
   "execution_count": 172,
   "id": "12a8bcb7",
   "metadata": {},
   "outputs": [],
   "source": [
    "# проверка распределений на нормальность\n",
    "xbox_population = games_from_2012.loc[(games_from_2012['platform'] == 'XOne') & (games_from_2012['user_score'].notna())]\n",
    "pc_population = games_from_2012.loc[(games_from_2012['platform'] == 'PC') & (games_from_2012['user_score'].notna())]"
   ]
  },
  {
   "cell_type": "code",
   "execution_count": 173,
   "id": "8963a004",
   "metadata": {},
   "outputs": [
    {
     "name": "stderr",
     "output_type": "stream",
     "text": [
      "/opt/conda/lib/python3.9/site-packages/seaborn/distributions.py:2557: FutureWarning: `distplot` is a deprecated function and will be removed in a future version. Please adapt your code to use either `displot` (a figure-level function with similar flexibility) or `histplot` (an axes-level function for histograms).\n",
      "  warnings.warn(msg, FutureWarning)\n",
      "/opt/conda/lib/python3.9/site-packages/seaborn/distributions.py:2557: FutureWarning: `distplot` is a deprecated function and will be removed in a future version. Please adapt your code to use either `displot` (a figure-level function with similar flexibility) or `histplot` (an axes-level function for histograms).\n",
      "  warnings.warn(msg, FutureWarning)\n"
     ]
    },
    {
     "data": {
      "image/png": "[encoded data removed]",
      "text/plain": [
       "<Figure size 864x360 with 2 Axes>"
      ]
     },
     "metadata": {
      "needs_background": "light"
     },
     "output_type": "display_data"
    }
   ],
   "source": [
    "# построим диаграмму распределения \n",
    "fig, axs = plt.subplots(1,2, figsize=(12,5))\n",
    "plt.suptitle('Распределение пользовательских оценок на xbox & pc')\n",
    "sns.distplot(xbox_population['user_score'], ax=axs[0]).set_title('xbox population');\n",
    "sns.distplot(pc_population['user_score'], ax=axs[1]).set_title('pc population');"
   ]
  },
  {
   "cell_type": "markdown",
   "id": "e012d758",
   "metadata": {},
   "source": [
    "P.S. Использую distplot для наглядности смещения."
   ]
  },
  {
   "cell_type": "markdown",
   "id": "36ca5502",
   "metadata": {},
   "source": [
    "Диаграмма показала, что оба распределения ненормальные, мы наблюдаем значительное смещение влево. Таким образом была отвергнута нулевая гипотеза, что выборка взята из нормального распределения."
   ]
  },
  {
   "cell_type": "code",
   "execution_count": 174,
   "id": "66a368f2",
   "metadata": {},
   "outputs": [
    {
     "data": {
      "text/plain": [
       "LeveneResult(statistic=6.191696408272727, pvalue=0.01324016243374827)"
      ]
     },
     "execution_count": 174,
     "metadata": {},
     "output_type": "execute_result"
    }
   ],
   "source": [
    "# сравним дисперсии \n",
    "st.levene(xbox_population['user_score'], pc_population['user_score'])"
   ]
  },
  {
   "cell_type": "markdown",
   "id": "b6770952",
   "metadata": {},
   "source": [
    "Значения не позволяют отвергнуть гипотизу о равенстве дисперсия, соответственно признаем что дисперсии наших выборок приблизительно равны."
   ]
  },
  {
   "cell_type": "code",
   "execution_count": 175,
   "id": "7e815aff",
   "metadata": {},
   "outputs": [
    {
     "data": {
      "text/plain": [
       "Ttest_indResult(statistic=0.40167793553698994, pvalue=0.6881350504358005)"
      ]
     },
     "execution_count": 175,
     "metadata": {},
     "output_type": "execute_result"
    }
   ],
   "source": [
    "# проведем тест Стьюдента\n",
    "ttest = st.ttest_ind(xbox_population['user_score'], pc_population['user_score'], equal_var=True)\n",
    "ttest"
   ]
  },
  {
   "cell_type": "code",
   "execution_count": 176,
   "id": "94971a17",
   "metadata": {},
   "outputs": [
    {
     "name": "stdout",
     "output_type": "stream",
     "text": [
      "Среднее выборочное значение пользовательского рейтинга xbox one - 65.21428571428571\n",
      "Среднее выборочное значение пользовательского рейтинга pc - 64.5972850678733\n"
     ]
    }
   ],
   "source": [
    "xbox_mean = xbox_population['user_score'].mean()\n",
    "pc_mean = pc_population['user_score'].mean()\n",
    "print('Среднее выборочное значение пользовательского рейтинга xbox one -', xbox_mean)\n",
    "print('Среднее выборочное значение пользовательского рейтинга pc -', pc_mean)"
   ]
  },
  {
   "cell_type": "markdown",
   "id": "9523fcc9",
   "metadata": {},
   "source": [
    "**Вывод:** \n",
    "\n",
    "Тест Стьюдента показал значение p-value больше уровня значимости, это значит, что мы не можем отвергать нулевую гипотезу. Этот факт свидетельствует нам о том, что средний пользовательский рейтинг платформ Xbox One & PC равны."
   ]
  },
  {
   "cell_type": "markdown",
   "id": "28f9b546",
   "metadata": {},
   "source": [
    "## 5.2 Cредние пользовательские рейтинги жанров Action и Sports  разные."
   ]
  },
  {
   "cell_type": "markdown",
   "id": "8e842405",
   "metadata": {},
   "source": [
    "H0 - средний пользовательский рейтинг жанра Action равен рейтингу Sports\n",
    "\n",
    "H1 - средние пользовательиские рейтинги этих жанров не равны."
   ]
  },
  {
   "cell_type": "markdown",
   "id": "6560376b",
   "metadata": {},
   "source": [
    "Уровень значимости возьмем так же 5%."
   ]
  },
  {
   "cell_type": "code",
   "execution_count": 177,
   "id": "94269d99",
   "metadata": {},
   "outputs": [],
   "source": [
    "action_population = games_from_2012.loc[(games_from_2012['genre'] == 'Action') & (games_from_2012['user_score'].notna())]\n",
    "sports_population = games_from_2012.loc[(games_from_2012['genre'] == 'Sports') & (games_from_2012['user_score'].notna())]"
   ]
  },
  {
   "cell_type": "code",
   "execution_count": 178,
   "id": "9333888f",
   "metadata": {},
   "outputs": [
    {
     "name": "stderr",
     "output_type": "stream",
     "text": [
      "/opt/conda/lib/python3.9/site-packages/seaborn/distributions.py:2557: FutureWarning: `distplot` is a deprecated function and will be removed in a future version. Please adapt your code to use either `displot` (a figure-level function with similar flexibility) or `histplot` (an axes-level function for histograms).\n",
      "  warnings.warn(msg, FutureWarning)\n",
      "/opt/conda/lib/python3.9/site-packages/seaborn/distributions.py:2557: FutureWarning: `distplot` is a deprecated function and will be removed in a future version. Please adapt your code to use either `displot` (a figure-level function with similar flexibility) or `histplot` (an axes-level function for histograms).\n",
      "  warnings.warn(msg, FutureWarning)\n"
     ]
    },
    {
     "data": {
      "image/png": "[encoded data removed]",
      "text/plain": [
       "<Figure size 720x360 with 2 Axes>"
      ]
     },
     "metadata": {
      "needs_background": "light"
     },
     "output_type": "display_data"
    }
   ],
   "source": [
    "fig, axs = plt.subplots(1,2, figsize=(10,5))\n",
    "plt.suptitle('Распределение пользовательский оценок жанров Action & Sports')\n",
    "sns.distplot(action_population['user_score'], ax=axs[0]).set_title('Action population')\n",
    "sns.distplot(sports_population['user_score'],ax=axs[1]).set_title('Sports population')\n",
    "plt.show()"
   ]
  },
  {
   "cell_type": "markdown",
   "id": "d6bcf70f",
   "metadata": {},
   "source": [
    "По графикам видно, что распределение ненормальное."
   ]
  },
  {
   "cell_type": "code",
   "execution_count": 179,
   "id": "a53b2016",
   "metadata": {},
   "outputs": [
    {
     "data": {
      "text/plain": [
       "Ttest_indResult(statistic=9.703478177141752, pvalue=4.398099292150631e-21)"
      ]
     },
     "execution_count": 179,
     "metadata": {},
     "output_type": "execute_result"
    }
   ],
   "source": [
    "ttest2 = st.ttest_ind(action_population['user_score'], sports_population['user_score'], equal_var=True)\n",
    "ttest2"
   ]
  },
  {
   "cell_type": "code",
   "execution_count": 180,
   "id": "57ada93c",
   "metadata": {},
   "outputs": [
    {
     "name": "stdout",
     "output_type": "stream",
     "text": [
      "Среднее выборочное значение пользовательского рейтинга жанра Action - 68.25852782764811\n",
      "Среднее выборочное значение пользовательского рейтинга жанра Sports - 56.57142857142857\n"
     ]
    }
   ],
   "source": [
    "action_mean = action_population['user_score'].mean()\n",
    "sports_mean = sports_population['user_score'].mean()\n",
    "print('Среднее выборочное значение пользовательского рейтинга жанра Action -', action_mean)\n",
    "print('Среднее выборочное значение пользовательского рейтинга жанра Sports -', sports_mean)"
   ]
  },
  {
   "cell_type": "markdown",
   "id": "76bce285",
   "metadata": {},
   "source": [
    "p-уровень значимости оказался безумно маленьким, это означает, что следует отклонить нулевую гипотезу. Это значит, что средний пользовательский рейтинг проверяемых жанров отличается."
   ]
  },
  {
   "cell_type": "markdown",
   "id": "31916495",
   "metadata": {},
   "source": [
    "**Вывод:**\n",
    "* Средние пользовательские рейтинги платформ Xbox One и PC одинаковые \n",
    "* Средние пользовательские рейтинги жанров Action и Sports разные"
   ]
  },
  {
   "cell_type": "markdown",
   "id": "7879ea10",
   "metadata": {},
   "source": [
    "## 6. Общий вывод."
   ]
  },
  {
   "cell_type": "markdown",
   "id": "a3d60086",
   "metadata": {},
   "source": [
    "В ходе проделанной работы были изучены и обработаны данные по продажам игр:\n",
    "\n",
    "* Изменили тип данных, регистр колонок, обработали пропуски.\n",
    "* Определены самые прибыльные платформы за все время: PS2, X360, PS3, Wii и DS.\n",
    "* определена скорость устаревания платформ, в прошлом платформы устаревали за 4-7 лет, современные платформы существуют дольше, до 10 лет.\n",
    "* на текущий момент существуют две доминирующие консоли, от Microsoft и от Sony.\n",
    "* исследованы предпочтения игроков из трех разных регионов.\n",
    "* изучены жанровые препочтения игроков. Топ-5 любимых жанров в С-Америке и Европе похожи, за исключением одной позиции (action, shooter, sports, role-playing). В Японский топ попали такие жанры как Fighting и Simulation, а на первое место вышел Role-Playing.\n",
    "* проверены две гипотезы, установлено, что средние пользовательские рейтинги XBox One и PC не отличаются и средние пользовательские рейтинги жанров ACtion и Sports разные.\n",
    "* Были выявлены следующие факторы, влияющие на успех игры: в ближайшее время нужно преимущественно делать акцент на самые актуальные платформы ( X-Box One, PS4 и 3DS), на самые популярные жанры ( Action, Shooter, Sports, Role-Playing, Misc) и нужно отдать предпочтение играм с рейтингом М и высоким рейтингом критиков."
   ]
  }
 ],
 "metadata": {
  "ExecuteTimeLog": [
   {
    "duration": 2897,
    "start_time": "2022-04-30T10:10:59.761Z"
   },
   {
    "duration": 1061,
    "start_time": "2022-04-30T10:11:02.661Z"
   },
   {
    "duration": 53,
    "start_time": "2022-04-30T10:11:03.723Z"
   },
   {
    "duration": 14,
    "start_time": "2022-04-30T10:11:03.778Z"
   },
   {
    "duration": 14,
    "start_time": "2022-04-30T10:11:03.793Z"
   },
   {
    "duration": 32,
    "start_time": "2022-04-30T10:11:03.808Z"
   },
   {
    "duration": 5,
    "start_time": "2022-04-30T10:11:03.841Z"
   },
   {
    "duration": 8,
    "start_time": "2022-04-30T10:11:03.848Z"
   },
   {
    "duration": 19,
    "start_time": "2022-04-30T10:11:03.857Z"
   },
   {
    "duration": 47,
    "start_time": "2022-04-30T10:11:03.879Z"
   },
   {
    "duration": 9,
    "start_time": "2022-04-30T10:11:03.928Z"
   },
   {
    "duration": 14,
    "start_time": "2022-04-30T10:11:03.939Z"
   },
   {
    "duration": 17,
    "start_time": "2022-04-30T10:11:03.955Z"
   },
   {
    "duration": 6,
    "start_time": "2022-04-30T10:11:03.974Z"
   },
   {
    "duration": 231,
    "start_time": "2022-04-30T10:11:03.982Z"
   },
   {
    "duration": 17,
    "start_time": "2022-04-30T10:11:04.215Z"
   },
   {
    "duration": 4,
    "start_time": "2022-04-30T10:11:04.235Z"
   },
   {
    "duration": 11,
    "start_time": "2022-04-30T10:11:04.241Z"
   },
   {
    "duration": 15,
    "start_time": "2022-04-30T10:11:04.254Z"
   },
   {
    "duration": 900,
    "start_time": "2022-04-30T10:11:04.271Z"
   },
   {
    "duration": 80,
    "start_time": "2022-04-30T10:11:05.173Z"
   },
   {
    "duration": 7,
    "start_time": "2022-04-30T10:11:05.256Z"
   },
   {
    "duration": 36,
    "start_time": "2022-04-30T10:11:05.265Z"
   },
   {
    "duration": 2,
    "start_time": "2022-04-30T10:11:05.303Z"
   },
   {
    "duration": 137,
    "start_time": "2022-04-30T10:11:05.324Z"
   },
   {
    "duration": 5,
    "start_time": "2022-04-30T10:11:05.463Z"
   },
   {
    "duration": 1267,
    "start_time": "2022-04-30T10:11:05.470Z"
   },
   {
    "duration": 256,
    "start_time": "2022-04-30T10:11:06.740Z"
   },
   {
    "duration": 888,
    "start_time": "2022-04-30T10:11:06.997Z"
   },
   {
    "duration": 1168,
    "start_time": "2022-04-30T10:11:07.887Z"
   },
   {
    "duration": 37,
    "start_time": "2022-04-30T10:11:09.056Z"
   },
   {
    "duration": 34,
    "start_time": "2022-04-30T10:11:09.095Z"
   },
   {
    "duration": 282,
    "start_time": "2022-04-30T10:11:09.131Z"
   },
   {
    "duration": 22,
    "start_time": "2022-04-30T10:11:09.414Z"
   },
   {
    "duration": 36,
    "start_time": "2022-04-30T10:11:09.437Z"
   },
   {
    "duration": 184,
    "start_time": "2022-04-30T10:11:09.474Z"
   },
   {
    "duration": 170,
    "start_time": "2022-04-30T10:11:09.659Z"
   },
   {
    "duration": 16,
    "start_time": "2022-04-30T10:11:09.831Z"
   },
   {
    "duration": 36,
    "start_time": "2022-04-30T10:11:09.848Z"
   },
   {
    "duration": 194,
    "start_time": "2022-04-30T10:11:09.886Z"
   },
   {
    "duration": 112,
    "start_time": "2022-04-30T10:11:10.082Z"
   },
   {
    "duration": 179,
    "start_time": "2022-04-30T10:11:10.195Z"
   },
   {
    "duration": 341,
    "start_time": "2022-04-30T10:11:10.376Z"
   },
   {
    "duration": 8,
    "start_time": "2022-04-30T10:11:10.719Z"
   },
   {
    "duration": 259,
    "start_time": "2022-04-30T10:11:10.729Z"
   },
   {
    "duration": 6,
    "start_time": "2022-04-30T10:11:10.990Z"
   },
   {
    "duration": 25,
    "start_time": "2022-04-30T10:11:10.998Z"
   },
   {
    "duration": 5,
    "start_time": "2022-04-30T10:11:11.025Z"
   },
   {
    "duration": 8,
    "start_time": "2022-04-30T10:11:11.031Z"
   },
   {
    "duration": 360,
    "start_time": "2022-04-30T10:11:11.041Z"
   },
   {
    "duration": 6,
    "start_time": "2022-04-30T10:11:11.402Z"
   },
   {
    "duration": 15,
    "start_time": "2022-04-30T10:11:11.409Z"
   },
   {
    "duration": 138,
    "start_time": "2022-04-30T10:37:29.484Z"
   },
   {
    "duration": 44,
    "start_time": "2022-04-30T16:47:32.061Z"
   },
   {
    "duration": 3143,
    "start_time": "2022-04-30T16:47:38.068Z"
   },
   {
    "duration": 1208,
    "start_time": "2022-04-30T16:47:41.213Z"
   },
   {
    "duration": 57,
    "start_time": "2022-04-30T16:47:42.422Z"
   },
   {
    "duration": 12,
    "start_time": "2022-04-30T16:47:42.481Z"
   },
   {
    "duration": 15,
    "start_time": "2022-04-30T16:47:42.495Z"
   },
   {
    "duration": 16,
    "start_time": "2022-04-30T16:47:42.511Z"
   },
   {
    "duration": 8,
    "start_time": "2022-04-30T16:47:42.529Z"
   },
   {
    "duration": 7,
    "start_time": "2022-04-30T16:47:42.539Z"
   },
   {
    "duration": 17,
    "start_time": "2022-04-30T16:47:42.548Z"
   },
   {
    "duration": 38,
    "start_time": "2022-04-30T16:47:42.567Z"
   },
   {
    "duration": 7,
    "start_time": "2022-04-30T16:47:42.607Z"
   },
   {
    "duration": 13,
    "start_time": "2022-04-30T16:47:42.616Z"
   },
   {
    "duration": 13,
    "start_time": "2022-04-30T16:47:42.630Z"
   },
   {
    "duration": 5,
    "start_time": "2022-04-30T16:47:42.646Z"
   },
   {
    "duration": 191,
    "start_time": "2022-04-30T16:47:42.652Z"
   },
   {
    "duration": 11,
    "start_time": "2022-04-30T16:47:42.845Z"
   },
   {
    "duration": 4,
    "start_time": "2022-04-30T16:47:42.858Z"
   },
   {
    "duration": 9,
    "start_time": "2022-04-30T16:47:42.864Z"
   },
   {
    "duration": 40,
    "start_time": "2022-04-30T16:47:42.874Z"
   },
   {
    "duration": 1078,
    "start_time": "2022-04-30T16:47:42.915Z"
   },
   {
    "duration": 66,
    "start_time": "2022-04-30T16:47:44.000Z"
   },
   {
    "duration": 5,
    "start_time": "2022-04-30T16:47:44.068Z"
   },
   {
    "duration": 51,
    "start_time": "2022-04-30T16:47:44.074Z"
   },
   {
    "duration": 3,
    "start_time": "2022-04-30T16:47:44.126Z"
   },
   {
    "duration": 148,
    "start_time": "2022-04-30T16:47:44.130Z"
   },
   {
    "duration": 5,
    "start_time": "2022-04-30T16:47:44.280Z"
   },
   {
    "duration": 1488,
    "start_time": "2022-04-30T16:47:44.286Z"
   },
   {
    "duration": 307,
    "start_time": "2022-04-30T16:47:45.776Z"
   },
   {
    "duration": 770,
    "start_time": "2022-04-30T16:47:46.085Z"
   },
   {
    "duration": 1144,
    "start_time": "2022-04-30T16:47:46.856Z"
   },
   {
    "duration": 36,
    "start_time": "2022-04-30T16:47:48.002Z"
   },
   {
    "duration": 12,
    "start_time": "2022-04-30T16:47:48.040Z"
   },
   {
    "duration": 294,
    "start_time": "2022-04-30T16:47:48.053Z"
   },
   {
    "duration": 17,
    "start_time": "2022-04-30T16:47:48.348Z"
   },
   {
    "duration": 53,
    "start_time": "2022-04-30T16:47:48.366Z"
   },
   {
    "duration": 181,
    "start_time": "2022-04-30T16:47:48.421Z"
   },
   {
    "duration": 165,
    "start_time": "2022-04-30T16:47:48.604Z"
   },
   {
    "duration": 16,
    "start_time": "2022-04-30T16:47:48.770Z"
   },
   {
    "duration": 42,
    "start_time": "2022-04-30T16:47:48.801Z"
   },
   {
    "duration": 178,
    "start_time": "2022-04-30T16:47:48.844Z"
   },
   {
    "duration": 134,
    "start_time": "2022-04-30T16:47:49.025Z"
   },
   {
    "duration": 166,
    "start_time": "2022-04-30T16:47:49.160Z"
   },
   {
    "duration": 329,
    "start_time": "2022-04-30T16:47:49.327Z"
   },
   {
    "duration": 6,
    "start_time": "2022-04-30T16:47:49.657Z"
   },
   {
    "duration": 237,
    "start_time": "2022-04-30T16:47:49.664Z"
   },
   {
    "duration": 5,
    "start_time": "2022-04-30T16:47:49.903Z"
   },
   {
    "duration": 6,
    "start_time": "2022-04-30T16:47:49.909Z"
   },
   {
    "duration": 6,
    "start_time": "2022-04-30T16:47:49.917Z"
   },
   {
    "duration": 9,
    "start_time": "2022-04-30T16:47:49.925Z"
   },
   {
    "duration": 355,
    "start_time": "2022-04-30T16:47:49.935Z"
   },
   {
    "duration": 13,
    "start_time": "2022-04-30T16:47:50.291Z"
   },
   {
    "duration": 5,
    "start_time": "2022-04-30T16:47:50.305Z"
   },
   {
    "duration": 43,
    "start_time": "2022-04-30T17:14:37.090Z"
   },
   {
    "duration": 54,
    "start_time": "2022-04-30T17:49:04.808Z"
   },
   {
    "duration": 54101,
    "start_time": "2022-04-30T17:49:12.004Z"
   },
   {
    "duration": 1341,
    "start_time": "2022-04-30T17:50:06.107Z"
   },
   {
    "duration": 69,
    "start_time": "2022-04-30T17:50:07.450Z"
   },
   {
    "duration": 27,
    "start_time": "2022-04-30T17:50:07.521Z"
   },
   {
    "duration": 17,
    "start_time": "2022-04-30T17:50:07.551Z"
   },
   {
    "duration": 21,
    "start_time": "2022-04-30T17:50:07.570Z"
   },
   {
    "duration": 8,
    "start_time": "2022-04-30T17:50:07.593Z"
   },
   {
    "duration": 43,
    "start_time": "2022-04-30T17:50:07.602Z"
   },
   {
    "duration": 29,
    "start_time": "2022-04-30T17:50:07.648Z"
   },
   {
    "duration": 22,
    "start_time": "2022-04-30T17:50:07.679Z"
   },
   {
    "duration": 33,
    "start_time": "2022-04-30T17:50:07.702Z"
   },
   {
    "duration": 22,
    "start_time": "2022-04-30T17:50:07.737Z"
   },
   {
    "duration": 18,
    "start_time": "2022-04-30T17:50:07.760Z"
   },
   {
    "duration": 6,
    "start_time": "2022-04-30T17:50:07.782Z"
   },
   {
    "duration": 269,
    "start_time": "2022-04-30T17:50:07.790Z"
   },
   {
    "duration": 15,
    "start_time": "2022-04-30T17:50:08.061Z"
   },
   {
    "duration": 4,
    "start_time": "2022-04-30T17:50:08.078Z"
   },
   {
    "duration": 13,
    "start_time": "2022-04-30T17:50:08.084Z"
   },
   {
    "duration": 59,
    "start_time": "2022-04-30T17:50:08.099Z"
   },
   {
    "duration": 1236,
    "start_time": "2022-04-30T17:50:08.160Z"
   },
   {
    "duration": 96,
    "start_time": "2022-04-30T17:50:09.399Z"
   },
   {
    "duration": 8,
    "start_time": "2022-04-30T17:50:09.497Z"
   },
   {
    "duration": 69,
    "start_time": "2022-04-30T17:50:09.507Z"
   },
   {
    "duration": 3,
    "start_time": "2022-04-30T17:50:09.578Z"
   },
   {
    "duration": 199,
    "start_time": "2022-04-30T17:50:09.583Z"
   },
   {
    "duration": 7,
    "start_time": "2022-04-30T17:50:09.784Z"
   },
   {
    "duration": 1616,
    "start_time": "2022-04-30T17:50:09.794Z"
   },
   {
    "duration": 329,
    "start_time": "2022-04-30T17:50:11.412Z"
   },
   {
    "duration": 919,
    "start_time": "2022-04-30T17:50:11.744Z"
   },
   {
    "duration": 1518,
    "start_time": "2022-04-30T17:50:12.664Z"
   },
   {
    "duration": 51,
    "start_time": "2022-04-30T17:50:14.184Z"
   },
   {
    "duration": 21,
    "start_time": "2022-04-30T17:50:14.239Z"
   },
   {
    "duration": 387,
    "start_time": "2022-04-30T17:50:14.261Z"
   },
   {
    "duration": 177,
    "start_time": "2022-04-30T17:50:14.650Z"
   },
   {
    "duration": 73,
    "start_time": "2022-04-30T17:50:37.366Z"
   },
   {
    "duration": 242,
    "start_time": "2022-04-30T17:51:18.732Z"
   },
   {
    "duration": 5,
    "start_time": "2022-04-30T17:51:44.113Z"
   },
   {
    "duration": 4,
    "start_time": "2022-04-30T17:52:05.915Z"
   },
   {
    "duration": 220,
    "start_time": "2022-04-30T17:52:12.251Z"
   },
   {
    "duration": 239,
    "start_time": "2022-04-30T17:52:24.812Z"
   },
   {
    "duration": 6,
    "start_time": "2022-04-30T17:52:30.493Z"
   },
   {
    "duration": 5,
    "start_time": "2022-04-30T17:52:35.690Z"
   },
   {
    "duration": 7601,
    "start_time": "2022-04-30T17:52:46.060Z"
   },
   {
    "duration": 4,
    "start_time": "2022-04-30T17:52:53.664Z"
   },
   {
    "duration": 75,
    "start_time": "2022-04-30T17:52:53.669Z"
   },
   {
    "duration": 16,
    "start_time": "2022-04-30T17:52:53.746Z"
   },
   {
    "duration": 16,
    "start_time": "2022-04-30T17:52:53.764Z"
   },
   {
    "duration": 22,
    "start_time": "2022-04-30T17:52:53.782Z"
   },
   {
    "duration": 29,
    "start_time": "2022-04-30T17:52:53.806Z"
   },
   {
    "duration": 11,
    "start_time": "2022-04-30T17:52:53.837Z"
   },
   {
    "duration": 29,
    "start_time": "2022-04-30T17:52:53.849Z"
   },
   {
    "duration": 23,
    "start_time": "2022-04-30T17:52:53.881Z"
   },
   {
    "duration": 32,
    "start_time": "2022-04-30T17:52:53.906Z"
   },
   {
    "duration": 16,
    "start_time": "2022-04-30T17:52:53.940Z"
   },
   {
    "duration": 20,
    "start_time": "2022-04-30T17:52:53.957Z"
   },
   {
    "duration": 6,
    "start_time": "2022-04-30T17:52:53.978Z"
   },
   {
    "duration": 261,
    "start_time": "2022-04-30T17:52:53.986Z"
   },
   {
    "duration": 14,
    "start_time": "2022-04-30T17:52:54.249Z"
   },
   {
    "duration": 8,
    "start_time": "2022-04-30T17:52:54.265Z"
   },
   {
    "duration": 13,
    "start_time": "2022-04-30T17:52:54.274Z"
   },
   {
    "duration": 16,
    "start_time": "2022-04-30T17:52:54.289Z"
   },
   {
    "duration": 1226,
    "start_time": "2022-04-30T17:52:54.334Z"
   },
   {
    "duration": 91,
    "start_time": "2022-04-30T17:52:55.562Z"
   },
   {
    "duration": 9,
    "start_time": "2022-04-30T17:52:55.655Z"
   },
   {
    "duration": 69,
    "start_time": "2022-04-30T17:52:55.666Z"
   },
   {
    "duration": 3,
    "start_time": "2022-04-30T17:52:55.737Z"
   },
   {
    "duration": 203,
    "start_time": "2022-04-30T17:52:55.742Z"
   },
   {
    "duration": 6,
    "start_time": "2022-04-30T17:52:55.948Z"
   },
   {
    "duration": 1704,
    "start_time": "2022-04-30T17:52:55.957Z"
   },
   {
    "duration": 304,
    "start_time": "2022-04-30T17:52:57.666Z"
   },
   {
    "duration": 980,
    "start_time": "2022-04-30T17:52:57.973Z"
   },
   {
    "duration": 1648,
    "start_time": "2022-04-30T17:52:58.955Z"
   },
   {
    "duration": 58,
    "start_time": "2022-04-30T17:53:00.605Z"
   },
   {
    "duration": 17,
    "start_time": "2022-04-30T17:53:00.666Z"
   },
   {
    "duration": 266,
    "start_time": "2022-04-30T17:53:00.685Z"
   },
   {
    "duration": 5,
    "start_time": "2022-04-30T17:53:00.954Z"
   },
   {
    "duration": 261,
    "start_time": "2022-04-30T17:53:00.961Z"
   },
   {
    "duration": 5,
    "start_time": "2022-04-30T17:53:18.959Z"
   },
   {
    "duration": 5,
    "start_time": "2022-04-30T17:53:26.687Z"
   },
   {
    "duration": 5,
    "start_time": "2022-04-30T17:53:27.319Z"
   },
   {
    "duration": 4,
    "start_time": "2022-04-30T17:53:28.039Z"
   },
   {
    "duration": 224,
    "start_time": "2022-04-30T17:53:33.264Z"
   },
   {
    "duration": 222,
    "start_time": "2022-04-30T17:53:39.897Z"
   },
   {
    "duration": 4,
    "start_time": "2022-04-30T17:53:56.931Z"
   },
   {
    "duration": 213,
    "start_time": "2022-04-30T17:54:07.296Z"
   },
   {
    "duration": 12,
    "start_time": "2022-04-30T17:55:01.346Z"
   },
   {
    "duration": 5,
    "start_time": "2022-04-30T17:55:29.756Z"
   },
   {
    "duration": 28,
    "start_time": "2022-04-30T17:56:04.843Z"
   },
   {
    "duration": 5,
    "start_time": "2022-04-30T17:56:10.866Z"
   },
   {
    "duration": 6,
    "start_time": "2022-04-30T17:56:15.473Z"
   },
   {
    "duration": 14,
    "start_time": "2022-04-30T17:56:53.442Z"
   },
   {
    "duration": 2637,
    "start_time": "2022-04-30T17:57:12.653Z"
   },
   {
    "duration": 4,
    "start_time": "2022-04-30T17:57:15.293Z"
   },
   {
    "duration": 71,
    "start_time": "2022-04-30T17:57:15.298Z"
   },
   {
    "duration": 16,
    "start_time": "2022-04-30T17:57:15.372Z"
   },
   {
    "duration": 17,
    "start_time": "2022-04-30T17:57:15.389Z"
   },
   {
    "duration": 40,
    "start_time": "2022-04-30T17:57:15.407Z"
   },
   {
    "duration": 6,
    "start_time": "2022-04-30T17:57:15.448Z"
   },
   {
    "duration": 11,
    "start_time": "2022-04-30T17:57:15.456Z"
   },
   {
    "duration": 20,
    "start_time": "2022-04-30T17:57:15.469Z"
   },
   {
    "duration": 46,
    "start_time": "2022-04-30T17:57:15.492Z"
   },
   {
    "duration": 10,
    "start_time": "2022-04-30T17:57:15.540Z"
   },
   {
    "duration": 19,
    "start_time": "2022-04-30T17:57:15.551Z"
   },
   {
    "duration": 17,
    "start_time": "2022-04-30T17:57:15.572Z"
   },
   {
    "duration": 6,
    "start_time": "2022-04-30T17:57:15.590Z"
   },
   {
    "duration": 238,
    "start_time": "2022-04-30T17:57:15.597Z"
   },
   {
    "duration": 12,
    "start_time": "2022-04-30T17:57:15.837Z"
   },
   {
    "duration": 4,
    "start_time": "2022-04-30T17:57:15.851Z"
   },
   {
    "duration": 17,
    "start_time": "2022-04-30T17:57:15.856Z"
   },
   {
    "duration": 24,
    "start_time": "2022-04-30T17:57:15.875Z"
   },
   {
    "duration": 1187,
    "start_time": "2022-04-30T17:57:15.900Z"
   },
   {
    "duration": 79,
    "start_time": "2022-04-30T17:57:17.089Z"
   },
   {
    "duration": 7,
    "start_time": "2022-04-30T17:57:17.169Z"
   },
   {
    "duration": 61,
    "start_time": "2022-04-30T17:57:17.177Z"
   },
   {
    "duration": 3,
    "start_time": "2022-04-30T17:57:17.240Z"
   },
   {
    "duration": 179,
    "start_time": "2022-04-30T17:57:17.245Z"
   },
   {
    "duration": 12,
    "start_time": "2022-04-30T17:57:17.426Z"
   },
   {
    "duration": 1633,
    "start_time": "2022-04-30T17:57:17.440Z"
   },
   {
    "duration": 307,
    "start_time": "2022-04-30T17:57:19.077Z"
   },
   {
    "duration": 950,
    "start_time": "2022-04-30T17:57:19.386Z"
   },
   {
    "duration": 1529,
    "start_time": "2022-04-30T17:57:20.338Z"
   },
   {
    "duration": 41,
    "start_time": "2022-04-30T17:57:21.869Z"
   },
   {
    "duration": 33,
    "start_time": "2022-04-30T17:57:21.911Z"
   },
   {
    "duration": 263,
    "start_time": "2022-04-30T17:57:21.945Z"
   },
   {
    "duration": 253,
    "start_time": "2022-04-30T17:57:22.211Z"
   },
   {
    "duration": 222,
    "start_time": "2022-04-30T17:57:40.480Z"
   },
   {
    "duration": 2408,
    "start_time": "2022-04-30T17:57:52.627Z"
   },
   {
    "duration": 3,
    "start_time": "2022-04-30T17:57:55.038Z"
   },
   {
    "duration": 74,
    "start_time": "2022-04-30T17:57:55.043Z"
   },
   {
    "duration": 17,
    "start_time": "2022-04-30T17:57:55.119Z"
   },
   {
    "duration": 17,
    "start_time": "2022-04-30T17:57:55.138Z"
   },
   {
    "duration": 22,
    "start_time": "2022-04-30T17:57:55.157Z"
   },
   {
    "duration": 6,
    "start_time": "2022-04-30T17:57:55.181Z"
   },
   {
    "duration": 11,
    "start_time": "2022-04-30T17:57:55.189Z"
   },
   {
    "duration": 22,
    "start_time": "2022-04-30T17:57:55.232Z"
   },
   {
    "duration": 21,
    "start_time": "2022-04-30T17:57:55.257Z"
   },
   {
    "duration": 9,
    "start_time": "2022-04-30T17:57:55.280Z"
   },
   {
    "duration": 44,
    "start_time": "2022-04-30T17:57:55.291Z"
   },
   {
    "duration": 18,
    "start_time": "2022-04-30T17:57:55.337Z"
   },
   {
    "duration": 9,
    "start_time": "2022-04-30T17:57:55.357Z"
   },
   {
    "duration": 224,
    "start_time": "2022-04-30T17:57:55.368Z"
   },
   {
    "duration": 13,
    "start_time": "2022-04-30T17:57:55.594Z"
   },
   {
    "duration": 7,
    "start_time": "2022-04-30T17:57:55.608Z"
   },
   {
    "duration": 10,
    "start_time": "2022-04-30T17:57:55.633Z"
   },
   {
    "duration": 17,
    "start_time": "2022-04-30T17:57:55.644Z"
   },
   {
    "duration": 1152,
    "start_time": "2022-04-30T17:57:55.662Z"
   },
   {
    "duration": 85,
    "start_time": "2022-04-30T17:57:56.815Z"
   },
   {
    "duration": 8,
    "start_time": "2022-04-30T17:57:56.902Z"
   },
   {
    "duration": 60,
    "start_time": "2022-04-30T17:57:56.911Z"
   },
   {
    "duration": 3,
    "start_time": "2022-04-30T17:57:56.973Z"
   },
   {
    "duration": 191,
    "start_time": "2022-04-30T17:57:56.978Z"
   },
   {
    "duration": 6,
    "start_time": "2022-04-30T17:57:57.171Z"
   },
   {
    "duration": 1679,
    "start_time": "2022-04-30T17:57:57.179Z"
   },
   {
    "duration": 292,
    "start_time": "2022-04-30T17:57:58.862Z"
   },
   {
    "duration": 883,
    "start_time": "2022-04-30T17:57:59.156Z"
   },
   {
    "duration": 1504,
    "start_time": "2022-04-30T17:58:00.041Z"
   },
   {
    "duration": 44,
    "start_time": "2022-04-30T17:58:01.547Z"
   },
   {
    "duration": 16,
    "start_time": "2022-04-30T17:58:01.593Z"
   },
   {
    "duration": 258,
    "start_time": "2022-04-30T17:58:01.612Z"
   },
   {
    "duration": 258,
    "start_time": "2022-04-30T17:58:01.872Z"
   },
   {
    "duration": 20,
    "start_time": "2022-04-30T17:58:02.132Z"
   },
   {
    "duration": 48,
    "start_time": "2022-04-30T17:58:02.153Z"
   },
   {
    "duration": 246,
    "start_time": "2022-04-30T17:58:02.202Z"
   },
   {
    "duration": 219,
    "start_time": "2022-04-30T17:58:02.449Z"
   },
   {
    "duration": 19,
    "start_time": "2022-04-30T17:58:02.670Z"
   },
   {
    "duration": 65,
    "start_time": "2022-04-30T17:58:02.691Z"
   },
   {
    "duration": 232,
    "start_time": "2022-04-30T17:58:02.758Z"
   },
   {
    "duration": 175,
    "start_time": "2022-04-30T17:58:02.991Z"
   },
   {
    "duration": 228,
    "start_time": "2022-04-30T17:58:03.167Z"
   },
   {
    "duration": 423,
    "start_time": "2022-04-30T17:58:03.397Z"
   },
   {
    "duration": 12,
    "start_time": "2022-04-30T17:58:03.822Z"
   },
   {
    "duration": 312,
    "start_time": "2022-04-30T17:58:03.836Z"
   },
   {
    "duration": 6,
    "start_time": "2022-04-30T17:58:04.151Z"
   },
   {
    "duration": 9,
    "start_time": "2022-04-30T17:58:04.159Z"
   },
   {
    "duration": 6,
    "start_time": "2022-04-30T17:58:04.169Z"
   },
   {
    "duration": 9,
    "start_time": "2022-04-30T17:58:04.177Z"
   },
   {
    "duration": 490,
    "start_time": "2022-04-30T17:58:04.187Z"
   },
   {
    "duration": 5,
    "start_time": "2022-04-30T17:58:04.679Z"
   },
   {
    "duration": 12,
    "start_time": "2022-04-30T17:58:04.685Z"
   },
   {
    "duration": 187,
    "start_time": "2022-04-30T17:59:03.965Z"
   }
  ],
  "kernelspec": {
   "display_name": "Python 3 (ipykernel)",
   "language": "python",
   "name": "python3"
  },
  "language_info": {
   "codemirror_mode": {
    "name": "ipython",
    "version": 3
   },
   "file_extension": ".py",
   "mimetype": "text/x-python",
   "name": "python",
   "nbconvert_exporter": "python",
   "pygments_lexer": "ipython3",
   "version": "3.9.7"
  },
  "toc": {
   "base_numbering": 1,
   "nav_menu": {},
   "number_sections": true,
   "sideBar": true,
   "skip_h1_title": true,
   "title_cell": "Table of Contents",
   "title_sidebar": "Contents",
   "toc_cell": false,
   "toc_position": {
    "height": "calc(100% - 180px)",
    "left": "10px",
    "top": "150px",
    "width": "535.594px"
   },
   "toc_section_display": true,
   "toc_window_display": true
  }
 },
 "nbformat": 4,
 "nbformat_minor": 5
}
