{
 "cells": [
  {
   "cell_type": "markdown",
   "id": "07bbc554",
   "metadata": {},
   "source": [
    "# Исследование надежности заемщиков."
   ]
  },
  {
   "cell_type": "markdown",
   "id": "d1c9c95f",
   "metadata": {},
   "source": [
    "### Шаг 1. Обзор данных"
   ]
  },
  {
   "cell_type": "code",
   "execution_count": 1,
   "id": "2ac3fc13",
   "metadata": {},
   "outputs": [],
   "source": [
    "import pandas as pd # импортируем библиотеку"
   ]
  },
  {
   "cell_type": "markdown",
   "id": "f67f53f2",
   "metadata": {},
   "source": [
    "**Для начала я открою нашу таблицу и изучу содержимое.**"
   ]
  },
  {
   "cell_type": "code",
   "execution_count": 2,
   "id": "15d552fa",
   "metadata": {
    "scrolled": true
   },
   "outputs": [
    {
     "data": {
      "text/html": [
       "<div>\n",
       "<style scoped>\n",
       "    .dataframe tbody tr th:only-of-type {\n",
       "        vertical-align: middle;\n",
       "    }\n",
       "\n",
       "    .dataframe tbody tr th {\n",
       "        vertical-align: top;\n",
       "    }\n",
       "\n",
       "    .dataframe thead th {\n",
       "        text-align: right;\n",
       "    }\n",
       "</style>\n",
       "<table border=\"1\" class=\"dataframe\">\n",
       "  <thead>\n",
       "    <tr style=\"text-align: right;\">\n",
       "      <th></th>\n",
       "      <th>children</th>\n",
       "      <th>days_employed</th>\n",
       "      <th>dob_years</th>\n",
       "      <th>education</th>\n",
       "      <th>education_id</th>\n",
       "      <th>family_status</th>\n",
       "      <th>family_status_id</th>\n",
       "      <th>gender</th>\n",
       "      <th>income_type</th>\n",
       "      <th>debt</th>\n",
       "      <th>total_income</th>\n",
       "      <th>purpose</th>\n",
       "    </tr>\n",
       "  </thead>\n",
       "  <tbody>\n",
       "    <tr>\n",
       "      <td>0</td>\n",
       "      <td>1</td>\n",
       "      <td>-8437.673028</td>\n",
       "      <td>42</td>\n",
       "      <td>высшее</td>\n",
       "      <td>0</td>\n",
       "      <td>женат / замужем</td>\n",
       "      <td>0</td>\n",
       "      <td>F</td>\n",
       "      <td>сотрудник</td>\n",
       "      <td>0</td>\n",
       "      <td>253875.639453</td>\n",
       "      <td>покупка жилья</td>\n",
       "    </tr>\n",
       "    <tr>\n",
       "      <td>1</td>\n",
       "      <td>1</td>\n",
       "      <td>-4024.803754</td>\n",
       "      <td>36</td>\n",
       "      <td>среднее</td>\n",
       "      <td>1</td>\n",
       "      <td>женат / замужем</td>\n",
       "      <td>0</td>\n",
       "      <td>F</td>\n",
       "      <td>сотрудник</td>\n",
       "      <td>0</td>\n",
       "      <td>112080.014102</td>\n",
       "      <td>приобретение автомобиля</td>\n",
       "    </tr>\n",
       "    <tr>\n",
       "      <td>2</td>\n",
       "      <td>0</td>\n",
       "      <td>-5623.422610</td>\n",
       "      <td>33</td>\n",
       "      <td>Среднее</td>\n",
       "      <td>1</td>\n",
       "      <td>женат / замужем</td>\n",
       "      <td>0</td>\n",
       "      <td>M</td>\n",
       "      <td>сотрудник</td>\n",
       "      <td>0</td>\n",
       "      <td>145885.952297</td>\n",
       "      <td>покупка жилья</td>\n",
       "    </tr>\n",
       "    <tr>\n",
       "      <td>3</td>\n",
       "      <td>3</td>\n",
       "      <td>-4124.747207</td>\n",
       "      <td>32</td>\n",
       "      <td>среднее</td>\n",
       "      <td>1</td>\n",
       "      <td>женат / замужем</td>\n",
       "      <td>0</td>\n",
       "      <td>M</td>\n",
       "      <td>сотрудник</td>\n",
       "      <td>0</td>\n",
       "      <td>267628.550329</td>\n",
       "      <td>дополнительное образование</td>\n",
       "    </tr>\n",
       "    <tr>\n",
       "      <td>4</td>\n",
       "      <td>0</td>\n",
       "      <td>340266.072047</td>\n",
       "      <td>53</td>\n",
       "      <td>среднее</td>\n",
       "      <td>1</td>\n",
       "      <td>гражданский брак</td>\n",
       "      <td>1</td>\n",
       "      <td>F</td>\n",
       "      <td>пенсионер</td>\n",
       "      <td>0</td>\n",
       "      <td>158616.077870</td>\n",
       "      <td>сыграть свадьбу</td>\n",
       "    </tr>\n",
       "    <tr>\n",
       "      <td>...</td>\n",
       "      <td>...</td>\n",
       "      <td>...</td>\n",
       "      <td>...</td>\n",
       "      <td>...</td>\n",
       "      <td>...</td>\n",
       "      <td>...</td>\n",
       "      <td>...</td>\n",
       "      <td>...</td>\n",
       "      <td>...</td>\n",
       "      <td>...</td>\n",
       "      <td>...</td>\n",
       "      <td>...</td>\n",
       "    </tr>\n",
       "    <tr>\n",
       "      <td>21520</td>\n",
       "      <td>1</td>\n",
       "      <td>-4529.316663</td>\n",
       "      <td>43</td>\n",
       "      <td>среднее</td>\n",
       "      <td>1</td>\n",
       "      <td>гражданский брак</td>\n",
       "      <td>1</td>\n",
       "      <td>F</td>\n",
       "      <td>компаньон</td>\n",
       "      <td>0</td>\n",
       "      <td>224791.862382</td>\n",
       "      <td>операции с жильем</td>\n",
       "    </tr>\n",
       "    <tr>\n",
       "      <td>21521</td>\n",
       "      <td>0</td>\n",
       "      <td>343937.404131</td>\n",
       "      <td>67</td>\n",
       "      <td>среднее</td>\n",
       "      <td>1</td>\n",
       "      <td>женат / замужем</td>\n",
       "      <td>0</td>\n",
       "      <td>F</td>\n",
       "      <td>пенсионер</td>\n",
       "      <td>0</td>\n",
       "      <td>155999.806512</td>\n",
       "      <td>сделка с автомобилем</td>\n",
       "    </tr>\n",
       "    <tr>\n",
       "      <td>21522</td>\n",
       "      <td>1</td>\n",
       "      <td>-2113.346888</td>\n",
       "      <td>38</td>\n",
       "      <td>среднее</td>\n",
       "      <td>1</td>\n",
       "      <td>гражданский брак</td>\n",
       "      <td>1</td>\n",
       "      <td>M</td>\n",
       "      <td>сотрудник</td>\n",
       "      <td>1</td>\n",
       "      <td>89672.561153</td>\n",
       "      <td>недвижимость</td>\n",
       "    </tr>\n",
       "    <tr>\n",
       "      <td>21523</td>\n",
       "      <td>3</td>\n",
       "      <td>-3112.481705</td>\n",
       "      <td>38</td>\n",
       "      <td>среднее</td>\n",
       "      <td>1</td>\n",
       "      <td>женат / замужем</td>\n",
       "      <td>0</td>\n",
       "      <td>M</td>\n",
       "      <td>сотрудник</td>\n",
       "      <td>1</td>\n",
       "      <td>244093.050500</td>\n",
       "      <td>на покупку своего автомобиля</td>\n",
       "    </tr>\n",
       "    <tr>\n",
       "      <td>21524</td>\n",
       "      <td>2</td>\n",
       "      <td>-1984.507589</td>\n",
       "      <td>40</td>\n",
       "      <td>среднее</td>\n",
       "      <td>1</td>\n",
       "      <td>женат / замужем</td>\n",
       "      <td>0</td>\n",
       "      <td>F</td>\n",
       "      <td>сотрудник</td>\n",
       "      <td>0</td>\n",
       "      <td>82047.418899</td>\n",
       "      <td>на покупку автомобиля</td>\n",
       "    </tr>\n",
       "  </tbody>\n",
       "</table>\n",
       "<p>21525 rows × 12 columns</p>\n",
       "</div>"
      ],
      "text/plain": [
       "       children  days_employed  dob_years education  education_id  \\\n",
       "0             1   -8437.673028         42    высшее             0   \n",
       "1             1   -4024.803754         36   среднее             1   \n",
       "2             0   -5623.422610         33   Среднее             1   \n",
       "3             3   -4124.747207         32   среднее             1   \n",
       "4             0  340266.072047         53   среднее             1   \n",
       "...         ...            ...        ...       ...           ...   \n",
       "21520         1   -4529.316663         43   среднее             1   \n",
       "21521         0  343937.404131         67   среднее             1   \n",
       "21522         1   -2113.346888         38   среднее             1   \n",
       "21523         3   -3112.481705         38   среднее             1   \n",
       "21524         2   -1984.507589         40   среднее             1   \n",
       "\n",
       "          family_status  family_status_id gender income_type  debt  \\\n",
       "0       женат / замужем                 0      F   сотрудник     0   \n",
       "1       женат / замужем                 0      F   сотрудник     0   \n",
       "2       женат / замужем                 0      M   сотрудник     0   \n",
       "3       женат / замужем                 0      M   сотрудник     0   \n",
       "4      гражданский брак                 1      F   пенсионер     0   \n",
       "...                 ...               ...    ...         ...   ...   \n",
       "21520  гражданский брак                 1      F   компаньон     0   \n",
       "21521   женат / замужем                 0      F   пенсионер     0   \n",
       "21522  гражданский брак                 1      M   сотрудник     1   \n",
       "21523   женат / замужем                 0      M   сотрудник     1   \n",
       "21524   женат / замужем                 0      F   сотрудник     0   \n",
       "\n",
       "        total_income                       purpose  \n",
       "0      253875.639453                 покупка жилья  \n",
       "1      112080.014102       приобретение автомобиля  \n",
       "2      145885.952297                 покупка жилья  \n",
       "3      267628.550329    дополнительное образование  \n",
       "4      158616.077870               сыграть свадьбу  \n",
       "...              ...                           ...  \n",
       "21520  224791.862382             операции с жильем  \n",
       "21521  155999.806512          сделка с автомобилем  \n",
       "21522   89672.561153                  недвижимость  \n",
       "21523  244093.050500  на покупку своего автомобиля  \n",
       "21524   82047.418899         на покупку автомобиля  \n",
       "\n",
       "[21525 rows x 12 columns]"
      ]
     },
     "execution_count": 2,
     "metadata": {},
     "output_type": "execute_result"
    }
   ],
   "source": [
    "data = pd.read_csv('/datasets/data.csv') # открываем таблицу\n",
    "data # выводим ее на экран"
   ]
  },
  {
   "cell_type": "markdown",
   "id": "ebcbcf30",
   "metadata": {},
   "source": [
    "### Шаг 2.1 Заполнение пропусков"
   ]
  },
  {
   "cell_type": "markdown",
   "id": "10d822d2",
   "metadata": {},
   "source": [
    "**Даже просто при визуальном осмотре я заметил множество ошибок, разберемся сначала с пропусками!**"
   ]
  },
  {
   "cell_type": "code",
   "execution_count": 3,
   "id": "e9bd7310",
   "metadata": {
    "scrolled": false
   },
   "outputs": [
    {
     "data": {
      "text/plain": [
       "children               0\n",
       "days_employed       2174\n",
       "dob_years              0\n",
       "education              0\n",
       "education_id           0\n",
       "family_status          0\n",
       "family_status_id       0\n",
       "gender                 0\n",
       "income_type            0\n",
       "debt                   0\n",
       "total_income        2174\n",
       "purpose                0\n",
       "dtype: int64"
      ]
     },
     "execution_count": 3,
     "metadata": {},
     "output_type": "execute_result"
    }
   ],
   "source": [
    "data.isna().sum() # смотрим количество пропущенных значений."
   ]
  },
  {
   "cell_type": "code",
   "execution_count": 4,
   "id": "2c9428b9",
   "metadata": {},
   "outputs": [
    {
     "data": {
      "text/html": [
       "<div>\n",
       "<style scoped>\n",
       "    .dataframe tbody tr th:only-of-type {\n",
       "        vertical-align: middle;\n",
       "    }\n",
       "\n",
       "    .dataframe tbody tr th {\n",
       "        vertical-align: top;\n",
       "    }\n",
       "\n",
       "    .dataframe thead th {\n",
       "        text-align: right;\n",
       "    }\n",
       "</style>\n",
       "<table border=\"1\" class=\"dataframe\">\n",
       "  <thead>\n",
       "    <tr style=\"text-align: right;\">\n",
       "      <th></th>\n",
       "      <th>children</th>\n",
       "      <th>days_employed</th>\n",
       "      <th>dob_years</th>\n",
       "      <th>education</th>\n",
       "      <th>education_id</th>\n",
       "      <th>family_status</th>\n",
       "      <th>family_status_id</th>\n",
       "      <th>gender</th>\n",
       "      <th>income_type</th>\n",
       "      <th>debt</th>\n",
       "      <th>total_income</th>\n",
       "      <th>purpose</th>\n",
       "    </tr>\n",
       "  </thead>\n",
       "  <tbody>\n",
       "    <tr>\n",
       "      <td>12</td>\n",
       "      <td>0</td>\n",
       "      <td>NaN</td>\n",
       "      <td>65</td>\n",
       "      <td>среднее</td>\n",
       "      <td>1</td>\n",
       "      <td>гражданский брак</td>\n",
       "      <td>1</td>\n",
       "      <td>M</td>\n",
       "      <td>пенсионер</td>\n",
       "      <td>0</td>\n",
       "      <td>NaN</td>\n",
       "      <td>сыграть свадьбу</td>\n",
       "    </tr>\n",
       "    <tr>\n",
       "      <td>26</td>\n",
       "      <td>0</td>\n",
       "      <td>NaN</td>\n",
       "      <td>41</td>\n",
       "      <td>среднее</td>\n",
       "      <td>1</td>\n",
       "      <td>женат / замужем</td>\n",
       "      <td>0</td>\n",
       "      <td>M</td>\n",
       "      <td>госслужащий</td>\n",
       "      <td>0</td>\n",
       "      <td>NaN</td>\n",
       "      <td>образование</td>\n",
       "    </tr>\n",
       "    <tr>\n",
       "      <td>29</td>\n",
       "      <td>0</td>\n",
       "      <td>NaN</td>\n",
       "      <td>63</td>\n",
       "      <td>среднее</td>\n",
       "      <td>1</td>\n",
       "      <td>Не женат / не замужем</td>\n",
       "      <td>4</td>\n",
       "      <td>F</td>\n",
       "      <td>пенсионер</td>\n",
       "      <td>0</td>\n",
       "      <td>NaN</td>\n",
       "      <td>строительство жилой недвижимости</td>\n",
       "    </tr>\n",
       "    <tr>\n",
       "      <td>41</td>\n",
       "      <td>0</td>\n",
       "      <td>NaN</td>\n",
       "      <td>50</td>\n",
       "      <td>среднее</td>\n",
       "      <td>1</td>\n",
       "      <td>женат / замужем</td>\n",
       "      <td>0</td>\n",
       "      <td>F</td>\n",
       "      <td>госслужащий</td>\n",
       "      <td>0</td>\n",
       "      <td>NaN</td>\n",
       "      <td>сделка с подержанным автомобилем</td>\n",
       "    </tr>\n",
       "    <tr>\n",
       "      <td>55</td>\n",
       "      <td>0</td>\n",
       "      <td>NaN</td>\n",
       "      <td>54</td>\n",
       "      <td>среднее</td>\n",
       "      <td>1</td>\n",
       "      <td>гражданский брак</td>\n",
       "      <td>1</td>\n",
       "      <td>F</td>\n",
       "      <td>пенсионер</td>\n",
       "      <td>1</td>\n",
       "      <td>NaN</td>\n",
       "      <td>сыграть свадьбу</td>\n",
       "    </tr>\n",
       "  </tbody>\n",
       "</table>\n",
       "</div>"
      ],
      "text/plain": [
       "    children  days_employed  dob_years education  education_id  \\\n",
       "12         0            NaN         65   среднее             1   \n",
       "26         0            NaN         41   среднее             1   \n",
       "29         0            NaN         63   среднее             1   \n",
       "41         0            NaN         50   среднее             1   \n",
       "55         0            NaN         54   среднее             1   \n",
       "\n",
       "            family_status  family_status_id gender  income_type  debt  \\\n",
       "12       гражданский брак                 1      M    пенсионер     0   \n",
       "26        женат / замужем                 0      M  госслужащий     0   \n",
       "29  Не женат / не замужем                 4      F    пенсионер     0   \n",
       "41        женат / замужем                 0      F  госслужащий     0   \n",
       "55       гражданский брак                 1      F    пенсионер     1   \n",
       "\n",
       "    total_income                           purpose  \n",
       "12           NaN                   сыграть свадьбу  \n",
       "26           NaN                       образование  \n",
       "29           NaN  строительство жилой недвижимости  \n",
       "41           NaN  сделка с подержанным автомобилем  \n",
       "55           NaN                   сыграть свадьбу  "
      ]
     },
     "execution_count": 4,
     "metadata": {},
     "output_type": "execute_result"
    }
   ],
   "source": [
    "data[data['days_employed'].isna()].head() # узнаем, какие значения у нас вместо пропусков."
   ]
  },
  {
   "cell_type": "code",
   "execution_count": 5,
   "id": "c1d95a1b",
   "metadata": {},
   "outputs": [],
   "source": [
    "days_employed1 = data['days_employed'].median() # ищем медиану столбца `days_employed` \n",
    "data['days_employed'] = data['days_employed'].fillna(days_employed1) # заполняем наши пропуски медианным значением\n",
    "total_income1 = data['total_income'].median() # ищем медиану столбца `total_income`\n",
    "data['total_income'] = data['total_income'].fillna(total_income1) # заполняем наши пропуски медианным значением\n"
   ]
  },
  {
   "cell_type": "markdown",
   "id": "1559b443",
   "metadata": {},
   "source": [
    "Убедимся, сработал ли наш способ заполнения пропусков."
   ]
  },
  {
   "cell_type": "code",
   "execution_count": 6,
   "id": "a2b7167e",
   "metadata": {},
   "outputs": [
    {
     "data": {
      "text/plain": [
       "children            0\n",
       "days_employed       0\n",
       "dob_years           0\n",
       "education           0\n",
       "education_id        0\n",
       "family_status       0\n",
       "family_status_id    0\n",
       "gender              0\n",
       "income_type         0\n",
       "debt                0\n",
       "total_income        0\n",
       "purpose             0\n",
       "dtype: int64"
      ]
     },
     "execution_count": 6,
     "metadata": {},
     "output_type": "execute_result"
    }
   ],
   "source": [
    "data.isna().sum() # смотрим количество пропущенных значений."
   ]
  },
  {
   "cell_type": "markdown",
   "id": "b2fd2315",
   "metadata": {},
   "source": [
    "Действительно, теперь все пропуски в нашей таблице отсутствуют, можно двигаться дальше!"
   ]
  },
  {
   "cell_type": "markdown",
   "id": "bf7e4eb6",
   "metadata": {},
   "source": [
    "### Шаг 2.2 Проверка данных на аномалии и исправления."
   ]
  },
  {
   "cell_type": "markdown",
   "id": "fa0096b9",
   "metadata": {},
   "source": [
    "**Видно, что в столбце `days_employed` много отрицательных значений, чего на самом деле не может быть, исправим это дело.**"
   ]
  },
  {
   "cell_type": "code",
   "execution_count": 7,
   "id": "f825ff8c",
   "metadata": {},
   "outputs": [],
   "source": [
    "data['days_employed'] = data['days_employed'].abs() # убираем знак минус из всех значений"
   ]
  },
  {
   "cell_type": "markdown",
   "id": "db774d40",
   "metadata": {},
   "source": [
    "Проверим, получилось ли у нас."
   ]
  },
  {
   "cell_type": "code",
   "execution_count": 8,
   "id": "d1a5d1a0",
   "metadata": {},
   "outputs": [
    {
     "data": {
      "text/plain": [
       "0          8437.673028\n",
       "1          4024.803754\n",
       "2          5623.422610\n",
       "3          4124.747207\n",
       "4        340266.072047\n",
       "             ...      \n",
       "21520      4529.316663\n",
       "21521    343937.404131\n",
       "21522      2113.346888\n",
       "21523      3112.481705\n",
       "21524      1984.507589\n",
       "Name: days_employed, Length: 21525, dtype: float64"
      ]
     },
     "execution_count": 8,
     "metadata": {},
     "output_type": "execute_result"
    }
   ],
   "source": [
    "data['days_employed'] # посмотрим столбец `days_employed`"
   ]
  },
  {
   "cell_type": "markdown",
   "id": "ff9bc57c",
   "metadata": {},
   "source": [
    "Да, все отлично! Скорее всего, данная ошибка произошла из-за технической неисправности."
   ]
  },
  {
   "cell_type": "markdown",
   "id": "ebce7a24",
   "metadata": {},
   "source": [
    "### Шаг 2.3. Изменение типов данных."
   ]
  },
  {
   "cell_type": "markdown",
   "id": "619e67ae",
   "metadata": {},
   "source": [
    "**Изменим вещественный тип данных на целочисленный.**"
   ]
  },
  {
   "cell_type": "code",
   "execution_count": 9,
   "id": "bb7e3972",
   "metadata": {},
   "outputs": [],
   "source": [
    "data['total_income'] = data['total_income'].astype('int') # изменяем тип на целочисленный"
   ]
  },
  {
   "cell_type": "code",
   "execution_count": 51,
   "id": "c19ad907",
   "metadata": {},
   "outputs": [
    {
     "name": "stdout",
     "output_type": "stream",
     "text": [
      "<class 'pandas.core.frame.DataFrame'>\n",
      "Int64Index: 21369 entries, 0 to 21470\n",
      "Data columns (total 13 columns):\n",
      "children                 21369 non-null int64\n",
      "days_employed            21369 non-null float64\n",
      "dob_years                21369 non-null int64\n",
      "education_id             21369 non-null int64\n",
      "family_status_id         21369 non-null int64\n",
      "gender                   21369 non-null object\n",
      "income_type              21369 non-null object\n",
      "debt                     21369 non-null int64\n",
      "total_income             21369 non-null int64\n",
      "purpose                  21369 non-null object\n",
      "total_income_category    21369 non-null object\n",
      "purpose_category         21369 non-null object\n",
      "salary_cat               21369 non-null object\n",
      "dtypes: float64(1), int64(6), object(6)\n",
      "memory usage: 2.3+ MB\n"
     ]
    }
   ],
   "source": [
    "data.info()"
   ]
  },
  {
   "cell_type": "markdown",
   "id": "f34cfaf6",
   "metadata": {},
   "source": [
    "### Шаг 2.4. Удаление дубликатов."
   ]
  },
  {
   "cell_type": "markdown",
   "id": "ecb536da",
   "metadata": {},
   "source": [
    "**Найдем количество строк-дубликатов в нашей таблице.**"
   ]
  },
  {
   "cell_type": "code",
   "execution_count": 10,
   "id": "beedf5c5",
   "metadata": {},
   "outputs": [
    {
     "data": {
      "text/plain": [
       "54"
      ]
     },
     "execution_count": 10,
     "metadata": {},
     "output_type": "execute_result"
    }
   ],
   "source": [
    "data.duplicated().sum() # проверка на строки-дубликаты."
   ]
  },
  {
   "cell_type": "markdown",
   "id": "a6772ec6",
   "metadata": {},
   "source": [
    "Мы видим, что в нашей таблице присутствуют строки-дубликаты, уберем их."
   ]
  },
  {
   "cell_type": "code",
   "execution_count": 11,
   "id": "a511fcf8",
   "metadata": {},
   "outputs": [],
   "source": [
    "data = data.drop_duplicates().reset_index(drop=True) # удаление строк-дубликатов и нумерация строк заново."
   ]
  },
  {
   "cell_type": "markdown",
   "id": "a1d01846",
   "metadata": {},
   "source": [
    "Проверим, есть ли теперь строки-дубликаты."
   ]
  },
  {
   "cell_type": "code",
   "execution_count": 12,
   "id": "a4a22087",
   "metadata": {},
   "outputs": [
    {
     "data": {
      "text/plain": [
       "0"
      ]
     },
     "execution_count": 12,
     "metadata": {},
     "output_type": "execute_result"
    }
   ],
   "source": [
    "data.duplicated().sum() # проверка на строки-дубликаты."
   ]
  },
  {
   "cell_type": "markdown",
   "id": "b04e655c",
   "metadata": {},
   "source": [
    "Мы видим, что строк-дубликатов больше нет, теперь займемся неявными дубликатами!"
   ]
  },
  {
   "cell_type": "code",
   "execution_count": 13,
   "id": "a0322092",
   "metadata": {},
   "outputs": [],
   "source": [
    "data['education'] = data['education'].str.lower() #переводим столбец в нижний регистр"
   ]
  },
  {
   "cell_type": "markdown",
   "id": "574437d6",
   "metadata": {},
   "source": [
    "Проверим, какие теперь значения находятся в столбце `education`"
   ]
  },
  {
   "cell_type": "code",
   "execution_count": 14,
   "id": "dd1760a5",
   "metadata": {
    "scrolled": true
   },
   "outputs": [
    {
     "data": {
      "text/plain": [
       "0     высшее\n",
       "1    среднее\n",
       "2    среднее\n",
       "3    среднее\n",
       "4    среднее\n",
       "Name: education, dtype: object"
      ]
     },
     "execution_count": 14,
     "metadata": {},
     "output_type": "execute_result"
    }
   ],
   "source": [
    "data['education'].head() # смотрим наш столбец"
   ]
  },
  {
   "cell_type": "markdown",
   "id": "6cfdd33a",
   "metadata": {},
   "source": [
    "Как мы можем заметить, все значения теперь приведены к нижнему регистру. Проверим остальные столбцы."
   ]
  },
  {
   "cell_type": "code",
   "execution_count": 15,
   "id": "219cbe04",
   "metadata": {},
   "outputs": [
    {
     "data": {
      "text/plain": [
       "array(['женат / замужем', 'гражданский брак', 'вдовец / вдова',\n",
       "       'в разводе', 'Не женат / не замужем'], dtype=object)"
      ]
     },
     "execution_count": 15,
     "metadata": {},
     "output_type": "execute_result"
    }
   ],
   "source": [
    "data['family_status'].unique() # проверка на неявные дубликаты."
   ]
  },
  {
   "cell_type": "code",
   "execution_count": 16,
   "id": "ec6e09a0",
   "metadata": {},
   "outputs": [
    {
     "data": {
      "text/plain": [
       "array([ 1,  0,  3,  2, -1,  4, 20,  5])"
      ]
     },
     "execution_count": 16,
     "metadata": {},
     "output_type": "execute_result"
    }
   ],
   "source": [
    "data['children'].unique() "
   ]
  },
  {
   "cell_type": "markdown",
   "id": "b70a3491",
   "metadata": {},
   "source": [
    "Видим, что есть значение -1, скорее всего перепутали знак, изменим его, пока не забыли, так же наблюдаем, что у кого-то аж 20 детей, что можно сказать, удачи."
   ]
  },
  {
   "cell_type": "code",
   "execution_count": 17,
   "id": "a8d9b102",
   "metadata": {},
   "outputs": [],
   "source": [
    "data['children'] = data['children'].abs() # убираем отрицательные значения из столбца."
   ]
  },
  {
   "cell_type": "code",
   "execution_count": 18,
   "id": "9cf31bad",
   "metadata": {},
   "outputs": [
    {
     "data": {
      "text/plain": [
       "array([ 1,  0,  3,  2,  4, 20,  5])"
      ]
     },
     "execution_count": 18,
     "metadata": {},
     "output_type": "execute_result"
    }
   ],
   "source": [
    "data['children'].unique() "
   ]
  },
  {
   "cell_type": "markdown",
   "id": "c521faf2",
   "metadata": {},
   "source": [
    "Замена прошла успешно, идем дальше."
   ]
  },
  {
   "cell_type": "code",
   "execution_count": 19,
   "id": "84834430",
   "metadata": {},
   "outputs": [
    {
     "data": {
      "text/plain": [
       "array([8437.67302776, 4024.80375385, 5623.42261023, ..., 2113.3468877 ,\n",
       "       3112.4817052 , 1984.50758853])"
      ]
     },
     "execution_count": 19,
     "metadata": {},
     "output_type": "execute_result"
    }
   ],
   "source": [
    "data['days_employed'].unique() "
   ]
  },
  {
   "cell_type": "code",
   "execution_count": 20,
   "id": "4c650344",
   "metadata": {},
   "outputs": [
    {
     "data": {
      "text/plain": [
       "array([42, 36, 33, 32, 53, 27, 43, 50, 35, 41, 40, 65, 54, 56, 26, 48, 24,\n",
       "       21, 57, 67, 28, 63, 62, 47, 34, 68, 25, 31, 30, 20, 49, 37, 45, 61,\n",
       "       64, 44, 52, 46, 23, 38, 39, 51,  0, 59, 29, 60, 55, 58, 71, 22, 73,\n",
       "       66, 69, 19, 72, 70, 74, 75])"
      ]
     },
     "execution_count": 20,
     "metadata": {},
     "output_type": "execute_result"
    }
   ],
   "source": [
    "data['dob_years'].unique() "
   ]
  },
  {
   "cell_type": "markdown",
   "id": "ede5fe11",
   "metadata": {},
   "source": [
    "Видим, что есть значение 0, такого не может быть, удаляем строку."
   ]
  },
  {
   "cell_type": "code",
   "execution_count": null,
   "id": "eff55b77",
   "metadata": {},
   "outputs": [],
   "source": [
    "data = data.loc[data['dob_years'] != 0]"
   ]
  },
  {
   "cell_type": "code",
   "execution_count": 22,
   "id": "1f9c88b3",
   "metadata": {},
   "outputs": [
    {
     "data": {
      "text/plain": [
       "array([42, 36, 33, 32, 53, 27, 43, 50, 35, 41, 40, 65, 54, 56, 26, 48, 24,\n",
       "       21, 57, 67, 28, 63, 62, 47, 34, 68, 25, 31, 30, 20, 49, 37, 45, 61,\n",
       "       64, 44, 52, 46, 23, 38, 39, 51, 59, 29, 60, 55, 58, 71, 22, 73, 66,\n",
       "       69, 19, 72, 70, 74, 75])"
      ]
     },
     "execution_count": 22,
     "metadata": {},
     "output_type": "execute_result"
    }
   ],
   "source": [
    "data['dob_years'].unique() "
   ]
  },
  {
   "cell_type": "code",
   "execution_count": 23,
   "id": "b447e85d",
   "metadata": {},
   "outputs": [
    {
     "data": {
      "text/plain": [
       "array([0, 1, 2, 3, 4])"
      ]
     },
     "execution_count": 23,
     "metadata": {},
     "output_type": "execute_result"
    }
   ],
   "source": [
    "data['education_id'].unique() "
   ]
  },
  {
   "cell_type": "code",
   "execution_count": 24,
   "id": "1d255f11",
   "metadata": {},
   "outputs": [
    {
     "data": {
      "text/plain": [
       "array([0, 1, 2, 3, 4])"
      ]
     },
     "execution_count": 24,
     "metadata": {},
     "output_type": "execute_result"
    }
   ],
   "source": [
    "data['family_status_id'].unique() "
   ]
  },
  {
   "cell_type": "code",
   "execution_count": 25,
   "id": "94d23ff5",
   "metadata": {},
   "outputs": [
    {
     "data": {
      "text/plain": [
       "array(['F', 'M', 'XNA'], dtype=object)"
      ]
     },
     "execution_count": 25,
     "metadata": {},
     "output_type": "execute_result"
    }
   ],
   "source": [
    "data['gender'].unique()"
   ]
  },
  {
   "cell_type": "markdown",
   "id": "6952a373",
   "metadata": {},
   "source": [
    "Видим лишнее значение 'XNA', такого пола не существует, убираем!"
   ]
  },
  {
   "cell_type": "code",
   "execution_count": 26,
   "id": "ee2a3515",
   "metadata": {},
   "outputs": [],
   "source": [
    "data = data.loc[data['gender'] != 'XNA'] # удаляем лишнюю строчку"
   ]
  },
  {
   "cell_type": "code",
   "execution_count": 27,
   "id": "c63e7df9",
   "metadata": {},
   "outputs": [
    {
     "data": {
      "text/plain": [
       "array(['F', 'M'], dtype=object)"
      ]
     },
     "execution_count": 27,
     "metadata": {},
     "output_type": "execute_result"
    }
   ],
   "source": [
    "data['gender'].unique()"
   ]
  },
  {
   "cell_type": "markdown",
   "id": "6b18be97",
   "metadata": {},
   "source": [
    "Теперь все хорошо!"
   ]
  },
  {
   "cell_type": "code",
   "execution_count": 28,
   "id": "1c7d883a",
   "metadata": {},
   "outputs": [
    {
     "data": {
      "text/plain": [
       "array(['сотрудник', 'пенсионер', 'компаньон', 'госслужащий',\n",
       "       'безработный', 'предприниматель', 'студент', 'в декрете'],\n",
       "      dtype=object)"
      ]
     },
     "execution_count": 28,
     "metadata": {},
     "output_type": "execute_result"
    }
   ],
   "source": [
    "data['income_type'].unique()"
   ]
  },
  {
   "cell_type": "code",
   "execution_count": 29,
   "id": "25c13e9f",
   "metadata": {},
   "outputs": [
    {
     "data": {
      "text/plain": [
       "array([0, 1])"
      ]
     },
     "execution_count": 29,
     "metadata": {},
     "output_type": "execute_result"
    }
   ],
   "source": [
    "data['debt'].unique()"
   ]
  },
  {
   "cell_type": "code",
   "execution_count": 30,
   "id": "58a5d7cd",
   "metadata": {},
   "outputs": [
    {
     "data": {
      "text/plain": [
       "array([253875, 112080, 145885, ...,  89672, 244093,  82047])"
      ]
     },
     "execution_count": 30,
     "metadata": {},
     "output_type": "execute_result"
    }
   ],
   "source": [
    "data['total_income'].unique()"
   ]
  },
  {
   "cell_type": "code",
   "execution_count": 31,
   "id": "c1fe1086",
   "metadata": {},
   "outputs": [
    {
     "data": {
      "text/plain": [
       "array(['покупка жилья', 'приобретение автомобиля',\n",
       "       'дополнительное образование', 'сыграть свадьбу',\n",
       "       'операции с жильем', 'образование', 'на проведение свадьбы',\n",
       "       'покупка жилья для семьи', 'покупка недвижимости',\n",
       "       'покупка коммерческой недвижимости', 'покупка жилой недвижимости',\n",
       "       'строительство собственной недвижимости', 'недвижимость',\n",
       "       'строительство недвижимости', 'на покупку подержанного автомобиля',\n",
       "       'на покупку своего автомобиля',\n",
       "       'операции с коммерческой недвижимостью',\n",
       "       'строительство жилой недвижимости', 'жилье',\n",
       "       'операции со своей недвижимостью', 'автомобили',\n",
       "       'заняться образованием', 'сделка с подержанным автомобилем',\n",
       "       'получение образования', 'автомобиль', 'свадьба',\n",
       "       'получение дополнительного образования', 'покупка своего жилья',\n",
       "       'операции с недвижимостью', 'получение высшего образования',\n",
       "       'свой автомобиль', 'сделка с автомобилем',\n",
       "       'профильное образование', 'высшее образование',\n",
       "       'покупка жилья для сдачи', 'на покупку автомобиля', 'ремонт жилью',\n",
       "       'заняться высшим образованием'], dtype=object)"
      ]
     },
     "execution_count": 31,
     "metadata": {},
     "output_type": "execute_result"
    }
   ],
   "source": [
    "data['purpose'].unique()"
   ]
  },
  {
   "cell_type": "markdown",
   "id": "9d1b760c",
   "metadata": {},
   "source": [
    "Мы видим страшную вещь, цели получения кредита ужасно записаны, но эту ошибку мы исправим чуть позже. "
   ]
  },
  {
   "cell_type": "markdown",
   "id": "c026e0a5",
   "metadata": {},
   "source": [
    "### Шаг 2.5. Формирование дополнительных датафреймов словарей, декомпозиция исходного датафрейма."
   ]
  },
  {
   "cell_type": "markdown",
   "id": "a6723134",
   "metadata": {},
   "source": [
    "**Создадим два датафрейма и перенесем в них заданные столбцы!**"
   ]
  },
  {
   "cell_type": "code",
   "execution_count": 32,
   "id": "c05d0707",
   "metadata": {},
   "outputs": [],
   "source": [
    "data_education = data[['education_id', 'education']] # создаем новые датафреймы с определенными значениями\n",
    "data_status = data[['family_status_id', 'family_status']]"
   ]
  },
  {
   "cell_type": "markdown",
   "id": "33dea814",
   "metadata": {},
   "source": [
    "Удалим столбец `education` И `family_status` из нашей таблицы."
   ]
  },
  {
   "cell_type": "code",
   "execution_count": 33,
   "id": "3d503d26",
   "metadata": {},
   "outputs": [],
   "source": [
    "del data['education'] # удаляем ненужные столбцы\n",
    "del data['family_status']"
   ]
  },
  {
   "cell_type": "code",
   "execution_count": 34,
   "id": "78dddd50",
   "metadata": {},
   "outputs": [
    {
     "data": {
      "text/html": [
       "<div>\n",
       "<style scoped>\n",
       "    .dataframe tbody tr th:only-of-type {\n",
       "        vertical-align: middle;\n",
       "    }\n",
       "\n",
       "    .dataframe tbody tr th {\n",
       "        vertical-align: top;\n",
       "    }\n",
       "\n",
       "    .dataframe thead th {\n",
       "        text-align: right;\n",
       "    }\n",
       "</style>\n",
       "<table border=\"1\" class=\"dataframe\">\n",
       "  <thead>\n",
       "    <tr style=\"text-align: right;\">\n",
       "      <th></th>\n",
       "      <th>children</th>\n",
       "      <th>days_employed</th>\n",
       "      <th>dob_years</th>\n",
       "      <th>education_id</th>\n",
       "      <th>family_status_id</th>\n",
       "      <th>gender</th>\n",
       "      <th>income_type</th>\n",
       "      <th>debt</th>\n",
       "      <th>total_income</th>\n",
       "      <th>purpose</th>\n",
       "    </tr>\n",
       "  </thead>\n",
       "  <tbody>\n",
       "    <tr>\n",
       "      <td>0</td>\n",
       "      <td>1</td>\n",
       "      <td>8437.673028</td>\n",
       "      <td>42</td>\n",
       "      <td>0</td>\n",
       "      <td>0</td>\n",
       "      <td>F</td>\n",
       "      <td>сотрудник</td>\n",
       "      <td>0</td>\n",
       "      <td>253875</td>\n",
       "      <td>покупка жилья</td>\n",
       "    </tr>\n",
       "    <tr>\n",
       "      <td>1</td>\n",
       "      <td>1</td>\n",
       "      <td>4024.803754</td>\n",
       "      <td>36</td>\n",
       "      <td>1</td>\n",
       "      <td>0</td>\n",
       "      <td>F</td>\n",
       "      <td>сотрудник</td>\n",
       "      <td>0</td>\n",
       "      <td>112080</td>\n",
       "      <td>приобретение автомобиля</td>\n",
       "    </tr>\n",
       "    <tr>\n",
       "      <td>2</td>\n",
       "      <td>0</td>\n",
       "      <td>5623.422610</td>\n",
       "      <td>33</td>\n",
       "      <td>1</td>\n",
       "      <td>0</td>\n",
       "      <td>M</td>\n",
       "      <td>сотрудник</td>\n",
       "      <td>0</td>\n",
       "      <td>145885</td>\n",
       "      <td>покупка жилья</td>\n",
       "    </tr>\n",
       "    <tr>\n",
       "      <td>3</td>\n",
       "      <td>3</td>\n",
       "      <td>4124.747207</td>\n",
       "      <td>32</td>\n",
       "      <td>1</td>\n",
       "      <td>0</td>\n",
       "      <td>M</td>\n",
       "      <td>сотрудник</td>\n",
       "      <td>0</td>\n",
       "      <td>267628</td>\n",
       "      <td>дополнительное образование</td>\n",
       "    </tr>\n",
       "    <tr>\n",
       "      <td>4</td>\n",
       "      <td>0</td>\n",
       "      <td>340266.072047</td>\n",
       "      <td>53</td>\n",
       "      <td>1</td>\n",
       "      <td>1</td>\n",
       "      <td>F</td>\n",
       "      <td>пенсионер</td>\n",
       "      <td>0</td>\n",
       "      <td>158616</td>\n",
       "      <td>сыграть свадьбу</td>\n",
       "    </tr>\n",
       "    <tr>\n",
       "      <td>...</td>\n",
       "      <td>...</td>\n",
       "      <td>...</td>\n",
       "      <td>...</td>\n",
       "      <td>...</td>\n",
       "      <td>...</td>\n",
       "      <td>...</td>\n",
       "      <td>...</td>\n",
       "      <td>...</td>\n",
       "      <td>...</td>\n",
       "      <td>...</td>\n",
       "    </tr>\n",
       "    <tr>\n",
       "      <td>21466</td>\n",
       "      <td>1</td>\n",
       "      <td>4529.316663</td>\n",
       "      <td>43</td>\n",
       "      <td>1</td>\n",
       "      <td>1</td>\n",
       "      <td>F</td>\n",
       "      <td>компаньон</td>\n",
       "      <td>0</td>\n",
       "      <td>224791</td>\n",
       "      <td>операции с жильем</td>\n",
       "    </tr>\n",
       "    <tr>\n",
       "      <td>21467</td>\n",
       "      <td>0</td>\n",
       "      <td>343937.404131</td>\n",
       "      <td>67</td>\n",
       "      <td>1</td>\n",
       "      <td>0</td>\n",
       "      <td>F</td>\n",
       "      <td>пенсионер</td>\n",
       "      <td>0</td>\n",
       "      <td>155999</td>\n",
       "      <td>сделка с автомобилем</td>\n",
       "    </tr>\n",
       "    <tr>\n",
       "      <td>21468</td>\n",
       "      <td>1</td>\n",
       "      <td>2113.346888</td>\n",
       "      <td>38</td>\n",
       "      <td>1</td>\n",
       "      <td>1</td>\n",
       "      <td>M</td>\n",
       "      <td>сотрудник</td>\n",
       "      <td>1</td>\n",
       "      <td>89672</td>\n",
       "      <td>недвижимость</td>\n",
       "    </tr>\n",
       "    <tr>\n",
       "      <td>21469</td>\n",
       "      <td>3</td>\n",
       "      <td>3112.481705</td>\n",
       "      <td>38</td>\n",
       "      <td>1</td>\n",
       "      <td>0</td>\n",
       "      <td>M</td>\n",
       "      <td>сотрудник</td>\n",
       "      <td>1</td>\n",
       "      <td>244093</td>\n",
       "      <td>на покупку своего автомобиля</td>\n",
       "    </tr>\n",
       "    <tr>\n",
       "      <td>21470</td>\n",
       "      <td>2</td>\n",
       "      <td>1984.507589</td>\n",
       "      <td>40</td>\n",
       "      <td>1</td>\n",
       "      <td>0</td>\n",
       "      <td>F</td>\n",
       "      <td>сотрудник</td>\n",
       "      <td>0</td>\n",
       "      <td>82047</td>\n",
       "      <td>на покупку автомобиля</td>\n",
       "    </tr>\n",
       "  </tbody>\n",
       "</table>\n",
       "<p>21369 rows × 10 columns</p>\n",
       "</div>"
      ],
      "text/plain": [
       "       children  days_employed  dob_years  education_id  family_status_id  \\\n",
       "0             1    8437.673028         42             0                 0   \n",
       "1             1    4024.803754         36             1                 0   \n",
       "2             0    5623.422610         33             1                 0   \n",
       "3             3    4124.747207         32             1                 0   \n",
       "4             0  340266.072047         53             1                 1   \n",
       "...         ...            ...        ...           ...               ...   \n",
       "21466         1    4529.316663         43             1                 1   \n",
       "21467         0  343937.404131         67             1                 0   \n",
       "21468         1    2113.346888         38             1                 1   \n",
       "21469         3    3112.481705         38             1                 0   \n",
       "21470         2    1984.507589         40             1                 0   \n",
       "\n",
       "      gender income_type  debt  total_income                       purpose  \n",
       "0          F   сотрудник     0        253875                 покупка жилья  \n",
       "1          F   сотрудник     0        112080       приобретение автомобиля  \n",
       "2          M   сотрудник     0        145885                 покупка жилья  \n",
       "3          M   сотрудник     0        267628    дополнительное образование  \n",
       "4          F   пенсионер     0        158616               сыграть свадьбу  \n",
       "...      ...         ...   ...           ...                           ...  \n",
       "21466      F   компаньон     0        224791             операции с жильем  \n",
       "21467      F   пенсионер     0        155999          сделка с автомобилем  \n",
       "21468      M   сотрудник     1         89672                  недвижимость  \n",
       "21469      M   сотрудник     1        244093  на покупку своего автомобиля  \n",
       "21470      F   сотрудник     0         82047         на покупку автомобиля  \n",
       "\n",
       "[21369 rows x 10 columns]"
      ]
     },
     "execution_count": 34,
     "metadata": {},
     "output_type": "execute_result"
    }
   ],
   "source": [
    "data # проверим выполнения задачи"
   ]
  },
  {
   "cell_type": "markdown",
   "id": "b7bf7ec2",
   "metadata": {},
   "source": [
    "### Шаг 2.6. Категоризация дохода."
   ]
  },
  {
   "cell_type": "code",
   "execution_count": 35,
   "id": "1cded9ac",
   "metadata": {},
   "outputs": [],
   "source": [
    "def total_income_category(income): # создаем функцию и задаем условия\n",
    "    if income <= 30000:\n",
    "        return 'E'\n",
    "    elif 30001 <= income <= 50000:\n",
    "        return 'D'\n",
    "    elif 50001 <= income <= 200000:\n",
    "        return 'C'\n",
    "    elif 200001 <= income <= 1000000:\n",
    "        return 'B'\n",
    "    return 'A'\n"
   ]
  },
  {
   "cell_type": "code",
   "execution_count": 36,
   "id": "eb489334",
   "metadata": {},
   "outputs": [],
   "source": [
    "data['total_income_category'] = data['total_income'].apply(total_income_category) # создаем столбец в нашей таблице"
   ]
  },
  {
   "cell_type": "code",
   "execution_count": 37,
   "id": "51e81473",
   "metadata": {},
   "outputs": [
    {
     "data": {
      "text/html": [
       "<div>\n",
       "<style scoped>\n",
       "    .dataframe tbody tr th:only-of-type {\n",
       "        vertical-align: middle;\n",
       "    }\n",
       "\n",
       "    .dataframe tbody tr th {\n",
       "        vertical-align: top;\n",
       "    }\n",
       "\n",
       "    .dataframe thead th {\n",
       "        text-align: right;\n",
       "    }\n",
       "</style>\n",
       "<table border=\"1\" class=\"dataframe\">\n",
       "  <thead>\n",
       "    <tr style=\"text-align: right;\">\n",
       "      <th></th>\n",
       "      <th>children</th>\n",
       "      <th>days_employed</th>\n",
       "      <th>dob_years</th>\n",
       "      <th>education_id</th>\n",
       "      <th>family_status_id</th>\n",
       "      <th>gender</th>\n",
       "      <th>income_type</th>\n",
       "      <th>debt</th>\n",
       "      <th>total_income</th>\n",
       "      <th>purpose</th>\n",
       "      <th>total_income_category</th>\n",
       "    </tr>\n",
       "  </thead>\n",
       "  <tbody>\n",
       "    <tr>\n",
       "      <td>0</td>\n",
       "      <td>1</td>\n",
       "      <td>8437.673028</td>\n",
       "      <td>42</td>\n",
       "      <td>0</td>\n",
       "      <td>0</td>\n",
       "      <td>F</td>\n",
       "      <td>сотрудник</td>\n",
       "      <td>0</td>\n",
       "      <td>253875</td>\n",
       "      <td>покупка жилья</td>\n",
       "      <td>B</td>\n",
       "    </tr>\n",
       "    <tr>\n",
       "      <td>1</td>\n",
       "      <td>1</td>\n",
       "      <td>4024.803754</td>\n",
       "      <td>36</td>\n",
       "      <td>1</td>\n",
       "      <td>0</td>\n",
       "      <td>F</td>\n",
       "      <td>сотрудник</td>\n",
       "      <td>0</td>\n",
       "      <td>112080</td>\n",
       "      <td>приобретение автомобиля</td>\n",
       "      <td>C</td>\n",
       "    </tr>\n",
       "    <tr>\n",
       "      <td>2</td>\n",
       "      <td>0</td>\n",
       "      <td>5623.422610</td>\n",
       "      <td>33</td>\n",
       "      <td>1</td>\n",
       "      <td>0</td>\n",
       "      <td>M</td>\n",
       "      <td>сотрудник</td>\n",
       "      <td>0</td>\n",
       "      <td>145885</td>\n",
       "      <td>покупка жилья</td>\n",
       "      <td>C</td>\n",
       "    </tr>\n",
       "    <tr>\n",
       "      <td>3</td>\n",
       "      <td>3</td>\n",
       "      <td>4124.747207</td>\n",
       "      <td>32</td>\n",
       "      <td>1</td>\n",
       "      <td>0</td>\n",
       "      <td>M</td>\n",
       "      <td>сотрудник</td>\n",
       "      <td>0</td>\n",
       "      <td>267628</td>\n",
       "      <td>дополнительное образование</td>\n",
       "      <td>B</td>\n",
       "    </tr>\n",
       "    <tr>\n",
       "      <td>4</td>\n",
       "      <td>0</td>\n",
       "      <td>340266.072047</td>\n",
       "      <td>53</td>\n",
       "      <td>1</td>\n",
       "      <td>1</td>\n",
       "      <td>F</td>\n",
       "      <td>пенсионер</td>\n",
       "      <td>0</td>\n",
       "      <td>158616</td>\n",
       "      <td>сыграть свадьбу</td>\n",
       "      <td>C</td>\n",
       "    </tr>\n",
       "    <tr>\n",
       "      <td>...</td>\n",
       "      <td>...</td>\n",
       "      <td>...</td>\n",
       "      <td>...</td>\n",
       "      <td>...</td>\n",
       "      <td>...</td>\n",
       "      <td>...</td>\n",
       "      <td>...</td>\n",
       "      <td>...</td>\n",
       "      <td>...</td>\n",
       "      <td>...</td>\n",
       "      <td>...</td>\n",
       "    </tr>\n",
       "    <tr>\n",
       "      <td>21466</td>\n",
       "      <td>1</td>\n",
       "      <td>4529.316663</td>\n",
       "      <td>43</td>\n",
       "      <td>1</td>\n",
       "      <td>1</td>\n",
       "      <td>F</td>\n",
       "      <td>компаньон</td>\n",
       "      <td>0</td>\n",
       "      <td>224791</td>\n",
       "      <td>операции с жильем</td>\n",
       "      <td>B</td>\n",
       "    </tr>\n",
       "    <tr>\n",
       "      <td>21467</td>\n",
       "      <td>0</td>\n",
       "      <td>343937.404131</td>\n",
       "      <td>67</td>\n",
       "      <td>1</td>\n",
       "      <td>0</td>\n",
       "      <td>F</td>\n",
       "      <td>пенсионер</td>\n",
       "      <td>0</td>\n",
       "      <td>155999</td>\n",
       "      <td>сделка с автомобилем</td>\n",
       "      <td>C</td>\n",
       "    </tr>\n",
       "    <tr>\n",
       "      <td>21468</td>\n",
       "      <td>1</td>\n",
       "      <td>2113.346888</td>\n",
       "      <td>38</td>\n",
       "      <td>1</td>\n",
       "      <td>1</td>\n",
       "      <td>M</td>\n",
       "      <td>сотрудник</td>\n",
       "      <td>1</td>\n",
       "      <td>89672</td>\n",
       "      <td>недвижимость</td>\n",
       "      <td>C</td>\n",
       "    </tr>\n",
       "    <tr>\n",
       "      <td>21469</td>\n",
       "      <td>3</td>\n",
       "      <td>3112.481705</td>\n",
       "      <td>38</td>\n",
       "      <td>1</td>\n",
       "      <td>0</td>\n",
       "      <td>M</td>\n",
       "      <td>сотрудник</td>\n",
       "      <td>1</td>\n",
       "      <td>244093</td>\n",
       "      <td>на покупку своего автомобиля</td>\n",
       "      <td>B</td>\n",
       "    </tr>\n",
       "    <tr>\n",
       "      <td>21470</td>\n",
       "      <td>2</td>\n",
       "      <td>1984.507589</td>\n",
       "      <td>40</td>\n",
       "      <td>1</td>\n",
       "      <td>0</td>\n",
       "      <td>F</td>\n",
       "      <td>сотрудник</td>\n",
       "      <td>0</td>\n",
       "      <td>82047</td>\n",
       "      <td>на покупку автомобиля</td>\n",
       "      <td>C</td>\n",
       "    </tr>\n",
       "  </tbody>\n",
       "</table>\n",
       "<p>21369 rows × 11 columns</p>\n",
       "</div>"
      ],
      "text/plain": [
       "       children  days_employed  dob_years  education_id  family_status_id  \\\n",
       "0             1    8437.673028         42             0                 0   \n",
       "1             1    4024.803754         36             1                 0   \n",
       "2             0    5623.422610         33             1                 0   \n",
       "3             3    4124.747207         32             1                 0   \n",
       "4             0  340266.072047         53             1                 1   \n",
       "...         ...            ...        ...           ...               ...   \n",
       "21466         1    4529.316663         43             1                 1   \n",
       "21467         0  343937.404131         67             1                 0   \n",
       "21468         1    2113.346888         38             1                 1   \n",
       "21469         3    3112.481705         38             1                 0   \n",
       "21470         2    1984.507589         40             1                 0   \n",
       "\n",
       "      gender income_type  debt  total_income                       purpose  \\\n",
       "0          F   сотрудник     0        253875                 покупка жилья   \n",
       "1          F   сотрудник     0        112080       приобретение автомобиля   \n",
       "2          M   сотрудник     0        145885                 покупка жилья   \n",
       "3          M   сотрудник     0        267628    дополнительное образование   \n",
       "4          F   пенсионер     0        158616               сыграть свадьбу   \n",
       "...      ...         ...   ...           ...                           ...   \n",
       "21466      F   компаньон     0        224791             операции с жильем   \n",
       "21467      F   пенсионер     0        155999          сделка с автомобилем   \n",
       "21468      M   сотрудник     1         89672                  недвижимость   \n",
       "21469      M   сотрудник     1        244093  на покупку своего автомобиля   \n",
       "21470      F   сотрудник     0         82047         на покупку автомобиля   \n",
       "\n",
       "      total_income_category  \n",
       "0                         B  \n",
       "1                         C  \n",
       "2                         C  \n",
       "3                         B  \n",
       "4                         C  \n",
       "...                     ...  \n",
       "21466                     B  \n",
       "21467                     C  \n",
       "21468                     C  \n",
       "21469                     B  \n",
       "21470                     C  \n",
       "\n",
       "[21369 rows x 11 columns]"
      ]
     },
     "execution_count": 37,
     "metadata": {},
     "output_type": "execute_result"
    }
   ],
   "source": [
    "data # проверка выполнения задачи"
   ]
  },
  {
   "cell_type": "markdown",
   "id": "a757225d",
   "metadata": {},
   "source": [
    "### Шаг 2.7. Категоризация целей кредита."
   ]
  },
  {
   "cell_type": "code",
   "execution_count": 38,
   "id": "e703b1c7",
   "metadata": {},
   "outputs": [],
   "source": [
    "def purpose_category(purpose): # создаем функцию, которая будет обрабатывать информацию за нас\n",
    "    if 'автомоб' in purpose:\n",
    "        return 'операции с автомобилем'\n",
    "    elif 'свадьб' in purpose:\n",
    "        return 'проведение свадьбы'\n",
    "    elif 'образован' in purpose:\n",
    "        return 'получение образования'\n",
    "    elif 'жиль' or 'недвижим' in purpose:\n",
    "        return 'операции с недвижимостью'"
   ]
  },
  {
   "cell_type": "code",
   "execution_count": 39,
   "id": "f482a814",
   "metadata": {},
   "outputs": [],
   "source": [
    "data['purpose_category'] = data['purpose'].apply(purpose_category) # создаем столбец в нашей таблице"
   ]
  },
  {
   "cell_type": "code",
   "execution_count": 40,
   "id": "2789e8e9",
   "metadata": {},
   "outputs": [
    {
     "data": {
      "text/html": [
       "<div>\n",
       "<style scoped>\n",
       "    .dataframe tbody tr th:only-of-type {\n",
       "        vertical-align: middle;\n",
       "    }\n",
       "\n",
       "    .dataframe tbody tr th {\n",
       "        vertical-align: top;\n",
       "    }\n",
       "\n",
       "    .dataframe thead th {\n",
       "        text-align: right;\n",
       "    }\n",
       "</style>\n",
       "<table border=\"1\" class=\"dataframe\">\n",
       "  <thead>\n",
       "    <tr style=\"text-align: right;\">\n",
       "      <th></th>\n",
       "      <th>children</th>\n",
       "      <th>days_employed</th>\n",
       "      <th>dob_years</th>\n",
       "      <th>education_id</th>\n",
       "      <th>family_status_id</th>\n",
       "      <th>gender</th>\n",
       "      <th>income_type</th>\n",
       "      <th>debt</th>\n",
       "      <th>total_income</th>\n",
       "      <th>purpose</th>\n",
       "      <th>total_income_category</th>\n",
       "      <th>purpose_category</th>\n",
       "    </tr>\n",
       "  </thead>\n",
       "  <tbody>\n",
       "    <tr>\n",
       "      <td>0</td>\n",
       "      <td>1</td>\n",
       "      <td>8437.673028</td>\n",
       "      <td>42</td>\n",
       "      <td>0</td>\n",
       "      <td>0</td>\n",
       "      <td>F</td>\n",
       "      <td>сотрудник</td>\n",
       "      <td>0</td>\n",
       "      <td>253875</td>\n",
       "      <td>покупка жилья</td>\n",
       "      <td>B</td>\n",
       "      <td>операции с недвижимостью</td>\n",
       "    </tr>\n",
       "    <tr>\n",
       "      <td>1</td>\n",
       "      <td>1</td>\n",
       "      <td>4024.803754</td>\n",
       "      <td>36</td>\n",
       "      <td>1</td>\n",
       "      <td>0</td>\n",
       "      <td>F</td>\n",
       "      <td>сотрудник</td>\n",
       "      <td>0</td>\n",
       "      <td>112080</td>\n",
       "      <td>приобретение автомобиля</td>\n",
       "      <td>C</td>\n",
       "      <td>операции с автомобилем</td>\n",
       "    </tr>\n",
       "    <tr>\n",
       "      <td>2</td>\n",
       "      <td>0</td>\n",
       "      <td>5623.422610</td>\n",
       "      <td>33</td>\n",
       "      <td>1</td>\n",
       "      <td>0</td>\n",
       "      <td>M</td>\n",
       "      <td>сотрудник</td>\n",
       "      <td>0</td>\n",
       "      <td>145885</td>\n",
       "      <td>покупка жилья</td>\n",
       "      <td>C</td>\n",
       "      <td>операции с недвижимостью</td>\n",
       "    </tr>\n",
       "    <tr>\n",
       "      <td>3</td>\n",
       "      <td>3</td>\n",
       "      <td>4124.747207</td>\n",
       "      <td>32</td>\n",
       "      <td>1</td>\n",
       "      <td>0</td>\n",
       "      <td>M</td>\n",
       "      <td>сотрудник</td>\n",
       "      <td>0</td>\n",
       "      <td>267628</td>\n",
       "      <td>дополнительное образование</td>\n",
       "      <td>B</td>\n",
       "      <td>получение образования</td>\n",
       "    </tr>\n",
       "    <tr>\n",
       "      <td>4</td>\n",
       "      <td>0</td>\n",
       "      <td>340266.072047</td>\n",
       "      <td>53</td>\n",
       "      <td>1</td>\n",
       "      <td>1</td>\n",
       "      <td>F</td>\n",
       "      <td>пенсионер</td>\n",
       "      <td>0</td>\n",
       "      <td>158616</td>\n",
       "      <td>сыграть свадьбу</td>\n",
       "      <td>C</td>\n",
       "      <td>проведение свадьбы</td>\n",
       "    </tr>\n",
       "    <tr>\n",
       "      <td>...</td>\n",
       "      <td>...</td>\n",
       "      <td>...</td>\n",
       "      <td>...</td>\n",
       "      <td>...</td>\n",
       "      <td>...</td>\n",
       "      <td>...</td>\n",
       "      <td>...</td>\n",
       "      <td>...</td>\n",
       "      <td>...</td>\n",
       "      <td>...</td>\n",
       "      <td>...</td>\n",
       "      <td>...</td>\n",
       "    </tr>\n",
       "    <tr>\n",
       "      <td>21466</td>\n",
       "      <td>1</td>\n",
       "      <td>4529.316663</td>\n",
       "      <td>43</td>\n",
       "      <td>1</td>\n",
       "      <td>1</td>\n",
       "      <td>F</td>\n",
       "      <td>компаньон</td>\n",
       "      <td>0</td>\n",
       "      <td>224791</td>\n",
       "      <td>операции с жильем</td>\n",
       "      <td>B</td>\n",
       "      <td>операции с недвижимостью</td>\n",
       "    </tr>\n",
       "    <tr>\n",
       "      <td>21467</td>\n",
       "      <td>0</td>\n",
       "      <td>343937.404131</td>\n",
       "      <td>67</td>\n",
       "      <td>1</td>\n",
       "      <td>0</td>\n",
       "      <td>F</td>\n",
       "      <td>пенсионер</td>\n",
       "      <td>0</td>\n",
       "      <td>155999</td>\n",
       "      <td>сделка с автомобилем</td>\n",
       "      <td>C</td>\n",
       "      <td>операции с автомобилем</td>\n",
       "    </tr>\n",
       "    <tr>\n",
       "      <td>21468</td>\n",
       "      <td>1</td>\n",
       "      <td>2113.346888</td>\n",
       "      <td>38</td>\n",
       "      <td>1</td>\n",
       "      <td>1</td>\n",
       "      <td>M</td>\n",
       "      <td>сотрудник</td>\n",
       "      <td>1</td>\n",
       "      <td>89672</td>\n",
       "      <td>недвижимость</td>\n",
       "      <td>C</td>\n",
       "      <td>операции с недвижимостью</td>\n",
       "    </tr>\n",
       "    <tr>\n",
       "      <td>21469</td>\n",
       "      <td>3</td>\n",
       "      <td>3112.481705</td>\n",
       "      <td>38</td>\n",
       "      <td>1</td>\n",
       "      <td>0</td>\n",
       "      <td>M</td>\n",
       "      <td>сотрудник</td>\n",
       "      <td>1</td>\n",
       "      <td>244093</td>\n",
       "      <td>на покупку своего автомобиля</td>\n",
       "      <td>B</td>\n",
       "      <td>операции с автомобилем</td>\n",
       "    </tr>\n",
       "    <tr>\n",
       "      <td>21470</td>\n",
       "      <td>2</td>\n",
       "      <td>1984.507589</td>\n",
       "      <td>40</td>\n",
       "      <td>1</td>\n",
       "      <td>0</td>\n",
       "      <td>F</td>\n",
       "      <td>сотрудник</td>\n",
       "      <td>0</td>\n",
       "      <td>82047</td>\n",
       "      <td>на покупку автомобиля</td>\n",
       "      <td>C</td>\n",
       "      <td>операции с автомобилем</td>\n",
       "    </tr>\n",
       "  </tbody>\n",
       "</table>\n",
       "<p>21369 rows × 12 columns</p>\n",
       "</div>"
      ],
      "text/plain": [
       "       children  days_employed  dob_years  education_id  family_status_id  \\\n",
       "0             1    8437.673028         42             0                 0   \n",
       "1             1    4024.803754         36             1                 0   \n",
       "2             0    5623.422610         33             1                 0   \n",
       "3             3    4124.747207         32             1                 0   \n",
       "4             0  340266.072047         53             1                 1   \n",
       "...         ...            ...        ...           ...               ...   \n",
       "21466         1    4529.316663         43             1                 1   \n",
       "21467         0  343937.404131         67             1                 0   \n",
       "21468         1    2113.346888         38             1                 1   \n",
       "21469         3    3112.481705         38             1                 0   \n",
       "21470         2    1984.507589         40             1                 0   \n",
       "\n",
       "      gender income_type  debt  total_income                       purpose  \\\n",
       "0          F   сотрудник     0        253875                 покупка жилья   \n",
       "1          F   сотрудник     0        112080       приобретение автомобиля   \n",
       "2          M   сотрудник     0        145885                 покупка жилья   \n",
       "3          M   сотрудник     0        267628    дополнительное образование   \n",
       "4          F   пенсионер     0        158616               сыграть свадьбу   \n",
       "...      ...         ...   ...           ...                           ...   \n",
       "21466      F   компаньон     0        224791             операции с жильем   \n",
       "21467      F   пенсионер     0        155999          сделка с автомобилем   \n",
       "21468      M   сотрудник     1         89672                  недвижимость   \n",
       "21469      M   сотрудник     1        244093  на покупку своего автомобиля   \n",
       "21470      F   сотрудник     0         82047         на покупку автомобиля   \n",
       "\n",
       "      total_income_category          purpose_category  \n",
       "0                         B  операции с недвижимостью  \n",
       "1                         C    операции с автомобилем  \n",
       "2                         C  операции с недвижимостью  \n",
       "3                         B     получение образования  \n",
       "4                         C        проведение свадьбы  \n",
       "...                     ...                       ...  \n",
       "21466                     B  операции с недвижимостью  \n",
       "21467                     C    операции с автомобилем  \n",
       "21468                     C  операции с недвижимостью  \n",
       "21469                     B    операции с автомобилем  \n",
       "21470                     C    операции с автомобилем  \n",
       "\n",
       "[21369 rows x 12 columns]"
      ]
     },
     "execution_count": 40,
     "metadata": {},
     "output_type": "execute_result"
    }
   ],
   "source": [
    "data # проверка выполнения задачи"
   ]
  },
  {
   "cell_type": "code",
   "execution_count": 41,
   "id": "f516a4d8",
   "metadata": {},
   "outputs": [
    {
     "data": {
      "text/plain": [
       "array(['операции с недвижимостью', 'операции с автомобилем',\n",
       "       'получение образования', 'проведение свадьбы'], dtype=object)"
      ]
     },
     "execution_count": 41,
     "metadata": {},
     "output_type": "execute_result"
    }
   ],
   "source": [
    "data['purpose_category'].unique() # еще одна проверка на значения"
   ]
  },
  {
   "cell_type": "markdown",
   "id": "902a7294",
   "metadata": {},
   "source": [
    "### Ответы на вопросы."
   ]
  },
  {
   "cell_type": "markdown",
   "id": "37c12217",
   "metadata": {},
   "source": [
    "# Вопрос 1. Есть ли зависимость между количеством детей и возвратом кредита в срок? <a id='intro'></a>"
   ]
  },
  {
   "cell_type": "code",
   "execution_count": 42,
   "id": "0d0002a2",
   "metadata": {},
   "outputs": [
    {
     "data": {
      "text/html": [
       "<div>\n",
       "<style scoped>\n",
       "    .dataframe tbody tr th:only-of-type {\n",
       "        vertical-align: middle;\n",
       "    }\n",
       "\n",
       "    .dataframe tbody tr th {\n",
       "        vertical-align: top;\n",
       "    }\n",
       "\n",
       "    .dataframe thead tr th {\n",
       "        text-align: left;\n",
       "    }\n",
       "\n",
       "    .dataframe thead tr:last-of-type th {\n",
       "        text-align: right;\n",
       "    }\n",
       "</style>\n",
       "<table border=\"1\" class=\"dataframe\">\n",
       "  <thead>\n",
       "    <tr>\n",
       "      <th></th>\n",
       "      <th>sum</th>\n",
       "      <th>count</th>\n",
       "      <th>debt_%</th>\n",
       "    </tr>\n",
       "    <tr>\n",
       "      <th></th>\n",
       "      <th>debt</th>\n",
       "      <th>debt</th>\n",
       "      <th></th>\n",
       "    </tr>\n",
       "    <tr>\n",
       "      <th>children</th>\n",
       "      <th></th>\n",
       "      <th></th>\n",
       "      <th></th>\n",
       "    </tr>\n",
       "  </thead>\n",
       "  <tbody>\n",
       "    <tr>\n",
       "      <td>0</td>\n",
       "      <td>1058</td>\n",
       "      <td>14037</td>\n",
       "      <td>7.537223</td>\n",
       "    </tr>\n",
       "    <tr>\n",
       "      <td>1</td>\n",
       "      <td>442</td>\n",
       "      <td>4840</td>\n",
       "      <td>9.132231</td>\n",
       "    </tr>\n",
       "    <tr>\n",
       "      <td>2</td>\n",
       "      <td>194</td>\n",
       "      <td>2039</td>\n",
       "      <td>9.514468</td>\n",
       "    </tr>\n",
       "    <tr>\n",
       "      <td>3</td>\n",
       "      <td>27</td>\n",
       "      <td>328</td>\n",
       "      <td>8.231707</td>\n",
       "    </tr>\n",
       "    <tr>\n",
       "      <td>4</td>\n",
       "      <td>4</td>\n",
       "      <td>41</td>\n",
       "      <td>9.756098</td>\n",
       "    </tr>\n",
       "    <tr>\n",
       "      <td>5</td>\n",
       "      <td>0</td>\n",
       "      <td>9</td>\n",
       "      <td>0.000000</td>\n",
       "    </tr>\n",
       "    <tr>\n",
       "      <td>20</td>\n",
       "      <td>8</td>\n",
       "      <td>75</td>\n",
       "      <td>10.666667</td>\n",
       "    </tr>\n",
       "  </tbody>\n",
       "</table>\n",
       "</div>"
      ],
      "text/plain": [
       "           sum  count     debt_%\n",
       "          debt   debt           \n",
       "children                        \n",
       "0         1058  14037   7.537223\n",
       "1          442   4840   9.132231\n",
       "2          194   2039   9.514468\n",
       "3           27    328   8.231707\n",
       "4            4     41   9.756098\n",
       "5            0      9   0.000000\n",
       "20           8     75  10.666667"
      ]
     },
     "metadata": {},
     "output_type": "display_data"
    }
   ],
   "source": [
    "data_pivot_children = data.pivot_table(index='children', values='debt', aggfunc=['sum', 'count']) # создаем сводную таблицу\n",
    "data_pivot_children.reset_index()\n",
    "data_pivot_children['debt_%'] = data_pivot_children['sum'] / data_pivot_children['count'] * 100 # находим процент задолжностей\n",
    "display(data_pivot_children)"
   ]
  },
  {
   "cell_type": "markdown",
   "id": "b3b69041",
   "metadata": {},
   "source": [
    "Заемщики, не имеющие детей, менее склонны к просрочке по выплатам кредита."
   ]
  },
  {
   "cell_type": "markdown",
   "id": "ad304d0e",
   "metadata": {},
   "source": [
    "# Вопрос 2. Есть ли зависимость между семейным положением и возвратом кредита в срок?<a id='intro'></a>"
   ]
  },
  {
   "cell_type": "code",
   "execution_count": 43,
   "id": "d3c7ffe4",
   "metadata": {
    "scrolled": true
   },
   "outputs": [
    {
     "data": {
      "text/html": [
       "<div>\n",
       "<style scoped>\n",
       "    .dataframe tbody tr th:only-of-type {\n",
       "        vertical-align: middle;\n",
       "    }\n",
       "\n",
       "    .dataframe tbody tr th {\n",
       "        vertical-align: top;\n",
       "    }\n",
       "\n",
       "    .dataframe thead th {\n",
       "        text-align: right;\n",
       "    }\n",
       "</style>\n",
       "<table border=\"1\" class=\"dataframe\">\n",
       "  <thead>\n",
       "    <tr style=\"text-align: right;\">\n",
       "      <th></th>\n",
       "      <th>family_status_id</th>\n",
       "      <th>0</th>\n",
       "      <th>dept_0 %</th>\n",
       "      <th>1</th>\n",
       "      <th>dept_1 %</th>\n",
       "      <th>count_debt</th>\n",
       "      <th>family_status</th>\n",
       "    </tr>\n",
       "  </thead>\n",
       "  <tbody>\n",
       "    <tr>\n",
       "      <td>0</td>\n",
       "      <td>0</td>\n",
       "      <td>11368</td>\n",
       "      <td>92.460350</td>\n",
       "      <td>927</td>\n",
       "      <td>7.539650</td>\n",
       "      <td>12295</td>\n",
       "      <td>женат / замужем</td>\n",
       "    </tr>\n",
       "    <tr>\n",
       "      <td>1</td>\n",
       "      <td>0</td>\n",
       "      <td>11368</td>\n",
       "      <td>92.460350</td>\n",
       "      <td>927</td>\n",
       "      <td>7.539650</td>\n",
       "      <td>12295</td>\n",
       "      <td>женат / замужем</td>\n",
       "    </tr>\n",
       "    <tr>\n",
       "      <td>2</td>\n",
       "      <td>0</td>\n",
       "      <td>11368</td>\n",
       "      <td>92.460350</td>\n",
       "      <td>927</td>\n",
       "      <td>7.539650</td>\n",
       "      <td>12295</td>\n",
       "      <td>женат / замужем</td>\n",
       "    </tr>\n",
       "    <tr>\n",
       "      <td>3</td>\n",
       "      <td>0</td>\n",
       "      <td>11368</td>\n",
       "      <td>92.460350</td>\n",
       "      <td>927</td>\n",
       "      <td>7.539650</td>\n",
       "      <td>12295</td>\n",
       "      <td>женат / замужем</td>\n",
       "    </tr>\n",
       "    <tr>\n",
       "      <td>4</td>\n",
       "      <td>0</td>\n",
       "      <td>11368</td>\n",
       "      <td>92.460350</td>\n",
       "      <td>927</td>\n",
       "      <td>7.539650</td>\n",
       "      <td>12295</td>\n",
       "      <td>женат / замужем</td>\n",
       "    </tr>\n",
       "    <tr>\n",
       "      <td>...</td>\n",
       "      <td>...</td>\n",
       "      <td>...</td>\n",
       "      <td>...</td>\n",
       "      <td>...</td>\n",
       "      <td>...</td>\n",
       "      <td>...</td>\n",
       "      <td>...</td>\n",
       "    </tr>\n",
       "    <tr>\n",
       "      <td>21364</td>\n",
       "      <td>4</td>\n",
       "      <td>2521</td>\n",
       "      <td>90.229062</td>\n",
       "      <td>273</td>\n",
       "      <td>9.770938</td>\n",
       "      <td>2794</td>\n",
       "      <td>Не женат / не замужем</td>\n",
       "    </tr>\n",
       "    <tr>\n",
       "      <td>21365</td>\n",
       "      <td>4</td>\n",
       "      <td>2521</td>\n",
       "      <td>90.229062</td>\n",
       "      <td>273</td>\n",
       "      <td>9.770938</td>\n",
       "      <td>2794</td>\n",
       "      <td>Не женат / не замужем</td>\n",
       "    </tr>\n",
       "    <tr>\n",
       "      <td>21366</td>\n",
       "      <td>4</td>\n",
       "      <td>2521</td>\n",
       "      <td>90.229062</td>\n",
       "      <td>273</td>\n",
       "      <td>9.770938</td>\n",
       "      <td>2794</td>\n",
       "      <td>Не женат / не замужем</td>\n",
       "    </tr>\n",
       "    <tr>\n",
       "      <td>21367</td>\n",
       "      <td>4</td>\n",
       "      <td>2521</td>\n",
       "      <td>90.229062</td>\n",
       "      <td>273</td>\n",
       "      <td>9.770938</td>\n",
       "      <td>2794</td>\n",
       "      <td>Не женат / не замужем</td>\n",
       "    </tr>\n",
       "    <tr>\n",
       "      <td>21368</td>\n",
       "      <td>4</td>\n",
       "      <td>2521</td>\n",
       "      <td>90.229062</td>\n",
       "      <td>273</td>\n",
       "      <td>9.770938</td>\n",
       "      <td>2794</td>\n",
       "      <td>Не женат / не замужем</td>\n",
       "    </tr>\n",
       "  </tbody>\n",
       "</table>\n",
       "<p>21369 rows × 7 columns</p>\n",
       "</div>"
      ],
      "text/plain": [
       "       family_status_id      0   dept_0 %    1  dept_1 %  count_debt  \\\n",
       "0                     0  11368  92.460350  927  7.539650       12295   \n",
       "1                     0  11368  92.460350  927  7.539650       12295   \n",
       "2                     0  11368  92.460350  927  7.539650       12295   \n",
       "3                     0  11368  92.460350  927  7.539650       12295   \n",
       "4                     0  11368  92.460350  927  7.539650       12295   \n",
       "...                 ...    ...        ...  ...       ...         ...   \n",
       "21364                 4   2521  90.229062  273  9.770938        2794   \n",
       "21365                 4   2521  90.229062  273  9.770938        2794   \n",
       "21366                 4   2521  90.229062  273  9.770938        2794   \n",
       "21367                 4   2521  90.229062  273  9.770938        2794   \n",
       "21368                 4   2521  90.229062  273  9.770938        2794   \n",
       "\n",
       "               family_status  \n",
       "0            женат / замужем  \n",
       "1            женат / замужем  \n",
       "2            женат / замужем  \n",
       "3            женат / замужем  \n",
       "4            женат / замужем  \n",
       "...                      ...  \n",
       "21364  Не женат / не замужем  \n",
       "21365  Не женат / не замужем  \n",
       "21366  Не женат / не замужем  \n",
       "21367  Не женат / не замужем  \n",
       "21368  Не женат / не замужем  \n",
       "\n",
       "[21369 rows x 7 columns]"
      ]
     },
     "execution_count": 43,
     "metadata": {},
     "output_type": "execute_result"
    }
   ],
   "source": [
    "data_pivot_family = data.pivot_table(index='family_status_id', columns='debt', values='gender', aggfunc = 'count') # создаем сводную таблицу\n",
    "data_pivot_family['count_debt'] = data_pivot_family[0] + data_pivot_family[1] # выражаем каждый столбец\n",
    "data_pivot_family.insert(1, 'dept_0 %', data_pivot_family[0] / data_pivot_family['count_debt'] * 100)\n",
    "data_pivot_family.insert(3, 'dept_1 %', data_pivot_family[1] / data_pivot_family['count_debt'] * 100)\n",
    "data_pivot_family.merge(data_status, on='family_status_id', how='left') # объединяю несколько таблиц в одну"
   ]
  },
  {
   "cell_type": "code",
   "execution_count": 44,
   "id": "da59b678",
   "metadata": {},
   "outputs": [
    {
     "data": {
      "text/plain": [
       "family_status_id\n",
       "0    92.460350\n",
       "1    90.678580\n",
       "2    93.501048\n",
       "3    92.827004\n",
       "4    90.229062\n",
       "Name: dept_0 %, dtype: float64"
      ]
     },
     "execution_count": 44,
     "metadata": {},
     "output_type": "execute_result"
    }
   ],
   "source": [
    "data_pivot_family['dept_0 %'] # посмотрим проценты к каждому статусу"
   ]
  },
  {
   "cell_type": "markdown",
   "id": "a4320e4e",
   "metadata": {},
   "source": [
    "Граждане, не имеющие узаконенных отношений, более склонны к просрочке по выплатам кредита."
   ]
  },
  {
   "cell_type": "markdown",
   "id": "dbfc1616",
   "metadata": {},
   "source": [
    "# Вопрос 3. Есть ли зависимость между уровнем дохода и возвратом кредита в срок?<a id='intro'></a>"
   ]
  },
  {
   "cell_type": "code",
   "execution_count": 45,
   "id": "213c18b1",
   "metadata": {},
   "outputs": [],
   "source": [
    "def salary_cat(row): # создаем функцию, для создания нового столбика\n",
    "    if row['total_income'] <= 50000:\n",
    "        return 'бедный'\n",
    "    elif 50000 < row['total_income'] <= 120000:\n",
    "        return 'средний'\n",
    "    elif 120000 < row['total_income'] < 1000000:\n",
    "        return 'зажиточный'\n",
    "    else:\n",
    "        return 'миллионер'"
   ]
  },
  {
   "cell_type": "code",
   "execution_count": 46,
   "id": "ede69a9d",
   "metadata": {},
   "outputs": [],
   "source": [
    "data['salary_cat'] = data.apply(salary_cat, axis=1) # создаем новый столбец в нашей таблице"
   ]
  },
  {
   "cell_type": "code",
   "execution_count": 47,
   "id": "c8ce81d8",
   "metadata": {},
   "outputs": [
    {
     "data": {
      "text/html": [
       "<div>\n",
       "<style scoped>\n",
       "    .dataframe tbody tr th:only-of-type {\n",
       "        vertical-align: middle;\n",
       "    }\n",
       "\n",
       "    .dataframe tbody tr th {\n",
       "        vertical-align: top;\n",
       "    }\n",
       "\n",
       "    .dataframe thead th {\n",
       "        text-align: right;\n",
       "    }\n",
       "</style>\n",
       "<table border=\"1\" class=\"dataframe\">\n",
       "  <thead>\n",
       "    <tr style=\"text-align: right;\">\n",
       "      <th></th>\n",
       "      <th>children</th>\n",
       "      <th>days_employed</th>\n",
       "      <th>dob_years</th>\n",
       "      <th>education_id</th>\n",
       "      <th>family_status_id</th>\n",
       "      <th>gender</th>\n",
       "      <th>income_type</th>\n",
       "      <th>debt</th>\n",
       "      <th>total_income</th>\n",
       "      <th>purpose</th>\n",
       "      <th>total_income_category</th>\n",
       "      <th>purpose_category</th>\n",
       "      <th>salary_cat</th>\n",
       "    </tr>\n",
       "  </thead>\n",
       "  <tbody>\n",
       "    <tr>\n",
       "      <td>0</td>\n",
       "      <td>1</td>\n",
       "      <td>8437.673028</td>\n",
       "      <td>42</td>\n",
       "      <td>0</td>\n",
       "      <td>0</td>\n",
       "      <td>F</td>\n",
       "      <td>сотрудник</td>\n",
       "      <td>0</td>\n",
       "      <td>253875</td>\n",
       "      <td>покупка жилья</td>\n",
       "      <td>B</td>\n",
       "      <td>операции с недвижимостью</td>\n",
       "      <td>зажиточный</td>\n",
       "    </tr>\n",
       "    <tr>\n",
       "      <td>1</td>\n",
       "      <td>1</td>\n",
       "      <td>4024.803754</td>\n",
       "      <td>36</td>\n",
       "      <td>1</td>\n",
       "      <td>0</td>\n",
       "      <td>F</td>\n",
       "      <td>сотрудник</td>\n",
       "      <td>0</td>\n",
       "      <td>112080</td>\n",
       "      <td>приобретение автомобиля</td>\n",
       "      <td>C</td>\n",
       "      <td>операции с автомобилем</td>\n",
       "      <td>средний</td>\n",
       "    </tr>\n",
       "    <tr>\n",
       "      <td>2</td>\n",
       "      <td>0</td>\n",
       "      <td>5623.422610</td>\n",
       "      <td>33</td>\n",
       "      <td>1</td>\n",
       "      <td>0</td>\n",
       "      <td>M</td>\n",
       "      <td>сотрудник</td>\n",
       "      <td>0</td>\n",
       "      <td>145885</td>\n",
       "      <td>покупка жилья</td>\n",
       "      <td>C</td>\n",
       "      <td>операции с недвижимостью</td>\n",
       "      <td>зажиточный</td>\n",
       "    </tr>\n",
       "    <tr>\n",
       "      <td>3</td>\n",
       "      <td>3</td>\n",
       "      <td>4124.747207</td>\n",
       "      <td>32</td>\n",
       "      <td>1</td>\n",
       "      <td>0</td>\n",
       "      <td>M</td>\n",
       "      <td>сотрудник</td>\n",
       "      <td>0</td>\n",
       "      <td>267628</td>\n",
       "      <td>дополнительное образование</td>\n",
       "      <td>B</td>\n",
       "      <td>получение образования</td>\n",
       "      <td>зажиточный</td>\n",
       "    </tr>\n",
       "    <tr>\n",
       "      <td>4</td>\n",
       "      <td>0</td>\n",
       "      <td>340266.072047</td>\n",
       "      <td>53</td>\n",
       "      <td>1</td>\n",
       "      <td>1</td>\n",
       "      <td>F</td>\n",
       "      <td>пенсионер</td>\n",
       "      <td>0</td>\n",
       "      <td>158616</td>\n",
       "      <td>сыграть свадьбу</td>\n",
       "      <td>C</td>\n",
       "      <td>проведение свадьбы</td>\n",
       "      <td>зажиточный</td>\n",
       "    </tr>\n",
       "    <tr>\n",
       "      <td>...</td>\n",
       "      <td>...</td>\n",
       "      <td>...</td>\n",
       "      <td>...</td>\n",
       "      <td>...</td>\n",
       "      <td>...</td>\n",
       "      <td>...</td>\n",
       "      <td>...</td>\n",
       "      <td>...</td>\n",
       "      <td>...</td>\n",
       "      <td>...</td>\n",
       "      <td>...</td>\n",
       "      <td>...</td>\n",
       "      <td>...</td>\n",
       "    </tr>\n",
       "    <tr>\n",
       "      <td>21466</td>\n",
       "      <td>1</td>\n",
       "      <td>4529.316663</td>\n",
       "      <td>43</td>\n",
       "      <td>1</td>\n",
       "      <td>1</td>\n",
       "      <td>F</td>\n",
       "      <td>компаньон</td>\n",
       "      <td>0</td>\n",
       "      <td>224791</td>\n",
       "      <td>операции с жильем</td>\n",
       "      <td>B</td>\n",
       "      <td>операции с недвижимостью</td>\n",
       "      <td>зажиточный</td>\n",
       "    </tr>\n",
       "    <tr>\n",
       "      <td>21467</td>\n",
       "      <td>0</td>\n",
       "      <td>343937.404131</td>\n",
       "      <td>67</td>\n",
       "      <td>1</td>\n",
       "      <td>0</td>\n",
       "      <td>F</td>\n",
       "      <td>пенсионер</td>\n",
       "      <td>0</td>\n",
       "      <td>155999</td>\n",
       "      <td>сделка с автомобилем</td>\n",
       "      <td>C</td>\n",
       "      <td>операции с автомобилем</td>\n",
       "      <td>зажиточный</td>\n",
       "    </tr>\n",
       "    <tr>\n",
       "      <td>21468</td>\n",
       "      <td>1</td>\n",
       "      <td>2113.346888</td>\n",
       "      <td>38</td>\n",
       "      <td>1</td>\n",
       "      <td>1</td>\n",
       "      <td>M</td>\n",
       "      <td>сотрудник</td>\n",
       "      <td>1</td>\n",
       "      <td>89672</td>\n",
       "      <td>недвижимость</td>\n",
       "      <td>C</td>\n",
       "      <td>операции с недвижимостью</td>\n",
       "      <td>средний</td>\n",
       "    </tr>\n",
       "    <tr>\n",
       "      <td>21469</td>\n",
       "      <td>3</td>\n",
       "      <td>3112.481705</td>\n",
       "      <td>38</td>\n",
       "      <td>1</td>\n",
       "      <td>0</td>\n",
       "      <td>M</td>\n",
       "      <td>сотрудник</td>\n",
       "      <td>1</td>\n",
       "      <td>244093</td>\n",
       "      <td>на покупку своего автомобиля</td>\n",
       "      <td>B</td>\n",
       "      <td>операции с автомобилем</td>\n",
       "      <td>зажиточный</td>\n",
       "    </tr>\n",
       "    <tr>\n",
       "      <td>21470</td>\n",
       "      <td>2</td>\n",
       "      <td>1984.507589</td>\n",
       "      <td>40</td>\n",
       "      <td>1</td>\n",
       "      <td>0</td>\n",
       "      <td>F</td>\n",
       "      <td>сотрудник</td>\n",
       "      <td>0</td>\n",
       "      <td>82047</td>\n",
       "      <td>на покупку автомобиля</td>\n",
       "      <td>C</td>\n",
       "      <td>операции с автомобилем</td>\n",
       "      <td>средний</td>\n",
       "    </tr>\n",
       "  </tbody>\n",
       "</table>\n",
       "<p>21369 rows × 13 columns</p>\n",
       "</div>"
      ],
      "text/plain": [
       "       children  days_employed  dob_years  education_id  family_status_id  \\\n",
       "0             1    8437.673028         42             0                 0   \n",
       "1             1    4024.803754         36             1                 0   \n",
       "2             0    5623.422610         33             1                 0   \n",
       "3             3    4124.747207         32             1                 0   \n",
       "4             0  340266.072047         53             1                 1   \n",
       "...         ...            ...        ...           ...               ...   \n",
       "21466         1    4529.316663         43             1                 1   \n",
       "21467         0  343937.404131         67             1                 0   \n",
       "21468         1    2113.346888         38             1                 1   \n",
       "21469         3    3112.481705         38             1                 0   \n",
       "21470         2    1984.507589         40             1                 0   \n",
       "\n",
       "      gender income_type  debt  total_income                       purpose  \\\n",
       "0          F   сотрудник     0        253875                 покупка жилья   \n",
       "1          F   сотрудник     0        112080       приобретение автомобиля   \n",
       "2          M   сотрудник     0        145885                 покупка жилья   \n",
       "3          M   сотрудник     0        267628    дополнительное образование   \n",
       "4          F   пенсионер     0        158616               сыграть свадьбу   \n",
       "...      ...         ...   ...           ...                           ...   \n",
       "21466      F   компаньон     0        224791             операции с жильем   \n",
       "21467      F   пенсионер     0        155999          сделка с автомобилем   \n",
       "21468      M   сотрудник     1         89672                  недвижимость   \n",
       "21469      M   сотрудник     1        244093  на покупку своего автомобиля   \n",
       "21470      F   сотрудник     0         82047         на покупку автомобиля   \n",
       "\n",
       "      total_income_category          purpose_category  salary_cat  \n",
       "0                         B  операции с недвижимостью  зажиточный  \n",
       "1                         C    операции с автомобилем     средний  \n",
       "2                         C  операции с недвижимостью  зажиточный  \n",
       "3                         B     получение образования  зажиточный  \n",
       "4                         C        проведение свадьбы  зажиточный  \n",
       "...                     ...                       ...         ...  \n",
       "21466                     B  операции с недвижимостью  зажиточный  \n",
       "21467                     C    операции с автомобилем  зажиточный  \n",
       "21468                     C  операции с недвижимостью     средний  \n",
       "21469                     B    операции с автомобилем  зажиточный  \n",
       "21470                     C    операции с автомобилем     средний  \n",
       "\n",
       "[21369 rows x 13 columns]"
      ]
     },
     "execution_count": 47,
     "metadata": {},
     "output_type": "execute_result"
    }
   ],
   "source": [
    "data # проверка"
   ]
  },
  {
   "cell_type": "code",
   "execution_count": 48,
   "id": "879b4a48",
   "metadata": {},
   "outputs": [],
   "source": [
    "def relation(category): # создаем функцию, которая будем считать % задолжностей для каждого статуса зарплат\n",
    "    return data.groupby(category)['debt'].mean().to_frame().sort_values(by='debt')"
   ]
  },
  {
   "cell_type": "code",
   "execution_count": 49,
   "id": "1f020ed0",
   "metadata": {},
   "outputs": [
    {
     "data": {
      "text/html": [
       "<div>\n",
       "<style scoped>\n",
       "    .dataframe tbody tr th:only-of-type {\n",
       "        vertical-align: middle;\n",
       "    }\n",
       "\n",
       "    .dataframe tbody tr th {\n",
       "        vertical-align: top;\n",
       "    }\n",
       "\n",
       "    .dataframe thead th {\n",
       "        text-align: right;\n",
       "    }\n",
       "</style>\n",
       "<table border=\"1\" class=\"dataframe\">\n",
       "  <thead>\n",
       "    <tr style=\"text-align: right;\">\n",
       "      <th></th>\n",
       "      <th>debt</th>\n",
       "    </tr>\n",
       "    <tr>\n",
       "      <th>salary_cat</th>\n",
       "      <th></th>\n",
       "    </tr>\n",
       "  </thead>\n",
       "  <tbody>\n",
       "    <tr>\n",
       "      <td>бедный</td>\n",
       "      <td>0.062162</td>\n",
       "    </tr>\n",
       "    <tr>\n",
       "      <td>миллионер</td>\n",
       "      <td>0.080000</td>\n",
       "    </tr>\n",
       "    <tr>\n",
       "      <td>зажиточный</td>\n",
       "      <td>0.081384</td>\n",
       "    </tr>\n",
       "    <tr>\n",
       "      <td>средний</td>\n",
       "      <td>0.081547</td>\n",
       "    </tr>\n",
       "  </tbody>\n",
       "</table>\n",
       "</div>"
      ],
      "text/plain": [
       "                debt\n",
       "salary_cat          \n",
       "бедный      0.062162\n",
       "миллионер   0.080000\n",
       "зажиточный  0.081384\n",
       "средний     0.081547"
      ]
     },
     "execution_count": 49,
     "metadata": {},
     "output_type": "execute_result"
    }
   ],
   "source": [
    "relation('salary_cat') # запускаем нашу функцию"
   ]
  },
  {
   "cell_type": "markdown",
   "id": "82d16818",
   "metadata": {},
   "source": [
    "Удивительно, но заемщики с уровнем дохода < 50000р. менее склонны нарушать обязательства по выплатам кредита."
   ]
  },
  {
   "cell_type": "markdown",
   "id": "2d0fd811",
   "metadata": {},
   "source": [
    "# Вопрос 4. Как разные цели кредита влияют на его возврат в срок?<a id='intro'></a>"
   ]
  },
  {
   "cell_type": "markdown",
   "id": "d655d9a4",
   "metadata": {},
   "source": [
    "В прошлом задании я создал отличную функцию, которая поможет ответить на вопрос и сейчас."
   ]
  },
  {
   "cell_type": "code",
   "execution_count": 50,
   "id": "282c5a91",
   "metadata": {},
   "outputs": [
    {
     "data": {
      "text/html": [
       "<div>\n",
       "<style scoped>\n",
       "    .dataframe tbody tr th:only-of-type {\n",
       "        vertical-align: middle;\n",
       "    }\n",
       "\n",
       "    .dataframe tbody tr th {\n",
       "        vertical-align: top;\n",
       "    }\n",
       "\n",
       "    .dataframe thead th {\n",
       "        text-align: right;\n",
       "    }\n",
       "</style>\n",
       "<table border=\"1\" class=\"dataframe\">\n",
       "  <thead>\n",
       "    <tr style=\"text-align: right;\">\n",
       "      <th></th>\n",
       "      <th>debt</th>\n",
       "    </tr>\n",
       "    <tr>\n",
       "      <th>purpose_category</th>\n",
       "      <th></th>\n",
       "    </tr>\n",
       "  </thead>\n",
       "  <tbody>\n",
       "    <tr>\n",
       "      <td>операции с недвижимостью</td>\n",
       "      <td>0.072357</td>\n",
       "    </tr>\n",
       "    <tr>\n",
       "      <td>проведение свадьбы</td>\n",
       "      <td>0.079276</td>\n",
       "    </tr>\n",
       "    <tr>\n",
       "      <td>получение образования</td>\n",
       "      <td>0.092593</td>\n",
       "    </tr>\n",
       "    <tr>\n",
       "      <td>операции с автомобилем</td>\n",
       "      <td>0.093327</td>\n",
       "    </tr>\n",
       "  </tbody>\n",
       "</table>\n",
       "</div>"
      ],
      "text/plain": [
       "                              debt\n",
       "purpose_category                  \n",
       "операции с недвижимостью  0.072357\n",
       "проведение свадьбы        0.079276\n",
       "получение образования     0.092593\n",
       "операции с автомобилем    0.093327"
      ]
     },
     "execution_count": 50,
     "metadata": {},
     "output_type": "execute_result"
    }
   ],
   "source": [
    "relation('purpose_category')"
   ]
  },
  {
   "cell_type": "markdown",
   "id": "6dd70ef7",
   "metadata": {},
   "source": [
    "Мы видим, что люди, берущие кредиты для операций с недвижимостью более ответственны чем остальные и стараются не нарушать обязательства по выплатам."
   ]
  },
  {
   "cell_type": "markdown",
   "id": "f14abff6",
   "metadata": {},
   "source": [
    "## Общий вывод:"
   ]
  },
  {
   "cell_type": "markdown",
   "id": "8f27f0c8",
   "metadata": {},
   "source": [
    "При подготовке материалов в данные были внесены изменения в целях корректной интерпретации показателей:\n",
    "\n",
    "* Заполнены пропуски и аномальные данные медианными значениями, \n",
    "* Переведены в положительные значения отрицательные аномалии,\n",
    "* Исключены полные и неявные дубликаты.\n",
    "\n",
    "**Зависимость между количеством детей и возвратом кредита в срок.**\n",
    "\n",
    "* Семьи с 5 детьми имеют больше ответственности и как результат отсутствие задолженность,\n",
    "*  Бездетные семьи наиболее широкая группа заемщиков с наименьшей задолженность,\n",
    "* Семьи с 3 детьми более подвержены риску просрочки задолженности,\n",
    "* Наибольшая группа риска просрочки задолженности семьи с 1 и 2 ребенком,\n",
    "* Семьи с 4 детьми самая высокая и самая малочисленная группа риска просрочки задолженности.\n",
    "\n",
    "**Заемщики находящиеся в браке/планирующие брак, с долгосрочным кредитом или кредитом на свадьбу, в не зависимости от уровня дохода - являются лучшими клиентами банка.**\n",
    "\n",
    "**Заемщики вне брака, с кредитом на автомобиль или образование, с 1-2 или 4 детьми - - являются худшими клиентами банка.**"
   ]
  }
 ],
 "metadata": {
  "ExecuteTimeLog": [
   {
    "duration": 394,
    "start_time": "2022-02-16T10:39:33.791Z"
   },
   {
    "duration": 772,
    "start_time": "2022-02-16T10:39:39.815Z"
   },
   {
    "duration": 86,
    "start_time": "2022-02-16T10:39:46.568Z"
   },
   {
    "duration": 28,
    "start_time": "2022-02-16T11:17:04.157Z"
   },
   {
    "duration": 13,
    "start_time": "2022-02-16T11:32:07.026Z"
   },
   {
    "duration": 7,
    "start_time": "2022-02-16T11:40:27.394Z"
   },
   {
    "duration": 36,
    "start_time": "2022-02-16T12:14:35.987Z"
   },
   {
    "duration": 93,
    "start_time": "2022-02-16T12:14:56.330Z"
   },
   {
    "duration": 47,
    "start_time": "2022-02-16T12:15:49.087Z"
   },
   {
    "duration": 13,
    "start_time": "2022-02-16T12:16:16.998Z"
   },
   {
    "duration": 14,
    "start_time": "2022-02-16T12:17:35.897Z"
   },
   {
    "duration": 9,
    "start_time": "2022-02-16T12:18:11.538Z"
   },
   {
    "duration": 12,
    "start_time": "2022-02-16T12:18:16.491Z"
   },
   {
    "duration": 10,
    "start_time": "2022-02-16T12:19:28.786Z"
   },
   {
    "duration": 13,
    "start_time": "2022-02-16T12:19:37.803Z"
   },
   {
    "duration": 724,
    "start_time": "2022-02-16T12:22:38.700Z"
   },
   {
    "duration": 6,
    "start_time": "2022-02-16T12:23:03.686Z"
   },
   {
    "duration": 15,
    "start_time": "2022-02-16T12:23:09.991Z"
   },
   {
    "duration": 9,
    "start_time": "2022-02-16T12:25:17.975Z"
   },
   {
    "duration": 12,
    "start_time": "2022-02-16T12:25:20.164Z"
   },
   {
    "duration": 108,
    "start_time": "2022-02-16T12:46:03.873Z"
   },
   {
    "duration": 102,
    "start_time": "2022-02-16T12:46:06.142Z"
   },
   {
    "duration": 15,
    "start_time": "2022-02-16T12:58:38.439Z"
   },
   {
    "duration": 13,
    "start_time": "2022-02-16T12:58:49.687Z"
   },
   {
    "duration": 14,
    "start_time": "2022-02-16T12:58:55.599Z"
   },
   {
    "duration": 4,
    "start_time": "2022-02-16T13:00:17.428Z"
   },
   {
    "duration": 94,
    "start_time": "2022-02-16T13:00:21.496Z"
   },
   {
    "duration": 12,
    "start_time": "2022-02-16T13:00:27.734Z"
   },
   {
    "duration": 21,
    "start_time": "2022-02-16T13:00:30.530Z"
   },
   {
    "duration": 20,
    "start_time": "2022-02-16T13:05:53.877Z"
   },
   {
    "duration": 4,
    "start_time": "2022-02-16T13:06:01.167Z"
   },
   {
    "duration": 87,
    "start_time": "2022-02-16T13:06:03.317Z"
   },
   {
    "duration": 14,
    "start_time": "2022-02-16T13:06:05.814Z"
   },
   {
    "duration": 21,
    "start_time": "2022-02-16T13:06:08.287Z"
   },
   {
    "duration": 10,
    "start_time": "2022-02-16T13:06:12.027Z"
   },
   {
    "duration": 14,
    "start_time": "2022-02-16T13:06:14.736Z"
   },
   {
    "duration": 13,
    "start_time": "2022-02-16T13:06:20.553Z"
   },
   {
    "duration": 9,
    "start_time": "2022-02-16T13:06:22.787Z"
   },
   {
    "duration": 13,
    "start_time": "2022-02-16T13:06:28.215Z"
   },
   {
    "duration": 15,
    "start_time": "2022-02-16T13:06:33.415Z"
   },
   {
    "duration": 3,
    "start_time": "2022-02-16T13:07:49.763Z"
   },
   {
    "duration": 87,
    "start_time": "2022-02-16T13:07:49.782Z"
   },
   {
    "duration": 14,
    "start_time": "2022-02-16T13:07:49.872Z"
   },
   {
    "duration": 26,
    "start_time": "2022-02-16T13:07:49.888Z"
   },
   {
    "duration": 7,
    "start_time": "2022-02-16T13:07:49.917Z"
   },
   {
    "duration": 46,
    "start_time": "2022-02-16T13:07:49.926Z"
   },
   {
    "duration": 28,
    "start_time": "2022-02-16T13:07:49.975Z"
   },
   {
    "duration": 13,
    "start_time": "2022-02-16T13:07:54.355Z"
   },
   {
    "duration": 8,
    "start_time": "2022-02-16T17:47:16.790Z"
   },
   {
    "duration": 340,
    "start_time": "2022-02-16T17:49:23.510Z"
   },
   {
    "duration": 21,
    "start_time": "2022-02-16T17:49:30.366Z"
   },
   {
    "duration": 359,
    "start_time": "2022-02-17T10:02:57.422Z"
   },
   {
    "duration": 665,
    "start_time": "2022-02-17T10:03:10.236Z"
   },
   {
    "duration": 64,
    "start_time": "2022-02-17T10:03:10.903Z"
   },
   {
    "duration": 9,
    "start_time": "2022-02-17T10:03:10.969Z"
   },
   {
    "duration": 11,
    "start_time": "2022-02-17T10:03:10.979Z"
   },
   {
    "duration": 6,
    "start_time": "2022-02-17T10:03:10.991Z"
   },
   {
    "duration": 7,
    "start_time": "2022-02-17T10:03:10.998Z"
   },
   {
    "duration": 8,
    "start_time": "2022-02-17T10:03:11.007Z"
   },
   {
    "duration": 4,
    "start_time": "2022-02-17T10:03:13.765Z"
   },
   {
    "duration": 3,
    "start_time": "2022-02-17T10:03:19.636Z"
   },
   {
    "duration": 3,
    "start_time": "2022-02-17T10:03:29.633Z"
   },
   {
    "duration": 61,
    "start_time": "2022-02-17T10:03:29.639Z"
   },
   {
    "duration": 8,
    "start_time": "2022-02-17T10:03:29.701Z"
   },
   {
    "duration": 10,
    "start_time": "2022-02-17T10:03:29.711Z"
   },
   {
    "duration": 4,
    "start_time": "2022-02-17T10:03:29.723Z"
   },
   {
    "duration": 20,
    "start_time": "2022-02-17T10:03:29.729Z"
   },
   {
    "duration": 3,
    "start_time": "2022-02-17T10:03:29.750Z"
   },
   {
    "duration": 3,
    "start_time": "2022-02-17T10:09:42.739Z"
   },
   {
    "duration": 3,
    "start_time": "2022-02-17T10:09:45.309Z"
   },
   {
    "duration": 364,
    "start_time": "2022-02-17T10:23:34.360Z"
   },
   {
    "duration": 3,
    "start_time": "2022-02-17T10:23:46.905Z"
   },
   {
    "duration": 325,
    "start_time": "2022-02-17T10:23:48.819Z"
   },
   {
    "duration": 6,
    "start_time": "2022-02-17T10:24:16.818Z"
   },
   {
    "duration": 16,
    "start_time": "2022-02-17T11:01:35.155Z"
   },
   {
    "duration": 13,
    "start_time": "2022-02-17T11:02:12.974Z"
   },
   {
    "duration": 336,
    "start_time": "2022-02-17T11:04:07.861Z"
   },
   {
    "duration": 17,
    "start_time": "2022-02-17T11:08:31.278Z"
   },
   {
    "duration": 14,
    "start_time": "2022-02-17T11:08:41.152Z"
   },
   {
    "duration": 109,
    "start_time": "2022-02-17T11:09:56.941Z"
   },
   {
    "duration": 108,
    "start_time": "2022-02-17T11:10:00.843Z"
   },
   {
    "duration": 330,
    "start_time": "2022-02-17T11:18:16.242Z"
   },
   {
    "duration": 13,
    "start_time": "2022-02-17T11:18:21.330Z"
   },
   {
    "duration": 326,
    "start_time": "2022-02-17T11:18:23.864Z"
   },
   {
    "duration": 337,
    "start_time": "2022-02-17T11:18:36.237Z"
   },
   {
    "duration": 11,
    "start_time": "2022-02-17T11:19:58.528Z"
   },
   {
    "duration": 10,
    "start_time": "2022-02-17T11:20:14.901Z"
   },
   {
    "duration": 17,
    "start_time": "2022-02-17T11:21:01.863Z"
   },
   {
    "duration": 4,
    "start_time": "2022-02-17T11:24:01.546Z"
   },
   {
    "duration": 423,
    "start_time": "2022-02-17T11:29:57.305Z"
   },
   {
    "duration": 361,
    "start_time": "2022-02-17T11:33:15.712Z"
   },
   {
    "duration": 5,
    "start_time": "2022-02-17T11:39:49.766Z"
   },
   {
    "duration": 322,
    "start_time": "2022-02-17T11:43:35.534Z"
   },
   {
    "duration": -584,
    "start_time": "2022-02-17T11:45:07.670Z"
   },
   {
    "duration": 4,
    "start_time": "2022-02-17T11:45:24.322Z"
   },
   {
    "duration": 332,
    "start_time": "2022-02-17T11:46:51.500Z"
   },
   {
    "duration": 6,
    "start_time": "2022-02-17T11:47:23.736Z"
   },
   {
    "duration": 5,
    "start_time": "2022-02-17T11:52:29.303Z"
   },
   {
    "duration": 4,
    "start_time": "2022-02-17T11:53:15.879Z"
   },
   {
    "duration": 5,
    "start_time": "2022-02-17T11:57:11.676Z"
   },
   {
    "duration": 4,
    "start_time": "2022-02-17T11:57:29.320Z"
   },
   {
    "duration": 5,
    "start_time": "2022-02-17T11:57:43.920Z"
   },
   {
    "duration": 4,
    "start_time": "2022-02-17T11:57:47.361Z"
   },
   {
    "duration": 407,
    "start_time": "2022-02-17T12:01:22.007Z"
   },
   {
    "duration": 567,
    "start_time": "2022-02-17T12:01:26.223Z"
   },
   {
    "duration": 347,
    "start_time": "2022-02-17T12:01:55.686Z"
   },
   {
    "duration": 25,
    "start_time": "2022-02-17T12:02:04.042Z"
   },
   {
    "duration": 4,
    "start_time": "2022-02-17T12:02:12.399Z"
   },
   {
    "duration": 13,
    "start_time": "2022-02-17T12:09:12.500Z"
   },
   {
    "duration": 4,
    "start_time": "2022-02-17T12:09:17.007Z"
   },
   {
    "duration": 391,
    "start_time": "2022-02-17T12:18:59.851Z"
   },
   {
    "duration": 518,
    "start_time": "2022-02-17T12:19:46.636Z"
   },
   {
    "duration": 857,
    "start_time": "2022-02-17T12:21:40.270Z"
   },
   {
    "duration": 1872,
    "start_time": "2022-02-17T12:21:52.309Z"
   },
   {
    "duration": 1023,
    "start_time": "2022-02-17T12:22:17.311Z"
   },
   {
    "duration": 3,
    "start_time": "2022-02-17T12:23:19.839Z"
   },
   {
    "duration": 5,
    "start_time": "2022-02-17T12:23:35.789Z"
   },
   {
    "duration": 483,
    "start_time": "2022-02-17T12:29:00.363Z"
   },
   {
    "duration": 372,
    "start_time": "2022-02-17T12:29:12.762Z"
   },
   {
    "duration": 4,
    "start_time": "2022-02-17T12:29:36.598Z"
   },
   {
    "duration": 5,
    "start_time": "2022-02-17T12:29:39.139Z"
   },
   {
    "duration": 3,
    "start_time": "2022-02-17T12:33:46.470Z"
   },
   {
    "duration": 10,
    "start_time": "2022-02-17T12:35:52.572Z"
   },
   {
    "duration": 3,
    "start_time": "2022-02-17T12:35:59.244Z"
   },
   {
    "duration": 69,
    "start_time": "2022-02-17T12:35:59.250Z"
   },
   {
    "duration": 10,
    "start_time": "2022-02-17T12:35:59.322Z"
   },
   {
    "duration": 22,
    "start_time": "2022-02-17T12:35:59.335Z"
   },
   {
    "duration": 6,
    "start_time": "2022-02-17T12:35:59.359Z"
   },
   {
    "duration": 13,
    "start_time": "2022-02-17T12:35:59.366Z"
   },
   {
    "duration": 4,
    "start_time": "2022-02-17T12:35:59.381Z"
   },
   {
    "duration": 6,
    "start_time": "2022-02-17T12:35:59.387Z"
   },
   {
    "duration": 4,
    "start_time": "2022-02-17T12:35:59.396Z"
   },
   {
    "duration": 57,
    "start_time": "2022-02-17T12:35:59.402Z"
   },
   {
    "duration": 19,
    "start_time": "2022-02-17T12:35:59.460Z"
   },
   {
    "duration": 17,
    "start_time": "2022-02-17T12:35:59.480Z"
   },
   {
    "duration": 11,
    "start_time": "2022-02-17T12:35:59.499Z"
   },
   {
    "duration": 34,
    "start_time": "2022-02-17T12:35:59.512Z"
   },
   {
    "duration": 6,
    "start_time": "2022-02-17T12:35:59.548Z"
   },
   {
    "duration": 5,
    "start_time": "2022-02-17T12:35:59.556Z"
   },
   {
    "duration": 5,
    "start_time": "2022-02-17T12:35:59.563Z"
   },
   {
    "duration": 6,
    "start_time": "2022-02-17T12:35:59.570Z"
   },
   {
    "duration": 15,
    "start_time": "2022-02-17T12:35:59.578Z"
   },
   {
    "duration": 4,
    "start_time": "2022-02-17T12:35:59.595Z"
   },
   {
    "duration": 4,
    "start_time": "2022-02-17T12:43:02.346Z"
   },
   {
    "duration": 4,
    "start_time": "2022-02-17T12:43:07.790Z"
   },
   {
    "duration": 4,
    "start_time": "2022-02-17T12:43:36.094Z"
   },
   {
    "duration": 512,
    "start_time": "2022-02-17T12:51:00.056Z"
   },
   {
    "duration": 568,
    "start_time": "2022-02-17T12:51:22.931Z"
   },
   {
    "duration": 863,
    "start_time": "2022-02-17T12:51:35.802Z"
   },
   {
    "duration": 554,
    "start_time": "2022-02-17T12:51:53.912Z"
   },
   {
    "duration": 397,
    "start_time": "2022-02-17T12:52:44.163Z"
   },
   {
    "duration": 496,
    "start_time": "2022-02-17T12:53:50.236Z"
   },
   {
    "duration": 336,
    "start_time": "2022-02-17T13:11:14.526Z"
   },
   {
    "duration": 487,
    "start_time": "2022-02-17T13:21:03.514Z"
   },
   {
    "duration": 10,
    "start_time": "2022-02-17T13:21:19.636Z"
   },
   {
    "duration": 4,
    "start_time": "2022-02-17T13:21:25.021Z"
   },
   {
    "duration": 4,
    "start_time": "2022-02-17T13:21:31.829Z"
   },
   {
    "duration": 7,
    "start_time": "2022-02-17T13:22:13.456Z"
   },
   {
    "duration": 4,
    "start_time": "2022-02-17T13:22:15.480Z"
   },
   {
    "duration": 3,
    "start_time": "2022-02-17T13:22:22.876Z"
   },
   {
    "duration": 71,
    "start_time": "2022-02-17T13:22:22.880Z"
   },
   {
    "duration": 8,
    "start_time": "2022-02-17T13:22:22.953Z"
   },
   {
    "duration": 15,
    "start_time": "2022-02-17T13:22:22.963Z"
   },
   {
    "duration": 6,
    "start_time": "2022-02-17T13:22:22.979Z"
   },
   {
    "duration": 8,
    "start_time": "2022-02-17T13:22:22.986Z"
   },
   {
    "duration": 11,
    "start_time": "2022-02-17T13:22:22.995Z"
   },
   {
    "duration": 5,
    "start_time": "2022-02-17T13:22:23.008Z"
   },
   {
    "duration": 6,
    "start_time": "2022-02-17T13:22:23.015Z"
   },
   {
    "duration": 33,
    "start_time": "2022-02-17T13:22:23.022Z"
   },
   {
    "duration": 15,
    "start_time": "2022-02-17T13:22:23.057Z"
   },
   {
    "duration": 14,
    "start_time": "2022-02-17T13:22:23.073Z"
   },
   {
    "duration": 10,
    "start_time": "2022-02-17T13:22:23.088Z"
   },
   {
    "duration": 12,
    "start_time": "2022-02-17T13:22:23.100Z"
   },
   {
    "duration": 6,
    "start_time": "2022-02-17T13:22:23.113Z"
   },
   {
    "duration": 26,
    "start_time": "2022-02-17T13:22:23.121Z"
   },
   {
    "duration": 3,
    "start_time": "2022-02-17T13:22:23.148Z"
   },
   {
    "duration": 10,
    "start_time": "2022-02-17T13:22:23.152Z"
   },
   {
    "duration": 8,
    "start_time": "2022-02-17T13:22:23.164Z"
   },
   {
    "duration": 6,
    "start_time": "2022-02-17T13:22:23.174Z"
   },
   {
    "duration": 9,
    "start_time": "2022-02-17T13:22:23.181Z"
   },
   {
    "duration": 4,
    "start_time": "2022-02-17T13:22:23.191Z"
   },
   {
    "duration": 327,
    "start_time": "2022-02-17T13:25:24.024Z"
   },
   {
    "duration": 5,
    "start_time": "2022-02-17T13:25:38.452Z"
   },
   {
    "duration": 4,
    "start_time": "2022-02-17T13:25:41.494Z"
   },
   {
    "duration": 4,
    "start_time": "2022-02-17T14:04:29.162Z"
   },
   {
    "duration": 7,
    "start_time": "2022-02-17T14:05:23.611Z"
   },
   {
    "duration": 4,
    "start_time": "2022-02-17T14:05:33.635Z"
   },
   {
    "duration": 5,
    "start_time": "2022-02-17T14:06:12.587Z"
   },
   {
    "duration": 5,
    "start_time": "2022-02-17T14:06:54.480Z"
   },
   {
    "duration": 413,
    "start_time": "2022-02-17T14:09:19.815Z"
   },
   {
    "duration": 353,
    "start_time": "2022-02-17T14:09:37.419Z"
   },
   {
    "duration": 7,
    "start_time": "2022-02-17T14:09:44.658Z"
   },
   {
    "duration": 7,
    "start_time": "2022-02-17T14:09:56.406Z"
   },
   {
    "duration": 7,
    "start_time": "2022-02-17T14:10:34.201Z"
   },
   {
    "duration": 479,
    "start_time": "2022-02-17T14:11:48.989Z"
   },
   {
    "duration": 7,
    "start_time": "2022-02-17T14:11:57.598Z"
   },
   {
    "duration": 4,
    "start_time": "2022-02-17T14:12:41.098Z"
   },
   {
    "duration": 373,
    "start_time": "2022-02-17T14:12:58.054Z"
   },
   {
    "duration": 4,
    "start_time": "2022-02-17T14:13:04.958Z"
   },
   {
    "duration": 349,
    "start_time": "2022-02-17T14:13:06.358Z"
   },
   {
    "duration": 5,
    "start_time": "2022-02-17T14:13:28.855Z"
   },
   {
    "duration": 6,
    "start_time": "2022-02-17T14:14:53.357Z"
   },
   {
    "duration": 408,
    "start_time": "2022-02-17T14:14:55.667Z"
   },
   {
    "duration": 336,
    "start_time": "2022-02-17T14:15:26.936Z"
   },
   {
    "duration": 352,
    "start_time": "2022-02-17T14:15:33.980Z"
   },
   {
    "duration": 550,
    "start_time": "2022-02-17T14:16:21.309Z"
   },
   {
    "duration": 344,
    "start_time": "2022-02-17T14:16:31.284Z"
   },
   {
    "duration": 3,
    "start_time": "2022-02-17T14:16:36.078Z"
   },
   {
    "duration": 61,
    "start_time": "2022-02-17T14:16:36.083Z"
   },
   {
    "duration": 8,
    "start_time": "2022-02-17T14:16:36.146Z"
   },
   {
    "duration": 11,
    "start_time": "2022-02-17T14:16:36.155Z"
   },
   {
    "duration": 5,
    "start_time": "2022-02-17T14:16:36.168Z"
   },
   {
    "duration": 17,
    "start_time": "2022-02-17T14:16:36.175Z"
   },
   {
    "duration": 4,
    "start_time": "2022-02-17T14:16:36.194Z"
   },
   {
    "duration": 15,
    "start_time": "2022-02-17T14:16:36.199Z"
   },
   {
    "duration": 9,
    "start_time": "2022-02-17T14:16:36.215Z"
   },
   {
    "duration": 23,
    "start_time": "2022-02-17T14:16:36.226Z"
   },
   {
    "duration": 17,
    "start_time": "2022-02-17T14:16:36.251Z"
   },
   {
    "duration": 14,
    "start_time": "2022-02-17T14:16:36.270Z"
   },
   {
    "duration": 10,
    "start_time": "2022-02-17T14:16:36.286Z"
   },
   {
    "duration": 5,
    "start_time": "2022-02-17T14:16:36.298Z"
   },
   {
    "duration": 6,
    "start_time": "2022-02-17T14:16:36.305Z"
   },
   {
    "duration": 36,
    "start_time": "2022-02-17T14:16:36.312Z"
   },
   {
    "duration": 3,
    "start_time": "2022-02-17T14:16:36.350Z"
   },
   {
    "duration": 6,
    "start_time": "2022-02-17T14:16:36.355Z"
   },
   {
    "duration": 7,
    "start_time": "2022-02-17T14:16:36.362Z"
   },
   {
    "duration": 7,
    "start_time": "2022-02-17T14:16:36.370Z"
   },
   {
    "duration": 6,
    "start_time": "2022-02-17T14:16:36.379Z"
   },
   {
    "duration": 8,
    "start_time": "2022-02-17T14:16:36.386Z"
   },
   {
    "duration": 5,
    "start_time": "2022-02-17T14:16:36.395Z"
   },
   {
    "duration": 10,
    "start_time": "2022-02-17T14:16:36.401Z"
   },
   {
    "duration": 35,
    "start_time": "2022-02-17T14:16:36.413Z"
   },
   {
    "duration": 6,
    "start_time": "2022-02-17T14:16:36.450Z"
   },
   {
    "duration": 4,
    "start_time": "2022-02-17T14:17:16.323Z"
   },
   {
    "duration": 4,
    "start_time": "2022-02-17T14:17:44.890Z"
   },
   {
    "duration": 5,
    "start_time": "2022-02-17T14:18:53.672Z"
   },
   {
    "duration": 379,
    "start_time": "2022-02-17T14:27:06.095Z"
   },
   {
    "duration": 383,
    "start_time": "2022-02-17T14:39:55.862Z"
   },
   {
    "duration": 1422,
    "start_time": "2022-02-17T14:40:27.980Z"
   },
   {
    "duration": 83,
    "start_time": "2022-02-17T14:40:29.404Z"
   },
   {
    "duration": 9,
    "start_time": "2022-02-17T14:40:29.489Z"
   },
   {
    "duration": 12,
    "start_time": "2022-02-17T14:40:29.499Z"
   },
   {
    "duration": 5,
    "start_time": "2022-02-17T14:40:29.513Z"
   },
   {
    "duration": 8,
    "start_time": "2022-02-17T14:40:29.520Z"
   },
   {
    "duration": 18,
    "start_time": "2022-02-17T14:40:29.529Z"
   },
   {
    "duration": 5,
    "start_time": "2022-02-17T14:40:29.549Z"
   },
   {
    "duration": 6,
    "start_time": "2022-02-17T14:40:29.556Z"
   },
   {
    "duration": 16,
    "start_time": "2022-02-17T14:40:29.563Z"
   },
   {
    "duration": 16,
    "start_time": "2022-02-17T14:40:29.581Z"
   },
   {
    "duration": 13,
    "start_time": "2022-02-17T14:40:29.598Z"
   },
   {
    "duration": 39,
    "start_time": "2022-02-17T14:40:29.613Z"
   },
   {
    "duration": 7,
    "start_time": "2022-02-17T14:40:29.653Z"
   },
   {
    "duration": 5,
    "start_time": "2022-02-17T14:40:29.662Z"
   },
   {
    "duration": 4,
    "start_time": "2022-02-17T14:40:29.669Z"
   },
   {
    "duration": 5,
    "start_time": "2022-02-17T14:40:29.674Z"
   },
   {
    "duration": 8,
    "start_time": "2022-02-17T14:40:29.681Z"
   },
   {
    "duration": 5,
    "start_time": "2022-02-17T14:40:29.690Z"
   },
   {
    "duration": 4,
    "start_time": "2022-02-17T14:40:29.697Z"
   },
   {
    "duration": 5,
    "start_time": "2022-02-17T14:40:29.702Z"
   },
   {
    "duration": 3,
    "start_time": "2022-02-17T14:40:29.709Z"
   },
   {
    "duration": 34,
    "start_time": "2022-02-17T14:40:29.715Z"
   },
   {
    "duration": 3,
    "start_time": "2022-02-17T14:40:29.751Z"
   },
   {
    "duration": 5,
    "start_time": "2022-02-17T14:40:29.756Z"
   },
   {
    "duration": 5,
    "start_time": "2022-02-17T14:40:29.763Z"
   },
   {
    "duration": 9,
    "start_time": "2022-02-17T14:40:29.770Z"
   },
   {
    "duration": 7,
    "start_time": "2022-02-17T14:40:29.780Z"
   },
   {
    "duration": 6,
    "start_time": "2022-02-17T14:40:29.788Z"
   },
   {
    "duration": 6,
    "start_time": "2022-02-17T14:40:29.796Z"
   },
   {
    "duration": 6,
    "start_time": "2022-02-17T14:40:36.349Z"
   },
   {
    "duration": 5,
    "start_time": "2022-02-17T14:40:52.012Z"
   },
   {
    "duration": 9,
    "start_time": "2022-02-17T14:42:11.470Z"
   },
   {
    "duration": 2385,
    "start_time": "2022-02-17T14:42:22.627Z"
   },
   {
    "duration": 11,
    "start_time": "2022-02-17T14:42:46.737Z"
   },
   {
    "duration": 6,
    "start_time": "2022-02-17T14:42:53.485Z"
   },
   {
    "duration": 9,
    "start_time": "2022-02-17T14:47:08.585Z"
   },
   {
    "duration": 5,
    "start_time": "2022-02-17T14:47:12.029Z"
   },
   {
    "duration": 13,
    "start_time": "2022-02-17T14:47:59.747Z"
   },
   {
    "duration": 5,
    "start_time": "2022-02-17T14:48:03.930Z"
   },
   {
    "duration": 19,
    "start_time": "2022-02-17T14:50:12.819Z"
   },
   {
    "duration": 6,
    "start_time": "2022-02-17T14:50:14.258Z"
   },
   {
    "duration": 21,
    "start_time": "2022-02-17T14:51:51.710Z"
   },
   {
    "duration": 5,
    "start_time": "2022-02-17T14:51:52.726Z"
   },
   {
    "duration": 127,
    "start_time": "2022-02-17T14:56:13.800Z"
   },
   {
    "duration": 40,
    "start_time": "2022-02-17T14:56:20.299Z"
   },
   {
    "duration": 6,
    "start_time": "2022-02-17T14:56:22.326Z"
   },
   {
    "duration": 182,
    "start_time": "2022-02-17T15:00:29.800Z"
   },
   {
    "duration": 67,
    "start_time": "2022-02-17T15:00:41.241Z"
   },
   {
    "duration": 5,
    "start_time": "2022-02-17T15:00:44.029Z"
   },
   {
    "duration": 75,
    "start_time": "2022-02-17T15:02:15.278Z"
   },
   {
    "duration": 6,
    "start_time": "2022-02-17T15:02:17.085Z"
   },
   {
    "duration": 94,
    "start_time": "2022-02-17T15:05:18.255Z"
   },
   {
    "duration": 5,
    "start_time": "2022-02-17T15:05:19.879Z"
   },
   {
    "duration": 99,
    "start_time": "2022-02-17T15:07:19.904Z"
   },
   {
    "duration": 5,
    "start_time": "2022-02-17T15:07:21.490Z"
   },
   {
    "duration": 95,
    "start_time": "2022-02-17T15:09:02.377Z"
   },
   {
    "duration": 5,
    "start_time": "2022-02-17T15:10:57.406Z"
   },
   {
    "duration": 11,
    "start_time": "2022-02-17T15:13:16.687Z"
   },
   {
    "duration": 5,
    "start_time": "2022-02-17T15:13:27.532Z"
   },
   {
    "duration": 12,
    "start_time": "2022-02-17T15:13:44.538Z"
   },
   {
    "duration": 386,
    "start_time": "2022-02-17T15:14:29.924Z"
   },
   {
    "duration": 7,
    "start_time": "2022-02-17T15:14:43.044Z"
   },
   {
    "duration": 436,
    "start_time": "2022-02-17T15:14:57.901Z"
   },
   {
    "duration": 121,
    "start_time": "2022-02-17T15:15:23.766Z"
   },
   {
    "duration": 127,
    "start_time": "2022-02-17T15:15:37.214Z"
   },
   {
    "duration": 8,
    "start_time": "2022-02-17T15:15:44.991Z"
   },
   {
    "duration": 7,
    "start_time": "2022-02-17T15:15:49.287Z"
   },
   {
    "duration": 145,
    "start_time": "2022-02-17T15:16:15.085Z"
   },
   {
    "duration": 22,
    "start_time": "2022-02-17T15:16:24.752Z"
   },
   {
    "duration": 12,
    "start_time": "2022-02-17T15:17:32.048Z"
   },
   {
    "duration": 7,
    "start_time": "2022-02-17T15:17:55.094Z"
   },
   {
    "duration": 6,
    "start_time": "2022-02-17T15:18:16.017Z"
   },
   {
    "duration": 348,
    "start_time": "2022-02-17T15:18:31.051Z"
   },
   {
    "duration": 5,
    "start_time": "2022-02-17T15:18:42.797Z"
   },
   {
    "duration": 5,
    "start_time": "2022-02-17T15:18:53.314Z"
   },
   {
    "duration": 5,
    "start_time": "2022-02-17T15:19:23.378Z"
   },
   {
    "duration": 2,
    "start_time": "2022-02-17T15:19:29.728Z"
   },
   {
    "duration": 62,
    "start_time": "2022-02-17T15:19:29.731Z"
   },
   {
    "duration": 8,
    "start_time": "2022-02-17T15:19:29.794Z"
   },
   {
    "duration": 10,
    "start_time": "2022-02-17T15:19:29.804Z"
   },
   {
    "duration": 5,
    "start_time": "2022-02-17T15:19:29.815Z"
   },
   {
    "duration": 7,
    "start_time": "2022-02-17T15:19:29.845Z"
   },
   {
    "duration": 2,
    "start_time": "2022-02-17T15:19:29.854Z"
   },
   {
    "duration": 6,
    "start_time": "2022-02-17T15:19:29.858Z"
   },
   {
    "duration": 3,
    "start_time": "2022-02-17T15:19:29.867Z"
   },
   {
    "duration": 15,
    "start_time": "2022-02-17T15:19:29.872Z"
   },
   {
    "duration": 14,
    "start_time": "2022-02-17T15:19:29.888Z"
   },
   {
    "duration": 42,
    "start_time": "2022-02-17T15:19:29.904Z"
   },
   {
    "duration": 9,
    "start_time": "2022-02-17T15:19:29.948Z"
   },
   {
    "duration": 6,
    "start_time": "2022-02-17T15:19:29.958Z"
   },
   {
    "duration": 6,
    "start_time": "2022-02-17T15:19:29.966Z"
   },
   {
    "duration": 5,
    "start_time": "2022-02-17T15:19:29.973Z"
   },
   {
    "duration": 4,
    "start_time": "2022-02-17T15:19:29.979Z"
   },
   {
    "duration": 5,
    "start_time": "2022-02-17T15:19:29.984Z"
   },
   {
    "duration": 6,
    "start_time": "2022-02-17T15:19:29.990Z"
   },
   {
    "duration": 3,
    "start_time": "2022-02-17T15:19:29.997Z"
   },
   {
    "duration": 8,
    "start_time": "2022-02-17T15:19:30.002Z"
   },
   {
    "duration": 4,
    "start_time": "2022-02-17T15:19:30.046Z"
   },
   {
    "duration": 8,
    "start_time": "2022-02-17T15:19:30.052Z"
   },
   {
    "duration": 5,
    "start_time": "2022-02-17T15:19:30.061Z"
   },
   {
    "duration": 6,
    "start_time": "2022-02-17T15:19:30.067Z"
   },
   {
    "duration": 5,
    "start_time": "2022-02-17T15:19:30.075Z"
   },
   {
    "duration": 5,
    "start_time": "2022-02-17T15:19:30.083Z"
   },
   {
    "duration": 4,
    "start_time": "2022-02-17T15:19:30.090Z"
   },
   {
    "duration": 6,
    "start_time": "2022-02-17T15:19:30.095Z"
   },
   {
    "duration": 8,
    "start_time": "2022-02-17T15:19:30.102Z"
   },
   {
    "duration": 100,
    "start_time": "2022-02-17T15:19:30.146Z"
   },
   {
    "duration": 5,
    "start_time": "2022-02-17T15:19:30.248Z"
   },
   {
    "duration": 7,
    "start_time": "2022-02-17T15:20:44.241Z"
   },
   {
    "duration": 4,
    "start_time": "2022-02-17T15:20:54.474Z"
   },
   {
    "duration": 5,
    "start_time": "2022-02-17T15:21:14.441Z"
   },
   {
    "duration": 301,
    "start_time": "2022-02-18T13:54:03.782Z"
   },
   {
    "duration": 606,
    "start_time": "2022-02-18T13:54:07.807Z"
   },
   {
    "duration": 91,
    "start_time": "2022-02-18T13:54:08.415Z"
   },
   {
    "duration": 10,
    "start_time": "2022-02-18T13:54:08.508Z"
   },
   {
    "duration": 15,
    "start_time": "2022-02-18T13:54:08.520Z"
   },
   {
    "duration": 6,
    "start_time": "2022-02-18T13:54:08.536Z"
   },
   {
    "duration": 32,
    "start_time": "2022-02-18T13:54:08.544Z"
   },
   {
    "duration": 4,
    "start_time": "2022-02-18T13:54:08.578Z"
   },
   {
    "duration": 8,
    "start_time": "2022-02-18T13:54:08.584Z"
   },
   {
    "duration": 4,
    "start_time": "2022-02-18T13:54:08.595Z"
   },
   {
    "duration": 21,
    "start_time": "2022-02-18T13:54:08.601Z"
   },
   {
    "duration": 50,
    "start_time": "2022-02-18T13:54:08.624Z"
   },
   {
    "duration": 16,
    "start_time": "2022-02-18T13:54:08.676Z"
   },
   {
    "duration": 14,
    "start_time": "2022-02-18T13:54:08.694Z"
   },
   {
    "duration": 10,
    "start_time": "2022-02-18T13:54:08.710Z"
   },
   {
    "duration": 7,
    "start_time": "2022-02-18T13:54:08.722Z"
   },
   {
    "duration": 10,
    "start_time": "2022-02-18T13:54:08.731Z"
   },
   {
    "duration": 30,
    "start_time": "2022-02-18T13:54:08.742Z"
   },
   {
    "duration": 8,
    "start_time": "2022-02-18T13:54:08.774Z"
   },
   {
    "duration": 8,
    "start_time": "2022-02-18T13:54:08.783Z"
   },
   {
    "duration": 8,
    "start_time": "2022-02-18T13:54:08.793Z"
   },
   {
    "duration": 6,
    "start_time": "2022-02-18T13:54:08.802Z"
   },
   {
    "duration": 4,
    "start_time": "2022-02-18T13:54:08.810Z"
   },
   {
    "duration": 5,
    "start_time": "2022-02-18T13:54:08.817Z"
   },
   {
    "duration": 6,
    "start_time": "2022-02-18T13:54:08.823Z"
   },
   {
    "duration": 40,
    "start_time": "2022-02-18T13:54:08.830Z"
   },
   {
    "duration": 8,
    "start_time": "2022-02-18T13:54:08.872Z"
   },
   {
    "duration": 8,
    "start_time": "2022-02-18T13:54:08.882Z"
   },
   {
    "duration": 5,
    "start_time": "2022-02-18T13:54:08.892Z"
   },
   {
    "duration": 7,
    "start_time": "2022-02-18T13:54:08.899Z"
   },
   {
    "duration": 7,
    "start_time": "2022-02-18T13:54:08.907Z"
   },
   {
    "duration": 7,
    "start_time": "2022-02-18T13:54:08.916Z"
   },
   {
    "duration": 158,
    "start_time": "2022-02-18T13:54:08.924Z"
   },
   {
    "duration": 5,
    "start_time": "2022-02-18T13:54:09.084Z"
   },
   {
    "duration": 7,
    "start_time": "2022-02-18T13:54:09.091Z"
   },
   {
    "duration": 6,
    "start_time": "2022-02-18T13:54:11.788Z"
   },
   {
    "duration": 10,
    "start_time": "2022-02-18T13:56:07.271Z"
   },
   {
    "duration": 9,
    "start_time": "2022-02-18T13:56:26.009Z"
   },
   {
    "duration": 300,
    "start_time": "2022-02-18T13:59:30.713Z"
   },
   {
    "duration": 303,
    "start_time": "2022-02-18T14:00:47.128Z"
   },
   {
    "duration": 5,
    "start_time": "2022-02-18T14:02:36.336Z"
   },
   {
    "duration": 6,
    "start_time": "2022-02-18T14:02:45.410Z"
   },
   {
    "duration": 3617,
    "start_time": "2022-02-18T14:03:11.595Z"
   },
   {
    "duration": -308,
    "start_time": "2022-02-18T14:03:15.522Z"
   },
   {
    "duration": 6,
    "start_time": "2022-02-18T14:03:16.091Z"
   },
   {
    "duration": 3,
    "start_time": "2022-02-18T14:03:20.447Z"
   },
   {
    "duration": 78,
    "start_time": "2022-02-18T14:03:20.466Z"
   },
   {
    "duration": 25,
    "start_time": "2022-02-18T14:03:20.546Z"
   },
   {
    "duration": 15,
    "start_time": "2022-02-18T14:03:20.573Z"
   },
   {
    "duration": 7,
    "start_time": "2022-02-18T14:03:20.590Z"
   },
   {
    "duration": 14,
    "start_time": "2022-02-18T14:03:20.599Z"
   },
   {
    "duration": 5,
    "start_time": "2022-02-18T14:03:20.615Z"
   },
   {
    "duration": 7,
    "start_time": "2022-02-18T14:03:20.622Z"
   },
   {
    "duration": 6,
    "start_time": "2022-02-18T14:03:20.630Z"
   },
   {
    "duration": 17,
    "start_time": "2022-02-18T14:03:20.670Z"
   },
   {
    "duration": 20,
    "start_time": "2022-02-18T14:03:20.689Z"
   },
   {
    "duration": 17,
    "start_time": "2022-02-18T14:03:20.711Z"
   },
   {
    "duration": 12,
    "start_time": "2022-02-18T14:03:20.730Z"
   },
   {
    "duration": 5,
    "start_time": "2022-02-18T14:03:20.770Z"
   },
   {
    "duration": 17,
    "start_time": "2022-02-18T14:03:20.776Z"
   },
   {
    "duration": 10,
    "start_time": "2022-02-18T14:03:20.794Z"
   },
   {
    "duration": 9,
    "start_time": "2022-02-18T14:03:20.806Z"
   },
   {
    "duration": 18,
    "start_time": "2022-02-18T14:03:20.817Z"
   },
   {
    "duration": 8,
    "start_time": "2022-02-18T14:03:20.837Z"
   },
   {
    "duration": 5,
    "start_time": "2022-02-18T14:03:20.847Z"
   },
   {
    "duration": 5,
    "start_time": "2022-02-18T14:03:20.870Z"
   },
   {
    "duration": 12,
    "start_time": "2022-02-18T14:03:20.877Z"
   },
   {
    "duration": 8,
    "start_time": "2022-02-18T14:03:20.891Z"
   },
   {
    "duration": 7,
    "start_time": "2022-02-18T14:03:20.901Z"
   },
   {
    "duration": 9,
    "start_time": "2022-02-18T14:03:20.910Z"
   },
   {
    "duration": 11,
    "start_time": "2022-02-18T14:03:20.921Z"
   },
   {
    "duration": 36,
    "start_time": "2022-02-18T14:03:20.934Z"
   },
   {
    "duration": 5,
    "start_time": "2022-02-18T14:03:20.975Z"
   },
   {
    "duration": 6,
    "start_time": "2022-02-18T14:03:20.982Z"
   },
   {
    "duration": 9,
    "start_time": "2022-02-18T14:03:20.990Z"
   },
   {
    "duration": 19,
    "start_time": "2022-02-18T14:03:21.001Z"
   },
   {
    "duration": 149,
    "start_time": "2022-02-18T14:03:21.022Z"
   },
   {
    "duration": 7,
    "start_time": "2022-02-18T14:03:21.172Z"
   },
   {
    "duration": 20,
    "start_time": "2022-02-18T14:03:21.181Z"
   },
   {
    "duration": 14,
    "start_time": "2022-02-18T14:03:21.203Z"
   },
   {
    "duration": 27,
    "start_time": "2022-02-18T14:03:21.219Z"
   },
   {
    "duration": 4,
    "start_time": "2022-02-18T14:04:43.454Z"
   },
   {
    "duration": 19,
    "start_time": "2022-02-18T14:04:45.905Z"
   },
   {
    "duration": 6644,
    "start_time": "2022-02-18T14:05:15.717Z"
   },
   {
    "duration": -298,
    "start_time": "2022-02-18T14:05:22.662Z"
   },
   {
    "duration": 6581,
    "start_time": "2022-02-18T14:05:32.729Z"
   },
   {
    "duration": -367,
    "start_time": "2022-02-18T14:05:39.679Z"
   },
   {
    "duration": 3,
    "start_time": "2022-02-18T14:05:39.677Z"
   },
   {
    "duration": 73,
    "start_time": "2022-02-18T14:05:39.682Z"
   },
   {
    "duration": 13,
    "start_time": "2022-02-18T14:05:39.757Z"
   },
   {
    "duration": 15,
    "start_time": "2022-02-18T14:05:39.772Z"
   },
   {
    "duration": 6,
    "start_time": "2022-02-18T14:05:39.788Z"
   },
   {
    "duration": 9,
    "start_time": "2022-02-18T14:05:39.796Z"
   },
   {
    "duration": 5,
    "start_time": "2022-02-18T14:05:39.807Z"
   },
   {
    "duration": 11,
    "start_time": "2022-02-18T14:05:39.814Z"
   },
   {
    "duration": 6,
    "start_time": "2022-02-18T14:05:39.827Z"
   },
   {
    "duration": 17,
    "start_time": "2022-02-18T14:05:39.870Z"
   },
   {
    "duration": 19,
    "start_time": "2022-02-18T14:05:39.889Z"
   },
   {
    "duration": 16,
    "start_time": "2022-02-18T14:05:39.910Z"
   },
   {
    "duration": 41,
    "start_time": "2022-02-18T14:05:39.928Z"
   },
   {
    "duration": 5,
    "start_time": "2022-02-18T14:05:39.971Z"
   },
   {
    "duration": 7,
    "start_time": "2022-02-18T14:05:39.978Z"
   },
   {
    "duration": 7,
    "start_time": "2022-02-18T14:05:39.987Z"
   },
   {
    "duration": 6,
    "start_time": "2022-02-18T14:05:39.995Z"
   },
   {
    "duration": 17,
    "start_time": "2022-02-18T14:05:40.003Z"
   },
   {
    "duration": 11,
    "start_time": "2022-02-18T14:05:40.021Z"
   },
   {
    "duration": 12,
    "start_time": "2022-02-18T14:05:40.034Z"
   },
   {
    "duration": 21,
    "start_time": "2022-02-18T14:05:40.048Z"
   },
   {
    "duration": 5,
    "start_time": "2022-02-18T14:05:40.071Z"
   },
   {
    "duration": 9,
    "start_time": "2022-02-18T14:05:40.078Z"
   },
   {
    "duration": 17,
    "start_time": "2022-02-18T14:05:40.089Z"
   },
   {
    "duration": 22,
    "start_time": "2022-02-18T14:05:40.108Z"
   },
   {
    "duration": 13,
    "start_time": "2022-02-18T14:05:40.132Z"
   },
   {
    "duration": 17,
    "start_time": "2022-02-18T14:05:40.148Z"
   },
   {
    "duration": 9,
    "start_time": "2022-02-18T14:05:40.167Z"
   },
   {
    "duration": 8,
    "start_time": "2022-02-18T14:05:40.178Z"
   },
   {
    "duration": 6,
    "start_time": "2022-02-18T14:05:40.187Z"
   },
   {
    "duration": 6,
    "start_time": "2022-02-18T14:05:40.195Z"
   },
   {
    "duration": 133,
    "start_time": "2022-02-18T14:05:40.202Z"
   },
   {
    "duration": 5,
    "start_time": "2022-02-18T14:05:40.336Z"
   },
   {
    "duration": 6,
    "start_time": "2022-02-18T14:05:40.343Z"
   },
   {
    "duration": 18,
    "start_time": "2022-02-18T14:05:40.351Z"
   },
   {
    "duration": 17,
    "start_time": "2022-02-18T14:05:40.371Z"
   },
   {
    "duration": 3,
    "start_time": "2022-02-18T14:33:25.270Z"
   },
   {
    "duration": 76,
    "start_time": "2022-02-18T14:33:25.275Z"
   },
   {
    "duration": 20,
    "start_time": "2022-02-18T14:33:25.354Z"
   },
   {
    "duration": 16,
    "start_time": "2022-02-18T14:33:25.376Z"
   },
   {
    "duration": 6,
    "start_time": "2022-02-18T14:33:25.393Z"
   },
   {
    "duration": 13,
    "start_time": "2022-02-18T14:33:25.401Z"
   },
   {
    "duration": 4,
    "start_time": "2022-02-18T14:33:25.416Z"
   },
   {
    "duration": 17,
    "start_time": "2022-02-18T14:33:25.422Z"
   },
   {
    "duration": 30,
    "start_time": "2022-02-18T14:33:25.443Z"
   },
   {
    "duration": 23,
    "start_time": "2022-02-18T14:33:25.475Z"
   },
   {
    "duration": 22,
    "start_time": "2022-02-18T14:33:25.500Z"
   },
   {
    "duration": 20,
    "start_time": "2022-02-18T14:33:25.524Z"
   },
   {
    "duration": 14,
    "start_time": "2022-02-18T14:33:25.568Z"
   },
   {
    "duration": 10,
    "start_time": "2022-02-18T14:33:25.584Z"
   },
   {
    "duration": 10,
    "start_time": "2022-02-18T14:33:25.596Z"
   },
   {
    "duration": 4,
    "start_time": "2022-02-18T14:33:25.608Z"
   },
   {
    "duration": 5,
    "start_time": "2022-02-18T14:33:25.614Z"
   },
   {
    "duration": 7,
    "start_time": "2022-02-18T14:33:25.621Z"
   },
   {
    "duration": 9,
    "start_time": "2022-02-18T14:33:25.630Z"
   },
   {
    "duration": 31,
    "start_time": "2022-02-18T14:33:25.641Z"
   },
   {
    "duration": 6,
    "start_time": "2022-02-18T14:33:25.674Z"
   },
   {
    "duration": 5,
    "start_time": "2022-02-18T14:33:25.682Z"
   },
   {
    "duration": 20,
    "start_time": "2022-02-18T14:33:25.689Z"
   },
   {
    "duration": 6,
    "start_time": "2022-02-18T14:33:25.712Z"
   },
   {
    "duration": 6,
    "start_time": "2022-02-18T14:33:25.720Z"
   },
   {
    "duration": 41,
    "start_time": "2022-02-18T14:33:25.728Z"
   },
   {
    "duration": 6,
    "start_time": "2022-02-18T14:33:25.773Z"
   },
   {
    "duration": 12,
    "start_time": "2022-02-18T14:33:25.781Z"
   },
   {
    "duration": 14,
    "start_time": "2022-02-18T14:33:25.795Z"
   },
   {
    "duration": 6,
    "start_time": "2022-02-18T14:33:25.811Z"
   },
   {
    "duration": 6,
    "start_time": "2022-02-18T14:33:25.819Z"
   },
   {
    "duration": 7,
    "start_time": "2022-02-18T14:33:25.826Z"
   },
   {
    "duration": 34,
    "start_time": "2022-02-18T14:33:25.835Z"
   },
   {
    "duration": 19,
    "start_time": "2022-02-18T14:33:25.871Z"
   },
   {
    "duration": 450,
    "start_time": "2022-02-18T14:33:25.892Z"
   },
   {
    "duration": 346,
    "start_time": "2022-02-18T14:34:53.592Z"
   },
   {
    "duration": 581,
    "start_time": "2022-02-18T14:35:42.453Z"
   },
   {
    "duration": 3,
    "start_time": "2022-02-18T14:36:06.434Z"
   },
   {
    "duration": 88,
    "start_time": "2022-02-18T14:36:06.439Z"
   },
   {
    "duration": 10,
    "start_time": "2022-02-18T14:36:06.529Z"
   },
   {
    "duration": 32,
    "start_time": "2022-02-18T14:36:06.541Z"
   },
   {
    "duration": 7,
    "start_time": "2022-02-18T14:36:06.576Z"
   },
   {
    "duration": 22,
    "start_time": "2022-02-18T14:36:06.585Z"
   },
   {
    "duration": 9,
    "start_time": "2022-02-18T14:36:06.609Z"
   },
   {
    "duration": 14,
    "start_time": "2022-02-18T14:36:06.620Z"
   },
   {
    "duration": 25,
    "start_time": "2022-02-18T14:36:06.637Z"
   },
   {
    "duration": 21,
    "start_time": "2022-02-18T14:36:06.664Z"
   },
   {
    "duration": 31,
    "start_time": "2022-02-18T14:36:06.687Z"
   },
   {
    "duration": 18,
    "start_time": "2022-02-18T14:36:06.719Z"
   },
   {
    "duration": 13,
    "start_time": "2022-02-18T14:36:06.738Z"
   },
   {
    "duration": 17,
    "start_time": "2022-02-18T14:36:06.753Z"
   },
   {
    "duration": 5,
    "start_time": "2022-02-18T14:36:06.772Z"
   },
   {
    "duration": 7,
    "start_time": "2022-02-18T14:36:06.778Z"
   },
   {
    "duration": 4,
    "start_time": "2022-02-18T14:36:06.787Z"
   },
   {
    "duration": 7,
    "start_time": "2022-02-18T14:36:06.793Z"
   },
   {
    "duration": 10,
    "start_time": "2022-02-18T14:36:06.802Z"
   },
   {
    "duration": 5,
    "start_time": "2022-02-18T14:36:06.814Z"
   },
   {
    "duration": 9,
    "start_time": "2022-02-18T14:36:06.821Z"
   },
   {
    "duration": 39,
    "start_time": "2022-02-18T14:36:06.831Z"
   },
   {
    "duration": 5,
    "start_time": "2022-02-18T14:36:06.872Z"
   },
   {
    "duration": 6,
    "start_time": "2022-02-18T14:36:06.879Z"
   },
   {
    "duration": 8,
    "start_time": "2022-02-18T14:36:06.887Z"
   },
   {
    "duration": 17,
    "start_time": "2022-02-18T14:36:06.897Z"
   },
   {
    "duration": 14,
    "start_time": "2022-02-18T14:36:06.917Z"
   },
   {
    "duration": 10,
    "start_time": "2022-02-18T14:36:06.933Z"
   },
   {
    "duration": 28,
    "start_time": "2022-02-18T14:36:06.945Z"
   },
   {
    "duration": 6,
    "start_time": "2022-02-18T14:36:06.975Z"
   },
   {
    "duration": 8,
    "start_time": "2022-02-18T14:36:06.983Z"
   },
   {
    "duration": 7,
    "start_time": "2022-02-18T14:36:06.993Z"
   },
   {
    "duration": 7,
    "start_time": "2022-02-18T14:36:07.002Z"
   },
   {
    "duration": 59,
    "start_time": "2022-02-18T14:36:07.011Z"
   },
   {
    "duration": 1482,
    "start_time": "2022-02-18T14:36:07.072Z"
   },
   {
    "duration": -224,
    "start_time": "2022-02-18T14:36:08.780Z"
   },
   {
    "duration": 3,
    "start_time": "2022-02-18T14:36:27.847Z"
   },
   {
    "duration": 77,
    "start_time": "2022-02-18T14:36:27.852Z"
   },
   {
    "duration": 9,
    "start_time": "2022-02-18T14:36:27.931Z"
   },
   {
    "duration": 37,
    "start_time": "2022-02-18T14:36:27.942Z"
   },
   {
    "duration": 7,
    "start_time": "2022-02-18T14:36:27.981Z"
   },
   {
    "duration": 11,
    "start_time": "2022-02-18T14:36:27.989Z"
   },
   {
    "duration": 4,
    "start_time": "2022-02-18T14:36:28.002Z"
   },
   {
    "duration": 6,
    "start_time": "2022-02-18T14:36:28.009Z"
   },
   {
    "duration": 6,
    "start_time": "2022-02-18T14:36:28.017Z"
   },
   {
    "duration": 46,
    "start_time": "2022-02-18T14:36:28.024Z"
   },
   {
    "duration": 19,
    "start_time": "2022-02-18T14:36:28.072Z"
   },
   {
    "duration": 17,
    "start_time": "2022-02-18T14:36:28.093Z"
   },
   {
    "duration": 12,
    "start_time": "2022-02-18T14:36:28.112Z"
   },
   {
    "duration": 5,
    "start_time": "2022-02-18T14:36:28.126Z"
   },
   {
    "duration": 37,
    "start_time": "2022-02-18T14:36:28.133Z"
   },
   {
    "duration": 7,
    "start_time": "2022-02-18T14:36:28.172Z"
   },
   {
    "duration": 5,
    "start_time": "2022-02-18T14:36:28.181Z"
   },
   {
    "duration": 10,
    "start_time": "2022-02-18T14:36:28.188Z"
   },
   {
    "duration": 9,
    "start_time": "2022-02-18T14:36:28.200Z"
   },
   {
    "duration": 6,
    "start_time": "2022-02-18T14:36:28.211Z"
   },
   {
    "duration": 12,
    "start_time": "2022-02-18T14:36:28.219Z"
   },
   {
    "duration": 7,
    "start_time": "2022-02-18T14:36:28.233Z"
   },
   {
    "duration": 5,
    "start_time": "2022-02-18T14:36:28.270Z"
   },
   {
    "duration": 9,
    "start_time": "2022-02-18T14:36:28.277Z"
   },
   {
    "duration": 7,
    "start_time": "2022-02-18T14:36:28.287Z"
   },
   {
    "duration": 9,
    "start_time": "2022-02-18T14:36:28.296Z"
   },
   {
    "duration": 9,
    "start_time": "2022-02-18T14:36:28.307Z"
   },
   {
    "duration": 9,
    "start_time": "2022-02-18T14:36:28.318Z"
   },
   {
    "duration": 8,
    "start_time": "2022-02-18T14:36:28.329Z"
   },
   {
    "duration": 34,
    "start_time": "2022-02-18T14:36:28.338Z"
   },
   {
    "duration": 6,
    "start_time": "2022-02-18T14:36:28.374Z"
   },
   {
    "duration": 7,
    "start_time": "2022-02-18T14:36:28.381Z"
   },
   {
    "duration": 9,
    "start_time": "2022-02-18T14:36:28.389Z"
   },
   {
    "duration": 21,
    "start_time": "2022-02-18T14:36:28.400Z"
   },
   {
    "duration": 333,
    "start_time": "2022-02-18T14:36:28.423Z"
   },
   {
    "duration": 268,
    "start_time": "2022-02-18T14:37:52.074Z"
   },
   {
    "duration": 5,
    "start_time": "2022-02-18T14:37:58.900Z"
   },
   {
    "duration": 5,
    "start_time": "2022-02-18T14:38:25.763Z"
   },
   {
    "duration": 5,
    "start_time": "2022-02-18T14:38:40.402Z"
   },
   {
    "duration": 3,
    "start_time": "2022-02-18T14:41:12.727Z"
   },
   {
    "duration": 281,
    "start_time": "2022-02-18T14:41:15.687Z"
   },
   {
    "duration": 12,
    "start_time": "2022-02-18T14:41:40.677Z"
   },
   {
    "duration": 20,
    "start_time": "2022-02-18T14:41:52.337Z"
   },
   {
    "duration": 260,
    "start_time": "2022-02-18T14:59:17.957Z"
   },
   {
    "duration": 3,
    "start_time": "2022-02-18T14:59:22.222Z"
   },
   {
    "duration": 77,
    "start_time": "2022-02-18T14:59:22.227Z"
   },
   {
    "duration": 11,
    "start_time": "2022-02-18T14:59:22.307Z"
   },
   {
    "duration": 15,
    "start_time": "2022-02-18T14:59:22.321Z"
   },
   {
    "duration": 7,
    "start_time": "2022-02-18T14:59:22.339Z"
   },
   {
    "duration": 12,
    "start_time": "2022-02-18T14:59:22.369Z"
   },
   {
    "duration": 25,
    "start_time": "2022-02-18T14:59:22.383Z"
   },
   {
    "duration": 26,
    "start_time": "2022-02-18T14:59:22.410Z"
   },
   {
    "duration": 27,
    "start_time": "2022-02-18T14:59:22.439Z"
   },
   {
    "duration": 30,
    "start_time": "2022-02-18T14:59:22.468Z"
   },
   {
    "duration": 30,
    "start_time": "2022-02-18T14:59:22.500Z"
   },
   {
    "duration": 34,
    "start_time": "2022-02-18T14:59:22.531Z"
   },
   {
    "duration": 20,
    "start_time": "2022-02-18T14:59:22.567Z"
   },
   {
    "duration": 35,
    "start_time": "2022-02-18T14:59:22.589Z"
   },
   {
    "duration": 42,
    "start_time": "2022-02-18T14:59:22.626Z"
   },
   {
    "duration": 35,
    "start_time": "2022-02-18T14:59:22.670Z"
   },
   {
    "duration": 34,
    "start_time": "2022-02-18T14:59:22.706Z"
   },
   {
    "duration": 33,
    "start_time": "2022-02-18T14:59:22.742Z"
   },
   {
    "duration": 33,
    "start_time": "2022-02-18T14:59:22.776Z"
   },
   {
    "duration": 23,
    "start_time": "2022-02-18T14:59:22.811Z"
   },
   {
    "duration": 33,
    "start_time": "2022-02-18T14:59:22.836Z"
   },
   {
    "duration": 33,
    "start_time": "2022-02-18T14:59:22.870Z"
   },
   {
    "duration": 43,
    "start_time": "2022-02-18T14:59:22.905Z"
   },
   {
    "duration": 28,
    "start_time": "2022-02-18T14:59:22.950Z"
   },
   {
    "duration": 18,
    "start_time": "2022-02-18T14:59:22.980Z"
   },
   {
    "duration": 43,
    "start_time": "2022-02-18T14:59:23.000Z"
   },
   {
    "duration": 31,
    "start_time": "2022-02-18T14:59:23.047Z"
   },
   {
    "duration": 36,
    "start_time": "2022-02-18T14:59:23.080Z"
   },
   {
    "duration": 34,
    "start_time": "2022-02-18T14:59:23.118Z"
   },
   {
    "duration": 17,
    "start_time": "2022-02-18T14:59:23.154Z"
   },
   {
    "duration": 37,
    "start_time": "2022-02-18T14:59:23.173Z"
   },
   {
    "duration": 24,
    "start_time": "2022-02-18T14:59:23.212Z"
   },
   {
    "duration": 20,
    "start_time": "2022-02-18T14:59:23.237Z"
   },
   {
    "duration": 36,
    "start_time": "2022-02-18T14:59:23.259Z"
   },
   {
    "duration": 12,
    "start_time": "2022-02-18T14:59:23.298Z"
   },
   {
    "duration": 21,
    "start_time": "2022-02-18T14:59:23.312Z"
   },
   {
    "duration": 26,
    "start_time": "2022-02-18T14:59:23.334Z"
   },
   {
    "duration": 277,
    "start_time": "2022-02-18T14:59:23.362Z"
   },
   {
    "duration": 4,
    "start_time": "2022-02-18T15:00:55.497Z"
   },
   {
    "duration": 9,
    "start_time": "2022-02-18T15:00:57.737Z"
   },
   {
    "duration": 21,
    "start_time": "2022-02-18T15:01:03.531Z"
   },
   {
    "duration": 5,
    "start_time": "2022-02-18T15:04:26.021Z"
   },
   {
    "duration": 30,
    "start_time": "2022-02-18T16:22:34.123Z"
   },
   {
    "duration": 319,
    "start_time": "2022-02-18T16:34:56.402Z"
   },
   {
    "duration": 3,
    "start_time": "2022-02-18T16:35:22.587Z"
   },
   {
    "duration": 86,
    "start_time": "2022-02-18T16:35:22.592Z"
   },
   {
    "duration": 11,
    "start_time": "2022-02-18T16:35:22.680Z"
   },
   {
    "duration": 18,
    "start_time": "2022-02-18T16:35:22.693Z"
   },
   {
    "duration": 7,
    "start_time": "2022-02-18T16:35:22.712Z"
   },
   {
    "duration": 13,
    "start_time": "2022-02-18T16:35:22.720Z"
   },
   {
    "duration": 7,
    "start_time": "2022-02-18T16:35:22.734Z"
   },
   {
    "duration": 31,
    "start_time": "2022-02-18T16:35:22.743Z"
   },
   {
    "duration": 4,
    "start_time": "2022-02-18T16:35:22.777Z"
   },
   {
    "duration": 17,
    "start_time": "2022-02-18T16:35:22.784Z"
   },
   {
    "duration": 20,
    "start_time": "2022-02-18T16:35:22.803Z"
   },
   {
    "duration": 46,
    "start_time": "2022-02-18T16:35:22.824Z"
   },
   {
    "duration": 11,
    "start_time": "2022-02-18T16:35:22.872Z"
   },
   {
    "duration": 7,
    "start_time": "2022-02-18T16:35:22.885Z"
   },
   {
    "duration": 7,
    "start_time": "2022-02-18T16:35:22.894Z"
   },
   {
    "duration": 5,
    "start_time": "2022-02-18T16:35:22.903Z"
   },
   {
    "duration": 4,
    "start_time": "2022-02-18T16:35:22.910Z"
   },
   {
    "duration": 7,
    "start_time": "2022-02-18T16:35:22.915Z"
   },
   {
    "duration": 7,
    "start_time": "2022-02-18T16:35:22.924Z"
   },
   {
    "duration": 39,
    "start_time": "2022-02-18T16:35:22.933Z"
   },
   {
    "duration": 7,
    "start_time": "2022-02-18T16:35:22.974Z"
   },
   {
    "duration": 6,
    "start_time": "2022-02-18T16:35:22.983Z"
   },
   {
    "duration": 8,
    "start_time": "2022-02-18T16:35:22.991Z"
   },
   {
    "duration": 6,
    "start_time": "2022-02-18T16:35:23.001Z"
   },
   {
    "duration": 6,
    "start_time": "2022-02-18T16:35:23.009Z"
   },
   {
    "duration": 10,
    "start_time": "2022-02-18T16:35:23.017Z"
   },
   {
    "duration": 9,
    "start_time": "2022-02-18T16:35:23.031Z"
   },
   {
    "duration": 5,
    "start_time": "2022-02-18T16:35:23.070Z"
   },
   {
    "duration": 7,
    "start_time": "2022-02-18T16:35:23.077Z"
   },
   {
    "duration": 11,
    "start_time": "2022-02-18T16:35:23.086Z"
   },
   {
    "duration": 7,
    "start_time": "2022-02-18T16:35:23.099Z"
   },
   {
    "duration": 6,
    "start_time": "2022-02-18T16:35:23.108Z"
   },
   {
    "duration": 7,
    "start_time": "2022-02-18T16:35:23.116Z"
   },
   {
    "duration": 19,
    "start_time": "2022-02-18T16:35:23.125Z"
   },
   {
    "duration": 3,
    "start_time": "2022-02-18T16:35:23.170Z"
   },
   {
    "duration": 17,
    "start_time": "2022-02-18T16:35:23.175Z"
   },
   {
    "duration": 22,
    "start_time": "2022-02-18T16:35:23.194Z"
   },
   {
    "duration": 6,
    "start_time": "2022-02-18T16:35:23.217Z"
   },
   {
    "duration": 13,
    "start_time": "2022-02-18T16:35:23.225Z"
   },
   {
    "duration": 41,
    "start_time": "2022-02-18T16:35:23.239Z"
   },
   {
    "duration": 8,
    "start_time": "2022-02-18T16:35:23.282Z"
   },
   {
    "duration": 29,
    "start_time": "2022-02-18T16:35:23.291Z"
   },
   {
    "duration": 2672,
    "start_time": "2022-02-18T16:35:23.322Z"
   },
   {
    "duration": 642,
    "start_time": "2022-02-18T16:36:02.119Z"
   },
   {
    "duration": 667,
    "start_time": "2022-02-18T16:41:51.185Z"
   },
   {
    "duration": 272,
    "start_time": "2022-02-18T16:42:15.999Z"
   },
   {
    "duration": 282,
    "start_time": "2022-02-18T16:51:02.350Z"
   },
   {
    "duration": 19,
    "start_time": "2022-02-18T16:51:24.485Z"
   },
   {
    "duration": 19,
    "start_time": "2022-02-18T16:51:28.214Z"
   },
   {
    "duration": 268,
    "start_time": "2022-02-18T16:52:56.564Z"
   },
   {
    "duration": 25,
    "start_time": "2022-02-18T16:55:59.351Z"
   },
   {
    "duration": 25,
    "start_time": "2022-02-18T16:56:25.356Z"
   },
   {
    "duration": 28,
    "start_time": "2022-02-18T16:56:37.405Z"
   },
   {
    "duration": 25,
    "start_time": "2022-02-18T16:57:07.719Z"
   },
   {
    "duration": 91,
    "start_time": "2022-02-18T16:57:43.797Z"
   },
   {
    "duration": 311,
    "start_time": "2022-02-18T16:57:48.671Z"
   },
   {
    "duration": 281,
    "start_time": "2022-02-18T16:58:30.520Z"
   },
   {
    "duration": 282,
    "start_time": "2022-02-18T17:01:54.580Z"
   },
   {
    "duration": 308,
    "start_time": "2022-02-18T17:03:10.870Z"
   },
   {
    "duration": 316,
    "start_time": "2022-02-18T17:05:49.220Z"
   },
   {
    "duration": 427,
    "start_time": "2022-02-18T17:06:03.056Z"
   },
   {
    "duration": 286,
    "start_time": "2022-02-18T17:06:35.514Z"
   },
   {
    "duration": 296,
    "start_time": "2022-02-18T17:07:45.175Z"
   },
   {
    "duration": 279,
    "start_time": "2022-02-18T17:08:52.694Z"
   },
   {
    "duration": 39,
    "start_time": "2022-02-18T17:10:27.485Z"
   },
   {
    "duration": 6522,
    "start_time": "2022-02-18T17:14:26.034Z"
   },
   {
    "duration": -326,
    "start_time": "2022-02-18T17:14:52.324Z"
   },
   {
    "duration": 2,
    "start_time": "2022-02-18T17:14:53.633Z"
   },
   {
    "duration": 98,
    "start_time": "2022-02-18T17:14:53.637Z"
   },
   {
    "duration": 10,
    "start_time": "2022-02-18T17:14:53.738Z"
   },
   {
    "duration": 27,
    "start_time": "2022-02-18T17:14:53.750Z"
   },
   {
    "duration": 8,
    "start_time": "2022-02-18T17:14:53.779Z"
   },
   {
    "duration": 15,
    "start_time": "2022-02-18T17:14:53.789Z"
   },
   {
    "duration": 4,
    "start_time": "2022-02-18T17:14:53.805Z"
   },
   {
    "duration": 23,
    "start_time": "2022-02-18T17:14:53.811Z"
   },
   {
    "duration": 10,
    "start_time": "2022-02-18T17:14:53.837Z"
   },
   {
    "duration": 35,
    "start_time": "2022-02-18T17:14:53.850Z"
   },
   {
    "duration": 22,
    "start_time": "2022-02-18T17:14:53.887Z"
   },
   {
    "duration": 18,
    "start_time": "2022-02-18T17:14:53.912Z"
   },
   {
    "duration": 40,
    "start_time": "2022-02-18T17:14:53.932Z"
   },
   {
    "duration": 4,
    "start_time": "2022-02-18T17:14:53.974Z"
   },
   {
    "duration": 12,
    "start_time": "2022-02-18T17:14:53.980Z"
   },
   {
    "duration": 10,
    "start_time": "2022-02-18T17:14:53.994Z"
   },
   {
    "duration": 6,
    "start_time": "2022-02-18T17:14:54.006Z"
   },
   {
    "duration": 7,
    "start_time": "2022-02-18T17:14:54.014Z"
   },
   {
    "duration": 10,
    "start_time": "2022-02-18T17:14:54.023Z"
   },
   {
    "duration": 8,
    "start_time": "2022-02-18T17:14:54.035Z"
   },
   {
    "duration": 27,
    "start_time": "2022-02-18T17:14:54.045Z"
   },
   {
    "duration": 10,
    "start_time": "2022-02-18T17:14:54.074Z"
   },
   {
    "duration": 7,
    "start_time": "2022-02-18T17:14:54.086Z"
   },
   {
    "duration": 14,
    "start_time": "2022-02-18T17:14:54.095Z"
   },
   {
    "duration": 11,
    "start_time": "2022-02-18T17:14:54.110Z"
   },
   {
    "duration": 9,
    "start_time": "2022-02-18T17:14:54.123Z"
   },
   {
    "duration": 5,
    "start_time": "2022-02-18T17:14:54.137Z"
   },
   {
    "duration": 7,
    "start_time": "2022-02-18T17:14:54.170Z"
   },
   {
    "duration": 7,
    "start_time": "2022-02-18T17:14:54.179Z"
   },
   {
    "duration": 8,
    "start_time": "2022-02-18T17:14:54.188Z"
   },
   {
    "duration": 8,
    "start_time": "2022-02-18T17:14:54.198Z"
   },
   {
    "duration": 7,
    "start_time": "2022-02-18T17:14:54.208Z"
   },
   {
    "duration": 8,
    "start_time": "2022-02-18T17:14:54.217Z"
   },
   {
    "duration": 49,
    "start_time": "2022-02-18T17:14:54.226Z"
   },
   {
    "duration": 7,
    "start_time": "2022-02-18T17:14:54.277Z"
   },
   {
    "duration": 20,
    "start_time": "2022-02-18T17:14:54.286Z"
   },
   {
    "duration": 30,
    "start_time": "2022-02-18T17:14:54.308Z"
   },
   {
    "duration": 4,
    "start_time": "2022-02-18T17:14:54.341Z"
   },
   {
    "duration": 25,
    "start_time": "2022-02-18T17:14:54.348Z"
   },
   {
    "duration": 27,
    "start_time": "2022-02-18T17:14:54.375Z"
   },
   {
    "duration": 8,
    "start_time": "2022-02-18T17:14:54.404Z"
   },
   {
    "duration": 33,
    "start_time": "2022-02-18T17:14:54.414Z"
   },
   {
    "duration": 39,
    "start_time": "2022-02-18T17:14:54.469Z"
   },
   {
    "duration": 6705,
    "start_time": "2022-02-18T17:14:54.510Z"
   },
   {
    "duration": 6644,
    "start_time": "2022-02-18T17:15:35.638Z"
   },
   {
    "duration": 8449,
    "start_time": "2022-02-18T17:16:18.544Z"
   },
   {
    "duration": 7047,
    "start_time": "2022-02-18T17:17:29.484Z"
   },
   {
    "duration": 21,
    "start_time": "2022-02-18T17:17:49.294Z"
   },
   {
    "duration": 6517,
    "start_time": "2022-02-18T17:18:22.424Z"
   },
   {
    "duration": 6806,
    "start_time": "2022-02-18T17:18:42.647Z"
   },
   {
    "duration": 6481,
    "start_time": "2022-02-18T17:18:52.899Z"
   },
   {
    "duration": 6453,
    "start_time": "2022-02-18T17:19:51.143Z"
   },
   {
    "duration": 22,
    "start_time": "2022-02-18T17:20:03.430Z"
   },
   {
    "duration": 10,
    "start_time": "2022-02-18T17:20:33.373Z"
   },
   {
    "duration": 7321,
    "start_time": "2022-02-18T17:21:25.518Z"
   },
   {
    "duration": 12,
    "start_time": "2022-02-18T17:21:46.334Z"
   },
   {
    "duration": 83,
    "start_time": "2022-02-18T17:22:21.753Z"
   },
   {
    "duration": 85,
    "start_time": "2022-02-18T17:22:33.176Z"
   },
   {
    "duration": 92,
    "start_time": "2022-02-18T17:22:38.694Z"
   },
   {
    "duration": 43,
    "start_time": "2022-02-18T17:23:25.355Z"
   },
   {
    "duration": 259,
    "start_time": "2022-02-18T17:23:30.172Z"
   },
   {
    "duration": 6591,
    "start_time": "2022-02-18T17:23:42.592Z"
   },
   {
    "duration": 281,
    "start_time": "2022-02-18T17:23:52.614Z"
   },
   {
    "duration": 272,
    "start_time": "2022-02-18T17:24:08.521Z"
   },
   {
    "duration": 279,
    "start_time": "2022-02-18T17:24:14.862Z"
   },
   {
    "duration": 39,
    "start_time": "2022-02-18T17:24:33.672Z"
   },
   {
    "duration": 112,
    "start_time": "2022-02-18T17:25:34.487Z"
   },
   {
    "duration": 5,
    "start_time": "2022-02-18T17:25:55.772Z"
   },
   {
    "duration": 8,
    "start_time": "2022-02-18T17:26:15.987Z"
   },
   {
    "duration": 6901,
    "start_time": "2022-02-18T17:26:57.268Z"
   },
   {
    "duration": -333,
    "start_time": "2022-02-18T17:27:25.515Z"
   },
   {
    "duration": -332,
    "start_time": "2022-02-18T17:27:25.516Z"
   },
   {
    "duration": 43,
    "start_time": "2022-02-18T17:27:40.843Z"
   },
   {
    "duration": 6703,
    "start_time": "2022-02-18T17:27:43.392Z"
   },
   {
    "duration": 6,
    "start_time": "2022-02-18T17:28:18.298Z"
   },
   {
    "duration": 29,
    "start_time": "2022-02-18T17:38:20.179Z"
   },
   {
    "duration": 3,
    "start_time": "2022-02-18T17:40:49.453Z"
   },
   {
    "duration": 85,
    "start_time": "2022-02-18T17:40:49.458Z"
   },
   {
    "duration": 11,
    "start_time": "2022-02-18T17:40:49.545Z"
   },
   {
    "duration": 20,
    "start_time": "2022-02-18T17:40:49.558Z"
   },
   {
    "duration": 6,
    "start_time": "2022-02-18T17:40:49.580Z"
   },
   {
    "duration": 13,
    "start_time": "2022-02-18T17:40:49.587Z"
   },
   {
    "duration": 5,
    "start_time": "2022-02-18T17:40:49.602Z"
   },
   {
    "duration": 8,
    "start_time": "2022-02-18T17:40:49.609Z"
   },
   {
    "duration": 7,
    "start_time": "2022-02-18T17:40:49.619Z"
   },
   {
    "duration": 51,
    "start_time": "2022-02-18T17:40:49.628Z"
   },
   {
    "duration": 21,
    "start_time": "2022-02-18T17:40:49.681Z"
   },
   {
    "duration": 17,
    "start_time": "2022-02-18T17:40:49.704Z"
   },
   {
    "duration": 13,
    "start_time": "2022-02-18T17:40:49.722Z"
   },
   {
    "duration": 33,
    "start_time": "2022-02-18T17:40:49.737Z"
   },
   {
    "duration": 9,
    "start_time": "2022-02-18T17:40:49.772Z"
   },
   {
    "duration": 5,
    "start_time": "2022-02-18T17:40:49.783Z"
   },
   {
    "duration": 7,
    "start_time": "2022-02-18T17:40:49.789Z"
   },
   {
    "duration": 8,
    "start_time": "2022-02-18T17:40:49.798Z"
   },
   {
    "duration": 11,
    "start_time": "2022-02-18T17:40:49.809Z"
   },
   {
    "duration": 11,
    "start_time": "2022-02-18T17:40:49.822Z"
   },
   {
    "duration": 9,
    "start_time": "2022-02-18T17:40:49.835Z"
   },
   {
    "duration": 5,
    "start_time": "2022-02-18T17:40:49.869Z"
   },
   {
    "duration": 6,
    "start_time": "2022-02-18T17:40:49.876Z"
   },
   {
    "duration": 5,
    "start_time": "2022-02-18T17:40:49.884Z"
   },
   {
    "duration": 7,
    "start_time": "2022-02-18T17:40:49.890Z"
   },
   {
    "duration": 11,
    "start_time": "2022-02-18T17:40:49.899Z"
   },
   {
    "duration": 5,
    "start_time": "2022-02-18T17:40:49.912Z"
   },
   {
    "duration": 8,
    "start_time": "2022-02-18T17:40:49.919Z"
   },
   {
    "duration": 41,
    "start_time": "2022-02-18T17:40:49.929Z"
   },
   {
    "duration": 10,
    "start_time": "2022-02-18T17:40:49.972Z"
   },
   {
    "duration": 7,
    "start_time": "2022-02-18T17:40:49.984Z"
   },
   {
    "duration": 6,
    "start_time": "2022-02-18T17:40:49.992Z"
   },
   {
    "duration": 14,
    "start_time": "2022-02-18T17:40:49.999Z"
   },
   {
    "duration": 20,
    "start_time": "2022-02-18T17:40:50.015Z"
   },
   {
    "duration": 7,
    "start_time": "2022-02-18T17:40:50.037Z"
   },
   {
    "duration": 18,
    "start_time": "2022-02-18T17:40:50.070Z"
   },
   {
    "duration": 19,
    "start_time": "2022-02-18T17:40:50.090Z"
   },
   {
    "duration": 3,
    "start_time": "2022-02-18T17:40:50.110Z"
   },
   {
    "duration": 16,
    "start_time": "2022-02-18T17:40:50.115Z"
   },
   {
    "duration": 36,
    "start_time": "2022-02-18T17:40:50.133Z"
   },
   {
    "duration": 6,
    "start_time": "2022-02-18T17:40:50.171Z"
   },
   {
    "duration": 28,
    "start_time": "2022-02-18T17:40:50.179Z"
   },
   {
    "duration": 62,
    "start_time": "2022-02-18T17:40:50.209Z"
   },
   {
    "duration": 5,
    "start_time": "2022-02-18T17:40:50.273Z"
   },
   {
    "duration": 33,
    "start_time": "2022-02-18T17:40:50.280Z"
   },
   {
    "duration": 36,
    "start_time": "2022-02-18T17:40:57.906Z"
   },
   {
    "duration": 295,
    "start_time": "2022-02-18T17:44:31.352Z"
   },
   {
    "duration": 322,
    "start_time": "2022-02-18T17:45:12.557Z"
   },
   {
    "duration": 73,
    "start_time": "2022-02-18T17:48:41.794Z"
   },
   {
    "duration": 298,
    "start_time": "2022-02-18T17:50:30.940Z"
   },
   {
    "duration": 2,
    "start_time": "2022-02-18T17:51:17.821Z"
   },
   {
    "duration": 98,
    "start_time": "2022-02-18T17:51:17.828Z"
   },
   {
    "duration": 10,
    "start_time": "2022-02-18T17:51:17.928Z"
   },
   {
    "duration": 29,
    "start_time": "2022-02-18T17:51:17.940Z"
   },
   {
    "duration": 6,
    "start_time": "2022-02-18T17:51:17.972Z"
   },
   {
    "duration": 10,
    "start_time": "2022-02-18T17:51:17.980Z"
   },
   {
    "duration": 6,
    "start_time": "2022-02-18T17:51:17.992Z"
   },
   {
    "duration": 12,
    "start_time": "2022-02-18T17:51:18.000Z"
   },
   {
    "duration": 5,
    "start_time": "2022-02-18T17:51:18.013Z"
   },
   {
    "duration": 48,
    "start_time": "2022-02-18T17:51:18.021Z"
   },
   {
    "duration": 20,
    "start_time": "2022-02-18T17:51:18.072Z"
   },
   {
    "duration": 17,
    "start_time": "2022-02-18T17:51:18.094Z"
   },
   {
    "duration": 13,
    "start_time": "2022-02-18T17:51:18.113Z"
   },
   {
    "duration": 7,
    "start_time": "2022-02-18T17:51:18.128Z"
   },
   {
    "duration": 36,
    "start_time": "2022-02-18T17:51:18.137Z"
   },
   {
    "duration": 6,
    "start_time": "2022-02-18T17:51:18.175Z"
   },
   {
    "duration": 5,
    "start_time": "2022-02-18T17:51:18.183Z"
   },
   {
    "duration": 6,
    "start_time": "2022-02-18T17:51:18.190Z"
   },
   {
    "duration": 10,
    "start_time": "2022-02-18T17:51:18.197Z"
   },
   {
    "duration": 7,
    "start_time": "2022-02-18T17:51:18.209Z"
   },
   {
    "duration": 19,
    "start_time": "2022-02-18T17:51:18.218Z"
   },
   {
    "duration": 5,
    "start_time": "2022-02-18T17:51:18.239Z"
   },
   {
    "duration": 24,
    "start_time": "2022-02-18T17:51:18.246Z"
   },
   {
    "duration": 6,
    "start_time": "2022-02-18T17:51:18.272Z"
   },
   {
    "duration": 7,
    "start_time": "2022-02-18T17:51:18.280Z"
   },
   {
    "duration": 7,
    "start_time": "2022-02-18T17:51:18.289Z"
   },
   {
    "duration": 5,
    "start_time": "2022-02-18T17:51:18.298Z"
   },
   {
    "duration": 7,
    "start_time": "2022-02-18T17:51:18.306Z"
   },
   {
    "duration": 5,
    "start_time": "2022-02-18T17:51:18.315Z"
   },
   {
    "duration": 48,
    "start_time": "2022-02-18T17:51:18.322Z"
   },
   {
    "duration": 6,
    "start_time": "2022-02-18T17:51:18.372Z"
   },
   {
    "duration": 6,
    "start_time": "2022-02-18T17:51:18.380Z"
   },
   {
    "duration": 6,
    "start_time": "2022-02-18T17:51:18.388Z"
   },
   {
    "duration": 19,
    "start_time": "2022-02-18T17:51:18.395Z"
   },
   {
    "duration": 3,
    "start_time": "2022-02-18T17:51:18.416Z"
   },
   {
    "duration": 49,
    "start_time": "2022-02-18T17:51:18.421Z"
   },
   {
    "duration": 19,
    "start_time": "2022-02-18T17:51:18.472Z"
   },
   {
    "duration": 4,
    "start_time": "2022-02-18T17:51:18.492Z"
   },
   {
    "duration": 11,
    "start_time": "2022-02-18T17:51:18.497Z"
   },
   {
    "duration": 23,
    "start_time": "2022-02-18T17:51:18.510Z"
   },
   {
    "duration": 9,
    "start_time": "2022-02-18T17:51:18.535Z"
   },
   {
    "duration": 35,
    "start_time": "2022-02-18T17:51:18.568Z"
   },
   {
    "duration": 42,
    "start_time": "2022-02-18T17:51:18.605Z"
   },
   {
    "duration": 24,
    "start_time": "2022-02-18T17:51:18.648Z"
   },
   {
    "duration": 94,
    "start_time": "2022-02-18T17:51:18.674Z"
   },
   {
    "duration": 82,
    "start_time": "2022-02-18T17:54:27.139Z"
   },
   {
    "duration": 2,
    "start_time": "2022-02-18T17:54:33.127Z"
   },
   {
    "duration": 94,
    "start_time": "2022-02-18T17:54:35.548Z"
   },
   {
    "duration": 305,
    "start_time": "2022-02-18T17:54:45.204Z"
   },
   {
    "duration": 4,
    "start_time": "2022-02-18T17:56:48.652Z"
   },
   {
    "duration": 4,
    "start_time": "2022-02-18T17:56:53.199Z"
   },
   {
    "duration": 54,
    "start_time": "2022-02-18T17:56:55.367Z"
   },
   {
    "duration": 50,
    "start_time": "2022-02-18T17:57:59.888Z"
   },
   {
    "duration": 408,
    "start_time": "2022-02-19T06:29:39.346Z"
   },
   {
    "duration": 599,
    "start_time": "2022-02-19T06:29:42.756Z"
   },
   {
    "duration": 75,
    "start_time": "2022-02-19T06:29:43.357Z"
   },
   {
    "duration": 10,
    "start_time": "2022-02-19T06:29:43.434Z"
   },
   {
    "duration": 13,
    "start_time": "2022-02-19T06:29:43.446Z"
   },
   {
    "duration": 7,
    "start_time": "2022-02-19T06:29:43.461Z"
   },
   {
    "duration": 9,
    "start_time": "2022-02-19T06:29:43.470Z"
   },
   {
    "duration": 4,
    "start_time": "2022-02-19T06:29:43.481Z"
   },
   {
    "duration": 35,
    "start_time": "2022-02-19T06:29:43.487Z"
   },
   {
    "duration": 7,
    "start_time": "2022-02-19T06:29:43.524Z"
   },
   {
    "duration": 21,
    "start_time": "2022-02-19T06:29:43.532Z"
   },
   {
    "duration": 19,
    "start_time": "2022-02-19T06:29:43.554Z"
   },
   {
    "duration": 16,
    "start_time": "2022-02-19T06:29:43.575Z"
   },
   {
    "duration": 36,
    "start_time": "2022-02-19T06:29:43.593Z"
   },
   {
    "duration": 10,
    "start_time": "2022-02-19T06:29:43.631Z"
   },
   {
    "duration": 7,
    "start_time": "2022-02-19T06:29:43.643Z"
   },
   {
    "duration": 11,
    "start_time": "2022-02-19T06:29:43.652Z"
   },
   {
    "duration": 6,
    "start_time": "2022-02-19T06:29:43.664Z"
   },
   {
    "duration": 10,
    "start_time": "2022-02-19T06:29:43.672Z"
   },
   {
    "duration": 6,
    "start_time": "2022-02-19T06:29:43.684Z"
   },
   {
    "duration": 28,
    "start_time": "2022-02-19T06:29:43.691Z"
   },
   {
    "duration": 9,
    "start_time": "2022-02-19T06:29:43.721Z"
   },
   {
    "duration": 9,
    "start_time": "2022-02-19T06:29:43.732Z"
   },
   {
    "duration": 11,
    "start_time": "2022-02-19T06:29:43.744Z"
   },
   {
    "duration": 8,
    "start_time": "2022-02-19T06:29:43.757Z"
   },
   {
    "duration": 12,
    "start_time": "2022-02-19T06:29:43.767Z"
   },
   {
    "duration": 10,
    "start_time": "2022-02-19T06:29:43.781Z"
   },
   {
    "duration": 25,
    "start_time": "2022-02-19T06:29:43.793Z"
   },
   {
    "duration": 5,
    "start_time": "2022-02-19T06:29:43.820Z"
   },
   {
    "duration": 6,
    "start_time": "2022-02-19T06:29:43.827Z"
   },
   {
    "duration": 5,
    "start_time": "2022-02-19T06:29:43.835Z"
   },
   {
    "duration": 10,
    "start_time": "2022-02-19T06:29:43.842Z"
   },
   {
    "duration": 6,
    "start_time": "2022-02-19T06:29:43.854Z"
   },
   {
    "duration": 6,
    "start_time": "2022-02-19T06:29:43.862Z"
   },
   {
    "duration": 50,
    "start_time": "2022-02-19T06:29:43.869Z"
   },
   {
    "duration": 3,
    "start_time": "2022-02-19T06:29:43.921Z"
   },
   {
    "duration": 15,
    "start_time": "2022-02-19T06:29:43.926Z"
   },
   {
    "duration": 30,
    "start_time": "2022-02-19T06:29:43.943Z"
   },
   {
    "duration": 3,
    "start_time": "2022-02-19T06:29:43.974Z"
   },
   {
    "duration": 15,
    "start_time": "2022-02-19T06:29:43.979Z"
   },
   {
    "duration": 25,
    "start_time": "2022-02-19T06:29:43.995Z"
   },
   {
    "duration": 5,
    "start_time": "2022-02-19T06:29:44.022Z"
   },
   {
    "duration": 29,
    "start_time": "2022-02-19T06:29:44.029Z"
   },
   {
    "duration": 59,
    "start_time": "2022-02-19T06:29:44.060Z"
   },
   {
    "duration": 5,
    "start_time": "2022-02-19T06:29:44.120Z"
   },
   {
    "duration": 36,
    "start_time": "2022-02-19T06:29:44.127Z"
   },
   {
    "duration": 4,
    "start_time": "2022-02-19T06:29:44.165Z"
   },
   {
    "duration": 74,
    "start_time": "2022-02-19T06:29:44.171Z"
   },
   {
    "duration": 72,
    "start_time": "2022-02-19T06:30:14.835Z"
   },
   {
    "duration": 33,
    "start_time": "2022-02-19T06:30:39.331Z"
   },
   {
    "duration": 391,
    "start_time": "2022-02-19T06:32:07.255Z"
   },
   {
    "duration": 49,
    "start_time": "2022-02-19T06:34:12.176Z"
   },
   {
    "duration": 338,
    "start_time": "2022-02-19T06:34:40.647Z"
   },
   {
    "duration": 43,
    "start_time": "2022-02-19T06:37:24.228Z"
   },
   {
    "duration": 3,
    "start_time": "2022-02-19T06:51:00.301Z"
   },
   {
    "duration": 4,
    "start_time": "2022-02-19T06:52:01.972Z"
   },
   {
    "duration": 252,
    "start_time": "2022-02-19T06:52:04.330Z"
   },
   {
    "duration": 8269,
    "start_time": "2022-02-19T06:52:32.614Z"
   },
   {
    "duration": -11,
    "start_time": "2022-02-19T06:52:40.896Z"
   },
   {
    "duration": 1067,
    "start_time": "2022-02-19T06:55:08.990Z"
   },
   {
    "duration": 1576,
    "start_time": "2022-02-19T06:55:20.132Z"
   },
   {
    "duration": 3,
    "start_time": "2022-02-19T06:56:34.752Z"
   },
   {
    "duration": 4,
    "start_time": "2022-02-19T06:56:39.377Z"
   },
   {
    "duration": 8134,
    "start_time": "2022-02-19T06:56:41.939Z"
   },
   {
    "duration": -5,
    "start_time": "2022-02-19T06:56:50.080Z"
   },
   {
    "duration": 3,
    "start_time": "2022-02-19T06:56:56.361Z"
   },
   {
    "duration": 70,
    "start_time": "2022-02-19T06:56:56.366Z"
   },
   {
    "duration": 11,
    "start_time": "2022-02-19T06:56:56.438Z"
   },
   {
    "duration": 15,
    "start_time": "2022-02-19T06:56:56.451Z"
   },
   {
    "duration": 15,
    "start_time": "2022-02-19T06:56:56.468Z"
   },
   {
    "duration": 35,
    "start_time": "2022-02-19T06:56:56.484Z"
   },
   {
    "duration": 11,
    "start_time": "2022-02-19T06:56:56.521Z"
   },
   {
    "duration": 31,
    "start_time": "2022-02-19T06:56:56.534Z"
   },
   {
    "duration": 14,
    "start_time": "2022-02-19T06:56:56.568Z"
   },
   {
    "duration": 27,
    "start_time": "2022-02-19T06:56:56.585Z"
   },
   {
    "duration": 20,
    "start_time": "2022-02-19T06:56:56.614Z"
   },
   {
    "duration": 17,
    "start_time": "2022-02-19T06:56:56.636Z"
   },
   {
    "duration": 12,
    "start_time": "2022-02-19T06:56:56.655Z"
   },
   {
    "duration": 7,
    "start_time": "2022-02-19T06:56:56.669Z"
   },
   {
    "duration": 7,
    "start_time": "2022-02-19T06:56:56.678Z"
   },
   {
    "duration": 4,
    "start_time": "2022-02-19T06:56:56.687Z"
   },
   {
    "duration": 3,
    "start_time": "2022-02-19T06:56:56.719Z"
   },
   {
    "duration": 6,
    "start_time": "2022-02-19T06:56:56.724Z"
   },
   {
    "duration": 12,
    "start_time": "2022-02-19T06:56:56.732Z"
   },
   {
    "duration": 4,
    "start_time": "2022-02-19T06:56:56.746Z"
   },
   {
    "duration": 16,
    "start_time": "2022-02-19T06:56:56.751Z"
   },
   {
    "duration": 4,
    "start_time": "2022-02-19T06:56:56.769Z"
   },
   {
    "duration": 16,
    "start_time": "2022-02-19T06:56:56.774Z"
   },
   {
    "duration": 9,
    "start_time": "2022-02-19T06:56:56.791Z"
   },
   {
    "duration": 24,
    "start_time": "2022-02-19T06:56:56.802Z"
   },
   {
    "duration": 9,
    "start_time": "2022-02-19T06:56:56.828Z"
   },
   {
    "duration": 5,
    "start_time": "2022-02-19T06:56:56.842Z"
   },
   {
    "duration": 9,
    "start_time": "2022-02-19T06:56:56.849Z"
   },
   {
    "duration": 7,
    "start_time": "2022-02-19T06:56:56.859Z"
   },
   {
    "duration": 10,
    "start_time": "2022-02-19T06:56:56.868Z"
   },
   {
    "duration": 6,
    "start_time": "2022-02-19T06:56:56.880Z"
   },
   {
    "duration": 35,
    "start_time": "2022-02-19T06:56:56.887Z"
   },
   {
    "duration": 8,
    "start_time": "2022-02-19T06:56:56.924Z"
   },
   {
    "duration": 36,
    "start_time": "2022-02-19T06:56:56.934Z"
   },
   {
    "duration": 5,
    "start_time": "2022-02-19T06:56:56.972Z"
   },
   {
    "duration": 15,
    "start_time": "2022-02-19T06:56:56.979Z"
   },
   {
    "duration": 23,
    "start_time": "2022-02-19T06:56:56.996Z"
   },
   {
    "duration": 3,
    "start_time": "2022-02-19T06:56:57.021Z"
   },
   {
    "duration": 12,
    "start_time": "2022-02-19T06:56:57.026Z"
   },
   {
    "duration": 23,
    "start_time": "2022-02-19T06:56:57.039Z"
   },
   {
    "duration": 6,
    "start_time": "2022-02-19T06:56:57.064Z"
   },
   {
    "duration": 52,
    "start_time": "2022-02-19T06:56:57.072Z"
   },
   {
    "duration": 37,
    "start_time": "2022-02-19T06:56:57.126Z"
   },
   {
    "duration": 4,
    "start_time": "2022-02-19T06:56:57.165Z"
   },
   {
    "duration": 5,
    "start_time": "2022-02-19T06:56:57.171Z"
   },
   {
    "duration": 7343,
    "start_time": "2022-02-19T06:56:57.178Z"
   },
   {
    "duration": -6,
    "start_time": "2022-02-19T06:57:04.530Z"
   },
   {
    "duration": -6,
    "start_time": "2022-02-19T06:57:04.532Z"
   },
   {
    "duration": 4,
    "start_time": "2022-02-19T06:58:24.419Z"
   },
   {
    "duration": 1105,
    "start_time": "2022-02-19T06:58:27.299Z"
   },
   {
    "duration": 13,
    "start_time": "2022-02-19T06:58:36.638Z"
   },
   {
    "duration": 3,
    "start_time": "2022-02-19T06:58:45.095Z"
   },
   {
    "duration": 6,
    "start_time": "2022-02-19T06:58:46.651Z"
   },
   {
    "duration": 20,
    "start_time": "2022-02-19T06:59:03.174Z"
   },
   {
    "duration": 282,
    "start_time": "2022-02-19T07:00:30.843Z"
   },
   {
    "duration": 717,
    "start_time": "2022-02-19T07:00:48.020Z"
   },
   {
    "duration": 520,
    "start_time": "2022-02-19T07:01:11.737Z"
   },
   {
    "duration": 3,
    "start_time": "2022-02-19T07:03:42.544Z"
   },
   {
    "duration": 1468,
    "start_time": "2022-02-19T07:03:44.044Z"
   },
   {
    "duration": -93,
    "start_time": "2022-02-19T07:03:45.607Z"
   },
   {
    "duration": 644,
    "start_time": "2022-02-19T07:03:47.227Z"
   },
   {
    "duration": 3,
    "start_time": "2022-02-19T07:04:12.103Z"
   },
   {
    "duration": 10,
    "start_time": "2022-02-19T07:04:15.272Z"
   },
   {
    "duration": 3,
    "start_time": "2022-02-19T07:04:25.415Z"
   },
   {
    "duration": 548,
    "start_time": "2022-02-19T07:04:28.574Z"
   },
   {
    "duration": 280,
    "start_time": "2022-02-19T07:04:42.930Z"
   },
   {
    "duration": 8,
    "start_time": "2022-02-19T07:04:52.549Z"
   },
   {
    "duration": 17,
    "start_time": "2022-02-19T07:08:25.485Z"
   },
   {
    "duration": 37,
    "start_time": "2022-02-19T07:09:48.521Z"
   },
   {
    "duration": 11,
    "start_time": "2022-02-19T07:13:13.638Z"
   },
   {
    "duration": 3,
    "start_time": "2022-02-19T07:13:49.950Z"
   },
   {
    "duration": 500,
    "start_time": "2022-02-19T07:13:57.321Z"
   },
   {
    "duration": 3,
    "start_time": "2022-02-19T07:15:27.269Z"
   },
   {
    "duration": 523,
    "start_time": "2022-02-19T07:15:29.094Z"
   },
   {
    "duration": 3,
    "start_time": "2022-02-19T07:19:28.980Z"
   },
   {
    "duration": 1308,
    "start_time": "2022-02-19T07:19:30.976Z"
   },
   {
    "duration": 559,
    "start_time": "2022-02-19T07:19:55.562Z"
   },
   {
    "duration": 3,
    "start_time": "2022-02-19T07:20:07.680Z"
   },
   {
    "duration": 589,
    "start_time": "2022-02-19T07:20:10.338Z"
   },
   {
    "duration": 471,
    "start_time": "2022-02-19T07:20:51.119Z"
   },
   {
    "duration": 3,
    "start_time": "2022-02-19T07:20:52.171Z"
   },
   {
    "duration": 6,
    "start_time": "2022-02-19T07:21:43.062Z"
   },
   {
    "duration": 20,
    "start_time": "2022-02-19T07:21:47.560Z"
   },
   {
    "duration": 3,
    "start_time": "2022-02-19T07:23:27.678Z"
   },
   {
    "duration": 12,
    "start_time": "2022-02-19T07:23:29.497Z"
   },
   {
    "duration": 3,
    "start_time": "2022-02-19T07:29:14.716Z"
   },
   {
    "duration": 102,
    "start_time": "2022-02-19T07:29:14.721Z"
   },
   {
    "duration": 10,
    "start_time": "2022-02-19T07:29:14.825Z"
   },
   {
    "duration": 18,
    "start_time": "2022-02-19T07:29:14.837Z"
   },
   {
    "duration": 21,
    "start_time": "2022-02-19T07:29:14.857Z"
   },
   {
    "duration": 32,
    "start_time": "2022-02-19T07:29:14.879Z"
   },
   {
    "duration": 15,
    "start_time": "2022-02-19T07:29:14.913Z"
   },
   {
    "duration": 41,
    "start_time": "2022-02-19T07:29:14.930Z"
   },
   {
    "duration": 24,
    "start_time": "2022-02-19T07:29:14.974Z"
   },
   {
    "duration": 30,
    "start_time": "2022-02-19T07:29:15.001Z"
   },
   {
    "duration": 51,
    "start_time": "2022-02-19T07:29:15.033Z"
   },
   {
    "duration": 26,
    "start_time": "2022-02-19T07:29:15.086Z"
   },
   {
    "duration": 20,
    "start_time": "2022-02-19T07:29:15.114Z"
   },
   {
    "duration": 18,
    "start_time": "2022-02-19T07:29:15.136Z"
   },
   {
    "duration": 22,
    "start_time": "2022-02-19T07:29:15.156Z"
   },
   {
    "duration": 30,
    "start_time": "2022-02-19T07:29:15.180Z"
   },
   {
    "duration": 20,
    "start_time": "2022-02-19T07:29:15.212Z"
   },
   {
    "duration": 26,
    "start_time": "2022-02-19T07:29:15.234Z"
   },
   {
    "duration": 35,
    "start_time": "2022-02-19T07:29:15.262Z"
   },
   {
    "duration": 15,
    "start_time": "2022-02-19T07:29:15.299Z"
   },
   {
    "duration": 27,
    "start_time": "2022-02-19T07:29:15.315Z"
   },
   {
    "duration": 5,
    "start_time": "2022-02-19T07:29:15.344Z"
   },
   {
    "duration": 6,
    "start_time": "2022-02-19T07:29:15.351Z"
   },
   {
    "duration": 7,
    "start_time": "2022-02-19T07:29:15.359Z"
   },
   {
    "duration": 7,
    "start_time": "2022-02-19T07:29:15.368Z"
   },
   {
    "duration": 16,
    "start_time": "2022-02-19T07:29:15.377Z"
   },
   {
    "duration": 5,
    "start_time": "2022-02-19T07:29:15.398Z"
   },
   {
    "duration": 6,
    "start_time": "2022-02-19T07:29:15.417Z"
   },
   {
    "duration": 5,
    "start_time": "2022-02-19T07:29:15.425Z"
   },
   {
    "duration": 9,
    "start_time": "2022-02-19T07:29:15.432Z"
   },
   {
    "duration": 8,
    "start_time": "2022-02-19T07:29:15.443Z"
   },
   {
    "duration": 6,
    "start_time": "2022-02-19T07:29:15.453Z"
   },
   {
    "duration": 10,
    "start_time": "2022-02-19T07:29:15.460Z"
   },
   {
    "duration": 47,
    "start_time": "2022-02-19T07:29:15.472Z"
   },
   {
    "duration": 3,
    "start_time": "2022-02-19T07:29:15.521Z"
   },
   {
    "duration": 18,
    "start_time": "2022-02-19T07:29:15.526Z"
   },
   {
    "duration": 19,
    "start_time": "2022-02-19T07:29:15.546Z"
   },
   {
    "duration": 5,
    "start_time": "2022-02-19T07:29:15.567Z"
   },
   {
    "duration": 12,
    "start_time": "2022-02-19T07:29:15.574Z"
   },
   {
    "duration": 48,
    "start_time": "2022-02-19T07:29:15.588Z"
   },
   {
    "duration": 11,
    "start_time": "2022-02-19T07:29:15.638Z"
   },
   {
    "duration": 27,
    "start_time": "2022-02-19T07:29:15.651Z"
   },
   {
    "duration": 57,
    "start_time": "2022-02-19T07:29:15.680Z"
   },
   {
    "duration": 5,
    "start_time": "2022-02-19T07:29:15.738Z"
   },
   {
    "duration": 9,
    "start_time": "2022-02-19T07:29:15.745Z"
   },
   {
    "duration": 446,
    "start_time": "2022-02-19T07:29:15.756Z"
   },
   {
    "duration": 22,
    "start_time": "2022-02-19T07:29:16.204Z"
   },
   {
    "duration": 3,
    "start_time": "2022-02-19T07:29:16.228Z"
   },
   {
    "duration": 14,
    "start_time": "2022-02-19T07:29:16.233Z"
   },
   {
    "duration": 12,
    "start_time": "2022-02-19T07:32:17.850Z"
   },
   {
    "duration": 3,
    "start_time": "2022-02-19T07:32:31.928Z"
   },
   {
    "duration": 84,
    "start_time": "2022-02-19T07:32:31.934Z"
   },
   {
    "duration": 11,
    "start_time": "2022-02-19T07:32:32.020Z"
   },
   {
    "duration": 13,
    "start_time": "2022-02-19T07:32:32.033Z"
   },
   {
    "duration": 6,
    "start_time": "2022-02-19T07:32:32.048Z"
   },
   {
    "duration": 10,
    "start_time": "2022-02-19T07:32:32.056Z"
   },
   {
    "duration": 13,
    "start_time": "2022-02-19T07:32:32.068Z"
   },
   {
    "duration": 8,
    "start_time": "2022-02-19T07:32:32.083Z"
   },
   {
    "duration": 4,
    "start_time": "2022-02-19T07:32:32.119Z"
   },
   {
    "duration": 23,
    "start_time": "2022-02-19T07:32:32.125Z"
   },
   {
    "duration": 20,
    "start_time": "2022-02-19T07:32:32.150Z"
   },
   {
    "duration": 18,
    "start_time": "2022-02-19T07:32:32.171Z"
   },
   {
    "duration": 36,
    "start_time": "2022-02-19T07:32:32.191Z"
   },
   {
    "duration": 12,
    "start_time": "2022-02-19T07:32:32.229Z"
   },
   {
    "duration": 17,
    "start_time": "2022-02-19T07:32:32.243Z"
   },
   {
    "duration": 16,
    "start_time": "2022-02-19T07:32:32.262Z"
   },
   {
    "duration": 13,
    "start_time": "2022-02-19T07:32:32.280Z"
   },
   {
    "duration": 7,
    "start_time": "2022-02-19T07:32:32.295Z"
   },
   {
    "duration": 15,
    "start_time": "2022-02-19T07:32:32.304Z"
   },
   {
    "duration": 11,
    "start_time": "2022-02-19T07:32:32.321Z"
   },
   {
    "duration": 12,
    "start_time": "2022-02-19T07:32:32.334Z"
   },
   {
    "duration": 13,
    "start_time": "2022-02-19T07:32:32.348Z"
   },
   {
    "duration": 5,
    "start_time": "2022-02-19T07:32:32.366Z"
   },
   {
    "duration": 16,
    "start_time": "2022-02-19T07:32:32.373Z"
   },
   {
    "duration": 6,
    "start_time": "2022-02-19T07:32:32.391Z"
   },
   {
    "duration": 11,
    "start_time": "2022-02-19T07:32:32.399Z"
   },
   {
    "duration": 7,
    "start_time": "2022-02-19T07:32:32.412Z"
   },
   {
    "duration": 6,
    "start_time": "2022-02-19T07:32:32.420Z"
   },
   {
    "duration": 6,
    "start_time": "2022-02-19T07:32:32.428Z"
   },
   {
    "duration": 11,
    "start_time": "2022-02-19T07:32:32.436Z"
   },
   {
    "duration": 11,
    "start_time": "2022-02-19T07:32:32.448Z"
   },
   {
    "duration": 7,
    "start_time": "2022-02-19T07:32:32.460Z"
   },
   {
    "duration": 10,
    "start_time": "2022-02-19T07:32:32.469Z"
   },
   {
    "duration": 39,
    "start_time": "2022-02-19T07:32:32.481Z"
   },
   {
    "duration": 5,
    "start_time": "2022-02-19T07:32:32.522Z"
   },
   {
    "duration": 15,
    "start_time": "2022-02-19T07:32:32.530Z"
   },
   {
    "duration": 23,
    "start_time": "2022-02-19T07:32:32.546Z"
   },
   {
    "duration": 2,
    "start_time": "2022-02-19T07:32:32.571Z"
   },
   {
    "duration": 14,
    "start_time": "2022-02-19T07:32:32.575Z"
   },
   {
    "duration": 45,
    "start_time": "2022-02-19T07:32:32.590Z"
   },
   {
    "duration": 8,
    "start_time": "2022-02-19T07:32:32.637Z"
   },
   {
    "duration": 31,
    "start_time": "2022-02-19T07:32:32.647Z"
   },
   {
    "duration": 56,
    "start_time": "2022-02-19T07:32:32.680Z"
   },
   {
    "duration": 5,
    "start_time": "2022-02-19T07:32:32.737Z"
   },
   {
    "duration": 7,
    "start_time": "2022-02-19T07:32:32.743Z"
   },
   {
    "duration": 456,
    "start_time": "2022-02-19T07:32:32.751Z"
   },
   {
    "duration": 29,
    "start_time": "2022-02-19T07:32:33.208Z"
   },
   {
    "duration": 3,
    "start_time": "2022-02-19T07:32:33.239Z"
   },
   {
    "duration": 14,
    "start_time": "2022-02-19T07:32:33.244Z"
   },
   {
    "duration": 20,
    "start_time": "2022-02-19T07:32:33.259Z"
   },
   {
    "duration": 10,
    "start_time": "2022-02-19T07:33:21.345Z"
   },
   {
    "duration": 676,
    "start_time": "2022-02-19T08:11:21.188Z"
   },
   {
    "duration": 76,
    "start_time": "2022-02-19T08:11:21.867Z"
   },
   {
    "duration": 12,
    "start_time": "2022-02-19T08:11:21.946Z"
   },
   {
    "duration": 16,
    "start_time": "2022-02-19T08:11:21.960Z"
   },
   {
    "duration": 8,
    "start_time": "2022-02-19T08:11:21.979Z"
   },
   {
    "duration": 34,
    "start_time": "2022-02-19T08:11:21.988Z"
   },
   {
    "duration": 7,
    "start_time": "2022-02-19T08:11:22.024Z"
   },
   {
    "duration": 10,
    "start_time": "2022-02-19T08:11:22.034Z"
   },
   {
    "duration": 7,
    "start_time": "2022-02-19T08:11:22.047Z"
   },
   {
    "duration": 22,
    "start_time": "2022-02-19T08:11:22.056Z"
   },
   {
    "duration": 53,
    "start_time": "2022-02-19T08:11:22.081Z"
   },
   {
    "duration": 18,
    "start_time": "2022-02-19T08:11:22.135Z"
   },
   {
    "duration": 13,
    "start_time": "2022-02-19T08:11:22.155Z"
   },
   {
    "duration": 14,
    "start_time": "2022-02-19T08:11:22.170Z"
   },
   {
    "duration": 13,
    "start_time": "2022-02-19T08:11:22.187Z"
   },
   {
    "duration": 22,
    "start_time": "2022-02-19T08:11:22.202Z"
   },
   {
    "duration": 5,
    "start_time": "2022-02-19T08:11:22.226Z"
   },
   {
    "duration": 8,
    "start_time": "2022-02-19T08:11:22.233Z"
   },
   {
    "duration": 6,
    "start_time": "2022-02-19T08:11:22.243Z"
   },
   {
    "duration": 6,
    "start_time": "2022-02-19T08:11:22.250Z"
   },
   {
    "duration": 12,
    "start_time": "2022-02-19T08:11:22.258Z"
   },
   {
    "duration": 6,
    "start_time": "2022-02-19T08:11:22.272Z"
   },
   {
    "duration": 37,
    "start_time": "2022-02-19T08:11:22.282Z"
   },
   {
    "duration": 5,
    "start_time": "2022-02-19T08:11:22.322Z"
   },
   {
    "duration": 12,
    "start_time": "2022-02-19T08:11:22.328Z"
   },
   {
    "duration": 15,
    "start_time": "2022-02-19T08:11:22.342Z"
   },
   {
    "duration": 6,
    "start_time": "2022-02-19T08:11:22.358Z"
   },
   {
    "duration": 7,
    "start_time": "2022-02-19T08:11:22.365Z"
   },
   {
    "duration": 8,
    "start_time": "2022-02-19T08:11:22.374Z"
   },
   {
    "duration": 9,
    "start_time": "2022-02-19T08:11:22.383Z"
   },
   {
    "duration": 30,
    "start_time": "2022-02-19T08:11:22.393Z"
   },
   {
    "duration": 24,
    "start_time": "2022-02-19T08:11:22.425Z"
   },
   {
    "duration": 8,
    "start_time": "2022-02-19T08:11:22.451Z"
   },
   {
    "duration": 24,
    "start_time": "2022-02-19T08:11:22.460Z"
   },
   {
    "duration": 18,
    "start_time": "2022-02-19T08:11:22.485Z"
   },
   {
    "duration": 19,
    "start_time": "2022-02-19T08:11:22.504Z"
   },
   {
    "duration": 23,
    "start_time": "2022-02-19T08:11:22.526Z"
   },
   {
    "duration": 13,
    "start_time": "2022-02-19T08:11:22.550Z"
   },
   {
    "duration": 16,
    "start_time": "2022-02-19T08:11:22.565Z"
   },
   {
    "duration": 20,
    "start_time": "2022-02-19T08:11:22.583Z"
   },
   {
    "duration": 19,
    "start_time": "2022-02-19T08:11:22.604Z"
   },
   {
    "duration": 35,
    "start_time": "2022-02-19T08:11:22.624Z"
   },
   {
    "duration": 59,
    "start_time": "2022-02-19T08:11:22.661Z"
   },
   {
    "duration": 5,
    "start_time": "2022-02-19T08:11:22.722Z"
   },
   {
    "duration": 5,
    "start_time": "2022-02-19T08:11:22.729Z"
   },
   {
    "duration": 472,
    "start_time": "2022-02-19T08:11:22.736Z"
   },
   {
    "duration": 24,
    "start_time": "2022-02-19T08:11:23.210Z"
   },
   {
    "duration": 8,
    "start_time": "2022-02-19T08:11:23.236Z"
   },
   {
    "duration": 13,
    "start_time": "2022-02-19T08:11:23.246Z"
   },
   {
    "duration": 9,
    "start_time": "2022-02-19T08:11:23.261Z"
   },
   {
    "duration": 591,
    "start_time": "2022-02-28T19:58:24.155Z"
   },
   {
    "duration": 72,
    "start_time": "2022-02-28T19:58:24.748Z"
   },
   {
    "duration": 11,
    "start_time": "2022-02-28T19:58:24.822Z"
   },
   {
    "duration": 14,
    "start_time": "2022-02-28T19:58:24.835Z"
   },
   {
    "duration": 8,
    "start_time": "2022-02-28T19:58:24.850Z"
   },
   {
    "duration": 12,
    "start_time": "2022-02-28T19:58:24.859Z"
   },
   {
    "duration": 30,
    "start_time": "2022-02-28T19:58:24.873Z"
   },
   {
    "duration": 8,
    "start_time": "2022-02-28T19:58:24.906Z"
   },
   {
    "duration": 5,
    "start_time": "2022-02-28T19:58:24.917Z"
   },
   {
    "duration": 23,
    "start_time": "2022-02-28T19:58:24.924Z"
   },
   {
    "duration": 19,
    "start_time": "2022-02-28T19:58:24.949Z"
   },
   {
    "duration": 44,
    "start_time": "2022-02-28T19:58:24.970Z"
   },
   {
    "duration": 14,
    "start_time": "2022-02-28T19:58:25.016Z"
   },
   {
    "duration": 8,
    "start_time": "2022-02-28T19:58:25.032Z"
   },
   {
    "duration": 9,
    "start_time": "2022-02-28T19:58:25.042Z"
   },
   {
    "duration": 6,
    "start_time": "2022-02-28T19:58:25.053Z"
   },
   {
    "duration": 13,
    "start_time": "2022-02-28T19:58:25.060Z"
   },
   {
    "duration": 29,
    "start_time": "2022-02-28T19:58:25.075Z"
   },
   {
    "duration": 9,
    "start_time": "2022-02-28T19:58:25.106Z"
   },
   {
    "duration": 11,
    "start_time": "2022-02-28T19:58:25.117Z"
   },
   {
    "duration": 9,
    "start_time": "2022-02-28T19:58:25.131Z"
   },
   {
    "duration": 7,
    "start_time": "2022-02-28T19:58:25.142Z"
   },
   {
    "duration": 5,
    "start_time": "2022-02-28T19:58:25.155Z"
   },
   {
    "duration": 41,
    "start_time": "2022-02-28T19:58:25.163Z"
   },
   {
    "duration": 7,
    "start_time": "2022-02-28T19:58:25.206Z"
   },
   {
    "duration": 9,
    "start_time": "2022-02-28T19:58:25.215Z"
   },
   {
    "duration": 14,
    "start_time": "2022-02-28T19:58:25.226Z"
   },
   {
    "duration": 8,
    "start_time": "2022-02-28T19:58:25.242Z"
   },
   {
    "duration": 6,
    "start_time": "2022-02-28T19:58:25.252Z"
   },
   {
    "duration": 10,
    "start_time": "2022-02-28T19:58:25.260Z"
   },
   {
    "duration": 8,
    "start_time": "2022-02-28T19:58:25.302Z"
   },
   {
    "duration": 7,
    "start_time": "2022-02-28T19:58:25.312Z"
   },
   {
    "duration": 10,
    "start_time": "2022-02-28T19:58:25.320Z"
   },
   {
    "duration": 22,
    "start_time": "2022-02-28T19:58:25.331Z"
   },
   {
    "duration": 13,
    "start_time": "2022-02-28T19:58:25.355Z"
   },
   {
    "duration": 34,
    "start_time": "2022-02-28T19:58:25.369Z"
   },
   {
    "duration": 26,
    "start_time": "2022-02-28T19:58:25.405Z"
   },
   {
    "duration": 3,
    "start_time": "2022-02-28T19:58:25.433Z"
   },
   {
    "duration": 17,
    "start_time": "2022-02-28T19:58:25.438Z"
   },
   {
    "duration": 25,
    "start_time": "2022-02-28T19:58:25.458Z"
   },
   {
    "duration": 17,
    "start_time": "2022-02-28T19:58:25.485Z"
   },
   {
    "duration": 32,
    "start_time": "2022-02-28T19:58:25.504Z"
   },
   {
    "duration": 39,
    "start_time": "2022-02-28T19:58:25.538Z"
   },
   {
    "duration": 26,
    "start_time": "2022-02-28T19:58:25.579Z"
   },
   {
    "duration": 4,
    "start_time": "2022-02-28T19:58:25.608Z"
   },
   {
    "duration": 515,
    "start_time": "2022-02-28T19:58:25.614Z"
   },
   {
    "duration": 23,
    "start_time": "2022-02-28T19:58:26.131Z"
   },
   {
    "duration": 6,
    "start_time": "2022-02-28T19:58:26.156Z"
   },
   {
    "duration": 22,
    "start_time": "2022-02-28T19:58:26.163Z"
   },
   {
    "duration": 23,
    "start_time": "2022-02-28T19:58:26.187Z"
   },
   {
    "duration": 13,
    "start_time": "2022-02-28T20:07:38.373Z"
   }
  ],
  "kernelspec": {
   "display_name": "Python 3 (ipykernel)",
   "language": "python",
   "name": "python3"
  },
  "language_info": {
   "codemirror_mode": {
    "name": "ipython",
    "version": 3
   },
   "file_extension": ".py",
   "mimetype": "text/x-python",
   "name": "python",
   "nbconvert_exporter": "python",
   "pygments_lexer": "ipython3",
   "version": "3.9.7"
  },
  "toc": {
   "base_numbering": 1,
   "nav_menu": {},
   "number_sections": true,
   "sideBar": true,
   "skip_h1_title": true,
   "title_cell": "Table of Contents",
   "title_sidebar": "Contents",
   "toc_cell": false,
   "toc_position": {},
   "toc_section_display": true,
   "toc_window_display": false
  }
 },
 "nbformat": 4,
 "nbformat_minor": 5
}
