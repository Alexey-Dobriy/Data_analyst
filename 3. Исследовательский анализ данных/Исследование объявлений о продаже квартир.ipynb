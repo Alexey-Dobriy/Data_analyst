{
 "cells": [
  {
   "cell_type": "markdown",
   "metadata": {},
   "source": [
    "# Исследование объявлений о продаже квартир\n",
    "\n",
    "В вашем распоряжении данные сервиса Яндекc Недвижимость — архив объявлений о продаже квартир в Санкт-Петербурге и соседних населённых пунктах за несколько лет. Нужно научиться определять рыночную стоимость объектов недвижимости. Ваша задача — установить параметры. Это позволит построить автоматизированную систему: она отследит аномалии и мошенническую деятельность. \n",
    "\n",
    "По каждой квартире на продажу доступны два вида данных. Первые вписаны пользователем, вторые получены автоматически на основе картографических данных. Например, расстояние до центра, аэропорта, ближайшего парка и водоёма. "
   ]
  },
  {
   "cell_type": "markdown",
   "metadata": {},
   "source": [
    "## Изучение данных из файла"
   ]
  },
  {
   "cell_type": "code",
   "execution_count": 1,
   "metadata": {},
   "outputs": [],
   "source": [
    "# импортирую библиотеку\n",
    "import pandas as pd"
   ]
  },
  {
   "cell_type": "code",
   "execution_count": 2,
   "metadata": {
    "scrolled": true
   },
   "outputs": [
    {
     "name": "stdout",
     "output_type": "stream",
     "text": [
      "<class 'pandas.core.frame.DataFrame'>\n",
      "RangeIndex: 23699 entries, 0 to 23698\n",
      "Data columns (total 22 columns):\n",
      " #   Column                Non-Null Count  Dtype  \n",
      "---  ------                --------------  -----  \n",
      " 0   total_images          23699 non-null  int64  \n",
      " 1   last_price            23699 non-null  float64\n",
      " 2   total_area            23699 non-null  float64\n",
      " 3   first_day_exposition  23699 non-null  object \n",
      " 4   rooms                 23699 non-null  int64  \n",
      " 5   ceiling_height        14504 non-null  float64\n",
      " 6   floors_total          23613 non-null  float64\n",
      " 7   living_area           21796 non-null  float64\n",
      " 8   floor                 23699 non-null  int64  \n",
      " 9   is_apartment          2775 non-null   object \n",
      " 10  studio                23699 non-null  bool   \n",
      " 11  open_plan             23699 non-null  bool   \n",
      " 12  kitchen_area          21421 non-null  float64\n",
      " 13  balcony               12180 non-null  float64\n",
      " 14  locality_name         23650 non-null  object \n",
      " 15  airports_nearest      18157 non-null  float64\n",
      " 16  cityCenters_nearest   18180 non-null  float64\n",
      " 17  parks_around3000      18181 non-null  float64\n",
      " 18  parks_nearest         8079 non-null   float64\n",
      " 19  ponds_around3000      18181 non-null  float64\n",
      " 20  ponds_nearest         9110 non-null   float64\n",
      " 21  days_exposition       20518 non-null  float64\n",
      "dtypes: bool(2), float64(14), int64(3), object(3)\n",
      "memory usage: 3.7+ MB\n"
     ]
    }
   ],
   "source": [
    "# открываю таблицу и запрашиваю все атрибуты \n",
    "data = pd.read_csv('/datasets/real_estate_data.csv', sep='\\t')\n",
    "data.info()"
   ]
  },
  {
   "cell_type": "markdown",
   "metadata": {},
   "source": [
    "**Вывод:**\n",
    "* Вижу довольно большие пропуски значений, причем во многих столбцах.\n",
    "* Очень напрягают указанные типы данных, каким-то образом у нас количество этажей и число балконов это дробные числа, что в принципе невозможно!\n"
   ]
  },
  {
   "cell_type": "markdown",
   "metadata": {},
   "source": [
    "## Предобработка данных"
   ]
  },
  {
   "cell_type": "code",
   "execution_count": 3,
   "metadata": {},
   "outputs": [],
   "source": [
    "# Переименуем столбы\n",
    "cols = ['total_images',            \n",
    "'last_price',              \n",
    "'total_area',              \n",
    "'first_day_exposition',   \n",
    "'rooms',                   \n",
    "'ceiling_height',          \n",
    "'floors_total',            \n",
    "'living_area',             \n",
    "'floor',                   \n",
    "'is_apartment',            \n",
    "'studio',                 \n",
    "'open_plan',               \n",
    "'kitchen_area',            \n",
    "'balcony',               \n",
    "'locality_name',           \n",
    "'airports_nearest',        \n",
    "'city_centers_nearest',     \n",
    "'parks_around_3000',       \n",
    "'parks_nearest',           \n",
    "'ponds_around_3000',       \n",
    "'ponds_nearest',           \n",
    "'days_exposition'] \n",
    "data.set_axis(cols, axis='columns', inplace=True)"
   ]
  },
  {
   "cell_type": "code",
   "execution_count": 4,
   "metadata": {},
   "outputs": [
    {
     "data": {
      "text/plain": [
       "['total_images',\n",
       " 'last_price',\n",
       " 'total_area',\n",
       " 'first_day_exposition',\n",
       " 'rooms',\n",
       " 'ceiling_height',\n",
       " 'floors_total',\n",
       " 'living_area',\n",
       " 'floor',\n",
       " 'is_apartment',\n",
       " 'studio',\n",
       " 'open_plan',\n",
       " 'kitchen_area',\n",
       " 'balcony',\n",
       " 'locality_name',\n",
       " 'airports_nearest',\n",
       " 'city_centers_nearest',\n",
       " 'parks_around_3000',\n",
       " 'parks_nearest',\n",
       " 'ponds_around_3000',\n",
       " 'ponds_nearest',\n",
       " 'days_exposition']"
      ]
     },
     "execution_count": 4,
     "metadata": {},
     "output_type": "execute_result"
    }
   ],
   "source": [
    "# Убедимся, что столбцы переименованы\n",
    "data.columns.tolist()"
   ]
  },
  {
   "cell_type": "markdown",
   "metadata": {},
   "source": [
    "**1. Для начала определим пропущенные значения и заполним их.**"
   ]
  },
  {
   "cell_type": "code",
   "execution_count": 5,
   "metadata": {
    "scrolled": false
   },
   "outputs": [
    {
     "data": {
      "text/plain": [
       "total_images                0\n",
       "last_price                  0\n",
       "total_area                  0\n",
       "first_day_exposition        0\n",
       "rooms                       0\n",
       "ceiling_height           9195\n",
       "floors_total               86\n",
       "living_area              1903\n",
       "floor                       0\n",
       "is_apartment            20924\n",
       "studio                      0\n",
       "open_plan                   0\n",
       "kitchen_area             2278\n",
       "balcony                 11519\n",
       "locality_name              49\n",
       "airports_nearest         5542\n",
       "city_centers_nearest     5519\n",
       "parks_around_3000        5518\n",
       "parks_nearest           15620\n",
       "ponds_around_3000        5518\n",
       "ponds_nearest           14589\n",
       "days_exposition          3181\n",
       "dtype: int64"
      ]
     },
     "execution_count": 5,
     "metadata": {},
     "output_type": "execute_result"
    }
   ],
   "source": [
    "# смотрим количество пропущенных значений\n",
    "data.isna().sum()"
   ]
  },
  {
   "cell_type": "code",
   "execution_count": 6,
   "metadata": {},
   "outputs": [
    {
     "data": {
      "text/html": [
       "<style  type=\"text/css\" >\n",
       "#T_b1ee7_row0_col0{\n",
       "            background-color:  #b40426;\n",
       "            color:  #f1f1f1;\n",
       "        }#T_b1ee7_row1_col0{\n",
       "            background-color:  #f49a7b;\n",
       "            color:  #000000;\n",
       "        }#T_b1ee7_row2_col0{\n",
       "            background-color:  #f7ad90;\n",
       "            color:  #000000;\n",
       "        }#T_b1ee7_row3_col0{\n",
       "            background-color:  #e9d5cb;\n",
       "            color:  #000000;\n",
       "        }#T_b1ee7_row4_col0{\n",
       "            background-color:  #ccd9ed;\n",
       "            color:  #000000;\n",
       "        }#T_b1ee7_row5_col0,#T_b1ee7_row6_col0,#T_b1ee7_row7_col0,#T_b1ee7_row8_col0{\n",
       "            background-color:  #92b4fe;\n",
       "            color:  #000000;\n",
       "        }#T_b1ee7_row9_col0{\n",
       "            background-color:  #6a8bef;\n",
       "            color:  #000000;\n",
       "        }#T_b1ee7_row10_col0{\n",
       "            background-color:  #5b7ae5;\n",
       "            color:  #000000;\n",
       "        }#T_b1ee7_row11_col0{\n",
       "            background-color:  #5673e0;\n",
       "            color:  #000000;\n",
       "        }#T_b1ee7_row12_col0{\n",
       "            background-color:  #3c4ec2;\n",
       "            color:  #f1f1f1;\n",
       "        }#T_b1ee7_row13_col0,#T_b1ee7_row14_col0,#T_b1ee7_row15_col0,#T_b1ee7_row16_col0,#T_b1ee7_row17_col0,#T_b1ee7_row18_col0,#T_b1ee7_row19_col0,#T_b1ee7_row20_col0,#T_b1ee7_row21_col0{\n",
       "            background-color:  #3b4cc0;\n",
       "            color:  #f1f1f1;\n",
       "        }</style><table id=\"T_b1ee7_\" ><thead>    <tr>        <th class=\"blank level0\" ></th>        <th class=\"col_heading level0 col0\" >0</th>    </tr></thead><tbody>\n",
       "                <tr>\n",
       "                        <th id=\"T_b1ee7_level0_row0\" class=\"row_heading level0 row0\" >is_apartment</th>\n",
       "                        <td id=\"T_b1ee7_row0_col0\" class=\"data row0 col0\" >88.290000</td>\n",
       "            </tr>\n",
       "            <tr>\n",
       "                        <th id=\"T_b1ee7_level0_row1\" class=\"row_heading level0 row1\" >parks_nearest</th>\n",
       "                        <td id=\"T_b1ee7_row1_col0\" class=\"data row1 col0\" >65.910000</td>\n",
       "            </tr>\n",
       "            <tr>\n",
       "                        <th id=\"T_b1ee7_level0_row2\" class=\"row_heading level0 row2\" >ponds_nearest</th>\n",
       "                        <td id=\"T_b1ee7_row2_col0\" class=\"data row2 col0\" >61.560000</td>\n",
       "            </tr>\n",
       "            <tr>\n",
       "                        <th id=\"T_b1ee7_level0_row3\" class=\"row_heading level0 row3\" >balcony</th>\n",
       "                        <td id=\"T_b1ee7_row3_col0\" class=\"data row3 col0\" >48.610000</td>\n",
       "            </tr>\n",
       "            <tr>\n",
       "                        <th id=\"T_b1ee7_level0_row4\" class=\"row_heading level0 row4\" >ceiling_height</th>\n",
       "                        <td id=\"T_b1ee7_row4_col0\" class=\"data row4 col0\" >38.800000</td>\n",
       "            </tr>\n",
       "            <tr>\n",
       "                        <th id=\"T_b1ee7_level0_row5\" class=\"row_heading level0 row5\" >airports_nearest</th>\n",
       "                        <td id=\"T_b1ee7_row5_col0\" class=\"data row5 col0\" >23.380000</td>\n",
       "            </tr>\n",
       "            <tr>\n",
       "                        <th id=\"T_b1ee7_level0_row6\" class=\"row_heading level0 row6\" >city_centers_nearest</th>\n",
       "                        <td id=\"T_b1ee7_row6_col0\" class=\"data row6 col0\" >23.290000</td>\n",
       "            </tr>\n",
       "            <tr>\n",
       "                        <th id=\"T_b1ee7_level0_row7\" class=\"row_heading level0 row7\" >parks_around_3000</th>\n",
       "                        <td id=\"T_b1ee7_row7_col0\" class=\"data row7 col0\" >23.280000</td>\n",
       "            </tr>\n",
       "            <tr>\n",
       "                        <th id=\"T_b1ee7_level0_row8\" class=\"row_heading level0 row8\" >ponds_around_3000</th>\n",
       "                        <td id=\"T_b1ee7_row8_col0\" class=\"data row8 col0\" >23.280000</td>\n",
       "            </tr>\n",
       "            <tr>\n",
       "                        <th id=\"T_b1ee7_level0_row9\" class=\"row_heading level0 row9\" >days_exposition</th>\n",
       "                        <td id=\"T_b1ee7_row9_col0\" class=\"data row9 col0\" >13.420000</td>\n",
       "            </tr>\n",
       "            <tr>\n",
       "                        <th id=\"T_b1ee7_level0_row10\" class=\"row_heading level0 row10\" >kitchen_area</th>\n",
       "                        <td id=\"T_b1ee7_row10_col0\" class=\"data row10 col0\" >9.610000</td>\n",
       "            </tr>\n",
       "            <tr>\n",
       "                        <th id=\"T_b1ee7_level0_row11\" class=\"row_heading level0 row11\" >living_area</th>\n",
       "                        <td id=\"T_b1ee7_row11_col0\" class=\"data row11 col0\" >8.030000</td>\n",
       "            </tr>\n",
       "            <tr>\n",
       "                        <th id=\"T_b1ee7_level0_row12\" class=\"row_heading level0 row12\" >floors_total</th>\n",
       "                        <td id=\"T_b1ee7_row12_col0\" class=\"data row12 col0\" >0.360000</td>\n",
       "            </tr>\n",
       "            <tr>\n",
       "                        <th id=\"T_b1ee7_level0_row13\" class=\"row_heading level0 row13\" >locality_name</th>\n",
       "                        <td id=\"T_b1ee7_row13_col0\" class=\"data row13 col0\" >0.210000</td>\n",
       "            </tr>\n",
       "            <tr>\n",
       "                        <th id=\"T_b1ee7_level0_row14\" class=\"row_heading level0 row14\" >first_day_exposition</th>\n",
       "                        <td id=\"T_b1ee7_row14_col0\" class=\"data row14 col0\" >0.000000</td>\n",
       "            </tr>\n",
       "            <tr>\n",
       "                        <th id=\"T_b1ee7_level0_row15\" class=\"row_heading level0 row15\" >last_price</th>\n",
       "                        <td id=\"T_b1ee7_row15_col0\" class=\"data row15 col0\" >0.000000</td>\n",
       "            </tr>\n",
       "            <tr>\n",
       "                        <th id=\"T_b1ee7_level0_row16\" class=\"row_heading level0 row16\" >total_area</th>\n",
       "                        <td id=\"T_b1ee7_row16_col0\" class=\"data row16 col0\" >0.000000</td>\n",
       "            </tr>\n",
       "            <tr>\n",
       "                        <th id=\"T_b1ee7_level0_row17\" class=\"row_heading level0 row17\" >studio</th>\n",
       "                        <td id=\"T_b1ee7_row17_col0\" class=\"data row17 col0\" >0.000000</td>\n",
       "            </tr>\n",
       "            <tr>\n",
       "                        <th id=\"T_b1ee7_level0_row18\" class=\"row_heading level0 row18\" >rooms</th>\n",
       "                        <td id=\"T_b1ee7_row18_col0\" class=\"data row18 col0\" >0.000000</td>\n",
       "            </tr>\n",
       "            <tr>\n",
       "                        <th id=\"T_b1ee7_level0_row19\" class=\"row_heading level0 row19\" >floor</th>\n",
       "                        <td id=\"T_b1ee7_row19_col0\" class=\"data row19 col0\" >0.000000</td>\n",
       "            </tr>\n",
       "            <tr>\n",
       "                        <th id=\"T_b1ee7_level0_row20\" class=\"row_heading level0 row20\" >open_plan</th>\n",
       "                        <td id=\"T_b1ee7_row20_col0\" class=\"data row20 col0\" >0.000000</td>\n",
       "            </tr>\n",
       "            <tr>\n",
       "                        <th id=\"T_b1ee7_level0_row21\" class=\"row_heading level0 row21\" >total_images</th>\n",
       "                        <td id=\"T_b1ee7_row21_col0\" class=\"data row21 col0\" >0.000000</td>\n",
       "            </tr>\n",
       "    </tbody></table>"
      ],
      "text/plain": [
       "<pandas.io.formats.style.Styler at 0x7f2b09c4cfd0>"
      ]
     },
     "execution_count": 6,
     "metadata": {},
     "output_type": "execute_result"
    }
   ],
   "source": [
    "# КОД РЕВЬЮЕРА\n",
    "\n",
    "pd.DataFrame(data.isna().mean().round(4)*100).sort_values(by=0)[::-1].style.background_gradient('coolwarm')"
   ]
  },
  {
   "cell_type": "markdown",
   "metadata": {},
   "source": [
    "Видим ужасную вещь, огромное количество пропусков почти в каждом столбце, заполнять эти пропуски я буду медианным значением. Для большей точности я буду группировать наши столбики с другими, которые каким либо образом связаны. Но в столбцах: `balcony`, `is_apartment` и `locality_name` этот метод не сработает,  с ними мы разберемся позднее!"
   ]
  },
  {
   "cell_type": "code",
   "execution_count": 7,
   "metadata": {},
   "outputs": [
    {
     "data": {
      "text/html": [
       "<div>\n",
       "<style scoped>\n",
       "    .dataframe tbody tr th:only-of-type {\n",
       "        vertical-align: middle;\n",
       "    }\n",
       "\n",
       "    .dataframe tbody tr th {\n",
       "        vertical-align: top;\n",
       "    }\n",
       "\n",
       "    .dataframe thead th {\n",
       "        text-align: right;\n",
       "    }\n",
       "</style>\n",
       "<table border=\"1\" class=\"dataframe\">\n",
       "  <thead>\n",
       "    <tr style=\"text-align: right;\">\n",
       "      <th></th>\n",
       "      <th>total_images</th>\n",
       "      <th>last_price</th>\n",
       "      <th>total_area</th>\n",
       "      <th>first_day_exposition</th>\n",
       "      <th>rooms</th>\n",
       "      <th>ceiling_height</th>\n",
       "      <th>floors_total</th>\n",
       "      <th>living_area</th>\n",
       "      <th>floor</th>\n",
       "      <th>is_apartment</th>\n",
       "      <th>...</th>\n",
       "      <th>kitchen_area</th>\n",
       "      <th>balcony</th>\n",
       "      <th>locality_name</th>\n",
       "      <th>airports_nearest</th>\n",
       "      <th>city_centers_nearest</th>\n",
       "      <th>parks_around_3000</th>\n",
       "      <th>parks_nearest</th>\n",
       "      <th>ponds_around_3000</th>\n",
       "      <th>ponds_nearest</th>\n",
       "      <th>days_exposition</th>\n",
       "    </tr>\n",
       "  </thead>\n",
       "  <tbody>\n",
       "    <tr>\n",
       "      <th>0</th>\n",
       "      <td>20</td>\n",
       "      <td>13000000.0</td>\n",
       "      <td>108.00</td>\n",
       "      <td>2019-03-07T00:00:00</td>\n",
       "      <td>3</td>\n",
       "      <td>2.70</td>\n",
       "      <td>16.0</td>\n",
       "      <td>51.0</td>\n",
       "      <td>8</td>\n",
       "      <td>NaN</td>\n",
       "      <td>...</td>\n",
       "      <td>25.00</td>\n",
       "      <td>NaN</td>\n",
       "      <td>Санкт-Петербург</td>\n",
       "      <td>18863.0</td>\n",
       "      <td>16028.0</td>\n",
       "      <td>1.0</td>\n",
       "      <td>482.0</td>\n",
       "      <td>2.0</td>\n",
       "      <td>755.0</td>\n",
       "      <td>NaN</td>\n",
       "    </tr>\n",
       "    <tr>\n",
       "      <th>1</th>\n",
       "      <td>7</td>\n",
       "      <td>3350000.0</td>\n",
       "      <td>40.40</td>\n",
       "      <td>2018-12-04T00:00:00</td>\n",
       "      <td>1</td>\n",
       "      <td>NaN</td>\n",
       "      <td>11.0</td>\n",
       "      <td>18.6</td>\n",
       "      <td>1</td>\n",
       "      <td>NaN</td>\n",
       "      <td>...</td>\n",
       "      <td>11.00</td>\n",
       "      <td>2.0</td>\n",
       "      <td>посёлок Шушары</td>\n",
       "      <td>12817.0</td>\n",
       "      <td>18603.0</td>\n",
       "      <td>0.0</td>\n",
       "      <td>NaN</td>\n",
       "      <td>0.0</td>\n",
       "      <td>NaN</td>\n",
       "      <td>81.0</td>\n",
       "    </tr>\n",
       "    <tr>\n",
       "      <th>2</th>\n",
       "      <td>10</td>\n",
       "      <td>5196000.0</td>\n",
       "      <td>56.00</td>\n",
       "      <td>2015-08-20T00:00:00</td>\n",
       "      <td>2</td>\n",
       "      <td>NaN</td>\n",
       "      <td>5.0</td>\n",
       "      <td>34.3</td>\n",
       "      <td>4</td>\n",
       "      <td>NaN</td>\n",
       "      <td>...</td>\n",
       "      <td>8.30</td>\n",
       "      <td>0.0</td>\n",
       "      <td>Санкт-Петербург</td>\n",
       "      <td>21741.0</td>\n",
       "      <td>13933.0</td>\n",
       "      <td>1.0</td>\n",
       "      <td>90.0</td>\n",
       "      <td>2.0</td>\n",
       "      <td>574.0</td>\n",
       "      <td>558.0</td>\n",
       "    </tr>\n",
       "    <tr>\n",
       "      <th>3</th>\n",
       "      <td>0</td>\n",
       "      <td>64900000.0</td>\n",
       "      <td>159.00</td>\n",
       "      <td>2015-07-24T00:00:00</td>\n",
       "      <td>3</td>\n",
       "      <td>NaN</td>\n",
       "      <td>14.0</td>\n",
       "      <td>NaN</td>\n",
       "      <td>9</td>\n",
       "      <td>NaN</td>\n",
       "      <td>...</td>\n",
       "      <td>NaN</td>\n",
       "      <td>0.0</td>\n",
       "      <td>Санкт-Петербург</td>\n",
       "      <td>28098.0</td>\n",
       "      <td>6800.0</td>\n",
       "      <td>2.0</td>\n",
       "      <td>84.0</td>\n",
       "      <td>3.0</td>\n",
       "      <td>234.0</td>\n",
       "      <td>424.0</td>\n",
       "    </tr>\n",
       "    <tr>\n",
       "      <th>4</th>\n",
       "      <td>2</td>\n",
       "      <td>10000000.0</td>\n",
       "      <td>100.00</td>\n",
       "      <td>2018-06-19T00:00:00</td>\n",
       "      <td>2</td>\n",
       "      <td>3.03</td>\n",
       "      <td>14.0</td>\n",
       "      <td>32.0</td>\n",
       "      <td>13</td>\n",
       "      <td>NaN</td>\n",
       "      <td>...</td>\n",
       "      <td>41.00</td>\n",
       "      <td>NaN</td>\n",
       "      <td>Санкт-Петербург</td>\n",
       "      <td>31856.0</td>\n",
       "      <td>8098.0</td>\n",
       "      <td>2.0</td>\n",
       "      <td>112.0</td>\n",
       "      <td>1.0</td>\n",
       "      <td>48.0</td>\n",
       "      <td>121.0</td>\n",
       "    </tr>\n",
       "    <tr>\n",
       "      <th>...</th>\n",
       "      <td>...</td>\n",
       "      <td>...</td>\n",
       "      <td>...</td>\n",
       "      <td>...</td>\n",
       "      <td>...</td>\n",
       "      <td>...</td>\n",
       "      <td>...</td>\n",
       "      <td>...</td>\n",
       "      <td>...</td>\n",
       "      <td>...</td>\n",
       "      <td>...</td>\n",
       "      <td>...</td>\n",
       "      <td>...</td>\n",
       "      <td>...</td>\n",
       "      <td>...</td>\n",
       "      <td>...</td>\n",
       "      <td>...</td>\n",
       "      <td>...</td>\n",
       "      <td>...</td>\n",
       "      <td>...</td>\n",
       "      <td>...</td>\n",
       "    </tr>\n",
       "    <tr>\n",
       "      <th>23694</th>\n",
       "      <td>9</td>\n",
       "      <td>9700000.0</td>\n",
       "      <td>133.81</td>\n",
       "      <td>2017-03-21T00:00:00</td>\n",
       "      <td>3</td>\n",
       "      <td>3.70</td>\n",
       "      <td>5.0</td>\n",
       "      <td>73.3</td>\n",
       "      <td>3</td>\n",
       "      <td>NaN</td>\n",
       "      <td>...</td>\n",
       "      <td>13.83</td>\n",
       "      <td>NaN</td>\n",
       "      <td>Санкт-Петербург</td>\n",
       "      <td>24665.0</td>\n",
       "      <td>4232.0</td>\n",
       "      <td>1.0</td>\n",
       "      <td>796.0</td>\n",
       "      <td>3.0</td>\n",
       "      <td>381.0</td>\n",
       "      <td>NaN</td>\n",
       "    </tr>\n",
       "    <tr>\n",
       "      <th>23695</th>\n",
       "      <td>14</td>\n",
       "      <td>3100000.0</td>\n",
       "      <td>59.00</td>\n",
       "      <td>2018-01-15T00:00:00</td>\n",
       "      <td>3</td>\n",
       "      <td>NaN</td>\n",
       "      <td>5.0</td>\n",
       "      <td>38.0</td>\n",
       "      <td>4</td>\n",
       "      <td>NaN</td>\n",
       "      <td>...</td>\n",
       "      <td>8.50</td>\n",
       "      <td>NaN</td>\n",
       "      <td>Тосно</td>\n",
       "      <td>NaN</td>\n",
       "      <td>NaN</td>\n",
       "      <td>NaN</td>\n",
       "      <td>NaN</td>\n",
       "      <td>NaN</td>\n",
       "      <td>NaN</td>\n",
       "      <td>45.0</td>\n",
       "    </tr>\n",
       "    <tr>\n",
       "      <th>23696</th>\n",
       "      <td>18</td>\n",
       "      <td>2500000.0</td>\n",
       "      <td>56.70</td>\n",
       "      <td>2018-02-11T00:00:00</td>\n",
       "      <td>2</td>\n",
       "      <td>NaN</td>\n",
       "      <td>3.0</td>\n",
       "      <td>29.7</td>\n",
       "      <td>1</td>\n",
       "      <td>NaN</td>\n",
       "      <td>...</td>\n",
       "      <td>NaN</td>\n",
       "      <td>NaN</td>\n",
       "      <td>село Рождествено</td>\n",
       "      <td>NaN</td>\n",
       "      <td>NaN</td>\n",
       "      <td>NaN</td>\n",
       "      <td>NaN</td>\n",
       "      <td>NaN</td>\n",
       "      <td>NaN</td>\n",
       "      <td>NaN</td>\n",
       "    </tr>\n",
       "    <tr>\n",
       "      <th>23697</th>\n",
       "      <td>13</td>\n",
       "      <td>11475000.0</td>\n",
       "      <td>76.75</td>\n",
       "      <td>2017-03-28T00:00:00</td>\n",
       "      <td>2</td>\n",
       "      <td>3.00</td>\n",
       "      <td>17.0</td>\n",
       "      <td>NaN</td>\n",
       "      <td>12</td>\n",
       "      <td>NaN</td>\n",
       "      <td>...</td>\n",
       "      <td>23.30</td>\n",
       "      <td>2.0</td>\n",
       "      <td>Санкт-Петербург</td>\n",
       "      <td>39140.0</td>\n",
       "      <td>10364.0</td>\n",
       "      <td>2.0</td>\n",
       "      <td>173.0</td>\n",
       "      <td>3.0</td>\n",
       "      <td>196.0</td>\n",
       "      <td>602.0</td>\n",
       "    </tr>\n",
       "    <tr>\n",
       "      <th>23698</th>\n",
       "      <td>4</td>\n",
       "      <td>1350000.0</td>\n",
       "      <td>32.30</td>\n",
       "      <td>2017-07-21T00:00:00</td>\n",
       "      <td>1</td>\n",
       "      <td>2.50</td>\n",
       "      <td>5.0</td>\n",
       "      <td>12.3</td>\n",
       "      <td>1</td>\n",
       "      <td>NaN</td>\n",
       "      <td>...</td>\n",
       "      <td>9.00</td>\n",
       "      <td>NaN</td>\n",
       "      <td>поселок Новый Учхоз</td>\n",
       "      <td>NaN</td>\n",
       "      <td>NaN</td>\n",
       "      <td>NaN</td>\n",
       "      <td>NaN</td>\n",
       "      <td>NaN</td>\n",
       "      <td>NaN</td>\n",
       "      <td>NaN</td>\n",
       "    </tr>\n",
       "  </tbody>\n",
       "</table>\n",
       "<p>23699 rows × 22 columns</p>\n",
       "</div>"
      ],
      "text/plain": [
       "       total_images  last_price  total_area first_day_exposition  rooms  \\\n",
       "0                20  13000000.0      108.00  2019-03-07T00:00:00      3   \n",
       "1                 7   3350000.0       40.40  2018-12-04T00:00:00      1   \n",
       "2                10   5196000.0       56.00  2015-08-20T00:00:00      2   \n",
       "3                 0  64900000.0      159.00  2015-07-24T00:00:00      3   \n",
       "4                 2  10000000.0      100.00  2018-06-19T00:00:00      2   \n",
       "...             ...         ...         ...                  ...    ...   \n",
       "23694             9   9700000.0      133.81  2017-03-21T00:00:00      3   \n",
       "23695            14   3100000.0       59.00  2018-01-15T00:00:00      3   \n",
       "23696            18   2500000.0       56.70  2018-02-11T00:00:00      2   \n",
       "23697            13  11475000.0       76.75  2017-03-28T00:00:00      2   \n",
       "23698             4   1350000.0       32.30  2017-07-21T00:00:00      1   \n",
       "\n",
       "       ceiling_height  floors_total  living_area  floor is_apartment  ...  \\\n",
       "0                2.70          16.0         51.0      8          NaN  ...   \n",
       "1                 NaN          11.0         18.6      1          NaN  ...   \n",
       "2                 NaN           5.0         34.3      4          NaN  ...   \n",
       "3                 NaN          14.0          NaN      9          NaN  ...   \n",
       "4                3.03          14.0         32.0     13          NaN  ...   \n",
       "...               ...           ...          ...    ...          ...  ...   \n",
       "23694            3.70           5.0         73.3      3          NaN  ...   \n",
       "23695             NaN           5.0         38.0      4          NaN  ...   \n",
       "23696             NaN           3.0         29.7      1          NaN  ...   \n",
       "23697            3.00          17.0          NaN     12          NaN  ...   \n",
       "23698            2.50           5.0         12.3      1          NaN  ...   \n",
       "\n",
       "       kitchen_area  balcony        locality_name  airports_nearest  \\\n",
       "0             25.00      NaN      Санкт-Петербург           18863.0   \n",
       "1             11.00      2.0       посёлок Шушары           12817.0   \n",
       "2              8.30      0.0      Санкт-Петербург           21741.0   \n",
       "3               NaN      0.0      Санкт-Петербург           28098.0   \n",
       "4             41.00      NaN      Санкт-Петербург           31856.0   \n",
       "...             ...      ...                  ...               ...   \n",
       "23694         13.83      NaN      Санкт-Петербург           24665.0   \n",
       "23695          8.50      NaN                Тосно               NaN   \n",
       "23696           NaN      NaN     село Рождествено               NaN   \n",
       "23697         23.30      2.0      Санкт-Петербург           39140.0   \n",
       "23698          9.00      NaN  поселок Новый Учхоз               NaN   \n",
       "\n",
       "      city_centers_nearest  parks_around_3000  parks_nearest  \\\n",
       "0                  16028.0                1.0          482.0   \n",
       "1                  18603.0                0.0            NaN   \n",
       "2                  13933.0                1.0           90.0   \n",
       "3                   6800.0                2.0           84.0   \n",
       "4                   8098.0                2.0          112.0   \n",
       "...                    ...                ...            ...   \n",
       "23694               4232.0                1.0          796.0   \n",
       "23695                  NaN                NaN            NaN   \n",
       "23696                  NaN                NaN            NaN   \n",
       "23697              10364.0                2.0          173.0   \n",
       "23698                  NaN                NaN            NaN   \n",
       "\n",
       "       ponds_around_3000  ponds_nearest  days_exposition  \n",
       "0                    2.0          755.0              NaN  \n",
       "1                    0.0            NaN             81.0  \n",
       "2                    2.0          574.0            558.0  \n",
       "3                    3.0          234.0            424.0  \n",
       "4                    1.0           48.0            121.0  \n",
       "...                  ...            ...              ...  \n",
       "23694                3.0          381.0              NaN  \n",
       "23695                NaN            NaN             45.0  \n",
       "23696                NaN            NaN              NaN  \n",
       "23697                3.0          196.0            602.0  \n",
       "23698                NaN            NaN              NaN  \n",
       "\n",
       "[23699 rows x 22 columns]"
      ]
     },
     "execution_count": 7,
     "metadata": {},
     "output_type": "execute_result"
    }
   ],
   "source": [
    "data"
   ]
  },
  {
   "cell_type": "code",
   "execution_count": 8,
   "metadata": {},
   "outputs": [
    {
     "data": {
      "text/plain": [
       "0        2.70\n",
       "1        2.65\n",
       "2        2.65\n",
       "3        2.65\n",
       "4        3.03\n",
       "         ... \n",
       "23694    3.70\n",
       "23695    2.65\n",
       "23696    2.65\n",
       "23697    3.00\n",
       "23698    2.50\n",
       "Name: ceiling_height, Length: 23699, dtype: float64"
      ]
     },
     "execution_count": 8,
     "metadata": {},
     "output_type": "execute_result"
    }
   ],
   "source": [
    "# заполняем все наши пропуски в столбцах медианными значениями  и сразу проверяем\n",
    "# проверка заполнения\n",
    "ceiling_height = data['ceiling_height'].median()\n",
    "data['ceiling_height'] = data['ceiling_height'].fillna(ceiling_height)\n",
    "data['ceiling_height']"
   ]
  },
  {
   "cell_type": "markdown",
   "metadata": {},
   "source": [
    "Мы заполнили лишь 1 столбец, видим, что медиана равна 2.65м, вполне нормально для высоты потолков. Проделаем это с остальными пропусками."
   ]
  },
  {
   "cell_type": "code",
   "execution_count": 9,
   "metadata": {},
   "outputs": [],
   "source": [
    "# заполняем все пропуски медианным значением, использую другие столбцы\n",
    "data['floors_total'] = data['floors_total'].fillna(data.groupby('floor')['floors_total'].transform('median'))"
   ]
  },
  {
   "cell_type": "code",
   "execution_count": 11,
   "metadata": {
    "scrolled": true
   },
   "outputs": [
    {
     "data": {
      "text/plain": [
       "0        51.0\n",
       "1        18.6\n",
       "2        34.3\n",
       "3        45.0\n",
       "4        32.0\n",
       "         ... \n",
       "23694    73.3\n",
       "23695    38.0\n",
       "23696    29.7\n",
       "23697    30.5\n",
       "23698    12.3\n",
       "Name: living_area, Length: 23699, dtype: float64"
      ]
     },
     "execution_count": 11,
     "metadata": {},
     "output_type": "execute_result"
    }
   ],
   "source": [
    "# заполняем все наши пропуски в столбцах медианными значениями\n",
    "# проверка заполнения\n",
    "data['living_area'] = data['living_area'].fillna(data.groupby('rooms')['living_area'].transform('median'))\n",
    "data['living_area']"
   ]
  },
  {
   "cell_type": "code",
   "execution_count": 12,
   "metadata": {
    "scrolled": true
   },
   "outputs": [],
   "source": [
    "# заполняем все наши пропуски в столбцах медианными значениями \n",
    "kitchen_area = data.groupby('locality_name')['kitchen_area'].median()\n",
    "data['kitchen_area'] = data['kitchen_area'].fillna(kitchen_area)"
   ]
  },
  {
   "cell_type": "code",
   "execution_count": 13,
   "metadata": {},
   "outputs": [],
   "source": [
    "# заполняем все наши пропуски в столбцах медианными значениями  \n",
    "airports_nearest = data['airports_nearest'].median()\n",
    "data['airports_nearest'] = data['airports_nearest'].fillna(airports_nearest)"
   ]
  },
  {
   "cell_type": "code",
   "execution_count": 14,
   "metadata": {},
   "outputs": [
    {
     "data": {
      "text/plain": [
       "0        16028.0\n",
       "1        18603.0\n",
       "2        13933.0\n",
       "3         6800.0\n",
       "4         8098.0\n",
       "          ...   \n",
       "23694     4232.0\n",
       "23695    13098.5\n",
       "23696    13098.5\n",
       "23697    10364.0\n",
       "23698    13098.5\n",
       "Name: city_centers_nearest, Length: 23699, dtype: float64"
      ]
     },
     "execution_count": 14,
     "metadata": {},
     "output_type": "execute_result"
    }
   ],
   "source": [
    "# заполняем все наши пропуски в столбцах медианными значениями \n",
    "cityCenters_nearest = data['city_centers_nearest'].median()\n",
    "data['city_centers_nearest'] = data['city_centers_nearest'].fillna(cityCenters_nearest)\n",
    "data['city_centers_nearest']"
   ]
  },
  {
   "cell_type": "code",
   "execution_count": 15,
   "metadata": {},
   "outputs": [],
   "source": [
    "# заполняем все наши пропуски в столбцах медианными значениями \n",
    "parks_around3000 = data['parks_around_3000'].median()\n",
    "data['parks_around_3000'] = data['parks_around_3000'].fillna(parks_around3000)"
   ]
  },
  {
   "cell_type": "code",
   "execution_count": 16,
   "metadata": {},
   "outputs": [],
   "source": [
    "# заполняем все наши пропуски в столбцах медианными значениями \n",
    "parks_nearest = data['parks_nearest'].median()\n",
    "data['parks_nearest'] = data['parks_nearest'].fillna(parks_nearest)"
   ]
  },
  {
   "cell_type": "code",
   "execution_count": 17,
   "metadata": {},
   "outputs": [],
   "source": [
    "# заполняем все наши пропуски в столбцах медианными значениями \n",
    "ponds_around3000 = data['ponds_around_3000'].median()\n",
    "data['ponds_around_3000'] = data['ponds_around_3000'].fillna(ponds_around3000)"
   ]
  },
  {
   "cell_type": "code",
   "execution_count": 18,
   "metadata": {},
   "outputs": [],
   "source": [
    "# заполняем все наши пропуски в столбцах медианными значениями \n",
    "ponds_nearest = data['ponds_nearest'].median()\n",
    "data['ponds_nearest'] = data['ponds_nearest'].fillna(ponds_nearest)"
   ]
  },
  {
   "cell_type": "code",
   "execution_count": 19,
   "metadata": {},
   "outputs": [],
   "source": [
    "# заполняем все наши пропуски в столбцах медианными значениями \n",
    "days_exposition= data['days_exposition'].median()\n",
    "data['days_exposition'] = data['days_exposition'].fillna(days_exposition )"
   ]
  },
  {
   "cell_type": "code",
   "execution_count": 20,
   "metadata": {},
   "outputs": [
    {
     "data": {
      "text/plain": [
       "total_images                0\n",
       "last_price                  0\n",
       "total_area                  0\n",
       "first_day_exposition        0\n",
       "rooms                       0\n",
       "ceiling_height              0\n",
       "floors_total                0\n",
       "living_area                 0\n",
       "floor                       0\n",
       "is_apartment            20924\n",
       "studio                      0\n",
       "open_plan                   0\n",
       "kitchen_area             2278\n",
       "balcony                 11519\n",
       "locality_name              49\n",
       "airports_nearest            0\n",
       "city_centers_nearest        0\n",
       "parks_around_3000           0\n",
       "parks_nearest               0\n",
       "ponds_around_3000           0\n",
       "ponds_nearest               0\n",
       "days_exposition             0\n",
       "dtype: int64"
      ]
     },
     "execution_count": 20,
     "metadata": {},
     "output_type": "execute_result"
    }
   ],
   "source": [
    "# проверка на пропуски\n",
    "data.isna().sum()"
   ]
  },
  {
   "cell_type": "markdown",
   "metadata": {},
   "source": [
    "Как мы можем наблюдать, были заменены все пропуски на медианные значения везде, где это можно было сделать. Но у нас остались еще 3 столбика, к каждому из которых нужно подходить отдельно и так, начнем."
   ]
  },
  {
   "cell_type": "markdown",
   "metadata": {},
   "source": [
    "Начнем со столбика `locality_name`, так как город мы никак не сможем узнать или вписать какой хотим, стоит поставить прочерк, не повод удалять важные данные."
   ]
  },
  {
   "cell_type": "code",
   "execution_count": 21,
   "metadata": {},
   "outputs": [],
   "source": [
    "data['locality_name'] = data['locality_name'].fillna('-')"
   ]
  },
  {
   "cell_type": "markdown",
   "metadata": {},
   "source": [
    "Следующий столбец `balcony`, мы видим в нем 11.5к пропусков, можно догадаьбся, что скорее всего владельцы не указывали количество балкон, потому что их просто нет, заполним все пропуски этого столбца нулевыми значениями!"
   ]
  },
  {
   "cell_type": "code",
   "execution_count": 22,
   "metadata": {},
   "outputs": [],
   "source": [
    "data['balcony'] = data['balcony'].fillna('0')"
   ]
  },
  {
   "cell_type": "markdown",
   "metadata": {},
   "source": [
    "Остался последний столбец `is_apartment`, заполним пропуски фразой: ложные записи."
   ]
  },
  {
   "cell_type": "code",
   "execution_count": 23,
   "metadata": {},
   "outputs": [],
   "source": [
    "data['is_apartment'] = data['is_apartment'].fillna('False records')"
   ]
  },
  {
   "cell_type": "markdown",
   "metadata": {},
   "source": [
    "На этом мы закончили заполнять пропуски, проверим остались ли они в нашей таблице!"
   ]
  },
  {
   "cell_type": "code",
   "execution_count": 24,
   "metadata": {},
   "outputs": [
    {
     "data": {
      "text/plain": [
       "total_images               0\n",
       "last_price                 0\n",
       "total_area                 0\n",
       "first_day_exposition       0\n",
       "rooms                      0\n",
       "ceiling_height             0\n",
       "floors_total               0\n",
       "living_area                0\n",
       "floor                      0\n",
       "is_apartment               0\n",
       "studio                     0\n",
       "open_plan                  0\n",
       "kitchen_area            2278\n",
       "balcony                    0\n",
       "locality_name              0\n",
       "airports_nearest           0\n",
       "city_centers_nearest       0\n",
       "parks_around_3000          0\n",
       "parks_nearest              0\n",
       "ponds_around_3000          0\n",
       "ponds_nearest              0\n",
       "days_exposition            0\n",
       "dtype: int64"
      ]
     },
     "execution_count": 24,
     "metadata": {},
     "output_type": "execute_result"
    }
   ],
   "source": [
    "#проверка на пропуски \n",
    "data.isna().sum()"
   ]
  },
  {
   "cell_type": "markdown",
   "metadata": {},
   "source": [
    "Отлично, мы справились со всеми пропусками!"
   ]
  },
  {
   "cell_type": "markdown",
   "metadata": {},
   "source": [
    "  **Вывод:**\n",
    "* В нашей таблицы я обнаружил очень много пропусков, которые пришлось заменять на разные значения, в большей степени они были заменены на медианные значения, но были отдельные столбцы, к которым пришлось подходить индивидуально. Такие столбцы как: `balcony`, `is_apartment`, `locality_name` пришлось заполнять значениями, которые исходя из логики подходили в каждый отдельный момент.\n",
    "* Причины, которые могли привести к пропускам данных: многие пропуски возникли из-за того, что сами люди не указывали некоторые данные (Пример: число балконов). Так же пропуски могли возникнуть из-за отсутствие картографических данных, про другие причины с уверенностью не могу сказать."
   ]
  },
  {
   "cell_type": "markdown",
   "metadata": {},
   "source": [
    "**2. Настало время заменить типы данных там, где это необходимо.**"
   ]
  },
  {
   "cell_type": "code",
   "execution_count": 25,
   "metadata": {
    "scrolled": false
   },
   "outputs": [
    {
     "name": "stdout",
     "output_type": "stream",
     "text": [
      "<class 'pandas.core.frame.DataFrame'>\n",
      "RangeIndex: 23699 entries, 0 to 23698\n",
      "Data columns (total 22 columns):\n",
      " #   Column                Non-Null Count  Dtype  \n",
      "---  ------                --------------  -----  \n",
      " 0   total_images          23699 non-null  int64  \n",
      " 1   last_price            23699 non-null  float64\n",
      " 2   total_area            23699 non-null  float64\n",
      " 3   first_day_exposition  23699 non-null  object \n",
      " 4   rooms                 23699 non-null  int64  \n",
      " 5   ceiling_height        23699 non-null  float64\n",
      " 6   floors_total          23699 non-null  float64\n",
      " 7   living_area           23699 non-null  float64\n",
      " 8   floor                 23699 non-null  int64  \n",
      " 9   is_apartment          23699 non-null  object \n",
      " 10  studio                23699 non-null  bool   \n",
      " 11  open_plan             23699 non-null  bool   \n",
      " 12  kitchen_area          21421 non-null  float64\n",
      " 13  balcony               23699 non-null  object \n",
      " 14  locality_name         23699 non-null  object \n",
      " 15  airports_nearest      23699 non-null  float64\n",
      " 16  city_centers_nearest  23699 non-null  float64\n",
      " 17  parks_around_3000     23699 non-null  float64\n",
      " 18  parks_nearest         23699 non-null  float64\n",
      " 19  ponds_around_3000     23699 non-null  float64\n",
      " 20  ponds_nearest         23699 non-null  float64\n",
      " 21  days_exposition       23699 non-null  float64\n",
      "dtypes: bool(2), float64(13), int64(3), object(4)\n",
      "memory usage: 3.7+ MB\n"
     ]
    }
   ],
   "source": [
    "# открываю таблицу и запрашиваю все атрибуты \n",
    "data.info()"
   ]
  },
  {
   "cell_type": "markdown",
   "metadata": {},
   "source": [
    "В результате не долгой мыслительной деятельности понимаю, что много ошибок в типах данных, заменим их на правильные!"
   ]
  },
  {
   "cell_type": "code",
   "execution_count": 26,
   "metadata": {},
   "outputs": [],
   "source": [
    "# заменяем все ложные типы на правильные\n",
    "data['last_price'] = data['last_price'].astype('int64')\n",
    "data['first_day_exposition'] = data['first_day_exposition'].astype('datetime64')\n",
    "data['floors_total'] = data['floors_total'].astype('int64')\n",
    "data['balcony'] = data['balcony'].astype('int64')\n",
    "data['airports_nearest'] = data['airports_nearest'].astype('int64')\n",
    "data['city_centers_nearest'] = data['city_centers_nearest'].astype('int64')\n",
    "data['parks_around_3000'] = data['parks_around_3000'].astype('int64')\n",
    "data['parks_nearest'] = data['parks_nearest'].astype('int64')\n",
    "data['ponds_around_3000'] = data['ponds_around_3000'].astype('int64')\n",
    "data['ponds_nearest'] = data['ponds_nearest'].astype('int64')\n",
    "data['days_exposition'] = data['days_exposition'].astype('int64')"
   ]
  },
  {
   "cell_type": "markdown",
   "metadata": {},
   "source": [
    "Посмотрим итоговый результат!"
   ]
  },
  {
   "cell_type": "code",
   "execution_count": 27,
   "metadata": {
    "scrolled": false
   },
   "outputs": [
    {
     "name": "stdout",
     "output_type": "stream",
     "text": [
      "<class 'pandas.core.frame.DataFrame'>\n",
      "RangeIndex: 23699 entries, 0 to 23698\n",
      "Data columns (total 22 columns):\n",
      " #   Column                Non-Null Count  Dtype         \n",
      "---  ------                --------------  -----         \n",
      " 0   total_images          23699 non-null  int64         \n",
      " 1   last_price            23699 non-null  int64         \n",
      " 2   total_area            23699 non-null  float64       \n",
      " 3   first_day_exposition  23699 non-null  datetime64[ns]\n",
      " 4   rooms                 23699 non-null  int64         \n",
      " 5   ceiling_height        23699 non-null  float64       \n",
      " 6   floors_total          23699 non-null  int64         \n",
      " 7   living_area           23699 non-null  float64       \n",
      " 8   floor                 23699 non-null  int64         \n",
      " 9   is_apartment          23699 non-null  object        \n",
      " 10  studio                23699 non-null  bool          \n",
      " 11  open_plan             23699 non-null  bool          \n",
      " 12  kitchen_area          21421 non-null  float64       \n",
      " 13  balcony               23699 non-null  int64         \n",
      " 14  locality_name         23699 non-null  object        \n",
      " 15  airports_nearest      23699 non-null  int64         \n",
      " 16  city_centers_nearest  23699 non-null  int64         \n",
      " 17  parks_around_3000     23699 non-null  int64         \n",
      " 18  parks_nearest         23699 non-null  int64         \n",
      " 19  ponds_around_3000     23699 non-null  int64         \n",
      " 20  ponds_nearest         23699 non-null  int64         \n",
      " 21  days_exposition       23699 non-null  int64         \n",
      "dtypes: bool(2), datetime64[ns](1), float64(4), int64(13), object(2)\n",
      "memory usage: 3.7+ MB\n"
     ]
    }
   ],
   "source": [
    "# проверка изменения типов\n",
    "data.info()"
   ]
  },
  {
   "cell_type": "markdown",
   "metadata": {},
   "source": [
    "**Вывод:** "
   ]
  },
  {
   "cell_type": "markdown",
   "metadata": {},
   "source": [
    " Я решил изменить эти столбцы по следующему принципу:\n",
    "* Во всех пунктах, где нужно было указать расстояние до какого-либо объекта в метрах я поставил тип данных \"целые числа\", так как там нет смысла указывать сантиметры, значения и так будут точными.\n",
    "* Так же был столбец `first_day_exposition`, в котором мы записываем дату публикации, здесь должен быть тип данных \"datetime64\".\n",
    "* И, конечно, были столбцы по типу: указать число балконов, цену снятия, дни размещения объявления, число чего-либо и т.д., в этих столбиках просто не может быть типа данных \"float64\", поменял на \"int64\"."
   ]
  },
  {
   "cell_type": "markdown",
   "metadata": {},
   "source": [
    "**3. Самое время проверить нашу таблицу на какие-нибудь аномалии или неточности!**"
   ]
  },
  {
   "cell_type": "markdown",
   "metadata": {},
   "source": [
    "На вид все наши значения выглядят без каких-либо ошибок, но мне удалось найти несколько интересных моментов:\n",
    "* Я заметил, что у нас есть квартиры аж с 5 балконами и причем их 304, допустим такие квартиры и есть, но их общая площадь должна быть огромных масштабов, но что мы видим при просмотре средних площадей для каждого количества балконов?"
   ]
  },
  {
   "cell_type": "code",
   "execution_count": 28,
   "metadata": {},
   "outputs": [
    {
     "data": {
      "text/html": [
       "<div>\n",
       "<style scoped>\n",
       "    .dataframe tbody tr th:only-of-type {\n",
       "        vertical-align: middle;\n",
       "    }\n",
       "\n",
       "    .dataframe tbody tr th {\n",
       "        vertical-align: top;\n",
       "    }\n",
       "\n",
       "    .dataframe thead th {\n",
       "        text-align: right;\n",
       "    }\n",
       "</style>\n",
       "<table border=\"1\" class=\"dataframe\">\n",
       "  <thead>\n",
       "    <tr style=\"text-align: right;\">\n",
       "      <th></th>\n",
       "      <th>total_area</th>\n",
       "    </tr>\n",
       "    <tr>\n",
       "      <th>balcony</th>\n",
       "      <th></th>\n",
       "    </tr>\n",
       "  </thead>\n",
       "  <tbody>\n",
       "    <tr>\n",
       "      <th>2</th>\n",
       "      <td>55.998931</td>\n",
       "    </tr>\n",
       "    <tr>\n",
       "      <th>1</th>\n",
       "      <td>57.149449</td>\n",
       "    </tr>\n",
       "    <tr>\n",
       "      <th>0</th>\n",
       "      <td>61.461731</td>\n",
       "    </tr>\n",
       "    <tr>\n",
       "      <th>5</th>\n",
       "      <td>80.837171</td>\n",
       "    </tr>\n",
       "    <tr>\n",
       "      <th>4</th>\n",
       "      <td>81.426230</td>\n",
       "    </tr>\n",
       "    <tr>\n",
       "      <th>3</th>\n",
       "      <td>88.077531</td>\n",
       "    </tr>\n",
       "  </tbody>\n",
       "</table>\n",
       "</div>"
      ],
      "text/plain": [
       "         total_area\n",
       "balcony            \n",
       "2         55.998931\n",
       "1         57.149449\n",
       "0         61.461731\n",
       "5         80.837171\n",
       "4         81.426230\n",
       "3         88.077531"
      ]
     },
     "execution_count": 28,
     "metadata": {},
     "output_type": "execute_result"
    }
   ],
   "source": [
    "# ищем все среднии площади квартир для каждого этажа.\n",
    "def relation(category): \n",
    "    return data.groupby(category)['total_area'].mean().to_frame().sort_values(by='total_area')\n",
    "relation('balcony')\n"
   ]
  },
  {
   "cell_type": "markdown",
   "metadata": {},
   "source": [
    "Никогда не поверю, что при 80 м^2 можно вместить аж 5 балконов, это невозможно. Зададим минимальную площадь 100 м^2 для квартир с 5 балконами и посмотрим, сколько квартир имеют общую площадь, менье 100."
   ]
  },
  {
   "cell_type": "code",
   "execution_count": 29,
   "metadata": {},
   "outputs": [
    {
     "data": {
      "text/plain": [
       "255"
      ]
     },
     "execution_count": 29,
     "metadata": {},
     "output_type": "execute_result"
    }
   ],
   "source": [
    "# считаем количество квартир  с нашим условием.\n",
    "len(data.query('balcony == 5 and total_area <= 100'))"
   ]
  },
  {
   "cell_type": "markdown",
   "metadata": {},
   "source": [
    "Мы получили 255 квартир, имеющих общую площадь меньше 100 м^2 и при этом в которых расположены по 5 балконов, я определенно уверен, что это ошибка и решил заявить о ней."
   ]
  },
  {
   "cell_type": "markdown",
   "metadata": {},
   "source": [
    "Также обнаружил еще одну странную вещь!"
   ]
  },
  {
   "cell_type": "code",
   "execution_count": 30,
   "metadata": {},
   "outputs": [
    {
     "data": {
      "text/plain": [
       "0    15277\n",
       "1     4195\n",
       "2     3659\n",
       "5      304\n",
       "4      183\n",
       "3       81\n",
       "Name: balcony, dtype: int64"
      ]
     },
     "execution_count": 30,
     "metadata": {},
     "output_type": "execute_result"
    }
   ],
   "source": [
    "# узнаем, сколько балконов находится в квартирах\n",
    "data['balcony'].value_counts()"
   ]
  },
  {
   "cell_type": "markdown",
   "metadata": {},
   "source": [
    "Очень странно наблюдать тот факт, что квартир с 5 балконами больше, чем квартир с 3 и 4 вместе взятыми, так же решил заявить о возможной ошибке."
   ]
  },
  {
   "cell_type": "markdown",
   "metadata": {},
   "source": [
    "И последняя странность которую я заметил, заключается в следующем."
   ]
  },
  {
   "cell_type": "code",
   "execution_count": 31,
   "metadata": {},
   "outputs": [
    {
     "data": {
      "text/plain": [
       "95    3245\n",
       "45     880\n",
       "60     538\n",
       "7      234\n",
       "30     208\n",
       "90     204\n",
       "4      176\n",
       "3      158\n",
       "5      152\n",
       "14     148\n",
       "Name: days_exposition, dtype: int64"
      ]
     },
     "execution_count": 31,
     "metadata": {},
     "output_type": "execute_result"
    }
   ],
   "source": [
    "# узнаем, какое количество дней было размещено объявление о квартирах.\n",
    "data['days_exposition'].value_counts().head(10)"
   ]
  },
  {
   "cell_type": "markdown",
   "metadata": {},
   "source": [
    "Очень странно наблюдать статистику времени размещения объявлений. В большей степени квартиры снимались за такое знаковое количество дней, как месяц, 2 месяца, неделя, 2 недели, полмесяца. Создается такое ощущение, что дни специально округлялись до таких дат, не очень верю в такие совпадения и сообщаю о возможной неточности."
   ]
  },
  {
   "cell_type": "markdown",
   "metadata": {},
   "source": [
    "**Вывод:**\n",
    "* появились большие вопросы по поводу количества балконов и их отношения к общей площади и количеству комнат.\n",
    "* стоит внимательно изучить информацию о днях размещения объявлений. "
   ]
  },
  {
   "cell_type": "markdown",
   "metadata": {},
   "source": [
    "**4. Проверим нашу таблицу на дубликаты.**"
   ]
  },
  {
   "cell_type": "code",
   "execution_count": 32,
   "metadata": {},
   "outputs": [
    {
     "data": {
      "text/plain": [
       "0"
      ]
     },
     "execution_count": 32,
     "metadata": {},
     "output_type": "execute_result"
    }
   ],
   "source": [
    "# проверка на строки_дубликаты\n",
    "data.duplicated().sum()"
   ]
  },
  {
   "cell_type": "markdown",
   "metadata": {},
   "source": [
    "Отлично, строк дубликатов нет, идем дальше."
   ]
  },
  {
   "cell_type": "markdown",
   "metadata": {},
   "source": [
    "Посмотрим отношение наших объявлений к каждому столбцу."
   ]
  },
  {
   "cell_type": "code",
   "execution_count": 33,
   "metadata": {},
   "outputs": [
    {
     "data": {
      "text/plain": [
       "10    1798\n",
       "9     1725\n",
       "20    1694\n",
       "8     1585\n",
       "7     1521\n",
       "6     1482\n",
       "11    1362\n",
       "5     1301\n",
       "12    1225\n",
       "0     1059\n",
       "13    1015\n",
       "4      986\n",
       "14     986\n",
       "15     948\n",
       "1      872\n",
       "3      769\n",
       "16     761\n",
       "17     650\n",
       "18     642\n",
       "2      640\n",
       "19     603\n",
       "23      16\n",
       "21      12\n",
       "24       8\n",
       "22       8\n",
       "26       5\n",
       "28       4\n",
       "32       4\n",
       "29       3\n",
       "50       3\n",
       "27       2\n",
       "35       2\n",
       "30       2\n",
       "31       2\n",
       "39       1\n",
       "25       1\n",
       "42       1\n",
       "37       1\n",
       "Name: total_images, dtype: int64"
      ]
     },
     "metadata": {},
     "output_type": "display_data"
    },
    {
     "data": {
      "text/plain": [
       "4500000     342\n",
       "3500000     291\n",
       "4000000     260\n",
       "4300000     260\n",
       "4200000     259\n",
       "           ... \n",
       "1320000       1\n",
       "19150000      1\n",
       "6649000       1\n",
       "10296437      1\n",
       "11615600      1\n",
       "Name: last_price, Length: 2978, dtype: int64"
      ]
     },
     "metadata": {},
     "output_type": "display_data"
    },
    {
     "data": {
      "text/plain": [
       "45.00     419\n",
       "42.00     383\n",
       "60.00     347\n",
       "31.00     346\n",
       "44.00     345\n",
       "         ... \n",
       "44.24       1\n",
       "56.85       1\n",
       "37.92       1\n",
       "115.60      1\n",
       "55.06       1\n",
       "Name: total_area, Length: 2182, dtype: int64"
      ]
     },
     "metadata": {},
     "output_type": "display_data"
    },
    {
     "data": {
      "text/plain": [
       "2018-02-01    368\n",
       "2017-11-10    240\n",
       "2017-10-13    124\n",
       "2017-09-27    111\n",
       "2018-03-26     97\n",
       "             ... \n",
       "2015-05-17      1\n",
       "2017-01-06      1\n",
       "2016-12-30      1\n",
       "2016-07-06      1\n",
       "2015-03-27      1\n",
       "Name: first_day_exposition, Length: 1491, dtype: int64"
      ]
     },
     "metadata": {},
     "output_type": "display_data"
    },
    {
     "data": {
      "text/plain": [
       "1     8047\n",
       "2     7940\n",
       "3     5814\n",
       "4     1180\n",
       "5      326\n",
       "0      197\n",
       "6      105\n",
       "7       59\n",
       "8       12\n",
       "9        8\n",
       "10       3\n",
       "11       2\n",
       "14       2\n",
       "19       1\n",
       "16       1\n",
       "12       1\n",
       "15       1\n",
       "Name: rooms, dtype: int64"
      ]
     },
     "metadata": {},
     "output_type": "display_data"
    },
    {
     "data": {
      "text/plain": [
       "2.65     9871\n",
       "2.50     3515\n",
       "2.60     1646\n",
       "2.70     1574\n",
       "3.00     1112\n",
       "         ... \n",
       "4.25        1\n",
       "3.39        1\n",
       "3.93        1\n",
       "10.30       1\n",
       "4.65        1\n",
       "Name: ceiling_height, Length: 183, dtype: int64"
      ]
     },
     "metadata": {},
     "output_type": "display_data"
    },
    {
     "data": {
      "text/plain": [
       "5     5807\n",
       "9     3770\n",
       "16    1388\n",
       "12    1362\n",
       "4     1200\n",
       "10    1191\n",
       "25    1083\n",
       "6      918\n",
       "17     841\n",
       "3      668\n",
       "7      592\n",
       "14     553\n",
       "18     505\n",
       "24     474\n",
       "8      390\n",
       "2      383\n",
       "15     365\n",
       "23     352\n",
       "19     339\n",
       "22     290\n",
       "20     271\n",
       "13     229\n",
       "11     203\n",
       "27     164\n",
       "21     158\n",
       "26     124\n",
       "1       25\n",
       "35      24\n",
       "28      21\n",
       "36       3\n",
       "34       1\n",
       "60       1\n",
       "52       1\n",
       "29       1\n",
       "33       1\n",
       "37       1\n",
       "Name: floors_total, dtype: int64"
      ]
     },
     "metadata": {},
     "output_type": "display_data"
    },
    {
     "data": {
      "text/plain": [
       "18.00    896\n",
       "17.60    755\n",
       "30.50    710\n",
       "17.00    675\n",
       "30.00    598\n",
       "        ... \n",
       "96.40      1\n",
       "50.26      1\n",
       "43.81      1\n",
       "54.43      1\n",
       "16.74      1\n",
       "Name: living_area, Length: 1783, dtype: int64"
      ]
     },
     "metadata": {},
     "output_type": "display_data"
    },
    {
     "data": {
      "text/plain": [
       "2     3368\n",
       "3     3073\n",
       "1     2917\n",
       "4     2804\n",
       "5     2621\n",
       "6     1305\n",
       "7     1218\n",
       "8     1083\n",
       "9     1051\n",
       "10     687\n",
       "12     526\n",
       "11     523\n",
       "13     379\n",
       "15     343\n",
       "14     337\n",
       "16     315\n",
       "17     227\n",
       "18     178\n",
       "19     147\n",
       "21     125\n",
       "22     113\n",
       "20     110\n",
       "23     100\n",
       "24      63\n",
       "25      46\n",
       "26      24\n",
       "27      10\n",
       "28       1\n",
       "29       1\n",
       "32       1\n",
       "30       1\n",
       "33       1\n",
       "31       1\n",
       "Name: floor, dtype: int64"
      ]
     },
     "metadata": {},
     "output_type": "display_data"
    },
    {
     "data": {
      "text/plain": [
       "False records    20924\n",
       "False             2725\n",
       "True                50\n",
       "Name: is_apartment, dtype: int64"
      ]
     },
     "metadata": {},
     "output_type": "display_data"
    },
    {
     "data": {
      "text/plain": [
       "False    23550\n",
       "True       149\n",
       "Name: studio, dtype: int64"
      ]
     },
     "metadata": {},
     "output_type": "display_data"
    },
    {
     "data": {
      "text/plain": [
       "False    23632\n",
       "True        67\n",
       "Name: open_plan, dtype: int64"
      ]
     },
     "metadata": {},
     "output_type": "display_data"
    },
    {
     "data": {
      "text/plain": [
       "6.00     1300\n",
       "10.00    1262\n",
       "8.00     1110\n",
       "9.00     1101\n",
       "7.00     1062\n",
       "         ... \n",
       "7.12        1\n",
       "13.73       1\n",
       "14.74       1\n",
       "53.10       1\n",
       "16.74       1\n",
       "Name: kitchen_area, Length: 971, dtype: int64"
      ]
     },
     "metadata": {},
     "output_type": "display_data"
    },
    {
     "data": {
      "text/plain": [
       "0    15277\n",
       "1     4195\n",
       "2     3659\n",
       "5      304\n",
       "4      183\n",
       "3       81\n",
       "Name: balcony, dtype: int64"
      ]
     },
     "metadata": {},
     "output_type": "display_data"
    },
    {
     "data": {
      "text/plain": [
       "Санкт-Петербург                                            15721\n",
       "посёлок Мурино                                               522\n",
       "посёлок Шушары                                               440\n",
       "Всеволожск                                                   398\n",
       "Пушкин                                                       369\n",
       "                                                           ...  \n",
       "деревня Пижма                                                  1\n",
       "деревня Курковицы                                              1\n",
       "садоводческое некоммерческое товарищество Лесная Поляна        1\n",
       "деревня Тойворово                                              1\n",
       "поселок Дружноселье                                            1\n",
       "Name: locality_name, Length: 365, dtype: int64"
      ]
     },
     "metadata": {},
     "output_type": "display_data"
    },
    {
     "data": {
      "text/plain": [
       "26726    5546\n",
       "37434      61\n",
       "21928      32\n",
       "44870      30\n",
       "39946      30\n",
       "         ... \n",
       "34454       1\n",
       "16017       1\n",
       "28299       1\n",
       "48769       1\n",
       "18565       1\n",
       "Name: airports_nearest, Length: 8275, dtype: int64"
      ]
     },
     "metadata": {},
     "output_type": "display_data"
    },
    {
     "data": {
      "text/plain": [
       "13098    5520\n",
       "8460       61\n",
       "20802      32\n",
       "10720      30\n",
       "20444      27\n",
       "         ... \n",
       "26602       1\n",
       "30696       1\n",
       "4055        1\n",
       "38868       1\n",
       "2047        1\n",
       "Name: city_centers_nearest, Length: 7642, dtype: int64"
      ]
     },
     "metadata": {},
     "output_type": "display_data"
    },
    {
     "data": {
      "text/plain": [
       "0    15624\n",
       "1     5681\n",
       "2     1747\n",
       "3      647\n",
       "Name: parks_around_3000, dtype: int64"
      ]
     },
     "metadata": {},
     "output_type": "display_data"
    },
    {
     "data": {
      "text/plain": [
       "455     15634\n",
       "441        67\n",
       "392        41\n",
       "173        41\n",
       "456        40\n",
       "        ...  \n",
       "3064        1\n",
       "748         1\n",
       "726         1\n",
       "985         1\n",
       "2711        1\n",
       "Name: parks_nearest, Length: 995, dtype: int64"
      ]
     },
     "metadata": {},
     "output_type": "display_data"
    },
    {
     "data": {
      "text/plain": [
       "1    11235\n",
       "0     9071\n",
       "2     1892\n",
       "3     1501\n",
       "Name: ponds_around_3000, dtype: int64"
      ]
     },
     "metadata": {},
     "output_type": "display_data"
    },
    {
     "data": {
      "text/plain": [
       "502     14609\n",
       "427        70\n",
       "454        41\n",
       "153        40\n",
       "433        39\n",
       "        ...  \n",
       "808         1\n",
       "984         1\n",
       "1144        1\n",
       "25          1\n",
       "1222        1\n",
       "Name: ponds_nearest, Length: 1096, dtype: int64"
      ]
     },
     "metadata": {},
     "output_type": "display_data"
    },
    {
     "data": {
      "text/plain": [
       "95      3245\n",
       "45       880\n",
       "60       538\n",
       "7        234\n",
       "30       208\n",
       "        ... \n",
       "1112       1\n",
       "1080       1\n",
       "1064       1\n",
       "1032       1\n",
       "1391       1\n",
       "Name: days_exposition, Length: 1141, dtype: int64"
      ]
     },
     "metadata": {},
     "output_type": "display_data"
    }
   ],
   "source": [
    "# создадим цикл, который береберет все столцы.\n",
    "for column_name in data.columns:\n",
    "    display(data[column_name].value_counts())"
   ]
  },
  {
   "cell_type": "markdown",
   "metadata": {},
   "source": [
    "Посмотрев полученную информацию, я не нашел в ней чего-то странного "
   ]
  },
  {
   "cell_type": "markdown",
   "metadata": {},
   "source": [
    "**Вывод:**\n",
    " При проверке нашей таблицы дубликаты не найдены!"
   ]
  },
  {
   "cell_type": "markdown",
   "metadata": {},
   "source": [
    "## Расчёты и добавление результатов в таблицу"
   ]
  },
  {
   "cell_type": "markdown",
   "metadata": {},
   "source": [
    "Найдем цену квадратного метра для каждой квартиры и добавим в отдельный столбец в нашей таблицы."
   ]
  },
  {
   "cell_type": "code",
   "execution_count": 34,
   "metadata": {},
   "outputs": [
    {
     "data": {
      "text/html": [
       "<div>\n",
       "<style scoped>\n",
       "    .dataframe tbody tr th:only-of-type {\n",
       "        vertical-align: middle;\n",
       "    }\n",
       "\n",
       "    .dataframe tbody tr th {\n",
       "        vertical-align: top;\n",
       "    }\n",
       "\n",
       "    .dataframe thead th {\n",
       "        text-align: right;\n",
       "    }\n",
       "</style>\n",
       "<table border=\"1\" class=\"dataframe\">\n",
       "  <thead>\n",
       "    <tr style=\"text-align: right;\">\n",
       "      <th></th>\n",
       "      <th>total_images</th>\n",
       "      <th>last_price</th>\n",
       "      <th>total_area</th>\n",
       "      <th>first_day_exposition</th>\n",
       "      <th>rooms</th>\n",
       "      <th>ceiling_height</th>\n",
       "      <th>floors_total</th>\n",
       "      <th>living_area</th>\n",
       "      <th>floor</th>\n",
       "      <th>is_apartment</th>\n",
       "      <th>...</th>\n",
       "      <th>kitchen_area</th>\n",
       "      <th>balcony</th>\n",
       "      <th>locality_name</th>\n",
       "      <th>airports_nearest</th>\n",
       "      <th>city_centers_nearest</th>\n",
       "      <th>parks_around_3000</th>\n",
       "      <th>parks_nearest</th>\n",
       "      <th>ponds_around_3000</th>\n",
       "      <th>ponds_nearest</th>\n",
       "      <th>days_exposition</th>\n",
       "    </tr>\n",
       "  </thead>\n",
       "  <tbody>\n",
       "    <tr>\n",
       "      <th>0</th>\n",
       "      <td>20</td>\n",
       "      <td>13000000</td>\n",
       "      <td>108.00</td>\n",
       "      <td>2019-03-07</td>\n",
       "      <td>3</td>\n",
       "      <td>2.70</td>\n",
       "      <td>16</td>\n",
       "      <td>51.0</td>\n",
       "      <td>8</td>\n",
       "      <td>False records</td>\n",
       "      <td>...</td>\n",
       "      <td>25.00</td>\n",
       "      <td>0</td>\n",
       "      <td>Санкт-Петербург</td>\n",
       "      <td>18863</td>\n",
       "      <td>16028</td>\n",
       "      <td>1</td>\n",
       "      <td>482</td>\n",
       "      <td>2</td>\n",
       "      <td>755</td>\n",
       "      <td>95</td>\n",
       "    </tr>\n",
       "    <tr>\n",
       "      <th>1</th>\n",
       "      <td>7</td>\n",
       "      <td>3350000</td>\n",
       "      <td>40.40</td>\n",
       "      <td>2018-12-04</td>\n",
       "      <td>1</td>\n",
       "      <td>2.65</td>\n",
       "      <td>11</td>\n",
       "      <td>18.6</td>\n",
       "      <td>1</td>\n",
       "      <td>False records</td>\n",
       "      <td>...</td>\n",
       "      <td>11.00</td>\n",
       "      <td>2</td>\n",
       "      <td>посёлок Шушары</td>\n",
       "      <td>12817</td>\n",
       "      <td>18603</td>\n",
       "      <td>0</td>\n",
       "      <td>455</td>\n",
       "      <td>0</td>\n",
       "      <td>502</td>\n",
       "      <td>81</td>\n",
       "    </tr>\n",
       "    <tr>\n",
       "      <th>2</th>\n",
       "      <td>10</td>\n",
       "      <td>5196000</td>\n",
       "      <td>56.00</td>\n",
       "      <td>2015-08-20</td>\n",
       "      <td>2</td>\n",
       "      <td>2.65</td>\n",
       "      <td>5</td>\n",
       "      <td>34.3</td>\n",
       "      <td>4</td>\n",
       "      <td>False records</td>\n",
       "      <td>...</td>\n",
       "      <td>8.30</td>\n",
       "      <td>0</td>\n",
       "      <td>Санкт-Петербург</td>\n",
       "      <td>21741</td>\n",
       "      <td>13933</td>\n",
       "      <td>1</td>\n",
       "      <td>90</td>\n",
       "      <td>2</td>\n",
       "      <td>574</td>\n",
       "      <td>558</td>\n",
       "    </tr>\n",
       "    <tr>\n",
       "      <th>3</th>\n",
       "      <td>0</td>\n",
       "      <td>64900000</td>\n",
       "      <td>159.00</td>\n",
       "      <td>2015-07-24</td>\n",
       "      <td>3</td>\n",
       "      <td>2.65</td>\n",
       "      <td>14</td>\n",
       "      <td>45.0</td>\n",
       "      <td>9</td>\n",
       "      <td>False records</td>\n",
       "      <td>...</td>\n",
       "      <td>NaN</td>\n",
       "      <td>0</td>\n",
       "      <td>Санкт-Петербург</td>\n",
       "      <td>28098</td>\n",
       "      <td>6800</td>\n",
       "      <td>2</td>\n",
       "      <td>84</td>\n",
       "      <td>3</td>\n",
       "      <td>234</td>\n",
       "      <td>424</td>\n",
       "    </tr>\n",
       "    <tr>\n",
       "      <th>4</th>\n",
       "      <td>2</td>\n",
       "      <td>10000000</td>\n",
       "      <td>100.00</td>\n",
       "      <td>2018-06-19</td>\n",
       "      <td>2</td>\n",
       "      <td>3.03</td>\n",
       "      <td>14</td>\n",
       "      <td>32.0</td>\n",
       "      <td>13</td>\n",
       "      <td>False records</td>\n",
       "      <td>...</td>\n",
       "      <td>41.00</td>\n",
       "      <td>0</td>\n",
       "      <td>Санкт-Петербург</td>\n",
       "      <td>31856</td>\n",
       "      <td>8098</td>\n",
       "      <td>2</td>\n",
       "      <td>112</td>\n",
       "      <td>1</td>\n",
       "      <td>48</td>\n",
       "      <td>121</td>\n",
       "    </tr>\n",
       "    <tr>\n",
       "      <th>...</th>\n",
       "      <td>...</td>\n",
       "      <td>...</td>\n",
       "      <td>...</td>\n",
       "      <td>...</td>\n",
       "      <td>...</td>\n",
       "      <td>...</td>\n",
       "      <td>...</td>\n",
       "      <td>...</td>\n",
       "      <td>...</td>\n",
       "      <td>...</td>\n",
       "      <td>...</td>\n",
       "      <td>...</td>\n",
       "      <td>...</td>\n",
       "      <td>...</td>\n",
       "      <td>...</td>\n",
       "      <td>...</td>\n",
       "      <td>...</td>\n",
       "      <td>...</td>\n",
       "      <td>...</td>\n",
       "      <td>...</td>\n",
       "      <td>...</td>\n",
       "    </tr>\n",
       "    <tr>\n",
       "      <th>23694</th>\n",
       "      <td>9</td>\n",
       "      <td>9700000</td>\n",
       "      <td>133.81</td>\n",
       "      <td>2017-03-21</td>\n",
       "      <td>3</td>\n",
       "      <td>3.70</td>\n",
       "      <td>5</td>\n",
       "      <td>73.3</td>\n",
       "      <td>3</td>\n",
       "      <td>False records</td>\n",
       "      <td>...</td>\n",
       "      <td>13.83</td>\n",
       "      <td>0</td>\n",
       "      <td>Санкт-Петербург</td>\n",
       "      <td>24665</td>\n",
       "      <td>4232</td>\n",
       "      <td>1</td>\n",
       "      <td>796</td>\n",
       "      <td>3</td>\n",
       "      <td>381</td>\n",
       "      <td>95</td>\n",
       "    </tr>\n",
       "    <tr>\n",
       "      <th>23695</th>\n",
       "      <td>14</td>\n",
       "      <td>3100000</td>\n",
       "      <td>59.00</td>\n",
       "      <td>2018-01-15</td>\n",
       "      <td>3</td>\n",
       "      <td>2.65</td>\n",
       "      <td>5</td>\n",
       "      <td>38.0</td>\n",
       "      <td>4</td>\n",
       "      <td>False records</td>\n",
       "      <td>...</td>\n",
       "      <td>8.50</td>\n",
       "      <td>0</td>\n",
       "      <td>Тосно</td>\n",
       "      <td>26726</td>\n",
       "      <td>13098</td>\n",
       "      <td>0</td>\n",
       "      <td>455</td>\n",
       "      <td>1</td>\n",
       "      <td>502</td>\n",
       "      <td>45</td>\n",
       "    </tr>\n",
       "    <tr>\n",
       "      <th>23696</th>\n",
       "      <td>18</td>\n",
       "      <td>2500000</td>\n",
       "      <td>56.70</td>\n",
       "      <td>2018-02-11</td>\n",
       "      <td>2</td>\n",
       "      <td>2.65</td>\n",
       "      <td>3</td>\n",
       "      <td>29.7</td>\n",
       "      <td>1</td>\n",
       "      <td>False records</td>\n",
       "      <td>...</td>\n",
       "      <td>NaN</td>\n",
       "      <td>0</td>\n",
       "      <td>село Рождествено</td>\n",
       "      <td>26726</td>\n",
       "      <td>13098</td>\n",
       "      <td>0</td>\n",
       "      <td>455</td>\n",
       "      <td>1</td>\n",
       "      <td>502</td>\n",
       "      <td>95</td>\n",
       "    </tr>\n",
       "    <tr>\n",
       "      <th>23697</th>\n",
       "      <td>13</td>\n",
       "      <td>11475000</td>\n",
       "      <td>76.75</td>\n",
       "      <td>2017-03-28</td>\n",
       "      <td>2</td>\n",
       "      <td>3.00</td>\n",
       "      <td>17</td>\n",
       "      <td>30.5</td>\n",
       "      <td>12</td>\n",
       "      <td>False records</td>\n",
       "      <td>...</td>\n",
       "      <td>23.30</td>\n",
       "      <td>2</td>\n",
       "      <td>Санкт-Петербург</td>\n",
       "      <td>39140</td>\n",
       "      <td>10364</td>\n",
       "      <td>2</td>\n",
       "      <td>173</td>\n",
       "      <td>3</td>\n",
       "      <td>196</td>\n",
       "      <td>602</td>\n",
       "    </tr>\n",
       "    <tr>\n",
       "      <th>23698</th>\n",
       "      <td>4</td>\n",
       "      <td>1350000</td>\n",
       "      <td>32.30</td>\n",
       "      <td>2017-07-21</td>\n",
       "      <td>1</td>\n",
       "      <td>2.50</td>\n",
       "      <td>5</td>\n",
       "      <td>12.3</td>\n",
       "      <td>1</td>\n",
       "      <td>False records</td>\n",
       "      <td>...</td>\n",
       "      <td>9.00</td>\n",
       "      <td>0</td>\n",
       "      <td>поселок Новый Учхоз</td>\n",
       "      <td>26726</td>\n",
       "      <td>13098</td>\n",
       "      <td>0</td>\n",
       "      <td>455</td>\n",
       "      <td>1</td>\n",
       "      <td>502</td>\n",
       "      <td>95</td>\n",
       "    </tr>\n",
       "  </tbody>\n",
       "</table>\n",
       "<p>23699 rows × 22 columns</p>\n",
       "</div>"
      ],
      "text/plain": [
       "       total_images  last_price  total_area first_day_exposition  rooms  \\\n",
       "0                20    13000000      108.00           2019-03-07      3   \n",
       "1                 7     3350000       40.40           2018-12-04      1   \n",
       "2                10     5196000       56.00           2015-08-20      2   \n",
       "3                 0    64900000      159.00           2015-07-24      3   \n",
       "4                 2    10000000      100.00           2018-06-19      2   \n",
       "...             ...         ...         ...                  ...    ...   \n",
       "23694             9     9700000      133.81           2017-03-21      3   \n",
       "23695            14     3100000       59.00           2018-01-15      3   \n",
       "23696            18     2500000       56.70           2018-02-11      2   \n",
       "23697            13    11475000       76.75           2017-03-28      2   \n",
       "23698             4     1350000       32.30           2017-07-21      1   \n",
       "\n",
       "       ceiling_height  floors_total  living_area  floor   is_apartment  ...  \\\n",
       "0                2.70            16         51.0      8  False records  ...   \n",
       "1                2.65            11         18.6      1  False records  ...   \n",
       "2                2.65             5         34.3      4  False records  ...   \n",
       "3                2.65            14         45.0      9  False records  ...   \n",
       "4                3.03            14         32.0     13  False records  ...   \n",
       "...               ...           ...          ...    ...            ...  ...   \n",
       "23694            3.70             5         73.3      3  False records  ...   \n",
       "23695            2.65             5         38.0      4  False records  ...   \n",
       "23696            2.65             3         29.7      1  False records  ...   \n",
       "23697            3.00            17         30.5     12  False records  ...   \n",
       "23698            2.50             5         12.3      1  False records  ...   \n",
       "\n",
       "       kitchen_area  balcony        locality_name  airports_nearest  \\\n",
       "0             25.00        0      Санкт-Петербург             18863   \n",
       "1             11.00        2       посёлок Шушары             12817   \n",
       "2              8.30        0      Санкт-Петербург             21741   \n",
       "3               NaN        0      Санкт-Петербург             28098   \n",
       "4             41.00        0      Санкт-Петербург             31856   \n",
       "...             ...      ...                  ...               ...   \n",
       "23694         13.83        0      Санкт-Петербург             24665   \n",
       "23695          8.50        0                Тосно             26726   \n",
       "23696           NaN        0     село Рождествено             26726   \n",
       "23697         23.30        2      Санкт-Петербург             39140   \n",
       "23698          9.00        0  поселок Новый Учхоз             26726   \n",
       "\n",
       "      city_centers_nearest  parks_around_3000  parks_nearest  \\\n",
       "0                    16028                  1            482   \n",
       "1                    18603                  0            455   \n",
       "2                    13933                  1             90   \n",
       "3                     6800                  2             84   \n",
       "4                     8098                  2            112   \n",
       "...                    ...                ...            ...   \n",
       "23694                 4232                  1            796   \n",
       "23695                13098                  0            455   \n",
       "23696                13098                  0            455   \n",
       "23697                10364                  2            173   \n",
       "23698                13098                  0            455   \n",
       "\n",
       "       ponds_around_3000  ponds_nearest  days_exposition  \n",
       "0                      2            755               95  \n",
       "1                      0            502               81  \n",
       "2                      2            574              558  \n",
       "3                      3            234              424  \n",
       "4                      1             48              121  \n",
       "...                  ...            ...              ...  \n",
       "23694                  3            381               95  \n",
       "23695                  1            502               45  \n",
       "23696                  1            502               95  \n",
       "23697                  3            196              602  \n",
       "23698                  1            502               95  \n",
       "\n",
       "[23699 rows x 22 columns]"
      ]
     },
     "execution_count": 34,
     "metadata": {},
     "output_type": "execute_result"
    }
   ],
   "source": [
    "#  откроем нашу таблицу\n",
    "data"
   ]
  },
  {
   "cell_type": "code",
   "execution_count": 35,
   "metadata": {},
   "outputs": [
    {
     "data": {
      "text/html": [
       "<div>\n",
       "<style scoped>\n",
       "    .dataframe tbody tr th:only-of-type {\n",
       "        vertical-align: middle;\n",
       "    }\n",
       "\n",
       "    .dataframe tbody tr th {\n",
       "        vertical-align: top;\n",
       "    }\n",
       "\n",
       "    .dataframe thead th {\n",
       "        text-align: right;\n",
       "    }\n",
       "</style>\n",
       "<table border=\"1\" class=\"dataframe\">\n",
       "  <thead>\n",
       "    <tr style=\"text-align: right;\">\n",
       "      <th></th>\n",
       "      <th>total_images</th>\n",
       "      <th>last_price</th>\n",
       "      <th>total_area</th>\n",
       "      <th>first_day_exposition</th>\n",
       "      <th>rooms</th>\n",
       "      <th>ceiling_height</th>\n",
       "      <th>floors_total</th>\n",
       "      <th>living_area</th>\n",
       "      <th>floor</th>\n",
       "      <th>is_apartment</th>\n",
       "      <th>...</th>\n",
       "      <th>balcony</th>\n",
       "      <th>locality_name</th>\n",
       "      <th>airports_nearest</th>\n",
       "      <th>city_centers_nearest</th>\n",
       "      <th>parks_around_3000</th>\n",
       "      <th>parks_nearest</th>\n",
       "      <th>ponds_around_3000</th>\n",
       "      <th>ponds_nearest</th>\n",
       "      <th>days_exposition</th>\n",
       "      <th>meter_price</th>\n",
       "    </tr>\n",
       "  </thead>\n",
       "  <tbody>\n",
       "    <tr>\n",
       "      <th>0</th>\n",
       "      <td>20</td>\n",
       "      <td>13000000</td>\n",
       "      <td>108.00</td>\n",
       "      <td>2019-03-07</td>\n",
       "      <td>3</td>\n",
       "      <td>2.70</td>\n",
       "      <td>16</td>\n",
       "      <td>51.0</td>\n",
       "      <td>8</td>\n",
       "      <td>False records</td>\n",
       "      <td>...</td>\n",
       "      <td>0</td>\n",
       "      <td>Санкт-Петербург</td>\n",
       "      <td>18863</td>\n",
       "      <td>16028</td>\n",
       "      <td>1</td>\n",
       "      <td>482</td>\n",
       "      <td>2</td>\n",
       "      <td>755</td>\n",
       "      <td>95</td>\n",
       "      <td>120370</td>\n",
       "    </tr>\n",
       "    <tr>\n",
       "      <th>1</th>\n",
       "      <td>7</td>\n",
       "      <td>3350000</td>\n",
       "      <td>40.40</td>\n",
       "      <td>2018-12-04</td>\n",
       "      <td>1</td>\n",
       "      <td>2.65</td>\n",
       "      <td>11</td>\n",
       "      <td>18.6</td>\n",
       "      <td>1</td>\n",
       "      <td>False records</td>\n",
       "      <td>...</td>\n",
       "      <td>2</td>\n",
       "      <td>посёлок Шушары</td>\n",
       "      <td>12817</td>\n",
       "      <td>18603</td>\n",
       "      <td>0</td>\n",
       "      <td>455</td>\n",
       "      <td>0</td>\n",
       "      <td>502</td>\n",
       "      <td>81</td>\n",
       "      <td>82920</td>\n",
       "    </tr>\n",
       "    <tr>\n",
       "      <th>2</th>\n",
       "      <td>10</td>\n",
       "      <td>5196000</td>\n",
       "      <td>56.00</td>\n",
       "      <td>2015-08-20</td>\n",
       "      <td>2</td>\n",
       "      <td>2.65</td>\n",
       "      <td>5</td>\n",
       "      <td>34.3</td>\n",
       "      <td>4</td>\n",
       "      <td>False records</td>\n",
       "      <td>...</td>\n",
       "      <td>0</td>\n",
       "      <td>Санкт-Петербург</td>\n",
       "      <td>21741</td>\n",
       "      <td>13933</td>\n",
       "      <td>1</td>\n",
       "      <td>90</td>\n",
       "      <td>2</td>\n",
       "      <td>574</td>\n",
       "      <td>558</td>\n",
       "      <td>92785</td>\n",
       "    </tr>\n",
       "    <tr>\n",
       "      <th>3</th>\n",
       "      <td>0</td>\n",
       "      <td>64900000</td>\n",
       "      <td>159.00</td>\n",
       "      <td>2015-07-24</td>\n",
       "      <td>3</td>\n",
       "      <td>2.65</td>\n",
       "      <td>14</td>\n",
       "      <td>45.0</td>\n",
       "      <td>9</td>\n",
       "      <td>False records</td>\n",
       "      <td>...</td>\n",
       "      <td>0</td>\n",
       "      <td>Санкт-Петербург</td>\n",
       "      <td>28098</td>\n",
       "      <td>6800</td>\n",
       "      <td>2</td>\n",
       "      <td>84</td>\n",
       "      <td>3</td>\n",
       "      <td>234</td>\n",
       "      <td>424</td>\n",
       "      <td>408176</td>\n",
       "    </tr>\n",
       "    <tr>\n",
       "      <th>4</th>\n",
       "      <td>2</td>\n",
       "      <td>10000000</td>\n",
       "      <td>100.00</td>\n",
       "      <td>2018-06-19</td>\n",
       "      <td>2</td>\n",
       "      <td>3.03</td>\n",
       "      <td>14</td>\n",
       "      <td>32.0</td>\n",
       "      <td>13</td>\n",
       "      <td>False records</td>\n",
       "      <td>...</td>\n",
       "      <td>0</td>\n",
       "      <td>Санкт-Петербург</td>\n",
       "      <td>31856</td>\n",
       "      <td>8098</td>\n",
       "      <td>2</td>\n",
       "      <td>112</td>\n",
       "      <td>1</td>\n",
       "      <td>48</td>\n",
       "      <td>121</td>\n",
       "      <td>100000</td>\n",
       "    </tr>\n",
       "    <tr>\n",
       "      <th>...</th>\n",
       "      <td>...</td>\n",
       "      <td>...</td>\n",
       "      <td>...</td>\n",
       "      <td>...</td>\n",
       "      <td>...</td>\n",
       "      <td>...</td>\n",
       "      <td>...</td>\n",
       "      <td>...</td>\n",
       "      <td>...</td>\n",
       "      <td>...</td>\n",
       "      <td>...</td>\n",
       "      <td>...</td>\n",
       "      <td>...</td>\n",
       "      <td>...</td>\n",
       "      <td>...</td>\n",
       "      <td>...</td>\n",
       "      <td>...</td>\n",
       "      <td>...</td>\n",
       "      <td>...</td>\n",
       "      <td>...</td>\n",
       "      <td>...</td>\n",
       "    </tr>\n",
       "    <tr>\n",
       "      <th>23694</th>\n",
       "      <td>9</td>\n",
       "      <td>9700000</td>\n",
       "      <td>133.81</td>\n",
       "      <td>2017-03-21</td>\n",
       "      <td>3</td>\n",
       "      <td>3.70</td>\n",
       "      <td>5</td>\n",
       "      <td>73.3</td>\n",
       "      <td>3</td>\n",
       "      <td>False records</td>\n",
       "      <td>...</td>\n",
       "      <td>0</td>\n",
       "      <td>Санкт-Петербург</td>\n",
       "      <td>24665</td>\n",
       "      <td>4232</td>\n",
       "      <td>1</td>\n",
       "      <td>796</td>\n",
       "      <td>3</td>\n",
       "      <td>381</td>\n",
       "      <td>95</td>\n",
       "      <td>72490</td>\n",
       "    </tr>\n",
       "    <tr>\n",
       "      <th>23695</th>\n",
       "      <td>14</td>\n",
       "      <td>3100000</td>\n",
       "      <td>59.00</td>\n",
       "      <td>2018-01-15</td>\n",
       "      <td>3</td>\n",
       "      <td>2.65</td>\n",
       "      <td>5</td>\n",
       "      <td>38.0</td>\n",
       "      <td>4</td>\n",
       "      <td>False records</td>\n",
       "      <td>...</td>\n",
       "      <td>0</td>\n",
       "      <td>Тосно</td>\n",
       "      <td>26726</td>\n",
       "      <td>13098</td>\n",
       "      <td>0</td>\n",
       "      <td>455</td>\n",
       "      <td>1</td>\n",
       "      <td>502</td>\n",
       "      <td>45</td>\n",
       "      <td>52542</td>\n",
       "    </tr>\n",
       "    <tr>\n",
       "      <th>23696</th>\n",
       "      <td>18</td>\n",
       "      <td>2500000</td>\n",
       "      <td>56.70</td>\n",
       "      <td>2018-02-11</td>\n",
       "      <td>2</td>\n",
       "      <td>2.65</td>\n",
       "      <td>3</td>\n",
       "      <td>29.7</td>\n",
       "      <td>1</td>\n",
       "      <td>False records</td>\n",
       "      <td>...</td>\n",
       "      <td>0</td>\n",
       "      <td>село Рождествено</td>\n",
       "      <td>26726</td>\n",
       "      <td>13098</td>\n",
       "      <td>0</td>\n",
       "      <td>455</td>\n",
       "      <td>1</td>\n",
       "      <td>502</td>\n",
       "      <td>95</td>\n",
       "      <td>44091</td>\n",
       "    </tr>\n",
       "    <tr>\n",
       "      <th>23697</th>\n",
       "      <td>13</td>\n",
       "      <td>11475000</td>\n",
       "      <td>76.75</td>\n",
       "      <td>2017-03-28</td>\n",
       "      <td>2</td>\n",
       "      <td>3.00</td>\n",
       "      <td>17</td>\n",
       "      <td>30.5</td>\n",
       "      <td>12</td>\n",
       "      <td>False records</td>\n",
       "      <td>...</td>\n",
       "      <td>2</td>\n",
       "      <td>Санкт-Петербург</td>\n",
       "      <td>39140</td>\n",
       "      <td>10364</td>\n",
       "      <td>2</td>\n",
       "      <td>173</td>\n",
       "      <td>3</td>\n",
       "      <td>196</td>\n",
       "      <td>602</td>\n",
       "      <td>149511</td>\n",
       "    </tr>\n",
       "    <tr>\n",
       "      <th>23698</th>\n",
       "      <td>4</td>\n",
       "      <td>1350000</td>\n",
       "      <td>32.30</td>\n",
       "      <td>2017-07-21</td>\n",
       "      <td>1</td>\n",
       "      <td>2.50</td>\n",
       "      <td>5</td>\n",
       "      <td>12.3</td>\n",
       "      <td>1</td>\n",
       "      <td>False records</td>\n",
       "      <td>...</td>\n",
       "      <td>0</td>\n",
       "      <td>поселок Новый Учхоз</td>\n",
       "      <td>26726</td>\n",
       "      <td>13098</td>\n",
       "      <td>0</td>\n",
       "      <td>455</td>\n",
       "      <td>1</td>\n",
       "      <td>502</td>\n",
       "      <td>95</td>\n",
       "      <td>41795</td>\n",
       "    </tr>\n",
       "  </tbody>\n",
       "</table>\n",
       "<p>23699 rows × 23 columns</p>\n",
       "</div>"
      ],
      "text/plain": [
       "       total_images  last_price  total_area first_day_exposition  rooms  \\\n",
       "0                20    13000000      108.00           2019-03-07      3   \n",
       "1                 7     3350000       40.40           2018-12-04      1   \n",
       "2                10     5196000       56.00           2015-08-20      2   \n",
       "3                 0    64900000      159.00           2015-07-24      3   \n",
       "4                 2    10000000      100.00           2018-06-19      2   \n",
       "...             ...         ...         ...                  ...    ...   \n",
       "23694             9     9700000      133.81           2017-03-21      3   \n",
       "23695            14     3100000       59.00           2018-01-15      3   \n",
       "23696            18     2500000       56.70           2018-02-11      2   \n",
       "23697            13    11475000       76.75           2017-03-28      2   \n",
       "23698             4     1350000       32.30           2017-07-21      1   \n",
       "\n",
       "       ceiling_height  floors_total  living_area  floor   is_apartment  ...  \\\n",
       "0                2.70            16         51.0      8  False records  ...   \n",
       "1                2.65            11         18.6      1  False records  ...   \n",
       "2                2.65             5         34.3      4  False records  ...   \n",
       "3                2.65            14         45.0      9  False records  ...   \n",
       "4                3.03            14         32.0     13  False records  ...   \n",
       "...               ...           ...          ...    ...            ...  ...   \n",
       "23694            3.70             5         73.3      3  False records  ...   \n",
       "23695            2.65             5         38.0      4  False records  ...   \n",
       "23696            2.65             3         29.7      1  False records  ...   \n",
       "23697            3.00            17         30.5     12  False records  ...   \n",
       "23698            2.50             5         12.3      1  False records  ...   \n",
       "\n",
       "       balcony        locality_name  airports_nearest  city_centers_nearest  \\\n",
       "0            0      Санкт-Петербург             18863                 16028   \n",
       "1            2       посёлок Шушары             12817                 18603   \n",
       "2            0      Санкт-Петербург             21741                 13933   \n",
       "3            0      Санкт-Петербург             28098                  6800   \n",
       "4            0      Санкт-Петербург             31856                  8098   \n",
       "...        ...                  ...               ...                   ...   \n",
       "23694        0      Санкт-Петербург             24665                  4232   \n",
       "23695        0                Тосно             26726                 13098   \n",
       "23696        0     село Рождествено             26726                 13098   \n",
       "23697        2      Санкт-Петербург             39140                 10364   \n",
       "23698        0  поселок Новый Учхоз             26726                 13098   \n",
       "\n",
       "      parks_around_3000  parks_nearest  ponds_around_3000  ponds_nearest  \\\n",
       "0                     1            482                  2            755   \n",
       "1                     0            455                  0            502   \n",
       "2                     1             90                  2            574   \n",
       "3                     2             84                  3            234   \n",
       "4                     2            112                  1             48   \n",
       "...                 ...            ...                ...            ...   \n",
       "23694                 1            796                  3            381   \n",
       "23695                 0            455                  1            502   \n",
       "23696                 0            455                  1            502   \n",
       "23697                 2            173                  3            196   \n",
       "23698                 0            455                  1            502   \n",
       "\n",
       "       days_exposition  meter_price  \n",
       "0                   95       120370  \n",
       "1                   81        82920  \n",
       "2                  558        92785  \n",
       "3                  424       408176  \n",
       "4                  121       100000  \n",
       "...                ...          ...  \n",
       "23694               95        72490  \n",
       "23695               45        52542  \n",
       "23696               95        44091  \n",
       "23697              602       149511  \n",
       "23698               95        41795  \n",
       "\n",
       "[23699 rows x 23 columns]"
      ]
     },
     "execution_count": 35,
     "metadata": {},
     "output_type": "execute_result"
    }
   ],
   "source": [
    "# создаем новый столбец, в котором будут указываться целые значения цен за м^2\n",
    "data['meter_price'] = data['last_price'] / data['total_area']\n",
    "data['meter_price'] = data['meter_price'].astype('int64')\n",
    "data"
   ]
  },
  {
   "cell_type": "markdown",
   "metadata": {},
   "source": [
    "Займемся другими столбцами!"
   ]
  },
  {
   "cell_type": "markdown",
   "metadata": {},
   "source": [
    "Добавим столбы с днем, месяцем и годом."
   ]
  },
  {
   "cell_type": "code",
   "execution_count": 36,
   "metadata": {},
   "outputs": [
    {
     "data": {
      "text/html": [
       "<div>\n",
       "<style scoped>\n",
       "    .dataframe tbody tr th:only-of-type {\n",
       "        vertical-align: middle;\n",
       "    }\n",
       "\n",
       "    .dataframe tbody tr th {\n",
       "        vertical-align: top;\n",
       "    }\n",
       "\n",
       "    .dataframe thead th {\n",
       "        text-align: right;\n",
       "    }\n",
       "</style>\n",
       "<table border=\"1\" class=\"dataframe\">\n",
       "  <thead>\n",
       "    <tr style=\"text-align: right;\">\n",
       "      <th></th>\n",
       "      <th>total_images</th>\n",
       "      <th>last_price</th>\n",
       "      <th>total_area</th>\n",
       "      <th>first_day_exposition</th>\n",
       "      <th>rooms</th>\n",
       "      <th>ceiling_height</th>\n",
       "      <th>floors_total</th>\n",
       "      <th>living_area</th>\n",
       "      <th>floor</th>\n",
       "      <th>is_apartment</th>\n",
       "      <th>...</th>\n",
       "      <th>city_centers_nearest</th>\n",
       "      <th>parks_around_3000</th>\n",
       "      <th>parks_nearest</th>\n",
       "      <th>ponds_around_3000</th>\n",
       "      <th>ponds_nearest</th>\n",
       "      <th>days_exposition</th>\n",
       "      <th>meter_price</th>\n",
       "      <th>day</th>\n",
       "      <th>month</th>\n",
       "      <th>year</th>\n",
       "    </tr>\n",
       "  </thead>\n",
       "  <tbody>\n",
       "    <tr>\n",
       "      <th>0</th>\n",
       "      <td>20</td>\n",
       "      <td>13000000</td>\n",
       "      <td>108.00</td>\n",
       "      <td>2019-03-07</td>\n",
       "      <td>3</td>\n",
       "      <td>2.70</td>\n",
       "      <td>16</td>\n",
       "      <td>51.0</td>\n",
       "      <td>8</td>\n",
       "      <td>False records</td>\n",
       "      <td>...</td>\n",
       "      <td>16028</td>\n",
       "      <td>1</td>\n",
       "      <td>482</td>\n",
       "      <td>2</td>\n",
       "      <td>755</td>\n",
       "      <td>95</td>\n",
       "      <td>120370</td>\n",
       "      <td>Thursday</td>\n",
       "      <td>March</td>\n",
       "      <td>2019</td>\n",
       "    </tr>\n",
       "    <tr>\n",
       "      <th>1</th>\n",
       "      <td>7</td>\n",
       "      <td>3350000</td>\n",
       "      <td>40.40</td>\n",
       "      <td>2018-12-04</td>\n",
       "      <td>1</td>\n",
       "      <td>2.65</td>\n",
       "      <td>11</td>\n",
       "      <td>18.6</td>\n",
       "      <td>1</td>\n",
       "      <td>False records</td>\n",
       "      <td>...</td>\n",
       "      <td>18603</td>\n",
       "      <td>0</td>\n",
       "      <td>455</td>\n",
       "      <td>0</td>\n",
       "      <td>502</td>\n",
       "      <td>81</td>\n",
       "      <td>82920</td>\n",
       "      <td>Tuesday</td>\n",
       "      <td>December</td>\n",
       "      <td>2018</td>\n",
       "    </tr>\n",
       "    <tr>\n",
       "      <th>2</th>\n",
       "      <td>10</td>\n",
       "      <td>5196000</td>\n",
       "      <td>56.00</td>\n",
       "      <td>2015-08-20</td>\n",
       "      <td>2</td>\n",
       "      <td>2.65</td>\n",
       "      <td>5</td>\n",
       "      <td>34.3</td>\n",
       "      <td>4</td>\n",
       "      <td>False records</td>\n",
       "      <td>...</td>\n",
       "      <td>13933</td>\n",
       "      <td>1</td>\n",
       "      <td>90</td>\n",
       "      <td>2</td>\n",
       "      <td>574</td>\n",
       "      <td>558</td>\n",
       "      <td>92785</td>\n",
       "      <td>Thursday</td>\n",
       "      <td>August</td>\n",
       "      <td>2015</td>\n",
       "    </tr>\n",
       "    <tr>\n",
       "      <th>3</th>\n",
       "      <td>0</td>\n",
       "      <td>64900000</td>\n",
       "      <td>159.00</td>\n",
       "      <td>2015-07-24</td>\n",
       "      <td>3</td>\n",
       "      <td>2.65</td>\n",
       "      <td>14</td>\n",
       "      <td>45.0</td>\n",
       "      <td>9</td>\n",
       "      <td>False records</td>\n",
       "      <td>...</td>\n",
       "      <td>6800</td>\n",
       "      <td>2</td>\n",
       "      <td>84</td>\n",
       "      <td>3</td>\n",
       "      <td>234</td>\n",
       "      <td>424</td>\n",
       "      <td>408176</td>\n",
       "      <td>Friday</td>\n",
       "      <td>July</td>\n",
       "      <td>2015</td>\n",
       "    </tr>\n",
       "    <tr>\n",
       "      <th>4</th>\n",
       "      <td>2</td>\n",
       "      <td>10000000</td>\n",
       "      <td>100.00</td>\n",
       "      <td>2018-06-19</td>\n",
       "      <td>2</td>\n",
       "      <td>3.03</td>\n",
       "      <td>14</td>\n",
       "      <td>32.0</td>\n",
       "      <td>13</td>\n",
       "      <td>False records</td>\n",
       "      <td>...</td>\n",
       "      <td>8098</td>\n",
       "      <td>2</td>\n",
       "      <td>112</td>\n",
       "      <td>1</td>\n",
       "      <td>48</td>\n",
       "      <td>121</td>\n",
       "      <td>100000</td>\n",
       "      <td>Tuesday</td>\n",
       "      <td>June</td>\n",
       "      <td>2018</td>\n",
       "    </tr>\n",
       "    <tr>\n",
       "      <th>...</th>\n",
       "      <td>...</td>\n",
       "      <td>...</td>\n",
       "      <td>...</td>\n",
       "      <td>...</td>\n",
       "      <td>...</td>\n",
       "      <td>...</td>\n",
       "      <td>...</td>\n",
       "      <td>...</td>\n",
       "      <td>...</td>\n",
       "      <td>...</td>\n",
       "      <td>...</td>\n",
       "      <td>...</td>\n",
       "      <td>...</td>\n",
       "      <td>...</td>\n",
       "      <td>...</td>\n",
       "      <td>...</td>\n",
       "      <td>...</td>\n",
       "      <td>...</td>\n",
       "      <td>...</td>\n",
       "      <td>...</td>\n",
       "      <td>...</td>\n",
       "    </tr>\n",
       "    <tr>\n",
       "      <th>23694</th>\n",
       "      <td>9</td>\n",
       "      <td>9700000</td>\n",
       "      <td>133.81</td>\n",
       "      <td>2017-03-21</td>\n",
       "      <td>3</td>\n",
       "      <td>3.70</td>\n",
       "      <td>5</td>\n",
       "      <td>73.3</td>\n",
       "      <td>3</td>\n",
       "      <td>False records</td>\n",
       "      <td>...</td>\n",
       "      <td>4232</td>\n",
       "      <td>1</td>\n",
       "      <td>796</td>\n",
       "      <td>3</td>\n",
       "      <td>381</td>\n",
       "      <td>95</td>\n",
       "      <td>72490</td>\n",
       "      <td>Tuesday</td>\n",
       "      <td>March</td>\n",
       "      <td>2017</td>\n",
       "    </tr>\n",
       "    <tr>\n",
       "      <th>23695</th>\n",
       "      <td>14</td>\n",
       "      <td>3100000</td>\n",
       "      <td>59.00</td>\n",
       "      <td>2018-01-15</td>\n",
       "      <td>3</td>\n",
       "      <td>2.65</td>\n",
       "      <td>5</td>\n",
       "      <td>38.0</td>\n",
       "      <td>4</td>\n",
       "      <td>False records</td>\n",
       "      <td>...</td>\n",
       "      <td>13098</td>\n",
       "      <td>0</td>\n",
       "      <td>455</td>\n",
       "      <td>1</td>\n",
       "      <td>502</td>\n",
       "      <td>45</td>\n",
       "      <td>52542</td>\n",
       "      <td>Monday</td>\n",
       "      <td>January</td>\n",
       "      <td>2018</td>\n",
       "    </tr>\n",
       "    <tr>\n",
       "      <th>23696</th>\n",
       "      <td>18</td>\n",
       "      <td>2500000</td>\n",
       "      <td>56.70</td>\n",
       "      <td>2018-02-11</td>\n",
       "      <td>2</td>\n",
       "      <td>2.65</td>\n",
       "      <td>3</td>\n",
       "      <td>29.7</td>\n",
       "      <td>1</td>\n",
       "      <td>False records</td>\n",
       "      <td>...</td>\n",
       "      <td>13098</td>\n",
       "      <td>0</td>\n",
       "      <td>455</td>\n",
       "      <td>1</td>\n",
       "      <td>502</td>\n",
       "      <td>95</td>\n",
       "      <td>44091</td>\n",
       "      <td>Sunday</td>\n",
       "      <td>February</td>\n",
       "      <td>2018</td>\n",
       "    </tr>\n",
       "    <tr>\n",
       "      <th>23697</th>\n",
       "      <td>13</td>\n",
       "      <td>11475000</td>\n",
       "      <td>76.75</td>\n",
       "      <td>2017-03-28</td>\n",
       "      <td>2</td>\n",
       "      <td>3.00</td>\n",
       "      <td>17</td>\n",
       "      <td>30.5</td>\n",
       "      <td>12</td>\n",
       "      <td>False records</td>\n",
       "      <td>...</td>\n",
       "      <td>10364</td>\n",
       "      <td>2</td>\n",
       "      <td>173</td>\n",
       "      <td>3</td>\n",
       "      <td>196</td>\n",
       "      <td>602</td>\n",
       "      <td>149511</td>\n",
       "      <td>Tuesday</td>\n",
       "      <td>March</td>\n",
       "      <td>2017</td>\n",
       "    </tr>\n",
       "    <tr>\n",
       "      <th>23698</th>\n",
       "      <td>4</td>\n",
       "      <td>1350000</td>\n",
       "      <td>32.30</td>\n",
       "      <td>2017-07-21</td>\n",
       "      <td>1</td>\n",
       "      <td>2.50</td>\n",
       "      <td>5</td>\n",
       "      <td>12.3</td>\n",
       "      <td>1</td>\n",
       "      <td>False records</td>\n",
       "      <td>...</td>\n",
       "      <td>13098</td>\n",
       "      <td>0</td>\n",
       "      <td>455</td>\n",
       "      <td>1</td>\n",
       "      <td>502</td>\n",
       "      <td>95</td>\n",
       "      <td>41795</td>\n",
       "      <td>Friday</td>\n",
       "      <td>July</td>\n",
       "      <td>2017</td>\n",
       "    </tr>\n",
       "  </tbody>\n",
       "</table>\n",
       "<p>23699 rows × 26 columns</p>\n",
       "</div>"
      ],
      "text/plain": [
       "       total_images  last_price  total_area first_day_exposition  rooms  \\\n",
       "0                20    13000000      108.00           2019-03-07      3   \n",
       "1                 7     3350000       40.40           2018-12-04      1   \n",
       "2                10     5196000       56.00           2015-08-20      2   \n",
       "3                 0    64900000      159.00           2015-07-24      3   \n",
       "4                 2    10000000      100.00           2018-06-19      2   \n",
       "...             ...         ...         ...                  ...    ...   \n",
       "23694             9     9700000      133.81           2017-03-21      3   \n",
       "23695            14     3100000       59.00           2018-01-15      3   \n",
       "23696            18     2500000       56.70           2018-02-11      2   \n",
       "23697            13    11475000       76.75           2017-03-28      2   \n",
       "23698             4     1350000       32.30           2017-07-21      1   \n",
       "\n",
       "       ceiling_height  floors_total  living_area  floor   is_apartment  ...  \\\n",
       "0                2.70            16         51.0      8  False records  ...   \n",
       "1                2.65            11         18.6      1  False records  ...   \n",
       "2                2.65             5         34.3      4  False records  ...   \n",
       "3                2.65            14         45.0      9  False records  ...   \n",
       "4                3.03            14         32.0     13  False records  ...   \n",
       "...               ...           ...          ...    ...            ...  ...   \n",
       "23694            3.70             5         73.3      3  False records  ...   \n",
       "23695            2.65             5         38.0      4  False records  ...   \n",
       "23696            2.65             3         29.7      1  False records  ...   \n",
       "23697            3.00            17         30.5     12  False records  ...   \n",
       "23698            2.50             5         12.3      1  False records  ...   \n",
       "\n",
       "       city_centers_nearest  parks_around_3000  parks_nearest  \\\n",
       "0                     16028                  1            482   \n",
       "1                     18603                  0            455   \n",
       "2                     13933                  1             90   \n",
       "3                      6800                  2             84   \n",
       "4                      8098                  2            112   \n",
       "...                     ...                ...            ...   \n",
       "23694                  4232                  1            796   \n",
       "23695                 13098                  0            455   \n",
       "23696                 13098                  0            455   \n",
       "23697                 10364                  2            173   \n",
       "23698                 13098                  0            455   \n",
       "\n",
       "       ponds_around_3000 ponds_nearest  days_exposition  meter_price  \\\n",
       "0                      2           755               95       120370   \n",
       "1                      0           502               81        82920   \n",
       "2                      2           574              558        92785   \n",
       "3                      3           234              424       408176   \n",
       "4                      1            48              121       100000   \n",
       "...                  ...           ...              ...          ...   \n",
       "23694                  3           381               95        72490   \n",
       "23695                  1           502               45        52542   \n",
       "23696                  1           502               95        44091   \n",
       "23697                  3           196              602       149511   \n",
       "23698                  1           502               95        41795   \n",
       "\n",
       "            day     month  year  \n",
       "0      Thursday     March  2019  \n",
       "1       Tuesday  December  2018  \n",
       "2      Thursday    August  2015  \n",
       "3        Friday      July  2015  \n",
       "4       Tuesday      June  2018  \n",
       "...         ...       ...   ...  \n",
       "23694   Tuesday     March  2017  \n",
       "23695    Monday   January  2018  \n",
       "23696    Sunday  February  2018  \n",
       "23697   Tuesday     March  2017  \n",
       "23698    Friday      July  2017  \n",
       "\n",
       "[23699 rows x 26 columns]"
      ]
     },
     "execution_count": 36,
     "metadata": {},
     "output_type": "execute_result"
    }
   ],
   "source": [
    "# добавляем столбцы\n",
    "data['day'] = data['first_day_exposition'].dt.day_name()\n",
    "data['month'] = data['first_day_exposition'].dt.month_name()\n",
    "data['year'] = data['first_day_exposition'].dt.year\n",
    "data"
   ]
  },
  {
   "cell_type": "markdown",
   "metadata": {},
   "source": [
    "Отлично, получилось! Идем дальше."
   ]
  },
  {
   "cell_type": "markdown",
   "metadata": {},
   "source": [
    "Узнаем этаж каждой квартиры и добавим его в таблицу."
   ]
  },
  {
   "cell_type": "code",
   "execution_count": 37,
   "metadata": {},
   "outputs": [
    {
     "data": {
      "text/html": [
       "<div>\n",
       "<style scoped>\n",
       "    .dataframe tbody tr th:only-of-type {\n",
       "        vertical-align: middle;\n",
       "    }\n",
       "\n",
       "    .dataframe tbody tr th {\n",
       "        vertical-align: top;\n",
       "    }\n",
       "\n",
       "    .dataframe thead th {\n",
       "        text-align: right;\n",
       "    }\n",
       "</style>\n",
       "<table border=\"1\" class=\"dataframe\">\n",
       "  <thead>\n",
       "    <tr style=\"text-align: right;\">\n",
       "      <th></th>\n",
       "      <th>total_images</th>\n",
       "      <th>last_price</th>\n",
       "      <th>total_area</th>\n",
       "      <th>first_day_exposition</th>\n",
       "      <th>rooms</th>\n",
       "      <th>ceiling_height</th>\n",
       "      <th>floors_total</th>\n",
       "      <th>living_area</th>\n",
       "      <th>floor</th>\n",
       "      <th>is_apartment</th>\n",
       "      <th>...</th>\n",
       "      <th>parks_around_3000</th>\n",
       "      <th>parks_nearest</th>\n",
       "      <th>ponds_around_3000</th>\n",
       "      <th>ponds_nearest</th>\n",
       "      <th>days_exposition</th>\n",
       "      <th>meter_price</th>\n",
       "      <th>day</th>\n",
       "      <th>month</th>\n",
       "      <th>year</th>\n",
       "      <th>floor_status</th>\n",
       "    </tr>\n",
       "  </thead>\n",
       "  <tbody>\n",
       "    <tr>\n",
       "      <th>0</th>\n",
       "      <td>20</td>\n",
       "      <td>13000000</td>\n",
       "      <td>108.00</td>\n",
       "      <td>2019-03-07</td>\n",
       "      <td>3</td>\n",
       "      <td>2.70</td>\n",
       "      <td>16</td>\n",
       "      <td>51.0</td>\n",
       "      <td>8</td>\n",
       "      <td>False records</td>\n",
       "      <td>...</td>\n",
       "      <td>1</td>\n",
       "      <td>482</td>\n",
       "      <td>2</td>\n",
       "      <td>755</td>\n",
       "      <td>95</td>\n",
       "      <td>120370</td>\n",
       "      <td>Thursday</td>\n",
       "      <td>March</td>\n",
       "      <td>2019</td>\n",
       "      <td>другой</td>\n",
       "    </tr>\n",
       "    <tr>\n",
       "      <th>1</th>\n",
       "      <td>7</td>\n",
       "      <td>3350000</td>\n",
       "      <td>40.40</td>\n",
       "      <td>2018-12-04</td>\n",
       "      <td>1</td>\n",
       "      <td>2.65</td>\n",
       "      <td>11</td>\n",
       "      <td>18.6</td>\n",
       "      <td>1</td>\n",
       "      <td>False records</td>\n",
       "      <td>...</td>\n",
       "      <td>0</td>\n",
       "      <td>455</td>\n",
       "      <td>0</td>\n",
       "      <td>502</td>\n",
       "      <td>81</td>\n",
       "      <td>82920</td>\n",
       "      <td>Tuesday</td>\n",
       "      <td>December</td>\n",
       "      <td>2018</td>\n",
       "      <td>первый</td>\n",
       "    </tr>\n",
       "    <tr>\n",
       "      <th>2</th>\n",
       "      <td>10</td>\n",
       "      <td>5196000</td>\n",
       "      <td>56.00</td>\n",
       "      <td>2015-08-20</td>\n",
       "      <td>2</td>\n",
       "      <td>2.65</td>\n",
       "      <td>5</td>\n",
       "      <td>34.3</td>\n",
       "      <td>4</td>\n",
       "      <td>False records</td>\n",
       "      <td>...</td>\n",
       "      <td>1</td>\n",
       "      <td>90</td>\n",
       "      <td>2</td>\n",
       "      <td>574</td>\n",
       "      <td>558</td>\n",
       "      <td>92785</td>\n",
       "      <td>Thursday</td>\n",
       "      <td>August</td>\n",
       "      <td>2015</td>\n",
       "      <td>другой</td>\n",
       "    </tr>\n",
       "    <tr>\n",
       "      <th>3</th>\n",
       "      <td>0</td>\n",
       "      <td>64900000</td>\n",
       "      <td>159.00</td>\n",
       "      <td>2015-07-24</td>\n",
       "      <td>3</td>\n",
       "      <td>2.65</td>\n",
       "      <td>14</td>\n",
       "      <td>45.0</td>\n",
       "      <td>9</td>\n",
       "      <td>False records</td>\n",
       "      <td>...</td>\n",
       "      <td>2</td>\n",
       "      <td>84</td>\n",
       "      <td>3</td>\n",
       "      <td>234</td>\n",
       "      <td>424</td>\n",
       "      <td>408176</td>\n",
       "      <td>Friday</td>\n",
       "      <td>July</td>\n",
       "      <td>2015</td>\n",
       "      <td>другой</td>\n",
       "    </tr>\n",
       "    <tr>\n",
       "      <th>4</th>\n",
       "      <td>2</td>\n",
       "      <td>10000000</td>\n",
       "      <td>100.00</td>\n",
       "      <td>2018-06-19</td>\n",
       "      <td>2</td>\n",
       "      <td>3.03</td>\n",
       "      <td>14</td>\n",
       "      <td>32.0</td>\n",
       "      <td>13</td>\n",
       "      <td>False records</td>\n",
       "      <td>...</td>\n",
       "      <td>2</td>\n",
       "      <td>112</td>\n",
       "      <td>1</td>\n",
       "      <td>48</td>\n",
       "      <td>121</td>\n",
       "      <td>100000</td>\n",
       "      <td>Tuesday</td>\n",
       "      <td>June</td>\n",
       "      <td>2018</td>\n",
       "      <td>другой</td>\n",
       "    </tr>\n",
       "    <tr>\n",
       "      <th>...</th>\n",
       "      <td>...</td>\n",
       "      <td>...</td>\n",
       "      <td>...</td>\n",
       "      <td>...</td>\n",
       "      <td>...</td>\n",
       "      <td>...</td>\n",
       "      <td>...</td>\n",
       "      <td>...</td>\n",
       "      <td>...</td>\n",
       "      <td>...</td>\n",
       "      <td>...</td>\n",
       "      <td>...</td>\n",
       "      <td>...</td>\n",
       "      <td>...</td>\n",
       "      <td>...</td>\n",
       "      <td>...</td>\n",
       "      <td>...</td>\n",
       "      <td>...</td>\n",
       "      <td>...</td>\n",
       "      <td>...</td>\n",
       "      <td>...</td>\n",
       "    </tr>\n",
       "    <tr>\n",
       "      <th>23694</th>\n",
       "      <td>9</td>\n",
       "      <td>9700000</td>\n",
       "      <td>133.81</td>\n",
       "      <td>2017-03-21</td>\n",
       "      <td>3</td>\n",
       "      <td>3.70</td>\n",
       "      <td>5</td>\n",
       "      <td>73.3</td>\n",
       "      <td>3</td>\n",
       "      <td>False records</td>\n",
       "      <td>...</td>\n",
       "      <td>1</td>\n",
       "      <td>796</td>\n",
       "      <td>3</td>\n",
       "      <td>381</td>\n",
       "      <td>95</td>\n",
       "      <td>72490</td>\n",
       "      <td>Tuesday</td>\n",
       "      <td>March</td>\n",
       "      <td>2017</td>\n",
       "      <td>другой</td>\n",
       "    </tr>\n",
       "    <tr>\n",
       "      <th>23695</th>\n",
       "      <td>14</td>\n",
       "      <td>3100000</td>\n",
       "      <td>59.00</td>\n",
       "      <td>2018-01-15</td>\n",
       "      <td>3</td>\n",
       "      <td>2.65</td>\n",
       "      <td>5</td>\n",
       "      <td>38.0</td>\n",
       "      <td>4</td>\n",
       "      <td>False records</td>\n",
       "      <td>...</td>\n",
       "      <td>0</td>\n",
       "      <td>455</td>\n",
       "      <td>1</td>\n",
       "      <td>502</td>\n",
       "      <td>45</td>\n",
       "      <td>52542</td>\n",
       "      <td>Monday</td>\n",
       "      <td>January</td>\n",
       "      <td>2018</td>\n",
       "      <td>другой</td>\n",
       "    </tr>\n",
       "    <tr>\n",
       "      <th>23696</th>\n",
       "      <td>18</td>\n",
       "      <td>2500000</td>\n",
       "      <td>56.70</td>\n",
       "      <td>2018-02-11</td>\n",
       "      <td>2</td>\n",
       "      <td>2.65</td>\n",
       "      <td>3</td>\n",
       "      <td>29.7</td>\n",
       "      <td>1</td>\n",
       "      <td>False records</td>\n",
       "      <td>...</td>\n",
       "      <td>0</td>\n",
       "      <td>455</td>\n",
       "      <td>1</td>\n",
       "      <td>502</td>\n",
       "      <td>95</td>\n",
       "      <td>44091</td>\n",
       "      <td>Sunday</td>\n",
       "      <td>February</td>\n",
       "      <td>2018</td>\n",
       "      <td>первый</td>\n",
       "    </tr>\n",
       "    <tr>\n",
       "      <th>23697</th>\n",
       "      <td>13</td>\n",
       "      <td>11475000</td>\n",
       "      <td>76.75</td>\n",
       "      <td>2017-03-28</td>\n",
       "      <td>2</td>\n",
       "      <td>3.00</td>\n",
       "      <td>17</td>\n",
       "      <td>30.5</td>\n",
       "      <td>12</td>\n",
       "      <td>False records</td>\n",
       "      <td>...</td>\n",
       "      <td>2</td>\n",
       "      <td>173</td>\n",
       "      <td>3</td>\n",
       "      <td>196</td>\n",
       "      <td>602</td>\n",
       "      <td>149511</td>\n",
       "      <td>Tuesday</td>\n",
       "      <td>March</td>\n",
       "      <td>2017</td>\n",
       "      <td>другой</td>\n",
       "    </tr>\n",
       "    <tr>\n",
       "      <th>23698</th>\n",
       "      <td>4</td>\n",
       "      <td>1350000</td>\n",
       "      <td>32.30</td>\n",
       "      <td>2017-07-21</td>\n",
       "      <td>1</td>\n",
       "      <td>2.50</td>\n",
       "      <td>5</td>\n",
       "      <td>12.3</td>\n",
       "      <td>1</td>\n",
       "      <td>False records</td>\n",
       "      <td>...</td>\n",
       "      <td>0</td>\n",
       "      <td>455</td>\n",
       "      <td>1</td>\n",
       "      <td>502</td>\n",
       "      <td>95</td>\n",
       "      <td>41795</td>\n",
       "      <td>Friday</td>\n",
       "      <td>July</td>\n",
       "      <td>2017</td>\n",
       "      <td>первый</td>\n",
       "    </tr>\n",
       "  </tbody>\n",
       "</table>\n",
       "<p>23699 rows × 27 columns</p>\n",
       "</div>"
      ],
      "text/plain": [
       "       total_images  last_price  total_area first_day_exposition  rooms  \\\n",
       "0                20    13000000      108.00           2019-03-07      3   \n",
       "1                 7     3350000       40.40           2018-12-04      1   \n",
       "2                10     5196000       56.00           2015-08-20      2   \n",
       "3                 0    64900000      159.00           2015-07-24      3   \n",
       "4                 2    10000000      100.00           2018-06-19      2   \n",
       "...             ...         ...         ...                  ...    ...   \n",
       "23694             9     9700000      133.81           2017-03-21      3   \n",
       "23695            14     3100000       59.00           2018-01-15      3   \n",
       "23696            18     2500000       56.70           2018-02-11      2   \n",
       "23697            13    11475000       76.75           2017-03-28      2   \n",
       "23698             4     1350000       32.30           2017-07-21      1   \n",
       "\n",
       "       ceiling_height  floors_total  living_area  floor   is_apartment  ...  \\\n",
       "0                2.70            16         51.0      8  False records  ...   \n",
       "1                2.65            11         18.6      1  False records  ...   \n",
       "2                2.65             5         34.3      4  False records  ...   \n",
       "3                2.65            14         45.0      9  False records  ...   \n",
       "4                3.03            14         32.0     13  False records  ...   \n",
       "...               ...           ...          ...    ...            ...  ...   \n",
       "23694            3.70             5         73.3      3  False records  ...   \n",
       "23695            2.65             5         38.0      4  False records  ...   \n",
       "23696            2.65             3         29.7      1  False records  ...   \n",
       "23697            3.00            17         30.5     12  False records  ...   \n",
       "23698            2.50             5         12.3      1  False records  ...   \n",
       "\n",
       "       parks_around_3000  parks_nearest  ponds_around_3000  ponds_nearest  \\\n",
       "0                      1            482                  2            755   \n",
       "1                      0            455                  0            502   \n",
       "2                      1             90                  2            574   \n",
       "3                      2             84                  3            234   \n",
       "4                      2            112                  1             48   \n",
       "...                  ...            ...                ...            ...   \n",
       "23694                  1            796                  3            381   \n",
       "23695                  0            455                  1            502   \n",
       "23696                  0            455                  1            502   \n",
       "23697                  2            173                  3            196   \n",
       "23698                  0            455                  1            502   \n",
       "\n",
       "      days_exposition  meter_price       day     month  year  floor_status  \n",
       "0                  95       120370  Thursday     March  2019        другой  \n",
       "1                  81        82920   Tuesday  December  2018        первый  \n",
       "2                 558        92785  Thursday    August  2015        другой  \n",
       "3                 424       408176    Friday      July  2015        другой  \n",
       "4                 121       100000   Tuesday      June  2018        другой  \n",
       "...               ...          ...       ...       ...   ...           ...  \n",
       "23694              95        72490   Tuesday     March  2017        другой  \n",
       "23695              45        52542    Monday   January  2018        другой  \n",
       "23696              95        44091    Sunday  February  2018        первый  \n",
       "23697             602       149511   Tuesday     March  2017        другой  \n",
       "23698              95        41795    Friday      July  2017        первый  \n",
       "\n",
       "[23699 rows x 27 columns]"
      ]
     },
     "execution_count": 37,
     "metadata": {},
     "output_type": "execute_result"
    }
   ],
   "source": [
    "# добавим этажи в нашу таблицу\n",
    "# создаем функцию для определения этажа\n",
    "# открываем таблицу\n",
    "def floor_status(row):\n",
    "    if row['floor'] == 1:\n",
    "        return 'первый'\n",
    "    elif row['floor'] == row['floors_total']:\n",
    "        return 'последний'\n",
    "    else:\n",
    "        return 'другой'\n",
    "data['floor_status'] = data.apply(floor_status, axis=1)\n",
    "data"
   ]
  },
  {
   "cell_type": "code",
   "execution_count": 38,
   "metadata": {},
   "outputs": [
    {
     "data": {
      "text/html": [
       "<div>\n",
       "<style scoped>\n",
       "    .dataframe tbody tr th:only-of-type {\n",
       "        vertical-align: middle;\n",
       "    }\n",
       "\n",
       "    .dataframe tbody tr th {\n",
       "        vertical-align: top;\n",
       "    }\n",
       "\n",
       "    .dataframe thead th {\n",
       "        text-align: right;\n",
       "    }\n",
       "</style>\n",
       "<table border=\"1\" class=\"dataframe\">\n",
       "  <thead>\n",
       "    <tr style=\"text-align: right;\">\n",
       "      <th></th>\n",
       "      <th>total_images</th>\n",
       "      <th>last_price</th>\n",
       "      <th>total_area</th>\n",
       "      <th>first_day_exposition</th>\n",
       "      <th>rooms</th>\n",
       "      <th>ceiling_height</th>\n",
       "      <th>floors_total</th>\n",
       "      <th>living_area</th>\n",
       "      <th>floor</th>\n",
       "      <th>is_apartment</th>\n",
       "      <th>...</th>\n",
       "      <th>ponds_around_3000</th>\n",
       "      <th>ponds_nearest</th>\n",
       "      <th>days_exposition</th>\n",
       "      <th>meter_price</th>\n",
       "      <th>day</th>\n",
       "      <th>month</th>\n",
       "      <th>year</th>\n",
       "      <th>floor_status</th>\n",
       "      <th>total_living_area_ratio</th>\n",
       "      <th>total_kitchen_area_ratio</th>\n",
       "    </tr>\n",
       "  </thead>\n",
       "  <tbody>\n",
       "    <tr>\n",
       "      <th>0</th>\n",
       "      <td>20</td>\n",
       "      <td>13000000</td>\n",
       "      <td>108.00</td>\n",
       "      <td>2019-03-07</td>\n",
       "      <td>3</td>\n",
       "      <td>2.70</td>\n",
       "      <td>16</td>\n",
       "      <td>51.0</td>\n",
       "      <td>8</td>\n",
       "      <td>False records</td>\n",
       "      <td>...</td>\n",
       "      <td>2</td>\n",
       "      <td>755</td>\n",
       "      <td>95</td>\n",
       "      <td>120370</td>\n",
       "      <td>Thursday</td>\n",
       "      <td>March</td>\n",
       "      <td>2019</td>\n",
       "      <td>другой</td>\n",
       "      <td>0.472222</td>\n",
       "      <td>0.231481</td>\n",
       "    </tr>\n",
       "    <tr>\n",
       "      <th>1</th>\n",
       "      <td>7</td>\n",
       "      <td>3350000</td>\n",
       "      <td>40.40</td>\n",
       "      <td>2018-12-04</td>\n",
       "      <td>1</td>\n",
       "      <td>2.65</td>\n",
       "      <td>11</td>\n",
       "      <td>18.6</td>\n",
       "      <td>1</td>\n",
       "      <td>False records</td>\n",
       "      <td>...</td>\n",
       "      <td>0</td>\n",
       "      <td>502</td>\n",
       "      <td>81</td>\n",
       "      <td>82920</td>\n",
       "      <td>Tuesday</td>\n",
       "      <td>December</td>\n",
       "      <td>2018</td>\n",
       "      <td>первый</td>\n",
       "      <td>0.460396</td>\n",
       "      <td>0.272277</td>\n",
       "    </tr>\n",
       "    <tr>\n",
       "      <th>2</th>\n",
       "      <td>10</td>\n",
       "      <td>5196000</td>\n",
       "      <td>56.00</td>\n",
       "      <td>2015-08-20</td>\n",
       "      <td>2</td>\n",
       "      <td>2.65</td>\n",
       "      <td>5</td>\n",
       "      <td>34.3</td>\n",
       "      <td>4</td>\n",
       "      <td>False records</td>\n",
       "      <td>...</td>\n",
       "      <td>2</td>\n",
       "      <td>574</td>\n",
       "      <td>558</td>\n",
       "      <td>92785</td>\n",
       "      <td>Thursday</td>\n",
       "      <td>August</td>\n",
       "      <td>2015</td>\n",
       "      <td>другой</td>\n",
       "      <td>0.612500</td>\n",
       "      <td>0.148214</td>\n",
       "    </tr>\n",
       "    <tr>\n",
       "      <th>3</th>\n",
       "      <td>0</td>\n",
       "      <td>64900000</td>\n",
       "      <td>159.00</td>\n",
       "      <td>2015-07-24</td>\n",
       "      <td>3</td>\n",
       "      <td>2.65</td>\n",
       "      <td>14</td>\n",
       "      <td>45.0</td>\n",
       "      <td>9</td>\n",
       "      <td>False records</td>\n",
       "      <td>...</td>\n",
       "      <td>3</td>\n",
       "      <td>234</td>\n",
       "      <td>424</td>\n",
       "      <td>408176</td>\n",
       "      <td>Friday</td>\n",
       "      <td>July</td>\n",
       "      <td>2015</td>\n",
       "      <td>другой</td>\n",
       "      <td>0.283019</td>\n",
       "      <td>NaN</td>\n",
       "    </tr>\n",
       "    <tr>\n",
       "      <th>4</th>\n",
       "      <td>2</td>\n",
       "      <td>10000000</td>\n",
       "      <td>100.00</td>\n",
       "      <td>2018-06-19</td>\n",
       "      <td>2</td>\n",
       "      <td>3.03</td>\n",
       "      <td>14</td>\n",
       "      <td>32.0</td>\n",
       "      <td>13</td>\n",
       "      <td>False records</td>\n",
       "      <td>...</td>\n",
       "      <td>1</td>\n",
       "      <td>48</td>\n",
       "      <td>121</td>\n",
       "      <td>100000</td>\n",
       "      <td>Tuesday</td>\n",
       "      <td>June</td>\n",
       "      <td>2018</td>\n",
       "      <td>другой</td>\n",
       "      <td>0.320000</td>\n",
       "      <td>0.410000</td>\n",
       "    </tr>\n",
       "    <tr>\n",
       "      <th>...</th>\n",
       "      <td>...</td>\n",
       "      <td>...</td>\n",
       "      <td>...</td>\n",
       "      <td>...</td>\n",
       "      <td>...</td>\n",
       "      <td>...</td>\n",
       "      <td>...</td>\n",
       "      <td>...</td>\n",
       "      <td>...</td>\n",
       "      <td>...</td>\n",
       "      <td>...</td>\n",
       "      <td>...</td>\n",
       "      <td>...</td>\n",
       "      <td>...</td>\n",
       "      <td>...</td>\n",
       "      <td>...</td>\n",
       "      <td>...</td>\n",
       "      <td>...</td>\n",
       "      <td>...</td>\n",
       "      <td>...</td>\n",
       "      <td>...</td>\n",
       "    </tr>\n",
       "    <tr>\n",
       "      <th>23694</th>\n",
       "      <td>9</td>\n",
       "      <td>9700000</td>\n",
       "      <td>133.81</td>\n",
       "      <td>2017-03-21</td>\n",
       "      <td>3</td>\n",
       "      <td>3.70</td>\n",
       "      <td>5</td>\n",
       "      <td>73.3</td>\n",
       "      <td>3</td>\n",
       "      <td>False records</td>\n",
       "      <td>...</td>\n",
       "      <td>3</td>\n",
       "      <td>381</td>\n",
       "      <td>95</td>\n",
       "      <td>72490</td>\n",
       "      <td>Tuesday</td>\n",
       "      <td>March</td>\n",
       "      <td>2017</td>\n",
       "      <td>другой</td>\n",
       "      <td>0.547792</td>\n",
       "      <td>0.103356</td>\n",
       "    </tr>\n",
       "    <tr>\n",
       "      <th>23695</th>\n",
       "      <td>14</td>\n",
       "      <td>3100000</td>\n",
       "      <td>59.00</td>\n",
       "      <td>2018-01-15</td>\n",
       "      <td>3</td>\n",
       "      <td>2.65</td>\n",
       "      <td>5</td>\n",
       "      <td>38.0</td>\n",
       "      <td>4</td>\n",
       "      <td>False records</td>\n",
       "      <td>...</td>\n",
       "      <td>1</td>\n",
       "      <td>502</td>\n",
       "      <td>45</td>\n",
       "      <td>52542</td>\n",
       "      <td>Monday</td>\n",
       "      <td>January</td>\n",
       "      <td>2018</td>\n",
       "      <td>другой</td>\n",
       "      <td>0.644068</td>\n",
       "      <td>0.144068</td>\n",
       "    </tr>\n",
       "    <tr>\n",
       "      <th>23696</th>\n",
       "      <td>18</td>\n",
       "      <td>2500000</td>\n",
       "      <td>56.70</td>\n",
       "      <td>2018-02-11</td>\n",
       "      <td>2</td>\n",
       "      <td>2.65</td>\n",
       "      <td>3</td>\n",
       "      <td>29.7</td>\n",
       "      <td>1</td>\n",
       "      <td>False records</td>\n",
       "      <td>...</td>\n",
       "      <td>1</td>\n",
       "      <td>502</td>\n",
       "      <td>95</td>\n",
       "      <td>44091</td>\n",
       "      <td>Sunday</td>\n",
       "      <td>February</td>\n",
       "      <td>2018</td>\n",
       "      <td>первый</td>\n",
       "      <td>0.523810</td>\n",
       "      <td>NaN</td>\n",
       "    </tr>\n",
       "    <tr>\n",
       "      <th>23697</th>\n",
       "      <td>13</td>\n",
       "      <td>11475000</td>\n",
       "      <td>76.75</td>\n",
       "      <td>2017-03-28</td>\n",
       "      <td>2</td>\n",
       "      <td>3.00</td>\n",
       "      <td>17</td>\n",
       "      <td>30.5</td>\n",
       "      <td>12</td>\n",
       "      <td>False records</td>\n",
       "      <td>...</td>\n",
       "      <td>3</td>\n",
       "      <td>196</td>\n",
       "      <td>602</td>\n",
       "      <td>149511</td>\n",
       "      <td>Tuesday</td>\n",
       "      <td>March</td>\n",
       "      <td>2017</td>\n",
       "      <td>другой</td>\n",
       "      <td>0.397394</td>\n",
       "      <td>0.303583</td>\n",
       "    </tr>\n",
       "    <tr>\n",
       "      <th>23698</th>\n",
       "      <td>4</td>\n",
       "      <td>1350000</td>\n",
       "      <td>32.30</td>\n",
       "      <td>2017-07-21</td>\n",
       "      <td>1</td>\n",
       "      <td>2.50</td>\n",
       "      <td>5</td>\n",
       "      <td>12.3</td>\n",
       "      <td>1</td>\n",
       "      <td>False records</td>\n",
       "      <td>...</td>\n",
       "      <td>1</td>\n",
       "      <td>502</td>\n",
       "      <td>95</td>\n",
       "      <td>41795</td>\n",
       "      <td>Friday</td>\n",
       "      <td>July</td>\n",
       "      <td>2017</td>\n",
       "      <td>первый</td>\n",
       "      <td>0.380805</td>\n",
       "      <td>0.278638</td>\n",
       "    </tr>\n",
       "  </tbody>\n",
       "</table>\n",
       "<p>23699 rows × 29 columns</p>\n",
       "</div>"
      ],
      "text/plain": [
       "       total_images  last_price  total_area first_day_exposition  rooms  \\\n",
       "0                20    13000000      108.00           2019-03-07      3   \n",
       "1                 7     3350000       40.40           2018-12-04      1   \n",
       "2                10     5196000       56.00           2015-08-20      2   \n",
       "3                 0    64900000      159.00           2015-07-24      3   \n",
       "4                 2    10000000      100.00           2018-06-19      2   \n",
       "...             ...         ...         ...                  ...    ...   \n",
       "23694             9     9700000      133.81           2017-03-21      3   \n",
       "23695            14     3100000       59.00           2018-01-15      3   \n",
       "23696            18     2500000       56.70           2018-02-11      2   \n",
       "23697            13    11475000       76.75           2017-03-28      2   \n",
       "23698             4     1350000       32.30           2017-07-21      1   \n",
       "\n",
       "       ceiling_height  floors_total  living_area  floor   is_apartment  ...  \\\n",
       "0                2.70            16         51.0      8  False records  ...   \n",
       "1                2.65            11         18.6      1  False records  ...   \n",
       "2                2.65             5         34.3      4  False records  ...   \n",
       "3                2.65            14         45.0      9  False records  ...   \n",
       "4                3.03            14         32.0     13  False records  ...   \n",
       "...               ...           ...          ...    ...            ...  ...   \n",
       "23694            3.70             5         73.3      3  False records  ...   \n",
       "23695            2.65             5         38.0      4  False records  ...   \n",
       "23696            2.65             3         29.7      1  False records  ...   \n",
       "23697            3.00            17         30.5     12  False records  ...   \n",
       "23698            2.50             5         12.3      1  False records  ...   \n",
       "\n",
       "       ponds_around_3000  ponds_nearest  days_exposition  meter_price  \\\n",
       "0                      2            755               95       120370   \n",
       "1                      0            502               81        82920   \n",
       "2                      2            574              558        92785   \n",
       "3                      3            234              424       408176   \n",
       "4                      1             48              121       100000   \n",
       "...                  ...            ...              ...          ...   \n",
       "23694                  3            381               95        72490   \n",
       "23695                  1            502               45        52542   \n",
       "23696                  1            502               95        44091   \n",
       "23697                  3            196              602       149511   \n",
       "23698                  1            502               95        41795   \n",
       "\n",
       "            day     month  year  floor_status  total_living_area_ratio  \\\n",
       "0      Thursday     March  2019        другой                 0.472222   \n",
       "1       Tuesday  December  2018        первый                 0.460396   \n",
       "2      Thursday    August  2015        другой                 0.612500   \n",
       "3        Friday      July  2015        другой                 0.283019   \n",
       "4       Tuesday      June  2018        другой                 0.320000   \n",
       "...         ...       ...   ...           ...                      ...   \n",
       "23694   Tuesday     March  2017        другой                 0.547792   \n",
       "23695    Monday   January  2018        другой                 0.644068   \n",
       "23696    Sunday  February  2018        первый                 0.523810   \n",
       "23697   Tuesday     March  2017        другой                 0.397394   \n",
       "23698    Friday      July  2017        первый                 0.380805   \n",
       "\n",
       "       total_kitchen_area_ratio  \n",
       "0                      0.231481  \n",
       "1                      0.272277  \n",
       "2                      0.148214  \n",
       "3                           NaN  \n",
       "4                      0.410000  \n",
       "...                         ...  \n",
       "23694                  0.103356  \n",
       "23695                  0.144068  \n",
       "23696                       NaN  \n",
       "23697                  0.303583  \n",
       "23698                  0.278638  \n",
       "\n",
       "[23699 rows x 29 columns]"
      ]
     },
     "execution_count": 38,
     "metadata": {},
     "output_type": "execute_result"
    }
   ],
   "source": [
    "# добавим соотношения в нашу таблицу\n",
    "data['total_living_area_ratio'] = data['living_area'] / data['total_area']\n",
    "data['total_kitchen_area_ratio'] = data['kitchen_area'] / data['total_area']\n",
    "data"
   ]
  },
  {
   "cell_type": "markdown",
   "metadata": {},
   "source": [
    "**Вывод:**\n",
    "* Посчитали данные для последующего анализа.\n",
    "* Добавили их в нашу таблицу."
   ]
  },
  {
   "cell_type": "markdown",
   "metadata": {},
   "source": [
    "## Исследовательский анализ данных"
   ]
  },
  {
   "cell_type": "markdown",
   "metadata": {},
   "source": [
    "1. Построим гистограммы для таких параметров как: площадь, цена, число комнат, высота потолков."
   ]
  },
  {
   "cell_type": "code",
   "execution_count": 39,
   "metadata": {},
   "outputs": [
    {
     "data": {
      "text/plain": [
       "Text(0.5, 1.0, 'Гистограмма площади')"
      ]
     },
     "execution_count": 39,
     "metadata": {},
     "output_type": "execute_result"
    },
    {
     "data": {
      "image/png": "[encoded data removed]",
      "text/plain": [
       "<Figure size 432x288 with 1 Axes>"
      ]
     },
     "metadata": {
      "needs_background": "light"
     },
     "output_type": "display_data"
    }
   ],
   "source": [
    "# стороим гистограмму для площади\n",
    "import matplotlib.pyplot as plt\n",
    "data['total_area'].hist(range=(0, 400))\n",
    "plt.xlabel('метров^2')\n",
    "plt.ylabel('количество квартир')\n",
    "plt.title('Гистограмма площади')"
   ]
  },
  {
   "cell_type": "markdown",
   "metadata": {},
   "source": [
    "Обычно площадь квартиры составляет от 40, до 80 м^2."
   ]
  },
  {
   "cell_type": "code",
   "execution_count": 40,
   "metadata": {},
   "outputs": [
    {
     "data": {
      "text/plain": [
       "<AxesSubplot:>"
      ]
     },
     "execution_count": 40,
     "metadata": {},
     "output_type": "execute_result"
    },
    {
     "data": {
      "image/png": "[encoded data removed]",
      "text/plain": [
       "<Figure size 432x288 with 1 Axes>"
      ]
     },
     "metadata": {
      "needs_background": "light"
     },
     "output_type": "display_data"
    }
   ],
   "source": [
    "# строим гистограмму для цены\n",
    "data['last_price'].hist(range=(0,60000000))"
   ]
  },
  {
   "cell_type": "markdown",
   "metadata": {},
   "source": [
    "Мы видим, что большая часть квартир стоит до 6 млн рублей."
   ]
  },
  {
   "cell_type": "code",
   "execution_count": 41,
   "metadata": {},
   "outputs": [
    {
     "data": {
      "text/plain": [
       "<AxesSubplot:>"
      ]
     },
     "execution_count": 41,
     "metadata": {},
     "output_type": "execute_result"
    },
    {
     "data": {
      "image/png": "[encoded data removed]",
      "text/plain": [
       "<Figure size 432x288 with 1 Axes>"
      ]
     },
     "metadata": {
      "needs_background": "light"
     },
     "output_type": "display_data"
    }
   ],
   "source": [
    "# строим гистограмму для числа комнат\n",
    "data['rooms'].hist(range=(0, 10))"
   ]
  },
  {
   "cell_type": "markdown",
   "metadata": {},
   "source": [
    "В большей степени в квартирах расположены 1-3 комнаты."
   ]
  },
  {
   "cell_type": "code",
   "execution_count": 42,
   "metadata": {},
   "outputs": [
    {
     "data": {
      "text/plain": [
       "<AxesSubplot:>"
      ]
     },
     "execution_count": 42,
     "metadata": {},
     "output_type": "execute_result"
    },
    {
     "data": {
      "image/png": "[encoded data removed]",
      "text/plain": [
       "<Figure size 432x288 with 1 Axes>"
      ]
     },
     "metadata": {
      "needs_background": "light"
     },
     "output_type": "display_data"
    }
   ],
   "source": [
    "# строим гистограмму для высоты потолков\n",
    "data['ceiling_height'].hist(range=(2, 6))"
   ]
  },
  {
   "cell_type": "markdown",
   "metadata": {},
   "source": [
    "**Вывод:** \n",
    "Мы изучили все данные параметры и построили диаграммы."
   ]
  },
  {
   "cell_type": "markdown",
   "metadata": {},
   "source": [
    "В большей части квартир потолки высотой от 2,4 до 2,8 метров"
   ]
  },
  {
   "cell_type": "markdown",
   "metadata": {},
   "source": [
    "2. Изучим время продажи квартиры."
   ]
  },
  {
   "cell_type": "code",
   "execution_count": 43,
   "metadata": {},
   "outputs": [
    {
     "data": {
      "text/plain": [
       "<AxesSubplot:>"
      ]
     },
     "execution_count": 43,
     "metadata": {},
     "output_type": "execute_result"
    },
    {
     "data": {
      "image/png": "[encoded data removed]",
      "text/plain": [
       "<Figure size 432x288 with 1 Axes>"
      ]
     },
     "metadata": {
      "needs_background": "light"
     },
     "output_type": "display_data"
    }
   ],
   "source": [
    "# построим гистограмму для времени продажи квартиры\n",
    "data['days_exposition'].hist()"
   ]
  },
  {
   "cell_type": "markdown",
   "metadata": {},
   "source": [
    "Мы видим, что большую часть квартир скупали в течении 150 дней, чтобы узнать все точнее найдем среднее и медиану."
   ]
  },
  {
   "cell_type": "code",
   "execution_count": 44,
   "metadata": {},
   "outputs": [
    {
     "data": {
      "text/plain": [
       "count    23699.000000\n",
       "mean       169.360226\n",
       "std        206.535633\n",
       "min          1.000000\n",
       "25%         45.000000\n",
       "50%         95.000000\n",
       "75%        199.000000\n",
       "max       1580.000000\n",
       "Name: days_exposition, dtype: float64"
      ]
     },
     "execution_count": 44,
     "metadata": {},
     "output_type": "execute_result"
    }
   ],
   "source": [
    "# найдем среднее арифметическое и медиану\n",
    "data['days_exposition'].describe()"
   ]
  },
  {
   "cell_type": "markdown",
   "metadata": {},
   "source": [
    "**Вывод:**\n",
    "* Я привык в большей степени доверять медианному значению, а это значит, что обычна продажа квартиры занимает 95 дней.\n",
    "* Можно считать, что продажи прошли очень быстро, если квартиру купили в течении 45 дней.\n",
    "* Можно считать, что продажи прошли необычно долг, если квартиру купили после 199 дней."
   ]
  },
  {
   "cell_type": "markdown",
   "metadata": {},
   "source": [
    "3. Уберем редкие значения в основных столбцах."
   ]
  },
  {
   "cell_type": "code",
   "execution_count": 45,
   "metadata": {},
   "outputs": [
    {
     "data": {
      "text/plain": [
       "1     8047\n",
       "2     7940\n",
       "3     5814\n",
       "4     1180\n",
       "5      326\n",
       "0      197\n",
       "6      105\n",
       "7       59\n",
       "8       12\n",
       "9        8\n",
       "10       3\n",
       "11       2\n",
       "14       2\n",
       "19       1\n",
       "16       1\n",
       "12       1\n",
       "15       1\n",
       "Name: rooms, dtype: int64"
      ]
     },
     "execution_count": 45,
     "metadata": {},
     "output_type": "execute_result"
    }
   ],
   "source": [
    "# посмотрим редкие значения в столбце 'число комнат'\n",
    "data['rooms'].value_counts()"
   ]
  },
  {
   "cell_type": "code",
   "execution_count": 46,
   "metadata": {},
   "outputs": [
    {
     "data": {
      "text/plain": [
       "1    8047\n",
       "2    7940\n",
       "3    5814\n",
       "4    1180\n",
       "5     326\n",
       "0     197\n",
       "6     105\n",
       "7      59\n",
       "8      12\n",
       "9       8\n",
       "Name: rooms, dtype: int64"
      ]
     },
     "execution_count": 46,
     "metadata": {},
     "output_type": "execute_result"
    }
   ],
   "source": [
    "# сделаем срез и сохраним нормальные значения\n",
    "data = data.query('rooms <= 9')\n",
    "data['rooms'].value_counts()"
   ]
  },
  {
   "cell_type": "markdown",
   "metadata": {},
   "source": [
    "Мы убрали редкие значения в столбце `rooms`, проделаем тоже самое и с другими важными столбиками."
   ]
  },
  {
   "cell_type": "code",
   "execution_count": 47,
   "metadata": {},
   "outputs": [
    {
     "data": {
      "text/plain": [
       "count    23688.000000\n",
       "mean        60.212056\n",
       "std         34.817966\n",
       "min         12.000000\n",
       "25%         40.000000\n",
       "50%         52.000000\n",
       "75%         69.742500\n",
       "max        631.200000\n",
       "Name: total_area, dtype: float64"
      ]
     },
     "execution_count": 47,
     "metadata": {},
     "output_type": "execute_result"
    }
   ],
   "source": [
    "# посмотрим значения в столбце 'площадь квартиры'\n",
    "data['total_area'].describe()"
   ]
  },
  {
   "cell_type": "code",
   "execution_count": 48,
   "metadata": {},
   "outputs": [
    {
     "data": {
      "text/plain": [
       "count    23443.00000\n",
       "mean        58.21653\n",
       "std         26.48311\n",
       "min         20.00000\n",
       "25%         40.00000\n",
       "50%         52.00000\n",
       "75%         69.00000\n",
       "max        200.00000\n",
       "Name: total_area, dtype: float64"
      ]
     },
     "execution_count": 48,
     "metadata": {},
     "output_type": "execute_result"
    }
   ],
   "source": [
    "# уберем выбивающиеся значения\n",
    "data = data.query('20 <= total_area <= 200')\n",
    "data['total_area'].describe()"
   ]
  },
  {
   "cell_type": "code",
   "execution_count": 49,
   "metadata": {},
   "outputs": [
    {
     "data": {
      "text/plain": [
       "count    23443.000000\n",
       "mean     14006.967794\n",
       "std       7532.720307\n",
       "min        181.000000\n",
       "25%      11020.000000\n",
       "50%      13098.000000\n",
       "75%      15280.500000\n",
       "max      65968.000000\n",
       "Name: city_centers_nearest, dtype: float64"
      ]
     },
     "execution_count": 49,
     "metadata": {},
     "output_type": "execute_result"
    }
   ],
   "source": [
    "# посмотрим значения в столбце `расстояние до центра города`\n",
    "data['city_centers_nearest'].describe()"
   ]
  },
  {
   "cell_type": "code",
   "execution_count": 50,
   "metadata": {},
   "outputs": [
    {
     "data": {
      "text/plain": [
       "count    23257.000000\n",
       "mean     13700.483037\n",
       "std       6729.539003\n",
       "min        181.000000\n",
       "25%      11001.000000\n",
       "50%      13098.000000\n",
       "75%      15176.000000\n",
       "max      49984.000000\n",
       "Name: city_centers_nearest, dtype: float64"
      ]
     },
     "execution_count": 50,
     "metadata": {},
     "output_type": "execute_result"
    }
   ],
   "source": [
    "# уберем выбивающиеся значения\n",
    "data = data.query('city_centers_nearest <= 50000')\n",
    "data['city_centers_nearest'].describe()"
   ]
  },
  {
   "cell_type": "markdown",
   "metadata": {},
   "source": [
    "**Вывод:**\n",
    " При выполнении данного задания я обнаружил множество не просто редких, а просто невозможных значений, например: в площадь квартиры 631м^2 лично я плохо верю, пришлось ставить диапазоны для наших столбцов, чтобы избавиться от таких  выбивающихся значений."
   ]
  },
  {
   "cell_type": "code",
   "execution_count": 51,
   "metadata": {},
   "outputs": [
    {
     "data": {
      "text/plain": [
       "count    2.325700e+04\n",
       "mean     6.044464e+06\n",
       "std      6.255662e+06\n",
       "min      1.219000e+04\n",
       "25%      3.400000e+06\n",
       "50%      4.600000e+06\n",
       "75%      6.700000e+06\n",
       "max      3.300000e+08\n",
       "Name: last_price, dtype: float64"
      ]
     },
     "execution_count": 51,
     "metadata": {},
     "output_type": "execute_result"
    }
   ],
   "source": [
    "data['last_price'].describe()"
   ]
  },
  {
   "cell_type": "code",
   "execution_count": 52,
   "metadata": {},
   "outputs": [
    {
     "data": {
      "text/plain": [
       "count    2.261500e+04\n",
       "mean     6.157930e+06\n",
       "std      5.598776e+06\n",
       "min      1.500000e+06\n",
       "25%      3.500000e+06\n",
       "50%      4.700000e+06\n",
       "75%      6.800000e+06\n",
       "max      1.350000e+08\n",
       "Name: last_price, dtype: float64"
      ]
     },
     "execution_count": 52,
     "metadata": {},
     "output_type": "execute_result"
    }
   ],
   "source": [
    "data = data.query('1500000 <= last_price <= 200000000')\n",
    "data['last_price'].describe()"
   ]
  },
  {
   "cell_type": "markdown",
   "metadata": {},
   "source": [
    "4. Узнаем, какие факторы больше всего влияют на стоимость."
   ]
  },
  {
   "cell_type": "code",
   "execution_count": 53,
   "metadata": {},
   "outputs": [
    {
     "data": {
      "text/html": [
       "<style  type=\"text/css\" >\n",
       "</style><table id=\"T_73d15_\" ><thead>    <tr>        <th class=\"blank level0\" ></th>        <th class=\"col_heading level0 col0\" >last_price</th>        <th class=\"col_heading level0 col1\" >total_area</th>        <th class=\"col_heading level0 col2\" >rooms</th>        <th class=\"col_heading level0 col3\" >city_centers_nearest</th>    </tr></thead><tbody>\n",
       "                <tr>\n",
       "                        <th id=\"T_73d15_level0_row0\" class=\"row_heading level0 row0\" >last_price</th>\n",
       "                        <td id=\"T_73d15_row0_col0\" class=\"data row0 col0\" >1.000000</td>\n",
       "                        <td id=\"T_73d15_row0_col1\" class=\"data row0 col1\" >0.714363</td>\n",
       "                        <td id=\"T_73d15_row0_col2\" class=\"data row0 col2\" >0.421124</td>\n",
       "                        <td id=\"T_73d15_row0_col3\" class=\"data row0 col3\" >-0.287426</td>\n",
       "            </tr>\n",
       "            <tr>\n",
       "                        <th id=\"T_73d15_level0_row1\" class=\"row_heading level0 row1\" >total_area</th>\n",
       "                        <td id=\"T_73d15_row1_col0\" class=\"data row1 col0\" >0.714363</td>\n",
       "                        <td id=\"T_73d15_row1_col1\" class=\"data row1 col1\" >1.000000</td>\n",
       "                        <td id=\"T_73d15_row1_col2\" class=\"data row1 col2\" >0.786954</td>\n",
       "                        <td id=\"T_73d15_row1_col3\" class=\"data row1 col3\" >-0.232879</td>\n",
       "            </tr>\n",
       "            <tr>\n",
       "                        <th id=\"T_73d15_level0_row2\" class=\"row_heading level0 row2\" >rooms</th>\n",
       "                        <td id=\"T_73d15_row2_col0\" class=\"data row2 col0\" >0.421124</td>\n",
       "                        <td id=\"T_73d15_row2_col1\" class=\"data row2 col1\" >0.786954</td>\n",
       "                        <td id=\"T_73d15_row2_col2\" class=\"data row2 col2\" >1.000000</td>\n",
       "                        <td id=\"T_73d15_row2_col3\" class=\"data row2 col3\" >-0.163505</td>\n",
       "            </tr>\n",
       "            <tr>\n",
       "                        <th id=\"T_73d15_level0_row3\" class=\"row_heading level0 row3\" >city_centers_nearest</th>\n",
       "                        <td id=\"T_73d15_row3_col0\" class=\"data row3 col0\" >-0.287426</td>\n",
       "                        <td id=\"T_73d15_row3_col1\" class=\"data row3 col1\" >-0.232879</td>\n",
       "                        <td id=\"T_73d15_row3_col2\" class=\"data row3 col2\" >-0.163505</td>\n",
       "                        <td id=\"T_73d15_row3_col3\" class=\"data row3 col3\" >1.000000</td>\n",
       "            </tr>\n",
       "    </tbody></table>"
      ],
      "text/plain": [
       "<pandas.io.formats.style.Styler at 0x7f2adef643d0>"
      ]
     },
     "execution_count": 53,
     "metadata": {},
     "output_type": "execute_result"
    }
   ],
   "source": [
    "corr = data[['last_price',\\\n",
    "           'total_area',\\\n",
    "           'rooms',\\\n",
    "           'city_centers_nearest']].corr()\n",
    "corr.style"
   ]
  },
  {
   "cell_type": "code",
   "execution_count": 54,
   "metadata": {
    "scrolled": true
   },
   "outputs": [
    {
     "data": {
      "text/plain": [
       "<AxesSubplot:xlabel='rooms', ylabel='last_price'>"
      ]
     },
     "execution_count": 54,
     "metadata": {},
     "output_type": "execute_result"
    },
    {
     "data": {
      "image/png": "[encoded data removed]",
      "text/plain": [
       "<Figure size 432x288 with 1 Axes>"
      ]
     },
     "metadata": {
      "needs_background": "light"
     },
     "output_type": "display_data"
    }
   ],
   "source": [
    "data.plot(kind = 'scatter', y ='last_price', x = 'rooms')"
   ]
  },
  {
   "cell_type": "code",
   "execution_count": 55,
   "metadata": {},
   "outputs": [
    {
     "data": {
      "image/png": "[encoded data removed]",
      "text/plain": [
       "<Figure size 432x288 with 1 Axes>"
      ]
     },
     "metadata": {
      "needs_background": "light"
     },
     "output_type": "display_data"
    }
   ],
   "source": [
    "# КОД РЕВЬЮЕРА\n",
    "\n",
    "\n",
    "data.groupby('rooms')['last_price'].median().plot()\n",
    "\n",
    "\n",
    "plt.title('Заголовок')\n",
    "plt.xlabel('Подпись')\n",
    "plt.ylabel('Подпись')\n",
    "plt.show()"
   ]
  },
  {
   "cell_type": "code",
   "execution_count": 56,
   "metadata": {},
   "outputs": [
    {
     "data": {
      "text/plain": [
       "<AxesSubplot:xlabel='month'>"
      ]
     },
     "execution_count": 56,
     "metadata": {},
     "output_type": "execute_result"
    },
    {
     "data": {
      "image/png": "[encoded data removed]",
      "text/plain": [
       "<Figure size 1080x360 with 1 Axes>"
      ]
     },
     "metadata": {
      "needs_background": "light"
     },
     "output_type": "display_data"
    }
   ],
   "source": [
    "data_0 = data.pivot_table(index='month', values='last_price', aggfunc=['mean'])\n",
    "data_0.plot(kind='bar', figsize=(15,5))"
   ]
  },
  {
   "cell_type": "code",
   "execution_count": 57,
   "metadata": {},
   "outputs": [
    {
     "data": {
      "image/png": "[encoded data removed]",
      "text/plain": [
       "<Figure size 504x360 with 1 Axes>"
      ]
     },
     "metadata": {
      "needs_background": "light"
     },
     "output_type": "display_data"
    }
   ],
   "source": [
    "# посторим диаграмму размаха \n",
    "plot = data.boxplot('last_price', by='floor_status', figsize=(7,5)).set_ylim(0, 80000000)"
   ]
  },
  {
   "cell_type": "code",
   "execution_count": 58,
   "metadata": {},
   "outputs": [
    {
     "data": {
      "image/png": "[encoded data removed]",
      "text/plain": [
       "<Figure size 720x360 with 1 Axes>"
      ]
     },
     "metadata": {
      "needs_background": "light"
     },
     "output_type": "display_data"
    }
   ],
   "source": [
    "# посторим диаграмму размаха\n",
    "plot = data.boxplot('last_price', by='day',figsize=(10,5)).set_ylim(0,80000000)"
   ]
  },
  {
   "cell_type": "code",
   "execution_count": 59,
   "metadata": {},
   "outputs": [
    {
     "data": {
      "image/png": "[encoded data removed]",
      "text/plain": [
       "<Figure size 720x360 with 1 Axes>"
      ]
     },
     "metadata": {
      "needs_background": "light"
     },
     "output_type": "display_data"
    }
   ],
   "source": [
    "# посторим диаграмму размаха\n",
    "plot = data.boxplot('last_price', by='month',figsize=(10,5)).set_ylim(0,80000000)"
   ]
  },
  {
   "cell_type": "code",
   "execution_count": 60,
   "metadata": {},
   "outputs": [
    {
     "data": {
      "image/png": "[encoded data removed]",
      "text/plain": [
       "<Figure size 720x360 with 1 Axes>"
      ]
     },
     "metadata": {
      "needs_background": "light"
     },
     "output_type": "display_data"
    }
   ],
   "source": [
    "# посторим диаграмму размаха\n",
    "plot = data.boxplot('last_price', by='year',figsize=(10,5)).set_ylim(0,80000000)"
   ]
  },
  {
   "cell_type": "markdown",
   "metadata": {},
   "source": [
    "**Вывод:**\n",
    "* Посмею предположить, что на стоимость квартиры в большей степени влияют следующие факторы: площадь квартиры и число комнат. Ну и отрицательная корреляция тоже имеет место быть. \n",
    "* Однозначно можно сказать, что дата размещения объявления не влияет на стоимость квартиры.\n",
    "* С уверенностью можно сказать, что квартиры на первом этаже стоят дешевле."
   ]
  },
  {
   "cell_type": "code",
   "execution_count": 61,
   "metadata": {},
   "outputs": [
    {
     "data": {
      "text/plain": [
       "<AxesSubplot:xlabel='year'>"
      ]
     },
     "execution_count": 61,
     "metadata": {},
     "output_type": "execute_result"
    },
    {
     "data": {
      "image/png": "[encoded data removed]",
      "text/plain": [
       "<Figure size 1080x360 with 1 Axes>"
      ]
     },
     "metadata": {
      "needs_background": "light"
     },
     "output_type": "display_data"
    }
   ],
   "source": [
    "data_2 = data.pivot_table(index='year', values='last_price', aggfunc=['mean'])\n",
    "data_2.plot(kind='bar', figsize=(15,5))"
   ]
  },
  {
   "cell_type": "markdown",
   "metadata": {},
   "source": [
    "5. Посчитаем среднюю цену квадратного метра в населённых пунктах."
   ]
  },
  {
   "cell_type": "code",
   "execution_count": 62,
   "metadata": {},
   "outputs": [
    {
     "data": {
      "text/plain": [
       "Санкт-Петербург      15483\n",
       "посёлок Мурино         522\n",
       "посёлок Шушары         439\n",
       "Всеволожск             393\n",
       "Пушкин                 363\n",
       "Колпино                337\n",
       "посёлок Парголово      325\n",
       "Гатчина                302\n",
       "деревня Кудрово        299\n",
       "Выборг                 226\n",
       "Name: locality_name, dtype: int64"
      ]
     },
     "execution_count": 62,
     "metadata": {},
     "output_type": "execute_result"
    }
   ],
   "source": [
    "# найдем 10 населенных пунктов с наибольшим числом объявлений\n",
    "data['locality_name'].value_counts().head(10)"
   ]
  },
  {
   "cell_type": "code",
   "execution_count": 63,
   "metadata": {},
   "outputs": [
    {
     "data": {
      "text/html": [
       "<div>\n",
       "<style scoped>\n",
       "    .dataframe tbody tr th:only-of-type {\n",
       "        vertical-align: middle;\n",
       "    }\n",
       "\n",
       "    .dataframe tbody tr th {\n",
       "        vertical-align: top;\n",
       "    }\n",
       "\n",
       "    .dataframe thead th {\n",
       "        text-align: right;\n",
       "    }\n",
       "</style>\n",
       "<table border=\"1\" class=\"dataframe\">\n",
       "  <thead>\n",
       "    <tr style=\"text-align: right;\">\n",
       "      <th></th>\n",
       "      <th>meter_price</th>\n",
       "    </tr>\n",
       "    <tr>\n",
       "      <th>locality_name</th>\n",
       "      <th></th>\n",
       "    </tr>\n",
       "  </thead>\n",
       "  <tbody>\n",
       "    <tr>\n",
       "      <th>Выборг</th>\n",
       "      <td>59276.592920</td>\n",
       "    </tr>\n",
       "    <tr>\n",
       "      <th>Всеволожск</th>\n",
       "      <td>68971.361323</td>\n",
       "    </tr>\n",
       "    <tr>\n",
       "      <th>Гатчина</th>\n",
       "      <td>69471.168874</td>\n",
       "    </tr>\n",
       "    <tr>\n",
       "      <th>Колпино</th>\n",
       "      <td>75332.866469</td>\n",
       "    </tr>\n",
       "    <tr>\n",
       "      <th>посёлок Шушары</th>\n",
       "      <td>78655.132118</td>\n",
       "    </tr>\n",
       "    <tr>\n",
       "      <th>посёлок Мурино</th>\n",
       "      <td>85751.733716</td>\n",
       "    </tr>\n",
       "    <tr>\n",
       "      <th>посёлок Парголово</th>\n",
       "      <td>90430.298462</td>\n",
       "    </tr>\n",
       "    <tr>\n",
       "      <th>деревня Кудрово</th>\n",
       "      <td>92473.086957</td>\n",
       "    </tr>\n",
       "    <tr>\n",
       "      <th>Пушкин</th>\n",
       "      <td>103076.798898</td>\n",
       "    </tr>\n",
       "    <tr>\n",
       "      <th>Санкт-Петербург</th>\n",
       "      <td>113341.845120</td>\n",
       "    </tr>\n",
       "  </tbody>\n",
       "</table>\n",
       "</div>"
      ],
      "text/plain": [
       "                     meter_price\n",
       "locality_name                   \n",
       "Выборг              59276.592920\n",
       "Всеволожск          68971.361323\n",
       "Гатчина             69471.168874\n",
       "Колпино             75332.866469\n",
       "посёлок Шушары      78655.132118\n",
       "посёлок Мурино      85751.733716\n",
       "посёлок Парголово   90430.298462\n",
       "деревня Кудрово     92473.086957\n",
       "Пушкин             103076.798898\n",
       "Санкт-Петербург    113341.845120"
      ]
     },
     "execution_count": 63,
     "metadata": {},
     "output_type": "execute_result"
    }
   ],
   "source": [
    "# посчитаем среднюю цену квадратного метра в этих населённых пунках\n",
    "top_10_city = data['locality_name'].value_counts().head(10).index\n",
    "data.query('locality_name in @top_10_city').groupby('locality_name').agg({'meter_price':'mean'}).sort_values(by='meter_price')"
   ]
  },
  {
   "cell_type": "markdown",
   "metadata": {},
   "source": [
    "**Вывод:**\n",
    "Как можно было и догадаться, Санкт-Петербург оказался населенным пунктом, с самой высокой стоимостью жилья. Населенным пунктом из нашего списка, с самым низким уровнем жилья оказался Выборг"
   ]
  },
  {
   "cell_type": "markdown",
   "metadata": {},
   "source": [
    "6. Выясним, какая область входит в центр."
   ]
  },
  {
   "cell_type": "code",
   "execution_count": 64,
   "metadata": {
    "scrolled": true
   },
   "outputs": [
    {
     "data": {
      "text/html": [
       "<div>\n",
       "<style scoped>\n",
       "    .dataframe tbody tr th:only-of-type {\n",
       "        vertical-align: middle;\n",
       "    }\n",
       "\n",
       "    .dataframe tbody tr th {\n",
       "        vertical-align: top;\n",
       "    }\n",
       "\n",
       "    .dataframe thead th {\n",
       "        text-align: right;\n",
       "    }\n",
       "</style>\n",
       "<table border=\"1\" class=\"dataframe\">\n",
       "  <thead>\n",
       "    <tr style=\"text-align: right;\">\n",
       "      <th></th>\n",
       "      <th>total_images</th>\n",
       "      <th>last_price</th>\n",
       "      <th>total_area</th>\n",
       "      <th>first_day_exposition</th>\n",
       "      <th>rooms</th>\n",
       "      <th>ceiling_height</th>\n",
       "      <th>floors_total</th>\n",
       "      <th>living_area</th>\n",
       "      <th>floor</th>\n",
       "      <th>is_apartment</th>\n",
       "      <th>...</th>\n",
       "      <th>ponds_nearest</th>\n",
       "      <th>days_exposition</th>\n",
       "      <th>meter_price</th>\n",
       "      <th>day</th>\n",
       "      <th>month</th>\n",
       "      <th>year</th>\n",
       "      <th>floor_status</th>\n",
       "      <th>total_living_area_ratio</th>\n",
       "      <th>total_kitchen_area_ratio</th>\n",
       "      <th>city_centers_nearest_km</th>\n",
       "    </tr>\n",
       "  </thead>\n",
       "  <tbody>\n",
       "    <tr>\n",
       "      <th>0</th>\n",
       "      <td>20</td>\n",
       "      <td>13000000</td>\n",
       "      <td>108.00</td>\n",
       "      <td>2019-03-07</td>\n",
       "      <td>3</td>\n",
       "      <td>2.70</td>\n",
       "      <td>16</td>\n",
       "      <td>51.0</td>\n",
       "      <td>8</td>\n",
       "      <td>False records</td>\n",
       "      <td>...</td>\n",
       "      <td>755</td>\n",
       "      <td>95</td>\n",
       "      <td>120370</td>\n",
       "      <td>Thursday</td>\n",
       "      <td>March</td>\n",
       "      <td>2019</td>\n",
       "      <td>другой</td>\n",
       "      <td>0.472222</td>\n",
       "      <td>0.231481</td>\n",
       "      <td>16</td>\n",
       "    </tr>\n",
       "    <tr>\n",
       "      <th>1</th>\n",
       "      <td>7</td>\n",
       "      <td>3350000</td>\n",
       "      <td>40.40</td>\n",
       "      <td>2018-12-04</td>\n",
       "      <td>1</td>\n",
       "      <td>2.65</td>\n",
       "      <td>11</td>\n",
       "      <td>18.6</td>\n",
       "      <td>1</td>\n",
       "      <td>False records</td>\n",
       "      <td>...</td>\n",
       "      <td>502</td>\n",
       "      <td>81</td>\n",
       "      <td>82920</td>\n",
       "      <td>Tuesday</td>\n",
       "      <td>December</td>\n",
       "      <td>2018</td>\n",
       "      <td>первый</td>\n",
       "      <td>0.460396</td>\n",
       "      <td>0.272277</td>\n",
       "      <td>18</td>\n",
       "    </tr>\n",
       "    <tr>\n",
       "      <th>2</th>\n",
       "      <td>10</td>\n",
       "      <td>5196000</td>\n",
       "      <td>56.00</td>\n",
       "      <td>2015-08-20</td>\n",
       "      <td>2</td>\n",
       "      <td>2.65</td>\n",
       "      <td>5</td>\n",
       "      <td>34.3</td>\n",
       "      <td>4</td>\n",
       "      <td>False records</td>\n",
       "      <td>...</td>\n",
       "      <td>574</td>\n",
       "      <td>558</td>\n",
       "      <td>92785</td>\n",
       "      <td>Thursday</td>\n",
       "      <td>August</td>\n",
       "      <td>2015</td>\n",
       "      <td>другой</td>\n",
       "      <td>0.612500</td>\n",
       "      <td>0.148214</td>\n",
       "      <td>13</td>\n",
       "    </tr>\n",
       "    <tr>\n",
       "      <th>3</th>\n",
       "      <td>0</td>\n",
       "      <td>64900000</td>\n",
       "      <td>159.00</td>\n",
       "      <td>2015-07-24</td>\n",
       "      <td>3</td>\n",
       "      <td>2.65</td>\n",
       "      <td>14</td>\n",
       "      <td>45.0</td>\n",
       "      <td>9</td>\n",
       "      <td>False records</td>\n",
       "      <td>...</td>\n",
       "      <td>234</td>\n",
       "      <td>424</td>\n",
       "      <td>408176</td>\n",
       "      <td>Friday</td>\n",
       "      <td>July</td>\n",
       "      <td>2015</td>\n",
       "      <td>другой</td>\n",
       "      <td>0.283019</td>\n",
       "      <td>NaN</td>\n",
       "      <td>6</td>\n",
       "    </tr>\n",
       "    <tr>\n",
       "      <th>4</th>\n",
       "      <td>2</td>\n",
       "      <td>10000000</td>\n",
       "      <td>100.00</td>\n",
       "      <td>2018-06-19</td>\n",
       "      <td>2</td>\n",
       "      <td>3.03</td>\n",
       "      <td>14</td>\n",
       "      <td>32.0</td>\n",
       "      <td>13</td>\n",
       "      <td>False records</td>\n",
       "      <td>...</td>\n",
       "      <td>48</td>\n",
       "      <td>121</td>\n",
       "      <td>100000</td>\n",
       "      <td>Tuesday</td>\n",
       "      <td>June</td>\n",
       "      <td>2018</td>\n",
       "      <td>другой</td>\n",
       "      <td>0.320000</td>\n",
       "      <td>0.410000</td>\n",
       "      <td>8</td>\n",
       "    </tr>\n",
       "    <tr>\n",
       "      <th>...</th>\n",
       "      <td>...</td>\n",
       "      <td>...</td>\n",
       "      <td>...</td>\n",
       "      <td>...</td>\n",
       "      <td>...</td>\n",
       "      <td>...</td>\n",
       "      <td>...</td>\n",
       "      <td>...</td>\n",
       "      <td>...</td>\n",
       "      <td>...</td>\n",
       "      <td>...</td>\n",
       "      <td>...</td>\n",
       "      <td>...</td>\n",
       "      <td>...</td>\n",
       "      <td>...</td>\n",
       "      <td>...</td>\n",
       "      <td>...</td>\n",
       "      <td>...</td>\n",
       "      <td>...</td>\n",
       "      <td>...</td>\n",
       "      <td>...</td>\n",
       "    </tr>\n",
       "    <tr>\n",
       "      <th>23693</th>\n",
       "      <td>9</td>\n",
       "      <td>4600000</td>\n",
       "      <td>62.40</td>\n",
       "      <td>2016-08-05</td>\n",
       "      <td>3</td>\n",
       "      <td>2.60</td>\n",
       "      <td>9</td>\n",
       "      <td>40.0</td>\n",
       "      <td>8</td>\n",
       "      <td>False records</td>\n",
       "      <td>...</td>\n",
       "      <td>675</td>\n",
       "      <td>239</td>\n",
       "      <td>73717</td>\n",
       "      <td>Friday</td>\n",
       "      <td>August</td>\n",
       "      <td>2016</td>\n",
       "      <td>другой</td>\n",
       "      <td>0.641026</td>\n",
       "      <td>0.128205</td>\n",
       "      <td>34</td>\n",
       "    </tr>\n",
       "    <tr>\n",
       "      <th>23694</th>\n",
       "      <td>9</td>\n",
       "      <td>9700000</td>\n",
       "      <td>133.81</td>\n",
       "      <td>2017-03-21</td>\n",
       "      <td>3</td>\n",
       "      <td>3.70</td>\n",
       "      <td>5</td>\n",
       "      <td>73.3</td>\n",
       "      <td>3</td>\n",
       "      <td>False records</td>\n",
       "      <td>...</td>\n",
       "      <td>381</td>\n",
       "      <td>95</td>\n",
       "      <td>72490</td>\n",
       "      <td>Tuesday</td>\n",
       "      <td>March</td>\n",
       "      <td>2017</td>\n",
       "      <td>другой</td>\n",
       "      <td>0.547792</td>\n",
       "      <td>0.103356</td>\n",
       "      <td>4</td>\n",
       "    </tr>\n",
       "    <tr>\n",
       "      <th>23695</th>\n",
       "      <td>14</td>\n",
       "      <td>3100000</td>\n",
       "      <td>59.00</td>\n",
       "      <td>2018-01-15</td>\n",
       "      <td>3</td>\n",
       "      <td>2.65</td>\n",
       "      <td>5</td>\n",
       "      <td>38.0</td>\n",
       "      <td>4</td>\n",
       "      <td>False records</td>\n",
       "      <td>...</td>\n",
       "      <td>502</td>\n",
       "      <td>45</td>\n",
       "      <td>52542</td>\n",
       "      <td>Monday</td>\n",
       "      <td>January</td>\n",
       "      <td>2018</td>\n",
       "      <td>другой</td>\n",
       "      <td>0.644068</td>\n",
       "      <td>0.144068</td>\n",
       "      <td>13</td>\n",
       "    </tr>\n",
       "    <tr>\n",
       "      <th>23696</th>\n",
       "      <td>18</td>\n",
       "      <td>2500000</td>\n",
       "      <td>56.70</td>\n",
       "      <td>2018-02-11</td>\n",
       "      <td>2</td>\n",
       "      <td>2.65</td>\n",
       "      <td>3</td>\n",
       "      <td>29.7</td>\n",
       "      <td>1</td>\n",
       "      <td>False records</td>\n",
       "      <td>...</td>\n",
       "      <td>502</td>\n",
       "      <td>95</td>\n",
       "      <td>44091</td>\n",
       "      <td>Sunday</td>\n",
       "      <td>February</td>\n",
       "      <td>2018</td>\n",
       "      <td>первый</td>\n",
       "      <td>0.523810</td>\n",
       "      <td>NaN</td>\n",
       "      <td>13</td>\n",
       "    </tr>\n",
       "    <tr>\n",
       "      <th>23697</th>\n",
       "      <td>13</td>\n",
       "      <td>11475000</td>\n",
       "      <td>76.75</td>\n",
       "      <td>2017-03-28</td>\n",
       "      <td>2</td>\n",
       "      <td>3.00</td>\n",
       "      <td>17</td>\n",
       "      <td>30.5</td>\n",
       "      <td>12</td>\n",
       "      <td>False records</td>\n",
       "      <td>...</td>\n",
       "      <td>196</td>\n",
       "      <td>602</td>\n",
       "      <td>149511</td>\n",
       "      <td>Tuesday</td>\n",
       "      <td>March</td>\n",
       "      <td>2017</td>\n",
       "      <td>другой</td>\n",
       "      <td>0.397394</td>\n",
       "      <td>0.303583</td>\n",
       "      <td>10</td>\n",
       "    </tr>\n",
       "  </tbody>\n",
       "</table>\n",
       "<p>22615 rows × 30 columns</p>\n",
       "</div>"
      ],
      "text/plain": [
       "       total_images  last_price  total_area first_day_exposition  rooms  \\\n",
       "0                20    13000000      108.00           2019-03-07      3   \n",
       "1                 7     3350000       40.40           2018-12-04      1   \n",
       "2                10     5196000       56.00           2015-08-20      2   \n",
       "3                 0    64900000      159.00           2015-07-24      3   \n",
       "4                 2    10000000      100.00           2018-06-19      2   \n",
       "...             ...         ...         ...                  ...    ...   \n",
       "23693             9     4600000       62.40           2016-08-05      3   \n",
       "23694             9     9700000      133.81           2017-03-21      3   \n",
       "23695            14     3100000       59.00           2018-01-15      3   \n",
       "23696            18     2500000       56.70           2018-02-11      2   \n",
       "23697            13    11475000       76.75           2017-03-28      2   \n",
       "\n",
       "       ceiling_height  floors_total  living_area  floor   is_apartment  ...  \\\n",
       "0                2.70            16         51.0      8  False records  ...   \n",
       "1                2.65            11         18.6      1  False records  ...   \n",
       "2                2.65             5         34.3      4  False records  ...   \n",
       "3                2.65            14         45.0      9  False records  ...   \n",
       "4                3.03            14         32.0     13  False records  ...   \n",
       "...               ...           ...          ...    ...            ...  ...   \n",
       "23693            2.60             9         40.0      8  False records  ...   \n",
       "23694            3.70             5         73.3      3  False records  ...   \n",
       "23695            2.65             5         38.0      4  False records  ...   \n",
       "23696            2.65             3         29.7      1  False records  ...   \n",
       "23697            3.00            17         30.5     12  False records  ...   \n",
       "\n",
       "       ponds_nearest  days_exposition  meter_price       day     month  year  \\\n",
       "0                755               95       120370  Thursday     March  2019   \n",
       "1                502               81        82920   Tuesday  December  2018   \n",
       "2                574              558        92785  Thursday    August  2015   \n",
       "3                234              424       408176    Friday      July  2015   \n",
       "4                 48              121       100000   Tuesday      June  2018   \n",
       "...              ...              ...          ...       ...       ...   ...   \n",
       "23693            675              239        73717    Friday    August  2016   \n",
       "23694            381               95        72490   Tuesday     March  2017   \n",
       "23695            502               45        52542    Monday   January  2018   \n",
       "23696            502               95        44091    Sunday  February  2018   \n",
       "23697            196              602       149511   Tuesday     March  2017   \n",
       "\n",
       "       floor_status  total_living_area_ratio  total_kitchen_area_ratio  \\\n",
       "0            другой                 0.472222                  0.231481   \n",
       "1            первый                 0.460396                  0.272277   \n",
       "2            другой                 0.612500                  0.148214   \n",
       "3            другой                 0.283019                       NaN   \n",
       "4            другой                 0.320000                  0.410000   \n",
       "...             ...                      ...                       ...   \n",
       "23693        другой                 0.641026                  0.128205   \n",
       "23694        другой                 0.547792                  0.103356   \n",
       "23695        другой                 0.644068                  0.144068   \n",
       "23696        первый                 0.523810                       NaN   \n",
       "23697        другой                 0.397394                  0.303583   \n",
       "\n",
       "       city_centers_nearest_km  \n",
       "0                           16  \n",
       "1                           18  \n",
       "2                           13  \n",
       "3                            6  \n",
       "4                            8  \n",
       "...                        ...  \n",
       "23693                       34  \n",
       "23694                        4  \n",
       "23695                       13  \n",
       "23696                       13  \n",
       "23697                       10  \n",
       "\n",
       "[22615 rows x 30 columns]"
      ]
     },
     "execution_count": 64,
     "metadata": {},
     "output_type": "execute_result"
    }
   ],
   "source": [
    "# создадим столбец с расстоянием до центра в километрах\n",
    "data['city_centers_nearest_km'] = data['city_centers_nearest'] / 1000\n",
    "data['city_centers_nearest_km'] = data['city_centers_nearest_km'].astype('int')\n",
    "data"
   ]
  },
  {
   "cell_type": "code",
   "execution_count": 65,
   "metadata": {},
   "outputs": [
    {
     "data": {
      "text/html": [
       "<div>\n",
       "<style scoped>\n",
       "    .dataframe tbody tr th:only-of-type {\n",
       "        vertical-align: middle;\n",
       "    }\n",
       "\n",
       "    .dataframe tbody tr th {\n",
       "        vertical-align: top;\n",
       "    }\n",
       "\n",
       "    .dataframe thead th {\n",
       "        text-align: right;\n",
       "    }\n",
       "</style>\n",
       "<table border=\"1\" class=\"dataframe\">\n",
       "  <thead>\n",
       "    <tr style=\"text-align: right;\">\n",
       "      <th></th>\n",
       "      <th>last_price</th>\n",
       "    </tr>\n",
       "    <tr>\n",
       "      <th>city_centers_nearest_km</th>\n",
       "      <th></th>\n",
       "    </tr>\n",
       "  </thead>\n",
       "  <tbody>\n",
       "    <tr>\n",
       "      <th>26</th>\n",
       "      <td>3.575000e+06</td>\n",
       "    </tr>\n",
       "    <tr>\n",
       "      <th>29</th>\n",
       "      <td>3.833333e+06</td>\n",
       "    </tr>\n",
       "    <tr>\n",
       "      <th>24</th>\n",
       "      <td>3.862235e+06</td>\n",
       "    </tr>\n",
       "    <tr>\n",
       "      <th>25</th>\n",
       "      <td>4.014913e+06</td>\n",
       "    </tr>\n",
       "    <tr>\n",
       "      <th>23</th>\n",
       "      <td>4.126867e+06</td>\n",
       "    </tr>\n",
       "    <tr>\n",
       "      <th>19</th>\n",
       "      <td>4.678756e+06</td>\n",
       "    </tr>\n",
       "    <tr>\n",
       "      <th>17</th>\n",
       "      <td>4.843935e+06</td>\n",
       "    </tr>\n",
       "    <tr>\n",
       "      <th>28</th>\n",
       "      <td>4.910500e+06</td>\n",
       "    </tr>\n",
       "    <tr>\n",
       "      <th>18</th>\n",
       "      <td>5.002501e+06</td>\n",
       "    </tr>\n",
       "    <tr>\n",
       "      <th>21</th>\n",
       "      <td>5.183239e+06</td>\n",
       "    </tr>\n",
       "    <tr>\n",
       "      <th>22</th>\n",
       "      <td>5.252893e+06</td>\n",
       "    </tr>\n",
       "    <tr>\n",
       "      <th>16</th>\n",
       "      <td>5.461406e+06</td>\n",
       "    </tr>\n",
       "    <tr>\n",
       "      <th>15</th>\n",
       "      <td>5.485260e+06</td>\n",
       "    </tr>\n",
       "    <tr>\n",
       "      <th>14</th>\n",
       "      <td>5.757674e+06</td>\n",
       "    </tr>\n",
       "    <tr>\n",
       "      <th>11</th>\n",
       "      <td>5.890433e+06</td>\n",
       "    </tr>\n",
       "    <tr>\n",
       "      <th>12</th>\n",
       "      <td>5.956972e+06</td>\n",
       "    </tr>\n",
       "    <tr>\n",
       "      <th>13</th>\n",
       "      <td>6.263969e+06</td>\n",
       "    </tr>\n",
       "    <tr>\n",
       "      <th>10</th>\n",
       "      <td>6.320325e+06</td>\n",
       "    </tr>\n",
       "    <tr>\n",
       "      <th>20</th>\n",
       "      <td>6.365864e+06</td>\n",
       "    </tr>\n",
       "    <tr>\n",
       "      <th>9</th>\n",
       "      <td>6.373760e+06</td>\n",
       "    </tr>\n",
       "    <tr>\n",
       "      <th>27</th>\n",
       "      <td>8.300000e+06</td>\n",
       "    </tr>\n",
       "    <tr>\n",
       "      <th>8</th>\n",
       "      <td>8.321535e+06</td>\n",
       "    </tr>\n",
       "    <tr>\n",
       "      <th>3</th>\n",
       "      <td>1.050891e+07</td>\n",
       "    </tr>\n",
       "    <tr>\n",
       "      <th>7</th>\n",
       "      <td>1.068185e+07</td>\n",
       "    </tr>\n",
       "    <tr>\n",
       "      <th>4</th>\n",
       "      <td>1.167653e+07</td>\n",
       "    </tr>\n",
       "    <tr>\n",
       "      <th>5</th>\n",
       "      <td>1.223729e+07</td>\n",
       "    </tr>\n",
       "    <tr>\n",
       "      <th>2</th>\n",
       "      <td>1.237403e+07</td>\n",
       "    </tr>\n",
       "    <tr>\n",
       "      <th>6</th>\n",
       "      <td>1.261837e+07</td>\n",
       "    </tr>\n",
       "    <tr>\n",
       "      <th>1</th>\n",
       "      <td>1.285992e+07</td>\n",
       "    </tr>\n",
       "    <tr>\n",
       "      <th>0</th>\n",
       "      <td>1.661934e+07</td>\n",
       "    </tr>\n",
       "  </tbody>\n",
       "</table>\n",
       "</div>"
      ],
      "text/plain": [
       "                           last_price\n",
       "city_centers_nearest_km              \n",
       "26                       3.575000e+06\n",
       "29                       3.833333e+06\n",
       "24                       3.862235e+06\n",
       "25                       4.014913e+06\n",
       "23                       4.126867e+06\n",
       "19                       4.678756e+06\n",
       "17                       4.843935e+06\n",
       "28                       4.910500e+06\n",
       "18                       5.002501e+06\n",
       "21                       5.183239e+06\n",
       "22                       5.252893e+06\n",
       "16                       5.461406e+06\n",
       "15                       5.485260e+06\n",
       "14                       5.757674e+06\n",
       "11                       5.890433e+06\n",
       "12                       5.956972e+06\n",
       "13                       6.263969e+06\n",
       "10                       6.320325e+06\n",
       "20                       6.365864e+06\n",
       "9                        6.373760e+06\n",
       "27                       8.300000e+06\n",
       "8                        8.321535e+06\n",
       "3                        1.050891e+07\n",
       "7                        1.068185e+07\n",
       "4                        1.167653e+07\n",
       "5                        1.223729e+07\n",
       "2                        1.237403e+07\n",
       "6                        1.261837e+07\n",
       "1                        1.285992e+07\n",
       "0                        1.661934e+07"
      ]
     },
     "execution_count": 65,
     "metadata": {},
     "output_type": "execute_result"
    }
   ],
   "source": [
    "# посчитаем среднюю цену для каждого километра\n",
    "data.query('locality_name == \"Санкт-Петербург\"').groupby('city_centers_nearest_km').agg({'last_price':'mean'}).sort_values(by='last_price')"
   ]
  },
  {
   "cell_type": "code",
   "execution_count": 66,
   "metadata": {},
   "outputs": [
    {
     "data": {
      "text/plain": [
       "<AxesSubplot:xlabel='city_centers_nearest_km'>"
      ]
     },
     "execution_count": 66,
     "metadata": {},
     "output_type": "execute_result"
    },
    {
     "data": {
      "image/png": "[encoded data removed]",
      "text/plain": [
       "<Figure size 432x288 with 1 Axes>"
      ]
     },
     "metadata": {
      "needs_background": "light"
     },
     "output_type": "display_data"
    }
   ],
   "source": [
    "# построим график зависимости цены от удаленности от центра\n",
    "data.sort_values('city_centers_nearest_km').plot(x='city_centers_nearest_km', y='last_price', grid=True, )"
   ]
  },
  {
   "cell_type": "markdown",
   "metadata": {},
   "source": [
    "**Вывод:**\n",
    "График показал нам зависимость цены от удаленности от центра, чем дальше квартира находится от центра, тем дешевле ее цена. К центральной области мы относим квартиры, которые находятся в пределах  5-6 километров, так как именно на этих границах график сильно меняется."
   ]
  },
  {
   "cell_type": "markdown",
   "metadata": {},
   "source": [
    "7. Выделим сегмент квартир в центре."
   ]
  },
  {
   "cell_type": "code",
   "execution_count": 68,
   "metadata": {},
   "outputs": [],
   "source": [
    "#выделим квартиры в центре, беря за радиус 6 км\n",
    "center_spb_data = data.query('city_centers_nearest_km <= 6 and locality_name == \"Санкт-Петербург\"')"
   ]
  },
  {
   "cell_type": "code",
   "execution_count": 69,
   "metadata": {},
   "outputs": [
    {
     "data": {
      "text/plain": [
       "0.30864665880127046"
      ]
     },
     "execution_count": 69,
     "metadata": {},
     "output_type": "execute_result"
    },
    {
     "data": {
      "image/png": "[encoded data removed]",
      "text/plain": [
       "<Figure size 432x288 with 1 Axes>"
      ]
     },
     "metadata": {
      "needs_background": "light"
     },
     "output_type": "display_data"
    }
   ],
   "source": [
    "# зависимость стоимости квадратного метра от количества комнат\n",
    "center_spb_rooms = center_spb_data.pivot_table(index = 'rooms', values = 'last_price', aggfunc = ['mean', 'count', 'median'])\n",
    "center_spb_rooms.columns = ['mean', 'count', 'median']\n",
    "center_spb_rooms.query('count > 50').plot(y = 'median')\n",
    "\n",
    "center_spb_rooms.query('count > 50').sort_values('median', ascending = False)\n",
    "\n",
    "center_spb_data['rooms'].corr(center_spb_data['last_price'])"
   ]
  },
  {
   "cell_type": "markdown",
   "metadata": {},
   "source": [
    "**Вывод:** В центре СПБ чем меньше комнат тем дороже стоимость метра квадратного, в отличие от всей выборки, где стоимость уменьшается в зависимости от близости кол-ва комнат к 3."
   ]
  },
  {
   "cell_type": "code",
   "execution_count": 72,
   "metadata": {},
   "outputs": [
    {
     "data": {
      "text/html": [
       "<div>\n",
       "<style scoped>\n",
       "    .dataframe tbody tr th:only-of-type {\n",
       "        vertical-align: middle;\n",
       "    }\n",
       "\n",
       "    .dataframe tbody tr th {\n",
       "        vertical-align: top;\n",
       "    }\n",
       "\n",
       "    .dataframe thead th {\n",
       "        text-align: right;\n",
       "    }\n",
       "</style>\n",
       "<table border=\"1\" class=\"dataframe\">\n",
       "  <thead>\n",
       "    <tr style=\"text-align: right;\">\n",
       "      <th></th>\n",
       "      <th>mean</th>\n",
       "      <th>count</th>\n",
       "      <th>median</th>\n",
       "    </tr>\n",
       "    <tr>\n",
       "      <th>floor_status</th>\n",
       "      <th></th>\n",
       "      <th></th>\n",
       "      <th></th>\n",
       "    </tr>\n",
       "  </thead>\n",
       "  <tbody>\n",
       "    <tr>\n",
       "      <th>другой</th>\n",
       "      <td>1.264674e+07</td>\n",
       "      <td>2208</td>\n",
       "      <td>9500000</td>\n",
       "    </tr>\n",
       "    <tr>\n",
       "      <th>первый</th>\n",
       "      <td>8.741411e+06</td>\n",
       "      <td>364</td>\n",
       "      <td>6717800</td>\n",
       "    </tr>\n",
       "    <tr>\n",
       "      <th>последний</th>\n",
       "      <td>1.168355e+07</td>\n",
       "      <td>552</td>\n",
       "      <td>8900000</td>\n",
       "    </tr>\n",
       "  </tbody>\n",
       "</table>\n",
       "</div>"
      ],
      "text/plain": [
       "                      mean  count   median\n",
       "floor_status                              \n",
       "другой        1.264674e+07   2208  9500000\n",
       "первый        8.741411e+06    364  6717800\n",
       "последний     1.168355e+07    552  8900000"
      ]
     },
     "execution_count": 72,
     "metadata": {},
     "output_type": "execute_result"
    },
    {
     "data": {
      "image/png": "[encoded data removed]",
      "text/plain": [
       "<Figure size 432x288 with 1 Axes>"
      ]
     },
     "metadata": {
      "needs_background": "light"
     },
     "output_type": "display_data"
    }
   ],
   "source": [
    "# зависимость стоимости квадратного метра от этажа\n",
    "center_spb_floor_category = center_spb_data.pivot_table(index = 'floor_status', values = 'last_price', aggfunc = ['mean', 'count', 'median'])\n",
    "center_spb_floor_category.columns = ['mean', 'count', 'median']\n",
    "center_spb_floor_category.plot(y = 'median')\n",
    "center_spb_floor_category"
   ]
  },
  {
   "cell_type": "markdown",
   "metadata": {},
   "source": [
    " **Вывод:** \n",
    " Квартиры на первом этаже в среднем дешевле, чем на последнем!"
   ]
  },
  {
   "cell_type": "code",
   "execution_count": 73,
   "metadata": {},
   "outputs": [
    {
     "data": {
      "text/plain": [
       "0.02667747892402133"
      ]
     },
     "execution_count": 73,
     "metadata": {},
     "output_type": "execute_result"
    },
    {
     "data": {
      "image/png": "[encoded data removed]",
      "text/plain": [
       "<Figure size 1080x360 with 1 Axes>"
      ]
     },
     "metadata": {
      "needs_background": "light"
     },
     "output_type": "display_data"
    }
   ],
   "source": [
    "# квартиры на первом этаже в среднем дешевле, чем на последнем!\n",
    "data_1 = data.pivot_table(index='city_centers_nearest_km', values='last_price', aggfunc=['mean'])\n",
    "data_1.plot(kind='bar', figsize=(15,5))\n",
    "center_spb_data['city_centers_nearest'].corr(center_spb_data['meter_price'])"
   ]
  },
  {
   "cell_type": "markdown",
   "metadata": {},
   "source": [
    "**Вывод:** Ожидаемо, четкой зависимости нет, так как у нас уже сделана выборка по центру города."
   ]
  },
  {
   "cell_type": "code",
   "execution_count": 74,
   "metadata": {},
   "outputs": [
    {
     "data": {
      "text/html": [
       "<div>\n",
       "<style scoped>\n",
       "    .dataframe tbody tr th:only-of-type {\n",
       "        vertical-align: middle;\n",
       "    }\n",
       "\n",
       "    .dataframe tbody tr th {\n",
       "        vertical-align: top;\n",
       "    }\n",
       "\n",
       "    .dataframe thead th {\n",
       "        text-align: right;\n",
       "    }\n",
       "</style>\n",
       "<table border=\"1\" class=\"dataframe\">\n",
       "  <thead>\n",
       "    <tr style=\"text-align: right;\">\n",
       "      <th></th>\n",
       "      <th>mean</th>\n",
       "      <th>count</th>\n",
       "      <th>median</th>\n",
       "    </tr>\n",
       "    <tr>\n",
       "      <th>day</th>\n",
       "      <th></th>\n",
       "      <th></th>\n",
       "      <th></th>\n",
       "    </tr>\n",
       "  </thead>\n",
       "  <tbody>\n",
       "    <tr>\n",
       "      <th>Sunday</th>\n",
       "      <td>1.229774e+07</td>\n",
       "      <td>168</td>\n",
       "      <td>9315000</td>\n",
       "    </tr>\n",
       "    <tr>\n",
       "      <th>Monday</th>\n",
       "      <td>1.232662e+07</td>\n",
       "      <td>486</td>\n",
       "      <td>9200000</td>\n",
       "    </tr>\n",
       "    <tr>\n",
       "      <th>Tuesday</th>\n",
       "      <td>1.190065e+07</td>\n",
       "      <td>531</td>\n",
       "      <td>9000000</td>\n",
       "    </tr>\n",
       "    <tr>\n",
       "      <th>Thursday</th>\n",
       "      <td>1.252571e+07</td>\n",
       "      <td>640</td>\n",
       "      <td>8948000</td>\n",
       "    </tr>\n",
       "    <tr>\n",
       "      <th>Wednesday</th>\n",
       "      <td>1.156382e+07</td>\n",
       "      <td>546</td>\n",
       "      <td>8945131</td>\n",
       "    </tr>\n",
       "    <tr>\n",
       "      <th>Friday</th>\n",
       "      <td>1.159922e+07</td>\n",
       "      <td>528</td>\n",
       "      <td>8900000</td>\n",
       "    </tr>\n",
       "    <tr>\n",
       "      <th>Saturday</th>\n",
       "      <td>1.210885e+07</td>\n",
       "      <td>225</td>\n",
       "      <td>8500000</td>\n",
       "    </tr>\n",
       "  </tbody>\n",
       "</table>\n",
       "</div>"
      ],
      "text/plain": [
       "                   mean  count   median\n",
       "day                                    \n",
       "Sunday     1.229774e+07    168  9315000\n",
       "Monday     1.232662e+07    486  9200000\n",
       "Tuesday    1.190065e+07    531  9000000\n",
       "Thursday   1.252571e+07    640  8948000\n",
       "Wednesday  1.156382e+07    546  8945131\n",
       "Friday     1.159922e+07    528  8900000\n",
       "Saturday   1.210885e+07    225  8500000"
      ]
     },
     "execution_count": 74,
     "metadata": {},
     "output_type": "execute_result"
    },
    {
     "data": {
      "image/png": "[encoded data removed]",
      "text/plain": [
       "<Figure size 432x288 with 1 Axes>"
      ]
     },
     "metadata": {
      "needs_background": "light"
     },
     "output_type": "display_data"
    }
   ],
   "source": [
    "# зависимость стоимости квадратного метра от дня недели размещения объявления\n",
    "center_spb_weekday_exposition = center_spb_data.pivot_table(index = 'day', values = 'last_price', aggfunc = ['mean', 'count', 'median'])\n",
    "center_spb_weekday_exposition.columns = ['mean', 'count', 'median']\n",
    "center_spb_weekday_exposition.plot(y = 'median')\n",
    "\n",
    "center_spb_weekday_exposition.sort_values('median', ascending = False)"
   ]
  },
  {
   "cell_type": "markdown",
   "metadata": {},
   "source": [
    "**Вывод:** Ситуация отличается от всей выборки, минимальная средняя цена во вторник, а самая высокая в субботу!"
   ]
  },
  {
   "cell_type": "code",
   "execution_count": 75,
   "metadata": {},
   "outputs": [
    {
     "data": {
      "text/html": [
       "<div>\n",
       "<style scoped>\n",
       "    .dataframe tbody tr th:only-of-type {\n",
       "        vertical-align: middle;\n",
       "    }\n",
       "\n",
       "    .dataframe tbody tr th {\n",
       "        vertical-align: top;\n",
       "    }\n",
       "\n",
       "    .dataframe thead th {\n",
       "        text-align: right;\n",
       "    }\n",
       "</style>\n",
       "<table border=\"1\" class=\"dataframe\">\n",
       "  <thead>\n",
       "    <tr style=\"text-align: right;\">\n",
       "      <th></th>\n",
       "      <th>mean</th>\n",
       "      <th>count</th>\n",
       "      <th>median</th>\n",
       "    </tr>\n",
       "    <tr>\n",
       "      <th>month</th>\n",
       "      <th></th>\n",
       "      <th></th>\n",
       "      <th></th>\n",
       "    </tr>\n",
       "  </thead>\n",
       "  <tbody>\n",
       "    <tr>\n",
       "      <th>January</th>\n",
       "      <td>1.276362e+07</td>\n",
       "      <td>188</td>\n",
       "      <td>9900000</td>\n",
       "    </tr>\n",
       "    <tr>\n",
       "      <th>February</th>\n",
       "      <td>1.326414e+07</td>\n",
       "      <td>350</td>\n",
       "      <td>9445000</td>\n",
       "    </tr>\n",
       "    <tr>\n",
       "      <th>September</th>\n",
       "      <td>1.167924e+07</td>\n",
       "      <td>275</td>\n",
       "      <td>9400000</td>\n",
       "    </tr>\n",
       "    <tr>\n",
       "      <th>November</th>\n",
       "      <td>1.244367e+07</td>\n",
       "      <td>314</td>\n",
       "      <td>9380000</td>\n",
       "    </tr>\n",
       "    <tr>\n",
       "      <th>March</th>\n",
       "      <td>1.169548e+07</td>\n",
       "      <td>332</td>\n",
       "      <td>9300000</td>\n",
       "    </tr>\n",
       "    <tr>\n",
       "      <th>July</th>\n",
       "      <td>1.205145e+07</td>\n",
       "      <td>247</td>\n",
       "      <td>9000000</td>\n",
       "    </tr>\n",
       "    <tr>\n",
       "      <th>August</th>\n",
       "      <td>1.221675e+07</td>\n",
       "      <td>229</td>\n",
       "      <td>8900000</td>\n",
       "    </tr>\n",
       "    <tr>\n",
       "      <th>April</th>\n",
       "      <td>1.129255e+07</td>\n",
       "      <td>293</td>\n",
       "      <td>8750000</td>\n",
       "    </tr>\n",
       "    <tr>\n",
       "      <th>October</th>\n",
       "      <td>1.151915e+07</td>\n",
       "      <td>259</td>\n",
       "      <td>8550000</td>\n",
       "    </tr>\n",
       "    <tr>\n",
       "      <th>December</th>\n",
       "      <td>1.303343e+07</td>\n",
       "      <td>214</td>\n",
       "      <td>8500000</td>\n",
       "    </tr>\n",
       "    <tr>\n",
       "      <th>June</th>\n",
       "      <td>1.101501e+07</td>\n",
       "      <td>250</td>\n",
       "      <td>8500000</td>\n",
       "    </tr>\n",
       "    <tr>\n",
       "      <th>May</th>\n",
       "      <td>1.099279e+07</td>\n",
       "      <td>173</td>\n",
       "      <td>8500000</td>\n",
       "    </tr>\n",
       "  </tbody>\n",
       "</table>\n",
       "</div>"
      ],
      "text/plain": [
       "                   mean  count   median\n",
       "month                                  \n",
       "January    1.276362e+07    188  9900000\n",
       "February   1.326414e+07    350  9445000\n",
       "September  1.167924e+07    275  9400000\n",
       "November   1.244367e+07    314  9380000\n",
       "March      1.169548e+07    332  9300000\n",
       "July       1.205145e+07    247  9000000\n",
       "August     1.221675e+07    229  8900000\n",
       "April      1.129255e+07    293  8750000\n",
       "October    1.151915e+07    259  8550000\n",
       "December   1.303343e+07    214  8500000\n",
       "June       1.101501e+07    250  8500000\n",
       "May        1.099279e+07    173  8500000"
      ]
     },
     "execution_count": 75,
     "metadata": {},
     "output_type": "execute_result"
    },
    {
     "data": {
      "image/png": "[encoded data removed]",
      "text/plain": [
       "<Figure size 432x288 with 1 Axes>"
      ]
     },
     "metadata": {
      "needs_background": "light"
     },
     "output_type": "display_data"
    }
   ],
   "source": [
    "# зависимость стоимости квадратного метра от месяца размещения объявления\n",
    "center_spb_month_exposition = center_spb_data.pivot_table(index = 'month', values = 'last_price', aggfunc = ['mean', 'count', 'median'])\n",
    "center_spb_month_exposition.columns = ['mean', 'count', 'median']\n",
    "center_spb_month_exposition.plot(y = 'median')\n",
    "\n",
    "center_spb_month_exposition.sort_values('median', ascending = False)"
   ]
  },
  {
   "cell_type": "markdown",
   "metadata": {},
   "source": [
    "**Вывод:** Самая высокая стоимость метра в январе и июле, самая низкая стоимость в июне."
   ]
  },
  {
   "cell_type": "code",
   "execution_count": 76,
   "metadata": {},
   "outputs": [
    {
     "data": {
      "text/html": [
       "<div>\n",
       "<style scoped>\n",
       "    .dataframe tbody tr th:only-of-type {\n",
       "        vertical-align: middle;\n",
       "    }\n",
       "\n",
       "    .dataframe tbody tr th {\n",
       "        vertical-align: top;\n",
       "    }\n",
       "\n",
       "    .dataframe thead th {\n",
       "        text-align: right;\n",
       "    }\n",
       "</style>\n",
       "<table border=\"1\" class=\"dataframe\">\n",
       "  <thead>\n",
       "    <tr style=\"text-align: right;\">\n",
       "      <th></th>\n",
       "      <th>mean</th>\n",
       "      <th>count</th>\n",
       "      <th>median</th>\n",
       "    </tr>\n",
       "    <tr>\n",
       "      <th>year</th>\n",
       "      <th></th>\n",
       "      <th></th>\n",
       "      <th></th>\n",
       "    </tr>\n",
       "  </thead>\n",
       "  <tbody>\n",
       "    <tr>\n",
       "      <th>2015</th>\n",
       "      <td>1.345831e+07</td>\n",
       "      <td>272</td>\n",
       "      <td>9816985</td>\n",
       "    </tr>\n",
       "    <tr>\n",
       "      <th>2019</th>\n",
       "      <td>1.357333e+07</td>\n",
       "      <td>341</td>\n",
       "      <td>9500000</td>\n",
       "    </tr>\n",
       "    <tr>\n",
       "      <th>2016</th>\n",
       "      <td>1.133493e+07</td>\n",
       "      <td>430</td>\n",
       "      <td>9000000</td>\n",
       "    </tr>\n",
       "    <tr>\n",
       "      <th>2017</th>\n",
       "      <td>1.208814e+07</td>\n",
       "      <td>1113</td>\n",
       "      <td>8900000</td>\n",
       "    </tr>\n",
       "    <tr>\n",
       "      <th>2018</th>\n",
       "      <td>1.105037e+07</td>\n",
       "      <td>944</td>\n",
       "      <td>8700000</td>\n",
       "    </tr>\n",
       "  </tbody>\n",
       "</table>\n",
       "</div>"
      ],
      "text/plain": [
       "              mean  count   median\n",
       "year                              \n",
       "2015  1.345831e+07    272  9816985\n",
       "2019  1.357333e+07    341  9500000\n",
       "2016  1.133493e+07    430  9000000\n",
       "2017  1.208814e+07   1113  8900000\n",
       "2018  1.105037e+07    944  8700000"
      ]
     },
     "execution_count": 76,
     "metadata": {},
     "output_type": "execute_result"
    },
    {
     "data": {
      "image/png": "[encoded data removed]",
      "text/plain": [
       "<Figure size 432x288 with 1 Axes>"
      ]
     },
     "metadata": {
      "needs_background": "light"
     },
     "output_type": "display_data"
    }
   ],
   "source": [
    "# зависимость стоимости квадратного метра от года размещения объявления\n",
    "center_spb_year_exposition = center_spb_data.pivot_table(index = 'year', values = 'last_price', aggfunc = ['mean', 'count', 'median'])\n",
    "center_spb_year_exposition.columns = ['mean', 'count', 'median']\n",
    "center_spb_year_exposition.query('count > 50').plot(y = 'median')\n",
    "\n",
    "center_spb_year_exposition.query('count > 50').sort_values('median', ascending = False)"
   ]
  },
  {
   "cell_type": "markdown",
   "metadata": {},
   "source": [
    "**Вывод:** Мы видим пропорциональный увеличение цен с 2016 года."
   ]
  },
  {
   "cell_type": "markdown",
   "metadata": {},
   "source": [
    "## Общий вывод"
   ]
  },
  {
   "cell_type": "markdown",
   "metadata": {},
   "source": [
    "* Мы обработали полученный архив данных - обработали пропущенные значения там, где это необходимо, заменили типы данных на необходимые для удобной работы.\n",
    "* Мы выявили, что на рыночную стоимость квадратного метра квартиры больше всего влияют количество комнат, этаж квартиры, близость к центру.\n",
    "* Предполагаю, большое количество объявлений было автоматически снято с Яндекс Недвижимость и дату из снятия нельзя считать датой продажи квартиры.\n",
    "* Также важно учитывать, что, рассматривая среднюю стоимость квартир в 2014-2019 годах, мы не делали сегментацию рынка, а лишь смотрели средние показатели по рынку в целом, т.е. возможно, что цены на аналогичные квартиры в разных годах вели себя абсолютно по-разному.\n",
    "* Мы узнали, что квартиры на первом этаже стоят дешевле!\n",
    "* В Санкт-Петербурге самые дорогие квартиры."
   ]
  }
 ],
 "metadata": {
  "ExecuteTimeLog": [
   {
    "duration": 616,
    "start_time": "2022-03-02T13:24:20.135Z"
   },
   {
    "duration": 67,
    "start_time": "2022-03-02T13:24:21.558Z"
   },
   {
    "duration": 3,
    "start_time": "2022-03-02T13:25:35.470Z"
   },
   {
    "duration": 57,
    "start_time": "2022-03-02T13:25:36.754Z"
   },
   {
    "duration": 351,
    "start_time": "2022-03-02T13:26:52.406Z"
   },
   {
    "duration": 56,
    "start_time": "2022-03-02T13:26:58.746Z"
   },
   {
    "duration": 60,
    "start_time": "2022-03-02T13:27:44.492Z"
   },
   {
    "duration": 3,
    "start_time": "2022-03-02T13:27:47.502Z"
   },
   {
    "duration": 57,
    "start_time": "2022-03-02T13:27:49.185Z"
   },
   {
    "duration": 3,
    "start_time": "2022-03-02T13:28:02.465Z"
   },
   {
    "duration": 62,
    "start_time": "2022-03-02T13:28:02.470Z"
   },
   {
    "duration": 594,
    "start_time": "2022-03-02T13:28:22.541Z"
   },
   {
    "duration": 59,
    "start_time": "2022-03-02T13:28:23.137Z"
   },
   {
    "duration": 550,
    "start_time": "2022-03-02T13:36:44.582Z"
   },
   {
    "duration": 63,
    "start_time": "2022-03-02T13:36:45.134Z"
   },
   {
    "duration": 2,
    "start_time": "2022-03-02T13:36:51.027Z"
   },
   {
    "duration": 58,
    "start_time": "2022-03-02T13:36:52.288Z"
   },
   {
    "duration": 15,
    "start_time": "2022-03-02T13:38:42.647Z"
   },
   {
    "duration": 7,
    "start_time": "2022-03-02T13:39:12.478Z"
   },
   {
    "duration": 600,
    "start_time": "2022-03-02T13:39:23.554Z"
   },
   {
    "duration": 62,
    "start_time": "2022-03-02T13:39:24.155Z"
   },
   {
    "duration": 12,
    "start_time": "2022-03-02T13:39:24.219Z"
   },
   {
    "duration": 3,
    "start_time": "2022-03-02T13:39:27.173Z"
   },
   {
    "duration": 57,
    "start_time": "2022-03-02T13:39:28.390Z"
   },
   {
    "duration": 6,
    "start_time": "2022-03-02T13:39:29.827Z"
   },
   {
    "duration": 60,
    "start_time": "2022-03-02T13:41:17.932Z"
   },
   {
    "duration": 71,
    "start_time": "2022-03-02T13:41:26.894Z"
   },
   {
    "duration": 25,
    "start_time": "2022-03-02T13:41:30.920Z"
   },
   {
    "duration": 9,
    "start_time": "2022-03-02T14:10:59.881Z"
   },
   {
    "duration": 22,
    "start_time": "2022-03-02T14:24:02.761Z"
   },
   {
    "duration": 42,
    "start_time": "2022-03-02T14:25:47.674Z"
   },
   {
    "duration": 6,
    "start_time": "2022-03-02T15:01:51.184Z"
   },
   {
    "duration": 5,
    "start_time": "2022-03-02T15:02:15.635Z"
   },
   {
    "duration": 5,
    "start_time": "2022-03-02T15:02:17.456Z"
   },
   {
    "duration": 9,
    "start_time": "2022-03-02T15:11:25.552Z"
   },
   {
    "duration": 4710,
    "start_time": "2022-03-02T15:12:31.364Z"
   },
   {
    "duration": 8,
    "start_time": "2022-03-02T15:12:36.649Z"
   },
   {
    "duration": 5,
    "start_time": "2022-03-02T15:12:49.081Z"
   },
   {
    "duration": 11,
    "start_time": "2022-03-02T15:13:31.876Z"
   },
   {
    "duration": 9,
    "start_time": "2022-03-02T15:13:38.726Z"
   },
   {
    "duration": 9,
    "start_time": "2022-03-02T15:13:40.917Z"
   },
   {
    "duration": 587,
    "start_time": "2022-03-02T15:15:17.158Z"
   },
   {
    "duration": 78,
    "start_time": "2022-03-02T15:15:17.747Z"
   },
   {
    "duration": 13,
    "start_time": "2022-03-02T15:15:17.827Z"
   },
   {
    "duration": 54,
    "start_time": "2022-03-02T15:15:17.841Z"
   },
   {
    "duration": 6,
    "start_time": "2022-03-02T15:15:17.897Z"
   },
   {
    "duration": 5,
    "start_time": "2022-03-02T15:15:17.905Z"
   },
   {
    "duration": 11,
    "start_time": "2022-03-02T15:15:17.912Z"
   },
   {
    "duration": 38,
    "start_time": "2022-03-02T15:15:17.924Z"
   },
   {
    "duration": 195,
    "start_time": "2022-03-02T15:18:17.830Z"
   },
   {
    "duration": 578,
    "start_time": "2022-03-02T15:18:24.763Z"
   },
   {
    "duration": 78,
    "start_time": "2022-03-02T15:18:25.343Z"
   },
   {
    "duration": 14,
    "start_time": "2022-03-02T15:18:25.423Z"
   },
   {
    "duration": 57,
    "start_time": "2022-03-02T15:18:25.438Z"
   },
   {
    "duration": 5,
    "start_time": "2022-03-02T15:18:25.496Z"
   },
   {
    "duration": 9,
    "start_time": "2022-03-02T15:18:25.503Z"
   },
   {
    "duration": 8,
    "start_time": "2022-03-02T15:18:25.514Z"
   },
   {
    "duration": 8,
    "start_time": "2022-03-02T15:18:25.524Z"
   },
   {
    "duration": 7,
    "start_time": "2022-03-02T15:20:48.215Z"
   },
   {
    "duration": 9,
    "start_time": "2022-03-02T15:21:19.184Z"
   },
   {
    "duration": 10,
    "start_time": "2022-03-02T15:21:40.779Z"
   },
   {
    "duration": 7,
    "start_time": "2022-03-02T15:26:48.300Z"
   },
   {
    "duration": 9,
    "start_time": "2022-03-02T15:27:00.453Z"
   },
   {
    "duration": 9,
    "start_time": "2022-03-02T15:28:33.013Z"
   },
   {
    "duration": 7,
    "start_time": "2022-03-02T15:28:52.912Z"
   },
   {
    "duration": 11,
    "start_time": "2022-03-02T15:29:02.197Z"
   },
   {
    "duration": 14,
    "start_time": "2022-03-02T15:29:41.342Z"
   },
   {
    "duration": 11,
    "start_time": "2022-03-02T15:30:52.872Z"
   },
   {
    "duration": 9,
    "start_time": "2022-03-02T15:31:53.621Z"
   },
   {
    "duration": 6,
    "start_time": "2022-03-02T15:32:31.357Z"
   },
   {
    "duration": 7,
    "start_time": "2022-03-02T15:33:03.733Z"
   },
   {
    "duration": 7,
    "start_time": "2022-03-02T15:34:39.778Z"
   },
   {
    "duration": 11,
    "start_time": "2022-03-02T15:34:52.547Z"
   },
   {
    "duration": 9,
    "start_time": "2022-03-02T15:35:29.577Z"
   },
   {
    "duration": 7,
    "start_time": "2022-03-02T15:35:43.852Z"
   },
   {
    "duration": 9,
    "start_time": "2022-03-02T15:35:46.997Z"
   },
   {
    "duration": 11,
    "start_time": "2022-03-02T15:36:02.906Z"
   },
   {
    "duration": 10,
    "start_time": "2022-03-02T15:36:19.376Z"
   },
   {
    "duration": 13,
    "start_time": "2022-03-02T15:36:44.982Z"
   },
   {
    "duration": 8,
    "start_time": "2022-03-02T15:37:42.824Z"
   },
   {
    "duration": 10,
    "start_time": "2022-03-02T15:38:28.317Z"
   },
   {
    "duration": 611,
    "start_time": "2022-03-02T15:40:13.860Z"
   },
   {
    "duration": 79,
    "start_time": "2022-03-02T15:40:14.474Z"
   },
   {
    "duration": 15,
    "start_time": "2022-03-02T15:40:14.559Z"
   },
   {
    "duration": 44,
    "start_time": "2022-03-02T15:40:14.575Z"
   },
   {
    "duration": 7,
    "start_time": "2022-03-02T15:40:14.620Z"
   },
   {
    "duration": 32,
    "start_time": "2022-03-02T15:40:14.629Z"
   },
   {
    "duration": 10,
    "start_time": "2022-03-02T15:40:14.663Z"
   },
   {
    "duration": 9,
    "start_time": "2022-03-02T15:40:57.014Z"
   },
   {
    "duration": 6,
    "start_time": "2022-03-02T15:41:20.874Z"
   },
   {
    "duration": 9,
    "start_time": "2022-03-02T15:41:23.824Z"
   },
   {
    "duration": 7,
    "start_time": "2022-03-02T15:41:38.516Z"
   },
   {
    "duration": 7,
    "start_time": "2022-03-02T15:41:40.133Z"
   },
   {
    "duration": 10,
    "start_time": "2022-03-02T15:41:42.159Z"
   },
   {
    "duration": 9,
    "start_time": "2022-03-02T15:41:52.899Z"
   },
   {
    "duration": 10,
    "start_time": "2022-03-02T15:42:05.450Z"
   },
   {
    "duration": 9,
    "start_time": "2022-03-02T15:42:08.425Z"
   },
   {
    "duration": 7,
    "start_time": "2022-03-02T15:42:32.439Z"
   },
   {
    "duration": 10,
    "start_time": "2022-03-02T15:42:42.349Z"
   },
   {
    "duration": 551,
    "start_time": "2022-03-02T15:43:08.509Z"
   },
   {
    "duration": 77,
    "start_time": "2022-03-02T15:43:09.062Z"
   },
   {
    "duration": 19,
    "start_time": "2022-03-02T15:43:09.141Z"
   },
   {
    "duration": 44,
    "start_time": "2022-03-02T15:43:09.162Z"
   },
   {
    "duration": 7,
    "start_time": "2022-03-02T15:43:09.208Z"
   },
   {
    "duration": 6,
    "start_time": "2022-03-02T15:43:09.218Z"
   },
   {
    "duration": 38,
    "start_time": "2022-03-02T15:43:09.226Z"
   },
   {
    "duration": 9,
    "start_time": "2022-03-02T15:43:09.266Z"
   },
   {
    "duration": 405,
    "start_time": "2022-03-05T12:12:37.955Z"
   },
   {
    "duration": 717,
    "start_time": "2022-03-05T12:12:44.973Z"
   },
   {
    "duration": 109,
    "start_time": "2022-03-05T12:12:45.693Z"
   },
   {
    "duration": 28,
    "start_time": "2022-03-05T12:12:45.806Z"
   },
   {
    "duration": 62,
    "start_time": "2022-03-05T12:12:45.836Z"
   },
   {
    "duration": 32,
    "start_time": "2022-03-05T12:12:45.900Z"
   },
   {
    "duration": 8,
    "start_time": "2022-03-05T12:12:45.935Z"
   },
   {
    "duration": 9,
    "start_time": "2022-03-05T12:12:45.945Z"
   },
   {
    "duration": 11,
    "start_time": "2022-03-05T12:12:45.956Z"
   },
   {
    "duration": 15,
    "start_time": "2022-03-05T12:15:34.558Z"
   },
   {
    "duration": 18,
    "start_time": "2022-03-05T12:16:20.708Z"
   },
   {
    "duration": 12,
    "start_time": "2022-03-05T12:17:29.343Z"
   },
   {
    "duration": 10,
    "start_time": "2022-03-05T12:17:32.085Z"
   },
   {
    "duration": 19,
    "start_time": "2022-03-05T12:17:47.017Z"
   },
   {
    "duration": 14,
    "start_time": "2022-03-05T12:18:06.471Z"
   },
   {
    "duration": 13,
    "start_time": "2022-03-05T12:21:04.428Z"
   },
   {
    "duration": 764,
    "start_time": "2022-03-05T12:21:15.963Z"
   },
   {
    "duration": 98,
    "start_time": "2022-03-05T12:21:16.729Z"
   },
   {
    "duration": 21,
    "start_time": "2022-03-05T12:21:16.830Z"
   },
   {
    "duration": 83,
    "start_time": "2022-03-05T12:21:16.854Z"
   },
   {
    "duration": 10,
    "start_time": "2022-03-05T12:21:16.940Z"
   },
   {
    "duration": 8,
    "start_time": "2022-03-05T12:21:16.953Z"
   },
   {
    "duration": 14,
    "start_time": "2022-03-05T12:21:16.963Z"
   },
   {
    "duration": 10,
    "start_time": "2022-03-05T12:21:16.979Z"
   },
   {
    "duration": 13,
    "start_time": "2022-03-05T12:21:44.455Z"
   },
   {
    "duration": 11,
    "start_time": "2022-03-05T12:22:11.638Z"
   },
   {
    "duration": 9,
    "start_time": "2022-03-05T12:22:14.083Z"
   },
   {
    "duration": 14,
    "start_time": "2022-03-05T12:22:19.861Z"
   },
   {
    "duration": 11,
    "start_time": "2022-03-05T12:46:32.229Z"
   },
   {
    "duration": 39,
    "start_time": "2022-03-05T12:48:57.749Z"
   },
   {
    "duration": 14,
    "start_time": "2022-03-05T12:58:03.458Z"
   },
   {
    "duration": 9,
    "start_time": "2022-03-05T12:59:12.913Z"
   },
   {
    "duration": 40,
    "start_time": "2022-03-05T12:59:15.578Z"
   },
   {
    "duration": 761,
    "start_time": "2022-03-05T13:08:43.016Z"
   },
   {
    "duration": 94,
    "start_time": "2022-03-05T13:08:43.780Z"
   },
   {
    "duration": 19,
    "start_time": "2022-03-05T13:08:43.877Z"
   },
   {
    "duration": 84,
    "start_time": "2022-03-05T13:08:43.899Z"
   },
   {
    "duration": 10,
    "start_time": "2022-03-05T13:08:43.985Z"
   },
   {
    "duration": 8,
    "start_time": "2022-03-05T13:08:43.997Z"
   },
   {
    "duration": 35,
    "start_time": "2022-03-05T13:08:44.007Z"
   },
   {
    "duration": 10,
    "start_time": "2022-03-05T13:08:44.044Z"
   },
   {
    "duration": 13,
    "start_time": "2022-03-05T13:08:44.058Z"
   },
   {
    "duration": 7,
    "start_time": "2022-03-05T13:08:44.074Z"
   },
   {
    "duration": 54,
    "start_time": "2022-03-05T13:08:44.084Z"
   },
   {
    "duration": 43,
    "start_time": "2022-03-05T13:08:44.141Z"
   },
   {
    "duration": 10,
    "start_time": "2022-03-05T13:12:08.471Z"
   },
   {
    "duration": 13,
    "start_time": "2022-03-05T13:12:10.252Z"
   },
   {
    "duration": 9,
    "start_time": "2022-03-05T13:12:41.816Z"
   },
   {
    "duration": 12,
    "start_time": "2022-03-05T13:12:43.316Z"
   },
   {
    "duration": 735,
    "start_time": "2022-03-05T13:16:58.871Z"
   },
   {
    "duration": 112,
    "start_time": "2022-03-05T13:16:59.609Z"
   },
   {
    "duration": 25,
    "start_time": "2022-03-05T13:16:59.725Z"
   },
   {
    "duration": 82,
    "start_time": "2022-03-05T13:16:59.753Z"
   },
   {
    "duration": 10,
    "start_time": "2022-03-05T13:16:59.837Z"
   },
   {
    "duration": 8,
    "start_time": "2022-03-05T13:16:59.849Z"
   },
   {
    "duration": 16,
    "start_time": "2022-03-05T13:16:59.860Z"
   },
   {
    "duration": 9,
    "start_time": "2022-03-05T13:16:59.879Z"
   },
   {
    "duration": 51,
    "start_time": "2022-03-05T13:16:59.891Z"
   },
   {
    "duration": 6,
    "start_time": "2022-03-05T13:16:59.944Z"
   },
   {
    "duration": 7,
    "start_time": "2022-03-05T13:16:59.952Z"
   },
   {
    "duration": 8,
    "start_time": "2022-03-05T13:16:59.962Z"
   },
   {
    "duration": 8,
    "start_time": "2022-03-05T13:18:28.875Z"
   },
   {
    "duration": 12,
    "start_time": "2022-03-05T13:18:30.490Z"
   },
   {
    "duration": 763,
    "start_time": "2022-03-05T13:22:51.687Z"
   },
   {
    "duration": 117,
    "start_time": "2022-03-05T13:22:52.452Z"
   },
   {
    "duration": 20,
    "start_time": "2022-03-05T13:22:52.572Z"
   },
   {
    "duration": 87,
    "start_time": "2022-03-05T13:22:52.596Z"
   },
   {
    "duration": 11,
    "start_time": "2022-03-05T13:22:52.686Z"
   },
   {
    "duration": 32,
    "start_time": "2022-03-05T13:22:52.700Z"
   },
   {
    "duration": 13,
    "start_time": "2022-03-05T13:22:52.735Z"
   },
   {
    "duration": 8,
    "start_time": "2022-03-05T13:22:52.750Z"
   },
   {
    "duration": 5,
    "start_time": "2022-03-05T13:22:52.762Z"
   },
   {
    "duration": 5,
    "start_time": "2022-03-05T13:22:52.770Z"
   },
   {
    "duration": 8,
    "start_time": "2022-03-05T13:22:52.778Z"
   },
   {
    "duration": 47,
    "start_time": "2022-03-05T13:22:52.788Z"
   },
   {
    "duration": 5,
    "start_time": "2022-03-05T13:22:52.838Z"
   },
   {
    "duration": 5,
    "start_time": "2022-03-05T13:22:52.845Z"
   },
   {
    "duration": 11,
    "start_time": "2022-03-05T13:22:52.852Z"
   },
   {
    "duration": 11,
    "start_time": "2022-03-05T13:22:52.865Z"
   },
   {
    "duration": 788,
    "start_time": "2022-03-05T13:26:05.633Z"
   },
   {
    "duration": 109,
    "start_time": "2022-03-05T13:26:06.423Z"
   },
   {
    "duration": 20,
    "start_time": "2022-03-05T13:26:06.535Z"
   },
   {
    "duration": 84,
    "start_time": "2022-03-05T13:26:06.558Z"
   },
   {
    "duration": 10,
    "start_time": "2022-03-05T13:26:06.644Z"
   },
   {
    "duration": 16,
    "start_time": "2022-03-05T13:26:06.656Z"
   },
   {
    "duration": 15,
    "start_time": "2022-03-05T13:26:06.674Z"
   },
   {
    "duration": 9,
    "start_time": "2022-03-05T13:26:06.693Z"
   },
   {
    "duration": 7,
    "start_time": "2022-03-05T13:26:06.731Z"
   },
   {
    "duration": 9,
    "start_time": "2022-03-05T13:26:06.740Z"
   },
   {
    "duration": 6,
    "start_time": "2022-03-05T13:26:06.752Z"
   },
   {
    "duration": 6,
    "start_time": "2022-03-05T13:26:06.761Z"
   },
   {
    "duration": 6,
    "start_time": "2022-03-05T13:26:06.769Z"
   },
   {
    "duration": 5,
    "start_time": "2022-03-05T13:26:06.778Z"
   },
   {
    "duration": 51,
    "start_time": "2022-03-05T13:26:06.786Z"
   },
   {
    "duration": 14,
    "start_time": "2022-03-05T13:26:06.839Z"
   },
   {
    "duration": 781,
    "start_time": "2022-03-05T13:31:00.634Z"
   },
   {
    "duration": 95,
    "start_time": "2022-03-05T13:31:01.418Z"
   },
   {
    "duration": 35,
    "start_time": "2022-03-05T13:31:01.516Z"
   },
   {
    "duration": 83,
    "start_time": "2022-03-05T13:31:01.553Z"
   },
   {
    "duration": 13,
    "start_time": "2022-03-05T13:31:01.638Z"
   },
   {
    "duration": 10,
    "start_time": "2022-03-05T13:31:01.654Z"
   },
   {
    "duration": 17,
    "start_time": "2022-03-05T13:31:01.667Z"
   },
   {
    "duration": 6,
    "start_time": "2022-03-05T13:31:01.686Z"
   },
   {
    "duration": 6,
    "start_time": "2022-03-05T13:31:01.735Z"
   },
   {
    "duration": 9,
    "start_time": "2022-03-05T13:31:01.744Z"
   },
   {
    "duration": 8,
    "start_time": "2022-03-05T13:31:01.755Z"
   },
   {
    "duration": 7,
    "start_time": "2022-03-05T13:31:01.766Z"
   },
   {
    "duration": 7,
    "start_time": "2022-03-05T13:31:01.775Z"
   },
   {
    "duration": 5,
    "start_time": "2022-03-05T13:31:01.784Z"
   },
   {
    "duration": 44,
    "start_time": "2022-03-05T13:31:01.792Z"
   },
   {
    "duration": 82,
    "start_time": "2022-03-05T13:31:01.838Z"
   },
   {
    "duration": 14,
    "start_time": "2022-03-05T13:43:37.397Z"
   },
   {
    "duration": 59,
    "start_time": "2022-03-05T13:43:52.499Z"
   },
   {
    "duration": 19,
    "start_time": "2022-03-05T13:44:33.127Z"
   },
   {
    "duration": 7,
    "start_time": "2022-03-05T13:45:20.883Z"
   },
   {
    "duration": 426,
    "start_time": "2022-03-05T13:46:56.536Z"
   },
   {
    "duration": 20,
    "start_time": "2022-03-05T13:47:36.500Z"
   },
   {
    "duration": 1284,
    "start_time": "2022-03-05T14:09:10.489Z"
   },
   {
    "duration": 109,
    "start_time": "2022-03-05T14:09:11.775Z"
   },
   {
    "duration": 19,
    "start_time": "2022-03-05T14:09:11.887Z"
   },
   {
    "duration": 80,
    "start_time": "2022-03-05T14:09:11.909Z"
   },
   {
    "duration": 9,
    "start_time": "2022-03-05T14:09:11.992Z"
   },
   {
    "duration": 33,
    "start_time": "2022-03-05T14:09:12.003Z"
   },
   {
    "duration": 12,
    "start_time": "2022-03-05T14:09:12.038Z"
   },
   {
    "duration": 5,
    "start_time": "2022-03-05T14:09:12.052Z"
   },
   {
    "duration": 6,
    "start_time": "2022-03-05T14:09:12.061Z"
   },
   {
    "duration": 6,
    "start_time": "2022-03-05T14:09:12.069Z"
   },
   {
    "duration": 7,
    "start_time": "2022-03-05T14:09:12.077Z"
   },
   {
    "duration": 6,
    "start_time": "2022-03-05T14:09:12.133Z"
   },
   {
    "duration": 6,
    "start_time": "2022-03-05T14:09:12.142Z"
   },
   {
    "duration": 6,
    "start_time": "2022-03-05T14:09:12.150Z"
   },
   {
    "duration": 5,
    "start_time": "2022-03-05T14:09:12.158Z"
   },
   {
    "duration": 11,
    "start_time": "2022-03-05T14:09:12.166Z"
   },
   {
    "duration": 120,
    "start_time": "2022-03-05T14:09:12.180Z"
   },
   {
    "duration": 31,
    "start_time": "2022-03-05T14:09:12.302Z"
   },
   {
    "duration": 828,
    "start_time": "2022-03-05T14:11:17.045Z"
   },
   {
    "duration": 103,
    "start_time": "2022-03-05T14:11:17.876Z"
   },
   {
    "duration": 19,
    "start_time": "2022-03-05T14:11:17.982Z"
   },
   {
    "duration": 80,
    "start_time": "2022-03-05T14:11:18.003Z"
   },
   {
    "duration": 10,
    "start_time": "2022-03-05T14:11:18.085Z"
   },
   {
    "duration": 8,
    "start_time": "2022-03-05T14:11:18.097Z"
   },
   {
    "duration": 12,
    "start_time": "2022-03-05T14:11:18.132Z"
   },
   {
    "duration": 5,
    "start_time": "2022-03-05T14:11:18.147Z"
   },
   {
    "duration": 10,
    "start_time": "2022-03-05T14:11:18.156Z"
   },
   {
    "duration": 5,
    "start_time": "2022-03-05T14:11:18.169Z"
   },
   {
    "duration": 8,
    "start_time": "2022-03-05T14:11:18.177Z"
   },
   {
    "duration": 44,
    "start_time": "2022-03-05T14:11:18.188Z"
   },
   {
    "duration": 6,
    "start_time": "2022-03-05T14:11:18.235Z"
   },
   {
    "duration": 5,
    "start_time": "2022-03-05T14:11:18.243Z"
   },
   {
    "duration": 6,
    "start_time": "2022-03-05T14:11:18.250Z"
   },
   {
    "duration": 11,
    "start_time": "2022-03-05T14:11:18.258Z"
   },
   {
    "duration": 104,
    "start_time": "2022-03-05T14:11:18.271Z"
   },
   {
    "duration": 13,
    "start_time": "2022-03-05T14:11:18.377Z"
   },
   {
    "duration": 13,
    "start_time": "2022-03-05T14:11:31.342Z"
   },
   {
    "duration": 15,
    "start_time": "2022-03-05T14:11:33.433Z"
   },
   {
    "duration": 746,
    "start_time": "2022-03-05T14:11:57.253Z"
   },
   {
    "duration": 98,
    "start_time": "2022-03-05T14:11:58.002Z"
   },
   {
    "duration": 20,
    "start_time": "2022-03-05T14:11:58.103Z"
   },
   {
    "duration": 63,
    "start_time": "2022-03-05T14:11:58.133Z"
   },
   {
    "duration": 9,
    "start_time": "2022-03-05T14:11:58.198Z"
   },
   {
    "duration": 29,
    "start_time": "2022-03-05T14:11:58.209Z"
   },
   {
    "duration": 13,
    "start_time": "2022-03-05T14:11:58.241Z"
   },
   {
    "duration": 5,
    "start_time": "2022-03-05T14:11:58.256Z"
   },
   {
    "duration": 5,
    "start_time": "2022-03-05T14:11:58.265Z"
   },
   {
    "duration": 6,
    "start_time": "2022-03-05T14:11:58.272Z"
   },
   {
    "duration": 52,
    "start_time": "2022-03-05T14:11:58.280Z"
   },
   {
    "duration": 6,
    "start_time": "2022-03-05T14:11:58.335Z"
   },
   {
    "duration": 5,
    "start_time": "2022-03-05T14:11:58.343Z"
   },
   {
    "duration": 6,
    "start_time": "2022-03-05T14:11:58.350Z"
   },
   {
    "duration": 6,
    "start_time": "2022-03-05T14:11:58.358Z"
   },
   {
    "duration": 13,
    "start_time": "2022-03-05T14:11:58.366Z"
   },
   {
    "duration": 57,
    "start_time": "2022-03-05T14:11:58.382Z"
   },
   {
    "duration": 17,
    "start_time": "2022-03-05T14:11:58.442Z"
   },
   {
    "duration": 57,
    "start_time": "2022-03-05T14:12:25.445Z"
   },
   {
    "duration": 722,
    "start_time": "2022-03-05T14:13:16.873Z"
   },
   {
    "duration": 97,
    "start_time": "2022-03-05T14:13:17.597Z"
   },
   {
    "duration": 19,
    "start_time": "2022-03-05T14:13:17.697Z"
   },
   {
    "duration": 65,
    "start_time": "2022-03-05T14:13:17.732Z"
   },
   {
    "duration": 10,
    "start_time": "2022-03-05T14:13:17.799Z"
   },
   {
    "duration": 8,
    "start_time": "2022-03-05T14:13:17.833Z"
   },
   {
    "duration": 12,
    "start_time": "2022-03-05T14:13:17.844Z"
   },
   {
    "duration": 5,
    "start_time": "2022-03-05T14:13:17.858Z"
   },
   {
    "duration": 7,
    "start_time": "2022-03-05T14:13:17.867Z"
   },
   {
    "duration": 6,
    "start_time": "2022-03-05T14:13:17.876Z"
   },
   {
    "duration": 50,
    "start_time": "2022-03-05T14:13:17.884Z"
   },
   {
    "duration": 5,
    "start_time": "2022-03-05T14:13:17.937Z"
   },
   {
    "duration": 6,
    "start_time": "2022-03-05T14:13:17.944Z"
   },
   {
    "duration": 6,
    "start_time": "2022-03-05T14:13:17.952Z"
   },
   {
    "duration": 6,
    "start_time": "2022-03-05T14:13:17.960Z"
   },
   {
    "duration": 12,
    "start_time": "2022-03-05T14:13:17.968Z"
   },
   {
    "duration": 57,
    "start_time": "2022-03-05T14:13:17.982Z"
   },
   {
    "duration": 7,
    "start_time": "2022-03-05T14:13:18.042Z"
   },
   {
    "duration": 4236,
    "start_time": "2022-03-05T14:13:35.897Z"
   },
   {
    "duration": 332,
    "start_time": "2022-03-05T14:14:53.835Z"
   },
   {
    "duration": 325,
    "start_time": "2022-03-05T14:15:05.242Z"
   },
   {
    "duration": 315,
    "start_time": "2022-03-05T14:17:23.176Z"
   },
   {
    "duration": 326,
    "start_time": "2022-03-05T14:17:32.114Z"
   },
   {
    "duration": 346,
    "start_time": "2022-03-05T14:18:23.247Z"
   },
   {
    "duration": 4019,
    "start_time": "2022-03-05T14:18:41.312Z"
   },
   {
    "duration": 250,
    "start_time": "2022-03-06T10:48:16.922Z"
   },
   {
    "duration": 196,
    "start_time": "2022-03-06T10:48:47.563Z"
   },
   {
    "duration": 231,
    "start_time": "2022-03-06T11:00:58.816Z"
   },
   {
    "duration": 556,
    "start_time": "2022-03-06T11:01:12.521Z"
   },
   {
    "duration": 79,
    "start_time": "2022-03-06T11:01:13.079Z"
   },
   {
    "duration": 13,
    "start_time": "2022-03-06T11:01:13.160Z"
   },
   {
    "duration": 52,
    "start_time": "2022-03-06T11:01:13.175Z"
   },
   {
    "duration": 7,
    "start_time": "2022-03-06T11:01:13.228Z"
   },
   {
    "duration": 22,
    "start_time": "2022-03-06T11:01:13.237Z"
   },
   {
    "duration": 16,
    "start_time": "2022-03-06T11:01:13.260Z"
   },
   {
    "duration": 6,
    "start_time": "2022-03-06T11:01:13.278Z"
   },
   {
    "duration": 16,
    "start_time": "2022-03-06T11:01:13.286Z"
   },
   {
    "duration": 7,
    "start_time": "2022-03-06T11:01:13.303Z"
   },
   {
    "duration": 22,
    "start_time": "2022-03-06T11:01:13.312Z"
   },
   {
    "duration": 18,
    "start_time": "2022-03-06T11:01:13.336Z"
   },
   {
    "duration": 13,
    "start_time": "2022-03-06T11:01:13.356Z"
   },
   {
    "duration": 12,
    "start_time": "2022-03-06T11:01:13.370Z"
   },
   {
    "duration": 13,
    "start_time": "2022-03-06T11:01:13.384Z"
   },
   {
    "duration": 26,
    "start_time": "2022-03-06T11:01:13.399Z"
   },
   {
    "duration": 33,
    "start_time": "2022-03-06T11:01:13.426Z"
   },
   {
    "duration": 16,
    "start_time": "2022-03-06T11:01:13.460Z"
   },
   {
    "duration": 540,
    "start_time": "2022-03-06T11:07:19.710Z"
   },
   {
    "duration": 76,
    "start_time": "2022-03-06T11:07:20.251Z"
   },
   {
    "duration": 14,
    "start_time": "2022-03-06T11:07:20.329Z"
   },
   {
    "duration": 55,
    "start_time": "2022-03-06T11:07:20.345Z"
   },
   {
    "duration": 8,
    "start_time": "2022-03-06T11:07:20.402Z"
   },
   {
    "duration": 10,
    "start_time": "2022-03-06T11:07:20.411Z"
   },
   {
    "duration": 9,
    "start_time": "2022-03-06T11:07:20.422Z"
   },
   {
    "duration": 26,
    "start_time": "2022-03-06T11:07:20.433Z"
   },
   {
    "duration": 6,
    "start_time": "2022-03-06T11:07:20.461Z"
   },
   {
    "duration": 5,
    "start_time": "2022-03-06T11:07:20.469Z"
   },
   {
    "duration": 5,
    "start_time": "2022-03-06T11:07:20.476Z"
   },
   {
    "duration": 5,
    "start_time": "2022-03-06T11:07:20.483Z"
   },
   {
    "duration": 9,
    "start_time": "2022-03-06T11:07:20.490Z"
   },
   {
    "duration": 6,
    "start_time": "2022-03-06T11:07:20.500Z"
   },
   {
    "duration": 6,
    "start_time": "2022-03-06T11:07:20.507Z"
   },
   {
    "duration": 11,
    "start_time": "2022-03-06T11:07:20.558Z"
   },
   {
    "duration": 10,
    "start_time": "2022-03-06T11:07:20.571Z"
   },
   {
    "duration": 91,
    "start_time": "2022-03-06T11:07:20.582Z"
   },
   {
    "duration": 9,
    "start_time": "2022-03-06T11:08:04.727Z"
   },
   {
    "duration": 7,
    "start_time": "2022-03-06T11:09:05.663Z"
   },
   {
    "duration": 48,
    "start_time": "2022-03-06T11:09:19.916Z"
   },
   {
    "duration": 14,
    "start_time": "2022-03-06T11:09:52.495Z"
   },
   {
    "duration": 163,
    "start_time": "2022-03-06T11:10:08.869Z"
   },
   {
    "duration": 288,
    "start_time": "2022-03-06T11:10:29.947Z"
   },
   {
    "duration": 177,
    "start_time": "2022-03-06T11:10:37.763Z"
   },
   {
    "duration": 41,
    "start_time": "2022-03-06T11:10:43.785Z"
   },
   {
    "duration": 63,
    "start_time": "2022-03-06T11:18:19.042Z"
   },
   {
    "duration": 61,
    "start_time": "2022-03-06T11:27:02.165Z"
   },
   {
    "duration": 58,
    "start_time": "2022-03-06T11:27:26.637Z"
   },
   {
    "duration": 196,
    "start_time": "2022-03-06T13:37:34.182Z"
   },
   {
    "duration": 557,
    "start_time": "2022-03-06T13:37:51.593Z"
   },
   {
    "duration": 85,
    "start_time": "2022-03-06T13:37:52.152Z"
   },
   {
    "duration": 22,
    "start_time": "2022-03-06T13:37:52.239Z"
   },
   {
    "duration": 44,
    "start_time": "2022-03-06T13:37:52.263Z"
   },
   {
    "duration": 7,
    "start_time": "2022-03-06T13:37:52.309Z"
   },
   {
    "duration": 6,
    "start_time": "2022-03-06T13:37:52.318Z"
   },
   {
    "duration": 35,
    "start_time": "2022-03-06T13:37:52.325Z"
   },
   {
    "duration": 4,
    "start_time": "2022-03-06T13:37:52.363Z"
   },
   {
    "duration": 4,
    "start_time": "2022-03-06T13:37:52.369Z"
   },
   {
    "duration": 4,
    "start_time": "2022-03-06T13:37:52.375Z"
   },
   {
    "duration": 4,
    "start_time": "2022-03-06T13:37:52.380Z"
   },
   {
    "duration": 6,
    "start_time": "2022-03-06T13:37:52.386Z"
   },
   {
    "duration": 4,
    "start_time": "2022-03-06T13:37:52.394Z"
   },
   {
    "duration": 5,
    "start_time": "2022-03-06T13:37:52.399Z"
   },
   {
    "duration": 6,
    "start_time": "2022-03-06T13:37:52.406Z"
   },
   {
    "duration": 46,
    "start_time": "2022-03-06T13:37:52.414Z"
   },
   {
    "duration": 8,
    "start_time": "2022-03-06T13:37:52.462Z"
   },
   {
    "duration": 267,
    "start_time": "2022-03-06T13:37:52.472Z"
   },
   {
    "duration": -755,
    "start_time": "2022-03-06T13:37:53.496Z"
   },
   {
    "duration": 8,
    "start_time": "2022-03-06T13:38:07.710Z"
   },
   {
    "duration": 70,
    "start_time": "2022-03-06T13:38:55.099Z"
   },
   {
    "duration": 585,
    "start_time": "2022-03-06T13:43:44.255Z"
   },
   {
    "duration": 80,
    "start_time": "2022-03-06T13:43:44.842Z"
   },
   {
    "duration": 13,
    "start_time": "2022-03-06T13:43:44.924Z"
   },
   {
    "duration": 54,
    "start_time": "2022-03-06T13:43:44.939Z"
   },
   {
    "duration": 7,
    "start_time": "2022-03-06T13:43:44.995Z"
   },
   {
    "duration": 17,
    "start_time": "2022-03-06T13:43:45.004Z"
   },
   {
    "duration": 15,
    "start_time": "2022-03-06T13:43:45.022Z"
   },
   {
    "duration": 4,
    "start_time": "2022-03-06T13:43:45.039Z"
   },
   {
    "duration": 15,
    "start_time": "2022-03-06T13:43:45.046Z"
   },
   {
    "duration": 5,
    "start_time": "2022-03-06T13:43:45.063Z"
   },
   {
    "duration": 4,
    "start_time": "2022-03-06T13:43:45.070Z"
   },
   {
    "duration": 5,
    "start_time": "2022-03-06T13:43:45.076Z"
   },
   {
    "duration": 7,
    "start_time": "2022-03-06T13:43:45.083Z"
   },
   {
    "duration": 4,
    "start_time": "2022-03-06T13:43:45.091Z"
   },
   {
    "duration": 4,
    "start_time": "2022-03-06T13:43:45.097Z"
   },
   {
    "duration": 9,
    "start_time": "2022-03-06T13:43:45.103Z"
   },
   {
    "duration": 4,
    "start_time": "2022-03-06T13:43:45.113Z"
   },
   {
    "duration": 43,
    "start_time": "2022-03-06T13:43:45.119Z"
   },
   {
    "duration": 70,
    "start_time": "2022-03-06T13:43:45.163Z"
   },
   {
    "duration": 5,
    "start_time": "2022-03-06T13:45:21.208Z"
   },
   {
    "duration": 13,
    "start_time": "2022-03-06T13:45:35.959Z"
   },
   {
    "duration": 43,
    "start_time": "2022-03-06T13:48:49.758Z"
   },
   {
    "duration": 14,
    "start_time": "2022-03-06T13:49:34.304Z"
   },
   {
    "duration": 9,
    "start_time": "2022-03-06T13:50:29.977Z"
   },
   {
    "duration": 10,
    "start_time": "2022-03-06T13:52:02.576Z"
   },
   {
    "duration": 10,
    "start_time": "2022-03-06T15:33:47.716Z"
   },
   {
    "duration": 12,
    "start_time": "2022-03-06T15:34:20.714Z"
   },
   {
    "duration": 5,
    "start_time": "2022-03-06T15:49:21.328Z"
   },
   {
    "duration": 6,
    "start_time": "2022-03-06T15:49:44.090Z"
   },
   {
    "duration": 6,
    "start_time": "2022-03-06T15:58:11.556Z"
   },
   {
    "duration": 6,
    "start_time": "2022-03-06T16:00:19.578Z"
   },
   {
    "duration": 6,
    "start_time": "2022-03-06T16:02:15.049Z"
   },
   {
    "duration": 5,
    "start_time": "2022-03-06T16:04:00.421Z"
   },
   {
    "duration": 18,
    "start_time": "2022-03-06T16:12:07.585Z"
   },
   {
    "duration": 16,
    "start_time": "2022-03-06T16:18:14.708Z"
   },
   {
    "duration": 5,
    "start_time": "2022-03-06T16:18:36.802Z"
   },
   {
    "duration": 261,
    "start_time": "2022-03-06T16:18:57.858Z"
   },
   {
    "duration": 7,
    "start_time": "2022-03-06T16:19:09.420Z"
   },
   {
    "duration": 244,
    "start_time": "2022-03-06T16:19:29.554Z"
   },
   {
    "duration": 10,
    "start_time": "2022-03-06T16:19:38.058Z"
   },
   {
    "duration": 5,
    "start_time": "2022-03-06T16:20:34.240Z"
   },
   {
    "duration": 7,
    "start_time": "2022-03-06T16:20:41.029Z"
   },
   {
    "duration": 38,
    "start_time": "2022-03-06T16:20:58.848Z"
   },
   {
    "duration": 5,
    "start_time": "2022-03-06T16:23:49.101Z"
   },
   {
    "duration": 12,
    "start_time": "2022-03-06T16:33:08.119Z"
   },
   {
    "duration": 18,
    "start_time": "2022-03-06T16:33:35.304Z"
   },
   {
    "duration": 15,
    "start_time": "2022-03-06T16:33:38.583Z"
   },
   {
    "duration": 40,
    "start_time": "2022-03-06T17:01:01.346Z"
   },
   {
    "duration": 4,
    "start_time": "2022-03-06T17:03:04.630Z"
   },
   {
    "duration": 5,
    "start_time": "2022-03-06T17:03:28.939Z"
   },
   {
    "duration": 37,
    "start_time": "2022-03-06T17:05:55.041Z"
   },
   {
    "duration": 4,
    "start_time": "2022-03-06T17:06:39.735Z"
   },
   {
    "duration": 6,
    "start_time": "2022-03-06T17:07:40.524Z"
   },
   {
    "duration": 6,
    "start_time": "2022-03-06T17:07:51.748Z"
   },
   {
    "duration": 13,
    "start_time": "2022-03-06T17:10:53.404Z"
   },
   {
    "duration": 34,
    "start_time": "2022-03-06T17:11:15.779Z"
   },
   {
    "duration": 69,
    "start_time": "2022-03-06T17:14:49.085Z"
   },
   {
    "duration": 12,
    "start_time": "2022-03-06T17:14:53.508Z"
   },
   {
    "duration": 8,
    "start_time": "2022-03-06T17:15:07.757Z"
   },
   {
    "duration": 35,
    "start_time": "2022-03-06T17:17:41.366Z"
   },
   {
    "duration": 64,
    "start_time": "2022-03-06T17:21:01.193Z"
   },
   {
    "duration": 214,
    "start_time": "2022-03-06T17:21:18.427Z"
   },
   {
    "duration": 70,
    "start_time": "2022-03-06T17:21:48.486Z"
   },
   {
    "duration": 49,
    "start_time": "2022-03-06T17:22:09.277Z"
   },
   {
    "duration": 189,
    "start_time": "2022-03-06T17:22:51.583Z"
   },
   {
    "duration": 202,
    "start_time": "2022-03-06T17:22:59.675Z"
   },
   {
    "duration": 54,
    "start_time": "2022-03-06T17:23:09.646Z"
   },
   {
    "duration": 4560,
    "start_time": "2022-03-06T17:24:20.127Z"
   },
   {
    "duration": 4635,
    "start_time": "2022-03-06T17:24:25.020Z"
   },
   {
    "duration": 4636,
    "start_time": "2022-03-06T17:24:50.947Z"
   },
   {
    "duration": 2394,
    "start_time": "2022-03-06T17:25:23.159Z"
   },
   {
    "duration": 10,
    "start_time": "2022-03-06T17:29:48.762Z"
   },
   {
    "duration": 210,
    "start_time": "2022-03-06T17:31:05.589Z"
   },
   {
    "duration": 206,
    "start_time": "2022-03-06T17:33:32.458Z"
   },
   {
    "duration": 8211,
    "start_time": "2022-03-06T17:33:51.681Z"
   },
   {
    "duration": 223,
    "start_time": "2022-03-06T17:34:24.514Z"
   },
   {
    "duration": 14,
    "start_time": "2022-03-06T17:37:23.155Z"
   },
   {
    "duration": 4534,
    "start_time": "2022-03-06T17:43:40.864Z"
   },
   {
    "duration": 36,
    "start_time": "2022-03-06T17:44:07.667Z"
   },
   {
    "duration": 615,
    "start_time": "2022-03-08T07:10:05.070Z"
   },
   {
    "duration": 77,
    "start_time": "2022-03-08T07:10:05.686Z"
   },
   {
    "duration": 12,
    "start_time": "2022-03-08T07:10:05.765Z"
   },
   {
    "duration": 50,
    "start_time": "2022-03-08T07:10:05.779Z"
   },
   {
    "duration": 7,
    "start_time": "2022-03-08T07:10:05.830Z"
   },
   {
    "duration": 6,
    "start_time": "2022-03-08T07:10:05.838Z"
   },
   {
    "duration": 8,
    "start_time": "2022-03-08T07:10:05.845Z"
   },
   {
    "duration": 4,
    "start_time": "2022-03-08T07:10:05.855Z"
   },
   {
    "duration": 4,
    "start_time": "2022-03-08T07:10:05.860Z"
   },
   {
    "duration": 37,
    "start_time": "2022-03-08T07:10:05.865Z"
   },
   {
    "duration": 4,
    "start_time": "2022-03-08T07:10:05.903Z"
   },
   {
    "duration": 6,
    "start_time": "2022-03-08T07:10:05.908Z"
   },
   {
    "duration": 5,
    "start_time": "2022-03-08T07:10:05.915Z"
   },
   {
    "duration": 9,
    "start_time": "2022-03-08T07:10:05.921Z"
   },
   {
    "duration": 8,
    "start_time": "2022-03-08T07:10:05.931Z"
   },
   {
    "duration": 12,
    "start_time": "2022-03-08T07:10:05.941Z"
   },
   {
    "duration": 4,
    "start_time": "2022-03-08T07:10:05.954Z"
   },
   {
    "duration": 12,
    "start_time": "2022-03-08T07:10:05.960Z"
   },
   {
    "duration": 4,
    "start_time": "2022-03-08T07:10:05.973Z"
   },
   {
    "duration": 27,
    "start_time": "2022-03-08T07:10:05.978Z"
   },
   {
    "duration": 9,
    "start_time": "2022-03-08T07:10:06.007Z"
   },
   {
    "duration": 20,
    "start_time": "2022-03-08T07:10:06.017Z"
   },
   {
    "duration": 10,
    "start_time": "2022-03-08T07:10:06.039Z"
   },
   {
    "duration": 10,
    "start_time": "2022-03-08T07:10:06.050Z"
   },
   {
    "duration": 109,
    "start_time": "2022-03-08T07:10:06.061Z"
   },
   {
    "duration": -855,
    "start_time": "2022-03-08T07:10:07.027Z"
   },
   {
    "duration": 10,
    "start_time": "2022-03-08T07:10:50.038Z"
   },
   {
    "duration": 9,
    "start_time": "2022-03-08T07:11:08.735Z"
   },
   {
    "duration": 8,
    "start_time": "2022-03-08T07:11:14.979Z"
   },
   {
    "duration": 7,
    "start_time": "2022-03-08T07:14:32.679Z"
   },
   {
    "duration": 6,
    "start_time": "2022-03-08T07:16:49.050Z"
   },
   {
    "duration": 271,
    "start_time": "2022-03-08T15:42:03.758Z"
   },
   {
    "duration": 592,
    "start_time": "2022-03-08T15:42:12.443Z"
   },
   {
    "duration": 79,
    "start_time": "2022-03-08T15:42:13.037Z"
   },
   {
    "duration": 16,
    "start_time": "2022-03-08T15:42:13.119Z"
   },
   {
    "duration": 42,
    "start_time": "2022-03-08T15:42:13.137Z"
   },
   {
    "duration": 25,
    "start_time": "2022-03-08T15:42:13.181Z"
   },
   {
    "duration": 6,
    "start_time": "2022-03-08T15:42:13.208Z"
   },
   {
    "duration": 15,
    "start_time": "2022-03-08T15:42:13.216Z"
   },
   {
    "duration": 10,
    "start_time": "2022-03-08T15:42:13.234Z"
   },
   {
    "duration": 7,
    "start_time": "2022-03-08T15:42:13.246Z"
   },
   {
    "duration": 6,
    "start_time": "2022-03-08T15:42:13.255Z"
   },
   {
    "duration": 12,
    "start_time": "2022-03-08T15:42:13.262Z"
   },
   {
    "duration": 26,
    "start_time": "2022-03-08T15:42:13.276Z"
   },
   {
    "duration": 8,
    "start_time": "2022-03-08T15:42:13.304Z"
   },
   {
    "duration": 7,
    "start_time": "2022-03-08T15:42:13.314Z"
   },
   {
    "duration": 9,
    "start_time": "2022-03-08T15:42:13.323Z"
   },
   {
    "duration": 14,
    "start_time": "2022-03-08T15:42:13.333Z"
   },
   {
    "duration": 9,
    "start_time": "2022-03-08T15:42:13.349Z"
   },
   {
    "duration": 20,
    "start_time": "2022-03-08T15:42:13.360Z"
   },
   {
    "duration": 18,
    "start_time": "2022-03-08T15:42:13.383Z"
   },
   {
    "duration": 16,
    "start_time": "2022-03-08T15:42:13.403Z"
   },
   {
    "duration": 16,
    "start_time": "2022-03-08T15:42:13.421Z"
   },
   {
    "duration": 34,
    "start_time": "2022-03-08T15:42:13.440Z"
   },
   {
    "duration": 15,
    "start_time": "2022-03-08T15:42:13.504Z"
   },
   {
    "duration": 11,
    "start_time": "2022-03-08T15:42:13.521Z"
   },
   {
    "duration": 12,
    "start_time": "2022-03-08T15:42:13.534Z"
   },
   {
    "duration": 63,
    "start_time": "2022-03-08T15:42:13.548Z"
   },
   {
    "duration": 5,
    "start_time": "2022-03-08T15:42:13.613Z"
   },
   {
    "duration": 374,
    "start_time": "2022-03-08T15:45:15.296Z"
   },
   {
    "duration": 299,
    "start_time": "2022-03-08T15:45:25.484Z"
   },
   {
    "duration": 63,
    "start_time": "2022-03-08T15:46:52.971Z"
   },
   {
    "duration": 8,
    "start_time": "2022-03-08T15:47:07.645Z"
   },
   {
    "duration": 7,
    "start_time": "2022-03-08T16:08:55.657Z"
   },
   {
    "duration": 8,
    "start_time": "2022-03-08T16:09:33.264Z"
   },
   {
    "duration": 6,
    "start_time": "2022-03-08T16:16:56.238Z"
   },
   {
    "duration": 247,
    "start_time": "2022-03-08T16:33:06.936Z"
   },
   {
    "duration": 34,
    "start_time": "2022-03-08T16:34:06.588Z"
   },
   {
    "duration": 27,
    "start_time": "2022-03-08T16:34:28.901Z"
   },
   {
    "duration": 294,
    "start_time": "2022-03-08T17:17:18.756Z"
   },
   {
    "duration": 221,
    "start_time": "2022-03-08T17:22:27.841Z"
   },
   {
    "duration": 219,
    "start_time": "2022-03-08T17:22:40.680Z"
   },
   {
    "duration": 80,
    "start_time": "2022-03-08T17:23:13.276Z"
   },
   {
    "duration": 260,
    "start_time": "2022-03-09T09:02:09.194Z"
   },
   {
    "duration": 560,
    "start_time": "2022-03-09T09:02:14.294Z"
   },
   {
    "duration": 71,
    "start_time": "2022-03-09T09:02:14.856Z"
   },
   {
    "duration": 12,
    "start_time": "2022-03-09T09:02:14.929Z"
   },
   {
    "duration": 47,
    "start_time": "2022-03-09T09:02:14.942Z"
   },
   {
    "duration": 7,
    "start_time": "2022-03-09T09:02:14.991Z"
   },
   {
    "duration": 7,
    "start_time": "2022-03-09T09:02:14.999Z"
   },
   {
    "duration": 35,
    "start_time": "2022-03-09T09:02:15.007Z"
   },
   {
    "duration": 10,
    "start_time": "2022-03-09T09:02:15.045Z"
   },
   {
    "duration": 10,
    "start_time": "2022-03-09T09:02:15.057Z"
   },
   {
    "duration": 7,
    "start_time": "2022-03-09T09:02:15.069Z"
   },
   {
    "duration": 9,
    "start_time": "2022-03-09T09:02:15.077Z"
   },
   {
    "duration": 9,
    "start_time": "2022-03-09T09:02:15.088Z"
   },
   {
    "duration": 10,
    "start_time": "2022-03-09T09:02:15.099Z"
   },
   {
    "duration": 12,
    "start_time": "2022-03-09T09:02:15.111Z"
   },
   {
    "duration": 38,
    "start_time": "2022-03-09T09:02:15.125Z"
   },
   {
    "duration": 11,
    "start_time": "2022-03-09T09:02:15.164Z"
   },
   {
    "duration": 9,
    "start_time": "2022-03-09T09:02:15.177Z"
   },
   {
    "duration": 30,
    "start_time": "2022-03-09T09:02:15.187Z"
   },
   {
    "duration": 21,
    "start_time": "2022-03-09T09:02:15.219Z"
   },
   {
    "duration": 15,
    "start_time": "2022-03-09T09:02:15.242Z"
   },
   {
    "duration": 11,
    "start_time": "2022-03-09T09:02:15.259Z"
   },
   {
    "duration": 22,
    "start_time": "2022-03-09T09:02:15.272Z"
   },
   {
    "duration": 21,
    "start_time": "2022-03-09T09:02:15.297Z"
   },
   {
    "duration": 10,
    "start_time": "2022-03-09T09:02:15.320Z"
   },
   {
    "duration": 14,
    "start_time": "2022-03-09T09:02:15.331Z"
   },
   {
    "duration": 26,
    "start_time": "2022-03-09T09:02:15.346Z"
   },
   {
    "duration": 15,
    "start_time": "2022-03-09T09:02:15.374Z"
   },
   {
    "duration": 27,
    "start_time": "2022-03-09T09:02:15.391Z"
   },
   {
    "duration": 83,
    "start_time": "2022-03-09T09:02:15.420Z"
   },
   {
    "duration": 63,
    "start_time": "2022-03-09T09:02:15.505Z"
   },
   {
    "duration": 5,
    "start_time": "2022-03-09T09:05:37.005Z"
   },
   {
    "duration": 39,
    "start_time": "2022-03-09T09:05:44.650Z"
   },
   {
    "duration": 44,
    "start_time": "2022-03-09T09:06:53.004Z"
   },
   {
    "duration": 7,
    "start_time": "2022-03-09T09:21:55.616Z"
   },
   {
    "duration": 9,
    "start_time": "2022-03-09T09:22:09.865Z"
   },
   {
    "duration": 1190,
    "start_time": "2022-03-09T09:27:31.874Z"
   },
   {
    "duration": 1124,
    "start_time": "2022-03-09T09:27:44.134Z"
   },
   {
    "duration": 82,
    "start_time": "2022-03-09T09:28:59.486Z"
   },
   {
    "duration": 76,
    "start_time": "2022-03-09T09:29:07.919Z"
   },
   {
    "duration": 6374,
    "start_time": "2022-03-09T09:31:20.674Z"
   },
   {
    "duration": 468,
    "start_time": "2022-03-09T09:39:41.183Z"
   },
   {
    "duration": 456,
    "start_time": "2022-03-09T09:40:24.381Z"
   },
   {
    "duration": 456,
    "start_time": "2022-03-09T09:41:44.488Z"
   },
   {
    "duration": 8,
    "start_time": "2022-03-09T09:47:18.487Z"
   },
   {
    "duration": 592,
    "start_time": "2022-03-09T09:48:10.507Z"
   },
   {
    "duration": 8,
    "start_time": "2022-03-09T09:49:55.579Z"
   },
   {
    "duration": 560,
    "start_time": "2022-03-09T09:51:51.598Z"
   },
   {
    "duration": 79,
    "start_time": "2022-03-09T09:51:52.160Z"
   },
   {
    "duration": 13,
    "start_time": "2022-03-09T09:51:52.241Z"
   },
   {
    "duration": 47,
    "start_time": "2022-03-09T09:51:52.256Z"
   },
   {
    "duration": 7,
    "start_time": "2022-03-09T09:51:52.304Z"
   },
   {
    "duration": 8,
    "start_time": "2022-03-09T09:51:52.313Z"
   },
   {
    "duration": 10,
    "start_time": "2022-03-09T09:51:52.322Z"
   },
   {
    "duration": 30,
    "start_time": "2022-03-09T09:51:52.333Z"
   },
   {
    "duration": 5,
    "start_time": "2022-03-09T09:51:52.367Z"
   },
   {
    "duration": 6,
    "start_time": "2022-03-09T09:51:52.374Z"
   },
   {
    "duration": 10,
    "start_time": "2022-03-09T09:51:52.382Z"
   },
   {
    "duration": 5,
    "start_time": "2022-03-09T09:51:52.394Z"
   },
   {
    "duration": 13,
    "start_time": "2022-03-09T09:51:52.400Z"
   },
   {
    "duration": 4,
    "start_time": "2022-03-09T09:51:52.415Z"
   },
   {
    "duration": 6,
    "start_time": "2022-03-09T09:51:52.421Z"
   },
   {
    "duration": 10,
    "start_time": "2022-03-09T09:51:52.428Z"
   },
   {
    "duration": 25,
    "start_time": "2022-03-09T09:51:52.440Z"
   },
   {
    "duration": 18,
    "start_time": "2022-03-09T09:51:52.466Z"
   },
   {
    "duration": 4,
    "start_time": "2022-03-09T09:51:52.486Z"
   },
   {
    "duration": 14,
    "start_time": "2022-03-09T09:51:52.492Z"
   },
   {
    "duration": 11,
    "start_time": "2022-03-09T09:51:52.508Z"
   },
   {
    "duration": 42,
    "start_time": "2022-03-09T09:51:52.521Z"
   },
   {
    "duration": 15,
    "start_time": "2022-03-09T09:51:52.565Z"
   },
   {
    "duration": 9,
    "start_time": "2022-03-09T09:51:52.582Z"
   },
   {
    "duration": 8,
    "start_time": "2022-03-09T09:51:52.592Z"
   },
   {
    "duration": 5,
    "start_time": "2022-03-09T09:51:52.601Z"
   },
   {
    "duration": 16,
    "start_time": "2022-03-09T09:51:52.609Z"
   },
   {
    "duration": 47,
    "start_time": "2022-03-09T09:51:52.627Z"
   },
   {
    "duration": 97,
    "start_time": "2022-03-09T09:51:52.676Z"
   },
   {
    "duration": 34,
    "start_time": "2022-03-09T09:51:52.775Z"
   },
   {
    "duration": 65,
    "start_time": "2022-03-09T09:51:52.811Z"
   },
   {
    "duration": 8,
    "start_time": "2022-03-09T09:51:52.878Z"
   },
   {
    "duration": 582,
    "start_time": "2022-03-09T11:09:22.610Z"
   },
   {
    "duration": 78,
    "start_time": "2022-03-09T11:09:23.194Z"
   },
   {
    "duration": 13,
    "start_time": "2022-03-09T11:09:23.275Z"
   },
   {
    "duration": 41,
    "start_time": "2022-03-09T11:09:23.291Z"
   },
   {
    "duration": 7,
    "start_time": "2022-03-09T11:09:23.334Z"
   },
   {
    "duration": 6,
    "start_time": "2022-03-09T11:09:23.362Z"
   },
   {
    "duration": 9,
    "start_time": "2022-03-09T11:09:23.370Z"
   },
   {
    "duration": 4,
    "start_time": "2022-03-09T11:09:23.381Z"
   },
   {
    "duration": 7,
    "start_time": "2022-03-09T11:09:23.387Z"
   },
   {
    "duration": 10,
    "start_time": "2022-03-09T11:09:23.396Z"
   },
   {
    "duration": 16,
    "start_time": "2022-03-09T11:09:23.408Z"
   },
   {
    "duration": 4,
    "start_time": "2022-03-09T11:09:23.426Z"
   },
   {
    "duration": 35,
    "start_time": "2022-03-09T11:09:23.432Z"
   },
   {
    "duration": 4,
    "start_time": "2022-03-09T11:09:23.469Z"
   },
   {
    "duration": 7,
    "start_time": "2022-03-09T11:09:23.475Z"
   },
   {
    "duration": 9,
    "start_time": "2022-03-09T11:09:23.484Z"
   },
   {
    "duration": 4,
    "start_time": "2022-03-09T11:09:23.495Z"
   },
   {
    "duration": 8,
    "start_time": "2022-03-09T11:09:23.501Z"
   },
   {
    "duration": 6,
    "start_time": "2022-03-09T11:09:23.510Z"
   },
   {
    "duration": 22,
    "start_time": "2022-03-09T11:09:23.517Z"
   },
   {
    "duration": 12,
    "start_time": "2022-03-09T11:09:23.563Z"
   },
   {
    "duration": 22,
    "start_time": "2022-03-09T11:09:23.577Z"
   },
   {
    "duration": 14,
    "start_time": "2022-03-09T11:09:23.601Z"
   },
   {
    "duration": 9,
    "start_time": "2022-03-09T11:09:23.616Z"
   },
   {
    "duration": 41,
    "start_time": "2022-03-09T11:09:23.627Z"
   },
   {
    "duration": 5,
    "start_time": "2022-03-09T11:09:23.670Z"
   },
   {
    "duration": 10,
    "start_time": "2022-03-09T11:09:23.676Z"
   },
   {
    "duration": 21,
    "start_time": "2022-03-09T11:09:23.687Z"
   },
   {
    "duration": 98,
    "start_time": "2022-03-09T11:09:23.709Z"
   },
   {
    "duration": 64,
    "start_time": "2022-03-09T11:09:23.809Z"
   },
   {
    "duration": 41,
    "start_time": "2022-03-09T11:09:23.874Z"
   },
   {
    "duration": 6,
    "start_time": "2022-03-09T11:09:23.917Z"
   },
   {
    "duration": 616,
    "start_time": "2022-03-09T11:09:23.926Z"
   },
   {
    "duration": 1126,
    "start_time": "2022-03-09T11:11:50.094Z"
   },
   {
    "duration": 193,
    "start_time": "2022-03-09T11:11:59.677Z"
   },
   {
    "duration": 87,
    "start_time": "2022-03-09T11:13:29.958Z"
   },
   {
    "duration": 5516,
    "start_time": "2022-03-09T11:13:40.684Z"
   },
   {
    "duration": 5502,
    "start_time": "2022-03-09T11:13:51.034Z"
   },
   {
    "duration": 71,
    "start_time": "2022-03-09T11:14:23.843Z"
   },
   {
    "duration": 135,
    "start_time": "2022-03-09T11:15:04.601Z"
   },
   {
    "duration": 938,
    "start_time": "2022-03-09T11:16:36.119Z"
   },
   {
    "duration": 1015,
    "start_time": "2022-03-09T11:16:51.017Z"
   },
   {
    "duration": 14,
    "start_time": "2022-03-09T11:17:01.282Z"
   },
   {
    "duration": 19,
    "start_time": "2022-03-09T11:17:22.560Z"
   },
   {
    "duration": 65,
    "start_time": "2022-03-09T11:17:41.961Z"
   },
   {
    "duration": 43,
    "start_time": "2022-03-09T11:20:03.025Z"
   },
   {
    "duration": 229,
    "start_time": "2022-03-09T12:38:26.911Z"
   },
   {
    "duration": 7,
    "start_time": "2022-03-09T12:39:30.380Z"
   },
   {
    "duration": 43,
    "start_time": "2022-03-09T12:39:40.808Z"
   },
   {
    "duration": 6,
    "start_time": "2022-03-09T12:41:26.065Z"
   },
   {
    "duration": 9,
    "start_time": "2022-03-09T12:41:36.540Z"
   },
   {
    "duration": 7,
    "start_time": "2022-03-09T12:41:56.417Z"
   },
   {
    "duration": 9,
    "start_time": "2022-03-09T12:43:56.782Z"
   },
   {
    "duration": 8,
    "start_time": "2022-03-09T12:44:09.143Z"
   },
   {
    "duration": 6,
    "start_time": "2022-03-09T12:44:15.364Z"
   },
   {
    "duration": 7,
    "start_time": "2022-03-09T12:44:20.705Z"
   },
   {
    "duration": 70,
    "start_time": "2022-03-09T12:48:05.446Z"
   },
   {
    "duration": 75,
    "start_time": "2022-03-09T12:48:11.100Z"
   },
   {
    "duration": 232,
    "start_time": "2022-03-09T12:52:13.957Z"
   },
   {
    "duration": 259,
    "start_time": "2022-03-09T12:52:42.337Z"
   },
   {
    "duration": 225,
    "start_time": "2022-03-09T12:53:04.511Z"
   },
   {
    "duration": 248,
    "start_time": "2022-03-09T12:53:29.939Z"
   },
   {
    "duration": 259,
    "start_time": "2022-03-09T12:53:59.368Z"
   },
   {
    "duration": 229,
    "start_time": "2022-03-09T12:54:11.213Z"
   },
   {
    "duration": 83,
    "start_time": "2022-03-09T12:58:48.760Z"
   },
   {
    "duration": 75,
    "start_time": "2022-03-09T12:58:54.499Z"
   },
   {
    "duration": 260,
    "start_time": "2022-03-09T12:59:00.017Z"
   },
   {
    "duration": 6,
    "start_time": "2022-03-09T12:59:17.817Z"
   },
   {
    "duration": 10,
    "start_time": "2022-03-09T12:59:26.999Z"
   },
   {
    "duration": 76,
    "start_time": "2022-03-09T12:59:53.665Z"
   },
   {
    "duration": 9,
    "start_time": "2022-03-09T13:00:28.715Z"
   },
   {
    "duration": 8,
    "start_time": "2022-03-09T13:00:37.440Z"
   },
   {
    "duration": 8,
    "start_time": "2022-03-09T13:01:20.630Z"
   },
   {
    "duration": 7,
    "start_time": "2022-03-09T13:01:44.517Z"
   },
   {
    "duration": 6,
    "start_time": "2022-03-09T14:36:57.869Z"
   },
   {
    "duration": 6,
    "start_time": "2022-03-09T14:37:05.354Z"
   },
   {
    "duration": 6,
    "start_time": "2022-03-09T14:37:36.157Z"
   },
   {
    "duration": 7,
    "start_time": "2022-03-09T14:37:50.624Z"
   },
   {
    "duration": 45,
    "start_time": "2022-03-09T14:51:25.163Z"
   },
   {
    "duration": 253,
    "start_time": "2022-03-09T14:52:11.652Z"
   },
   {
    "duration": 218,
    "start_time": "2022-03-09T14:52:45.105Z"
   },
   {
    "duration": 46,
    "start_time": "2022-03-09T14:52:51.528Z"
   },
   {
    "duration": 10,
    "start_time": "2022-03-09T14:53:18.995Z"
   },
   {
    "duration": 5,
    "start_time": "2022-03-09T14:55:52.991Z"
   },
   {
    "duration": 26,
    "start_time": "2022-03-09T14:57:05.186Z"
   },
   {
    "duration": 588,
    "start_time": "2022-03-09T14:57:44.683Z"
   },
   {
    "duration": 80,
    "start_time": "2022-03-09T14:57:45.273Z"
   },
   {
    "duration": 14,
    "start_time": "2022-03-09T14:57:45.355Z"
   },
   {
    "duration": 42,
    "start_time": "2022-03-09T14:57:45.371Z"
   },
   {
    "duration": 7,
    "start_time": "2022-03-09T14:57:45.414Z"
   },
   {
    "duration": 6,
    "start_time": "2022-03-09T14:57:45.422Z"
   },
   {
    "duration": 35,
    "start_time": "2022-03-09T14:57:45.429Z"
   },
   {
    "duration": 5,
    "start_time": "2022-03-09T14:57:45.466Z"
   },
   {
    "duration": 8,
    "start_time": "2022-03-09T14:57:45.473Z"
   },
   {
    "duration": 7,
    "start_time": "2022-03-09T14:57:45.482Z"
   },
   {
    "duration": 5,
    "start_time": "2022-03-09T14:57:45.491Z"
   },
   {
    "duration": 14,
    "start_time": "2022-03-09T14:57:45.498Z"
   },
   {
    "duration": 6,
    "start_time": "2022-03-09T14:57:45.514Z"
   },
   {
    "duration": 5,
    "start_time": "2022-03-09T14:57:45.521Z"
   },
   {
    "duration": 11,
    "start_time": "2022-03-09T14:57:45.527Z"
   },
   {
    "duration": 27,
    "start_time": "2022-03-09T14:57:45.539Z"
   },
   {
    "duration": 5,
    "start_time": "2022-03-09T14:57:45.567Z"
   },
   {
    "duration": 11,
    "start_time": "2022-03-09T14:57:45.574Z"
   },
   {
    "duration": 7,
    "start_time": "2022-03-09T14:57:45.587Z"
   },
   {
    "duration": 14,
    "start_time": "2022-03-09T14:57:45.595Z"
   },
   {
    "duration": 10,
    "start_time": "2022-03-09T14:57:45.611Z"
   },
   {
    "duration": 47,
    "start_time": "2022-03-09T14:57:45.623Z"
   },
   {
    "duration": 14,
    "start_time": "2022-03-09T14:57:45.673Z"
   },
   {
    "duration": 9,
    "start_time": "2022-03-09T14:57:45.689Z"
   },
   {
    "duration": 13,
    "start_time": "2022-03-09T14:57:45.699Z"
   },
   {
    "duration": 5,
    "start_time": "2022-03-09T14:57:45.713Z"
   },
   {
    "duration": 11,
    "start_time": "2022-03-09T14:57:45.720Z"
   },
   {
    "duration": 44,
    "start_time": "2022-03-09T14:57:45.733Z"
   },
   {
    "duration": 102,
    "start_time": "2022-03-09T14:57:45.779Z"
   },
   {
    "duration": 37,
    "start_time": "2022-03-09T14:57:45.882Z"
   },
   {
    "duration": 69,
    "start_time": "2022-03-09T14:57:45.920Z"
   },
   {
    "duration": 6,
    "start_time": "2022-03-09T14:57:45.991Z"
   },
   {
    "duration": 66,
    "start_time": "2022-03-09T14:57:45.998Z"
   },
   {
    "duration": 150,
    "start_time": "2022-03-09T14:57:46.065Z"
   },
   {
    "duration": 7,
    "start_time": "2022-03-09T14:57:46.217Z"
   },
   {
    "duration": 44,
    "start_time": "2022-03-09T14:57:46.226Z"
   },
   {
    "duration": 11,
    "start_time": "2022-03-09T14:57:46.272Z"
   },
   {
    "duration": 1162,
    "start_time": "2022-03-09T14:58:21.620Z"
   },
   {
    "duration": 12,
    "start_time": "2022-03-09T14:58:46.202Z"
   },
   {
    "duration": 11,
    "start_time": "2022-03-09T15:00:31.163Z"
   },
   {
    "duration": 12,
    "start_time": "2022-03-09T15:01:18.720Z"
   },
   {
    "duration": 242,
    "start_time": "2022-03-09T15:01:37.159Z"
   },
   {
    "duration": 12,
    "start_time": "2022-03-09T15:01:44.504Z"
   },
   {
    "duration": 221,
    "start_time": "2022-03-09T15:01:56.325Z"
   },
   {
    "duration": 219,
    "start_time": "2022-03-09T15:01:59.067Z"
   },
   {
    "duration": 242,
    "start_time": "2022-03-09T15:02:08.630Z"
   },
   {
    "duration": 226,
    "start_time": "2022-03-09T15:02:14.525Z"
   },
   {
    "duration": 11,
    "start_time": "2022-03-09T15:02:27.551Z"
   },
   {
    "duration": 11,
    "start_time": "2022-03-09T15:03:09.323Z"
   },
   {
    "duration": 12,
    "start_time": "2022-03-09T15:03:20.613Z"
   },
   {
    "duration": 29,
    "start_time": "2022-03-09T15:05:46.265Z"
   },
   {
    "duration": 11,
    "start_time": "2022-03-09T15:06:42.413Z"
   },
   {
    "duration": 12,
    "start_time": "2022-03-09T15:06:45.452Z"
   },
   {
    "duration": 11,
    "start_time": "2022-03-09T15:06:58.102Z"
   },
   {
    "duration": 11,
    "start_time": "2022-03-09T15:07:13.865Z"
   },
   {
    "duration": 11,
    "start_time": "2022-03-09T15:07:29.505Z"
   },
   {
    "duration": 5,
    "start_time": "2022-03-09T15:11:04.828Z"
   },
   {
    "duration": 1017,
    "start_time": "2022-03-09T15:11:18.438Z"
   },
   {
    "duration": 1130,
    "start_time": "2022-03-09T15:11:29.697Z"
   },
   {
    "duration": 1121,
    "start_time": "2022-03-09T15:12:04.572Z"
   },
   {
    "duration": 1034,
    "start_time": "2022-03-09T15:13:19.063Z"
   },
   {
    "duration": 1015,
    "start_time": "2022-03-09T15:13:39.191Z"
   },
   {
    "duration": 78,
    "start_time": "2022-03-09T15:14:25.949Z"
   },
   {
    "duration": 1155,
    "start_time": "2022-03-09T15:14:30.628Z"
   },
   {
    "duration": 4,
    "start_time": "2022-03-09T15:15:24.996Z"
   },
   {
    "duration": 206,
    "start_time": "2022-03-09T15:19:42.901Z"
   },
   {
    "duration": 5576,
    "start_time": "2022-03-09T15:20:03.373Z"
   },
   {
    "duration": 5,
    "start_time": "2022-03-09T15:20:17.142Z"
   },
   {
    "duration": 5,
    "start_time": "2022-03-09T15:20:36.340Z"
   },
   {
    "duration": 5,
    "start_time": "2022-03-09T15:21:14.605Z"
   },
   {
    "duration": 222,
    "start_time": "2022-03-09T15:21:16.809Z"
   },
   {
    "duration": 243,
    "start_time": "2022-03-09T15:29:34.944Z"
   },
   {
    "duration": 71,
    "start_time": "2022-03-09T15:30:01.386Z"
   },
   {
    "duration": 741,
    "start_time": "2022-03-09T15:30:39.794Z"
   },
   {
    "duration": 78,
    "start_time": "2022-03-09T15:30:40.537Z"
   },
   {
    "duration": 16,
    "start_time": "2022-03-09T15:30:40.617Z"
   },
   {
    "duration": 61,
    "start_time": "2022-03-09T15:30:40.636Z"
   },
   {
    "duration": 9,
    "start_time": "2022-03-09T15:30:40.699Z"
   },
   {
    "duration": 6,
    "start_time": "2022-03-09T15:30:40.710Z"
   },
   {
    "duration": 10,
    "start_time": "2022-03-09T15:30:40.718Z"
   },
   {
    "duration": 36,
    "start_time": "2022-03-09T15:30:40.730Z"
   },
   {
    "duration": 6,
    "start_time": "2022-03-09T15:30:40.770Z"
   },
   {
    "duration": 11,
    "start_time": "2022-03-09T15:30:40.778Z"
   },
   {
    "duration": 5,
    "start_time": "2022-03-09T15:30:40.792Z"
   },
   {
    "duration": 11,
    "start_time": "2022-03-09T15:30:40.799Z"
   },
   {
    "duration": 6,
    "start_time": "2022-03-09T15:30:40.811Z"
   },
   {
    "duration": 6,
    "start_time": "2022-03-09T15:30:40.819Z"
   },
   {
    "duration": 10,
    "start_time": "2022-03-09T15:30:40.827Z"
   },
   {
    "duration": 39,
    "start_time": "2022-03-09T15:30:40.838Z"
   },
   {
    "duration": 6,
    "start_time": "2022-03-09T15:30:40.879Z"
   },
   {
    "duration": 14,
    "start_time": "2022-03-09T15:30:40.887Z"
   },
   {
    "duration": 6,
    "start_time": "2022-03-09T15:30:40.903Z"
   },
   {
    "duration": 21,
    "start_time": "2022-03-09T15:30:40.911Z"
   },
   {
    "duration": 41,
    "start_time": "2022-03-09T15:30:40.934Z"
   },
   {
    "duration": 24,
    "start_time": "2022-03-09T15:30:40.977Z"
   },
   {
    "duration": 13,
    "start_time": "2022-03-09T15:30:41.005Z"
   },
   {
    "duration": 10,
    "start_time": "2022-03-09T15:30:41.021Z"
   },
   {
    "duration": 12,
    "start_time": "2022-03-09T15:30:41.063Z"
   },
   {
    "duration": 7,
    "start_time": "2022-03-09T15:30:41.077Z"
   },
   {
    "duration": 8,
    "start_time": "2022-03-09T15:30:41.086Z"
   },
   {
    "duration": 25,
    "start_time": "2022-03-09T15:30:41.096Z"
   },
   {
    "duration": 154,
    "start_time": "2022-03-09T15:30:41.123Z"
   },
   {
    "duration": 58,
    "start_time": "2022-03-09T15:30:41.280Z"
   },
   {
    "duration": 84,
    "start_time": "2022-03-09T15:30:41.340Z"
   },
   {
    "duration": 73,
    "start_time": "2022-03-09T15:30:41.426Z"
   },
   {
    "duration": 2,
    "start_time": "2022-03-09T15:30:41.501Z"
   },
   {
    "duration": 9,
    "start_time": "2022-03-09T15:30:41.505Z"
   },
   {
    "duration": 335,
    "start_time": "2022-03-09T15:30:41.516Z"
   },
   {
    "duration": 566,
    "start_time": "2022-03-09T15:37:24.204Z"
   },
   {
    "duration": 882,
    "start_time": "2022-03-09T15:37:37.215Z"
   },
   {
    "duration": 587,
    "start_time": "2022-03-09T15:38:08.205Z"
   },
   {
    "duration": 560,
    "start_time": "2022-03-09T15:38:48.305Z"
   },
   {
    "duration": 594,
    "start_time": "2022-03-09T15:40:10.055Z"
   },
   {
    "duration": 647,
    "start_time": "2022-03-09T15:40:17.760Z"
   },
   {
    "duration": 646,
    "start_time": "2022-03-09T15:40:34.157Z"
   },
   {
    "duration": 604,
    "start_time": "2022-03-09T15:41:17.266Z"
   },
   {
    "duration": 600,
    "start_time": "2022-03-09T15:44:40.427Z"
   },
   {
    "duration": 76,
    "start_time": "2022-03-09T15:44:41.029Z"
   },
   {
    "duration": 13,
    "start_time": "2022-03-09T15:44:41.107Z"
   },
   {
    "duration": 61,
    "start_time": "2022-03-09T15:44:41.122Z"
   },
   {
    "duration": 7,
    "start_time": "2022-03-09T15:44:41.184Z"
   },
   {
    "duration": 6,
    "start_time": "2022-03-09T15:44:41.193Z"
   },
   {
    "duration": 9,
    "start_time": "2022-03-09T15:44:41.200Z"
   },
   {
    "duration": 4,
    "start_time": "2022-03-09T15:44:41.212Z"
   },
   {
    "duration": 4,
    "start_time": "2022-03-09T15:44:41.218Z"
   },
   {
    "duration": 39,
    "start_time": "2022-03-09T15:44:41.224Z"
   },
   {
    "duration": 11,
    "start_time": "2022-03-09T15:44:41.265Z"
   },
   {
    "duration": 4,
    "start_time": "2022-03-09T15:44:41.278Z"
   },
   {
    "duration": 4,
    "start_time": "2022-03-09T15:44:41.284Z"
   },
   {
    "duration": 7,
    "start_time": "2022-03-09T15:44:41.290Z"
   },
   {
    "duration": 9,
    "start_time": "2022-03-09T15:44:41.298Z"
   },
   {
    "duration": 12,
    "start_time": "2022-03-09T15:44:41.309Z"
   },
   {
    "duration": 6,
    "start_time": "2022-03-09T15:44:41.322Z"
   },
   {
    "duration": 36,
    "start_time": "2022-03-09T15:44:41.330Z"
   },
   {
    "duration": 5,
    "start_time": "2022-03-09T15:44:41.368Z"
   },
   {
    "duration": 21,
    "start_time": "2022-03-09T15:44:41.375Z"
   },
   {
    "duration": 16,
    "start_time": "2022-03-09T15:44:41.398Z"
   },
   {
    "duration": 49,
    "start_time": "2022-03-09T15:44:41.416Z"
   },
   {
    "duration": 16,
    "start_time": "2022-03-09T15:44:41.469Z"
   },
   {
    "duration": 10,
    "start_time": "2022-03-09T15:44:41.487Z"
   },
   {
    "duration": 8,
    "start_time": "2022-03-09T15:44:41.499Z"
   },
   {
    "duration": 6,
    "start_time": "2022-03-09T15:44:41.509Z"
   },
   {
    "duration": 19,
    "start_time": "2022-03-09T15:44:41.517Z"
   },
   {
    "duration": 50,
    "start_time": "2022-03-09T15:44:41.537Z"
   },
   {
    "duration": 116,
    "start_time": "2022-03-09T15:44:41.589Z"
   },
   {
    "duration": 70,
    "start_time": "2022-03-09T15:44:41.707Z"
   },
   {
    "duration": 53,
    "start_time": "2022-03-09T15:44:41.779Z"
   },
   {
    "duration": 99,
    "start_time": "2022-03-09T15:44:41.834Z"
   },
   {
    "duration": 940,
    "start_time": "2022-03-09T15:44:41.935Z"
   },
   {
    "duration": 44,
    "start_time": "2022-03-09T15:48:56.383Z"
   },
   {
    "duration": 406,
    "start_time": "2022-03-10T12:42:20.144Z"
   },
   {
    "duration": 595,
    "start_time": "2022-03-10T12:42:25.567Z"
   },
   {
    "duration": 77,
    "start_time": "2022-03-10T12:42:26.164Z"
   },
   {
    "duration": 13,
    "start_time": "2022-03-10T12:42:26.243Z"
   },
   {
    "duration": 68,
    "start_time": "2022-03-10T12:42:26.259Z"
   },
   {
    "duration": 9,
    "start_time": "2022-03-10T12:42:26.329Z"
   },
   {
    "duration": 8,
    "start_time": "2022-03-10T12:42:26.340Z"
   },
   {
    "duration": 9,
    "start_time": "2022-03-10T12:42:26.350Z"
   },
   {
    "duration": 3,
    "start_time": "2022-03-10T12:42:26.362Z"
   },
   {
    "duration": 33,
    "start_time": "2022-03-10T12:42:26.368Z"
   },
   {
    "duration": 6,
    "start_time": "2022-03-10T12:42:26.404Z"
   },
   {
    "duration": 7,
    "start_time": "2022-03-10T12:42:26.420Z"
   },
   {
    "duration": 28,
    "start_time": "2022-03-10T12:42:26.428Z"
   },
   {
    "duration": 17,
    "start_time": "2022-03-10T12:42:26.459Z"
   },
   {
    "duration": 19,
    "start_time": "2022-03-10T12:42:26.478Z"
   },
   {
    "duration": 31,
    "start_time": "2022-03-10T12:42:26.498Z"
   },
   {
    "duration": 22,
    "start_time": "2022-03-10T12:42:26.531Z"
   },
   {
    "duration": 5,
    "start_time": "2022-03-10T12:42:26.555Z"
   },
   {
    "duration": 20,
    "start_time": "2022-03-10T12:42:26.562Z"
   },
   {
    "duration": 17,
    "start_time": "2022-03-10T12:42:26.583Z"
   },
   {
    "duration": 31,
    "start_time": "2022-03-10T12:42:26.603Z"
   },
   {
    "duration": 12,
    "start_time": "2022-03-10T12:42:26.636Z"
   },
   {
    "duration": 21,
    "start_time": "2022-03-10T12:42:26.650Z"
   },
   {
    "duration": 15,
    "start_time": "2022-03-10T12:42:26.674Z"
   },
   {
    "duration": 15,
    "start_time": "2022-03-10T12:42:26.691Z"
   },
   {
    "duration": 19,
    "start_time": "2022-03-10T12:42:26.709Z"
   },
   {
    "duration": 14,
    "start_time": "2022-03-10T12:42:26.729Z"
   },
   {
    "duration": 23,
    "start_time": "2022-03-10T12:42:26.745Z"
   },
   {
    "duration": 35,
    "start_time": "2022-03-10T12:42:26.769Z"
   },
   {
    "duration": 115,
    "start_time": "2022-03-10T12:42:26.807Z"
   },
   {
    "duration": 35,
    "start_time": "2022-03-10T12:42:26.924Z"
   },
   {
    "duration": 65,
    "start_time": "2022-03-10T12:42:26.961Z"
   },
   {
    "duration": 59,
    "start_time": "2022-03-10T12:42:27.027Z"
   },
   {
    "duration": 653,
    "start_time": "2022-03-10T12:42:27.088Z"
   },
   {
    "duration": 43,
    "start_time": "2022-03-10T12:42:27.742Z"
   },
   {
    "duration": 288,
    "start_time": "2022-03-10T12:42:27.787Z"
   },
   {
    "duration": 200,
    "start_time": "2022-03-10T12:49:29.461Z"
   },
   {
    "duration": 160,
    "start_time": "2022-03-10T13:19:51.238Z"
   },
   {
    "duration": 171,
    "start_time": "2022-03-10T13:20:07.422Z"
   },
   {
    "duration": 175,
    "start_time": "2022-03-10T13:20:16.176Z"
   },
   {
    "duration": 166,
    "start_time": "2022-03-10T13:20:55.528Z"
   },
   {
    "duration": 175,
    "start_time": "2022-03-10T13:21:08.861Z"
   },
   {
    "duration": 1254,
    "start_time": "2022-03-10T13:23:12.668Z"
   },
   {
    "duration": 159,
    "start_time": "2022-03-10T13:23:25.273Z"
   },
   {
    "duration": 179,
    "start_time": "2022-03-10T13:23:35.784Z"
   },
   {
    "duration": 191,
    "start_time": "2022-03-10T13:23:44.991Z"
   },
   {
    "duration": 180,
    "start_time": "2022-03-10T13:23:51.561Z"
   },
   {
    "duration": 226,
    "start_time": "2022-03-10T13:24:08.926Z"
   },
   {
    "duration": 185,
    "start_time": "2022-03-10T13:24:19.403Z"
   },
   {
    "duration": 193,
    "start_time": "2022-03-10T13:24:25.703Z"
   },
   {
    "duration": 178,
    "start_time": "2022-03-10T13:27:41.350Z"
   },
   {
    "duration": 184,
    "start_time": "2022-03-10T13:28:18.783Z"
   },
   {
    "duration": 177,
    "start_time": "2022-03-10T13:28:35.586Z"
   },
   {
    "duration": 167,
    "start_time": "2022-03-10T15:02:06.077Z"
   },
   {
    "duration": 171,
    "start_time": "2022-03-10T15:03:54.704Z"
   },
   {
    "duration": 171,
    "start_time": "2022-03-10T15:04:05.682Z"
   },
   {
    "duration": 170,
    "start_time": "2022-03-10T15:09:41.566Z"
   },
   {
    "duration": 4,
    "start_time": "2022-03-10T15:13:36.413Z"
   },
   {
    "duration": 4,
    "start_time": "2022-03-10T15:14:53.960Z"
   },
   {
    "duration": 8,
    "start_time": "2022-03-10T15:22:09.468Z"
   },
   {
    "duration": 7,
    "start_time": "2022-03-10T15:22:57.027Z"
   },
   {
    "duration": 167,
    "start_time": "2022-03-10T15:37:58.474Z"
   },
   {
    "duration": 7,
    "start_time": "2022-03-10T15:38:17.858Z"
   },
   {
    "duration": 4,
    "start_time": "2022-03-10T15:38:55.077Z"
   },
   {
    "duration": 4,
    "start_time": "2022-03-10T15:39:13.929Z"
   },
   {
    "duration": 4,
    "start_time": "2022-03-10T15:40:31.541Z"
   },
   {
    "duration": 338,
    "start_time": "2022-03-10T15:40:50.651Z"
   },
   {
    "duration": 6,
    "start_time": "2022-03-10T15:41:04.949Z"
   },
   {
    "duration": 6,
    "start_time": "2022-03-10T15:41:54.154Z"
   },
   {
    "duration": 293,
    "start_time": "2022-03-10T15:47:03.321Z"
   },
   {
    "duration": 171,
    "start_time": "2022-03-10T15:48:29.989Z"
   },
   {
    "duration": 108,
    "start_time": "2022-03-10T15:48:40.070Z"
   },
   {
    "duration": 12,
    "start_time": "2022-03-10T15:49:18.132Z"
   },
   {
    "duration": 11,
    "start_time": "2022-03-10T15:50:56.017Z"
   },
   {
    "duration": 305,
    "start_time": "2022-03-10T15:51:27.071Z"
   },
   {
    "duration": 46,
    "start_time": "2022-03-10T15:51:35.872Z"
   },
   {
    "duration": 623,
    "start_time": "2022-03-10T15:51:56.676Z"
   },
   {
    "duration": 73,
    "start_time": "2022-03-10T15:51:57.301Z"
   },
   {
    "duration": 12,
    "start_time": "2022-03-10T15:51:57.376Z"
   },
   {
    "duration": 39,
    "start_time": "2022-03-10T15:51:57.390Z"
   },
   {
    "duration": 6,
    "start_time": "2022-03-10T15:51:57.431Z"
   },
   {
    "duration": 12,
    "start_time": "2022-03-10T15:51:57.438Z"
   },
   {
    "duration": 7,
    "start_time": "2022-03-10T15:51:57.451Z"
   },
   {
    "duration": 3,
    "start_time": "2022-03-10T15:51:57.461Z"
   },
   {
    "duration": 4,
    "start_time": "2022-03-10T15:51:57.466Z"
   },
   {
    "duration": 30,
    "start_time": "2022-03-10T15:51:57.471Z"
   },
   {
    "duration": 5,
    "start_time": "2022-03-10T15:51:57.503Z"
   },
   {
    "duration": 6,
    "start_time": "2022-03-10T15:51:57.509Z"
   },
   {
    "duration": 12,
    "start_time": "2022-03-10T15:51:57.517Z"
   },
   {
    "duration": 8,
    "start_time": "2022-03-10T15:51:57.531Z"
   },
   {
    "duration": 7,
    "start_time": "2022-03-10T15:51:57.541Z"
   },
   {
    "duration": 12,
    "start_time": "2022-03-10T15:51:57.549Z"
   },
   {
    "duration": 4,
    "start_time": "2022-03-10T15:51:57.563Z"
   },
   {
    "duration": 12,
    "start_time": "2022-03-10T15:51:57.569Z"
   },
   {
    "duration": 20,
    "start_time": "2022-03-10T15:51:57.582Z"
   },
   {
    "duration": 9,
    "start_time": "2022-03-10T15:51:57.604Z"
   },
   {
    "duration": 10,
    "start_time": "2022-03-10T15:51:57.614Z"
   },
   {
    "duration": 21,
    "start_time": "2022-03-10T15:51:57.625Z"
   },
   {
    "duration": 11,
    "start_time": "2022-03-10T15:51:57.649Z"
   },
   {
    "duration": 7,
    "start_time": "2022-03-10T15:51:57.662Z"
   },
   {
    "duration": 10,
    "start_time": "2022-03-10T15:51:57.701Z"
   },
   {
    "duration": 5,
    "start_time": "2022-03-10T15:51:57.712Z"
   },
   {
    "duration": 12,
    "start_time": "2022-03-10T15:51:57.719Z"
   },
   {
    "duration": 23,
    "start_time": "2022-03-10T15:51:57.732Z"
   },
   {
    "duration": 83,
    "start_time": "2022-03-10T15:51:57.756Z"
   },
   {
    "duration": 32,
    "start_time": "2022-03-10T15:51:57.841Z"
   },
   {
    "duration": 57,
    "start_time": "2022-03-10T15:51:57.875Z"
   },
   {
    "duration": 50,
    "start_time": "2022-03-10T15:51:57.934Z"
   },
   {
    "duration": 578,
    "start_time": "2022-03-10T15:51:57.985Z"
   },
   {
    "duration": 44,
    "start_time": "2022-03-10T15:51:58.565Z"
   },
   {
    "duration": 281,
    "start_time": "2022-03-10T15:51:58.611Z"
   },
   {
    "duration": 170,
    "start_time": "2022-03-10T15:51:58.901Z"
   },
   {
    "duration": 169,
    "start_time": "2022-03-10T15:51:59.073Z"
   },
   {
    "duration": 179,
    "start_time": "2022-03-10T15:51:59.244Z"
   },
   {
    "duration": 196,
    "start_time": "2022-03-10T15:51:59.425Z"
   },
   {
    "duration": 8,
    "start_time": "2022-03-10T15:51:59.623Z"
   },
   {
    "duration": 6,
    "start_time": "2022-03-10T15:51:59.633Z"
   },
   {
    "duration": 131,
    "start_time": "2022-03-10T15:51:59.641Z"
   },
   {
    "duration": 21,
    "start_time": "2022-03-10T15:53:00.880Z"
   },
   {
    "duration": 10,
    "start_time": "2022-03-10T15:53:29.214Z"
   },
   {
    "duration": 12,
    "start_time": "2022-03-10T15:53:59.997Z"
   },
   {
    "duration": 13,
    "start_time": "2022-03-10T15:54:19.871Z"
   },
   {
    "duration": 50,
    "start_time": "2022-03-10T15:54:47.208Z"
   },
   {
    "duration": 12,
    "start_time": "2022-03-10T15:55:42.753Z"
   },
   {
    "duration": 9,
    "start_time": "2022-03-10T15:56:18.068Z"
   },
   {
    "duration": 46,
    "start_time": "2022-03-10T15:58:06.135Z"
   },
   {
    "duration": 571,
    "start_time": "2022-03-10T15:58:19.237Z"
   },
   {
    "duration": 84,
    "start_time": "2022-03-10T15:58:19.809Z"
   },
   {
    "duration": 12,
    "start_time": "2022-03-10T15:58:19.895Z"
   },
   {
    "duration": 37,
    "start_time": "2022-03-10T15:58:19.908Z"
   },
   {
    "duration": 6,
    "start_time": "2022-03-10T15:58:19.947Z"
   },
   {
    "duration": 6,
    "start_time": "2022-03-10T15:58:19.955Z"
   },
   {
    "duration": 8,
    "start_time": "2022-03-10T15:58:19.963Z"
   },
   {
    "duration": 31,
    "start_time": "2022-03-10T15:58:19.974Z"
   },
   {
    "duration": 5,
    "start_time": "2022-03-10T15:58:20.008Z"
   },
   {
    "duration": 7,
    "start_time": "2022-03-10T15:58:20.015Z"
   },
   {
    "duration": 5,
    "start_time": "2022-03-10T15:58:20.023Z"
   },
   {
    "duration": 6,
    "start_time": "2022-03-10T15:58:20.030Z"
   },
   {
    "duration": 8,
    "start_time": "2022-03-10T15:58:20.038Z"
   },
   {
    "duration": 11,
    "start_time": "2022-03-10T15:58:20.048Z"
   },
   {
    "duration": 10,
    "start_time": "2022-03-10T15:58:20.061Z"
   },
   {
    "duration": 12,
    "start_time": "2022-03-10T15:58:20.073Z"
   },
   {
    "duration": 4,
    "start_time": "2022-03-10T15:58:20.101Z"
   },
   {
    "duration": 10,
    "start_time": "2022-03-10T15:58:20.107Z"
   },
   {
    "duration": 7,
    "start_time": "2022-03-10T15:58:20.118Z"
   },
   {
    "duration": 16,
    "start_time": "2022-03-10T15:58:20.126Z"
   },
   {
    "duration": 9,
    "start_time": "2022-03-10T15:58:20.144Z"
   },
   {
    "duration": 18,
    "start_time": "2022-03-10T15:58:20.155Z"
   },
   {
    "duration": 32,
    "start_time": "2022-03-10T15:58:20.176Z"
   },
   {
    "duration": 7,
    "start_time": "2022-03-10T15:58:20.210Z"
   },
   {
    "duration": 6,
    "start_time": "2022-03-10T15:58:20.219Z"
   },
   {
    "duration": 8,
    "start_time": "2022-03-10T15:58:20.227Z"
   },
   {
    "duration": 8,
    "start_time": "2022-03-10T15:58:20.236Z"
   },
   {
    "duration": 22,
    "start_time": "2022-03-10T15:58:20.246Z"
   },
   {
    "duration": 83,
    "start_time": "2022-03-10T15:58:20.269Z"
   },
   {
    "duration": 68,
    "start_time": "2022-03-10T15:58:20.354Z"
   },
   {
    "duration": 36,
    "start_time": "2022-03-10T15:58:20.424Z"
   },
   {
    "duration": 68,
    "start_time": "2022-03-10T15:58:20.461Z"
   },
   {
    "duration": 563,
    "start_time": "2022-03-10T15:58:20.530Z"
   },
   {
    "duration": 44,
    "start_time": "2022-03-10T15:58:21.095Z"
   },
   {
    "duration": 275,
    "start_time": "2022-03-10T15:58:21.140Z"
   },
   {
    "duration": 178,
    "start_time": "2022-03-10T15:58:21.416Z"
   },
   {
    "duration": 166,
    "start_time": "2022-03-10T15:58:21.600Z"
   },
   {
    "duration": 183,
    "start_time": "2022-03-10T15:58:21.767Z"
   },
   {
    "duration": 178,
    "start_time": "2022-03-10T15:58:21.951Z"
   },
   {
    "duration": 7,
    "start_time": "2022-03-10T15:58:22.131Z"
   },
   {
    "duration": 5,
    "start_time": "2022-03-10T15:58:22.139Z"
   },
   {
    "duration": 120,
    "start_time": "2022-03-10T15:58:22.145Z"
   },
   {
    "duration": 105,
    "start_time": "2022-03-10T15:59:38.205Z"
   },
   {
    "duration": 596,
    "start_time": "2022-03-10T15:59:45.405Z"
   },
   {
    "duration": 86,
    "start_time": "2022-03-10T15:59:46.003Z"
   },
   {
    "duration": 11,
    "start_time": "2022-03-10T15:59:46.091Z"
   },
   {
    "duration": 35,
    "start_time": "2022-03-10T15:59:46.104Z"
   },
   {
    "duration": 6,
    "start_time": "2022-03-10T15:59:46.141Z"
   },
   {
    "duration": 5,
    "start_time": "2022-03-10T15:59:46.149Z"
   },
   {
    "duration": 7,
    "start_time": "2022-03-10T15:59:46.155Z"
   },
   {
    "duration": 4,
    "start_time": "2022-03-10T15:59:46.163Z"
   },
   {
    "duration": 32,
    "start_time": "2022-03-10T15:59:46.169Z"
   },
   {
    "duration": 4,
    "start_time": "2022-03-10T15:59:46.203Z"
   },
   {
    "duration": 5,
    "start_time": "2022-03-10T15:59:46.208Z"
   },
   {
    "duration": 5,
    "start_time": "2022-03-10T15:59:46.215Z"
   },
   {
    "duration": 8,
    "start_time": "2022-03-10T15:59:46.221Z"
   },
   {
    "duration": 8,
    "start_time": "2022-03-10T15:59:46.230Z"
   },
   {
    "duration": 7,
    "start_time": "2022-03-10T15:59:46.240Z"
   },
   {
    "duration": 14,
    "start_time": "2022-03-10T15:59:46.249Z"
   },
   {
    "duration": 3,
    "start_time": "2022-03-10T15:59:46.265Z"
   },
   {
    "duration": 11,
    "start_time": "2022-03-10T15:59:46.270Z"
   },
   {
    "duration": 6,
    "start_time": "2022-03-10T15:59:46.283Z"
   },
   {
    "duration": 18,
    "start_time": "2022-03-10T15:59:46.291Z"
   },
   {
    "duration": 10,
    "start_time": "2022-03-10T15:59:46.310Z"
   },
   {
    "duration": 19,
    "start_time": "2022-03-10T15:59:46.321Z"
   },
   {
    "duration": 12,
    "start_time": "2022-03-10T15:59:46.341Z"
   },
   {
    "duration": 6,
    "start_time": "2022-03-10T15:59:46.355Z"
   },
   {
    "duration": 39,
    "start_time": "2022-03-10T15:59:46.363Z"
   },
   {
    "duration": 4,
    "start_time": "2022-03-10T15:59:46.404Z"
   },
   {
    "duration": 7,
    "start_time": "2022-03-10T15:59:46.411Z"
   },
   {
    "duration": 20,
    "start_time": "2022-03-10T15:59:46.419Z"
   },
   {
    "duration": 88,
    "start_time": "2022-03-10T15:59:46.440Z"
   },
   {
    "duration": 31,
    "start_time": "2022-03-10T15:59:46.529Z"
   },
   {
    "duration": 65,
    "start_time": "2022-03-10T15:59:46.561Z"
   },
   {
    "duration": 58,
    "start_time": "2022-03-10T15:59:46.627Z"
   },
   {
    "duration": 567,
    "start_time": "2022-03-10T15:59:46.687Z"
   },
   {
    "duration": 47,
    "start_time": "2022-03-10T15:59:47.255Z"
   },
   {
    "duration": 283,
    "start_time": "2022-03-10T15:59:47.304Z"
   },
   {
    "duration": 185,
    "start_time": "2022-03-10T15:59:47.588Z"
   },
   {
    "duration": 175,
    "start_time": "2022-03-10T15:59:47.775Z"
   },
   {
    "duration": 186,
    "start_time": "2022-03-10T15:59:47.952Z"
   },
   {
    "duration": 186,
    "start_time": "2022-03-10T15:59:48.140Z"
   },
   {
    "duration": 7,
    "start_time": "2022-03-10T15:59:48.327Z"
   },
   {
    "duration": 4,
    "start_time": "2022-03-10T15:59:48.336Z"
   },
   {
    "duration": 120,
    "start_time": "2022-03-10T15:59:48.342Z"
   },
   {
    "duration": 114,
    "start_time": "2022-03-10T16:00:06.286Z"
   },
   {
    "duration": 109,
    "start_time": "2022-03-10T16:00:23.609Z"
   },
   {
    "duration": 542,
    "start_time": "2022-03-10T16:00:44.953Z"
   },
   {
    "duration": 84,
    "start_time": "2022-03-10T16:00:45.496Z"
   },
   {
    "duration": 13,
    "start_time": "2022-03-10T16:00:45.582Z"
   },
   {
    "duration": 38,
    "start_time": "2022-03-10T16:00:45.596Z"
   },
   {
    "duration": 7,
    "start_time": "2022-03-10T16:00:45.635Z"
   },
   {
    "duration": 6,
    "start_time": "2022-03-10T16:00:45.644Z"
   },
   {
    "duration": 8,
    "start_time": "2022-03-10T16:00:45.651Z"
   },
   {
    "duration": 4,
    "start_time": "2022-03-10T16:00:45.661Z"
   },
   {
    "duration": 4,
    "start_time": "2022-03-10T16:00:45.667Z"
   },
   {
    "duration": 32,
    "start_time": "2022-03-10T16:00:45.672Z"
   },
   {
    "duration": 4,
    "start_time": "2022-03-10T16:00:45.705Z"
   },
   {
    "duration": 7,
    "start_time": "2022-03-10T16:00:45.711Z"
   },
   {
    "duration": 7,
    "start_time": "2022-03-10T16:00:45.720Z"
   },
   {
    "duration": 9,
    "start_time": "2022-03-10T16:00:45.728Z"
   },
   {
    "duration": 9,
    "start_time": "2022-03-10T16:00:45.738Z"
   },
   {
    "duration": 16,
    "start_time": "2022-03-10T16:00:45.748Z"
   },
   {
    "duration": 5,
    "start_time": "2022-03-10T16:00:45.765Z"
   },
   {
    "duration": 13,
    "start_time": "2022-03-10T16:00:45.771Z"
   },
   {
    "duration": 15,
    "start_time": "2022-03-10T16:00:45.786Z"
   },
   {
    "duration": 10,
    "start_time": "2022-03-10T16:00:45.802Z"
   },
   {
    "duration": 12,
    "start_time": "2022-03-10T16:00:45.813Z"
   },
   {
    "duration": 22,
    "start_time": "2022-03-10T16:00:45.826Z"
   },
   {
    "duration": 12,
    "start_time": "2022-03-10T16:00:45.852Z"
   },
   {
    "duration": 37,
    "start_time": "2022-03-10T16:00:45.865Z"
   },
   {
    "duration": 7,
    "start_time": "2022-03-10T16:00:45.903Z"
   },
   {
    "duration": 5,
    "start_time": "2022-03-10T16:00:45.911Z"
   },
   {
    "duration": 10,
    "start_time": "2022-03-10T16:00:45.917Z"
   },
   {
    "duration": 21,
    "start_time": "2022-03-10T16:00:45.928Z"
   },
   {
    "duration": 91,
    "start_time": "2022-03-10T16:00:45.951Z"
   },
   {
    "duration": 59,
    "start_time": "2022-03-10T16:00:46.043Z"
   },
   {
    "duration": 36,
    "start_time": "2022-03-10T16:00:46.104Z"
   },
   {
    "duration": 66,
    "start_time": "2022-03-10T16:00:46.142Z"
   },
   {
    "duration": 574,
    "start_time": "2022-03-10T16:00:46.209Z"
   },
   {
    "duration": 49,
    "start_time": "2022-03-10T16:00:46.784Z"
   },
   {
    "duration": 284,
    "start_time": "2022-03-10T16:00:46.834Z"
   },
   {
    "duration": 182,
    "start_time": "2022-03-10T16:00:47.119Z"
   },
   {
    "duration": 178,
    "start_time": "2022-03-10T16:00:47.303Z"
   },
   {
    "duration": 182,
    "start_time": "2022-03-10T16:00:47.483Z"
   },
   {
    "duration": 176,
    "start_time": "2022-03-10T16:00:47.667Z"
   },
   {
    "duration": 7,
    "start_time": "2022-03-10T16:00:47.845Z"
   },
   {
    "duration": 5,
    "start_time": "2022-03-10T16:00:47.853Z"
   },
   {
    "duration": 127,
    "start_time": "2022-03-10T16:00:47.859Z"
   },
   {
    "duration": 118,
    "start_time": "2022-03-10T16:01:08.302Z"
   },
   {
    "duration": 519,
    "start_time": "2022-03-10T16:01:14.849Z"
   },
   {
    "duration": 72,
    "start_time": "2022-03-10T16:01:15.370Z"
   },
   {
    "duration": 12,
    "start_time": "2022-03-10T16:01:15.444Z"
   },
   {
    "duration": 53,
    "start_time": "2022-03-10T16:01:15.458Z"
   },
   {
    "duration": 8,
    "start_time": "2022-03-10T16:01:15.512Z"
   },
   {
    "duration": 6,
    "start_time": "2022-03-10T16:01:15.522Z"
   },
   {
    "duration": 8,
    "start_time": "2022-03-10T16:01:15.529Z"
   },
   {
    "duration": 4,
    "start_time": "2022-03-10T16:01:15.539Z"
   },
   {
    "duration": 4,
    "start_time": "2022-03-10T16:01:15.547Z"
   },
   {
    "duration": 48,
    "start_time": "2022-03-10T16:01:15.553Z"
   },
   {
    "duration": 4,
    "start_time": "2022-03-10T16:01:15.603Z"
   },
   {
    "duration": 5,
    "start_time": "2022-03-10T16:01:15.608Z"
   },
   {
    "duration": 5,
    "start_time": "2022-03-10T16:01:15.615Z"
   },
   {
    "duration": 5,
    "start_time": "2022-03-10T16:01:15.621Z"
   },
   {
    "duration": 9,
    "start_time": "2022-03-10T16:01:15.628Z"
   },
   {
    "duration": 13,
    "start_time": "2022-03-10T16:01:15.638Z"
   },
   {
    "duration": 6,
    "start_time": "2022-03-10T16:01:15.653Z"
   },
   {
    "duration": 10,
    "start_time": "2022-03-10T16:01:15.660Z"
   },
   {
    "duration": 31,
    "start_time": "2022-03-10T16:01:15.671Z"
   },
   {
    "duration": 10,
    "start_time": "2022-03-10T16:01:15.704Z"
   },
   {
    "duration": 11,
    "start_time": "2022-03-10T16:01:15.716Z"
   },
   {
    "duration": 20,
    "start_time": "2022-03-10T16:01:15.728Z"
   },
   {
    "duration": 12,
    "start_time": "2022-03-10T16:01:15.749Z"
   },
   {
    "duration": 8,
    "start_time": "2022-03-10T16:01:15.763Z"
   },
   {
    "duration": 7,
    "start_time": "2022-03-10T16:01:15.801Z"
   },
   {
    "duration": 4,
    "start_time": "2022-03-10T16:01:15.810Z"
   },
   {
    "duration": 11,
    "start_time": "2022-03-10T16:01:15.817Z"
   },
   {
    "duration": 19,
    "start_time": "2022-03-10T16:01:15.830Z"
   },
   {
    "duration": 97,
    "start_time": "2022-03-10T16:01:15.851Z"
   },
   {
    "duration": 65,
    "start_time": "2022-03-10T16:01:15.950Z"
   },
   {
    "duration": 38,
    "start_time": "2022-03-10T16:01:16.017Z"
   },
   {
    "duration": 73,
    "start_time": "2022-03-10T16:01:16.056Z"
   },
   {
    "duration": 558,
    "start_time": "2022-03-10T16:01:16.131Z"
   },
   {
    "duration": 43,
    "start_time": "2022-03-10T16:01:16.690Z"
   },
   {
    "duration": 275,
    "start_time": "2022-03-10T16:01:16.735Z"
   },
   {
    "duration": 173,
    "start_time": "2022-03-10T16:01:17.011Z"
   },
   {
    "duration": 163,
    "start_time": "2022-03-10T16:01:17.186Z"
   },
   {
    "duration": 285,
    "start_time": "2022-03-10T16:01:17.350Z"
   },
   {
    "duration": 181,
    "start_time": "2022-03-10T16:01:17.637Z"
   },
   {
    "duration": 8,
    "start_time": "2022-03-10T16:01:17.819Z"
   },
   {
    "duration": 5,
    "start_time": "2022-03-10T16:01:17.828Z"
   },
   {
    "duration": 128,
    "start_time": "2022-03-10T16:01:17.834Z"
   },
   {
    "duration": 22,
    "start_time": "2022-03-10T16:01:30.559Z"
   },
   {
    "duration": 597,
    "start_time": "2022-03-10T16:01:37.007Z"
   },
   {
    "duration": 76,
    "start_time": "2022-03-10T16:01:37.606Z"
   },
   {
    "duration": 16,
    "start_time": "2022-03-10T16:01:37.685Z"
   },
   {
    "duration": 39,
    "start_time": "2022-03-10T16:01:37.703Z"
   },
   {
    "duration": 7,
    "start_time": "2022-03-10T16:01:37.744Z"
   },
   {
    "duration": 6,
    "start_time": "2022-03-10T16:01:37.752Z"
   },
   {
    "duration": 8,
    "start_time": "2022-03-10T16:01:37.759Z"
   },
   {
    "duration": 34,
    "start_time": "2022-03-10T16:01:37.769Z"
   },
   {
    "duration": 4,
    "start_time": "2022-03-10T16:01:37.805Z"
   },
   {
    "duration": 4,
    "start_time": "2022-03-10T16:01:37.811Z"
   },
   {
    "duration": 3,
    "start_time": "2022-03-10T16:01:37.817Z"
   },
   {
    "duration": 6,
    "start_time": "2022-03-10T16:01:37.822Z"
   },
   {
    "duration": 7,
    "start_time": "2022-03-10T16:01:37.830Z"
   },
   {
    "duration": 7,
    "start_time": "2022-03-10T16:01:37.838Z"
   },
   {
    "duration": 8,
    "start_time": "2022-03-10T16:01:37.847Z"
   },
   {
    "duration": 15,
    "start_time": "2022-03-10T16:01:37.856Z"
   },
   {
    "duration": 4,
    "start_time": "2022-03-10T16:01:37.873Z"
   },
   {
    "duration": 26,
    "start_time": "2022-03-10T16:01:37.878Z"
   },
   {
    "duration": 7,
    "start_time": "2022-03-10T16:01:37.906Z"
   },
   {
    "duration": 15,
    "start_time": "2022-03-10T16:01:37.914Z"
   },
   {
    "duration": 9,
    "start_time": "2022-03-10T16:01:37.931Z"
   },
   {
    "duration": 19,
    "start_time": "2022-03-10T16:01:37.942Z"
   },
   {
    "duration": 12,
    "start_time": "2022-03-10T16:01:37.964Z"
   },
   {
    "duration": 29,
    "start_time": "2022-03-10T16:01:37.978Z"
   },
   {
    "duration": 8,
    "start_time": "2022-03-10T16:01:38.008Z"
   },
   {
    "duration": 5,
    "start_time": "2022-03-10T16:01:38.017Z"
   },
   {
    "duration": 11,
    "start_time": "2022-03-10T16:01:38.024Z"
   },
   {
    "duration": 24,
    "start_time": "2022-03-10T16:01:38.036Z"
   },
   {
    "duration": 88,
    "start_time": "2022-03-10T16:01:38.061Z"
   },
   {
    "duration": 68,
    "start_time": "2022-03-10T16:01:38.151Z"
   },
   {
    "duration": 37,
    "start_time": "2022-03-10T16:01:38.220Z"
   },
   {
    "duration": 71,
    "start_time": "2022-03-10T16:01:38.259Z"
   },
   {
    "duration": 676,
    "start_time": "2022-03-10T16:01:38.331Z"
   },
   {
    "duration": 37,
    "start_time": "2022-03-10T16:01:39.008Z"
   },
   {
    "duration": 278,
    "start_time": "2022-03-10T16:01:39.047Z"
   },
   {
    "duration": 169,
    "start_time": "2022-03-10T16:01:39.326Z"
   },
   {
    "duration": 168,
    "start_time": "2022-03-10T16:01:39.496Z"
   },
   {
    "duration": 179,
    "start_time": "2022-03-10T16:01:39.666Z"
   },
   {
    "duration": 175,
    "start_time": "2022-03-10T16:01:39.847Z"
   },
   {
    "duration": 8,
    "start_time": "2022-03-10T16:01:40.024Z"
   },
   {
    "duration": 23,
    "start_time": "2022-03-10T16:01:40.033Z"
   },
   {
    "duration": 20,
    "start_time": "2022-03-10T16:01:40.058Z"
   },
   {
    "duration": 7,
    "start_time": "2022-03-10T16:04:02.920Z"
   },
   {
    "duration": 166,
    "start_time": "2022-03-10T16:04:20.940Z"
   },
   {
    "duration": 4,
    "start_time": "2022-03-10T16:04:39.210Z"
   },
   {
    "duration": 533,
    "start_time": "2022-03-10T16:05:13.854Z"
   },
   {
    "duration": 76,
    "start_time": "2022-03-10T16:05:14.389Z"
   },
   {
    "duration": 17,
    "start_time": "2022-03-10T16:05:14.467Z"
   },
   {
    "duration": 68,
    "start_time": "2022-03-10T16:05:14.485Z"
   },
   {
    "duration": 8,
    "start_time": "2022-03-10T16:05:14.555Z"
   },
   {
    "duration": 7,
    "start_time": "2022-03-10T16:05:14.565Z"
   },
   {
    "duration": 28,
    "start_time": "2022-03-10T16:05:14.574Z"
   },
   {
    "duration": 4,
    "start_time": "2022-03-10T16:05:14.605Z"
   },
   {
    "duration": 5,
    "start_time": "2022-03-10T16:05:14.611Z"
   },
   {
    "duration": 4,
    "start_time": "2022-03-10T16:05:14.618Z"
   },
   {
    "duration": 3,
    "start_time": "2022-03-10T16:05:14.624Z"
   },
   {
    "duration": 6,
    "start_time": "2022-03-10T16:05:14.629Z"
   },
   {
    "duration": 9,
    "start_time": "2022-03-10T16:05:14.636Z"
   },
   {
    "duration": 8,
    "start_time": "2022-03-10T16:05:14.646Z"
   },
   {
    "duration": 8,
    "start_time": "2022-03-10T16:05:14.655Z"
   },
   {
    "duration": 15,
    "start_time": "2022-03-10T16:05:14.664Z"
   },
   {
    "duration": 23,
    "start_time": "2022-03-10T16:05:14.680Z"
   },
   {
    "duration": 8,
    "start_time": "2022-03-10T16:05:14.704Z"
   },
   {
    "duration": 4,
    "start_time": "2022-03-10T16:05:14.714Z"
   },
   {
    "duration": 14,
    "start_time": "2022-03-10T16:05:14.720Z"
   },
   {
    "duration": 9,
    "start_time": "2022-03-10T16:05:14.736Z"
   },
   {
    "duration": 20,
    "start_time": "2022-03-10T16:05:14.747Z"
   },
   {
    "duration": 32,
    "start_time": "2022-03-10T16:05:14.770Z"
   },
   {
    "duration": 8,
    "start_time": "2022-03-10T16:05:14.803Z"
   },
   {
    "duration": 8,
    "start_time": "2022-03-10T16:05:14.812Z"
   },
   {
    "duration": 5,
    "start_time": "2022-03-10T16:05:14.821Z"
   },
   {
    "duration": 10,
    "start_time": "2022-03-10T16:05:14.827Z"
   },
   {
    "duration": 20,
    "start_time": "2022-03-10T16:05:14.839Z"
   },
   {
    "duration": 90,
    "start_time": "2022-03-10T16:05:14.860Z"
   },
   {
    "duration": 60,
    "start_time": "2022-03-10T16:05:14.951Z"
   },
   {
    "duration": 35,
    "start_time": "2022-03-10T16:05:15.012Z"
   },
   {
    "duration": 69,
    "start_time": "2022-03-10T16:05:15.048Z"
   },
   {
    "duration": 562,
    "start_time": "2022-03-10T16:05:15.119Z"
   },
   {
    "duration": 49,
    "start_time": "2022-03-10T16:05:15.683Z"
   },
   {
    "duration": 276,
    "start_time": "2022-03-10T16:05:15.733Z"
   },
   {
    "duration": 172,
    "start_time": "2022-03-10T16:05:16.010Z"
   },
   {
    "duration": 158,
    "start_time": "2022-03-10T16:05:16.184Z"
   },
   {
    "duration": 182,
    "start_time": "2022-03-10T16:05:16.344Z"
   },
   {
    "duration": 181,
    "start_time": "2022-03-10T16:05:16.528Z"
   },
   {
    "duration": 7,
    "start_time": "2022-03-10T16:05:16.710Z"
   },
   {
    "duration": 7,
    "start_time": "2022-03-10T16:05:16.719Z"
   },
   {
    "duration": 7,
    "start_time": "2022-03-10T16:05:16.727Z"
   },
   {
    "duration": 16,
    "start_time": "2022-03-10T16:05:16.735Z"
   },
   {
    "duration": 4,
    "start_time": "2022-03-10T16:05:16.752Z"
   },
   {
    "duration": 7,
    "start_time": "2022-03-10T16:05:44.720Z"
   },
   {
    "duration": 8,
    "start_time": "2022-03-10T16:06:02.398Z"
   },
   {
    "duration": 7,
    "start_time": "2022-03-10T16:06:47.334Z"
   },
   {
    "duration": 105,
    "start_time": "2022-03-10T16:08:19.569Z"
   },
   {
    "duration": 118,
    "start_time": "2022-03-10T16:08:48.133Z"
   },
   {
    "duration": 83,
    "start_time": "2022-03-10T16:09:17.169Z"
   },
   {
    "duration": 15,
    "start_time": "2022-03-10T16:10:01.428Z"
   },
   {
    "duration": 11,
    "start_time": "2022-03-10T16:10:23.843Z"
   },
   {
    "duration": 671,
    "start_time": "2022-03-10T16:10:30.662Z"
   },
   {
    "duration": 76,
    "start_time": "2022-03-10T16:10:31.335Z"
   },
   {
    "duration": 14,
    "start_time": "2022-03-10T16:10:31.415Z"
   },
   {
    "duration": 42,
    "start_time": "2022-03-10T16:10:31.431Z"
   },
   {
    "duration": 27,
    "start_time": "2022-03-10T16:10:31.474Z"
   },
   {
    "duration": 5,
    "start_time": "2022-03-10T16:10:31.503Z"
   },
   {
    "duration": 25,
    "start_time": "2022-03-10T16:10:31.510Z"
   },
   {
    "duration": 10,
    "start_time": "2022-03-10T16:10:31.537Z"
   },
   {
    "duration": 19,
    "start_time": "2022-03-10T16:10:31.549Z"
   },
   {
    "duration": 10,
    "start_time": "2022-03-10T16:10:31.570Z"
   },
   {
    "duration": 24,
    "start_time": "2022-03-10T16:10:31.582Z"
   },
   {
    "duration": 11,
    "start_time": "2022-03-10T16:10:31.607Z"
   },
   {
    "duration": 13,
    "start_time": "2022-03-10T16:10:31.620Z"
   },
   {
    "duration": 10,
    "start_time": "2022-03-10T16:10:31.634Z"
   },
   {
    "duration": 14,
    "start_time": "2022-03-10T16:10:31.646Z"
   },
   {
    "duration": 24,
    "start_time": "2022-03-10T16:10:31.661Z"
   },
   {
    "duration": 21,
    "start_time": "2022-03-10T16:10:31.686Z"
   },
   {
    "duration": 14,
    "start_time": "2022-03-10T16:10:31.709Z"
   },
   {
    "duration": 18,
    "start_time": "2022-03-10T16:10:31.724Z"
   },
   {
    "duration": 23,
    "start_time": "2022-03-10T16:10:31.744Z"
   },
   {
    "duration": 21,
    "start_time": "2022-03-10T16:10:31.769Z"
   },
   {
    "duration": 24,
    "start_time": "2022-03-10T16:10:31.793Z"
   },
   {
    "duration": 12,
    "start_time": "2022-03-10T16:10:31.819Z"
   },
   {
    "duration": 10,
    "start_time": "2022-03-10T16:10:31.833Z"
   },
   {
    "duration": 18,
    "start_time": "2022-03-10T16:10:31.844Z"
   },
   {
    "duration": 22,
    "start_time": "2022-03-10T16:10:31.863Z"
   },
   {
    "duration": 21,
    "start_time": "2022-03-10T16:10:31.887Z"
   },
   {
    "duration": 26,
    "start_time": "2022-03-10T16:10:31.910Z"
   },
   {
    "duration": 79,
    "start_time": "2022-03-10T16:10:31.938Z"
   },
   {
    "duration": 34,
    "start_time": "2022-03-10T16:10:32.019Z"
   },
   {
    "duration": 60,
    "start_time": "2022-03-10T16:10:32.055Z"
   },
   {
    "duration": 60,
    "start_time": "2022-03-10T16:10:32.117Z"
   },
   {
    "duration": 579,
    "start_time": "2022-03-10T16:10:32.179Z"
   },
   {
    "duration": 44,
    "start_time": "2022-03-10T16:10:32.760Z"
   },
   {
    "duration": 286,
    "start_time": "2022-03-10T16:10:32.806Z"
   },
   {
    "duration": 184,
    "start_time": "2022-03-10T16:10:33.094Z"
   },
   {
    "duration": 166,
    "start_time": "2022-03-10T16:10:33.279Z"
   },
   {
    "duration": 186,
    "start_time": "2022-03-10T16:10:33.446Z"
   },
   {
    "duration": 193,
    "start_time": "2022-03-10T16:10:33.634Z"
   },
   {
    "duration": 8,
    "start_time": "2022-03-10T16:10:33.829Z"
   },
   {
    "duration": 6,
    "start_time": "2022-03-10T16:10:33.839Z"
   },
   {
    "duration": 16,
    "start_time": "2022-03-10T16:10:33.847Z"
   },
   {
    "duration": 38,
    "start_time": "2022-03-10T16:10:33.865Z"
   },
   {
    "duration": 18,
    "start_time": "2022-03-10T16:10:33.904Z"
   },
   {
    "duration": 17,
    "start_time": "2022-03-10T16:10:54.548Z"
   },
   {
    "duration": 14,
    "start_time": "2022-03-10T16:11:04.920Z"
   },
   {
    "duration": 14,
    "start_time": "2022-03-10T16:11:08.434Z"
   },
   {
    "duration": 618,
    "start_time": "2022-03-10T16:11:16.691Z"
   },
   {
    "duration": 90,
    "start_time": "2022-03-10T16:11:17.311Z"
   },
   {
    "duration": 14,
    "start_time": "2022-03-10T16:11:17.403Z"
   },
   {
    "duration": 40,
    "start_time": "2022-03-10T16:11:17.419Z"
   },
   {
    "duration": 6,
    "start_time": "2022-03-10T16:11:17.460Z"
   },
   {
    "duration": 6,
    "start_time": "2022-03-10T16:11:17.468Z"
   },
   {
    "duration": 31,
    "start_time": "2022-03-10T16:11:17.475Z"
   },
   {
    "duration": 3,
    "start_time": "2022-03-10T16:11:17.509Z"
   },
   {
    "duration": 4,
    "start_time": "2022-03-10T16:11:17.515Z"
   },
   {
    "duration": 9,
    "start_time": "2022-03-10T16:11:17.520Z"
   },
   {
    "duration": 4,
    "start_time": "2022-03-10T16:11:17.530Z"
   },
   {
    "duration": 7,
    "start_time": "2022-03-10T16:11:17.535Z"
   },
   {
    "duration": 8,
    "start_time": "2022-03-10T16:11:17.543Z"
   },
   {
    "duration": 8,
    "start_time": "2022-03-10T16:11:17.552Z"
   },
   {
    "duration": 14,
    "start_time": "2022-03-10T16:11:17.561Z"
   },
   {
    "duration": 13,
    "start_time": "2022-03-10T16:11:17.577Z"
   },
   {
    "duration": 13,
    "start_time": "2022-03-10T16:11:17.592Z"
   },
   {
    "duration": 10,
    "start_time": "2022-03-10T16:11:17.607Z"
   },
   {
    "duration": 7,
    "start_time": "2022-03-10T16:11:17.618Z"
   },
   {
    "duration": 15,
    "start_time": "2022-03-10T16:11:17.627Z"
   },
   {
    "duration": 10,
    "start_time": "2022-03-10T16:11:17.644Z"
   },
   {
    "duration": 21,
    "start_time": "2022-03-10T16:11:17.655Z"
   },
   {
    "duration": 30,
    "start_time": "2022-03-10T16:11:17.678Z"
   },
   {
    "duration": 9,
    "start_time": "2022-03-10T16:11:17.709Z"
   },
   {
    "duration": 8,
    "start_time": "2022-03-10T16:11:17.720Z"
   },
   {
    "duration": 8,
    "start_time": "2022-03-10T16:11:17.730Z"
   },
   {
    "duration": 8,
    "start_time": "2022-03-10T16:11:17.740Z"
   },
   {
    "duration": 22,
    "start_time": "2022-03-10T16:11:17.750Z"
   },
   {
    "duration": 88,
    "start_time": "2022-03-10T16:11:17.773Z"
   },
   {
    "duration": 72,
    "start_time": "2022-03-10T16:11:17.863Z"
   },
   {
    "duration": 36,
    "start_time": "2022-03-10T16:11:17.936Z"
   },
   {
    "duration": 76,
    "start_time": "2022-03-10T16:11:17.974Z"
   },
   {
    "duration": 624,
    "start_time": "2022-03-10T16:11:18.051Z"
   },
   {
    "duration": 48,
    "start_time": "2022-03-10T16:11:18.677Z"
   },
   {
    "duration": 303,
    "start_time": "2022-03-10T16:11:18.727Z"
   },
   {
    "duration": 172,
    "start_time": "2022-03-10T16:11:19.033Z"
   },
   {
    "duration": 176,
    "start_time": "2022-03-10T16:11:19.207Z"
   },
   {
    "duration": 180,
    "start_time": "2022-03-10T16:11:19.385Z"
   },
   {
    "duration": 197,
    "start_time": "2022-03-10T16:11:19.567Z"
   },
   {
    "duration": 7,
    "start_time": "2022-03-10T16:11:19.766Z"
   },
   {
    "duration": 4,
    "start_time": "2022-03-10T16:11:19.775Z"
   },
   {
    "duration": 33,
    "start_time": "2022-03-10T16:11:19.781Z"
   },
   {
    "duration": 8,
    "start_time": "2022-03-10T16:11:19.815Z"
   },
   {
    "duration": 17,
    "start_time": "2022-03-10T16:11:19.825Z"
   },
   {
    "duration": 16,
    "start_time": "2022-03-10T16:11:29.630Z"
   },
   {
    "duration": 14,
    "start_time": "2022-03-10T16:12:08.023Z"
   },
   {
    "duration": 14,
    "start_time": "2022-03-10T16:12:10.403Z"
   },
   {
    "duration": 8,
    "start_time": "2022-03-10T16:12:12.331Z"
   },
   {
    "duration": 13,
    "start_time": "2022-03-10T16:12:14.181Z"
   },
   {
    "duration": 581,
    "start_time": "2022-03-10T16:12:20.405Z"
   },
   {
    "duration": 77,
    "start_time": "2022-03-10T16:12:20.987Z"
   },
   {
    "duration": 12,
    "start_time": "2022-03-10T16:12:21.066Z"
   },
   {
    "duration": 47,
    "start_time": "2022-03-10T16:12:21.080Z"
   },
   {
    "duration": 7,
    "start_time": "2022-03-10T16:12:21.128Z"
   },
   {
    "duration": 6,
    "start_time": "2022-03-10T16:12:21.137Z"
   },
   {
    "duration": 7,
    "start_time": "2022-03-10T16:12:21.145Z"
   },
   {
    "duration": 4,
    "start_time": "2022-03-10T16:12:21.154Z"
   },
   {
    "duration": 5,
    "start_time": "2022-03-10T16:12:21.159Z"
   },
   {
    "duration": 37,
    "start_time": "2022-03-10T16:12:21.165Z"
   },
   {
    "duration": 4,
    "start_time": "2022-03-10T16:12:21.204Z"
   },
   {
    "duration": 9,
    "start_time": "2022-03-10T16:12:21.210Z"
   },
   {
    "duration": 12,
    "start_time": "2022-03-10T16:12:21.221Z"
   },
   {
    "duration": 7,
    "start_time": "2022-03-10T16:12:21.235Z"
   },
   {
    "duration": 9,
    "start_time": "2022-03-10T16:12:21.243Z"
   },
   {
    "duration": 13,
    "start_time": "2022-03-10T16:12:21.253Z"
   },
   {
    "duration": 4,
    "start_time": "2022-03-10T16:12:21.267Z"
   },
   {
    "duration": 14,
    "start_time": "2022-03-10T16:12:21.272Z"
   },
   {
    "duration": 7,
    "start_time": "2022-03-10T16:12:21.287Z"
   },
   {
    "duration": 17,
    "start_time": "2022-03-10T16:12:21.295Z"
   },
   {
    "duration": 10,
    "start_time": "2022-03-10T16:12:21.313Z"
   },
   {
    "duration": 21,
    "start_time": "2022-03-10T16:12:21.324Z"
   },
   {
    "duration": 11,
    "start_time": "2022-03-10T16:12:21.348Z"
   },
   {
    "duration": 7,
    "start_time": "2022-03-10T16:12:21.361Z"
   },
   {
    "duration": 32,
    "start_time": "2022-03-10T16:12:21.370Z"
   },
   {
    "duration": 5,
    "start_time": "2022-03-10T16:12:21.403Z"
   },
   {
    "duration": 9,
    "start_time": "2022-03-10T16:12:21.409Z"
   },
   {
    "duration": 21,
    "start_time": "2022-03-10T16:12:21.420Z"
   },
   {
    "duration": 89,
    "start_time": "2022-03-10T16:12:21.442Z"
   },
   {
    "duration": 33,
    "start_time": "2022-03-10T16:12:21.533Z"
   },
   {
    "duration": 64,
    "start_time": "2022-03-10T16:12:21.567Z"
   },
   {
    "duration": 55,
    "start_time": "2022-03-10T16:12:21.633Z"
   },
   {
    "duration": 575,
    "start_time": "2022-03-10T16:12:21.689Z"
   },
   {
    "duration": 47,
    "start_time": "2022-03-10T16:12:22.265Z"
   },
   {
    "duration": 275,
    "start_time": "2022-03-10T16:12:22.314Z"
   },
   {
    "duration": 182,
    "start_time": "2022-03-10T16:12:22.590Z"
   },
   {
    "duration": 172,
    "start_time": "2022-03-10T16:12:22.773Z"
   },
   {
    "duration": 181,
    "start_time": "2022-03-10T16:12:22.946Z"
   },
   {
    "duration": 180,
    "start_time": "2022-03-10T16:12:23.129Z"
   },
   {
    "duration": 7,
    "start_time": "2022-03-10T16:12:23.311Z"
   },
   {
    "duration": 5,
    "start_time": "2022-03-10T16:12:23.320Z"
   },
   {
    "duration": 15,
    "start_time": "2022-03-10T16:12:23.327Z"
   },
   {
    "duration": 8,
    "start_time": "2022-03-10T16:12:23.344Z"
   },
   {
    "duration": 49,
    "start_time": "2022-03-10T16:12:23.353Z"
   },
   {
    "duration": 606,
    "start_time": "2022-03-10T16:13:05.173Z"
   },
   {
    "duration": 75,
    "start_time": "2022-03-10T16:13:05.781Z"
   },
   {
    "duration": 13,
    "start_time": "2022-03-10T16:13:05.858Z"
   },
   {
    "duration": 51,
    "start_time": "2022-03-10T16:13:05.873Z"
   },
   {
    "duration": 7,
    "start_time": "2022-03-10T16:13:05.925Z"
   },
   {
    "duration": 6,
    "start_time": "2022-03-10T16:13:05.934Z"
   },
   {
    "duration": 8,
    "start_time": "2022-03-10T16:13:05.941Z"
   },
   {
    "duration": 4,
    "start_time": "2022-03-10T16:13:05.951Z"
   },
   {
    "duration": 6,
    "start_time": "2022-03-10T16:13:05.957Z"
   },
   {
    "duration": 4,
    "start_time": "2022-03-10T16:13:05.965Z"
   },
   {
    "duration": 34,
    "start_time": "2022-03-10T16:13:05.971Z"
   },
   {
    "duration": 6,
    "start_time": "2022-03-10T16:13:06.007Z"
   },
   {
    "duration": 6,
    "start_time": "2022-03-10T16:13:06.015Z"
   },
   {
    "duration": 7,
    "start_time": "2022-03-10T16:13:06.023Z"
   },
   {
    "duration": 9,
    "start_time": "2022-03-10T16:13:06.032Z"
   },
   {
    "duration": 12,
    "start_time": "2022-03-10T16:13:06.043Z"
   },
   {
    "duration": 5,
    "start_time": "2022-03-10T16:13:06.057Z"
   },
   {
    "duration": 40,
    "start_time": "2022-03-10T16:13:06.064Z"
   },
   {
    "duration": 4,
    "start_time": "2022-03-10T16:13:06.106Z"
   },
   {
    "duration": 12,
    "start_time": "2022-03-10T16:13:06.111Z"
   },
   {
    "duration": 11,
    "start_time": "2022-03-10T16:13:06.124Z"
   },
   {
    "duration": 20,
    "start_time": "2022-03-10T16:13:06.136Z"
   },
   {
    "duration": 11,
    "start_time": "2022-03-10T16:13:06.159Z"
   },
   {
    "duration": 32,
    "start_time": "2022-03-10T16:13:06.172Z"
   },
   {
    "duration": 8,
    "start_time": "2022-03-10T16:13:06.205Z"
   },
   {
    "duration": 5,
    "start_time": "2022-03-10T16:13:06.214Z"
   },
   {
    "duration": 8,
    "start_time": "2022-03-10T16:13:06.221Z"
   },
   {
    "duration": 22,
    "start_time": "2022-03-10T16:13:06.230Z"
   },
   {
    "duration": 91,
    "start_time": "2022-03-10T16:13:06.254Z"
   },
   {
    "duration": 60,
    "start_time": "2022-03-10T16:13:06.347Z"
   },
   {
    "duration": 37,
    "start_time": "2022-03-10T16:13:06.408Z"
   },
   {
    "duration": 70,
    "start_time": "2022-03-10T16:13:06.446Z"
   },
   {
    "duration": 566,
    "start_time": "2022-03-10T16:13:06.518Z"
   },
   {
    "duration": 46,
    "start_time": "2022-03-10T16:13:07.085Z"
   },
   {
    "duration": 269,
    "start_time": "2022-03-10T16:13:07.133Z"
   },
   {
    "duration": 170,
    "start_time": "2022-03-10T16:13:07.404Z"
   },
   {
    "duration": 171,
    "start_time": "2022-03-10T16:13:07.576Z"
   },
   {
    "duration": 188,
    "start_time": "2022-03-10T16:13:07.748Z"
   },
   {
    "duration": 193,
    "start_time": "2022-03-10T16:13:07.938Z"
   },
   {
    "duration": 7,
    "start_time": "2022-03-10T16:13:08.133Z"
   },
   {
    "duration": 5,
    "start_time": "2022-03-10T16:13:08.141Z"
   },
   {
    "duration": 15,
    "start_time": "2022-03-10T16:13:08.147Z"
   },
   {
    "duration": 7,
    "start_time": "2022-03-10T16:13:08.163Z"
   },
   {
    "duration": 46,
    "start_time": "2022-03-10T16:13:08.172Z"
   },
   {
    "duration": 14,
    "start_time": "2022-03-10T16:13:15.858Z"
   },
   {
    "duration": 540,
    "start_time": "2022-03-10T16:13:42.045Z"
   },
   {
    "duration": 75,
    "start_time": "2022-03-10T16:13:42.587Z"
   },
   {
    "duration": 12,
    "start_time": "2022-03-10T16:13:42.664Z"
   },
   {
    "duration": 46,
    "start_time": "2022-03-10T16:13:42.678Z"
   },
   {
    "duration": 6,
    "start_time": "2022-03-10T16:13:42.726Z"
   },
   {
    "duration": 7,
    "start_time": "2022-03-10T16:13:42.734Z"
   },
   {
    "duration": 22,
    "start_time": "2022-03-10T16:13:42.742Z"
   },
   {
    "duration": 5,
    "start_time": "2022-03-10T16:13:42.765Z"
   },
   {
    "duration": 15,
    "start_time": "2022-03-10T16:13:42.773Z"
   },
   {
    "duration": 11,
    "start_time": "2022-03-10T16:13:42.790Z"
   },
   {
    "duration": 17,
    "start_time": "2022-03-10T16:13:42.802Z"
   },
   {
    "duration": 9,
    "start_time": "2022-03-10T16:13:42.821Z"
   },
   {
    "duration": 25,
    "start_time": "2022-03-10T16:13:42.831Z"
   },
   {
    "duration": 10,
    "start_time": "2022-03-10T16:13:42.858Z"
   },
   {
    "duration": 18,
    "start_time": "2022-03-10T16:13:42.870Z"
   },
   {
    "duration": 24,
    "start_time": "2022-03-10T16:13:42.889Z"
   },
   {
    "duration": 8,
    "start_time": "2022-03-10T16:13:42.915Z"
   },
   {
    "duration": 26,
    "start_time": "2022-03-10T16:13:42.925Z"
   },
   {
    "duration": 17,
    "start_time": "2022-03-10T16:13:42.953Z"
   },
   {
    "duration": 36,
    "start_time": "2022-03-10T16:13:42.972Z"
   },
   {
    "duration": 34,
    "start_time": "2022-03-10T16:13:43.010Z"
   },
   {
    "duration": 33,
    "start_time": "2022-03-10T16:13:43.045Z"
   },
   {
    "duration": 13,
    "start_time": "2022-03-10T16:13:43.079Z"
   },
   {
    "duration": 11,
    "start_time": "2022-03-10T16:13:43.093Z"
   },
   {
    "duration": 15,
    "start_time": "2022-03-10T16:13:43.106Z"
   },
   {
    "duration": 9,
    "start_time": "2022-03-10T16:13:43.123Z"
   },
   {
    "duration": 11,
    "start_time": "2022-03-10T16:13:43.135Z"
   },
   {
    "duration": 36,
    "start_time": "2022-03-10T16:13:43.148Z"
   },
   {
    "duration": 73,
    "start_time": "2022-03-10T16:13:43.186Z"
   },
   {
    "duration": 63,
    "start_time": "2022-03-10T16:13:43.261Z"
   },
   {
    "duration": 35,
    "start_time": "2022-03-10T16:13:43.325Z"
   },
   {
    "duration": 67,
    "start_time": "2022-03-10T16:13:43.361Z"
   },
   {
    "duration": 658,
    "start_time": "2022-03-10T16:13:43.430Z"
   },
   {
    "duration": 45,
    "start_time": "2022-03-10T16:13:44.090Z"
   },
   {
    "duration": 275,
    "start_time": "2022-03-10T16:13:44.136Z"
   },
   {
    "duration": 190,
    "start_time": "2022-03-10T16:13:44.413Z"
   },
   {
    "duration": 164,
    "start_time": "2022-03-10T16:13:44.604Z"
   },
   {
    "duration": 178,
    "start_time": "2022-03-10T16:13:44.769Z"
   },
   {
    "duration": 176,
    "start_time": "2022-03-10T16:13:44.948Z"
   },
   {
    "duration": 7,
    "start_time": "2022-03-10T16:13:45.125Z"
   },
   {
    "duration": 5,
    "start_time": "2022-03-10T16:13:45.134Z"
   },
   {
    "duration": 16,
    "start_time": "2022-03-10T16:13:45.140Z"
   },
   {
    "duration": 8,
    "start_time": "2022-03-10T16:13:45.158Z"
   },
   {
    "duration": 47,
    "start_time": "2022-03-10T16:13:45.167Z"
   },
   {
    "duration": 161,
    "start_time": "2022-03-10T16:18:26.319Z"
   },
   {
    "duration": 8,
    "start_time": "2022-03-10T16:18:57.381Z"
   },
   {
    "duration": 7,
    "start_time": "2022-03-10T16:19:12.618Z"
   },
   {
    "duration": 7,
    "start_time": "2022-03-10T16:19:44.072Z"
   },
   {
    "duration": 12,
    "start_time": "2022-03-10T16:21:17.823Z"
   },
   {
    "duration": 9,
    "start_time": "2022-03-10T16:21:39.678Z"
   },
   {
    "duration": 8,
    "start_time": "2022-03-10T16:21:43.713Z"
   },
   {
    "duration": 10,
    "start_time": "2022-03-10T16:21:44.862Z"
   },
   {
    "duration": 584,
    "start_time": "2022-03-10T16:21:50.280Z"
   },
   {
    "duration": 75,
    "start_time": "2022-03-10T16:21:50.866Z"
   },
   {
    "duration": 14,
    "start_time": "2022-03-10T16:21:50.943Z"
   },
   {
    "duration": 47,
    "start_time": "2022-03-10T16:21:50.960Z"
   },
   {
    "duration": 8,
    "start_time": "2022-03-10T16:21:51.009Z"
   },
   {
    "duration": 5,
    "start_time": "2022-03-10T16:21:51.018Z"
   },
   {
    "duration": 9,
    "start_time": "2022-03-10T16:21:51.024Z"
   },
   {
    "duration": 4,
    "start_time": "2022-03-10T16:21:51.034Z"
   },
   {
    "duration": 4,
    "start_time": "2022-03-10T16:21:51.040Z"
   },
   {
    "duration": 5,
    "start_time": "2022-03-10T16:21:51.045Z"
   },
   {
    "duration": 8,
    "start_time": "2022-03-10T16:21:51.051Z"
   },
   {
    "duration": 7,
    "start_time": "2022-03-10T16:21:51.061Z"
   },
   {
    "duration": 33,
    "start_time": "2022-03-10T16:21:51.070Z"
   },
   {
    "duration": 4,
    "start_time": "2022-03-10T16:21:51.105Z"
   },
   {
    "duration": 12,
    "start_time": "2022-03-10T16:21:51.110Z"
   },
   {
    "duration": 15,
    "start_time": "2022-03-10T16:21:51.123Z"
   },
   {
    "duration": 4,
    "start_time": "2022-03-10T16:21:51.139Z"
   },
   {
    "duration": 12,
    "start_time": "2022-03-10T16:21:51.145Z"
   },
   {
    "duration": 6,
    "start_time": "2022-03-10T16:21:51.158Z"
   },
   {
    "duration": 16,
    "start_time": "2022-03-10T16:21:51.166Z"
   },
   {
    "duration": 19,
    "start_time": "2022-03-10T16:21:51.183Z"
   },
   {
    "duration": 20,
    "start_time": "2022-03-10T16:21:51.204Z"
   },
   {
    "duration": 13,
    "start_time": "2022-03-10T16:21:51.225Z"
   },
   {
    "duration": 8,
    "start_time": "2022-03-10T16:21:51.239Z"
   },
   {
    "duration": 7,
    "start_time": "2022-03-10T16:21:51.248Z"
   },
   {
    "duration": 10,
    "start_time": "2022-03-10T16:21:51.257Z"
   },
   {
    "duration": 33,
    "start_time": "2022-03-10T16:21:51.269Z"
   },
   {
    "duration": 19,
    "start_time": "2022-03-10T16:21:51.304Z"
   },
   {
    "duration": 93,
    "start_time": "2022-03-10T16:21:51.324Z"
   },
   {
    "duration": 32,
    "start_time": "2022-03-10T16:21:51.419Z"
   },
   {
    "duration": 62,
    "start_time": "2022-03-10T16:21:51.452Z"
   },
   {
    "duration": 60,
    "start_time": "2022-03-10T16:21:51.515Z"
   },
   {
    "duration": 622,
    "start_time": "2022-03-10T16:21:51.576Z"
   },
   {
    "duration": 39,
    "start_time": "2022-03-10T16:21:52.199Z"
   },
   {
    "duration": 280,
    "start_time": "2022-03-10T16:21:52.240Z"
   },
   {
    "duration": 179,
    "start_time": "2022-03-10T16:21:52.522Z"
   },
   {
    "duration": 173,
    "start_time": "2022-03-10T16:21:52.703Z"
   },
   {
    "duration": 183,
    "start_time": "2022-03-10T16:21:52.877Z"
   },
   {
    "duration": 184,
    "start_time": "2022-03-10T16:21:53.062Z"
   },
   {
    "duration": 7,
    "start_time": "2022-03-10T16:21:53.248Z"
   },
   {
    "duration": 5,
    "start_time": "2022-03-10T16:21:53.256Z"
   },
   {
    "duration": 19,
    "start_time": "2022-03-10T16:21:53.263Z"
   },
   {
    "duration": 24,
    "start_time": "2022-03-10T16:21:53.283Z"
   },
   {
    "duration": 15,
    "start_time": "2022-03-10T16:21:53.309Z"
   },
   {
    "duration": 7,
    "start_time": "2022-03-10T16:21:53.326Z"
   },
   {
    "duration": 11,
    "start_time": "2022-03-10T16:21:53.334Z"
   },
   {
    "duration": 13,
    "start_time": "2022-03-10T16:22:02.048Z"
   },
   {
    "duration": 545,
    "start_time": "2022-03-10T16:22:07.860Z"
   },
   {
    "duration": 72,
    "start_time": "2022-03-10T16:22:08.407Z"
   },
   {
    "duration": 11,
    "start_time": "2022-03-10T16:22:08.481Z"
   },
   {
    "duration": 41,
    "start_time": "2022-03-10T16:22:08.494Z"
   },
   {
    "duration": 6,
    "start_time": "2022-03-10T16:22:08.536Z"
   },
   {
    "duration": 5,
    "start_time": "2022-03-10T16:22:08.543Z"
   },
   {
    "duration": 7,
    "start_time": "2022-03-10T16:22:08.550Z"
   },
   {
    "duration": 3,
    "start_time": "2022-03-10T16:22:08.559Z"
   },
   {
    "duration": 3,
    "start_time": "2022-03-10T16:22:08.564Z"
   },
   {
    "duration": 34,
    "start_time": "2022-03-10T16:22:08.569Z"
   },
   {
    "duration": 5,
    "start_time": "2022-03-10T16:22:08.604Z"
   },
   {
    "duration": 7,
    "start_time": "2022-03-10T16:22:08.610Z"
   },
   {
    "duration": 12,
    "start_time": "2022-03-10T16:22:08.618Z"
   },
   {
    "duration": 9,
    "start_time": "2022-03-10T16:22:08.631Z"
   },
   {
    "duration": 9,
    "start_time": "2022-03-10T16:22:08.641Z"
   },
   {
    "duration": 10,
    "start_time": "2022-03-10T16:22:08.651Z"
   },
   {
    "duration": 4,
    "start_time": "2022-03-10T16:22:08.663Z"
   },
   {
    "duration": 12,
    "start_time": "2022-03-10T16:22:08.668Z"
   },
   {
    "duration": 4,
    "start_time": "2022-03-10T16:22:08.682Z"
   },
   {
    "duration": 14,
    "start_time": "2022-03-10T16:22:08.688Z"
   },
   {
    "duration": 9,
    "start_time": "2022-03-10T16:22:08.703Z"
   },
   {
    "duration": 19,
    "start_time": "2022-03-10T16:22:08.714Z"
   },
   {
    "duration": 10,
    "start_time": "2022-03-10T16:22:08.736Z"
   },
   {
    "duration": 8,
    "start_time": "2022-03-10T16:22:08.748Z"
   },
   {
    "duration": 7,
    "start_time": "2022-03-10T16:22:08.757Z"
   },
   {
    "duration": 38,
    "start_time": "2022-03-10T16:22:08.765Z"
   },
   {
    "duration": 6,
    "start_time": "2022-03-10T16:22:08.805Z"
   },
   {
    "duration": 18,
    "start_time": "2022-03-10T16:22:08.813Z"
   },
   {
    "duration": 104,
    "start_time": "2022-03-10T16:22:08.833Z"
   },
   {
    "duration": 31,
    "start_time": "2022-03-10T16:22:08.939Z"
   },
   {
    "duration": 61,
    "start_time": "2022-03-10T16:22:08.972Z"
   },
   {
    "duration": 50,
    "start_time": "2022-03-10T16:22:09.035Z"
   },
   {
    "duration": 582,
    "start_time": "2022-03-10T16:22:09.086Z"
   },
   {
    "duration": 46,
    "start_time": "2022-03-10T16:22:09.670Z"
   },
   {
    "duration": 270,
    "start_time": "2022-03-10T16:22:09.718Z"
   },
   {
    "duration": 174,
    "start_time": "2022-03-10T16:22:09.989Z"
   },
   {
    "duration": 167,
    "start_time": "2022-03-10T16:22:10.164Z"
   },
   {
    "duration": 188,
    "start_time": "2022-03-10T16:22:10.333Z"
   },
   {
    "duration": 180,
    "start_time": "2022-03-10T16:22:10.523Z"
   },
   {
    "duration": 7,
    "start_time": "2022-03-10T16:22:10.704Z"
   },
   {
    "duration": 5,
    "start_time": "2022-03-10T16:22:10.712Z"
   },
   {
    "duration": 16,
    "start_time": "2022-03-10T16:22:10.718Z"
   },
   {
    "duration": 7,
    "start_time": "2022-03-10T16:22:10.735Z"
   },
   {
    "duration": 14,
    "start_time": "2022-03-10T16:22:10.744Z"
   },
   {
    "duration": 42,
    "start_time": "2022-03-10T16:22:10.760Z"
   },
   {
    "duration": 12,
    "start_time": "2022-03-10T16:22:10.803Z"
   },
   {
    "duration": 560,
    "start_time": "2022-03-10T16:22:25.629Z"
   },
   {
    "duration": 87,
    "start_time": "2022-03-10T16:22:26.191Z"
   },
   {
    "duration": 13,
    "start_time": "2022-03-10T16:22:26.284Z"
   },
   {
    "duration": 37,
    "start_time": "2022-03-10T16:22:26.298Z"
   },
   {
    "duration": 7,
    "start_time": "2022-03-10T16:22:26.337Z"
   },
   {
    "duration": 6,
    "start_time": "2022-03-10T16:22:26.346Z"
   },
   {
    "duration": 8,
    "start_time": "2022-03-10T16:22:26.355Z"
   },
   {
    "duration": 35,
    "start_time": "2022-03-10T16:22:26.366Z"
   },
   {
    "duration": 5,
    "start_time": "2022-03-10T16:22:26.403Z"
   },
   {
    "duration": 4,
    "start_time": "2022-03-10T16:22:26.410Z"
   },
   {
    "duration": 5,
    "start_time": "2022-03-10T16:22:26.416Z"
   },
   {
    "duration": 5,
    "start_time": "2022-03-10T16:22:26.423Z"
   },
   {
    "duration": 10,
    "start_time": "2022-03-10T16:22:26.429Z"
   },
   {
    "duration": 8,
    "start_time": "2022-03-10T16:22:26.440Z"
   },
   {
    "duration": 8,
    "start_time": "2022-03-10T16:22:26.449Z"
   },
   {
    "duration": 11,
    "start_time": "2022-03-10T16:22:26.459Z"
   },
   {
    "duration": 30,
    "start_time": "2022-03-10T16:22:26.472Z"
   },
   {
    "duration": 8,
    "start_time": "2022-03-10T16:22:26.504Z"
   },
   {
    "duration": 5,
    "start_time": "2022-03-10T16:22:26.513Z"
   },
   {
    "duration": 14,
    "start_time": "2022-03-10T16:22:26.520Z"
   },
   {
    "duration": 11,
    "start_time": "2022-03-10T16:22:26.536Z"
   },
   {
    "duration": 21,
    "start_time": "2022-03-10T16:22:26.551Z"
   },
   {
    "duration": 38,
    "start_time": "2022-03-10T16:22:26.574Z"
   },
   {
    "duration": 10,
    "start_time": "2022-03-10T16:22:26.613Z"
   },
   {
    "duration": 8,
    "start_time": "2022-03-10T16:22:26.624Z"
   },
   {
    "duration": 5,
    "start_time": "2022-03-10T16:22:26.634Z"
   },
   {
    "duration": 8,
    "start_time": "2022-03-10T16:22:26.640Z"
   },
   {
    "duration": 52,
    "start_time": "2022-03-10T16:22:26.650Z"
   },
   {
    "duration": 98,
    "start_time": "2022-03-10T16:22:26.704Z"
   },
   {
    "duration": 33,
    "start_time": "2022-03-10T16:22:26.803Z"
   },
   {
    "duration": 34,
    "start_time": "2022-03-10T16:22:26.838Z"
   },
   {
    "duration": 72,
    "start_time": "2022-03-10T16:22:26.874Z"
   },
   {
    "duration": 570,
    "start_time": "2022-03-10T16:22:26.948Z"
   },
   {
    "duration": 41,
    "start_time": "2022-03-10T16:22:27.520Z"
   },
   {
    "duration": 302,
    "start_time": "2022-03-10T16:22:27.563Z"
   },
   {
    "duration": 181,
    "start_time": "2022-03-10T16:22:27.867Z"
   },
   {
    "duration": 181,
    "start_time": "2022-03-10T16:22:28.050Z"
   },
   {
    "duration": 183,
    "start_time": "2022-03-10T16:22:28.233Z"
   },
   {
    "duration": 185,
    "start_time": "2022-03-10T16:22:28.418Z"
   },
   {
    "duration": 8,
    "start_time": "2022-03-10T16:22:28.604Z"
   },
   {
    "duration": 6,
    "start_time": "2022-03-10T16:22:28.614Z"
   },
   {
    "duration": 19,
    "start_time": "2022-03-10T16:22:28.622Z"
   },
   {
    "duration": 8,
    "start_time": "2022-03-10T16:22:28.642Z"
   },
   {
    "duration": 50,
    "start_time": "2022-03-10T16:22:28.652Z"
   },
   {
    "duration": 7,
    "start_time": "2022-03-10T16:22:28.704Z"
   },
   {
    "duration": 12,
    "start_time": "2022-03-10T16:22:28.712Z"
   },
   {
    "duration": 368,
    "start_time": "2022-03-10T17:25:17.016Z"
   },
   {
    "duration": 296,
    "start_time": "2022-03-10T17:25:26.424Z"
   },
   {
    "duration": 308,
    "start_time": "2022-03-10T17:25:52.841Z"
   },
   {
    "duration": 306,
    "start_time": "2022-03-10T17:29:26.884Z"
   },
   {
    "duration": 338,
    "start_time": "2022-03-10T17:30:57.557Z"
   },
   {
    "duration": 449,
    "start_time": "2022-03-10T17:31:50.981Z"
   },
   {
    "duration": 9,
    "start_time": "2022-03-10T17:32:07.210Z"
   },
   {
    "duration": 21,
    "start_time": "2022-03-10T17:32:12.544Z"
   },
   {
    "duration": 21,
    "start_time": "2022-03-10T17:33:07.733Z"
   },
   {
    "duration": 297,
    "start_time": "2022-03-10T17:34:07.218Z"
   },
   {
    "duration": 11,
    "start_time": "2022-03-10T17:34:10.008Z"
   },
   {
    "duration": 556,
    "start_time": "2022-03-10T17:34:52.445Z"
   },
   {
    "duration": 74,
    "start_time": "2022-03-10T17:34:53.003Z"
   },
   {
    "duration": 13,
    "start_time": "2022-03-10T17:34:53.079Z"
   },
   {
    "duration": 42,
    "start_time": "2022-03-10T17:34:53.093Z"
   },
   {
    "duration": 6,
    "start_time": "2022-03-10T17:34:53.137Z"
   },
   {
    "duration": 6,
    "start_time": "2022-03-10T17:34:53.145Z"
   },
   {
    "duration": 7,
    "start_time": "2022-03-10T17:34:53.153Z"
   },
   {
    "duration": 3,
    "start_time": "2022-03-10T17:34:53.162Z"
   },
   {
    "duration": 4,
    "start_time": "2022-03-10T17:34:53.167Z"
   },
   {
    "duration": 4,
    "start_time": "2022-03-10T17:34:53.201Z"
   },
   {
    "duration": 5,
    "start_time": "2022-03-10T17:34:53.207Z"
   },
   {
    "duration": 6,
    "start_time": "2022-03-10T17:34:53.214Z"
   },
   {
    "duration": 11,
    "start_time": "2022-03-10T17:34:53.222Z"
   },
   {
    "duration": 8,
    "start_time": "2022-03-10T17:34:53.235Z"
   },
   {
    "duration": 7,
    "start_time": "2022-03-10T17:34:53.245Z"
   },
   {
    "duration": 13,
    "start_time": "2022-03-10T17:34:53.253Z"
   },
   {
    "duration": 5,
    "start_time": "2022-03-10T17:34:53.267Z"
   },
   {
    "duration": 10,
    "start_time": "2022-03-10T17:34:53.274Z"
   },
   {
    "duration": 8,
    "start_time": "2022-03-10T17:34:53.286Z"
   },
   {
    "duration": 15,
    "start_time": "2022-03-10T17:34:53.296Z"
   },
   {
    "duration": 12,
    "start_time": "2022-03-10T17:34:53.313Z"
   },
   {
    "duration": 22,
    "start_time": "2022-03-10T17:34:53.327Z"
   },
   {
    "duration": 13,
    "start_time": "2022-03-10T17:34:53.352Z"
   },
   {
    "duration": 37,
    "start_time": "2022-03-10T17:34:53.367Z"
   },
   {
    "duration": 8,
    "start_time": "2022-03-10T17:34:53.406Z"
   },
   {
    "duration": 5,
    "start_time": "2022-03-10T17:34:53.416Z"
   },
   {
    "duration": 6,
    "start_time": "2022-03-10T17:34:53.423Z"
   },
   {
    "duration": 23,
    "start_time": "2022-03-10T17:34:53.431Z"
   },
   {
    "duration": 101,
    "start_time": "2022-03-10T17:34:53.455Z"
   },
   {
    "duration": 69,
    "start_time": "2022-03-10T17:34:53.557Z"
   },
   {
    "duration": 38,
    "start_time": "2022-03-10T17:34:53.627Z"
   },
   {
    "duration": 76,
    "start_time": "2022-03-10T17:34:53.666Z"
   },
   {
    "duration": 570,
    "start_time": "2022-03-10T17:34:53.744Z"
   },
   {
    "duration": 39,
    "start_time": "2022-03-10T17:34:54.316Z"
   },
   {
    "duration": 285,
    "start_time": "2022-03-10T17:34:54.357Z"
   },
   {
    "duration": 177,
    "start_time": "2022-03-10T17:34:54.644Z"
   },
   {
    "duration": 180,
    "start_time": "2022-03-10T17:34:54.822Z"
   },
   {
    "duration": 189,
    "start_time": "2022-03-10T17:34:55.004Z"
   },
   {
    "duration": 181,
    "start_time": "2022-03-10T17:34:55.195Z"
   },
   {
    "duration": 9,
    "start_time": "2022-03-10T17:34:55.377Z"
   },
   {
    "duration": 17,
    "start_time": "2022-03-10T17:34:55.387Z"
   },
   {
    "duration": 18,
    "start_time": "2022-03-10T17:34:55.406Z"
   },
   {
    "duration": 7,
    "start_time": "2022-03-10T17:34:55.425Z"
   },
   {
    "duration": 14,
    "start_time": "2022-03-10T17:34:55.434Z"
   },
   {
    "duration": 7,
    "start_time": "2022-03-10T17:34:55.450Z"
   },
   {
    "duration": 43,
    "start_time": "2022-03-10T17:34:55.458Z"
   },
   {
    "duration": 428,
    "start_time": "2022-03-10T17:34:55.503Z"
   },
   {
    "duration": 11,
    "start_time": "2022-03-10T17:51:19.649Z"
   },
   {
    "duration": 8,
    "start_time": "2022-03-10T17:51:51.545Z"
   },
   {
    "duration": 461,
    "start_time": "2022-03-10T17:53:05.419Z"
   },
   {
    "duration": 497,
    "start_time": "2022-03-10T17:53:14.052Z"
   },
   {
    "duration": 246,
    "start_time": "2022-03-10T17:53:51.722Z"
   },
   {
    "duration": 172,
    "start_time": "2022-03-10T17:54:03.251Z"
   },
   {
    "duration": 249,
    "start_time": "2022-03-10T17:54:22.809Z"
   },
   {
    "duration": 230,
    "start_time": "2022-03-10T17:54:38.102Z"
   },
   {
    "duration": 229,
    "start_time": "2022-03-10T17:55:12.640Z"
   },
   {
    "duration": 152,
    "start_time": "2022-03-10T17:55:22.601Z"
   },
   {
    "duration": 146,
    "start_time": "2022-03-10T17:55:33.114Z"
   },
   {
    "duration": 169,
    "start_time": "2022-03-10T17:55:40.573Z"
   },
   {
    "duration": 581,
    "start_time": "2022-03-10T17:55:57.802Z"
   },
   {
    "duration": 75,
    "start_time": "2022-03-10T17:55:58.385Z"
   },
   {
    "duration": 12,
    "start_time": "2022-03-10T17:55:58.462Z"
   },
   {
    "duration": 46,
    "start_time": "2022-03-10T17:55:58.475Z"
   },
   {
    "duration": 6,
    "start_time": "2022-03-10T17:55:58.522Z"
   },
   {
    "duration": 5,
    "start_time": "2022-03-10T17:55:58.530Z"
   },
   {
    "duration": 7,
    "start_time": "2022-03-10T17:55:58.536Z"
   },
   {
    "duration": 4,
    "start_time": "2022-03-10T17:55:58.545Z"
   },
   {
    "duration": 6,
    "start_time": "2022-03-10T17:55:58.551Z"
   },
   {
    "duration": 4,
    "start_time": "2022-03-10T17:55:58.559Z"
   },
   {
    "duration": 37,
    "start_time": "2022-03-10T17:55:58.564Z"
   },
   {
    "duration": 4,
    "start_time": "2022-03-10T17:55:58.603Z"
   },
   {
    "duration": 5,
    "start_time": "2022-03-10T17:55:58.609Z"
   },
   {
    "duration": 7,
    "start_time": "2022-03-10T17:55:58.616Z"
   },
   {
    "duration": 7,
    "start_time": "2022-03-10T17:55:58.625Z"
   },
   {
    "duration": 12,
    "start_time": "2022-03-10T17:55:58.634Z"
   },
   {
    "duration": 6,
    "start_time": "2022-03-10T17:55:58.647Z"
   },
   {
    "duration": 13,
    "start_time": "2022-03-10T17:55:58.654Z"
   },
   {
    "duration": 8,
    "start_time": "2022-03-10T17:55:58.668Z"
   },
   {
    "duration": 24,
    "start_time": "2022-03-10T17:55:58.678Z"
   },
   {
    "duration": 10,
    "start_time": "2022-03-10T17:55:58.704Z"
   },
   {
    "duration": 20,
    "start_time": "2022-03-10T17:55:58.716Z"
   },
   {
    "duration": 13,
    "start_time": "2022-03-10T17:55:58.738Z"
   },
   {
    "duration": 8,
    "start_time": "2022-03-10T17:55:58.753Z"
   },
   {
    "duration": 8,
    "start_time": "2022-03-10T17:55:58.762Z"
   },
   {
    "duration": 5,
    "start_time": "2022-03-10T17:55:58.801Z"
   },
   {
    "duration": 6,
    "start_time": "2022-03-10T17:55:58.809Z"
   },
   {
    "duration": 24,
    "start_time": "2022-03-10T17:55:58.817Z"
   },
   {
    "duration": 91,
    "start_time": "2022-03-10T17:55:58.842Z"
   },
   {
    "duration": 32,
    "start_time": "2022-03-10T17:55:58.934Z"
   },
   {
    "duration": 68,
    "start_time": "2022-03-10T17:55:58.967Z"
   },
   {
    "duration": 68,
    "start_time": "2022-03-10T17:55:59.037Z"
   },
   {
    "duration": 599,
    "start_time": "2022-03-10T17:55:59.107Z"
   },
   {
    "duration": 39,
    "start_time": "2022-03-10T17:55:59.707Z"
   },
   {
    "duration": 283,
    "start_time": "2022-03-10T17:55:59.747Z"
   },
   {
    "duration": 177,
    "start_time": "2022-03-10T17:56:00.032Z"
   },
   {
    "duration": 173,
    "start_time": "2022-03-10T17:56:00.211Z"
   },
   {
    "duration": 189,
    "start_time": "2022-03-10T17:56:00.386Z"
   },
   {
    "duration": 199,
    "start_time": "2022-03-10T17:56:00.576Z"
   },
   {
    "duration": 8,
    "start_time": "2022-03-10T17:56:00.777Z"
   },
   {
    "duration": 19,
    "start_time": "2022-03-10T17:56:00.786Z"
   },
   {
    "duration": 16,
    "start_time": "2022-03-10T17:56:00.806Z"
   },
   {
    "duration": 8,
    "start_time": "2022-03-10T17:56:00.824Z"
   },
   {
    "duration": 17,
    "start_time": "2022-03-10T17:56:00.834Z"
   },
   {
    "duration": 7,
    "start_time": "2022-03-10T17:56:00.853Z"
   },
   {
    "duration": 46,
    "start_time": "2022-03-10T17:56:00.862Z"
   },
   {
    "duration": 499,
    "start_time": "2022-03-10T17:56:00.910Z"
   },
   {
    "duration": 185,
    "start_time": "2022-03-10T17:56:01.411Z"
   },
   {
    "duration": 128,
    "start_time": "2022-03-10T17:56:53.353Z"
   },
   {
    "duration": 786,
    "start_time": "2022-03-10T17:57:00.326Z"
   },
   {
    "duration": 841,
    "start_time": "2022-03-10T17:57:55.826Z"
   },
   {
    "duration": 237,
    "start_time": "2022-03-10T17:58:24.864Z"
   },
   {
    "duration": 128,
    "start_time": "2022-03-10T17:58:38.745Z"
   },
   {
    "duration": 272,
    "start_time": "2022-03-10T17:58:48.170Z"
   },
   {
    "duration": 140,
    "start_time": "2022-03-10T17:58:57.968Z"
   },
   {
    "duration": 175,
    "start_time": "2022-03-10T17:59:04.203Z"
   },
   {
    "duration": 381,
    "start_time": "2022-03-10T18:00:47.340Z"
   },
   {
    "duration": 127,
    "start_time": "2022-03-10T18:01:07.494Z"
   },
   {
    "duration": 149,
    "start_time": "2022-03-10T18:02:09.024Z"
   },
   {
    "duration": 365,
    "start_time": "2022-03-10T18:02:14.387Z"
   },
   {
    "duration": 283,
    "start_time": "2022-03-10T18:02:27.817Z"
   },
   {
    "duration": 134,
    "start_time": "2022-03-10T18:02:33.172Z"
   },
   {
    "duration": 241,
    "start_time": "2022-03-10T18:02:51.014Z"
   },
   {
    "duration": 164,
    "start_time": "2022-03-10T18:03:06.448Z"
   },
   {
    "duration": 324,
    "start_time": "2022-03-10T18:03:37.703Z"
   },
   {
    "duration": 295,
    "start_time": "2022-03-10T18:03:53.373Z"
   },
   {
    "duration": 98,
    "start_time": "2022-03-10T18:04:09.344Z"
   },
   {
    "duration": 179,
    "start_time": "2022-03-10T18:04:14.397Z"
   },
   {
    "duration": 160,
    "start_time": "2022-03-10T18:04:28.915Z"
   },
   {
    "duration": 265,
    "start_time": "2022-03-10T18:05:05.642Z"
   },
   {
    "duration": 236,
    "start_time": "2022-03-10T18:05:09.957Z"
   },
   {
    "duration": 577,
    "start_time": "2022-03-10T18:06:07.493Z"
   },
   {
    "duration": 1105,
    "start_time": "2022-03-10T18:06:19.076Z"
   },
   {
    "duration": 177,
    "start_time": "2022-03-10T18:06:27.535Z"
   },
   {
    "duration": 350,
    "start_time": "2022-03-10T18:07:00.756Z"
   },
   {
    "duration": 164,
    "start_time": "2022-03-10T18:07:10.876Z"
   },
   {
    "duration": 471,
    "start_time": "2022-03-10T18:09:54.955Z"
   },
   {
    "duration": 161,
    "start_time": "2022-03-10T18:11:06.529Z"
   },
   {
    "duration": 164,
    "start_time": "2022-03-10T18:11:11.947Z"
   },
   {
    "duration": 171,
    "start_time": "2022-03-10T18:12:11.662Z"
   },
   {
    "duration": 385,
    "start_time": "2022-03-10T18:13:34.590Z"
   },
   {
    "duration": 296,
    "start_time": "2022-03-10T18:15:04.719Z"
   },
   {
    "duration": 220,
    "start_time": "2022-03-10T18:15:21.749Z"
   },
   {
    "duration": 261,
    "start_time": "2022-03-10T18:15:31.247Z"
   },
   {
    "duration": 319,
    "start_time": "2022-03-10T18:15:40.066Z"
   },
   {
    "duration": 322,
    "start_time": "2022-03-10T18:16:29.110Z"
   },
   {
    "duration": 244,
    "start_time": "2022-03-10T18:16:32.277Z"
   },
   {
    "duration": 163,
    "start_time": "2022-03-10T18:18:40.112Z"
   },
   {
    "duration": 166,
    "start_time": "2022-03-10T18:18:50.449Z"
   },
   {
    "duration": 264,
    "start_time": "2022-03-10T18:19:30.150Z"
   },
   {
    "duration": 248,
    "start_time": "2022-03-10T18:19:46.346Z"
   },
   {
    "duration": 258,
    "start_time": "2022-03-10T18:19:58.126Z"
   },
   {
    "duration": 166,
    "start_time": "2022-03-10T18:21:12.211Z"
   },
   {
    "duration": 168,
    "start_time": "2022-03-10T18:21:36.814Z"
   },
   {
    "duration": 252,
    "start_time": "2022-03-10T18:21:46.160Z"
   },
   {
    "duration": 166,
    "start_time": "2022-03-10T18:21:57.874Z"
   },
   {
    "duration": 183,
    "start_time": "2022-03-10T18:22:04.534Z"
   },
   {
    "duration": 174,
    "start_time": "2022-03-10T18:22:10.567Z"
   },
   {
    "duration": 168,
    "start_time": "2022-03-10T18:22:15.421Z"
   },
   {
    "duration": 172,
    "start_time": "2022-03-10T18:22:24.605Z"
   },
   {
    "duration": 179,
    "start_time": "2022-03-10T18:22:37.820Z"
   },
   {
    "duration": 256,
    "start_time": "2022-03-10T18:22:46.748Z"
   },
   {
    "duration": 346,
    "start_time": "2022-03-10T18:23:21.799Z"
   },
   {
    "duration": 424,
    "start_time": "2022-03-10T18:23:29.369Z"
   },
   {
    "duration": 238,
    "start_time": "2022-03-10T18:23:52.377Z"
   },
   {
    "duration": 250,
    "start_time": "2022-03-10T18:24:13.109Z"
   },
   {
    "duration": 9,
    "start_time": "2022-03-10T18:30:52.071Z"
   },
   {
    "duration": 8,
    "start_time": "2022-03-10T18:30:56.183Z"
   },
   {
    "duration": 7,
    "start_time": "2022-03-10T18:32:57.548Z"
   },
   {
    "duration": 12,
    "start_time": "2022-03-10T18:36:24.927Z"
   },
   {
    "duration": 340,
    "start_time": "2022-03-10T18:43:03.296Z"
   },
   {
    "duration": 321,
    "start_time": "2022-03-10T18:43:21.966Z"
   },
   {
    "duration": 14,
    "start_time": "2022-03-10T18:43:51.619Z"
   },
   {
    "duration": 14,
    "start_time": "2022-03-10T18:44:23.751Z"
   },
   {
    "duration": 18,
    "start_time": "2022-03-10T18:45:05.206Z"
   },
   {
    "duration": 307,
    "start_time": "2022-03-10T18:45:34.956Z"
   },
   {
    "duration": 15,
    "start_time": "2022-03-10T18:45:52.192Z"
   },
   {
    "duration": 307,
    "start_time": "2022-03-10T18:46:27.623Z"
   },
   {
    "duration": 935,
    "start_time": "2022-03-10T18:46:46.654Z"
   },
   {
    "duration": 12,
    "start_time": "2022-03-10T18:47:27.060Z"
   },
   {
    "duration": 8,
    "start_time": "2022-03-10T18:48:09.064Z"
   },
   {
    "duration": 12,
    "start_time": "2022-03-10T18:48:14.676Z"
   },
   {
    "duration": 12,
    "start_time": "2022-03-10T18:48:27.022Z"
   },
   {
    "duration": 8,
    "start_time": "2022-03-10T18:48:49.998Z"
   },
   {
    "duration": 10,
    "start_time": "2022-03-10T18:50:09.115Z"
   },
   {
    "duration": 357,
    "start_time": "2022-03-11T12:09:13.980Z"
   },
   {
    "duration": 638,
    "start_time": "2022-03-11T12:09:24.723Z"
   },
   {
    "duration": 122,
    "start_time": "2022-03-11T12:09:25.363Z"
   },
   {
    "duration": 23,
    "start_time": "2022-03-11T12:09:25.488Z"
   },
   {
    "duration": 60,
    "start_time": "2022-03-11T12:09:25.513Z"
   },
   {
    "duration": 9,
    "start_time": "2022-03-11T12:09:25.575Z"
   },
   {
    "duration": 25,
    "start_time": "2022-03-11T12:09:25.586Z"
   },
   {
    "duration": 10,
    "start_time": "2022-03-11T12:09:25.614Z"
   },
   {
    "duration": 5,
    "start_time": "2022-03-11T12:09:25.628Z"
   },
   {
    "duration": 5,
    "start_time": "2022-03-11T12:09:25.635Z"
   },
   {
    "duration": 5,
    "start_time": "2022-03-11T12:09:25.642Z"
   },
   {
    "duration": 8,
    "start_time": "2022-03-11T12:09:25.649Z"
   },
   {
    "duration": 5,
    "start_time": "2022-03-11T12:09:25.659Z"
   },
   {
    "duration": 5,
    "start_time": "2022-03-11T12:09:25.666Z"
   },
   {
    "duration": 6,
    "start_time": "2022-03-11T12:09:25.705Z"
   },
   {
    "duration": 5,
    "start_time": "2022-03-11T12:09:25.714Z"
   },
   {
    "duration": 12,
    "start_time": "2022-03-11T12:09:25.721Z"
   },
   {
    "duration": 6,
    "start_time": "2022-03-11T12:09:25.734Z"
   },
   {
    "duration": 8,
    "start_time": "2022-03-11T12:09:25.741Z"
   },
   {
    "duration": 5,
    "start_time": "2022-03-11T12:09:25.751Z"
   },
   {
    "duration": 48,
    "start_time": "2022-03-11T12:09:25.758Z"
   },
   {
    "duration": 13,
    "start_time": "2022-03-11T12:09:25.808Z"
   },
   {
    "duration": 21,
    "start_time": "2022-03-11T12:09:25.823Z"
   },
   {
    "duration": 14,
    "start_time": "2022-03-11T12:09:25.848Z"
   },
   {
    "duration": 9,
    "start_time": "2022-03-11T12:09:25.865Z"
   },
   {
    "duration": 9,
    "start_time": "2022-03-11T12:09:25.906Z"
   },
   {
    "duration": 6,
    "start_time": "2022-03-11T12:09:25.917Z"
   },
   {
    "duration": 7,
    "start_time": "2022-03-11T12:09:25.924Z"
   },
   {
    "duration": 20,
    "start_time": "2022-03-11T12:09:25.933Z"
   },
   {
    "duration": 103,
    "start_time": "2022-03-11T12:09:25.955Z"
   },
   {
    "duration": 62,
    "start_time": "2022-03-11T12:09:26.060Z"
   },
   {
    "duration": 37,
    "start_time": "2022-03-11T12:09:26.123Z"
   },
   {
    "duration": 80,
    "start_time": "2022-03-11T12:09:26.162Z"
   },
   {
    "duration": 574,
    "start_time": "2022-03-11T12:09:26.244Z"
   },
   {
    "duration": 41,
    "start_time": "2022-03-11T12:09:26.820Z"
   },
   {
    "duration": 307,
    "start_time": "2022-03-11T12:09:26.863Z"
   },
   {
    "duration": 192,
    "start_time": "2022-03-11T12:09:27.172Z"
   },
   {
    "duration": 179,
    "start_time": "2022-03-11T12:09:27.366Z"
   },
   {
    "duration": 191,
    "start_time": "2022-03-11T12:09:27.547Z"
   },
   {
    "duration": 285,
    "start_time": "2022-03-11T12:09:27.740Z"
   },
   {
    "duration": 10,
    "start_time": "2022-03-11T12:09:28.027Z"
   },
   {
    "duration": 6,
    "start_time": "2022-03-11T12:09:28.039Z"
   },
   {
    "duration": 19,
    "start_time": "2022-03-11T12:09:28.047Z"
   },
   {
    "duration": 8,
    "start_time": "2022-03-11T12:09:28.067Z"
   },
   {
    "duration": 43,
    "start_time": "2022-03-11T12:09:28.076Z"
   },
   {
    "duration": 7,
    "start_time": "2022-03-11T12:09:28.120Z"
   },
   {
    "duration": 14,
    "start_time": "2022-03-11T12:09:28.129Z"
   },
   {
    "duration": 457,
    "start_time": "2022-03-11T12:09:28.145Z"
   },
   {
    "duration": 187,
    "start_time": "2022-03-11T12:09:28.604Z"
   },
   {
    "duration": 282,
    "start_time": "2022-03-11T12:09:28.793Z"
   },
   {
    "duration": 407,
    "start_time": "2022-03-11T12:09:29.077Z"
   },
   {
    "duration": 242,
    "start_time": "2022-03-11T12:09:29.486Z"
   },
   {
    "duration": 402,
    "start_time": "2022-03-11T12:09:29.729Z"
   },
   {
    "duration": -1880,
    "start_time": "2022-03-11T12:09:32.013Z"
   },
   {
    "duration": 9,
    "start_time": "2022-03-11T12:11:09.599Z"
   },
   {
    "duration": 11,
    "start_time": "2022-03-11T12:13:04.350Z"
   },
   {
    "duration": 589,
    "start_time": "2022-03-11T12:14:22.664Z"
   },
   {
    "duration": 328,
    "start_time": "2022-03-11T12:14:48.505Z"
   },
   {
    "duration": 11,
    "start_time": "2022-03-11T12:14:57.492Z"
   },
   {
    "duration": 298,
    "start_time": "2022-03-11T12:18:24.972Z"
   },
   {
    "duration": 321,
    "start_time": "2022-03-11T12:18:36.781Z"
   },
   {
    "duration": 297,
    "start_time": "2022-03-11T12:24:38.655Z"
   },
   {
    "duration": 329,
    "start_time": "2022-03-11T12:24:48.547Z"
   },
   {
    "duration": 348,
    "start_time": "2022-03-11T12:24:59.102Z"
   },
   {
    "duration": 335,
    "start_time": "2022-03-11T12:26:13.339Z"
   },
   {
    "duration": 313,
    "start_time": "2022-03-11T12:29:09.575Z"
   },
   {
    "duration": 310,
    "start_time": "2022-03-11T12:29:38.909Z"
   },
   {
    "duration": 363,
    "start_time": "2022-03-11T12:30:48.360Z"
   },
   {
    "duration": 317,
    "start_time": "2022-03-11T12:30:56.557Z"
   },
   {
    "duration": 16,
    "start_time": "2022-03-11T12:31:19.235Z"
   },
   {
    "duration": 8,
    "start_time": "2022-03-11T12:45:50.859Z"
   },
   {
    "duration": 1053,
    "start_time": "2022-03-11T12:46:53.305Z"
   },
   {
    "duration": 1202,
    "start_time": "2022-03-11T12:48:04.822Z"
   },
   {
    "duration": 1094,
    "start_time": "2022-03-11T12:48:30.080Z"
   },
   {
    "duration": 12,
    "start_time": "2022-03-11T12:49:30.224Z"
   },
   {
    "duration": 298,
    "start_time": "2022-03-11T12:51:04.605Z"
   },
   {
    "duration": 508,
    "start_time": "2022-03-11T13:36:29.158Z"
   },
   {
    "duration": 323,
    "start_time": "2022-03-11T14:07:39.116Z"
   },
   {
    "duration": 309,
    "start_time": "2022-03-11T14:10:24.050Z"
   },
   {
    "duration": 328,
    "start_time": "2022-03-11T14:12:07.377Z"
   },
   {
    "duration": 622,
    "start_time": "2022-03-11T14:18:55.102Z"
   },
   {
    "duration": 76,
    "start_time": "2022-03-11T14:18:55.726Z"
   },
   {
    "duration": 13,
    "start_time": "2022-03-11T14:18:55.804Z"
   },
   {
    "duration": 37,
    "start_time": "2022-03-11T14:18:55.819Z"
   },
   {
    "duration": 8,
    "start_time": "2022-03-11T14:18:55.858Z"
   },
   {
    "duration": 7,
    "start_time": "2022-03-11T14:18:55.868Z"
   },
   {
    "duration": 9,
    "start_time": "2022-03-11T14:18:55.906Z"
   },
   {
    "duration": 4,
    "start_time": "2022-03-11T14:18:55.918Z"
   },
   {
    "duration": 8,
    "start_time": "2022-03-11T14:18:55.924Z"
   },
   {
    "duration": 6,
    "start_time": "2022-03-11T14:18:55.933Z"
   },
   {
    "duration": 6,
    "start_time": "2022-03-11T14:18:55.940Z"
   },
   {
    "duration": 5,
    "start_time": "2022-03-11T14:18:55.948Z"
   },
   {
    "duration": 14,
    "start_time": "2022-03-11T14:18:55.955Z"
   },
   {
    "duration": 6,
    "start_time": "2022-03-11T14:18:55.971Z"
   },
   {
    "duration": 32,
    "start_time": "2022-03-11T14:18:55.978Z"
   },
   {
    "duration": 9,
    "start_time": "2022-03-11T14:18:56.011Z"
   },
   {
    "duration": 6,
    "start_time": "2022-03-11T14:18:56.022Z"
   },
   {
    "duration": 8,
    "start_time": "2022-03-11T14:18:56.029Z"
   },
   {
    "duration": 4,
    "start_time": "2022-03-11T14:18:56.039Z"
   },
   {
    "duration": 12,
    "start_time": "2022-03-11T14:18:56.044Z"
   },
   {
    "duration": 10,
    "start_time": "2022-03-11T14:18:56.057Z"
   },
   {
    "duration": 46,
    "start_time": "2022-03-11T14:18:56.068Z"
   },
   {
    "duration": 12,
    "start_time": "2022-03-11T14:18:56.117Z"
   },
   {
    "duration": 7,
    "start_time": "2022-03-11T14:18:56.132Z"
   },
   {
    "duration": 9,
    "start_time": "2022-03-11T14:18:56.141Z"
   },
   {
    "duration": 11,
    "start_time": "2022-03-11T14:18:56.151Z"
   },
   {
    "duration": 7,
    "start_time": "2022-03-11T14:18:56.163Z"
   },
   {
    "duration": 45,
    "start_time": "2022-03-11T14:18:56.172Z"
   },
   {
    "duration": 100,
    "start_time": "2022-03-11T14:18:56.219Z"
   },
   {
    "duration": 34,
    "start_time": "2022-03-11T14:18:56.321Z"
   },
   {
    "duration": 61,
    "start_time": "2022-03-11T14:18:56.357Z"
   },
   {
    "duration": 58,
    "start_time": "2022-03-11T14:18:56.420Z"
   },
   {
    "duration": 591,
    "start_time": "2022-03-11T14:18:56.480Z"
   },
   {
    "duration": 60,
    "start_time": "2022-03-11T14:18:57.073Z"
   },
   {
    "duration": 282,
    "start_time": "2022-03-11T14:18:57.135Z"
   },
   {
    "duration": 181,
    "start_time": "2022-03-11T14:18:57.418Z"
   },
   {
    "duration": 168,
    "start_time": "2022-03-11T14:18:57.600Z"
   },
   {
    "duration": 194,
    "start_time": "2022-03-11T14:18:57.770Z"
   },
   {
    "duration": 184,
    "start_time": "2022-03-11T14:18:57.966Z"
   },
   {
    "duration": 7,
    "start_time": "2022-03-11T14:18:58.152Z"
   },
   {
    "duration": 5,
    "start_time": "2022-03-11T14:18:58.161Z"
   },
   {
    "duration": 17,
    "start_time": "2022-03-11T14:18:58.167Z"
   },
   {
    "duration": 25,
    "start_time": "2022-03-11T14:18:58.185Z"
   },
   {
    "duration": 17,
    "start_time": "2022-03-11T14:18:58.212Z"
   },
   {
    "duration": 7,
    "start_time": "2022-03-11T14:18:58.231Z"
   },
   {
    "duration": 13,
    "start_time": "2022-03-11T14:18:58.240Z"
   },
   {
    "duration": 472,
    "start_time": "2022-03-11T14:18:58.255Z"
   },
   {
    "duration": 197,
    "start_time": "2022-03-11T14:18:58.729Z"
   },
   {
    "duration": 282,
    "start_time": "2022-03-11T14:18:58.929Z"
   },
   {
    "duration": 408,
    "start_time": "2022-03-11T14:18:59.213Z"
   },
   {
    "duration": 249,
    "start_time": "2022-03-11T14:18:59.623Z"
   },
   {
    "duration": 7,
    "start_time": "2022-03-11T14:18:59.874Z"
   },
   {
    "duration": 412,
    "start_time": "2022-03-11T14:18:59.882Z"
   },
   {
    "duration": 296,
    "start_time": "2022-03-11T14:19:25.899Z"
   },
   {
    "duration": 469,
    "start_time": "2022-03-11T14:20:33.011Z"
   },
   {
    "duration": 332,
    "start_time": "2022-03-11T14:23:54.564Z"
   },
   {
    "duration": 15,
    "start_time": "2022-03-11T14:26:05.830Z"
   },
   {
    "duration": 315,
    "start_time": "2022-03-11T14:27:01.748Z"
   },
   {
    "duration": 337,
    "start_time": "2022-03-11T14:31:32.787Z"
   },
   {
    "duration": 303,
    "start_time": "2022-03-11T14:39:45.522Z"
   },
   {
    "duration": 1418,
    "start_time": "2022-03-11T14:39:53.721Z"
   },
   {
    "duration": 666,
    "start_time": "2022-03-11T14:40:37.502Z"
   },
   {
    "duration": 76,
    "start_time": "2022-03-11T14:40:38.170Z"
   },
   {
    "duration": 3,
    "start_time": "2022-03-11T14:40:38.248Z"
   },
   {
    "duration": 12,
    "start_time": "2022-03-11T14:40:38.253Z"
   },
   {
    "duration": 11,
    "start_time": "2022-03-11T14:40:38.266Z"
   },
   {
    "duration": 51,
    "start_time": "2022-03-11T14:40:38.279Z"
   },
   {
    "duration": 8,
    "start_time": "2022-03-11T14:40:38.332Z"
   },
   {
    "duration": 6,
    "start_time": "2022-03-11T14:40:38.342Z"
   },
   {
    "duration": 8,
    "start_time": "2022-03-11T14:40:38.352Z"
   },
   {
    "duration": 5,
    "start_time": "2022-03-11T14:40:38.363Z"
   },
   {
    "duration": 40,
    "start_time": "2022-03-11T14:40:38.369Z"
   },
   {
    "duration": 10653,
    "start_time": "2022-03-11T14:40:38.411Z"
   },
   {
    "duration": -1933,
    "start_time": "2022-03-11T14:40:51.000Z"
   },
   {
    "duration": -1934,
    "start_time": "2022-03-11T14:40:51.002Z"
   },
   {
    "duration": -1936,
    "start_time": "2022-03-11T14:40:51.004Z"
   },
   {
    "duration": -1937,
    "start_time": "2022-03-11T14:40:51.006Z"
   },
   {
    "duration": -1938,
    "start_time": "2022-03-11T14:40:51.008Z"
   },
   {
    "duration": -1945,
    "start_time": "2022-03-11T14:40:51.016Z"
   },
   {
    "duration": -1946,
    "start_time": "2022-03-11T14:40:51.018Z"
   },
   {
    "duration": -1947,
    "start_time": "2022-03-11T14:40:51.020Z"
   },
   {
    "duration": -1946,
    "start_time": "2022-03-11T14:40:51.021Z"
   },
   {
    "duration": -1947,
    "start_time": "2022-03-11T14:40:51.023Z"
   },
   {
    "duration": -1949,
    "start_time": "2022-03-11T14:40:51.026Z"
   },
   {
    "duration": -1956,
    "start_time": "2022-03-11T14:40:51.034Z"
   },
   {
    "duration": -1977,
    "start_time": "2022-03-11T14:40:51.056Z"
   },
   {
    "duration": -1978,
    "start_time": "2022-03-11T14:40:51.058Z"
   },
   {
    "duration": -1985,
    "start_time": "2022-03-11T14:40:51.065Z"
   },
   {
    "duration": -1986,
    "start_time": "2022-03-11T14:40:51.067Z"
   },
   {
    "duration": -1987,
    "start_time": "2022-03-11T14:40:51.069Z"
   },
   {
    "duration": -1987,
    "start_time": "2022-03-11T14:40:51.071Z"
   },
   {
    "duration": -1988,
    "start_time": "2022-03-11T14:40:51.073Z"
   },
   {
    "duration": -1989,
    "start_time": "2022-03-11T14:40:51.075Z"
   },
   {
    "duration": -1996,
    "start_time": "2022-03-11T14:40:51.083Z"
   },
   {
    "duration": -1997,
    "start_time": "2022-03-11T14:40:51.085Z"
   },
   {
    "duration": -1998,
    "start_time": "2022-03-11T14:40:51.087Z"
   },
   {
    "duration": -1999,
    "start_time": "2022-03-11T14:40:51.089Z"
   },
   {
    "duration": -1999,
    "start_time": "2022-03-11T14:40:51.090Z"
   },
   {
    "duration": -2001,
    "start_time": "2022-03-11T14:40:51.093Z"
   },
   {
    "duration": -2071,
    "start_time": "2022-03-11T14:40:51.164Z"
   },
   {
    "duration": -2072,
    "start_time": "2022-03-11T14:40:51.166Z"
   },
   {
    "duration": -2072,
    "start_time": "2022-03-11T14:40:51.167Z"
   },
   {
    "duration": -2073,
    "start_time": "2022-03-11T14:40:51.169Z"
   },
   {
    "duration": -2074,
    "start_time": "2022-03-11T14:40:51.171Z"
   },
   {
    "duration": -2075,
    "start_time": "2022-03-11T14:40:51.172Z"
   },
   {
    "duration": -2076,
    "start_time": "2022-03-11T14:40:51.174Z"
   },
   {
    "duration": -2077,
    "start_time": "2022-03-11T14:40:51.176Z"
   },
   {
    "duration": -2078,
    "start_time": "2022-03-11T14:40:51.178Z"
   },
   {
    "duration": -2079,
    "start_time": "2022-03-11T14:40:51.180Z"
   },
   {
    "duration": -2092,
    "start_time": "2022-03-11T14:40:51.194Z"
   },
   {
    "duration": -2093,
    "start_time": "2022-03-11T14:40:51.196Z"
   },
   {
    "duration": -2093,
    "start_time": "2022-03-11T14:40:51.197Z"
   },
   {
    "duration": -2095,
    "start_time": "2022-03-11T14:40:51.199Z"
   },
   {
    "duration": -2096,
    "start_time": "2022-03-11T14:40:51.201Z"
   },
   {
    "duration": -2097,
    "start_time": "2022-03-11T14:40:51.203Z"
   },
   {
    "duration": -2100,
    "start_time": "2022-03-11T14:40:51.207Z"
   },
   {
    "duration": 600,
    "start_time": "2022-03-11T14:43:51.379Z"
   },
   {
    "duration": 77,
    "start_time": "2022-03-11T14:43:51.981Z"
   },
   {
    "duration": 3,
    "start_time": "2022-03-11T14:43:52.061Z"
   },
   {
    "duration": 10,
    "start_time": "2022-03-11T14:43:52.066Z"
   },
   {
    "duration": 9,
    "start_time": "2022-03-11T14:43:52.078Z"
   },
   {
    "duration": 40,
    "start_time": "2022-03-11T14:43:52.105Z"
   },
   {
    "duration": 7,
    "start_time": "2022-03-11T14:43:52.147Z"
   },
   {
    "duration": 11,
    "start_time": "2022-03-11T14:43:52.155Z"
   },
   {
    "duration": 8,
    "start_time": "2022-03-11T14:43:52.169Z"
   },
   {
    "duration": 26,
    "start_time": "2022-03-11T14:43:52.179Z"
   },
   {
    "duration": 6,
    "start_time": "2022-03-11T14:43:52.208Z"
   },
   {
    "duration": 4,
    "start_time": "2022-03-11T14:43:52.215Z"
   },
   {
    "duration": 9,
    "start_time": "2022-03-11T14:43:52.221Z"
   },
   {
    "duration": 10,
    "start_time": "2022-03-11T14:43:52.231Z"
   },
   {
    "duration": 8,
    "start_time": "2022-03-11T14:43:52.243Z"
   },
   {
    "duration": 7,
    "start_time": "2022-03-11T14:43:52.253Z"
   },
   {
    "duration": 5,
    "start_time": "2022-03-11T14:43:52.261Z"
   },
   {
    "duration": 9,
    "start_time": "2022-03-11T14:43:52.268Z"
   },
   {
    "duration": 27,
    "start_time": "2022-03-11T14:43:52.279Z"
   },
   {
    "duration": 6,
    "start_time": "2022-03-11T14:43:52.308Z"
   },
   {
    "duration": 7,
    "start_time": "2022-03-11T14:43:52.316Z"
   },
   {
    "duration": 13,
    "start_time": "2022-03-11T14:43:52.324Z"
   },
   {
    "duration": 10,
    "start_time": "2022-03-11T14:43:52.339Z"
   },
   {
    "duration": 21,
    "start_time": "2022-03-11T14:43:52.351Z"
   },
   {
    "duration": 41,
    "start_time": "2022-03-11T14:43:52.374Z"
   },
   {
    "duration": 8,
    "start_time": "2022-03-11T14:43:52.416Z"
   },
   {
    "duration": 9,
    "start_time": "2022-03-11T14:43:52.427Z"
   },
   {
    "duration": 6,
    "start_time": "2022-03-11T14:43:52.438Z"
   },
   {
    "duration": 6,
    "start_time": "2022-03-11T14:43:52.446Z"
   },
   {
    "duration": 53,
    "start_time": "2022-03-11T14:43:52.453Z"
   },
   {
    "duration": 102,
    "start_time": "2022-03-11T14:43:52.508Z"
   },
   {
    "duration": 34,
    "start_time": "2022-03-11T14:43:52.612Z"
   },
   {
    "duration": 58,
    "start_time": "2022-03-11T14:43:52.647Z"
   },
   {
    "duration": 60,
    "start_time": "2022-03-11T14:43:52.707Z"
   },
   {
    "duration": 602,
    "start_time": "2022-03-11T14:43:52.769Z"
   },
   {
    "duration": 52,
    "start_time": "2022-03-11T14:43:53.373Z"
   },
   {
    "duration": 289,
    "start_time": "2022-03-11T14:43:53.427Z"
   },
   {
    "duration": 184,
    "start_time": "2022-03-11T14:43:53.718Z"
   },
   {
    "duration": 176,
    "start_time": "2022-03-11T14:43:53.903Z"
   },
   {
    "duration": 194,
    "start_time": "2022-03-11T14:43:54.081Z"
   },
   {
    "duration": 190,
    "start_time": "2022-03-11T14:43:54.277Z"
   },
   {
    "duration": 7,
    "start_time": "2022-03-11T14:43:54.469Z"
   },
   {
    "duration": 17,
    "start_time": "2022-03-11T14:43:54.477Z"
   },
   {
    "duration": 20,
    "start_time": "2022-03-11T14:43:54.495Z"
   },
   {
    "duration": 6,
    "start_time": "2022-03-11T14:43:54.517Z"
   },
   {
    "duration": 25,
    "start_time": "2022-03-11T14:43:54.525Z"
   },
   {
    "duration": 14,
    "start_time": "2022-03-11T14:43:54.552Z"
   },
   {
    "duration": 12,
    "start_time": "2022-03-11T14:43:54.567Z"
   },
   {
    "duration": 445,
    "start_time": "2022-03-11T14:43:54.581Z"
   },
   {
    "duration": 199,
    "start_time": "2022-03-11T14:43:55.028Z"
   },
   {
    "duration": 269,
    "start_time": "2022-03-11T14:43:55.229Z"
   },
   {
    "duration": 414,
    "start_time": "2022-03-11T14:43:55.499Z"
   },
   {
    "duration": 247,
    "start_time": "2022-03-11T14:43:55.914Z"
   },
   {
    "duration": 8,
    "start_time": "2022-03-11T14:43:56.163Z"
   },
   {
    "duration": 373,
    "start_time": "2022-03-11T14:43:56.172Z"
   },
   {
    "duration": 16,
    "start_time": "2022-03-11T14:46:12.027Z"
   },
   {
    "duration": 345,
    "start_time": "2022-03-11T14:46:37.108Z"
   },
   {
    "duration": 306,
    "start_time": "2022-03-11T14:46:48.364Z"
   },
   {
    "duration": 313,
    "start_time": "2022-03-11T14:47:14.302Z"
   },
   {
    "duration": 316,
    "start_time": "2022-03-11T14:47:19.666Z"
   },
   {
    "duration": 332,
    "start_time": "2022-03-11T14:49:37.571Z"
   },
   {
    "duration": 22,
    "start_time": "2022-03-11T15:03:26.241Z"
   },
   {
    "duration": 8,
    "start_time": "2022-03-11T16:01:46.890Z"
   },
   {
    "duration": 42,
    "start_time": "2022-03-11T16:02:00.189Z"
   },
   {
    "duration": 285,
    "start_time": "2022-03-11T16:08:57.660Z"
   },
   {
    "duration": 286,
    "start_time": "2022-03-11T16:09:02.152Z"
   },
   {
    "duration": 16,
    "start_time": "2022-03-11T16:12:53.596Z"
   },
   {
    "duration": 215,
    "start_time": "2022-03-11T16:21:08.610Z"
   },
   {
    "duration": 504,
    "start_time": "2022-03-11T16:21:18.586Z"
   },
   {
    "duration": 435,
    "start_time": "2022-03-11T16:22:28.553Z"
   },
   {
    "duration": 264,
    "start_time": "2022-03-11T16:22:32.929Z"
   },
   {
    "duration": 174,
    "start_time": "2022-03-11T16:23:17.515Z"
   },
   {
    "duration": 159,
    "start_time": "2022-03-11T16:23:25.681Z"
   },
   {
    "duration": 163,
    "start_time": "2022-03-11T16:23:30.182Z"
   },
   {
    "duration": 172,
    "start_time": "2022-03-11T16:23:40.759Z"
   },
   {
    "duration": 164,
    "start_time": "2022-03-11T16:23:48.780Z"
   },
   {
    "duration": 162,
    "start_time": "2022-03-11T16:23:51.615Z"
   },
   {
    "duration": 293,
    "start_time": "2022-03-11T16:23:55.908Z"
   },
   {
    "duration": 331,
    "start_time": "2022-03-11T16:24:58.708Z"
   },
   {
    "duration": 224,
    "start_time": "2022-03-11T16:25:08.294Z"
   },
   {
    "duration": 230,
    "start_time": "2022-03-11T16:25:20.813Z"
   },
   {
    "duration": 237,
    "start_time": "2022-03-11T16:26:06.025Z"
   },
   {
    "duration": 245,
    "start_time": "2022-03-11T16:26:12.211Z"
   },
   {
    "duration": 233,
    "start_time": "2022-03-11T16:26:16.804Z"
   },
   {
    "duration": 232,
    "start_time": "2022-03-11T16:26:26.653Z"
   },
   {
    "duration": 202,
    "start_time": "2022-03-11T16:26:49.571Z"
   },
   {
    "duration": 241,
    "start_time": "2022-03-11T16:26:56.838Z"
   },
   {
    "duration": 217,
    "start_time": "2022-03-11T16:31:23.649Z"
   },
   {
    "duration": 239,
    "start_time": "2022-03-11T16:31:28.052Z"
   },
   {
    "duration": 254,
    "start_time": "2022-03-11T16:33:36.065Z"
   },
   {
    "duration": 11,
    "start_time": "2022-03-11T16:35:58.638Z"
   },
   {
    "duration": 247,
    "start_time": "2022-03-11T16:36:01.927Z"
   },
   {
    "duration": 367,
    "start_time": "2022-03-11T16:36:11.716Z"
   },
   {
    "duration": 15,
    "start_time": "2022-03-11T16:36:27.647Z"
   },
   {
    "duration": 308,
    "start_time": "2022-03-11T16:36:33.989Z"
   },
   {
    "duration": 237,
    "start_time": "2022-03-11T16:37:40.567Z"
   },
   {
    "duration": 264,
    "start_time": "2022-03-11T16:37:46.675Z"
   },
   {
    "duration": 601,
    "start_time": "2022-03-11T16:38:31.650Z"
   },
   {
    "duration": 80,
    "start_time": "2022-03-11T16:38:32.253Z"
   },
   {
    "duration": 3,
    "start_time": "2022-03-11T16:38:32.337Z"
   },
   {
    "duration": 16,
    "start_time": "2022-03-11T16:38:32.341Z"
   },
   {
    "duration": 9,
    "start_time": "2022-03-11T16:38:32.359Z"
   },
   {
    "duration": 46,
    "start_time": "2022-03-11T16:38:32.369Z"
   },
   {
    "duration": 6,
    "start_time": "2022-03-11T16:38:32.418Z"
   },
   {
    "duration": 6,
    "start_time": "2022-03-11T16:38:32.426Z"
   },
   {
    "duration": 7,
    "start_time": "2022-03-11T16:38:32.433Z"
   },
   {
    "duration": 3,
    "start_time": "2022-03-11T16:38:32.442Z"
   },
   {
    "duration": 4,
    "start_time": "2022-03-11T16:38:32.447Z"
   },
   {
    "duration": 5,
    "start_time": "2022-03-11T16:38:32.453Z"
   },
   {
    "duration": 7,
    "start_time": "2022-03-11T16:38:32.459Z"
   },
   {
    "duration": 39,
    "start_time": "2022-03-11T16:38:32.467Z"
   },
   {
    "duration": 9,
    "start_time": "2022-03-11T16:38:32.507Z"
   },
   {
    "duration": 4,
    "start_time": "2022-03-11T16:38:32.517Z"
   },
   {
    "duration": 4,
    "start_time": "2022-03-11T16:38:32.523Z"
   },
   {
    "duration": 8,
    "start_time": "2022-03-11T16:38:32.529Z"
   },
   {
    "duration": 3,
    "start_time": "2022-03-11T16:38:32.539Z"
   },
   {
    "duration": 10,
    "start_time": "2022-03-11T16:38:32.544Z"
   },
   {
    "duration": 8,
    "start_time": "2022-03-11T16:38:32.555Z"
   },
   {
    "duration": 13,
    "start_time": "2022-03-11T16:38:32.567Z"
   },
   {
    "duration": 31,
    "start_time": "2022-03-11T16:38:32.582Z"
   },
   {
    "duration": 20,
    "start_time": "2022-03-11T16:38:32.615Z"
   },
   {
    "duration": 12,
    "start_time": "2022-03-11T16:38:32.637Z"
   },
   {
    "duration": 8,
    "start_time": "2022-03-11T16:38:32.650Z"
   },
   {
    "duration": 10,
    "start_time": "2022-03-11T16:38:32.660Z"
   },
   {
    "duration": 35,
    "start_time": "2022-03-11T16:38:32.671Z"
   },
   {
    "duration": 11,
    "start_time": "2022-03-11T16:38:32.708Z"
   },
   {
    "duration": 19,
    "start_time": "2022-03-11T16:38:32.721Z"
   },
   {
    "duration": 101,
    "start_time": "2022-03-11T16:38:32.742Z"
   },
   {
    "duration": 63,
    "start_time": "2022-03-11T16:38:32.844Z"
   },
   {
    "duration": 38,
    "start_time": "2022-03-11T16:38:32.908Z"
   },
   {
    "duration": 73,
    "start_time": "2022-03-11T16:38:32.947Z"
   },
   {
    "duration": 589,
    "start_time": "2022-03-11T16:38:33.022Z"
   },
   {
    "duration": 41,
    "start_time": "2022-03-11T16:38:33.613Z"
   },
   {
    "duration": 292,
    "start_time": "2022-03-11T16:38:33.656Z"
   },
   {
    "duration": 181,
    "start_time": "2022-03-11T16:38:33.950Z"
   },
   {
    "duration": 175,
    "start_time": "2022-03-11T16:38:34.132Z"
   },
   {
    "duration": 187,
    "start_time": "2022-03-11T16:38:34.308Z"
   },
   {
    "duration": 178,
    "start_time": "2022-03-11T16:38:34.496Z"
   },
   {
    "duration": 7,
    "start_time": "2022-03-11T16:38:34.676Z"
   },
   {
    "duration": 22,
    "start_time": "2022-03-11T16:38:34.684Z"
   },
   {
    "duration": 17,
    "start_time": "2022-03-11T16:38:34.708Z"
   },
   {
    "duration": 8,
    "start_time": "2022-03-11T16:38:34.726Z"
   },
   {
    "duration": 15,
    "start_time": "2022-03-11T16:38:34.735Z"
   },
   {
    "duration": 9,
    "start_time": "2022-03-11T16:38:34.752Z"
   },
   {
    "duration": 15,
    "start_time": "2022-03-11T16:38:34.762Z"
   },
   {
    "duration": 441,
    "start_time": "2022-03-11T16:38:34.779Z"
   },
   {
    "duration": 193,
    "start_time": "2022-03-11T16:38:35.222Z"
   },
   {
    "duration": 272,
    "start_time": "2022-03-11T16:38:35.417Z"
   },
   {
    "duration": 416,
    "start_time": "2022-03-11T16:38:35.691Z"
   },
   {
    "duration": 239,
    "start_time": "2022-03-11T16:38:36.109Z"
   },
   {
    "duration": 7,
    "start_time": "2022-03-11T16:38:36.350Z"
   },
   {
    "duration": 22,
    "start_time": "2022-03-11T16:38:36.359Z"
   },
   {
    "duration": 57,
    "start_time": "2022-03-11T16:38:36.382Z"
   },
   {
    "duration": 17,
    "start_time": "2022-03-11T16:38:36.440Z"
   },
   {
    "duration": 264,
    "start_time": "2022-03-11T16:38:36.458Z"
   },
   {
    "duration": 42,
    "start_time": "2022-03-11T16:50:18.892Z"
   },
   {
    "duration": 133,
    "start_time": "2022-03-11T16:50:41.988Z"
   },
   {
    "duration": 131,
    "start_time": "2022-03-11T16:51:57.623Z"
   },
   {
    "duration": 97,
    "start_time": "2022-03-11T16:52:25.534Z"
   },
   {
    "duration": 1392,
    "start_time": "2022-03-11T16:52:58.469Z"
   },
   {
    "duration": 123,
    "start_time": "2022-03-11T16:53:11.884Z"
   },
   {
    "duration": 125,
    "start_time": "2022-03-11T16:54:49.398Z"
   },
   {
    "duration": 295,
    "start_time": "2022-03-11T17:00:57.343Z"
   },
   {
    "duration": 8,
    "start_time": "2022-03-11T17:01:11.042Z"
   },
   {
    "duration": 8,
    "start_time": "2022-03-11T17:01:36.218Z"
   },
   {
    "duration": 2237,
    "start_time": "2022-03-11T17:05:55.356Z"
   },
   {
    "duration": 305,
    "start_time": "2022-03-11T17:06:20.640Z"
   },
   {
    "duration": 7751,
    "start_time": "2022-03-11T17:06:38.863Z"
   },
   {
    "duration": -1933,
    "start_time": "2022-03-11T17:06:48.549Z"
   },
   {
    "duration": 7,
    "start_time": "2022-03-11T17:07:07.372Z"
   },
   {
    "duration": 294,
    "start_time": "2022-03-11T17:07:09.854Z"
   },
   {
    "duration": 2402,
    "start_time": "2022-03-11T17:07:18.226Z"
   },
   {
    "duration": 7783,
    "start_time": "2022-03-11T17:07:41.150Z"
   },
   {
    "duration": 7393,
    "start_time": "2022-03-11T17:08:03.862Z"
   },
   {
    "duration": 7,
    "start_time": "2022-03-11T17:08:57.692Z"
   },
   {
    "duration": 10,
    "start_time": "2022-03-11T17:10:10.831Z"
   },
   {
    "duration": 9,
    "start_time": "2022-03-11T17:14:03.351Z"
   },
   {
    "duration": 12,
    "start_time": "2022-03-11T17:14:23.884Z"
   },
   {
    "duration": 3,
    "start_time": "2022-03-11T17:15:22.900Z"
   },
   {
    "duration": 8,
    "start_time": "2022-03-11T17:15:36.789Z"
   },
   {
    "duration": 35,
    "start_time": "2022-03-11T17:20:49.004Z"
   },
   {
    "duration": 7886,
    "start_time": "2022-03-11T17:22:22.784Z"
   },
   {
    "duration": 7603,
    "start_time": "2022-03-11T17:22:45.228Z"
   },
   {
    "duration": 7,
    "start_time": "2022-03-11T17:23:28.833Z"
   },
   {
    "duration": 34,
    "start_time": "2022-03-11T17:23:31.772Z"
   },
   {
    "duration": 325,
    "start_time": "2022-03-11T17:24:22.791Z"
   },
   {
    "duration": 310,
    "start_time": "2022-03-11T17:24:46.633Z"
   },
   {
    "duration": 8,
    "start_time": "2022-03-11T17:24:54.685Z"
   },
   {
    "duration": 343,
    "start_time": "2022-03-11T17:24:59.181Z"
   },
   {
    "duration": 7237,
    "start_time": "2022-03-11T17:26:15.197Z"
   },
   {
    "duration": -1932,
    "start_time": "2022-03-11T17:26:24.367Z"
   },
   {
    "duration": 311,
    "start_time": "2022-03-11T17:26:38.702Z"
   },
   {
    "duration": 7,
    "start_time": "2022-03-11T17:27:08.797Z"
   },
   {
    "duration": 304,
    "start_time": "2022-03-11T17:27:13.252Z"
   },
   {
    "duration": 312,
    "start_time": "2022-03-11T17:28:14.973Z"
   },
   {
    "duration": 318,
    "start_time": "2022-03-11T17:28:34.231Z"
   },
   {
    "duration": 7,
    "start_time": "2022-03-11T17:29:07.549Z"
   },
   {
    "duration": 633,
    "start_time": "2022-03-11T17:32:51.946Z"
   },
   {
    "duration": 87,
    "start_time": "2022-03-11T17:32:52.580Z"
   },
   {
    "duration": 3,
    "start_time": "2022-03-11T17:32:52.669Z"
   },
   {
    "duration": 12,
    "start_time": "2022-03-11T17:32:52.674Z"
   },
   {
    "duration": 18,
    "start_time": "2022-03-11T17:32:52.688Z"
   },
   {
    "duration": 38,
    "start_time": "2022-03-11T17:32:52.707Z"
   },
   {
    "duration": 6,
    "start_time": "2022-03-11T17:32:52.747Z"
   },
   {
    "duration": 5,
    "start_time": "2022-03-11T17:32:52.755Z"
   },
   {
    "duration": 14,
    "start_time": "2022-03-11T17:32:52.762Z"
   },
   {
    "duration": 4,
    "start_time": "2022-03-11T17:32:52.777Z"
   },
   {
    "duration": 22,
    "start_time": "2022-03-11T17:32:52.783Z"
   },
   {
    "duration": 4,
    "start_time": "2022-03-11T17:32:52.807Z"
   },
   {
    "duration": 5,
    "start_time": "2022-03-11T17:32:52.813Z"
   },
   {
    "duration": 6,
    "start_time": "2022-03-11T17:32:52.820Z"
   },
   {
    "duration": 4,
    "start_time": "2022-03-11T17:32:52.827Z"
   },
   {
    "duration": 6,
    "start_time": "2022-03-11T17:32:52.833Z"
   },
   {
    "duration": 4,
    "start_time": "2022-03-11T17:32:52.840Z"
   },
   {
    "duration": 11,
    "start_time": "2022-03-11T17:32:52.846Z"
   },
   {
    "duration": 8,
    "start_time": "2022-03-11T17:32:52.858Z"
   },
   {
    "duration": 41,
    "start_time": "2022-03-11T17:32:52.868Z"
   },
   {
    "duration": 4,
    "start_time": "2022-03-11T17:32:52.911Z"
   },
   {
    "duration": 18,
    "start_time": "2022-03-11T17:32:52.917Z"
   },
   {
    "duration": 11,
    "start_time": "2022-03-11T17:32:52.939Z"
   },
   {
    "duration": 22,
    "start_time": "2022-03-11T17:32:52.952Z"
   },
   {
    "duration": 31,
    "start_time": "2022-03-11T17:32:52.976Z"
   },
   {
    "duration": 8,
    "start_time": "2022-03-11T17:32:53.009Z"
   },
   {
    "duration": 13,
    "start_time": "2022-03-11T17:32:53.019Z"
   },
   {
    "duration": 14,
    "start_time": "2022-03-11T17:32:53.034Z"
   },
   {
    "duration": 8,
    "start_time": "2022-03-11T17:32:53.050Z"
   },
   {
    "duration": 19,
    "start_time": "2022-03-11T17:32:53.059Z"
   },
   {
    "duration": 85,
    "start_time": "2022-03-11T17:32:53.080Z"
   },
   {
    "duration": 70,
    "start_time": "2022-03-11T17:32:53.167Z"
   },
   {
    "duration": 35,
    "start_time": "2022-03-11T17:32:53.239Z"
   },
   {
    "duration": 72,
    "start_time": "2022-03-11T17:32:53.276Z"
   },
   {
    "duration": 586,
    "start_time": "2022-03-11T17:32:53.350Z"
   },
   {
    "duration": 41,
    "start_time": "2022-03-11T17:32:53.938Z"
   },
   {
    "duration": 283,
    "start_time": "2022-03-11T17:32:53.981Z"
   },
   {
    "duration": 180,
    "start_time": "2022-03-11T17:32:54.266Z"
   },
   {
    "duration": 180,
    "start_time": "2022-03-11T17:32:54.448Z"
   },
   {
    "duration": 187,
    "start_time": "2022-03-11T17:32:54.630Z"
   },
   {
    "duration": 183,
    "start_time": "2022-03-11T17:32:54.819Z"
   },
   {
    "duration": 9,
    "start_time": "2022-03-11T17:32:55.003Z"
   },
   {
    "duration": 6,
    "start_time": "2022-03-11T17:32:55.014Z"
   },
   {
    "duration": 16,
    "start_time": "2022-03-11T17:32:55.022Z"
   },
   {
    "duration": 7,
    "start_time": "2022-03-11T17:32:55.040Z"
   },
   {
    "duration": 16,
    "start_time": "2022-03-11T17:32:55.048Z"
   },
   {
    "duration": 7,
    "start_time": "2022-03-11T17:32:55.106Z"
   },
   {
    "duration": 13,
    "start_time": "2022-03-11T17:32:55.114Z"
   },
   {
    "duration": 454,
    "start_time": "2022-03-11T17:32:55.128Z"
   },
   {
    "duration": 184,
    "start_time": "2022-03-11T17:32:55.584Z"
   },
   {
    "duration": 271,
    "start_time": "2022-03-11T17:32:55.770Z"
   },
   {
    "duration": 516,
    "start_time": "2022-03-11T17:32:56.043Z"
   },
   {
    "duration": 247,
    "start_time": "2022-03-11T17:32:56.561Z"
   },
   {
    "duration": 8,
    "start_time": "2022-03-11T17:32:56.810Z"
   },
   {
    "duration": 24,
    "start_time": "2022-03-11T17:32:56.819Z"
   },
   {
    "duration": 65,
    "start_time": "2022-03-11T17:32:56.844Z"
   },
   {
    "duration": 18,
    "start_time": "2022-03-11T17:32:56.911Z"
   },
   {
    "duration": 319,
    "start_time": "2022-03-11T17:32:56.930Z"
   },
   {
    "duration": 8,
    "start_time": "2022-03-11T17:32:57.250Z"
   },
   {
    "duration": 12100,
    "start_time": "2022-03-11T17:35:17.377Z"
   },
   {
    "duration": 675,
    "start_time": "2022-03-11T17:36:07.299Z"
   },
   {
    "duration": 247,
    "start_time": "2022-03-11T17:36:31.406Z"
   },
   {
    "duration": 317,
    "start_time": "2022-03-11T17:36:45.521Z"
   },
   {
    "duration": 241,
    "start_time": "2022-03-11T17:36:52.360Z"
   },
   {
    "duration": 18982,
    "start_time": "2022-03-11T17:38:47.815Z"
   },
   {
    "duration": 378,
    "start_time": "2022-03-11T17:39:18.991Z"
   },
   {
    "duration": 286,
    "start_time": "2022-03-11T17:39:30.734Z"
   },
   {
    "duration": 259,
    "start_time": "2022-03-11T17:39:43.167Z"
   },
   {
    "duration": 163,
    "start_time": "2022-03-11T17:45:13.734Z"
   },
   {
    "duration": 579,
    "start_time": "2022-03-11T17:48:25.199Z"
   },
   {
    "duration": 75,
    "start_time": "2022-03-11T17:48:25.780Z"
   },
   {
    "duration": 3,
    "start_time": "2022-03-11T17:48:25.858Z"
   },
   {
    "duration": 12,
    "start_time": "2022-03-11T17:48:25.863Z"
   },
   {
    "duration": 10,
    "start_time": "2022-03-11T17:48:25.876Z"
   },
   {
    "duration": 44,
    "start_time": "2022-03-11T17:48:25.887Z"
   },
   {
    "duration": 6,
    "start_time": "2022-03-11T17:48:25.933Z"
   },
   {
    "duration": 5,
    "start_time": "2022-03-11T17:48:25.941Z"
   },
   {
    "duration": 10,
    "start_time": "2022-03-11T17:48:25.949Z"
   },
   {
    "duration": 4,
    "start_time": "2022-03-11T17:48:25.961Z"
   },
   {
    "duration": 8,
    "start_time": "2022-03-11T17:48:25.966Z"
   },
   {
    "duration": 6,
    "start_time": "2022-03-11T17:48:25.976Z"
   },
   {
    "duration": 24,
    "start_time": "2022-03-11T17:48:25.983Z"
   },
   {
    "duration": 7,
    "start_time": "2022-03-11T17:48:26.009Z"
   },
   {
    "duration": 6,
    "start_time": "2022-03-11T17:48:26.018Z"
   },
   {
    "duration": 8,
    "start_time": "2022-03-11T17:48:26.026Z"
   },
   {
    "duration": 7,
    "start_time": "2022-03-11T17:48:26.035Z"
   },
   {
    "duration": 9,
    "start_time": "2022-03-11T17:48:26.043Z"
   },
   {
    "duration": 4,
    "start_time": "2022-03-11T17:48:26.054Z"
   },
   {
    "duration": 7,
    "start_time": "2022-03-11T17:48:26.059Z"
   },
   {
    "duration": 5,
    "start_time": "2022-03-11T17:48:26.067Z"
   },
   {
    "duration": 33,
    "start_time": "2022-03-11T17:48:26.073Z"
   },
   {
    "duration": 10,
    "start_time": "2022-03-11T17:48:26.109Z"
   },
   {
    "duration": 19,
    "start_time": "2022-03-11T17:48:26.122Z"
   },
   {
    "duration": 11,
    "start_time": "2022-03-11T17:48:26.142Z"
   },
   {
    "duration": 8,
    "start_time": "2022-03-11T17:48:26.155Z"
   },
   {
    "duration": 8,
    "start_time": "2022-03-11T17:48:26.164Z"
   },
   {
    "duration": 35,
    "start_time": "2022-03-11T17:48:26.173Z"
   },
   {
    "duration": 5,
    "start_time": "2022-03-11T17:48:26.210Z"
   },
   {
    "duration": 18,
    "start_time": "2022-03-11T17:48:26.216Z"
   },
   {
    "duration": 105,
    "start_time": "2022-03-11T17:48:26.235Z"
   },
   {
    "duration": 33,
    "start_time": "2022-03-11T17:48:26.342Z"
   },
   {
    "duration": 38,
    "start_time": "2022-03-11T17:48:26.406Z"
   },
   {
    "duration": 74,
    "start_time": "2022-03-11T17:48:26.446Z"
   },
   {
    "duration": 741,
    "start_time": "2022-03-11T17:48:26.522Z"
   },
   {
    "duration": 49,
    "start_time": "2022-03-11T17:48:27.264Z"
   },
   {
    "duration": 270,
    "start_time": "2022-03-11T17:48:27.314Z"
   },
   {
    "duration": 176,
    "start_time": "2022-03-11T17:48:27.586Z"
   },
   {
    "duration": 174,
    "start_time": "2022-03-11T17:48:27.763Z"
   },
   {
    "duration": 192,
    "start_time": "2022-03-11T17:48:27.939Z"
   },
   {
    "duration": 185,
    "start_time": "2022-03-11T17:48:28.132Z"
   },
   {
    "duration": 8,
    "start_time": "2022-03-11T17:48:28.319Z"
   },
   {
    "duration": 5,
    "start_time": "2022-03-11T17:48:28.328Z"
   },
   {
    "duration": 19,
    "start_time": "2022-03-11T17:48:28.334Z"
   },
   {
    "duration": 7,
    "start_time": "2022-03-11T17:48:28.355Z"
   },
   {
    "duration": 46,
    "start_time": "2022-03-11T17:48:28.364Z"
   },
   {
    "duration": 7,
    "start_time": "2022-03-11T17:48:28.412Z"
   },
   {
    "duration": 12,
    "start_time": "2022-03-11T17:48:28.421Z"
   },
   {
    "duration": 412,
    "start_time": "2022-03-11T17:48:28.435Z"
   },
   {
    "duration": 199,
    "start_time": "2022-03-11T17:48:28.848Z"
   },
   {
    "duration": 279,
    "start_time": "2022-03-11T17:48:29.049Z"
   },
   {
    "duration": 603,
    "start_time": "2022-03-11T17:48:29.330Z"
   },
   {
    "duration": 247,
    "start_time": "2022-03-11T17:48:29.935Z"
   },
   {
    "duration": 7,
    "start_time": "2022-03-11T17:48:30.184Z"
   },
   {
    "duration": 31,
    "start_time": "2022-03-11T17:48:30.192Z"
   },
   {
    "duration": 43,
    "start_time": "2022-03-11T17:48:30.224Z"
   },
   {
    "duration": 17,
    "start_time": "2022-03-11T17:48:30.268Z"
   },
   {
    "duration": 253,
    "start_time": "2022-03-11T17:48:30.305Z"
   },
   {
    "duration": 8,
    "start_time": "2022-03-11T17:48:30.559Z"
   },
   {
    "duration": 295,
    "start_time": "2022-03-11T17:48:30.569Z"
   },
   {
    "duration": 500,
    "start_time": "2022-03-11T17:51:49.736Z"
   },
   {
    "duration": 772,
    "start_time": "2022-03-11T17:58:38.007Z"
   },
   {
    "duration": -1942,
    "start_time": "2022-03-11T17:58:41.095Z"
   },
   {
    "duration": -1943,
    "start_time": "2022-03-11T17:58:41.097Z"
   },
   {
    "duration": 317,
    "start_time": "2022-03-11T17:59:43.686Z"
   },
   {
    "duration": 341,
    "start_time": "2022-03-11T17:59:55.170Z"
   },
   {
    "duration": 8,
    "start_time": "2022-03-11T18:01:23.220Z"
   },
   {
    "duration": 193,
    "start_time": "2022-03-11T18:02:02.474Z"
   },
   {
    "duration": 165,
    "start_time": "2022-03-11T18:06:49.481Z"
   },
   {
    "duration": 295,
    "start_time": "2022-03-11T18:09:42.945Z"
   },
   {
    "duration": 158,
    "start_time": "2022-03-11T18:12:09.718Z"
   },
   {
    "duration": 176,
    "start_time": "2022-03-11T18:17:08.712Z"
   },
   {
    "duration": 305,
    "start_time": "2022-03-11T18:21:32.020Z"
   },
   {
    "duration": 160,
    "start_time": "2022-03-11T18:21:38.718Z"
   },
   {
    "duration": 295,
    "start_time": "2022-03-11T18:23:41.654Z"
   },
   {
    "duration": 171,
    "start_time": "2022-03-11T18:23:48.562Z"
   },
   {
    "duration": 194,
    "start_time": "2022-03-11T18:29:43.300Z"
   },
   {
    "duration": 626,
    "start_time": "2022-03-11T18:40:48.538Z"
   },
   {
    "duration": 73,
    "start_time": "2022-03-11T18:40:49.166Z"
   },
   {
    "duration": 4,
    "start_time": "2022-03-11T18:40:49.240Z"
   },
   {
    "duration": 10,
    "start_time": "2022-03-11T18:40:49.245Z"
   },
   {
    "duration": 9,
    "start_time": "2022-03-11T18:40:49.257Z"
   },
   {
    "duration": 54,
    "start_time": "2022-03-11T18:40:49.268Z"
   },
   {
    "duration": 8,
    "start_time": "2022-03-11T18:40:49.324Z"
   },
   {
    "duration": 6,
    "start_time": "2022-03-11T18:40:49.334Z"
   },
   {
    "duration": 9,
    "start_time": "2022-03-11T18:40:49.343Z"
   },
   {
    "duration": 4,
    "start_time": "2022-03-11T18:40:49.353Z"
   },
   {
    "duration": 7,
    "start_time": "2022-03-11T18:40:49.358Z"
   },
   {
    "duration": 39,
    "start_time": "2022-03-11T18:40:49.366Z"
   },
   {
    "duration": 4,
    "start_time": "2022-03-11T18:40:49.406Z"
   },
   {
    "duration": 6,
    "start_time": "2022-03-11T18:40:49.412Z"
   },
   {
    "duration": 7,
    "start_time": "2022-03-11T18:40:49.419Z"
   },
   {
    "duration": 5,
    "start_time": "2022-03-11T18:40:49.427Z"
   },
   {
    "duration": 7,
    "start_time": "2022-03-11T18:40:49.433Z"
   },
   {
    "duration": 8,
    "start_time": "2022-03-11T18:40:49.442Z"
   },
   {
    "duration": 6,
    "start_time": "2022-03-11T18:40:49.451Z"
   },
   {
    "duration": 8,
    "start_time": "2022-03-11T18:40:49.458Z"
   },
   {
    "duration": 4,
    "start_time": "2022-03-11T18:40:49.467Z"
   },
   {
    "duration": 41,
    "start_time": "2022-03-11T18:40:49.472Z"
   },
   {
    "duration": 10,
    "start_time": "2022-03-11T18:40:49.514Z"
   },
   {
    "duration": 20,
    "start_time": "2022-03-11T18:40:49.525Z"
   },
   {
    "duration": 12,
    "start_time": "2022-03-11T18:40:49.546Z"
   },
   {
    "duration": 7,
    "start_time": "2022-03-11T18:40:49.560Z"
   },
   {
    "duration": 35,
    "start_time": "2022-03-11T18:40:49.571Z"
   },
   {
    "duration": 5,
    "start_time": "2022-03-11T18:40:49.608Z"
   },
   {
    "duration": 6,
    "start_time": "2022-03-11T18:40:49.614Z"
   },
   {
    "duration": 17,
    "start_time": "2022-03-11T18:40:49.622Z"
   },
   {
    "duration": 94,
    "start_time": "2022-03-11T18:40:49.640Z"
   },
   {
    "duration": 31,
    "start_time": "2022-03-11T18:40:49.735Z"
   },
   {
    "duration": 64,
    "start_time": "2022-03-11T18:40:49.767Z"
   },
   {
    "duration": 55,
    "start_time": "2022-03-11T18:40:49.832Z"
   },
   {
    "duration": 666,
    "start_time": "2022-03-11T18:40:49.889Z"
   },
   {
    "duration": 49,
    "start_time": "2022-03-11T18:40:50.557Z"
   },
   {
    "duration": 346,
    "start_time": "2022-03-11T18:40:50.608Z"
   },
   {
    "duration": 215,
    "start_time": "2022-03-11T18:40:50.956Z"
   },
   {
    "duration": 227,
    "start_time": "2022-03-11T18:40:51.173Z"
   },
   {
    "duration": 174,
    "start_time": "2022-03-11T18:40:51.406Z"
   },
   {
    "duration": 174,
    "start_time": "2022-03-11T18:40:51.582Z"
   },
   {
    "duration": 6,
    "start_time": "2022-03-11T18:40:51.758Z"
   },
   {
    "duration": 4,
    "start_time": "2022-03-11T18:40:51.766Z"
   },
   {
    "duration": 17,
    "start_time": "2022-03-11T18:40:51.771Z"
   },
   {
    "duration": 8,
    "start_time": "2022-03-11T18:40:51.805Z"
   },
   {
    "duration": 17,
    "start_time": "2022-03-11T18:40:51.815Z"
   },
   {
    "duration": 7,
    "start_time": "2022-03-11T18:40:51.833Z"
   },
   {
    "duration": 12,
    "start_time": "2022-03-11T18:40:51.842Z"
   },
   {
    "duration": 572,
    "start_time": "2022-03-11T18:40:51.855Z"
   },
   {
    "duration": 269,
    "start_time": "2022-03-11T18:40:52.429Z"
   },
   {
    "duration": 341,
    "start_time": "2022-03-11T18:40:52.699Z"
   },
   {
    "duration": 390,
    "start_time": "2022-03-11T18:40:53.042Z"
   },
   {
    "duration": 237,
    "start_time": "2022-03-11T18:40:53.433Z"
   },
   {
    "duration": 7,
    "start_time": "2022-03-11T18:40:53.672Z"
   },
   {
    "duration": 29,
    "start_time": "2022-03-11T18:40:53.680Z"
   },
   {
    "duration": 39,
    "start_time": "2022-03-11T18:40:53.711Z"
   },
   {
    "duration": 16,
    "start_time": "2022-03-11T18:40:53.751Z"
   },
   {
    "duration": 249,
    "start_time": "2022-03-11T18:40:53.769Z"
   },
   {
    "duration": 8,
    "start_time": "2022-03-11T18:40:54.020Z"
   },
   {
    "duration": 186,
    "start_time": "2022-03-11T18:40:54.029Z"
   },
   {
    "duration": 157,
    "start_time": "2022-03-11T18:40:54.216Z"
   },
   {
    "duration": 385,
    "start_time": "2022-03-11T18:40:54.374Z"
   },
   {
    "duration": 160,
    "start_time": "2022-03-11T18:40:54.761Z"
   },
   {
    "duration": 164,
    "start_time": "2022-03-11T18:40:54.923Z"
   },
   {
    "duration": 188,
    "start_time": "2022-03-11T18:40:55.088Z"
   },
   {
    "duration": 364,
    "start_time": "2022-03-21T04:29:42.977Z"
   },
   {
    "duration": 92,
    "start_time": "2022-03-21T04:29:43.343Z"
   },
   {
    "duration": 4,
    "start_time": "2022-03-21T04:29:43.436Z"
   },
   {
    "duration": 10,
    "start_time": "2022-03-21T04:29:43.442Z"
   },
   {
    "duration": 9,
    "start_time": "2022-03-21T04:29:43.454Z"
   },
   {
    "duration": 41,
    "start_time": "2022-03-21T04:29:43.464Z"
   },
   {
    "duration": 30,
    "start_time": "2022-03-21T04:29:43.507Z"
   },
   {
    "duration": 6,
    "start_time": "2022-03-21T04:29:43.538Z"
   },
   {
    "duration": 10,
    "start_time": "2022-03-21T04:29:43.546Z"
   },
   {
    "duration": 3,
    "start_time": "2022-03-21T04:29:43.560Z"
   },
   {
    "duration": 5,
    "start_time": "2022-03-21T04:29:43.565Z"
   },
   {
    "duration": 9,
    "start_time": "2022-03-21T04:29:43.572Z"
   },
   {
    "duration": 5,
    "start_time": "2022-03-21T04:29:43.583Z"
   },
   {
    "duration": 5,
    "start_time": "2022-03-21T04:29:43.589Z"
   },
   {
    "duration": 5,
    "start_time": "2022-03-21T04:29:43.632Z"
   },
   {
    "duration": 6,
    "start_time": "2022-03-21T04:29:43.638Z"
   },
   {
    "duration": 8,
    "start_time": "2022-03-21T04:29:43.645Z"
   },
   {
    "duration": 11,
    "start_time": "2022-03-21T04:29:43.654Z"
   },
   {
    "duration": 5,
    "start_time": "2022-03-21T04:29:43.666Z"
   },
   {
    "duration": 11,
    "start_time": "2022-03-21T04:29:43.672Z"
   },
   {
    "duration": 8,
    "start_time": "2022-03-21T04:29:43.685Z"
   },
   {
    "duration": 11,
    "start_time": "2022-03-21T04:29:43.694Z"
   },
   {
    "duration": 34,
    "start_time": "2022-03-21T04:29:43.706Z"
   },
   {
    "duration": 19,
    "start_time": "2022-03-21T04:29:43.742Z"
   },
   {
    "duration": 14,
    "start_time": "2022-03-21T04:29:43.762Z"
   },
   {
    "duration": 8,
    "start_time": "2022-03-21T04:29:43.778Z"
   },
   {
    "duration": 12,
    "start_time": "2022-03-21T04:29:43.787Z"
   },
   {
    "duration": 6,
    "start_time": "2022-03-21T04:29:43.832Z"
   },
   {
    "duration": 7,
    "start_time": "2022-03-21T04:29:43.839Z"
   },
   {
    "duration": 20,
    "start_time": "2022-03-21T04:29:43.848Z"
   },
   {
    "duration": 90,
    "start_time": "2022-03-21T04:29:43.869Z"
   },
   {
    "duration": 31,
    "start_time": "2022-03-21T04:29:43.960Z"
   },
   {
    "duration": 66,
    "start_time": "2022-03-21T04:29:43.993Z"
   },
   {
    "duration": 60,
    "start_time": "2022-03-21T04:29:44.060Z"
   },
   {
    "duration": 377,
    "start_time": "2022-03-21T04:29:44.133Z"
   },
   {
    "duration": 47,
    "start_time": "2022-03-21T04:29:44.512Z"
   },
   {
    "duration": 342,
    "start_time": "2022-03-21T04:29:44.561Z"
   },
   {
    "duration": 149,
    "start_time": "2022-03-21T04:29:44.905Z"
   },
   {
    "duration": 179,
    "start_time": "2022-03-21T04:29:45.056Z"
   },
   {
    "duration": 149,
    "start_time": "2022-03-21T04:29:45.237Z"
   },
   {
    "duration": 152,
    "start_time": "2022-03-21T04:29:45.388Z"
   },
   {
    "duration": 9,
    "start_time": "2022-03-21T04:29:45.542Z"
   },
   {
    "duration": 6,
    "start_time": "2022-03-21T04:29:45.553Z"
   },
   {
    "duration": 20,
    "start_time": "2022-03-21T04:29:45.560Z"
   },
   {
    "duration": 8,
    "start_time": "2022-03-21T04:29:45.582Z"
   },
   {
    "duration": 54,
    "start_time": "2022-03-21T04:29:45.592Z"
   },
   {
    "duration": 6,
    "start_time": "2022-03-21T04:29:45.648Z"
   },
   {
    "duration": 13,
    "start_time": "2022-03-21T04:29:45.655Z"
   },
   {
    "duration": 41,
    "start_time": "2022-03-21T04:29:45.669Z"
   },
   {
    "duration": 161,
    "start_time": "2022-03-21T04:29:45.732Z"
   },
   {
    "duration": 205,
    "start_time": "2022-03-21T04:29:45.894Z"
   },
   {
    "duration": 274,
    "start_time": "2022-03-21T04:29:46.101Z"
   },
   {
    "duration": 394,
    "start_time": "2022-03-21T04:29:46.377Z"
   },
   {
    "duration": 61,
    "start_time": "2022-03-21T04:29:46.773Z"
   },
   {
    "duration": 23,
    "start_time": "2022-03-21T04:29:46.835Z"
   },
   {
    "duration": 91,
    "start_time": "2022-03-21T04:29:46.860Z"
   },
   {
    "duration": 18,
    "start_time": "2022-03-21T04:29:46.953Z"
   },
   {
    "duration": 382,
    "start_time": "2022-03-21T04:29:46.973Z"
   },
   {
    "duration": 9,
    "start_time": "2022-03-21T04:29:47.357Z"
   },
   {
    "duration": 294,
    "start_time": "2022-03-21T04:29:47.367Z"
   },
   {
    "duration": 304,
    "start_time": "2022-03-21T04:29:47.663Z"
   },
   {
    "duration": 151,
    "start_time": "2022-03-21T04:29:47.968Z"
   },
   {
    "duration": 155,
    "start_time": "2022-03-21T04:29:48.121Z"
   },
   {
    "duration": 146,
    "start_time": "2022-03-21T04:29:48.278Z"
   },
   {
    "duration": 162,
    "start_time": "2022-03-21T04:29:48.426Z"
   },
   {
    "duration": 21,
    "start_time": "2022-03-21T04:33:15.786Z"
   },
   {
    "duration": 3,
    "start_time": "2022-03-21T04:33:21.102Z"
   },
   {
    "duration": 95,
    "start_time": "2022-03-21T04:33:21.107Z"
   },
   {
    "duration": 4,
    "start_time": "2022-03-21T04:33:21.204Z"
   },
   {
    "duration": 4,
    "start_time": "2022-03-21T04:33:21.232Z"
   },
   {
    "duration": 15,
    "start_time": "2022-03-21T04:33:21.238Z"
   },
   {
    "duration": 16,
    "start_time": "2022-03-21T04:33:21.254Z"
   },
   {
    "duration": 62,
    "start_time": "2022-03-21T04:33:21.272Z"
   },
   {
    "duration": 8,
    "start_time": "2022-03-21T04:33:21.335Z"
   },
   {
    "duration": 5,
    "start_time": "2022-03-21T04:33:21.344Z"
   },
   {
    "duration": 7,
    "start_time": "2022-03-21T04:33:21.352Z"
   },
   {
    "duration": 4,
    "start_time": "2022-03-21T04:33:21.360Z"
   },
   {
    "duration": 5,
    "start_time": "2022-03-21T04:33:21.365Z"
   },
   {
    "duration": 5,
    "start_time": "2022-03-21T04:33:21.372Z"
   },
   {
    "duration": 4,
    "start_time": "2022-03-21T04:33:21.379Z"
   },
   {
    "duration": 48,
    "start_time": "2022-03-21T04:33:21.385Z"
   },
   {
    "duration": 6,
    "start_time": "2022-03-21T04:33:21.435Z"
   },
   {
    "duration": 5,
    "start_time": "2022-03-21T04:33:21.442Z"
   },
   {
    "duration": 5,
    "start_time": "2022-03-21T04:33:21.449Z"
   },
   {
    "duration": 11,
    "start_time": "2022-03-21T04:33:21.455Z"
   },
   {
    "duration": 4,
    "start_time": "2022-03-21T04:33:21.468Z"
   },
   {
    "duration": 9,
    "start_time": "2022-03-21T04:33:21.474Z"
   },
   {
    "duration": 5,
    "start_time": "2022-03-21T04:33:21.484Z"
   },
   {
    "duration": 51,
    "start_time": "2022-03-21T04:33:21.491Z"
   },
   {
    "duration": 16,
    "start_time": "2022-03-21T04:33:21.544Z"
   },
   {
    "duration": 20,
    "start_time": "2022-03-21T04:33:21.562Z"
   },
   {
    "duration": 15,
    "start_time": "2022-03-21T04:33:21.583Z"
   },
   {
    "duration": 38,
    "start_time": "2022-03-21T04:33:21.600Z"
   },
   {
    "duration": 9,
    "start_time": "2022-03-21T04:33:21.642Z"
   },
   {
    "duration": 5,
    "start_time": "2022-03-21T04:33:21.653Z"
   },
   {
    "duration": 9,
    "start_time": "2022-03-21T04:33:21.660Z"
   },
   {
    "duration": 22,
    "start_time": "2022-03-21T04:33:21.670Z"
   },
   {
    "duration": 88,
    "start_time": "2022-03-21T04:33:21.693Z"
   },
   {
    "duration": 70,
    "start_time": "2022-03-21T04:33:21.782Z"
   },
   {
    "duration": 34,
    "start_time": "2022-03-21T04:33:21.853Z"
   },
   {
    "duration": 70,
    "start_time": "2022-03-21T04:33:21.889Z"
   },
   {
    "duration": 687,
    "start_time": "2022-03-21T04:33:21.961Z"
   },
   {
    "duration": 94,
    "start_time": "2022-03-21T04:33:22.650Z"
   },
   {
    "duration": 228,
    "start_time": "2022-03-21T04:33:22.746Z"
   },
   {
    "duration": 287,
    "start_time": "2022-03-21T04:33:22.976Z"
   },
   {
    "duration": 202,
    "start_time": "2022-03-21T04:33:23.265Z"
   },
   {
    "duration": 221,
    "start_time": "2022-03-21T04:33:23.469Z"
   },
   {
    "duration": 154,
    "start_time": "2022-03-21T04:33:23.692Z"
   },
   {
    "duration": 9,
    "start_time": "2022-03-21T04:33:23.849Z"
   },
   {
    "duration": 6,
    "start_time": "2022-03-21T04:33:23.860Z"
   },
   {
    "duration": 15,
    "start_time": "2022-03-21T04:33:23.867Z"
   },
   {
    "duration": 8,
    "start_time": "2022-03-21T04:33:23.883Z"
   },
   {
    "duration": 50,
    "start_time": "2022-03-21T04:33:23.893Z"
   },
   {
    "duration": 7,
    "start_time": "2022-03-21T04:33:23.944Z"
   },
   {
    "duration": 13,
    "start_time": "2022-03-21T04:33:23.953Z"
   },
   {
    "duration": 8,
    "start_time": "2022-03-21T04:33:23.968Z"
   },
   {
    "duration": 179,
    "start_time": "2022-03-21T04:33:23.977Z"
   },
   {
    "duration": 211,
    "start_time": "2022-03-21T04:33:24.158Z"
   },
   {
    "duration": 262,
    "start_time": "2022-03-21T04:33:24.370Z"
   },
   {
    "duration": 189,
    "start_time": "2022-03-21T04:33:24.634Z"
   },
   {
    "duration": 7,
    "start_time": "2022-03-21T04:33:24.832Z"
   },
   {
    "duration": 25,
    "start_time": "2022-03-21T04:33:24.841Z"
   },
   {
    "duration": 43,
    "start_time": "2022-03-21T04:33:24.868Z"
   },
   {
    "duration": 45,
    "start_time": "2022-03-21T04:33:24.912Z"
   },
   {
    "duration": 191,
    "start_time": "2022-03-21T04:33:24.959Z"
   },
   {
    "duration": 8,
    "start_time": "2022-03-21T04:33:25.152Z"
   },
   {
    "duration": 159,
    "start_time": "2022-03-21T04:33:25.162Z"
   },
   {
    "duration": 148,
    "start_time": "2022-03-21T04:33:25.322Z"
   },
   {
    "duration": 155,
    "start_time": "2022-03-21T04:33:25.472Z"
   },
   {
    "duration": 242,
    "start_time": "2022-03-21T04:33:25.632Z"
   },
   {
    "duration": 152,
    "start_time": "2022-03-21T04:33:25.875Z"
   },
   {
    "duration": 164,
    "start_time": "2022-03-21T04:33:26.033Z"
   },
   {
    "duration": 34,
    "start_time": "2022-03-21T04:34:05.309Z"
   },
   {
    "duration": 69,
    "start_time": "2022-03-21T04:41:43.821Z"
   },
   {
    "duration": 21,
    "start_time": "2022-03-21T04:41:47.902Z"
   },
   {
    "duration": 144,
    "start_time": "2022-03-21T13:26:09.007Z"
   },
   {
    "duration": 157,
    "start_time": "2022-03-21T13:26:13.098Z"
   },
   {
    "duration": 173,
    "start_time": "2022-03-21T13:26:14.706Z"
   },
   {
    "duration": 173,
    "start_time": "2022-03-21T13:26:19.931Z"
   },
   {
    "duration": 409,
    "start_time": "2022-03-21T13:27:32.583Z"
   },
   {
    "duration": 103,
    "start_time": "2022-03-21T13:27:32.994Z"
   },
   {
    "duration": 4,
    "start_time": "2022-03-21T13:27:33.098Z"
   },
   {
    "duration": 148,
    "start_time": "2022-03-21T13:27:33.104Z"
   },
   {
    "duration": 0,
    "start_time": "2022-03-21T13:27:33.255Z"
   },
   {
    "duration": 0,
    "start_time": "2022-03-21T13:27:33.256Z"
   },
   {
    "duration": 0,
    "start_time": "2022-03-21T13:27:33.258Z"
   },
   {
    "duration": 0,
    "start_time": "2022-03-21T13:27:33.259Z"
   },
   {
    "duration": 0,
    "start_time": "2022-03-21T13:27:33.260Z"
   },
   {
    "duration": 0,
    "start_time": "2022-03-21T13:27:33.261Z"
   },
   {
    "duration": 0,
    "start_time": "2022-03-21T13:27:33.262Z"
   },
   {
    "duration": 0,
    "start_time": "2022-03-21T13:27:33.263Z"
   },
   {
    "duration": 0,
    "start_time": "2022-03-21T13:27:33.264Z"
   },
   {
    "duration": 0,
    "start_time": "2022-03-21T13:27:33.265Z"
   },
   {
    "duration": 0,
    "start_time": "2022-03-21T13:27:33.266Z"
   },
   {
    "duration": 0,
    "start_time": "2022-03-21T13:27:33.267Z"
   },
   {
    "duration": 0,
    "start_time": "2022-03-21T13:27:33.270Z"
   },
   {
    "duration": 0,
    "start_time": "2022-03-21T13:27:33.271Z"
   },
   {
    "duration": 1,
    "start_time": "2022-03-21T13:27:33.271Z"
   },
   {
    "duration": 0,
    "start_time": "2022-03-21T13:27:33.272Z"
   },
   {
    "duration": 0,
    "start_time": "2022-03-21T13:27:33.273Z"
   },
   {
    "duration": 0,
    "start_time": "2022-03-21T13:27:33.274Z"
   },
   {
    "duration": 0,
    "start_time": "2022-03-21T13:27:33.275Z"
   },
   {
    "duration": 0,
    "start_time": "2022-03-21T13:27:33.276Z"
   },
   {
    "duration": 0,
    "start_time": "2022-03-21T13:27:33.277Z"
   },
   {
    "duration": 0,
    "start_time": "2022-03-21T13:27:33.278Z"
   },
   {
    "duration": 1,
    "start_time": "2022-03-21T13:27:33.279Z"
   },
   {
    "duration": 0,
    "start_time": "2022-03-21T13:27:33.281Z"
   },
   {
    "duration": 0,
    "start_time": "2022-03-21T13:27:33.282Z"
   },
   {
    "duration": 0,
    "start_time": "2022-03-21T13:27:33.282Z"
   },
   {
    "duration": 0,
    "start_time": "2022-03-21T13:27:33.284Z"
   },
   {
    "duration": 0,
    "start_time": "2022-03-21T13:27:33.285Z"
   },
   {
    "duration": 0,
    "start_time": "2022-03-21T13:27:33.286Z"
   },
   {
    "duration": 0,
    "start_time": "2022-03-21T13:27:33.288Z"
   },
   {
    "duration": 0,
    "start_time": "2022-03-21T13:27:33.289Z"
   },
   {
    "duration": 0,
    "start_time": "2022-03-21T13:27:33.291Z"
   },
   {
    "duration": 0,
    "start_time": "2022-03-21T13:27:33.292Z"
   },
   {
    "duration": 0,
    "start_time": "2022-03-21T13:27:33.293Z"
   },
   {
    "duration": 0,
    "start_time": "2022-03-21T13:27:33.294Z"
   },
   {
    "duration": 0,
    "start_time": "2022-03-21T13:27:33.295Z"
   },
   {
    "duration": 0,
    "start_time": "2022-03-21T13:27:33.297Z"
   },
   {
    "duration": 0,
    "start_time": "2022-03-21T13:27:33.297Z"
   },
   {
    "duration": 0,
    "start_time": "2022-03-21T13:27:33.298Z"
   },
   {
    "duration": 1,
    "start_time": "2022-03-21T13:27:33.299Z"
   },
   {
    "duration": 0,
    "start_time": "2022-03-21T13:27:33.301Z"
   },
   {
    "duration": 0,
    "start_time": "2022-03-21T13:27:33.301Z"
   },
   {
    "duration": 0,
    "start_time": "2022-03-21T13:27:33.364Z"
   },
   {
    "duration": 0,
    "start_time": "2022-03-21T13:27:33.365Z"
   },
   {
    "duration": 0,
    "start_time": "2022-03-21T13:27:33.366Z"
   },
   {
    "duration": 0,
    "start_time": "2022-03-21T13:27:33.367Z"
   },
   {
    "duration": 0,
    "start_time": "2022-03-21T13:27:33.368Z"
   },
   {
    "duration": 0,
    "start_time": "2022-03-21T13:27:33.369Z"
   },
   {
    "duration": 0,
    "start_time": "2022-03-21T13:27:33.369Z"
   },
   {
    "duration": 0,
    "start_time": "2022-03-21T13:27:33.370Z"
   },
   {
    "duration": 0,
    "start_time": "2022-03-21T13:27:33.371Z"
   },
   {
    "duration": 0,
    "start_time": "2022-03-21T13:27:33.372Z"
   },
   {
    "duration": 0,
    "start_time": "2022-03-21T13:27:33.373Z"
   },
   {
    "duration": 0,
    "start_time": "2022-03-21T13:27:33.374Z"
   },
   {
    "duration": 0,
    "start_time": "2022-03-21T13:27:33.375Z"
   },
   {
    "duration": 0,
    "start_time": "2022-03-21T13:27:33.376Z"
   },
   {
    "duration": 0,
    "start_time": "2022-03-21T13:27:33.377Z"
   },
   {
    "duration": 0,
    "start_time": "2022-03-21T13:27:33.378Z"
   },
   {
    "duration": 0,
    "start_time": "2022-03-21T13:27:33.379Z"
   },
   {
    "duration": 0,
    "start_time": "2022-03-21T13:27:33.380Z"
   },
   {
    "duration": 0,
    "start_time": "2022-03-21T13:27:33.381Z"
   },
   {
    "duration": 0,
    "start_time": "2022-03-21T13:27:33.383Z"
   },
   {
    "duration": 0,
    "start_time": "2022-03-21T13:27:33.384Z"
   },
   {
    "duration": 0,
    "start_time": "2022-03-21T13:27:33.385Z"
   },
   {
    "duration": 420,
    "start_time": "2022-03-21T13:53:06.343Z"
   },
   {
    "duration": 91,
    "start_time": "2022-03-21T13:53:06.765Z"
   },
   {
    "duration": 5,
    "start_time": "2022-03-21T13:53:06.858Z"
   },
   {
    "duration": 179,
    "start_time": "2022-03-21T13:53:06.865Z"
   },
   {
    "duration": 0,
    "start_time": "2022-03-21T13:53:07.047Z"
   },
   {
    "duration": 0,
    "start_time": "2022-03-21T13:53:07.048Z"
   },
   {
    "duration": 0,
    "start_time": "2022-03-21T13:53:07.050Z"
   },
   {
    "duration": 0,
    "start_time": "2022-03-21T13:53:07.051Z"
   },
   {
    "duration": 0,
    "start_time": "2022-03-21T13:53:07.052Z"
   },
   {
    "duration": 0,
    "start_time": "2022-03-21T13:53:07.053Z"
   },
   {
    "duration": 0,
    "start_time": "2022-03-21T13:53:07.053Z"
   },
   {
    "duration": 0,
    "start_time": "2022-03-21T13:53:07.054Z"
   },
   {
    "duration": 0,
    "start_time": "2022-03-21T13:53:07.055Z"
   },
   {
    "duration": 0,
    "start_time": "2022-03-21T13:53:07.056Z"
   },
   {
    "duration": 0,
    "start_time": "2022-03-21T13:53:07.058Z"
   },
   {
    "duration": 1,
    "start_time": "2022-03-21T13:53:07.058Z"
   },
   {
    "duration": 0,
    "start_time": "2022-03-21T13:53:07.060Z"
   },
   {
    "duration": 0,
    "start_time": "2022-03-21T13:53:07.061Z"
   },
   {
    "duration": 0,
    "start_time": "2022-03-21T13:53:07.062Z"
   },
   {
    "duration": 0,
    "start_time": "2022-03-21T13:53:07.063Z"
   },
   {
    "duration": 0,
    "start_time": "2022-03-21T13:53:07.064Z"
   },
   {
    "duration": 0,
    "start_time": "2022-03-21T13:53:07.065Z"
   },
   {
    "duration": 0,
    "start_time": "2022-03-21T13:53:07.066Z"
   },
   {
    "duration": 0,
    "start_time": "2022-03-21T13:53:07.067Z"
   },
   {
    "duration": 0,
    "start_time": "2022-03-21T13:53:07.068Z"
   },
   {
    "duration": 0,
    "start_time": "2022-03-21T13:53:07.068Z"
   },
   {
    "duration": 0,
    "start_time": "2022-03-21T13:53:07.069Z"
   },
   {
    "duration": 0,
    "start_time": "2022-03-21T13:53:07.070Z"
   },
   {
    "duration": 0,
    "start_time": "2022-03-21T13:53:07.071Z"
   },
   {
    "duration": 0,
    "start_time": "2022-03-21T13:53:07.073Z"
   },
   {
    "duration": 0,
    "start_time": "2022-03-21T13:53:07.074Z"
   },
   {
    "duration": 0,
    "start_time": "2022-03-21T13:53:07.075Z"
   },
   {
    "duration": 0,
    "start_time": "2022-03-21T13:53:07.075Z"
   },
   {
    "duration": 0,
    "start_time": "2022-03-21T13:53:07.076Z"
   },
   {
    "duration": 0,
    "start_time": "2022-03-21T13:53:07.077Z"
   },
   {
    "duration": 0,
    "start_time": "2022-03-21T13:53:07.079Z"
   },
   {
    "duration": 0,
    "start_time": "2022-03-21T13:53:07.079Z"
   },
   {
    "duration": 0,
    "start_time": "2022-03-21T13:53:07.080Z"
   },
   {
    "duration": 0,
    "start_time": "2022-03-21T13:53:07.081Z"
   },
   {
    "duration": 0,
    "start_time": "2022-03-21T13:53:07.082Z"
   },
   {
    "duration": 0,
    "start_time": "2022-03-21T13:53:07.083Z"
   },
   {
    "duration": 0,
    "start_time": "2022-03-21T13:53:07.084Z"
   },
   {
    "duration": 0,
    "start_time": "2022-03-21T13:53:07.086Z"
   },
   {
    "duration": 0,
    "start_time": "2022-03-21T13:53:07.087Z"
   },
   {
    "duration": 0,
    "start_time": "2022-03-21T13:53:07.088Z"
   },
   {
    "duration": 0,
    "start_time": "2022-03-21T13:53:07.089Z"
   },
   {
    "duration": 0,
    "start_time": "2022-03-21T13:53:07.090Z"
   },
   {
    "duration": 0,
    "start_time": "2022-03-21T13:53:07.091Z"
   },
   {
    "duration": 0,
    "start_time": "2022-03-21T13:53:07.091Z"
   },
   {
    "duration": 0,
    "start_time": "2022-03-21T13:53:07.092Z"
   },
   {
    "duration": 0,
    "start_time": "2022-03-21T13:53:07.093Z"
   },
   {
    "duration": 0,
    "start_time": "2022-03-21T13:53:07.094Z"
   },
   {
    "duration": 0,
    "start_time": "2022-03-21T13:53:07.096Z"
   },
   {
    "duration": 0,
    "start_time": "2022-03-21T13:53:07.097Z"
   },
   {
    "duration": 0,
    "start_time": "2022-03-21T13:53:07.098Z"
   },
   {
    "duration": 0,
    "start_time": "2022-03-21T13:53:07.099Z"
   },
   {
    "duration": 0,
    "start_time": "2022-03-21T13:53:07.100Z"
   },
   {
    "duration": 0,
    "start_time": "2022-03-21T13:53:07.101Z"
   },
   {
    "duration": 0,
    "start_time": "2022-03-21T13:53:07.102Z"
   },
   {
    "duration": 0,
    "start_time": "2022-03-21T13:53:07.103Z"
   },
   {
    "duration": 0,
    "start_time": "2022-03-21T13:53:07.164Z"
   },
   {
    "duration": 0,
    "start_time": "2022-03-21T13:53:07.164Z"
   },
   {
    "duration": 0,
    "start_time": "2022-03-21T13:53:07.165Z"
   },
   {
    "duration": 0,
    "start_time": "2022-03-21T13:53:07.166Z"
   },
   {
    "duration": 0,
    "start_time": "2022-03-21T13:53:07.167Z"
   },
   {
    "duration": 0,
    "start_time": "2022-03-21T13:53:07.167Z"
   },
   {
    "duration": 0,
    "start_time": "2022-03-21T13:53:07.168Z"
   },
   {
    "duration": 0,
    "start_time": "2022-03-21T13:53:07.169Z"
   },
   {
    "duration": 5,
    "start_time": "2022-03-21T13:53:39.895Z"
   },
   {
    "duration": 440,
    "start_time": "2022-03-21T13:54:17.940Z"
   },
   {
    "duration": 95,
    "start_time": "2022-03-21T13:54:18.382Z"
   },
   {
    "duration": 4,
    "start_time": "2022-03-21T13:54:18.478Z"
   },
   {
    "duration": 11,
    "start_time": "2022-03-21T13:54:18.484Z"
   },
   {
    "duration": 10,
    "start_time": "2022-03-21T13:54:18.497Z"
   },
   {
    "duration": 541,
    "start_time": "2022-03-21T13:54:18.509Z"
   },
   {
    "duration": 65,
    "start_time": "2022-03-21T13:54:19.053Z"
   },
   {
    "duration": 8,
    "start_time": "2022-03-21T13:54:19.120Z"
   },
   {
    "duration": 7,
    "start_time": "2022-03-21T13:54:19.130Z"
   },
   {
    "duration": 14,
    "start_time": "2022-03-21T13:54:19.163Z"
   },
   {
    "duration": 10,
    "start_time": "2022-03-21T13:54:19.178Z"
   },
   {
    "duration": 4,
    "start_time": "2022-03-21T13:54:19.190Z"
   },
   {
    "duration": 12,
    "start_time": "2022-03-21T13:54:19.196Z"
   },
   {
    "duration": 5,
    "start_time": "2022-03-21T13:54:19.210Z"
   },
   {
    "duration": 5,
    "start_time": "2022-03-21T13:54:19.216Z"
   },
   {
    "duration": 4,
    "start_time": "2022-03-21T13:54:19.223Z"
   },
   {
    "duration": 5,
    "start_time": "2022-03-21T13:54:19.228Z"
   },
   {
    "duration": 32,
    "start_time": "2022-03-21T13:54:19.235Z"
   },
   {
    "duration": 5,
    "start_time": "2022-03-21T13:54:19.268Z"
   },
   {
    "duration": 10,
    "start_time": "2022-03-21T13:54:19.275Z"
   },
   {
    "duration": 4,
    "start_time": "2022-03-21T13:54:19.287Z"
   },
   {
    "duration": 10,
    "start_time": "2022-03-21T13:54:19.293Z"
   },
   {
    "duration": 5,
    "start_time": "2022-03-21T13:54:19.304Z"
   },
   {
    "duration": 15,
    "start_time": "2022-03-21T13:54:19.310Z"
   },
   {
    "duration": 47,
    "start_time": "2022-03-21T13:54:19.326Z"
   },
   {
    "duration": 23,
    "start_time": "2022-03-21T13:54:19.375Z"
   },
   {
    "duration": 16,
    "start_time": "2022-03-21T13:54:19.399Z"
   },
   {
    "duration": 9,
    "start_time": "2022-03-21T13:54:19.419Z"
   },
   {
    "duration": 40,
    "start_time": "2022-03-21T13:54:19.429Z"
   },
   {
    "duration": 6,
    "start_time": "2022-03-21T13:54:19.470Z"
   },
   {
    "duration": 9,
    "start_time": "2022-03-21T13:54:19.477Z"
   },
   {
    "duration": 23,
    "start_time": "2022-03-21T13:54:19.487Z"
   },
   {
    "duration": 88,
    "start_time": "2022-03-21T13:54:19.511Z"
   },
   {
    "duration": 63,
    "start_time": "2022-03-21T13:54:19.601Z"
   },
   {
    "duration": 34,
    "start_time": "2022-03-21T13:54:19.666Z"
   },
   {
    "duration": 73,
    "start_time": "2022-03-21T13:54:19.702Z"
   },
   {
    "duration": 370,
    "start_time": "2022-03-21T13:54:19.776Z"
   },
   {
    "duration": 51,
    "start_time": "2022-03-21T13:54:20.147Z"
   },
   {
    "duration": 406,
    "start_time": "2022-03-21T13:54:20.199Z"
   },
   {
    "duration": 290,
    "start_time": "2022-03-21T13:54:20.606Z"
   },
   {
    "duration": 297,
    "start_time": "2022-03-21T13:54:20.897Z"
   },
   {
    "duration": 304,
    "start_time": "2022-03-21T13:54:21.195Z"
   },
   {
    "duration": 465,
    "start_time": "2022-03-21T13:54:21.501Z"
   },
   {
    "duration": 11,
    "start_time": "2022-03-21T13:54:21.968Z"
   },
   {
    "duration": 8,
    "start_time": "2022-03-21T13:54:21.981Z"
   },
   {
    "duration": 18,
    "start_time": "2022-03-21T13:54:21.990Z"
   },
   {
    "duration": 61,
    "start_time": "2022-03-21T13:54:22.010Z"
   },
   {
    "duration": 17,
    "start_time": "2022-03-21T13:54:22.073Z"
   },
   {
    "duration": 7,
    "start_time": "2022-03-21T13:54:22.092Z"
   },
   {
    "duration": 13,
    "start_time": "2022-03-21T13:54:22.101Z"
   },
   {
    "duration": 7,
    "start_time": "2022-03-21T13:54:22.116Z"
   },
   {
    "duration": 193,
    "start_time": "2022-03-21T13:54:22.125Z"
   },
   {
    "duration": 353,
    "start_time": "2022-03-21T13:54:22.320Z"
   },
   {
    "duration": 274,
    "start_time": "2022-03-21T13:54:22.675Z"
   },
   {
    "duration": 317,
    "start_time": "2022-03-21T13:54:22.951Z"
   },
   {
    "duration": 8,
    "start_time": "2022-03-21T13:54:23.270Z"
   },
   {
    "duration": 22,
    "start_time": "2022-03-21T13:54:23.280Z"
   },
   {
    "duration": 70,
    "start_time": "2022-03-21T13:54:23.304Z"
   },
   {
    "duration": 20,
    "start_time": "2022-03-21T13:54:23.377Z"
   },
   {
    "duration": 213,
    "start_time": "2022-03-21T13:54:23.400Z"
   },
   {
    "duration": 11,
    "start_time": "2022-03-21T13:54:23.616Z"
   },
   {
    "duration": 245,
    "start_time": "2022-03-21T13:54:23.630Z"
   },
   {
    "duration": 143,
    "start_time": "2022-03-21T13:54:23.877Z"
   },
   {
    "duration": 152,
    "start_time": "2022-03-21T13:54:24.022Z"
   },
   {
    "duration": 153,
    "start_time": "2022-03-21T13:54:24.176Z"
   },
   {
    "duration": 161,
    "start_time": "2022-03-21T13:54:24.330Z"
   },
   {
    "duration": 159,
    "start_time": "2022-03-21T13:54:24.493Z"
   },
   {
    "duration": 9,
    "start_time": "2022-03-21T13:56:00.257Z"
   },
   {
    "duration": 15,
    "start_time": "2022-03-21T13:57:24.055Z"
   },
   {
    "duration": 6,
    "start_time": "2022-03-21T14:23:32.837Z"
   },
   {
    "duration": 11,
    "start_time": "2022-03-21T14:25:59.291Z"
   },
   {
    "duration": 14,
    "start_time": "2022-03-21T14:26:20.921Z"
   },
   {
    "duration": 143,
    "start_time": "2022-03-21T14:32:09.535Z"
   },
   {
    "duration": 145,
    "start_time": "2022-03-21T14:32:55.284Z"
   },
   {
    "duration": 152,
    "start_time": "2022-03-21T14:33:25.389Z"
   },
   {
    "duration": 131,
    "start_time": "2022-03-21T14:36:41.997Z"
   },
   {
    "duration": 201,
    "start_time": "2022-03-21T14:36:53.895Z"
   },
   {
    "duration": 136,
    "start_time": "2022-03-21T14:37:03.951Z"
   },
   {
    "duration": 133,
    "start_time": "2022-03-21T14:37:39.572Z"
   },
   {
    "duration": 139,
    "start_time": "2022-03-21T14:37:49.137Z"
   },
   {
    "duration": 142,
    "start_time": "2022-03-21T14:38:29.157Z"
   },
   {
    "duration": 137,
    "start_time": "2022-03-21T14:38:37.722Z"
   },
   {
    "duration": 223,
    "start_time": "2022-03-21T14:39:31.546Z"
   },
   {
    "duration": 146,
    "start_time": "2022-03-21T14:40:12.252Z"
   },
   {
    "duration": 210,
    "start_time": "2022-03-21T14:40:34.207Z"
   },
   {
    "duration": 149,
    "start_time": "2022-03-21T14:41:56.699Z"
   },
   {
    "duration": 9,
    "start_time": "2022-03-21T14:45:34.578Z"
   },
   {
    "duration": 375,
    "start_time": "2022-03-21T14:45:51.898Z"
   },
   {
    "duration": 92,
    "start_time": "2022-03-21T14:45:52.275Z"
   },
   {
    "duration": 5,
    "start_time": "2022-03-21T14:45:52.369Z"
   },
   {
    "duration": 9,
    "start_time": "2022-03-21T14:45:52.376Z"
   },
   {
    "duration": 10,
    "start_time": "2022-03-21T14:45:52.388Z"
   },
   {
    "duration": 343,
    "start_time": "2022-03-21T14:45:52.400Z"
   },
   {
    "duration": 55,
    "start_time": "2022-03-21T14:45:52.744Z"
   },
   {
    "duration": 9,
    "start_time": "2022-03-21T14:45:52.801Z"
   },
   {
    "duration": 8,
    "start_time": "2022-03-21T14:45:52.812Z"
   },
   {
    "duration": 21,
    "start_time": "2022-03-21T14:45:52.822Z"
   },
   {
    "duration": 25,
    "start_time": "2022-03-21T14:45:52.845Z"
   },
   {
    "duration": 5,
    "start_time": "2022-03-21T14:45:52.871Z"
   },
   {
    "duration": 6,
    "start_time": "2022-03-21T14:45:52.878Z"
   },
   {
    "duration": 12,
    "start_time": "2022-03-21T14:45:52.887Z"
   },
   {
    "duration": 4,
    "start_time": "2022-03-21T14:45:52.901Z"
   },
   {
    "duration": 8,
    "start_time": "2022-03-21T14:45:52.906Z"
   },
   {
    "duration": 5,
    "start_time": "2022-03-21T14:45:52.915Z"
   },
   {
    "duration": 6,
    "start_time": "2022-03-21T14:45:52.922Z"
   },
   {
    "duration": 36,
    "start_time": "2022-03-21T14:45:52.930Z"
   },
   {
    "duration": 10,
    "start_time": "2022-03-21T14:45:52.967Z"
   },
   {
    "duration": 4,
    "start_time": "2022-03-21T14:45:52.979Z"
   },
   {
    "duration": 10,
    "start_time": "2022-03-21T14:45:52.984Z"
   },
   {
    "duration": 4,
    "start_time": "2022-03-21T14:45:52.995Z"
   },
   {
    "duration": 12,
    "start_time": "2022-03-21T14:45:53.001Z"
   },
   {
    "duration": 49,
    "start_time": "2022-03-21T14:45:53.015Z"
   },
   {
    "duration": 88,
    "start_time": "2022-03-21T14:45:53.066Z"
   },
   {
    "duration": 0,
    "start_time": "2022-03-21T14:45:53.156Z"
   },
   {
    "duration": 0,
    "start_time": "2022-03-21T14:45:53.162Z"
   },
   {
    "duration": 0,
    "start_time": "2022-03-21T14:45:53.163Z"
   },
   {
    "duration": 0,
    "start_time": "2022-03-21T14:45:53.165Z"
   },
   {
    "duration": 0,
    "start_time": "2022-03-21T14:45:53.165Z"
   },
   {
    "duration": 0,
    "start_time": "2022-03-21T14:45:53.166Z"
   },
   {
    "duration": 0,
    "start_time": "2022-03-21T14:45:53.168Z"
   },
   {
    "duration": 0,
    "start_time": "2022-03-21T14:45:53.168Z"
   },
   {
    "duration": 0,
    "start_time": "2022-03-21T14:45:53.169Z"
   },
   {
    "duration": 0,
    "start_time": "2022-03-21T14:45:53.170Z"
   },
   {
    "duration": 0,
    "start_time": "2022-03-21T14:45:53.171Z"
   },
   {
    "duration": 0,
    "start_time": "2022-03-21T14:45:53.172Z"
   },
   {
    "duration": 0,
    "start_time": "2022-03-21T14:45:53.173Z"
   },
   {
    "duration": 0,
    "start_time": "2022-03-21T14:45:53.174Z"
   },
   {
    "duration": 0,
    "start_time": "2022-03-21T14:45:53.175Z"
   },
   {
    "duration": 0,
    "start_time": "2022-03-21T14:45:53.176Z"
   },
   {
    "duration": 0,
    "start_time": "2022-03-21T14:45:53.177Z"
   },
   {
    "duration": 0,
    "start_time": "2022-03-21T14:45:53.178Z"
   },
   {
    "duration": 0,
    "start_time": "2022-03-21T14:45:53.178Z"
   },
   {
    "duration": 0,
    "start_time": "2022-03-21T14:45:53.179Z"
   },
   {
    "duration": 0,
    "start_time": "2022-03-21T14:45:53.181Z"
   },
   {
    "duration": 0,
    "start_time": "2022-03-21T14:45:53.182Z"
   },
   {
    "duration": 0,
    "start_time": "2022-03-21T14:45:53.183Z"
   },
   {
    "duration": 0,
    "start_time": "2022-03-21T14:45:53.183Z"
   },
   {
    "duration": 0,
    "start_time": "2022-03-21T14:45:53.184Z"
   },
   {
    "duration": 0,
    "start_time": "2022-03-21T14:45:53.185Z"
   },
   {
    "duration": 0,
    "start_time": "2022-03-21T14:45:53.186Z"
   },
   {
    "duration": 0,
    "start_time": "2022-03-21T14:45:53.187Z"
   },
   {
    "duration": 0,
    "start_time": "2022-03-21T14:45:53.188Z"
   },
   {
    "duration": 0,
    "start_time": "2022-03-21T14:45:53.188Z"
   },
   {
    "duration": 0,
    "start_time": "2022-03-21T14:45:53.189Z"
   },
   {
    "duration": 0,
    "start_time": "2022-03-21T14:45:53.190Z"
   },
   {
    "duration": 0,
    "start_time": "2022-03-21T14:45:53.191Z"
   },
   {
    "duration": 0,
    "start_time": "2022-03-21T14:45:53.192Z"
   },
   {
    "duration": 0,
    "start_time": "2022-03-21T14:45:53.192Z"
   },
   {
    "duration": 0,
    "start_time": "2022-03-21T14:45:53.194Z"
   },
   {
    "duration": 0,
    "start_time": "2022-03-21T14:45:53.195Z"
   },
   {
    "duration": 0,
    "start_time": "2022-03-21T14:45:53.195Z"
   },
   {
    "duration": 0,
    "start_time": "2022-03-21T14:45:53.197Z"
   },
   {
    "duration": 0,
    "start_time": "2022-03-21T14:45:53.197Z"
   },
   {
    "duration": 0,
    "start_time": "2022-03-21T14:45:53.198Z"
   },
   {
    "duration": 0,
    "start_time": "2022-03-21T14:45:53.262Z"
   },
   {
    "duration": 9,
    "start_time": "2022-03-21T14:46:16.385Z"
   },
   {
    "duration": 13,
    "start_time": "2022-03-21T14:51:57.467Z"
   },
   {
    "duration": 8,
    "start_time": "2022-03-21T14:52:04.202Z"
   },
   {
    "duration": 13,
    "start_time": "2022-03-21T14:52:11.109Z"
   },
   {
    "duration": 410,
    "start_time": "2022-03-21T14:52:18.665Z"
   },
   {
    "duration": 98,
    "start_time": "2022-03-21T14:52:19.077Z"
   },
   {
    "duration": 4,
    "start_time": "2022-03-21T14:52:19.177Z"
   },
   {
    "duration": 11,
    "start_time": "2022-03-21T14:52:19.183Z"
   },
   {
    "duration": 11,
    "start_time": "2022-03-21T14:52:19.196Z"
   },
   {
    "duration": 362,
    "start_time": "2022-03-21T14:52:19.209Z"
   },
   {
    "duration": 50,
    "start_time": "2022-03-21T14:52:19.572Z"
   },
   {
    "duration": 8,
    "start_time": "2022-03-21T14:52:19.624Z"
   },
   {
    "duration": 9,
    "start_time": "2022-03-21T14:52:19.633Z"
   },
   {
    "duration": 29,
    "start_time": "2022-03-21T14:52:19.645Z"
   },
   {
    "duration": 9,
    "start_time": "2022-03-21T14:52:19.676Z"
   },
   {
    "duration": 11,
    "start_time": "2022-03-21T14:52:19.687Z"
   },
   {
    "duration": 8,
    "start_time": "2022-03-21T14:52:19.700Z"
   },
   {
    "duration": 15,
    "start_time": "2022-03-21T14:52:19.710Z"
   },
   {
    "duration": 6,
    "start_time": "2022-03-21T14:52:19.727Z"
   },
   {
    "duration": 5,
    "start_time": "2022-03-21T14:52:19.762Z"
   },
   {
    "duration": 5,
    "start_time": "2022-03-21T14:52:19.769Z"
   },
   {
    "duration": 4,
    "start_time": "2022-03-21T14:52:19.776Z"
   },
   {
    "duration": 5,
    "start_time": "2022-03-21T14:52:19.781Z"
   },
   {
    "duration": 11,
    "start_time": "2022-03-21T14:52:19.787Z"
   },
   {
    "duration": 5,
    "start_time": "2022-03-21T14:52:19.799Z"
   },
   {
    "duration": 9,
    "start_time": "2022-03-21T14:52:19.805Z"
   },
   {
    "duration": 4,
    "start_time": "2022-03-21T14:52:19.816Z"
   },
   {
    "duration": 45,
    "start_time": "2022-03-21T14:52:19.822Z"
   },
   {
    "duration": 15,
    "start_time": "2022-03-21T14:52:19.869Z"
   },
   {
    "duration": 105,
    "start_time": "2022-03-21T14:52:19.886Z"
   },
   {
    "duration": 0,
    "start_time": "2022-03-21T14:52:19.994Z"
   },
   {
    "duration": 0,
    "start_time": "2022-03-21T14:52:19.995Z"
   },
   {
    "duration": 0,
    "start_time": "2022-03-21T14:52:19.997Z"
   },
   {
    "duration": 0,
    "start_time": "2022-03-21T14:52:19.998Z"
   },
   {
    "duration": 0,
    "start_time": "2022-03-21T14:52:19.999Z"
   },
   {
    "duration": 0,
    "start_time": "2022-03-21T14:52:19.999Z"
   },
   {
    "duration": 1,
    "start_time": "2022-03-21T14:52:20.000Z"
   },
   {
    "duration": 0,
    "start_time": "2022-03-21T14:52:20.002Z"
   },
   {
    "duration": 0,
    "start_time": "2022-03-21T14:52:20.002Z"
   },
   {
    "duration": 0,
    "start_time": "2022-03-21T14:52:20.004Z"
   },
   {
    "duration": 0,
    "start_time": "2022-03-21T14:52:20.005Z"
   },
   {
    "duration": 0,
    "start_time": "2022-03-21T14:52:20.006Z"
   },
   {
    "duration": 0,
    "start_time": "2022-03-21T14:52:20.007Z"
   },
   {
    "duration": 0,
    "start_time": "2022-03-21T14:52:20.008Z"
   },
   {
    "duration": 0,
    "start_time": "2022-03-21T14:52:20.009Z"
   },
   {
    "duration": 0,
    "start_time": "2022-03-21T14:52:20.010Z"
   },
   {
    "duration": 0,
    "start_time": "2022-03-21T14:52:20.011Z"
   },
   {
    "duration": 0,
    "start_time": "2022-03-21T14:52:20.012Z"
   },
   {
    "duration": 0,
    "start_time": "2022-03-21T14:52:20.013Z"
   },
   {
    "duration": 0,
    "start_time": "2022-03-21T14:52:20.014Z"
   },
   {
    "duration": 0,
    "start_time": "2022-03-21T14:52:20.015Z"
   },
   {
    "duration": 0,
    "start_time": "2022-03-21T14:52:20.016Z"
   },
   {
    "duration": 0,
    "start_time": "2022-03-21T14:52:20.017Z"
   },
   {
    "duration": 0,
    "start_time": "2022-03-21T14:52:20.018Z"
   },
   {
    "duration": 0,
    "start_time": "2022-03-21T14:52:20.063Z"
   },
   {
    "duration": 0,
    "start_time": "2022-03-21T14:52:20.064Z"
   },
   {
    "duration": 1,
    "start_time": "2022-03-21T14:52:20.065Z"
   },
   {
    "duration": 0,
    "start_time": "2022-03-21T14:52:20.067Z"
   },
   {
    "duration": 0,
    "start_time": "2022-03-21T14:52:20.068Z"
   },
   {
    "duration": 0,
    "start_time": "2022-03-21T14:52:20.069Z"
   },
   {
    "duration": 0,
    "start_time": "2022-03-21T14:52:20.070Z"
   },
   {
    "duration": 0,
    "start_time": "2022-03-21T14:52:20.071Z"
   },
   {
    "duration": 0,
    "start_time": "2022-03-21T14:52:20.072Z"
   },
   {
    "duration": 0,
    "start_time": "2022-03-21T14:52:20.073Z"
   },
   {
    "duration": 0,
    "start_time": "2022-03-21T14:52:20.074Z"
   },
   {
    "duration": 0,
    "start_time": "2022-03-21T14:52:20.075Z"
   },
   {
    "duration": 0,
    "start_time": "2022-03-21T14:52:20.076Z"
   },
   {
    "duration": 0,
    "start_time": "2022-03-21T14:52:20.078Z"
   },
   {
    "duration": 0,
    "start_time": "2022-03-21T14:52:20.078Z"
   },
   {
    "duration": 0,
    "start_time": "2022-03-21T14:52:20.080Z"
   },
   {
    "duration": 0,
    "start_time": "2022-03-21T14:52:20.081Z"
   },
   {
    "duration": 0,
    "start_time": "2022-03-21T14:52:20.083Z"
   },
   {
    "duration": 55,
    "start_time": "2022-03-21T14:53:28.451Z"
   },
   {
    "duration": 364,
    "start_time": "2022-03-21T14:53:36.814Z"
   },
   {
    "duration": 100,
    "start_time": "2022-03-21T14:53:37.180Z"
   },
   {
    "duration": 4,
    "start_time": "2022-03-21T14:53:37.282Z"
   },
   {
    "duration": 14,
    "start_time": "2022-03-21T14:53:37.288Z"
   },
   {
    "duration": 11,
    "start_time": "2022-03-21T14:53:37.304Z"
   },
   {
    "duration": 334,
    "start_time": "2022-03-21T14:53:37.317Z"
   },
   {
    "duration": 52,
    "start_time": "2022-03-21T14:53:37.652Z"
   },
   {
    "duration": 7,
    "start_time": "2022-03-21T14:53:37.706Z"
   },
   {
    "duration": 5,
    "start_time": "2022-03-21T14:53:37.715Z"
   },
   {
    "duration": 15,
    "start_time": "2022-03-21T14:53:37.722Z"
   },
   {
    "duration": 32,
    "start_time": "2022-03-21T14:53:37.738Z"
   },
   {
    "duration": 5,
    "start_time": "2022-03-21T14:53:37.771Z"
   },
   {
    "duration": 9,
    "start_time": "2022-03-21T14:53:37.777Z"
   },
   {
    "duration": 74,
    "start_time": "2022-03-21T14:53:37.789Z"
   },
   {
    "duration": 5,
    "start_time": "2022-03-21T14:53:37.865Z"
   },
   {
    "duration": 6,
    "start_time": "2022-03-21T14:53:37.871Z"
   },
   {
    "duration": 4,
    "start_time": "2022-03-21T14:53:37.878Z"
   },
   {
    "duration": 5,
    "start_time": "2022-03-21T14:53:37.883Z"
   },
   {
    "duration": 6,
    "start_time": "2022-03-21T14:53:37.889Z"
   },
   {
    "duration": 11,
    "start_time": "2022-03-21T14:53:37.897Z"
   },
   {
    "duration": 5,
    "start_time": "2022-03-21T14:53:37.910Z"
   },
   {
    "duration": 10,
    "start_time": "2022-03-21T14:53:37.916Z"
   },
   {
    "duration": 38,
    "start_time": "2022-03-21T14:53:37.927Z"
   },
   {
    "duration": 15,
    "start_time": "2022-03-21T14:53:37.967Z"
   },
   {
    "duration": 16,
    "start_time": "2022-03-21T14:53:37.983Z"
   },
   {
    "duration": 116,
    "start_time": "2022-03-21T14:53:38.001Z"
   },
   {
    "duration": 0,
    "start_time": "2022-03-21T14:53:38.120Z"
   },
   {
    "duration": 0,
    "start_time": "2022-03-21T14:53:38.121Z"
   },
   {
    "duration": 0,
    "start_time": "2022-03-21T14:53:38.122Z"
   },
   {
    "duration": 0,
    "start_time": "2022-03-21T14:53:38.123Z"
   },
   {
    "duration": 0,
    "start_time": "2022-03-21T14:53:38.124Z"
   },
   {
    "duration": 0,
    "start_time": "2022-03-21T14:53:38.125Z"
   },
   {
    "duration": 0,
    "start_time": "2022-03-21T14:53:38.126Z"
   },
   {
    "duration": 0,
    "start_time": "2022-03-21T14:53:38.126Z"
   },
   {
    "duration": 0,
    "start_time": "2022-03-21T14:53:38.127Z"
   },
   {
    "duration": 0,
    "start_time": "2022-03-21T14:53:38.128Z"
   },
   {
    "duration": 0,
    "start_time": "2022-03-21T14:53:38.129Z"
   },
   {
    "duration": 0,
    "start_time": "2022-03-21T14:53:38.130Z"
   },
   {
    "duration": 0,
    "start_time": "2022-03-21T14:53:38.130Z"
   },
   {
    "duration": 0,
    "start_time": "2022-03-21T14:53:38.131Z"
   },
   {
    "duration": 0,
    "start_time": "2022-03-21T14:53:38.132Z"
   },
   {
    "duration": 0,
    "start_time": "2022-03-21T14:53:38.133Z"
   },
   {
    "duration": 0,
    "start_time": "2022-03-21T14:53:38.134Z"
   },
   {
    "duration": 0,
    "start_time": "2022-03-21T14:53:38.135Z"
   },
   {
    "duration": 0,
    "start_time": "2022-03-21T14:53:38.137Z"
   },
   {
    "duration": 0,
    "start_time": "2022-03-21T14:53:38.138Z"
   },
   {
    "duration": 0,
    "start_time": "2022-03-21T14:53:38.163Z"
   },
   {
    "duration": 0,
    "start_time": "2022-03-21T14:53:38.164Z"
   },
   {
    "duration": 0,
    "start_time": "2022-03-21T14:53:38.165Z"
   },
   {
    "duration": 0,
    "start_time": "2022-03-21T14:53:38.166Z"
   },
   {
    "duration": 0,
    "start_time": "2022-03-21T14:53:38.167Z"
   },
   {
    "duration": 0,
    "start_time": "2022-03-21T14:53:38.168Z"
   },
   {
    "duration": 0,
    "start_time": "2022-03-21T14:53:38.169Z"
   },
   {
    "duration": 0,
    "start_time": "2022-03-21T14:53:38.170Z"
   },
   {
    "duration": 0,
    "start_time": "2022-03-21T14:53:38.171Z"
   },
   {
    "duration": 0,
    "start_time": "2022-03-21T14:53:38.172Z"
   },
   {
    "duration": 0,
    "start_time": "2022-03-21T14:53:38.173Z"
   },
   {
    "duration": 0,
    "start_time": "2022-03-21T14:53:38.174Z"
   },
   {
    "duration": 0,
    "start_time": "2022-03-21T14:53:38.175Z"
   },
   {
    "duration": 0,
    "start_time": "2022-03-21T14:53:38.176Z"
   },
   {
    "duration": 0,
    "start_time": "2022-03-21T14:53:38.177Z"
   },
   {
    "duration": 0,
    "start_time": "2022-03-21T14:53:38.177Z"
   },
   {
    "duration": 0,
    "start_time": "2022-03-21T14:53:38.178Z"
   },
   {
    "duration": 0,
    "start_time": "2022-03-21T14:53:38.179Z"
   },
   {
    "duration": 0,
    "start_time": "2022-03-21T14:53:38.181Z"
   },
   {
    "duration": 0,
    "start_time": "2022-03-21T14:53:38.181Z"
   },
   {
    "duration": 0,
    "start_time": "2022-03-21T14:53:38.182Z"
   },
   {
    "duration": 0,
    "start_time": "2022-03-21T14:53:38.183Z"
   },
   {
    "duration": 549,
    "start_time": "2022-03-21T14:54:30.344Z"
   },
   {
    "duration": 100,
    "start_time": "2022-03-21T14:54:30.895Z"
   },
   {
    "duration": 4,
    "start_time": "2022-03-21T14:54:30.997Z"
   },
   {
    "duration": 34,
    "start_time": "2022-03-21T14:54:31.003Z"
   },
   {
    "duration": 18,
    "start_time": "2022-03-21T14:54:31.040Z"
   },
   {
    "duration": 342,
    "start_time": "2022-03-21T14:54:31.060Z"
   },
   {
    "duration": 59,
    "start_time": "2022-03-21T14:54:31.404Z"
   },
   {
    "duration": 7,
    "start_time": "2022-03-21T14:54:31.465Z"
   },
   {
    "duration": 6,
    "start_time": "2022-03-21T14:54:31.474Z"
   },
   {
    "duration": 18,
    "start_time": "2022-03-21T14:54:31.481Z"
   },
   {
    "duration": 7,
    "start_time": "2022-03-21T14:54:31.501Z"
   },
   {
    "duration": 8,
    "start_time": "2022-03-21T14:54:31.510Z"
   },
   {
    "duration": 8,
    "start_time": "2022-03-21T14:54:31.519Z"
   },
   {
    "duration": 8,
    "start_time": "2022-03-21T14:54:31.563Z"
   },
   {
    "duration": 5,
    "start_time": "2022-03-21T14:54:31.572Z"
   },
   {
    "duration": 8,
    "start_time": "2022-03-21T14:54:31.579Z"
   },
   {
    "duration": 11,
    "start_time": "2022-03-21T14:54:31.589Z"
   },
   {
    "duration": 5,
    "start_time": "2022-03-21T14:54:31.602Z"
   },
   {
    "duration": 8,
    "start_time": "2022-03-21T14:54:31.609Z"
   },
   {
    "duration": 44,
    "start_time": "2022-03-21T14:54:31.620Z"
   },
   {
    "duration": 6,
    "start_time": "2022-03-21T14:54:31.667Z"
   },
   {
    "duration": 11,
    "start_time": "2022-03-21T14:54:31.676Z"
   },
   {
    "duration": 5,
    "start_time": "2022-03-21T14:54:31.689Z"
   },
   {
    "duration": 16,
    "start_time": "2022-03-21T14:54:31.696Z"
   },
   {
    "duration": 16,
    "start_time": "2022-03-21T14:54:31.715Z"
   },
   {
    "duration": 53,
    "start_time": "2022-03-21T14:54:31.733Z"
   },
   {
    "duration": 16,
    "start_time": "2022-03-21T14:54:31.788Z"
   },
   {
    "duration": 9,
    "start_time": "2022-03-21T14:54:31.805Z"
   },
   {
    "duration": 22,
    "start_time": "2022-03-21T14:54:31.815Z"
   },
   {
    "duration": 6,
    "start_time": "2022-03-21T14:54:31.862Z"
   },
   {
    "duration": 20,
    "start_time": "2022-03-21T14:54:31.870Z"
   },
   {
    "duration": 25,
    "start_time": "2022-03-21T14:54:31.892Z"
   },
   {
    "duration": 92,
    "start_time": "2022-03-21T14:54:31.919Z"
   },
   {
    "duration": 68,
    "start_time": "2022-03-21T14:54:32.013Z"
   },
   {
    "duration": 37,
    "start_time": "2022-03-21T14:54:32.083Z"
   },
   {
    "duration": 79,
    "start_time": "2022-03-21T14:54:32.121Z"
   },
   {
    "duration": 401,
    "start_time": "2022-03-21T14:54:32.202Z"
   },
   {
    "duration": 168,
    "start_time": "2022-03-21T14:54:32.605Z"
   },
   {
    "duration": 429,
    "start_time": "2022-03-21T14:54:32.775Z"
   },
   {
    "duration": 292,
    "start_time": "2022-03-21T14:54:33.205Z"
   },
   {
    "duration": 296,
    "start_time": "2022-03-21T14:54:33.502Z"
   },
   {
    "duration": 363,
    "start_time": "2022-03-21T14:54:33.800Z"
   },
   {
    "duration": 200,
    "start_time": "2022-03-21T14:54:34.165Z"
   },
   {
    "duration": 9,
    "start_time": "2022-03-21T14:54:34.367Z"
   },
   {
    "duration": 5,
    "start_time": "2022-03-21T14:54:34.378Z"
   },
   {
    "duration": 17,
    "start_time": "2022-03-21T14:54:34.385Z"
   },
   {
    "duration": 9,
    "start_time": "2022-03-21T14:54:34.404Z"
   },
   {
    "duration": 56,
    "start_time": "2022-03-21T14:54:34.414Z"
   },
   {
    "duration": 8,
    "start_time": "2022-03-21T14:54:34.472Z"
   },
   {
    "duration": 24,
    "start_time": "2022-03-21T14:54:34.482Z"
   },
   {
    "duration": 91,
    "start_time": "2022-03-21T14:54:34.508Z"
   },
   {
    "duration": 0,
    "start_time": "2022-03-21T14:54:34.601Z"
   },
   {
    "duration": 0,
    "start_time": "2022-03-21T14:54:34.601Z"
   },
   {
    "duration": 0,
    "start_time": "2022-03-21T14:54:34.603Z"
   },
   {
    "duration": 0,
    "start_time": "2022-03-21T14:54:34.604Z"
   },
   {
    "duration": 1,
    "start_time": "2022-03-21T14:54:34.604Z"
   },
   {
    "duration": 0,
    "start_time": "2022-03-21T14:54:34.606Z"
   },
   {
    "duration": 0,
    "start_time": "2022-03-21T14:54:34.607Z"
   },
   {
    "duration": 0,
    "start_time": "2022-03-21T14:54:34.608Z"
   },
   {
    "duration": 0,
    "start_time": "2022-03-21T14:54:34.609Z"
   },
   {
    "duration": 0,
    "start_time": "2022-03-21T14:54:34.610Z"
   },
   {
    "duration": 0,
    "start_time": "2022-03-21T14:54:34.612Z"
   },
   {
    "duration": 0,
    "start_time": "2022-03-21T14:54:34.613Z"
   },
   {
    "duration": 0,
    "start_time": "2022-03-21T14:54:34.614Z"
   },
   {
    "duration": 0,
    "start_time": "2022-03-21T14:54:34.615Z"
   },
   {
    "duration": 0,
    "start_time": "2022-03-21T14:54:34.616Z"
   },
   {
    "duration": 0,
    "start_time": "2022-03-21T14:54:34.617Z"
   },
   {
    "duration": 0,
    "start_time": "2022-03-21T14:54:34.618Z"
   },
   {
    "duration": 9,
    "start_time": "2022-03-21T14:57:21.245Z"
   },
   {
    "duration": 14,
    "start_time": "2022-03-21T14:57:32.311Z"
   },
   {
    "duration": 11,
    "start_time": "2022-03-21T14:58:11.697Z"
   },
   {
    "duration": 10,
    "start_time": "2022-03-21T14:58:22.666Z"
   },
   {
    "duration": 371,
    "start_time": "2022-03-21T14:58:29.913Z"
   },
   {
    "duration": 97,
    "start_time": "2022-03-21T14:58:30.286Z"
   },
   {
    "duration": 4,
    "start_time": "2022-03-21T14:58:30.385Z"
   },
   {
    "duration": 16,
    "start_time": "2022-03-21T14:58:30.391Z"
   },
   {
    "duration": 25,
    "start_time": "2022-03-21T14:58:30.409Z"
   },
   {
    "duration": 328,
    "start_time": "2022-03-21T14:58:30.436Z"
   },
   {
    "duration": 49,
    "start_time": "2022-03-21T14:58:30.766Z"
   },
   {
    "duration": 7,
    "start_time": "2022-03-21T14:58:30.816Z"
   },
   {
    "duration": 5,
    "start_time": "2022-03-21T14:58:30.825Z"
   },
   {
    "duration": 38,
    "start_time": "2022-03-21T14:58:30.832Z"
   },
   {
    "duration": 10,
    "start_time": "2022-03-21T14:58:30.872Z"
   },
   {
    "duration": 10,
    "start_time": "2022-03-21T14:58:30.883Z"
   },
   {
    "duration": 5,
    "start_time": "2022-03-21T14:58:30.894Z"
   },
   {
    "duration": 12,
    "start_time": "2022-03-21T14:58:30.900Z"
   },
   {
    "duration": 5,
    "start_time": "2022-03-21T14:58:30.913Z"
   },
   {
    "duration": 6,
    "start_time": "2022-03-21T14:58:30.919Z"
   },
   {
    "duration": 5,
    "start_time": "2022-03-21T14:58:30.926Z"
   },
   {
    "duration": 33,
    "start_time": "2022-03-21T14:58:30.933Z"
   },
   {
    "duration": 11,
    "start_time": "2022-03-21T14:58:30.968Z"
   },
   {
    "duration": 14,
    "start_time": "2022-03-21T14:58:30.981Z"
   },
   {
    "duration": 5,
    "start_time": "2022-03-21T14:58:30.996Z"
   },
   {
    "duration": 39,
    "start_time": "2022-03-21T14:58:31.002Z"
   },
   {
    "duration": 8,
    "start_time": "2022-03-21T14:58:31.043Z"
   },
   {
    "duration": 14,
    "start_time": "2022-03-21T14:58:31.053Z"
   },
   {
    "duration": 21,
    "start_time": "2022-03-21T14:58:31.069Z"
   },
   {
    "duration": 23,
    "start_time": "2022-03-21T14:58:31.092Z"
   },
   {
    "duration": 14,
    "start_time": "2022-03-21T14:58:31.116Z"
   },
   {
    "duration": 29,
    "start_time": "2022-03-21T14:58:31.135Z"
   },
   {
    "duration": 11,
    "start_time": "2022-03-21T14:58:31.166Z"
   },
   {
    "duration": 5,
    "start_time": "2022-03-21T14:58:31.180Z"
   },
   {
    "duration": 9,
    "start_time": "2022-03-21T14:58:31.186Z"
   },
   {
    "duration": 22,
    "start_time": "2022-03-21T14:58:31.196Z"
   },
   {
    "duration": 98,
    "start_time": "2022-03-21T14:58:31.220Z"
   },
   {
    "duration": 68,
    "start_time": "2022-03-21T14:58:31.320Z"
   },
   {
    "duration": 35,
    "start_time": "2022-03-21T14:58:31.390Z"
   },
   {
    "duration": 80,
    "start_time": "2022-03-21T14:58:31.427Z"
   },
   {
    "duration": 358,
    "start_time": "2022-03-21T14:58:31.508Z"
   },
   {
    "duration": 44,
    "start_time": "2022-03-21T14:58:31.868Z"
   },
   {
    "duration": 240,
    "start_time": "2022-03-21T14:58:31.914Z"
   },
   {
    "duration": 207,
    "start_time": "2022-03-21T14:58:32.156Z"
   },
   {
    "duration": 228,
    "start_time": "2022-03-21T14:58:32.365Z"
   },
   {
    "duration": 301,
    "start_time": "2022-03-21T14:58:32.595Z"
   },
   {
    "duration": 308,
    "start_time": "2022-03-21T14:58:32.897Z"
   },
   {
    "duration": 63,
    "start_time": "2022-03-21T14:58:33.207Z"
   },
   {
    "duration": 6,
    "start_time": "2022-03-21T14:58:33.271Z"
   },
   {
    "duration": 19,
    "start_time": "2022-03-21T14:58:33.278Z"
   },
   {
    "duration": 8,
    "start_time": "2022-03-21T14:58:33.299Z"
   },
   {
    "duration": 19,
    "start_time": "2022-03-21T14:58:33.362Z"
   },
   {
    "duration": 7,
    "start_time": "2022-03-21T14:58:33.383Z"
   },
   {
    "duration": 14,
    "start_time": "2022-03-21T14:58:33.391Z"
   },
   {
    "duration": 63,
    "start_time": "2022-03-21T14:58:33.407Z"
   },
   {
    "duration": 9,
    "start_time": "2022-03-21T14:58:33.471Z"
   },
   {
    "duration": 310,
    "start_time": "2022-03-21T14:58:33.482Z"
   },
   {
    "duration": 342,
    "start_time": "2022-03-21T14:58:33.794Z"
   },
   {
    "duration": 265,
    "start_time": "2022-03-21T14:58:34.138Z"
   },
   {
    "duration": 197,
    "start_time": "2022-03-21T14:58:34.405Z"
   },
   {
    "duration": 7,
    "start_time": "2022-03-21T14:58:34.604Z"
   },
   {
    "duration": 23,
    "start_time": "2022-03-21T14:58:34.613Z"
   },
   {
    "duration": 58,
    "start_time": "2022-03-21T14:58:34.638Z"
   },
   {
    "duration": 19,
    "start_time": "2022-03-21T14:58:34.697Z"
   },
   {
    "duration": 202,
    "start_time": "2022-03-21T14:58:34.718Z"
   },
   {
    "duration": 10,
    "start_time": "2022-03-21T14:58:34.921Z"
   },
   {
    "duration": 249,
    "start_time": "2022-03-21T14:58:34.932Z"
   },
   {
    "duration": 155,
    "start_time": "2022-03-21T14:58:35.183Z"
   },
   {
    "duration": 166,
    "start_time": "2022-03-21T14:58:35.340Z"
   },
   {
    "duration": 161,
    "start_time": "2022-03-21T14:58:35.508Z"
   },
   {
    "duration": 248,
    "start_time": "2022-03-21T14:58:35.670Z"
   },
   {
    "duration": 254,
    "start_time": "2022-03-21T14:58:35.920Z"
   },
   {
    "duration": 9,
    "start_time": "2022-03-21T15:03:25.637Z"
   },
   {
    "duration": 20,
    "start_time": "2022-03-21T15:06:01.569Z"
   },
   {
    "duration": 455,
    "start_time": "2022-03-22T12:41:00.500Z"
   },
   {
    "duration": 131,
    "start_time": "2022-03-22T12:41:00.957Z"
   },
   {
    "duration": 11,
    "start_time": "2022-03-22T12:41:01.090Z"
   },
   {
    "duration": 10,
    "start_time": "2022-03-22T12:41:01.104Z"
   },
   {
    "duration": 35,
    "start_time": "2022-03-22T12:41:01.115Z"
   },
   {
    "duration": 813,
    "start_time": "2022-03-22T12:41:01.153Z"
   },
   {
    "duration": 69,
    "start_time": "2022-03-22T12:41:01.969Z"
   },
   {
    "duration": 11,
    "start_time": "2022-03-22T12:41:02.040Z"
   },
   {
    "duration": 15,
    "start_time": "2022-03-22T12:41:02.053Z"
   },
   {
    "duration": 42,
    "start_time": "2022-03-22T12:41:02.071Z"
   },
   {
    "duration": 22,
    "start_time": "2022-03-22T12:41:02.115Z"
   },
   {
    "duration": 70,
    "start_time": "2022-03-22T12:41:02.139Z"
   },
   {
    "duration": 13,
    "start_time": "2022-03-22T12:41:02.211Z"
   },
   {
    "duration": 17,
    "start_time": "2022-03-22T12:41:02.226Z"
   },
   {
    "duration": 12,
    "start_time": "2022-03-22T12:41:02.245Z"
   },
   {
    "duration": 13,
    "start_time": "2022-03-22T12:41:02.259Z"
   },
   {
    "duration": 27,
    "start_time": "2022-03-22T12:41:02.274Z"
   },
   {
    "duration": 18,
    "start_time": "2022-03-22T12:41:02.303Z"
   },
   {
    "duration": 18,
    "start_time": "2022-03-22T12:41:02.323Z"
   },
   {
    "duration": 15,
    "start_time": "2022-03-22T12:41:02.343Z"
   },
   {
    "duration": 11,
    "start_time": "2022-03-22T12:41:02.360Z"
   },
   {
    "duration": 25,
    "start_time": "2022-03-22T12:41:02.373Z"
   },
   {
    "duration": 10,
    "start_time": "2022-03-22T12:41:02.400Z"
   },
   {
    "duration": 25,
    "start_time": "2022-03-22T12:41:02.412Z"
   },
   {
    "duration": 23,
    "start_time": "2022-03-22T12:41:02.438Z"
   },
   {
    "duration": 26,
    "start_time": "2022-03-22T12:41:02.463Z"
   },
   {
    "duration": 25,
    "start_time": "2022-03-22T12:41:02.491Z"
   },
   {
    "duration": 11,
    "start_time": "2022-03-22T12:41:02.521Z"
   },
   {
    "duration": 19,
    "start_time": "2022-03-22T12:41:02.534Z"
   },
   {
    "duration": 10,
    "start_time": "2022-03-22T12:41:02.554Z"
   },
   {
    "duration": 14,
    "start_time": "2022-03-22T12:41:02.566Z"
   },
   {
    "duration": 23,
    "start_time": "2022-03-22T12:41:02.602Z"
   },
   {
    "duration": 106,
    "start_time": "2022-03-22T12:41:02.627Z"
   },
   {
    "duration": 65,
    "start_time": "2022-03-22T12:41:02.735Z"
   },
   {
    "duration": 39,
    "start_time": "2022-03-22T12:41:02.804Z"
   },
   {
    "duration": 82,
    "start_time": "2022-03-22T12:41:02.844Z"
   },
   {
    "duration": 406,
    "start_time": "2022-03-22T12:41:02.928Z"
   },
   {
    "duration": 50,
    "start_time": "2022-03-22T12:41:03.336Z"
   },
   {
    "duration": 270,
    "start_time": "2022-03-22T12:41:03.402Z"
   },
   {
    "duration": 184,
    "start_time": "2022-03-22T12:41:03.674Z"
   },
   {
    "duration": 171,
    "start_time": "2022-03-22T12:41:03.860Z"
   },
   {
    "duration": 196,
    "start_time": "2022-03-22T12:41:04.033Z"
   },
   {
    "duration": 194,
    "start_time": "2022-03-22T12:41:04.231Z"
   },
   {
    "duration": 10,
    "start_time": "2022-03-22T12:41:04.428Z"
   },
   {
    "duration": 10,
    "start_time": "2022-03-22T12:41:04.441Z"
   },
   {
    "duration": 29,
    "start_time": "2022-03-22T12:41:04.454Z"
   },
   {
    "duration": 24,
    "start_time": "2022-03-22T12:41:04.485Z"
   },
   {
    "duration": 31,
    "start_time": "2022-03-22T12:41:04.511Z"
   },
   {
    "duration": 11,
    "start_time": "2022-03-22T12:41:04.544Z"
   },
   {
    "duration": 35,
    "start_time": "2022-03-22T12:41:04.557Z"
   },
   {
    "duration": 15,
    "start_time": "2022-03-22T12:41:04.594Z"
   },
   {
    "duration": 18,
    "start_time": "2022-03-22T12:41:04.611Z"
   },
   {
    "duration": 11,
    "start_time": "2022-03-22T12:41:04.631Z"
   },
   {
    "duration": 212,
    "start_time": "2022-03-22T12:41:04.644Z"
   },
   {
    "duration": 286,
    "start_time": "2022-03-22T12:41:04.858Z"
   },
   {
    "duration": 317,
    "start_time": "2022-03-22T12:41:05.146Z"
   },
   {
    "duration": 223,
    "start_time": "2022-03-22T12:41:05.465Z"
   },
   {
    "duration": 18,
    "start_time": "2022-03-22T12:41:05.690Z"
   },
   {
    "duration": 34,
    "start_time": "2022-03-22T12:41:05.711Z"
   },
   {
    "duration": 58,
    "start_time": "2022-03-22T12:41:05.747Z"
   },
   {
    "duration": 21,
    "start_time": "2022-03-22T12:41:05.807Z"
   },
   {
    "duration": 244,
    "start_time": "2022-03-22T12:41:05.830Z"
   },
   {
    "duration": 11,
    "start_time": "2022-03-22T12:41:06.076Z"
   },
   {
    "duration": 359,
    "start_time": "2022-03-22T12:41:06.101Z"
   },
   {
    "duration": 184,
    "start_time": "2022-03-22T12:41:06.463Z"
   },
   {
    "duration": 172,
    "start_time": "2022-03-22T12:41:06.650Z"
   },
   {
    "duration": 209,
    "start_time": "2022-03-22T12:41:06.824Z"
   },
   {
    "duration": 185,
    "start_time": "2022-03-22T12:41:07.036Z"
   },
   {
    "duration": 197,
    "start_time": "2022-03-22T12:41:07.223Z"
   },
   {
    "duration": 218,
    "start_time": "2022-03-22T13:29:37.123Z"
   },
   {
    "duration": 179,
    "start_time": "2022-03-22T13:29:52.394Z"
   },
   {
    "duration": 181,
    "start_time": "2022-03-22T13:30:15.581Z"
   },
   {
    "duration": 206,
    "start_time": "2022-03-22T13:33:42.050Z"
   },
   {
    "duration": 165,
    "start_time": "2022-03-22T13:34:51.321Z"
   },
   {
    "duration": 320,
    "start_time": "2022-03-22T13:35:05.742Z"
   },
   {
    "duration": 153,
    "start_time": "2022-03-22T13:35:43.659Z"
   },
   {
    "duration": 10,
    "start_time": "2022-03-22T13:36:05.710Z"
   },
   {
    "duration": 10,
    "start_time": "2022-03-22T13:36:13.067Z"
   },
   {
    "duration": 136,
    "start_time": "2022-03-22T13:36:35.417Z"
   },
   {
    "duration": 176,
    "start_time": "2022-03-22T13:36:47.325Z"
   },
   {
    "duration": 171,
    "start_time": "2022-03-22T13:41:44.547Z"
   },
   {
    "duration": 1018,
    "start_time": "2022-03-22T13:50:04.723Z"
   },
   {
    "duration": 5171,
    "start_time": "2022-03-22T13:50:22.563Z"
   },
   {
    "duration": 4589,
    "start_time": "2022-03-22T13:51:19.422Z"
   },
   {
    "duration": 2020,
    "start_time": "2022-03-22T13:54:35.815Z"
   },
   {
    "duration": 2435,
    "start_time": "2022-03-22T13:54:49.334Z"
   },
   {
    "duration": 1598,
    "start_time": "2022-03-22T13:55:02.229Z"
   },
   {
    "duration": 4465,
    "start_time": "2022-03-22T13:56:28.343Z"
   },
   {
    "duration": 481,
    "start_time": "2022-03-22T13:57:09.204Z"
   },
   {
    "duration": 238,
    "start_time": "2022-03-22T13:57:13.956Z"
   },
   {
    "duration": 245,
    "start_time": "2022-03-22T13:57:17.746Z"
   },
   {
    "duration": 229,
    "start_time": "2022-03-22T13:57:20.340Z"
   },
   {
    "duration": 5004,
    "start_time": "2022-03-22T13:58:00.501Z"
   },
   {
    "duration": 157,
    "start_time": "2022-03-22T13:59:23.760Z"
   },
   {
    "duration": 986,
    "start_time": "2022-03-22T13:59:38.163Z"
   },
   {
    "duration": 1607,
    "start_time": "2022-03-22T13:59:46.703Z"
   },
   {
    "duration": 984,
    "start_time": "2022-03-22T13:59:50.541Z"
   },
   {
    "duration": 1038,
    "start_time": "2022-03-22T14:00:09.547Z"
   },
   {
    "duration": 995,
    "start_time": "2022-03-22T14:00:21.546Z"
   },
   {
    "duration": 5175,
    "start_time": "2022-03-22T14:00:26.712Z"
   },
   {
    "duration": 244,
    "start_time": "2022-03-22T14:08:32.648Z"
   },
   {
    "duration": 368,
    "start_time": "2022-03-22T14:09:27.643Z"
   },
   {
    "duration": 439,
    "start_time": "2022-03-22T14:09:48.343Z"
   },
   {
    "duration": 5339,
    "start_time": "2022-03-22T14:09:53.606Z"
   },
   {
    "duration": 13,
    "start_time": "2022-03-22T14:11:26.088Z"
   },
   {
    "duration": 133,
    "start_time": "2022-03-22T14:12:31.869Z"
   },
   {
    "duration": 7417,
    "start_time": "2022-03-22T14:12:43.345Z"
   },
   {
    "duration": 4,
    "start_time": "2022-03-22T14:13:05.858Z"
   },
   {
    "duration": 171,
    "start_time": "2022-03-22T14:13:16.461Z"
   },
   {
    "duration": 164,
    "start_time": "2022-03-22T14:14:17.963Z"
   },
   {
    "duration": 197,
    "start_time": "2022-03-22T14:14:23.745Z"
   },
   {
    "duration": 264,
    "start_time": "2022-03-22T14:14:48.940Z"
   },
   {
    "duration": 7626,
    "start_time": "2022-03-22T14:15:21.565Z"
   },
   {
    "duration": 5317,
    "start_time": "2022-03-22T14:16:41.453Z"
   },
   {
    "duration": 1224,
    "start_time": "2022-03-22T14:18:29.443Z"
   },
   {
    "duration": 1041,
    "start_time": "2022-03-22T14:18:35.801Z"
   },
   {
    "duration": 4,
    "start_time": "2022-03-22T14:19:03.774Z"
   },
   {
    "duration": 163,
    "start_time": "2022-03-22T14:19:11.025Z"
   },
   {
    "duration": 481,
    "start_time": "2022-03-22T14:20:34.090Z"
   },
   {
    "duration": 106,
    "start_time": "2022-03-22T14:20:34.574Z"
   },
   {
    "duration": 5,
    "start_time": "2022-03-22T14:20:34.681Z"
   },
   {
    "duration": 21,
    "start_time": "2022-03-22T14:20:34.688Z"
   },
   {
    "duration": 15,
    "start_time": "2022-03-22T14:20:34.711Z"
   },
   {
    "duration": 691,
    "start_time": "2022-03-22T14:20:34.728Z"
   },
   {
    "duration": 62,
    "start_time": "2022-03-22T14:20:35.421Z"
   },
   {
    "duration": 28,
    "start_time": "2022-03-22T14:20:35.484Z"
   },
   {
    "duration": 13,
    "start_time": "2022-03-22T14:20:35.513Z"
   },
   {
    "duration": 17,
    "start_time": "2022-03-22T14:20:35.529Z"
   },
   {
    "duration": 20,
    "start_time": "2022-03-22T14:20:35.548Z"
   },
   {
    "duration": 31,
    "start_time": "2022-03-22T14:20:35.570Z"
   },
   {
    "duration": 6,
    "start_time": "2022-03-22T14:20:35.603Z"
   },
   {
    "duration": 24,
    "start_time": "2022-03-22T14:20:35.610Z"
   },
   {
    "duration": 8,
    "start_time": "2022-03-22T14:20:35.635Z"
   },
   {
    "duration": 10,
    "start_time": "2022-03-22T14:20:35.644Z"
   },
   {
    "duration": 9,
    "start_time": "2022-03-22T14:20:35.656Z"
   },
   {
    "duration": 17,
    "start_time": "2022-03-22T14:20:35.667Z"
   },
   {
    "duration": 12,
    "start_time": "2022-03-22T14:20:35.686Z"
   },
   {
    "duration": 24,
    "start_time": "2022-03-22T14:20:35.701Z"
   },
   {
    "duration": 8,
    "start_time": "2022-03-22T14:20:35.727Z"
   },
   {
    "duration": 24,
    "start_time": "2022-03-22T14:20:35.737Z"
   },
   {
    "duration": 14,
    "start_time": "2022-03-22T14:20:35.763Z"
   },
   {
    "duration": 18,
    "start_time": "2022-03-22T14:20:35.780Z"
   },
   {
    "duration": 19,
    "start_time": "2022-03-22T14:20:35.800Z"
   },
   {
    "duration": 25,
    "start_time": "2022-03-22T14:20:35.821Z"
   },
   {
    "duration": 18,
    "start_time": "2022-03-22T14:20:35.848Z"
   },
   {
    "duration": 12,
    "start_time": "2022-03-22T14:20:35.901Z"
   },
   {
    "duration": 19,
    "start_time": "2022-03-22T14:20:35.915Z"
   },
   {
    "duration": 6,
    "start_time": "2022-03-22T14:20:35.937Z"
   },
   {
    "duration": 12,
    "start_time": "2022-03-22T14:20:35.945Z"
   },
   {
    "duration": 45,
    "start_time": "2022-03-22T14:20:35.959Z"
   },
   {
    "duration": 117,
    "start_time": "2022-03-22T14:20:36.006Z"
   },
   {
    "duration": 41,
    "start_time": "2022-03-22T14:20:36.125Z"
   },
   {
    "duration": 70,
    "start_time": "2022-03-22T14:20:36.168Z"
   },
   {
    "duration": 81,
    "start_time": "2022-03-22T14:20:36.240Z"
   },
   {
    "duration": 390,
    "start_time": "2022-03-22T14:20:36.323Z"
   },
   {
    "duration": 47,
    "start_time": "2022-03-22T14:20:36.715Z"
   },
   {
    "duration": 260,
    "start_time": "2022-03-22T14:20:36.764Z"
   },
   {
    "duration": 155,
    "start_time": "2022-03-22T14:20:37.026Z"
   },
   {
    "duration": 150,
    "start_time": "2022-03-22T14:20:37.183Z"
   },
   {
    "duration": 168,
    "start_time": "2022-03-22T14:20:37.335Z"
   },
   {
    "duration": 173,
    "start_time": "2022-03-22T14:20:37.505Z"
   },
   {
    "duration": 22,
    "start_time": "2022-03-22T14:20:37.679Z"
   },
   {
    "duration": 6,
    "start_time": "2022-03-22T14:20:37.703Z"
   },
   {
    "duration": 20,
    "start_time": "2022-03-22T14:20:37.711Z"
   },
   {
    "duration": 10,
    "start_time": "2022-03-22T14:20:37.732Z"
   },
   {
    "duration": 33,
    "start_time": "2022-03-22T14:20:37.744Z"
   },
   {
    "duration": 28,
    "start_time": "2022-03-22T14:20:37.779Z"
   },
   {
    "duration": 16,
    "start_time": "2022-03-22T14:20:37.809Z"
   },
   {
    "duration": 8,
    "start_time": "2022-03-22T14:20:37.827Z"
   },
   {
    "duration": 18,
    "start_time": "2022-03-22T14:20:37.837Z"
   },
   {
    "duration": 44,
    "start_time": "2022-03-22T14:20:37.857Z"
   },
   {
    "duration": 188,
    "start_time": "2022-03-22T14:20:37.903Z"
   },
   {
    "duration": 231,
    "start_time": "2022-03-22T14:20:38.093Z"
   },
   {
    "duration": 293,
    "start_time": "2022-03-22T14:20:38.325Z"
   },
   {
    "duration": 225,
    "start_time": "2022-03-22T14:20:38.621Z"
   },
   {
    "duration": 9,
    "start_time": "2022-03-22T14:20:38.847Z"
   },
   {
    "duration": 31,
    "start_time": "2022-03-22T14:20:38.857Z"
   },
   {
    "duration": 46,
    "start_time": "2022-03-22T14:20:38.901Z"
   },
   {
    "duration": 109,
    "start_time": "2022-03-22T14:20:38.948Z"
   },
   {
    "duration": 200,
    "start_time": "2022-03-22T14:20:39.058Z"
   },
   {
    "duration": 10,
    "start_time": "2022-03-22T14:20:39.261Z"
   },
   {
    "duration": 180,
    "start_time": "2022-03-22T14:20:39.273Z"
   },
   {
    "duration": 175,
    "start_time": "2022-03-22T14:20:39.455Z"
   },
   {
    "duration": 39136,
    "start_time": "2022-03-22T14:20:39.632Z"
   },
   {
    "duration": 176,
    "start_time": "2022-03-22T14:21:18.770Z"
   },
   {
    "duration": 179,
    "start_time": "2022-03-22T14:21:18.948Z"
   },
   {
    "duration": 667,
    "start_time": "2022-03-22T14:21:19.129Z"
   },
   {
    "duration": 192,
    "start_time": "2022-03-22T14:22:44.336Z"
   },
   {
    "duration": 194,
    "start_time": "2022-03-22T14:25:20.190Z"
   },
   {
    "duration": 39490,
    "start_time": "2022-03-22T14:26:41.560Z"
   },
   {
    "duration": 5,
    "start_time": "2022-03-22T14:31:33.127Z"
   },
   {
    "duration": 264,
    "start_time": "2022-03-22T14:31:38.767Z"
   },
   {
    "duration": 160,
    "start_time": "2022-03-22T14:31:42.451Z"
   },
   {
    "duration": 8122,
    "start_time": "2022-03-22T14:36:46.353Z"
   },
   {
    "duration": 14,
    "start_time": "2022-03-22T14:37:23.290Z"
   },
   {
    "duration": 625,
    "start_time": "2022-03-22T14:38:34.378Z"
   },
   {
    "duration": 141,
    "start_time": "2022-03-22T14:38:41.535Z"
   },
   {
    "duration": 193,
    "start_time": "2022-03-22T14:39:55.727Z"
   },
   {
    "duration": 225,
    "start_time": "2022-03-22T14:49:53.728Z"
   },
   {
    "duration": 434,
    "start_time": "2022-03-22T15:01:39.305Z"
   },
   {
    "duration": 105,
    "start_time": "2022-03-22T15:01:39.741Z"
   },
   {
    "duration": 5,
    "start_time": "2022-03-22T15:01:39.848Z"
   },
   {
    "duration": 18,
    "start_time": "2022-03-22T15:01:39.856Z"
   },
   {
    "duration": 27,
    "start_time": "2022-03-22T15:01:39.875Z"
   },
   {
    "duration": 489,
    "start_time": "2022-03-22T15:01:39.903Z"
   },
   {
    "duration": 62,
    "start_time": "2022-03-22T15:01:40.394Z"
   },
   {
    "duration": 9,
    "start_time": "2022-03-22T15:01:40.458Z"
   },
   {
    "duration": 9,
    "start_time": "2022-03-22T15:01:40.469Z"
   },
   {
    "duration": 19,
    "start_time": "2022-03-22T15:01:40.500Z"
   },
   {
    "duration": 11,
    "start_time": "2022-03-22T15:01:40.521Z"
   },
   {
    "duration": 13,
    "start_time": "2022-03-22T15:01:40.534Z"
   },
   {
    "duration": 6,
    "start_time": "2022-03-22T15:01:40.549Z"
   },
   {
    "duration": 49,
    "start_time": "2022-03-22T15:01:40.557Z"
   },
   {
    "duration": 7,
    "start_time": "2022-03-22T15:01:40.608Z"
   },
   {
    "duration": 14,
    "start_time": "2022-03-22T15:01:40.616Z"
   },
   {
    "duration": 7,
    "start_time": "2022-03-22T15:01:40.632Z"
   },
   {
    "duration": 9,
    "start_time": "2022-03-22T15:01:40.641Z"
   },
   {
    "duration": 14,
    "start_time": "2022-03-22T15:01:40.652Z"
   },
   {
    "duration": 15,
    "start_time": "2022-03-22T15:01:40.667Z"
   },
   {
    "duration": 18,
    "start_time": "2022-03-22T15:01:40.684Z"
   },
   {
    "duration": 9,
    "start_time": "2022-03-22T15:01:40.704Z"
   },
   {
    "duration": 12,
    "start_time": "2022-03-22T15:01:40.715Z"
   },
   {
    "duration": 19,
    "start_time": "2022-03-22T15:01:40.730Z"
   },
   {
    "duration": 18,
    "start_time": "2022-03-22T15:01:40.750Z"
   },
   {
    "duration": 50,
    "start_time": "2022-03-22T15:01:40.770Z"
   },
   {
    "duration": 17,
    "start_time": "2022-03-22T15:01:40.822Z"
   },
   {
    "duration": 11,
    "start_time": "2022-03-22T15:01:40.844Z"
   },
   {
    "duration": 13,
    "start_time": "2022-03-22T15:01:40.856Z"
   },
   {
    "duration": 31,
    "start_time": "2022-03-22T15:01:40.871Z"
   },
   {
    "duration": 14,
    "start_time": "2022-03-22T15:01:40.904Z"
   },
   {
    "duration": 27,
    "start_time": "2022-03-22T15:01:40.920Z"
   },
   {
    "duration": 103,
    "start_time": "2022-03-22T15:01:40.949Z"
   },
   {
    "duration": 75,
    "start_time": "2022-03-22T15:01:41.054Z"
   },
   {
    "duration": 38,
    "start_time": "2022-03-22T15:01:41.131Z"
   },
   {
    "duration": 78,
    "start_time": "2022-03-22T15:01:41.172Z"
   },
   {
    "duration": 406,
    "start_time": "2022-03-22T15:01:41.252Z"
   },
   {
    "duration": 65,
    "start_time": "2022-03-22T15:01:41.660Z"
   },
   {
    "duration": 253,
    "start_time": "2022-03-22T15:01:41.727Z"
   },
   {
    "duration": 160,
    "start_time": "2022-03-22T15:01:41.982Z"
   },
   {
    "duration": 164,
    "start_time": "2022-03-22T15:01:42.144Z"
   },
   {
    "duration": 174,
    "start_time": "2022-03-22T15:01:42.310Z"
   },
   {
    "duration": 174,
    "start_time": "2022-03-22T15:01:42.486Z"
   },
   {
    "duration": 9,
    "start_time": "2022-03-22T15:01:42.662Z"
   },
   {
    "duration": 10,
    "start_time": "2022-03-22T15:01:42.673Z"
   },
   {
    "duration": 31,
    "start_time": "2022-03-22T15:01:42.685Z"
   },
   {
    "duration": 9,
    "start_time": "2022-03-22T15:01:42.718Z"
   },
   {
    "duration": 20,
    "start_time": "2022-03-22T15:01:42.729Z"
   },
   {
    "duration": 10,
    "start_time": "2022-03-22T15:01:42.751Z"
   },
   {
    "duration": 50,
    "start_time": "2022-03-22T15:01:42.763Z"
   },
   {
    "duration": 9,
    "start_time": "2022-03-22T15:01:42.814Z"
   },
   {
    "duration": 18,
    "start_time": "2022-03-22T15:01:42.825Z"
   },
   {
    "duration": 11,
    "start_time": "2022-03-22T15:01:42.845Z"
   },
   {
    "duration": 245,
    "start_time": "2022-03-22T15:01:42.858Z"
   },
   {
    "duration": 271467,
    "start_time": "2022-03-22T15:01:43.105Z"
   },
   {
    "duration": 208,
    "start_time": "2022-03-22T15:06:14.574Z"
   },
   {
    "duration": 251,
    "start_time": "2022-03-22T15:06:14.784Z"
   },
   {
    "duration": 327,
    "start_time": "2022-03-22T15:06:15.037Z"
   },
   {
    "duration": 225,
    "start_time": "2022-03-22T15:06:15.366Z"
   },
   {
    "duration": 10,
    "start_time": "2022-03-22T15:06:15.602Z"
   },
   {
    "duration": 41,
    "start_time": "2022-03-22T15:06:15.614Z"
   },
   {
    "duration": 71,
    "start_time": "2022-03-22T15:06:15.657Z"
   },
   {
    "duration": 23,
    "start_time": "2022-03-22T15:06:15.730Z"
   },
   {
    "duration": 219,
    "start_time": "2022-03-22T15:06:15.755Z"
   },
   {
    "duration": 11,
    "start_time": "2022-03-22T15:06:15.976Z"
   },
   {
    "duration": 190,
    "start_time": "2022-03-22T15:06:16.001Z"
   },
   {
    "duration": 196,
    "start_time": "2022-03-22T15:06:16.201Z"
   },
   {
    "duration": 40661,
    "start_time": "2022-03-22T15:06:16.401Z"
   },
   {
    "duration": 173,
    "start_time": "2022-03-22T15:06:57.064Z"
   },
   {
    "duration": 189,
    "start_time": "2022-03-22T15:06:57.239Z"
   },
   {
    "duration": 189,
    "start_time": "2022-03-22T15:06:57.430Z"
   },
   {
    "duration": 194,
    "start_time": "2022-03-22T15:06:57.621Z"
   },
   {
    "duration": 81,
    "start_time": "2022-03-22T15:27:59.638Z"
   },
   {
    "duration": 98544,
    "start_time": "2022-03-22T15:28:49.019Z"
   },
   {
    "duration": 527,
    "start_time": "2022-03-22T15:31:06.447Z"
   },
   {
    "duration": 11,
    "start_time": "2022-03-22T15:37:48.026Z"
   },
   {
    "duration": 10,
    "start_time": "2022-03-22T15:38:20.587Z"
   },
   {
    "duration": 13,
    "start_time": "2022-03-22T15:38:26.740Z"
   },
   {
    "duration": 10,
    "start_time": "2022-03-22T15:38:43.663Z"
   },
   {
    "duration": 556,
    "start_time": "2022-03-22T15:39:01.582Z"
   },
   {
    "duration": 589,
    "start_time": "2022-03-22T15:39:09.893Z"
   },
   {
    "duration": 560,
    "start_time": "2022-03-22T15:39:16.725Z"
   },
   {
    "duration": 561,
    "start_time": "2022-03-22T15:39:23.416Z"
   },
   {
    "duration": 449,
    "start_time": "2022-03-22T15:46:08.582Z"
   },
   {
    "duration": 120,
    "start_time": "2022-03-22T15:46:09.033Z"
   },
   {
    "duration": 5,
    "start_time": "2022-03-22T15:46:09.155Z"
   },
   {
    "duration": 15,
    "start_time": "2022-03-22T15:46:09.163Z"
   },
   {
    "duration": 29,
    "start_time": "2022-03-22T15:46:09.180Z"
   },
   {
    "duration": 389,
    "start_time": "2022-03-22T15:46:09.211Z"
   },
   {
    "duration": 58,
    "start_time": "2022-03-22T15:46:09.602Z"
   },
   {
    "duration": 9,
    "start_time": "2022-03-22T15:46:09.662Z"
   },
   {
    "duration": 29,
    "start_time": "2022-03-22T15:46:09.673Z"
   },
   {
    "duration": 16,
    "start_time": "2022-03-22T15:46:09.705Z"
   },
   {
    "duration": 21,
    "start_time": "2022-03-22T15:46:09.723Z"
   },
   {
    "duration": 15,
    "start_time": "2022-03-22T15:46:09.746Z"
   },
   {
    "duration": 5,
    "start_time": "2022-03-22T15:46:09.763Z"
   },
   {
    "duration": 32,
    "start_time": "2022-03-22T15:46:09.770Z"
   },
   {
    "duration": 6,
    "start_time": "2022-03-22T15:46:09.804Z"
   },
   {
    "duration": 12,
    "start_time": "2022-03-22T15:46:09.812Z"
   },
   {
    "duration": 14,
    "start_time": "2022-03-22T15:46:09.826Z"
   },
   {
    "duration": 8,
    "start_time": "2022-03-22T15:46:09.842Z"
   },
   {
    "duration": 8,
    "start_time": "2022-03-22T15:46:09.852Z"
   },
   {
    "duration": 13,
    "start_time": "2022-03-22T15:46:09.862Z"
   },
   {
    "duration": 27,
    "start_time": "2022-03-22T15:46:09.877Z"
   },
   {
    "duration": 17,
    "start_time": "2022-03-22T15:46:09.906Z"
   },
   {
    "duration": 11,
    "start_time": "2022-03-22T15:46:09.925Z"
   },
   {
    "duration": 20,
    "start_time": "2022-03-22T15:46:09.938Z"
   },
   {
    "duration": 16,
    "start_time": "2022-03-22T15:46:09.960Z"
   },
   {
    "duration": 45,
    "start_time": "2022-03-22T15:46:09.978Z"
   },
   {
    "duration": 17,
    "start_time": "2022-03-22T15:46:10.025Z"
   },
   {
    "duration": 10,
    "start_time": "2022-03-22T15:46:10.047Z"
   },
   {
    "duration": 16,
    "start_time": "2022-03-22T15:46:10.059Z"
   },
   {
    "duration": 15,
    "start_time": "2022-03-22T15:46:10.102Z"
   },
   {
    "duration": 7,
    "start_time": "2022-03-22T15:46:10.119Z"
   },
   {
    "duration": 26,
    "start_time": "2022-03-22T15:46:10.127Z"
   },
   {
    "duration": 99,
    "start_time": "2022-03-22T15:46:10.155Z"
   },
   {
    "duration": 73,
    "start_time": "2022-03-22T15:46:10.256Z"
   },
   {
    "duration": 39,
    "start_time": "2022-03-22T15:46:10.331Z"
   },
   {
    "duration": 84,
    "start_time": "2022-03-22T15:46:10.371Z"
   },
   {
    "duration": 396,
    "start_time": "2022-03-22T15:46:10.457Z"
   },
   {
    "duration": 57,
    "start_time": "2022-03-22T15:46:10.855Z"
   },
   {
    "duration": 257,
    "start_time": "2022-03-22T15:46:10.914Z"
   },
   {
    "duration": 170,
    "start_time": "2022-03-22T15:46:11.173Z"
   },
   {
    "duration": 161,
    "start_time": "2022-03-22T15:46:11.345Z"
   },
   {
    "duration": 181,
    "start_time": "2022-03-22T15:46:11.508Z"
   },
   {
    "duration": 167,
    "start_time": "2022-03-22T15:46:11.691Z"
   },
   {
    "duration": 10,
    "start_time": "2022-03-22T15:46:11.860Z"
   },
   {
    "duration": 28,
    "start_time": "2022-03-22T15:46:11.871Z"
   },
   {
    "duration": 38,
    "start_time": "2022-03-22T15:46:11.900Z"
   },
   {
    "duration": 10,
    "start_time": "2022-03-22T15:46:11.941Z"
   },
   {
    "duration": 19,
    "start_time": "2022-03-22T15:46:11.953Z"
   },
   {
    "duration": 10,
    "start_time": "2022-03-22T15:46:11.974Z"
   },
   {
    "duration": 29,
    "start_time": "2022-03-22T15:46:11.986Z"
   },
   {
    "duration": 10,
    "start_time": "2022-03-22T15:46:12.016Z"
   },
   {
    "duration": 19,
    "start_time": "2022-03-22T15:46:12.027Z"
   },
   {
    "duration": 10,
    "start_time": "2022-03-22T15:46:12.047Z"
   },
   {
    "duration": 244,
    "start_time": "2022-03-22T15:46:12.059Z"
   },
   {
    "duration": 42625,
    "start_time": "2022-03-22T15:46:12.305Z"
   },
   {
    "duration": 187,
    "start_time": "2022-03-22T15:46:54.933Z"
   },
   {
    "duration": 241,
    "start_time": "2022-03-22T15:46:55.122Z"
   },
   {
    "duration": 541,
    "start_time": "2022-03-22T15:46:55.365Z"
   },
   {
    "duration": 225,
    "start_time": "2022-03-22T15:46:55.909Z"
   },
   {
    "duration": 9,
    "start_time": "2022-03-22T15:46:56.136Z"
   },
   {
    "duration": 30,
    "start_time": "2022-03-22T15:46:56.147Z"
   },
   {
    "duration": 64,
    "start_time": "2022-03-22T15:46:56.180Z"
   },
   {
    "duration": 20,
    "start_time": "2022-03-22T15:46:56.247Z"
   },
   {
    "duration": 208,
    "start_time": "2022-03-22T15:46:56.269Z"
   },
   {
    "duration": 21,
    "start_time": "2022-03-22T15:46:56.480Z"
   },
   {
    "duration": 180,
    "start_time": "2022-03-22T15:46:56.503Z"
   },
   {
    "duration": 172,
    "start_time": "2022-03-22T15:46:56.685Z"
   },
   {
    "duration": 526,
    "start_time": "2022-03-22T15:46:56.858Z"
   },
   {
    "duration": 183,
    "start_time": "2022-03-22T15:46:57.387Z"
   },
   {
    "duration": 183,
    "start_time": "2022-03-22T15:46:57.572Z"
   },
   {
    "duration": 187,
    "start_time": "2022-03-22T15:46:57.757Z"
   },
   {
    "duration": 176,
    "start_time": "2022-03-22T15:47:18.009Z"
   },
   {
    "duration": 175,
    "start_time": "2022-03-22T15:50:43.315Z"
   },
   {
    "duration": 25543,
    "start_time": "2022-03-22T15:51:22.937Z"
   },
   {
    "duration": 88,
    "start_time": "2022-03-22T15:52:10.336Z"
   },
   {
    "duration": 215,
    "start_time": "2022-03-22T15:52:48.233Z"
   },
   {
    "duration": 166,
    "start_time": "2022-03-22T15:54:09.883Z"
   },
   {
    "duration": 40,
    "start_time": "2022-03-22T15:58:12.999Z"
   },
   {
    "duration": 173,
    "start_time": "2022-03-22T15:58:58.403Z"
   },
   {
    "duration": 187,
    "start_time": "2022-03-22T16:02:50.951Z"
   },
   {
    "duration": 182,
    "start_time": "2022-03-22T16:03:04.637Z"
   },
   {
    "duration": 185,
    "start_time": "2022-03-22T16:06:48.119Z"
   },
   {
    "duration": 194,
    "start_time": "2022-03-22T16:06:56.119Z"
   },
   {
    "duration": 190,
    "start_time": "2022-03-22T16:07:02.815Z"
   },
   {
    "duration": 449,
    "start_time": "2022-03-23T07:06:19.695Z"
   },
   {
    "duration": 98,
    "start_time": "2022-03-23T07:06:20.147Z"
   },
   {
    "duration": 4,
    "start_time": "2022-03-23T07:06:20.247Z"
   },
   {
    "duration": 43,
    "start_time": "2022-03-23T07:06:20.254Z"
   },
   {
    "duration": 23,
    "start_time": "2022-03-23T07:06:20.299Z"
   },
   {
    "duration": 519,
    "start_time": "2022-03-23T07:06:20.324Z"
   },
   {
    "duration": 167,
    "start_time": "2022-03-23T07:06:20.845Z"
   },
   {
    "duration": 9,
    "start_time": "2022-03-23T07:06:21.014Z"
   },
   {
    "duration": 7,
    "start_time": "2022-03-23T07:06:21.025Z"
   },
   {
    "duration": 71,
    "start_time": "2022-03-23T07:06:21.036Z"
   },
   {
    "duration": 10,
    "start_time": "2022-03-23T07:06:21.108Z"
   },
   {
    "duration": 27,
    "start_time": "2022-03-23T07:06:21.120Z"
   },
   {
    "duration": 55,
    "start_time": "2022-03-23T07:06:21.149Z"
   },
   {
    "duration": 26,
    "start_time": "2022-03-23T07:06:21.206Z"
   },
   {
    "duration": 15,
    "start_time": "2022-03-23T07:06:21.234Z"
   },
   {
    "duration": 53,
    "start_time": "2022-03-23T07:06:21.252Z"
   },
   {
    "duration": 16,
    "start_time": "2022-03-23T07:06:21.307Z"
   },
   {
    "duration": 6,
    "start_time": "2022-03-23T07:06:21.325Z"
   },
   {
    "duration": 16,
    "start_time": "2022-03-23T07:06:21.333Z"
   },
   {
    "duration": 51,
    "start_time": "2022-03-23T07:06:21.351Z"
   },
   {
    "duration": 6,
    "start_time": "2022-03-23T07:06:21.403Z"
   },
   {
    "duration": 14,
    "start_time": "2022-03-23T07:06:21.411Z"
   },
   {
    "duration": 5,
    "start_time": "2022-03-23T07:06:21.428Z"
   },
   {
    "duration": 68,
    "start_time": "2022-03-23T07:06:21.435Z"
   },
   {
    "duration": 16,
    "start_time": "2022-03-23T07:06:21.505Z"
   },
   {
    "duration": 78,
    "start_time": "2022-03-23T07:06:21.523Z"
   },
   {
    "duration": 17,
    "start_time": "2022-03-23T07:06:21.603Z"
   },
   {
    "duration": 10,
    "start_time": "2022-03-23T07:06:21.625Z"
   },
   {
    "duration": 72,
    "start_time": "2022-03-23T07:06:21.636Z"
   },
   {
    "duration": 6,
    "start_time": "2022-03-23T07:06:21.710Z"
   },
   {
    "duration": 16,
    "start_time": "2022-03-23T07:06:21.718Z"
   },
   {
    "duration": 71,
    "start_time": "2022-03-23T07:06:21.735Z"
   },
   {
    "duration": 128,
    "start_time": "2022-03-23T07:06:21.808Z"
   },
   {
    "duration": 90,
    "start_time": "2022-03-23T07:06:21.938Z"
   },
   {
    "duration": 95,
    "start_time": "2022-03-23T07:06:22.030Z"
   },
   {
    "duration": 115,
    "start_time": "2022-03-23T07:06:22.127Z"
   },
   {
    "duration": 788,
    "start_time": "2022-03-23T07:06:22.244Z"
   },
   {
    "duration": 49,
    "start_time": "2022-03-23T07:06:23.034Z"
   },
   {
    "duration": 258,
    "start_time": "2022-03-23T07:06:23.085Z"
   },
   {
    "duration": 158,
    "start_time": "2022-03-23T07:06:23.345Z"
   },
   {
    "duration": 149,
    "start_time": "2022-03-23T07:06:23.506Z"
   },
   {
    "duration": 158,
    "start_time": "2022-03-23T07:06:23.658Z"
   },
   {
    "duration": 159,
    "start_time": "2022-03-23T07:06:23.818Z"
   },
   {
    "duration": 8,
    "start_time": "2022-03-23T07:06:23.979Z"
   },
   {
    "duration": 17,
    "start_time": "2022-03-23T07:06:23.989Z"
   },
   {
    "duration": 20,
    "start_time": "2022-03-23T07:06:24.008Z"
   },
   {
    "duration": 9,
    "start_time": "2022-03-23T07:06:24.030Z"
   },
   {
    "duration": 19,
    "start_time": "2022-03-23T07:06:24.041Z"
   },
   {
    "duration": 42,
    "start_time": "2022-03-23T07:06:24.063Z"
   },
   {
    "duration": 16,
    "start_time": "2022-03-23T07:06:24.107Z"
   },
   {
    "duration": 9,
    "start_time": "2022-03-23T07:06:24.125Z"
   },
   {
    "duration": 15,
    "start_time": "2022-03-23T07:06:24.136Z"
   },
   {
    "duration": 10,
    "start_time": "2022-03-23T07:06:24.153Z"
   },
   {
    "duration": 239,
    "start_time": "2022-03-23T07:06:24.164Z"
   },
   {
    "duration": 146,
    "start_time": "2022-03-23T07:06:24.404Z"
   },
   {
    "duration": 223,
    "start_time": "2022-03-23T07:06:24.552Z"
   },
   {
    "duration": 169,
    "start_time": "2022-03-23T07:06:24.777Z"
   },
   {
    "duration": 221,
    "start_time": "2022-03-23T07:06:24.948Z"
   },
   {
    "duration": 359,
    "start_time": "2022-03-23T07:06:25.171Z"
   },
   {
    "duration": 218,
    "start_time": "2022-03-23T07:06:25.532Z"
   },
   {
    "duration": 171,
    "start_time": "2022-03-23T07:06:25.751Z"
   },
   {
    "duration": 8,
    "start_time": "2022-03-23T07:06:25.925Z"
   },
   {
    "duration": 33,
    "start_time": "2022-03-23T07:06:25.934Z"
   },
   {
    "duration": 61,
    "start_time": "2022-03-23T07:06:25.969Z"
   },
   {
    "duration": 19,
    "start_time": "2022-03-23T07:06:26.032Z"
   },
   {
    "duration": 189,
    "start_time": "2022-03-23T07:06:26.053Z"
   },
   {
    "duration": 9,
    "start_time": "2022-03-23T07:06:26.245Z"
   },
   {
    "duration": 171,
    "start_time": "2022-03-23T07:06:26.256Z"
   },
   {
    "duration": 191,
    "start_time": "2022-03-23T07:06:26.428Z"
   },
   {
    "duration": 164,
    "start_time": "2022-03-23T07:06:26.621Z"
   },
   {
    "duration": 493,
    "start_time": "2022-03-23T07:06:26.786Z"
   },
   {
    "duration": 168,
    "start_time": "2022-03-23T07:06:27.280Z"
   },
   {
    "duration": 174,
    "start_time": "2022-03-23T07:06:27.450Z"
   },
   {
    "duration": 304,
    "start_time": "2022-03-23T07:06:27.626Z"
   },
   {
    "duration": 115,
    "start_time": "2022-03-23T07:09:56.713Z"
   },
   {
    "duration": 132,
    "start_time": "2022-03-23T07:10:19.610Z"
   },
   {
    "duration": 147,
    "start_time": "2022-03-23T07:16:30.150Z"
   },
   {
    "duration": 136,
    "start_time": "2022-03-23T07:16:38.334Z"
   },
   {
    "duration": 53,
    "start_time": "2022-03-23T08:46:46.544Z"
   },
   {
    "duration": 8,
    "start_time": "2022-03-23T08:47:22.302Z"
   },
   {
    "duration": 439,
    "start_time": "2022-03-23T08:47:43.321Z"
   },
   {
    "duration": 102,
    "start_time": "2022-03-23T08:47:43.763Z"
   },
   {
    "duration": 4,
    "start_time": "2022-03-23T08:47:43.867Z"
   },
   {
    "duration": 51,
    "start_time": "2022-03-23T08:47:43.874Z"
   },
   {
    "duration": 20,
    "start_time": "2022-03-23T08:47:43.927Z"
   },
   {
    "duration": 522,
    "start_time": "2022-03-23T08:47:43.949Z"
   },
   {
    "duration": 59,
    "start_time": "2022-03-23T08:47:44.473Z"
   },
   {
    "duration": 8,
    "start_time": "2022-03-23T08:47:44.534Z"
   },
   {
    "duration": 7,
    "start_time": "2022-03-23T08:47:44.544Z"
   },
   {
    "duration": 18,
    "start_time": "2022-03-23T08:47:44.554Z"
   },
   {
    "duration": 34,
    "start_time": "2022-03-23T08:47:44.573Z"
   },
   {
    "duration": 12,
    "start_time": "2022-03-23T08:47:44.609Z"
   },
   {
    "duration": 6,
    "start_time": "2022-03-23T08:47:44.622Z"
   },
   {
    "duration": 10,
    "start_time": "2022-03-23T08:47:44.630Z"
   },
   {
    "duration": 6,
    "start_time": "2022-03-23T08:47:44.642Z"
   },
   {
    "duration": 10,
    "start_time": "2022-03-23T08:47:44.649Z"
   },
   {
    "duration": 8,
    "start_time": "2022-03-23T08:47:44.661Z"
   },
   {
    "duration": 32,
    "start_time": "2022-03-23T08:47:44.671Z"
   },
   {
    "duration": 6,
    "start_time": "2022-03-23T08:47:44.704Z"
   },
   {
    "duration": 14,
    "start_time": "2022-03-23T08:47:44.712Z"
   },
   {
    "duration": 5,
    "start_time": "2022-03-23T08:47:44.728Z"
   },
   {
    "duration": 15,
    "start_time": "2022-03-23T08:47:44.734Z"
   },
   {
    "duration": 5,
    "start_time": "2022-03-23T08:47:44.751Z"
   },
   {
    "duration": 21,
    "start_time": "2022-03-23T08:47:44.757Z"
   },
   {
    "duration": 31,
    "start_time": "2022-03-23T08:47:44.781Z"
   },
   {
    "duration": 43,
    "start_time": "2022-03-23T08:47:44.814Z"
   },
   {
    "duration": 23,
    "start_time": "2022-03-23T08:47:44.859Z"
   },
   {
    "duration": 16,
    "start_time": "2022-03-23T08:47:44.887Z"
   },
   {
    "duration": 21,
    "start_time": "2022-03-23T08:47:44.905Z"
   },
   {
    "duration": 22,
    "start_time": "2022-03-23T08:47:44.928Z"
   },
   {
    "duration": 12,
    "start_time": "2022-03-23T08:47:44.952Z"
   },
   {
    "duration": 39,
    "start_time": "2022-03-23T08:47:44.966Z"
   },
   {
    "duration": 109,
    "start_time": "2022-03-23T08:47:45.006Z"
   },
   {
    "duration": 34,
    "start_time": "2022-03-23T08:47:45.117Z"
   },
   {
    "duration": 61,
    "start_time": "2022-03-23T08:47:45.153Z"
   },
   {
    "duration": 60,
    "start_time": "2022-03-23T08:47:45.215Z"
   },
   {
    "duration": 406,
    "start_time": "2022-03-23T08:47:45.277Z"
   },
   {
    "duration": 53,
    "start_time": "2022-03-23T08:47:45.685Z"
   },
   {
    "duration": 246,
    "start_time": "2022-03-23T08:47:45.740Z"
   },
   {
    "duration": 155,
    "start_time": "2022-03-23T08:47:45.988Z"
   },
   {
    "duration": 143,
    "start_time": "2022-03-23T08:47:46.144Z"
   },
   {
    "duration": 175,
    "start_time": "2022-03-23T08:47:46.288Z"
   },
   {
    "duration": 167,
    "start_time": "2022-03-23T08:47:46.466Z"
   },
   {
    "duration": 10,
    "start_time": "2022-03-23T08:47:46.635Z"
   },
   {
    "duration": 8,
    "start_time": "2022-03-23T08:47:46.647Z"
   },
   {
    "duration": 34,
    "start_time": "2022-03-23T08:47:46.657Z"
   },
   {
    "duration": 15,
    "start_time": "2022-03-23T08:47:46.700Z"
   },
   {
    "duration": 22,
    "start_time": "2022-03-23T08:47:46.717Z"
   },
   {
    "duration": 21,
    "start_time": "2022-03-23T08:47:46.741Z"
   },
   {
    "duration": 27,
    "start_time": "2022-03-23T08:47:46.764Z"
   },
   {
    "duration": 13,
    "start_time": "2022-03-23T08:47:46.793Z"
   },
   {
    "duration": 27,
    "start_time": "2022-03-23T08:47:46.808Z"
   },
   {
    "duration": 9,
    "start_time": "2022-03-23T08:47:46.837Z"
   },
   {
    "duration": 204,
    "start_time": "2022-03-23T08:47:46.847Z"
   },
   {
    "duration": 149,
    "start_time": "2022-03-23T08:47:47.052Z"
   },
   {
    "duration": 219,
    "start_time": "2022-03-23T08:47:47.203Z"
   },
   {
    "duration": 173,
    "start_time": "2022-03-23T08:47:47.424Z"
   },
   {
    "duration": 229,
    "start_time": "2022-03-23T08:47:47.601Z"
   },
   {
    "duration": 344,
    "start_time": "2022-03-23T08:47:47.833Z"
   },
   {
    "duration": 206,
    "start_time": "2022-03-23T08:47:48.179Z"
   },
   {
    "duration": 176,
    "start_time": "2022-03-23T08:47:48.387Z"
   },
   {
    "duration": 8,
    "start_time": "2022-03-23T08:47:48.565Z"
   },
   {
    "duration": 38,
    "start_time": "2022-03-23T08:47:48.575Z"
   },
   {
    "duration": 44,
    "start_time": "2022-03-23T08:47:48.614Z"
   },
   {
    "duration": 21,
    "start_time": "2022-03-23T08:47:48.660Z"
   },
   {
    "duration": 173,
    "start_time": "2022-03-23T08:47:48.702Z"
   },
   {
    "duration": 134,
    "start_time": "2022-03-23T08:47:48.877Z"
   },
   {
    "duration": 10,
    "start_time": "2022-03-23T08:47:49.012Z"
   },
   {
    "duration": 188,
    "start_time": "2022-03-23T08:47:49.023Z"
   },
   {
    "duration": 193,
    "start_time": "2022-03-23T08:47:49.212Z"
   },
   {
    "duration": 145,
    "start_time": "2022-03-23T08:47:49.406Z"
   },
   {
    "duration": 139,
    "start_time": "2022-03-23T08:47:49.553Z"
   },
   {
    "duration": 164,
    "start_time": "2022-03-23T08:47:49.694Z"
   },
   {
    "duration": 574,
    "start_time": "2022-03-23T08:47:49.860Z"
   },
   {
    "duration": 171,
    "start_time": "2022-03-23T08:47:50.435Z"
   },
   {
    "duration": 170,
    "start_time": "2022-03-23T08:47:50.608Z"
   },
   {
    "duration": 175,
    "start_time": "2022-03-23T08:47:50.779Z"
   },
   {
    "duration": 408,
    "start_time": "2022-03-23T19:12:57.367Z"
   },
   {
    "duration": 100,
    "start_time": "2022-03-23T19:12:57.777Z"
   },
   {
    "duration": 4,
    "start_time": "2022-03-23T19:12:57.878Z"
   },
   {
    "duration": 13,
    "start_time": "2022-03-23T19:12:57.884Z"
   },
   {
    "duration": 34,
    "start_time": "2022-03-23T19:12:57.899Z"
   },
   {
    "duration": 459,
    "start_time": "2022-03-23T19:12:57.935Z"
   },
   {
    "duration": 58,
    "start_time": "2022-03-23T19:12:58.396Z"
   },
   {
    "duration": 8,
    "start_time": "2022-03-23T19:12:58.455Z"
   },
   {
    "duration": 12,
    "start_time": "2022-03-23T19:12:58.465Z"
   },
   {
    "duration": 22,
    "start_time": "2022-03-23T19:12:58.479Z"
   },
   {
    "duration": 16,
    "start_time": "2022-03-23T19:12:58.503Z"
   },
   {
    "duration": 15,
    "start_time": "2022-03-23T19:12:58.521Z"
   },
   {
    "duration": 10,
    "start_time": "2022-03-23T19:12:58.538Z"
   },
   {
    "duration": 15,
    "start_time": "2022-03-23T19:12:58.549Z"
   },
   {
    "duration": 12,
    "start_time": "2022-03-23T19:12:58.566Z"
   },
   {
    "duration": 9,
    "start_time": "2022-03-23T19:12:58.579Z"
   },
   {
    "duration": 12,
    "start_time": "2022-03-23T19:12:58.590Z"
   },
   {
    "duration": 8,
    "start_time": "2022-03-23T19:12:58.603Z"
   },
   {
    "duration": 20,
    "start_time": "2022-03-23T19:12:58.613Z"
   },
   {
    "duration": 17,
    "start_time": "2022-03-23T19:12:58.635Z"
   },
   {
    "duration": 8,
    "start_time": "2022-03-23T19:12:58.653Z"
   },
   {
    "duration": 13,
    "start_time": "2022-03-23T19:12:58.662Z"
   },
   {
    "duration": 6,
    "start_time": "2022-03-23T19:12:58.677Z"
   },
   {
    "duration": 22,
    "start_time": "2022-03-23T19:12:58.684Z"
   },
   {
    "duration": 23,
    "start_time": "2022-03-23T19:12:58.707Z"
   },
   {
    "duration": 21,
    "start_time": "2022-03-23T19:12:58.731Z"
   },
   {
    "duration": 14,
    "start_time": "2022-03-23T19:12:58.754Z"
   },
   {
    "duration": 9,
    "start_time": "2022-03-23T19:12:58.771Z"
   },
   {
    "duration": 10,
    "start_time": "2022-03-23T19:12:58.781Z"
   },
   {
    "duration": 7,
    "start_time": "2022-03-23T19:12:58.793Z"
   },
   {
    "duration": 33,
    "start_time": "2022-03-23T19:12:58.801Z"
   },
   {
    "duration": 20,
    "start_time": "2022-03-23T19:12:58.836Z"
   },
   {
    "duration": 97,
    "start_time": "2022-03-23T19:12:58.858Z"
   },
   {
    "duration": 34,
    "start_time": "2022-03-23T19:12:58.956Z"
   },
   {
    "duration": 61,
    "start_time": "2022-03-23T19:12:58.991Z"
   },
   {
    "duration": 53,
    "start_time": "2022-03-23T19:12:59.053Z"
   },
   {
    "duration": 366,
    "start_time": "2022-03-23T19:12:59.108Z"
   },
   {
    "duration": 42,
    "start_time": "2022-03-23T19:12:59.475Z"
   },
   {
    "duration": 226,
    "start_time": "2022-03-23T19:12:59.518Z"
   },
   {
    "duration": 145,
    "start_time": "2022-03-23T19:12:59.746Z"
   },
   {
    "duration": 129,
    "start_time": "2022-03-23T19:12:59.893Z"
   },
   {
    "duration": 151,
    "start_time": "2022-03-23T19:13:00.032Z"
   },
   {
    "duration": 155,
    "start_time": "2022-03-23T19:13:00.185Z"
   },
   {
    "duration": 8,
    "start_time": "2022-03-23T19:13:00.342Z"
   },
   {
    "duration": 17,
    "start_time": "2022-03-23T19:13:00.352Z"
   },
   {
    "duration": 21,
    "start_time": "2022-03-23T19:13:00.371Z"
   },
   {
    "duration": 8,
    "start_time": "2022-03-23T19:13:00.394Z"
   },
   {
    "duration": 33,
    "start_time": "2022-03-23T19:13:00.404Z"
   },
   {
    "duration": 8,
    "start_time": "2022-03-23T19:13:00.439Z"
   },
   {
    "duration": 16,
    "start_time": "2022-03-23T19:13:00.449Z"
   },
   {
    "duration": 12,
    "start_time": "2022-03-23T19:13:00.466Z"
   },
   {
    "duration": 23,
    "start_time": "2022-03-23T19:13:00.479Z"
   },
   {
    "duration": 30,
    "start_time": "2022-03-23T19:13:00.503Z"
   },
   {
    "duration": 190,
    "start_time": "2022-03-23T19:13:00.535Z"
   },
   {
    "duration": 140,
    "start_time": "2022-03-23T19:13:00.732Z"
   },
   {
    "duration": 200,
    "start_time": "2022-03-23T19:13:00.873Z"
   },
   {
    "duration": 199,
    "start_time": "2022-03-23T19:13:01.075Z"
   },
   {
    "duration": 208,
    "start_time": "2022-03-23T19:13:01.276Z"
   },
   {
    "duration": 347,
    "start_time": "2022-03-23T19:13:01.486Z"
   },
   {
    "duration": 197,
    "start_time": "2022-03-23T19:13:01.835Z"
   },
   {
    "duration": 156,
    "start_time": "2022-03-23T19:13:02.034Z"
   },
   {
    "duration": 8,
    "start_time": "2022-03-23T19:13:02.192Z"
   },
   {
    "duration": 40,
    "start_time": "2022-03-23T19:13:02.201Z"
   },
   {
    "duration": 41,
    "start_time": "2022-03-23T19:13:02.242Z"
   },
   {
    "duration": 19,
    "start_time": "2022-03-23T19:13:02.285Z"
   },
   {
    "duration": 210,
    "start_time": "2022-03-23T19:13:02.305Z"
   },
   {
    "duration": 127,
    "start_time": "2022-03-23T19:13:02.517Z"
   },
   {
    "duration": 9,
    "start_time": "2022-03-23T19:13:02.646Z"
   },
   {
    "duration": 166,
    "start_time": "2022-03-23T19:13:02.657Z"
   },
   {
    "duration": 125,
    "start_time": "2022-03-23T19:13:02.832Z"
   },
   {
    "duration": 129,
    "start_time": "2022-03-23T19:13:02.958Z"
   },
   {
    "duration": 146,
    "start_time": "2022-03-23T19:13:03.088Z"
   },
   {
    "duration": 462,
    "start_time": "2022-03-23T19:13:03.236Z"
   },
   {
    "duration": 264,
    "start_time": "2022-03-23T19:13:03.699Z"
   },
   {
    "duration": 151,
    "start_time": "2022-03-23T19:13:03.965Z"
   },
   {
    "duration": 161,
    "start_time": "2022-03-23T19:13:04.118Z"
   }
  ],
  "kernelspec": {
   "display_name": "Python 3 (ipykernel)",
   "language": "python",
   "name": "python3"
  },
  "language_info": {
   "codemirror_mode": {
    "name": "ipython",
    "version": 3
   },
   "file_extension": ".py",
   "mimetype": "text/x-python",
   "name": "python",
   "nbconvert_exporter": "python",
   "pygments_lexer": "ipython3",
   "version": "3.9.7"
  },
  "toc": {
   "base_numbering": 1,
   "nav_menu": {},
   "number_sections": true,
   "sideBar": true,
   "skip_h1_title": true,
   "title_cell": "Содержание",
   "title_sidebar": "Contents",
   "toc_cell": true,
   "toc_position": {
    "height": "calc(100% - 180px)",
    "left": "10px",
    "top": "150px",
    "width": "303px"
   },
   "toc_section_display": true,
   "toc_window_display": true
  }
 },
 "nbformat": 4,
 "nbformat_minor": 4
}
