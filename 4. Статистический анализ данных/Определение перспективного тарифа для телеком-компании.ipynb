{
 "cells": [
  {
   "cell_type": "markdown",
   "metadata": {},
   "source": [
    "# Определение перспективного тарифа для телеком-компании"
   ]
  },
  {
   "cell_type": "markdown",
   "metadata": {},
   "source": [
    "Клиентам предлагаются два тарифных плана: «Смарт» и «Ультра». Чтобы скорректировать рекламный бюджет, коммерческий департамент хочет понять, какой тариф приносит больше денег. \n",
    "\n",
    "Необходимо провести предварительный анализ тарифов на небольшой выборке клиентов. В нашем распоряжении данные 500 пользователей «Мегалайна»: кто они, откуда, каким тарифом пользуются, сколько звонков и сообщений каждый отправил за 2018 год. \n",
    "\n",
    "Требуется проанализировать поведение клиентов и сделать вывод — какой тариф лучше."
   ]
  },
  {
   "cell_type": "markdown",
   "metadata": {},
   "source": [
    "Описание тарифов\n",
    "\n",
    "**Тариф «Смарт»**\n",
    "\n",
    "1. Ежемесячная плата: 550 рублей\n",
    "2. Включено 500 минут разговора, 50 сообщений и 15 Гб интернет-трафика\n",
    "3. Стоимость услуг сверх тарифного пакета:\n",
    "\n",
    "* минута разговора: 3 рубля\n",
    "* сообщение: 3 рубля\n",
    "* 1 Гб интернет-трафика: 200 рублей\n",
    "\n",
    "**Тариф «Ультра»**\n",
    "\n",
    "1. Ежемесячная плата: 1950 рублей\n",
    "2. Включено 3000 минут разговора, 1000 сообщений и 30 Гб интернет-трафика\n",
    "3. Стоимость услуг сверх тарифного пакета:\n",
    "\n",
    "* минута разговора: 1 рубль\n",
    "* сообщение: 1 рубль\n",
    "* 1 Гб интернет-трафика: 150 рублей"
   ]
  },
  {
   "cell_type": "markdown",
   "metadata": {},
   "source": [
    "**Цель исследования** - Для корректировки рекламного бюджета определить какой тариф приносит больше денег(«Смарт» или «Ультра»).\n",
    "\n",
    "Проверить две гипотезы:\n",
    "\n",
    "* средняя выручка пользователей тарифов «Ультра» и «Смарт» различаются;\n",
    "* средняя выручка пользователей из Москвы отличается от выручки пользователей из других регионов."
   ]
  },
  {
   "cell_type": "markdown",
   "metadata": {},
   "source": [
    "**Ход исследования**\n",
    "\n",
    "Данные для исследования мы получим пятью файлами:\n",
    "\n",
    "* /datasets/calls.csv. - информация о звонках;\n",
    "* /datasets/internet.csv. - информация об интернет-сессиях;\n",
    "* /datasets/messages.csv. - информация о сообщениях;\n",
    "* /datasets/tariffs.csv. - информация о тарифах;\n",
    "* /datasets/users.csv. - информация о пользователях."
   ]
  },
  {
   "cell_type": "markdown",
   "metadata": {},
   "source": [
    "## Изучение данных из файлов"
   ]
  },
  {
   "cell_type": "code",
   "execution_count": 1,
   "metadata": {},
   "outputs": [],
   "source": [
    "# импортируем библиотеку для работы с файлами csv  формата\n",
    "import pandas as pd"
   ]
  },
  {
   "cell_type": "code",
   "execution_count": 2,
   "metadata": {},
   "outputs": [
    {
     "name": "stdout",
     "output_type": "stream",
     "text": [
      "<class 'pandas.core.frame.DataFrame'>\n",
      "RangeIndex: 202607 entries, 0 to 202606\n",
      "Data columns (total 4 columns):\n",
      " #   Column     Non-Null Count   Dtype  \n",
      "---  ------     --------------   -----  \n",
      " 0   id         202607 non-null  object \n",
      " 1   call_date  202607 non-null  object \n",
      " 2   duration   202607 non-null  float64\n",
      " 3   user_id    202607 non-null  int64  \n",
      "dtypes: float64(1), int64(1), object(2)\n",
      "memory usage: 6.2+ MB\n"
     ]
    }
   ],
   "source": [
    "# проверка файла и всех его атрибутов\n",
    "calls = pd.read_csv('/datasets/calls.csv')\n",
    "calls.info()"
   ]
  },
  {
   "cell_type": "markdown",
   "metadata": {},
   "source": [
    "При изучении этого файла наблюдается отсутствие пропусков, но есть вопросы в типах данных, к ним мы вернемся в разделе предобработка данных."
   ]
  },
  {
   "cell_type": "code",
   "execution_count": 3,
   "metadata": {},
   "outputs": [
    {
     "name": "stdout",
     "output_type": "stream",
     "text": [
      "<class 'pandas.core.frame.DataFrame'>\n",
      "RangeIndex: 149396 entries, 0 to 149395\n",
      "Data columns (total 5 columns):\n",
      " #   Column        Non-Null Count   Dtype  \n",
      "---  ------        --------------   -----  \n",
      " 0   Unnamed: 0    149396 non-null  int64  \n",
      " 1   id            149396 non-null  object \n",
      " 2   mb_used       149396 non-null  float64\n",
      " 3   session_date  149396 non-null  object \n",
      " 4   user_id       149396 non-null  int64  \n",
      "dtypes: float64(1), int64(2), object(2)\n",
      "memory usage: 5.7+ MB\n"
     ]
    }
   ],
   "source": [
    "# проверка файла и всех его атрибутов\n",
    "internet = pd.read_csv('/datasets/internet.csv')\n",
    "internet.info()"
   ]
  },
  {
   "cell_type": "markdown",
   "metadata": {},
   "source": [
    "Аналогично прошлому файлу проблемы пока наблюдаются только типах данных."
   ]
  },
  {
   "cell_type": "code",
   "execution_count": 4,
   "metadata": {},
   "outputs": [
    {
     "name": "stdout",
     "output_type": "stream",
     "text": [
      "<class 'pandas.core.frame.DataFrame'>\n",
      "RangeIndex: 123036 entries, 0 to 123035\n",
      "Data columns (total 3 columns):\n",
      " #   Column        Non-Null Count   Dtype \n",
      "---  ------        --------------   ----- \n",
      " 0   id            123036 non-null  object\n",
      " 1   message_date  123036 non-null  object\n",
      " 2   user_id       123036 non-null  int64 \n",
      "dtypes: int64(1), object(2)\n",
      "memory usage: 2.8+ MB\n"
     ]
    }
   ],
   "source": [
    "# проверка файла и всех его атрибутов\n",
    "messages = pd.read_csv('/datasets/messages.csv')\n",
    "messages.info()"
   ]
  },
  {
   "cell_type": "markdown",
   "metadata": {},
   "source": [
    "Аналогично прошлому файлу."
   ]
  },
  {
   "cell_type": "code",
   "execution_count": 5,
   "metadata": {},
   "outputs": [
    {
     "name": "stdout",
     "output_type": "stream",
     "text": [
      "<class 'pandas.core.frame.DataFrame'>\n",
      "RangeIndex: 2 entries, 0 to 1\n",
      "Data columns (total 8 columns):\n",
      " #   Column                 Non-Null Count  Dtype \n",
      "---  ------                 --------------  ----- \n",
      " 0   messages_included      2 non-null      int64 \n",
      " 1   mb_per_month_included  2 non-null      int64 \n",
      " 2   minutes_included       2 non-null      int64 \n",
      " 3   rub_monthly_fee        2 non-null      int64 \n",
      " 4   rub_per_gb             2 non-null      int64 \n",
      " 5   rub_per_message        2 non-null      int64 \n",
      " 6   rub_per_minute         2 non-null      int64 \n",
      " 7   tariff_name            2 non-null      object\n",
      "dtypes: int64(7), object(1)\n",
      "memory usage: 256.0+ bytes\n"
     ]
    }
   ],
   "source": [
    "# проверка файла и всех его атрибутов\n",
    "tariffs = pd.read_csv('/datasets/tariffs.csv')\n",
    "tariffs.info()"
   ]
  },
  {
   "cell_type": "markdown",
   "metadata": {},
   "source": [
    "Аналогично прошлому файлу."
   ]
  },
  {
   "cell_type": "code",
   "execution_count": 6,
   "metadata": {},
   "outputs": [
    {
     "name": "stdout",
     "output_type": "stream",
     "text": [
      "<class 'pandas.core.frame.DataFrame'>\n",
      "RangeIndex: 500 entries, 0 to 499\n",
      "Data columns (total 8 columns):\n",
      " #   Column      Non-Null Count  Dtype \n",
      "---  ------      --------------  ----- \n",
      " 0   user_id     500 non-null    int64 \n",
      " 1   age         500 non-null    int64 \n",
      " 2   churn_date  38 non-null     object\n",
      " 3   city        500 non-null    object\n",
      " 4   first_name  500 non-null    object\n",
      " 5   last_name   500 non-null    object\n",
      " 6   reg_date    500 non-null    object\n",
      " 7   tariff      500 non-null    object\n",
      "dtypes: int64(2), object(6)\n",
      "memory usage: 31.4+ KB\n"
     ]
    }
   ],
   "source": [
    "# проверка файла и всех его атрибутов\n",
    "users = pd.read_csv('/datasets/users.csv')\n",
    "users.info()"
   ]
  },
  {
   "cell_type": "markdown",
   "metadata": {},
   "source": [
    "Видим пропуски в столбце `churn_date`, они означают то, что тариф ещё действовал на момент выгрузки данных, так что просто заменим их на ..."
   ]
  },
  {
   "cell_type": "markdown",
   "metadata": {},
   "source": [
    "**Вывод:**\n",
    "* Проблем с пропусками во всех файлах не наблюдается, нужно заменить пропуски лишь в одном столбце.\n",
    "* Наблюдаем проблемы с типами данных, во многих столбиках, в разных файлах стоят неверные типы данных.\n",
    "* Следует так же проверить наши файлы на дубликаты, аномалии или неточности, а так же на остальные проблемы, займемся же этим."
   ]
  },
  {
   "cell_type": "markdown",
   "metadata": {},
   "source": [
    "## Предобработка данных"
   ]
  },
  {
   "cell_type": "markdown",
   "metadata": {},
   "source": [
    "### Для начала исправим все типы данных в наших файлах."
   ]
  },
  {
   "cell_type": "code",
   "execution_count": 7,
   "metadata": {},
   "outputs": [
    {
     "data": {
      "text/html": [
       "<div>\n",
       "<style scoped>\n",
       "    .dataframe tbody tr th:only-of-type {\n",
       "        vertical-align: middle;\n",
       "    }\n",
       "\n",
       "    .dataframe tbody tr th {\n",
       "        vertical-align: top;\n",
       "    }\n",
       "\n",
       "    .dataframe thead th {\n",
       "        text-align: right;\n",
       "    }\n",
       "</style>\n",
       "<table border=\"1\" class=\"dataframe\">\n",
       "  <thead>\n",
       "    <tr style=\"text-align: right;\">\n",
       "      <th></th>\n",
       "      <th>id</th>\n",
       "      <th>call_date</th>\n",
       "      <th>duration</th>\n",
       "      <th>user_id</th>\n",
       "    </tr>\n",
       "  </thead>\n",
       "  <tbody>\n",
       "    <tr>\n",
       "      <th>0</th>\n",
       "      <td>1000_0</td>\n",
       "      <td>2018-07-25</td>\n",
       "      <td>0.00</td>\n",
       "      <td>1000</td>\n",
       "    </tr>\n",
       "    <tr>\n",
       "      <th>1</th>\n",
       "      <td>1000_1</td>\n",
       "      <td>2018-08-17</td>\n",
       "      <td>0.00</td>\n",
       "      <td>1000</td>\n",
       "    </tr>\n",
       "    <tr>\n",
       "      <th>2</th>\n",
       "      <td>1000_2</td>\n",
       "      <td>2018-06-11</td>\n",
       "      <td>2.85</td>\n",
       "      <td>1000</td>\n",
       "    </tr>\n",
       "    <tr>\n",
       "      <th>3</th>\n",
       "      <td>1000_3</td>\n",
       "      <td>2018-09-21</td>\n",
       "      <td>13.80</td>\n",
       "      <td>1000</td>\n",
       "    </tr>\n",
       "    <tr>\n",
       "      <th>4</th>\n",
       "      <td>1000_4</td>\n",
       "      <td>2018-12-15</td>\n",
       "      <td>5.18</td>\n",
       "      <td>1000</td>\n",
       "    </tr>\n",
       "    <tr>\n",
       "      <th>...</th>\n",
       "      <td>...</td>\n",
       "      <td>...</td>\n",
       "      <td>...</td>\n",
       "      <td>...</td>\n",
       "    </tr>\n",
       "    <tr>\n",
       "      <th>202602</th>\n",
       "      <td>1499_215</td>\n",
       "      <td>2018-12-26</td>\n",
       "      <td>0.76</td>\n",
       "      <td>1499</td>\n",
       "    </tr>\n",
       "    <tr>\n",
       "      <th>202603</th>\n",
       "      <td>1499_216</td>\n",
       "      <td>2018-10-18</td>\n",
       "      <td>18.83</td>\n",
       "      <td>1499</td>\n",
       "    </tr>\n",
       "    <tr>\n",
       "      <th>202604</th>\n",
       "      <td>1499_217</td>\n",
       "      <td>2018-11-10</td>\n",
       "      <td>10.81</td>\n",
       "      <td>1499</td>\n",
       "    </tr>\n",
       "    <tr>\n",
       "      <th>202605</th>\n",
       "      <td>1499_218</td>\n",
       "      <td>2018-10-06</td>\n",
       "      <td>4.27</td>\n",
       "      <td>1499</td>\n",
       "    </tr>\n",
       "    <tr>\n",
       "      <th>202606</th>\n",
       "      <td>1499_219</td>\n",
       "      <td>2018-12-14</td>\n",
       "      <td>19.62</td>\n",
       "      <td>1499</td>\n",
       "    </tr>\n",
       "  </tbody>\n",
       "</table>\n",
       "<p>202607 rows × 4 columns</p>\n",
       "</div>"
      ],
      "text/plain": [
       "              id   call_date  duration  user_id\n",
       "0         1000_0  2018-07-25      0.00     1000\n",
       "1         1000_1  2018-08-17      0.00     1000\n",
       "2         1000_2  2018-06-11      2.85     1000\n",
       "3         1000_3  2018-09-21     13.80     1000\n",
       "4         1000_4  2018-12-15      5.18     1000\n",
       "...          ...         ...       ...      ...\n",
       "202602  1499_215  2018-12-26      0.76     1499\n",
       "202603  1499_216  2018-10-18     18.83     1499\n",
       "202604  1499_217  2018-11-10     10.81     1499\n",
       "202605  1499_218  2018-10-06      4.27     1499\n",
       "202606  1499_219  2018-12-14     19.62     1499\n",
       "\n",
       "[202607 rows x 4 columns]"
      ]
     },
     "execution_count": 7,
     "metadata": {},
     "output_type": "execute_result"
    }
   ],
   "source": [
    "# посмотрим первую таблицу\n",
    "calls"
   ]
  },
  {
   "cell_type": "code",
   "execution_count": 8,
   "metadata": {},
   "outputs": [
    {
     "name": "stdout",
     "output_type": "stream",
     "text": [
      "<class 'pandas.core.frame.DataFrame'>\n",
      "RangeIndex: 202607 entries, 0 to 202606\n",
      "Data columns (total 4 columns):\n",
      " #   Column     Non-Null Count   Dtype         \n",
      "---  ------     --------------   -----         \n",
      " 0   id         202607 non-null  int64         \n",
      " 1   call_date  202607 non-null  datetime64[ns]\n",
      " 2   duration   202607 non-null  float64       \n",
      " 3   user_id    202607 non-null  int64         \n",
      "dtypes: datetime64[ns](1), float64(1), int64(2)\n",
      "memory usage: 6.2 MB\n"
     ]
    }
   ],
   "source": [
    "# исправим неверные типы данных в 1 файле\n",
    "calls['id'] = calls['id'].astype('int64')\n",
    "calls['call_date'] = calls['call_date'].astype('datetime64')\n",
    "calls.info()"
   ]
  },
  {
   "cell_type": "markdown",
   "metadata": {},
   "source": [
    "Можем наблюдать, что типы были заменены успешно."
   ]
  },
  {
   "cell_type": "code",
   "execution_count": 9,
   "metadata": {},
   "outputs": [
    {
     "data": {
      "text/html": [
       "<div>\n",
       "<style scoped>\n",
       "    .dataframe tbody tr th:only-of-type {\n",
       "        vertical-align: middle;\n",
       "    }\n",
       "\n",
       "    .dataframe tbody tr th {\n",
       "        vertical-align: top;\n",
       "    }\n",
       "\n",
       "    .dataframe thead th {\n",
       "        text-align: right;\n",
       "    }\n",
       "</style>\n",
       "<table border=\"1\" class=\"dataframe\">\n",
       "  <thead>\n",
       "    <tr style=\"text-align: right;\">\n",
       "      <th></th>\n",
       "      <th>Unnamed: 0</th>\n",
       "      <th>id</th>\n",
       "      <th>mb_used</th>\n",
       "      <th>session_date</th>\n",
       "      <th>user_id</th>\n",
       "    </tr>\n",
       "  </thead>\n",
       "  <tbody>\n",
       "    <tr>\n",
       "      <th>0</th>\n",
       "      <td>0</td>\n",
       "      <td>1000_0</td>\n",
       "      <td>112.95</td>\n",
       "      <td>2018-11-25</td>\n",
       "      <td>1000</td>\n",
       "    </tr>\n",
       "    <tr>\n",
       "      <th>1</th>\n",
       "      <td>1</td>\n",
       "      <td>1000_1</td>\n",
       "      <td>1052.81</td>\n",
       "      <td>2018-09-07</td>\n",
       "      <td>1000</td>\n",
       "    </tr>\n",
       "    <tr>\n",
       "      <th>2</th>\n",
       "      <td>2</td>\n",
       "      <td>1000_2</td>\n",
       "      <td>1197.26</td>\n",
       "      <td>2018-06-25</td>\n",
       "      <td>1000</td>\n",
       "    </tr>\n",
       "    <tr>\n",
       "      <th>3</th>\n",
       "      <td>3</td>\n",
       "      <td>1000_3</td>\n",
       "      <td>550.27</td>\n",
       "      <td>2018-08-22</td>\n",
       "      <td>1000</td>\n",
       "    </tr>\n",
       "    <tr>\n",
       "      <th>4</th>\n",
       "      <td>4</td>\n",
       "      <td>1000_4</td>\n",
       "      <td>302.56</td>\n",
       "      <td>2018-09-24</td>\n",
       "      <td>1000</td>\n",
       "    </tr>\n",
       "    <tr>\n",
       "      <th>...</th>\n",
       "      <td>...</td>\n",
       "      <td>...</td>\n",
       "      <td>...</td>\n",
       "      <td>...</td>\n",
       "      <td>...</td>\n",
       "    </tr>\n",
       "    <tr>\n",
       "      <th>149391</th>\n",
       "      <td>149391</td>\n",
       "      <td>1499_152</td>\n",
       "      <td>318.90</td>\n",
       "      <td>2018-10-03</td>\n",
       "      <td>1499</td>\n",
       "    </tr>\n",
       "    <tr>\n",
       "      <th>149392</th>\n",
       "      <td>149392</td>\n",
       "      <td>1499_153</td>\n",
       "      <td>490.13</td>\n",
       "      <td>2018-12-14</td>\n",
       "      <td>1499</td>\n",
       "    </tr>\n",
       "    <tr>\n",
       "      <th>149393</th>\n",
       "      <td>149393</td>\n",
       "      <td>1499_154</td>\n",
       "      <td>0.00</td>\n",
       "      <td>2018-10-27</td>\n",
       "      <td>1499</td>\n",
       "    </tr>\n",
       "    <tr>\n",
       "      <th>149394</th>\n",
       "      <td>149394</td>\n",
       "      <td>1499_155</td>\n",
       "      <td>1246.32</td>\n",
       "      <td>2018-11-26</td>\n",
       "      <td>1499</td>\n",
       "    </tr>\n",
       "    <tr>\n",
       "      <th>149395</th>\n",
       "      <td>149395</td>\n",
       "      <td>1499_156</td>\n",
       "      <td>544.37</td>\n",
       "      <td>2018-10-26</td>\n",
       "      <td>1499</td>\n",
       "    </tr>\n",
       "  </tbody>\n",
       "</table>\n",
       "<p>149396 rows × 5 columns</p>\n",
       "</div>"
      ],
      "text/plain": [
       "        Unnamed: 0        id  mb_used session_date  user_id\n",
       "0                0    1000_0   112.95   2018-11-25     1000\n",
       "1                1    1000_1  1052.81   2018-09-07     1000\n",
       "2                2    1000_2  1197.26   2018-06-25     1000\n",
       "3                3    1000_3   550.27   2018-08-22     1000\n",
       "4                4    1000_4   302.56   2018-09-24     1000\n",
       "...            ...       ...      ...          ...      ...\n",
       "149391      149391  1499_152   318.90   2018-10-03     1499\n",
       "149392      149392  1499_153   490.13   2018-12-14     1499\n",
       "149393      149393  1499_154     0.00   2018-10-27     1499\n",
       "149394      149394  1499_155  1246.32   2018-11-26     1499\n",
       "149395      149395  1499_156   544.37   2018-10-26     1499\n",
       "\n",
       "[149396 rows x 5 columns]"
      ]
     },
     "execution_count": 9,
     "metadata": {},
     "output_type": "execute_result"
    }
   ],
   "source": [
    "# посмотрим вторую таблицу\n",
    "internet"
   ]
  },
  {
   "cell_type": "code",
   "execution_count": 10,
   "metadata": {},
   "outputs": [
    {
     "name": "stdout",
     "output_type": "stream",
     "text": [
      "<class 'pandas.core.frame.DataFrame'>\n",
      "RangeIndex: 149396 entries, 0 to 149395\n",
      "Data columns (total 5 columns):\n",
      " #   Column        Non-Null Count   Dtype         \n",
      "---  ------        --------------   -----         \n",
      " 0   Unnamed: 0    149396 non-null  int64         \n",
      " 1   id            149396 non-null  int64         \n",
      " 2   mb_used       149396 non-null  int64         \n",
      " 3   session_date  149396 non-null  datetime64[ns]\n",
      " 4   user_id       149396 non-null  int64         \n",
      "dtypes: datetime64[ns](1), int64(4)\n",
      "memory usage: 5.7 MB\n"
     ]
    }
   ],
   "source": [
    "# исправим неверные типы данных в 2 файле\n",
    "internet['id'] = internet['id'].astype('int64')\n",
    "internet['mb_used'] = internet['mb_used'].astype('int64')\n",
    "internet['session_date'] = internet['session_date'].astype('datetime64')\n",
    "internet.info()"
   ]
  },
  {
   "cell_type": "code",
   "execution_count": 11,
   "metadata": {},
   "outputs": [
    {
     "data": {
      "text/html": [
       "<div>\n",
       "<style scoped>\n",
       "    .dataframe tbody tr th:only-of-type {\n",
       "        vertical-align: middle;\n",
       "    }\n",
       "\n",
       "    .dataframe tbody tr th {\n",
       "        vertical-align: top;\n",
       "    }\n",
       "\n",
       "    .dataframe thead th {\n",
       "        text-align: right;\n",
       "    }\n",
       "</style>\n",
       "<table border=\"1\" class=\"dataframe\">\n",
       "  <thead>\n",
       "    <tr style=\"text-align: right;\">\n",
       "      <th></th>\n",
       "      <th>id</th>\n",
       "      <th>message_date</th>\n",
       "      <th>user_id</th>\n",
       "    </tr>\n",
       "  </thead>\n",
       "  <tbody>\n",
       "    <tr>\n",
       "      <th>0</th>\n",
       "      <td>1000_0</td>\n",
       "      <td>2018-06-27</td>\n",
       "      <td>1000</td>\n",
       "    </tr>\n",
       "    <tr>\n",
       "      <th>1</th>\n",
       "      <td>1000_1</td>\n",
       "      <td>2018-10-08</td>\n",
       "      <td>1000</td>\n",
       "    </tr>\n",
       "    <tr>\n",
       "      <th>2</th>\n",
       "      <td>1000_2</td>\n",
       "      <td>2018-08-04</td>\n",
       "      <td>1000</td>\n",
       "    </tr>\n",
       "    <tr>\n",
       "      <th>3</th>\n",
       "      <td>1000_3</td>\n",
       "      <td>2018-06-16</td>\n",
       "      <td>1000</td>\n",
       "    </tr>\n",
       "    <tr>\n",
       "      <th>4</th>\n",
       "      <td>1000_4</td>\n",
       "      <td>2018-12-05</td>\n",
       "      <td>1000</td>\n",
       "    </tr>\n",
       "    <tr>\n",
       "      <th>...</th>\n",
       "      <td>...</td>\n",
       "      <td>...</td>\n",
       "      <td>...</td>\n",
       "    </tr>\n",
       "    <tr>\n",
       "      <th>123031</th>\n",
       "      <td>1499_179</td>\n",
       "      <td>2018-12-12</td>\n",
       "      <td>1499</td>\n",
       "    </tr>\n",
       "    <tr>\n",
       "      <th>123032</th>\n",
       "      <td>1499_180</td>\n",
       "      <td>2018-09-28</td>\n",
       "      <td>1499</td>\n",
       "    </tr>\n",
       "    <tr>\n",
       "      <th>123033</th>\n",
       "      <td>1499_181</td>\n",
       "      <td>2018-09-27</td>\n",
       "      <td>1499</td>\n",
       "    </tr>\n",
       "    <tr>\n",
       "      <th>123034</th>\n",
       "      <td>1499_182</td>\n",
       "      <td>2018-11-15</td>\n",
       "      <td>1499</td>\n",
       "    </tr>\n",
       "    <tr>\n",
       "      <th>123035</th>\n",
       "      <td>1499_183</td>\n",
       "      <td>2018-11-16</td>\n",
       "      <td>1499</td>\n",
       "    </tr>\n",
       "  </tbody>\n",
       "</table>\n",
       "<p>123036 rows × 3 columns</p>\n",
       "</div>"
      ],
      "text/plain": [
       "              id message_date  user_id\n",
       "0         1000_0   2018-06-27     1000\n",
       "1         1000_1   2018-10-08     1000\n",
       "2         1000_2   2018-08-04     1000\n",
       "3         1000_3   2018-06-16     1000\n",
       "4         1000_4   2018-12-05     1000\n",
       "...          ...          ...      ...\n",
       "123031  1499_179   2018-12-12     1499\n",
       "123032  1499_180   2018-09-28     1499\n",
       "123033  1499_181   2018-09-27     1499\n",
       "123034  1499_182   2018-11-15     1499\n",
       "123035  1499_183   2018-11-16     1499\n",
       "\n",
       "[123036 rows x 3 columns]"
      ]
     },
     "execution_count": 11,
     "metadata": {},
     "output_type": "execute_result"
    }
   ],
   "source": [
    "# посмотрим третью таблицу\n",
    "messages"
   ]
  },
  {
   "cell_type": "code",
   "execution_count": 12,
   "metadata": {},
   "outputs": [
    {
     "name": "stdout",
     "output_type": "stream",
     "text": [
      "<class 'pandas.core.frame.DataFrame'>\n",
      "RangeIndex: 123036 entries, 0 to 123035\n",
      "Data columns (total 3 columns):\n",
      " #   Column        Non-Null Count   Dtype         \n",
      "---  ------        --------------   -----         \n",
      " 0   id            123036 non-null  int64         \n",
      " 1   message_date  123036 non-null  datetime64[ns]\n",
      " 2   user_id       123036 non-null  int64         \n",
      "dtypes: datetime64[ns](1), int64(2)\n",
      "memory usage: 2.8 MB\n"
     ]
    }
   ],
   "source": [
    "# исправим неверные типы данных в 3 файле\n",
    "messages['id'] = messages['id'].astype('int64')\n",
    "messages['message_date'] = messages['message_date'].astype('datetime64')\n",
    "messages.info()"
   ]
  },
  {
   "cell_type": "code",
   "execution_count": 13,
   "metadata": {},
   "outputs": [
    {
     "data": {
      "text/html": [
       "<div>\n",
       "<style scoped>\n",
       "    .dataframe tbody tr th:only-of-type {\n",
       "        vertical-align: middle;\n",
       "    }\n",
       "\n",
       "    .dataframe tbody tr th {\n",
       "        vertical-align: top;\n",
       "    }\n",
       "\n",
       "    .dataframe thead th {\n",
       "        text-align: right;\n",
       "    }\n",
       "</style>\n",
       "<table border=\"1\" class=\"dataframe\">\n",
       "  <thead>\n",
       "    <tr style=\"text-align: right;\">\n",
       "      <th></th>\n",
       "      <th>messages_included</th>\n",
       "      <th>mb_per_month_included</th>\n",
       "      <th>minutes_included</th>\n",
       "      <th>rub_monthly_fee</th>\n",
       "      <th>rub_per_gb</th>\n",
       "      <th>rub_per_message</th>\n",
       "      <th>rub_per_minute</th>\n",
       "      <th>tariff_name</th>\n",
       "    </tr>\n",
       "  </thead>\n",
       "  <tbody>\n",
       "    <tr>\n",
       "      <th>0</th>\n",
       "      <td>50</td>\n",
       "      <td>15360</td>\n",
       "      <td>500</td>\n",
       "      <td>550</td>\n",
       "      <td>200</td>\n",
       "      <td>3</td>\n",
       "      <td>3</td>\n",
       "      <td>smart</td>\n",
       "    </tr>\n",
       "    <tr>\n",
       "      <th>1</th>\n",
       "      <td>1000</td>\n",
       "      <td>30720</td>\n",
       "      <td>3000</td>\n",
       "      <td>1950</td>\n",
       "      <td>150</td>\n",
       "      <td>1</td>\n",
       "      <td>1</td>\n",
       "      <td>ultra</td>\n",
       "    </tr>\n",
       "  </tbody>\n",
       "</table>\n",
       "</div>"
      ],
      "text/plain": [
       "   messages_included  mb_per_month_included  minutes_included  \\\n",
       "0                 50                  15360               500   \n",
       "1               1000                  30720              3000   \n",
       "\n",
       "   rub_monthly_fee  rub_per_gb  rub_per_message  rub_per_minute tariff_name  \n",
       "0              550         200                3               3       smart  \n",
       "1             1950         150                1               1       ultra  "
      ]
     },
     "execution_count": 13,
     "metadata": {},
     "output_type": "execute_result"
    }
   ],
   "source": [
    "# посмотрим четвертую таблицу\n",
    "tariffs"
   ]
  },
  {
   "cell_type": "code",
   "execution_count": 14,
   "metadata": {},
   "outputs": [
    {
     "data": {
      "text/html": [
       "<div>\n",
       "<style scoped>\n",
       "    .dataframe tbody tr th:only-of-type {\n",
       "        vertical-align: middle;\n",
       "    }\n",
       "\n",
       "    .dataframe tbody tr th {\n",
       "        vertical-align: top;\n",
       "    }\n",
       "\n",
       "    .dataframe thead th {\n",
       "        text-align: right;\n",
       "    }\n",
       "</style>\n",
       "<table border=\"1\" class=\"dataframe\">\n",
       "  <thead>\n",
       "    <tr style=\"text-align: right;\">\n",
       "      <th></th>\n",
       "      <th>messages_included</th>\n",
       "      <th>mb_per_month_included</th>\n",
       "      <th>minutes_included</th>\n",
       "      <th>rub_monthly_fee</th>\n",
       "      <th>rub_per_gb</th>\n",
       "      <th>rub_per_message</th>\n",
       "      <th>rub_per_minute</th>\n",
       "      <th>tariff</th>\n",
       "    </tr>\n",
       "  </thead>\n",
       "  <tbody>\n",
       "    <tr>\n",
       "      <th>0</th>\n",
       "      <td>50</td>\n",
       "      <td>15360</td>\n",
       "      <td>500</td>\n",
       "      <td>550</td>\n",
       "      <td>200</td>\n",
       "      <td>3</td>\n",
       "      <td>3</td>\n",
       "      <td>smart</td>\n",
       "    </tr>\n",
       "    <tr>\n",
       "      <th>1</th>\n",
       "      <td>1000</td>\n",
       "      <td>30720</td>\n",
       "      <td>3000</td>\n",
       "      <td>1950</td>\n",
       "      <td>150</td>\n",
       "      <td>1</td>\n",
       "      <td>1</td>\n",
       "      <td>ultra</td>\n",
       "    </tr>\n",
       "  </tbody>\n",
       "</table>\n",
       "</div>"
      ],
      "text/plain": [
       "   messages_included  mb_per_month_included  minutes_included  \\\n",
       "0                 50                  15360               500   \n",
       "1               1000                  30720              3000   \n",
       "\n",
       "   rub_monthly_fee  rub_per_gb  rub_per_message  rub_per_minute tariff  \n",
       "0              550         200                3               3  smart  \n",
       "1             1950         150                1               1  ultra  "
      ]
     },
     "execution_count": 14,
     "metadata": {},
     "output_type": "execute_result"
    }
   ],
   "source": [
    "# переименуем название последнего столбца\n",
    "tariffs = tariffs.rename(columns = {'tariff_name': 'tariff'})\n",
    "tariffs"
   ]
  },
  {
   "cell_type": "markdown",
   "metadata": {},
   "source": [
    "В этом файле все впорядке с типами данных!"
   ]
  },
  {
   "cell_type": "code",
   "execution_count": 15,
   "metadata": {},
   "outputs": [
    {
     "data": {
      "text/html": [
       "<div>\n",
       "<style scoped>\n",
       "    .dataframe tbody tr th:only-of-type {\n",
       "        vertical-align: middle;\n",
       "    }\n",
       "\n",
       "    .dataframe tbody tr th {\n",
       "        vertical-align: top;\n",
       "    }\n",
       "\n",
       "    .dataframe thead th {\n",
       "        text-align: right;\n",
       "    }\n",
       "</style>\n",
       "<table border=\"1\" class=\"dataframe\">\n",
       "  <thead>\n",
       "    <tr style=\"text-align: right;\">\n",
       "      <th></th>\n",
       "      <th>user_id</th>\n",
       "      <th>age</th>\n",
       "      <th>churn_date</th>\n",
       "      <th>city</th>\n",
       "      <th>first_name</th>\n",
       "      <th>last_name</th>\n",
       "      <th>reg_date</th>\n",
       "      <th>tariff</th>\n",
       "    </tr>\n",
       "  </thead>\n",
       "  <tbody>\n",
       "    <tr>\n",
       "      <th>0</th>\n",
       "      <td>1000</td>\n",
       "      <td>52</td>\n",
       "      <td>NaN</td>\n",
       "      <td>Краснодар</td>\n",
       "      <td>Рафаил</td>\n",
       "      <td>Верещагин</td>\n",
       "      <td>2018-05-25</td>\n",
       "      <td>ultra</td>\n",
       "    </tr>\n",
       "    <tr>\n",
       "      <th>1</th>\n",
       "      <td>1001</td>\n",
       "      <td>41</td>\n",
       "      <td>NaN</td>\n",
       "      <td>Москва</td>\n",
       "      <td>Иван</td>\n",
       "      <td>Ежов</td>\n",
       "      <td>2018-11-01</td>\n",
       "      <td>smart</td>\n",
       "    </tr>\n",
       "    <tr>\n",
       "      <th>2</th>\n",
       "      <td>1002</td>\n",
       "      <td>59</td>\n",
       "      <td>NaN</td>\n",
       "      <td>Стерлитамак</td>\n",
       "      <td>Евгений</td>\n",
       "      <td>Абрамович</td>\n",
       "      <td>2018-06-17</td>\n",
       "      <td>smart</td>\n",
       "    </tr>\n",
       "    <tr>\n",
       "      <th>3</th>\n",
       "      <td>1003</td>\n",
       "      <td>23</td>\n",
       "      <td>NaN</td>\n",
       "      <td>Москва</td>\n",
       "      <td>Белла</td>\n",
       "      <td>Белякова</td>\n",
       "      <td>2018-08-17</td>\n",
       "      <td>ultra</td>\n",
       "    </tr>\n",
       "    <tr>\n",
       "      <th>4</th>\n",
       "      <td>1004</td>\n",
       "      <td>68</td>\n",
       "      <td>NaN</td>\n",
       "      <td>Новокузнецк</td>\n",
       "      <td>Татьяна</td>\n",
       "      <td>Авдеенко</td>\n",
       "      <td>2018-05-14</td>\n",
       "      <td>ultra</td>\n",
       "    </tr>\n",
       "    <tr>\n",
       "      <th>...</th>\n",
       "      <td>...</td>\n",
       "      <td>...</td>\n",
       "      <td>...</td>\n",
       "      <td>...</td>\n",
       "      <td>...</td>\n",
       "      <td>...</td>\n",
       "      <td>...</td>\n",
       "      <td>...</td>\n",
       "    </tr>\n",
       "    <tr>\n",
       "      <th>495</th>\n",
       "      <td>1495</td>\n",
       "      <td>65</td>\n",
       "      <td>NaN</td>\n",
       "      <td>Иркутск</td>\n",
       "      <td>Авксентий</td>\n",
       "      <td>Фокин</td>\n",
       "      <td>2018-08-28</td>\n",
       "      <td>ultra</td>\n",
       "    </tr>\n",
       "    <tr>\n",
       "      <th>496</th>\n",
       "      <td>1496</td>\n",
       "      <td>36</td>\n",
       "      <td>NaN</td>\n",
       "      <td>Вологда</td>\n",
       "      <td>Трифон</td>\n",
       "      <td>Блохин</td>\n",
       "      <td>2018-01-27</td>\n",
       "      <td>smart</td>\n",
       "    </tr>\n",
       "    <tr>\n",
       "      <th>497</th>\n",
       "      <td>1497</td>\n",
       "      <td>32</td>\n",
       "      <td>NaN</td>\n",
       "      <td>Челябинск</td>\n",
       "      <td>Каролина</td>\n",
       "      <td>Агеева</td>\n",
       "      <td>2018-10-09</td>\n",
       "      <td>smart</td>\n",
       "    </tr>\n",
       "    <tr>\n",
       "      <th>498</th>\n",
       "      <td>1498</td>\n",
       "      <td>68</td>\n",
       "      <td>2018-10-25</td>\n",
       "      <td>Владикавказ</td>\n",
       "      <td>Всеволод</td>\n",
       "      <td>Акимчин</td>\n",
       "      <td>2018-07-19</td>\n",
       "      <td>smart</td>\n",
       "    </tr>\n",
       "    <tr>\n",
       "      <th>499</th>\n",
       "      <td>1499</td>\n",
       "      <td>35</td>\n",
       "      <td>NaN</td>\n",
       "      <td>Пермь</td>\n",
       "      <td>Гектор</td>\n",
       "      <td>Корнилов</td>\n",
       "      <td>2018-09-27</td>\n",
       "      <td>smart</td>\n",
       "    </tr>\n",
       "  </tbody>\n",
       "</table>\n",
       "<p>500 rows × 8 columns</p>\n",
       "</div>"
      ],
      "text/plain": [
       "     user_id  age  churn_date         city first_name  last_name    reg_date  \\\n",
       "0       1000   52         NaN    Краснодар     Рафаил  Верещагин  2018-05-25   \n",
       "1       1001   41         NaN       Москва       Иван       Ежов  2018-11-01   \n",
       "2       1002   59         NaN  Стерлитамак    Евгений  Абрамович  2018-06-17   \n",
       "3       1003   23         NaN       Москва      Белла   Белякова  2018-08-17   \n",
       "4       1004   68         NaN  Новокузнецк    Татьяна   Авдеенко  2018-05-14   \n",
       "..       ...  ...         ...          ...        ...        ...         ...   \n",
       "495     1495   65         NaN      Иркутск  Авксентий      Фокин  2018-08-28   \n",
       "496     1496   36         NaN      Вологда     Трифон     Блохин  2018-01-27   \n",
       "497     1497   32         NaN    Челябинск   Каролина     Агеева  2018-10-09   \n",
       "498     1498   68  2018-10-25  Владикавказ   Всеволод    Акимчин  2018-07-19   \n",
       "499     1499   35         NaN        Пермь     Гектор   Корнилов  2018-09-27   \n",
       "\n",
       "    tariff  \n",
       "0    ultra  \n",
       "1    smart  \n",
       "2    smart  \n",
       "3    ultra  \n",
       "4    ultra  \n",
       "..     ...  \n",
       "495  ultra  \n",
       "496  smart  \n",
       "497  smart  \n",
       "498  smart  \n",
       "499  smart  \n",
       "\n",
       "[500 rows x 8 columns]"
      ]
     },
     "execution_count": 15,
     "metadata": {},
     "output_type": "execute_result"
    }
   ],
   "source": [
    "# посмотрим пятую таблицу\n",
    "users"
   ]
  },
  {
   "cell_type": "code",
   "execution_count": 16,
   "metadata": {},
   "outputs": [
    {
     "name": "stdout",
     "output_type": "stream",
     "text": [
      "<class 'pandas.core.frame.DataFrame'>\n",
      "RangeIndex: 500 entries, 0 to 499\n",
      "Data columns (total 8 columns):\n",
      " #   Column      Non-Null Count  Dtype         \n",
      "---  ------      --------------  -----         \n",
      " 0   user_id     500 non-null    int64         \n",
      " 1   age         500 non-null    int64         \n",
      " 2   churn_date  38 non-null     object        \n",
      " 3   city        500 non-null    object        \n",
      " 4   first_name  500 non-null    object        \n",
      " 5   last_name   500 non-null    object        \n",
      " 6   reg_date    500 non-null    datetime64[ns]\n",
      " 7   tariff      500 non-null    object        \n",
      "dtypes: datetime64[ns](1), int64(2), object(5)\n",
      "memory usage: 31.4+ KB\n"
     ]
    }
   ],
   "source": [
    "# исправим неверные типы данных в 5 файле\n",
    "users['reg_date'] = users['reg_date'].astype('datetime64')\n",
    "users.info()"
   ]
  },
  {
   "cell_type": "markdown",
   "metadata": {},
   "source": [
    "**Вывод:** Мы обнаружили и исправили все типы данных, самое время заняться пропусками.\n",
    "    P.S. В файле `users`, в столбце `churn_date` специально не изменил тип данных, так как в последующем вместо пропусков буду ставить текстовые значения."
   ]
  },
  {
   "cell_type": "markdown",
   "metadata": {},
   "source": [
    "### Заполнение пропусков."
   ]
  },
  {
   "cell_type": "markdown",
   "metadata": {},
   "source": [
    "Проблема с пропусками возникла лишь в файле под названием `users`, за место пропусков следует ввести надпись \"current tariff\", что означает, что тариф еще действовал на момент прекращения пользования."
   ]
  },
  {
   "cell_type": "code",
   "execution_count": 17,
   "metadata": {},
   "outputs": [
    {
     "data": {
      "text/plain": [
       "0      current tariff\n",
       "1      current tariff\n",
       "2      current tariff\n",
       "3      current tariff\n",
       "4      current tariff\n",
       "            ...      \n",
       "495    current tariff\n",
       "496    current tariff\n",
       "497    current tariff\n",
       "498        2018-10-25\n",
       "499    current tariff\n",
       "Name: churn_date, Length: 500, dtype: object"
      ]
     },
     "execution_count": 17,
     "metadata": {},
     "output_type": "execute_result"
    }
   ],
   "source": [
    "# заполняем пропуски \n",
    "users['churn_date'] = users['churn_date'].fillna('current tariff')\n",
    "users['churn_date']"
   ]
  },
  {
   "cell_type": "markdown",
   "metadata": {},
   "source": [
    "Видим что пропуски заполнились нужным нам значением."
   ]
  },
  {
   "cell_type": "markdown",
   "metadata": {},
   "source": [
    "### Проверим наши файлы на дубликаты."
   ]
  },
  {
   "cell_type": "code",
   "execution_count": 18,
   "metadata": {},
   "outputs": [
    {
     "data": {
      "text/plain": [
       "0"
      ]
     },
     "execution_count": 18,
     "metadata": {},
     "output_type": "execute_result"
    }
   ],
   "source": [
    "# проверка на дубликаты \n",
    "calls.duplicated().sum()"
   ]
  },
  {
   "cell_type": "code",
   "execution_count": 19,
   "metadata": {},
   "outputs": [
    {
     "data": {
      "text/plain": [
       "0"
      ]
     },
     "execution_count": 19,
     "metadata": {},
     "output_type": "execute_result"
    }
   ],
   "source": [
    "# проверка на дубликаты \n",
    "internet.duplicated().sum()"
   ]
  },
  {
   "cell_type": "code",
   "execution_count": 20,
   "metadata": {},
   "outputs": [
    {
     "data": {
      "text/plain": [
       "0"
      ]
     },
     "execution_count": 20,
     "metadata": {},
     "output_type": "execute_result"
    }
   ],
   "source": [
    "# проверка на дубликаты \n",
    "messages.duplicated().sum()"
   ]
  },
  {
   "cell_type": "code",
   "execution_count": 21,
   "metadata": {},
   "outputs": [
    {
     "data": {
      "text/plain": [
       "0"
      ]
     },
     "execution_count": 21,
     "metadata": {},
     "output_type": "execute_result"
    }
   ],
   "source": [
    "# проверка на дубликаты \n",
    "tariffs.duplicated().sum()"
   ]
  },
  {
   "cell_type": "code",
   "execution_count": 22,
   "metadata": {},
   "outputs": [
    {
     "data": {
      "text/plain": [
       "0"
      ]
     },
     "execution_count": 22,
     "metadata": {},
     "output_type": "execute_result"
    }
   ],
   "source": [
    "# проверка на дубликаты \n",
    "users.duplicated().sum()"
   ]
  },
  {
   "cell_type": "markdown",
   "metadata": {},
   "source": [
    "Отлично, строк дубликатов не обнаружено!"
   ]
  },
  {
   "cell_type": "code",
   "execution_count": 23,
   "metadata": {},
   "outputs": [
    {
     "data": {
      "text/plain": [
       "1054723    1\n",
       "141550     1\n",
       "134594     1\n",
       "1243380    1\n",
       "1239286    1\n",
       "          ..\n",
       "1428207    1\n",
       "1391345    1\n",
       "1385202    1\n",
       "1381108    1\n",
       "1054717    1\n",
       "Name: id, Length: 202607, dtype: int64"
      ]
     },
     "metadata": {},
     "output_type": "display_data"
    },
    {
     "data": {
      "text/plain": [
       "2018-12-31    1435\n",
       "2018-12-29    1202\n",
       "2018-12-30    1192\n",
       "2018-12-22    1158\n",
       "2018-12-26    1149\n",
       "              ... \n",
       "2018-01-05      20\n",
       "2018-01-07      18\n",
       "2018-01-02       9\n",
       "2018-01-03       7\n",
       "2018-01-01       5\n",
       "Name: call_date, Length: 365, dtype: int64"
      ]
     },
     "metadata": {},
     "output_type": "display_data"
    },
    {
     "data": {
      "text/plain": [
       "0.00     39613\n",
       "5.50       142\n",
       "4.49       142\n",
       "6.15       141\n",
       "6.38       141\n",
       "         ...  \n",
       "26.32        1\n",
       "24.51        1\n",
       "27.24        1\n",
       "29.89        1\n",
       "27.43        1\n",
       "Name: duration, Length: 2871, dtype: int64"
      ]
     },
     "metadata": {},
     "output_type": "display_data"
    },
    {
     "data": {
      "text/plain": [
       "1377    1760\n",
       "1168    1692\n",
       "1375    1560\n",
       "1453    1440\n",
       "1196    1240\n",
       "        ... \n",
       "1397      33\n",
       "1442      28\n",
       "1373      24\n",
       "1016      20\n",
       "1257      14\n",
       "Name: user_id, Length: 492, dtype: int64"
      ]
     },
     "metadata": {},
     "output_type": "display_data"
    }
   ],
   "source": [
    "# создадим цикл, который переберет все столбцы в 1 файле\n",
    "for column_name in calls.columns:\n",
    "    display(calls[column_name].value_counts())"
   ]
  },
  {
   "cell_type": "code",
   "execution_count": 24,
   "metadata": {},
   "outputs": [
    {
     "data": {
      "text/plain": [
       "0        1\n",
       "88702    1\n",
       "58057    1\n",
       "64202    1\n",
       "62155    1\n",
       "        ..\n",
       "58678    1\n",
       "60727    1\n",
       "38200    1\n",
       "40249    1\n",
       "2047     1\n",
       "Name: Unnamed: 0, Length: 149396, dtype: int64"
      ]
     },
     "metadata": {},
     "output_type": "display_data"
    },
    {
     "data": {
      "text/plain": [
       "10245      1\n",
       "137878     1\n",
       "1002172    1\n",
       "1000125    1\n",
       "1006270    1\n",
       "          ..\n",
       "1226108    1\n",
       "1228157    1\n",
       "1484158    1\n",
       "1486207    1\n",
       "137656     1\n",
       "Name: id, Length: 149396, dtype: int64"
      ]
     },
     "metadata": {},
     "output_type": "display_data"
    },
    {
     "data": {
      "text/plain": [
       "0       19699\n",
       "332       231\n",
       "381       229\n",
       "376       222\n",
       "252       222\n",
       "        ...  \n",
       "1397        1\n",
       "1385        1\n",
       "1579        1\n",
       "1525        1\n",
       "1401        1\n",
       "Name: mb_used, Length: 1421, dtype: int64"
      ]
     },
     "metadata": {},
     "output_type": "display_data"
    },
    {
     "data": {
      "text/plain": [
       "2018-12-31    1057\n",
       "2018-12-30     903\n",
       "2018-12-25     859\n",
       "2018-12-26     844\n",
       "2018-12-22     834\n",
       "              ... \n",
       "2018-01-05      14\n",
       "2018-01-04       9\n",
       "2018-01-03       6\n",
       "2018-01-02       3\n",
       "2018-01-01       3\n",
       "Name: session_date, Length: 365, dtype: int64"
      ]
     },
     "metadata": {},
     "output_type": "display_data"
    },
    {
     "data": {
      "text/plain": [
       "1496    834\n",
       "1227    812\n",
       "1204    789\n",
       "1240    764\n",
       "1251    759\n",
       "       ... \n",
       "1151     35\n",
       "1467     27\n",
       "1343     26\n",
       "1192     22\n",
       "1399      8\n",
       "Name: user_id, Length: 497, dtype: int64"
      ]
     },
     "metadata": {},
     "output_type": "display_data"
    }
   ],
   "source": [
    "# создадим цикл, который переберет все столбцы в 2 файле\n",
    "for column_name in internet.columns:\n",
    "    display(internet[column_name].value_counts())"
   ]
  },
  {
   "cell_type": "code",
   "execution_count": 25,
   "metadata": {},
   "outputs": [
    {
     "data": {
      "text/plain": [
       "1056207    1\n",
       "1496335    1\n",
       "1344453    1\n",
       "1356739    1\n",
       "1096642    1\n",
       "          ..\n",
       "1344954    1\n",
       "1433381    1\n",
       "1375669    1\n",
       "1099186    1\n",
       "10235      1\n",
       "Name: id, Length: 123036, dtype: int64"
      ]
     },
     "metadata": {},
     "output_type": "display_data"
    },
    {
     "data": {
      "text/plain": [
       "2018-12-31    859\n",
       "2018-12-30    765\n",
       "2018-12-21    712\n",
       "2018-12-29    702\n",
       "2018-12-26    699\n",
       "             ... \n",
       "2018-01-07     12\n",
       "2018-01-05     10\n",
       "2018-01-02     10\n",
       "2018-01-04     10\n",
       "2018-01-03      4\n",
       "Name: message_date, Length: 364, dtype: int64"
      ]
     },
     "metadata": {},
     "output_type": "display_data"
    },
    {
     "data": {
      "text/plain": [
       "1277    1463\n",
       "1089    1408\n",
       "1231    1384\n",
       "1385    1380\n",
       "1356    1224\n",
       "        ... \n",
       "1111       6\n",
       "1279       5\n",
       "1074       3\n",
       "1159       2\n",
       "1141       1\n",
       "Name: user_id, Length: 426, dtype: int64"
      ]
     },
     "metadata": {},
     "output_type": "display_data"
    }
   ],
   "source": [
    "# создадим цикл, который переберет все столбцы в 3 файле\n",
    "for column_name in messages.columns:\n",
    "    display(messages[column_name].value_counts())"
   ]
  },
  {
   "cell_type": "code",
   "execution_count": 26,
   "metadata": {},
   "outputs": [
    {
     "data": {
      "text/plain": [
       "1000    1\n",
       "50      1\n",
       "Name: messages_included, dtype: int64"
      ]
     },
     "metadata": {},
     "output_type": "display_data"
    },
    {
     "data": {
      "text/plain": [
       "15360    1\n",
       "30720    1\n",
       "Name: mb_per_month_included, dtype: int64"
      ]
     },
     "metadata": {},
     "output_type": "display_data"
    },
    {
     "data": {
      "text/plain": [
       "500     1\n",
       "3000    1\n",
       "Name: minutes_included, dtype: int64"
      ]
     },
     "metadata": {},
     "output_type": "display_data"
    },
    {
     "data": {
      "text/plain": [
       "1950    1\n",
       "550     1\n",
       "Name: rub_monthly_fee, dtype: int64"
      ]
     },
     "metadata": {},
     "output_type": "display_data"
    },
    {
     "data": {
      "text/plain": [
       "200    1\n",
       "150    1\n",
       "Name: rub_per_gb, dtype: int64"
      ]
     },
     "metadata": {},
     "output_type": "display_data"
    },
    {
     "data": {
      "text/plain": [
       "1    1\n",
       "3    1\n",
       "Name: rub_per_message, dtype: int64"
      ]
     },
     "metadata": {},
     "output_type": "display_data"
    },
    {
     "data": {
      "text/plain": [
       "1    1\n",
       "3    1\n",
       "Name: rub_per_minute, dtype: int64"
      ]
     },
     "metadata": {},
     "output_type": "display_data"
    },
    {
     "data": {
      "text/plain": [
       "ultra    1\n",
       "smart    1\n",
       "Name: tariff, dtype: int64"
      ]
     },
     "metadata": {},
     "output_type": "display_data"
    }
   ],
   "source": [
    "# создадим цикл, который переберет все столбцы в 4 файле\n",
    "for column_name in tariffs.columns:\n",
    "    display(tariffs[column_name].value_counts())"
   ]
  },
  {
   "cell_type": "code",
   "execution_count": 27,
   "metadata": {},
   "outputs": [
    {
     "data": {
      "text/plain": [
       "1024    1\n",
       "1353    1\n",
       "1366    1\n",
       "1365    1\n",
       "1364    1\n",
       "       ..\n",
       "1185    1\n",
       "1184    1\n",
       "1183    1\n",
       "1182    1\n",
       "1023    1\n",
       "Name: user_id, Length: 500, dtype: int64"
      ]
     },
     "metadata": {},
     "output_type": "display_data"
    },
    {
     "data": {
      "text/plain": [
       "53    14\n",
       "42    14\n",
       "63    13\n",
       "64    13\n",
       "71    13\n",
       "21    12\n",
       "40    12\n",
       "73    12\n",
       "29    11\n",
       "39    11\n",
       "37    11\n",
       "47    11\n",
       "26    11\n",
       "41    10\n",
       "45    10\n",
       "58    10\n",
       "36    10\n",
       "70    10\n",
       "52    10\n",
       "65     9\n",
       "66     9\n",
       "56     9\n",
       "68     9\n",
       "20     9\n",
       "51     9\n",
       "50     9\n",
       "48     9\n",
       "30     9\n",
       "19     9\n",
       "24     9\n",
       "28     9\n",
       "27     9\n",
       "23     9\n",
       "62     8\n",
       "60     8\n",
       "55     8\n",
       "69     8\n",
       "44     8\n",
       "25     7\n",
       "31     7\n",
       "35     7\n",
       "67     7\n",
       "74     7\n",
       "43     7\n",
       "32     7\n",
       "46     7\n",
       "18     6\n",
       "59     6\n",
       "54     6\n",
       "75     6\n",
       "38     5\n",
       "34     5\n",
       "72     5\n",
       "33     5\n",
       "22     5\n",
       "57     4\n",
       "49     4\n",
       "61     3\n",
       "Name: age, dtype: int64"
      ]
     },
     "metadata": {},
     "output_type": "display_data"
    },
    {
     "data": {
      "text/plain": [
       "current tariff    462\n",
       "2018-12-21          2\n",
       "2018-10-03          2\n",
       "2018-10-14          2\n",
       "2018-12-09          2\n",
       "2018-12-03          2\n",
       "2018-11-13          1\n",
       "2018-11-27          1\n",
       "2018-08-31          1\n",
       "2018-09-02          1\n",
       "2018-12-16          1\n",
       "2018-12-14          1\n",
       "2018-10-05          1\n",
       "2018-11-22          1\n",
       "2018-12-18          1\n",
       "2018-12-23          1\n",
       "2018-12-25          1\n",
       "2018-11-30          1\n",
       "2018-12-11          1\n",
       "2018-11-16          1\n",
       "2018-09-27          1\n",
       "2018-10-27          1\n",
       "2018-12-20          1\n",
       "2018-11-07          1\n",
       "2018-12-24          1\n",
       "2018-10-28          1\n",
       "2018-09-26          1\n",
       "2018-10-04          1\n",
       "2018-12-30          1\n",
       "2018-11-26          1\n",
       "2018-08-17          1\n",
       "2018-12-26          1\n",
       "2018-10-25          1\n",
       "2018-11-21          1\n",
       "Name: churn_date, dtype: int64"
      ]
     },
     "metadata": {},
     "output_type": "display_data"
    },
    {
     "data": {
      "text/plain": [
       "Москва             99\n",
       "Санкт-Петербург    39\n",
       "Новосибирск        16\n",
       "Казань             14\n",
       "Омск               14\n",
       "                   ..\n",
       "Химки               1\n",
       "Архангельск         1\n",
       "Иваново             1\n",
       "Нижневартовск       1\n",
       "Подольск            1\n",
       "Name: city, Length: 76, dtype: int64"
      ]
     },
     "metadata": {},
     "output_type": "display_data"
    },
    {
     "data": {
      "text/plain": [
       "Радим       6\n",
       "Пётр        5\n",
       "Леонид      5\n",
       "Мариетта    4\n",
       "Лолита      4\n",
       "           ..\n",
       "Лукий       1\n",
       "Элла        1\n",
       "Тихон       1\n",
       "Трофим      1\n",
       "Эльвира     1\n",
       "Name: first_name, Length: 246, dtype: int64"
      ]
     },
     "metadata": {},
     "output_type": "display_data"
    },
    {
     "data": {
      "text/plain": [
       "Андреенко    5\n",
       "Аничкина     3\n",
       "Соловьев     3\n",
       "Анищенко     3\n",
       "Аркадьев     3\n",
       "            ..\n",
       "Рябов        1\n",
       "Костин       1\n",
       "Селезнева    1\n",
       "Алешкова     1\n",
       "Сазонова     1\n",
       "Name: last_name, Length: 419, dtype: int64"
      ]
     },
     "metadata": {},
     "output_type": "display_data"
    },
    {
     "data": {
      "text/plain": [
       "2018-05-28    8\n",
       "2018-04-03    5\n",
       "2018-01-04    5\n",
       "2018-11-16    5\n",
       "2018-10-05    5\n",
       "             ..\n",
       "2018-06-23    1\n",
       "2018-12-25    1\n",
       "2018-05-08    1\n",
       "2018-06-08    1\n",
       "2018-12-21    1\n",
       "Name: reg_date, Length: 270, dtype: int64"
      ]
     },
     "metadata": {},
     "output_type": "display_data"
    },
    {
     "data": {
      "text/plain": [
       "smart    351\n",
       "ultra    149\n",
       "Name: tariff, dtype: int64"
      ]
     },
     "metadata": {},
     "output_type": "display_data"
    }
   ],
   "source": [
    "# создадим цикл, который переберет все столбцы в 5 файле\n",
    "for column_name in users.columns:\n",
    "    display(users[column_name].value_counts())"
   ]
  },
  {
   "cell_type": "markdown",
   "metadata": {},
   "source": [
    "**Вывод:** В результате проверки наших файлов дубликаты не обнаружены."
   ]
  },
  {
   "cell_type": "markdown",
   "metadata": {},
   "source": [
    "### Проверка на аномалии и неточности."
   ]
  },
  {
   "cell_type": "code",
   "execution_count": 28,
   "metadata": {},
   "outputs": [
    {
     "data": {
      "text/html": [
       "<div>\n",
       "<style scoped>\n",
       "    .dataframe tbody tr th:only-of-type {\n",
       "        vertical-align: middle;\n",
       "    }\n",
       "\n",
       "    .dataframe tbody tr th {\n",
       "        vertical-align: top;\n",
       "    }\n",
       "\n",
       "    .dataframe thead th {\n",
       "        text-align: right;\n",
       "    }\n",
       "</style>\n",
       "<table border=\"1\" class=\"dataframe\">\n",
       "  <thead>\n",
       "    <tr style=\"text-align: right;\">\n",
       "      <th></th>\n",
       "      <th>id</th>\n",
       "      <th>duration</th>\n",
       "      <th>user_id</th>\n",
       "    </tr>\n",
       "  </thead>\n",
       "  <tbody>\n",
       "    <tr>\n",
       "      <th>count</th>\n",
       "      <td>2.026070e+05</td>\n",
       "      <td>202607.000000</td>\n",
       "      <td>202607.000000</td>\n",
       "    </tr>\n",
       "    <tr>\n",
       "      <th>mean</th>\n",
       "      <td>1.212254e+06</td>\n",
       "      <td>6.755887</td>\n",
       "      <td>1253.940619</td>\n",
       "    </tr>\n",
       "    <tr>\n",
       "      <th>std</th>\n",
       "      <td>1.725756e+06</td>\n",
       "      <td>5.843365</td>\n",
       "      <td>144.722751</td>\n",
       "    </tr>\n",
       "    <tr>\n",
       "      <th>min</th>\n",
       "      <td>1.000000e+04</td>\n",
       "      <td>0.000000</td>\n",
       "      <td>1000.000000</td>\n",
       "    </tr>\n",
       "    <tr>\n",
       "      <th>25%</th>\n",
       "      <td>1.012286e+06</td>\n",
       "      <td>1.300000</td>\n",
       "      <td>1126.000000</td>\n",
       "    </tr>\n",
       "    <tr>\n",
       "      <th>50%</th>\n",
       "      <td>1.179376e+06</td>\n",
       "      <td>6.000000</td>\n",
       "      <td>1260.000000</td>\n",
       "    </tr>\n",
       "    <tr>\n",
       "      <th>75%</th>\n",
       "      <td>1.358126e+06</td>\n",
       "      <td>10.700000</td>\n",
       "      <td>1379.000000</td>\n",
       "    </tr>\n",
       "    <tr>\n",
       "      <th>max</th>\n",
       "      <td>1.458115e+07</td>\n",
       "      <td>38.000000</td>\n",
       "      <td>1499.000000</td>\n",
       "    </tr>\n",
       "  </tbody>\n",
       "</table>\n",
       "</div>"
      ],
      "text/plain": [
       "                 id       duration        user_id\n",
       "count  2.026070e+05  202607.000000  202607.000000\n",
       "mean   1.212254e+06       6.755887    1253.940619\n",
       "std    1.725756e+06       5.843365     144.722751\n",
       "min    1.000000e+04       0.000000    1000.000000\n",
       "25%    1.012286e+06       1.300000    1126.000000\n",
       "50%    1.179376e+06       6.000000    1260.000000\n",
       "75%    1.358126e+06      10.700000    1379.000000\n",
       "max    1.458115e+07      38.000000    1499.000000"
      ]
     },
     "execution_count": 28,
     "metadata": {},
     "output_type": "execute_result"
    }
   ],
   "source": [
    "# проверка 1 файла на ошибки\n",
    "calls.describe()"
   ]
  },
  {
   "cell_type": "code",
   "execution_count": 29,
   "metadata": {},
   "outputs": [
    {
     "data": {
      "text/html": [
       "<div>\n",
       "<style scoped>\n",
       "    .dataframe tbody tr th:only-of-type {\n",
       "        vertical-align: middle;\n",
       "    }\n",
       "\n",
       "    .dataframe tbody tr th {\n",
       "        vertical-align: top;\n",
       "    }\n",
       "\n",
       "    .dataframe thead th {\n",
       "        text-align: right;\n",
       "    }\n",
       "</style>\n",
       "<table border=\"1\" class=\"dataframe\">\n",
       "  <thead>\n",
       "    <tr style=\"text-align: right;\">\n",
       "      <th></th>\n",
       "      <th>Unnamed: 0</th>\n",
       "      <th>id</th>\n",
       "      <th>mb_used</th>\n",
       "      <th>user_id</th>\n",
       "    </tr>\n",
       "  </thead>\n",
       "  <tbody>\n",
       "    <tr>\n",
       "      <th>count</th>\n",
       "      <td>149396.000000</td>\n",
       "      <td>1.493960e+05</td>\n",
       "      <td>149396.000000</td>\n",
       "      <td>149396.000000</td>\n",
       "    </tr>\n",
       "    <tr>\n",
       "      <th>mean</th>\n",
       "      <td>74697.500000</td>\n",
       "      <td>8.968475e+05</td>\n",
       "      <td>369.762223</td>\n",
       "      <td>1252.099842</td>\n",
       "    </tr>\n",
       "    <tr>\n",
       "      <th>std</th>\n",
       "      <td>43127.054745</td>\n",
       "      <td>5.419758e+05</td>\n",
       "      <td>278.214201</td>\n",
       "      <td>144.050823</td>\n",
       "    </tr>\n",
       "    <tr>\n",
       "      <th>min</th>\n",
       "      <td>0.000000</td>\n",
       "      <td>1.000000e+04</td>\n",
       "      <td>0.000000</td>\n",
       "      <td>1000.000000</td>\n",
       "    </tr>\n",
       "    <tr>\n",
       "      <th>25%</th>\n",
       "      <td>37348.750000</td>\n",
       "      <td>1.389878e+05</td>\n",
       "      <td>138.000000</td>\n",
       "      <td>1130.000000</td>\n",
       "    </tr>\n",
       "    <tr>\n",
       "      <th>50%</th>\n",
       "      <td>74697.500000</td>\n",
       "      <td>1.145212e+06</td>\n",
       "      <td>348.000000</td>\n",
       "      <td>1251.000000</td>\n",
       "    </tr>\n",
       "    <tr>\n",
       "      <th>75%</th>\n",
       "      <td>112046.250000</td>\n",
       "      <td>1.321559e+06</td>\n",
       "      <td>559.000000</td>\n",
       "      <td>1380.000000</td>\n",
       "    </tr>\n",
       "    <tr>\n",
       "      <th>max</th>\n",
       "      <td>149395.000000</td>\n",
       "      <td>1.499156e+06</td>\n",
       "      <td>1724.000000</td>\n",
       "      <td>1499.000000</td>\n",
       "    </tr>\n",
       "  </tbody>\n",
       "</table>\n",
       "</div>"
      ],
      "text/plain": [
       "          Unnamed: 0            id        mb_used        user_id\n",
       "count  149396.000000  1.493960e+05  149396.000000  149396.000000\n",
       "mean    74697.500000  8.968475e+05     369.762223    1252.099842\n",
       "std     43127.054745  5.419758e+05     278.214201     144.050823\n",
       "min         0.000000  1.000000e+04       0.000000    1000.000000\n",
       "25%     37348.750000  1.389878e+05     138.000000    1130.000000\n",
       "50%     74697.500000  1.145212e+06     348.000000    1251.000000\n",
       "75%    112046.250000  1.321559e+06     559.000000    1380.000000\n",
       "max    149395.000000  1.499156e+06    1724.000000    1499.000000"
      ]
     },
     "execution_count": 29,
     "metadata": {},
     "output_type": "execute_result"
    }
   ],
   "source": [
    "# проверка 2 файла на ошибки\n",
    "internet.describe()"
   ]
  },
  {
   "cell_type": "code",
   "execution_count": 30,
   "metadata": {},
   "outputs": [
    {
     "data": {
      "text/html": [
       "<div>\n",
       "<style scoped>\n",
       "    .dataframe tbody tr th:only-of-type {\n",
       "        vertical-align: middle;\n",
       "    }\n",
       "\n",
       "    .dataframe tbody tr th {\n",
       "        vertical-align: top;\n",
       "    }\n",
       "\n",
       "    .dataframe thead th {\n",
       "        text-align: right;\n",
       "    }\n",
       "</style>\n",
       "<table border=\"1\" class=\"dataframe\">\n",
       "  <thead>\n",
       "    <tr style=\"text-align: right;\">\n",
       "      <th></th>\n",
       "      <th>Unnamed: 0</th>\n",
       "      <th>id</th>\n",
       "      <th>mb_used</th>\n",
       "      <th>session_date</th>\n",
       "      <th>user_id</th>\n",
       "    </tr>\n",
       "  </thead>\n",
       "  <tbody>\n",
       "    <tr>\n",
       "      <th>0</th>\n",
       "      <td>0</td>\n",
       "      <td>10000</td>\n",
       "      <td>112</td>\n",
       "      <td>2018-11-25</td>\n",
       "      <td>1000</td>\n",
       "    </tr>\n",
       "    <tr>\n",
       "      <th>1</th>\n",
       "      <td>1</td>\n",
       "      <td>10001</td>\n",
       "      <td>1052</td>\n",
       "      <td>2018-09-07</td>\n",
       "      <td>1000</td>\n",
       "    </tr>\n",
       "    <tr>\n",
       "      <th>2</th>\n",
       "      <td>2</td>\n",
       "      <td>10002</td>\n",
       "      <td>1197</td>\n",
       "      <td>2018-06-25</td>\n",
       "      <td>1000</td>\n",
       "    </tr>\n",
       "    <tr>\n",
       "      <th>3</th>\n",
       "      <td>3</td>\n",
       "      <td>10003</td>\n",
       "      <td>550</td>\n",
       "      <td>2018-08-22</td>\n",
       "      <td>1000</td>\n",
       "    </tr>\n",
       "    <tr>\n",
       "      <th>4</th>\n",
       "      <td>4</td>\n",
       "      <td>10004</td>\n",
       "      <td>302</td>\n",
       "      <td>2018-09-24</td>\n",
       "      <td>1000</td>\n",
       "    </tr>\n",
       "    <tr>\n",
       "      <th>...</th>\n",
       "      <td>...</td>\n",
       "      <td>...</td>\n",
       "      <td>...</td>\n",
       "      <td>...</td>\n",
       "      <td>...</td>\n",
       "    </tr>\n",
       "    <tr>\n",
       "      <th>149391</th>\n",
       "      <td>149391</td>\n",
       "      <td>1499152</td>\n",
       "      <td>318</td>\n",
       "      <td>2018-10-03</td>\n",
       "      <td>1499</td>\n",
       "    </tr>\n",
       "    <tr>\n",
       "      <th>149392</th>\n",
       "      <td>149392</td>\n",
       "      <td>1499153</td>\n",
       "      <td>490</td>\n",
       "      <td>2018-12-14</td>\n",
       "      <td>1499</td>\n",
       "    </tr>\n",
       "    <tr>\n",
       "      <th>149393</th>\n",
       "      <td>149393</td>\n",
       "      <td>1499154</td>\n",
       "      <td>0</td>\n",
       "      <td>2018-10-27</td>\n",
       "      <td>1499</td>\n",
       "    </tr>\n",
       "    <tr>\n",
       "      <th>149394</th>\n",
       "      <td>149394</td>\n",
       "      <td>1499155</td>\n",
       "      <td>1246</td>\n",
       "      <td>2018-11-26</td>\n",
       "      <td>1499</td>\n",
       "    </tr>\n",
       "    <tr>\n",
       "      <th>149395</th>\n",
       "      <td>149395</td>\n",
       "      <td>1499156</td>\n",
       "      <td>544</td>\n",
       "      <td>2018-10-26</td>\n",
       "      <td>1499</td>\n",
       "    </tr>\n",
       "  </tbody>\n",
       "</table>\n",
       "<p>149396 rows × 5 columns</p>\n",
       "</div>"
      ],
      "text/plain": [
       "        Unnamed: 0       id  mb_used session_date  user_id\n",
       "0                0    10000      112   2018-11-25     1000\n",
       "1                1    10001     1052   2018-09-07     1000\n",
       "2                2    10002     1197   2018-06-25     1000\n",
       "3                3    10003      550   2018-08-22     1000\n",
       "4                4    10004      302   2018-09-24     1000\n",
       "...            ...      ...      ...          ...      ...\n",
       "149391      149391  1499152      318   2018-10-03     1499\n",
       "149392      149392  1499153      490   2018-12-14     1499\n",
       "149393      149393  1499154        0   2018-10-27     1499\n",
       "149394      149394  1499155     1246   2018-11-26     1499\n",
       "149395      149395  1499156      544   2018-10-26     1499\n",
       "\n",
       "[149396 rows x 5 columns]"
      ]
     },
     "execution_count": 30,
     "metadata": {},
     "output_type": "execute_result"
    }
   ],
   "source": [
    "internet"
   ]
  },
  {
   "cell_type": "code",
   "execution_count": 31,
   "metadata": {},
   "outputs": [
    {
     "data": {
      "text/html": [
       "<div>\n",
       "<style scoped>\n",
       "    .dataframe tbody tr th:only-of-type {\n",
       "        vertical-align: middle;\n",
       "    }\n",
       "\n",
       "    .dataframe tbody tr th {\n",
       "        vertical-align: top;\n",
       "    }\n",
       "\n",
       "    .dataframe thead th {\n",
       "        text-align: right;\n",
       "    }\n",
       "</style>\n",
       "<table border=\"1\" class=\"dataframe\">\n",
       "  <thead>\n",
       "    <tr style=\"text-align: right;\">\n",
       "      <th></th>\n",
       "      <th>id</th>\n",
       "      <th>user_id</th>\n",
       "    </tr>\n",
       "  </thead>\n",
       "  <tbody>\n",
       "    <tr>\n",
       "      <th>count</th>\n",
       "      <td>1.230360e+05</td>\n",
       "      <td>123036.000000</td>\n",
       "    </tr>\n",
       "    <tr>\n",
       "      <th>mean</th>\n",
       "      <td>1.144527e+06</td>\n",
       "      <td>1256.989410</td>\n",
       "    </tr>\n",
       "    <tr>\n",
       "      <th>std</th>\n",
       "      <td>1.717919e+06</td>\n",
       "      <td>143.523967</td>\n",
       "    </tr>\n",
       "    <tr>\n",
       "      <th>min</th>\n",
       "      <td>1.000000e+04</td>\n",
       "      <td>1000.000000</td>\n",
       "    </tr>\n",
       "    <tr>\n",
       "      <th>25%</th>\n",
       "      <td>1.418898e+05</td>\n",
       "      <td>1134.000000</td>\n",
       "    </tr>\n",
       "    <tr>\n",
       "      <th>50%</th>\n",
       "      <td>1.158504e+06</td>\n",
       "      <td>1271.000000</td>\n",
       "    </tr>\n",
       "    <tr>\n",
       "      <th>75%</th>\n",
       "      <td>1.343105e+06</td>\n",
       "      <td>1381.000000</td>\n",
       "    </tr>\n",
       "    <tr>\n",
       "      <th>max</th>\n",
       "      <td>1.433109e+07</td>\n",
       "      <td>1499.000000</td>\n",
       "    </tr>\n",
       "  </tbody>\n",
       "</table>\n",
       "</div>"
      ],
      "text/plain": [
       "                 id        user_id\n",
       "count  1.230360e+05  123036.000000\n",
       "mean   1.144527e+06    1256.989410\n",
       "std    1.717919e+06     143.523967\n",
       "min    1.000000e+04    1000.000000\n",
       "25%    1.418898e+05    1134.000000\n",
       "50%    1.158504e+06    1271.000000\n",
       "75%    1.343105e+06    1381.000000\n",
       "max    1.433109e+07    1499.000000"
      ]
     },
     "execution_count": 31,
     "metadata": {},
     "output_type": "execute_result"
    }
   ],
   "source": [
    "# проверка 3 файла на ошибки\n",
    "messages.describe()"
   ]
  },
  {
   "cell_type": "code",
   "execution_count": 32,
   "metadata": {},
   "outputs": [
    {
     "data": {
      "text/html": [
       "<div>\n",
       "<style scoped>\n",
       "    .dataframe tbody tr th:only-of-type {\n",
       "        vertical-align: middle;\n",
       "    }\n",
       "\n",
       "    .dataframe tbody tr th {\n",
       "        vertical-align: top;\n",
       "    }\n",
       "\n",
       "    .dataframe thead th {\n",
       "        text-align: right;\n",
       "    }\n",
       "</style>\n",
       "<table border=\"1\" class=\"dataframe\">\n",
       "  <thead>\n",
       "    <tr style=\"text-align: right;\">\n",
       "      <th></th>\n",
       "      <th>messages_included</th>\n",
       "      <th>mb_per_month_included</th>\n",
       "      <th>minutes_included</th>\n",
       "      <th>rub_monthly_fee</th>\n",
       "      <th>rub_per_gb</th>\n",
       "      <th>rub_per_message</th>\n",
       "      <th>rub_per_minute</th>\n",
       "    </tr>\n",
       "  </thead>\n",
       "  <tbody>\n",
       "    <tr>\n",
       "      <th>count</th>\n",
       "      <td>2.000000</td>\n",
       "      <td>2.000000</td>\n",
       "      <td>2.000000</td>\n",
       "      <td>2.000000</td>\n",
       "      <td>2.000000</td>\n",
       "      <td>2.000000</td>\n",
       "      <td>2.000000</td>\n",
       "    </tr>\n",
       "    <tr>\n",
       "      <th>mean</th>\n",
       "      <td>525.000000</td>\n",
       "      <td>23040.000000</td>\n",
       "      <td>1750.000000</td>\n",
       "      <td>1250.000000</td>\n",
       "      <td>175.000000</td>\n",
       "      <td>2.000000</td>\n",
       "      <td>2.000000</td>\n",
       "    </tr>\n",
       "    <tr>\n",
       "      <th>std</th>\n",
       "      <td>671.751442</td>\n",
       "      <td>10861.160159</td>\n",
       "      <td>1767.766953</td>\n",
       "      <td>989.949494</td>\n",
       "      <td>35.355339</td>\n",
       "      <td>1.414214</td>\n",
       "      <td>1.414214</td>\n",
       "    </tr>\n",
       "    <tr>\n",
       "      <th>min</th>\n",
       "      <td>50.000000</td>\n",
       "      <td>15360.000000</td>\n",
       "      <td>500.000000</td>\n",
       "      <td>550.000000</td>\n",
       "      <td>150.000000</td>\n",
       "      <td>1.000000</td>\n",
       "      <td>1.000000</td>\n",
       "    </tr>\n",
       "    <tr>\n",
       "      <th>25%</th>\n",
       "      <td>287.500000</td>\n",
       "      <td>19200.000000</td>\n",
       "      <td>1125.000000</td>\n",
       "      <td>900.000000</td>\n",
       "      <td>162.500000</td>\n",
       "      <td>1.500000</td>\n",
       "      <td>1.500000</td>\n",
       "    </tr>\n",
       "    <tr>\n",
       "      <th>50%</th>\n",
       "      <td>525.000000</td>\n",
       "      <td>23040.000000</td>\n",
       "      <td>1750.000000</td>\n",
       "      <td>1250.000000</td>\n",
       "      <td>175.000000</td>\n",
       "      <td>2.000000</td>\n",
       "      <td>2.000000</td>\n",
       "    </tr>\n",
       "    <tr>\n",
       "      <th>75%</th>\n",
       "      <td>762.500000</td>\n",
       "      <td>26880.000000</td>\n",
       "      <td>2375.000000</td>\n",
       "      <td>1600.000000</td>\n",
       "      <td>187.500000</td>\n",
       "      <td>2.500000</td>\n",
       "      <td>2.500000</td>\n",
       "    </tr>\n",
       "    <tr>\n",
       "      <th>max</th>\n",
       "      <td>1000.000000</td>\n",
       "      <td>30720.000000</td>\n",
       "      <td>3000.000000</td>\n",
       "      <td>1950.000000</td>\n",
       "      <td>200.000000</td>\n",
       "      <td>3.000000</td>\n",
       "      <td>3.000000</td>\n",
       "    </tr>\n",
       "  </tbody>\n",
       "</table>\n",
       "</div>"
      ],
      "text/plain": [
       "       messages_included  mb_per_month_included  minutes_included  \\\n",
       "count           2.000000               2.000000          2.000000   \n",
       "mean          525.000000           23040.000000       1750.000000   \n",
       "std           671.751442           10861.160159       1767.766953   \n",
       "min            50.000000           15360.000000        500.000000   \n",
       "25%           287.500000           19200.000000       1125.000000   \n",
       "50%           525.000000           23040.000000       1750.000000   \n",
       "75%           762.500000           26880.000000       2375.000000   \n",
       "max          1000.000000           30720.000000       3000.000000   \n",
       "\n",
       "       rub_monthly_fee  rub_per_gb  rub_per_message  rub_per_minute  \n",
       "count         2.000000    2.000000         2.000000        2.000000  \n",
       "mean       1250.000000  175.000000         2.000000        2.000000  \n",
       "std         989.949494   35.355339         1.414214        1.414214  \n",
       "min         550.000000  150.000000         1.000000        1.000000  \n",
       "25%         900.000000  162.500000         1.500000        1.500000  \n",
       "50%        1250.000000  175.000000         2.000000        2.000000  \n",
       "75%        1600.000000  187.500000         2.500000        2.500000  \n",
       "max        1950.000000  200.000000         3.000000        3.000000  "
      ]
     },
     "execution_count": 32,
     "metadata": {},
     "output_type": "execute_result"
    }
   ],
   "source": [
    "# проверка 4 файла на ошибки\n",
    "tariffs.describe()"
   ]
  },
  {
   "cell_type": "code",
   "execution_count": 33,
   "metadata": {},
   "outputs": [
    {
     "data": {
      "text/html": [
       "<div>\n",
       "<style scoped>\n",
       "    .dataframe tbody tr th:only-of-type {\n",
       "        vertical-align: middle;\n",
       "    }\n",
       "\n",
       "    .dataframe tbody tr th {\n",
       "        vertical-align: top;\n",
       "    }\n",
       "\n",
       "    .dataframe thead th {\n",
       "        text-align: right;\n",
       "    }\n",
       "</style>\n",
       "<table border=\"1\" class=\"dataframe\">\n",
       "  <thead>\n",
       "    <tr style=\"text-align: right;\">\n",
       "      <th></th>\n",
       "      <th>user_id</th>\n",
       "      <th>age</th>\n",
       "    </tr>\n",
       "  </thead>\n",
       "  <tbody>\n",
       "    <tr>\n",
       "      <th>count</th>\n",
       "      <td>500.000000</td>\n",
       "      <td>500.00000</td>\n",
       "    </tr>\n",
       "    <tr>\n",
       "      <th>mean</th>\n",
       "      <td>1249.500000</td>\n",
       "      <td>46.58800</td>\n",
       "    </tr>\n",
       "    <tr>\n",
       "      <th>std</th>\n",
       "      <td>144.481833</td>\n",
       "      <td>16.66763</td>\n",
       "    </tr>\n",
       "    <tr>\n",
       "      <th>min</th>\n",
       "      <td>1000.000000</td>\n",
       "      <td>18.00000</td>\n",
       "    </tr>\n",
       "    <tr>\n",
       "      <th>25%</th>\n",
       "      <td>1124.750000</td>\n",
       "      <td>32.00000</td>\n",
       "    </tr>\n",
       "    <tr>\n",
       "      <th>50%</th>\n",
       "      <td>1249.500000</td>\n",
       "      <td>46.00000</td>\n",
       "    </tr>\n",
       "    <tr>\n",
       "      <th>75%</th>\n",
       "      <td>1374.250000</td>\n",
       "      <td>62.00000</td>\n",
       "    </tr>\n",
       "    <tr>\n",
       "      <th>max</th>\n",
       "      <td>1499.000000</td>\n",
       "      <td>75.00000</td>\n",
       "    </tr>\n",
       "  </tbody>\n",
       "</table>\n",
       "</div>"
      ],
      "text/plain": [
       "           user_id        age\n",
       "count   500.000000  500.00000\n",
       "mean   1249.500000   46.58800\n",
       "std     144.481833   16.66763\n",
       "min    1000.000000   18.00000\n",
       "25%    1124.750000   32.00000\n",
       "50%    1249.500000   46.00000\n",
       "75%    1374.250000   62.00000\n",
       "max    1499.000000   75.00000"
      ]
     },
     "execution_count": 33,
     "metadata": {},
     "output_type": "execute_result"
    }
   ],
   "source": [
    "# проверка 5 файла на ошибки\n",
    "users.describe()"
   ]
  },
  {
   "cell_type": "markdown",
   "metadata": {},
   "source": [
    "**Вывод:** Безумно странно, но никаких ошибок не было найдено, все значения в столбцах нормальные и не противоречат логике."
   ]
  },
  {
   "cell_type": "code",
   "execution_count": 34,
   "metadata": {},
   "outputs": [
    {
     "data": {
      "text/html": [
       "<div>\n",
       "<style scoped>\n",
       "    .dataframe tbody tr th:only-of-type {\n",
       "        vertical-align: middle;\n",
       "    }\n",
       "\n",
       "    .dataframe tbody tr th {\n",
       "        vertical-align: top;\n",
       "    }\n",
       "\n",
       "    .dataframe thead th {\n",
       "        text-align: right;\n",
       "    }\n",
       "</style>\n",
       "<table border=\"1\" class=\"dataframe\">\n",
       "  <thead>\n",
       "    <tr style=\"text-align: right;\">\n",
       "      <th></th>\n",
       "      <th>id</th>\n",
       "      <th>mb_used</th>\n",
       "      <th>session_date</th>\n",
       "      <th>user_id</th>\n",
       "    </tr>\n",
       "  </thead>\n",
       "  <tbody>\n",
       "    <tr>\n",
       "      <th>0</th>\n",
       "      <td>10000</td>\n",
       "      <td>112</td>\n",
       "      <td>2018-11-25</td>\n",
       "      <td>1000</td>\n",
       "    </tr>\n",
       "    <tr>\n",
       "      <th>1</th>\n",
       "      <td>10001</td>\n",
       "      <td>1052</td>\n",
       "      <td>2018-09-07</td>\n",
       "      <td>1000</td>\n",
       "    </tr>\n",
       "    <tr>\n",
       "      <th>2</th>\n",
       "      <td>10002</td>\n",
       "      <td>1197</td>\n",
       "      <td>2018-06-25</td>\n",
       "      <td>1000</td>\n",
       "    </tr>\n",
       "    <tr>\n",
       "      <th>3</th>\n",
       "      <td>10003</td>\n",
       "      <td>550</td>\n",
       "      <td>2018-08-22</td>\n",
       "      <td>1000</td>\n",
       "    </tr>\n",
       "    <tr>\n",
       "      <th>4</th>\n",
       "      <td>10004</td>\n",
       "      <td>302</td>\n",
       "      <td>2018-09-24</td>\n",
       "      <td>1000</td>\n",
       "    </tr>\n",
       "    <tr>\n",
       "      <th>...</th>\n",
       "      <td>...</td>\n",
       "      <td>...</td>\n",
       "      <td>...</td>\n",
       "      <td>...</td>\n",
       "    </tr>\n",
       "    <tr>\n",
       "      <th>149390</th>\n",
       "      <td>1499151</td>\n",
       "      <td>752</td>\n",
       "      <td>2018-10-11</td>\n",
       "      <td>1499</td>\n",
       "    </tr>\n",
       "    <tr>\n",
       "      <th>149391</th>\n",
       "      <td>1499152</td>\n",
       "      <td>318</td>\n",
       "      <td>2018-10-03</td>\n",
       "      <td>1499</td>\n",
       "    </tr>\n",
       "    <tr>\n",
       "      <th>149392</th>\n",
       "      <td>1499153</td>\n",
       "      <td>490</td>\n",
       "      <td>2018-12-14</td>\n",
       "      <td>1499</td>\n",
       "    </tr>\n",
       "    <tr>\n",
       "      <th>149394</th>\n",
       "      <td>1499155</td>\n",
       "      <td>1246</td>\n",
       "      <td>2018-11-26</td>\n",
       "      <td>1499</td>\n",
       "    </tr>\n",
       "    <tr>\n",
       "      <th>149395</th>\n",
       "      <td>1499156</td>\n",
       "      <td>544</td>\n",
       "      <td>2018-10-26</td>\n",
       "      <td>1499</td>\n",
       "    </tr>\n",
       "  </tbody>\n",
       "</table>\n",
       "<p>129697 rows × 4 columns</p>\n",
       "</div>"
      ],
      "text/plain": [
       "             id  mb_used session_date  user_id\n",
       "0         10000      112   2018-11-25     1000\n",
       "1         10001     1052   2018-09-07     1000\n",
       "2         10002     1197   2018-06-25     1000\n",
       "3         10003      550   2018-08-22     1000\n",
       "4         10004      302   2018-09-24     1000\n",
       "...         ...      ...          ...      ...\n",
       "149390  1499151      752   2018-10-11     1499\n",
       "149391  1499152      318   2018-10-03     1499\n",
       "149392  1499153      490   2018-12-14     1499\n",
       "149394  1499155     1246   2018-11-26     1499\n",
       "149395  1499156      544   2018-10-26     1499\n",
       "\n",
       "[129697 rows x 4 columns]"
      ]
     },
     "execution_count": 34,
     "metadata": {},
     "output_type": "execute_result"
    }
   ],
   "source": [
    "del internet['Unnamed: 0']\n",
    "internet = internet.query('mb_used != 0')\n",
    "internet.query('mb_used == 0')\n",
    "internet"
   ]
  },
  {
   "cell_type": "markdown",
   "metadata": {},
   "source": [
    "## Подготовка данных"
   ]
  },
  {
   "cell_type": "markdown",
   "metadata": {},
   "source": [
    "### Посчитаем для каждого пользователя количество сделанных звонков и израсходованных минут разговора по месяцам"
   ]
  },
  {
   "cell_type": "code",
   "execution_count": 35,
   "metadata": {},
   "outputs": [
    {
     "data": {
      "text/html": [
       "<div>\n",
       "<style scoped>\n",
       "    .dataframe tbody tr th:only-of-type {\n",
       "        vertical-align: middle;\n",
       "    }\n",
       "\n",
       "    .dataframe tbody tr th {\n",
       "        vertical-align: top;\n",
       "    }\n",
       "\n",
       "    .dataframe thead th {\n",
       "        text-align: right;\n",
       "    }\n",
       "</style>\n",
       "<table border=\"1\" class=\"dataframe\">\n",
       "  <thead>\n",
       "    <tr style=\"text-align: right;\">\n",
       "      <th></th>\n",
       "      <th>id</th>\n",
       "      <th>call_date</th>\n",
       "      <th>duration</th>\n",
       "      <th>user_id</th>\n",
       "      <th>month</th>\n",
       "    </tr>\n",
       "  </thead>\n",
       "  <tbody>\n",
       "    <tr>\n",
       "      <th>0</th>\n",
       "      <td>10000</td>\n",
       "      <td>2018-07-25</td>\n",
       "      <td>0.00</td>\n",
       "      <td>1000</td>\n",
       "      <td>7</td>\n",
       "    </tr>\n",
       "    <tr>\n",
       "      <th>1</th>\n",
       "      <td>10001</td>\n",
       "      <td>2018-08-17</td>\n",
       "      <td>0.00</td>\n",
       "      <td>1000</td>\n",
       "      <td>8</td>\n",
       "    </tr>\n",
       "    <tr>\n",
       "      <th>2</th>\n",
       "      <td>10002</td>\n",
       "      <td>2018-06-11</td>\n",
       "      <td>2.85</td>\n",
       "      <td>1000</td>\n",
       "      <td>6</td>\n",
       "    </tr>\n",
       "    <tr>\n",
       "      <th>3</th>\n",
       "      <td>10003</td>\n",
       "      <td>2018-09-21</td>\n",
       "      <td>13.80</td>\n",
       "      <td>1000</td>\n",
       "      <td>9</td>\n",
       "    </tr>\n",
       "    <tr>\n",
       "      <th>4</th>\n",
       "      <td>10004</td>\n",
       "      <td>2018-12-15</td>\n",
       "      <td>5.18</td>\n",
       "      <td>1000</td>\n",
       "      <td>12</td>\n",
       "    </tr>\n",
       "  </tbody>\n",
       "</table>\n",
       "</div>"
      ],
      "text/plain": [
       "      id  call_date  duration  user_id  month\n",
       "0  10000 2018-07-25      0.00     1000      7\n",
       "1  10001 2018-08-17      0.00     1000      8\n",
       "2  10002 2018-06-11      2.85     1000      6\n",
       "3  10003 2018-09-21     13.80     1000      9\n",
       "4  10004 2018-12-15      5.18     1000     12"
      ]
     },
     "execution_count": 35,
     "metadata": {},
     "output_type": "execute_result"
    }
   ],
   "source": [
    "# добавим в таблицу `calls` столбец под названием `month`\n",
    "calls['month'] = calls['call_date'].dt.month\n",
    "calls.head()"
   ]
  },
  {
   "cell_type": "markdown",
   "metadata": {},
   "source": [
    "<div class=\"alert alert-block alert-warning\">\n",
    " \n",
    "### Комментарий ревьюера\n",
    "    \n",
    "#### Совет\n",
    "    \n",
    "Тут все хорошо. В качестве альтернативы можно было просто оставить номер месяца вместо буквенного названия. \n",
    "</div>"
   ]
  },
  {
   "cell_type": "code",
   "execution_count": 36,
   "metadata": {},
   "outputs": [
    {
     "data": {
      "text/html": [
       "<div>\n",
       "<style scoped>\n",
       "    .dataframe tbody tr th:only-of-type {\n",
       "        vertical-align: middle;\n",
       "    }\n",
       "\n",
       "    .dataframe tbody tr th {\n",
       "        vertical-align: top;\n",
       "    }\n",
       "\n",
       "    .dataframe thead th {\n",
       "        text-align: right;\n",
       "    }\n",
       "</style>\n",
       "<table border=\"1\" class=\"dataframe\">\n",
       "  <thead>\n",
       "    <tr style=\"text-align: right;\">\n",
       "      <th></th>\n",
       "      <th>user_id</th>\n",
       "      <th>month</th>\n",
       "      <th>minutes_in_month</th>\n",
       "      <th>total_calls_in_month</th>\n",
       "    </tr>\n",
       "  </thead>\n",
       "  <tbody>\n",
       "    <tr>\n",
       "      <th>0</th>\n",
       "      <td>1000</td>\n",
       "      <td>5</td>\n",
       "      <td>150.06</td>\n",
       "      <td>22</td>\n",
       "    </tr>\n",
       "    <tr>\n",
       "      <th>1</th>\n",
       "      <td>1000</td>\n",
       "      <td>6</td>\n",
       "      <td>158.90</td>\n",
       "      <td>43</td>\n",
       "    </tr>\n",
       "    <tr>\n",
       "      <th>2</th>\n",
       "      <td>1000</td>\n",
       "      <td>7</td>\n",
       "      <td>318.80</td>\n",
       "      <td>47</td>\n",
       "    </tr>\n",
       "    <tr>\n",
       "      <th>3</th>\n",
       "      <td>1000</td>\n",
       "      <td>8</td>\n",
       "      <td>389.87</td>\n",
       "      <td>52</td>\n",
       "    </tr>\n",
       "    <tr>\n",
       "      <th>4</th>\n",
       "      <td>1000</td>\n",
       "      <td>9</td>\n",
       "      <td>440.14</td>\n",
       "      <td>58</td>\n",
       "    </tr>\n",
       "  </tbody>\n",
       "</table>\n",
       "</div>"
      ],
      "text/plain": [
       "   user_id  month  minutes_in_month  total_calls_in_month\n",
       "0     1000      5            150.06                    22\n",
       "1     1000      6            158.90                    43\n",
       "2     1000      7            318.80                    47\n",
       "3     1000      8            389.87                    52\n",
       "4     1000      9            440.14                    58"
      ]
     },
     "execution_count": 36,
     "metadata": {},
     "output_type": "execute_result"
    }
   ],
   "source": [
    "# создаем отдельную таблцу\n",
    "user_calls = calls.groupby(['user_id', 'month'])\\\n",
    "              .agg({'duration': 'sum', 'id': 'count'})\\\n",
    "              .reset_index()\\\n",
    "              .rename(columns = {'duration': 'minutes_in_month', 'id': 'total_calls_in_month'})\n",
    "user_calls.head()                        "
   ]
  },
  {
   "cell_type": "markdown",
   "metadata": {},
   "source": [
    "Отлично, была создана отдельная таблица для дальнейшего удобства в расчетах и выдвижения гипотез."
   ]
  },
  {
   "cell_type": "markdown",
   "metadata": {},
   "source": [
    "### Посчитаем для каждого пользователя количество отправленных сообщений по месяцам."
   ]
  },
  {
   "cell_type": "code",
   "execution_count": 37,
   "metadata": {},
   "outputs": [
    {
     "data": {
      "text/html": [
       "<div>\n",
       "<style scoped>\n",
       "    .dataframe tbody tr th:only-of-type {\n",
       "        vertical-align: middle;\n",
       "    }\n",
       "\n",
       "    .dataframe tbody tr th {\n",
       "        vertical-align: top;\n",
       "    }\n",
       "\n",
       "    .dataframe thead th {\n",
       "        text-align: right;\n",
       "    }\n",
       "</style>\n",
       "<table border=\"1\" class=\"dataframe\">\n",
       "  <thead>\n",
       "    <tr style=\"text-align: right;\">\n",
       "      <th></th>\n",
       "      <th>id</th>\n",
       "      <th>message_date</th>\n",
       "      <th>user_id</th>\n",
       "      <th>month</th>\n",
       "    </tr>\n",
       "  </thead>\n",
       "  <tbody>\n",
       "    <tr>\n",
       "      <th>0</th>\n",
       "      <td>10000</td>\n",
       "      <td>2018-06-27</td>\n",
       "      <td>1000</td>\n",
       "      <td>June</td>\n",
       "    </tr>\n",
       "    <tr>\n",
       "      <th>1</th>\n",
       "      <td>10001</td>\n",
       "      <td>2018-10-08</td>\n",
       "      <td>1000</td>\n",
       "      <td>October</td>\n",
       "    </tr>\n",
       "    <tr>\n",
       "      <th>2</th>\n",
       "      <td>10002</td>\n",
       "      <td>2018-08-04</td>\n",
       "      <td>1000</td>\n",
       "      <td>August</td>\n",
       "    </tr>\n",
       "    <tr>\n",
       "      <th>3</th>\n",
       "      <td>10003</td>\n",
       "      <td>2018-06-16</td>\n",
       "      <td>1000</td>\n",
       "      <td>June</td>\n",
       "    </tr>\n",
       "    <tr>\n",
       "      <th>4</th>\n",
       "      <td>10004</td>\n",
       "      <td>2018-12-05</td>\n",
       "      <td>1000</td>\n",
       "      <td>December</td>\n",
       "    </tr>\n",
       "  </tbody>\n",
       "</table>\n",
       "</div>"
      ],
      "text/plain": [
       "      id message_date  user_id     month\n",
       "0  10000   2018-06-27     1000      June\n",
       "1  10001   2018-10-08     1000   October\n",
       "2  10002   2018-08-04     1000    August\n",
       "3  10003   2018-06-16     1000      June\n",
       "4  10004   2018-12-05     1000  December"
      ]
     },
     "execution_count": 37,
     "metadata": {},
     "output_type": "execute_result"
    }
   ],
   "source": [
    "# добавим в таблицу `messages` столбец под названием `month`\n",
    "messages['month'] = messages['message_date'].dt.month_name()\n",
    "messages.head()"
   ]
  },
  {
   "cell_type": "code",
   "execution_count": 38,
   "metadata": {},
   "outputs": [
    {
     "data": {
      "text/html": [
       "<div>\n",
       "<style scoped>\n",
       "    .dataframe tbody tr th:only-of-type {\n",
       "        vertical-align: middle;\n",
       "    }\n",
       "\n",
       "    .dataframe tbody tr th {\n",
       "        vertical-align: top;\n",
       "    }\n",
       "\n",
       "    .dataframe thead th {\n",
       "        text-align: right;\n",
       "    }\n",
       "</style>\n",
       "<table border=\"1\" class=\"dataframe\">\n",
       "  <thead>\n",
       "    <tr style=\"text-align: right;\">\n",
       "      <th></th>\n",
       "      <th>user_id</th>\n",
       "      <th>month</th>\n",
       "      <th>sms_in_month</th>\n",
       "    </tr>\n",
       "  </thead>\n",
       "  <tbody>\n",
       "    <tr>\n",
       "      <th>0</th>\n",
       "      <td>1000</td>\n",
       "      <td>August</td>\n",
       "      <td>81</td>\n",
       "    </tr>\n",
       "    <tr>\n",
       "      <th>1</th>\n",
       "      <td>1000</td>\n",
       "      <td>December</td>\n",
       "      <td>70</td>\n",
       "    </tr>\n",
       "    <tr>\n",
       "      <th>2</th>\n",
       "      <td>1000</td>\n",
       "      <td>July</td>\n",
       "      <td>75</td>\n",
       "    </tr>\n",
       "    <tr>\n",
       "      <th>3</th>\n",
       "      <td>1000</td>\n",
       "      <td>June</td>\n",
       "      <td>60</td>\n",
       "    </tr>\n",
       "    <tr>\n",
       "      <th>4</th>\n",
       "      <td>1000</td>\n",
       "      <td>May</td>\n",
       "      <td>22</td>\n",
       "    </tr>\n",
       "  </tbody>\n",
       "</table>\n",
       "</div>"
      ],
      "text/plain": [
       "   user_id     month  sms_in_month\n",
       "0     1000    August            81\n",
       "1     1000  December            70\n",
       "2     1000      July            75\n",
       "3     1000      June            60\n",
       "4     1000       May            22"
      ]
     },
     "execution_count": 38,
     "metadata": {},
     "output_type": "execute_result"
    }
   ],
   "source": [
    "# создаем отдельную таблцу\n",
    "user_messages = messages.groupby(['user_id', 'month'])\\\n",
    "              .agg({'id': 'count'})\\\n",
    "              .reset_index()\\\n",
    "              .rename(columns = {'id': 'sms_in_month'})\n",
    "user_messages.head() "
   ]
  },
  {
   "cell_type": "markdown",
   "metadata": {},
   "source": [
    "Посчитали количество отправленных сообщений по месяцам для каждого пользователя."
   ]
  },
  {
   "cell_type": "markdown",
   "metadata": {},
   "source": [
    "### Посчитаем для каждого пользователя объем израсходованного интернет-трафика по месяцам."
   ]
  },
  {
   "cell_type": "code",
   "execution_count": 39,
   "metadata": {},
   "outputs": [
    {
     "name": "stderr",
     "output_type": "stream",
     "text": [
      "/tmp/ipykernel_53/3910113174.py:2: SettingWithCopyWarning: \n",
      "A value is trying to be set on a copy of a slice from a DataFrame.\n",
      "Try using .loc[row_indexer,col_indexer] = value instead\n",
      "\n",
      "See the caveats in the documentation: https://pandas.pydata.org/pandas-docs/stable/user_guide/indexing.html#returning-a-view-versus-a-copy\n",
      "  internet['month'] = internet['session_date'].dt.month_name()\n"
     ]
    },
    {
     "data": {
      "text/html": [
       "<div>\n",
       "<style scoped>\n",
       "    .dataframe tbody tr th:only-of-type {\n",
       "        vertical-align: middle;\n",
       "    }\n",
       "\n",
       "    .dataframe tbody tr th {\n",
       "        vertical-align: top;\n",
       "    }\n",
       "\n",
       "    .dataframe thead th {\n",
       "        text-align: right;\n",
       "    }\n",
       "</style>\n",
       "<table border=\"1\" class=\"dataframe\">\n",
       "  <thead>\n",
       "    <tr style=\"text-align: right;\">\n",
       "      <th></th>\n",
       "      <th>id</th>\n",
       "      <th>mb_used</th>\n",
       "      <th>session_date</th>\n",
       "      <th>user_id</th>\n",
       "      <th>month</th>\n",
       "    </tr>\n",
       "  </thead>\n",
       "  <tbody>\n",
       "    <tr>\n",
       "      <th>0</th>\n",
       "      <td>10000</td>\n",
       "      <td>112</td>\n",
       "      <td>2018-11-25</td>\n",
       "      <td>1000</td>\n",
       "      <td>November</td>\n",
       "    </tr>\n",
       "    <tr>\n",
       "      <th>1</th>\n",
       "      <td>10001</td>\n",
       "      <td>1052</td>\n",
       "      <td>2018-09-07</td>\n",
       "      <td>1000</td>\n",
       "      <td>September</td>\n",
       "    </tr>\n",
       "    <tr>\n",
       "      <th>2</th>\n",
       "      <td>10002</td>\n",
       "      <td>1197</td>\n",
       "      <td>2018-06-25</td>\n",
       "      <td>1000</td>\n",
       "      <td>June</td>\n",
       "    </tr>\n",
       "    <tr>\n",
       "      <th>3</th>\n",
       "      <td>10003</td>\n",
       "      <td>550</td>\n",
       "      <td>2018-08-22</td>\n",
       "      <td>1000</td>\n",
       "      <td>August</td>\n",
       "    </tr>\n",
       "    <tr>\n",
       "      <th>4</th>\n",
       "      <td>10004</td>\n",
       "      <td>302</td>\n",
       "      <td>2018-09-24</td>\n",
       "      <td>1000</td>\n",
       "      <td>September</td>\n",
       "    </tr>\n",
       "  </tbody>\n",
       "</table>\n",
       "</div>"
      ],
      "text/plain": [
       "      id  mb_used session_date  user_id      month\n",
       "0  10000      112   2018-11-25     1000   November\n",
       "1  10001     1052   2018-09-07     1000  September\n",
       "2  10002     1197   2018-06-25     1000       June\n",
       "3  10003      550   2018-08-22     1000     August\n",
       "4  10004      302   2018-09-24     1000  September"
      ]
     },
     "execution_count": 39,
     "metadata": {},
     "output_type": "execute_result"
    }
   ],
   "source": [
    "# добавим в таблицу `internet` столбец под названием `month`\n",
    "internet['month'] = internet['session_date'].dt.month_name()\n",
    "internet.head()"
   ]
  },
  {
   "cell_type": "code",
   "execution_count": 40,
   "metadata": {},
   "outputs": [
    {
     "data": {
      "text/html": [
       "<div>\n",
       "<style scoped>\n",
       "    .dataframe tbody tr th:only-of-type {\n",
       "        vertical-align: middle;\n",
       "    }\n",
       "\n",
       "    .dataframe tbody tr th {\n",
       "        vertical-align: top;\n",
       "    }\n",
       "\n",
       "    .dataframe thead th {\n",
       "        text-align: right;\n",
       "    }\n",
       "</style>\n",
       "<table border=\"1\" class=\"dataframe\">\n",
       "  <thead>\n",
       "    <tr style=\"text-align: right;\">\n",
       "      <th></th>\n",
       "      <th>user_id</th>\n",
       "      <th>month</th>\n",
       "      <th>traffic_in_month</th>\n",
       "    </tr>\n",
       "  </thead>\n",
       "  <tbody>\n",
       "    <tr>\n",
       "      <th>0</th>\n",
       "      <td>1000</td>\n",
       "      <td>August</td>\n",
       "      <td>14043</td>\n",
       "    </tr>\n",
       "    <tr>\n",
       "      <th>1</th>\n",
       "      <td>1000</td>\n",
       "      <td>December</td>\n",
       "      <td>9808</td>\n",
       "    </tr>\n",
       "    <tr>\n",
       "      <th>2</th>\n",
       "      <td>1000</td>\n",
       "      <td>July</td>\n",
       "      <td>13988</td>\n",
       "    </tr>\n",
       "    <tr>\n",
       "      <th>3</th>\n",
       "      <td>1000</td>\n",
       "      <td>June</td>\n",
       "      <td>23213</td>\n",
       "    </tr>\n",
       "    <tr>\n",
       "      <th>4</th>\n",
       "      <td>1000</td>\n",
       "      <td>May</td>\n",
       "      <td>2252</td>\n",
       "    </tr>\n",
       "  </tbody>\n",
       "</table>\n",
       "</div>"
      ],
      "text/plain": [
       "   user_id     month  traffic_in_month\n",
       "0     1000    August             14043\n",
       "1     1000  December              9808\n",
       "2     1000      July             13988\n",
       "3     1000      June             23213\n",
       "4     1000       May              2252"
      ]
     },
     "execution_count": 40,
     "metadata": {},
     "output_type": "execute_result"
    }
   ],
   "source": [
    "# создаем отдельную таблцу\n",
    "user_internet = internet.groupby(['user_id', 'month'])\\\n",
    "              .agg({'mb_used': 'sum'})\\\n",
    "              .reset_index()\\\n",
    "              .rename(columns = {'mb_used': 'traffic_in_month'})\n",
    "user_internet.head()"
   ]
  },
  {
   "cell_type": "markdown",
   "metadata": {},
   "source": [
    "Объем израсходанного интернет-трафика по месяцам расчитан."
   ]
  },
  {
   "cell_type": "markdown",
   "metadata": {},
   "source": [
    "### Посчитаем помесячную выручку с каждого пользователя."
   ]
  },
  {
   "cell_type": "code",
   "execution_count": 41,
   "metadata": {
    "scrolled": true
   },
   "outputs": [],
   "source": [
    "user_calls['month'] = user_calls['month'].astype('object')"
   ]
  },
  {
   "cell_type": "code",
   "execution_count": 42,
   "metadata": {},
   "outputs": [
    {
     "name": "stdout",
     "output_type": "stream",
     "text": [
      "<class 'pandas.core.frame.DataFrame'>\n",
      "RangeIndex: 3174 entries, 0 to 3173\n",
      "Data columns (total 4 columns):\n",
      " #   Column                Non-Null Count  Dtype  \n",
      "---  ------                --------------  -----  \n",
      " 0   user_id               3174 non-null   int64  \n",
      " 1   month                 3174 non-null   object \n",
      " 2   minutes_in_month      3174 non-null   float64\n",
      " 3   total_calls_in_month  3174 non-null   int64  \n",
      "dtypes: float64(1), int64(2), object(1)\n",
      "memory usage: 99.3+ KB\n"
     ]
    }
   ],
   "source": [
    "user_calls.info()"
   ]
  },
  {
   "cell_type": "code",
   "execution_count": 43,
   "metadata": {},
   "outputs": [
    {
     "data": {
      "text/html": [
       "<div>\n",
       "<style scoped>\n",
       "    .dataframe tbody tr th:only-of-type {\n",
       "        vertical-align: middle;\n",
       "    }\n",
       "\n",
       "    .dataframe tbody tr th {\n",
       "        vertical-align: top;\n",
       "    }\n",
       "\n",
       "    .dataframe thead th {\n",
       "        text-align: right;\n",
       "    }\n",
       "</style>\n",
       "<table border=\"1\" class=\"dataframe\">\n",
       "  <thead>\n",
       "    <tr style=\"text-align: right;\">\n",
       "      <th></th>\n",
       "      <th>user_id</th>\n",
       "      <th>month</th>\n",
       "      <th>minutes_in_month</th>\n",
       "      <th>total_calls_in_month</th>\n",
       "      <th>sms_in_month</th>\n",
       "    </tr>\n",
       "  </thead>\n",
       "  <tbody>\n",
       "    <tr>\n",
       "      <th>0</th>\n",
       "      <td>1000</td>\n",
       "      <td>5.0</td>\n",
       "      <td>150.06</td>\n",
       "      <td>22.0</td>\n",
       "      <td>NaN</td>\n",
       "    </tr>\n",
       "    <tr>\n",
       "      <th>1</th>\n",
       "      <td>1000</td>\n",
       "      <td>6.0</td>\n",
       "      <td>158.90</td>\n",
       "      <td>43.0</td>\n",
       "      <td>NaN</td>\n",
       "    </tr>\n",
       "    <tr>\n",
       "      <th>2</th>\n",
       "      <td>1000</td>\n",
       "      <td>7.0</td>\n",
       "      <td>318.80</td>\n",
       "      <td>47.0</td>\n",
       "      <td>NaN</td>\n",
       "    </tr>\n",
       "    <tr>\n",
       "      <th>3</th>\n",
       "      <td>1000</td>\n",
       "      <td>8.0</td>\n",
       "      <td>389.87</td>\n",
       "      <td>52.0</td>\n",
       "      <td>NaN</td>\n",
       "    </tr>\n",
       "    <tr>\n",
       "      <th>4</th>\n",
       "      <td>1000</td>\n",
       "      <td>9.0</td>\n",
       "      <td>440.14</td>\n",
       "      <td>58.0</td>\n",
       "      <td>NaN</td>\n",
       "    </tr>\n",
       "  </tbody>\n",
       "</table>\n",
       "</div>"
      ],
      "text/plain": [
       "   user_id month  minutes_in_month  total_calls_in_month  sms_in_month\n",
       "0     1000   5.0            150.06                  22.0           NaN\n",
       "1     1000   6.0            158.90                  43.0           NaN\n",
       "2     1000   7.0            318.80                  47.0           NaN\n",
       "3     1000   8.0            389.87                  52.0           NaN\n",
       "4     1000   9.0            440.14                  58.0           NaN"
      ]
     },
     "execution_count": 43,
     "metadata": {},
     "output_type": "execute_result"
    }
   ],
   "source": [
    "# склеим 3 наши таблицы в одну \n",
    "df = user_calls.merge(user_messages, on=['user_id', 'month'], how='outer')\n",
    "df.head()"
   ]
  },
  {
   "cell_type": "code",
   "execution_count": 44,
   "metadata": {},
   "outputs": [
    {
     "data": {
      "text/html": [
       "<div>\n",
       "<style scoped>\n",
       "    .dataframe tbody tr th:only-of-type {\n",
       "        vertical-align: middle;\n",
       "    }\n",
       "\n",
       "    .dataframe tbody tr th {\n",
       "        vertical-align: top;\n",
       "    }\n",
       "\n",
       "    .dataframe thead th {\n",
       "        text-align: right;\n",
       "    }\n",
       "</style>\n",
       "<table border=\"1\" class=\"dataframe\">\n",
       "  <thead>\n",
       "    <tr style=\"text-align: right;\">\n",
       "      <th></th>\n",
       "      <th>user_id</th>\n",
       "      <th>month</th>\n",
       "      <th>minutes_in_month</th>\n",
       "      <th>total_calls_in_month</th>\n",
       "      <th>sms_in_month</th>\n",
       "      <th>traffic_in_month</th>\n",
       "    </tr>\n",
       "  </thead>\n",
       "  <tbody>\n",
       "    <tr>\n",
       "      <th>6383</th>\n",
       "      <td>1494</td>\n",
       "      <td>August</td>\n",
       "      <td>NaN</td>\n",
       "      <td>NaN</td>\n",
       "      <td>NaN</td>\n",
       "      <td>6580.0</td>\n",
       "    </tr>\n",
       "    <tr>\n",
       "      <th>6384</th>\n",
       "      <td>1494</td>\n",
       "      <td>December</td>\n",
       "      <td>NaN</td>\n",
       "      <td>NaN</td>\n",
       "      <td>NaN</td>\n",
       "      <td>17601.0</td>\n",
       "    </tr>\n",
       "    <tr>\n",
       "      <th>6385</th>\n",
       "      <td>1494</td>\n",
       "      <td>November</td>\n",
       "      <td>NaN</td>\n",
       "      <td>NaN</td>\n",
       "      <td>NaN</td>\n",
       "      <td>18034.0</td>\n",
       "    </tr>\n",
       "    <tr>\n",
       "      <th>6386</th>\n",
       "      <td>1494</td>\n",
       "      <td>October</td>\n",
       "      <td>NaN</td>\n",
       "      <td>NaN</td>\n",
       "      <td>NaN</td>\n",
       "      <td>17741.0</td>\n",
       "    </tr>\n",
       "    <tr>\n",
       "      <th>6387</th>\n",
       "      <td>1494</td>\n",
       "      <td>September</td>\n",
       "      <td>NaN</td>\n",
       "      <td>NaN</td>\n",
       "      <td>NaN</td>\n",
       "      <td>16939.0</td>\n",
       "    </tr>\n",
       "  </tbody>\n",
       "</table>\n",
       "</div>"
      ],
      "text/plain": [
       "      user_id      month  minutes_in_month  total_calls_in_month  \\\n",
       "6383     1494     August               NaN                   NaN   \n",
       "6384     1494   December               NaN                   NaN   \n",
       "6385     1494   November               NaN                   NaN   \n",
       "6386     1494    October               NaN                   NaN   \n",
       "6387     1494  September               NaN                   NaN   \n",
       "\n",
       "      sms_in_month  traffic_in_month  \n",
       "6383           NaN            6580.0  \n",
       "6384           NaN           17601.0  \n",
       "6385           NaN           18034.0  \n",
       "6386           NaN           17741.0  \n",
       "6387           NaN           16939.0  "
      ]
     },
     "execution_count": 44,
     "metadata": {},
     "output_type": "execute_result"
    }
   ],
   "source": [
    "# добавим таблицу израсходованного интернет-трафика\n",
    "df = df.merge(user_internet, on=['user_id', 'month'], how='outer')\n",
    "df.tail()"
   ]
  },
  {
   "cell_type": "markdown",
   "metadata": {},
   "source": [
    "Требуется добавить тарифа в наборе, добавим его."
   ]
  },
  {
   "cell_type": "code",
   "execution_count": 45,
   "metadata": {},
   "outputs": [
    {
     "data": {
      "text/html": [
       "<div>\n",
       "<style scoped>\n",
       "    .dataframe tbody tr th:only-of-type {\n",
       "        vertical-align: middle;\n",
       "    }\n",
       "\n",
       "    .dataframe tbody tr th {\n",
       "        vertical-align: top;\n",
       "    }\n",
       "\n",
       "    .dataframe thead th {\n",
       "        text-align: right;\n",
       "    }\n",
       "</style>\n",
       "<table border=\"1\" class=\"dataframe\">\n",
       "  <thead>\n",
       "    <tr style=\"text-align: right;\">\n",
       "      <th></th>\n",
       "      <th>user_id</th>\n",
       "      <th>month</th>\n",
       "      <th>minutes_in_month</th>\n",
       "      <th>total_calls_in_month</th>\n",
       "      <th>sms_in_month</th>\n",
       "      <th>traffic_in_month</th>\n",
       "    </tr>\n",
       "  </thead>\n",
       "  <tbody>\n",
       "    <tr>\n",
       "      <th>0</th>\n",
       "      <td>1000</td>\n",
       "      <td>5.0</td>\n",
       "      <td>150.06</td>\n",
       "      <td>22.0</td>\n",
       "      <td>NaN</td>\n",
       "      <td>NaN</td>\n",
       "    </tr>\n",
       "    <tr>\n",
       "      <th>1</th>\n",
       "      <td>1000</td>\n",
       "      <td>6.0</td>\n",
       "      <td>158.90</td>\n",
       "      <td>43.0</td>\n",
       "      <td>NaN</td>\n",
       "      <td>NaN</td>\n",
       "    </tr>\n",
       "    <tr>\n",
       "      <th>2</th>\n",
       "      <td>1000</td>\n",
       "      <td>7.0</td>\n",
       "      <td>318.80</td>\n",
       "      <td>47.0</td>\n",
       "      <td>NaN</td>\n",
       "      <td>NaN</td>\n",
       "    </tr>\n",
       "    <tr>\n",
       "      <th>3</th>\n",
       "      <td>1000</td>\n",
       "      <td>8.0</td>\n",
       "      <td>389.87</td>\n",
       "      <td>52.0</td>\n",
       "      <td>NaN</td>\n",
       "      <td>NaN</td>\n",
       "    </tr>\n",
       "    <tr>\n",
       "      <th>4</th>\n",
       "      <td>1000</td>\n",
       "      <td>9.0</td>\n",
       "      <td>440.14</td>\n",
       "      <td>58.0</td>\n",
       "      <td>NaN</td>\n",
       "      <td>NaN</td>\n",
       "    </tr>\n",
       "  </tbody>\n",
       "</table>\n",
       "</div>"
      ],
      "text/plain": [
       "   user_id month  minutes_in_month  total_calls_in_month  sms_in_month  \\\n",
       "0     1000   5.0            150.06                  22.0           NaN   \n",
       "1     1000   6.0            158.90                  43.0           NaN   \n",
       "2     1000   7.0            318.80                  47.0           NaN   \n",
       "3     1000   8.0            389.87                  52.0           NaN   \n",
       "4     1000   9.0            440.14                  58.0           NaN   \n",
       "\n",
       "   traffic_in_month  \n",
       "0               NaN  \n",
       "1               NaN  \n",
       "2               NaN  \n",
       "3               NaN  \n",
       "4               NaN  "
      ]
     },
     "execution_count": 45,
     "metadata": {},
     "output_type": "execute_result"
    }
   ],
   "source": [
    "# смотрим получившуюся таблицу\n",
    "df.head()"
   ]
  },
  {
   "cell_type": "code",
   "execution_count": 46,
   "metadata": {},
   "outputs": [
    {
     "data": {
      "text/html": [
       "<div>\n",
       "<style scoped>\n",
       "    .dataframe tbody tr th:only-of-type {\n",
       "        vertical-align: middle;\n",
       "    }\n",
       "\n",
       "    .dataframe tbody tr th {\n",
       "        vertical-align: top;\n",
       "    }\n",
       "\n",
       "    .dataframe thead th {\n",
       "        text-align: right;\n",
       "    }\n",
       "</style>\n",
       "<table border=\"1\" class=\"dataframe\">\n",
       "  <thead>\n",
       "    <tr style=\"text-align: right;\">\n",
       "      <th></th>\n",
       "      <th>messages_included</th>\n",
       "      <th>mb_per_month_included</th>\n",
       "      <th>minutes_included</th>\n",
       "      <th>rub_monthly_fee</th>\n",
       "      <th>rub_per_gb</th>\n",
       "      <th>rub_per_message</th>\n",
       "      <th>rub_per_minute</th>\n",
       "      <th>tariff</th>\n",
       "    </tr>\n",
       "  </thead>\n",
       "  <tbody>\n",
       "    <tr>\n",
       "      <th>0</th>\n",
       "      <td>50</td>\n",
       "      <td>15360</td>\n",
       "      <td>500</td>\n",
       "      <td>550</td>\n",
       "      <td>200</td>\n",
       "      <td>3</td>\n",
       "      <td>3</td>\n",
       "      <td>smart</td>\n",
       "    </tr>\n",
       "    <tr>\n",
       "      <th>1</th>\n",
       "      <td>1000</td>\n",
       "      <td>30720</td>\n",
       "      <td>3000</td>\n",
       "      <td>1950</td>\n",
       "      <td>150</td>\n",
       "      <td>1</td>\n",
       "      <td>1</td>\n",
       "      <td>ultra</td>\n",
       "    </tr>\n",
       "  </tbody>\n",
       "</table>\n",
       "</div>"
      ],
      "text/plain": [
       "   messages_included  mb_per_month_included  minutes_included  \\\n",
       "0                 50                  15360               500   \n",
       "1               1000                  30720              3000   \n",
       "\n",
       "   rub_monthly_fee  rub_per_gb  rub_per_message  rub_per_minute tariff  \n",
       "0              550         200                3               3  smart  \n",
       "1             1950         150                1               1  ultra  "
      ]
     },
     "execution_count": 46,
     "metadata": {},
     "output_type": "execute_result"
    }
   ],
   "source": [
    "tariffs.head()"
   ]
  },
  {
   "cell_type": "code",
   "execution_count": 47,
   "metadata": {},
   "outputs": [
    {
     "data": {
      "text/html": [
       "<div>\n",
       "<style scoped>\n",
       "    .dataframe tbody tr th:only-of-type {\n",
       "        vertical-align: middle;\n",
       "    }\n",
       "\n",
       "    .dataframe tbody tr th {\n",
       "        vertical-align: top;\n",
       "    }\n",
       "\n",
       "    .dataframe thead th {\n",
       "        text-align: right;\n",
       "    }\n",
       "</style>\n",
       "<table border=\"1\" class=\"dataframe\">\n",
       "  <thead>\n",
       "    <tr style=\"text-align: right;\">\n",
       "      <th></th>\n",
       "      <th>user_id</th>\n",
       "      <th>age</th>\n",
       "      <th>churn_date</th>\n",
       "      <th>city</th>\n",
       "      <th>first_name</th>\n",
       "      <th>last_name</th>\n",
       "      <th>reg_date</th>\n",
       "      <th>tariff</th>\n",
       "    </tr>\n",
       "  </thead>\n",
       "  <tbody>\n",
       "    <tr>\n",
       "      <th>0</th>\n",
       "      <td>1000</td>\n",
       "      <td>52</td>\n",
       "      <td>current tariff</td>\n",
       "      <td>Краснодар</td>\n",
       "      <td>Рафаил</td>\n",
       "      <td>Верещагин</td>\n",
       "      <td>2018-05-25</td>\n",
       "      <td>ultra</td>\n",
       "    </tr>\n",
       "    <tr>\n",
       "      <th>1</th>\n",
       "      <td>1001</td>\n",
       "      <td>41</td>\n",
       "      <td>current tariff</td>\n",
       "      <td>Москва</td>\n",
       "      <td>Иван</td>\n",
       "      <td>Ежов</td>\n",
       "      <td>2018-11-01</td>\n",
       "      <td>smart</td>\n",
       "    </tr>\n",
       "    <tr>\n",
       "      <th>2</th>\n",
       "      <td>1002</td>\n",
       "      <td>59</td>\n",
       "      <td>current tariff</td>\n",
       "      <td>Стерлитамак</td>\n",
       "      <td>Евгений</td>\n",
       "      <td>Абрамович</td>\n",
       "      <td>2018-06-17</td>\n",
       "      <td>smart</td>\n",
       "    </tr>\n",
       "    <tr>\n",
       "      <th>3</th>\n",
       "      <td>1003</td>\n",
       "      <td>23</td>\n",
       "      <td>current tariff</td>\n",
       "      <td>Москва</td>\n",
       "      <td>Белла</td>\n",
       "      <td>Белякова</td>\n",
       "      <td>2018-08-17</td>\n",
       "      <td>ultra</td>\n",
       "    </tr>\n",
       "    <tr>\n",
       "      <th>4</th>\n",
       "      <td>1004</td>\n",
       "      <td>68</td>\n",
       "      <td>current tariff</td>\n",
       "      <td>Новокузнецк</td>\n",
       "      <td>Татьяна</td>\n",
       "      <td>Авдеенко</td>\n",
       "      <td>2018-05-14</td>\n",
       "      <td>ultra</td>\n",
       "    </tr>\n",
       "  </tbody>\n",
       "</table>\n",
       "</div>"
      ],
      "text/plain": [
       "   user_id  age      churn_date         city first_name  last_name   reg_date  \\\n",
       "0     1000   52  current tariff    Краснодар     Рафаил  Верещагин 2018-05-25   \n",
       "1     1001   41  current tariff       Москва       Иван       Ежов 2018-11-01   \n",
       "2     1002   59  current tariff  Стерлитамак    Евгений  Абрамович 2018-06-17   \n",
       "3     1003   23  current tariff       Москва      Белла   Белякова 2018-08-17   \n",
       "4     1004   68  current tariff  Новокузнецк    Татьяна   Авдеенко 2018-05-14   \n",
       "\n",
       "  tariff  \n",
       "0  ultra  \n",
       "1  smart  \n",
       "2  smart  \n",
       "3  ultra  \n",
       "4  ultra  "
      ]
     },
     "execution_count": 47,
     "metadata": {},
     "output_type": "execute_result"
    }
   ],
   "source": [
    "users.head()"
   ]
  },
  {
   "cell_type": "code",
   "execution_count": 48,
   "metadata": {},
   "outputs": [
    {
     "data": {
      "text/html": [
       "<div>\n",
       "<style scoped>\n",
       "    .dataframe tbody tr th:only-of-type {\n",
       "        vertical-align: middle;\n",
       "    }\n",
       "\n",
       "    .dataframe tbody tr th {\n",
       "        vertical-align: top;\n",
       "    }\n",
       "\n",
       "    .dataframe thead th {\n",
       "        text-align: right;\n",
       "    }\n",
       "</style>\n",
       "<table border=\"1\" class=\"dataframe\">\n",
       "  <thead>\n",
       "    <tr style=\"text-align: right;\">\n",
       "      <th></th>\n",
       "      <th>user_id</th>\n",
       "      <th>month</th>\n",
       "      <th>minutes_in_month</th>\n",
       "      <th>total_calls_in_month</th>\n",
       "      <th>sms_in_month</th>\n",
       "      <th>traffic_in_month</th>\n",
       "      <th>age</th>\n",
       "      <th>churn_date</th>\n",
       "      <th>city</th>\n",
       "      <th>first_name</th>\n",
       "      <th>last_name</th>\n",
       "      <th>reg_date</th>\n",
       "      <th>tariff</th>\n",
       "    </tr>\n",
       "  </thead>\n",
       "  <tbody>\n",
       "    <tr>\n",
       "      <th>0</th>\n",
       "      <td>1000</td>\n",
       "      <td>5.0</td>\n",
       "      <td>150.06</td>\n",
       "      <td>22.0</td>\n",
       "      <td>NaN</td>\n",
       "      <td>NaN</td>\n",
       "      <td>52</td>\n",
       "      <td>current tariff</td>\n",
       "      <td>Краснодар</td>\n",
       "      <td>Рафаил</td>\n",
       "      <td>Верещагин</td>\n",
       "      <td>2018-05-25</td>\n",
       "      <td>ultra</td>\n",
       "    </tr>\n",
       "    <tr>\n",
       "      <th>1</th>\n",
       "      <td>1000</td>\n",
       "      <td>6.0</td>\n",
       "      <td>158.90</td>\n",
       "      <td>43.0</td>\n",
       "      <td>NaN</td>\n",
       "      <td>NaN</td>\n",
       "      <td>52</td>\n",
       "      <td>current tariff</td>\n",
       "      <td>Краснодар</td>\n",
       "      <td>Рафаил</td>\n",
       "      <td>Верещагин</td>\n",
       "      <td>2018-05-25</td>\n",
       "      <td>ultra</td>\n",
       "    </tr>\n",
       "    <tr>\n",
       "      <th>2</th>\n",
       "      <td>1000</td>\n",
       "      <td>7.0</td>\n",
       "      <td>318.80</td>\n",
       "      <td>47.0</td>\n",
       "      <td>NaN</td>\n",
       "      <td>NaN</td>\n",
       "      <td>52</td>\n",
       "      <td>current tariff</td>\n",
       "      <td>Краснодар</td>\n",
       "      <td>Рафаил</td>\n",
       "      <td>Верещагин</td>\n",
       "      <td>2018-05-25</td>\n",
       "      <td>ultra</td>\n",
       "    </tr>\n",
       "    <tr>\n",
       "      <th>3</th>\n",
       "      <td>1000</td>\n",
       "      <td>8.0</td>\n",
       "      <td>389.87</td>\n",
       "      <td>52.0</td>\n",
       "      <td>NaN</td>\n",
       "      <td>NaN</td>\n",
       "      <td>52</td>\n",
       "      <td>current tariff</td>\n",
       "      <td>Краснодар</td>\n",
       "      <td>Рафаил</td>\n",
       "      <td>Верещагин</td>\n",
       "      <td>2018-05-25</td>\n",
       "      <td>ultra</td>\n",
       "    </tr>\n",
       "    <tr>\n",
       "      <th>4</th>\n",
       "      <td>1000</td>\n",
       "      <td>9.0</td>\n",
       "      <td>440.14</td>\n",
       "      <td>58.0</td>\n",
       "      <td>NaN</td>\n",
       "      <td>NaN</td>\n",
       "      <td>52</td>\n",
       "      <td>current tariff</td>\n",
       "      <td>Краснодар</td>\n",
       "      <td>Рафаил</td>\n",
       "      <td>Верещагин</td>\n",
       "      <td>2018-05-25</td>\n",
       "      <td>ultra</td>\n",
       "    </tr>\n",
       "  </tbody>\n",
       "</table>\n",
       "</div>"
      ],
      "text/plain": [
       "   user_id month  minutes_in_month  total_calls_in_month  sms_in_month  \\\n",
       "0     1000   5.0            150.06                  22.0           NaN   \n",
       "1     1000   6.0            158.90                  43.0           NaN   \n",
       "2     1000   7.0            318.80                  47.0           NaN   \n",
       "3     1000   8.0            389.87                  52.0           NaN   \n",
       "4     1000   9.0            440.14                  58.0           NaN   \n",
       "\n",
       "   traffic_in_month  age      churn_date       city first_name  last_name  \\\n",
       "0               NaN   52  current tariff  Краснодар     Рафаил  Верещагин   \n",
       "1               NaN   52  current tariff  Краснодар     Рафаил  Верещагин   \n",
       "2               NaN   52  current tariff  Краснодар     Рафаил  Верещагин   \n",
       "3               NaN   52  current tariff  Краснодар     Рафаил  Верещагин   \n",
       "4               NaN   52  current tariff  Краснодар     Рафаил  Верещагин   \n",
       "\n",
       "    reg_date tariff  \n",
       "0 2018-05-25  ultra  \n",
       "1 2018-05-25  ultra  \n",
       "2 2018-05-25  ultra  \n",
       "3 2018-05-25  ultra  \n",
       "4 2018-05-25  ultra  "
      ]
     },
     "execution_count": 48,
     "metadata": {},
     "output_type": "execute_result"
    }
   ],
   "source": [
    "# добавим к нашей таблице информацию о пользователе \n",
    "df = df.merge(users, on='user_id', how='left')\n",
    "df.head()"
   ]
  },
  {
   "cell_type": "code",
   "execution_count": 49,
   "metadata": {},
   "outputs": [
    {
     "data": {
      "text/html": [
       "<div>\n",
       "<style scoped>\n",
       "    .dataframe tbody tr th:only-of-type {\n",
       "        vertical-align: middle;\n",
       "    }\n",
       "\n",
       "    .dataframe tbody tr th {\n",
       "        vertical-align: top;\n",
       "    }\n",
       "\n",
       "    .dataframe thead th {\n",
       "        text-align: right;\n",
       "    }\n",
       "</style>\n",
       "<table border=\"1\" class=\"dataframe\">\n",
       "  <thead>\n",
       "    <tr style=\"text-align: right;\">\n",
       "      <th></th>\n",
       "      <th>user_id</th>\n",
       "      <th>month</th>\n",
       "      <th>minutes_in_month</th>\n",
       "      <th>total_calls_in_month</th>\n",
       "      <th>sms_in_month</th>\n",
       "      <th>traffic_in_month</th>\n",
       "      <th>age</th>\n",
       "      <th>churn_date</th>\n",
       "      <th>city</th>\n",
       "      <th>first_name</th>\n",
       "      <th>last_name</th>\n",
       "      <th>reg_date</th>\n",
       "      <th>tariff</th>\n",
       "      <th>messages_included</th>\n",
       "      <th>mb_per_month_included</th>\n",
       "      <th>minutes_included</th>\n",
       "      <th>rub_monthly_fee</th>\n",
       "      <th>rub_per_gb</th>\n",
       "      <th>rub_per_message</th>\n",
       "      <th>rub_per_minute</th>\n",
       "    </tr>\n",
       "  </thead>\n",
       "  <tbody>\n",
       "    <tr>\n",
       "      <th>0</th>\n",
       "      <td>1000</td>\n",
       "      <td>5.0</td>\n",
       "      <td>150.06</td>\n",
       "      <td>22.0</td>\n",
       "      <td>NaN</td>\n",
       "      <td>NaN</td>\n",
       "      <td>52</td>\n",
       "      <td>current tariff</td>\n",
       "      <td>Краснодар</td>\n",
       "      <td>Рафаил</td>\n",
       "      <td>Верещагин</td>\n",
       "      <td>2018-05-25</td>\n",
       "      <td>ultra</td>\n",
       "      <td>1000</td>\n",
       "      <td>30720</td>\n",
       "      <td>3000</td>\n",
       "      <td>1950</td>\n",
       "      <td>150</td>\n",
       "      <td>1</td>\n",
       "      <td>1</td>\n",
       "    </tr>\n",
       "    <tr>\n",
       "      <th>1</th>\n",
       "      <td>1000</td>\n",
       "      <td>6.0</td>\n",
       "      <td>158.90</td>\n",
       "      <td>43.0</td>\n",
       "      <td>NaN</td>\n",
       "      <td>NaN</td>\n",
       "      <td>52</td>\n",
       "      <td>current tariff</td>\n",
       "      <td>Краснодар</td>\n",
       "      <td>Рафаил</td>\n",
       "      <td>Верещагин</td>\n",
       "      <td>2018-05-25</td>\n",
       "      <td>ultra</td>\n",
       "      <td>1000</td>\n",
       "      <td>30720</td>\n",
       "      <td>3000</td>\n",
       "      <td>1950</td>\n",
       "      <td>150</td>\n",
       "      <td>1</td>\n",
       "      <td>1</td>\n",
       "    </tr>\n",
       "    <tr>\n",
       "      <th>2</th>\n",
       "      <td>1000</td>\n",
       "      <td>7.0</td>\n",
       "      <td>318.80</td>\n",
       "      <td>47.0</td>\n",
       "      <td>NaN</td>\n",
       "      <td>NaN</td>\n",
       "      <td>52</td>\n",
       "      <td>current tariff</td>\n",
       "      <td>Краснодар</td>\n",
       "      <td>Рафаил</td>\n",
       "      <td>Верещагин</td>\n",
       "      <td>2018-05-25</td>\n",
       "      <td>ultra</td>\n",
       "      <td>1000</td>\n",
       "      <td>30720</td>\n",
       "      <td>3000</td>\n",
       "      <td>1950</td>\n",
       "      <td>150</td>\n",
       "      <td>1</td>\n",
       "      <td>1</td>\n",
       "    </tr>\n",
       "    <tr>\n",
       "      <th>3</th>\n",
       "      <td>1000</td>\n",
       "      <td>8.0</td>\n",
       "      <td>389.87</td>\n",
       "      <td>52.0</td>\n",
       "      <td>NaN</td>\n",
       "      <td>NaN</td>\n",
       "      <td>52</td>\n",
       "      <td>current tariff</td>\n",
       "      <td>Краснодар</td>\n",
       "      <td>Рафаил</td>\n",
       "      <td>Верещагин</td>\n",
       "      <td>2018-05-25</td>\n",
       "      <td>ultra</td>\n",
       "      <td>1000</td>\n",
       "      <td>30720</td>\n",
       "      <td>3000</td>\n",
       "      <td>1950</td>\n",
       "      <td>150</td>\n",
       "      <td>1</td>\n",
       "      <td>1</td>\n",
       "    </tr>\n",
       "    <tr>\n",
       "      <th>4</th>\n",
       "      <td>1000</td>\n",
       "      <td>9.0</td>\n",
       "      <td>440.14</td>\n",
       "      <td>58.0</td>\n",
       "      <td>NaN</td>\n",
       "      <td>NaN</td>\n",
       "      <td>52</td>\n",
       "      <td>current tariff</td>\n",
       "      <td>Краснодар</td>\n",
       "      <td>Рафаил</td>\n",
       "      <td>Верещагин</td>\n",
       "      <td>2018-05-25</td>\n",
       "      <td>ultra</td>\n",
       "      <td>1000</td>\n",
       "      <td>30720</td>\n",
       "      <td>3000</td>\n",
       "      <td>1950</td>\n",
       "      <td>150</td>\n",
       "      <td>1</td>\n",
       "      <td>1</td>\n",
       "    </tr>\n",
       "  </tbody>\n",
       "</table>\n",
       "</div>"
      ],
      "text/plain": [
       "   user_id month  minutes_in_month  total_calls_in_month  sms_in_month  \\\n",
       "0     1000   5.0            150.06                  22.0           NaN   \n",
       "1     1000   6.0            158.90                  43.0           NaN   \n",
       "2     1000   7.0            318.80                  47.0           NaN   \n",
       "3     1000   8.0            389.87                  52.0           NaN   \n",
       "4     1000   9.0            440.14                  58.0           NaN   \n",
       "\n",
       "   traffic_in_month  age      churn_date       city first_name  last_name  \\\n",
       "0               NaN   52  current tariff  Краснодар     Рафаил  Верещагин   \n",
       "1               NaN   52  current tariff  Краснодар     Рафаил  Верещагин   \n",
       "2               NaN   52  current tariff  Краснодар     Рафаил  Верещагин   \n",
       "3               NaN   52  current tariff  Краснодар     Рафаил  Верещагин   \n",
       "4               NaN   52  current tariff  Краснодар     Рафаил  Верещагин   \n",
       "\n",
       "    reg_date tariff  messages_included  mb_per_month_included  \\\n",
       "0 2018-05-25  ultra               1000                  30720   \n",
       "1 2018-05-25  ultra               1000                  30720   \n",
       "2 2018-05-25  ultra               1000                  30720   \n",
       "3 2018-05-25  ultra               1000                  30720   \n",
       "4 2018-05-25  ultra               1000                  30720   \n",
       "\n",
       "   minutes_included  rub_monthly_fee  rub_per_gb  rub_per_message  \\\n",
       "0              3000             1950         150                1   \n",
       "1              3000             1950         150                1   \n",
       "2              3000             1950         150                1   \n",
       "3              3000             1950         150                1   \n",
       "4              3000             1950         150                1   \n",
       "\n",
       "   rub_per_minute  \n",
       "0               1  \n",
       "1               1  \n",
       "2               1  \n",
       "3               1  \n",
       "4               1  "
      ]
     },
     "execution_count": 49,
     "metadata": {},
     "output_type": "execute_result"
    }
   ],
   "source": [
    "# добавим информацию о тарифах \n",
    "df = df.merge(tariffs, on='tariff', how='left')\n",
    "df.head()"
   ]
  },
  {
   "cell_type": "code",
   "execution_count": 50,
   "metadata": {},
   "outputs": [
    {
     "data": {
      "text/plain": [
       "user_id                     0\n",
       "month                       0\n",
       "minutes_in_month         3214\n",
       "total_calls_in_month     3214\n",
       "sms_in_month             3671\n",
       "traffic_in_month         3187\n",
       "age                         0\n",
       "churn_date                  0\n",
       "city                        0\n",
       "first_name                  0\n",
       "last_name                   0\n",
       "reg_date                    0\n",
       "tariff                      0\n",
       "messages_included           0\n",
       "mb_per_month_included       0\n",
       "minutes_included            0\n",
       "rub_monthly_fee             0\n",
       "rub_per_gb                  0\n",
       "rub_per_message             0\n",
       "rub_per_minute              0\n",
       "dtype: int64"
      ]
     },
     "execution_count": 50,
     "metadata": {},
     "output_type": "execute_result"
    }
   ],
   "source": [
    "# проверим таблицу на пропуски\n",
    "df.isna().sum()"
   ]
  },
  {
   "cell_type": "code",
   "execution_count": 51,
   "metadata": {},
   "outputs": [],
   "source": [
    "# Поставим нули тем людям, которые не тратят интернет и не шлют смс\n",
    "df['minutes_in_month'] = df['minutes_in_month'].fillna(0)\n",
    "df['total_calls_in_month'] = df['total_calls_in_month'].fillna(0)\n",
    "df['sms_in_month'] = df['sms_in_month'].fillna(0)\n",
    "df['traffic_in_month'] = df['traffic_in_month'].fillna(0)"
   ]
  },
  {
   "cell_type": "code",
   "execution_count": 52,
   "metadata": {},
   "outputs": [
    {
     "data": {
      "text/plain": [
       "user_id                  0\n",
       "month                    0\n",
       "minutes_in_month         0\n",
       "total_calls_in_month     0\n",
       "sms_in_month             0\n",
       "traffic_in_month         0\n",
       "age                      0\n",
       "churn_date               0\n",
       "city                     0\n",
       "first_name               0\n",
       "last_name                0\n",
       "reg_date                 0\n",
       "tariff                   0\n",
       "messages_included        0\n",
       "mb_per_month_included    0\n",
       "minutes_included         0\n",
       "rub_monthly_fee          0\n",
       "rub_per_gb               0\n",
       "rub_per_message          0\n",
       "rub_per_minute           0\n",
       "dtype: int64"
      ]
     },
     "execution_count": 52,
     "metadata": {},
     "output_type": "execute_result"
    }
   ],
   "source": [
    "# проверка\n",
    "df.isna().sum()"
   ]
  },
  {
   "cell_type": "code",
   "execution_count": 53,
   "metadata": {},
   "outputs": [
    {
     "data": {
      "text/plain": [
       "0"
      ]
     },
     "execution_count": 53,
     "metadata": {},
     "output_type": "execute_result"
    }
   ],
   "source": [
    "# проверим таблицу на дубликаты\n",
    "df.duplicated().sum()"
   ]
  },
  {
   "cell_type": "markdown",
   "metadata": {},
   "source": [
    "Отлично, в данной таблице были заменены все пропуски и проверка показала отсутствие дубликатов. Создадим функция, для нахождения помесячной выручки."
   ]
  },
  {
   "cell_type": "code",
   "execution_count": 54,
   "metadata": {},
   "outputs": [],
   "source": [
    "# создадим функцию\n",
    "def above_the_tariff(row):\n",
    "    sms = (row['sms_in_month'] - row['messages_included']) * row['rub_per_message']\n",
    "    mins = (row['minutes_in_month'] - row['minutes_included']) * row['rub_per_minute']\n",
    "    mbs = (row['traffic_in_month'] - row['mb_per_month_included']) * row['rub_per_gb'] / 1024\n",
    "    total = 0\n",
    "    for i in [sms, mins, mbs]:\n",
    "        if i > 0:\n",
    "            total += i\n",
    "    return total"
   ]
  },
  {
   "cell_type": "code",
   "execution_count": 55,
   "metadata": {
    "scrolled": true
   },
   "outputs": [
    {
     "data": {
      "text/html": [
       "<div>\n",
       "<style scoped>\n",
       "    .dataframe tbody tr th:only-of-type {\n",
       "        vertical-align: middle;\n",
       "    }\n",
       "\n",
       "    .dataframe tbody tr th {\n",
       "        vertical-align: top;\n",
       "    }\n",
       "\n",
       "    .dataframe thead th {\n",
       "        text-align: right;\n",
       "    }\n",
       "</style>\n",
       "<table border=\"1\" class=\"dataframe\">\n",
       "  <thead>\n",
       "    <tr style=\"text-align: right;\">\n",
       "      <th></th>\n",
       "      <th>user_id</th>\n",
       "      <th>month</th>\n",
       "      <th>minutes_in_month</th>\n",
       "      <th>total_calls_in_month</th>\n",
       "      <th>sms_in_month</th>\n",
       "      <th>traffic_in_month</th>\n",
       "      <th>age</th>\n",
       "      <th>churn_date</th>\n",
       "      <th>city</th>\n",
       "      <th>first_name</th>\n",
       "      <th>last_name</th>\n",
       "      <th>reg_date</th>\n",
       "      <th>tariff</th>\n",
       "      <th>messages_included</th>\n",
       "      <th>mb_per_month_included</th>\n",
       "      <th>minutes_included</th>\n",
       "      <th>rub_monthly_fee</th>\n",
       "      <th>rub_per_gb</th>\n",
       "      <th>rub_per_message</th>\n",
       "      <th>rub_per_minute</th>\n",
       "    </tr>\n",
       "  </thead>\n",
       "  <tbody>\n",
       "    <tr>\n",
       "      <th>0</th>\n",
       "      <td>1000</td>\n",
       "      <td>5.0</td>\n",
       "      <td>150.06</td>\n",
       "      <td>22.0</td>\n",
       "      <td>0.0</td>\n",
       "      <td>0.0</td>\n",
       "      <td>52</td>\n",
       "      <td>current tariff</td>\n",
       "      <td>Краснодар</td>\n",
       "      <td>Рафаил</td>\n",
       "      <td>Верещагин</td>\n",
       "      <td>2018-05-25</td>\n",
       "      <td>ultra</td>\n",
       "      <td>1000</td>\n",
       "      <td>30720</td>\n",
       "      <td>3000</td>\n",
       "      <td>1950</td>\n",
       "      <td>150</td>\n",
       "      <td>1</td>\n",
       "      <td>1</td>\n",
       "    </tr>\n",
       "    <tr>\n",
       "      <th>1</th>\n",
       "      <td>1000</td>\n",
       "      <td>6.0</td>\n",
       "      <td>158.90</td>\n",
       "      <td>43.0</td>\n",
       "      <td>0.0</td>\n",
       "      <td>0.0</td>\n",
       "      <td>52</td>\n",
       "      <td>current tariff</td>\n",
       "      <td>Краснодар</td>\n",
       "      <td>Рафаил</td>\n",
       "      <td>Верещагин</td>\n",
       "      <td>2018-05-25</td>\n",
       "      <td>ultra</td>\n",
       "      <td>1000</td>\n",
       "      <td>30720</td>\n",
       "      <td>3000</td>\n",
       "      <td>1950</td>\n",
       "      <td>150</td>\n",
       "      <td>1</td>\n",
       "      <td>1</td>\n",
       "    </tr>\n",
       "    <tr>\n",
       "      <th>2</th>\n",
       "      <td>1000</td>\n",
       "      <td>7.0</td>\n",
       "      <td>318.80</td>\n",
       "      <td>47.0</td>\n",
       "      <td>0.0</td>\n",
       "      <td>0.0</td>\n",
       "      <td>52</td>\n",
       "      <td>current tariff</td>\n",
       "      <td>Краснодар</td>\n",
       "      <td>Рафаил</td>\n",
       "      <td>Верещагин</td>\n",
       "      <td>2018-05-25</td>\n",
       "      <td>ultra</td>\n",
       "      <td>1000</td>\n",
       "      <td>30720</td>\n",
       "      <td>3000</td>\n",
       "      <td>1950</td>\n",
       "      <td>150</td>\n",
       "      <td>1</td>\n",
       "      <td>1</td>\n",
       "    </tr>\n",
       "    <tr>\n",
       "      <th>3</th>\n",
       "      <td>1000</td>\n",
       "      <td>8.0</td>\n",
       "      <td>389.87</td>\n",
       "      <td>52.0</td>\n",
       "      <td>0.0</td>\n",
       "      <td>0.0</td>\n",
       "      <td>52</td>\n",
       "      <td>current tariff</td>\n",
       "      <td>Краснодар</td>\n",
       "      <td>Рафаил</td>\n",
       "      <td>Верещагин</td>\n",
       "      <td>2018-05-25</td>\n",
       "      <td>ultra</td>\n",
       "      <td>1000</td>\n",
       "      <td>30720</td>\n",
       "      <td>3000</td>\n",
       "      <td>1950</td>\n",
       "      <td>150</td>\n",
       "      <td>1</td>\n",
       "      <td>1</td>\n",
       "    </tr>\n",
       "    <tr>\n",
       "      <th>4</th>\n",
       "      <td>1000</td>\n",
       "      <td>9.0</td>\n",
       "      <td>440.14</td>\n",
       "      <td>58.0</td>\n",
       "      <td>0.0</td>\n",
       "      <td>0.0</td>\n",
       "      <td>52</td>\n",
       "      <td>current tariff</td>\n",
       "      <td>Краснодар</td>\n",
       "      <td>Рафаил</td>\n",
       "      <td>Верещагин</td>\n",
       "      <td>2018-05-25</td>\n",
       "      <td>ultra</td>\n",
       "      <td>1000</td>\n",
       "      <td>30720</td>\n",
       "      <td>3000</td>\n",
       "      <td>1950</td>\n",
       "      <td>150</td>\n",
       "      <td>1</td>\n",
       "      <td>1</td>\n",
       "    </tr>\n",
       "  </tbody>\n",
       "</table>\n",
       "</div>"
      ],
      "text/plain": [
       "   user_id month  minutes_in_month  total_calls_in_month  sms_in_month  \\\n",
       "0     1000   5.0            150.06                  22.0           0.0   \n",
       "1     1000   6.0            158.90                  43.0           0.0   \n",
       "2     1000   7.0            318.80                  47.0           0.0   \n",
       "3     1000   8.0            389.87                  52.0           0.0   \n",
       "4     1000   9.0            440.14                  58.0           0.0   \n",
       "\n",
       "   traffic_in_month  age      churn_date       city first_name  last_name  \\\n",
       "0               0.0   52  current tariff  Краснодар     Рафаил  Верещагин   \n",
       "1               0.0   52  current tariff  Краснодар     Рафаил  Верещагин   \n",
       "2               0.0   52  current tariff  Краснодар     Рафаил  Верещагин   \n",
       "3               0.0   52  current tariff  Краснодар     Рафаил  Верещагин   \n",
       "4               0.0   52  current tariff  Краснодар     Рафаил  Верещагин   \n",
       "\n",
       "    reg_date tariff  messages_included  mb_per_month_included  \\\n",
       "0 2018-05-25  ultra               1000                  30720   \n",
       "1 2018-05-25  ultra               1000                  30720   \n",
       "2 2018-05-25  ultra               1000                  30720   \n",
       "3 2018-05-25  ultra               1000                  30720   \n",
       "4 2018-05-25  ultra               1000                  30720   \n",
       "\n",
       "   minutes_included  rub_monthly_fee  rub_per_gb  rub_per_message  \\\n",
       "0              3000             1950         150                1   \n",
       "1              3000             1950         150                1   \n",
       "2              3000             1950         150                1   \n",
       "3              3000             1950         150                1   \n",
       "4              3000             1950         150                1   \n",
       "\n",
       "   rub_per_minute  \n",
       "0               1  \n",
       "1               1  \n",
       "2               1  \n",
       "3               1  \n",
       "4               1  "
      ]
     },
     "execution_count": 55,
     "metadata": {},
     "output_type": "execute_result"
    }
   ],
   "source": [
    "df.head()"
   ]
  },
  {
   "cell_type": "code",
   "execution_count": 56,
   "metadata": {
    "scrolled": true
   },
   "outputs": [
    {
     "data": {
      "text/html": [
       "<div>\n",
       "<style scoped>\n",
       "    .dataframe tbody tr th:only-of-type {\n",
       "        vertical-align: middle;\n",
       "    }\n",
       "\n",
       "    .dataframe tbody tr th {\n",
       "        vertical-align: top;\n",
       "    }\n",
       "\n",
       "    .dataframe thead th {\n",
       "        text-align: right;\n",
       "    }\n",
       "</style>\n",
       "<table border=\"1\" class=\"dataframe\">\n",
       "  <thead>\n",
       "    <tr style=\"text-align: right;\">\n",
       "      <th></th>\n",
       "      <th>user_id</th>\n",
       "      <th>month</th>\n",
       "      <th>minutes_in_month</th>\n",
       "      <th>total_calls_in_month</th>\n",
       "      <th>sms_in_month</th>\n",
       "      <th>traffic_in_month</th>\n",
       "      <th>age</th>\n",
       "      <th>churn_date</th>\n",
       "      <th>city</th>\n",
       "      <th>first_name</th>\n",
       "      <th>...</th>\n",
       "      <th>tariff</th>\n",
       "      <th>messages_included</th>\n",
       "      <th>mb_per_month_included</th>\n",
       "      <th>minutes_included</th>\n",
       "      <th>rub_monthly_fee</th>\n",
       "      <th>rub_per_gb</th>\n",
       "      <th>rub_per_message</th>\n",
       "      <th>rub_per_minute</th>\n",
       "      <th>above_the_tariff</th>\n",
       "      <th>total_paid</th>\n",
       "    </tr>\n",
       "  </thead>\n",
       "  <tbody>\n",
       "    <tr>\n",
       "      <th>3712</th>\n",
       "      <td>1098</td>\n",
       "      <td>December</td>\n",
       "      <td>0.0</td>\n",
       "      <td>0.0</td>\n",
       "      <td>14.0</td>\n",
       "      <td>36482.0</td>\n",
       "      <td>39</td>\n",
       "      <td>current tariff</td>\n",
       "      <td>Челябинск</td>\n",
       "      <td>Элеонора</td>\n",
       "      <td>...</td>\n",
       "      <td>smart</td>\n",
       "      <td>50</td>\n",
       "      <td>15360</td>\n",
       "      <td>500</td>\n",
       "      <td>550</td>\n",
       "      <td>200</td>\n",
       "      <td>3</td>\n",
       "      <td>3</td>\n",
       "      <td>4125.390625</td>\n",
       "      <td>4675.390625</td>\n",
       "    </tr>\n",
       "    <tr>\n",
       "      <th>3838</th>\n",
       "      <td>1124</td>\n",
       "      <td>October</td>\n",
       "      <td>0.0</td>\n",
       "      <td>0.0</td>\n",
       "      <td>121.0</td>\n",
       "      <td>49701.0</td>\n",
       "      <td>54</td>\n",
       "      <td>current tariff</td>\n",
       "      <td>Махачкала</td>\n",
       "      <td>Альбин</td>\n",
       "      <td>...</td>\n",
       "      <td>ultra</td>\n",
       "      <td>1000</td>\n",
       "      <td>30720</td>\n",
       "      <td>3000</td>\n",
       "      <td>1950</td>\n",
       "      <td>150</td>\n",
       "      <td>1</td>\n",
       "      <td>1</td>\n",
       "      <td>2780.419922</td>\n",
       "      <td>4730.419922</td>\n",
       "    </tr>\n",
       "    <tr>\n",
       "      <th>5822</th>\n",
       "      <td>1486</td>\n",
       "      <td>November</td>\n",
       "      <td>0.0</td>\n",
       "      <td>0.0</td>\n",
       "      <td>96.0</td>\n",
       "      <td>36222.0</td>\n",
       "      <td>35</td>\n",
       "      <td>current tariff</td>\n",
       "      <td>Нижний Новгород</td>\n",
       "      <td>Матвей</td>\n",
       "      <td>...</td>\n",
       "      <td>smart</td>\n",
       "      <td>50</td>\n",
       "      <td>15360</td>\n",
       "      <td>500</td>\n",
       "      <td>550</td>\n",
       "      <td>200</td>\n",
       "      <td>3</td>\n",
       "      <td>3</td>\n",
       "      <td>4212.609375</td>\n",
       "      <td>4762.609375</td>\n",
       "    </tr>\n",
       "    <tr>\n",
       "      <th>3394</th>\n",
       "      <td>1042</td>\n",
       "      <td>December</td>\n",
       "      <td>0.0</td>\n",
       "      <td>0.0</td>\n",
       "      <td>75.0</td>\n",
       "      <td>37121.0</td>\n",
       "      <td>42</td>\n",
       "      <td>current tariff</td>\n",
       "      <td>Хабаровск</td>\n",
       "      <td>Константин</td>\n",
       "      <td>...</td>\n",
       "      <td>smart</td>\n",
       "      <td>50</td>\n",
       "      <td>15360</td>\n",
       "      <td>500</td>\n",
       "      <td>550</td>\n",
       "      <td>200</td>\n",
       "      <td>3</td>\n",
       "      <td>3</td>\n",
       "      <td>4325.195312</td>\n",
       "      <td>4875.195312</td>\n",
       "    </tr>\n",
       "    <tr>\n",
       "      <th>5821</th>\n",
       "      <td>1486</td>\n",
       "      <td>December</td>\n",
       "      <td>0.0</td>\n",
       "      <td>0.0</td>\n",
       "      <td>83.0</td>\n",
       "      <td>38510.0</td>\n",
       "      <td>35</td>\n",
       "      <td>current tariff</td>\n",
       "      <td>Нижний Новгород</td>\n",
       "      <td>Матвей</td>\n",
       "      <td>...</td>\n",
       "      <td>smart</td>\n",
       "      <td>50</td>\n",
       "      <td>15360</td>\n",
       "      <td>500</td>\n",
       "      <td>550</td>\n",
       "      <td>200</td>\n",
       "      <td>3</td>\n",
       "      <td>3</td>\n",
       "      <td>4620.484375</td>\n",
       "      <td>5170.484375</td>\n",
       "    </tr>\n",
       "  </tbody>\n",
       "</table>\n",
       "<p>5 rows × 22 columns</p>\n",
       "</div>"
      ],
      "text/plain": [
       "      user_id     month  minutes_in_month  total_calls_in_month  sms_in_month  \\\n",
       "3712     1098  December               0.0                   0.0          14.0   \n",
       "3838     1124   October               0.0                   0.0         121.0   \n",
       "5822     1486  November               0.0                   0.0          96.0   \n",
       "3394     1042  December               0.0                   0.0          75.0   \n",
       "5821     1486  December               0.0                   0.0          83.0   \n",
       "\n",
       "      traffic_in_month  age      churn_date             city  first_name  ...  \\\n",
       "3712           36482.0   39  current tariff        Челябинск    Элеонора  ...   \n",
       "3838           49701.0   54  current tariff        Махачкала      Альбин  ...   \n",
       "5822           36222.0   35  current tariff  Нижний Новгород      Матвей  ...   \n",
       "3394           37121.0   42  current tariff        Хабаровск  Константин  ...   \n",
       "5821           38510.0   35  current tariff  Нижний Новгород      Матвей  ...   \n",
       "\n",
       "     tariff messages_included mb_per_month_included  minutes_included  \\\n",
       "3712  smart                50                 15360               500   \n",
       "3838  ultra              1000                 30720              3000   \n",
       "5822  smart                50                 15360               500   \n",
       "3394  smart                50                 15360               500   \n",
       "5821  smart                50                 15360               500   \n",
       "\n",
       "      rub_monthly_fee  rub_per_gb  rub_per_message  rub_per_minute  \\\n",
       "3712              550         200                3               3   \n",
       "3838             1950         150                1               1   \n",
       "5822              550         200                3               3   \n",
       "3394              550         200                3               3   \n",
       "5821              550         200                3               3   \n",
       "\n",
       "      above_the_tariff   total_paid  \n",
       "3712       4125.390625  4675.390625  \n",
       "3838       2780.419922  4730.419922  \n",
       "5822       4212.609375  4762.609375  \n",
       "3394       4325.195312  4875.195312  \n",
       "5821       4620.484375  5170.484375  \n",
       "\n",
       "[5 rows x 22 columns]"
      ]
     },
     "execution_count": 56,
     "metadata": {},
     "output_type": "execute_result"
    }
   ],
   "source": [
    "df['above_the_tariff'] = df.apply(lambda x: above_the_tariff(x), axis=1)\n",
    "df['total_paid'] = df['rub_monthly_fee'] + df['above_the_tariff']\n",
    "df.sort_values(by='total_paid').tail()"
   ]
  },
  {
   "cell_type": "markdown",
   "metadata": {},
   "source": [
    "Помесячная выручка с каждого пользователя рассчитана."
   ]
  },
  {
   "cell_type": "markdown",
   "metadata": {},
   "source": [
    "## Анализ данных."
   ]
  },
  {
   "cell_type": "markdown",
   "metadata": {},
   "source": [
    "- Опишите поведение клиентов оператора, исходя из выборки\n",
    "- Сколько минут разговора, сколько сообщений и какой объём интернет-трафика требуется пользователям каждого тарифа\n",
    "в месяц? \n",
    "- Посчитайте среднее количество, дисперсию и стандартное отклонение\n",
    "- Постройте гистограммы. Опишите распределения"
   ]
  },
  {
   "cell_type": "code",
   "execution_count": 57,
   "metadata": {},
   "outputs": [
    {
     "data": {
      "text/html": [
       "<div>\n",
       "<style scoped>\n",
       "    .dataframe tbody tr th:only-of-type {\n",
       "        vertical-align: middle;\n",
       "    }\n",
       "\n",
       "    .dataframe tbody tr th {\n",
       "        vertical-align: top;\n",
       "    }\n",
       "\n",
       "    .dataframe thead th {\n",
       "        text-align: right;\n",
       "    }\n",
       "</style>\n",
       "<table border=\"1\" class=\"dataframe\">\n",
       "  <thead>\n",
       "    <tr style=\"text-align: right;\">\n",
       "      <th></th>\n",
       "      <th>above_the_tariff</th>\n",
       "      <th>total_paid</th>\n",
       "    </tr>\n",
       "  </thead>\n",
       "  <tbody>\n",
       "    <tr>\n",
       "      <th>count</th>\n",
       "      <td>6388.000000</td>\n",
       "      <td>6388.000000</td>\n",
       "    </tr>\n",
       "    <tr>\n",
       "      <th>mean</th>\n",
       "      <td>241.808224</td>\n",
       "      <td>1216.103778</td>\n",
       "    </tr>\n",
       "    <tr>\n",
       "      <th>std</th>\n",
       "      <td>510.851665</td>\n",
       "      <td>718.992336</td>\n",
       "    </tr>\n",
       "    <tr>\n",
       "      <th>min</th>\n",
       "      <td>0.000000</td>\n",
       "      <td>550.000000</td>\n",
       "    </tr>\n",
       "    <tr>\n",
       "      <th>25%</th>\n",
       "      <td>0.000000</td>\n",
       "      <td>550.000000</td>\n",
       "    </tr>\n",
       "    <tr>\n",
       "      <th>50%</th>\n",
       "      <td>0.000000</td>\n",
       "      <td>889.035156</td>\n",
       "    </tr>\n",
       "    <tr>\n",
       "      <th>75%</th>\n",
       "      <td>218.847656</td>\n",
       "      <td>1950.000000</td>\n",
       "    </tr>\n",
       "    <tr>\n",
       "      <th>max</th>\n",
       "      <td>4620.484375</td>\n",
       "      <td>5170.484375</td>\n",
       "    </tr>\n",
       "  </tbody>\n",
       "</table>\n",
       "</div>"
      ],
      "text/plain": [
       "       above_the_tariff   total_paid\n",
       "count       6388.000000  6388.000000\n",
       "mean         241.808224  1216.103778\n",
       "std          510.851665   718.992336\n",
       "min            0.000000   550.000000\n",
       "25%            0.000000   550.000000\n",
       "50%            0.000000   889.035156\n",
       "75%          218.847656  1950.000000\n",
       "max         4620.484375  5170.484375"
      ]
     },
     "execution_count": 57,
     "metadata": {},
     "output_type": "execute_result"
    }
   ],
   "source": [
    "# посмотрим интересующую нас информацию \n",
    "df[['above_the_tariff', 'total_paid']].describe()"
   ]
  },
  {
   "cell_type": "code",
   "execution_count": 58,
   "metadata": {},
   "outputs": [
    {
     "data": {
      "text/plain": [
       "smart    4452\n",
       "ultra    1936\n",
       "Name: tariff, dtype: int64"
      ]
     },
     "execution_count": 58,
     "metadata": {},
     "output_type": "execute_result"
    }
   ],
   "source": [
    "# узнаем количество пользователей,использующих каждый тариф\n",
    "df['tariff'].value_counts()"
   ]
  },
  {
   "cell_type": "code",
   "execution_count": 59,
   "metadata": {},
   "outputs": [
    {
     "data": {
      "text/plain": [
       "<AxesSubplot:ylabel='Frequency'>"
      ]
     },
     "execution_count": 59,
     "metadata": {},
     "output_type": "execute_result"
    },
    {
     "data": {
      "image/png": "[encoded data removed]",
      "text/plain": [
       "<Figure size 432x288 with 1 Axes>"
      ]
     },
     "metadata": {
      "needs_background": "light"
     },
     "output_type": "display_data"
    }
   ],
   "source": [
    "# посмотрим график тарифа 'ultra'\n",
    "df[df['tariff'] == 'ultra']['total_paid'].plot(kind='hist', bins=10)"
   ]
  },
  {
   "cell_type": "code",
   "execution_count": 60,
   "metadata": {},
   "outputs": [
    {
     "data": {
      "text/plain": [
       "<AxesSubplot:ylabel='Frequency'>"
      ]
     },
     "execution_count": 60,
     "metadata": {},
     "output_type": "execute_result"
    },
    {
     "data": {
      "image/png": "[encoded data removed]",
      "text/plain": [
       "<Figure size 432x288 with 1 Axes>"
      ]
     },
     "metadata": {
      "needs_background": "light"
     },
     "output_type": "display_data"
    }
   ],
   "source": [
    "# посмотрим график тарифа 'smart'\n",
    "df[df['tariff'] == 'smart']['total_paid'].plot(kind='hist', bins=10)"
   ]
  },
  {
   "cell_type": "code",
   "execution_count": 61,
   "metadata": {},
   "outputs": [
    {
     "data": {
      "text/html": [
       "<style  type=\"text/css\" >\n",
       "</style><table id=\"T_eff67_\" ><thead>    <tr>        <th class=\"blank level0\" ></th>        <th class=\"col_heading level0 col0\" colspan=\"4\">total_paid</th>    </tr>    <tr>        <th class=\"blank level1\" ></th>        <th class=\"col_heading level1 col0\" >median</th>        <th class=\"col_heading level1 col1\" >mean</th>        <th class=\"col_heading level1 col2\" >var</th>        <th class=\"col_heading level1 col3\" >std</th>    </tr>    <tr>        <th class=\"index_name level0\" >tariff</th>        <th class=\"blank\" ></th>        <th class=\"blank\" ></th>        <th class=\"blank\" ></th>        <th class=\"blank\" ></th>    </tr></thead><tbody>\n",
       "                <tr>\n",
       "                        <th id=\"T_eff67_level0_row0\" class=\"row_heading level0 row0\" >smart</th>\n",
       "                        <td id=\"T_eff67_row0_col0\" class=\"data row0 col0\" >550.00</td>\n",
       "                        <td id=\"T_eff67_row0_col1\" class=\"data row0 col1\" >872.80</td>\n",
       "                        <td id=\"T_eff67_row0_col2\" class=\"data row0 col2\" >323914.66</td>\n",
       "                        <td id=\"T_eff67_row0_col3\" class=\"data row0 col3\" >569.14</td>\n",
       "            </tr>\n",
       "            <tr>\n",
       "                        <th id=\"T_eff67_level0_row1\" class=\"row_heading level0 row1\" >ultra</th>\n",
       "                        <td id=\"T_eff67_row1_col0\" class=\"data row1 col0\" >1950.00</td>\n",
       "                        <td id=\"T_eff67_row1_col1\" class=\"data row1 col1\" >2005.56</td>\n",
       "                        <td id=\"T_eff67_row1_col2\" class=\"data row1 col2\" >66516.50</td>\n",
       "                        <td id=\"T_eff67_row1_col3\" class=\"data row1 col3\" >257.91</td>\n",
       "            </tr>\n",
       "    </tbody></table>"
      ],
      "text/plain": [
       "<pandas.io.formats.style.Styler at 0x7f7a03776640>"
      ]
     },
     "execution_count": 61,
     "metadata": {},
     "output_type": "execute_result"
    }
   ],
   "source": [
    "# создадим таблицу для понимания\n",
    "df.groupby('tariff')\\\n",
    "  .agg({'total_paid':['median','mean','var','std']})\\\n",
    "  .style.format(\"{:.2f}\")"
   ]
  },
  {
   "cell_type": "code",
   "execution_count": 62,
   "metadata": {},
   "outputs": [
    {
     "data": {
      "text/html": [
       "<style  type=\"text/css\" >\n",
       "</style><table id=\"T_e3bb3_\" ><thead>    <tr>        <th class=\"blank level0\" ></th>        <th class=\"col_heading level0 col0\" colspan=\"4\">minutes_in_month</th>    </tr>    <tr>        <th class=\"blank level1\" ></th>        <th class=\"col_heading level1 col0\" >median</th>        <th class=\"col_heading level1 col1\" >mean</th>        <th class=\"col_heading level1 col2\" >var</th>        <th class=\"col_heading level1 col3\" >std</th>    </tr>    <tr>        <th class=\"index_name level0\" >tariff</th>        <th class=\"blank\" ></th>        <th class=\"blank\" ></th>        <th class=\"blank\" ></th>        <th class=\"blank\" ></th>    </tr></thead><tbody>\n",
       "                <tr>\n",
       "                        <th id=\"T_e3bb3_level0_row0\" class=\"row_heading level0 row0\" >smart</th>\n",
       "                        <td id=\"T_e3bb3_row0_col0\" class=\"data row0 col0\" >0.00</td>\n",
       "                        <td id=\"T_e3bb3_row0_col1\" class=\"data row0 col1\" >197.48</td>\n",
       "                        <td id=\"T_e3bb3_row0_col2\" class=\"data row0 col2\" >55113.23</td>\n",
       "                        <td id=\"T_e3bb3_row0_col3\" class=\"data row0 col3\" >234.76</td>\n",
       "            </tr>\n",
       "            <tr>\n",
       "                        <th id=\"T_e3bb3_level0_row1\" class=\"row_heading level0 row1\" >ultra</th>\n",
       "                        <td id=\"T_e3bb3_row1_col0\" class=\"data row1 col0\" >0.00</td>\n",
       "                        <td id=\"T_e3bb3_row1_col1\" class=\"data row1 col1\" >252.90</td>\n",
       "                        <td id=\"T_e3bb3_row1_col2\" class=\"data row1 col2\" >107520.27</td>\n",
       "                        <td id=\"T_e3bb3_row1_col3\" class=\"data row1 col3\" >327.90</td>\n",
       "            </tr>\n",
       "    </tbody></table>"
      ],
      "text/plain": [
       "<pandas.io.formats.style.Styler at 0x7f7a0378b4c0>"
      ]
     },
     "execution_count": 62,
     "metadata": {},
     "output_type": "execute_result"
    }
   ],
   "source": [
    "# создадим таблицу для понимания\n",
    "df.groupby('tariff')\\\n",
    "  .agg({'minutes_in_month':['median','mean','var','std']})\\\n",
    "  .style.format(\"{:.2f}\")"
   ]
  },
  {
   "cell_type": "code",
   "execution_count": 63,
   "metadata": {},
   "outputs": [
    {
     "data": {
      "text/plain": [
       "Text(0.5, 1.0, 'Смарт — Звонки в минутах в месяц')"
      ]
     },
     "execution_count": 63,
     "metadata": {},
     "output_type": "execute_result"
    },
    {
     "data": {
      "image/png": "[encoded data removed]",
      "text/plain": [
       "<Figure size 432x288 with 1 Axes>"
      ]
     },
     "metadata": {
      "needs_background": "light"
     },
     "output_type": "display_data"
    }
   ],
   "source": [
    "# создадим график смарт-звонков в месяц в минутах\n",
    "import matplotlib.pyplot as plt\n",
    "df[df['tariff'] == 'smart']['minutes_in_month'].plot(kind='hist', bins=10)\n",
    "plt.title('Смарт — Звонки в минутах в месяц')"
   ]
  },
  {
   "cell_type": "code",
   "execution_count": 64,
   "metadata": {},
   "outputs": [
    {
     "data": {
      "text/plain": [
       "Text(0.5, 1.0, 'Ультра — Звонки в минутах в месяц')"
      ]
     },
     "execution_count": 64,
     "metadata": {},
     "output_type": "execute_result"
    },
    {
     "data": {
      "image/png": "[encoded data removed]",
      "text/plain": [
       "<Figure size 432x288 with 1 Axes>"
      ]
     },
     "metadata": {
      "needs_background": "light"
     },
     "output_type": "display_data"
    }
   ],
   "source": [
    "# создадим график ультро-звонков в месяц в минутах\n",
    "df[df['tariff'] == 'ultra']['minutes_in_month'].plot(kind='hist', bins=10)\n",
    "plt.title('Ультра — Звонки в минутах в месяц')"
   ]
  },
  {
   "cell_type": "markdown",
   "metadata": {},
   "source": [
    "Можно наблюдать, что пользователи, которые используют тариф смарт в большей степени говорят 400-500 минут в месяц, а пользователи тарифа ультра говорят примерно по 500-620 минут в месяц. Это значит, что те люди, которые используют тариф смарт подходят к краю своего тарифа, а на ультре у пользователей остается в запасе еще 2500 минут. "
   ]
  },
  {
   "cell_type": "code",
   "execution_count": 65,
   "metadata": {},
   "outputs": [
    {
     "data": {
      "text/html": [
       "<style  type=\"text/css\" >\n",
       "</style><table id=\"T_c1ae2_\" ><thead>    <tr>        <th class=\"blank level0\" ></th>        <th class=\"col_heading level0 col0\" colspan=\"4\">traffic_in_month</th>    </tr>    <tr>        <th class=\"blank level1\" ></th>        <th class=\"col_heading level1 col0\" >median</th>        <th class=\"col_heading level1 col1\" >mean</th>        <th class=\"col_heading level1 col2\" >var</th>        <th class=\"col_heading level1 col3\" >std</th>    </tr>    <tr>        <th class=\"index_name level0\" >tariff</th>        <th class=\"blank\" ></th>        <th class=\"blank\" ></th>        <th class=\"blank\" ></th>        <th class=\"blank\" ></th>    </tr></thead><tbody>\n",
       "                <tr>\n",
       "                        <th id=\"T_c1ae2_level0_row0\" class=\"row_heading level0 row0\" >smart</th>\n",
       "                        <td id=\"T_c1ae2_row0_col0\" class=\"data row0 col0\" >285.00</td>\n",
       "                        <td id=\"T_c1ae2_row0_col1\" class=\"data row0 col1\" >8104.70</td>\n",
       "                        <td id=\"T_c1ae2_row0_col2\" class=\"data row0 col2\" >82733242.84</td>\n",
       "                        <td id=\"T_c1ae2_row0_col3\" class=\"data row0 col3\" >9095.78</td>\n",
       "            </tr>\n",
       "            <tr>\n",
       "                        <th id=\"T_c1ae2_level0_row1\" class=\"row_heading level0 row1\" >ultra</th>\n",
       "                        <td id=\"T_c1ae2_row1_col0\" class=\"data row1 col0\" >638.50</td>\n",
       "                        <td id=\"T_c1ae2_row1_col1\" class=\"data row1 col1\" >9896.12</td>\n",
       "                        <td id=\"T_c1ae2_row1_col2\" class=\"data row1 col2\" >146250684.61</td>\n",
       "                        <td id=\"T_c1ae2_row1_col3\" class=\"data row1 col3\" >12093.41</td>\n",
       "            </tr>\n",
       "    </tbody></table>"
      ],
      "text/plain": [
       "<pandas.io.formats.style.Styler at 0x7f7a03546f10>"
      ]
     },
     "execution_count": 65,
     "metadata": {},
     "output_type": "execute_result"
    }
   ],
   "source": [
    "df.groupby('tariff')\\\n",
    "  .agg({'traffic_in_month':['median','mean','var','std']})\\\n",
    "  .style.format(\"{:.2f}\")"
   ]
  },
  {
   "cell_type": "code",
   "execution_count": 76,
   "metadata": {},
   "outputs": [
    {
     "data": {
      "text/plain": [
       "Text(0.5, 1.0, 'Смарт — Интернет в МБ в месяц')"
      ]
     },
     "execution_count": 76,
     "metadata": {},
     "output_type": "execute_result"
    },
    {
     "data": {
      "image/png": "[encoded data removed]",
      "text/plain": [
       "<Figure size 432x288 with 1 Axes>"
      ]
     },
     "metadata": {
      "needs_background": "light"
     },
     "output_type": "display_data"
    }
   ],
   "source": [
    "(df[df['tariff'] == 'smart']['traffic_in_month'] / 1000).plot(kind='hist', bins=10)\n",
    "plt.title('Смарт — Интернет в МБ в месяц')"
   ]
  },
  {
   "cell_type": "code",
   "execution_count": 75,
   "metadata": {},
   "outputs": [
    {
     "data": {
      "text/plain": [
       "Text(0.5, 1.0, 'Ультра — Интернет в МБ в месяц')"
      ]
     },
     "execution_count": 75,
     "metadata": {},
     "output_type": "execute_result"
    },
    {
     "data": {
      "image/png": "[encoded data removed]",
      "text/plain": [
       "<Figure size 432x288 with 1 Axes>"
      ]
     },
     "metadata": {
      "needs_background": "light"
     },
     "output_type": "display_data"
    }
   ],
   "source": [
    "(df[df['tariff'] == 'ultra']['traffic_in_month'] / 1000).plot(kind='hist', bins=10)\n",
    "plt.title('Ультра — Интернет в МБ в месяц')"
   ]
  },
  {
   "cell_type": "markdown",
   "metadata": {},
   "source": [
    "Среднее и медиана на всех графиках леат рядом, логично наблюдать, что пользователи с тарифом смарт выходят за пределы тарифа (примерно 17,5 ГБ), у ультра опять запас в 10гб, но при этом наблюдается больший разброс."
   ]
  },
  {
   "cell_type": "code",
   "execution_count": null,
   "metadata": {},
   "outputs": [],
   "source": [
    "df.groupby('tariff')\\\n",
    "  .agg({'sms_in_month':['median','mean','var','std']})\\\n",
    "  .style.format(\"{:.2f}\")"
   ]
  },
  {
   "cell_type": "code",
   "execution_count": null,
   "metadata": {},
   "outputs": [],
   "source": [
    "df[df['tariff'] == 'smart']['sms_in_month'].plot(kind='hist', bins=10)\n",
    "plt.title('Смарт — СМС в месяц')"
   ]
  },
  {
   "cell_type": "code",
   "execution_count": null,
   "metadata": {},
   "outputs": [],
   "source": [
    "df[df['tariff'] == 'ultra']['sms_in_month'].plot(kind='hist', bins=10)\n",
    "plt.title('Ультра — СМС в месяц')"
   ]
  },
  {
   "cell_type": "markdown",
   "metadata": {},
   "source": [
    "Наблюдается схожесть в поведении пользователей, видим очень низкий спрос смс."
   ]
  },
  {
   "cell_type": "markdown",
   "metadata": {},
   "source": [
    "## Проверка гипотез."
   ]
  },
  {
   "cell_type": "markdown",
   "metadata": {},
   "source": [
    "- средняя выручка пользователей тарифов «Ультра» и «Смарт» различаются\n",
    "- средняя выручка пользователей из Москвы отличается от выручки пользователей из других регионов\n",
    "Пороговое значение alpha задайте самостоятельно.\n",
    "\n",
    "Поясните:\n",
    "\n",
    "- как вы формулировали нулевую и альтернативную гипотезы\n",
    "- какой критерий использовали для проверки гипотез и почему"
   ]
  },
  {
   "cell_type": "code",
   "execution_count": null,
   "metadata": {},
   "outputs": [],
   "source": [
    "# Напишем функцию для удаления выбросов\n",
    "\n",
    "def delete_outliers(df, column, graphic=0, x = 10, y = 10):\n",
    "    q1 = df[column].quantile(0.25)                 \n",
    "    q3 = df[column].quantile(0.75)\n",
    "    iqr = q3 - q1\n",
    "    iqr_test = (df[column] >= (q1 - 1.5 * iqr)) & (df[column] <= (q3 + 1.5 * iqr))\n",
    "    if graphic == 1:\n",
    "        return df.loc[iqr_test].boxplot([column], figsize=(x,y))\n",
    "    else:\n",
    "        return df.loc[iqr_test]"
   ]
  },
  {
   "cell_type": "markdown",
   "metadata": {},
   "source": [
    "В работе понадобится t-критерий Стьюдента, так как сравниваемые выборки независимы между собой.\n",
    "Гипотеза о равенстве средних двух генеральных совокупностей №1\n",
    "\n",
    "Сформулируем гипотезы:\n",
    "\n",
    "H0: выручка пользователей тарифов «Ультра» и «Смарт» не различается\n",
    "\n",
    "H1: выручка пользователей тарифов «Ультра» и «Смарт» различается"
   ]
  },
  {
   "cell_type": "code",
   "execution_count": null,
   "metadata": {
    "scrolled": true
   },
   "outputs": [],
   "source": [
    "df.head()"
   ]
  },
  {
   "cell_type": "code",
   "execution_count": null,
   "metadata": {},
   "outputs": [],
   "source": [
    "ultra = df[df['tariff'] == 'ultra']\n",
    "smart = df[df['tariff'] == 'smart']"
   ]
  },
  {
   "cell_type": "code",
   "execution_count": null,
   "metadata": {},
   "outputs": [],
   "source": [
    "ultra = delete_outliers(ultra, 'total_paid', 0)\n",
    "ultra = ultra['total_paid']"
   ]
  },
  {
   "cell_type": "code",
   "execution_count": null,
   "metadata": {},
   "outputs": [],
   "source": [
    "smart = delete_outliers(smart, 'total_paid', 0)\n",
    "smart = smart['total_paid']"
   ]
  },
  {
   "cell_type": "code",
   "execution_count": null,
   "metadata": {},
   "outputs": [],
   "source": [
    "alpha = 0.05"
   ]
  },
  {
   "cell_type": "code",
   "execution_count": null,
   "metadata": {},
   "outputs": [],
   "source": [
    "from scipy import stats as st\n",
    "results = st.ttest_ind(ultra, smart)"
   ]
  },
  {
   "cell_type": "code",
   "execution_count": null,
   "metadata": {},
   "outputs": [],
   "source": [
    "print('p-значение:', results.pvalue)\n",
    "\n",
    "if (results.pvalue < alpha):\n",
    "    print(\"Отвергаем нулевую гипотезу\")\n",
    "else:\n",
    "    print(\"Не получилось отвергнуть нулевую гипотезу\")"
   ]
  },
  {
   "cell_type": "markdown",
   "metadata": {},
   "source": [
    "Наблюдаются значимые различия между выборками, разница не случайна."
   ]
  },
  {
   "cell_type": "markdown",
   "metadata": {},
   "source": [
    "Гипотеза о равенстве средних двух генеральных совокупностей №2\n",
    "\n",
    "Сформулируем гипотезы:\n",
    "\n",
    "H0: средняя выручка пользователей из Москвы не отличается от выручки пользователей из других регионов\n",
    "H1: средняя выручка пользователей из Москвы отличается от выручки пользователей из других регионов"
   ]
  },
  {
   "cell_type": "code",
   "execution_count": null,
   "metadata": {},
   "outputs": [],
   "source": [
    "df['city'].unique()"
   ]
  },
  {
   "cell_type": "code",
   "execution_count": null,
   "metadata": {},
   "outputs": [],
   "source": [
    "import numpy as np\n",
    "df['region'] = np.where(df['city'] == 'Москва', 'Москва', 'Провинция')"
   ]
  },
  {
   "cell_type": "code",
   "execution_count": null,
   "metadata": {},
   "outputs": [],
   "source": [
    "moscow = df[df['region'] == 'Москва']\n",
    "province = df[df['region'] == 'Провинция']"
   ]
  },
  {
   "cell_type": "code",
   "execution_count": null,
   "metadata": {},
   "outputs": [],
   "source": [
    "moscow = delete_outliers(moscow, 'total_paid', 0)\n",
    "moscow = moscow['total_paid']"
   ]
  },
  {
   "cell_type": "code",
   "execution_count": null,
   "metadata": {},
   "outputs": [],
   "source": [
    "province = delete_outliers(province, 'total_paid', 0)\n",
    "province = province['total_paid']"
   ]
  },
  {
   "cell_type": "code",
   "execution_count": null,
   "metadata": {},
   "outputs": [],
   "source": [
    "results = st.ttest_ind(moscow, province)"
   ]
  },
  {
   "cell_type": "code",
   "execution_count": null,
   "metadata": {},
   "outputs": [],
   "source": [
    "print('p-значение:', results.pvalue)\n",
    "\n",
    "if (results.pvalue < alpha):\n",
    "    print(\"Отвергаем нулевую гипотезу\")\n",
    "else:\n",
    "    print(\"Не получилось отвергнуть нулевую гипотезу\")"
   ]
  },
  {
   "cell_type": "markdown",
   "metadata": {},
   "source": [
    "Значимых различий не наблюдается, отвергаем нулевую гипотезу."
   ]
  },
  {
   "cell_type": "markdown",
   "metadata": {},
   "source": [
    "## Общий вывод:"
   ]
  },
  {
   "cell_type": "markdown",
   "metadata": {},
   "source": [
    "Пользователи с разных тарифов ведут себя абсолютно по-разному. Можно выявить закономерность, что в тарифе смарт пользователи часто переплачивают, а это может плохо сказаться на доверии клиентов.\n",
    "\n",
    "* На графиках отлично можно заметить, насколько смс-ки никому не нужны на обоих тарифах. В смарте люди близки к своим лимитам, в свою очередь как на ультре остаются большие неизрасходованные \"запасы\" — возможно, имеет смысл подумать, как использовать эту, по сути, упущенную выгоду\n",
    "* Тарифы приносят разные деньги, значимые различия есть\n",
    "* Деньги одинаково текут и из регионов и из Москвы, и вероятно это не связано с уровнем жизни.\n",
    "* В результате выполнения проекта можно заявить, что тариф Ультра все равно будет приносить больше прибыли и его можно назвать лучшим\n",
    "* Идеальным решением было бы сделать новый тариф, который по цене являлся бы промежуточным вариантом между текущими Смарт и Ультра, но был более доступным и включал бы в себя больше возможностей."
   ]
  }
 ],
 "metadata": {
  "ExecuteTimeLog": [
   {
    "duration": 443,
    "start_time": "2022-03-24T17:09:19.414Z"
   },
   {
    "duration": 199,
    "start_time": "2022-03-24T17:11:02.290Z"
   },
   {
    "duration": 192,
    "start_time": "2022-03-24T17:11:54.663Z"
   },
   {
    "duration": 165,
    "start_time": "2022-03-24T17:15:36.417Z"
   },
   {
    "duration": 191,
    "start_time": "2022-03-24T17:17:26.948Z"
   },
   {
    "duration": 156,
    "start_time": "2022-03-24T17:17:33.244Z"
   },
   {
    "duration": 110,
    "start_time": "2022-03-24T17:20:47.891Z"
   },
   {
    "duration": 22,
    "start_time": "2022-03-24T17:21:36.623Z"
   },
   {
    "duration": 48,
    "start_time": "2022-03-24T17:23:06.179Z"
   },
   {
    "duration": 70,
    "start_time": "2022-03-26T10:46:37.239Z"
   },
   {
    "duration": 539,
    "start_time": "2022-03-26T10:46:45.220Z"
   },
   {
    "duration": 226,
    "start_time": "2022-03-26T10:46:45.762Z"
   },
   {
    "duration": 197,
    "start_time": "2022-03-26T10:46:45.991Z"
   },
   {
    "duration": 137,
    "start_time": "2022-03-26T10:46:46.191Z"
   },
   {
    "duration": 23,
    "start_time": "2022-03-26T10:46:46.332Z"
   },
   {
    "duration": 38,
    "start_time": "2022-03-26T10:46:46.357Z"
   },
   {
    "duration": 30,
    "start_time": "2022-03-26T10:46:46.398Z"
   },
   {
    "duration": 7,
    "start_time": "2022-03-26T10:47:09.574Z"
   },
   {
    "duration": 22,
    "start_time": "2022-03-26T10:47:17.288Z"
   },
   {
    "duration": 17,
    "start_time": "2022-03-26T10:48:25.222Z"
   },
   {
    "duration": 41,
    "start_time": "2022-03-26T11:07:48.998Z"
   },
   {
    "duration": 413,
    "start_time": "2022-03-26T11:07:55.256Z"
   },
   {
    "duration": 174,
    "start_time": "2022-03-26T11:07:55.671Z"
   },
   {
    "duration": 141,
    "start_time": "2022-03-26T11:07:55.846Z"
   },
   {
    "duration": 98,
    "start_time": "2022-03-26T11:07:55.989Z"
   },
   {
    "duration": 20,
    "start_time": "2022-03-26T11:07:56.089Z"
   },
   {
    "duration": 42,
    "start_time": "2022-03-26T11:07:56.110Z"
   },
   {
    "duration": 15,
    "start_time": "2022-03-26T11:07:56.154Z"
   },
   {
    "duration": 42,
    "start_time": "2022-03-26T11:07:56.171Z"
   },
   {
    "duration": 13,
    "start_time": "2022-03-26T11:08:11.740Z"
   },
   {
    "duration": 19,
    "start_time": "2022-03-26T11:08:48.359Z"
   },
   {
    "duration": 5,
    "start_time": "2022-03-26T11:09:56.411Z"
   },
   {
    "duration": 12,
    "start_time": "2022-03-26T11:10:04.893Z"
   },
   {
    "duration": 20,
    "start_time": "2022-03-26T11:10:08.051Z"
   },
   {
    "duration": 13,
    "start_time": "2022-03-26T11:13:04.882Z"
   },
   {
    "duration": 39,
    "start_time": "2022-03-26T11:18:31.677Z"
   },
   {
    "duration": 11,
    "start_time": "2022-03-26T11:20:36.736Z"
   },
   {
    "duration": 34,
    "start_time": "2022-03-26T11:26:42.596Z"
   },
   {
    "duration": 15,
    "start_time": "2022-03-26T11:26:53.535Z"
   },
   {
    "duration": 14,
    "start_time": "2022-03-26T11:27:06.267Z"
   },
   {
    "duration": 26,
    "start_time": "2022-03-26T11:27:38.628Z"
   },
   {
    "duration": 409,
    "start_time": "2022-03-26T11:30:49.047Z"
   },
   {
    "duration": 160,
    "start_time": "2022-03-26T11:30:49.458Z"
   },
   {
    "duration": 139,
    "start_time": "2022-03-26T11:30:49.620Z"
   },
   {
    "duration": 96,
    "start_time": "2022-03-26T11:30:49.760Z"
   },
   {
    "duration": 20,
    "start_time": "2022-03-26T11:30:49.858Z"
   },
   {
    "duration": 33,
    "start_time": "2022-03-26T11:30:49.879Z"
   },
   {
    "duration": 16,
    "start_time": "2022-03-26T11:30:49.914Z"
   },
   {
    "duration": 63,
    "start_time": "2022-03-26T11:30:49.932Z"
   },
   {
    "duration": 12,
    "start_time": "2022-03-26T11:30:49.996Z"
   },
   {
    "duration": 53,
    "start_time": "2022-03-26T11:30:50.009Z"
   },
   {
    "duration": 17,
    "start_time": "2022-03-26T11:30:50.064Z"
   },
   {
    "duration": 3103,
    "start_time": "2022-03-26T11:30:50.083Z"
   },
   {
    "duration": 39,
    "start_time": "2022-03-26T11:34:26.247Z"
   },
   {
    "duration": 7,
    "start_time": "2022-03-26T11:37:14.451Z"
   },
   {
    "duration": 31,
    "start_time": "2022-03-26T11:38:15.803Z"
   },
   {
    "duration": 12,
    "start_time": "2022-03-26T11:44:17.403Z"
   },
   {
    "duration": 32,
    "start_time": "2022-03-26T11:45:09.579Z"
   },
   {
    "duration": 359,
    "start_time": "2022-03-26T14:52:17.620Z"
   },
   {
    "duration": 164,
    "start_time": "2022-03-26T14:52:17.983Z"
   },
   {
    "duration": 150,
    "start_time": "2022-03-26T14:52:18.149Z"
   },
   {
    "duration": 101,
    "start_time": "2022-03-26T14:52:18.301Z"
   },
   {
    "duration": 20,
    "start_time": "2022-03-26T14:52:18.404Z"
   },
   {
    "duration": 53,
    "start_time": "2022-03-26T14:52:18.426Z"
   },
   {
    "duration": 19,
    "start_time": "2022-03-26T14:52:18.480Z"
   },
   {
    "duration": 64,
    "start_time": "2022-03-26T14:52:18.501Z"
   },
   {
    "duration": 21,
    "start_time": "2022-03-26T14:52:18.567Z"
   },
   {
    "duration": 58,
    "start_time": "2022-03-26T14:52:18.590Z"
   },
   {
    "duration": 9,
    "start_time": "2022-03-26T14:52:18.649Z"
   },
   {
    "duration": 61,
    "start_time": "2022-03-26T14:52:18.660Z"
   },
   {
    "duration": 7,
    "start_time": "2022-03-26T14:52:18.723Z"
   },
   {
    "duration": 12,
    "start_time": "2022-03-26T14:52:18.732Z"
   },
   {
    "duration": 13,
    "start_time": "2022-03-26T14:52:18.746Z"
   },
   {
    "duration": 17,
    "start_time": "2022-03-26T14:52:18.780Z"
   },
   {
    "duration": 4,
    "start_time": "2022-03-26T15:09:11.144Z"
   },
   {
    "duration": 6,
    "start_time": "2022-03-26T15:09:21.310Z"
   },
   {
    "duration": 51,
    "start_time": "2022-03-26T17:14:02.834Z"
   },
   {
    "duration": 436,
    "start_time": "2022-03-26T17:14:09.397Z"
   },
   {
    "duration": 174,
    "start_time": "2022-03-26T17:14:09.836Z"
   },
   {
    "duration": 165,
    "start_time": "2022-03-26T17:14:10.012Z"
   },
   {
    "duration": 107,
    "start_time": "2022-03-26T17:14:10.180Z"
   },
   {
    "duration": 20,
    "start_time": "2022-03-26T17:14:10.289Z"
   },
   {
    "duration": 25,
    "start_time": "2022-03-26T17:14:10.310Z"
   },
   {
    "duration": 19,
    "start_time": "2022-03-26T17:14:10.337Z"
   },
   {
    "duration": 92,
    "start_time": "2022-03-26T17:14:10.357Z"
   },
   {
    "duration": 14,
    "start_time": "2022-03-26T17:14:10.451Z"
   },
   {
    "duration": 74,
    "start_time": "2022-03-26T17:14:10.467Z"
   },
   {
    "duration": 11,
    "start_time": "2022-03-26T17:14:10.543Z"
   },
   {
    "duration": 58,
    "start_time": "2022-03-26T17:14:10.556Z"
   },
   {
    "duration": 9,
    "start_time": "2022-03-26T17:14:10.616Z"
   },
   {
    "duration": 18,
    "start_time": "2022-03-26T17:14:10.626Z"
   },
   {
    "duration": 16,
    "start_time": "2022-03-26T17:14:10.645Z"
   },
   {
    "duration": 12,
    "start_time": "2022-03-26T17:14:10.663Z"
   },
   {
    "duration": 7,
    "start_time": "2022-03-26T17:16:43.148Z"
   },
   {
    "duration": 60,
    "start_time": "2022-03-26T17:20:38.210Z"
   },
   {
    "duration": 453,
    "start_time": "2022-03-26T17:21:57.384Z"
   },
   {
    "duration": 189,
    "start_time": "2022-03-26T17:21:57.839Z"
   },
   {
    "duration": 162,
    "start_time": "2022-03-26T17:21:58.029Z"
   },
   {
    "duration": 108,
    "start_time": "2022-03-26T17:21:58.193Z"
   },
   {
    "duration": 17,
    "start_time": "2022-03-26T17:21:58.303Z"
   },
   {
    "duration": 23,
    "start_time": "2022-03-26T17:21:58.322Z"
   },
   {
    "duration": 20,
    "start_time": "2022-03-26T17:21:58.346Z"
   },
   {
    "duration": 89,
    "start_time": "2022-03-26T17:21:58.368Z"
   },
   {
    "duration": 13,
    "start_time": "2022-03-26T17:21:58.459Z"
   },
   {
    "duration": 75,
    "start_time": "2022-03-26T17:21:58.474Z"
   },
   {
    "duration": 11,
    "start_time": "2022-03-26T17:21:58.551Z"
   },
   {
    "duration": 64,
    "start_time": "2022-03-26T17:21:58.564Z"
   },
   {
    "duration": 8,
    "start_time": "2022-03-26T17:21:58.631Z"
   },
   {
    "duration": 15,
    "start_time": "2022-03-26T17:21:58.642Z"
   },
   {
    "duration": 19,
    "start_time": "2022-03-26T17:21:58.659Z"
   },
   {
    "duration": 7,
    "start_time": "2022-03-26T17:21:58.701Z"
   },
   {
    "duration": 65,
    "start_time": "2022-03-26T17:21:58.710Z"
   },
   {
    "duration": 61,
    "start_time": "2022-03-26T17:21:58.777Z"
   },
   {
    "duration": 27,
    "start_time": "2022-03-26T17:21:58.840Z"
   },
   {
    "duration": 6,
    "start_time": "2022-03-26T17:21:58.869Z"
   },
   {
    "duration": 26,
    "start_time": "2022-03-26T17:21:58.877Z"
   },
   {
    "duration": 68,
    "start_time": "2022-03-26T17:26:57.015Z"
   },
   {
    "duration": 55,
    "start_time": "2022-03-26T17:27:03.965Z"
   },
   {
    "duration": 56,
    "start_time": "2022-03-26T17:27:21.341Z"
   },
   {
    "duration": 57,
    "start_time": "2022-03-26T17:29:45.243Z"
   },
   {
    "duration": 378,
    "start_time": "2022-03-26T17:32:04.649Z"
   },
   {
    "duration": 186,
    "start_time": "2022-03-26T17:32:05.030Z"
   },
   {
    "duration": 165,
    "start_time": "2022-03-26T17:32:05.219Z"
   },
   {
    "duration": 111,
    "start_time": "2022-03-26T17:32:05.386Z"
   },
   {
    "duration": 17,
    "start_time": "2022-03-26T17:32:05.499Z"
   },
   {
    "duration": 137,
    "start_time": "2022-03-26T17:32:05.518Z"
   },
   {
    "duration": 19,
    "start_time": "2022-03-26T17:32:05.658Z"
   },
   {
    "duration": 81,
    "start_time": "2022-03-26T17:32:05.679Z"
   },
   {
    "duration": 14,
    "start_time": "2022-03-26T17:32:05.762Z"
   },
   {
    "duration": 63,
    "start_time": "2022-03-26T17:32:05.779Z"
   },
   {
    "duration": 11,
    "start_time": "2022-03-26T17:32:05.844Z"
   },
   {
    "duration": 69,
    "start_time": "2022-03-26T17:32:05.857Z"
   },
   {
    "duration": 9,
    "start_time": "2022-03-26T17:32:05.928Z"
   },
   {
    "duration": 16,
    "start_time": "2022-03-26T17:32:05.939Z"
   },
   {
    "duration": 16,
    "start_time": "2022-03-26T17:32:05.957Z"
   },
   {
    "duration": 28,
    "start_time": "2022-03-26T17:32:05.975Z"
   },
   {
    "duration": 64,
    "start_time": "2022-03-26T17:32:06.005Z"
   },
   {
    "duration": 57,
    "start_time": "2022-03-26T17:32:06.071Z"
   },
   {
    "duration": 30,
    "start_time": "2022-03-26T17:32:06.129Z"
   },
   {
    "duration": 5,
    "start_time": "2022-03-26T17:32:06.161Z"
   },
   {
    "duration": 34,
    "start_time": "2022-03-26T17:32:06.168Z"
   },
   {
    "duration": 55,
    "start_time": "2022-03-26T17:32:06.204Z"
   },
   {
    "duration": 71,
    "start_time": "2022-03-26T17:32:06.261Z"
   },
   {
    "duration": 28,
    "start_time": "2022-03-26T17:32:06.334Z"
   },
   {
    "duration": 37,
    "start_time": "2022-03-26T17:32:06.364Z"
   },
   {
    "duration": 27,
    "start_time": "2022-03-26T17:32:06.403Z"
   },
   {
    "duration": 38,
    "start_time": "2022-03-26T17:44:03.455Z"
   },
   {
    "duration": 468,
    "start_time": "2022-03-26T17:47:05.053Z"
   },
   {
    "duration": 206,
    "start_time": "2022-03-26T17:47:05.524Z"
   },
   {
    "duration": 169,
    "start_time": "2022-03-26T17:47:05.732Z"
   },
   {
    "duration": 125,
    "start_time": "2022-03-26T17:47:05.903Z"
   },
   {
    "duration": 19,
    "start_time": "2022-03-26T17:47:06.031Z"
   },
   {
    "duration": 23,
    "start_time": "2022-03-26T17:47:06.052Z"
   },
   {
    "duration": 40,
    "start_time": "2022-03-26T17:47:06.076Z"
   },
   {
    "duration": 134,
    "start_time": "2022-03-26T17:47:06.119Z"
   },
   {
    "duration": 16,
    "start_time": "2022-03-26T17:47:06.255Z"
   },
   {
    "duration": 75,
    "start_time": "2022-03-26T17:47:06.273Z"
   },
   {
    "duration": 13,
    "start_time": "2022-03-26T17:47:06.350Z"
   },
   {
    "duration": 67,
    "start_time": "2022-03-26T17:47:06.365Z"
   },
   {
    "duration": 8,
    "start_time": "2022-03-26T17:47:06.434Z"
   },
   {
    "duration": 18,
    "start_time": "2022-03-26T17:47:06.446Z"
   },
   {
    "duration": 38,
    "start_time": "2022-03-26T17:47:06.466Z"
   },
   {
    "duration": 14,
    "start_time": "2022-03-26T17:47:06.507Z"
   },
   {
    "duration": 78,
    "start_time": "2022-03-26T17:47:06.523Z"
   },
   {
    "duration": 63,
    "start_time": "2022-03-26T17:47:06.604Z"
   },
   {
    "duration": 56,
    "start_time": "2022-03-26T17:47:06.669Z"
   },
   {
    "duration": 8,
    "start_time": "2022-03-26T17:47:06.727Z"
   },
   {
    "duration": 12,
    "start_time": "2022-03-26T17:47:06.737Z"
   },
   {
    "duration": 73,
    "start_time": "2022-03-26T17:47:06.752Z"
   },
   {
    "duration": 45,
    "start_time": "2022-03-26T17:47:06.826Z"
   },
   {
    "duration": 52,
    "start_time": "2022-03-26T17:47:06.872Z"
   },
   {
    "duration": 22,
    "start_time": "2022-03-26T17:47:06.926Z"
   },
   {
    "duration": 68,
    "start_time": "2022-03-26T17:47:06.949Z"
   },
   {
    "duration": 35,
    "start_time": "2022-03-26T17:47:07.019Z"
   },
   {
    "duration": 61,
    "start_time": "2022-03-26T17:47:07.056Z"
   },
   {
    "duration": 19,
    "start_time": "2022-03-26T17:47:07.119Z"
   },
   {
    "duration": 28,
    "start_time": "2022-03-26T17:47:07.140Z"
   },
   {
    "duration": 41,
    "start_time": "2022-03-26T17:47:07.170Z"
   },
   {
    "duration": 13,
    "start_time": "2022-03-26T18:06:19.296Z"
   },
   {
    "duration": 84,
    "start_time": "2022-03-26T18:07:24.098Z"
   },
   {
    "duration": 68,
    "start_time": "2022-03-26T18:07:51.558Z"
   },
   {
    "duration": 14,
    "start_time": "2022-03-26T18:07:56.418Z"
   },
   {
    "duration": 69,
    "start_time": "2022-03-26T18:08:51.468Z"
   },
   {
    "duration": 14,
    "start_time": "2022-03-26T18:08:53.937Z"
   },
   {
    "duration": 80,
    "start_time": "2022-03-26T18:09:05.169Z"
   },
   {
    "duration": 142,
    "start_time": "2022-03-26T18:23:01.206Z"
   },
   {
    "duration": 11,
    "start_time": "2022-03-26T18:23:08.818Z"
   },
   {
    "duration": 10,
    "start_time": "2022-03-26T18:23:20.158Z"
   },
   {
    "duration": 42,
    "start_time": "2022-03-26T18:23:30.069Z"
   },
   {
    "duration": 35,
    "start_time": "2022-03-26T18:24:18.437Z"
   },
   {
    "duration": 47,
    "start_time": "2022-03-27T08:28:00.359Z"
   },
   {
    "duration": 429,
    "start_time": "2022-03-27T08:28:06.809Z"
   },
   {
    "duration": 175,
    "start_time": "2022-03-27T08:28:07.241Z"
   },
   {
    "duration": 152,
    "start_time": "2022-03-27T08:28:07.417Z"
   },
   {
    "duration": 103,
    "start_time": "2022-03-27T08:28:07.572Z"
   },
   {
    "duration": 16,
    "start_time": "2022-03-27T08:28:07.676Z"
   },
   {
    "duration": 22,
    "start_time": "2022-03-27T08:28:07.694Z"
   },
   {
    "duration": 26,
    "start_time": "2022-03-27T08:28:07.718Z"
   },
   {
    "duration": 69,
    "start_time": "2022-03-27T08:28:07.746Z"
   },
   {
    "duration": 32,
    "start_time": "2022-03-27T08:28:07.817Z"
   },
   {
    "duration": 59,
    "start_time": "2022-03-27T08:28:07.853Z"
   },
   {
    "duration": 24,
    "start_time": "2022-03-27T08:28:07.914Z"
   },
   {
    "duration": 54,
    "start_time": "2022-03-27T08:28:07.939Z"
   },
   {
    "duration": 7,
    "start_time": "2022-03-27T08:28:07.995Z"
   },
   {
    "duration": 20,
    "start_time": "2022-03-27T08:28:08.004Z"
   },
   {
    "duration": 16,
    "start_time": "2022-03-27T08:28:08.039Z"
   },
   {
    "duration": 11,
    "start_time": "2022-03-27T08:28:08.057Z"
   },
   {
    "duration": 89,
    "start_time": "2022-03-27T08:28:08.070Z"
   },
   {
    "duration": 35,
    "start_time": "2022-03-27T08:28:08.161Z"
   },
   {
    "duration": 41,
    "start_time": "2022-03-27T08:28:08.198Z"
   },
   {
    "duration": 5,
    "start_time": "2022-03-27T08:28:08.241Z"
   },
   {
    "duration": 12,
    "start_time": "2022-03-27T08:28:08.248Z"
   },
   {
    "duration": 53,
    "start_time": "2022-03-27T08:28:08.262Z"
   },
   {
    "duration": 40,
    "start_time": "2022-03-27T08:28:08.339Z"
   },
   {
    "duration": 24,
    "start_time": "2022-03-27T08:28:08.381Z"
   },
   {
    "duration": 47,
    "start_time": "2022-03-27T08:28:08.406Z"
   },
   {
    "duration": 24,
    "start_time": "2022-03-27T08:28:08.455Z"
   },
   {
    "duration": 76,
    "start_time": "2022-03-27T08:28:08.480Z"
   },
   {
    "duration": 36,
    "start_time": "2022-03-27T08:28:08.560Z"
   },
   {
    "duration": 19,
    "start_time": "2022-03-27T08:28:08.598Z"
   },
   {
    "duration": 43,
    "start_time": "2022-03-27T08:28:08.618Z"
   },
   {
    "duration": 13,
    "start_time": "2022-03-27T08:28:08.662Z"
   },
   {
    "duration": 97,
    "start_time": "2022-03-27T08:28:08.677Z"
   },
   {
    "duration": 40,
    "start_time": "2022-03-27T08:28:08.776Z"
   },
   {
    "duration": 81,
    "start_time": "2022-03-27T08:28:08.818Z"
   },
   {
    "duration": 44,
    "start_time": "2022-03-27T08:28:24.663Z"
   },
   {
    "duration": 39,
    "start_time": "2022-03-27T08:29:00.033Z"
   },
   {
    "duration": 49,
    "start_time": "2022-03-27T08:29:31.843Z"
   },
   {
    "duration": 23,
    "start_time": "2022-03-27T08:32:51.824Z"
   },
   {
    "duration": 25,
    "start_time": "2022-03-27T08:33:26.761Z"
   },
   {
    "duration": 8,
    "start_time": "2022-03-27T08:42:14.863Z"
   },
   {
    "duration": 67,
    "start_time": "2022-03-27T08:42:44.822Z"
   },
   {
    "duration": 58,
    "start_time": "2022-03-27T08:45:26.746Z"
   },
   {
    "duration": 44,
    "start_time": "2022-03-27T08:45:34.865Z"
   },
   {
    "duration": 72,
    "start_time": "2022-03-27T08:45:44.082Z"
   },
   {
    "duration": 411,
    "start_time": "2022-03-27T08:45:49.229Z"
   },
   {
    "duration": 170,
    "start_time": "2022-03-27T08:45:49.642Z"
   },
   {
    "duration": 143,
    "start_time": "2022-03-27T08:45:49.814Z"
   },
   {
    "duration": 97,
    "start_time": "2022-03-27T08:45:49.959Z"
   },
   {
    "duration": 18,
    "start_time": "2022-03-27T08:45:50.058Z"
   },
   {
    "duration": 24,
    "start_time": "2022-03-27T08:45:50.078Z"
   },
   {
    "duration": 18,
    "start_time": "2022-03-27T08:45:50.103Z"
   },
   {
    "duration": 68,
    "start_time": "2022-03-27T08:45:50.122Z"
   },
   {
    "duration": 12,
    "start_time": "2022-03-27T08:45:50.192Z"
   },
   {
    "duration": 64,
    "start_time": "2022-03-27T08:45:50.205Z"
   },
   {
    "duration": 9,
    "start_time": "2022-03-27T08:45:50.271Z"
   },
   {
    "duration": 60,
    "start_time": "2022-03-27T08:45:50.281Z"
   },
   {
    "duration": 7,
    "start_time": "2022-03-27T08:45:50.343Z"
   },
   {
    "duration": 14,
    "start_time": "2022-03-27T08:45:50.353Z"
   },
   {
    "duration": 17,
    "start_time": "2022-03-27T08:45:50.369Z"
   },
   {
    "duration": 11,
    "start_time": "2022-03-27T08:45:50.388Z"
   },
   {
    "duration": 75,
    "start_time": "2022-03-27T08:45:50.400Z"
   },
   {
    "duration": 35,
    "start_time": "2022-03-27T08:45:50.477Z"
   },
   {
    "duration": 41,
    "start_time": "2022-03-27T08:45:50.514Z"
   },
   {
    "duration": 5,
    "start_time": "2022-03-27T08:45:50.557Z"
   },
   {
    "duration": 8,
    "start_time": "2022-03-27T08:45:50.564Z"
   },
   {
    "duration": 69,
    "start_time": "2022-03-27T08:45:50.573Z"
   },
   {
    "duration": 38,
    "start_time": "2022-03-27T08:45:50.644Z"
   },
   {
    "duration": 22,
    "start_time": "2022-03-27T08:45:50.684Z"
   },
   {
    "duration": 45,
    "start_time": "2022-03-27T08:45:50.708Z"
   },
   {
    "duration": 25,
    "start_time": "2022-03-27T08:45:50.755Z"
   },
   {
    "duration": 79,
    "start_time": "2022-03-27T08:45:50.782Z"
   },
   {
    "duration": 35,
    "start_time": "2022-03-27T08:45:50.863Z"
   },
   {
    "duration": 41,
    "start_time": "2022-03-27T08:45:50.900Z"
   },
   {
    "duration": 26,
    "start_time": "2022-03-27T08:45:50.943Z"
   },
   {
    "duration": 14,
    "start_time": "2022-03-27T08:45:50.971Z"
   },
   {
    "duration": 94,
    "start_time": "2022-03-27T08:45:50.987Z"
   },
   {
    "duration": 40,
    "start_time": "2022-03-27T08:45:51.083Z"
   },
   {
    "duration": 43,
    "start_time": "2022-03-27T08:45:51.137Z"
   },
   {
    "duration": 23,
    "start_time": "2022-03-27T08:45:51.181Z"
   },
   {
    "duration": 68,
    "start_time": "2022-03-27T08:45:51.205Z"
   },
   {
    "duration": 25,
    "start_time": "2022-03-27T08:45:51.274Z"
   },
   {
    "duration": 27,
    "start_time": "2022-03-27T08:47:41.923Z"
   },
   {
    "duration": 27,
    "start_time": "2022-03-27T08:48:52.768Z"
   },
   {
    "duration": 76,
    "start_time": "2022-03-27T08:59:10.282Z"
   },
   {
    "duration": 22,
    "start_time": "2022-03-27T08:59:17.149Z"
   },
   {
    "duration": 4,
    "start_time": "2022-03-27T08:59:30.014Z"
   },
   {
    "duration": 19,
    "start_time": "2022-03-27T08:59:34.012Z"
   },
   {
    "duration": 22,
    "start_time": "2022-03-27T09:00:00.890Z"
   },
   {
    "duration": 19,
    "start_time": "2022-03-27T09:00:07.379Z"
   },
   {
    "duration": 43,
    "start_time": "2022-03-27T09:00:12.874Z"
   },
   {
    "duration": 49,
    "start_time": "2022-03-27T09:00:19.199Z"
   },
   {
    "duration": 47,
    "start_time": "2022-03-29T14:30:33.797Z"
   },
   {
    "duration": 413,
    "start_time": "2022-03-29T14:30:42.345Z"
   },
   {
    "duration": 176,
    "start_time": "2022-03-29T14:30:42.760Z"
   },
   {
    "duration": 153,
    "start_time": "2022-03-29T14:30:42.938Z"
   },
   {
    "duration": 98,
    "start_time": "2022-03-29T14:30:43.092Z"
   },
   {
    "duration": 16,
    "start_time": "2022-03-29T14:30:43.192Z"
   },
   {
    "duration": 36,
    "start_time": "2022-03-29T14:30:43.210Z"
   },
   {
    "duration": 18,
    "start_time": "2022-03-29T14:30:43.248Z"
   },
   {
    "duration": 82,
    "start_time": "2022-03-29T14:30:43.267Z"
   },
   {
    "duration": 12,
    "start_time": "2022-03-29T14:30:43.351Z"
   },
   {
    "duration": 94,
    "start_time": "2022-03-29T14:30:43.364Z"
   },
   {
    "duration": 9,
    "start_time": "2022-03-29T14:30:43.460Z"
   },
   {
    "duration": 76,
    "start_time": "2022-03-29T14:30:43.471Z"
   },
   {
    "duration": 8,
    "start_time": "2022-03-29T14:30:43.549Z"
   },
   {
    "duration": 13,
    "start_time": "2022-03-29T14:30:43.561Z"
   },
   {
    "duration": 13,
    "start_time": "2022-03-29T14:30:43.576Z"
   },
   {
    "duration": 21,
    "start_time": "2022-03-29T14:30:43.591Z"
   },
   {
    "duration": 82,
    "start_time": "2022-03-29T14:30:43.613Z"
   },
   {
    "duration": 53,
    "start_time": "2022-03-29T14:30:43.697Z"
   },
   {
    "duration": 24,
    "start_time": "2022-03-29T14:30:43.753Z"
   },
   {
    "duration": 5,
    "start_time": "2022-03-29T14:30:43.779Z"
   },
   {
    "duration": 8,
    "start_time": "2022-03-29T14:30:43.786Z"
   },
   {
    "duration": 80,
    "start_time": "2022-03-29T14:30:43.795Z"
   },
   {
    "duration": 62,
    "start_time": "2022-03-29T14:30:43.877Z"
   },
   {
    "duration": 26,
    "start_time": "2022-03-29T14:30:43.940Z"
   },
   {
    "duration": 18,
    "start_time": "2022-03-29T14:30:43.967Z"
   },
   {
    "duration": 63,
    "start_time": "2022-03-29T14:30:43.986Z"
   },
   {
    "duration": 36,
    "start_time": "2022-03-29T14:30:44.051Z"
   },
   {
    "duration": 55,
    "start_time": "2022-03-29T14:30:44.088Z"
   },
   {
    "duration": 20,
    "start_time": "2022-03-29T14:30:44.144Z"
   },
   {
    "duration": 25,
    "start_time": "2022-03-29T14:30:44.165Z"
   },
   {
    "duration": 14,
    "start_time": "2022-03-29T14:30:44.191Z"
   },
   {
    "duration": 67,
    "start_time": "2022-03-29T14:30:44.238Z"
   },
   {
    "duration": 52,
    "start_time": "2022-03-29T14:30:44.306Z"
   },
   {
    "duration": 43,
    "start_time": "2022-03-29T14:30:44.359Z"
   },
   {
    "duration": 38,
    "start_time": "2022-03-29T14:30:44.403Z"
   },
   {
    "duration": 50,
    "start_time": "2022-03-29T14:30:44.443Z"
   },
   {
    "duration": 44,
    "start_time": "2022-03-29T14:30:44.495Z"
   },
   {
    "duration": 61,
    "start_time": "2022-03-29T14:30:44.541Z"
   },
   {
    "duration": 16,
    "start_time": "2022-03-29T14:31:01.482Z"
   },
   {
    "duration": 406,
    "start_time": "2022-03-29T14:34:22.232Z"
   },
   {
    "duration": 177,
    "start_time": "2022-03-29T14:34:22.640Z"
   },
   {
    "duration": 150,
    "start_time": "2022-03-29T14:34:22.819Z"
   },
   {
    "duration": 122,
    "start_time": "2022-03-29T14:34:22.971Z"
   },
   {
    "duration": 16,
    "start_time": "2022-03-29T14:34:23.095Z"
   },
   {
    "duration": 23,
    "start_time": "2022-03-29T14:34:23.114Z"
   },
   {
    "duration": 19,
    "start_time": "2022-03-29T14:34:23.139Z"
   },
   {
    "duration": 82,
    "start_time": "2022-03-29T14:34:23.159Z"
   },
   {
    "duration": 13,
    "start_time": "2022-03-29T14:34:23.243Z"
   },
   {
    "duration": 48,
    "start_time": "2022-03-29T14:34:23.258Z"
   },
   {
    "duration": 31,
    "start_time": "2022-03-29T14:34:23.308Z"
   },
   {
    "duration": 40,
    "start_time": "2022-03-29T14:34:23.340Z"
   },
   {
    "duration": 7,
    "start_time": "2022-03-29T14:34:23.382Z"
   },
   {
    "duration": 14,
    "start_time": "2022-03-29T14:34:23.393Z"
   },
   {
    "duration": 34,
    "start_time": "2022-03-29T14:34:23.409Z"
   },
   {
    "duration": 7,
    "start_time": "2022-03-29T14:34:23.445Z"
   },
   {
    "duration": 60,
    "start_time": "2022-03-29T14:34:23.453Z"
   },
   {
    "duration": 51,
    "start_time": "2022-03-29T14:34:23.515Z"
   },
   {
    "duration": 24,
    "start_time": "2022-03-29T14:34:23.568Z"
   },
   {
    "duration": 5,
    "start_time": "2022-03-29T14:34:23.594Z"
   },
   {
    "duration": 10,
    "start_time": "2022-03-29T14:34:23.601Z"
   },
   {
    "duration": 74,
    "start_time": "2022-03-29T14:34:23.612Z"
   },
   {
    "duration": 62,
    "start_time": "2022-03-29T14:34:23.688Z"
   },
   {
    "duration": 27,
    "start_time": "2022-03-29T14:34:23.752Z"
   },
   {
    "duration": 61,
    "start_time": "2022-03-29T14:34:23.781Z"
   },
   {
    "duration": 26,
    "start_time": "2022-03-29T14:34:23.844Z"
   },
   {
    "duration": 68,
    "start_time": "2022-03-29T14:34:23.871Z"
   },
   {
    "duration": 37,
    "start_time": "2022-03-29T14:34:23.941Z"
   },
   {
    "duration": 18,
    "start_time": "2022-03-29T14:34:23.980Z"
   },
   {
    "duration": 47,
    "start_time": "2022-03-29T14:34:24.000Z"
   },
   {
    "duration": 13,
    "start_time": "2022-03-29T14:34:24.049Z"
   },
   {
    "duration": 83,
    "start_time": "2022-03-29T14:34:24.064Z"
   },
   {
    "duration": 39,
    "start_time": "2022-03-29T14:34:24.148Z"
   },
   {
    "duration": 60,
    "start_time": "2022-03-29T14:34:24.188Z"
   },
   {
    "duration": 23,
    "start_time": "2022-03-29T14:34:24.249Z"
   },
   {
    "duration": 65,
    "start_time": "2022-03-29T14:34:24.273Z"
   },
   {
    "duration": 27,
    "start_time": "2022-03-29T14:34:24.340Z"
   },
   {
    "duration": 14,
    "start_time": "2022-03-29T14:34:24.369Z"
   },
   {
    "duration": 16,
    "start_time": "2022-03-29T14:36:43.208Z"
   },
   {
    "duration": 12,
    "start_time": "2022-03-29T14:40:09.399Z"
   },
   {
    "duration": 15,
    "start_time": "2022-03-29T14:40:35.169Z"
   },
   {
    "duration": 9,
    "start_time": "2022-03-29T14:41:00.144Z"
   },
   {
    "duration": 11,
    "start_time": "2022-03-29T14:41:14.850Z"
   },
   {
    "duration": 21,
    "start_time": "2022-03-29T14:43:32.485Z"
   },
   {
    "duration": 24,
    "start_time": "2022-03-29T14:44:49.575Z"
   },
   {
    "duration": 69,
    "start_time": "2022-03-29T14:46:39.844Z"
   },
   {
    "duration": 12,
    "start_time": "2022-03-29T14:47:24.725Z"
   },
   {
    "duration": 15,
    "start_time": "2022-03-29T14:49:21.929Z"
   },
   {
    "duration": 409,
    "start_time": "2022-03-29T14:50:29.420Z"
   },
   {
    "duration": 169,
    "start_time": "2022-03-29T14:50:29.831Z"
   },
   {
    "duration": 160,
    "start_time": "2022-03-29T14:50:30.002Z"
   },
   {
    "duration": 107,
    "start_time": "2022-03-29T14:50:30.164Z"
   },
   {
    "duration": 17,
    "start_time": "2022-03-29T14:50:30.273Z"
   },
   {
    "duration": 29,
    "start_time": "2022-03-29T14:50:30.291Z"
   },
   {
    "duration": 24,
    "start_time": "2022-03-29T14:50:30.322Z"
   },
   {
    "duration": 68,
    "start_time": "2022-03-29T14:50:30.347Z"
   },
   {
    "duration": 32,
    "start_time": "2022-03-29T14:50:30.417Z"
   },
   {
    "duration": 64,
    "start_time": "2022-03-29T14:50:30.451Z"
   },
   {
    "duration": 11,
    "start_time": "2022-03-29T14:50:30.517Z"
   },
   {
    "duration": 78,
    "start_time": "2022-03-29T14:50:30.537Z"
   },
   {
    "duration": 10,
    "start_time": "2022-03-29T14:50:30.617Z"
   },
   {
    "duration": 25,
    "start_time": "2022-03-29T14:50:30.638Z"
   },
   {
    "duration": 21,
    "start_time": "2022-03-29T14:50:30.665Z"
   },
   {
    "duration": 15,
    "start_time": "2022-03-29T14:50:30.688Z"
   },
   {
    "duration": 67,
    "start_time": "2022-03-29T14:50:30.704Z"
   },
   {
    "duration": 40,
    "start_time": "2022-03-29T14:50:30.773Z"
   },
   {
    "duration": 47,
    "start_time": "2022-03-29T14:50:30.815Z"
   },
   {
    "duration": 6,
    "start_time": "2022-03-29T14:50:30.864Z"
   },
   {
    "duration": 19,
    "start_time": "2022-03-29T14:50:30.871Z"
   },
   {
    "duration": 68,
    "start_time": "2022-03-29T14:50:30.892Z"
   },
   {
    "duration": 40,
    "start_time": "2022-03-29T14:50:30.962Z"
   },
   {
    "duration": 26,
    "start_time": "2022-03-29T14:50:31.037Z"
   },
   {
    "duration": 20,
    "start_time": "2022-03-29T14:50:31.064Z"
   },
   {
    "duration": 64,
    "start_time": "2022-03-29T14:50:31.086Z"
   },
   {
    "duration": 35,
    "start_time": "2022-03-29T14:50:31.151Z"
   },
   {
    "duration": 64,
    "start_time": "2022-03-29T14:50:31.190Z"
   },
   {
    "duration": 19,
    "start_time": "2022-03-29T14:50:31.256Z"
   },
   {
    "duration": 26,
    "start_time": "2022-03-29T14:50:31.277Z"
   },
   {
    "duration": 35,
    "start_time": "2022-03-29T14:50:31.305Z"
   },
   {
    "duration": 84,
    "start_time": "2022-03-29T14:50:31.342Z"
   },
   {
    "duration": 61,
    "start_time": "2022-03-29T14:50:31.428Z"
   },
   {
    "duration": 47,
    "start_time": "2022-03-29T14:50:31.491Z"
   },
   {
    "duration": 84,
    "start_time": "2022-03-29T14:50:31.540Z"
   },
   {
    "duration": 57,
    "start_time": "2022-03-29T14:50:31.625Z"
   },
   {
    "duration": 42,
    "start_time": "2022-03-29T14:50:31.683Z"
   },
   {
    "duration": 35,
    "start_time": "2022-03-29T14:50:31.727Z"
   },
   {
    "duration": 35,
    "start_time": "2022-03-29T14:50:31.764Z"
   },
   {
    "duration": 30,
    "start_time": "2022-03-29T14:50:31.801Z"
   },
   {
    "duration": 38,
    "start_time": "2022-03-29T14:50:31.833Z"
   },
   {
    "duration": 52,
    "start_time": "2022-03-29T14:50:31.873Z"
   },
   {
    "duration": 77,
    "start_time": "2022-03-29T14:50:31.926Z"
   },
   {
    "duration": 114,
    "start_time": "2022-03-29T14:50:32.005Z"
   },
   {
    "duration": 14,
    "start_time": "2022-03-29T14:51:25.974Z"
   },
   {
    "duration": 9,
    "start_time": "2022-03-29T14:56:38.339Z"
   },
   {
    "duration": 445,
    "start_time": "2022-03-29T14:57:02.602Z"
   },
   {
    "duration": 188,
    "start_time": "2022-03-29T14:57:03.050Z"
   },
   {
    "duration": 158,
    "start_time": "2022-03-29T14:57:03.241Z"
   },
   {
    "duration": 110,
    "start_time": "2022-03-29T14:57:03.402Z"
   },
   {
    "duration": 38,
    "start_time": "2022-03-29T14:57:03.514Z"
   },
   {
    "duration": 48,
    "start_time": "2022-03-29T14:57:03.553Z"
   },
   {
    "duration": 17,
    "start_time": "2022-03-29T14:57:03.603Z"
   },
   {
    "duration": 73,
    "start_time": "2022-03-29T14:57:03.621Z"
   },
   {
    "duration": 13,
    "start_time": "2022-03-29T14:57:03.695Z"
   },
   {
    "duration": 61,
    "start_time": "2022-03-29T14:57:03.711Z"
   },
   {
    "duration": 9,
    "start_time": "2022-03-29T14:57:03.773Z"
   },
   {
    "duration": 56,
    "start_time": "2022-03-29T14:57:03.784Z"
   },
   {
    "duration": 7,
    "start_time": "2022-03-29T14:57:03.842Z"
   },
   {
    "duration": 13,
    "start_time": "2022-03-29T14:57:03.851Z"
   },
   {
    "duration": 17,
    "start_time": "2022-03-29T14:57:03.865Z"
   },
   {
    "duration": 20,
    "start_time": "2022-03-29T14:57:03.884Z"
   },
   {
    "duration": 16,
    "start_time": "2022-03-29T14:57:03.905Z"
   },
   {
    "duration": 80,
    "start_time": "2022-03-29T14:57:03.923Z"
   },
   {
    "duration": 42,
    "start_time": "2022-03-29T14:57:04.004Z"
   },
   {
    "duration": 25,
    "start_time": "2022-03-29T14:57:04.048Z"
   },
   {
    "duration": 5,
    "start_time": "2022-03-29T14:57:04.075Z"
   },
   {
    "duration": 10,
    "start_time": "2022-03-29T14:57:04.082Z"
   },
   {
    "duration": 71,
    "start_time": "2022-03-29T14:57:04.094Z"
   },
   {
    "duration": 39,
    "start_time": "2022-03-29T14:57:04.166Z"
   },
   {
    "duration": 50,
    "start_time": "2022-03-29T14:57:04.206Z"
   },
   {
    "duration": 18,
    "start_time": "2022-03-29T14:57:04.258Z"
   },
   {
    "duration": 61,
    "start_time": "2022-03-29T14:57:04.278Z"
   },
   {
    "duration": 36,
    "start_time": "2022-03-29T14:57:04.342Z"
   },
   {
    "duration": 36,
    "start_time": "2022-03-29T14:57:04.380Z"
   },
   {
    "duration": 47,
    "start_time": "2022-03-29T14:57:04.417Z"
   },
   {
    "duration": 28,
    "start_time": "2022-03-29T14:57:04.466Z"
   },
   {
    "duration": 43,
    "start_time": "2022-03-29T14:57:04.495Z"
   },
   {
    "duration": 67,
    "start_time": "2022-03-29T14:57:04.540Z"
   },
   {
    "duration": 53,
    "start_time": "2022-03-29T14:57:04.608Z"
   },
   {
    "duration": 43,
    "start_time": "2022-03-29T14:57:04.663Z"
   },
   {
    "duration": 40,
    "start_time": "2022-03-29T14:57:04.708Z"
   },
   {
    "duration": 51,
    "start_time": "2022-03-29T14:57:04.750Z"
   },
   {
    "duration": 46,
    "start_time": "2022-03-29T14:57:04.803Z"
   },
   {
    "duration": 15,
    "start_time": "2022-03-29T14:57:04.851Z"
   },
   {
    "duration": 16,
    "start_time": "2022-03-29T14:57:04.868Z"
   },
   {
    "duration": 9,
    "start_time": "2022-03-29T14:57:04.885Z"
   },
   {
    "duration": 44,
    "start_time": "2022-03-29T14:57:04.896Z"
   },
   {
    "duration": 13,
    "start_time": "2022-03-29T14:57:04.942Z"
   },
   {
    "duration": 24,
    "start_time": "2022-03-29T14:57:04.956Z"
   },
   {
    "duration": 22,
    "start_time": "2022-03-29T14:57:04.982Z"
   },
   {
    "duration": 8,
    "start_time": "2022-03-29T14:58:13.040Z"
   },
   {
    "duration": 1992,
    "start_time": "2022-03-29T15:00:12.440Z"
   },
   {
    "duration": 6,
    "start_time": "2022-03-29T15:02:32.271Z"
   },
   {
    "duration": 8,
    "start_time": "2022-03-29T15:02:56.795Z"
   },
   {
    "duration": 5,
    "start_time": "2022-03-29T15:05:03.021Z"
   },
   {
    "duration": 11,
    "start_time": "2022-03-29T15:05:43.979Z"
   },
   {
    "duration": 4,
    "start_time": "2022-03-29T15:11:42.533Z"
   },
   {
    "duration": 18,
    "start_time": "2022-03-29T15:14:30.264Z"
   },
   {
    "duration": 4,
    "start_time": "2022-03-29T15:18:50.204Z"
   },
   {
    "duration": 376,
    "start_time": "2022-03-29T15:19:25.170Z"
   },
   {
    "duration": 175,
    "start_time": "2022-03-29T15:19:25.548Z"
   },
   {
    "duration": 143,
    "start_time": "2022-03-29T15:19:25.725Z"
   },
   {
    "duration": 106,
    "start_time": "2022-03-29T15:19:25.870Z"
   },
   {
    "duration": 18,
    "start_time": "2022-03-29T15:19:25.979Z"
   },
   {
    "duration": 23,
    "start_time": "2022-03-29T15:19:25.998Z"
   },
   {
    "duration": 21,
    "start_time": "2022-03-29T15:19:26.023Z"
   },
   {
    "duration": 67,
    "start_time": "2022-03-29T15:19:26.046Z"
   },
   {
    "duration": 35,
    "start_time": "2022-03-29T15:19:26.114Z"
   },
   {
    "duration": 52,
    "start_time": "2022-03-29T15:19:26.151Z"
   },
   {
    "duration": 9,
    "start_time": "2022-03-29T15:19:26.205Z"
   },
   {
    "duration": 67,
    "start_time": "2022-03-29T15:19:26.215Z"
   },
   {
    "duration": 7,
    "start_time": "2022-03-29T15:19:26.283Z"
   },
   {
    "duration": 8,
    "start_time": "2022-03-29T15:19:26.293Z"
   },
   {
    "duration": 35,
    "start_time": "2022-03-29T15:19:26.303Z"
   },
   {
    "duration": 12,
    "start_time": "2022-03-29T15:19:26.340Z"
   },
   {
    "duration": 10,
    "start_time": "2022-03-29T15:19:26.353Z"
   },
   {
    "duration": 73,
    "start_time": "2022-03-29T15:19:26.365Z"
   },
   {
    "duration": 39,
    "start_time": "2022-03-29T15:19:26.440Z"
   },
   {
    "duration": 26,
    "start_time": "2022-03-29T15:19:26.481Z"
   },
   {
    "duration": 29,
    "start_time": "2022-03-29T15:19:26.509Z"
   },
   {
    "duration": 14,
    "start_time": "2022-03-29T15:19:26.540Z"
   },
   {
    "duration": 51,
    "start_time": "2022-03-29T15:19:26.556Z"
   },
   {
    "duration": 65,
    "start_time": "2022-03-29T15:19:26.609Z"
   },
   {
    "duration": 32,
    "start_time": "2022-03-29T15:19:26.676Z"
   },
   {
    "duration": 20,
    "start_time": "2022-03-29T15:19:26.737Z"
   },
   {
    "duration": 23,
    "start_time": "2022-03-29T15:19:26.759Z"
   },
   {
    "duration": 71,
    "start_time": "2022-03-29T15:19:26.783Z"
   },
   {
    "duration": 33,
    "start_time": "2022-03-29T15:19:26.855Z"
   },
   {
    "duration": 18,
    "start_time": "2022-03-29T15:19:26.890Z"
   },
   {
    "duration": 49,
    "start_time": "2022-03-29T15:19:26.910Z"
   },
   {
    "duration": 14,
    "start_time": "2022-03-29T15:19:26.961Z"
   },
   {
    "duration": 87,
    "start_time": "2022-03-29T15:19:26.976Z"
   },
   {
    "duration": 36,
    "start_time": "2022-03-29T15:19:27.066Z"
   },
   {
    "duration": 72,
    "start_time": "2022-03-29T15:19:27.104Z"
   },
   {
    "duration": 26,
    "start_time": "2022-03-29T15:19:27.178Z"
   },
   {
    "duration": 64,
    "start_time": "2022-03-29T15:19:27.206Z"
   },
   {
    "duration": 29,
    "start_time": "2022-03-29T15:19:27.272Z"
   },
   {
    "duration": 40,
    "start_time": "2022-03-29T15:19:27.302Z"
   },
   {
    "duration": 15,
    "start_time": "2022-03-29T15:19:27.344Z"
   },
   {
    "duration": 9,
    "start_time": "2022-03-29T15:19:27.362Z"
   },
   {
    "duration": 11,
    "start_time": "2022-03-29T15:19:27.373Z"
   },
   {
    "duration": 12,
    "start_time": "2022-03-29T15:19:27.385Z"
   },
   {
    "duration": 51,
    "start_time": "2022-03-29T15:19:27.398Z"
   },
   {
    "duration": 21,
    "start_time": "2022-03-29T15:19:27.451Z"
   },
   {
    "duration": 8,
    "start_time": "2022-03-29T15:19:27.473Z"
   },
   {
    "duration": 5,
    "start_time": "2022-03-29T15:19:27.482Z"
   },
   {
    "duration": 9,
    "start_time": "2022-03-29T15:19:27.489Z"
   },
   {
    "duration": 47,
    "start_time": "2022-03-29T15:19:27.499Z"
   },
   {
    "duration": 4,
    "start_time": "2022-03-29T15:19:27.548Z"
   },
   {
    "duration": 19,
    "start_time": "2022-03-29T15:19:27.554Z"
   },
   {
    "duration": 86,
    "start_time": "2022-03-29T15:38:06.649Z"
   },
   {
    "duration": 384,
    "start_time": "2022-03-29T15:39:27.360Z"
   },
   {
    "duration": 205,
    "start_time": "2022-03-29T15:39:27.747Z"
   },
   {
    "duration": 192,
    "start_time": "2022-03-29T15:39:27.954Z"
   },
   {
    "duration": 123,
    "start_time": "2022-03-29T15:39:28.148Z"
   },
   {
    "duration": 18,
    "start_time": "2022-03-29T15:39:28.273Z"
   },
   {
    "duration": 24,
    "start_time": "2022-03-29T15:39:28.292Z"
   },
   {
    "duration": 29,
    "start_time": "2022-03-29T15:39:28.318Z"
   },
   {
    "duration": 93,
    "start_time": "2022-03-29T15:39:28.349Z"
   },
   {
    "duration": 15,
    "start_time": "2022-03-29T15:39:28.443Z"
   },
   {
    "duration": 65,
    "start_time": "2022-03-29T15:39:28.459Z"
   },
   {
    "duration": 20,
    "start_time": "2022-03-29T15:39:28.526Z"
   },
   {
    "duration": 44,
    "start_time": "2022-03-29T15:39:28.548Z"
   },
   {
    "duration": 8,
    "start_time": "2022-03-29T15:39:28.593Z"
   },
   {
    "duration": 46,
    "start_time": "2022-03-29T15:39:28.605Z"
   },
   {
    "duration": 15,
    "start_time": "2022-03-29T15:39:28.653Z"
   },
   {
    "duration": 14,
    "start_time": "2022-03-29T15:39:28.669Z"
   },
   {
    "duration": 7,
    "start_time": "2022-03-29T15:39:28.686Z"
   },
   {
    "duration": 90,
    "start_time": "2022-03-29T15:39:28.695Z"
   },
   {
    "duration": 51,
    "start_time": "2022-03-29T15:39:28.787Z"
   },
   {
    "duration": 29,
    "start_time": "2022-03-29T15:39:28.840Z"
   },
   {
    "duration": 6,
    "start_time": "2022-03-29T15:39:28.872Z"
   },
   {
    "duration": 9,
    "start_time": "2022-03-29T15:39:28.880Z"
   },
   {
    "duration": 93,
    "start_time": "2022-03-29T15:39:28.891Z"
   },
   {
    "duration": 67,
    "start_time": "2022-03-29T15:39:28.986Z"
   },
   {
    "duration": 26,
    "start_time": "2022-03-29T15:39:29.055Z"
   },
   {
    "duration": 56,
    "start_time": "2022-03-29T15:39:29.083Z"
   },
   {
    "duration": 26,
    "start_time": "2022-03-29T15:39:29.141Z"
   },
   {
    "duration": 33,
    "start_time": "2022-03-29T15:39:29.168Z"
   },
   {
    "duration": 37,
    "start_time": "2022-03-29T15:39:29.237Z"
   },
   {
    "duration": 25,
    "start_time": "2022-03-29T15:39:29.276Z"
   },
   {
    "duration": 62,
    "start_time": "2022-03-29T15:39:29.303Z"
   },
   {
    "duration": 14,
    "start_time": "2022-03-29T15:39:29.367Z"
   },
   {
    "duration": 89,
    "start_time": "2022-03-29T15:39:29.384Z"
   },
   {
    "duration": 40,
    "start_time": "2022-03-29T15:39:29.475Z"
   },
   {
    "duration": 56,
    "start_time": "2022-03-29T15:39:29.517Z"
   },
   {
    "duration": 26,
    "start_time": "2022-03-29T15:39:29.575Z"
   },
   {
    "duration": 77,
    "start_time": "2022-03-29T15:39:29.603Z"
   },
   {
    "duration": 29,
    "start_time": "2022-03-29T15:39:29.682Z"
   },
   {
    "duration": 38,
    "start_time": "2022-03-29T15:39:29.713Z"
   },
   {
    "duration": 16,
    "start_time": "2022-03-29T15:39:29.752Z"
   },
   {
    "duration": 11,
    "start_time": "2022-03-29T15:39:29.772Z"
   },
   {
    "duration": 14,
    "start_time": "2022-03-29T15:39:29.785Z"
   },
   {
    "duration": 38,
    "start_time": "2022-03-29T15:39:29.801Z"
   },
   {
    "duration": 28,
    "start_time": "2022-03-29T15:39:29.841Z"
   },
   {
    "duration": 22,
    "start_time": "2022-03-29T15:39:29.871Z"
   },
   {
    "duration": 8,
    "start_time": "2022-03-29T15:39:29.895Z"
   },
   {
    "duration": 34,
    "start_time": "2022-03-29T15:39:29.904Z"
   },
   {
    "duration": 8,
    "start_time": "2022-03-29T15:39:29.940Z"
   },
   {
    "duration": 17,
    "start_time": "2022-03-29T15:39:29.950Z"
   },
   {
    "duration": 4,
    "start_time": "2022-03-29T15:39:29.969Z"
   },
   {
    "duration": 26,
    "start_time": "2022-03-29T15:39:29.975Z"
   },
   {
    "duration": 111,
    "start_time": "2022-03-29T15:39:30.003Z"
   },
   {
    "duration": 6,
    "start_time": "2022-03-29T15:54:05.723Z"
   },
   {
    "duration": 5,
    "start_time": "2022-03-29T15:54:12.111Z"
   },
   {
    "duration": 18,
    "start_time": "2022-03-29T15:54:15.257Z"
   },
   {
    "duration": 448,
    "start_time": "2022-03-29T15:55:03.906Z"
   },
   {
    "duration": 196,
    "start_time": "2022-03-29T15:55:04.356Z"
   },
   {
    "duration": 174,
    "start_time": "2022-03-29T15:55:04.554Z"
   },
   {
    "duration": 108,
    "start_time": "2022-03-29T15:55:04.730Z"
   },
   {
    "duration": 18,
    "start_time": "2022-03-29T15:55:04.840Z"
   },
   {
    "duration": 39,
    "start_time": "2022-03-29T15:55:04.860Z"
   },
   {
    "duration": 24,
    "start_time": "2022-03-29T15:55:04.902Z"
   },
   {
    "duration": 86,
    "start_time": "2022-03-29T15:55:04.928Z"
   },
   {
    "duration": 15,
    "start_time": "2022-03-29T15:55:05.016Z"
   },
   {
    "duration": 62,
    "start_time": "2022-03-29T15:55:05.033Z"
   },
   {
    "duration": 9,
    "start_time": "2022-03-29T15:55:05.097Z"
   },
   {
    "duration": 60,
    "start_time": "2022-03-29T15:55:05.107Z"
   },
   {
    "duration": 7,
    "start_time": "2022-03-29T15:55:05.169Z"
   },
   {
    "duration": 38,
    "start_time": "2022-03-29T15:55:05.179Z"
   },
   {
    "duration": 22,
    "start_time": "2022-03-29T15:55:05.219Z"
   },
   {
    "duration": 29,
    "start_time": "2022-03-29T15:55:05.243Z"
   },
   {
    "duration": 26,
    "start_time": "2022-03-29T15:55:05.275Z"
   },
   {
    "duration": 76,
    "start_time": "2022-03-29T15:55:05.303Z"
   },
   {
    "duration": 44,
    "start_time": "2022-03-29T15:55:05.381Z"
   },
   {
    "duration": 33,
    "start_time": "2022-03-29T15:55:05.427Z"
   },
   {
    "duration": 7,
    "start_time": "2022-03-29T15:55:05.462Z"
   },
   {
    "duration": 34,
    "start_time": "2022-03-29T15:55:05.470Z"
   },
   {
    "duration": 78,
    "start_time": "2022-03-29T15:55:05.506Z"
   },
   {
    "duration": 67,
    "start_time": "2022-03-29T15:55:05.585Z"
   },
   {
    "duration": 25,
    "start_time": "2022-03-29T15:55:05.655Z"
   },
   {
    "duration": 21,
    "start_time": "2022-03-29T15:55:05.682Z"
   },
   {
    "duration": 76,
    "start_time": "2022-03-29T15:55:05.705Z"
   },
   {
    "duration": 35,
    "start_time": "2022-03-29T15:55:05.783Z"
   },
   {
    "duration": 52,
    "start_time": "2022-03-29T15:55:05.819Z"
   },
   {
    "duration": 19,
    "start_time": "2022-03-29T15:55:05.873Z"
   },
   {
    "duration": 57,
    "start_time": "2022-03-29T15:55:05.894Z"
   },
   {
    "duration": 18,
    "start_time": "2022-03-29T15:55:05.953Z"
   },
   {
    "duration": 98,
    "start_time": "2022-03-29T15:55:05.983Z"
   },
   {
    "duration": 41,
    "start_time": "2022-03-29T15:55:06.083Z"
   },
   {
    "duration": 47,
    "start_time": "2022-03-29T15:55:06.137Z"
   },
   {
    "duration": 32,
    "start_time": "2022-03-29T15:55:06.186Z"
   },
   {
    "duration": 64,
    "start_time": "2022-03-29T15:55:06.220Z"
   },
   {
    "duration": 52,
    "start_time": "2022-03-29T15:55:06.286Z"
   },
   {
    "duration": 39,
    "start_time": "2022-03-29T15:55:06.340Z"
   },
   {
    "duration": 25,
    "start_time": "2022-03-29T15:55:06.381Z"
   },
   {
    "duration": 22,
    "start_time": "2022-03-29T15:55:06.411Z"
   },
   {
    "duration": 46,
    "start_time": "2022-03-29T15:55:06.435Z"
   },
   {
    "duration": 23,
    "start_time": "2022-03-29T15:55:06.483Z"
   },
   {
    "duration": 44,
    "start_time": "2022-03-29T15:55:06.508Z"
   },
   {
    "duration": 27,
    "start_time": "2022-03-29T15:55:06.554Z"
   },
   {
    "duration": 11,
    "start_time": "2022-03-29T15:55:06.583Z"
   },
   {
    "duration": 22,
    "start_time": "2022-03-29T15:55:06.596Z"
   },
   {
    "duration": 57,
    "start_time": "2022-03-29T15:55:06.620Z"
   },
   {
    "duration": 18,
    "start_time": "2022-03-29T15:55:06.679Z"
   },
   {
    "duration": 19,
    "start_time": "2022-03-29T15:55:06.699Z"
   },
   {
    "duration": 47,
    "start_time": "2022-03-29T15:55:06.720Z"
   },
   {
    "duration": 2966,
    "start_time": "2022-03-29T15:55:06.769Z"
   },
   {
    "duration": 4,
    "start_time": "2022-03-29T15:55:50.529Z"
   },
   {
    "duration": 18,
    "start_time": "2022-03-29T15:55:53.830Z"
   },
   {
    "duration": 1961,
    "start_time": "2022-03-29T15:55:56.308Z"
   },
   {
    "duration": 4,
    "start_time": "2022-03-29T15:56:20.332Z"
   },
   {
    "duration": 18,
    "start_time": "2022-03-29T15:56:22.605Z"
   },
   {
    "duration": 140,
    "start_time": "2022-03-29T15:56:24.636Z"
   },
   {
    "duration": 4,
    "start_time": "2022-03-29T15:56:57.839Z"
   },
   {
    "duration": 24,
    "start_time": "2022-03-29T15:57:00.202Z"
   },
   {
    "duration": 31,
    "start_time": "2022-03-29T15:57:02.641Z"
   },
   {
    "duration": 4,
    "start_time": "2022-03-29T15:57:15.417Z"
   },
   {
    "duration": 23,
    "start_time": "2022-03-29T15:57:17.255Z"
   },
   {
    "duration": 117,
    "start_time": "2022-03-29T15:57:20.054Z"
   },
   {
    "duration": 2,
    "start_time": "2022-03-29T16:01:20.435Z"
   },
   {
    "duration": 49,
    "start_time": "2022-03-31T15:21:34.289Z"
   },
   {
    "duration": 383,
    "start_time": "2022-03-31T15:21:39.338Z"
   },
   {
    "duration": 156,
    "start_time": "2022-03-31T15:21:39.723Z"
   },
   {
    "duration": 135,
    "start_time": "2022-03-31T15:21:39.881Z"
   },
   {
    "duration": 92,
    "start_time": "2022-03-31T15:21:40.018Z"
   },
   {
    "duration": 15,
    "start_time": "2022-03-31T15:21:40.113Z"
   },
   {
    "duration": 20,
    "start_time": "2022-03-31T15:21:40.129Z"
   },
   {
    "duration": 17,
    "start_time": "2022-03-31T15:21:40.151Z"
   },
   {
    "duration": 76,
    "start_time": "2022-03-31T15:21:40.169Z"
   },
   {
    "duration": 12,
    "start_time": "2022-03-31T15:21:40.247Z"
   },
   {
    "duration": 64,
    "start_time": "2022-03-31T15:21:40.260Z"
   },
   {
    "duration": 9,
    "start_time": "2022-03-31T15:21:40.325Z"
   },
   {
    "duration": 43,
    "start_time": "2022-03-31T15:21:40.335Z"
   },
   {
    "duration": 7,
    "start_time": "2022-03-31T15:21:40.379Z"
   },
   {
    "duration": 8,
    "start_time": "2022-03-31T15:21:40.408Z"
   },
   {
    "duration": 21,
    "start_time": "2022-03-31T15:21:40.418Z"
   },
   {
    "duration": 11,
    "start_time": "2022-03-31T15:21:40.441Z"
   },
   {
    "duration": 6,
    "start_time": "2022-03-31T15:21:40.454Z"
   },
   {
    "duration": 63,
    "start_time": "2022-03-31T15:21:40.462Z"
   },
   {
    "duration": 30,
    "start_time": "2022-03-31T15:21:40.527Z"
   },
   {
    "duration": 20,
    "start_time": "2022-03-31T15:21:40.559Z"
   },
   {
    "duration": 6,
    "start_time": "2022-03-31T15:21:40.580Z"
   },
   {
    "duration": 7,
    "start_time": "2022-03-31T15:21:40.609Z"
   },
   {
    "duration": 48,
    "start_time": "2022-03-31T15:21:40.617Z"
   },
   {
    "duration": 62,
    "start_time": "2022-03-31T15:21:40.666Z"
   },
   {
    "duration": 20,
    "start_time": "2022-03-31T15:21:40.729Z"
   },
   {
    "duration": 15,
    "start_time": "2022-03-31T15:21:40.751Z"
   },
   {
    "duration": 56,
    "start_time": "2022-03-31T15:21:40.768Z"
   },
   {
    "duration": 29,
    "start_time": "2022-03-31T15:21:40.826Z"
   },
   {
    "duration": 58,
    "start_time": "2022-03-31T15:21:40.857Z"
   },
   {
    "duration": 18,
    "start_time": "2022-03-31T15:21:40.916Z"
   },
   {
    "duration": 26,
    "start_time": "2022-03-31T15:21:40.935Z"
   },
   {
    "duration": 14,
    "start_time": "2022-03-31T15:21:40.963Z"
   },
   {
    "duration": 93,
    "start_time": "2022-03-31T15:21:40.978Z"
   },
   {
    "duration": 55,
    "start_time": "2022-03-31T15:21:41.073Z"
   },
   {
    "duration": 42,
    "start_time": "2022-03-31T15:21:41.130Z"
   },
   {
    "duration": 45,
    "start_time": "2022-03-31T15:21:41.174Z"
   },
   {
    "duration": 49,
    "start_time": "2022-03-31T15:21:41.220Z"
   },
   {
    "duration": 44,
    "start_time": "2022-03-31T15:21:41.271Z"
   },
   {
    "duration": 15,
    "start_time": "2022-03-31T15:21:41.317Z"
   },
   {
    "duration": 15,
    "start_time": "2022-03-31T15:21:41.333Z"
   },
   {
    "duration": 8,
    "start_time": "2022-03-31T15:21:41.353Z"
   },
   {
    "duration": 8,
    "start_time": "2022-03-31T15:21:41.363Z"
   },
   {
    "duration": 42,
    "start_time": "2022-03-31T15:21:41.373Z"
   },
   {
    "duration": 20,
    "start_time": "2022-03-31T15:21:41.417Z"
   },
   {
    "duration": 20,
    "start_time": "2022-03-31T15:21:41.438Z"
   },
   {
    "duration": 8,
    "start_time": "2022-03-31T15:21:41.460Z"
   },
   {
    "duration": 40,
    "start_time": "2022-03-31T15:21:41.469Z"
   },
   {
    "duration": 8,
    "start_time": "2022-03-31T15:21:41.510Z"
   },
   {
    "duration": 10,
    "start_time": "2022-03-31T15:21:41.520Z"
   },
   {
    "duration": 3,
    "start_time": "2022-03-31T15:21:41.532Z"
   },
   {
    "duration": 16,
    "start_time": "2022-03-31T15:21:41.537Z"
   },
   {
    "duration": 140,
    "start_time": "2022-03-31T15:21:41.554Z"
   },
   {
    "duration": 21,
    "start_time": "2022-03-31T15:21:41.696Z"
   },
   {
    "duration": 5,
    "start_time": "2022-03-31T15:22:33.514Z"
   },
   {
    "duration": 6,
    "start_time": "2022-03-31T15:23:12.779Z"
   },
   {
    "duration": 643,
    "start_time": "2022-03-31T15:25:15.213Z"
   },
   {
    "duration": 120,
    "start_time": "2022-03-31T15:25:35.019Z"
   },
   {
    "duration": 127,
    "start_time": "2022-03-31T15:33:21.909Z"
   },
   {
    "duration": 183,
    "start_time": "2022-03-31T15:35:17.659Z"
   },
   {
    "duration": 63,
    "start_time": "2022-03-31T15:39:58.042Z"
   },
   {
    "duration": 154,
    "start_time": "2022-03-31T15:40:19.590Z"
   },
   {
    "duration": 67,
    "start_time": "2022-03-31T15:40:23.349Z"
   },
   {
    "duration": 69,
    "start_time": "2022-03-31T15:40:27.047Z"
   },
   {
    "duration": 62,
    "start_time": "2022-03-31T15:40:35.616Z"
   },
   {
    "duration": 72,
    "start_time": "2022-03-31T15:40:48.277Z"
   },
   {
    "duration": 65,
    "start_time": "2022-03-31T15:42:35.128Z"
   },
   {
    "duration": 83,
    "start_time": "2022-03-31T15:42:42.923Z"
   },
   {
    "duration": 43,
    "start_time": "2022-03-31T15:42:57.499Z"
   },
   {
    "duration": 13,
    "start_time": "2022-03-31T15:43:04.658Z"
   },
   {
    "duration": 10,
    "start_time": "2022-03-31T15:43:26.957Z"
   },
   {
    "duration": 10,
    "start_time": "2022-03-31T16:36:39.692Z"
   },
   {
    "duration": 1019,
    "start_time": "2022-03-31T16:38:50.568Z"
   },
   {
    "duration": 150,
    "start_time": "2022-03-31T16:39:03.011Z"
   },
   {
    "duration": 152,
    "start_time": "2022-03-31T16:40:24.552Z"
   },
   {
    "duration": 167,
    "start_time": "2022-03-31T16:40:34.774Z"
   },
   {
    "duration": 64,
    "start_time": "2022-03-31T16:41:46.423Z"
   },
   {
    "duration": 160,
    "start_time": "2022-03-31T16:47:20.394Z"
   },
   {
    "duration": 13,
    "start_time": "2022-03-31T17:04:02.410Z"
   },
   {
    "duration": 14,
    "start_time": "2022-03-31T17:05:19.426Z"
   },
   {
    "duration": 171,
    "start_time": "2022-03-31T17:06:03.768Z"
   },
   {
    "duration": 173,
    "start_time": "2022-03-31T17:06:10.429Z"
   },
   {
    "duration": 170,
    "start_time": "2022-03-31T17:06:48.045Z"
   },
   {
    "duration": 13,
    "start_time": "2022-03-31T17:12:49.024Z"
   },
   {
    "duration": 151,
    "start_time": "2022-03-31T17:13:51.833Z"
   },
   {
    "duration": 157,
    "start_time": "2022-03-31T17:14:10.696Z"
   },
   {
    "duration": 211,
    "start_time": "2022-03-31T17:14:15.351Z"
   },
   {
    "duration": 75,
    "start_time": "2022-03-31T17:25:05.768Z"
   },
   {
    "duration": 30,
    "start_time": "2022-03-31T17:32:33.056Z"
   },
   {
    "duration": 6,
    "start_time": "2022-03-31T17:32:51.726Z"
   },
   {
    "duration": 7,
    "start_time": "2022-03-31T17:32:54.246Z"
   },
   {
    "duration": 4,
    "start_time": "2022-03-31T17:33:26.699Z"
   },
   {
    "duration": 27,
    "start_time": "2022-03-31T17:33:28.900Z"
   },
   {
    "duration": 7,
    "start_time": "2022-03-31T17:33:30.710Z"
   },
   {
    "duration": 7,
    "start_time": "2022-03-31T17:33:31.378Z"
   },
   {
    "duration": 6,
    "start_time": "2022-03-31T17:33:35.876Z"
   },
   {
    "duration": 892,
    "start_time": "2022-03-31T17:33:55.175Z"
   },
   {
    "duration": 1222,
    "start_time": "2022-03-31T17:34:00.330Z"
   },
   {
    "duration": 2,
    "start_time": "2022-03-31T17:34:03.297Z"
   },
   {
    "duration": 426,
    "start_time": "2022-03-31T17:34:08.741Z"
   },
   {
    "duration": 189,
    "start_time": "2022-03-31T17:34:09.169Z"
   },
   {
    "duration": 153,
    "start_time": "2022-03-31T17:34:09.360Z"
   },
   {
    "duration": 118,
    "start_time": "2022-03-31T17:34:09.518Z"
   },
   {
    "duration": 16,
    "start_time": "2022-03-31T17:34:09.640Z"
   },
   {
    "duration": 27,
    "start_time": "2022-03-31T17:34:09.658Z"
   },
   {
    "duration": 26,
    "start_time": "2022-03-31T17:34:09.687Z"
   },
   {
    "duration": 78,
    "start_time": "2022-03-31T17:34:09.719Z"
   },
   {
    "duration": 23,
    "start_time": "2022-03-31T17:34:09.799Z"
   },
   {
    "duration": 54,
    "start_time": "2022-03-31T17:34:09.824Z"
   },
   {
    "duration": 10,
    "start_time": "2022-03-31T17:34:09.880Z"
   },
   {
    "duration": 68,
    "start_time": "2022-03-31T17:34:09.892Z"
   },
   {
    "duration": 8,
    "start_time": "2022-03-31T17:34:09.962Z"
   },
   {
    "duration": 9,
    "start_time": "2022-03-31T17:34:09.973Z"
   },
   {
    "duration": 18,
    "start_time": "2022-03-31T17:34:10.012Z"
   },
   {
    "duration": 12,
    "start_time": "2022-03-31T17:34:10.032Z"
   },
   {
    "duration": 11,
    "start_time": "2022-03-31T17:34:10.046Z"
   },
   {
    "duration": 86,
    "start_time": "2022-03-31T17:34:10.059Z"
   },
   {
    "duration": 37,
    "start_time": "2022-03-31T17:34:10.146Z"
   },
   {
    "duration": 47,
    "start_time": "2022-03-31T17:34:10.185Z"
   },
   {
    "duration": 6,
    "start_time": "2022-03-31T17:34:10.234Z"
   },
   {
    "duration": 10,
    "start_time": "2022-03-31T17:34:10.241Z"
   },
   {
    "duration": 79,
    "start_time": "2022-03-31T17:34:10.252Z"
   },
   {
    "duration": 40,
    "start_time": "2022-03-31T17:34:10.333Z"
   },
   {
    "duration": 53,
    "start_time": "2022-03-31T17:34:10.375Z"
   },
   {
    "duration": 19,
    "start_time": "2022-03-31T17:34:10.430Z"
   },
   {
    "duration": 70,
    "start_time": "2022-03-31T17:34:10.451Z"
   },
   {
    "duration": 34,
    "start_time": "2022-03-31T17:34:10.523Z"
   },
   {
    "duration": 34,
    "start_time": "2022-03-31T17:34:10.559Z"
   },
   {
    "duration": 40,
    "start_time": "2022-03-31T17:34:10.594Z"
   },
   {
    "duration": 26,
    "start_time": "2022-03-31T17:34:10.636Z"
   },
   {
    "duration": 17,
    "start_time": "2022-03-31T17:34:10.664Z"
   },
   {
    "duration": 78,
    "start_time": "2022-03-31T17:34:10.708Z"
   },
   {
    "duration": 51,
    "start_time": "2022-03-31T17:34:10.788Z"
   },
   {
    "duration": 46,
    "start_time": "2022-03-31T17:34:10.841Z"
   },
   {
    "duration": 42,
    "start_time": "2022-03-31T17:34:10.889Z"
   },
   {
    "duration": 51,
    "start_time": "2022-03-31T17:34:10.933Z"
   },
   {
    "duration": 53,
    "start_time": "2022-03-31T17:34:10.986Z"
   },
   {
    "duration": 15,
    "start_time": "2022-03-31T17:34:11.041Z"
   },
   {
    "duration": 16,
    "start_time": "2022-03-31T17:34:11.058Z"
   },
   {
    "duration": 45,
    "start_time": "2022-03-31T17:34:11.080Z"
   },
   {
    "duration": 8,
    "start_time": "2022-03-31T17:34:11.127Z"
   },
   {
    "duration": 15,
    "start_time": "2022-03-31T17:34:11.137Z"
   },
   {
    "duration": 26,
    "start_time": "2022-03-31T17:34:11.154Z"
   },
   {
    "duration": 58,
    "start_time": "2022-03-31T17:34:11.182Z"
   },
   {
    "duration": 7,
    "start_time": "2022-03-31T17:34:11.242Z"
   },
   {
    "duration": 5,
    "start_time": "2022-03-31T17:34:11.251Z"
   },
   {
    "duration": 8,
    "start_time": "2022-03-31T17:34:11.257Z"
   },
   {
    "duration": 10,
    "start_time": "2022-03-31T17:34:11.267Z"
   },
   {
    "duration": 6,
    "start_time": "2022-03-31T17:34:11.314Z"
   },
   {
    "duration": 22,
    "start_time": "2022-03-31T17:34:11.323Z"
   },
   {
    "duration": 136,
    "start_time": "2022-03-31T17:34:11.346Z"
   },
   {
    "duration": 27,
    "start_time": "2022-03-31T17:34:11.484Z"
   },
   {
    "duration": 11,
    "start_time": "2022-03-31T17:34:11.513Z"
   },
   {
    "duration": 419,
    "start_time": "2022-03-31T17:34:11.526Z"
   },
   {
    "duration": 153,
    "start_time": "2022-03-31T17:34:11.947Z"
   },
   {
    "duration": 54,
    "start_time": "2022-03-31T17:34:12.101Z"
   },
   {
    "duration": 11,
    "start_time": "2022-03-31T17:34:12.157Z"
   },
   {
    "duration": 179,
    "start_time": "2022-03-31T17:34:12.170Z"
   },
   {
    "duration": 212,
    "start_time": "2022-03-31T17:34:12.351Z"
   },
   {
    "duration": 11,
    "start_time": "2022-03-31T17:34:12.565Z"
   },
   {
    "duration": 174,
    "start_time": "2022-03-31T17:34:12.578Z"
   },
   {
    "duration": 160,
    "start_time": "2022-03-31T17:34:12.753Z"
   },
   {
    "duration": 17,
    "start_time": "2022-03-31T17:34:12.915Z"
   },
   {
    "duration": 166,
    "start_time": "2022-03-31T17:34:12.934Z"
   },
   {
    "duration": 156,
    "start_time": "2022-03-31T17:34:13.102Z"
   },
   {
    "duration": 4,
    "start_time": "2022-03-31T17:34:13.260Z"
   },
   {
    "duration": 25,
    "start_time": "2022-03-31T17:34:13.266Z"
   },
   {
    "duration": 17,
    "start_time": "2022-03-31T17:34:13.293Z"
   },
   {
    "duration": 14,
    "start_time": "2022-03-31T17:34:13.313Z"
   },
   {
    "duration": 13,
    "start_time": "2022-03-31T17:34:13.329Z"
   },
   {
    "duration": 7,
    "start_time": "2022-03-31T17:34:13.343Z"
   },
   {
    "duration": 79,
    "start_time": "2022-03-31T17:34:34.461Z"
   },
   {
    "duration": 417,
    "start_time": "2022-03-31T17:35:02.269Z"
   },
   {
    "duration": 4,
    "start_time": "2022-03-31T17:35:30.322Z"
   },
   {
    "duration": 4,
    "start_time": "2022-03-31T17:55:54.477Z"
   },
   {
    "duration": 74,
    "start_time": "2022-03-31T18:01:20.560Z"
   },
   {
    "duration": 419,
    "start_time": "2022-03-31T18:27:26.547Z"
   },
   {
    "duration": 173,
    "start_time": "2022-03-31T18:27:26.968Z"
   },
   {
    "duration": 142,
    "start_time": "2022-03-31T18:27:27.143Z"
   },
   {
    "duration": 96,
    "start_time": "2022-03-31T18:27:27.287Z"
   },
   {
    "duration": 16,
    "start_time": "2022-03-31T18:27:27.385Z"
   },
   {
    "duration": 21,
    "start_time": "2022-03-31T18:27:27.408Z"
   },
   {
    "duration": 17,
    "start_time": "2022-03-31T18:27:27.431Z"
   },
   {
    "duration": 75,
    "start_time": "2022-03-31T18:27:27.450Z"
   },
   {
    "duration": 13,
    "start_time": "2022-03-31T18:27:27.526Z"
   },
   {
    "duration": 49,
    "start_time": "2022-03-31T18:27:27.541Z"
   },
   {
    "duration": 10,
    "start_time": "2022-03-31T18:27:27.608Z"
   },
   {
    "duration": 42,
    "start_time": "2022-03-31T18:27:27.620Z"
   },
   {
    "duration": 11,
    "start_time": "2022-03-31T18:27:27.665Z"
   },
   {
    "duration": 13,
    "start_time": "2022-03-31T18:27:27.711Z"
   },
   {
    "duration": 19,
    "start_time": "2022-03-31T18:27:27.727Z"
   },
   {
    "duration": 13,
    "start_time": "2022-03-31T18:27:27.747Z"
   },
   {
    "duration": 7,
    "start_time": "2022-03-31T18:27:27.762Z"
   },
   {
    "duration": 82,
    "start_time": "2022-03-31T18:27:27.771Z"
   },
   {
    "duration": 39,
    "start_time": "2022-03-31T18:27:27.855Z"
   },
   {
    "duration": 35,
    "start_time": "2022-03-31T18:27:27.896Z"
   },
   {
    "duration": 6,
    "start_time": "2022-03-31T18:27:27.933Z"
   },
   {
    "duration": 16,
    "start_time": "2022-03-31T18:27:27.941Z"
   },
   {
    "duration": 69,
    "start_time": "2022-03-31T18:27:27.959Z"
   },
   {
    "duration": 37,
    "start_time": "2022-03-31T18:27:28.029Z"
   },
   {
    "duration": 54,
    "start_time": "2022-03-31T18:27:28.068Z"
   },
   {
    "duration": 20,
    "start_time": "2022-03-31T18:27:28.123Z"
   },
   {
    "duration": 65,
    "start_time": "2022-03-31T18:27:28.145Z"
   },
   {
    "duration": 32,
    "start_time": "2022-03-31T18:27:28.211Z"
   },
   {
    "duration": 33,
    "start_time": "2022-03-31T18:27:28.245Z"
   },
   {
    "duration": 40,
    "start_time": "2022-03-31T18:27:28.279Z"
   },
   {
    "duration": 26,
    "start_time": "2022-03-31T18:27:28.320Z"
   },
   {
    "duration": 15,
    "start_time": "2022-03-31T18:27:28.348Z"
   },
   {
    "duration": 90,
    "start_time": "2022-03-31T18:27:28.365Z"
   },
   {
    "duration": 33,
    "start_time": "2022-03-31T18:27:28.457Z"
   },
   {
    "duration": 56,
    "start_time": "2022-03-31T18:27:28.491Z"
   },
   {
    "duration": 23,
    "start_time": "2022-03-31T18:27:28.549Z"
   },
   {
    "duration": 70,
    "start_time": "2022-03-31T18:27:28.574Z"
   },
   {
    "duration": 28,
    "start_time": "2022-03-31T18:27:28.645Z"
   },
   {
    "duration": 42,
    "start_time": "2022-03-31T18:27:28.675Z"
   },
   {
    "duration": 17,
    "start_time": "2022-03-31T18:27:28.719Z"
   },
   {
    "duration": 11,
    "start_time": "2022-03-31T18:27:28.742Z"
   },
   {
    "duration": 9,
    "start_time": "2022-03-31T18:27:28.755Z"
   },
   {
    "duration": 44,
    "start_time": "2022-03-31T18:27:28.766Z"
   },
   {
    "duration": 20,
    "start_time": "2022-03-31T18:27:28.812Z"
   },
   {
    "duration": 21,
    "start_time": "2022-03-31T18:27:28.834Z"
   },
   {
    "duration": 7,
    "start_time": "2022-03-31T18:27:28.857Z"
   },
   {
    "duration": 7,
    "start_time": "2022-03-31T18:27:28.866Z"
   },
   {
    "duration": 37,
    "start_time": "2022-03-31T18:27:28.875Z"
   },
   {
    "duration": 22,
    "start_time": "2022-03-31T18:27:28.914Z"
   },
   {
    "duration": 4,
    "start_time": "2022-03-31T18:27:28.937Z"
   },
   {
    "duration": 18,
    "start_time": "2022-03-31T18:27:28.943Z"
   },
   {
    "duration": 151,
    "start_time": "2022-03-31T18:27:28.963Z"
   },
   {
    "duration": 15,
    "start_time": "2022-03-31T18:27:29.116Z"
   },
   {
    "duration": 6,
    "start_time": "2022-03-31T18:27:29.132Z"
   },
   {
    "duration": 412,
    "start_time": "2022-03-31T18:27:29.140Z"
   },
   {
    "duration": 145,
    "start_time": "2022-03-31T18:27:29.554Z"
   },
   {
    "duration": 50,
    "start_time": "2022-03-31T18:27:29.701Z"
   },
   {
    "duration": 9,
    "start_time": "2022-03-31T18:27:29.753Z"
   },
   {
    "duration": 182,
    "start_time": "2022-03-31T18:27:29.764Z"
   },
   {
    "duration": 219,
    "start_time": "2022-03-31T18:27:29.948Z"
   },
   {
    "duration": 11,
    "start_time": "2022-03-31T18:27:30.168Z"
   },
   {
    "duration": 177,
    "start_time": "2022-03-31T18:27:30.181Z"
   },
   {
    "duration": 160,
    "start_time": "2022-03-31T18:27:30.360Z"
   },
   {
    "duration": 11,
    "start_time": "2022-03-31T18:27:30.522Z"
   },
   {
    "duration": 167,
    "start_time": "2022-03-31T18:27:30.534Z"
   },
   {
    "duration": 161,
    "start_time": "2022-03-31T18:27:30.703Z"
   },
   {
    "duration": 4,
    "start_time": "2022-03-31T18:27:30.866Z"
   },
   {
    "duration": 38,
    "start_time": "2022-03-31T18:27:30.872Z"
   },
   {
    "duration": 6,
    "start_time": "2022-03-31T18:27:30.912Z"
   },
   {
    "duration": 12,
    "start_time": "2022-03-31T18:27:30.919Z"
   },
   {
    "duration": 15,
    "start_time": "2022-03-31T18:27:30.933Z"
   },
   {
    "duration": 6,
    "start_time": "2022-03-31T18:27:30.949Z"
   },
   {
    "duration": 454,
    "start_time": "2022-03-31T18:27:30.956Z"
   },
   {
    "duration": 4,
    "start_time": "2022-03-31T18:27:31.411Z"
   },
   {
    "duration": 15,
    "start_time": "2022-03-31T18:27:31.416Z"
   },
   {
    "duration": 107,
    "start_time": "2022-03-31T18:27:31.432Z"
   },
   {
    "duration": 0,
    "start_time": "2022-03-31T18:27:31.540Z"
   },
   {
    "duration": 0,
    "start_time": "2022-03-31T18:27:31.541Z"
   },
   {
    "duration": 0,
    "start_time": "2022-03-31T18:27:31.542Z"
   },
   {
    "duration": 0,
    "start_time": "2022-03-31T18:27:31.543Z"
   },
   {
    "duration": 0,
    "start_time": "2022-03-31T18:27:31.544Z"
   },
   {
    "duration": 5,
    "start_time": "2022-03-31T18:28:13.390Z"
   },
   {
    "duration": 447,
    "start_time": "2022-03-31T18:28:21.182Z"
   },
   {
    "duration": 189,
    "start_time": "2022-03-31T18:28:21.631Z"
   },
   {
    "duration": 162,
    "start_time": "2022-03-31T18:28:21.821Z"
   },
   {
    "duration": 97,
    "start_time": "2022-03-31T18:28:21.985Z"
   },
   {
    "duration": 24,
    "start_time": "2022-03-31T18:28:22.085Z"
   },
   {
    "duration": 27,
    "start_time": "2022-03-31T18:28:22.110Z"
   },
   {
    "duration": 18,
    "start_time": "2022-03-31T18:28:22.139Z"
   },
   {
    "duration": 82,
    "start_time": "2022-03-31T18:28:22.158Z"
   },
   {
    "duration": 14,
    "start_time": "2022-03-31T18:28:22.242Z"
   },
   {
    "duration": 71,
    "start_time": "2022-03-31T18:28:22.257Z"
   },
   {
    "duration": 9,
    "start_time": "2022-03-31T18:28:22.330Z"
   },
   {
    "duration": 47,
    "start_time": "2022-03-31T18:28:22.341Z"
   },
   {
    "duration": 22,
    "start_time": "2022-03-31T18:28:22.389Z"
   },
   {
    "duration": 9,
    "start_time": "2022-03-31T18:28:22.414Z"
   },
   {
    "duration": 14,
    "start_time": "2022-03-31T18:28:22.425Z"
   },
   {
    "duration": 13,
    "start_time": "2022-03-31T18:28:22.441Z"
   },
   {
    "duration": 6,
    "start_time": "2022-03-31T18:28:22.455Z"
   },
   {
    "duration": 95,
    "start_time": "2022-03-31T18:28:22.462Z"
   },
   {
    "duration": 40,
    "start_time": "2022-03-31T18:28:22.558Z"
   },
   {
    "duration": 26,
    "start_time": "2022-03-31T18:28:22.609Z"
   },
   {
    "duration": 6,
    "start_time": "2022-03-31T18:28:22.636Z"
   },
   {
    "duration": 9,
    "start_time": "2022-03-31T18:28:22.643Z"
   },
   {
    "duration": 76,
    "start_time": "2022-03-31T18:28:22.654Z"
   },
   {
    "duration": 40,
    "start_time": "2022-03-31T18:28:22.732Z"
   },
   {
    "duration": 49,
    "start_time": "2022-03-31T18:28:22.774Z"
   },
   {
    "duration": 20,
    "start_time": "2022-03-31T18:28:22.824Z"
   },
   {
    "duration": 65,
    "start_time": "2022-03-31T18:28:22.845Z"
   },
   {
    "duration": 34,
    "start_time": "2022-03-31T18:28:22.911Z"
   },
   {
    "duration": 34,
    "start_time": "2022-03-31T18:28:22.946Z"
   },
   {
    "duration": 41,
    "start_time": "2022-03-31T18:28:22.981Z"
   },
   {
    "duration": 27,
    "start_time": "2022-03-31T18:28:23.024Z"
   },
   {
    "duration": 15,
    "start_time": "2022-03-31T18:28:23.053Z"
   },
   {
    "duration": 94,
    "start_time": "2022-03-31T18:28:23.069Z"
   },
   {
    "duration": 47,
    "start_time": "2022-03-31T18:28:23.165Z"
   },
   {
    "duration": 52,
    "start_time": "2022-03-31T18:28:23.214Z"
   },
   {
    "duration": 52,
    "start_time": "2022-03-31T18:28:23.268Z"
   },
   {
    "duration": 55,
    "start_time": "2022-03-31T18:28:23.321Z"
   },
   {
    "duration": 45,
    "start_time": "2022-03-31T18:28:23.377Z"
   },
   {
    "duration": 16,
    "start_time": "2022-03-31T18:28:23.424Z"
   },
   {
    "duration": 16,
    "start_time": "2022-03-31T18:28:23.441Z"
   },
   {
    "duration": 10,
    "start_time": "2022-03-31T18:28:23.462Z"
   },
   {
    "duration": 40,
    "start_time": "2022-03-31T18:28:23.474Z"
   },
   {
    "duration": 12,
    "start_time": "2022-03-31T18:28:23.516Z"
   },
   {
    "duration": 20,
    "start_time": "2022-03-31T18:28:23.530Z"
   },
   {
    "duration": 23,
    "start_time": "2022-03-31T18:28:23.553Z"
   },
   {
    "duration": 38,
    "start_time": "2022-03-31T18:28:23.578Z"
   },
   {
    "duration": 6,
    "start_time": "2022-03-31T18:28:23.618Z"
   },
   {
    "duration": 8,
    "start_time": "2022-03-31T18:28:23.626Z"
   },
   {
    "duration": 10,
    "start_time": "2022-03-31T18:28:23.636Z"
   },
   {
    "duration": 4,
    "start_time": "2022-03-31T18:28:23.648Z"
   },
   {
    "duration": 56,
    "start_time": "2022-03-31T18:28:23.654Z"
   },
   {
    "duration": 130,
    "start_time": "2022-03-31T18:28:23.712Z"
   },
   {
    "duration": 19,
    "start_time": "2022-03-31T18:28:23.843Z"
   },
   {
    "duration": 7,
    "start_time": "2022-03-31T18:28:23.864Z"
   },
   {
    "duration": 438,
    "start_time": "2022-03-31T18:28:23.873Z"
   },
   {
    "duration": 148,
    "start_time": "2022-03-31T18:28:24.313Z"
   },
   {
    "duration": 48,
    "start_time": "2022-03-31T18:28:24.463Z"
   },
   {
    "duration": 10,
    "start_time": "2022-03-31T18:28:24.513Z"
   },
   {
    "duration": 169,
    "start_time": "2022-03-31T18:28:24.525Z"
   },
   {
    "duration": 217,
    "start_time": "2022-03-31T18:28:24.696Z"
   },
   {
    "duration": 12,
    "start_time": "2022-03-31T18:28:24.915Z"
   },
   {
    "duration": 181,
    "start_time": "2022-03-31T18:28:24.929Z"
   },
   {
    "duration": 158,
    "start_time": "2022-03-31T18:28:25.112Z"
   },
   {
    "duration": 14,
    "start_time": "2022-03-31T18:28:25.272Z"
   },
   {
    "duration": 176,
    "start_time": "2022-03-31T18:28:25.287Z"
   },
   {
    "duration": 146,
    "start_time": "2022-03-31T18:28:25.464Z"
   },
   {
    "duration": 5,
    "start_time": "2022-03-31T18:28:25.612Z"
   },
   {
    "duration": 22,
    "start_time": "2022-03-31T18:28:25.619Z"
   },
   {
    "duration": 11,
    "start_time": "2022-03-31T18:28:25.643Z"
   },
   {
    "duration": 7,
    "start_time": "2022-03-31T18:28:25.656Z"
   },
   {
    "duration": 6,
    "start_time": "2022-03-31T18:28:25.665Z"
   },
   {
    "duration": 2,
    "start_time": "2022-03-31T18:28:25.673Z"
   },
   {
    "duration": 436,
    "start_time": "2022-03-31T18:28:25.677Z"
   },
   {
    "duration": 4,
    "start_time": "2022-03-31T18:28:26.115Z"
   },
   {
    "duration": 6,
    "start_time": "2022-03-31T18:28:26.121Z"
   },
   {
    "duration": 6,
    "start_time": "2022-03-31T18:28:26.129Z"
   },
   {
    "duration": 8,
    "start_time": "2022-03-31T18:28:26.136Z"
   },
   {
    "duration": 9,
    "start_time": "2022-03-31T18:28:26.145Z"
   },
   {
    "duration": 11,
    "start_time": "2022-03-31T18:28:26.155Z"
   },
   {
    "duration": 4,
    "start_time": "2022-03-31T18:28:26.168Z"
   },
   {
    "duration": 37,
    "start_time": "2022-03-31T18:28:26.174Z"
   },
   {
    "duration": 141,
    "start_time": "2022-04-11T15:53:37.940Z"
   },
   {
    "duration": 426,
    "start_time": "2022-04-11T15:57:01.337Z"
   },
   {
    "duration": 191,
    "start_time": "2022-04-11T15:57:01.765Z"
   },
   {
    "duration": 174,
    "start_time": "2022-04-11T15:57:01.959Z"
   },
   {
    "duration": 105,
    "start_time": "2022-04-11T15:57:02.140Z"
   },
   {
    "duration": 18,
    "start_time": "2022-04-11T15:57:02.247Z"
   },
   {
    "duration": 24,
    "start_time": "2022-04-11T15:57:02.267Z"
   },
   {
    "duration": 19,
    "start_time": "2022-04-11T15:57:02.293Z"
   },
   {
    "duration": 84,
    "start_time": "2022-04-11T15:57:02.314Z"
   },
   {
    "duration": 14,
    "start_time": "2022-04-11T15:57:02.400Z"
   },
   {
    "duration": 64,
    "start_time": "2022-04-11T15:57:02.439Z"
   },
   {
    "duration": 10,
    "start_time": "2022-04-11T15:57:02.505Z"
   },
   {
    "duration": 66,
    "start_time": "2022-04-11T15:57:02.517Z"
   },
   {
    "duration": 8,
    "start_time": "2022-04-11T15:57:02.585Z"
   },
   {
    "duration": 28,
    "start_time": "2022-04-11T15:57:02.595Z"
   },
   {
    "duration": 27,
    "start_time": "2022-04-11T15:57:02.624Z"
   },
   {
    "duration": 32,
    "start_time": "2022-04-11T15:57:02.654Z"
   },
   {
    "duration": 24,
    "start_time": "2022-04-11T15:57:02.688Z"
   },
   {
    "duration": 78,
    "start_time": "2022-04-11T15:57:02.714Z"
   },
   {
    "duration": 54,
    "start_time": "2022-04-11T15:57:02.794Z"
   },
   {
    "duration": 30,
    "start_time": "2022-04-11T15:57:02.850Z"
   },
   {
    "duration": 7,
    "start_time": "2022-04-11T15:57:02.882Z"
   },
   {
    "duration": 17,
    "start_time": "2022-04-11T15:57:02.891Z"
   },
   {
    "duration": 78,
    "start_time": "2022-04-11T15:57:02.910Z"
   },
   {
    "duration": 65,
    "start_time": "2022-04-11T15:57:02.990Z"
   },
   {
    "duration": 26,
    "start_time": "2022-04-11T15:57:03.056Z"
   },
   {
    "duration": 61,
    "start_time": "2022-04-11T15:57:03.084Z"
   },
   {
    "duration": 28,
    "start_time": "2022-04-11T15:57:03.147Z"
   },
   {
    "duration": 67,
    "start_time": "2022-04-11T15:57:03.179Z"
   },
   {
    "duration": 38,
    "start_time": "2022-04-11T15:57:03.247Z"
   },
   {
    "duration": 20,
    "start_time": "2022-04-11T15:57:03.287Z"
   },
   {
    "duration": 52,
    "start_time": "2022-04-11T15:57:03.309Z"
   },
   {
    "duration": 15,
    "start_time": "2022-04-11T15:57:03.362Z"
   },
   {
    "duration": 97,
    "start_time": "2022-04-11T15:57:03.379Z"
   },
   {
    "duration": 97,
    "start_time": "2022-04-11T15:57:42.476Z"
   },
   {
    "duration": 68,
    "start_time": "2022-04-11T15:59:25.206Z"
   },
   {
    "duration": 3,
    "start_time": "2022-04-11T15:59:41.500Z"
   },
   {
    "duration": 2302,
    "start_time": "2022-04-11T15:59:42.076Z"
   },
   {
    "duration": 0,
    "start_time": "2022-04-11T15:59:44.380Z"
   },
   {
    "duration": 2,
    "start_time": "2022-04-11T15:59:55.621Z"
   },
   {
    "duration": 219,
    "start_time": "2022-04-11T15:59:55.625Z"
   },
   {
    "duration": 152,
    "start_time": "2022-04-11T15:59:55.847Z"
   },
   {
    "duration": 112,
    "start_time": "2022-04-11T15:59:56.001Z"
   },
   {
    "duration": 23,
    "start_time": "2022-04-11T15:59:56.116Z"
   },
   {
    "duration": 24,
    "start_time": "2022-04-11T15:59:56.141Z"
   },
   {
    "duration": 12,
    "start_time": "2022-04-11T15:59:56.167Z"
   },
   {
    "duration": 80,
    "start_time": "2022-04-11T15:59:56.181Z"
   },
   {
    "duration": 14,
    "start_time": "2022-04-11T15:59:56.263Z"
   },
   {
    "duration": 73,
    "start_time": "2022-04-11T15:59:56.279Z"
   },
   {
    "duration": 11,
    "start_time": "2022-04-11T15:59:56.355Z"
   },
   {
    "duration": 55,
    "start_time": "2022-04-11T15:59:56.368Z"
   },
   {
    "duration": 16,
    "start_time": "2022-04-11T15:59:56.424Z"
   },
   {
    "duration": 15,
    "start_time": "2022-04-11T15:59:56.442Z"
   },
   {
    "duration": 20,
    "start_time": "2022-04-11T15:59:56.458Z"
   },
   {
    "duration": 21,
    "start_time": "2022-04-11T15:59:56.480Z"
   },
   {
    "duration": 17,
    "start_time": "2022-04-11T15:59:56.503Z"
   },
   {
    "duration": 67,
    "start_time": "2022-04-11T15:59:56.522Z"
   },
   {
    "duration": 29,
    "start_time": "2022-04-11T15:59:56.590Z"
   },
   {
    "duration": 92,
    "start_time": "2022-04-11T15:59:56.621Z"
   },
   {
    "duration": 27,
    "start_time": "2022-04-11T15:59:56.715Z"
   },
   {
    "duration": 63,
    "start_time": "2022-04-11T15:59:56.744Z"
   },
   {
    "duration": 73,
    "start_time": "2022-04-11T15:59:56.809Z"
   },
   {
    "duration": 61,
    "start_time": "2022-04-11T15:59:56.884Z"
   },
   {
    "duration": 31,
    "start_time": "2022-04-11T15:59:56.946Z"
   },
   {
    "duration": 21,
    "start_time": "2022-04-11T15:59:56.979Z"
   },
   {
    "duration": 71,
    "start_time": "2022-04-11T15:59:57.002Z"
   },
   {
    "duration": 49,
    "start_time": "2022-04-11T15:59:57.075Z"
   },
   {
    "duration": 44,
    "start_time": "2022-04-11T15:59:57.127Z"
   },
   {
    "duration": 20,
    "start_time": "2022-04-11T15:59:57.172Z"
   },
   {
    "duration": 58,
    "start_time": "2022-04-11T15:59:57.194Z"
   },
   {
    "duration": 21,
    "start_time": "2022-04-11T15:59:57.254Z"
   },
   {
    "duration": 80,
    "start_time": "2022-04-11T15:59:57.277Z"
   },
   {
    "duration": 4,
    "start_time": "2022-04-11T16:00:00.030Z"
   },
   {
    "duration": 5,
    "start_time": "2022-04-11T16:00:02.089Z"
   },
   {
    "duration": 76,
    "start_time": "2022-04-11T16:00:05.961Z"
   },
   {
    "duration": 2585,
    "start_time": "2022-04-11T16:01:25.875Z"
   },
   {
    "duration": 4,
    "start_time": "2022-04-11T16:01:36.185Z"
   },
   {
    "duration": 204,
    "start_time": "2022-04-11T16:01:36.191Z"
   },
   {
    "duration": 153,
    "start_time": "2022-04-11T16:01:36.398Z"
   },
   {
    "duration": 112,
    "start_time": "2022-04-11T16:01:36.552Z"
   },
   {
    "duration": 19,
    "start_time": "2022-04-11T16:01:36.667Z"
   },
   {
    "duration": 30,
    "start_time": "2022-04-11T16:01:36.688Z"
   },
   {
    "duration": 22,
    "start_time": "2022-04-11T16:01:36.719Z"
   },
   {
    "duration": 77,
    "start_time": "2022-04-11T16:01:36.743Z"
   },
   {
    "duration": 21,
    "start_time": "2022-04-11T16:01:36.822Z"
   },
   {
    "duration": 62,
    "start_time": "2022-04-11T16:01:36.845Z"
   },
   {
    "duration": 10,
    "start_time": "2022-04-11T16:01:36.911Z"
   },
   {
    "duration": 65,
    "start_time": "2022-04-11T16:01:36.924Z"
   },
   {
    "duration": 10,
    "start_time": "2022-04-11T16:01:36.991Z"
   },
   {
    "duration": 14,
    "start_time": "2022-04-11T16:01:37.003Z"
   },
   {
    "duration": 30,
    "start_time": "2022-04-11T16:01:37.019Z"
   },
   {
    "duration": 21,
    "start_time": "2022-04-11T16:01:37.050Z"
   },
   {
    "duration": 16,
    "start_time": "2022-04-11T16:01:37.073Z"
   },
   {
    "duration": 72,
    "start_time": "2022-04-11T16:01:37.090Z"
   },
   {
    "duration": 30,
    "start_time": "2022-04-11T16:01:37.164Z"
   },
   {
    "duration": 24,
    "start_time": "2022-04-11T16:01:37.195Z"
   },
   {
    "duration": 23,
    "start_time": "2022-04-11T16:01:37.221Z"
   },
   {
    "duration": 16,
    "start_time": "2022-04-11T16:01:37.246Z"
   },
   {
    "duration": 47,
    "start_time": "2022-04-11T16:01:37.264Z"
   },
   {
    "duration": 64,
    "start_time": "2022-04-11T16:01:37.313Z"
   },
   {
    "duration": 27,
    "start_time": "2022-04-11T16:01:37.379Z"
   },
   {
    "duration": 25,
    "start_time": "2022-04-11T16:01:37.440Z"
   },
   {
    "duration": 73,
    "start_time": "2022-04-11T16:01:37.467Z"
   },
   {
    "duration": 41,
    "start_time": "2022-04-11T16:01:37.542Z"
   },
   {
    "duration": 54,
    "start_time": "2022-04-11T16:01:37.586Z"
   },
   {
    "duration": 21,
    "start_time": "2022-04-11T16:01:37.642Z"
   },
   {
    "duration": 26,
    "start_time": "2022-04-11T16:01:37.665Z"
   },
   {
    "duration": 15,
    "start_time": "2022-04-11T16:01:37.693Z"
   },
   {
    "duration": 77,
    "start_time": "2022-04-11T16:01:37.739Z"
   },
   {
    "duration": 79,
    "start_time": "2022-04-11T16:01:41.114Z"
   },
   {
    "duration": 3,
    "start_time": "2022-04-11T16:01:46.665Z"
   },
   {
    "duration": 5,
    "start_time": "2022-04-11T16:01:46.907Z"
   },
   {
    "duration": 76,
    "start_time": "2022-04-11T16:01:49.855Z"
   },
   {
    "duration": 3,
    "start_time": "2022-04-11T16:02:14.381Z"
   },
   {
    "duration": 213,
    "start_time": "2022-04-11T16:02:14.386Z"
   },
   {
    "duration": 157,
    "start_time": "2022-04-11T16:02:14.602Z"
   },
   {
    "duration": 118,
    "start_time": "2022-04-11T16:02:14.760Z"
   },
   {
    "duration": 20,
    "start_time": "2022-04-11T16:02:14.882Z"
   },
   {
    "duration": 25,
    "start_time": "2022-04-11T16:02:14.904Z"
   },
   {
    "duration": 19,
    "start_time": "2022-04-11T16:02:14.931Z"
   },
   {
    "duration": 101,
    "start_time": "2022-04-11T16:02:14.952Z"
   },
   {
    "duration": 16,
    "start_time": "2022-04-11T16:02:15.055Z"
   },
   {
    "duration": 77,
    "start_time": "2022-04-11T16:02:15.073Z"
   },
   {
    "duration": 12,
    "start_time": "2022-04-11T16:02:15.153Z"
   },
   {
    "duration": 54,
    "start_time": "2022-04-11T16:02:15.166Z"
   },
   {
    "duration": 9,
    "start_time": "2022-04-11T16:02:15.239Z"
   },
   {
    "duration": 14,
    "start_time": "2022-04-11T16:02:15.250Z"
   },
   {
    "duration": 25,
    "start_time": "2022-04-11T16:02:15.266Z"
   },
   {
    "duration": 18,
    "start_time": "2022-04-11T16:02:15.293Z"
   },
   {
    "duration": 11,
    "start_time": "2022-04-11T16:02:15.313Z"
   },
   {
    "duration": 58,
    "start_time": "2022-04-11T16:02:15.339Z"
   },
   {
    "duration": 43,
    "start_time": "2022-04-11T16:02:15.399Z"
   },
   {
    "duration": 25,
    "start_time": "2022-04-11T16:02:15.443Z"
   },
   {
    "duration": 7,
    "start_time": "2022-04-11T16:02:15.471Z"
   },
   {
    "duration": 142,
    "start_time": "2022-04-11T16:02:15.481Z"
   },
   {
    "duration": 59,
    "start_time": "2022-04-11T16:02:15.625Z"
   },
   {
    "duration": 63,
    "start_time": "2022-04-11T16:02:15.686Z"
   },
   {
    "duration": 27,
    "start_time": "2022-04-11T16:02:15.751Z"
   },
   {
    "duration": 60,
    "start_time": "2022-04-11T16:02:15.779Z"
   },
   {
    "duration": 30,
    "start_time": "2022-04-11T16:02:15.841Z"
   },
   {
    "duration": 67,
    "start_time": "2022-04-11T16:02:15.873Z"
   },
   {
    "duration": 33,
    "start_time": "2022-04-11T16:02:15.944Z"
   },
   {
    "duration": 20,
    "start_time": "2022-04-11T16:02:15.980Z"
   },
   {
    "duration": 55,
    "start_time": "2022-04-11T16:02:16.002Z"
   },
   {
    "duration": 17,
    "start_time": "2022-04-11T16:02:16.059Z"
   },
   {
    "duration": 103,
    "start_time": "2022-04-11T16:02:16.079Z"
   },
   {
    "duration": 35,
    "start_time": "2022-04-11T16:02:16.184Z"
   },
   {
    "duration": 17,
    "start_time": "2022-04-11T16:02:16.222Z"
   },
   {
    "duration": 13,
    "start_time": "2022-04-11T16:02:16.242Z"
   },
   {
    "duration": 5,
    "start_time": "2022-04-11T16:02:17.699Z"
   },
   {
    "duration": 78,
    "start_time": "2022-04-11T16:02:19.699Z"
   },
   {
    "duration": 29,
    "start_time": "2022-04-11T16:02:36.424Z"
   },
   {
    "duration": 24,
    "start_time": "2022-04-11T16:02:39.163Z"
   },
   {
    "duration": 3,
    "start_time": "2022-04-11T16:02:39.850Z"
   },
   {
    "duration": 5,
    "start_time": "2022-04-11T16:02:40.525Z"
   },
   {
    "duration": 47,
    "start_time": "2022-04-11T16:02:41.098Z"
   },
   {
    "duration": 22,
    "start_time": "2022-04-11T16:03:25.418Z"
   },
   {
    "duration": 22,
    "start_time": "2022-04-11T16:03:38.131Z"
   },
   {
    "duration": 3,
    "start_time": "2022-04-11T16:05:00.399Z"
   },
   {
    "duration": 201,
    "start_time": "2022-04-11T16:05:00.404Z"
   },
   {
    "duration": 153,
    "start_time": "2022-04-11T16:05:00.607Z"
   },
   {
    "duration": 110,
    "start_time": "2022-04-11T16:05:00.761Z"
   },
   {
    "duration": 18,
    "start_time": "2022-04-11T16:05:00.873Z"
   },
   {
    "duration": 30,
    "start_time": "2022-04-11T16:05:00.893Z"
   },
   {
    "duration": 12,
    "start_time": "2022-04-11T16:05:00.925Z"
   },
   {
    "duration": 78,
    "start_time": "2022-04-11T16:05:00.939Z"
   },
   {
    "duration": 61,
    "start_time": "2022-04-11T16:05:01.019Z"
   },
   {
    "duration": 76,
    "start_time": "2022-04-11T16:05:01.081Z"
   },
   {
    "duration": 11,
    "start_time": "2022-04-11T16:05:01.160Z"
   },
   {
    "duration": 52,
    "start_time": "2022-04-11T16:05:01.172Z"
   },
   {
    "duration": 41,
    "start_time": "2022-04-11T16:05:01.226Z"
   },
   {
    "duration": 29,
    "start_time": "2022-04-11T16:05:01.269Z"
   },
   {
    "duration": 35,
    "start_time": "2022-04-11T16:05:01.300Z"
   },
   {
    "duration": 39,
    "start_time": "2022-04-11T16:05:01.337Z"
   },
   {
    "duration": 13,
    "start_time": "2022-04-11T16:05:01.379Z"
   },
   {
    "duration": 80,
    "start_time": "2022-04-11T16:05:01.395Z"
   },
   {
    "duration": 35,
    "start_time": "2022-04-11T16:05:01.477Z"
   },
   {
    "duration": 63,
    "start_time": "2022-04-11T16:05:01.514Z"
   },
   {
    "duration": 7,
    "start_time": "2022-04-11T16:05:01.580Z"
   },
   {
    "duration": 31,
    "start_time": "2022-04-11T16:05:01.589Z"
   },
   {
    "duration": 59,
    "start_time": "2022-04-11T16:05:01.622Z"
   },
   {
    "duration": 70,
    "start_time": "2022-04-11T16:05:01.683Z"
   },
   {
    "duration": 162,
    "start_time": "2022-04-11T16:05:01.756Z"
   },
   {
    "duration": 37,
    "start_time": "2022-04-11T16:05:01.920Z"
   },
   {
    "duration": 49,
    "start_time": "2022-04-11T16:05:01.958Z"
   },
   {
    "duration": 64,
    "start_time": "2022-04-11T16:05:02.010Z"
   },
   {
    "duration": 36,
    "start_time": "2022-04-11T16:05:02.079Z"
   },
   {
    "duration": 16,
    "start_time": "2022-04-11T16:05:02.139Z"
   },
   {
    "duration": 42,
    "start_time": "2022-04-11T16:05:02.157Z"
   },
   {
    "duration": 15,
    "start_time": "2022-04-11T16:05:02.202Z"
   },
   {
    "duration": 53,
    "start_time": "2022-04-11T16:05:02.219Z"
   },
   {
    "duration": 28,
    "start_time": "2022-04-11T16:05:03.250Z"
   },
   {
    "duration": 22,
    "start_time": "2022-04-11T16:05:04.499Z"
   },
   {
    "duration": 3,
    "start_time": "2022-04-11T16:05:10.240Z"
   },
   {
    "duration": 193,
    "start_time": "2022-04-11T16:05:10.247Z"
   },
   {
    "duration": 145,
    "start_time": "2022-04-11T16:05:10.442Z"
   },
   {
    "duration": 108,
    "start_time": "2022-04-11T16:05:10.589Z"
   },
   {
    "duration": 19,
    "start_time": "2022-04-11T16:05:10.700Z"
   },
   {
    "duration": 25,
    "start_time": "2022-04-11T16:05:10.721Z"
   },
   {
    "duration": 12,
    "start_time": "2022-04-11T16:05:10.747Z"
   },
   {
    "duration": 85,
    "start_time": "2022-04-11T16:05:10.760Z"
   },
   {
    "duration": 14,
    "start_time": "2022-04-11T16:05:10.847Z"
   },
   {
    "duration": 63,
    "start_time": "2022-04-11T16:05:10.863Z"
   },
   {
    "duration": 20,
    "start_time": "2022-04-11T16:05:10.929Z"
   },
   {
    "duration": 40,
    "start_time": "2022-04-11T16:05:10.951Z"
   },
   {
    "duration": 8,
    "start_time": "2022-04-11T16:05:10.993Z"
   },
   {
    "duration": 36,
    "start_time": "2022-04-11T16:05:11.002Z"
   },
   {
    "duration": 14,
    "start_time": "2022-04-11T16:05:11.041Z"
   },
   {
    "duration": 18,
    "start_time": "2022-04-11T16:05:11.057Z"
   },
   {
    "duration": 15,
    "start_time": "2022-04-11T16:05:11.077Z"
   },
   {
    "duration": 106,
    "start_time": "2022-04-11T16:05:11.094Z"
   },
   {
    "duration": 44,
    "start_time": "2022-04-11T16:05:11.202Z"
   },
   {
    "duration": 47,
    "start_time": "2022-04-11T16:05:11.247Z"
   },
   {
    "duration": 6,
    "start_time": "2022-04-11T16:05:11.296Z"
   },
   {
    "duration": 12,
    "start_time": "2022-04-11T16:05:11.304Z"
   },
   {
    "duration": 43,
    "start_time": "2022-04-11T16:05:11.339Z"
   },
   {
    "duration": 73,
    "start_time": "2022-04-11T16:05:11.383Z"
   },
   {
    "duration": 154,
    "start_time": "2022-04-11T16:05:11.457Z"
   },
   {
    "duration": 40,
    "start_time": "2022-04-11T16:05:11.612Z"
   },
   {
    "duration": 30,
    "start_time": "2022-04-11T16:05:11.655Z"
   },
   {
    "duration": 84,
    "start_time": "2022-04-11T16:05:11.687Z"
   },
   {
    "duration": 35,
    "start_time": "2022-04-11T16:05:11.776Z"
   },
   {
    "duration": 31,
    "start_time": "2022-04-11T16:05:11.813Z"
   },
   {
    "duration": 27,
    "start_time": "2022-04-11T16:05:11.846Z"
   },
   {
    "duration": 15,
    "start_time": "2022-04-11T16:05:11.875Z"
   },
   {
    "duration": 29,
    "start_time": "2022-04-11T16:05:13.267Z"
   },
   {
    "duration": 14,
    "start_time": "2022-04-11T16:05:26.145Z"
   },
   {
    "duration": 27,
    "start_time": "2022-04-11T16:05:33.063Z"
   },
   {
    "duration": 4,
    "start_time": "2022-04-11T16:05:46.782Z"
   },
   {
    "duration": 194,
    "start_time": "2022-04-11T16:05:46.789Z"
   },
   {
    "duration": 149,
    "start_time": "2022-04-11T16:05:46.986Z"
   },
   {
    "duration": 109,
    "start_time": "2022-04-11T16:05:47.139Z"
   },
   {
    "duration": 18,
    "start_time": "2022-04-11T16:05:47.251Z"
   },
   {
    "duration": 25,
    "start_time": "2022-04-11T16:05:47.271Z"
   },
   {
    "duration": 12,
    "start_time": "2022-04-11T16:05:47.298Z"
   },
   {
    "duration": 71,
    "start_time": "2022-04-11T16:05:47.312Z"
   },
   {
    "duration": 13,
    "start_time": "2022-04-11T16:05:47.385Z"
   },
   {
    "duration": 74,
    "start_time": "2022-04-11T16:05:47.400Z"
   },
   {
    "duration": 10,
    "start_time": "2022-04-11T16:05:47.477Z"
   },
   {
    "duration": 62,
    "start_time": "2022-04-11T16:05:47.489Z"
   },
   {
    "duration": 9,
    "start_time": "2022-04-11T16:05:47.552Z"
   },
   {
    "duration": 16,
    "start_time": "2022-04-11T16:05:47.562Z"
   },
   {
    "duration": 24,
    "start_time": "2022-04-11T16:05:47.579Z"
   },
   {
    "duration": 19,
    "start_time": "2022-04-11T16:05:47.605Z"
   },
   {
    "duration": 6,
    "start_time": "2022-04-11T16:05:47.639Z"
   },
   {
    "duration": 117,
    "start_time": "2022-04-11T16:05:47.647Z"
   },
   {
    "duration": 30,
    "start_time": "2022-04-11T16:05:47.766Z"
   },
   {
    "duration": 24,
    "start_time": "2022-04-11T16:05:47.798Z"
   },
   {
    "duration": 7,
    "start_time": "2022-04-11T16:05:47.839Z"
   },
   {
    "duration": 16,
    "start_time": "2022-04-11T16:05:47.847Z"
   },
   {
    "duration": 311,
    "start_time": "2022-04-11T16:05:47.865Z"
   },
   {
    "duration": 62,
    "start_time": "2022-04-11T16:05:48.178Z"
   },
   {
    "duration": 25,
    "start_time": "2022-04-11T16:05:48.242Z"
   },
   {
    "duration": 20,
    "start_time": "2022-04-11T16:05:48.269Z"
   },
   {
    "duration": 68,
    "start_time": "2022-04-11T16:05:48.291Z"
   },
   {
    "duration": 25,
    "start_time": "2022-04-11T16:05:48.360Z"
   },
   {
    "duration": 58,
    "start_time": "2022-04-11T16:05:48.389Z"
   },
   {
    "duration": 20,
    "start_time": "2022-04-11T16:05:48.449Z"
   },
   {
    "duration": 26,
    "start_time": "2022-04-11T16:05:48.471Z"
   },
   {
    "duration": 45,
    "start_time": "2022-04-11T16:05:48.498Z"
   },
   {
    "duration": 41,
    "start_time": "2022-04-11T16:05:48.544Z"
   },
   {
    "duration": 34,
    "start_time": "2022-04-11T16:05:49.826Z"
   },
   {
    "duration": 32,
    "start_time": "2022-04-11T16:05:58.781Z"
   },
   {
    "duration": 23,
    "start_time": "2022-04-11T16:06:20.471Z"
   },
   {
    "duration": 3,
    "start_time": "2022-04-11T16:06:28.991Z"
   },
   {
    "duration": 197,
    "start_time": "2022-04-11T16:06:28.996Z"
   },
   {
    "duration": 155,
    "start_time": "2022-04-11T16:06:29.196Z"
   },
   {
    "duration": 109,
    "start_time": "2022-04-11T16:06:29.354Z"
   },
   {
    "duration": 18,
    "start_time": "2022-04-11T16:06:29.465Z"
   },
   {
    "duration": 24,
    "start_time": "2022-04-11T16:06:29.485Z"
   },
   {
    "duration": 13,
    "start_time": "2022-04-11T16:06:29.511Z"
   },
   {
    "duration": 56,
    "start_time": "2022-04-11T16:06:29.539Z"
   },
   {
    "duration": 15,
    "start_time": "2022-04-11T16:06:29.596Z"
   },
   {
    "duration": 79,
    "start_time": "2022-04-11T16:06:29.613Z"
   },
   {
    "duration": 10,
    "start_time": "2022-04-11T16:06:29.696Z"
   },
   {
    "duration": 65,
    "start_time": "2022-04-11T16:06:29.708Z"
   },
   {
    "duration": 9,
    "start_time": "2022-04-11T16:06:29.775Z"
   },
   {
    "duration": 19,
    "start_time": "2022-04-11T16:06:29.786Z"
   },
   {
    "duration": 17,
    "start_time": "2022-04-11T16:06:29.807Z"
   },
   {
    "duration": 12,
    "start_time": "2022-04-11T16:06:29.838Z"
   },
   {
    "duration": 11,
    "start_time": "2022-04-11T16:06:29.852Z"
   },
   {
    "duration": 115,
    "start_time": "2022-04-11T16:06:29.865Z"
   },
   {
    "duration": 30,
    "start_time": "2022-04-11T16:06:29.982Z"
   },
   {
    "duration": 42,
    "start_time": "2022-04-11T16:06:30.015Z"
   },
   {
    "duration": 7,
    "start_time": "2022-04-11T16:06:30.058Z"
   },
   {
    "duration": 17,
    "start_time": "2022-04-11T16:06:30.066Z"
   },
   {
    "duration": 324,
    "start_time": "2022-04-11T16:06:30.084Z"
   },
   {
    "duration": 57,
    "start_time": "2022-04-11T16:06:30.410Z"
   },
   {
    "duration": 27,
    "start_time": "2022-04-11T16:06:30.468Z"
   },
   {
    "duration": 50,
    "start_time": "2022-04-11T16:06:30.497Z"
   },
   {
    "duration": 25,
    "start_time": "2022-04-11T16:06:30.549Z"
   },
   {
    "duration": 27,
    "start_time": "2022-04-11T16:06:30.575Z"
   },
   {
    "duration": 34,
    "start_time": "2022-04-11T16:06:30.642Z"
   },
   {
    "duration": 20,
    "start_time": "2022-04-11T16:06:30.678Z"
   },
   {
    "duration": 51,
    "start_time": "2022-04-11T16:06:30.700Z"
   },
   {
    "duration": 30,
    "start_time": "2022-04-11T16:06:30.753Z"
   },
   {
    "duration": 59,
    "start_time": "2022-04-11T16:06:30.785Z"
   },
   {
    "duration": 33,
    "start_time": "2022-04-11T16:06:30.845Z"
   },
   {
    "duration": 4,
    "start_time": "2022-04-11T16:06:30.880Z"
   },
   {
    "duration": 34,
    "start_time": "2022-04-11T16:06:30.885Z"
   },
   {
    "duration": 49,
    "start_time": "2022-04-11T16:06:40.227Z"
   },
   {
    "duration": 3,
    "start_time": "2022-04-11T16:11:34.803Z"
   },
   {
    "duration": 203,
    "start_time": "2022-04-11T16:11:34.810Z"
   },
   {
    "duration": 151,
    "start_time": "2022-04-11T16:11:35.016Z"
   },
   {
    "duration": 117,
    "start_time": "2022-04-11T16:11:35.169Z"
   },
   {
    "duration": 18,
    "start_time": "2022-04-11T16:11:35.289Z"
   },
   {
    "duration": 26,
    "start_time": "2022-04-11T16:11:35.309Z"
   },
   {
    "duration": 18,
    "start_time": "2022-04-11T16:11:35.339Z"
   },
   {
    "duration": 85,
    "start_time": "2022-04-11T16:11:35.359Z"
   },
   {
    "duration": 14,
    "start_time": "2022-04-11T16:11:35.446Z"
   },
   {
    "duration": 69,
    "start_time": "2022-04-11T16:11:35.461Z"
   },
   {
    "duration": 11,
    "start_time": "2022-04-11T16:11:35.538Z"
   },
   {
    "duration": 58,
    "start_time": "2022-04-11T16:11:35.551Z"
   },
   {
    "duration": 9,
    "start_time": "2022-04-11T16:11:35.611Z"
   },
   {
    "duration": 20,
    "start_time": "2022-04-11T16:11:35.622Z"
   },
   {
    "duration": 30,
    "start_time": "2022-04-11T16:11:35.644Z"
   },
   {
    "duration": 19,
    "start_time": "2022-04-11T16:11:35.675Z"
   },
   {
    "duration": 12,
    "start_time": "2022-04-11T16:11:35.697Z"
   },
   {
    "duration": 66,
    "start_time": "2022-04-11T16:11:35.711Z"
   },
   {
    "duration": 29,
    "start_time": "2022-04-11T16:11:35.779Z"
   },
   {
    "duration": 40,
    "start_time": "2022-04-11T16:11:35.810Z"
   },
   {
    "duration": 7,
    "start_time": "2022-04-11T16:11:35.852Z"
   },
   {
    "duration": 15,
    "start_time": "2022-04-11T16:11:35.860Z"
   },
   {
    "duration": 63,
    "start_time": "2022-04-11T16:11:35.877Z"
   },
   {
    "duration": 41,
    "start_time": "2022-04-11T16:11:35.942Z"
   },
   {
    "duration": 56,
    "start_time": "2022-04-11T16:11:35.984Z"
   },
   {
    "duration": 19,
    "start_time": "2022-04-11T16:11:36.041Z"
   },
   {
    "duration": 25,
    "start_time": "2022-04-11T16:11:36.061Z"
   },
   {
    "duration": 74,
    "start_time": "2022-04-11T16:11:36.087Z"
   },
   {
    "duration": 34,
    "start_time": "2022-04-11T16:11:36.165Z"
   },
   {
    "duration": 38,
    "start_time": "2022-04-11T16:11:36.201Z"
   },
   {
    "duration": 27,
    "start_time": "2022-04-11T16:11:36.241Z"
   },
   {
    "duration": 14,
    "start_time": "2022-04-11T16:11:36.270Z"
   },
   {
    "duration": 54,
    "start_time": "2022-04-11T16:11:36.286Z"
   },
   {
    "duration": 23,
    "start_time": "2022-04-11T16:11:40.000Z"
   },
   {
    "duration": 69,
    "start_time": "2022-04-13T07:07:26.805Z"
   },
   {
    "duration": 535,
    "start_time": "2022-04-13T07:07:36.073Z"
   },
   {
    "duration": 226,
    "start_time": "2022-04-13T07:07:36.611Z"
   },
   {
    "duration": 245,
    "start_time": "2022-04-13T07:07:36.839Z"
   },
   {
    "duration": 178,
    "start_time": "2022-04-13T07:07:37.087Z"
   },
   {
    "duration": 30,
    "start_time": "2022-04-13T07:07:37.269Z"
   },
   {
    "duration": 37,
    "start_time": "2022-04-13T07:07:37.301Z"
   },
   {
    "duration": 25,
    "start_time": "2022-04-13T07:07:37.340Z"
   },
   {
    "duration": 99,
    "start_time": "2022-04-13T07:07:37.367Z"
   },
   {
    "duration": 33,
    "start_time": "2022-04-13T07:07:37.469Z"
   },
   {
    "duration": 69,
    "start_time": "2022-04-13T07:07:37.504Z"
   },
   {
    "duration": 28,
    "start_time": "2022-04-13T07:07:37.575Z"
   },
   {
    "duration": 57,
    "start_time": "2022-04-13T07:07:37.605Z"
   },
   {
    "duration": 35,
    "start_time": "2022-04-13T07:07:37.665Z"
   },
   {
    "duration": 12,
    "start_time": "2022-04-13T07:07:37.705Z"
   },
   {
    "duration": 22,
    "start_time": "2022-04-13T07:07:37.719Z"
   },
   {
    "duration": 50,
    "start_time": "2022-04-13T07:07:37.743Z"
   },
   {
    "duration": 8,
    "start_time": "2022-04-13T07:07:37.796Z"
   },
   {
    "duration": 94,
    "start_time": "2022-04-13T07:07:37.807Z"
   },
   {
    "duration": 56,
    "start_time": "2022-04-13T07:07:37.904Z"
   },
   {
    "duration": 55,
    "start_time": "2022-04-13T07:07:37.962Z"
   },
   {
    "duration": 8,
    "start_time": "2022-04-13T07:07:38.019Z"
   },
   {
    "duration": 9,
    "start_time": "2022-04-13T07:07:38.029Z"
   },
   {
    "duration": 104,
    "start_time": "2022-04-13T07:07:38.040Z"
   },
   {
    "duration": 73,
    "start_time": "2022-04-13T07:07:38.147Z"
   },
   {
    "duration": 35,
    "start_time": "2022-04-13T07:07:38.222Z"
   },
   {
    "duration": 54,
    "start_time": "2022-04-13T07:07:38.260Z"
   },
   {
    "duration": 79,
    "start_time": "2022-04-13T07:07:38.316Z"
   },
   {
    "duration": 39,
    "start_time": "2022-04-13T07:07:38.397Z"
   },
   {
    "duration": 65,
    "start_time": "2022-04-13T07:07:38.438Z"
   },
   {
    "duration": 23,
    "start_time": "2022-04-13T07:07:38.506Z"
   },
   {
    "duration": 63,
    "start_time": "2022-04-13T07:07:38.531Z"
   },
   {
    "duration": 18,
    "start_time": "2022-04-13T07:07:38.596Z"
   },
   {
    "duration": 38,
    "start_time": "2022-04-13T07:07:38.616Z"
   },
   {
    "duration": 58,
    "start_time": "2022-04-13T07:07:38.656Z"
   },
   {
    "duration": 76,
    "start_time": "2022-04-13T07:07:38.716Z"
   },
   {
    "duration": 33,
    "start_time": "2022-04-13T07:07:38.794Z"
   },
   {
    "duration": 87,
    "start_time": "2022-04-13T07:07:38.829Z"
   },
   {
    "duration": 38,
    "start_time": "2022-04-13T07:07:38.918Z"
   },
   {
    "duration": 122,
    "start_time": "2022-04-13T07:07:38.958Z"
   },
   {
    "duration": 0,
    "start_time": "2022-04-13T07:07:39.084Z"
   },
   {
    "duration": 0,
    "start_time": "2022-04-13T07:07:39.086Z"
   },
   {
    "duration": 0,
    "start_time": "2022-04-13T07:07:39.093Z"
   },
   {
    "duration": 0,
    "start_time": "2022-04-13T07:07:39.094Z"
   },
   {
    "duration": 0,
    "start_time": "2022-04-13T07:07:39.096Z"
   },
   {
    "duration": 0,
    "start_time": "2022-04-13T07:07:39.097Z"
   },
   {
    "duration": 0,
    "start_time": "2022-04-13T07:07:39.098Z"
   },
   {
    "duration": 1,
    "start_time": "2022-04-13T07:07:39.099Z"
   },
   {
    "duration": 0,
    "start_time": "2022-04-13T07:07:39.101Z"
   },
   {
    "duration": 0,
    "start_time": "2022-04-13T07:07:39.102Z"
   },
   {
    "duration": 0,
    "start_time": "2022-04-13T07:07:39.104Z"
   },
   {
    "duration": 0,
    "start_time": "2022-04-13T07:07:39.105Z"
   },
   {
    "duration": 0,
    "start_time": "2022-04-13T07:07:39.106Z"
   },
   {
    "duration": 0,
    "start_time": "2022-04-13T07:07:39.107Z"
   },
   {
    "duration": 0,
    "start_time": "2022-04-13T07:07:39.109Z"
   },
   {
    "duration": 0,
    "start_time": "2022-04-13T07:07:39.110Z"
   },
   {
    "duration": 0,
    "start_time": "2022-04-13T07:07:39.112Z"
   },
   {
    "duration": 0,
    "start_time": "2022-04-13T07:07:39.114Z"
   },
   {
    "duration": 0,
    "start_time": "2022-04-13T07:07:39.116Z"
   },
   {
    "duration": 0,
    "start_time": "2022-04-13T07:07:39.117Z"
   },
   {
    "duration": 0,
    "start_time": "2022-04-13T07:07:39.119Z"
   },
   {
    "duration": 0,
    "start_time": "2022-04-13T07:07:39.121Z"
   },
   {
    "duration": 0,
    "start_time": "2022-04-13T07:07:39.122Z"
   },
   {
    "duration": 0,
    "start_time": "2022-04-13T07:07:39.124Z"
   },
   {
    "duration": 0,
    "start_time": "2022-04-13T07:07:39.126Z"
   },
   {
    "duration": 0,
    "start_time": "2022-04-13T07:07:39.127Z"
   },
   {
    "duration": 0,
    "start_time": "2022-04-13T07:07:39.129Z"
   },
   {
    "duration": 0,
    "start_time": "2022-04-13T07:07:39.130Z"
   },
   {
    "duration": 0,
    "start_time": "2022-04-13T07:07:39.193Z"
   },
   {
    "duration": 1,
    "start_time": "2022-04-13T07:07:39.195Z"
   },
   {
    "duration": 0,
    "start_time": "2022-04-13T07:07:39.197Z"
   },
   {
    "duration": 0,
    "start_time": "2022-04-13T07:07:39.199Z"
   },
   {
    "duration": 0,
    "start_time": "2022-04-13T07:07:39.200Z"
   },
   {
    "duration": 0,
    "start_time": "2022-04-13T07:07:39.203Z"
   },
   {
    "duration": 0,
    "start_time": "2022-04-13T07:07:39.205Z"
   },
   {
    "duration": 0,
    "start_time": "2022-04-13T07:07:39.206Z"
   },
   {
    "duration": 0,
    "start_time": "2022-04-13T07:07:39.207Z"
   },
   {
    "duration": 0,
    "start_time": "2022-04-13T07:07:39.209Z"
   },
   {
    "duration": 0,
    "start_time": "2022-04-13T07:07:39.211Z"
   },
   {
    "duration": 0,
    "start_time": "2022-04-13T07:07:39.213Z"
   },
   {
    "duration": 0,
    "start_time": "2022-04-13T07:07:39.214Z"
   },
   {
    "duration": 0,
    "start_time": "2022-04-13T07:07:39.216Z"
   },
   {
    "duration": 19,
    "start_time": "2022-04-13T07:46:24.720Z"
   },
   {
    "duration": 224,
    "start_time": "2022-04-13T16:58:03.338Z"
   },
   {
    "duration": 5,
    "start_time": "2022-04-13T16:58:47.039Z"
   },
   {
    "duration": 6091,
    "start_time": "2022-04-13T16:58:58.508Z"
   },
   {
    "duration": 509,
    "start_time": "2022-04-13T16:59:26.206Z"
   },
   {
    "duration": 3516,
    "start_time": "2022-04-13T16:59:26.718Z"
   },
   {
    "duration": 890,
    "start_time": "2022-04-13T16:59:30.236Z"
   },
   {
    "duration": 2190,
    "start_time": "2022-04-13T16:59:31.129Z"
   },
   {
    "duration": 60,
    "start_time": "2022-04-13T16:59:33.322Z"
   },
   {
    "duration": 83,
    "start_time": "2022-04-13T16:59:33.384Z"
   },
   {
    "duration": 27,
    "start_time": "2022-04-13T16:59:33.469Z"
   },
   {
    "duration": 123,
    "start_time": "2022-04-13T16:59:33.499Z"
   },
   {
    "duration": 20,
    "start_time": "2022-04-13T16:59:33.625Z"
   },
   {
    "duration": 93,
    "start_time": "2022-04-13T16:59:33.649Z"
   },
   {
    "duration": 14,
    "start_time": "2022-04-13T16:59:33.744Z"
   },
   {
    "duration": 87,
    "start_time": "2022-04-13T16:59:33.761Z"
   },
   {
    "duration": 12,
    "start_time": "2022-04-13T16:59:33.850Z"
   },
   {
    "duration": 32,
    "start_time": "2022-04-13T16:59:33.864Z"
   },
   {
    "duration": 22,
    "start_time": "2022-04-13T16:59:33.899Z"
   },
   {
    "duration": 20,
    "start_time": "2022-04-13T16:59:33.923Z"
   },
   {
    "duration": 14,
    "start_time": "2022-04-13T16:59:33.945Z"
   },
   {
    "duration": 112,
    "start_time": "2022-04-13T16:59:33.961Z"
   },
   {
    "duration": 61,
    "start_time": "2022-04-13T16:59:34.075Z"
   },
   {
    "duration": 35,
    "start_time": "2022-04-13T16:59:34.138Z"
   },
   {
    "duration": 9,
    "start_time": "2022-04-13T16:59:34.192Z"
   },
   {
    "duration": 11,
    "start_time": "2022-04-13T16:59:34.203Z"
   },
   {
    "duration": 104,
    "start_time": "2022-04-13T16:59:34.216Z"
   },
   {
    "duration": 86,
    "start_time": "2022-04-13T16:59:34.322Z"
   },
   {
    "duration": 36,
    "start_time": "2022-04-13T16:59:34.410Z"
   },
   {
    "duration": 60,
    "start_time": "2022-04-13T16:59:34.449Z"
   },
   {
    "duration": 35,
    "start_time": "2022-04-13T16:59:34.511Z"
   },
   {
    "duration": 42,
    "start_time": "2022-04-13T16:59:34.592Z"
   },
   {
    "duration": 60,
    "start_time": "2022-04-13T16:59:34.635Z"
   },
   {
    "duration": 17,
    "start_time": "2022-04-13T16:59:34.698Z"
   },
   {
    "duration": 28,
    "start_time": "2022-04-13T16:59:34.717Z"
   },
   {
    "duration": 66,
    "start_time": "2022-04-13T16:59:34.748Z"
   },
   {
    "duration": 19,
    "start_time": "2022-04-13T16:59:34.816Z"
   },
   {
    "duration": 21,
    "start_time": "2022-04-13T16:59:34.837Z"
   },
   {
    "duration": 66,
    "start_time": "2022-04-13T16:59:34.861Z"
   },
   {
    "duration": 33,
    "start_time": "2022-04-13T16:59:34.930Z"
   },
   {
    "duration": 86,
    "start_time": "2022-04-13T16:59:34.965Z"
   },
   {
    "duration": 56,
    "start_time": "2022-04-13T16:59:35.054Z"
   },
   {
    "duration": 88,
    "start_time": "2022-04-13T16:59:35.113Z"
   },
   {
    "duration": 38,
    "start_time": "2022-04-13T16:59:35.204Z"
   },
   {
    "duration": 125,
    "start_time": "2022-04-13T16:59:35.245Z"
   },
   {
    "duration": 0,
    "start_time": "2022-04-13T16:59:35.373Z"
   },
   {
    "duration": 0,
    "start_time": "2022-04-13T16:59:35.374Z"
   },
   {
    "duration": 0,
    "start_time": "2022-04-13T16:59:35.375Z"
   },
   {
    "duration": 0,
    "start_time": "2022-04-13T16:59:35.377Z"
   },
   {
    "duration": 0,
    "start_time": "2022-04-13T16:59:35.393Z"
   },
   {
    "duration": 0,
    "start_time": "2022-04-13T16:59:35.395Z"
   },
   {
    "duration": 0,
    "start_time": "2022-04-13T16:59:35.396Z"
   },
   {
    "duration": 0,
    "start_time": "2022-04-13T16:59:35.398Z"
   },
   {
    "duration": 0,
    "start_time": "2022-04-13T16:59:35.400Z"
   },
   {
    "duration": 0,
    "start_time": "2022-04-13T16:59:35.401Z"
   },
   {
    "duration": 0,
    "start_time": "2022-04-13T16:59:35.403Z"
   },
   {
    "duration": 0,
    "start_time": "2022-04-13T16:59:35.404Z"
   },
   {
    "duration": 0,
    "start_time": "2022-04-13T16:59:35.405Z"
   },
   {
    "duration": 0,
    "start_time": "2022-04-13T16:59:35.407Z"
   },
   {
    "duration": 0,
    "start_time": "2022-04-13T16:59:35.408Z"
   },
   {
    "duration": 0,
    "start_time": "2022-04-13T16:59:35.410Z"
   },
   {
    "duration": 0,
    "start_time": "2022-04-13T16:59:35.411Z"
   },
   {
    "duration": 0,
    "start_time": "2022-04-13T16:59:35.413Z"
   },
   {
    "duration": 0,
    "start_time": "2022-04-13T16:59:35.414Z"
   },
   {
    "duration": 0,
    "start_time": "2022-04-13T16:59:35.416Z"
   },
   {
    "duration": 0,
    "start_time": "2022-04-13T16:59:35.417Z"
   },
   {
    "duration": 0,
    "start_time": "2022-04-13T16:59:35.419Z"
   },
   {
    "duration": 0,
    "start_time": "2022-04-13T16:59:35.421Z"
   },
   {
    "duration": 0,
    "start_time": "2022-04-13T16:59:35.422Z"
   },
   {
    "duration": 0,
    "start_time": "2022-04-13T16:59:35.424Z"
   },
   {
    "duration": 0,
    "start_time": "2022-04-13T16:59:35.425Z"
   },
   {
    "duration": 0,
    "start_time": "2022-04-13T16:59:35.427Z"
   },
   {
    "duration": 1,
    "start_time": "2022-04-13T16:59:35.428Z"
   },
   {
    "duration": 0,
    "start_time": "2022-04-13T16:59:35.430Z"
   },
   {
    "duration": 0,
    "start_time": "2022-04-13T16:59:35.432Z"
   },
   {
    "duration": 0,
    "start_time": "2022-04-13T16:59:35.433Z"
   },
   {
    "duration": 0,
    "start_time": "2022-04-13T16:59:35.493Z"
   },
   {
    "duration": 0,
    "start_time": "2022-04-13T16:59:35.495Z"
   },
   {
    "duration": 0,
    "start_time": "2022-04-13T16:59:35.496Z"
   },
   {
    "duration": 0,
    "start_time": "2022-04-13T16:59:35.498Z"
   },
   {
    "duration": 0,
    "start_time": "2022-04-13T16:59:35.500Z"
   },
   {
    "duration": 0,
    "start_time": "2022-04-13T16:59:35.501Z"
   },
   {
    "duration": 0,
    "start_time": "2022-04-13T16:59:35.503Z"
   },
   {
    "duration": 0,
    "start_time": "2022-04-13T16:59:35.505Z"
   },
   {
    "duration": 0,
    "start_time": "2022-04-13T16:59:35.506Z"
   },
   {
    "duration": 0,
    "start_time": "2022-04-13T16:59:35.508Z"
   },
   {
    "duration": 0,
    "start_time": "2022-04-13T16:59:35.509Z"
   },
   {
    "duration": 4105,
    "start_time": "2022-04-13T17:02:34.535Z"
   },
   {
    "duration": 530,
    "start_time": "2022-04-13T17:02:51.629Z"
   },
   {
    "duration": 368,
    "start_time": "2022-04-13T17:02:52.162Z"
   },
   {
    "duration": 305,
    "start_time": "2022-04-13T17:02:52.532Z"
   },
   {
    "duration": 141,
    "start_time": "2022-04-13T17:02:52.840Z"
   },
   {
    "duration": 35,
    "start_time": "2022-04-13T17:02:52.983Z"
   },
   {
    "duration": 41,
    "start_time": "2022-04-13T17:02:53.020Z"
   },
   {
    "duration": 45,
    "start_time": "2022-04-13T17:02:53.064Z"
   },
   {
    "duration": 184,
    "start_time": "2022-04-13T17:02:53.113Z"
   },
   {
    "duration": 27,
    "start_time": "2022-04-13T17:02:53.301Z"
   },
   {
    "duration": 152,
    "start_time": "2022-04-13T17:02:53.334Z"
   },
   {
    "duration": 26,
    "start_time": "2022-04-13T17:02:53.495Z"
   },
   {
    "duration": 124,
    "start_time": "2022-04-13T17:02:53.524Z"
   },
   {
    "duration": 13,
    "start_time": "2022-04-13T17:02:53.652Z"
   },
   {
    "duration": 31,
    "start_time": "2022-04-13T17:02:53.668Z"
   },
   {
    "duration": 26,
    "start_time": "2022-04-13T17:02:53.701Z"
   },
   {
    "duration": 30,
    "start_time": "2022-04-13T17:02:53.730Z"
   },
   {
    "duration": 37,
    "start_time": "2022-04-13T17:02:53.762Z"
   },
   {
    "duration": 115,
    "start_time": "2022-04-13T17:02:53.802Z"
   },
   {
    "duration": 62,
    "start_time": "2022-04-13T17:02:53.919Z"
   },
   {
    "duration": 50,
    "start_time": "2022-04-13T17:02:53.983Z"
   },
   {
    "duration": 9,
    "start_time": "2022-04-13T17:02:54.036Z"
   },
   {
    "duration": 9,
    "start_time": "2022-04-13T17:02:54.056Z"
   },
   {
    "duration": 131,
    "start_time": "2022-04-13T17:02:54.068Z"
   },
   {
    "duration": 61,
    "start_time": "2022-04-13T17:02:54.202Z"
   },
   {
    "duration": 65,
    "start_time": "2022-04-13T17:02:54.265Z"
   },
   {
    "duration": 69,
    "start_time": "2022-04-13T17:02:54.333Z"
   },
   {
    "duration": 42,
    "start_time": "2022-04-13T17:02:54.406Z"
   },
   {
    "duration": 90,
    "start_time": "2022-04-13T17:02:54.454Z"
   },
   {
    "duration": 62,
    "start_time": "2022-04-13T17:02:54.546Z"
   },
   {
    "duration": 18,
    "start_time": "2022-04-13T17:02:54.616Z"
   },
   {
    "duration": 28,
    "start_time": "2022-04-13T17:02:54.638Z"
   },
   {
    "duration": 68,
    "start_time": "2022-04-13T17:02:54.669Z"
   },
   {
    "duration": 20,
    "start_time": "2022-04-13T17:02:54.740Z"
   },
   {
    "duration": 116,
    "start_time": "2022-04-13T17:02:54.796Z"
   },
   {
    "duration": 0,
    "start_time": "2022-04-13T17:02:54.914Z"
   },
   {
    "duration": 0,
    "start_time": "2022-04-13T17:02:54.916Z"
   },
   {
    "duration": 0,
    "start_time": "2022-04-13T17:02:54.918Z"
   },
   {
    "duration": 0,
    "start_time": "2022-04-13T17:02:54.919Z"
   },
   {
    "duration": 0,
    "start_time": "2022-04-13T17:02:54.920Z"
   },
   {
    "duration": 0,
    "start_time": "2022-04-13T17:02:54.922Z"
   },
   {
    "duration": 0,
    "start_time": "2022-04-13T17:02:54.924Z"
   },
   {
    "duration": 0,
    "start_time": "2022-04-13T17:02:54.926Z"
   },
   {
    "duration": 1,
    "start_time": "2022-04-13T17:02:54.928Z"
   },
   {
    "duration": 0,
    "start_time": "2022-04-13T17:02:54.930Z"
   },
   {
    "duration": 0,
    "start_time": "2022-04-13T17:02:54.932Z"
   },
   {
    "duration": 0,
    "start_time": "2022-04-13T17:02:54.934Z"
   },
   {
    "duration": 0,
    "start_time": "2022-04-13T17:02:54.937Z"
   },
   {
    "duration": 0,
    "start_time": "2022-04-13T17:02:54.938Z"
   },
   {
    "duration": 0,
    "start_time": "2022-04-13T17:02:54.940Z"
   },
   {
    "duration": 0,
    "start_time": "2022-04-13T17:02:54.942Z"
   },
   {
    "duration": 0,
    "start_time": "2022-04-13T17:02:54.944Z"
   },
   {
    "duration": 0,
    "start_time": "2022-04-13T17:02:54.993Z"
   },
   {
    "duration": 0,
    "start_time": "2022-04-13T17:02:54.995Z"
   },
   {
    "duration": 0,
    "start_time": "2022-04-13T17:02:54.997Z"
   },
   {
    "duration": 0,
    "start_time": "2022-04-13T17:02:54.999Z"
   },
   {
    "duration": 0,
    "start_time": "2022-04-13T17:02:55.000Z"
   },
   {
    "duration": 0,
    "start_time": "2022-04-13T17:02:55.002Z"
   },
   {
    "duration": 0,
    "start_time": "2022-04-13T17:02:55.004Z"
   },
   {
    "duration": 0,
    "start_time": "2022-04-13T17:02:55.006Z"
   },
   {
    "duration": 0,
    "start_time": "2022-04-13T17:02:55.008Z"
   },
   {
    "duration": 0,
    "start_time": "2022-04-13T17:02:55.010Z"
   },
   {
    "duration": 0,
    "start_time": "2022-04-13T17:02:55.012Z"
   },
   {
    "duration": 0,
    "start_time": "2022-04-13T17:02:55.014Z"
   },
   {
    "duration": 0,
    "start_time": "2022-04-13T17:02:55.015Z"
   },
   {
    "duration": 0,
    "start_time": "2022-04-13T17:02:55.017Z"
   },
   {
    "duration": 0,
    "start_time": "2022-04-13T17:02:55.019Z"
   },
   {
    "duration": 0,
    "start_time": "2022-04-13T17:02:55.021Z"
   },
   {
    "duration": 0,
    "start_time": "2022-04-13T17:02:55.023Z"
   },
   {
    "duration": 0,
    "start_time": "2022-04-13T17:02:55.025Z"
   },
   {
    "duration": 0,
    "start_time": "2022-04-13T17:02:55.027Z"
   },
   {
    "duration": 0,
    "start_time": "2022-04-13T17:02:55.028Z"
   },
   {
    "duration": 0,
    "start_time": "2022-04-13T17:02:55.030Z"
   },
   {
    "duration": 0,
    "start_time": "2022-04-13T17:02:55.032Z"
   },
   {
    "duration": 0,
    "start_time": "2022-04-13T17:02:55.034Z"
   },
   {
    "duration": 0,
    "start_time": "2022-04-13T17:02:55.036Z"
   },
   {
    "duration": 0,
    "start_time": "2022-04-13T17:02:55.094Z"
   },
   {
    "duration": 0,
    "start_time": "2022-04-13T17:02:55.100Z"
   },
   {
    "duration": 0,
    "start_time": "2022-04-13T17:02:55.102Z"
   },
   {
    "duration": 0,
    "start_time": "2022-04-13T17:02:55.104Z"
   },
   {
    "duration": 0,
    "start_time": "2022-04-13T17:02:55.106Z"
   },
   {
    "duration": 0,
    "start_time": "2022-04-13T17:02:55.108Z"
   },
   {
    "duration": 0,
    "start_time": "2022-04-13T17:02:55.111Z"
   },
   {
    "duration": 0,
    "start_time": "2022-04-13T17:02:55.114Z"
   },
   {
    "duration": 3652,
    "start_time": "2022-04-13T17:03:05.813Z"
   },
   {
    "duration": 579,
    "start_time": "2022-04-13T17:03:13.567Z"
   },
   {
    "duration": 242,
    "start_time": "2022-04-13T17:03:14.149Z"
   },
   {
    "duration": 211,
    "start_time": "2022-04-13T17:03:14.394Z"
   },
   {
    "duration": 144,
    "start_time": "2022-04-13T17:03:14.609Z"
   },
   {
    "duration": 28,
    "start_time": "2022-04-13T17:03:14.756Z"
   },
   {
    "duration": 42,
    "start_time": "2022-04-13T17:03:14.794Z"
   },
   {
    "duration": 26,
    "start_time": "2022-04-13T17:03:14.838Z"
   },
   {
    "duration": 117,
    "start_time": "2022-04-13T17:03:14.866Z"
   },
   {
    "duration": 34,
    "start_time": "2022-04-13T17:03:14.985Z"
   },
   {
    "duration": 100,
    "start_time": "2022-04-13T17:03:15.023Z"
   },
   {
    "duration": 14,
    "start_time": "2022-04-13T17:03:15.125Z"
   },
   {
    "duration": 89,
    "start_time": "2022-04-13T17:03:15.141Z"
   },
   {
    "duration": 12,
    "start_time": "2022-04-13T17:03:15.232Z"
   },
   {
    "duration": 25,
    "start_time": "2022-04-13T17:03:15.246Z"
   },
   {
    "duration": 46,
    "start_time": "2022-04-13T17:03:15.274Z"
   },
   {
    "duration": 26,
    "start_time": "2022-04-13T17:03:15.322Z"
   },
   {
    "duration": 11,
    "start_time": "2022-04-13T17:03:15.350Z"
   },
   {
    "duration": 118,
    "start_time": "2022-04-13T17:03:15.364Z"
   },
   {
    "duration": 64,
    "start_time": "2022-04-13T17:03:15.485Z"
   },
   {
    "duration": 70,
    "start_time": "2022-04-13T17:03:15.552Z"
   },
   {
    "duration": 8,
    "start_time": "2022-04-13T17:03:15.624Z"
   },
   {
    "duration": 10,
    "start_time": "2022-04-13T17:03:15.634Z"
   },
   {
    "duration": 105,
    "start_time": "2022-04-13T17:03:15.646Z"
   },
   {
    "duration": 89,
    "start_time": "2022-04-13T17:03:15.754Z"
   },
   {
    "duration": 61,
    "start_time": "2022-04-13T17:03:15.845Z"
   },
   {
    "duration": 35,
    "start_time": "2022-04-13T17:03:15.909Z"
   },
   {
    "duration": 91,
    "start_time": "2022-04-13T17:03:15.947Z"
   },
   {
    "duration": 95,
    "start_time": "2022-04-13T17:03:16.047Z"
   },
   {
    "duration": 64,
    "start_time": "2022-04-13T17:03:16.145Z"
   },
   {
    "duration": 16,
    "start_time": "2022-04-13T17:03:16.212Z"
   },
   {
    "duration": 32,
    "start_time": "2022-04-13T17:03:16.230Z"
   },
   {
    "duration": 71,
    "start_time": "2022-04-13T17:03:16.264Z"
   },
   {
    "duration": 19,
    "start_time": "2022-04-13T17:03:16.337Z"
   },
   {
    "duration": 3769,
    "start_time": "2022-04-13T17:03:16.358Z"
   },
   {
    "duration": 0,
    "start_time": "2022-04-13T17:03:20.129Z"
   },
   {
    "duration": 0,
    "start_time": "2022-04-13T17:03:20.131Z"
   },
   {
    "duration": 0,
    "start_time": "2022-04-13T17:03:20.132Z"
   },
   {
    "duration": 0,
    "start_time": "2022-04-13T17:03:20.133Z"
   },
   {
    "duration": 0,
    "start_time": "2022-04-13T17:03:20.134Z"
   },
   {
    "duration": 0,
    "start_time": "2022-04-13T17:03:20.135Z"
   },
   {
    "duration": 0,
    "start_time": "2022-04-13T17:03:20.136Z"
   },
   {
    "duration": 0,
    "start_time": "2022-04-13T17:03:20.138Z"
   },
   {
    "duration": 0,
    "start_time": "2022-04-13T17:03:20.139Z"
   },
   {
    "duration": 0,
    "start_time": "2022-04-13T17:03:20.141Z"
   },
   {
    "duration": 0,
    "start_time": "2022-04-13T17:03:20.142Z"
   },
   {
    "duration": 0,
    "start_time": "2022-04-13T17:03:20.143Z"
   },
   {
    "duration": 0,
    "start_time": "2022-04-13T17:03:20.145Z"
   },
   {
    "duration": 0,
    "start_time": "2022-04-13T17:03:20.146Z"
   },
   {
    "duration": 0,
    "start_time": "2022-04-13T17:03:20.147Z"
   },
   {
    "duration": 1,
    "start_time": "2022-04-13T17:03:20.148Z"
   },
   {
    "duration": 0,
    "start_time": "2022-04-13T17:03:20.150Z"
   },
   {
    "duration": 0,
    "start_time": "2022-04-13T17:03:20.151Z"
   },
   {
    "duration": 1,
    "start_time": "2022-04-13T17:03:20.151Z"
   },
   {
    "duration": 0,
    "start_time": "2022-04-13T17:03:20.153Z"
   },
   {
    "duration": 0,
    "start_time": "2022-04-13T17:03:20.154Z"
   },
   {
    "duration": 0,
    "start_time": "2022-04-13T17:03:20.155Z"
   },
   {
    "duration": 0,
    "start_time": "2022-04-13T17:03:20.156Z"
   },
   {
    "duration": 0,
    "start_time": "2022-04-13T17:03:20.157Z"
   },
   {
    "duration": 0,
    "start_time": "2022-04-13T17:03:20.158Z"
   },
   {
    "duration": 0,
    "start_time": "2022-04-13T17:03:20.159Z"
   },
   {
    "duration": 0,
    "start_time": "2022-04-13T17:03:20.160Z"
   },
   {
    "duration": 0,
    "start_time": "2022-04-13T17:03:20.161Z"
   },
   {
    "duration": 0,
    "start_time": "2022-04-13T17:03:20.162Z"
   },
   {
    "duration": 0,
    "start_time": "2022-04-13T17:03:20.163Z"
   },
   {
    "duration": 0,
    "start_time": "2022-04-13T17:03:20.165Z"
   },
   {
    "duration": 0,
    "start_time": "2022-04-13T17:03:20.166Z"
   },
   {
    "duration": 0,
    "start_time": "2022-04-13T17:03:20.167Z"
   },
   {
    "duration": 0,
    "start_time": "2022-04-13T17:03:20.168Z"
   },
   {
    "duration": 0,
    "start_time": "2022-04-13T17:03:20.195Z"
   },
   {
    "duration": 0,
    "start_time": "2022-04-13T17:03:20.198Z"
   },
   {
    "duration": 0,
    "start_time": "2022-04-13T17:03:20.201Z"
   },
   {
    "duration": 0,
    "start_time": "2022-04-13T17:03:20.204Z"
   },
   {
    "duration": 0,
    "start_time": "2022-04-13T17:03:20.207Z"
   },
   {
    "duration": 0,
    "start_time": "2022-04-13T17:03:20.212Z"
   },
   {
    "duration": 0,
    "start_time": "2022-04-13T17:03:20.214Z"
   },
   {
    "duration": 0,
    "start_time": "2022-04-13T17:03:20.215Z"
   },
   {
    "duration": 0,
    "start_time": "2022-04-13T17:03:20.219Z"
   },
   {
    "duration": 0,
    "start_time": "2022-04-13T17:03:20.221Z"
   },
   {
    "duration": 0,
    "start_time": "2022-04-13T17:03:20.223Z"
   },
   {
    "duration": 0,
    "start_time": "2022-04-13T17:03:20.224Z"
   },
   {
    "duration": 0,
    "start_time": "2022-04-13T17:03:20.226Z"
   },
   {
    "duration": 0,
    "start_time": "2022-04-13T17:03:20.227Z"
   },
   {
    "duration": 0,
    "start_time": "2022-04-13T17:03:20.229Z"
   },
   {
    "duration": 3609,
    "start_time": "2022-04-13T17:04:30.314Z"
   },
   {
    "duration": 515,
    "start_time": "2022-04-13T17:04:47.514Z"
   },
   {
    "duration": 253,
    "start_time": "2022-04-13T17:04:48.031Z"
   },
   {
    "duration": 197,
    "start_time": "2022-04-13T17:04:48.286Z"
   },
   {
    "duration": 140,
    "start_time": "2022-04-13T17:04:48.485Z"
   },
   {
    "duration": 26,
    "start_time": "2022-04-13T17:04:48.628Z"
   },
   {
    "duration": 70,
    "start_time": "2022-04-13T17:04:48.656Z"
   },
   {
    "duration": 26,
    "start_time": "2022-04-13T17:04:48.728Z"
   },
   {
    "duration": 100,
    "start_time": "2022-04-13T17:04:48.756Z"
   },
   {
    "duration": 18,
    "start_time": "2022-04-13T17:04:48.858Z"
   },
   {
    "duration": 78,
    "start_time": "2022-04-13T17:04:48.899Z"
   },
   {
    "duration": 19,
    "start_time": "2022-04-13T17:04:48.993Z"
   },
   {
    "duration": 85,
    "start_time": "2022-04-13T17:04:49.015Z"
   },
   {
    "duration": 12,
    "start_time": "2022-04-13T17:04:49.106Z"
   },
   {
    "duration": 15,
    "start_time": "2022-04-13T17:04:49.120Z"
   },
   {
    "duration": 22,
    "start_time": "2022-04-13T17:04:49.137Z"
   },
   {
    "duration": 43,
    "start_time": "2022-04-13T17:04:49.161Z"
   },
   {
    "duration": 17,
    "start_time": "2022-04-13T17:04:49.206Z"
   },
   {
    "duration": 88,
    "start_time": "2022-04-13T17:04:49.225Z"
   },
   {
    "duration": 51,
    "start_time": "2022-04-13T17:04:49.315Z"
   },
   {
    "duration": 63,
    "start_time": "2022-04-13T17:04:49.369Z"
   },
   {
    "duration": 8,
    "start_time": "2022-04-13T17:04:49.434Z"
   },
   {
    "duration": 11,
    "start_time": "2022-04-13T17:04:49.445Z"
   },
   {
    "duration": 109,
    "start_time": "2022-04-13T17:04:49.459Z"
   },
   {
    "duration": 89,
    "start_time": "2022-04-13T17:04:49.570Z"
   },
   {
    "duration": 69,
    "start_time": "2022-04-13T17:04:49.661Z"
   },
   {
    "duration": 75,
    "start_time": "2022-04-13T17:04:49.733Z"
   },
   {
    "duration": 36,
    "start_time": "2022-04-13T17:04:49.811Z"
   },
   {
    "duration": 80,
    "start_time": "2022-04-13T17:04:49.853Z"
   },
   {
    "duration": 47,
    "start_time": "2022-04-13T17:04:49.935Z"
   },
   {
    "duration": 25,
    "start_time": "2022-04-13T17:04:49.994Z"
   },
   {
    "duration": 38,
    "start_time": "2022-04-13T17:04:50.021Z"
   },
   {
    "duration": 57,
    "start_time": "2022-04-13T17:04:50.062Z"
   },
   {
    "duration": 20,
    "start_time": "2022-04-13T17:04:50.121Z"
   },
   {
    "duration": 71,
    "start_time": "2022-04-13T17:04:50.143Z"
   },
   {
    "duration": 44,
    "start_time": "2022-04-13T17:04:50.219Z"
   },
   {
    "duration": 56,
    "start_time": "2022-04-13T17:04:50.265Z"
   },
   {
    "duration": 85,
    "start_time": "2022-04-13T17:04:50.323Z"
   },
   {
    "duration": 35,
    "start_time": "2022-04-13T17:04:50.412Z"
   },
   {
    "duration": 91,
    "start_time": "2022-04-13T17:04:50.449Z"
   },
   {
    "duration": 67,
    "start_time": "2022-04-13T17:04:50.543Z"
   },
   {
    "duration": 185,
    "start_time": "2022-04-13T17:04:50.613Z"
   },
   {
    "duration": 1,
    "start_time": "2022-04-13T17:04:50.801Z"
   },
   {
    "duration": 0,
    "start_time": "2022-04-13T17:04:50.803Z"
   },
   {
    "duration": 0,
    "start_time": "2022-04-13T17:04:50.814Z"
   },
   {
    "duration": 0,
    "start_time": "2022-04-13T17:04:50.815Z"
   },
   {
    "duration": 0,
    "start_time": "2022-04-13T17:04:50.820Z"
   },
   {
    "duration": 0,
    "start_time": "2022-04-13T17:04:50.822Z"
   },
   {
    "duration": 0,
    "start_time": "2022-04-13T17:04:50.824Z"
   },
   {
    "duration": 0,
    "start_time": "2022-04-13T17:04:50.826Z"
   },
   {
    "duration": 0,
    "start_time": "2022-04-13T17:04:50.829Z"
   },
   {
    "duration": 0,
    "start_time": "2022-04-13T17:04:50.831Z"
   },
   {
    "duration": 0,
    "start_time": "2022-04-13T17:04:50.833Z"
   },
   {
    "duration": 0,
    "start_time": "2022-04-13T17:04:50.836Z"
   },
   {
    "duration": 0,
    "start_time": "2022-04-13T17:04:50.838Z"
   },
   {
    "duration": 0,
    "start_time": "2022-04-13T17:04:50.840Z"
   },
   {
    "duration": 0,
    "start_time": "2022-04-13T17:04:50.842Z"
   },
   {
    "duration": 0,
    "start_time": "2022-04-13T17:04:50.844Z"
   },
   {
    "duration": 0,
    "start_time": "2022-04-13T17:04:50.846Z"
   },
   {
    "duration": 0,
    "start_time": "2022-04-13T17:04:50.848Z"
   },
   {
    "duration": 0,
    "start_time": "2022-04-13T17:04:50.893Z"
   },
   {
    "duration": 0,
    "start_time": "2022-04-13T17:04:50.895Z"
   },
   {
    "duration": 0,
    "start_time": "2022-04-13T17:04:50.897Z"
   },
   {
    "duration": 0,
    "start_time": "2022-04-13T17:04:50.899Z"
   },
   {
    "duration": 0,
    "start_time": "2022-04-13T17:04:50.900Z"
   },
   {
    "duration": 0,
    "start_time": "2022-04-13T17:04:50.902Z"
   },
   {
    "duration": 0,
    "start_time": "2022-04-13T17:04:50.903Z"
   },
   {
    "duration": 0,
    "start_time": "2022-04-13T17:04:50.905Z"
   },
   {
    "duration": 0,
    "start_time": "2022-04-13T17:04:50.907Z"
   },
   {
    "duration": 0,
    "start_time": "2022-04-13T17:04:50.909Z"
   },
   {
    "duration": 0,
    "start_time": "2022-04-13T17:04:50.910Z"
   },
   {
    "duration": 0,
    "start_time": "2022-04-13T17:04:50.912Z"
   },
   {
    "duration": 0,
    "start_time": "2022-04-13T17:04:50.913Z"
   },
   {
    "duration": 0,
    "start_time": "2022-04-13T17:04:50.917Z"
   },
   {
    "duration": 0,
    "start_time": "2022-04-13T17:04:50.918Z"
   },
   {
    "duration": 0,
    "start_time": "2022-04-13T17:04:50.920Z"
   },
   {
    "duration": 0,
    "start_time": "2022-04-13T17:04:50.922Z"
   },
   {
    "duration": 0,
    "start_time": "2022-04-13T17:04:50.923Z"
   },
   {
    "duration": 0,
    "start_time": "2022-04-13T17:04:50.925Z"
   },
   {
    "duration": 0,
    "start_time": "2022-04-13T17:04:50.927Z"
   },
   {
    "duration": 0,
    "start_time": "2022-04-13T17:04:50.929Z"
   },
   {
    "duration": 0,
    "start_time": "2022-04-13T17:04:50.933Z"
   },
   {
    "duration": 0,
    "start_time": "2022-04-13T17:04:50.934Z"
   },
   {
    "duration": 0,
    "start_time": "2022-04-13T17:04:50.935Z"
   },
   {
    "duration": 21,
    "start_time": "2022-04-13T17:10:06.618Z"
   },
   {
    "duration": 14,
    "start_time": "2022-04-13T17:10:12.346Z"
   },
   {
    "duration": 12,
    "start_time": "2022-04-13T17:10:45.815Z"
   },
   {
    "duration": 18,
    "start_time": "2022-04-13T17:12:11.666Z"
   },
   {
    "duration": 11,
    "start_time": "2022-04-13T17:12:43.715Z"
   },
   {
    "duration": 18,
    "start_time": "2022-04-13T17:13:28.060Z"
   },
   {
    "duration": 21,
    "start_time": "2022-04-13T17:46:59.614Z"
   },
   {
    "duration": 18,
    "start_time": "2022-04-13T17:50:25.453Z"
   },
   {
    "duration": 19,
    "start_time": "2022-04-13T17:54:43.826Z"
   },
   {
    "duration": 16,
    "start_time": "2022-04-13T17:55:20.191Z"
   },
   {
    "duration": 4,
    "start_time": "2022-04-13T17:58:06.881Z"
   },
   {
    "duration": 16,
    "start_time": "2022-04-13T17:58:14.909Z"
   },
   {
    "duration": 565,
    "start_time": "2022-04-13T17:58:24.307Z"
   },
   {
    "duration": 250,
    "start_time": "2022-04-13T17:58:24.875Z"
   },
   {
    "duration": 198,
    "start_time": "2022-04-13T17:58:25.127Z"
   },
   {
    "duration": 136,
    "start_time": "2022-04-13T17:58:25.328Z"
   },
   {
    "duration": 27,
    "start_time": "2022-04-13T17:58:25.466Z"
   },
   {
    "duration": 73,
    "start_time": "2022-04-13T17:58:25.500Z"
   },
   {
    "duration": 32,
    "start_time": "2022-04-13T17:58:25.575Z"
   },
   {
    "duration": 114,
    "start_time": "2022-04-13T17:58:25.610Z"
   },
   {
    "duration": 19,
    "start_time": "2022-04-13T17:58:25.726Z"
   },
   {
    "duration": 88,
    "start_time": "2022-04-13T17:58:25.749Z"
   },
   {
    "duration": 14,
    "start_time": "2022-04-13T17:58:25.839Z"
   },
   {
    "duration": 94,
    "start_time": "2022-04-13T17:58:25.855Z"
   },
   {
    "duration": 11,
    "start_time": "2022-04-13T17:58:25.951Z"
   },
   {
    "duration": 35,
    "start_time": "2022-04-13T17:58:25.965Z"
   },
   {
    "duration": 29,
    "start_time": "2022-04-13T17:58:26.003Z"
   },
   {
    "duration": 17,
    "start_time": "2022-04-13T17:58:26.035Z"
   },
   {
    "duration": 11,
    "start_time": "2022-04-13T17:58:26.054Z"
   },
   {
    "duration": 100,
    "start_time": "2022-04-13T17:58:26.094Z"
   },
   {
    "duration": 63,
    "start_time": "2022-04-13T17:58:26.196Z"
   },
   {
    "duration": 67,
    "start_time": "2022-04-13T17:58:26.261Z"
   },
   {
    "duration": 8,
    "start_time": "2022-04-13T17:58:26.330Z"
   },
   {
    "duration": 11,
    "start_time": "2022-04-13T17:58:26.340Z"
   },
   {
    "duration": 109,
    "start_time": "2022-04-13T17:58:26.353Z"
   },
   {
    "duration": 85,
    "start_time": "2022-04-13T17:58:26.465Z"
   },
   {
    "duration": 73,
    "start_time": "2022-04-13T17:58:26.552Z"
   },
   {
    "duration": 67,
    "start_time": "2022-04-13T17:58:26.628Z"
   },
   {
    "duration": 39,
    "start_time": "2022-04-13T17:58:26.697Z"
   },
   {
    "duration": 83,
    "start_time": "2022-04-13T17:58:26.743Z"
   },
   {
    "duration": 42,
    "start_time": "2022-04-13T17:58:26.828Z"
   },
   {
    "duration": 24,
    "start_time": "2022-04-13T17:58:26.892Z"
   },
   {
    "duration": 25,
    "start_time": "2022-04-13T17:58:26.919Z"
   },
   {
    "duration": 73,
    "start_time": "2022-04-13T17:58:26.946Z"
   },
   {
    "duration": 20,
    "start_time": "2022-04-13T17:58:27.022Z"
   },
   {
    "duration": 65,
    "start_time": "2022-04-13T17:58:27.044Z"
   },
   {
    "duration": 42,
    "start_time": "2022-04-13T17:58:27.113Z"
   },
   {
    "duration": 66,
    "start_time": "2022-04-13T17:58:27.157Z"
   },
   {
    "duration": 83,
    "start_time": "2022-04-13T17:58:27.226Z"
   },
   {
    "duration": 38,
    "start_time": "2022-04-13T17:58:27.313Z"
   },
   {
    "duration": 102,
    "start_time": "2022-04-13T17:58:27.354Z"
   },
   {
    "duration": 67,
    "start_time": "2022-04-13T17:58:27.458Z"
   },
   {
    "duration": 5,
    "start_time": "2022-04-13T17:58:27.528Z"
   },
   {
    "duration": 17,
    "start_time": "2022-04-13T17:58:27.536Z"
   },
   {
    "duration": 63,
    "start_time": "2022-04-13T17:58:27.556Z"
   },
   {
    "duration": 25,
    "start_time": "2022-04-13T17:58:27.621Z"
   },
   {
    "duration": 13,
    "start_time": "2022-04-13T17:58:27.649Z"
   },
   {
    "duration": 40,
    "start_time": "2022-04-13T17:58:27.665Z"
   },
   {
    "duration": 21,
    "start_time": "2022-04-13T17:58:27.708Z"
   },
   {
    "duration": 34,
    "start_time": "2022-04-13T17:58:27.731Z"
   },
   {
    "duration": 62,
    "start_time": "2022-04-13T17:58:27.767Z"
   },
   {
    "duration": 12,
    "start_time": "2022-04-13T17:58:27.832Z"
   },
   {
    "duration": 7,
    "start_time": "2022-04-13T17:58:27.846Z"
   },
   {
    "duration": 59,
    "start_time": "2022-04-13T17:58:27.855Z"
   },
   {
    "duration": 19,
    "start_time": "2022-04-13T17:58:27.916Z"
   },
   {
    "duration": 5,
    "start_time": "2022-04-13T17:58:27.937Z"
   },
   {
    "duration": 57,
    "start_time": "2022-04-13T17:58:27.944Z"
   },
   {
    "duration": 415,
    "start_time": "2022-04-13T17:58:28.004Z"
   },
   {
    "duration": 21,
    "start_time": "2022-04-13T17:58:28.421Z"
   },
   {
    "duration": 8,
    "start_time": "2022-04-13T17:58:28.444Z"
   },
   {
    "duration": 948,
    "start_time": "2022-04-13T17:58:28.453Z"
   },
   {
    "duration": 230,
    "start_time": "2022-04-13T17:58:29.408Z"
   },
   {
    "duration": 88,
    "start_time": "2022-04-13T17:58:29.641Z"
   },
   {
    "duration": 15,
    "start_time": "2022-04-13T17:58:29.731Z"
   },
   {
    "duration": 312,
    "start_time": "2022-04-13T17:58:29.748Z"
   },
   {
    "duration": 247,
    "start_time": "2022-04-13T17:58:30.062Z"
   },
   {
    "duration": 15,
    "start_time": "2022-04-13T17:58:30.312Z"
   },
   {
    "duration": 250,
    "start_time": "2022-04-13T17:58:30.329Z"
   },
   {
    "duration": 250,
    "start_time": "2022-04-13T17:58:30.581Z"
   },
   {
    "duration": 15,
    "start_time": "2022-04-13T17:58:30.833Z"
   },
   {
    "duration": 257,
    "start_time": "2022-04-13T17:58:30.850Z"
   },
   {
    "duration": 227,
    "start_time": "2022-04-13T17:58:31.109Z"
   },
   {
    "duration": 7,
    "start_time": "2022-04-13T17:58:31.339Z"
   },
   {
    "duration": 55,
    "start_time": "2022-04-13T17:58:31.349Z"
   },
   {
    "duration": 19,
    "start_time": "2022-04-13T17:58:31.408Z"
   },
   {
    "duration": 30,
    "start_time": "2022-04-13T17:58:31.429Z"
   },
   {
    "duration": 23,
    "start_time": "2022-04-13T17:58:31.461Z"
   },
   {
    "duration": 18,
    "start_time": "2022-04-13T17:58:31.487Z"
   },
   {
    "duration": 588,
    "start_time": "2022-04-13T17:58:31.508Z"
   },
   {
    "duration": 7,
    "start_time": "2022-04-13T17:58:32.100Z"
   },
   {
    "duration": 8,
    "start_time": "2022-04-13T17:58:32.110Z"
   },
   {
    "duration": 9,
    "start_time": "2022-04-13T17:58:32.120Z"
   },
   {
    "duration": 9,
    "start_time": "2022-04-13T17:58:32.132Z"
   },
   {
    "duration": 11,
    "start_time": "2022-04-13T17:58:32.149Z"
   },
   {
    "duration": 43,
    "start_time": "2022-04-13T17:58:32.162Z"
   },
   {
    "duration": 7,
    "start_time": "2022-04-13T17:58:32.208Z"
   },
   {
    "duration": 6,
    "start_time": "2022-04-13T17:58:32.218Z"
   },
   {
    "duration": 383,
    "start_time": "2022-04-13T18:13:48.029Z"
   },
   {
    "duration": 343,
    "start_time": "2022-04-13T18:14:11.060Z"
   },
   {
    "duration": 69,
    "start_time": "2022-04-14T10:41:05.542Z"
   },
   {
    "duration": 581,
    "start_time": "2022-04-14T10:41:13.050Z"
   },
   {
    "duration": 498,
    "start_time": "2022-04-14T10:41:13.634Z"
   },
   {
    "duration": 252,
    "start_time": "2022-04-14T10:41:14.134Z"
   },
   {
    "duration": 263,
    "start_time": "2022-04-14T10:41:14.389Z"
   },
   {
    "duration": 34,
    "start_time": "2022-04-14T10:41:14.654Z"
   },
   {
    "duration": 29,
    "start_time": "2022-04-14T10:41:14.691Z"
   },
   {
    "duration": 26,
    "start_time": "2022-04-14T10:41:14.722Z"
   },
   {
    "duration": 104,
    "start_time": "2022-04-14T10:41:14.750Z"
   },
   {
    "duration": 38,
    "start_time": "2022-04-14T10:41:14.856Z"
   },
   {
    "duration": 87,
    "start_time": "2022-04-14T10:41:14.899Z"
   },
   {
    "duration": 14,
    "start_time": "2022-04-14T10:41:14.989Z"
   },
   {
    "duration": 85,
    "start_time": "2022-04-14T10:41:15.005Z"
   },
   {
    "duration": 17,
    "start_time": "2022-04-14T10:41:15.093Z"
   },
   {
    "duration": 24,
    "start_time": "2022-04-14T10:41:15.113Z"
   },
   {
    "duration": 58,
    "start_time": "2022-04-14T10:41:15.140Z"
   },
   {
    "duration": 22,
    "start_time": "2022-04-14T10:41:15.200Z"
   },
   {
    "duration": 12,
    "start_time": "2022-04-14T10:41:15.224Z"
   },
   {
    "duration": 105,
    "start_time": "2022-04-14T10:41:15.238Z"
   },
   {
    "duration": 69,
    "start_time": "2022-04-14T10:41:15.345Z"
   },
   {
    "duration": 35,
    "start_time": "2022-04-14T10:41:15.417Z"
   },
   {
    "duration": 27,
    "start_time": "2022-04-14T10:41:15.454Z"
   },
   {
    "duration": 9,
    "start_time": "2022-04-14T10:41:15.484Z"
   },
   {
    "duration": 101,
    "start_time": "2022-04-14T10:41:15.495Z"
   },
   {
    "duration": 94,
    "start_time": "2022-04-14T10:41:15.598Z"
   },
   {
    "duration": 35,
    "start_time": "2022-04-14T10:41:15.694Z"
   },
   {
    "duration": 61,
    "start_time": "2022-04-14T10:41:15.731Z"
   },
   {
    "duration": 34,
    "start_time": "2022-04-14T10:41:15.794Z"
   },
   {
    "duration": 80,
    "start_time": "2022-04-14T10:41:15.834Z"
   },
   {
    "duration": 42,
    "start_time": "2022-04-14T10:41:15.917Z"
   },
   {
    "duration": 34,
    "start_time": "2022-04-14T10:41:15.961Z"
   },
   {
    "duration": 26,
    "start_time": "2022-04-14T10:41:15.998Z"
   },
   {
    "duration": 68,
    "start_time": "2022-04-14T10:41:16.026Z"
   },
   {
    "duration": 20,
    "start_time": "2022-04-14T10:41:16.097Z"
   },
   {
    "duration": 32,
    "start_time": "2022-04-14T10:41:16.119Z"
   },
   {
    "duration": 62,
    "start_time": "2022-04-14T10:41:16.153Z"
   },
   {
    "duration": 39,
    "start_time": "2022-04-14T10:41:16.217Z"
   },
   {
    "duration": 66,
    "start_time": "2022-04-14T10:41:16.281Z"
   },
   {
    "duration": 52,
    "start_time": "2022-04-14T10:41:16.349Z"
   },
   {
    "duration": 83,
    "start_time": "2022-04-14T10:41:16.404Z"
   },
   {
    "duration": 38,
    "start_time": "2022-04-14T10:41:16.490Z"
   },
   {
    "duration": 5,
    "start_time": "2022-04-14T10:41:16.530Z"
   },
   {
    "duration": 46,
    "start_time": "2022-04-14T10:41:16.537Z"
   },
   {
    "duration": 25,
    "start_time": "2022-04-14T10:41:16.585Z"
   },
   {
    "duration": 25,
    "start_time": "2022-04-14T10:41:16.612Z"
   },
   {
    "duration": 44,
    "start_time": "2022-04-14T10:41:16.639Z"
   },
   {
    "duration": 13,
    "start_time": "2022-04-14T10:41:16.685Z"
   },
   {
    "duration": 16,
    "start_time": "2022-04-14T10:41:16.700Z"
   },
   {
    "duration": 63,
    "start_time": "2022-04-14T10:41:16.718Z"
   },
   {
    "duration": 33,
    "start_time": "2022-04-14T10:41:16.784Z"
   },
   {
    "duration": 15,
    "start_time": "2022-04-14T10:41:16.820Z"
   },
   {
    "duration": 44,
    "start_time": "2022-04-14T10:41:16.838Z"
   },
   {
    "duration": 13,
    "start_time": "2022-04-14T10:41:16.884Z"
   },
   {
    "duration": 19,
    "start_time": "2022-04-14T10:41:16.899Z"
   },
   {
    "duration": 5,
    "start_time": "2022-04-14T10:41:16.921Z"
   },
   {
    "duration": 60,
    "start_time": "2022-04-14T10:41:16.928Z"
   },
   {
    "duration": 402,
    "start_time": "2022-04-14T10:41:16.990Z"
   },
   {
    "duration": 22,
    "start_time": "2022-04-14T10:41:17.394Z"
   },
   {
    "duration": 8,
    "start_time": "2022-04-14T10:41:17.419Z"
   },
   {
    "duration": 784,
    "start_time": "2022-04-14T10:41:17.430Z"
   },
   {
    "duration": 218,
    "start_time": "2022-04-14T10:41:18.216Z"
   },
   {
    "duration": 76,
    "start_time": "2022-04-14T10:41:18.436Z"
   },
   {
    "duration": 15,
    "start_time": "2022-04-14T10:41:18.515Z"
   },
   {
    "duration": 461,
    "start_time": "2022-04-14T10:41:18.533Z"
   },
   {
    "duration": 238,
    "start_time": "2022-04-14T10:41:18.996Z"
   },
   {
    "duration": 18,
    "start_time": "2022-04-14T10:41:19.237Z"
   },
   {
    "duration": 250,
    "start_time": "2022-04-14T10:41:19.258Z"
   },
   {
    "duration": 124,
    "start_time": "2022-04-14T10:41:19.511Z"
   },
   {
    "duration": 0,
    "start_time": "2022-04-14T10:41:19.638Z"
   },
   {
    "duration": 0,
    "start_time": "2022-04-14T10:41:19.640Z"
   },
   {
    "duration": 0,
    "start_time": "2022-04-14T10:41:19.643Z"
   },
   {
    "duration": 0,
    "start_time": "2022-04-14T10:41:19.645Z"
   },
   {
    "duration": 0,
    "start_time": "2022-04-14T10:41:19.648Z"
   },
   {
    "duration": 0,
    "start_time": "2022-04-14T10:41:19.650Z"
   },
   {
    "duration": 0,
    "start_time": "2022-04-14T10:41:19.653Z"
   },
   {
    "duration": 0,
    "start_time": "2022-04-14T10:41:19.681Z"
   },
   {
    "duration": 0,
    "start_time": "2022-04-14T10:41:19.683Z"
   },
   {
    "duration": 0,
    "start_time": "2022-04-14T10:41:19.685Z"
   },
   {
    "duration": 0,
    "start_time": "2022-04-14T10:41:19.687Z"
   },
   {
    "duration": 0,
    "start_time": "2022-04-14T10:41:19.690Z"
   },
   {
    "duration": 0,
    "start_time": "2022-04-14T10:41:19.691Z"
   },
   {
    "duration": 0,
    "start_time": "2022-04-14T10:41:19.693Z"
   },
   {
    "duration": 0,
    "start_time": "2022-04-14T10:41:19.694Z"
   },
   {
    "duration": 0,
    "start_time": "2022-04-14T10:41:19.696Z"
   },
   {
    "duration": 0,
    "start_time": "2022-04-14T10:41:19.697Z"
   },
   {
    "duration": 0,
    "start_time": "2022-04-14T10:41:19.699Z"
   },
   {
    "duration": 91,
    "start_time": "2022-04-14T10:41:53.817Z"
   },
   {
    "duration": 203,
    "start_time": "2022-04-14T10:42:06.756Z"
   },
   {
    "duration": 116,
    "start_time": "2022-04-14T10:45:10.548Z"
   },
   {
    "duration": 1619,
    "start_time": "2022-04-14T11:00:55.113Z"
   },
   {
    "duration": 15,
    "start_time": "2022-04-14T11:01:02.126Z"
   },
   {
    "duration": 198,
    "start_time": "2022-04-14T11:01:20.538Z"
   },
   {
    "duration": 196,
    "start_time": "2022-04-14T11:01:43.309Z"
   },
   {
    "duration": 195,
    "start_time": "2022-04-14T11:01:55.772Z"
   },
   {
    "duration": 219,
    "start_time": "2022-04-14T11:02:08.849Z"
   }
  ],
  "kernelspec": {
   "display_name": "Python 3 (ipykernel)",
   "language": "python",
   "name": "python3"
  },
  "language_info": {
   "codemirror_mode": {
    "name": "ipython",
    "version": 3
   },
   "file_extension": ".py",
   "mimetype": "text/x-python",
   "name": "python",
   "nbconvert_exporter": "python",
   "pygments_lexer": "ipython3",
   "version": "3.9.7"
  },
  "toc": {
   "base_numbering": 1,
   "nav_menu": {},
   "number_sections": true,
   "sideBar": true,
   "skip_h1_title": true,
   "title_cell": "Table of Contents",
   "title_sidebar": "Contents",
   "toc_cell": false,
   "toc_position": {},
   "toc_section_display": true,
   "toc_window_display": false
  }
 },
 "nbformat": 4,
 "nbformat_minor": 2
}
