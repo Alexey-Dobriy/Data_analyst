{
 "cells": [
  {
   "cell_type": "markdown",
   "id": "f6c35e68",
   "metadata": {},
   "source": [
    "# Этап 1. Получение данных"
   ]
  },
  {
   "cell_type": "markdown",
   "id": "492b6fa7",
   "metadata": {},
   "source": [
    "Изучим данные, предоставленные сервисом для проекта."
   ]
  },
  {
   "cell_type": "markdown",
   "id": "5efb3df2",
   "metadata": {},
   "source": [
    "## Импорт библиотек"
   ]
  },
  {
   "cell_type": "code",
   "execution_count": 1,
   "id": "7763f26d",
   "metadata": {},
   "outputs": [],
   "source": [
    "import pandas as pd"
   ]
  },
  {
   "cell_type": "markdown",
   "id": "f19cbb1d",
   "metadata": {},
   "source": [
    "Прочитаем файл yandex_music_project.csv и сохраним его в переменной df."
   ]
  },
  {
   "cell_type": "code",
   "execution_count": 2,
   "id": "b4eb4fd0",
   "metadata": {},
   "outputs": [],
   "source": [
    "df = pd.read_csv('/datasets/music_project.csv')"
   ]
  },
  {
   "cell_type": "markdown",
   "id": "f95cd8c7",
   "metadata": {},
   "source": [
    "Получение первых 10 строк таблицы."
   ]
  },
  {
   "cell_type": "code",
   "execution_count": 3,
   "id": "bde5197c",
   "metadata": {},
   "outputs": [
    {
     "data": {
      "text/html": [
       "<div>\n",
       "<style scoped>\n",
       "    .dataframe tbody tr th:only-of-type {\n",
       "        vertical-align: middle;\n",
       "    }\n",
       "\n",
       "    .dataframe tbody tr th {\n",
       "        vertical-align: top;\n",
       "    }\n",
       "\n",
       "    .dataframe thead th {\n",
       "        text-align: right;\n",
       "    }\n",
       "</style>\n",
       "<table border=\"1\" class=\"dataframe\">\n",
       "  <thead>\n",
       "    <tr style=\"text-align: right;\">\n",
       "      <th></th>\n",
       "      <th>userID</th>\n",
       "      <th>Track</th>\n",
       "      <th>artist</th>\n",
       "      <th>genre</th>\n",
       "      <th>City</th>\n",
       "      <th>time</th>\n",
       "      <th>Day</th>\n",
       "    </tr>\n",
       "  </thead>\n",
       "  <tbody>\n",
       "    <tr>\n",
       "      <th>0</th>\n",
       "      <td>FFB692EC</td>\n",
       "      <td>Kamigata To Boots</td>\n",
       "      <td>The Mass Missile</td>\n",
       "      <td>rock</td>\n",
       "      <td>Saint-Petersburg</td>\n",
       "      <td>20:28:33</td>\n",
       "      <td>Wednesday</td>\n",
       "    </tr>\n",
       "    <tr>\n",
       "      <th>1</th>\n",
       "      <td>55204538</td>\n",
       "      <td>Delayed Because of Accident</td>\n",
       "      <td>Andreas Rönnberg</td>\n",
       "      <td>rock</td>\n",
       "      <td>Moscow</td>\n",
       "      <td>14:07:09</td>\n",
       "      <td>Friday</td>\n",
       "    </tr>\n",
       "    <tr>\n",
       "      <th>2</th>\n",
       "      <td>20EC38</td>\n",
       "      <td>Funiculì funiculà</td>\n",
       "      <td>Mario Lanza</td>\n",
       "      <td>pop</td>\n",
       "      <td>Saint-Petersburg</td>\n",
       "      <td>20:58:07</td>\n",
       "      <td>Wednesday</td>\n",
       "    </tr>\n",
       "    <tr>\n",
       "      <th>3</th>\n",
       "      <td>A3DD03C9</td>\n",
       "      <td>Dragons in the Sunset</td>\n",
       "      <td>Fire + Ice</td>\n",
       "      <td>folk</td>\n",
       "      <td>Saint-Petersburg</td>\n",
       "      <td>08:37:09</td>\n",
       "      <td>Monday</td>\n",
       "    </tr>\n",
       "    <tr>\n",
       "      <th>4</th>\n",
       "      <td>E2DC1FAE</td>\n",
       "      <td>Soul People</td>\n",
       "      <td>Space Echo</td>\n",
       "      <td>dance</td>\n",
       "      <td>Moscow</td>\n",
       "      <td>08:34:34</td>\n",
       "      <td>Monday</td>\n",
       "    </tr>\n",
       "    <tr>\n",
       "      <th>5</th>\n",
       "      <td>842029A1</td>\n",
       "      <td>Преданная</td>\n",
       "      <td>IMPERVTOR</td>\n",
       "      <td>rusrap</td>\n",
       "      <td>Saint-Petersburg</td>\n",
       "      <td>13:09:41</td>\n",
       "      <td>Friday</td>\n",
       "    </tr>\n",
       "    <tr>\n",
       "      <th>6</th>\n",
       "      <td>4CB90AA5</td>\n",
       "      <td>True</td>\n",
       "      <td>Roman Messer</td>\n",
       "      <td>dance</td>\n",
       "      <td>Moscow</td>\n",
       "      <td>13:00:07</td>\n",
       "      <td>Wednesday</td>\n",
       "    </tr>\n",
       "    <tr>\n",
       "      <th>7</th>\n",
       "      <td>F03E1C1F</td>\n",
       "      <td>Feeling This Way</td>\n",
       "      <td>Polina Griffith</td>\n",
       "      <td>dance</td>\n",
       "      <td>Moscow</td>\n",
       "      <td>20:47:49</td>\n",
       "      <td>Wednesday</td>\n",
       "    </tr>\n",
       "    <tr>\n",
       "      <th>8</th>\n",
       "      <td>8FA1D3BE</td>\n",
       "      <td>И вновь продолжается бой</td>\n",
       "      <td>NaN</td>\n",
       "      <td>ruspop</td>\n",
       "      <td>Moscow</td>\n",
       "      <td>09:17:40</td>\n",
       "      <td>Friday</td>\n",
       "    </tr>\n",
       "    <tr>\n",
       "      <th>9</th>\n",
       "      <td>E772D5C0</td>\n",
       "      <td>Pessimist</td>\n",
       "      <td>NaN</td>\n",
       "      <td>dance</td>\n",
       "      <td>Saint-Petersburg</td>\n",
       "      <td>21:20:49</td>\n",
       "      <td>Wednesday</td>\n",
       "    </tr>\n",
       "  </tbody>\n",
       "</table>\n",
       "</div>"
      ],
      "text/plain": [
       "     userID                        Track            artist   genre  \\\n",
       "0  FFB692EC            Kamigata To Boots  The Mass Missile    rock   \n",
       "1  55204538  Delayed Because of Accident  Andreas Rönnberg    rock   \n",
       "2    20EC38            Funiculì funiculà       Mario Lanza     pop   \n",
       "3  A3DD03C9        Dragons in the Sunset        Fire + Ice    folk   \n",
       "4  E2DC1FAE                  Soul People        Space Echo   dance   \n",
       "5  842029A1                    Преданная         IMPERVTOR  rusrap   \n",
       "6  4CB90AA5                         True      Roman Messer   dance   \n",
       "7  F03E1C1F             Feeling This Way   Polina Griffith   dance   \n",
       "8  8FA1D3BE     И вновь продолжается бой               NaN  ruspop   \n",
       "9  E772D5C0                    Pessimist               NaN   dance   \n",
       "\n",
       "             City        time        Day  \n",
       "0  Saint-Petersburg  20:28:33  Wednesday  \n",
       "1            Moscow  14:07:09     Friday  \n",
       "2  Saint-Petersburg  20:58:07  Wednesday  \n",
       "3  Saint-Petersburg  08:37:09     Monday  \n",
       "4            Moscow  08:34:34     Monday  \n",
       "5  Saint-Petersburg  13:09:41     Friday  \n",
       "6            Moscow  13:00:07  Wednesday  \n",
       "7            Moscow  20:47:49  Wednesday  \n",
       "8            Moscow  09:17:40     Friday  \n",
       "9  Saint-Petersburg  21:20:49  Wednesday  "
      ]
     },
     "execution_count": 3,
     "metadata": {},
     "output_type": "execute_result"
    }
   ],
   "source": [
    "df.head(10)"
   ]
  },
  {
   "cell_type": "markdown",
   "id": "6b5438b5",
   "metadata": {},
   "source": [
    "Общая информация о данных таблицы df."
   ]
  },
  {
   "cell_type": "code",
   "execution_count": 4,
   "id": "e8d7c1f6",
   "metadata": {},
   "outputs": [
    {
     "name": "stdout",
     "output_type": "stream",
     "text": [
      "<class 'pandas.core.frame.DataFrame'>\n",
      "RangeIndex: 65079 entries, 0 to 65078\n",
      "Data columns (total 7 columns):\n",
      " #   Column    Non-Null Count  Dtype \n",
      "---  ------    --------------  ----- \n",
      " 0     userID  65079 non-null  object\n",
      " 1   Track     63848 non-null  object\n",
      " 2   artist    57876 non-null  object\n",
      " 3   genre     63881 non-null  object\n",
      " 4     City    65079 non-null  object\n",
      " 5   time      65079 non-null  object\n",
      " 6   Day       65079 non-null  object\n",
      "dtypes: object(7)\n",
      "memory usage: 3.5+ MB\n"
     ]
    }
   ],
   "source": [
    "df.info()"
   ]
  },
  {
   "cell_type": "markdown",
   "id": "09fb1b74",
   "metadata": {},
   "source": [
    "Всего в таблице 7 столбцов, тип данных у каждого столбца - object или строковый."
   ]
  },
  {
   "cell_type": "markdown",
   "id": "9ea8c1ea",
   "metadata": {},
   "source": [
    "Подробно разберём, какие в df столбцы и какую информацию они содержат:\n",
    "\n",
    "* userID — идентификатор пользователя;\n",
    "* Track — название трека;\n",
    "* artist — имя исполнителя;\n",
    "* genre — название жанра;\n",
    "* City — город, в котором происходило прослушивание;\n",
    "* time — время, в которое пользователь слушал трек;\n",
    "* Day — день недели."
   ]
  },
  {
   "cell_type": "markdown",
   "id": "2dae4eba",
   "metadata": {},
   "source": [
    "Количество значений в столбцах различается. Это говорит о том, что в данных есть пропуски."
   ]
  },
  {
   "cell_type": "markdown",
   "id": "4503768b",
   "metadata": {},
   "source": [
    "**Выводы**\n",
    "\n",
    "Каждая строка таблицы содержит информацию о композициях определённого жанра в определённом исполнении, которые пользователи слушали в одном из городов в определённое время и день недели. Две проблемы, которые нужно решать: пропуски и некачественные названия столбцов. Для проверки рабочих гипотез особенно ценны столбцы time, day и City. Данные из столбца genre позволят узнать самые популярные жанры."
   ]
  },
  {
   "cell_type": "markdown",
   "id": "8fe4914d",
   "metadata": {},
   "source": [
    "# Этап 2. Предобработка данных"
   ]
  },
  {
   "cell_type": "code",
   "execution_count": 5,
   "id": "eb37445a",
   "metadata": {},
   "outputs": [
    {
     "data": {
      "text/plain": [
       "Index(['  userID', 'Track', 'artist', 'genre', '  City  ', 'time', 'Day'], dtype='object')"
      ]
     },
     "execution_count": 5,
     "metadata": {},
     "output_type": "execute_result"
    }
   ],
   "source": [
    "df.columns"
   ]
  },
  {
   "cell_type": "markdown",
   "id": "1a23110e",
   "metadata": {},
   "source": [
    "В названиях столбцов есть пробелы, которые могут затруднять доступ к данным."
   ]
  },
  {
   "cell_type": "markdown",
   "id": "28cd90fa",
   "metadata": {},
   "source": [
    "Переименуем столбцы для удобства дальнейшей работы. Проверим результат."
   ]
  },
  {
   "cell_type": "code",
   "execution_count": 6,
   "id": "d6f4288f",
   "metadata": {},
   "outputs": [],
   "source": [
    "df.set_axis(['user_id','track_name','artist_name', 'genre_name', 'city', 'time', 'weekday'], axis = 'columns', inplace = True)"
   ]
  },
  {
   "cell_type": "code",
   "execution_count": 7,
   "id": "f3d5d08a",
   "metadata": {},
   "outputs": [
    {
     "data": {
      "text/plain": [
       "Index(['user_id', 'track_name', 'artist_name', 'genre_name', 'city', 'time',\n",
       "       'weekday'],\n",
       "      dtype='object')"
      ]
     },
     "execution_count": 7,
     "metadata": {},
     "output_type": "execute_result"
    }
   ],
   "source": [
    "df.columns"
   ]
  },
  {
   "cell_type": "markdown",
   "id": "287f5ad4",
   "metadata": {},
   "source": [
    "Проверим данные на наличие пропусков вызовом набора методов для суммирования пропущенных значений."
   ]
  },
  {
   "cell_type": "code",
   "execution_count": 8,
   "id": "286fa40f",
   "metadata": {},
   "outputs": [
    {
     "data": {
      "text/plain": [
       "user_id           0\n",
       "track_name     1231\n",
       "artist_name    7203\n",
       "genre_name     1198\n",
       "city              0\n",
       "time              0\n",
       "weekday           0\n",
       "dtype: int64"
      ]
     },
     "execution_count": 8,
     "metadata": {},
     "output_type": "execute_result"
    }
   ],
   "source": [
    "df.isnull().sum()"
   ]
  },
  {
   "cell_type": "markdown",
   "id": "ec2d3da0",
   "metadata": {},
   "source": [
    "Пустые значения свидетельствуют, что для некоторых треков доступна не вся информация. Причины могут быть разные: скажем, не назван конкретный исполнитель народной песни. Хуже, если проблемы с записью данных. Каждый отдельный случай необходимо разобрать и выявить причину."
   ]
  },
  {
   "cell_type": "markdown",
   "id": "daa7508f",
   "metadata": {},
   "source": [
    "Заменяем пропущенные значения в столбцах с названием трека и исполнителя на строку 'unknown'. После этой операции нужно убедиться, что таблица больше не содержит пропусков."
   ]
  },
  {
   "cell_type": "code",
   "execution_count": 9,
   "id": "d377217f",
   "metadata": {},
   "outputs": [],
   "source": [
    "df['track_name'] =  df['track_name'].fillna('unknown')"
   ]
  },
  {
   "cell_type": "code",
   "execution_count": 10,
   "id": "1c445899",
   "metadata": {},
   "outputs": [],
   "source": [
    "df['artist_name'] = df['artist_name'].fillna('unknown')"
   ]
  },
  {
   "cell_type": "code",
   "execution_count": 11,
   "id": "b924e9ea",
   "metadata": {},
   "outputs": [
    {
     "data": {
      "text/plain": [
       "user_id           0\n",
       "track_name        0\n",
       "artist_name       0\n",
       "genre_name     1198\n",
       "city              0\n",
       "time              0\n",
       "weekday           0\n",
       "dtype: int64"
      ]
     },
     "execution_count": 11,
     "metadata": {},
     "output_type": "execute_result"
    }
   ],
   "source": [
    "df.isnull().sum()"
   ]
  },
  {
   "cell_type": "markdown",
   "id": "7408d665",
   "metadata": {},
   "source": [
    "Удаляем в столбце с жанрами пустые значения; убеждаемся, что их больше не осталось."
   ]
  },
  {
   "cell_type": "code",
   "execution_count": 12,
   "id": "46618e38",
   "metadata": {},
   "outputs": [],
   "source": [
    "df.dropna(subset=['genre_name'], inplace = True) "
   ]
  },
  {
   "cell_type": "code",
   "execution_count": 13,
   "id": "03b28990",
   "metadata": {},
   "outputs": [
    {
     "data": {
      "text/plain": [
       "user_id        0\n",
       "track_name     0\n",
       "artist_name    0\n",
       "genre_name     0\n",
       "city           0\n",
       "time           0\n",
       "weekday        0\n",
       "dtype: int64"
      ]
     },
     "execution_count": 13,
     "metadata": {},
     "output_type": "execute_result"
    }
   ],
   "source": [
    "df.isnull().sum()"
   ]
  },
  {
   "cell_type": "markdown",
   "id": "5139dbd8",
   "metadata": {},
   "source": [
    "Необходимо установить наличие дубликатов. Если найдутся, удаляем, и проверяем, все ли удалились."
   ]
  },
  {
   "cell_type": "code",
   "execution_count": 14,
   "id": "1f6f2ea9",
   "metadata": {},
   "outputs": [
    {
     "data": {
      "text/plain": [
       "3755"
      ]
     },
     "execution_count": 14,
     "metadata": {},
     "output_type": "execute_result"
    }
   ],
   "source": [
    "df.duplicated().sum() "
   ]
  },
  {
   "cell_type": "code",
   "execution_count": 15,
   "id": "b5ea7373",
   "metadata": {},
   "outputs": [],
   "source": [
    "df = df.drop_duplicates().reset_index(drop=True)"
   ]
  },
  {
   "cell_type": "code",
   "execution_count": 16,
   "id": "9bbf5398",
   "metadata": {},
   "outputs": [
    {
     "data": {
      "text/plain": [
       "0"
      ]
     },
     "execution_count": 16,
     "metadata": {},
     "output_type": "execute_result"
    }
   ],
   "source": [
    "df.duplicated().sum()"
   ]
  },
  {
   "cell_type": "markdown",
   "id": "d822d7d0",
   "metadata": {},
   "source": [
    "Дубликаты могли появиться вследствие сбоя в записи данных. Стоит обратить внимание и разобраться с причинами появления такого «информационного мусора»."
   ]
  },
  {
   "cell_type": "markdown",
   "id": "75469861",
   "metadata": {},
   "source": [
    "Сохраняем список уникальных значений столбца с жанрами в переменной genres_list."
   ]
  },
  {
   "cell_type": "markdown",
   "id": "2e5ff020",
   "metadata": {},
   "source": [
    "Объявим функцию find_genre() для поиска неявных дубликатов в столбце с жанрами. Например, когда название одного и того же жанра написано разными словами."
   ]
  },
  {
   "cell_type": "code",
   "execution_count": 17,
   "id": "068012fd",
   "metadata": {},
   "outputs": [],
   "source": [
    "genres_list = df['genre_name'].unique()"
   ]
  },
  {
   "cell_type": "code",
   "execution_count": 18,
   "id": "499ecf29",
   "metadata": {},
   "outputs": [],
   "source": [
    "# <создание функции find_genre()>\n",
    "# функция принимает как параметр строку с названием искомого жанра\n",
    "# в теле объявляется переменная-счётчик, ей присваивается значение 0,\n",
    "# затем цикл for проходит по списку уникальных значений\n",
    "# если очередной элемент списка равен параметру функции, \n",
    "# то значение счётчика увеличивается на 1\n",
    "# по окончании работы цикла функция возвращает значение счётчика\n",
    "def find_genre(genre_name):\n",
    "    count = 0\n",
    "    for genre in genres_list:\n",
    "        if genre == genre_name:\n",
    "            count =+ 1\n",
    "    return count"
   ]
  },
  {
   "cell_type": "markdown",
   "id": "8535c6ac",
   "metadata": {},
   "source": [
    "Вызов функции find_genre() для поиска различных вариантов названия жанра хип-хоп в таблице."
   ]
  },
  {
   "cell_type": "markdown",
   "id": "0b749a70",
   "metadata": {},
   "source": [
    "Правильное название — hiphop. Поищем другие варианты:\n",
    "\n",
    "* hip\n",
    "* hop\n",
    "* hip-hop"
   ]
  },
  {
   "cell_type": "code",
   "execution_count": 19,
   "id": "46ec28d0",
   "metadata": {},
   "outputs": [
    {
     "data": {
      "text/plain": [
       "1"
      ]
     },
     "execution_count": 19,
     "metadata": {},
     "output_type": "execute_result"
    }
   ],
   "source": [
    "# <вызовом функции find_genre() проверяется наличие варианта 'hip'>\n",
    "find_genre('hip')"
   ]
  },
  {
   "cell_type": "code",
   "execution_count": 20,
   "id": "ac2fcfc2",
   "metadata": {},
   "outputs": [
    {
     "data": {
      "text/plain": [
       "0"
      ]
     },
     "execution_count": 20,
     "metadata": {},
     "output_type": "execute_result"
    }
   ],
   "source": [
    "# <проверяется наличие варианта 'hop'>\n",
    "find_genre('hop')"
   ]
  },
  {
   "cell_type": "code",
   "execution_count": 21,
   "id": "5e6f7217",
   "metadata": {},
   "outputs": [
    {
     "data": {
      "text/plain": [
       "0"
      ]
     },
     "execution_count": 21,
     "metadata": {},
     "output_type": "execute_result"
    }
   ],
   "source": [
    "# <проверяется наличие варианта 'hip-hop'>\n",
    "find_genre('hip-hop')"
   ]
  },
  {
   "cell_type": "markdown",
   "id": "af026d93",
   "metadata": {},
   "source": [
    "Объявим функцию find_hip_hop(), которая заменяет неправильное название этого жанра в столбце 'genre_name' на 'hiphop' и проверяет успешность выполнения замены."
   ]
  },
  {
   "cell_type": "markdown",
   "id": "1c4505c6",
   "metadata": {},
   "source": [
    "Так исправляем все варианты написания, которые выявила проверка."
   ]
  },
  {
   "cell_type": "code",
   "execution_count": 22,
   "id": "34a33e9c",
   "metadata": {},
   "outputs": [],
   "source": [
    "# <создание функции find_hip_hop()>\n",
    "# функция принимает как параметры таблицу df и неверное название\n",
    "# к столбцу 'genre_name' применяется специальный метод, \n",
    "# который заменяет второй параметр на строку 'hiphop'\n",
    "# результат работы равен подсчитанному методом count() числу значений столбца, \n",
    "# которые равны второму параметру\n",
    "# функция возвращает результат\n",
    "def find_hip_hop(df, wrong):\n",
    "    df['genre_name'] = df['genre_name'].replace(wrong, 'hiphop')\n",
    "    result = df[df['genre_name']==wrong]['genre_name'].count()\n",
    "    return result\n",
    "        "
   ]
  },
  {
   "cell_type": "code",
   "execution_count": 23,
   "id": "ece95913",
   "metadata": {},
   "outputs": [
    {
     "data": {
      "text/plain": [
       "0"
      ]
     },
     "execution_count": 23,
     "metadata": {},
     "output_type": "execute_result"
    }
   ],
   "source": [
    "# <замена одного неверного варианта на hiphop вызовом функции find_hip_hop()>\n",
    "find_hip_hop(df, 'hip')"
   ]
  },
  {
   "cell_type": "markdown",
   "id": "a7fc07fd",
   "metadata": {},
   "source": [
    "Получаем общую информацию о данных. Убеждаемся, что чистка выполнена успешно."
   ]
  },
  {
   "cell_type": "code",
   "execution_count": 24,
   "id": "b562a00b",
   "metadata": {},
   "outputs": [
    {
     "name": "stdout",
     "output_type": "stream",
     "text": [
      "<class 'pandas.core.frame.DataFrame'>\n",
      "RangeIndex: 60126 entries, 0 to 60125\n",
      "Data columns (total 7 columns):\n",
      " #   Column       Non-Null Count  Dtype \n",
      "---  ------       --------------  ----- \n",
      " 0   user_id      60126 non-null  object\n",
      " 1   track_name   60126 non-null  object\n",
      " 2   artist_name  60126 non-null  object\n",
      " 3   genre_name   60126 non-null  object\n",
      " 4   city         60126 non-null  object\n",
      " 5   time         60126 non-null  object\n",
      " 6   weekday      60126 non-null  object\n",
      "dtypes: object(7)\n",
      "memory usage: 3.2+ MB\n"
     ]
    }
   ],
   "source": [
    "# <получение общей информации о данных таблицы df>\n",
    "df.info()"
   ]
  },
  {
   "cell_type": "markdown",
   "id": "fa9b6a1d",
   "metadata": {},
   "source": [
    "**Вывод**\n",
    "\n",
    "На этапе предобработки в данных обнаружились не только пропуски и проблемы с названиями столбцов, но и всяческие виды дубликатов. Их удаление позволит провести анализ точнее. Поскольку сведения о жанрах важно сохранить для анализа, не просто удаляем все пропущенные значения, но заполним пропущенные имена исполнителей и названия треков. Имена столбцов теперь корректны и удобны для дальнейшей работы."
   ]
  },
  {
   "cell_type": "markdown",
   "id": "9056f7e9",
   "metadata": {},
   "source": [
    "## Действительно ли музыку в разных городах слушают по-разному?"
   ]
  },
  {
   "cell_type": "markdown",
   "id": "58f353b4",
   "metadata": {},
   "source": [
    "Была выдвинута гипотеза, что в Москве и Санкт-Петербурге пользователи слушают музыку по-разному. Проверяем это предположение по данным о трёх днях недели — понедельнике, среде и пятнице."
   ]
  },
  {
   "cell_type": "markdown",
   "id": "bf04f906",
   "metadata": {},
   "source": [
    "Для каждого города устанавливаем количество прослушанных в эти дни композиций с известным жанром, и сравниваем результаты."
   ]
  },
  {
   "cell_type": "markdown",
   "id": "94448e89",
   "metadata": {},
   "source": [
    "Группируем данные по городу и вызовом метода count() подсчитываем композиции, для которых известен жанр."
   ]
  },
  {
   "cell_type": "code",
   "execution_count": 25,
   "id": "231b9dba",
   "metadata": {},
   "outputs": [
    {
     "data": {
      "text/plain": [
       "city\n",
       "Moscow              41892\n",
       "Saint-Petersburg    18234\n",
       "Name: genre_name, dtype: int64"
      ]
     },
     "execution_count": 25,
     "metadata": {},
     "output_type": "execute_result"
    }
   ],
   "source": [
    "# <группировка данных таблицы df по столбцу 'city' и подсчёт количества значений столбца 'genre_name'>\n",
    "df.groupby('city')['genre_name'].count()"
   ]
  },
  {
   "cell_type": "markdown",
   "id": "6c2f5552",
   "metadata": {},
   "source": [
    "В Москве прослушиваний больше, чем в Питере, но это не значит, что Москва более активна. У Яндекс.Музыки в целом больше пользователей в Москве, поэтому величины сопоставимы."
   ]
  },
  {
   "cell_type": "markdown",
   "id": "87a4ed3d",
   "metadata": {},
   "source": [
    "Сгруппируем данные по дню недели и подсчитаем прослушанные в понедельник, среду и пятницу композиции, для которых известен жанр."
   ]
  },
  {
   "cell_type": "code",
   "execution_count": 26,
   "id": "d181cb9f",
   "metadata": {},
   "outputs": [
    {
     "data": {
      "text/plain": [
       "weekday\n",
       "Friday       21482\n",
       "Monday       20866\n",
       "Wednesday    17778\n",
       "Name: genre_name, dtype: int64"
      ]
     },
     "execution_count": 26,
     "metadata": {},
     "output_type": "execute_result"
    }
   ],
   "source": [
    "# <группировка данных по столбцу 'weekday' и подсчёт количества значений столбца 'genre_name'>\n",
    "df.groupby('weekday')['genre_name'].count()"
   ]
  },
  {
   "cell_type": "markdown",
   "id": "3473d30b",
   "metadata": {},
   "source": [
    "Понедельник и пятница — время для музыки; по средам пользователи немного больше вовлечены в работу."
   ]
  },
  {
   "cell_type": "markdown",
   "id": "e261cfa1",
   "metadata": {},
   "source": [
    "Создаём функцию number_tracks(), которая принимает как параметры таблицу, день недели и название города, а возвращает количество прослушанных композиций, для которых известен жанр. Проверяем количество прослушанных композиций для каждого города и понедельника, затем среды и пятницы."
   ]
  },
  {
   "cell_type": "code",
   "execution_count": 27,
   "id": "4c560e48",
   "metadata": {},
   "outputs": [],
   "source": [
    "# <создание функции number_tracks()>\n",
    "# объявляется функция с тремя параметрами: df, day, city\n",
    "# в переменной track_list сохраняются те строки таблицы df, для которых \n",
    "# значение в столбце 'weekday' равно параметру day\n",
    "# и одновременно значение в столбце 'city' равно параметру city\n",
    "# в переменной track_list_count сохраняется число значений столбца 'genre_name',\n",
    "# рассчитанное методом count() для таблицы track_list\n",
    "# функция возвращает значение track_list_count\n",
    "def number_tracks(df, day, city):\n",
    "    track_list = df.loc[(df.loc[:,'weekday']==day) & (df.loc[:,'city']==city)]\n",
    "    track_list_count = track_list.loc[track_list.loc[:,'genre_name']!='unknown']['genre_name'].count()\n",
    "    return track_list_count"
   ]
  },
  {
   "cell_type": "code",
   "execution_count": 28,
   "id": "a1b74ac9",
   "metadata": {},
   "outputs": [
    {
     "data": {
      "text/plain": [
       "15347"
      ]
     },
     "execution_count": 28,
     "metadata": {},
     "output_type": "execute_result"
    }
   ],
   "source": [
    "# <список композиций для Москвы в понедельник>\n",
    "number_tracks(df, 'Monday', 'Moscow')"
   ]
  },
  {
   "cell_type": "code",
   "execution_count": 29,
   "id": "15283135",
   "metadata": {},
   "outputs": [
    {
     "data": {
      "text/plain": [
       "5519"
      ]
     },
     "execution_count": 29,
     "metadata": {},
     "output_type": "execute_result"
    }
   ],
   "source": [
    "# <список композиций для Санкт-Петербурга в понедельник>\n",
    "number_tracks(df, 'Monday','Saint-Petersburg')"
   ]
  },
  {
   "cell_type": "code",
   "execution_count": 30,
   "id": "257a0e32",
   "metadata": {},
   "outputs": [
    {
     "data": {
      "text/plain": [
       "10865"
      ]
     },
     "execution_count": 30,
     "metadata": {},
     "output_type": "execute_result"
    }
   ],
   "source": [
    "# <список композиций для Москвы в среду>\n",
    "number_tracks(df, 'Wednesday', 'Moscow')"
   ]
  },
  {
   "cell_type": "code",
   "execution_count": 31,
   "id": "854e3c40",
   "metadata": {},
   "outputs": [
    {
     "data": {
      "text/plain": [
       "6913"
      ]
     },
     "execution_count": 31,
     "metadata": {},
     "output_type": "execute_result"
    }
   ],
   "source": [
    "# <список композиций для Санкт-Петербурга в среду>\n",
    "number_tracks(df, 'Wednesday','Saint-Petersburg')"
   ]
  },
  {
   "cell_type": "code",
   "execution_count": 32,
   "id": "db6a9751",
   "metadata": {},
   "outputs": [
    {
     "data": {
      "text/plain": [
       "15680"
      ]
     },
     "execution_count": 32,
     "metadata": {},
     "output_type": "execute_result"
    }
   ],
   "source": [
    "# <список композиций для Москвы в пятницу>\n",
    "number_tracks(df, 'Friday', 'Moscow')"
   ]
  },
  {
   "cell_type": "code",
   "execution_count": 33,
   "id": "2593ed9b",
   "metadata": {},
   "outputs": [
    {
     "data": {
      "text/plain": [
       "5802"
      ]
     },
     "execution_count": 33,
     "metadata": {},
     "output_type": "execute_result"
    }
   ],
   "source": [
    "# <список композиций для Санкт-Петербурга в пятницу>\n",
    "number_tracks(df, 'Friday','Saint-Petersburg')"
   ]
  },
  {
   "cell_type": "markdown",
   "id": "72a7ec3c",
   "metadata": {},
   "source": [
    "Сведём полученную информацию в одну таблицу, где ['city', 'monday', 'wednesday', 'friday'] названия столбцов."
   ]
  },
  {
   "cell_type": "code",
   "execution_count": 34,
   "id": "042a2aa2",
   "metadata": {},
   "outputs": [],
   "source": [
    "# <таблица с полученными данными>\n",
    "columns=['city','monday','wednesday','friday']\n",
    "data=[['Moscow', 15347, 10865, 15680],\n",
    "     ['Saint-Petersburg', 5519, 6913, 5802]]\n",
    "table = pd.DataFrame(data=data, columns=columns)"
   ]
  },
  {
   "cell_type": "markdown",
   "id": "e7ca4040",
   "metadata": {},
   "source": [
    "**Вывод**\n",
    "\n",
    "Результаты показывают, что относительно среды музыку в Петербурге и Москве слушают «зеркально»: в Москве пики приходятся на понедельник и пятницу, а в среду время прослушивания снижается. Тогда как в Санкт-Петербурге среда — день самого большого интереса к музыке, а в понедельник и пятницу он меньше, причём почти одинаково меньше."
   ]
  },
  {
   "cell_type": "markdown",
   "id": "8605e4ab",
   "metadata": {},
   "source": [
    "## Утро понедельника и вечер пятницы — разная музыка или одна и та же?"
   ]
  },
  {
   "cell_type": "markdown",
   "id": "6891a51d",
   "metadata": {},
   "source": [
    "Ищем ответ на вопрос, какие жанры преобладают в разных городах в понедельник утром и в пятницу вечером. Есть предположение, что в понедельник утром пользователи слушают больше бодрящей музыки (например, жанра поп), а вечером пятницы — больше танцевальных (например, электронику)."
   ]
  },
  {
   "cell_type": "markdown",
   "id": "d13d8dab",
   "metadata": {},
   "source": [
    "Получим таблицы данных по Москве moscow_general и по Санкт-Петербургу spb_general."
   ]
  },
  {
   "cell_type": "code",
   "execution_count": 35,
   "id": "15d87306",
   "metadata": {},
   "outputs": [],
   "source": [
    "# получение таблицы moscow_general из тех строк таблицы df, \n",
    "# для которых значение в столбце 'city' равно 'Moscow'\n",
    "moscow_general = df.loc[df.loc[:, 'city']=='Moscow']"
   ]
  },
  {
   "cell_type": "code",
   "execution_count": 36,
   "id": "235b53db",
   "metadata": {},
   "outputs": [],
   "source": [
    "# <получение таблицы spb_general>\n",
    "spb_general = df.loc[df.loc[:, 'city']=='Saint-Petersburg']"
   ]
  },
  {
   "cell_type": "markdown",
   "id": "34ff18a5",
   "metadata": {},
   "source": [
    "Создаём функцию genre_weekday(), которая возвращает список жанров по запрошенному дню недели и времени суток с такого-то часа по такой-то."
   ]
  },
  {
   "cell_type": "code",
   "execution_count": 37,
   "id": "2ed0ff4c",
   "metadata": {},
   "outputs": [],
   "source": [
    "# объявление функции genre_weekday() с параметрами df, day, time1, time2\n",
    "# в переменной genre_list сохраняются те строки df, для которых одновременно:\n",
    "# 1) значение в столбце 'weekday' равно параметру day,\n",
    "# 2) значение в столбце 'time' больше time1 и\n",
    "# 3) меньше time2.\n",
    "# в переменной genre_list_sorted сохраняются в порядке убывания  \n",
    "# первые 10 значений Series, полученной подсчётом числа значений 'genre_name'\n",
    "# сгруппированной по столбцу 'genre_name' таблицы genre_list\n",
    "# функция возвращает значение genre_list_sorted\n",
    "def genre_weekday(df, day, time1, time2):\n",
    "    genre_list = df.loc[(df.loc[:, 'weekday']==day) & (df.loc[:, 'time'] >time1) & (df.loc[:, 'time']<time2)]\n",
    "    genre_list_sorted = genre_list.groupby('genre_name')['genre_name'].count().sort_values(ascending=False).head(10)\n",
    "    return genre_list_sorted"
   ]
  },
  {
   "cell_type": "markdown",
   "id": "e3df445d",
   "metadata": {},
   "source": [
    "Cравниваем полученные результаты по таблице для Москвы и Санкт-Петербурга в понедельник утром (с 7 до 11) и в пятницу вечером (с 17 до 23)."
   ]
  },
  {
   "cell_type": "code",
   "execution_count": 38,
   "id": "7743d0d9",
   "metadata": {},
   "outputs": [
    {
     "data": {
      "text/plain": [
       "genre_name\n",
       "pop            781\n",
       "dance          549\n",
       "electronic     480\n",
       "rock           474\n",
       "hiphop         286\n",
       "ruspop         186\n",
       "world          181\n",
       "rusrap         175\n",
       "alternative    164\n",
       "classical      157\n",
       "Name: genre_name, dtype: int64"
      ]
     },
     "execution_count": 38,
     "metadata": {},
     "output_type": "execute_result"
    }
   ],
   "source": [
    "# <вызов функции для утра понедельника в Москве (вместо df таблица moscow_general)>\n",
    "genre_weekday(moscow_general, 'Monday', '07:00:00', '11:00:00')"
   ]
  },
  {
   "cell_type": "code",
   "execution_count": 39,
   "id": "e1e0af94",
   "metadata": {},
   "outputs": [
    {
     "data": {
      "text/plain": [
       "genre_name\n",
       "pop            218\n",
       "dance          182\n",
       "rock           162\n",
       "electronic     147\n",
       "hiphop          80\n",
       "ruspop          64\n",
       "alternative     58\n",
       "rusrap          55\n",
       "jazz            44\n",
       "classical       40\n",
       "Name: genre_name, dtype: int64"
      ]
     },
     "execution_count": 39,
     "metadata": {},
     "output_type": "execute_result"
    }
   ],
   "source": [
    "# <вызов функции для утра понедельника в Петербурге (вместо df таблица spb_general)>\n",
    "genre_weekday(spb_general, 'Monday', '07:00:00', '11:00:00')"
   ]
  },
  {
   "cell_type": "code",
   "execution_count": 40,
   "id": "85aea976",
   "metadata": {},
   "outputs": [
    {
     "data": {
      "text/plain": [
       "genre_name\n",
       "pop            713\n",
       "rock           517\n",
       "dance          495\n",
       "electronic     482\n",
       "hiphop         273\n",
       "world          208\n",
       "ruspop         170\n",
       "alternative    163\n",
       "classical      163\n",
       "rusrap         142\n",
       "Name: genre_name, dtype: int64"
      ]
     },
     "execution_count": 40,
     "metadata": {},
     "output_type": "execute_result"
    }
   ],
   "source": [
    "# <вызов функции для вечера пятницы в Москве>\n",
    "genre_weekday(moscow_general, 'Friday', '17:00:00', '23:00:00')"
   ]
  },
  {
   "cell_type": "code",
   "execution_count": 41,
   "id": "768af589",
   "metadata": {},
   "outputs": [
    {
     "data": {
      "text/plain": [
       "genre_name\n",
       "pop            256\n",
       "rock           216\n",
       "electronic     216\n",
       "dance          210\n",
       "hiphop          97\n",
       "alternative     63\n",
       "jazz            61\n",
       "classical       60\n",
       "rusrap          59\n",
       "world           54\n",
       "Name: genre_name, dtype: int64"
      ]
     },
     "execution_count": 41,
     "metadata": {},
     "output_type": "execute_result"
    }
   ],
   "source": [
    "# <вызов функции для вечера пятницы в Питере>\n",
    "genre_weekday(spb_general, 'Friday', '17:00:00', '23:00:00')"
   ]
  },
  {
   "cell_type": "markdown",
   "id": "7f19e2bb",
   "metadata": {},
   "source": [
    "Популярные жанры в понедельник утром в Питере и Москве оказались похожи: везде, как и предполагалось, популярен поп. Несмотря на это, концовка топ-10 для двух городов различается: в Питере в топ-10 входит джаз и русский рэп, а в Москве жанр world."
   ]
  },
  {
   "cell_type": "markdown",
   "id": "9aaaf301",
   "metadata": {},
   "source": [
    "В конце недели ситуация не меняется. Поп-музыка всё так же на первом месте. Опять разница заметна только в концовке топ-10, где в Питере пятничным вечером тоже присутствует жанр world."
   ]
  },
  {
   "cell_type": "markdown",
   "id": "ac575bf0",
   "metadata": {},
   "source": [
    "**Вывод**\n",
    "\n",
    "Жанр поп безусловный лидер, а топ-5 в целом не различается в обеих столицах. При этом видно, что концовка списка более «живая»: для каждого города выделяются более характерные жанры, которые действительно меняют свои позиции в зависимости от дня недели и времени."
   ]
  },
  {
   "cell_type": "markdown",
   "id": "00dff3c2",
   "metadata": {},
   "source": [
    "## Москва и Питер — две разные столицы, два разных направления в музыке. Правда?"
   ]
  },
  {
   "cell_type": "markdown",
   "id": "86f0f47e",
   "metadata": {},
   "source": [
    "Гипотеза: Питер богат своей рэп-культурой, поэтому это направление там слушают чаще, а Москва — город контрастов, но основная масса пользователей слушает попсу."
   ]
  },
  {
   "cell_type": "markdown",
   "id": "ef3d891b",
   "metadata": {},
   "source": [
    "Сгруппируем таблицу moscow_general по жанру, сосчитаем численность композиций каждого жанра методом count(), отсортируем в порядке убывания и сохраним результат в таблице moscow_genres."
   ]
  },
  {
   "cell_type": "markdown",
   "id": "4dea14fc",
   "metadata": {},
   "source": [
    "Просмотрим первые 10 строк этой новой таблицы."
   ]
  },
  {
   "cell_type": "code",
   "execution_count": 42,
   "id": "02cf92c0",
   "metadata": {},
   "outputs": [],
   "source": [
    "# одной строкой: группировка таблицы moscow_general по столбцу 'genre_name', \n",
    "# подсчёт числа значений 'genre_name' в этой группировке методом count(), \n",
    "# сортировка Series в порядке убывания и сохранение в moscow_genres\n",
    "moscow_genres = moscow_general.groupby('genre_name')['genre_name'].count().sort_values(ascending = False)"
   ]
  },
  {
   "cell_type": "code",
   "execution_count": 43,
   "id": "79fda88d",
   "metadata": {},
   "outputs": [
    {
     "data": {
      "text/plain": [
       "genre_name\n",
       "pop            5892\n",
       "dance          4435\n",
       "rock           3965\n",
       "electronic     3786\n",
       "hiphop         2096\n",
       "classical      1616\n",
       "world          1432\n",
       "alternative    1379\n",
       "ruspop         1372\n",
       "rusrap         1161\n",
       "Name: genre_name, dtype: int64"
      ]
     },
     "execution_count": 43,
     "metadata": {},
     "output_type": "execute_result"
    }
   ],
   "source": [
    "# <просмотр первых 10 строк moscow_genres>\n",
    "moscow_genres.head(10)"
   ]
  },
  {
   "cell_type": "markdown",
   "id": "f810ef13",
   "metadata": {},
   "source": [
    "Сгруппируем таблицу spb_general по жанру, сосчитаем численность композиций каждого жанра методом count(), отсортируем в порядке убывания и сохраним результат в таблице spb_genres."
   ]
  },
  {
   "cell_type": "markdown",
   "id": "7d5f8373",
   "metadata": {},
   "source": [
    "Просматриваем первые 10 строк этой таблицы. Теперь можно сравнивать два города."
   ]
  },
  {
   "cell_type": "code",
   "execution_count": 44,
   "id": "1db8bc11",
   "metadata": {},
   "outputs": [],
   "source": [
    "# <группировка таблицы spb_general, расчёт, сохранение в spb_genres>\n",
    "spb_genres = spb_general.groupby('genre_name')['genre_name'].count().sort_values(ascending=False)"
   ]
  },
  {
   "cell_type": "code",
   "execution_count": 45,
   "id": "b2cfeecf",
   "metadata": {},
   "outputs": [
    {
     "data": {
      "text/plain": [
       "genre_name\n",
       "pop            2431\n",
       "dance          1932\n",
       "rock           1879\n",
       "electronic     1736\n",
       "hiphop          960\n",
       "alternative     649\n",
       "classical       646\n",
       "rusrap          564\n",
       "ruspop          538\n",
       "world           515\n",
       "Name: genre_name, dtype: int64"
      ]
     },
     "execution_count": 45,
     "metadata": {},
     "output_type": "execute_result"
    }
   ],
   "source": [
    "# <просмотр первых 10 строк spb_genres>\n",
    "spb_genres.head(10)"
   ]
  },
  {
   "cell_type": "markdown",
   "id": "acda5d91",
   "metadata": {},
   "source": [
    "**Вывод**\n",
    "\n",
    "В Москве, кроме абсолютно популярного жанра поп, есть направление русской популярной музыки. Значит, что интерес к этому жанру шире. А рэп, вопреки предположению, занимает в обоих городах близкие позиции."
   ]
  },
  {
   "cell_type": "markdown",
   "id": "e2fa70fd",
   "metadata": {},
   "source": [
    "## Этап 4. Результаты исследования"
   ]
  },
  {
   "cell_type": "markdown",
   "id": "6f5c5abb",
   "metadata": {},
   "source": [
    "Рабочие гипотезы:\n",
    "\n",
    "* музыку в двух городах — Москве и Санкт-Петербурге — слушают в разном режиме;\n",
    "\n",
    "* списки десяти самых популярных жанров утром в понедельник и вечером в пятницу имеют характерные отличия;\n",
    "\n",
    "* население двух городов предпочитает разные музыкальные жанры."
   ]
  },
  {
   "cell_type": "markdown",
   "id": "11a3c568",
   "metadata": {},
   "source": [
    "**Общие результаты**\n",
    "\n",
    "Москва и Петербург сходятся во вкусах: везде преобладает популярная музыка. При этом зависимости предпочтений от дня недели в каждом отдельном городе нет — люди постоянно слушают то, что им нравится. Но между городами в разрезе дней неделей наблюдается зеркальность относительно среды: Москва больше слушает в понедельник и пятницу, а Петербург наоборот - больше в среду, но меньше в понедельник и пятницу."
   ]
  }
 ],
 "metadata": {
  "ExecuteTimeLog": [
   {
    "duration": 46,
    "start_time": "2023-01-17T14:52:18.021Z"
   },
   {
    "duration": 400,
    "start_time": "2023-01-17T14:52:19.916Z"
   },
   {
    "duration": 216,
    "start_time": "2023-01-17T14:52:22.014Z"
   },
   {
    "duration": 410,
    "start_time": "2023-01-17T14:52:27.102Z"
   },
   {
    "duration": 154,
    "start_time": "2023-01-17T14:52:27.514Z"
   },
   {
    "duration": 17,
    "start_time": "2023-01-17T14:52:27.669Z"
   },
   {
    "duration": 33,
    "start_time": "2023-01-17T14:52:27.688Z"
   },
   {
    "duration": 3,
    "start_time": "2023-01-17T14:52:27.723Z"
   },
   {
    "duration": 9,
    "start_time": "2023-01-17T14:52:27.728Z"
   },
   {
    "duration": 8,
    "start_time": "2023-01-17T14:52:27.739Z"
   },
   {
    "duration": 31,
    "start_time": "2023-01-17T14:52:27.748Z"
   },
   {
    "duration": 12,
    "start_time": "2023-01-17T14:52:27.780Z"
   },
   {
    "duration": 10,
    "start_time": "2023-01-17T14:52:27.794Z"
   },
   {
    "duration": 31,
    "start_time": "2023-01-17T14:52:27.806Z"
   },
   {
    "duration": 26,
    "start_time": "2023-01-17T14:52:27.839Z"
   },
   {
    "duration": 24,
    "start_time": "2023-01-17T14:52:27.867Z"
   },
   {
    "duration": 73,
    "start_time": "2023-01-17T14:52:27.892Z"
   },
   {
    "duration": 77,
    "start_time": "2023-01-17T14:52:27.967Z"
   },
   {
    "duration": 56,
    "start_time": "2023-01-17T14:52:28.045Z"
   },
   {
    "duration": 5,
    "start_time": "2023-01-17T14:52:28.102Z"
   },
   {
    "duration": 33,
    "start_time": "2023-01-17T14:52:28.109Z"
   },
   {
    "duration": 11,
    "start_time": "2023-01-17T14:52:28.144Z"
   },
   {
    "duration": 10,
    "start_time": "2023-01-17T14:52:28.157Z"
   },
   {
    "duration": 9,
    "start_time": "2023-01-17T14:52:28.169Z"
   },
   {
    "duration": 15,
    "start_time": "2023-01-17T14:52:28.180Z"
   },
   {
    "duration": 17,
    "start_time": "2023-01-17T14:52:28.196Z"
   },
   {
    "duration": 23,
    "start_time": "2023-01-17T14:52:28.214Z"
   },
   {
    "duration": 10,
    "start_time": "2023-01-17T14:52:28.238Z"
   },
   {
    "duration": 9,
    "start_time": "2023-01-17T14:52:28.250Z"
   },
   {
    "duration": 3,
    "start_time": "2023-01-17T14:52:28.261Z"
   },
   {
    "duration": 23,
    "start_time": "2023-01-17T14:52:28.267Z"
   },
   {
    "duration": 14,
    "start_time": "2023-01-17T14:52:28.291Z"
   },
   {
    "duration": 15,
    "start_time": "2023-01-17T14:52:28.327Z"
   },
   {
    "duration": 14,
    "start_time": "2023-01-17T14:52:28.344Z"
   },
   {
    "duration": 19,
    "start_time": "2023-01-17T14:52:28.359Z"
   },
   {
    "duration": 14,
    "start_time": "2023-01-17T14:52:28.379Z"
   },
   {
    "duration": 32,
    "start_time": "2023-01-17T14:52:28.394Z"
   },
   {
    "duration": 14,
    "start_time": "2023-01-17T14:52:28.428Z"
   },
   {
    "duration": 9,
    "start_time": "2023-01-17T14:52:28.444Z"
   },
   {
    "duration": 5,
    "start_time": "2023-01-17T14:52:28.455Z"
   },
   {
    "duration": 17,
    "start_time": "2023-01-17T14:52:28.461Z"
   },
   {
    "duration": 10,
    "start_time": "2023-01-17T14:52:28.480Z"
   },
   {
    "duration": 35,
    "start_time": "2023-01-17T14:52:28.492Z"
   },
   {
    "duration": 11,
    "start_time": "2023-01-17T14:52:28.529Z"
   },
   {
    "duration": 16,
    "start_time": "2023-01-17T14:52:28.541Z"
   },
   {
    "duration": 8,
    "start_time": "2023-01-17T14:52:28.558Z"
   },
   {
    "duration": 12,
    "start_time": "2023-01-17T14:52:28.567Z"
   },
   {
    "duration": 11,
    "start_time": "2023-01-17T14:52:28.580Z"
   },
   {
    "duration": 396,
    "start_time": "2023-01-17T14:54:55.819Z"
   },
   {
    "duration": 149,
    "start_time": "2023-01-17T14:54:56.216Z"
   },
   {
    "duration": 15,
    "start_time": "2023-01-17T14:54:56.367Z"
   },
   {
    "duration": 42,
    "start_time": "2023-01-17T14:54:56.384Z"
   },
   {
    "duration": 10,
    "start_time": "2023-01-17T14:54:56.427Z"
   },
   {
    "duration": 13,
    "start_time": "2023-01-17T14:54:56.439Z"
   },
   {
    "duration": 18,
    "start_time": "2023-01-17T14:54:56.453Z"
   },
   {
    "duration": 34,
    "start_time": "2023-01-17T14:54:56.472Z"
   },
   {
    "duration": 35,
    "start_time": "2023-01-17T14:54:56.508Z"
   },
   {
    "duration": 12,
    "start_time": "2023-01-17T14:54:56.546Z"
   },
   {
    "duration": 33,
    "start_time": "2023-01-17T14:54:56.559Z"
   },
   {
    "duration": 23,
    "start_time": "2023-01-17T14:54:56.593Z"
   },
   {
    "duration": 21,
    "start_time": "2023-01-17T14:54:56.618Z"
   },
   {
    "duration": 87,
    "start_time": "2023-01-17T14:54:56.641Z"
   },
   {
    "duration": 71,
    "start_time": "2023-01-17T14:54:56.730Z"
   },
   {
    "duration": 62,
    "start_time": "2023-01-17T14:54:56.803Z"
   },
   {
    "duration": 6,
    "start_time": "2023-01-17T14:54:56.867Z"
   },
   {
    "duration": 11,
    "start_time": "2023-01-17T14:54:56.875Z"
   },
   {
    "duration": 24,
    "start_time": "2023-01-17T14:54:56.887Z"
   },
   {
    "duration": 20,
    "start_time": "2023-01-17T14:54:56.912Z"
   },
   {
    "duration": 14,
    "start_time": "2023-01-17T14:54:56.934Z"
   },
   {
    "duration": 22,
    "start_time": "2023-01-17T14:54:56.949Z"
   },
   {
    "duration": 13,
    "start_time": "2023-01-17T14:54:56.972Z"
   },
   {
    "duration": 35,
    "start_time": "2023-01-17T14:54:56.986Z"
   },
   {
    "duration": 24,
    "start_time": "2023-01-17T14:54:57.022Z"
   },
   {
    "duration": 9,
    "start_time": "2023-01-17T14:54:57.048Z"
   },
   {
    "duration": 3,
    "start_time": "2023-01-17T14:54:57.059Z"
   },
   {
    "duration": 21,
    "start_time": "2023-01-17T14:54:57.065Z"
   },
   {
    "duration": 18,
    "start_time": "2023-01-17T14:54:57.087Z"
   },
   {
    "duration": 30,
    "start_time": "2023-01-17T14:54:57.106Z"
   },
   {
    "duration": 13,
    "start_time": "2023-01-17T14:54:57.138Z"
   },
   {
    "duration": 16,
    "start_time": "2023-01-17T14:54:57.153Z"
   },
   {
    "duration": 13,
    "start_time": "2023-01-17T14:54:57.171Z"
   },
   {
    "duration": 4,
    "start_time": "2023-01-17T14:54:57.185Z"
   },
   {
    "duration": 37,
    "start_time": "2023-01-17T14:54:57.191Z"
   },
   {
    "duration": 9,
    "start_time": "2023-01-17T14:54:57.230Z"
   },
   {
    "duration": 4,
    "start_time": "2023-01-17T14:54:57.240Z"
   },
   {
    "duration": 20,
    "start_time": "2023-01-17T14:54:57.246Z"
   },
   {
    "duration": 10,
    "start_time": "2023-01-17T14:54:57.268Z"
   },
   {
    "duration": 20,
    "start_time": "2023-01-17T14:54:57.279Z"
   },
   {
    "duration": 30,
    "start_time": "2023-01-17T14:54:57.300Z"
   },
   {
    "duration": 8,
    "start_time": "2023-01-17T14:54:57.332Z"
   },
   {
    "duration": 21,
    "start_time": "2023-01-17T14:54:57.341Z"
   },
   {
    "duration": 13,
    "start_time": "2023-01-17T14:54:57.363Z"
   },
   {
    "duration": 7,
    "start_time": "2023-01-17T14:54:57.378Z"
   },
   {
    "duration": 409,
    "start_time": "2023-01-17T14:58:14.364Z"
   },
   {
    "duration": 401,
    "start_time": "2023-01-17T14:58:23.986Z"
   },
   {
    "duration": 151,
    "start_time": "2023-01-17T14:58:24.389Z"
   },
   {
    "duration": 16,
    "start_time": "2023-01-17T14:58:24.541Z"
   },
   {
    "duration": 34,
    "start_time": "2023-01-17T14:58:24.559Z"
   },
   {
    "duration": 10,
    "start_time": "2023-01-17T14:58:24.595Z"
   },
   {
    "duration": 5,
    "start_time": "2023-01-17T14:58:24.607Z"
   },
   {
    "duration": 13,
    "start_time": "2023-01-17T14:58:24.614Z"
   },
   {
    "duration": 27,
    "start_time": "2023-01-17T14:58:24.629Z"
   },
   {
    "duration": 11,
    "start_time": "2023-01-17T14:58:24.658Z"
   },
   {
    "duration": 8,
    "start_time": "2023-01-17T14:58:24.671Z"
   },
   {
    "duration": 23,
    "start_time": "2023-01-17T14:58:24.681Z"
   },
   {
    "duration": 29,
    "start_time": "2023-01-17T14:58:24.706Z"
   },
   {
    "duration": 23,
    "start_time": "2023-01-17T14:58:24.737Z"
   },
   {
    "duration": 68,
    "start_time": "2023-01-17T14:58:24.762Z"
   },
   {
    "duration": 75,
    "start_time": "2023-01-17T14:58:24.832Z"
   },
   {
    "duration": 62,
    "start_time": "2023-01-17T14:58:24.909Z"
   },
   {
    "duration": 5,
    "start_time": "2023-01-17T14:58:24.972Z"
   },
   {
    "duration": 6,
    "start_time": "2023-01-17T14:58:24.978Z"
   },
   {
    "duration": 9,
    "start_time": "2023-01-17T14:58:24.985Z"
   },
   {
    "duration": 6,
    "start_time": "2023-01-17T14:58:24.995Z"
   },
   {
    "duration": 25,
    "start_time": "2023-01-17T14:58:25.002Z"
   },
   {
    "duration": 10,
    "start_time": "2023-01-17T14:58:25.029Z"
   },
   {
    "duration": 30,
    "start_time": "2023-01-17T14:58:25.041Z"
   },
   {
    "duration": 34,
    "start_time": "2023-01-17T14:58:25.073Z"
   },
   {
    "duration": 11,
    "start_time": "2023-01-17T14:58:25.109Z"
   },
   {
    "duration": 12,
    "start_time": "2023-01-17T14:58:25.121Z"
   },
   {
    "duration": 6,
    "start_time": "2023-01-17T14:58:25.134Z"
   },
   {
    "duration": 20,
    "start_time": "2023-01-17T14:58:25.143Z"
   },
   {
    "duration": 14,
    "start_time": "2023-01-17T14:58:25.164Z"
   },
   {
    "duration": 15,
    "start_time": "2023-01-17T14:58:25.179Z"
   },
   {
    "duration": 38,
    "start_time": "2023-01-17T14:58:25.196Z"
   },
   {
    "duration": 29,
    "start_time": "2023-01-17T14:58:25.235Z"
   },
   {
    "duration": 15,
    "start_time": "2023-01-17T14:58:25.265Z"
   },
   {
    "duration": 11,
    "start_time": "2023-01-17T14:58:25.281Z"
   },
   {
    "duration": 27,
    "start_time": "2023-01-17T14:58:25.293Z"
   },
   {
    "duration": 22,
    "start_time": "2023-01-17T14:58:25.322Z"
   },
   {
    "duration": 12,
    "start_time": "2023-01-17T14:58:25.346Z"
   },
   {
    "duration": 30,
    "start_time": "2023-01-17T14:58:25.360Z"
   },
   {
    "duration": 12,
    "start_time": "2023-01-17T14:58:25.392Z"
   },
   {
    "duration": 19,
    "start_time": "2023-01-17T14:58:25.406Z"
   },
   {
    "duration": 13,
    "start_time": "2023-01-17T14:58:25.426Z"
   },
   {
    "duration": 16,
    "start_time": "2023-01-17T14:58:25.440Z"
   },
   {
    "duration": 10,
    "start_time": "2023-01-17T14:58:25.457Z"
   },
   {
    "duration": 12,
    "start_time": "2023-01-17T14:58:25.469Z"
   },
   {
    "duration": 7,
    "start_time": "2023-01-17T14:58:25.483Z"
   }
  ],
  "kernelspec": {
   "display_name": "Python 3 (ipykernel)",
   "language": "python",
   "name": "python3"
  },
  "language_info": {
   "codemirror_mode": {
    "name": "ipython",
    "version": 3
   },
   "file_extension": ".py",
   "mimetype": "text/x-python",
   "name": "python",
   "nbconvert_exporter": "python",
   "pygments_lexer": "ipython3",
   "version": "3.9.5"
  },
  "toc": {
   "base_numbering": 1,
   "nav_menu": {},
   "number_sections": true,
   "sideBar": true,
   "skip_h1_title": true,
   "title_cell": "Table of Contents",
   "title_sidebar": "Contents",
   "toc_cell": false,
   "toc_position": {},
   "toc_section_display": true,
   "toc_window_display": false
  }
 },
 "nbformat": 4,
 "nbformat_minor": 5
}
